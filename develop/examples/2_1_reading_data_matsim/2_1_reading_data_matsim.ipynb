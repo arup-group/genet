{
 "cells": [
  {
   "cell_type": "markdown",
   "metadata": {},
   "source": [
    "# 2.1. Reading data: MATSim networks\n",
    "\n",
    "This page goes through methods for reading in MATSim networks. Available as a jupyter notebook or a wiki page."
   ]
  },
  {
   "cell_type": "code",
   "execution_count": 1,
   "metadata": {
    "ExecuteTime": {
     "end_time": "2022-07-14T14:22:09.270207Z",
     "start_time": "2022-07-14T14:22:03.560174Z"
    }
   },
   "outputs": [],
   "source": [
    "import os\n",
    "from pprint import pprint\n",
    "\n",
    "from genet import read_matsim"
   ]
  },
  {
   "cell_type": "code",
   "execution_count": 2,
   "metadata": {
    "ExecuteTime": {
     "end_time": "2022-07-14T14:22:09.284443Z",
     "start_time": "2022-07-14T14:22:09.273436Z"
    }
   },
   "outputs": [],
   "source": [
    "path_to_matsim_network = \"example_data/pt2matsim_network\"\n",
    "\n",
    "network = os.path.join(path_to_matsim_network, \"network.xml\")\n",
    "schedule = os.path.join(path_to_matsim_network, \"schedule.xml\")\n",
    "vehicles = os.path.join(path_to_matsim_network, \"vehicles.xml\")"
   ]
  },
  {
   "cell_type": "markdown",
   "metadata": {},
   "source": [
    "We can read the network, schedule and vehicles `xml` files. You can read only the network, without the schedule, but we wary that some of the operations that you can perform in GeNet may have an impact on the schedule file. For example, simplifying the `Network` graph will result in a lot of new, simplified, links with different ids. This means the network routes contained for services in the schedule need to be updated and validated."
   ]
  },
  {
   "cell_type": "code",
   "execution_count": 3,
   "metadata": {
    "ExecuteTime": {
     "end_time": "2022-07-14T14:22:12.765291Z",
     "start_time": "2022-07-14T14:22:09.292131Z"
    }
   },
   "outputs": [],
   "source": [
    "n = read_matsim(\n",
    "    path_to_network=network, epsg=\"epsg:27700\", path_to_schedule=schedule, path_to_vehicles=vehicles\n",
    ")"
   ]
  },
  {
   "cell_type": "code",
   "execution_count": 4,
   "metadata": {
    "ExecuteTime": {
     "end_time": "2022-07-14T14:22:12.782044Z",
     "start_time": "2022-07-14T14:22:12.768384Z"
    }
   },
   "outputs": [
    {
     "name": "stdout",
     "output_type": "stream",
     "text": [
      "Graph info: Name: \n",
      "Type: MultiDiGraph\n",
      "Number of nodes: 1662\n",
      "Number of edges: 3166\n",
      "Average in degree:   1.9049\n",
      "Average out degree:   1.9049 \n",
      "Schedule info: Schedule:\n",
      "Number of services: 9\n",
      "Number of routes: 68\n",
      "Number of stops: 118\n"
     ]
    }
   ],
   "source": [
    "n.print()"
   ]
  },
  {
   "cell_type": "markdown",
   "metadata": {},
   "source": [
    "Calling `plot` method on the network will plot the graph and highlight the schedule's network routes"
   ]
  },
  {
   "cell_type": "code",
   "execution_count": 5,
   "metadata": {
    "ExecuteTime": {
     "end_time": "2022-07-14T14:22:12.789978Z",
     "start_time": "2022-07-14T14:22:12.784264Z"
    }
   },
   "outputs": [],
   "source": [
    "# n.plot()"
   ]
  },
  {
   "cell_type": "markdown",
   "metadata": {},
   "source": [
    "You can also just plot the graph on its' own using `plot_graph`"
   ]
  },
  {
   "cell_type": "code",
   "execution_count": 6,
   "metadata": {
    "ExecuteTime": {
     "end_time": "2022-07-14T14:22:12.797380Z",
     "start_time": "2022-07-14T14:22:12.794886Z"
    }
   },
   "outputs": [],
   "source": [
    "# n.plot_graph()"
   ]
  },
  {
   "cell_type": "markdown",
   "metadata": {},
   "source": [
    "And the schedule, showing stop-to-stop connections, using `plot_schedule`"
   ]
  },
  {
   "cell_type": "code",
   "execution_count": 7,
   "metadata": {
    "ExecuteTime": {
     "end_time": "2022-07-14T14:22:12.817229Z",
     "start_time": "2022-07-14T14:22:12.813064Z"
    }
   },
   "outputs": [],
   "source": [
    "# n.plot_schedule()"
   ]
  },
  {
   "cell_type": "markdown",
   "metadata": {},
   "source": [
    "We can check what kind of data is stored for nodes:"
   ]
  },
  {
   "cell_type": "code",
   "execution_count": 8,
   "metadata": {
    "ExecuteTime": {
     "end_time": "2022-07-14T14:22:13.014525Z",
     "start_time": "2022-07-14T14:22:12.826218Z"
    }
   },
   "outputs": [
    {
     "name": "stdout",
     "output_type": "stream",
     "text": [
      "attribute\n",
      "├── id: ['9521031', '3826581164', '1678452821', '4074522300', '185620606']\n",
      "├── x: [528387.4250512555, 528391.4406755936, 528393.2742107178, 528396.6287644263, 528396.3513181042]\n",
      "├── y: [181547.5850354673, 181552.72935927223, 181558.10532352765, 181559.970402835, 181562.0370527053]\n",
      "├── lon: [-0.15178558709839862, -0.135349787087776, -0.122919287085967, -0.13766218709633904, -0.14629008709559344]\n",
      "├── lat: [51.52643403323907, 51.51609983324067, 51.51595583324104, 51.5182034332405, 51.52410423323943]\n",
      "└── s2_id: [5221390710015643649, 5221390314367946753, 5221366508477440003, 5221390682291777543, 5221390739236081673]\n"
     ]
    }
   ],
   "source": [
    "n.node_attribute_summary(data=True)"
   ]
  },
  {
   "cell_type": "markdown",
   "metadata": {},
   "source": [
    "`s2_id` refers to [S2 Geometry](https://s2geometry.io/) id of that point. We can check what kind of data is stored for links:"
   ]
  },
  {
   "cell_type": "code",
   "execution_count": 9,
   "metadata": {
    "ExecuteTime": {
     "end_time": "2022-07-14T14:22:13.081594Z",
     "start_time": "2022-07-14T14:22:13.018171Z"
    }
   },
   "outputs": [
    {
     "name": "stdout",
     "output_type": "stream",
     "text": [
      "attribute\n",
      "├── id\n",
      "├── from\n",
      "├── to\n",
      "├── freespeed\n",
      "├── capacity\n",
      "├── permlanes\n",
      "├── oneway\n",
      "├── modes\n",
      "├── s2_from\n",
      "├── s2_to\n",
      "├── attributes\n",
      "│   ├── osm:way:access\n",
      "│   ├── osm:way:highway\n",
      "│   ├── osm:way:id\n",
      "│   ├── osm:way:name\n",
      "│   ├── osm:relation:route\n",
      "│   ├── osm:way:lanes\n",
      "│   ├── osm:way:oneway\n",
      "│   ├── osm:way:tunnel\n",
      "│   ├── osm:way:psv\n",
      "│   ├── osm:way:vehicle\n",
      "│   ├── osm:way:traffic_calming\n",
      "│   ├── osm:way:junction\n",
      "│   └── osm:way:service\n",
      "└── length\n"
     ]
    }
   ],
   "source": [
    "n.link_attribute_summary(data=False)"
   ]
  },
  {
   "cell_type": "markdown",
   "metadata": {},
   "source": [
    "A MATSim network will often have additional data stored under link attributes, e.g.\n",
    "\n",
    "```xml\n",
    "<link id=\"1\" from=\"1\" to=\"2\" length=\"3\" freespeed=\"4\" capacity=\"600.0\" permlanes=\"1.0\" oneway=\"1\" modes=\"car\" >\n",
    "  <attributes>\n",
    "    <attribute name=\"osm:way:highway\" class=\"java.lang.String\" >unclassified</attribute>\n",
    "    <attribute name=\"osm:way:id\" class=\"java.lang.Long\" >26997928</attribute>\n",
    "    <attribute name=\"osm:way:name\" class=\"java.lang.String\" >Brunswick Place</attribute>\n",
    "  </attributes>\n",
    "```\n",
    "\n",
    "GeNet handles this as a nested `attributes` dictionary saved on the links, i.e."
   ]
  },
  {
   "cell_type": "code",
   "execution_count": 10,
   "metadata": {
    "ExecuteTime": {
     "end_time": "2022-07-14T14:22:13.090118Z",
     "start_time": "2022-07-14T14:22:13.083816Z"
    }
   },
   "outputs": [
    {
     "name": "stdout",
     "output_type": "stream",
     "text": [
      "{'attributes': {'osm:way:access': 'permissive',\n",
      "                'osm:way:highway': 'unclassified',\n",
      "                'osm:way:id': 26997928.0,\n",
      "                'osm:way:name': 'Brunswick Place'},\n",
      " 'capacity': 600.0,\n",
      " 'freespeed': 4.166666666666667,\n",
      " 'from': '25508485',\n",
      " 'id': '1',\n",
      " 'length': 52.765151087870265,\n",
      " 'modes': {'car'},\n",
      " 'oneway': '1',\n",
      " 'permlanes': 1.0,\n",
      " 's2_from': 5221390301001263407,\n",
      " 's2_to': 5221390302696205321,\n",
      " 'to': '21667818'}\n"
     ]
    }
   ],
   "source": [
    "pprint(n.link(\"1\"))"
   ]
  },
  {
   "cell_type": "markdown",
   "metadata": {},
   "source": [
    "GeNet assumes data types for python objects based on the class declared in the file. Below are the mappings responsible for these assumptions:"
   ]
  },
  {
   "cell_type": "code",
   "execution_count": 11,
   "metadata": {
    "ExecuteTime": {
     "end_time": "2022-07-14T14:22:13.098966Z",
     "start_time": "2022-07-14T14:22:13.092712Z"
    }
   },
   "outputs": [
    {
     "name": "stdout",
     "output_type": "stream",
     "text": [
      "{'java.lang.Array': <class 'list'>,\n",
      " 'java.lang.Boolean': <class 'bool'>,\n",
      " 'java.lang.Byte': <class 'int'>,\n",
      " 'java.lang.Char': <class 'str'>,\n",
      " 'java.lang.Double': <class 'float'>,\n",
      " 'java.lang.Float': <class 'float'>,\n",
      " 'java.lang.Integer': <class 'int'>,\n",
      " 'java.lang.Long': <class 'float'>,\n",
      " 'java.lang.Short': <class 'int'>,\n",
      " 'java.lang.String': <class 'str'>}\n"
     ]
    }
   ],
   "source": [
    "from pprint import pprint\n",
    "\n",
    "from genet.utils.java_dtypes import JAVA_DTYPE_MAP, PYTHON_DTYPE_MAP\n",
    "\n",
    "pprint(JAVA_DTYPE_MAP)"
   ]
  },
  {
   "cell_type": "code",
   "execution_count": 12,
   "metadata": {
    "ExecuteTime": {
     "end_time": "2022-07-14T14:22:13.106338Z",
     "start_time": "2022-07-14T14:22:13.101018Z"
    }
   },
   "outputs": [
    {
     "name": "stdout",
     "output_type": "stream",
     "text": [
      "{<class 'bool'>: 'java.lang.Boolean',\n",
      " <class 'float'>: 'java.lang.Float',\n",
      " <class 'list'>: 'java.lang.Array',\n",
      " <class 'int'>: 'java.lang.Integer',\n",
      " <class 'set'>: 'java.lang.Array',\n",
      " <class 'str'>: 'java.lang.String'}\n"
     ]
    }
   ],
   "source": [
    "pprint(PYTHON_DTYPE_MAP)"
   ]
  }
 ],
 "metadata": {
  "kernelspec": {
   "display_name": "genet",
   "language": "python",
   "name": "genet"
  },
  "language_info": {
   "codemirror_mode": {
    "name": "ipython",
    "version": 3
   },
   "file_extension": ".py",
   "mimetype": "text/x-python",
   "name": "python",
   "nbconvert_exporter": "python",
   "pygments_lexer": "ipython3",
   "version": "3.7.7"
  },
  "latex_envs": {
   "LaTeX_envs_menu_present": true,
   "autoclose": true,
   "autocomplete": true,
   "bibliofile": "biblio.bib",
   "cite_by": "apalike",
   "current_citInitial": 1,
   "eqLabelWithNumbers": true,
   "eqNumInitial": 1,
   "hotkeys": {
    "equation": "Ctrl-E",
    "itemize": "Ctrl-I"
   },
   "labels_anchors": false,
   "latex_user_defs": false,
   "report_style_numbering": false,
   "user_envs_cfg": false
  },
  "toc": {
   "base_numbering": 1,
   "nav_menu": {},
   "number_sections": true,
   "sideBar": true,
   "skip_h1_title": false,
   "title_cell": "Table of Contents",
   "title_sidebar": "Contents",
   "toc_cell": false,
   "toc_position": {},
   "toc_section_display": true,
   "toc_window_display": false
  },
  "varInspector": {
   "cols": {
    "lenName": 16,
    "lenType": 16,
    "lenVar": 40
   },
   "kernels_config": {
    "python": {
     "delete_cmd_postfix": "",
     "delete_cmd_prefix": "del ",
     "library": "var_list.py",
     "varRefreshCmd": "print(var_dic_list())"
    },
    "r": {
     "delete_cmd_postfix": ") ",
     "delete_cmd_prefix": "rm(",
     "library": "var_list.r",
     "varRefreshCmd": "cat(var_dic_list()) "
    }
   },
   "types_to_exclude": [
    "module",
    "function",
    "builtin_function_or_method",
    "instance",
    "_Feature"
   ],
   "window_display": false
  }
 },
 "nbformat": 4,
 "nbformat_minor": 2
}
