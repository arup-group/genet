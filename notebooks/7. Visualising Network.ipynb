{
 "cells": [
  {
   "cell_type": "markdown",
   "metadata": {},
   "source": [
    "# Visualising `Network`"
   ]
  },
  {
   "cell_type": "code",
   "execution_count": null,
   "metadata": {
    "ExecuteTime": {
     "start_time": "2020-12-17T13:42:48.447Z"
    }
   },
   "outputs": [],
   "source": [
    "# read sample network\n",
    "from genet import Network\n",
    "import os\n",
    "\n",
    "n = Network('epsg:27700')\n",
    "path_to_matsim_network = '../example_data/pt2matsim_network'\n",
    "n.read_matsim_network(os.path.join(path_to_matsim_network, 'network.xml'))\n",
    "n.read_matsim_schedule(os.path.join(path_to_matsim_network, 'schedule.xml'))\n",
    "n.print()"
   ]
  },
  {
   "cell_type": "markdown",
   "metadata": {},
   "source": [
    "## Basic plots\n",
    "\n",
    "Each GeNet class has a `plot` method."
   ]
  },
  {
   "cell_type": "code",
   "execution_count": null,
   "metadata": {
    "ExecuteTime": {
     "start_time": "2020-12-17T13:42:48.459Z"
    }
   },
   "outputs": [],
   "source": [
    "n.plot()"
   ]
  },
  {
   "cell_type": "code",
   "execution_count": null,
   "metadata": {
    "ExecuteTime": {
     "start_time": "2020-12-17T13:42:48.461Z"
    }
   },
   "outputs": [],
   "source": [
    "n.schedule.plot()"
   ]
  },
  {
   "cell_type": "code",
   "execution_count": null,
   "metadata": {
    "ExecuteTime": {
     "start_time": "2020-12-17T13:42:48.462Z"
    }
   },
   "outputs": [],
   "source": [
    "n.schedule['12430'].plot()"
   ]
  },
  {
   "cell_type": "code",
   "execution_count": null,
   "metadata": {
    "ExecuteTime": {
     "start_time": "2020-12-17T13:42:48.464Z"
    }
   },
   "outputs": [],
   "source": [
    "n.schedule.route('VJ948e8caa0f08b9c6bf6330927893942c474b5100').plot()"
   ]
  },
  {
   "cell_type": "markdown",
   "metadata": {},
   "source": [
    "GeNet `Network` can an additional two methods to \n",
    "- just plot the underlying graph and \n",
    "- to plot the un-routed schedule on top of the graph"
   ]
  },
  {
   "cell_type": "code",
   "execution_count": null,
   "metadata": {
    "ExecuteTime": {
     "start_time": "2020-12-17T13:42:48.475Z"
    }
   },
   "outputs": [],
   "source": [
    "n.plot_graph()"
   ]
  },
  {
   "cell_type": "code",
   "execution_count": null,
   "metadata": {
    "ExecuteTime": {
     "start_time": "2020-12-17T13:42:48.476Z"
    }
   },
   "outputs": [],
   "source": [
    "n.plot_schedule()"
   ]
  },
  {
   "cell_type": "markdown",
   "metadata": {},
   "source": [
    "## Standard Outputs\n",
    "\n",
    "You can generate a long list of outputs which are useful for validating and visualising the network and its schedule. "
   ]
  },
  {
   "cell_type": "raw",
   "metadata": {
    "ExecuteTime": {
     "end_time": "2020-12-17T13:36:47.558847Z",
     "start_time": "2020-12-17T13:36:33.995890Z"
    }
   },
   "source": [
    "n.generate_standard_outputs(output_dir='path/to/standard_outputs', gtfs_day='19700101')"
   ]
  },
  {
   "cell_type": "markdown",
   "metadata": {},
   "source": [
    "Specifying `gtfs_day` is optional and only useful for generating visualisations which don't rise eyebrows.\n",
    "In this bundle you get a number of outputs which you can drop into [kepler.gl](https://kepler.gl/) or qgis:\n",
    "\n",
    "- network graph related\n",
    "    - geojsons for car mode featuring 'freespeed', 'capacity', 'permlanes' (separately, because these can get large)\n",
    "    - geojsons for all other modal subgraphs\n",
    "- schedule related\n",
    "    - geojsons and shapefiles featuring schedule graph with vehicles per hour for every mode separately and all together (with \n",
    "    mode data present) in the schedule for all hours of the day, this can be used within kepler to animate across\n",
    "    hours of the day. (Use 'filter' option on 'hour' field and click on the little clock)\n",
    "    - the same as above for all modes together but subsetted for am/inter/pm peak within hours 7, 8, 9, 13, 16, 17, \n",
    "    18 for convenience (in case the big geojson may be too large to load in kepler)\n",
    "    - png bar plots for vehicles per hour per:\n",
    "        - PT service\n",
    "        - PT stop\n",
    "        (titles and file names include modes and human readable names for stops and services if present)\n",
    "\n",
    "You can also generate standard outputs for schedule only:"
   ]
  },
  {
   "cell_type": "raw",
   "metadata": {},
   "source": [
    "n.schedule.generate_standard_outputs(output_dir='path/to/standard_outputs', gtfs_day='19700101')"
   ]
  },
  {
   "cell_type": "code",
   "execution_count": null,
   "metadata": {},
   "outputs": [],
   "source": []
  }
 ],
 "metadata": {
  "kernelspec": {
   "display_name": "Python (genet)",
   "language": "python",
   "name": "genet"
  },
  "language_info": {
   "codemirror_mode": {
    "name": "ipython",
    "version": 3
   },
   "file_extension": ".py",
   "mimetype": "text/x-python",
   "name": "python",
   "nbconvert_exporter": "python",
   "pygments_lexer": "ipython3",
   "version": "3.8.6"
  },
  "latex_envs": {
   "LaTeX_envs_menu_present": true,
   "autoclose": true,
   "autocomplete": true,
   "bibliofile": "biblio.bib",
   "cite_by": "apalike",
   "current_citInitial": 1,
   "eqLabelWithNumbers": true,
   "eqNumInitial": 1,
   "hotkeys": {
    "equation": "Ctrl-E",
    "itemize": "Ctrl-I"
   },
   "labels_anchors": false,
   "latex_user_defs": false,
   "report_style_numbering": false,
   "user_envs_cfg": false
  },
  "toc": {
   "base_numbering": 1,
   "nav_menu": {},
   "number_sections": true,
   "sideBar": true,
   "skip_h1_title": false,
   "title_cell": "Table of Contents",
   "title_sidebar": "Contents",
   "toc_cell": false,
   "toc_position": {},
   "toc_section_display": true,
   "toc_window_display": false
  },
  "varInspector": {
   "cols": {
    "lenName": 16,
    "lenType": 16,
    "lenVar": 40
   },
   "kernels_config": {
    "python": {
     "delete_cmd_postfix": "",
     "delete_cmd_prefix": "del ",
     "library": "var_list.py",
     "varRefreshCmd": "print(var_dic_list())"
    },
    "r": {
     "delete_cmd_postfix": ") ",
     "delete_cmd_prefix": "rm(",
     "library": "var_list.r",
     "varRefreshCmd": "cat(var_dic_list()) "
    }
   },
   "types_to_exclude": [
    "module",
    "function",
    "builtin_function_or_method",
    "instance",
    "_Feature"
   ],
   "window_display": false
  }
 },
 "nbformat": 4,
 "nbformat_minor": 2
}
