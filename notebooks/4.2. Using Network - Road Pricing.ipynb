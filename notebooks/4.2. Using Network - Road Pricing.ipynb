{
 "cells": [
  {
   "cell_type": "markdown",
   "metadata": {},
   "source": [
    "# Using the `Network` object\n",
    "\n",
    "## Road Pricing"
   ]
  },
  {
   "cell_type": "markdown",
   "metadata": {},
   "source": [
    "Let's read an example MATSim network to work with."
   ]
  },
  {
   "cell_type": "code",
   "execution_count": 1,
   "metadata": {
    "ExecuteTime": {
     "end_time": "2021-03-31T10:57:27.521453Z",
     "start_time": "2021-03-31T10:57:22.685884Z"
    }
   },
   "outputs": [
    {
     "name": "stdout",
     "output_type": "stream",
     "text": [
      "attribute\n",
      "├── id\n",
      "├── from\n",
      "├── to\n",
      "├── freespeed\n",
      "├── capacity\n",
      "├── permlanes\n",
      "├── oneway\n",
      "├── modes\n",
      "├── s2_from\n",
      "├── s2_to\n",
      "├── attributes\n",
      "│   ├── osm:way:access\n",
      "│   │   ├── name\n",
      "│   │   ├── class\n",
      "│   │   └── text\n",
      "│   ├── osm:way:highway\n",
      "│   │   ├── name\n",
      "│   │   ├── class\n",
      "│   │   └── text\n",
      "│   ├── osm:way:id\n",
      "│   │   ├── name\n",
      "│   │   ├── class\n",
      "│   │   └── text\n",
      "│   ├── osm:way:name\n",
      "│   │   ├── name\n",
      "│   │   ├── class\n",
      "│   │   └── text\n",
      "│   ├── osm:relation:route\n",
      "│   │   ├── name\n",
      "│   │   ├── class\n",
      "│   │   └── text\n",
      "│   ├── osm:way:lanes\n",
      "│   │   ├── name\n",
      "│   │   ├── class\n",
      "│   │   └── text\n",
      "│   ├── osm:way:oneway\n",
      "│   │   ├── name\n",
      "│   │   ├── class\n",
      "│   │   └── text\n",
      "│   ├── osm:way:tunnel\n",
      "│   │   ├── name\n",
      "│   │   ├── class\n",
      "│   │   └── text\n",
      "│   ├── osm:way:psv\n",
      "│   │   ├── name\n",
      "│   │   ├── class\n",
      "│   │   └── text\n",
      "│   ├── osm:way:vehicle\n",
      "│   │   ├── name\n",
      "│   │   ├── class\n",
      "│   │   └── text\n",
      "│   ├── osm:way:traffic_calming\n",
      "│   │   ├── name\n",
      "│   │   ├── class\n",
      "│   │   └── text\n",
      "│   ├── osm:way:junction\n",
      "│   │   ├── name\n",
      "│   │   ├── class\n",
      "│   │   └── text\n",
      "│   └── osm:way:service\n",
      "│       ├── name\n",
      "│       ├── class\n",
      "│       └── text\n",
      "└── length\n"
     ]
    }
   ],
   "source": [
    "from genet import read_matsim\n",
    "import pandas as pd\n",
    "import os\n",
    "\n",
    "path_to_matsim_network = '../example_data/pt2matsim_network'\n",
    "\n",
    "network = os.path.join(path_to_matsim_network, 'network.xml')\n",
    "schedule = os.path.join(path_to_matsim_network, 'schedule.xml')\n",
    "vehicles = os.path.join(path_to_matsim_network, 'vehicles.xml')\n",
    "n = read_matsim(\n",
    "    path_to_network=network, \n",
    "    epsg='epsg:27700', \n",
    "    path_to_schedule=schedule, \n",
    "    path_to_vehicles=vehicles\n",
    ")\n",
    "# you don't need to read the vehicles file, but doing so ensures all vehicles\n",
    "# in the schedule are of the expected type and the definition of the vehicle\n",
    "# is preserved\n",
    "n.link_attribute_summary()"
   ]
  },
  {
   "cell_type": "markdown",
   "metadata": {},
   "source": [
    "Our current workflow relies on OSM way ids being saved to the network in the nested 'attributes' dictionary. We query OSM to extract those OSM ids and find them in the network.\n",
    "\n",
    "```\n",
    "attribute\n",
    "├── id\n",
    "├── from\n",
    "├── to\n",
    "...\n",
    "├── attributes\n",
    "...\n",
    "│   ├── osm:way:id\n",
    "│   │   ├── name\n",
    "│   │   ├── class\n",
    "│   │   └── text\n",
    "...\n",
    "```\n",
    "\n",
    "Of course this can be streamlined by just reading and saving the `toll` tag when creating a network from OSM. For more info see [Usage: 2.2. Reading Data: OSM](https://github.com/arup-group/genet/wiki/Usage:-2.2.-Reading-Data:-OSM). This would manifest itself in the following way in the links data:\n",
    "\n",
    "```\n",
    "attribute\n",
    "├── id\n",
    "├── from\n",
    "├── to\n",
    "...\n",
    "├── attributes\n",
    "...\n",
    "│   ├── osm:way:toll\n",
    "│   │   ├── name\n",
    "│   │   ├── class\n",
    "│   │   └── text\n",
    "...\n",
    "```\n",
    "\n",
    "where you would look for `'osm:way:toll':{'text':'yes'}`"
   ]
  },
  {
   "cell_type": "markdown",
   "metadata": {},
   "source": [
    "To do this via OSM ids, you can head over to https://overpass-turbo.eu/, use the quiery Wizard to find `toll=yes` zooming into the right place on the map. You can then grab the relevant OSM data by clicking `Export`. Under `Data` tab, you can click on `download/copy as raw OSM data`. This will copy the data into clipboard. Below I paste a small example:"
   ]
  },
  {
   "cell_type": "code",
   "execution_count": 2,
   "metadata": {
    "ExecuteTime": {
     "end_time": "2021-03-31T10:57:27.538464Z",
     "start_time": "2021-03-31T10:57:27.523859Z"
    }
   },
   "outputs": [],
   "source": [
    "osm_data = {\n",
    "  \"version\": 0.6,\n",
    "  \"generator\": \"Overpass API 0.7.56.8 7d656e78\",\n",
    "  \"osm3s\": {\n",
    "    \"timestamp_osm_base\": \"2020-12-16T15:46:02Z\",\n",
    "    \"copyright\": \"The data included in this document is from www.openstreetmap.org. The data is made available under ODbL.\"\n",
    "  },\n",
    "  \"elements\": [\n",
    "    {\n",
    "      \"type\": \"way\",\n",
    "      \"id\": 26997928,\n",
    "      \"nodes\": [\n",
    "        107790,\n",
    "        1102995756,\n",
    "        5479634639,\n",
    "        5364578862,\n",
    "        21665585,\n",
    "        5479634644,\n",
    "        107791\n",
    "      ],\n",
    "      \"tags\": {\n",
    "        \"highway\": \"primary\",\n",
    "        \"lit\": \"yes\",\n",
    "        \"maxspeed\": \"20 mph\",\n",
    "        \"maxspeed:type\": \"GB:zone20\",\n",
    "        \"name\": \"Charing Cross Road\",\n",
    "        \"ref\": \"A400\",\n",
    "        \"sidewalk\": \"both\",\n",
    "        \"surface\": \"asphalt\",\n",
    "        \"toll\": \"yes\",\n",
    "        \"wikidata\": \"Q1063230\"\n",
    "      }\n",
    "    },\n",
    "      {\n",
    "      \"type\": \"way\",\n",
    "      \"id\": 546461337,\n",
    "      \"nodes\": [\n",
    "        1556097185,\n",
    "        1951372935,\n",
    "        1951372927\n",
    "      ],\n",
    "      \"tags\": {\n",
    "        \"foot\": \"no\",\n",
    "        \"highway\": \"primary\",\n",
    "        \"lit\": \"yes\",\n",
    "        \"maxspeed\": \"20 mph\",\n",
    "        \"name\": \"Byward Street\",\n",
    "        \"oneway\": \"yes\",\n",
    "        \"operator\": \"Transport for London\",\n",
    "        \"postal_code\": \"EC3\",\n",
    "        \"ref\": \"A3211\",\n",
    "        \"sidewalk\": \"none\",\n",
    "        \"surface\": \"asphalt\",\n",
    "        \"toll\": \"yes\"\n",
    "      }},\n",
    "    {\n",
    "      \"type\": \"node\",\n",
    "      \"id\": 107790,\n",
    "      \"lat\": 51.511322,\n",
    "      \"lon\": -0.1283895\n",
    "    },\n",
    "    {\n",
    "      \"type\": \"node\",\n",
    "      \"id\": 107791,\n",
    "      \"lat\": 51.5118562,\n",
    "      \"lon\": -0.1283797\n",
    "    },\n",
    "    {\n",
    "      \"type\": \"node\",\n",
    "      \"id\": 21665585,\n",
    "      \"lat\": 51.5116901,\n",
    "      \"lon\": -0.1283715\n",
    "    },\n",
    "    {\n",
    "      \"type\": \"node\",\n",
    "      \"id\": 1102995756,\n",
    "      \"lat\": 51.511415,\n",
    "      \"lon\": -0.1283857\n",
    "    },\n",
    "    {\n",
    "      \"type\": \"node\",\n",
    "      \"id\": 5364578862,\n",
    "      \"lat\": 51.511599,\n",
    "      \"lon\": -0.1283762\n",
    "    },\n",
    "    {\n",
    "      \"type\": \"node\",\n",
    "      \"id\": 5479634639,\n",
    "      \"lat\": 51.5114884,\n",
    "      \"lon\": -0.1283819\n",
    "    },\n",
    "    {\n",
    "      \"type\": \"node\",\n",
    "      \"id\": 5479634644,\n",
    "      \"lat\": 51.5117331,\n",
    "      \"lon\": -0.1283705\n",
    "    }\n",
    "  ]\n",
    "}"
   ]
  },
  {
   "cell_type": "markdown",
   "metadata": {},
   "source": [
    "All that is left is extracting the OSM way IDs of interest. In the case above it's just a couple.\n",
    "\n",
    "It is also useful to record the `ref` and `name` or any other data that may relate to a dataset you have for tolls to make it human readable or to be able to join the two datasets. This will make it easier to decide on how much the toll should be."
   ]
  },
  {
   "cell_type": "code",
   "execution_count": 3,
   "metadata": {
    "ExecuteTime": {
     "end_time": "2021-03-31T10:57:27.557260Z",
     "start_time": "2021-03-31T10:57:27.540516Z"
    }
   },
   "outputs": [
    {
     "data": {
      "text/html": [
       "<div>\n",
       "<style scoped>\n",
       "    .dataframe tbody tr th:only-of-type {\n",
       "        vertical-align: middle;\n",
       "    }\n",
       "\n",
       "    .dataframe tbody tr th {\n",
       "        vertical-align: top;\n",
       "    }\n",
       "\n",
       "    .dataframe thead th {\n",
       "        text-align: right;\n",
       "    }\n",
       "</style>\n",
       "<table border=\"1\" class=\"dataframe\">\n",
       "  <thead>\n",
       "    <tr style=\"text-align: right;\">\n",
       "      <th></th>\n",
       "      <th>osm_ids</th>\n",
       "      <th>osm_refs</th>\n",
       "      <th>osm_names</th>\n",
       "    </tr>\n",
       "  </thead>\n",
       "  <tbody>\n",
       "    <tr>\n",
       "      <th>0</th>\n",
       "      <td>26997928</td>\n",
       "      <td>A400</td>\n",
       "      <td>Charing Cross Road</td>\n",
       "    </tr>\n",
       "    <tr>\n",
       "      <th>1</th>\n",
       "      <td>546461337</td>\n",
       "      <td>A3211</td>\n",
       "      <td>Byward Street</td>\n",
       "    </tr>\n",
       "  </tbody>\n",
       "</table>\n",
       "</div>"
      ],
      "text/plain": [
       "     osm_ids osm_refs           osm_names\n",
       "0   26997928     A400  Charing Cross Road\n",
       "1  546461337    A3211       Byward Street"
      ]
     },
     "execution_count": 3,
     "metadata": {},
     "output_type": "execute_result"
    }
   ],
   "source": [
    "def extract_data(d, key):\n",
    "    try:\n",
    "        return d[key]\n",
    "    except KeyError:\n",
    "        return float('nan')\n",
    "\n",
    "osm_ids = []\n",
    "osm_refs = []\n",
    "osm_names = []\n",
    "\n",
    "for element in osm_data['elements']:\n",
    "    if element['type']=='way':\n",
    "        # what you get from overpass should all just be tolls but let's\n",
    "        # put an extra condition here anyway\n",
    "        if ('toll' in element['tags']) and (element['tags']['toll'] == 'yes'):\n",
    "            osm_ids.append(element['id'])\n",
    "            osm_refs.append(extract_data(element['tags'], 'ref'))\n",
    "            osm_names.append(extract_data(element['tags'], 'name'))\n",
    "\n",
    "df_tolls = pd.DataFrame(\n",
    "    {'osm_ids': osm_ids, \n",
    "     'osm_refs': osm_refs, \n",
    "     'osm_names': osm_names})\n",
    "df_tolls.head()"
   ]
  },
  {
   "cell_type": "markdown",
   "metadata": {},
   "source": [
    "We now write this to a csv file."
   ]
  },
  {
   "cell_type": "code",
   "execution_count": 4,
   "metadata": {
    "ExecuteTime": {
     "end_time": "2021-03-31T10:57:27.577336Z",
     "start_time": "2021-03-31T10:57:27.567268Z"
    }
   },
   "outputs": [],
   "source": [
    "df_tolls.to_csv('../example_data/pt2matsim_network/road_pricing/osm_toll_id_ref.csv', \n",
    "                index=False)"
   ]
  },
  {
   "cell_type": "markdown",
   "metadata": {},
   "source": [
    "We can now use GeNet's road pricing methods to map the OSM ids in `df_tolls` to network links."
   ]
  },
  {
   "cell_type": "code",
   "execution_count": 5,
   "metadata": {
    "ExecuteTime": {
     "end_time": "2021-03-31T10:57:27.650345Z",
     "start_time": "2021-03-31T10:57:27.579173Z"
    }
   },
   "outputs": [
    {
     "name": "stderr",
     "output_type": "stream",
     "text": [
      "100%|██████████| 2/2 [00:00<00:00, 48.24it/s]\n"
     ]
    }
   ],
   "source": [
    "from genet.use import road_pricing\n",
    "\n",
    "road_pricing.extract_network_id_from_osm_csv(\n",
    "        network=n, \n",
    "        attribute_name='osm:way:id',\n",
    "        osm_csv_path='../example_data/pt2matsim_network/road_pricing/osm_toll_id_ref.csv',\n",
    "        outpath='../example_data/pt2matsim_network/road_pricing'\n",
    "        )"
   ]
  },
  {
   "cell_type": "markdown",
   "metadata": {},
   "source": [
    "This step can take a long time because the relationship between OSM ways and MATSim network links is rarely 1-to-1. For a given OSM way, there can be multiple network links (i.e. multiple links sharing the same `osm:way:id`) or no network links at all (i.e. during network creation/manipulation some OSM links were deleted or merged). Therefore, the matching OSM ways to network links has to be done on a case-by-case basis.\n",
    "\n",
    "Upon completion, there will be two new files in the output folder `../example_data/pt2matsim_network/road_pricing` specified above:\n",
    "\n",
    "- `osm_tolls_with_network_ids.csv`: this file will be a copy of the input `osm_toll_id_ref.csv` but augmented with a `True`/`False` value indicating whether each OSM way id was successfully matched with one of more network link ids.\n",
    "- `osm_to_network_ids.json`: this file contains a mapping of each OSM way id in `osm_toll_id_ref.csv` with one or more network link ids.\n",
    "\n",
    "The next step is to decide on the `vehicle_type`, `toll_amount`, `start_time` and `end_time` for the toll. You may have other data that you can join onto `osm_tolls_with_network_ids.csv`. In the example below, we make it up."
   ]
  },
  {
   "cell_type": "code",
   "execution_count": 6,
   "metadata": {
    "ExecuteTime": {
     "end_time": "2021-03-31T10:57:27.665049Z",
     "start_time": "2021-03-31T10:57:27.652131Z"
    }
   },
   "outputs": [
    {
     "data": {
      "text/html": [
       "<div>\n",
       "<style scoped>\n",
       "    .dataframe tbody tr th:only-of-type {\n",
       "        vertical-align: middle;\n",
       "    }\n",
       "\n",
       "    .dataframe tbody tr th {\n",
       "        vertical-align: top;\n",
       "    }\n",
       "\n",
       "    .dataframe thead th {\n",
       "        text-align: right;\n",
       "    }\n",
       "</style>\n",
       "<table border=\"1\" class=\"dataframe\">\n",
       "  <thead>\n",
       "    <tr style=\"text-align: right;\">\n",
       "      <th></th>\n",
       "      <th>osm_ids</th>\n",
       "      <th>osm_refs</th>\n",
       "      <th>osm_names</th>\n",
       "      <th>network_id</th>\n",
       "    </tr>\n",
       "  </thead>\n",
       "  <tbody>\n",
       "    <tr>\n",
       "      <th>0</th>\n",
       "      <td>26997928</td>\n",
       "      <td>A400</td>\n",
       "      <td>Charing Cross Road</td>\n",
       "      <td>True</td>\n",
       "    </tr>\n",
       "    <tr>\n",
       "      <th>1</th>\n",
       "      <td>546461337</td>\n",
       "      <td>A3211</td>\n",
       "      <td>Byward Street</td>\n",
       "      <td>True</td>\n",
       "    </tr>\n",
       "  </tbody>\n",
       "</table>\n",
       "</div>"
      ],
      "text/plain": [
       "     osm_ids osm_refs           osm_names  network_id\n",
       "0   26997928     A400  Charing Cross Road        True\n",
       "1  546461337    A3211       Byward Street        True"
      ]
     },
     "execution_count": 6,
     "metadata": {},
     "output_type": "execute_result"
    }
   ],
   "source": [
    "df_tolls = pd.read_csv(\n",
    "    '../example_data/pt2matsim_network/road_pricing/osm_tolls_with_network_ids.csv')\n",
    "\n",
    "df_tolls.head()"
   ]
  },
  {
   "cell_type": "code",
   "execution_count": 7,
   "metadata": {
    "ExecuteTime": {
     "end_time": "2021-03-31T10:57:27.687054Z",
     "start_time": "2021-03-31T10:57:27.667609Z"
    }
   },
   "outputs": [
    {
     "data": {
      "text/html": [
       "<div>\n",
       "<style scoped>\n",
       "    .dataframe tbody tr th:only-of-type {\n",
       "        vertical-align: middle;\n",
       "    }\n",
       "\n",
       "    .dataframe tbody tr th {\n",
       "        vertical-align: top;\n",
       "    }\n",
       "\n",
       "    .dataframe thead th {\n",
       "        text-align: right;\n",
       "    }\n",
       "</style>\n",
       "<table border=\"1\" class=\"dataframe\">\n",
       "  <thead>\n",
       "    <tr style=\"text-align: right;\">\n",
       "      <th></th>\n",
       "      <th>osm_ids</th>\n",
       "      <th>osm_refs</th>\n",
       "      <th>osm_names</th>\n",
       "      <th>network_id</th>\n",
       "      <th>vehicle_type</th>\n",
       "      <th>toll_amount</th>\n",
       "      <th>start_time</th>\n",
       "      <th>end_time</th>\n",
       "    </tr>\n",
       "  </thead>\n",
       "  <tbody>\n",
       "    <tr>\n",
       "      <th>0</th>\n",
       "      <td>26997928</td>\n",
       "      <td>A400</td>\n",
       "      <td>Charing Cross Road</td>\n",
       "      <td>True</td>\n",
       "      <td>type2</td>\n",
       "      <td>2.9</td>\n",
       "      <td>00:00</td>\n",
       "      <td>23:59</td>\n",
       "    </tr>\n",
       "    <tr>\n",
       "      <th>1</th>\n",
       "      <td>546461337</td>\n",
       "      <td>A3211</td>\n",
       "      <td>Byward Street</td>\n",
       "      <td>True</td>\n",
       "      <td>type2</td>\n",
       "      <td>2.9</td>\n",
       "      <td>00:00</td>\n",
       "      <td>23:59</td>\n",
       "    </tr>\n",
       "  </tbody>\n",
       "</table>\n",
       "</div>"
      ],
      "text/plain": [
       "     osm_ids osm_refs           osm_names  network_id vehicle_type  \\\n",
       "0   26997928     A400  Charing Cross Road        True        type2   \n",
       "1  546461337    A3211       Byward Street        True        type2   \n",
       "\n",
       "  toll_amount start_time end_time  \n",
       "0         2.9      00:00    23:59  \n",
       "1         2.9      00:00    23:59  "
      ]
     },
     "execution_count": 7,
     "metadata": {},
     "output_type": "execute_result"
    }
   ],
   "source": [
    "df_tolls['vehicle_type'] = 'type2'\n",
    "df_tolls['toll_amount'] = '2.9'\n",
    "df_tolls['start_time'] = '00:00'\n",
    "df_tolls['end_time'] = '23:59'\n",
    "df_tolls.head()"
   ]
  },
  {
   "cell_type": "code",
   "execution_count": 8,
   "metadata": {
    "ExecuteTime": {
     "end_time": "2021-03-31T10:57:27.699021Z",
     "start_time": "2021-03-31T10:57:27.694226Z"
    }
   },
   "outputs": [],
   "source": [
    "df_tolls.to_csv(\n",
    "    '../example_data/pt2matsim_network/road_pricing/osm_tolls_with_network_ids.csv')"
   ]
  },
  {
   "cell_type": "markdown",
   "metadata": {},
   "source": [
    "Next we can generate the road pricing file."
   ]
  },
  {
   "cell_type": "code",
   "execution_count": 9,
   "metadata": {
    "ExecuteTime": {
     "end_time": "2021-03-31T10:57:27.728619Z",
     "start_time": "2021-03-31T10:57:27.700952Z"
    }
   },
   "outputs": [],
   "source": [
    "xml_tree = road_pricing.build_tree_from_csv_json(\n",
    "    '../example_data/pt2matsim_network/road_pricing/osm_tolls_with_network_ids.csv', \n",
    "    '../example_data/pt2matsim_network/road_pricing/osm_to_network_ids.json')\n",
    "\n",
    "road_pricing.write_xml(xml_tree, '../example_data/pt2matsim_network/road_pricing')"
   ]
  },
  {
   "cell_type": "code",
   "execution_count": null,
   "metadata": {},
   "outputs": [],
   "source": []
  }
 ],
 "metadata": {
  "kernelspec": {
   "display_name": "genet",
   "language": "python",
   "name": "genet"
  },
  "language_info": {
   "codemirror_mode": {
    "name": "ipython",
    "version": 3
   },
   "file_extension": ".py",
   "mimetype": "text/x-python",
   "name": "python",
   "nbconvert_exporter": "python",
   "pygments_lexer": "ipython3",
   "version": "3.7.0"
  },
  "latex_envs": {
   "LaTeX_envs_menu_present": true,
   "autoclose": true,
   "autocomplete": true,
   "bibliofile": "biblio.bib",
   "cite_by": "apalike",
   "current_citInitial": 1,
   "eqLabelWithNumbers": true,
   "eqNumInitial": 1,
   "hotkeys": {
    "equation": "Ctrl-E",
    "itemize": "Ctrl-I"
   },
   "labels_anchors": false,
   "latex_user_defs": false,
   "report_style_numbering": false,
   "user_envs_cfg": false
  },
  "toc": {
   "base_numbering": 1,
   "nav_menu": {},
   "number_sections": true,
   "sideBar": true,
   "skip_h1_title": false,
   "title_cell": "Table of Contents",
   "title_sidebar": "Contents",
   "toc_cell": false,
   "toc_position": {},
   "toc_section_display": true,
   "toc_window_display": false
  },
  "varInspector": {
   "cols": {
    "lenName": 16,
    "lenType": 16,
    "lenVar": 40
   },
   "kernels_config": {
    "python": {
     "delete_cmd_postfix": "",
     "delete_cmd_prefix": "del ",
     "library": "var_list.py",
     "varRefreshCmd": "print(var_dic_list())"
    },
    "r": {
     "delete_cmd_postfix": ") ",
     "delete_cmd_prefix": "rm(",
     "library": "var_list.r",
     "varRefreshCmd": "cat(var_dic_list()) "
    }
   },
   "types_to_exclude": [
    "module",
    "function",
    "builtin_function_or_method",
    "instance",
    "_Feature"
   ],
   "window_display": false
  }
 },
 "nbformat": 4,
 "nbformat_minor": 2
}
