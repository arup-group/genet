{
 "cells": [
  {
   "cell_type": "markdown",
   "metadata": {},
   "source": [
    "# Routing\n",
    "\n",
    "You can find shortest path between two nodes in the graph, using a modal subgraph or otherwise."
   ]
  },
  {
   "cell_type": "code",
   "execution_count": 1,
   "metadata": {
    "ExecuteTime": {
     "end_time": "2020-12-17T15:38:03.399388Z",
     "start_time": "2020-12-17T15:37:59.806218Z"
    }
   },
   "outputs": [
    {
     "name": "stdout",
     "output_type": "stream",
     "text": [
      "Graph info: Name: Network graph\n",
      "Type: MultiDiGraph\n",
      "Number of nodes: 1662\n",
      "Number of edges: 3166\n",
      "Average in degree:   1.9049\n",
      "Average out degree:   1.9049 \n",
      "Schedule info: Schedule:\n",
      "Number of services: 9\n",
      "Number of unique routes: 68\n",
      "Number of stops: 45\n"
     ]
    }
   ],
   "source": [
    "from genet import read_matsim\n",
    "import os\n",
    "\n",
    "path_to_matsim_network = '../example_data/pt2matsim_network'\n",
    "\n",
    "network = os.path.join(path_to_matsim_network, 'network.xml')\n",
    "schedule = os.path.join(path_to_matsim_network, 'schedule.xml')\n",
    "vehicles = os.path.join(path_to_matsim_network, 'vehicles.xml')\n",
    "n = read_matsim(\n",
    "    path_to_network=network, \n",
    "    epsg='epsg:27700', \n",
    "    path_to_schedule=schedule, \n",
    "    path_to_vehicles=vehicles\n",
    ")\n",
    "# you don't need to read the vehicles file, but doing so ensures all vehicles\n",
    "# in the schedule are of the expected type and the definition of the vehicle\n",
    "# is preserved\n",
    "n.print()"
   ]
  },
  {
   "cell_type": "code",
   "execution_count": 4,
   "metadata": {
    "ExecuteTime": {
     "end_time": "2020-12-17T15:38:36.778461Z",
     "start_time": "2020-12-17T15:38:36.772132Z"
    }
   },
   "outputs": [],
   "source": [
    "from_node = '101982'\n",
    "to_node = '101991'"
   ]
  },
  {
   "cell_type": "code",
   "execution_count": 5,
   "metadata": {
    "ExecuteTime": {
     "end_time": "2020-12-17T15:38:37.163749Z",
     "start_time": "2020-12-17T15:38:37.153454Z"
    }
   },
   "outputs": [
    {
     "data": {
      "text/plain": [
       "['2030', '2453', '296', '3147', '3287']"
      ]
     },
     "execution_count": 5,
     "metadata": {},
     "output_type": "execute_result"
    }
   ],
   "source": [
    "n.find_shortest_path(from_node, to_node)"
   ]
  },
  {
   "cell_type": "markdown",
   "metadata": {},
   "source": [
    "will use the whole graph disregarding modes."
   ]
  },
  {
   "cell_type": "code",
   "execution_count": 11,
   "metadata": {
    "ExecuteTime": {
     "end_time": "2020-12-17T15:39:24.518393Z",
     "start_time": "2020-12-17T15:39:24.427322Z"
    }
   },
   "outputs": [
    {
     "data": {
      "text/plain": [
       "['2030', '2453', '296', '3147', '3287']"
      ]
     },
     "execution_count": 11,
     "metadata": {},
     "output_type": "execute_result"
    }
   ],
   "source": [
    "n.find_shortest_path(from_node, to_node, modes='car')"
   ]
  },
  {
   "cell_type": "markdown",
   "metadata": {},
   "source": [
    "will compute a modal subgraph and use it for routing. You can also pass a list e.g. `['bike`, `walk`]`. \n",
    "If you have many node pair to process, it may be beneficial to\n",
    "compute the modal subgraph of interest first and pass it to the method"
   ]
  },
  {
   "cell_type": "code",
   "execution_count": 7,
   "metadata": {
    "ExecuteTime": {
     "end_time": "2020-12-17T15:39:04.255253Z",
     "start_time": "2020-12-17T15:39:04.164102Z"
    }
   },
   "outputs": [
    {
     "data": {
      "text/plain": [
       "['2030', '2453', '296', '3147', '3287']"
      ]
     },
     "execution_count": 7,
     "metadata": {},
     "output_type": "execute_result"
    }
   ],
   "source": [
    "car_g = n.modal_subgraph('car')\n",
    "n.find_shortest_path(from_node, to_node, subgraph=car_g)"
   ]
  },
  {
   "cell_type": "markdown",
   "metadata": {
    "ExecuteTime": {
     "end_time": "2020-12-17T15:37:26.108849Z",
     "start_time": "2020-12-17T15:37:26.099791Z"
    }
   },
   "source": [
    "Specifying `'modes'` on top of giving the `subgraph` will also use given modes for preferential treatment if there is\n",
    "ambiguity in which link should be chosen for the route (remember, there can be several links between the same two \n",
    "nodes). For example, if using mode `'bus'` and there are two links to choose from, one with modes: `['car', 'bus']` and\n",
    "the other with just `['bus']`, preference will be given to the link dedicated to that mode. Otherwise, preference\n",
    "will be given to links with higher `freespeed`.\n",
    "\n",
    "You can also choose to return the chain of nodes instead:"
   ]
  },
  {
   "cell_type": "code",
   "execution_count": 12,
   "metadata": {
    "ExecuteTime": {
     "end_time": "2020-12-17T15:39:36.820997Z",
     "start_time": "2020-12-17T15:39:36.813775Z"
    }
   },
   "outputs": [
    {
     "data": {
      "text/plain": [
       "['101982', '1611082208', '2489433555', '25495406', '1514726033', '101991']"
      ]
     },
     "execution_count": 12,
     "metadata": {},
     "output_type": "execute_result"
    }
   ],
   "source": [
    "n.find_shortest_path(from_node, to_node, return_nodes=True)"
   ]
  },
  {
   "cell_type": "code",
   "execution_count": null,
   "metadata": {},
   "outputs": [],
   "source": []
  }
 ],
 "metadata": {
  "kernelspec": {
   "display_name": "genet",
   "language": "python",
   "name": "genet"
  },
  "language_info": {
   "codemirror_mode": {
    "name": "ipython",
    "version": 3
   },
   "file_extension": ".py",
   "mimetype": "text/x-python",
   "name": "python",
   "nbconvert_exporter": "python",
   "pygments_lexer": "ipython3",
   "version": "3.7.0"
  },
  "latex_envs": {
   "LaTeX_envs_menu_present": true,
   "autoclose": true,
   "autocomplete": true,
   "bibliofile": "biblio.bib",
   "cite_by": "apalike",
   "current_citInitial": 1,
   "eqLabelWithNumbers": true,
   "eqNumInitial": 1,
   "hotkeys": {
    "equation": "Ctrl-E",
    "itemize": "Ctrl-I"
   },
   "labels_anchors": false,
   "latex_user_defs": false,
   "report_style_numbering": false,
   "user_envs_cfg": false
  },
  "toc": {
   "base_numbering": 1,
   "nav_menu": {},
   "number_sections": true,
   "sideBar": true,
   "skip_h1_title": false,
   "title_cell": "Table of Contents",
   "title_sidebar": "Contents",
   "toc_cell": false,
   "toc_position": {},
   "toc_section_display": true,
   "toc_window_display": false
  },
  "varInspector": {
   "cols": {
    "lenName": 16,
    "lenType": 16,
    "lenVar": 40
   },
   "kernels_config": {
    "python": {
     "delete_cmd_postfix": "",
     "delete_cmd_prefix": "del ",
     "library": "var_list.py",
     "varRefreshCmd": "print(var_dic_list())"
    },
    "r": {
     "delete_cmd_postfix": ") ",
     "delete_cmd_prefix": "rm(",
     "library": "var_list.r",
     "varRefreshCmd": "cat(var_dic_list()) "
    }
   },
   "types_to_exclude": [
    "module",
    "function",
    "builtin_function_or_method",
    "instance",
    "_Feature"
   ],
   "window_display": false
  }
 },
 "nbformat": 4,
 "nbformat_minor": 2
}
