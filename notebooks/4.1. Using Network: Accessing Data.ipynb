{
 "cells": [
  {
   "cell_type": "markdown",
   "metadata": {},
   "source": [
    "# Using the `Network` object\n",
    "\n",
    "Available as a jupyter notebook or wiki page.\n",
    "\n",
    "Let's read in a sample MATSim network into GeNet's `Network` object."
   ]
  },
  {
   "cell_type": "code",
   "execution_count": 1,
   "metadata": {
    "ExecuteTime": {
     "end_time": "2022-07-14T14:43:13.904957Z",
     "start_time": "2022-07-14T14:43:05.971459Z"
    }
   },
   "outputs": [
    {
     "name": "stdout",
     "output_type": "stream",
     "text": [
      "Graph info: Name: \n",
      "Type: MultiDiGraph\n",
      "Number of nodes: 1662\n",
      "Number of edges: 3166\n",
      "Average in degree:   1.9049\n",
      "Average out degree:   1.9049 \n",
      "Schedule info: Schedule:\n",
      "Number of services: 9\n",
      "Number of routes: 68\n",
      "Number of stops: 118\n"
     ]
    }
   ],
   "source": [
    "from genet import read_matsim\n",
    "import os\n",
    "import pyproj\n",
    "\n",
    "path_to_matsim_network = '../example_data/pt2matsim_network'\n",
    "\n",
    "network = os.path.join(path_to_matsim_network, 'network.xml')\n",
    "schedule = os.path.join(path_to_matsim_network, 'schedule.xml')\n",
    "vehicles = os.path.join(path_to_matsim_network, 'vehicles.xml')\n",
    "n = read_matsim(\n",
    "    path_to_network=network, \n",
    "    epsg='epsg:27700', \n",
    "    path_to_schedule=schedule, \n",
    "    path_to_vehicles=vehicles\n",
    ")\n",
    "# # you don't need to read the vehicles file, but doing so ensures all vehicles\n",
    "# # in the schedule are of the expected type and the definition of the vehicle\n",
    "# # is preserved\n",
    "\n",
    "n.print()"
   ]
  },
  {
   "cell_type": "markdown",
   "metadata": {
    "ExecuteTime": {
     "end_time": "2020-12-15T18:52:10.250625Z",
     "start_time": "2020-12-15T18:52:10.240982Z"
    }
   },
   "source": [
    "## Summary\n",
    "\n",
    "The data saved on the edges or nodes of the graph can be nested. There are a couple of convenient methods that summarise the schema of the data found on the nodes and links. If `data=True`, the output also shows up to 5 unique values stored in that location."
   ]
  },
  {
   "cell_type": "code",
   "execution_count": 2,
   "metadata": {
    "ExecuteTime": {
     "end_time": "2022-07-14T14:43:14.068518Z",
     "start_time": "2022-07-14T14:43:13.907400Z"
    }
   },
   "outputs": [
    {
     "name": "stdout",
     "output_type": "stream",
     "text": [
      "attribute\n",
      "├── id: ['5392928741', '107805', '12689157', '1667118119', '25501773']\n",
      "├── x: [528387.4250512555, 528391.4406755936, 528393.2742107178, 528396.6287644263, 528396.3513181042]\n",
      "├── y: [181547.5850354673, 181552.72935927223, 181558.10532352765, 181559.970402835, 181562.0370527053]\n",
      "├── lon: [-0.15178558709839862, -0.135349787087776, -0.122919287085967, -0.13766218709633904, -0.14629008709559344]\n",
      "├── lat: [51.52643403323907, 51.51609983324067, 51.51595583324104, 51.5182034332405, 51.52410423323943]\n",
      "└── s2_id: [5221390710015643649, 5221390314367946753, 5221366508477440003, 5221390682291777543, 5221390739236081673]\n"
     ]
    }
   ],
   "source": [
    "n.node_attribute_summary(data=True)"
   ]
  },
  {
   "cell_type": "code",
   "execution_count": 3,
   "metadata": {
    "ExecuteTime": {
     "end_time": "2022-07-14T14:43:14.137387Z",
     "start_time": "2022-07-14T14:43:14.072436Z"
    }
   },
   "outputs": [
    {
     "name": "stdout",
     "output_type": "stream",
     "text": [
      "attribute\n",
      "├── id\n",
      "├── from\n",
      "├── to\n",
      "├── freespeed\n",
      "├── capacity\n",
      "├── permlanes\n",
      "├── oneway\n",
      "├── modes\n",
      "├── s2_from\n",
      "├── s2_to\n",
      "├── attributes\n",
      "│   ├── osm:way:access\n",
      "│   ├── osm:way:highway\n",
      "│   ├── osm:way:id\n",
      "│   ├── osm:way:name\n",
      "│   ├── osm:relation:route\n",
      "│   ├── osm:way:lanes\n",
      "│   ├── osm:way:oneway\n",
      "│   ├── osm:way:tunnel\n",
      "│   ├── osm:way:psv\n",
      "│   ├── osm:way:vehicle\n",
      "│   ├── osm:way:traffic_calming\n",
      "│   ├── osm:way:junction\n",
      "│   └── osm:way:service\n",
      "└── length\n"
     ]
    }
   ],
   "source": [
    "n.link_attribute_summary(data=False)"
   ]
  },
  {
   "cell_type": "markdown",
   "metadata": {},
   "source": [
    "Once you see the general schema for the data stored on nodes and links, you may decide to look at or perform analysis \n",
    "on all of the data stored in the netowrk under a particular key. A GeNet network has two methods which generate a\n",
    "`pandas.Series` object, which stores the nodes or links data present at the specified key, indexed by the same index \n",
    "as the nodes or links."
   ]
  },
  {
   "cell_type": "code",
   "execution_count": 4,
   "metadata": {
    "ExecuteTime": {
     "end_time": "2022-07-14T14:43:14.148859Z",
     "start_time": "2022-07-14T14:43:14.141731Z"
    }
   },
   "outputs": [],
   "source": [
    "s2_id = n.node_attribute_data_under_key('s2_id')"
   ]
  },
  {
   "cell_type": "code",
   "execution_count": 5,
   "metadata": {
    "ExecuteTime": {
     "end_time": "2022-07-14T14:43:14.161436Z",
     "start_time": "2022-07-14T14:43:14.152367Z"
    }
   },
   "outputs": [
    {
     "data": {
      "text/plain": [
       "101982       5221390329378179879\n",
       "101986       5221390328605860387\n",
       "101990       5221390304444511271\n",
       "101991       5221390303978897267\n",
       "101992       5221390304897644929\n",
       "                    ...         \n",
       "983839058    5221390693831817171\n",
       "99936        5221390297975475113\n",
       "99937        5221390299484831045\n",
       "99940        5221390294354743413\n",
       "99943        5221390298004852605\n",
       "Length: 1662, dtype: int64"
      ]
     },
     "execution_count": 5,
     "metadata": {},
     "output_type": "execute_result"
    }
   ],
   "source": [
    "s2_id"
   ]
  },
  {
   "cell_type": "code",
   "execution_count": 6,
   "metadata": {
    "ExecuteTime": {
     "end_time": "2022-07-14T14:43:14.187361Z",
     "start_time": "2022-07-14T14:43:14.164861Z"
    }
   },
   "outputs": [
    {
     "data": {
      "text/plain": [
       "1       4.166667\n",
       "10      4.166667\n",
       "100     4.166667\n",
       "1000    4.166667\n",
       "1001    4.166667\n",
       "dtype: float64"
      ]
     },
     "execution_count": 6,
     "metadata": {},
     "output_type": "execute_result"
    }
   ],
   "source": [
    "n.link_attribute_data_under_key('freespeed').head()"
   ]
  },
  {
   "cell_type": "markdown",
   "metadata": {},
   "source": [
    "Or you can access nested data,"
   ]
  },
  {
   "cell_type": "code",
   "execution_count": 7,
   "metadata": {
    "ExecuteTime": {
     "end_time": "2022-07-14T14:43:14.209607Z",
     "start_time": "2022-07-14T14:43:14.189602Z"
    }
   },
   "outputs": [
    {
     "data": {
      "text/plain": [
       "1007    2\n",
       "1008    2\n",
       "1037    2\n",
       "1038    2\n",
       "1039    2\n",
       "dtype: object"
      ]
     },
     "execution_count": 7,
     "metadata": {},
     "output_type": "execute_result"
    }
   ],
   "source": [
    "n.link_attribute_data_under_key({'attributes': 'osm:way:lanes'}).head()"
   ]
  },
  {
   "cell_type": "markdown",
   "metadata": {},
   "source": [
    "You can also build a `pandas.DataFrame` out of several keys."
   ]
  },
  {
   "cell_type": "code",
   "execution_count": 8,
   "metadata": {
    "ExecuteTime": {
     "end_time": "2022-07-14T14:43:14.245571Z",
     "start_time": "2022-07-14T14:43:14.215049Z"
    }
   },
   "outputs": [
    {
     "data": {
      "text/html": [
       "<div>\n",
       "<style scoped>\n",
       "    .dataframe tbody tr th:only-of-type {\n",
       "        vertical-align: middle;\n",
       "    }\n",
       "\n",
       "    .dataframe tbody tr th {\n",
       "        vertical-align: top;\n",
       "    }\n",
       "\n",
       "    .dataframe thead th {\n",
       "        text-align: right;\n",
       "    }\n",
       "</style>\n",
       "<table border=\"1\" class=\"dataframe\">\n",
       "  <thead>\n",
       "    <tr style=\"text-align: right;\">\n",
       "      <th></th>\n",
       "      <th>freespeed</th>\n",
       "      <th>attributes::osm:way:highway</th>\n",
       "    </tr>\n",
       "  </thead>\n",
       "  <tbody>\n",
       "    <tr>\n",
       "      <th>1</th>\n",
       "      <td>4.166667</td>\n",
       "      <td>unclassified</td>\n",
       "    </tr>\n",
       "    <tr>\n",
       "      <th>10</th>\n",
       "      <td>4.166667</td>\n",
       "      <td>unclassified</td>\n",
       "    </tr>\n",
       "    <tr>\n",
       "      <th>100</th>\n",
       "      <td>4.166667</td>\n",
       "      <td>unclassified</td>\n",
       "    </tr>\n",
       "    <tr>\n",
       "      <th>1000</th>\n",
       "      <td>4.166667</td>\n",
       "      <td>residential</td>\n",
       "    </tr>\n",
       "    <tr>\n",
       "      <th>1001</th>\n",
       "      <td>4.166667</td>\n",
       "      <td>residential</td>\n",
       "    </tr>\n",
       "  </tbody>\n",
       "</table>\n",
       "</div>"
      ],
      "text/plain": [
       "      freespeed attributes::osm:way:highway\n",
       "1      4.166667                unclassified\n",
       "10     4.166667                unclassified\n",
       "100    4.166667                unclassified\n",
       "1000   4.166667                 residential\n",
       "1001   4.166667                 residential"
      ]
     },
     "execution_count": 8,
     "metadata": {},
     "output_type": "execute_result"
    }
   ],
   "source": [
    "n.link_attribute_data_under_keys(['freespeed', {'attributes': 'osm:way:highway'}]).head()"
   ]
  },
  {
   "cell_type": "markdown",
   "metadata": {},
   "source": [
    "## Extracting links of interest\n",
    "\n",
    "The function below gathers link ids which satisfy conditions \n",
    "to arbitrary level of nested-ness. It also allows quite flexible conditions---below we require that the link value\n",
    "at `data['attributes']['osm:way:highway'] == 'primary'`, where data is the data dictionary stored on that link."
   ]
  },
  {
   "cell_type": "code",
   "execution_count": 9,
   "metadata": {
    "ExecuteTime": {
     "end_time": "2022-07-14T14:43:14.252761Z",
     "start_time": "2022-07-14T14:43:14.248726Z"
    }
   },
   "outputs": [],
   "source": [
    "from genet import graph_operations"
   ]
  },
  {
   "cell_type": "code",
   "execution_count": 10,
   "metadata": {
    "ExecuteTime": {
     "end_time": "2022-07-14T14:43:14.282963Z",
     "start_time": "2022-07-14T14:43:14.259981Z"
    }
   },
   "outputs": [],
   "source": [
    "links = n.extract_links_on_edge_attributes(\n",
    "    conditions= {'attributes': {'osm:way:highway': 'primary'}},\n",
    ")"
   ]
  },
  {
   "cell_type": "code",
   "execution_count": 11,
   "metadata": {
    "ExecuteTime": {
     "end_time": "2022-07-14T14:43:14.291485Z",
     "start_time": "2022-07-14T14:43:14.284932Z"
    }
   },
   "outputs": [
    {
     "data": {
      "text/plain": [
       "['1007', '1008', '1023', '1024', '103']"
      ]
     },
     "execution_count": 11,
     "metadata": {},
     "output_type": "execute_result"
    }
   ],
   "source": [
    "links[:5]"
   ]
  },
  {
   "cell_type": "code",
   "execution_count": 12,
   "metadata": {
    "ExecuteTime": {
     "end_time": "2022-07-14T14:43:14.299697Z",
     "start_time": "2022-07-14T14:43:14.293395Z"
    }
   },
   "outputs": [
    {
     "data": {
      "text/plain": [
       "619"
      ]
     },
     "execution_count": 12,
     "metadata": {},
     "output_type": "execute_result"
    }
   ],
   "source": [
    "len(links)"
   ]
  },
  {
   "cell_type": "markdown",
   "metadata": {},
   "source": [
    "Note, it is possible to set data in long format, specifying the JAVA class of the data stored, i.e.\n",
    "```\n",
    "{'id': '1007',\n",
    " 'from': '4356572310',\n",
    " 'to': '5811263955',\n",
    " 'attributes': {'osm:way:highway': {'name': 'osm:way:highway',\n",
    "   'class': 'java.lang.String',\n",
    "   'text': 'primary'},\n",
    "  'osm:way:id': {'name': 'osm:way:id',\n",
    "   'class': 'java.lang.Long',\n",
    "   'text': '589660342'},\n",
    "  'osm:way:lanes': {'name': 'osm:way:highway',\n",
    "   'class': 'java.lang.String',\n",
    "   'text': 'primary'},\n",
    "  'osm:way:name': {'name': 'osm:way:name',\n",
    "   'class': 'java.lang.String',\n",
    "   'text': 'Shaftesbury Avenue'},\n",
    "  'osm:way:oneway': {'name': 'osm:way:oneway',\n",
    "   'class': 'java.lang.String',\n",
    "   'text': 'yes'}},\n",
    " 'length': 13.941905154249884}\n",
    "```\n",
    "This is useful if you want to force the data to be saved to MATSim XML file with that specific data type.\n",
    "\n",
    "In that case, to find primary highway links, you would instead set the following condition:\n",
    "```python\n",
    "links = n.extract_links_on_edge_attributes(\n",
    "    conditions= {'attributes': {'osm:way:highway': {'text': 'primary'}}},\n",
    ")\n",
    "```"
   ]
  },
  {
   "cell_type": "markdown",
   "metadata": {},
   "source": [
    "Below we now require that the link value\n",
    "at `data['attributes']['osm:way:highway'] in ['primary', 'something else']`. There is nothing in the data that has such tags, so the output is the same."
   ]
  },
  {
   "cell_type": "code",
   "execution_count": 13,
   "metadata": {
    "ExecuteTime": {
     "end_time": "2022-07-14T14:43:14.322929Z",
     "start_time": "2022-07-14T14:43:14.301555Z"
    }
   },
   "outputs": [],
   "source": [
    "links = n.extract_links_on_edge_attributes(\n",
    "    conditions= {'attributes': {'osm:way:highway': ['primary', 'something else']}},\n",
    ")"
   ]
  },
  {
   "cell_type": "code",
   "execution_count": 14,
   "metadata": {
    "ExecuteTime": {
     "end_time": "2022-07-14T14:43:14.341436Z",
     "start_time": "2022-07-14T14:43:14.324898Z"
    }
   },
   "outputs": [
    {
     "data": {
      "text/plain": [
       "['1007', '1008', '1023', '1024', '103']"
      ]
     },
     "execution_count": 14,
     "metadata": {},
     "output_type": "execute_result"
    }
   ],
   "source": [
    "links[:5]"
   ]
  },
  {
   "cell_type": "code",
   "execution_count": 15,
   "metadata": {
    "ExecuteTime": {
     "end_time": "2022-07-14T14:43:14.348940Z",
     "start_time": "2022-07-14T14:43:14.343422Z"
    }
   },
   "outputs": [
    {
     "data": {
      "text/plain": [
       "619"
      ]
     },
     "execution_count": 15,
     "metadata": {},
     "output_type": "execute_result"
    }
   ],
   "source": [
    "len(links)"
   ]
  },
  {
   "cell_type": "markdown",
   "metadata": {},
   "source": [
    "We can also pass a list of conditions. In this case it makes sense for us to specify how multiple conditions should be handled. We can do it via \n",
    "- `how=all` - all conditions need to be met\n",
    "- `how=any` - at least one condition needs to be met\n",
    "\n",
    "It is set to `any` as default."
   ]
  },
  {
   "cell_type": "code",
   "execution_count": 16,
   "metadata": {
    "ExecuteTime": {
     "end_time": "2022-07-14T14:43:14.377973Z",
     "start_time": "2022-07-14T14:43:14.352055Z"
    }
   },
   "outputs": [],
   "source": [
    "links = n.extract_links_on_edge_attributes(\n",
    "    conditions= [{'attributes': {'osm:way:highway': 'primary'}},\n",
    "                 {'attributes': {'osm:way:highway': 'something else'}}],\n",
    "    how=any\n",
    ")"
   ]
  },
  {
   "cell_type": "code",
   "execution_count": 17,
   "metadata": {
    "ExecuteTime": {
     "end_time": "2022-07-14T14:43:14.388704Z",
     "start_time": "2022-07-14T14:43:14.379927Z"
    }
   },
   "outputs": [
    {
     "data": {
      "text/plain": [
       "['1007', '1008', '1023', '1024', '103']"
      ]
     },
     "execution_count": 17,
     "metadata": {},
     "output_type": "execute_result"
    }
   ],
   "source": [
    "links[:5]"
   ]
  },
  {
   "cell_type": "code",
   "execution_count": 18,
   "metadata": {
    "ExecuteTime": {
     "end_time": "2022-07-14T14:43:14.398207Z",
     "start_time": "2022-07-14T14:43:14.391627Z"
    }
   },
   "outputs": [
    {
     "data": {
      "text/plain": [
       "619"
      ]
     },
     "execution_count": 18,
     "metadata": {},
     "output_type": "execute_result"
    }
   ],
   "source": [
    "len(links)"
   ]
  },
  {
   "cell_type": "code",
   "execution_count": 19,
   "metadata": {
    "ExecuteTime": {
     "end_time": "2022-07-14T14:43:14.426944Z",
     "start_time": "2022-07-14T14:43:14.400652Z"
    }
   },
   "outputs": [],
   "source": [
    "links = n.extract_links_on_edge_attributes(\n",
    "    conditions= [{'attributes': {'osm:way:highway': 'primary'}},\n",
    "                 {'attributes': {'osm:way:highway': 'something else'}}],\n",
    "    how=all\n",
    ")"
   ]
  },
  {
   "cell_type": "code",
   "execution_count": 20,
   "metadata": {
    "ExecuteTime": {
     "end_time": "2022-07-14T14:43:14.437699Z",
     "start_time": "2022-07-14T14:43:14.429764Z"
    }
   },
   "outputs": [
    {
     "data": {
      "text/plain": [
       "[]"
      ]
     },
     "execution_count": 20,
     "metadata": {},
     "output_type": "execute_result"
    }
   ],
   "source": [
    "links[:5]"
   ]
  },
  {
   "cell_type": "markdown",
   "metadata": {},
   "source": [
    "As expected, no links satisfy both `data['attributes']['osm:way:highway'] == 'primary'` and `data['attributes']['osm:way:highway'] == 'something else'`."
   ]
  },
  {
   "cell_type": "markdown",
   "metadata": {},
   "source": [
    "Below, we give an example of subsetting a numeric boundary. We find links where `0 <= 'freespeed'  <= 20`."
   ]
  },
  {
   "cell_type": "code",
   "execution_count": 21,
   "metadata": {
    "ExecuteTime": {
     "end_time": "2022-07-14T14:43:14.463698Z",
     "start_time": "2022-07-14T14:43:14.441726Z"
    }
   },
   "outputs": [],
   "source": [
    "links = n.extract_links_on_edge_attributes(\n",
    "    conditions = {'freespeed': (0,20)},\n",
    ")"
   ]
  },
  {
   "cell_type": "code",
   "execution_count": 22,
   "metadata": {
    "ExecuteTime": {
     "end_time": "2022-07-14T14:43:14.473886Z",
     "start_time": "2022-07-14T14:43:14.466788Z"
    }
   },
   "outputs": [
    {
     "data": {
      "text/plain": [
       "['1', '10', '100', '1000', '1001']"
      ]
     },
     "execution_count": 22,
     "metadata": {},
     "output_type": "execute_result"
    }
   ],
   "source": [
    "links[:5]"
   ]
  },
  {
   "cell_type": "code",
   "execution_count": 23,
   "metadata": {
    "ExecuteTime": {
     "end_time": "2022-07-14T14:43:14.484908Z",
     "start_time": "2022-07-14T14:43:14.481346Z"
    }
   },
   "outputs": [
    {
     "data": {
      "text/plain": [
       "2334"
      ]
     },
     "execution_count": 23,
     "metadata": {},
     "output_type": "execute_result"
    }
   ],
   "source": [
    "len(links)"
   ]
  },
  {
   "cell_type": "markdown",
   "metadata": {},
   "source": [
    "Finally, we can define a function that will handle the condition for us. The function should take the value expected at the key in the data dictionary and return either `True` or `False`.\n",
    "\n",
    "For example, below we give an example equivalent to our first example of `data['attributes']['osm:way:highway']['text'] == 'primary'` but using a function we defined ourselves to handle the condition."
   ]
  },
  {
   "cell_type": "code",
   "execution_count": 24,
   "metadata": {
    "ExecuteTime": {
     "end_time": "2022-07-14T14:43:14.514214Z",
     "start_time": "2022-07-14T14:43:14.492934Z"
    }
   },
   "outputs": [],
   "source": [
    "def highway_primary(value):\n",
    "    return value == 'primary'\n",
    "\n",
    "links = n.extract_links_on_edge_attributes(\n",
    "    conditions= {'attributes': {'osm:way:highway': highway_primary}},\n",
    ")"
   ]
  },
  {
   "cell_type": "code",
   "execution_count": 25,
   "metadata": {
    "ExecuteTime": {
     "end_time": "2022-07-14T14:43:14.523108Z",
     "start_time": "2022-07-14T14:43:14.516475Z"
    }
   },
   "outputs": [
    {
     "data": {
      "text/plain": [
       "['1007', '1008', '1023', '1024', '103']"
      ]
     },
     "execution_count": 25,
     "metadata": {},
     "output_type": "execute_result"
    }
   ],
   "source": [
    "links[:5]"
   ]
  },
  {
   "cell_type": "code",
   "execution_count": 26,
   "metadata": {
    "ExecuteTime": {
     "end_time": "2022-07-14T14:43:14.531708Z",
     "start_time": "2022-07-14T14:43:14.525504Z"
    }
   },
   "outputs": [
    {
     "data": {
      "text/plain": [
       "619"
      ]
     },
     "execution_count": 26,
     "metadata": {},
     "output_type": "execute_result"
    }
   ],
   "source": [
    "len(links)"
   ]
  },
  {
   "cell_type": "markdown",
   "metadata": {},
   "source": [
    "This allows for really flexible subsetting of the network based on data stored on the edges. Another example, similar to the numeric boundary, but this time we only care about the upper bound and we make it a strict inequality."
   ]
  },
  {
   "cell_type": "code",
   "execution_count": 27,
   "metadata": {
    "ExecuteTime": {
     "end_time": "2022-07-14T14:43:14.554875Z",
     "start_time": "2022-07-14T14:43:14.534816Z"
    }
   },
   "outputs": [],
   "source": [
    "def below_20(value):\n",
    "    return value < 20\n",
    "\n",
    "links = n.extract_links_on_edge_attributes(\n",
    "    conditions= {'freespeed': below_20},\n",
    ")"
   ]
  },
  {
   "cell_type": "code",
   "execution_count": 28,
   "metadata": {
    "ExecuteTime": {
     "end_time": "2022-07-14T14:43:14.564617Z",
     "start_time": "2022-07-14T14:43:14.556821Z"
    }
   },
   "outputs": [
    {
     "data": {
      "text/plain": [
       "['1', '10', '100', '1000', '1001']"
      ]
     },
     "execution_count": 28,
     "metadata": {},
     "output_type": "execute_result"
    }
   ],
   "source": [
    "links[:5]"
   ]
  },
  {
   "cell_type": "code",
   "execution_count": 29,
   "metadata": {
    "ExecuteTime": {
     "end_time": "2022-07-14T14:43:14.574447Z",
     "start_time": "2022-07-14T14:43:14.567807Z"
    }
   },
   "outputs": [
    {
     "data": {
      "text/plain": [
       "2334"
      ]
     },
     "execution_count": 29,
     "metadata": {},
     "output_type": "execute_result"
    }
   ],
   "source": [
    "len(links)"
   ]
  },
  {
   "cell_type": "markdown",
   "metadata": {},
   "source": [
    "### Modal convenience methods"
   ]
  },
  {
   "cell_type": "code",
   "execution_count": 30,
   "metadata": {
    "ExecuteTime": {
     "end_time": "2022-07-14T14:43:14.595432Z",
     "start_time": "2022-07-14T14:43:14.576535Z"
    }
   },
   "outputs": [
    {
     "data": {
      "text/plain": [
       "['1021', '1023', '1024', '1079', '1105']"
      ]
     },
     "execution_count": 30,
     "metadata": {},
     "output_type": "execute_result"
    }
   ],
   "source": [
    "n.links_on_modal_condition('bus')[:5]"
   ]
  },
  {
   "cell_type": "markdown",
   "metadata": {},
   "source": [
    "`nodes_on_modal_condition` will return nodes connected to the links satisfying the modal condition."
   ]
  },
  {
   "cell_type": "code",
   "execution_count": 31,
   "metadata": {
    "ExecuteTime": {
     "end_time": "2022-07-14T14:43:14.639382Z",
     "start_time": "2022-07-14T14:43:14.597367Z"
    }
   },
   "outputs": [
    {
     "data": {
      "text/plain": [
       "['5392928741', '107805', '1667118119', '9512926', '107869']"
      ]
     },
     "execution_count": 31,
     "metadata": {},
     "output_type": "execute_result"
    }
   ],
   "source": [
    "n.nodes_on_modal_condition(['car', 'bus'])[:5]"
   ]
  },
  {
   "cell_type": "markdown",
   "metadata": {},
   "source": [
    "### Spatial convenience methods\n",
    "\n",
    "For spatial extraction conditions you have a choice of:\n",
    "- `shapely.geometry.Polygon` or `shapely.geometry.GeometryCollection` of Polygons (in epsg:4326)\n",
    "- geojson file, can be generated with [http://geojson.io/](http://geojson.io/)\n",
    "- [S2 Geometry hex string which can be generated and copied from http://s2.sidewalklabs.com/regioncoverer](http://s2.sidewalklabs.com/regioncoverer/?center=51.522960%2C-0.144245&zoom=16&cells=48761ad71%2C48761ad723%2C48761ad724c%2C48761ad73c%2C48761ad744%2C48761ad75d3%2C48761ad75d5%2C48761ad765%2C48761ad767%2C48761ad76c%2C48761ad774%2C48761ad779%2C48761ad77b%2C48761ad783%2C48761ad784c%2C48761ad7854%2C48761ad794%2C48761ad79c%2C48761ad7a4%2C48761ad7ac%2C48761ad7b1%2C48761ad7bc)\n"
   ]
  },
  {
   "cell_type": "code",
   "execution_count": 32,
   "metadata": {
    "ExecuteTime": {
     "end_time": "2022-07-14T14:43:15.627074Z",
     "start_time": "2022-07-14T14:43:14.641564Z"
    }
   },
   "outputs": [],
   "source": [
    "_ = n.to_geodataframe()\n",
    "gdf_nodes, gdf_links = _['nodes'], _['links']"
   ]
  },
  {
   "cell_type": "code",
   "execution_count": 33,
   "metadata": {
    "ExecuteTime": {
     "end_time": "2022-07-14T14:43:15.645097Z",
     "start_time": "2022-07-14T14:43:15.628984Z"
    }
   },
   "outputs": [
    {
     "data": {
      "text/plain": [
       "5"
      ]
     },
     "execution_count": 33,
     "metadata": {},
     "output_type": "execute_result"
    }
   ],
   "source": [
    "region = '48761ad71,48761ad723,48761ad724c,48761ad73c,48761ad744,48761ad75d3,48761ad75d5,48761ad765,48761ad767,48761ad76c,48761ad774,48761ad779,48761ad77b,48761ad783,48761ad784c,48761ad7854,48761ad794,48761ad79c,48761ad7a4,48761ad7ac,48761ad7b1,48761ad7bc'\n",
    "_nodes = n.nodes_on_spatial_condition(region)[:5]\n",
    "len(_nodes)"
   ]
  },
  {
   "cell_type": "code",
   "execution_count": 34,
   "metadata": {
    "ExecuteTime": {
     "end_time": "2022-07-14T14:43:16.074410Z",
     "start_time": "2022-07-14T14:43:15.650144Z"
    }
   },
   "outputs": [
    {
     "data": {
      "text/plain": [
       "(<matplotlib.axes._subplots.AxesSubplot at 0x7fa064b234d0>,\n",
       " <matplotlib.axes._subplots.AxesSubplot at 0x7fa064bfd390>)"
      ]
     },
     "execution_count": 34,
     "metadata": {},
     "output_type": "execute_result"
    },
    {
     "data": {
      "image/png": "[encoded data removed]",
      "text/plain": [
       "<Figure size 432x288 with 1 Axes>"
      ]
     },
     "metadata": {
      "needs_background": "light"
     },
     "output_type": "display_data"
    },
    {
     "data": {
      "image/png": "[encoded data removed]",
      "text/plain": [
       "<Figure size 432x288 with 1 Axes>"
      ]
     },
     "metadata": {
      "needs_background": "light"
     },
     "output_type": "display_data"
    }
   ],
   "source": [
    "gdf_nodes.plot(), gdf_nodes[gdf_nodes['id'].isin(_nodes)].plot()"
   ]
  },
  {
   "cell_type": "code",
   "execution_count": 35,
   "metadata": {
    "ExecuteTime": {
     "end_time": "2022-07-14T14:43:17.648436Z",
     "start_time": "2022-07-14T14:43:16.077017Z"
    }
   },
   "outputs": [
    {
     "data": {
      "text/plain": [
       "270"
      ]
     },
     "execution_count": 35,
     "metadata": {},
     "output_type": "execute_result"
    }
   ],
   "source": [
    "geojson = '../example_data/Fitzrovia_polygon.geojson'\n",
    "\n",
    "# here the area is too small for any routes to be within it\n",
    "_links = n.links_on_spatial_condition(geojson, how='intersect')\n",
    "len(_links)"
   ]
  },
  {
   "cell_type": "code",
   "execution_count": 36,
   "metadata": {
    "ExecuteTime": {
     "end_time": "2022-07-14T14:43:18.153275Z",
     "start_time": "2022-07-14T14:43:17.654184Z"
    }
   },
   "outputs": [
    {
     "data": {
      "text/plain": [
       "(<matplotlib.axes._subplots.AxesSubplot at 0x7fa064630310>,\n",
       " <matplotlib.axes._subplots.AxesSubplot at 0x7fa06547a5d0>)"
      ]
     },
     "execution_count": 36,
     "metadata": {},
     "output_type": "execute_result"
    },
    {
     "data": {
      "image/png": "[encoded data removed]",
      "text/plain": [
       "<Figure size 432x288 with 1 Axes>"
      ]
     },
     "metadata": {
      "needs_background": "light"
     },
     "output_type": "display_data"
    },
    {
     "data": {
      "image/png": "[encoded data removed]",
      "text/plain": [
       "<Figure size 432x288 with 1 Axes>"
      ]
     },
     "metadata": {
      "needs_background": "light"
     },
     "output_type": "display_data"
    }
   ],
   "source": [
    "gdf_links.plot(), gdf_links[gdf_links['id'].isin(_links)].plot()"
   ]
  },
  {
   "cell_type": "code",
   "execution_count": 37,
   "metadata": {
    "ExecuteTime": {
     "end_time": "2022-07-14T14:43:19.213411Z",
     "start_time": "2022-07-14T14:43:18.155314Z"
    }
   },
   "outputs": [
    {
     "data": {
      "text/plain": [
       "227"
      ]
     },
     "execution_count": 37,
     "metadata": {},
     "output_type": "execute_result"
    }
   ],
   "source": [
    "from shapely.geometry import Polygon\n",
    "\n",
    "region = Polygon([\n",
    "    (-0.1487016677856445, 51.52556684350165), (-0.14063358306884766, 51.5255134425896),\n",
    "    (-0.13865947723388672, 51.5228700191647), (-0.14093399047851562, 51.52006622056997),\n",
    "    (-0.1492595672607422, 51.51974577545329), (-0.1508045196533203, 51.52276321095246),\n",
    "    (-0.1487016677856445, 51.52556684350165)])\n",
    "\n",
    "_links = n.links_on_spatial_condition(region, how='within')\n",
    "len(_links)"
   ]
  },
  {
   "cell_type": "code",
   "execution_count": 38,
   "metadata": {
    "ExecuteTime": {
     "end_time": "2022-07-14T14:43:19.764318Z",
     "start_time": "2022-07-14T14:43:19.215437Z"
    }
   },
   "outputs": [
    {
     "data": {
      "text/plain": [
       "(<matplotlib.axes._subplots.AxesSubplot at 0x7fa06445c090>,\n",
       " <matplotlib.axes._subplots.AxesSubplot at 0x7fa064fdced0>)"
      ]
     },
     "execution_count": 38,
     "metadata": {},
     "output_type": "execute_result"
    },
    {
     "data": {
      "image/png": "[encoded data removed]",
      "text/plain": [
       "<Figure size 432x288 with 1 Axes>"
      ]
     },
     "metadata": {
      "needs_background": "light"
     },
     "output_type": "display_data"
    },
    {
     "data": {
      "image/png": "[encoded data removed]",
      "text/plain": [
       "<Figure size 432x288 with 1 Axes>"
      ]
     },
     "metadata": {
      "needs_background": "light"
     },
     "output_type": "display_data"
    }
   ],
   "source": [
    "gdf_links.plot(), gdf_links[gdf_links['id'].isin(_links)].plot()"
   ]
  },
  {
   "cell_type": "markdown",
   "metadata": {},
   "source": [
    "# Using the `Schedule` object\n",
    "`Schedule` is a representation of public transit and is a part of any `genet.Network`, it is initiated as empty. A Network can exist and still be valid with an empty `Schedule`. Earlier we read a MATSim transit schedule. \n",
    "\n",
    "A `Schedule` is comprised of a number of nested objects. Each `Schedule` has a number of `Service`s. Each `Service` is made up a number of `Route`s. A `Route` is defined by an ordered list of `Stop` objects. Every `Service` should, logically, have at least two `Route`s, one going in one direction and another going back. Each `Route` also hold information about the trips, their timing and offsets arriving and departing at the `Stop`s.\n",
    "\n",
    "We can look at quick stats:"
   ]
  },
  {
   "cell_type": "code",
   "execution_count": 39,
   "metadata": {
    "ExecuteTime": {
     "end_time": "2022-07-14T14:43:19.771538Z",
     "start_time": "2022-07-14T14:43:19.767030Z"
    }
   },
   "outputs": [
    {
     "name": "stdout",
     "output_type": "stream",
     "text": [
      "Schedule:\n",
      "Number of services: 9\n",
      "Number of routes: 68\n",
      "Number of stops: 118\n"
     ]
    }
   ],
   "source": [
    "n.schedule.print()"
   ]
  },
  {
   "cell_type": "markdown",
   "metadata": {},
   "source": [
    "Or we can plot the `Schedule` object. A `Schedule` on its' own does not have information about the `Network`, even if it has refrences to it via network routes in the `Route` objects. Thus calling a `plot` method on a Schedule will result in a plot of connections between stops for all `Route`s within all `Service`s. To plot the network routes of the `Schedule` we use the `plot` method for the `Network` object which holds that `Schedule`."
   ]
  },
  {
   "cell_type": "code",
   "execution_count": 40,
   "metadata": {
    "ExecuteTime": {
     "end_time": "2022-07-14T14:43:19.777529Z",
     "start_time": "2022-07-14T14:43:19.774219Z"
    }
   },
   "outputs": [],
   "source": [
    "# n.schedule.plot()"
   ]
  },
  {
   "cell_type": "markdown",
   "metadata": {},
   "source": [
    "## Summary\n",
    "Schedules can get large and complicated. GeNet includes methods similar to ones presented for `Network` objects. This time, instead of inspecting data stored on links and edges of a graph, we summarise data held for Stops, Routes and Services in the Schedule."
   ]
  },
  {
   "cell_type": "code",
   "execution_count": 41,
   "metadata": {
    "ExecuteTime": {
     "end_time": "2022-07-14T14:43:19.787527Z",
     "start_time": "2022-07-14T14:43:19.779988Z"
    }
   },
   "outputs": [
    {
     "name": "stdout",
     "output_type": "stream",
     "text": [
      "attribute\n",
      "├── services\n",
      "├── routes\n",
      "├── id\n",
      "├── x\n",
      "├── y\n",
      "├── epsg\n",
      "├── name\n",
      "├── lon\n",
      "├── lat\n",
      "├── s2_id\n",
      "├── linkRefId\n",
      "├── isBlocking\n",
      "└── stopAreaId\n"
     ]
    }
   ],
   "source": [
    "n.schedule.stop_attribute_summary(data=False)"
   ]
  },
  {
   "cell_type": "code",
   "execution_count": 42,
   "metadata": {
    "ExecuteTime": {
     "end_time": "2022-07-14T14:43:19.803214Z",
     "start_time": "2022-07-14T14:43:19.790267Z"
    }
   },
   "outputs": [
    {
     "name": "stdout",
     "output_type": "stream",
     "text": [
      "attribute\n",
      "├── route_short_name: ['N8', '98', '113', 'N20', 'N5']\n",
      "├── mode: ['bus']\n",
      "├── arrival_offsets: ['00:03:48', '00:07:06', '00:03:46', '00:03:20', '00:08:00']\n",
      "├── departure_offsets: ['00:03:48', '00:07:06', '00:03:46', '00:03:20', '00:08:00']\n",
      "├── route_long_name: ['']\n",
      "├── id: ['VJ93d8207ae8540b4ff59d47c9ee1ec5689084522d', 'VJ06cd41dcd58d947097df4a8f33234ef423210154', 'VJfc35884fc4f11dc408a209c19f56f3b60f634daf', 'VJ06420fdab0dfe5c8e7f2f9504df05cf6289cd7d3', 'VJ9b58a59e3d74941586a5bca7726a8aa624da67fc']\n",
      "├── trips\n",
      "│   ├── trip_id: ['VJ86a477781569787e3eb6750313d83ca4ada98302_16:58:00', 'VJ8b0d68aaadd1ad0375a107135b3e66bc7f2ebf30_15:20:56', 'VJb1ed52d58d0aaa08440a1a9190ce6f7612ec03f8_20:18:00', 'VJec6f239216ed5025c2ae0c354e25cf1cde8ef050_02:48:00', 'VJ3b9d77d2ef200b21c8048fea5eedc2d2788a1b94_01:54:00']\n",
      "│   ├── trip_departure_time: ['10:28:30', '09:14:46', '06:57:00', '03:58:45', '21:49:10']\n",
      "│   └── vehicle_id: ['veh_1609_bus', 'veh_908_bus', 'veh_853_bus', 'veh_959_bus', 'veh_645_bus']\n",
      "├── route: ['1437', '2922', '1024', '833', '1182']\n",
      "├── await_departure: [True]\n",
      "└── ordered_stops: ['490000252X.link:2637', '490000173JB.link:1663', '490015042U.link:796', '490000252X.link:86', '490000252E.link:1239']\n"
     ]
    }
   ],
   "source": [
    "n.schedule.route_attribute_summary(data=True)"
   ]
  },
  {
   "cell_type": "code",
   "execution_count": 43,
   "metadata": {
    "ExecuteTime": {
     "end_time": "2022-07-14T14:43:19.811424Z",
     "start_time": "2022-07-14T14:43:19.805648Z"
    }
   },
   "outputs": [
    {
     "name": "stdout",
     "output_type": "stream",
     "text": [
      "attribute\n",
      "├── id: ['20274', '18853', '14134', '15660', '18915']\n",
      "└── name: ['N8', '205', '98', '113', 'N20']\n"
     ]
    }
   ],
   "source": [
    "n.schedule.service_attribute_summary(data=True)"
   ]
  },
  {
   "cell_type": "markdown",
   "metadata": {},
   "source": [
    "Again, similarly to `Network` objects, we can generate `pandas.DataFrame`s for chosen attributes of Stops, Routes and Services. These dataframes are indexed by the index of the object you query, i.e. Stop ID, Route ID or Service ID. During intantiation of a Schedule object, Route and Service indices are checked and forced to be unique, reindexing them as neccessary."
   ]
  },
  {
   "cell_type": "code",
   "execution_count": 44,
   "metadata": {
    "ExecuteTime": {
     "end_time": "2022-07-14T14:43:19.826387Z",
     "start_time": "2022-07-14T14:43:19.814578Z"
    }
   },
   "outputs": [
    {
     "data": {
      "text/html": [
       "<div>\n",
       "<style scoped>\n",
       "    .dataframe tbody tr th:only-of-type {\n",
       "        vertical-align: middle;\n",
       "    }\n",
       "\n",
       "    .dataframe tbody tr th {\n",
       "        vertical-align: top;\n",
       "    }\n",
       "\n",
       "    .dataframe thead th {\n",
       "        text-align: right;\n",
       "    }\n",
       "</style>\n",
       "<table border=\"1\" class=\"dataframe\">\n",
       "  <thead>\n",
       "    <tr style=\"text-align: right;\">\n",
       "      <th></th>\n",
       "      <th>lat</th>\n",
       "      <th>lon</th>\n",
       "      <th>name</th>\n",
       "    </tr>\n",
       "  </thead>\n",
       "  <tbody>\n",
       "    <tr>\n",
       "      <th>490000235X.link:834</th>\n",
       "      <td>51.516685</td>\n",
       "      <td>-0.128096</td>\n",
       "      <td>Tottenham Court Road Station (Stop X)</td>\n",
       "    </tr>\n",
       "    <tr>\n",
       "      <th>490000235YB.link:574</th>\n",
       "      <td>51.516098</td>\n",
       "      <td>-0.134044</td>\n",
       "      <td>Oxford Street  Soho Street (Stop YB)</td>\n",
       "    </tr>\n",
       "    <tr>\n",
       "      <th>490014214HE.link:3154</th>\n",
       "      <td>51.515923</td>\n",
       "      <td>-0.135392</td>\n",
       "      <td>Wardour Street (Stop OM)</td>\n",
       "    </tr>\n",
       "    <tr>\n",
       "      <th>490010689KB.link:981</th>\n",
       "      <td>51.515472</td>\n",
       "      <td>-0.139893</td>\n",
       "      <td>Great Titchfield Street  Oxford Circus Station...</td>\n",
       "    </tr>\n",
       "    <tr>\n",
       "      <th>490000235P.link:15</th>\n",
       "      <td>51.516762</td>\n",
       "      <td>-0.128295</td>\n",
       "      <td>Tottenham Court Road Station  New Oxford Stree...</td>\n",
       "    </tr>\n",
       "  </tbody>\n",
       "</table>\n",
       "</div>"
      ],
      "text/plain": [
       "                             lat       lon  \\\n",
       "490000235X.link:834    51.516685 -0.128096   \n",
       "490000235YB.link:574   51.516098 -0.134044   \n",
       "490014214HE.link:3154  51.515923 -0.135392   \n",
       "490010689KB.link:981   51.515472 -0.139893   \n",
       "490000235P.link:15     51.516762 -0.128295   \n",
       "\n",
       "                                                                    name  \n",
       "490000235X.link:834                Tottenham Court Road Station (Stop X)  \n",
       "490000235YB.link:574                Oxford Street  Soho Street (Stop YB)  \n",
       "490014214HE.link:3154                           Wardour Street (Stop OM)  \n",
       "490010689KB.link:981   Great Titchfield Street  Oxford Circus Station...  \n",
       "490000235P.link:15     Tottenham Court Road Station  New Oxford Stree...  "
      ]
     },
     "execution_count": 44,
     "metadata": {},
     "output_type": "execute_result"
    }
   ],
   "source": [
    "n.schedule.stop_attribute_data(keys=['lat', 'lon', 'name']).head()"
   ]
  },
  {
   "cell_type": "code",
   "execution_count": 45,
   "metadata": {
    "ExecuteTime": {
     "end_time": "2022-07-14T14:43:19.843655Z",
     "start_time": "2022-07-14T14:43:19.828154Z"
    }
   },
   "outputs": [
    {
     "data": {
      "text/html": [
       "<div>\n",
       "<style scoped>\n",
       "    .dataframe tbody tr th:only-of-type {\n",
       "        vertical-align: middle;\n",
       "    }\n",
       "\n",
       "    .dataframe tbody tr th {\n",
       "        vertical-align: top;\n",
       "    }\n",
       "\n",
       "    .dataframe thead th {\n",
       "        text-align: right;\n",
       "    }\n",
       "</style>\n",
       "<table border=\"1\" class=\"dataframe\">\n",
       "  <thead>\n",
       "    <tr style=\"text-align: right;\">\n",
       "      <th></th>\n",
       "      <th>route_short_name</th>\n",
       "      <th>mode</th>\n",
       "    </tr>\n",
       "  </thead>\n",
       "  <tbody>\n",
       "    <tr>\n",
       "      <th>VJ375a660d47a2aa570aa20a8568012da8497ffecf</th>\n",
       "      <td>N55</td>\n",
       "      <td>bus</td>\n",
       "    </tr>\n",
       "    <tr>\n",
       "      <th>VJ6c64ab7b477e201cae950efde5bd0cb4e2e8888e</th>\n",
       "      <td>N55</td>\n",
       "      <td>bus</td>\n",
       "    </tr>\n",
       "    <tr>\n",
       "      <th>VJ812fad65e7fa418645b57b446f00cba573f2cdaf</th>\n",
       "      <td>N55</td>\n",
       "      <td>bus</td>\n",
       "    </tr>\n",
       "    <tr>\n",
       "      <th>VJ93d8207ae8540b4ff59d47c9ee1ec5689084522d</th>\n",
       "      <td>94</td>\n",
       "      <td>bus</td>\n",
       "    </tr>\n",
       "    <tr>\n",
       "      <th>VJ06cd41dcd58d947097df4a8f33234ef423210154</th>\n",
       "      <td>205</td>\n",
       "      <td>bus</td>\n",
       "    </tr>\n",
       "  </tbody>\n",
       "</table>\n",
       "</div>"
      ],
      "text/plain": [
       "                                           route_short_name mode\n",
       "VJ375a660d47a2aa570aa20a8568012da8497ffecf              N55  bus\n",
       "VJ6c64ab7b477e201cae950efde5bd0cb4e2e8888e              N55  bus\n",
       "VJ812fad65e7fa418645b57b446f00cba573f2cdaf              N55  bus\n",
       "VJ93d8207ae8540b4ff59d47c9ee1ec5689084522d               94  bus\n",
       "VJ06cd41dcd58d947097df4a8f33234ef423210154              205  bus"
      ]
     },
     "execution_count": 45,
     "metadata": {},
     "output_type": "execute_result"
    }
   ],
   "source": [
    "n.schedule.route_attribute_data(keys=['route_short_name', 'mode']).head()"
   ]
  },
  {
   "cell_type": "code",
   "execution_count": 46,
   "metadata": {
    "ExecuteTime": {
     "end_time": "2022-07-14T14:43:19.873595Z",
     "start_time": "2022-07-14T14:43:19.852633Z"
    }
   },
   "outputs": [
    {
     "data": {
      "text/html": [
       "<div>\n",
       "<style scoped>\n",
       "    .dataframe tbody tr th:only-of-type {\n",
       "        vertical-align: middle;\n",
       "    }\n",
       "\n",
       "    .dataframe tbody tr th {\n",
       "        vertical-align: top;\n",
       "    }\n",
       "\n",
       "    .dataframe thead th {\n",
       "        text-align: right;\n",
       "    }\n",
       "</style>\n",
       "<table border=\"1\" class=\"dataframe\">\n",
       "  <thead>\n",
       "    <tr style=\"text-align: right;\">\n",
       "      <th></th>\n",
       "      <th>name</th>\n",
       "    </tr>\n",
       "    <tr>\n",
       "      <th>service_id</th>\n",
       "      <th></th>\n",
       "    </tr>\n",
       "  </thead>\n",
       "  <tbody>\n",
       "    <tr>\n",
       "      <th>20274</th>\n",
       "      <td>N55</td>\n",
       "    </tr>\n",
       "    <tr>\n",
       "      <th>14134</th>\n",
       "      <td>98</td>\n",
       "    </tr>\n",
       "    <tr>\n",
       "      <th>18853</th>\n",
       "      <td>N8</td>\n",
       "    </tr>\n",
       "    <tr>\n",
       "      <th>15660</th>\n",
       "      <td>113</td>\n",
       "    </tr>\n",
       "    <tr>\n",
       "      <th>18915</th>\n",
       "      <td>N5</td>\n",
       "    </tr>\n",
       "  </tbody>\n",
       "</table>\n",
       "</div>"
      ],
      "text/plain": [
       "           name\n",
       "service_id     \n",
       "20274       N55\n",
       "14134        98\n",
       "18853        N8\n",
       "15660       113\n",
       "18915        N5"
      ]
     },
     "execution_count": 46,
     "metadata": {},
     "output_type": "execute_result"
    }
   ],
   "source": [
    "n.schedule.service_attribute_data(keys='name', index_name='service_id').head()"
   ]
  },
  {
   "cell_type": "markdown",
   "metadata": {},
   "source": [
    "Each trip in the schedule has a vehicle assigned to it. By default, each trip will have a unique vehicle, but this can be changed by the user (have a look in modification notebook). Each vehicle is linked to a type. Each schedule begins with types based off of a config `genet/configs/vehicles/vehicle_definitions.yml`, the user may like to point to their own config file or set those values through the Schedule object."
   ]
  },
  {
   "cell_type": "code",
   "execution_count": 47,
   "metadata": {
    "ExecuteTime": {
     "end_time": "2022-07-14T14:43:19.897468Z",
     "start_time": "2022-07-14T14:43:19.878526Z"
    }
   },
   "outputs": [
    {
     "data": {
      "text/plain": [
       "{'type': 'Bus'}"
      ]
     },
     "execution_count": 47,
     "metadata": {},
     "output_type": "execute_result"
    }
   ],
   "source": [
    "n.schedule.vehicles['veh_2331_bus']"
   ]
  },
  {
   "cell_type": "code",
   "execution_count": 48,
   "metadata": {
    "ExecuteTime": {
     "end_time": "2022-07-14T14:43:19.914279Z",
     "start_time": "2022-07-14T14:43:19.902784Z"
    }
   },
   "outputs": [
    {
     "data": {
      "text/plain": [
       "{'capacity': {'seats': {'persons': '70'}, 'standingRoom': {'persons': 5}},\n",
       " 'length': {'meter': '18.0'},\n",
       " 'width': {'meter': '2.5'},\n",
       " 'accessTime': {'secondsPerPerson': '0.5'},\n",
       " 'egressTime': {'secondsPerPerson': '0.5'},\n",
       " 'doorOperation': {'mode': 'serial'},\n",
       " 'passengerCarEquivalents': {'pce': '2.8'}}"
      ]
     },
     "execution_count": 48,
     "metadata": {},
     "output_type": "execute_result"
    }
   ],
   "source": [
    "n.schedule.vehicle_types['Bus']['capacity']['standingRoom']['persons'] = 5\n",
    "n.schedule.vehicle_types['Bus']"
   ]
  },
  {
   "cell_type": "markdown",
   "metadata": {},
   "source": [
    "There exists a method to check that all vehicles are linked to a vehicle type which exists in the schedule."
   ]
  },
  {
   "cell_type": "code",
   "execution_count": 49,
   "metadata": {
    "ExecuteTime": {
     "end_time": "2022-07-14T14:43:19.949203Z",
     "start_time": "2022-07-14T14:43:19.918843Z"
    }
   },
   "outputs": [
    {
     "data": {
      "text/plain": [
       "True"
      ]
     },
     "execution_count": 49,
     "metadata": {},
     "output_type": "execute_result"
    }
   ],
   "source": [
    "n.schedule.validate_vehicle_definitions()"
   ]
  },
  {
   "cell_type": "markdown",
   "metadata": {},
   "source": [
    "`trips_to_dataframe` is a useful method to extract all of the trips, their departures and vehicle IDs associated with the trips in the schedule. Trip ids need not be unique, route IDs provide a secondary index. Associated service IDs are also given for convenience. There is another method `set_trips_dataframe` which takes this dataframe and applies changes to all route trips based on the data in the dataframe. This means you can generate this DataFrame as shown below, manipulate trips (delete them, add new ones), change their departure times or change their vehicle ids to be shared for differnt trips, perhaps on some temporal logic and as long as the dataframe has the same schema, you can use it to set new trips in the schedule. This will appear in the changelog as a route level modify event. More info on this can be found in the Modifying Network notebook or wiki page."
   ]
  },
  {
   "cell_type": "code",
   "execution_count": 50,
   "metadata": {
    "ExecuteTime": {
     "end_time": "2022-07-14T14:43:20.035103Z",
     "start_time": "2022-07-14T14:43:19.956158Z"
    }
   },
   "outputs": [
    {
     "data": {
      "text/html": [
       "<div>\n",
       "<style scoped>\n",
       "    .dataframe tbody tr th:only-of-type {\n",
       "        vertical-align: middle;\n",
       "    }\n",
       "\n",
       "    .dataframe tbody tr th {\n",
       "        vertical-align: top;\n",
       "    }\n",
       "\n",
       "    .dataframe thead th {\n",
       "        text-align: right;\n",
       "    }\n",
       "</style>\n",
       "<table border=\"1\" class=\"dataframe\">\n",
       "  <thead>\n",
       "    <tr style=\"text-align: right;\">\n",
       "      <th></th>\n",
       "      <th>mode</th>\n",
       "      <th>service_id</th>\n",
       "      <th>route_id</th>\n",
       "      <th>trip_id</th>\n",
       "      <th>trip_departure_time</th>\n",
       "      <th>vehicle_id</th>\n",
       "    </tr>\n",
       "  </thead>\n",
       "  <tbody>\n",
       "    <tr>\n",
       "      <th>0</th>\n",
       "      <td>bus</td>\n",
       "      <td>20274</td>\n",
       "      <td>VJ375a660d47a2aa570aa20a8568012da8497ffecf</td>\n",
       "      <td>VJ2cdccea96e0e3e6a53a968bcb132941415d6d7c9_04:...</td>\n",
       "      <td>2021-01-01 04:53:00</td>\n",
       "      <td>veh_2331_bus</td>\n",
       "    </tr>\n",
       "    <tr>\n",
       "      <th>1</th>\n",
       "      <td>bus</td>\n",
       "      <td>20274</td>\n",
       "      <td>VJ375a660d47a2aa570aa20a8568012da8497ffecf</td>\n",
       "      <td>VJ375a660d47a2aa570aa20a8568012da8497ffecf_03:...</td>\n",
       "      <td>2021-01-01 03:53:00</td>\n",
       "      <td>veh_2332_bus</td>\n",
       "    </tr>\n",
       "    <tr>\n",
       "      <th>2</th>\n",
       "      <td>bus</td>\n",
       "      <td>20274</td>\n",
       "      <td>VJ375a660d47a2aa570aa20a8568012da8497ffecf</td>\n",
       "      <td>VJ3b9d77d2ef200b21c8048fea5eedc2d2788a1b94_01:...</td>\n",
       "      <td>2021-01-01 01:54:00</td>\n",
       "      <td>veh_2333_bus</td>\n",
       "    </tr>\n",
       "    <tr>\n",
       "      <th>3</th>\n",
       "      <td>bus</td>\n",
       "      <td>20274</td>\n",
       "      <td>VJ375a660d47a2aa570aa20a8568012da8497ffecf</td>\n",
       "      <td>VJ79974c386a39426e06783650a759828438432aa4_05:...</td>\n",
       "      <td>2021-01-01 05:23:00</td>\n",
       "      <td>veh_2334_bus</td>\n",
       "    </tr>\n",
       "    <tr>\n",
       "      <th>4</th>\n",
       "      <td>bus</td>\n",
       "      <td>20274</td>\n",
       "      <td>VJ375a660d47a2aa570aa20a8568012da8497ffecf</td>\n",
       "      <td>VJa09c394b71031216571d813a6266c83f2d30bf0a_04:...</td>\n",
       "      <td>2021-01-01 04:23:00</td>\n",
       "      <td>veh_2335_bus</td>\n",
       "    </tr>\n",
       "  </tbody>\n",
       "</table>\n",
       "</div>"
      ],
      "text/plain": [
       "  mode service_id                                    route_id  \\\n",
       "0  bus      20274  VJ375a660d47a2aa570aa20a8568012da8497ffecf   \n",
       "1  bus      20274  VJ375a660d47a2aa570aa20a8568012da8497ffecf   \n",
       "2  bus      20274  VJ375a660d47a2aa570aa20a8568012da8497ffecf   \n",
       "3  bus      20274  VJ375a660d47a2aa570aa20a8568012da8497ffecf   \n",
       "4  bus      20274  VJ375a660d47a2aa570aa20a8568012da8497ffecf   \n",
       "\n",
       "                                             trip_id trip_departure_time  \\\n",
       "0  VJ2cdccea96e0e3e6a53a968bcb132941415d6d7c9_04:... 2021-01-01 04:53:00   \n",
       "1  VJ375a660d47a2aa570aa20a8568012da8497ffecf_03:... 2021-01-01 03:53:00   \n",
       "2  VJ3b9d77d2ef200b21c8048fea5eedc2d2788a1b94_01:... 2021-01-01 01:54:00   \n",
       "3  VJ79974c386a39426e06783650a759828438432aa4_05:... 2021-01-01 05:23:00   \n",
       "4  VJa09c394b71031216571d813a6266c83f2d30bf0a_04:... 2021-01-01 04:23:00   \n",
       "\n",
       "     vehicle_id  \n",
       "0  veh_2331_bus  \n",
       "1  veh_2332_bus  \n",
       "2  veh_2333_bus  \n",
       "3  veh_2334_bus  \n",
       "4  veh_2335_bus  "
      ]
     },
     "execution_count": 50,
     "metadata": {},
     "output_type": "execute_result"
    }
   ],
   "source": [
    "n.schedule.trips_to_dataframe(gtfs_day='20210101').head()"
   ]
  },
  {
   "cell_type": "markdown",
   "metadata": {},
   "source": [
    "### Headways\n",
    "\n",
    "You can generate a dataframe with headway information for all trips and services"
   ]
  },
  {
   "cell_type": "code",
   "execution_count": 51,
   "metadata": {
    "ExecuteTime": {
     "end_time": "2022-07-14T14:43:20.245065Z",
     "start_time": "2022-07-14T14:43:20.046834Z"
    }
   },
   "outputs": [
    {
     "data": {
      "text/html": [
       "<div>\n",
       "<style scoped>\n",
       "    .dataframe tbody tr th:only-of-type {\n",
       "        vertical-align: middle;\n",
       "    }\n",
       "\n",
       "    .dataframe tbody tr th {\n",
       "        vertical-align: top;\n",
       "    }\n",
       "\n",
       "    .dataframe thead th {\n",
       "        text-align: right;\n",
       "    }\n",
       "</style>\n",
       "<table border=\"1\" class=\"dataframe\">\n",
       "  <thead>\n",
       "    <tr style=\"text-align: right;\">\n",
       "      <th></th>\n",
       "      <th>mode</th>\n",
       "      <th>service_id</th>\n",
       "      <th>route_id</th>\n",
       "      <th>trip_id</th>\n",
       "      <th>trip_departure_time</th>\n",
       "      <th>vehicle_id</th>\n",
       "      <th>headway</th>\n",
       "      <th>headway_mins</th>\n",
       "    </tr>\n",
       "  </thead>\n",
       "  <tbody>\n",
       "    <tr>\n",
       "      <th>0</th>\n",
       "      <td>bus</td>\n",
       "      <td>12430</td>\n",
       "      <td>VJ06420fdab0dfe5c8e7f2f9504df05cf6289cd7d3</td>\n",
       "      <td>VJ70cdcef7ccba9c599c70f89bdf8b10852e33bb04_11:...</td>\n",
       "      <td>1970-01-01 11:15:42</td>\n",
       "      <td>veh_409_bus</td>\n",
       "      <td>0 days 00:00:00</td>\n",
       "      <td>0.0</td>\n",
       "    </tr>\n",
       "    <tr>\n",
       "      <th>1</th>\n",
       "      <td>bus</td>\n",
       "      <td>12430</td>\n",
       "      <td>VJ06420fdab0dfe5c8e7f2f9504df05cf6289cd7d3</td>\n",
       "      <td>VJ126aa65811277b9774ae127ff819495441bc4e75_11:...</td>\n",
       "      <td>1970-01-01 11:24:42</td>\n",
       "      <td>veh_392_bus</td>\n",
       "      <td>0 days 00:09:00</td>\n",
       "      <td>9.0</td>\n",
       "    </tr>\n",
       "    <tr>\n",
       "      <th>2</th>\n",
       "      <td>bus</td>\n",
       "      <td>12430</td>\n",
       "      <td>VJ06420fdab0dfe5c8e7f2f9504df05cf6289cd7d3</td>\n",
       "      <td>VJ0d3b026c4060cd0325803e488a965a5ab91fd4c0_11:...</td>\n",
       "      <td>1970-01-01 11:32:42</td>\n",
       "      <td>veh_390_bus</td>\n",
       "      <td>0 days 00:08:00</td>\n",
       "      <td>8.0</td>\n",
       "    </tr>\n",
       "    <tr>\n",
       "      <th>3</th>\n",
       "      <td>bus</td>\n",
       "      <td>12430</td>\n",
       "      <td>VJ06420fdab0dfe5c8e7f2f9504df05cf6289cd7d3</td>\n",
       "      <td>VJ4155b3d5d916db07a50061ae1c15b24ecfc2f96f_11:...</td>\n",
       "      <td>1970-01-01 11:41:42</td>\n",
       "      <td>veh_401_bus</td>\n",
       "      <td>0 days 00:09:00</td>\n",
       "      <td>9.0</td>\n",
       "    </tr>\n",
       "    <tr>\n",
       "      <th>4</th>\n",
       "      <td>bus</td>\n",
       "      <td>12430</td>\n",
       "      <td>VJ06420fdab0dfe5c8e7f2f9504df05cf6289cd7d3</td>\n",
       "      <td>VJc9a308474ed72f769664413e686f3447613c5b3a_11:...</td>\n",
       "      <td>1970-01-01 11:49:42</td>\n",
       "      <td>veh_425_bus</td>\n",
       "      <td>0 days 00:08:00</td>\n",
       "      <td>8.0</td>\n",
       "    </tr>\n",
       "  </tbody>\n",
       "</table>\n",
       "</div>"
      ],
      "text/plain": [
       "  mode service_id                                    route_id  \\\n",
       "0  bus      12430  VJ06420fdab0dfe5c8e7f2f9504df05cf6289cd7d3   \n",
       "1  bus      12430  VJ06420fdab0dfe5c8e7f2f9504df05cf6289cd7d3   \n",
       "2  bus      12430  VJ06420fdab0dfe5c8e7f2f9504df05cf6289cd7d3   \n",
       "3  bus      12430  VJ06420fdab0dfe5c8e7f2f9504df05cf6289cd7d3   \n",
       "4  bus      12430  VJ06420fdab0dfe5c8e7f2f9504df05cf6289cd7d3   \n",
       "\n",
       "                                             trip_id trip_departure_time  \\\n",
       "0  VJ70cdcef7ccba9c599c70f89bdf8b10852e33bb04_11:... 1970-01-01 11:15:42   \n",
       "1  VJ126aa65811277b9774ae127ff819495441bc4e75_11:... 1970-01-01 11:24:42   \n",
       "2  VJ0d3b026c4060cd0325803e488a965a5ab91fd4c0_11:... 1970-01-01 11:32:42   \n",
       "3  VJ4155b3d5d916db07a50061ae1c15b24ecfc2f96f_11:... 1970-01-01 11:41:42   \n",
       "4  VJc9a308474ed72f769664413e686f3447613c5b3a_11:... 1970-01-01 11:49:42   \n",
       "\n",
       "    vehicle_id         headway  headway_mins  \n",
       "0  veh_409_bus 0 days 00:00:00           0.0  \n",
       "1  veh_392_bus 0 days 00:09:00           9.0  \n",
       "2  veh_390_bus 0 days 00:08:00           8.0  \n",
       "3  veh_401_bus 0 days 00:09:00           9.0  \n",
       "4  veh_425_bus 0 days 00:08:00           8.0  "
      ]
     },
     "execution_count": 51,
     "metadata": {},
     "output_type": "execute_result"
    }
   ],
   "source": [
    "n.schedule.trips_headways().head()"
   ]
  },
  {
   "cell_type": "markdown",
   "metadata": {},
   "source": [
    "You can also generate a dataframe with summary information about headways for each route in the schedule"
   ]
  },
  {
   "cell_type": "code",
   "execution_count": 52,
   "metadata": {
    "ExecuteTime": {
     "end_time": "2022-07-14T14:43:21.035216Z",
     "start_time": "2022-07-14T14:43:20.249295Z"
    }
   },
   "outputs": [
    {
     "data": {
      "text/html": [
       "<div>\n",
       "<style scoped>\n",
       "    .dataframe tbody tr th:only-of-type {\n",
       "        vertical-align: middle;\n",
       "    }\n",
       "\n",
       "    .dataframe tbody tr th {\n",
       "        vertical-align: top;\n",
       "    }\n",
       "\n",
       "    .dataframe thead th {\n",
       "        text-align: right;\n",
       "    }\n",
       "</style>\n",
       "<table border=\"1\" class=\"dataframe\">\n",
       "  <thead>\n",
       "    <tr style=\"text-align: right;\">\n",
       "      <th></th>\n",
       "      <th>service_id</th>\n",
       "      <th>route_id</th>\n",
       "      <th>mode</th>\n",
       "      <th>mean_headway_mins</th>\n",
       "      <th>std_headway_mins</th>\n",
       "      <th>max_headway_mins</th>\n",
       "      <th>min_headway_mins</th>\n",
       "      <th>trip_count</th>\n",
       "    </tr>\n",
       "  </thead>\n",
       "  <tbody>\n",
       "    <tr>\n",
       "      <th>0</th>\n",
       "      <td>12430</td>\n",
       "      <td>VJ06420fdab0dfe5c8e7f2f9504df05cf6289cd7d3</td>\n",
       "      <td>bus</td>\n",
       "      <td>8.688889</td>\n",
       "      <td>1.378771</td>\n",
       "      <td>10.0</td>\n",
       "      <td>0.0</td>\n",
       "      <td>45.0</td>\n",
       "    </tr>\n",
       "    <tr>\n",
       "      <th>1</th>\n",
       "      <td>12430</td>\n",
       "      <td>VJ06cd41dcd58d947097df4a8f33234ef423210154</td>\n",
       "      <td>bus</td>\n",
       "      <td>115.333333</td>\n",
       "      <td>266.361909</td>\n",
       "      <td>659.0</td>\n",
       "      <td>0.0</td>\n",
       "      <td>6.0</td>\n",
       "    </tr>\n",
       "    <tr>\n",
       "      <th>2</th>\n",
       "      <td>12430</td>\n",
       "      <td>VJ0f3c08222de16c2e278be0a1bf0f9ea47370774e</td>\n",
       "      <td>bus</td>\n",
       "      <td>9.851064</td>\n",
       "      <td>8.032485</td>\n",
       "      <td>63.0</td>\n",
       "      <td>0.0</td>\n",
       "      <td>47.0</td>\n",
       "    </tr>\n",
       "    <tr>\n",
       "      <th>3</th>\n",
       "      <td>12430</td>\n",
       "      <td>VJ15419796737689e742962a625abcf3fd5b3d58b1</td>\n",
       "      <td>bus</td>\n",
       "      <td>22.928571</td>\n",
       "      <td>75.682049</td>\n",
       "      <td>409.0</td>\n",
       "      <td>0.0</td>\n",
       "      <td>28.0</td>\n",
       "    </tr>\n",
       "    <tr>\n",
       "      <th>4</th>\n",
       "      <td>12430</td>\n",
       "      <td>VJ235c8fca539cf931b3c673f9b056606384aff950</td>\n",
       "      <td>bus</td>\n",
       "      <td>24.433333</td>\n",
       "      <td>86.248512</td>\n",
       "      <td>481.0</td>\n",
       "      <td>0.0</td>\n",
       "      <td>30.0</td>\n",
       "    </tr>\n",
       "  </tbody>\n",
       "</table>\n",
       "</div>"
      ],
      "text/plain": [
       "  service_id                                    route_id mode  \\\n",
       "0      12430  VJ06420fdab0dfe5c8e7f2f9504df05cf6289cd7d3  bus   \n",
       "1      12430  VJ06cd41dcd58d947097df4a8f33234ef423210154  bus   \n",
       "2      12430  VJ0f3c08222de16c2e278be0a1bf0f9ea47370774e  bus   \n",
       "3      12430  VJ15419796737689e742962a625abcf3fd5b3d58b1  bus   \n",
       "4      12430  VJ235c8fca539cf931b3c673f9b056606384aff950  bus   \n",
       "\n",
       "   mean_headway_mins  std_headway_mins  max_headway_mins  min_headway_mins  \\\n",
       "0           8.688889          1.378771              10.0               0.0   \n",
       "1         115.333333        266.361909             659.0               0.0   \n",
       "2           9.851064          8.032485              63.0               0.0   \n",
       "3          22.928571         75.682049             409.0               0.0   \n",
       "4          24.433333         86.248512             481.0               0.0   \n",
       "\n",
       "   trip_count  \n",
       "0        45.0  \n",
       "1         6.0  \n",
       "2        47.0  \n",
       "3        28.0  \n",
       "4        30.0  "
      ]
     },
     "execution_count": 52,
     "metadata": {},
     "output_type": "execute_result"
    }
   ],
   "source": [
    "n.schedule.headway_stats().head()"
   ]
  },
  {
   "cell_type": "markdown",
   "metadata": {},
   "source": [
    "In another notebook on modification, you can find information about generating new trips to replace the old using headway information. This is useful when creating scenario networks."
   ]
  },
  {
   "cell_type": "markdown",
   "metadata": {},
   "source": [
    "## Extracting Stops, Routes, Services of interest\n",
    "\n",
    "There are times when we need to extract Service, Route or Stop IDs depending on some logic. Building conditions works exactly the same as for links and nodes of `genet.Network` which was presented exhaustively above. Here we present some examples. There are separate methods for `Service`, `Route` or `Stop` objects that return the IDs of these objects if they satisfy the conditions given by the user. Note, `attribute_summary` methods presented above help in building these conditions."
   ]
  },
  {
   "cell_type": "markdown",
   "metadata": {},
   "source": [
    "### In general"
   ]
  },
  {
   "cell_type": "code",
   "execution_count": 53,
   "metadata": {
    "ExecuteTime": {
     "end_time": "2022-07-14T14:43:21.045529Z",
     "start_time": "2022-07-14T14:43:21.038854Z"
    }
   },
   "outputs": [
    {
     "data": {
      "text/plain": [
       "['20274']"
      ]
     },
     "execution_count": 53,
     "metadata": {},
     "output_type": "execute_result"
    }
   ],
   "source": [
    "n.schedule.extract_service_ids_on_attributes(\n",
    "    conditions={'name': 'N55'})"
   ]
  },
  {
   "cell_type": "code",
   "execution_count": 54,
   "metadata": {
    "ExecuteTime": {
     "end_time": "2022-07-14T14:43:21.064194Z",
     "start_time": "2022-07-14T14:43:21.048464Z"
    }
   },
   "outputs": [
    {
     "data": {
      "text/plain": [
       "['VJ375a660d47a2aa570aa20a8568012da8497ffecf',\n",
       " 'VJ6c64ab7b477e201cae950efde5bd0cb4e2e8888e',\n",
       " 'VJ812fad65e7fa418645b57b446f00cba573f2cdaf']"
      ]
     },
     "execution_count": 54,
     "metadata": {},
     "output_type": "execute_result"
    }
   ],
   "source": [
    "n.schedule.extract_route_ids_on_attributes(\n",
    "    conditions=[{'mode': 'bus'}, {'route_short_name': 'N55'}], how=all)[:5]"
   ]
  },
  {
   "cell_type": "code",
   "execution_count": 55,
   "metadata": {
    "ExecuteTime": {
     "end_time": "2022-07-14T14:43:21.079175Z",
     "start_time": "2022-07-14T14:43:21.069482Z"
    }
   },
   "outputs": [
    {
     "data": {
      "text/plain": [
       "['490000235YB.link:574',\n",
       " '490000235P.link:15',\n",
       " '490000173W.link:1868',\n",
       " '490000235Z.link:15',\n",
       " '490015196R']"
      ]
     },
     "execution_count": 55,
     "metadata": {},
     "output_type": "execute_result"
    }
   ],
   "source": [
    "def oxford_street_in_name(attribs):\n",
    "    if 'Oxford Street' in attribs:\n",
    "        return True\n",
    "    else:\n",
    "        return False\n",
    "\n",
    "n.schedule.extract_stop_ids_on_attributes(\n",
    "    conditions={'name': oxford_street_in_name})[:5]"
   ]
  },
  {
   "cell_type": "markdown",
   "metadata": {},
   "source": [
    "There are several common extraction logics we might need. They relate to modes and spatial and temporal logic. Below we go through some convenience methods for those.\n",
    "\n",
    "### Modal\n",
    "\n",
    "Below are convenience methods for extracting object IDs based on the modes they are related to. Note that only `Route` objects actually hold information about their mode of transport. When we extract `Service` of mode `x`, we pick services whose at least one route is of that mode. Similarly with `Stop`s, we extract those used by routes of that mode."
   ]
  },
  {
   "cell_type": "code",
   "execution_count": 56,
   "metadata": {
    "ExecuteTime": {
     "end_time": "2022-07-14T14:43:21.089426Z",
     "start_time": "2022-07-14T14:43:21.081891Z"
    }
   },
   "outputs": [
    {
     "data": {
      "text/plain": [
       "['20274', '14134', '18853', '15660', '18915']"
      ]
     },
     "execution_count": 56,
     "metadata": {},
     "output_type": "execute_result"
    }
   ],
   "source": [
    "n.schedule.services_on_modal_condition(modes='bus')[:5]"
   ]
  },
  {
   "cell_type": "code",
   "execution_count": 57,
   "metadata": {
    "ExecuteTime": {
     "end_time": "2022-07-14T14:43:21.104130Z",
     "start_time": "2022-07-14T14:43:21.094332Z"
    }
   },
   "outputs": [
    {
     "data": {
      "text/plain": [
       "['VJ375a660d47a2aa570aa20a8568012da8497ffecf',\n",
       " 'VJ6c64ab7b477e201cae950efde5bd0cb4e2e8888e',\n",
       " 'VJ812fad65e7fa418645b57b446f00cba573f2cdaf',\n",
       " 'VJ93d8207ae8540b4ff59d47c9ee1ec5689084522d',\n",
       " 'VJ06cd41dcd58d947097df4a8f33234ef423210154']"
      ]
     },
     "execution_count": 57,
     "metadata": {},
     "output_type": "execute_result"
    }
   ],
   "source": [
    "n.schedule.routes_on_modal_condition(modes=['bus', 'rail'])[:5]"
   ]
  },
  {
   "cell_type": "code",
   "execution_count": 58,
   "metadata": {
    "ExecuteTime": {
     "end_time": "2022-07-14T14:43:21.117947Z",
     "start_time": "2022-07-14T14:43:21.111055Z"
    }
   },
   "outputs": [
    {
     "data": {
      "text/plain": [
       "['490000235X.link:834',\n",
       " '490000235YB.link:574',\n",
       " '490014214HE.link:3154',\n",
       " '490010689KB.link:981',\n",
       " '490000235P.link:15']"
      ]
     },
     "execution_count": 58,
     "metadata": {},
     "output_type": "execute_result"
    }
   ],
   "source": [
    "n.schedule.stops_on_modal_condition(modes='bus')[:5]"
   ]
  },
  {
   "cell_type": "markdown",
   "metadata": {},
   "source": [
    "### Spatial\n",
    "\n",
    "For spatial extraction conditions, similarly to the `Network` object, you have a choice of:\n",
    "- `shapely.geometry.Polygon` or `shapely.geometry.GeometryCollection` of Polygons (in epsg:4326)\n",
    "- geojson file, can be generated with [http://geojson.io/](http://geojson.io/)\n",
    "- [S2 Geometry hex string which can be generated and copied from http://s2.sidewalklabs.com/regioncoverer](http://s2.sidewalklabs.com/regioncoverer/?center=51.522960%2C-0.144245&zoom=16&cells=48761ad71%2C48761ad723%2C48761ad724c%2C48761ad73c%2C48761ad744%2C48761ad75d3%2C48761ad75d5%2C48761ad765%2C48761ad767%2C48761ad76c%2C48761ad774%2C48761ad779%2C48761ad77b%2C48761ad783%2C48761ad784c%2C48761ad7854%2C48761ad794%2C48761ad79c%2C48761ad7a4%2C48761ad7ac%2C48761ad7b1%2C48761ad7bc)\n",
    "\n",
    "Again, methods exist for `Service`, `Route` or `Stop` objects seperately."
   ]
  },
  {
   "cell_type": "code",
   "execution_count": 59,
   "metadata": {
    "ExecuteTime": {
     "end_time": "2022-07-14T14:43:21.218744Z",
     "start_time": "2022-07-14T14:43:21.122537Z"
    }
   },
   "outputs": [
    {
     "data": {
      "text/plain": [
       "['12430']"
      ]
     },
     "execution_count": 59,
     "metadata": {},
     "output_type": "execute_result"
    }
   ],
   "source": [
    "from shapely.geometry import Polygon\n",
    "\n",
    "region = Polygon([\n",
    "    (-0.1487016677856445, 51.52556684350165), (-0.14063358306884766, 51.5255134425896),\n",
    "    (-0.13865947723388672, 51.5228700191647), (-0.14093399047851562, 51.52006622056997),\n",
    "    (-0.1492595672607422, 51.51974577545329), (-0.1508045196533203, 51.52276321095246),\n",
    "    (-0.1487016677856445, 51.52556684350165)])\n",
    "\n",
    "n.schedule.services_on_spatial_condition(region)"
   ]
  },
  {
   "cell_type": "markdown",
   "metadata": {},
   "source": [
    "There are two options for `Service` and `Route` objects. They can either `intersect` the area, meaning at least one of their `Stop`s lie in the specified area, or be `within` this area."
   ]
  },
  {
   "cell_type": "code",
   "execution_count": 60,
   "metadata": {
    "ExecuteTime": {
     "end_time": "2022-07-14T14:43:21.292431Z",
     "start_time": "2022-07-14T14:43:21.220850Z"
    }
   },
   "outputs": [
    {
     "data": {
      "text/plain": [
       "[]"
      ]
     },
     "execution_count": 60,
     "metadata": {},
     "output_type": "execute_result"
    }
   ],
   "source": [
    "geojson = '../example_data/Fitzrovia_polygon.geojson'\n",
    "\n",
    "# here the area is too small for any routes to be within it\n",
    "n.schedule.routes_on_spatial_condition(geojson, how='within')"
   ]
  },
  {
   "cell_type": "code",
   "execution_count": 61,
   "metadata": {
    "ExecuteTime": {
     "end_time": "2022-07-14T14:43:21.369958Z",
     "start_time": "2022-07-14T14:43:21.295899Z"
    }
   },
   "outputs": [
    {
     "data": {
      "text/plain": [
       "['VJ15419796737689e742962a625abcf3fd5b3d58b1',\n",
       " 'VJ06cd41dcd58d947097df4a8f33234ef423210154',\n",
       " 'VJ95b4c534d7c903d76ec0340025aa88b81dba3ce4',\n",
       " 'VJ235c8fca539cf931b3c673f9b056606384aff950',\n",
       " 'VJef7f20c3a9bf1419f6401e1e9131fe2c634bcb9a']"
      ]
     },
     "execution_count": 61,
     "metadata": {},
     "output_type": "execute_result"
    }
   ],
   "source": [
    "# a lot of routes intersect it however\n",
    "n.schedule.routes_on_spatial_condition(geojson, how='intersect')[:5]"
   ]
  },
  {
   "cell_type": "code",
   "execution_count": 62,
   "metadata": {
    "ExecuteTime": {
     "end_time": "2022-07-14T14:43:21.379932Z",
     "start_time": "2022-07-14T14:43:21.371753Z"
    }
   },
   "outputs": [
    {
     "data": {
      "text/plain": [
       "['490000091G.link:1242',\n",
       " '490000091H.link:1912',\n",
       " '490000091H',\n",
       " '490013600C',\n",
       " '490000091F',\n",
       " '490000091E',\n",
       " '490000091G',\n",
       " '9400ZZLUGPS2']"
      ]
     },
     "execution_count": 62,
     "metadata": {},
     "output_type": "execute_result"
    }
   ],
   "source": [
    "hex_region = '48761ad71,48761ad723,48761ad724c,48761ad73c,48761ad744,48761ad75d3,48761ad75d5,48761ad765,48761ad767,48761ad76c,48761ad774,48761ad779,48761ad77b,48761ad783,48761ad784c,48761ad7854,48761ad794,48761ad79c,48761ad7a4,48761ad7ac,48761ad7b1,48761ad7bc'\n",
    "n.schedule.stops_on_spatial_condition(hex_region)"
   ]
  },
  {
   "cell_type": "markdown",
   "metadata": {},
   "source": [
    "### Temporal\n",
    "\n",
    "These methods are under construction. A useful one in the meantime is presented below. It generates a `pandas.DataFrame` of departure and arrival times between all stops for all trips."
   ]
  },
  {
   "cell_type": "code",
   "execution_count": 63,
   "metadata": {
    "ExecuteTime": {
     "end_time": "2022-07-14T14:43:21.500314Z",
     "start_time": "2022-07-14T14:43:21.382086Z"
    }
   },
   "outputs": [
    {
     "data": {
      "text/html": [
       "<div>\n",
       "<style scoped>\n",
       "    .dataframe tbody tr th:only-of-type {\n",
       "        vertical-align: middle;\n",
       "    }\n",
       "\n",
       "    .dataframe tbody tr th {\n",
       "        vertical-align: top;\n",
       "    }\n",
       "\n",
       "    .dataframe thead th {\n",
       "        text-align: right;\n",
       "    }\n",
       "</style>\n",
       "<table border=\"1\" class=\"dataframe\">\n",
       "  <thead>\n",
       "    <tr style=\"text-align: right;\">\n",
       "      <th></th>\n",
       "      <th>departure_time</th>\n",
       "      <th>to_stop</th>\n",
       "      <th>from_stop_name</th>\n",
       "      <th>to_stop_name</th>\n",
       "      <th>from_stop</th>\n",
       "      <th>route_name</th>\n",
       "      <th>service_id</th>\n",
       "      <th>service_name</th>\n",
       "      <th>mode</th>\n",
       "      <th>arrival_time</th>\n",
       "      <th>route_id</th>\n",
       "      <th>trip_id</th>\n",
       "      <th>vehicle_id</th>\n",
       "    </tr>\n",
       "  </thead>\n",
       "  <tbody>\n",
       "    <tr>\n",
       "      <th>0</th>\n",
       "      <td>2020-01-01 16:33:42</td>\n",
       "      <td>4900020147W.link:2634</td>\n",
       "      <td>Euston Square (Stop P)</td>\n",
       "      <td>University College Hosp Warren Street Stn (Sto...</td>\n",
       "      <td>490000078P.link:1383</td>\n",
       "      <td>205</td>\n",
       "      <td>12430</td>\n",
       "      <td>205</td>\n",
       "      <td>bus</td>\n",
       "      <td>2020-01-01 16:35:25</td>\n",
       "      <td>VJ06420fdab0dfe5c8e7f2f9504df05cf6289cd7d3</td>\n",
       "      <td>VJ03f4f8905d6dc7868242f3fd29828ee9b366a906_16:...</td>\n",
       "      <td>veh_388_bus</td>\n",
       "    </tr>\n",
       "    <tr>\n",
       "      <th>1</th>\n",
       "      <td>2020-01-01 16:35:25</td>\n",
       "      <td>490000252V.link:1182</td>\n",
       "      <td>University College Hosp Warren Street Stn (Sto...</td>\n",
       "      <td>Warren Street Station (Stop V)</td>\n",
       "      <td>4900020147W.link:2634</td>\n",
       "      <td>205</td>\n",
       "      <td>12430</td>\n",
       "      <td>205</td>\n",
       "      <td>bus</td>\n",
       "      <td>2020-01-01 16:37:08</td>\n",
       "      <td>VJ06420fdab0dfe5c8e7f2f9504df05cf6289cd7d3</td>\n",
       "      <td>VJ03f4f8905d6dc7868242f3fd29828ee9b366a906_16:...</td>\n",
       "      <td>veh_388_bus</td>\n",
       "    </tr>\n",
       "    <tr>\n",
       "      <th>2</th>\n",
       "      <td>2020-01-01 16:37:08</td>\n",
       "      <td>490000091G.link:1242</td>\n",
       "      <td>Warren Street Station (Stop V)</td>\n",
       "      <td>Great Portland Street (Stop G)</td>\n",
       "      <td>490000252V.link:1182</td>\n",
       "      <td>205</td>\n",
       "      <td>12430</td>\n",
       "      <td>205</td>\n",
       "      <td>bus</td>\n",
       "      <td>2020-01-01 16:38:51</td>\n",
       "      <td>VJ06420fdab0dfe5c8e7f2f9504df05cf6289cd7d3</td>\n",
       "      <td>VJ03f4f8905d6dc7868242f3fd29828ee9b366a906_16:...</td>\n",
       "      <td>veh_388_bus</td>\n",
       "    </tr>\n",
       "    <tr>\n",
       "      <th>3</th>\n",
       "      <td>2020-01-01 16:38:51</td>\n",
       "      <td>490000191B.link:305</td>\n",
       "      <td>Great Portland Street (Stop G)</td>\n",
       "      <td>Regent's Park (Stop B)</td>\n",
       "      <td>490000091G.link:1242</td>\n",
       "      <td>205</td>\n",
       "      <td>12430</td>\n",
       "      <td>205</td>\n",
       "      <td>bus</td>\n",
       "      <td>2020-01-01 16:40:34</td>\n",
       "      <td>VJ06420fdab0dfe5c8e7f2f9504df05cf6289cd7d3</td>\n",
       "      <td>VJ03f4f8905d6dc7868242f3fd29828ee9b366a906_16:...</td>\n",
       "      <td>veh_388_bus</td>\n",
       "    </tr>\n",
       "    <tr>\n",
       "      <th>4</th>\n",
       "      <td>2020-01-01 16:40:34</td>\n",
       "      <td>490007807W.link:2922</td>\n",
       "      <td>Regent's Park (Stop B)</td>\n",
       "      <td>Harley Street (Stop L)</td>\n",
       "      <td>490000191B.link:305</td>\n",
       "      <td>205</td>\n",
       "      <td>12430</td>\n",
       "      <td>205</td>\n",
       "      <td>bus</td>\n",
       "      <td>2020-01-01 16:42:17</td>\n",
       "      <td>VJ06420fdab0dfe5c8e7f2f9504df05cf6289cd7d3</td>\n",
       "      <td>VJ03f4f8905d6dc7868242f3fd29828ee9b366a906_16:...</td>\n",
       "      <td>veh_388_bus</td>\n",
       "    </tr>\n",
       "  </tbody>\n",
       "</table>\n",
       "</div>"
      ],
      "text/plain": [
       "       departure_time                to_stop  \\\n",
       "0 2020-01-01 16:33:42  4900020147W.link:2634   \n",
       "1 2020-01-01 16:35:25   490000252V.link:1182   \n",
       "2 2020-01-01 16:37:08   490000091G.link:1242   \n",
       "3 2020-01-01 16:38:51    490000191B.link:305   \n",
       "4 2020-01-01 16:40:34   490007807W.link:2922   \n",
       "\n",
       "                                      from_stop_name  \\\n",
       "0                             Euston Square (Stop P)   \n",
       "1  University College Hosp Warren Street Stn (Sto...   \n",
       "2                     Warren Street Station (Stop V)   \n",
       "3                     Great Portland Street (Stop G)   \n",
       "4                             Regent's Park (Stop B)   \n",
       "\n",
       "                                        to_stop_name              from_stop  \\\n",
       "0  University College Hosp Warren Street Stn (Sto...   490000078P.link:1383   \n",
       "1                     Warren Street Station (Stop V)  4900020147W.link:2634   \n",
       "2                     Great Portland Street (Stop G)   490000252V.link:1182   \n",
       "3                             Regent's Park (Stop B)   490000091G.link:1242   \n",
       "4                             Harley Street (Stop L)    490000191B.link:305   \n",
       "\n",
       "  route_name service_id service_name mode        arrival_time  \\\n",
       "0        205      12430          205  bus 2020-01-01 16:35:25   \n",
       "1        205      12430          205  bus 2020-01-01 16:37:08   \n",
       "2        205      12430          205  bus 2020-01-01 16:38:51   \n",
       "3        205      12430          205  bus 2020-01-01 16:40:34   \n",
       "4        205      12430          205  bus 2020-01-01 16:42:17   \n",
       "\n",
       "                                     route_id  \\\n",
       "0  VJ06420fdab0dfe5c8e7f2f9504df05cf6289cd7d3   \n",
       "1  VJ06420fdab0dfe5c8e7f2f9504df05cf6289cd7d3   \n",
       "2  VJ06420fdab0dfe5c8e7f2f9504df05cf6289cd7d3   \n",
       "3  VJ06420fdab0dfe5c8e7f2f9504df05cf6289cd7d3   \n",
       "4  VJ06420fdab0dfe5c8e7f2f9504df05cf6289cd7d3   \n",
       "\n",
       "                                             trip_id   vehicle_id  \n",
       "0  VJ03f4f8905d6dc7868242f3fd29828ee9b366a906_16:...  veh_388_bus  \n",
       "1  VJ03f4f8905d6dc7868242f3fd29828ee9b366a906_16:...  veh_388_bus  \n",
       "2  VJ03f4f8905d6dc7868242f3fd29828ee9b366a906_16:...  veh_388_bus  \n",
       "3  VJ03f4f8905d6dc7868242f3fd29828ee9b366a906_16:...  veh_388_bus  \n",
       "4  VJ03f4f8905d6dc7868242f3fd29828ee9b366a906_16:...  veh_388_bus  "
      ]
     },
     "execution_count": 63,
     "metadata": {},
     "output_type": "execute_result"
    }
   ],
   "source": [
    "n.schedule.trips_with_stops_to_dataframe(gtfs_day='20200101').head()"
   ]
  },
  {
   "cell_type": "markdown",
   "metadata": {},
   "source": [
    "## Accessing `Stop`, `Route`, `Service` objects"
   ]
  },
  {
   "cell_type": "markdown",
   "metadata": {},
   "source": [
    "Once you extract IDs of interest, you can access these objects. You can also modify them, check out the Modify Network notebook for usage examples.\n",
    "\n",
    "Each `Service` is indexed and can be accessed by its' ID. It also has a plot method."
   ]
  },
  {
   "cell_type": "code",
   "execution_count": 64,
   "metadata": {
    "ExecuteTime": {
     "end_time": "2022-07-14T14:43:21.508577Z",
     "start_time": "2022-07-14T14:43:21.502726Z"
    }
   },
   "outputs": [
    {
     "data": {
      "text/plain": [
       "['20274', '14134', '18853', '15660', '18915']"
      ]
     },
     "execution_count": 64,
     "metadata": {},
     "output_type": "execute_result"
    }
   ],
   "source": [
    "n.schedule.service_ids()[:5]"
   ]
  },
  {
   "cell_type": "code",
   "execution_count": 65,
   "metadata": {
    "ExecuteTime": {
     "end_time": "2022-07-14T14:43:21.518579Z",
     "start_time": "2022-07-14T14:43:21.512785Z"
    }
   },
   "outputs": [
    {
     "name": "stdout",
     "output_type": "stream",
     "text": [
      "Service ID: 12430\n",
      "Name: 205\n",
      "Number of routes: 12\n",
      "Number of stops: 11\n"
     ]
    }
   ],
   "source": [
    "service = n.schedule['12430']\n",
    "service.print()"
   ]
  },
  {
   "cell_type": "code",
   "execution_count": 66,
   "metadata": {
    "ExecuteTime": {
     "end_time": "2022-07-14T14:43:21.535579Z",
     "start_time": "2022-07-14T14:43:21.527407Z"
    }
   },
   "outputs": [],
   "source": [
    "# service.plot()"
   ]
  },
  {
   "cell_type": "markdown",
   "metadata": {},
   "source": [
    "Similarly, each `Route` is indexed and can be accessed by its' id. It also has a plot method."
   ]
  },
  {
   "cell_type": "code",
   "execution_count": 67,
   "metadata": {
    "ExecuteTime": {
     "end_time": "2022-07-14T14:43:21.554874Z",
     "start_time": "2022-07-14T14:43:21.542557Z"
    }
   },
   "outputs": [
    {
     "data": {
      "text/plain": [
       "['VJ375a660d47a2aa570aa20a8568012da8497ffecf',\n",
       " 'VJ6c64ab7b477e201cae950efde5bd0cb4e2e8888e',\n",
       " 'VJ812fad65e7fa418645b57b446f00cba573f2cdaf',\n",
       " 'VJ93d8207ae8540b4ff59d47c9ee1ec5689084522d',\n",
       " 'VJ06cd41dcd58d947097df4a8f33234ef423210154']"
      ]
     },
     "execution_count": 67,
     "metadata": {},
     "output_type": "execute_result"
    }
   ],
   "source": [
    "n.schedule.route_ids()[:5]"
   ]
  },
  {
   "cell_type": "code",
   "execution_count": 68,
   "metadata": {
    "ExecuteTime": {
     "end_time": "2022-07-14T14:43:21.602156Z",
     "start_time": "2022-07-14T14:43:21.592879Z"
    }
   },
   "outputs": [
    {
     "name": "stdout",
     "output_type": "stream",
     "text": [
      "Route ID: VJ948e8caa0f08b9c6bf6330927893942c474b5100\n",
      "Name: 205\n",
      "Number of stops: 5\n",
      "Number of trips: 10\n"
     ]
    }
   ],
   "source": [
    "route = n.schedule.route('VJ948e8caa0f08b9c6bf6330927893942c474b5100')\n",
    "route.print()"
   ]
  },
  {
   "cell_type": "code",
   "execution_count": 69,
   "metadata": {
    "ExecuteTime": {
     "end_time": "2022-07-14T14:43:21.630977Z",
     "start_time": "2022-07-14T14:43:21.627351Z"
    }
   },
   "outputs": [],
   "source": [
    "# route.plot()"
   ]
  },
  {
   "cell_type": "markdown",
   "metadata": {},
   "source": [
    "Finally, each `Stop` is indexed too, and can be accessed by its' id. "
   ]
  },
  {
   "cell_type": "code",
   "execution_count": 70,
   "metadata": {
    "ExecuteTime": {
     "end_time": "2022-07-14T14:43:21.644371Z",
     "start_time": "2022-07-14T14:43:21.638216Z"
    }
   },
   "outputs": [
    {
     "name": "stdout",
     "output_type": "stream",
     "text": [
      "Stop ID: 490007807E.link:1154\n",
      "Projection: epsg:27700\n",
      "Lat, Lon: 51.52336503, -0.14951799\n",
      "linkRefId: 1154\n"
     ]
    }
   ],
   "source": [
    "stop = n.schedule.stop('490007807E.link:1154')\n",
    "stop.print()"
   ]
  }
 ],
 "metadata": {
  "kernelspec": {
   "display_name": "genet",
   "language": "python",
   "name": "genet"
  },
  "language_info": {
   "codemirror_mode": {
    "name": "ipython",
    "version": 3
   },
   "file_extension": ".py",
   "mimetype": "text/x-python",
   "name": "python",
   "nbconvert_exporter": "python",
   "pygments_lexer": "ipython3",
   "version": "3.7.7"
  },
  "latex_envs": {
   "LaTeX_envs_menu_present": true,
   "autoclose": true,
   "autocomplete": true,
   "bibliofile": "biblio.bib",
   "cite_by": "apalike",
   "current_citInitial": 1,
   "eqLabelWithNumbers": true,
   "eqNumInitial": 1,
   "hotkeys": {
    "equation": "Ctrl-E",
    "itemize": "Ctrl-I"
   },
   "labels_anchors": false,
   "latex_user_defs": false,
   "report_style_numbering": false,
   "user_envs_cfg": false
  },
  "toc": {
   "base_numbering": 1,
   "nav_menu": {},
   "number_sections": true,
   "sideBar": true,
   "skip_h1_title": false,
   "title_cell": "Table of Contents",
   "title_sidebar": "Contents",
   "toc_cell": false,
   "toc_position": {},
   "toc_section_display": true,
   "toc_window_display": false
  },
  "varInspector": {
   "cols": {
    "lenName": 16,
    "lenType": 16,
    "lenVar": 40
   },
   "kernels_config": {
    "python": {
     "delete_cmd_postfix": "",
     "delete_cmd_prefix": "del ",
     "library": "var_list.py",
     "varRefreshCmd": "print(var_dic_list())"
    },
    "r": {
     "delete_cmd_postfix": ") ",
     "delete_cmd_prefix": "rm(",
     "library": "var_list.r",
     "varRefreshCmd": "cat(var_dic_list()) "
    }
   },
   "types_to_exclude": [
    "module",
    "function",
    "builtin_function_or_method",
    "instance",
    "_Feature"
   ],
   "window_display": false
  }
 },
 "nbformat": 4,
 "nbformat_minor": 2
}
