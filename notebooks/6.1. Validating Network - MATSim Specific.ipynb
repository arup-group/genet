{
 "cells": [
  {
   "cell_type": "markdown",
   "metadata": {},
   "source": [
    "# MatSim specific validation\n",
    "\n",
    "You can generate a validation report for the genet Network encompassing validity of the network, schedule and routing (of the transit services in the schedule on the network). It aims to provide a good collection of checks known to have affected MatSim simulations in the past. The report is a simple dictionary with keys: `graph`, `schedule` and `routing`."
   ]
  },
  {
   "cell_type": "code",
   "execution_count": 1,
   "metadata": {
    "ExecuteTime": {
     "end_time": "2020-12-17T12:21:35.212883Z",
     "start_time": "2020-12-17T12:21:31.861688Z"
    }
   },
   "outputs": [
    {
     "name": "stdout",
     "output_type": "stream",
     "text": [
      "Graph info: Name: Network graph\n",
      "Type: MultiDiGraph\n",
      "Number of nodes: 2\n",
      "Number of edges: 1\n",
      "Average in degree:   0.5000\n",
      "Average out degree:   0.5000 \n",
      "Schedule info: Schedule:\n",
      "Number of services: 1\n",
      "Number of unique routes: 1\n",
      "Number of stops: 2\n"
     ]
    }
   ],
   "source": [
    "# read sample network\n",
    "from genet import Network\n",
    "import os\n",
    "\n",
    "n = Network('epsg:27700')\n",
    "path_to_matsim_network = '../tests/test_data/matsim'\n",
    "n.read_matsim_network(os.path.join(path_to_matsim_network, 'network.xml'))\n",
    "n.read_matsim_schedule(os.path.join(path_to_matsim_network, 'schedule.xml'))\n",
    "n.print()"
   ]
  },
  {
   "cell_type": "code",
   "execution_count": 2,
   "metadata": {
    "ExecuteTime": {
     "end_time": "2020-12-17T12:21:35.248625Z",
     "start_time": "2020-12-17T12:21:35.214538Z"
    }
   },
   "outputs": [
    {
     "name": "stderr",
     "output_type": "stream",
     "text": [
      "2020-12-17 12:21:35,216 - Checking validity of the Network\n",
      "2020-12-17 12:21:35,218 - Checking validity of the Network graph\n",
      "2020-12-17 12:21:35,221 - Checking network connectivity for mode: car\n",
      "2020-12-17 12:21:35,222 - Checking network connectivity for mode: walk\n",
      "2020-12-17 12:21:35,224 - Checking network connectivity for mode: bike\n",
      "2020-12-17 12:21:35,226 - Checking validity of the Schedule\n",
      "2020-12-17 12:21:35,228 - Not all stops reference network link ids.\n",
      "2020-12-17 12:21:35,231 - Not all stops reference network link ids.\n",
      "2020-12-17 12:21:35,232 - Not all stops reference network link ids.\n",
      "2020-12-17 12:21:35,233 - This schedule is not valid\n",
      "2020-12-17 12:21:35,234 - Not all stops reference network link ids.\n",
      "2020-12-17 12:21:35,236 - Not all stops reference network link ids.\n",
      "2020-12-17 12:21:35,238 - Service id=10314 is not valid\n",
      "2020-12-17 12:21:35,239 - Not all stops reference network link ids.\n",
      "2020-12-17 12:21:35,240 - Not all stops reference network link ids.\n",
      "2020-12-17 12:21:35,243 - Route id=VJbd8660f05fe6f744e58a66ae12bd66acbca88b98 under Service id=10314 is not valid\n",
      "2020-12-17 12:21:35,244 - Some link ids in Route: VJbd8660f05fe6f744e58a66ae12bd66acbca88b98 don't accept the route's mode: bus\n",
      "2020-12-17 12:21:35,245 - Some link ids in Route: VJbd8660f05fe6f744e58a66ae12bd66acbca88b98 don't accept the route's mode: bus\n"
     ]
    }
   ],
   "source": [
    "report = n.generate_validation_report()"
   ]
  },
  {
   "cell_type": "markdown",
   "metadata": {},
   "source": [
    "The `graph` section describes strongly connected components of the modal subgraphs, for modes that agents in MATSim need to find routes on: `car`, and `walk` and `bike` if using the `multimodal.contrib`. In addition to this, it also flags links of length 1km or longer that can be inspected separately."
   ]
  },
  {
   "cell_type": "code",
   "execution_count": 3,
   "metadata": {
    "ExecuteTime": {
     "end_time": "2020-12-17T12:21:35.262338Z",
     "start_time": "2020-12-17T12:21:35.251074Z"
    }
   },
   "outputs": [
    {
     "name": "stdout",
     "output_type": "stream",
     "text": [
      "{'graph_connectivity': {'bike': {'number_of_connected_subgraphs': 0,\n",
      "                                 'problem_nodes': {'dead_ends': [],\n",
      "                                                   'unreachable_node': []}},\n",
      "                        'car': {'number_of_connected_subgraphs': 2,\n",
      "                                'problem_nodes': {'dead_ends': ['21667818'],\n",
      "                                                  'unreachable_node': ['25508485']}},\n",
      "                        'walk': {'number_of_connected_subgraphs': 2,\n",
      "                                 'problem_nodes': {'dead_ends': ['21667818'],\n",
      "                                                   'unreachable_node': ['25508485']}}},\n",
      " 'links_over_1km_length': []}\n"
     ]
    }
   ],
   "source": [
    "from pprint import pprint\n",
    "pprint(report['graph'])"
   ]
  },
  {
   "cell_type": "markdown",
   "metadata": {},
   "source": [
    "The `schedule` section describes correctness of the schedule on three levels:\n",
    "    \n",
    "- `schedule_level`: Overall look at the schedule validity. A `Schedule` is valid if:\n",
    "    - all of its' services are valid\n",
    "    - its' services are uniquely indexed\n",
    "    \n",
    "    Schedule `has_valid_services` if all services within the schedule are deemed valid. The invalid services are \n",
    "    flagged in `invalid_services` and the invalid stages of schedule validity are flagged in `invalid_stages`.\n",
    "- `service_level`: Provides a look at validity of services within the schedule. It is indexed by service ids. Each\n",
    "`Service` is valid if:\n",
    "    - each of its' routes is valid\n",
    "    - its' routes are uniquely indexed\n",
    "    \n",
    "    A service `has_valid_routes` if all routes within the service are deemed valid. The invalid routes are \n",
    "    flagged in `invalid_routes` and the invalid stages of service validity are flagged in `invalid_stages`.\n",
    "- `route_level`: Provides a look at validity of each route within each service indexed by service id and route id\n",
    "(or service id and the index in the `Service.routes` list if not uniquely indexed). Each `Route` is valid if it\n",
    "    - has more than one `Stop`\n",
    "    - has correctly ordered route (the stops (their link reference ids) and links a route refers to are in the same \n",
    "    order)\n",
    "    - arrival and departure offsets are correct (each stop has one and they are correctly ordered temporally)\n",
    "    - does not have self loops (there are no trips such as: Stop A -> Stop A)\n",
    "    \n",
    "    If a route satisfies the above `is_valid_route` is `True`. If not, the `invalid_stages` flag where the route\n",
    "    did not satisfy validity conditions.\n",
    "\n",
    "(Nb. The same dictionary can be generated by using `Schedule` object's own `generate_validation_report` method.)\n"
   ]
  },
  {
   "cell_type": "code",
   "execution_count": 4,
   "metadata": {
    "ExecuteTime": {
     "end_time": "2020-12-17T12:21:35.274994Z",
     "start_time": "2020-12-17T12:21:35.266391Z"
    }
   },
   "outputs": [
    {
     "name": "stdout",
     "output_type": "stream",
     "text": [
      "{'route_level': {'10314': {'VJbd8660f05fe6f744e58a66ae12bd66acbca88b98': {'invalid_stages': ['not_has_correctly_ordered_route'],\n",
      "                                                                          'is_valid_route': False}}},\n",
      " 'schedule_level': {'has_valid_services': False,\n",
      "                    'invalid_services': ['10314'],\n",
      "                    'invalid_stages': ['not_has_valid_services'],\n",
      "                    'is_valid_schedule': False},\n",
      " 'service_level': {'10314': {'has_valid_routes': False,\n",
      "                             'invalid_routes': ['VJbd8660f05fe6f744e58a66ae12bd66acbca88b98'],\n",
      "                             'invalid_stages': ['not_has_valid_routes'],\n",
      "                             'is_valid_service': False}}}\n"
     ]
    }
   ],
   "source": [
    "pprint(report['schedule'])"
   ]
  },
  {
   "cell_type": "markdown",
   "metadata": {},
   "source": [
    "Finally, the `routing` section describes routing of the transit schedule services onto the network graph.\n",
    "- `services_have_routes_in_the_graph`: all routes have network routes and the links they refer to exist in the graph,\n",
    "are connected (to nodes of preceding link is the from node of the next link in the chain) and the `modes` saved on the\n",
    "link data accept the mode of the route.\n",
    "- `service_routes_with_invalid_network_route`: flags routes not satifying the above,\n",
    "- `route_to_crow_fly_ratio`: gives ratio of the length of route to crow-fly distance between each of the stops along \n",
    "route. If the route is invalid, it will result in 0. If the route has only one stop it will result in \n",
    "`'Division by zero'`."
   ]
  },
  {
   "cell_type": "code",
   "execution_count": 5,
   "metadata": {
    "ExecuteTime": {
     "end_time": "2020-12-17T12:21:35.283322Z",
     "start_time": "2020-12-17T12:21:35.278684Z"
    }
   },
   "outputs": [
    {
     "name": "stdout",
     "output_type": "stream",
     "text": [
      "{'route_to_crow_fly_ratio': {'10314': {'VJbd8660f05fe6f744e58a66ae12bd66acbca88b98': 'Division '\n",
      "                                                                                     'by '\n",
      "                                                                                     'zero'}},\n",
      " 'service_routes_with_invalid_network_route': [('10314',\n",
      "                                                'VJbd8660f05fe6f744e58a66ae12bd66acbca88b98')],\n",
      " 'services_have_routes_in_the_graph': False}\n"
     ]
    }
   ],
   "source": [
    "pprint(report['routing'])"
   ]
  },
  {
   "cell_type": "markdown",
   "metadata": {
    "ExecuteTime": {
     "end_time": "2020-12-17T12:04:37.251018Z",
     "start_time": "2020-12-17T12:04:37.236501Z"
    }
   },
   "source": [
    "The above report relies on a lot of convenience methods which can be used on their own. For example, you can list all invalid routes for the network using:"
   ]
  },
  {
   "cell_type": "code",
   "execution_count": 6,
   "metadata": {
    "ExecuteTime": {
     "end_time": "2020-12-17T12:21:35.294571Z",
     "start_time": "2020-12-17T12:21:35.285314Z"
    }
   },
   "outputs": [
    {
     "name": "stderr",
     "output_type": "stream",
     "text": [
      "2020-12-17 12:21:35,288 - Some link ids in Route: VJbd8660f05fe6f744e58a66ae12bd66acbca88b98 don't accept the route's mode: bus\n"
     ]
    },
    {
     "data": {
      "text/plain": [
       "[('10314', 'VJbd8660f05fe6f744e58a66ae12bd66acbca88b98')]"
      ]
     },
     "execution_count": 6,
     "metadata": {},
     "output_type": "execute_result"
    }
   ],
   "source": [
    "n.invalid_network_routes()"
   ]
  },
  {
   "cell_type": "code",
   "execution_count": 7,
   "metadata": {
    "ExecuteTime": {
     "end_time": "2020-12-17T12:21:35.304141Z",
     "start_time": "2020-12-17T12:21:35.296084Z"
    }
   },
   "outputs": [
    {
     "name": "stderr",
     "output_type": "stream",
     "text": [
      "2020-12-17 12:21:35,299 - Not all stops reference network link ids.\n"
     ]
    },
    {
     "data": {
      "text/plain": [
       "False"
      ]
     },
     "execution_count": 7,
     "metadata": {},
     "output_type": "execute_result"
    }
   ],
   "source": [
    "n.schedule.is_valid_schedule()"
   ]
  },
  {
   "cell_type": "markdown",
   "metadata": {},
   "source": [
    "Something that is not included in the validity report (because MATSim doesn't insist on it being satified) is strong connectivity of PT. You can call `is_strongly_connected` on `Schedule` or the schedule components: `Service` and `Route`. The process uses an underlying  directed graph of stop connections (which you can access by calling `graph` method on a schedule-type element, e.g. if `s` is a `genet.Service` object, `s.graph()` will give you this directed graph))."
   ]
  },
  {
   "cell_type": "code",
   "execution_count": 8,
   "metadata": {
    "ExecuteTime": {
     "end_time": "2020-12-17T12:21:35.312173Z",
     "start_time": "2020-12-17T12:21:35.307556Z"
    }
   },
   "outputs": [
    {
     "data": {
      "text/plain": [
       "False"
      ]
     },
     "execution_count": 8,
     "metadata": {},
     "output_type": "execute_result"
    }
   ],
   "source": [
    "n.schedule.is_strongly_connected()"
   ]
  },
  {
   "cell_type": "code",
   "execution_count": 9,
   "metadata": {
    "ExecuteTime": {
     "end_time": "2020-12-17T12:21:35.322032Z",
     "start_time": "2020-12-17T12:21:35.315127Z"
    }
   },
   "outputs": [
    {
     "data": {
      "text/plain": [
       "True"
      ]
     },
     "execution_count": 9,
     "metadata": {},
     "output_type": "execute_result"
    }
   ],
   "source": [
    "n.schedule.graph().is_directed()"
   ]
  },
  {
   "cell_type": "code",
   "execution_count": null,
   "metadata": {},
   "outputs": [],
   "source": []
  },
  {
   "cell_type": "code",
   "execution_count": null,
   "metadata": {},
   "outputs": [],
   "source": []
  },
  {
   "cell_type": "code",
   "execution_count": null,
   "metadata": {},
   "outputs": [],
   "source": []
  }
 ],
 "metadata": {
  "kernelspec": {
   "display_name": "Python (genet)",
   "language": "python",
   "name": "genet"
  },
  "language_info": {
   "codemirror_mode": {
    "name": "ipython",
    "version": 3
   },
   "file_extension": ".py",
   "mimetype": "text/x-python",
   "name": "python",
   "nbconvert_exporter": "python",
   "pygments_lexer": "ipython3",
   "version": "3.8.6"
  },
  "latex_envs": {
   "LaTeX_envs_menu_present": true,
   "autoclose": true,
   "autocomplete": true,
   "bibliofile": "biblio.bib",
   "cite_by": "apalike",
   "current_citInitial": 1,
   "eqLabelWithNumbers": true,
   "eqNumInitial": 1,
   "hotkeys": {
    "equation": "Ctrl-E",
    "itemize": "Ctrl-I"
   },
   "labels_anchors": false,
   "latex_user_defs": false,
   "report_style_numbering": false,
   "user_envs_cfg": false
  },
  "toc": {
   "base_numbering": 1,
   "nav_menu": {},
   "number_sections": true,
   "sideBar": true,
   "skip_h1_title": false,
   "title_cell": "Table of Contents",
   "title_sidebar": "Contents",
   "toc_cell": false,
   "toc_position": {},
   "toc_section_display": true,
   "toc_window_display": false
  },
  "varInspector": {
   "cols": {
    "lenName": 16,
    "lenType": 16,
    "lenVar": 40
   },
   "kernels_config": {
    "python": {
     "delete_cmd_postfix": "",
     "delete_cmd_prefix": "del ",
     "library": "var_list.py",
     "varRefreshCmd": "print(var_dic_list())"
    },
    "r": {
     "delete_cmd_postfix": ") ",
     "delete_cmd_prefix": "rm(",
     "library": "var_list.r",
     "varRefreshCmd": "cat(var_dic_list()) "
    }
   },
   "types_to_exclude": [
    "module",
    "function",
    "builtin_function_or_method",
    "instance",
    "_Feature"
   ],
   "window_display": false
  }
 },
 "nbformat": 4,
 "nbformat_minor": 2
}
