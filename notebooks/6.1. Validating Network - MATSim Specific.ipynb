{
 "cells": [
  {
   "cell_type": "markdown",
   "metadata": {},
   "source": [
    "# MatSim specific validation\n",
    "\n",
    "You can generate a validation report for the genet Network encompassing validity of the network, schedule and routing (of the transit services in the schedule on the network). It aims to provide a good collection of checks known to have affected MatSim simulations in the past. The report is a simple dictionary with keys: `graph`, `schedule` and `routing`."
   ]
  },
  {
   "cell_type": "code",
   "execution_count": 1,
   "metadata": {
    "ExecuteTime": {
     "end_time": "2021-03-31T10:57:59.013482Z",
     "start_time": "2021-03-31T10:57:52.945920Z"
    }
   },
   "outputs": [
    {
     "name": "stdout",
     "output_type": "stream",
     "text": [
      "Graph info: Name: Network graph\n",
      "Type: MultiDiGraph\n",
      "Number of nodes: 1662\n",
      "Number of edges: 3166\n",
      "Average in degree:   1.9049\n",
      "Average out degree:   1.9049 \n",
      "Schedule info: Schedule:\n",
      "Number of services: 9\n",
      "Number of routes: 68\n",
      "Number of stops: 45\n"
     ]
    }
   ],
   "source": [
    "# read sample network\n",
    "from genet import read_matsim\n",
    "import os\n",
    "\n",
    "path_to_matsim_network = '../example_data/pt2matsim_network'\n",
    "\n",
    "network = os.path.join(path_to_matsim_network, 'network.xml')\n",
    "schedule = os.path.join(path_to_matsim_network, 'schedule.xml')\n",
    "vehicles = os.path.join(path_to_matsim_network, 'vehicles.xml')\n",
    "n = read_matsim(\n",
    "    path_to_network=network, \n",
    "    epsg='epsg:27700', \n",
    "    path_to_schedule=schedule, \n",
    "    path_to_vehicles=vehicles\n",
    ")\n",
    "# you don't need to read the vehicles file, but doing so ensures all vehicles\n",
    "# in the schedule are of the expected type and the definition of the vehicle\n",
    "# is preserved\n",
    "n.print()"
   ]
  },
  {
   "cell_type": "code",
   "execution_count": 2,
   "metadata": {
    "ExecuteTime": {
     "end_time": "2021-03-31T10:58:01.661472Z",
     "start_time": "2021-03-31T10:57:59.025741Z"
    }
   },
   "outputs": [
    {
     "name": "stderr",
     "output_type": "stream",
     "text": [
      "2021-03-31 11:57:59,027 - Checking validity of the Network\n",
      "2021-03-31 11:57:59,033 - Checking validity of the Network graph\n",
      "2021-03-31 11:57:59,034 - Checking network connectivity for mode: car\n",
      "2021-03-31 11:57:59,389 - Checking network connectivity for mode: walk\n",
      "2021-03-31 11:57:59,441 - Checking network connectivity for mode: bike\n",
      "2021-03-31 11:58:01,552 - Checking validity of the Schedule\n"
     ]
    }
   ],
   "source": [
    "report = n.generate_validation_report()"
   ]
  },
  {
   "cell_type": "markdown",
   "metadata": {},
   "source": [
    "The `graph` section describes strongly connected components of the modal subgraphs, for modes that agents in MATSim need to find routes on: `car`, and `walk` and `bike` if using the `multimodal.contrib`. In addition to this, it also flags links of length 1km or longer that can be inspected separately."
   ]
  },
  {
   "cell_type": "code",
   "execution_count": 3,
   "metadata": {
    "ExecuteTime": {
     "end_time": "2021-03-31T10:58:01.675571Z",
     "start_time": "2021-03-31T10:58:01.665681Z"
    }
   },
   "outputs": [
    {
     "name": "stdout",
     "output_type": "stream",
     "text": [
      "{'graph_connectivity': {'bike': {'number_of_connected_subgraphs': 0,\n",
      "                                 'problem_nodes': {'dead_ends': [],\n",
      "                                                   'unreachable_node': []}},\n",
      "                        'car': {'number_of_connected_subgraphs': 1,\n",
      "                                'problem_nodes': {'dead_ends': [],\n",
      "                                                  'unreachable_node': []}},\n",
      "                        'walk': {'number_of_connected_subgraphs': 0,\n",
      "                                 'problem_nodes': {'dead_ends': [],\n",
      "                                                   'unreachable_node': []}}},\n",
      " 'link_attributes': {'links_over_1km_length': {'link_ids': [],\n",
      "                                               'number_of': 0,\n",
      "                                               'percentage': 0.0},\n",
      "                     'zero_attributes': {}}}\n"
     ]
    }
   ],
   "source": [
    "from pprint import pprint\n",
    "pprint(report['graph'])"
   ]
  },
  {
   "cell_type": "markdown",
   "metadata": {},
   "source": [
    "The `schedule` section describes correctness of the schedule on three levels:\n",
    "    \n",
    "- `schedule_level`: Overall look at the schedule validity. A `Schedule` is valid if:\n",
    "    - all of its' services are valid\n",
    "    - its' services are uniquely indexed\n",
    "    \n",
    "    Schedule `has_valid_services` if all services within the schedule are deemed valid. The invalid services are \n",
    "    flagged in `invalid_services` and the invalid stages of schedule validity are flagged in `invalid_stages`.\n",
    "- `service_level`: Provides a look at validity of services within the schedule. It is indexed by service ids. Each\n",
    "`Service` is valid if:\n",
    "    - each of its' routes is valid\n",
    "    - its' routes are uniquely indexed\n",
    "    \n",
    "    A service `has_valid_routes` if all routes within the service are deemed valid. The invalid routes are \n",
    "    flagged in `invalid_routes` and the invalid stages of service validity are flagged in `invalid_stages`.\n",
    "- `route_level`: Provides a look at validity of each route within each service indexed by service id and route id\n",
    "(or service id and the index in the `Service.routes` list if not uniquely indexed). Each `Route` is valid if it\n",
    "    - has more than one `Stop`\n",
    "    - has correctly ordered route (the stops (their link reference ids) and links a route refers to are in the same \n",
    "    order)\n",
    "    - arrival and departure offsets are correct (each stop has one and they are correctly ordered temporally)\n",
    "    - does not have self loops (there are no trips such as: Stop A -> Stop A)\n",
    "    \n",
    "    If a route satisfies the above `is_valid_route` is `True`. If not, the `invalid_stages` flag where the route\n",
    "    did not satisfy validity conditions.\n",
    "\n",
    "(Nb. The same dictionary can be generated by using `Schedule` object's own `generate_validation_report` method.)\n"
   ]
  },
  {
   "cell_type": "code",
   "execution_count": 4,
   "metadata": {
    "ExecuteTime": {
     "end_time": "2021-03-31T10:58:01.760298Z",
     "start_time": "2021-03-31T10:58:01.677236Z"
    }
   },
   "outputs": [
    {
     "name": "stdout",
     "output_type": "stream",
     "text": [
      "{'route_level': {'12430': {'VJ06420fdab0dfe5c8e7f2f9504df05cf6289cd7d3': {'invalid_stages': [],\n",
      "                                                                          'is_valid_route': True},\n",
      "                           'VJ06cd41dcd58d947097df4a8f33234ef423210154': {'invalid_stages': [],\n",
      "                                                                          'is_valid_route': True},\n",
      "                           'VJ0f3c08222de16c2e278be0a1bf0f9ea47370774e': {'invalid_stages': [],\n",
      "                                                                          'is_valid_route': True},\n",
      "                           'VJ15419796737689e742962a625abcf3fd5b3d58b1': {'invalid_stages': [],\n",
      "                                                                          'is_valid_route': True},\n",
      "                           'VJ235c8fca539cf931b3c673f9b056606384aff950': {'invalid_stages': [],\n",
      "                                                                          'is_valid_route': True},\n",
      "                           'VJ8f9aea7491080b0137d3092706f53dc11f7dba45': {'invalid_stages': [],\n",
      "                                                                          'is_valid_route': True},\n",
      "                           'VJ948e8caa0f08b9c6bf6330927893942c474b5100': {'invalid_stages': [],\n",
      "                                                                          'is_valid_route': True},\n",
      "                           'VJ95b4c534d7c903d76ec0340025aa88b81dba3ce4': {'invalid_stages': [],\n",
      "                                                                          'is_valid_route': True},\n",
      "                           'VJeae6e634f8479e0b6712780d5728f0afca964e64': {'invalid_stages': [],\n",
      "                                                                          'is_valid_route': True},\n",
      "                           'VJeb72539d69ddf8e29f1adf74d43953def196ae41': {'invalid_stages': [],\n",
      "                                                                          'is_valid_route': True},\n",
      "                           'VJef7f20c3a9bf1419f6401e1e9131fe2c634bcb9a': {'invalid_stages': [],\n",
      "                                                                          'is_valid_route': True},\n",
      "                           'VJf8e38a73359b6cf743d8e35ee64ef1f7b7914daa': {'invalid_stages': [],\n",
      "                                                                          'is_valid_route': True}},\n",
      "                 '14073': {'VJ24fe211d801738b556a39f815256d7f6bc544ec5': {'invalid_stages': [],\n",
      "                                                                          'is_valid_route': True},\n",
      "                           'VJ6cf76a4c03cca468cb6954db7f7aad5ae189df13': {'invalid_stages': [],\n",
      "                                                                          'is_valid_route': True},\n",
      "                           'VJ93d8207ae8540b4ff59d47c9ee1ec5689084522d': {'invalid_stages': [],\n",
      "                                                                          'is_valid_route': True},\n",
      "                           'VJaa5ee0daec7529d7668c81fe7fac0c4ff545daea': {'invalid_stages': [],\n",
      "                                                                          'is_valid_route': True},\n",
      "                           'VJb4309b7a9598539ab9942ea1bcadc60a91b978ba': {'invalid_stages': [],\n",
      "                                                                          'is_valid_route': True},\n",
      "                           'VJc8cdbd902dadeebeeb4dbd7332b564ee2e4b00ce': {'invalid_stages': [],\n",
      "                                                                          'is_valid_route': True},\n",
      "                           'VJd132b905afc6c0e8e8a994142e301ca5c0f70e22': {'invalid_stages': [],\n",
      "                                                                          'is_valid_route': True},\n",
      "                           'VJd9dbeefeca6d74ef2594a17514ebc08ee2d503b2': {'invalid_stages': [],\n",
      "                                                                          'is_valid_route': True},\n",
      "                           'VJdbc280077e505b4f8d66586ca51751a125cb4ef0': {'invalid_stages': [],\n",
      "                                                                          'is_valid_route': True},\n",
      "                           'VJe18efadf172576fea7989ec1f233f26854c0f66a': {'invalid_stages': [],\n",
      "                                                                          'is_valid_route': True},\n",
      "                           'VJe6ba07ef9f19ae40517261ad626bf34dd656491a': {'invalid_stages': [],\n",
      "                                                                          'is_valid_route': True},\n",
      "                           'VJe8cffad09738ff7b9698b333e3247918d5c45358': {'invalid_stages': [],\n",
      "                                                                          'is_valid_route': True},\n",
      "                           'VJea6046f64f85febf1854290fb8f76e921e3ac96b': {'invalid_stages': [],\n",
      "                                                                          'is_valid_route': True},\n",
      "                           'VJf6055fdf9ef0dd6d0500b6c11adcfdd4d10655dc': {'invalid_stages': [],\n",
      "                                                                          'is_valid_route': True},\n",
      "                           'VJfc35884fc4f11dc408a209c19f56f3b60f634daf': {'invalid_stages': [],\n",
      "                                                                          'is_valid_route': True}},\n",
      "                 '14134': {'VJ12ba6089dfb2733e29c415a1a0015fef30fd5305': {'invalid_stages': [],\n",
      "                                                                          'is_valid_route': True},\n",
      "                           'VJ256e98df611ff48afe737ddc81cbcde82e4e81c8': {'invalid_stages': [],\n",
      "                                                                          'is_valid_route': True},\n",
      "                           'VJ26095b8f9f9db92ca2e53d4c086a7dcd82a13be9': {'invalid_stages': [],\n",
      "                                                                          'is_valid_route': True},\n",
      "                           'VJ2aba67e3ed98f2ed5f5966c1ac394cbf6d1943d7': {'invalid_stages': [],\n",
      "                                                                          'is_valid_route': True},\n",
      "                           'VJ2c87b2a59184888f3175b55bde7b02d024ea8607': {'invalid_stages': [],\n",
      "                                                                          'is_valid_route': True},\n",
      "                           'VJ323d02e117552af1565f2ff1273a612655c829c4': {'invalid_stages': [],\n",
      "                                                                          'is_valid_route': True},\n",
      "                           'VJ4c6fa387b0d4be94a6c3679b94790b183e2558ca': {'invalid_stages': [],\n",
      "                                                                          'is_valid_route': True},\n",
      "                           'VJ4e2b897edf0e7b8a8e3b5516ab43ce56f72c5cff': {'invalid_stages': [],\n",
      "                                                                          'is_valid_route': True},\n",
      "                           'VJ4e311a625836374adf4cfaa841224840dbeb7619': {'invalid_stages': [],\n",
      "                                                                          'is_valid_route': True},\n",
      "                           'VJ5909ba51575a9459eb0013fbd31c8205455ca2fd': {'invalid_stages': [],\n",
      "                                                                          'is_valid_route': True},\n",
      "                           'VJa7f37392e276aeac26c7e73bbc05e6a71af38dba': {'invalid_stages': [],\n",
      "                                                                          'is_valid_route': True},\n",
      "                           'VJb93a17a405fe502c5b3a2d6544105b0311da9fe2': {'invalid_stages': [],\n",
      "                                                                          'is_valid_route': True},\n",
      "                           'VJd78967364a302cf232c5139d40622dcb6c238c9e': {'invalid_stages': [],\n",
      "                                                                          'is_valid_route': True},\n",
      "                           'VJdb0c128567fcbcc063d554ae1c95851cee41b909': {'invalid_stages': [],\n",
      "                                                                          'is_valid_route': True},\n",
      "                           'VJdf3936da1a51eb33db594ef99738802c14b19995': {'invalid_stages': [],\n",
      "                                                                          'is_valid_route': True},\n",
      "                           'VJf9a22035ae6f25bb420df833474943ad76065c89': {'invalid_stages': [],\n",
      "                                                                          'is_valid_route': True}},\n",
      "                 '15234': {'VJ1a8cc306354fdc322d739ae644eb73444341d08d': {'invalid_stages': [],\n",
      "                                                                          'is_valid_route': True},\n",
      "                           'VJ28a8a6a4ab02807a4fdfd199e5c2ca0622d34d0c': {'invalid_stages': [],\n",
      "                                                                          'is_valid_route': True},\n",
      "                           'VJ3d50b96792ae8495dbe5a5e372849a60c48b2279': {'invalid_stages': [],\n",
      "                                                                          'is_valid_route': True},\n",
      "                           'VJ5b511605b1e07428c2e0a7d676d301c6c40dcca6': {'invalid_stages': [],\n",
      "                                                                          'is_valid_route': True},\n",
      "                           'VJ652c769bc42361cc0308dff59a1fdcf0949bdade': {'invalid_stages': [],\n",
      "                                                                          'is_valid_route': True},\n",
      "                           'VJ8ccf92aa0f351b2e31f1a078b968dff4c2505c02': {'invalid_stages': [],\n",
      "                                                                          'is_valid_route': True},\n",
      "                           'VJ9b58a59e3d74941586a5bca7726a8aa624da67fc': {'invalid_stages': [],\n",
      "                                                                          'is_valid_route': True},\n",
      "                           'VJbf9d4fdb976223e6a026c0c669ed290418abefee': {'invalid_stages': [],\n",
      "                                                                          'is_valid_route': True},\n",
      "                           'VJd4cbfb092a104ac6a3164a86e9765f68734fdfcf': {'invalid_stages': [],\n",
      "                                                                          'is_valid_route': True}},\n",
      "                 '15660': {'VJ1cf651142378958b52229bfe1fa552e49136e60e': {'invalid_stages': [],\n",
      "                                                                          'is_valid_route': True},\n",
      "                           'VJ3716910ec59c370d9f5c69137df7276b68cf0a08': {'invalid_stages': [],\n",
      "                                                                          'is_valid_route': True},\n",
      "                           'VJf2e0de4f5dad68cb03064e6064e372dde52cc678': {'invalid_stages': [],\n",
      "                                                                          'is_valid_route': True}},\n",
      "                 '17732': {'VJ0cb60de3ed229c1413abac506e770b6ab8a7c49a': {'invalid_stages': [],\n",
      "                                                                          'is_valid_route': True},\n",
      "                           'VJ85c23573d670bab5485618b0c5fddff3314efc89': {'invalid_stages': [],\n",
      "                                                                          'is_valid_route': True}},\n",
      "                 '18853': {'VJ8cacca9a6722c497c413005568182ecf4d50b160': {'invalid_stages': [],\n",
      "                                                                          'is_valid_route': True},\n",
      "                           'VJf3e316e5e605bb512147dee2a989be5a82ef1b5f': {'invalid_stages': [],\n",
      "                                                                          'is_valid_route': True},\n",
      "                           'VJfc4917783c2ca3227789fa7c532c9adf47702095': {'invalid_stages': [],\n",
      "                                                                          'is_valid_route': True}},\n",
      "                 '18915': {'VJ0d304b95d39f4bce48e6ff26ddd73a9c06f17f4f': {'invalid_stages': [],\n",
      "                                                                          'is_valid_route': True},\n",
      "                           'VJ520ec0c0ca58a849349fa614b5cf9270ac5c93da': {'invalid_stages': [],\n",
      "                                                                          'is_valid_route': True},\n",
      "                           'VJ887921c00645929c5402ac46592e57c368ea63a1': {'invalid_stages': [],\n",
      "                                                                          'is_valid_route': True},\n",
      "                           'VJ8a4b1ca7dfd0a130abd1de9f55f3b756617dd4ca': {'invalid_stages': [],\n",
      "                                                                          'is_valid_route': True},\n",
      "                           'VJb08f8a2de01a4ef99d3b7fefd9022117ac307531': {'invalid_stages': [],\n",
      "                                                                          'is_valid_route': True}},\n",
      "                 '20274': {'VJ375a660d47a2aa570aa20a8568012da8497ffecf': {'invalid_stages': [],\n",
      "                                                                          'is_valid_route': True},\n",
      "                           'VJ6c64ab7b477e201cae950efde5bd0cb4e2e8888e': {'invalid_stages': [],\n",
      "                                                                          'is_valid_route': True},\n",
      "                           'VJ812fad65e7fa418645b57b446f00cba573f2cdaf': {'invalid_stages': [],\n",
      "                                                                          'is_valid_route': True}}},\n",
      " 'schedule_level': {'has_valid_services': True,\n",
      "                    'invalid_services': [],\n",
      "                    'invalid_stages': [],\n",
      "                    'is_valid_schedule': True},\n",
      " 'service_level': {'12430': {'has_valid_routes': True,\n",
      "                             'invalid_routes': [],\n",
      "                             'invalid_stages': [],\n",
      "                             'is_valid_service': True},\n",
      "                   '14073': {'has_valid_routes': True,\n",
      "                             'invalid_routes': [],\n",
      "                             'invalid_stages': [],\n",
      "                             'is_valid_service': True},\n",
      "                   '14134': {'has_valid_routes': True,\n",
      "                             'invalid_routes': [],\n",
      "                             'invalid_stages': [],\n",
      "                             'is_valid_service': True},\n",
      "                   '15234': {'has_valid_routes': True,\n",
      "                             'invalid_routes': [],\n",
      "                             'invalid_stages': [],\n",
      "                             'is_valid_service': True},\n",
      "                   '15660': {'has_valid_routes': True,\n",
      "                             'invalid_routes': [],\n",
      "                             'invalid_stages': [],\n",
      "                             'is_valid_service': True},\n",
      "                   '17732': {'has_valid_routes': True,\n",
      "                             'invalid_routes': [],\n",
      "                             'invalid_stages': [],\n",
      "                             'is_valid_service': True},\n",
      "                   '18853': {'has_valid_routes': True,\n",
      "                             'invalid_routes': [],\n",
      "                             'invalid_stages': [],\n",
      "                             'is_valid_service': True},\n",
      "                   '18915': {'has_valid_routes': True,\n",
      "                             'invalid_routes': [],\n",
      "                             'invalid_stages': [],\n",
      "                             'is_valid_service': True},\n",
      "                   '20274': {'has_valid_routes': True,\n",
      "                             'invalid_routes': [],\n",
      "                             'invalid_stages': [],\n",
      "                             'is_valid_service': True}}}\n"
     ]
    }
   ],
   "source": [
    "pprint(report['schedule'])"
   ]
  },
  {
   "cell_type": "markdown",
   "metadata": {},
   "source": [
    "Finally, the `routing` section describes routing of the transit schedule services onto the network graph.\n",
    "- `services_have_routes_in_the_graph`: all routes have network routes and the links they refer to exist in the graph,\n",
    "are connected (to nodes of preceding link is the from node of the next link in the chain) and the `modes` saved on the\n",
    "link data accept the mode of the route.\n",
    "- `service_routes_with_invalid_network_route`: flags routes not satifying the above,\n",
    "- `route_to_crow_fly_ratio`: gives ratio of the length of route to crow-fly distance between each of the stops along \n",
    "route. If the route is invalid, it will result in 0. If the route has only one stop it will result in \n",
    "`'Division by zero'`."
   ]
  },
  {
   "cell_type": "code",
   "execution_count": 5,
   "metadata": {
    "ExecuteTime": {
     "end_time": "2021-03-31T10:58:01.814961Z",
     "start_time": "2021-03-31T10:58:01.784600Z"
    }
   },
   "outputs": [
    {
     "name": "stdout",
     "output_type": "stream",
     "text": [
      "{'route_to_crow_fly_ratio': {'12430': {'VJ06420fdab0dfe5c8e7f2f9504df05cf6289cd7d3': 0.846235591692864,\n",
      "                                       'VJ06cd41dcd58d947097df4a8f33234ef423210154': 0.846235591692864,\n",
      "                                       'VJ0f3c08222de16c2e278be0a1bf0f9ea47370774e': 0.6847798803333932,\n",
      "                                       'VJ15419796737689e742962a625abcf3fd5b3d58b1': 0.846235591692864,\n",
      "                                       'VJ235c8fca539cf931b3c673f9b056606384aff950': 0.6847798803333932,\n",
      "                                       'VJ8f9aea7491080b0137d3092706f53dc11f7dba45': 0.6847798803333932,\n",
      "                                       'VJ948e8caa0f08b9c6bf6330927893942c474b5100': 0.6847798803333932,\n",
      "                                       'VJ95b4c534d7c903d76ec0340025aa88b81dba3ce4': 0.6847798803333932,\n",
      "                                       'VJeae6e634f8479e0b6712780d5728f0afca964e64': 0.846235591692864,\n",
      "                                       'VJeb72539d69ddf8e29f1adf74d43953def196ae41': 0.846235591692864,\n",
      "                                       'VJef7f20c3a9bf1419f6401e1e9131fe2c634bcb9a': 0.6847798803333932,\n",
      "                                       'VJf8e38a73359b6cf743d8e35ee64ef1f7b7914daa': 0.846235591692864},\n",
      "                             '14073': {'VJ24fe211d801738b556a39f815256d7f6bc544ec5': 0.8207362718554999,\n",
      "                                       'VJ6cf76a4c03cca468cb6954db7f7aad5ae189df13': 0.9185129454449271,\n",
      "                                       'VJ93d8207ae8540b4ff59d47c9ee1ec5689084522d': 0.8207362718554999,\n",
      "                                       'VJaa5ee0daec7529d7668c81fe7fac0c4ff545daea': 0.8207362718554999,\n",
      "                                       'VJb4309b7a9598539ab9942ea1bcadc60a91b978ba': 0.9185129454449271,\n",
      "                                       'VJc8cdbd902dadeebeeb4dbd7332b564ee2e4b00ce': 0.9185129454449271,\n",
      "                                       'VJd132b905afc6c0e8e8a994142e301ca5c0f70e22': 0.9185129454449271,\n",
      "                                       'VJd9dbeefeca6d74ef2594a17514ebc08ee2d503b2': 0.8207362718554999,\n",
      "                                       'VJdbc280077e505b4f8d66586ca51751a125cb4ef0': 0.9185129454449271,\n",
      "                                       'VJe18efadf172576fea7989ec1f233f26854c0f66a': 0.9185129454449271,\n",
      "                                       'VJe6ba07ef9f19ae40517261ad626bf34dd656491a': 0.8207362718554999,\n",
      "                                       'VJe8cffad09738ff7b9698b333e3247918d5c45358': 0.8207362718554999,\n",
      "                                       'VJea6046f64f85febf1854290fb8f76e921e3ac96b': 0.8207362718554999,\n",
      "                                       'VJf6055fdf9ef0dd6d0500b6c11adcfdd4d10655dc': 0.9185129454449271,\n",
      "                                       'VJfc35884fc4f11dc408a209c19f56f3b60f634daf': 0.9185129454449271},\n",
      "                             '14134': {'VJ12ba6089dfb2733e29c415a1a0015fef30fd5305': 0.6001713432424822,\n",
      "                                       'VJ256e98df611ff48afe737ddc81cbcde82e4e81c8': 0.6001713432424822,\n",
      "                                       'VJ26095b8f9f9db92ca2e53d4c086a7dcd82a13be9': 0.6356819282334122,\n",
      "                                       'VJ2aba67e3ed98f2ed5f5966c1ac394cbf6d1943d7': 0.6001713432424822,\n",
      "                                       'VJ2c87b2a59184888f3175b55bde7b02d024ea8607': 0.6356819282334122,\n",
      "                                       'VJ323d02e117552af1565f2ff1273a612655c829c4': 0.6356819282334122,\n",
      "                                       'VJ4c6fa387b0d4be94a6c3679b94790b183e2558ca': 0.6356819282334122,\n",
      "                                       'VJ4e2b897edf0e7b8a8e3b5516ab43ce56f72c5cff': 0.6001713432424822,\n",
      "                                       'VJ4e311a625836374adf4cfaa841224840dbeb7619': 0.6356819282334122,\n",
      "                                       'VJ5909ba51575a9459eb0013fbd31c8205455ca2fd': 0.6356819282334122,\n",
      "                                       'VJa7f37392e276aeac26c7e73bbc05e6a71af38dba': 0.6001713432424822,\n",
      "                                       'VJb93a17a405fe502c5b3a2d6544105b0311da9fe2': 0.6356819282334122,\n",
      "                                       'VJd78967364a302cf232c5139d40622dcb6c238c9e': 0.6001713432424822,\n",
      "                                       'VJdb0c128567fcbcc063d554ae1c95851cee41b909': 0.6356819282334122,\n",
      "                                       'VJdf3936da1a51eb33db594ef99738802c14b19995': 0.6001713432424822,\n",
      "                                       'VJf9a22035ae6f25bb420df833474943ad76065c89': 0.6001713432424822},\n",
      "                             '15234': {'VJ1a8cc306354fdc322d739ae644eb73444341d08d': 0.542205277349309,\n",
      "                                       'VJ28a8a6a4ab02807a4fdfd199e5c2ca0622d34d0c': 0.542205277349309,\n",
      "                                       'VJ3d50b96792ae8495dbe5a5e372849a60c48b2279': 0.542205277349309,\n",
      "                                       'VJ5b511605b1e07428c2e0a7d676d301c6c40dcca6': 0.542205277349309,\n",
      "                                       'VJ652c769bc42361cc0308dff59a1fdcf0949bdade': 0.542205277349309,\n",
      "                                       'VJ8ccf92aa0f351b2e31f1a078b968dff4c2505c02': 0.542205277349309,\n",
      "                                       'VJ9b58a59e3d74941586a5bca7726a8aa624da67fc': 1.159833011264421,\n",
      "                                       'VJbf9d4fdb976223e6a026c0c669ed290418abefee': 0.542205277349309,\n",
      "                                       'VJd4cbfb092a104ac6a3164a86e9765f68734fdfcf': 0.542205277349309},\n",
      "                             '15660': {'VJ1cf651142378958b52229bfe1fa552e49136e60e': 1.328436022439322,\n",
      "                                       'VJ3716910ec59c370d9f5c69137df7276b68cf0a08': 1.328436022439322,\n",
      "                                       'VJf2e0de4f5dad68cb03064e6064e372dde52cc678': 1.8033355406925058},\n",
      "                             '17732': {'VJ0cb60de3ed229c1413abac506e770b6ab8a7c49a': 0.9589696986431446,\n",
      "                                       'VJ85c23573d670bab5485618b0c5fddff3314efc89': 1.355926006598838},\n",
      "                             '18853': {'VJ8cacca9a6722c497c413005568182ecf4d50b160': 0.8769127190510215,\n",
      "                                       'VJf3e316e5e605bb512147dee2a989be5a82ef1b5f': 0.5898795510616061,\n",
      "                                       'VJfc4917783c2ca3227789fa7c532c9adf47702095': 0.8769127190510215},\n",
      "                             '18915': {'VJ0d304b95d39f4bce48e6ff26ddd73a9c06f17f4f': 0.9589696986431446,\n",
      "                                       'VJ520ec0c0ca58a849349fa614b5cf9270ac5c93da': 1.355926006598838,\n",
      "                                       'VJ887921c00645929c5402ac46592e57c368ea63a1': 1.355926006598838,\n",
      "                                       'VJ8a4b1ca7dfd0a130abd1de9f55f3b756617dd4ca': 0.9589696986431446,\n",
      "                                       'VJb08f8a2de01a4ef99d3b7fefd9022117ac307531': 1.355926006598838},\n",
      "                             '20274': {'VJ375a660d47a2aa570aa20a8568012da8497ffecf': 0.5898572922343817,\n",
      "                                       'VJ6c64ab7b477e201cae950efde5bd0cb4e2e8888e': 0.8690449306856333,\n",
      "                                       'VJ812fad65e7fa418645b57b446f00cba573f2cdaf': 0.8690449306856333}},\n",
      " 'service_routes_with_invalid_network_route': [],\n",
      " 'services_have_routes_in_the_graph': True}\n"
     ]
    }
   ],
   "source": [
    "pprint(report['routing'])"
   ]
  },
  {
   "cell_type": "markdown",
   "metadata": {
    "ExecuteTime": {
     "end_time": "2020-12-17T12:04:37.251018Z",
     "start_time": "2020-12-17T12:04:37.236501Z"
    }
   },
   "source": [
    "The above report relies on a lot of convenience methods which can be used on their own. For example, you can list all invalid routes for the network using:"
   ]
  },
  {
   "cell_type": "code",
   "execution_count": 6,
   "metadata": {
    "ExecuteTime": {
     "end_time": "2021-03-31T10:58:01.868371Z",
     "start_time": "2021-03-31T10:58:01.829397Z"
    }
   },
   "outputs": [
    {
     "data": {
      "text/plain": [
       "[]"
      ]
     },
     "execution_count": 6,
     "metadata": {},
     "output_type": "execute_result"
    }
   ],
   "source": [
    "n.invalid_network_routes()"
   ]
  },
  {
   "cell_type": "code",
   "execution_count": 7,
   "metadata": {
    "ExecuteTime": {
     "end_time": "2021-03-31T10:58:01.935457Z",
     "start_time": "2021-03-31T10:58:01.870687Z"
    }
   },
   "outputs": [
    {
     "data": {
      "text/plain": [
       "True"
      ]
     },
     "execution_count": 7,
     "metadata": {},
     "output_type": "execute_result"
    }
   ],
   "source": [
    "n.schedule.is_valid_schedule()"
   ]
  },
  {
   "cell_type": "markdown",
   "metadata": {},
   "source": [
    "Something that is not included in the validity report (because MATSim doesn't insist on it being satified) is strong connectivity of PT. You can call `is_strongly_connected` on `Schedule` or the schedule components: `Service` and `Route`. The process uses an underlying  directed graph of stop connections (which you can access by calling `graph` method on a schedule-type element, e.g. if `s` is a `genet.Service` object, `s.graph()` will give you this directed graph))."
   ]
  },
  {
   "cell_type": "code",
   "execution_count": 8,
   "metadata": {
    "ExecuteTime": {
     "end_time": "2021-03-31T10:58:02.028814Z",
     "start_time": "2021-03-31T10:58:01.938984Z"
    }
   },
   "outputs": [
    {
     "data": {
      "text/plain": [
       "False"
      ]
     },
     "execution_count": 8,
     "metadata": {},
     "output_type": "execute_result"
    }
   ],
   "source": [
    "n.schedule.is_strongly_connected()"
   ]
  },
  {
   "cell_type": "code",
   "execution_count": 9,
   "metadata": {
    "ExecuteTime": {
     "end_time": "2021-03-31T10:58:02.071684Z",
     "start_time": "2021-03-31T10:58:02.059278Z"
    }
   },
   "outputs": [
    {
     "data": {
      "text/plain": [
       "True"
      ]
     },
     "execution_count": 9,
     "metadata": {},
     "output_type": "execute_result"
    }
   ],
   "source": [
    "n.schedule.graph().is_directed()"
   ]
  }
 ],
 "metadata": {
  "kernelspec": {
   "display_name": "genet",
   "language": "python",
   "name": "genet"
  },
  "language_info": {
   "codemirror_mode": {
    "name": "ipython",
    "version": 3
   },
   "file_extension": ".py",
   "mimetype": "text/x-python",
   "name": "python",
   "nbconvert_exporter": "python",
   "pygments_lexer": "ipython3",
   "version": "3.7.0"
  },
  "latex_envs": {
   "LaTeX_envs_menu_present": true,
   "autoclose": true,
   "autocomplete": true,
   "bibliofile": "biblio.bib",
   "cite_by": "apalike",
   "current_citInitial": 1,
   "eqLabelWithNumbers": true,
   "eqNumInitial": 1,
   "hotkeys": {
    "equation": "Ctrl-E",
    "itemize": "Ctrl-I"
   },
   "labels_anchors": false,
   "latex_user_defs": false,
   "report_style_numbering": false,
   "user_envs_cfg": false
  },
  "toc": {
   "base_numbering": 1,
   "nav_menu": {},
   "number_sections": true,
   "sideBar": true,
   "skip_h1_title": false,
   "title_cell": "Table of Contents",
   "title_sidebar": "Contents",
   "toc_cell": false,
   "toc_position": {},
   "toc_section_display": true,
   "toc_window_display": false
  },
  "varInspector": {
   "cols": {
    "lenName": 16,
    "lenType": 16,
    "lenVar": 40
   },
   "kernels_config": {
    "python": {
     "delete_cmd_postfix": "",
     "delete_cmd_prefix": "del ",
     "library": "var_list.py",
     "varRefreshCmd": "print(var_dic_list())"
    },
    "r": {
     "delete_cmd_postfix": ") ",
     "delete_cmd_prefix": "rm(",
     "library": "var_list.r",
     "varRefreshCmd": "cat(var_dic_list()) "
    }
   },
   "types_to_exclude": [
    "module",
    "function",
    "builtin_function_or_method",
    "instance",
    "_Feature"
   ],
   "window_display": false
  }
 },
 "nbformat": 4,
 "nbformat_minor": 2
}
