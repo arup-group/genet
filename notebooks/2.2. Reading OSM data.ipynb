{
 "cells": [
  {
   "cell_type": "markdown",
   "metadata": {},
   "source": [
    "# Reading OSM data"
   ]
  },
  {
   "cell_type": "code",
   "execution_count": 1,
   "metadata": {
    "ExecuteTime": {
     "end_time": "2020-12-15T17:30:48.748517Z",
     "start_time": "2020-12-15T17:30:46.437668Z"
    }
   },
   "outputs": [],
   "source": [
    "from genet import Network\n",
    "import os\n",
    "from pprint import pprint"
   ]
  },
  {
   "cell_type": "markdown",
   "metadata": {},
   "source": [
    "We again initiate an empty `Network` object."
   ]
  },
  {
   "cell_type": "code",
   "execution_count": 2,
   "metadata": {
    "ExecuteTime": {
     "end_time": "2020-12-15T17:30:49.177731Z",
     "start_time": "2020-12-15T17:30:48.750770Z"
    }
   },
   "outputs": [],
   "source": [
    "n = Network('epsg:27700')"
   ]
  },
  {
   "cell_type": "markdown",
   "metadata": {},
   "source": [
    "We use the `read_osm` method pointing at the osm file we want to read and a config defining which OSM tags to read and which modes to assign to the resulting `Network` links. For details on how to set up the config head over to the [wiki page](https://github.com/arup-group/genet/wiki/Usage:-2.2.-Reading-Data:-OSM#setting-up-the-config).\n",
    "\n",
    "GeNet ingests OSM data with .osm or .osm.pbf extensions, which can be obtained from\n",
    "\n",
    "- http://download.geofabrik.de/ for well-defined regions/countries\n",
    "- through JOSM for small subsets and saved to the aforementioned extensions"
   ]
  },
  {
   "cell_type": "code",
   "execution_count": 3,
   "metadata": {
    "ExecuteTime": {
     "end_time": "2020-12-15T17:31:05.053561Z",
     "start_time": "2020-12-15T17:30:49.180024Z"
    }
   },
   "outputs": [
    {
     "name": "stderr",
     "output_type": "stream",
     "text": [
      "2020-12-15 17:30:49,190 - Building OSM graph from file ../example_data/example.osm\n",
      "2020-12-15 17:30:49,733 - Creating networkx graph from OSM data\n",
      "2020-12-15 17:30:49,734 - OSM: Extract Nodes and Paths from OSM data\n",
      "2020-12-15 17:30:49,978 - OSM: Add each OSM way (aka, path) to the OSM graph\n",
      "2020-12-15 17:30:51,872 - Created OSM edges\n",
      "2020-12-15 17:30:56,200 - Added 8695 nodes\n",
      "2020-12-15 17:31:04,488 - Generated 802 link ids.\n",
      "2020-12-15 17:31:04,869 - Added 802 links\n",
      "2020-12-15 17:31:04,870 - Deleting isolated nodes which have no edges.\n",
      "2020-12-15 17:31:05,048 - Removed 8132 nodes.\n"
     ]
    }
   ],
   "source": [
    "n.read_osm('../example_data/example.osm', '../configs/slim_config.yml')"
   ]
  },
  {
   "cell_type": "code",
   "execution_count": 4,
   "metadata": {
    "ExecuteTime": {
     "end_time": "2020-12-15T17:31:05.064140Z",
     "start_time": "2020-12-15T17:31:05.056279Z"
    }
   },
   "outputs": [
    {
     "name": "stdout",
     "output_type": "stream",
     "text": [
      "Graph info: Name: Network graph\n",
      "Type: MultiDiGraph\n",
      "Number of nodes: 563\n",
      "Number of edges: 802\n",
      "Average in degree:   1.4245\n",
      "Average out degree:   1.4245 \n",
      "Schedule info: Schedule:\n",
      "Number of services: 0\n",
      "Number of unique routes: 0\n",
      "Number of stops: 0\n"
     ]
    }
   ],
   "source": [
    "n.print()"
   ]
  },
  {
   "cell_type": "code",
   "execution_count": 5,
   "metadata": {
    "ExecuteTime": {
     "end_time": "2020-12-15T17:31:05.367878Z",
     "start_time": "2020-12-15T17:31:05.066490Z"
    }
   },
   "outputs": [
    {
     "name": "stderr",
     "output_type": "stream",
     "text": [
      "/Users/kasia.kozlowska/pycharm_venvs/genet/lib/python3.8/site-packages/pyproj/crs/crs.py:53: FutureWarning: '+init=<authority>:<code>' syntax is deprecated. '<authority>:<code>' is the preferred initialization method. When making the change, be mindful of axis order changes: https://pyproj4.github.io/pyproj/stable/gotchas.html#axis-order-changes-in-proj-6\n",
      "  return _prepare_from_string(\" \".join(pjargs))\n",
      "/Users/kasia.kozlowska/pycharm_venvs/genet/lib/python3.8/site-packages/pyproj/crs/crs.py:53: FutureWarning: '+init=<authority>:<code>' syntax is deprecated. '<authority>:<code>' is the preferred initialization method. When making the change, be mindful of axis order changes: https://pyproj4.github.io/pyproj/stable/gotchas.html#axis-order-changes-in-proj-6\n",
      "  return _prepare_from_string(\" \".join(pjargs))\n"
     ]
    },
    {
     "data": {
      "image/png": "[encoded data removed]",
      "text/plain": [
       "<Figure size 576x576 with 1 Axes>"
      ]
     },
     "metadata": {},
     "output_type": "display_data"
    },
    {
     "data": {
      "text/plain": [
       "(<Figure size 576x576 with 1 Axes>,\n",
       " <matplotlib.axes._subplots.AxesSubplot at 0x11444f970>)"
      ]
     },
     "execution_count": 5,
     "metadata": {},
     "output_type": "execute_result"
    }
   ],
   "source": [
    "n.plot()"
   ]
  },
  {
   "cell_type": "code",
   "execution_count": 6,
   "metadata": {
    "ExecuteTime": {
     "end_time": "2020-12-15T17:31:05.379485Z",
     "start_time": "2020-12-15T17:31:05.369804Z"
    }
   },
   "outputs": [
    {
     "name": "stdout",
     "output_type": "stream",
     "text": [
      "attribute\n",
      "├── id\n",
      "├── x\n",
      "├── y\n",
      "├── lat\n",
      "├── lon\n",
      "└── s2_id\n"
     ]
    }
   ],
   "source": [
    "n.node_attribute_summary(data=False)"
   ]
  },
  {
   "cell_type": "code",
   "execution_count": 7,
   "metadata": {
    "ExecuteTime": {
     "end_time": "2020-12-15T17:31:05.410452Z",
     "start_time": "2020-12-15T17:31:05.382038Z"
    }
   },
   "outputs": [
    {
     "name": "stdout",
     "output_type": "stream",
     "text": [
      "attribute\n",
      "├── permlanes\n",
      "├── freespeed\n",
      "├── capacity\n",
      "├── oneway\n",
      "├── modes\n",
      "├── from\n",
      "├── to\n",
      "├── s2_from\n",
      "├── s2_to\n",
      "├── length\n",
      "├── attributes\n",
      "│   ├── osm:way:osmid\n",
      "│   │   ├── name\n",
      "│   │   ├── class\n",
      "│   │   └── text\n",
      "│   ├── osm:way:highway\n",
      "│   │   ├── name\n",
      "│   │   ├── class\n",
      "│   │   └── text\n",
      "│   ├── osm:way:lanes\n",
      "│   │   ├── name\n",
      "│   │   ├── class\n",
      "│   │   └── text\n",
      "│   ├── osm:way:psv\n",
      "│   │   ├── name\n",
      "│   │   ├── class\n",
      "│   │   └── text\n",
      "│   ├── osm:way:railway\n",
      "│   │   ├── name\n",
      "│   │   ├── class\n",
      "│   │   └── text\n",
      "│   ├── osm:way:tunnel\n",
      "│   │   ├── name\n",
      "│   │   ├── class\n",
      "│   │   └── text\n",
      "│   └── osm:way:access\n",
      "│       ├── name\n",
      "│       ├── class\n",
      "│       └── text\n",
      "└── id\n"
     ]
    }
   ],
   "source": [
    "n.link_attribute_summary(data=False)"
   ]
  },
  {
   "cell_type": "code",
   "execution_count": 8,
   "metadata": {
    "ExecuteTime": {
     "end_time": "2020-12-15T17:31:05.418180Z",
     "start_time": "2020-12-15T17:31:05.413668Z"
    }
   },
   "outputs": [
    {
     "data": {
      "text/plain": [
       "{'permlanes': 1.0,\n",
       " 'freespeed': 12.5,\n",
       " 'capacity': 600.0,\n",
       " 'oneway': '1',\n",
       " 'modes': ['bike', 'walk', 'car'],\n",
       " 'from': '1685938641',\n",
       " 'to': '1685938650',\n",
       " 's2_from': 5221390326939246519,\n",
       " 's2_to': 5221390326799384759,\n",
       " 'length': 46.300230884752196,\n",
       " 'attributes': {'osm:way:osmid': {'name': 'osm:way:osmid',\n",
       "   'class': 'java.lang.String',\n",
       "   'text': '235991121'},\n",
       "  'osm:way:highway': {'name': 'osm:way:highway',\n",
       "   'class': 'java.lang.String',\n",
       "   'text': 'tertiary'}},\n",
       " 'id': '1'}"
      ]
     },
     "execution_count": 8,
     "metadata": {},
     "output_type": "execute_result"
    }
   ],
   "source": [
    "n.link('1')"
   ]
  },
  {
   "cell_type": "markdown",
   "metadata": {},
   "source": [
    "#### Remark:\n",
    "A graph generated from OSM is most likely not **strongly connected** which is something that MATSim expects for the mode `car` and if using `multimodal.contrib` also for modes `walk` and `bike`."
   ]
  },
  {
   "cell_type": "code",
   "execution_count": null,
   "metadata": {},
   "outputs": [],
   "source": []
  }
 ],
 "metadata": {
  "kernelspec": {
   "display_name": "Python (genet)",
   "language": "python",
   "name": "genet"
  },
  "language_info": {
   "codemirror_mode": {
    "name": "ipython",
    "version": 3
   },
   "file_extension": ".py",
   "mimetype": "text/x-python",
   "name": "python",
   "nbconvert_exporter": "python",
   "pygments_lexer": "ipython3",
   "version": "3.8.6"
  },
  "latex_envs": {
   "LaTeX_envs_menu_present": true,
   "autoclose": true,
   "autocomplete": true,
   "bibliofile": "biblio.bib",
   "cite_by": "apalike",
   "current_citInitial": 1,
   "eqLabelWithNumbers": true,
   "eqNumInitial": 1,
   "hotkeys": {
    "equation": "Ctrl-E",
    "itemize": "Ctrl-I"
   },
   "labels_anchors": false,
   "latex_user_defs": false,
   "report_style_numbering": false,
   "user_envs_cfg": false
  },
  "toc": {
   "base_numbering": 1,
   "nav_menu": {},
   "number_sections": true,
   "sideBar": true,
   "skip_h1_title": false,
   "title_cell": "Table of Contents",
   "title_sidebar": "Contents",
   "toc_cell": false,
   "toc_position": {},
   "toc_section_display": true,
   "toc_window_display": false
  },
  "varInspector": {
   "cols": {
    "lenName": 16,
    "lenType": 16,
    "lenVar": 40
   },
   "kernels_config": {
    "python": {
     "delete_cmd_postfix": "",
     "delete_cmd_prefix": "del ",
     "library": "var_list.py",
     "varRefreshCmd": "print(var_dic_list())"
    },
    "r": {
     "delete_cmd_postfix": ") ",
     "delete_cmd_prefix": "rm(",
     "library": "var_list.r",
     "varRefreshCmd": "cat(var_dic_list()) "
    }
   },
   "types_to_exclude": [
    "module",
    "function",
    "builtin_function_or_method",
    "instance",
    "_Feature"
   ],
   "window_display": false
  }
 },
 "nbformat": 4,
 "nbformat_minor": 2
}
