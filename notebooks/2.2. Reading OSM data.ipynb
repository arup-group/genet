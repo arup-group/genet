{
 "cells": [
  {
   "cell_type": "markdown",
   "metadata": {},
   "source": [
    "# Reading OSM data"
   ]
  },
  {
   "cell_type": "code",
   "execution_count": 1,
   "metadata": {
    "ExecuteTime": {
     "end_time": "2022-06-20T15:59:50.294557Z",
     "start_time": "2022-06-20T15:59:45.550486Z"
    }
   },
   "outputs": [],
   "source": [
    "from genet import read_osm\n",
    "import os\n",
    "from pprint import pprint"
   ]
  },
  {
   "cell_type": "markdown",
   "metadata": {},
   "source": [
    "We use the `read_osm` method pointing at the osm file we want to read and a config defining which OSM tags to read and which modes to assign to the resulting `Network` links. For details on how to set up the config head over to the [wiki page](https://github.com/arup-group/genet/wiki/Usage:-2.2.-Reading-Data:-OSM#setting-up-the-config).\n",
    "\n",
    "GeNet ingests OSM data with .osm or .osm.pbf extensions, which can be obtained from\n",
    "\n",
    "- http://download.geofabrik.de/ for well-defined regions/countries\n",
    "- through JOSM for small subsets and saved to the aforementioned extensions"
   ]
  },
  {
   "cell_type": "code",
   "execution_count": 2,
   "metadata": {
    "ExecuteTime": {
     "end_time": "2022-06-20T15:59:59.215571Z",
     "start_time": "2022-06-20T15:59:50.297442Z"
    }
   },
   "outputs": [
    {
     "name": "stderr",
     "output_type": "stream",
     "text": [
      "2022-06-20 16:59:50,444 - Building OSM graph from file ../example_data/example.osm\n",
      "2022-06-20 16:59:51,087 - Creating networkx graph from OSM data\n",
      "2022-06-20 16:59:51,088 - OSM: Extract Nodes and Paths from OSM data\n",
      "2022-06-20 16:59:51,508 - OSM: Add each OSM way (aka, path) to the OSM graph\n",
      "2022-06-20 16:59:51,509 - 1 or 2 batches of size 64 ish\n",
      "2022-06-20 16:59:51,551 - Created OSM edges\n",
      "2022-06-20 16:59:51,570 - 1 or 2 batches of size 4348 ish\n",
      "2022-06-20 16:59:53,396 - Added 8695 nodes\n",
      "2022-06-20 16:59:53,398 - 2 or 3 batches of size 401 ish\n",
      "2022-06-20 16:59:58,149 - Generated 802 link ids.\n",
      "2022-06-20 16:59:58,464 - Added 802 links\n",
      "2022-06-20 16:59:58,466 - Deleting isolated nodes which have no edges.\n",
      "2022-06-20 16:59:59,174 - Removed 8132 nodes.\n"
     ]
    }
   ],
   "source": [
    "n = read_osm('../example_data/example.osm', \n",
    "             '../genet/configs/OSM/slim_config.yml',\n",
    "             num_processes=2,\n",
    "             epsg='epsg:27700'\n",
    "            )"
   ]
  },
  {
   "cell_type": "code",
   "execution_count": 3,
   "metadata": {
    "ExecuteTime": {
     "end_time": "2022-06-20T15:59:59.290622Z",
     "start_time": "2022-06-20T15:59:59.253217Z"
    }
   },
   "outputs": [
    {
     "name": "stdout",
     "output_type": "stream",
     "text": [
      "Graph info: Name: Network graph\n",
      "Type: MultiDiGraph\n",
      "Number of nodes: 563\n",
      "Number of edges: 802\n",
      "Average in degree:   1.4245\n",
      "Average out degree:   1.4245 \n",
      "Schedule info: Schedule:\n",
      "Number of services: 0\n",
      "Number of routes: 0\n",
      "Number of stops: 0\n"
     ]
    }
   ],
   "source": [
    "n.print()"
   ]
  },
  {
   "cell_type": "code",
   "execution_count": 4,
   "metadata": {
    "ExecuteTime": {
     "end_time": "2022-06-20T16:00:00.301142Z",
     "start_time": "2022-06-20T15:59:59.313394Z"
    }
   },
   "outputs": [
    {
     "name": "stderr",
     "output_type": "stream",
     "text": [
      "2022-06-20 16:59:59,318 - This Network does not have a PT schedule. Only the graph will be visualised.\n"
     ]
    },
    {
     "name": "stdout",
     "output_type": "stream",
     "text": [
      "User Guide: https://docs.kepler.gl/docs/keplergl-jupyter\n"
     ]
    },
    {
     "data": {
      "application/vnd.jupyter.widget-view+json": {
       "model_id": "921141bfca2f4ed0aa121ff3dad9697f",
       "version_major": 2,
       "version_minor": 0
      },
      "text/plain": [
       "KeplerGl(config={'version': 'v1', 'config': {'visState': {'filters': [], 'layers': [{'id': 'network_links', 't…"
      ]
     },
     "metadata": {},
     "output_type": "display_data"
    }
   ],
   "source": [
    "n.plot()"
   ]
  },
  {
   "cell_type": "code",
   "execution_count": 5,
   "metadata": {
    "ExecuteTime": {
     "end_time": "2022-06-20T16:00:00.315507Z",
     "start_time": "2022-06-20T16:00:00.303115Z"
    }
   },
   "outputs": [
    {
     "name": "stdout",
     "output_type": "stream",
     "text": [
      "attribute\n",
      "├── id\n",
      "├── x\n",
      "├── y\n",
      "├── lat\n",
      "├── lon\n",
      "└── s2_id\n"
     ]
    }
   ],
   "source": [
    "n.node_attribute_summary(data=False)"
   ]
  },
  {
   "cell_type": "code",
   "execution_count": 6,
   "metadata": {
    "ExecuteTime": {
     "end_time": "2022-06-20T16:00:00.415825Z",
     "start_time": "2022-06-20T16:00:00.317812Z"
    }
   },
   "outputs": [
    {
     "name": "stdout",
     "output_type": "stream",
     "text": [
      "attribute\n",
      "├── permlanes\n",
      "├── freespeed\n",
      "├── capacity\n",
      "├── oneway\n",
      "├── modes\n",
      "├── from\n",
      "├── to\n",
      "├── s2_from\n",
      "├── s2_to\n",
      "├── length\n",
      "├── attributes\n",
      "│   ├── osm:way:highway\n",
      "│   ├── osm:way:osmid\n",
      "│   ├── osm:way:lanes\n",
      "│   ├── osm:way:psv\n",
      "│   ├── osm:way:tunnel\n",
      "│   ├── osm:way:railway\n",
      "│   └── osm:way:access\n",
      "└── id\n"
     ]
    }
   ],
   "source": [
    "n.link_attribute_summary(data=False)"
   ]
  },
  {
   "cell_type": "code",
   "execution_count": 7,
   "metadata": {
    "ExecuteTime": {
     "end_time": "2022-06-20T16:00:00.470847Z",
     "start_time": "2022-06-20T16:00:00.433770Z"
    }
   },
   "outputs": [
    {
     "data": {
      "text/plain": [
       "{'permlanes': 1.0,\n",
       " 'freespeed': 12.5,\n",
       " 'capacity': 600.0,\n",
       " 'oneway': '1',\n",
       " 'modes': ['bike', 'walk', 'car'],\n",
       " 'from': '1852698148',\n",
       " 'to': '6187336804',\n",
       " 's2_from': 5221390326574091283,\n",
       " 's2_to': 5221390326559277251,\n",
       " 'length': 18.528167565749918,\n",
       " 'attributes': {'osm:way:highway': 'unclassified', 'osm:way:osmid': 174609676},\n",
       " 'id': '1'}"
      ]
     },
     "execution_count": 7,
     "metadata": {},
     "output_type": "execute_result"
    }
   ],
   "source": [
    "n.link('1')"
   ]
  },
  {
   "cell_type": "markdown",
   "metadata": {},
   "source": [
    "#### Remark:\n",
    "A graph generated from OSM is most likely not **strongly connected** which is something that MATSim expects for the mode `car` and if using `multimodal.contrib` also for modes `walk` and `bike`."
   ]
  }
 ],
 "metadata": {
  "kernelspec": {
   "display_name": "genet",
   "language": "python",
   "name": "genet"
  },
  "language_info": {
   "codemirror_mode": {
    "name": "ipython",
    "version": 3
   },
   "file_extension": ".py",
   "mimetype": "text/x-python",
   "name": "python",
   "nbconvert_exporter": "python",
   "pygments_lexer": "ipython3",
   "version": "3.7.7"
  },
  "latex_envs": {
   "LaTeX_envs_menu_present": true,
   "autoclose": true,
   "autocomplete": true,
   "bibliofile": "biblio.bib",
   "cite_by": "apalike",
   "current_citInitial": 1,
   "eqLabelWithNumbers": true,
   "eqNumInitial": 1,
   "hotkeys": {
    "equation": "Ctrl-E",
    "itemize": "Ctrl-I"
   },
   "labels_anchors": false,
   "latex_user_defs": false,
   "report_style_numbering": false,
   "user_envs_cfg": false
  },
  "toc": {
   "base_numbering": 1,
   "nav_menu": {},
   "number_sections": true,
   "sideBar": true,
   "skip_h1_title": false,
   "title_cell": "Table of Contents",
   "title_sidebar": "Contents",
   "toc_cell": false,
   "toc_position": {},
   "toc_section_display": true,
   "toc_window_display": false
  },
  "varInspector": {
   "cols": {
    "lenName": 16,
    "lenType": 16,
    "lenVar": 40
   },
   "kernels_config": {
    "python": {
     "delete_cmd_postfix": "",
     "delete_cmd_prefix": "del ",
     "library": "var_list.py",
     "varRefreshCmd": "print(var_dic_list())"
    },
    "r": {
     "delete_cmd_postfix": ") ",
     "delete_cmd_prefix": "rm(",
     "library": "var_list.r",
     "varRefreshCmd": "cat(var_dic_list()) "
    }
   },
   "types_to_exclude": [
    "module",
    "function",
    "builtin_function_or_method",
    "instance",
    "_Feature"
   ],
   "window_display": false
  }
 },
 "nbformat": 4,
 "nbformat_minor": 2
}
