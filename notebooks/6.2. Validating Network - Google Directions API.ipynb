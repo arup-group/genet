{
 "cells": [
  {
   "cell_type": "markdown",
   "metadata": {},
   "source": [
    "# Using Google Directions API for speed calculation\n",
    "\n",
    "You can generate and send google directions API requests based on the network. The process will create a 'car' modal\n",
    "subgraph and generate API requests for all edges in the subgraph. The number of requests is at most the number of edges\n",
    "in the subgraph. The process simplifies edges using `osmnx` library's method to extract a chains of nodes with no\n",
    "intersections, in this way reducing the number of requests. If your graph is already simplified, the number of requests\n",
    "will be equal to the number of edges."
   ]
  },
  {
   "cell_type": "code",
   "execution_count": 1,
   "metadata": {},
   "outputs": [
    {
     "name": "stderr",
     "output_type": "stream",
     "text": [
      "/Applications/anaconda3/envs/genet/lib/python3.7/site-packages/geopandas/_compat.py:110: UserWarning: The Shapely GEOS version (3.8.0-CAPI-1.13.1 ) is incompatible with the GEOS version PyGEOS was compiled with (3.10.0-CAPI-1.16.0). Conversions between both will be slow.\n",
      "  shapely_geos_version, geos_capi_version_string\n"
     ]
    }
   ],
   "source": [
    "from genet import read_matsim, google_directions\n",
    "import genet\n",
    "from genet.utils.persistence import ensure_dir\n",
    "\n",
    "import numpy as np\n",
    "import geopandas as gpd\n",
    "import json\n",
    "import pandas as pd\n",
    "import ast\n",
    "import os\n",
    "import itertools\n",
    "import logging\n",
    "import osmnx as ox\n",
    "import polyline\n",
    "from shapely.geometry import LineString\n",
    "\n",
    "# !pip3 install momepy\n",
    "import momepy"
   ]
  },
  {
   "cell_type": "markdown",
   "metadata": {},
   "source": [
    "## 1. Creating requests"
   ]
  },
  {
   "cell_type": "markdown",
   "metadata": {},
   "source": [
    "First of all, we need to read in the network for which the requests are being generated"
   ]
  },
  {
   "cell_type": "code",
   "execution_count": 49,
   "metadata": {},
   "outputs": [
    {
     "name": "stdout",
     "output_type": "stream",
     "text": [
      "Graph info: Name: Network graph\n",
      "Type: MultiDiGraph\n",
      "Number of nodes: 1662\n",
      "Number of edges: 3166\n",
      "Average in degree:   1.9049\n",
      "Average out degree:   1.9049 \n",
      "Schedule info: Schedule:\n",
      "Number of services: 9\n",
      "Number of routes: 68\n",
      "Number of stops: 45\n"
     ]
    }
   ],
   "source": [
    "path_to_matsim_network = '../example_data/pt2matsim_network'\n",
    "\n",
    "network = os.path.join(path_to_matsim_network, 'network.xml')\n",
    "schedule = os.path.join(path_to_matsim_network, 'schedule.xml')\n",
    "vehicles = os.path.join(path_to_matsim_network, 'vehicles.xml')\n",
    "\n",
    "n = read_matsim(\n",
    "    path_to_network=network, \n",
    "    epsg='epsg:27700', \n",
    "    path_to_schedule=schedule, \n",
    "    path_to_vehicles=vehicles\n",
    ")\n",
    "\n",
    "# you don't need to read the vehicles file, but doing so ensures all vehicles in the schedule \n",
    "# are of the expected type and the definition of the vehicle is preserved\n",
    "n.print()"
   ]
  },
  {
   "cell_type": "markdown",
   "metadata": {},
   "source": [
    "Next we define the function to generate requests; it takes as input the network and the list of osm tags"
   ]
  },
  {
   "cell_type": "code",
   "execution_count": 3,
   "metadata": {},
   "outputs": [],
   "source": [
    "# osm_tags = takes a list of osm tags to filter the network on, e.g. ['primary', 'secondary', 'tertiary']\n",
    "\n",
    "def generate_requests(n, osm_tags):\n",
    "    subgraph = n.subgraph_on_link_conditions(\n",
    "            conditions = [\n",
    "                {'attributes': {'osm:way:highway': {'text': osm_tags}}},\n",
    "                {'modes' : 'car'}],\n",
    "            how = all, \n",
    "            mixed_dtypes = True)\n",
    "\n",
    "    simple_paths = list(ox.simplification._get_paths_to_simplify(subgraph))\n",
    "    node_diff = set(subgraph.nodes) - set(itertools.chain.from_iterable(simple_paths))\n",
    "    non_simplified_edges = set(subgraph.out_edges(node_diff)) | set(subgraph.in_edges(node_diff))\n",
    "    all_paths = list(non_simplified_edges) + simple_paths\n",
    "\n",
    "    api_requests = {}\n",
    "\n",
    "    for path in all_paths:\n",
    "        request_nodes = (path[0], path[-1])\n",
    "        api_requests[request_nodes] = {\n",
    "            'path_nodes': path,\n",
    "            'path_polyline': polyline.encode([(n.node(node)['lat'], n.node(node)['lon']) for node in path]),\n",
    "            'origin': n.node(request_nodes[0]),\n",
    "            'destination': n.node(request_nodes[1])}\n",
    "\n",
    "    return api_requests"
   ]
  },
  {
   "cell_type": "markdown",
   "metadata": {},
   "source": [
    "Let's create requests to get speed information for the main roads, print the number of requests, and save requests in a json file."
   ]
  },
  {
   "cell_type": "code",
   "execution_count": 16,
   "metadata": {},
   "outputs": [
    {
     "name": "stderr",
     "output_type": "stream",
     "text": [
      "2021-11-23 10:05:34,682 - Saving Google Directions API requests to ../example_data/\n"
     ]
    },
    {
     "name": "stdout",
     "output_type": "stream",
     "text": [
      "136\n"
     ]
    }
   ],
   "source": [
    "primary_tags = ['motorway', 'trunk', 'motorway,trunk', 'M50', 'primary']\n",
    "requests = generate_requests(n, primary_tags)\n",
    "print(len(requests))\n",
    "\n",
    "genet.utils.google_directions.dump_all_api_requests_to_json(requests, '../example_data/', 'api_requests_send.json')"
   ]
  },
  {
   "cell_type": "markdown",
   "metadata": {},
   "source": [
    "136 requests were generated. The number of requests to be sent is important as it will influence the cost of Google Directions API. Current pricing can be found here: https://developers.google.com/maps/documentation/directions/usage-and-billing\n",
    "\n",
    "It can be useful to visualise the requests before sending them, to confirm that they are as expected. Section 5 explains how to visualise requests you generate and results you receive from the API using Kepler. "
   ]
  },
  {
   "cell_type": "markdown",
   "metadata": {},
   "source": [
    "## 2. Sending requests"
   ]
  },
  {
   "cell_type": "markdown",
   "metadata": {},
   "source": [
    "### 2.1 Sending requests created in Section 1"
   ]
  },
  {
   "cell_type": "markdown",
   "metadata": {},
   "source": [
    "To send requests to Google Direction API you need a key [(read more here)](https://developers.google.com/maps/documentation/directions/start). After obtaining a key, you can either pass it to the elevant function directly"
   ]
  },
  {
   "cell_type": "code",
   "execution_count": 9,
   "metadata": {},
   "outputs": [],
   "source": [
    "# Specify your own key\n",
    "api_key = 'YOUR_API_KEY'"
   ]
  },
  {
   "cell_type": "code",
   "execution_count": 17,
   "metadata": {},
   "outputs": [],
   "source": [
    "# Read in the API requests generated in the previous section\n",
    "path = '../example_data/api_requests_send.json'\n",
    "api_requests = genet.utils.google_directions.read_api_requests(path)"
   ]
  },
  {
   "cell_type": "markdown",
   "metadata": {},
   "source": [
    "Before we send the requests, we need to specify the time of departure:\n",
    "- `None` to get duration based on road network and average time-independent traffic conditions\n",
    "- `now` for current time\n",
    "- Time in the future as an integer in seconds since midnight, January 1, 1970 UTC, i.e. unix time (this website is useful for converting to unix time https://www.epochconverter.com )\n",
    "\n",
    "More details about `departure_time` parameter can be found here: https://developers.google.com/maps/documentation/directions/get-directions#departure_time\n",
    "\n",
    "If you set `departure_time` parameter to `now` or a time in the future, you can also specify the `traffic_model` parameter:\n",
    "- `best_guess` (default): indicates that the returned duration_in_traffic should be the best estimate of travel time given what is known about both historical traffic conditions and live traffic. Live traffic becomes more important the closer the departure_time is to now.\n",
    "- `pessimistic`: indicates that the returned duration_in_traffic should be longer than the actual travel time on most days, though occasional days with particularly bad traffic conditions may exceed this value.\n",
    "- `optimistic`: indicates that the returned duration_in_traffic should be shorter than the actual travel time on most days, though occasional days with particularly good traffic conditions may be faster than this value.\n",
    "\n",
    "More details about `traffic_model` parameter can be found here: https://developers.google.com/maps/documentation/directions/get-directions#traffic_model"
   ]
  },
  {
   "cell_type": "code",
   "execution_count": 18,
   "metadata": {},
   "outputs": [],
   "source": [
    "# You may want to set a limit on the number of requests you are happy to send, to avoid excess costs if there is a mistake\n",
    "lim = 136\n",
    "\n",
    "if len(api_requests) < lim:\n",
    "    output_dir = '../example_data/example_google_speed_data/'\n",
    "    filename = 'api_requests.geojson'\n",
    "\n",
    "    logging.info('Sending API requests')\n",
    "    api_requests = genet.google_directions.send_requests(api_requests=api_requests,\n",
    "                                                         departure_time=1665563400,\n",
    "                                                         traffic_model='best_guess',\n",
    "                                                         key=api_key)      \n",
    "\n",
    "    logging.info('Parsing API requests')\n",
    "    api_requests = genet.google_directions.parse_results(api_requests=api_requests)\n",
    "\n",
    "    logging.info('Saving API requests')\n",
    "    genet.google_directions.dump_all_api_requests_to_json(api_requests=api_requests, \n",
    "                                                          output_dir=output_dir, \n",
    "                                                          output_file_name=filename)"
   ]
  },
  {
   "cell_type": "markdown",
   "metadata": {},
   "source": [
    "This method will save derived results in the output directory provided, an example can be found here: \n",
    "`../example_data/example_google_speed_data`. \n",
    "\n",
    "It comprises of the google polyline of the response and speed derived from distance and time taken to travel as well as information that was generated in order to make the response such as the node IDs in the network for which this response holds, the `path_nodes` which denote any extra nodes from the non-simplified chain of nodes/edges in the request, the polyline of the network path, encoded using the same polyline encoding as the Google request polyline; as well as spatial information about the origin and destination of the request and timestamp."
   ]
  },
  {
   "cell_type": "markdown",
   "metadata": {},
   "source": [
    "### 2.2 Generating and sending requests in one step"
   ]
  },
  {
   "cell_type": "markdown",
   "metadata": {},
   "source": [
    "The steps described above give you flexibility in choosing the parts of the network for which you want to send the requests. If you are happy to send the requests for the whole network, you can skip sections 1 and 2.1 and go straight to the steps below (you still need to load the network first).\n",
    "\n",
    "If you know the API key, you can specify it in the function call:"
   ]
  },
  {
   "cell_type": "raw",
   "metadata": {},
   "source": [
    "api_requests = ggoogle_directions.send_requests_for_network(\n",
    "    n=n, \n",
    "    request_number_threshold=3000,\n",
    "    key='API_key',\n",
    "    output_dir='../example_data/example_google_speed_data',\n",
    "    departure_time='now'\n",
    ")"
   ]
  },
  {
   "cell_type": "markdown",
   "metadata": {},
   "source": [
    "Or set it as an environmental variable called `GOOGLE_DIR_API_KEY`, if using command line: `$ export GOOGLE_DIR_API_KEY='key'`"
   ]
  },
  {
   "cell_type": "raw",
   "metadata": {},
   "source": [
    "api_requests = google_directions.send_requests_for_network(\n",
    "    n=n, \n",
    "    request_number_threshold=3000,\n",
    "    output_dir='../example_data/example_google_speed_data',\n",
    "    departure_time='now'\n",
    ")"
   ]
  },
  {
   "cell_type": "markdown",
   "metadata": {},
   "source": [
    "If you use AWS, you can also store the key in the `Secrets Manager` [(read more here)](https://aws.amazon.com/secrets-manager/)\n",
    "authenticate to your AWS account and then pass the `secret_name` and `region_name` to the `send_requests_for_network` \n",
    "method:"
   ]
  },
  {
   "cell_type": "raw",
   "metadata": {},
   "source": [
    "api_requests = google_directions.send_requests_for_network(\n",
    "    n=_n, \n",
    "    request_number_threshold=3000,\n",
    "    output_dir='../example_data/example_google_speed_data',\n",
    "    departure_time='now',\n",
    "    secret_name='secret_name', \n",
    "    region_name='region_name'\n",
    ")"
   ]
  },
  {
   "cell_type": "markdown",
   "metadata": {},
   "source": [
    "## 3. Processing the requests"
   ]
  },
  {
   "cell_type": "markdown",
   "metadata": {},
   "source": [
    "### 3.1 Attaching the speed values from requests to the network"
   ]
  },
  {
   "cell_type": "markdown",
   "metadata": {},
   "source": [
    "Once the request results have been received, you can read them in from the output directory you specified. "
   ]
  },
  {
   "cell_type": "code",
   "execution_count": 50,
   "metadata": {
    "ExecuteTime": {
     "end_time": "2021-03-31T10:58:49.396915Z",
     "start_time": "2021-03-31T10:58:49.387803Z"
    }
   },
   "outputs": [],
   "source": [
    "api_requests = google_directions.read_api_requests('../example_data/example_google_speed_data/api_requests.json')"
   ]
  },
  {
   "cell_type": "code",
   "execution_count": 51,
   "metadata": {
    "ExecuteTime": {
     "end_time": "2021-03-31T10:58:49.410240Z",
     "start_time": "2021-03-31T10:58:49.400269Z"
    }
   },
   "outputs": [
    {
     "data": {
      "text/plain": [
       "{('9791490', '4698712638'): {'path_nodes': ('9791490', '4698712638'),\n",
       "  'path_polyline': 'mvmyHpqYb@lA',\n",
       "  'origin': {'id': '9791490',\n",
       "   'x': 529414.5591563961,\n",
       "   'y': 181898.4902840198,\n",
       "   'lat': 51.5211862,\n",
       "   'lon': -0.1360879,\n",
       "   's2_id': 5221390682074967291},\n",
       "  'destination': {'id': '4698712638',\n",
       "   'x': 529387.9166476472,\n",
       "   'y': 181877.74867097137,\n",
       "   'lat': 51.5210059,\n",
       "   'lon': -0.1364793,\n",
       "   's2_id': 5221390682013665023},\n",
       "  'timestamp': 1594385229.635254,\n",
       "  'parsed_response': {'google_speed': 6.8, 'google_polyline': 'mvmyHpqYb@pA'}}}"
      ]
     },
     "execution_count": 51,
     "metadata": {},
     "output_type": "execute_result"
    }
   ],
   "source": [
    "api_requests"
   ]
  },
  {
   "cell_type": "markdown",
   "metadata": {},
   "source": [
    "Once you have results, you can attach them to the network. This will create a dictionary of non-simplified edges to which the response data applies."
   ]
  },
  {
   "cell_type": "code",
   "execution_count": 27,
   "metadata": {
    "ExecuteTime": {
     "end_time": "2021-03-31T10:58:49.432178Z",
     "start_time": "2021-03-31T10:58:49.426673Z"
    }
   },
   "outputs": [],
   "source": [
    "google_edge_data = google_directions.map_results_to_edges(api_requests)"
   ]
  },
  {
   "cell_type": "code",
   "execution_count": 28,
   "metadata": {
    "ExecuteTime": {
     "end_time": "2021-03-31T10:58:49.440878Z",
     "start_time": "2021-03-31T10:58:49.433969Z"
    }
   },
   "outputs": [
    {
     "data": {
      "text/plain": [
       "{('9791490', '4698712638'): {'google_speed': 6.8,\n",
       "  'google_polyline': 'mvmyHpqYb@pA'}}"
      ]
     },
     "execution_count": 28,
     "metadata": {},
     "output_type": "execute_result"
    }
   ],
   "source": [
    "google_edge_data"
   ]
  },
  {
   "cell_type": "code",
   "execution_count": 29,
   "metadata": {
    "ExecuteTime": {
     "end_time": "2021-03-31T10:58:49.458866Z",
     "start_time": "2021-03-31T10:58:49.446984Z"
    }
   },
   "outputs": [
    {
     "data": {
      "text/plain": [
       "{0: {'id': '596',\n",
       "  'from': '9791490',\n",
       "  'to': '4698712638',\n",
       "  'freespeed': 4.166666666666667,\n",
       "  'capacity': 600.0,\n",
       "  'permlanes': 1.0,\n",
       "  'oneway': '1',\n",
       "  'modes': {'car'},\n",
       "  's2_from': 5221390682074967269,\n",
       "  's2_to': 5221390682013665025,\n",
       "  'attributes': {'osm:way:access': {'name': 'osm:way:access',\n",
       "    'class': 'java.lang.String',\n",
       "    'text': 'no'},\n",
       "   'osm:way:highway': {'name': 'osm:way:highway',\n",
       "    'class': 'java.lang.String',\n",
       "    'text': 'unclassified'},\n",
       "   'osm:way:id': {'name': 'osm:way:id',\n",
       "    'class': 'java.lang.Long',\n",
       "    'text': '476247613'},\n",
       "   'osm:way:name': {'name': 'osm:way:name',\n",
       "    'class': 'java.lang.String',\n",
       "    'text': 'Chitty Street'}},\n",
       "  'length': 33.76444553419279}}"
      ]
     },
     "execution_count": 29,
     "metadata": {},
     "output_type": "execute_result"
    }
   ],
   "source": [
    "n.edge('9791490', '4698712638')"
   ]
  },
  {
   "cell_type": "markdown",
   "metadata": {},
   "source": [
    "If we're working with a network that may have multiple edges between the same pair of nodes, we can restrict the links to which the data will be applied by specifying a modal condition, so that at least only links allowing cars will inherit this data."
   ]
  },
  {
   "cell_type": "code",
   "execution_count": 30,
   "metadata": {
    "ExecuteTime": {
     "end_time": "2021-03-31T10:58:49.473617Z",
     "start_time": "2021-03-31T10:58:49.460920Z"
    }
   },
   "outputs": [],
   "source": [
    "def modal_condition(value):\n",
    "    return 'car' in value"
   ]
  },
  {
   "cell_type": "code",
   "execution_count": 31,
   "metadata": {},
   "outputs": [
    {
     "name": "stderr",
     "output_type": "stream",
     "text": [
      "2021-11-23 10:31:48,717 - Changed Edge attributes for 1 edges\n"
     ]
    }
   ],
   "source": [
    "n.apply_attributes_to_edges(google_edge_data, conditions={'modes': modal_condition})"
   ]
  },
  {
   "cell_type": "markdown",
   "metadata": {},
   "source": [
    "This will result in two new data points in the relevant links: `google_speed` and `google_polyline`."
   ]
  },
  {
   "cell_type": "code",
   "execution_count": 32,
   "metadata": {
    "ExecuteTime": {
     "end_time": "2021-03-31T10:58:49.484628Z",
     "start_time": "2021-03-31T10:58:49.478426Z"
    }
   },
   "outputs": [
    {
     "data": {
      "text/plain": [
       "{0: {'id': '596',\n",
       "  'from': '9791490',\n",
       "  'to': '4698712638',\n",
       "  'freespeed': 4.166666666666667,\n",
       "  'capacity': 600.0,\n",
       "  'permlanes': 1.0,\n",
       "  'oneway': '1',\n",
       "  'modes': {'car'},\n",
       "  's2_from': 5221390682074967269,\n",
       "  's2_to': 5221390682013665025,\n",
       "  'attributes': {'osm:way:access': {'name': 'osm:way:access',\n",
       "    'class': 'java.lang.String',\n",
       "    'text': 'no'},\n",
       "   'osm:way:highway': {'name': 'osm:way:highway',\n",
       "    'class': 'java.lang.String',\n",
       "    'text': 'unclassified'},\n",
       "   'osm:way:id': {'name': 'osm:way:id',\n",
       "    'class': 'java.lang.Long',\n",
       "    'text': '476247613'},\n",
       "   'osm:way:name': {'name': 'osm:way:name',\n",
       "    'class': 'java.lang.String',\n",
       "    'text': 'Chitty Street'}},\n",
       "  'length': 33.76444553419279,\n",
       "  'google_speed': 6.8,\n",
       "  'google_polyline': 'mvmyHpqYb@pA'}}"
      ]
     },
     "execution_count": 32,
     "metadata": {},
     "output_type": "execute_result"
    }
   ],
   "source": [
    "n.edge('9791490', '4698712638')"
   ]
  },
  {
   "cell_type": "code",
   "execution_count": 33,
   "metadata": {},
   "outputs": [],
   "source": [
    "def speed_difference(link_attribs):\n",
    "    return link_attribs['freespeed'] - link_attribs['google_speed']"
   ]
  },
  {
   "cell_type": "code",
   "execution_count": 34,
   "metadata": {},
   "outputs": [
    {
     "name": "stderr",
     "output_type": "stream",
     "text": [
      "2021-11-23 10:31:55,908 - 3165 out of 3166 links have not been affected by the function. Links affected: ['596']\n",
      "2021-11-23 10:31:55,910 - Changed Link attributes for 1 links\n"
     ]
    }
   ],
   "source": [
    "n.apply_function_to_links(speed_difference, 'speed_difference')"
   ]
  },
  {
   "cell_type": "markdown",
   "metadata": {},
   "source": [
    "You can also choose to set google speed as the `freespeed` in the network. But be mindful if you use it for MATSim\n",
    "simulations, `freespeed` denotes the maximum speed a vehicle can travel on a certain link, Google Directions API data\n",
    "with `departure_time='now'` should be ran late at night/early morning ~4am local time to the network for any reliable results.\n",
    "Otherwise you are adding traffic conditions to the network which should be simulated by demand (population) side of \n",
    "the model rather than supply (network)."
   ]
  },
  {
   "cell_type": "code",
   "execution_count": 35,
   "metadata": {},
   "outputs": [],
   "source": [
    "def set_google_speed(link_attribs):\n",
    "    if link_attribs['google_speed'] != 0:\n",
    "        return link_attribs['google_speed']\n",
    "    else:\n",
    "        return link_attribs['freespeed']"
   ]
  },
  {
   "cell_type": "code",
   "execution_count": 36,
   "metadata": {
    "ExecuteTime": {
     "end_time": "2021-03-31T10:58:49.524832Z",
     "start_time": "2021-03-31T10:58:49.488660Z"
    }
   },
   "outputs": [
    {
     "name": "stderr",
     "output_type": "stream",
     "text": [
      "2021-11-23 10:32:00,453 - 3165 out of 3166 links have not been affected by the function. Links affected: ['596']\n",
      "2021-11-23 10:32:00,456 - Changed Link attributes for 1 links\n"
     ]
    }
   ],
   "source": [
    "n.apply_function_to_links(set_google_speed, 'freespeed')"
   ]
  },
  {
   "cell_type": "code",
   "execution_count": 37,
   "metadata": {
    "ExecuteTime": {
     "end_time": "2021-03-31T10:58:49.538105Z",
     "start_time": "2021-03-31T10:58:49.528239Z"
    }
   },
   "outputs": [
    {
     "data": {
      "text/plain": [
       "{0: {'id': '596',\n",
       "  'from': '9791490',\n",
       "  'to': '4698712638',\n",
       "  'freespeed': 6.8,\n",
       "  'capacity': 600.0,\n",
       "  'permlanes': 1.0,\n",
       "  'oneway': '1',\n",
       "  'modes': {'car'},\n",
       "  's2_from': 5221390682074967269,\n",
       "  's2_to': 5221390682013665025,\n",
       "  'attributes': {'osm:way:access': {'name': 'osm:way:access',\n",
       "    'class': 'java.lang.String',\n",
       "    'text': 'no'},\n",
       "   'osm:way:highway': {'name': 'osm:way:highway',\n",
       "    'class': 'java.lang.String',\n",
       "    'text': 'unclassified'},\n",
       "   'osm:way:id': {'name': 'osm:way:id',\n",
       "    'class': 'java.lang.Long',\n",
       "    'text': '476247613'},\n",
       "   'osm:way:name': {'name': 'osm:way:name',\n",
       "    'class': 'java.lang.String',\n",
       "    'text': 'Chitty Street'}},\n",
       "  'length': 33.76444553419279,\n",
       "  'google_speed': 6.8,\n",
       "  'google_polyline': 'mvmyHpqYb@pA',\n",
       "  'speed_difference': -2.633333333333333}}"
      ]
     },
     "execution_count": 37,
     "metadata": {},
     "output_type": "execute_result"
    }
   ],
   "source": [
    "n.edge('9791490', '4698712638')"
   ]
  },
  {
   "cell_type": "markdown",
   "metadata": {},
   "source": [
    "### 3.2 Validating google speed values"
   ]
  },
  {
   "cell_type": "markdown",
   "metadata": {},
   "source": [
    "Once you have attached the google speed values to the network, you may want to do some validation, to check if the values make sense and if there are any missing values. \n",
    "\n",
    "To do that, we first need to convert the network to a geodataframe."
   ]
  },
  {
   "cell_type": "code",
   "execution_count": null,
   "metadata": {},
   "outputs": [],
   "source": []
  },
  {
   "cell_type": "markdown",
   "metadata": {},
   "source": [
    "## 4. Visualising requests"
   ]
  },
  {
   "cell_type": "code",
   "execution_count": null,
   "metadata": {},
   "outputs": [],
   "source": []
  }
 ],
 "metadata": {
  "kernelspec": {
   "display_name": "Python 3 (ipykernel)",
   "language": "python",
   "name": "python3"
  },
  "language_info": {
   "codemirror_mode": {
    "name": "ipython",
    "version": 3
   },
   "file_extension": ".py",
   "mimetype": "text/x-python",
   "name": "python",
   "nbconvert_exporter": "python",
   "pygments_lexer": "ipython3",
   "version": "3.7.11"
  },
  "latex_envs": {
   "LaTeX_envs_menu_present": true,
   "autoclose": true,
   "autocomplete": true,
   "bibliofile": "biblio.bib",
   "cite_by": "apalike",
   "current_citInitial": 1,
   "eqLabelWithNumbers": true,
   "eqNumInitial": 1,
   "hotkeys": {
    "equation": "Ctrl-E",
    "itemize": "Ctrl-I"
   },
   "labels_anchors": false,
   "latex_user_defs": false,
   "report_style_numbering": false,
   "user_envs_cfg": false
  },
  "toc": {
   "base_numbering": 1,
   "nav_menu": {},
   "number_sections": true,
   "sideBar": true,
   "skip_h1_title": false,
   "title_cell": "Table of Contents",
   "title_sidebar": "Contents",
   "toc_cell": false,
   "toc_position": {},
   "toc_section_display": true,
   "toc_window_display": false
  },
  "varInspector": {
   "cols": {
    "lenName": 16,
    "lenType": 16,
    "lenVar": 40
   },
   "kernels_config": {
    "python": {
     "delete_cmd_postfix": "",
     "delete_cmd_prefix": "del ",
     "library": "var_list.py",
     "varRefreshCmd": "print(var_dic_list())"
    },
    "r": {
     "delete_cmd_postfix": ") ",
     "delete_cmd_prefix": "rm(",
     "library": "var_list.r",
     "varRefreshCmd": "cat(var_dic_list()) "
    }
   },
   "types_to_exclude": [
    "module",
    "function",
    "builtin_function_or_method",
    "instance",
    "_Feature"
   ],
   "window_display": false
  }
 },
 "nbformat": 4,
 "nbformat_minor": 2
}
