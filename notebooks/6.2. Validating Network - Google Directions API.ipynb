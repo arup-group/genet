{
 "cells": [
  {
   "cell_type": "markdown",
   "metadata": {},
   "source": [
    "# Using Google Directions API for speed calculation\n",
    "\n",
    "You can generate and send google directions API requests based on the network. The process will create a 'car' modal\n",
    "subgraph and generate API requests for all edges in the subgraph. The number of requests is at most the number of edges\n",
    "in the subgraph. The process simplifies edges using `osmnx` library's method to extract a chains of nodes with no\n",
    "intersections, in this way reducing the number of requests. If your graph is already simplified, the number of requests\n",
    "will be equal to the number of edges."
   ]
  },
  {
   "cell_type": "code",
   "execution_count": 1,
   "metadata": {
    "ExecuteTime": {
     "end_time": "2020-12-17T13:05:09.477474Z",
     "start_time": "2020-12-17T13:05:05.670395Z"
    }
   },
   "outputs": [
    {
     "name": "stdout",
     "output_type": "stream",
     "text": [
      "Graph info: Name: Network graph\n",
      "Type: MultiDiGraph\n",
      "Number of nodes: 1662\n",
      "Number of edges: 3166\n",
      "Average in degree:   1.9049\n",
      "Average out degree:   1.9049 \n",
      "Schedule info: Schedule:\n",
      "Number of services: 9\n",
      "Number of unique routes: 68\n",
      "Number of stops: 45\n"
     ]
    }
   ],
   "source": [
    "# read sample network\n",
    "from genet import Network\n",
    "from genet import google_directions\n",
    "import os\n",
    "\n",
    "n = Network('epsg:27700')\n",
    "path_to_matsim_network = '../example_data/pt2matsim_network'\n",
    "n.read_matsim_network(os.path.join(path_to_matsim_network, 'network.xml'))\n",
    "n.read_matsim_schedule(os.path.join(path_to_matsim_network, 'schedule.xml'))\n",
    "n.print()"
   ]
  },
  {
   "cell_type": "markdown",
   "metadata": {},
   "source": [
    "To send requests to Google Direction API you need a key [(read more here)](https://developers.google.com/maps/documentation/directions/start). After obtaining a key, you can either pass it to the elevant function directly"
   ]
  },
  {
   "cell_type": "raw",
   "metadata": {},
   "source": [
    "api_requests = ggoogle_directions.send_requests_for_network(\n",
    "    n=n, \n",
    "    request_number_threshold=3000,\n",
    "    key='API_key',\n",
    "    output_dir='../example_data/example_google_speed_data',\n",
    "    traffic=True\n",
    ")"
   ]
  },
  {
   "cell_type": "markdown",
   "metadata": {},
   "source": [
    "Or set it as an environmental variable called `GOOGLE_DIR_API_KEY`, if using command line: `$ export GOOGLE_DIR_API_KEY='key'`"
   ]
  },
  {
   "cell_type": "raw",
   "metadata": {},
   "source": [
    "api_requests = google_directions.send_requests_for_network(\n",
    "    n=n, \n",
    "    request_number_threshold=3000,\n",
    "    output_dir='../example_data/example_google_speed_data',\n",
    "    traffic=True\n",
    ")"
   ]
  },
  {
   "cell_type": "markdown",
   "metadata": {},
   "source": [
    "If you use AWS, you can also store the key in the `Secrets Manager` [(read more here)](https://aws.amazon.com/secrets-manager/)\n",
    "authenticate to your AWS account and then pass the `secret_name` and `region_name` to the `send_requests_for_network` \n",
    "method:"
   ]
  },
  {
   "cell_type": "raw",
   "metadata": {},
   "source": [
    "api_requests = google_directions.send_requests_for_network(\n",
    "    n=_n, \n",
    "    request_number_threshold=3000,\n",
    "    output_dir='../example_data/example_google_speed_data',\n",
    "    traffic=True,\n",
    "    secret_name='secret_name', \n",
    "    region_name='region_name'\n",
    ")"
   ]
  },
  {
   "cell_type": "markdown",
   "metadata": {},
   "source": [
    "This method will save derived results in the output directory provided, an example can be found here: \n",
    "`../example_data/example_google_speed_data`. It comprises of the google polyline of the response and speed derived from\n",
    "distance and time taken to travel as well as information that was generated in order to make the response such as\n",
    "the node ids in the network for which this response holds, the `path_nodes` which denote any extra nodes from the non\n",
    "simplified chain of nodes/edges in the request, the polyline of the network path, encoded using the same polyline \n",
    "encoding as the Google request polyline; as well as spatial information about the origin and destination of the request\n",
    "and timestamp.\n",
    "\n",
    "You can read saved results:"
   ]
  },
  {
   "cell_type": "code",
   "execution_count": 2,
   "metadata": {
    "ExecuteTime": {
     "end_time": "2020-12-17T13:05:09.487114Z",
     "start_time": "2020-12-17T13:05:09.479543Z"
    }
   },
   "outputs": [],
   "source": [
    "api_requests = google_directions.read_saved_api_results('../example_data/example_google_speed_data')"
   ]
  },
  {
   "cell_type": "code",
   "execution_count": 3,
   "metadata": {
    "ExecuteTime": {
     "end_time": "2020-12-17T13:05:09.501949Z",
     "start_time": "2020-12-17T13:05:09.491075Z"
    }
   },
   "outputs": [
    {
     "data": {
      "text/plain": [
       "{('9791490', '4698712638'): {'path_nodes': ('9791490', '4698712638'),\n",
       "  'path_polyline': 'mvmyHpqYb@lA',\n",
       "  'origin': {'id': '9791490',\n",
       "   'x': 529414.5591563961,\n",
       "   'y': 181898.4902840198,\n",
       "   'lat': 51.5211862,\n",
       "   'lon': -0.1360879,\n",
       "   's2_id': 5221390682074967291},\n",
       "  'destination': {'id': '4698712638',\n",
       "   'x': 529387.9166476472,\n",
       "   'y': 181877.74867097137,\n",
       "   'lat': 51.5210059,\n",
       "   'lon': -0.1364793,\n",
       "   's2_id': 5221390682013665023},\n",
       "  'timestamp': 1594385229.635254,\n",
       "  'parsed_response': {'google_speed': 6.8, 'google_polyline': 'mvmyHpqYb@pA'}}}"
      ]
     },
     "execution_count": 3,
     "metadata": {},
     "output_type": "execute_result"
    }
   ],
   "source": [
    "api_requests"
   ]
  },
  {
   "cell_type": "markdown",
   "metadata": {},
   "source": [
    "Once you have results, you can match them to the network. This will create a dictionary of non-simplified edges to which the response data applies."
   ]
  },
  {
   "cell_type": "code",
   "execution_count": 4,
   "metadata": {
    "ExecuteTime": {
     "end_time": "2020-12-17T13:05:09.519961Z",
     "start_time": "2020-12-17T13:05:09.510747Z"
    }
   },
   "outputs": [],
   "source": [
    "google_edge_data = google_directions.map_results_to_edges(api_requests)"
   ]
  },
  {
   "cell_type": "code",
   "execution_count": 5,
   "metadata": {
    "ExecuteTime": {
     "end_time": "2020-12-17T13:05:09.535934Z",
     "start_time": "2020-12-17T13:05:09.531302Z"
    }
   },
   "outputs": [
    {
     "data": {
      "text/plain": [
       "{('9791490', '4698712638'): {'google_speed': 6.8,\n",
       "  'google_polyline': 'mvmyHpqYb@pA'}}"
      ]
     },
     "execution_count": 5,
     "metadata": {},
     "output_type": "execute_result"
    }
   ],
   "source": [
    "google_edge_data"
   ]
  },
  {
   "cell_type": "code",
   "execution_count": 6,
   "metadata": {
    "ExecuteTime": {
     "end_time": "2020-12-17T13:05:09.547225Z",
     "start_time": "2020-12-17T13:05:09.539753Z"
    }
   },
   "outputs": [
    {
     "data": {
      "text/plain": [
       "{0: {'id': '596',\n",
       "  'from': '9791490',\n",
       "  'to': '4698712638',\n",
       "  'freespeed': 4.166666666666667,\n",
       "  'capacity': 600.0,\n",
       "  'permlanes': 1.0,\n",
       "  'oneway': '1',\n",
       "  'modes': {'car'},\n",
       "  's2_from': 5221390682074967269,\n",
       "  's2_to': 5221390682013665025,\n",
       "  'attributes': {'osm:way:access': {'name': 'osm:way:access',\n",
       "    'class': 'java.lang.String',\n",
       "    'text': 'no'},\n",
       "   'osm:way:highway': {'name': 'osm:way:highway',\n",
       "    'class': 'java.lang.String',\n",
       "    'text': 'unclassified'},\n",
       "   'osm:way:id': {'name': 'osm:way:id',\n",
       "    'class': 'java.lang.Long',\n",
       "    'text': '476247613'},\n",
       "   'osm:way:name': {'name': 'osm:way:name',\n",
       "    'class': 'java.lang.String',\n",
       "    'text': 'Chitty Street'}},\n",
       "  'length': 33.76444553419279}}"
      ]
     },
     "execution_count": 6,
     "metadata": {},
     "output_type": "execute_result"
    }
   ],
   "source": [
    "n.edge('9791490', '4698712638')"
   ]
  },
  {
   "cell_type": "markdown",
   "metadata": {},
   "source": [
    "If we're working with a network that may have multiple edges between the same pair of nodes, we can restrict the links to which the data will be applied by specifying a modal condition, so that at least only links allowing cars will inherit this data."
   ]
  },
  {
   "cell_type": "code",
   "execution_count": 7,
   "metadata": {
    "ExecuteTime": {
     "end_time": "2020-12-17T13:05:09.585840Z",
     "start_time": "2020-12-17T13:05:09.561615Z"
    }
   },
   "outputs": [
    {
     "name": "stderr",
     "output_type": "stream",
     "text": [
      "2020-12-17 13:05:09,582 - Changed Edge attributes for 1 edges\n"
     ]
    }
   ],
   "source": [
    "def modal_condition(value):\n",
    "    return 'car' in value\n",
    "\n",
    "n.apply_attributes_to_edges(google_edge_data, conditions={'modes': modal_condition})"
   ]
  },
  {
   "cell_type": "markdown",
   "metadata": {},
   "source": [
    "Resulting in two new data points in the relevant links: `google_speed` and `google_polyline`."
   ]
  },
  {
   "cell_type": "code",
   "execution_count": 8,
   "metadata": {
    "ExecuteTime": {
     "end_time": "2020-12-17T13:05:09.626228Z",
     "start_time": "2020-12-17T13:05:09.607262Z"
    }
   },
   "outputs": [
    {
     "data": {
      "text/plain": [
       "{0: {'id': '596',\n",
       "  'from': '9791490',\n",
       "  'to': '4698712638',\n",
       "  'freespeed': 4.166666666666667,\n",
       "  'capacity': 600.0,\n",
       "  'permlanes': 1.0,\n",
       "  'oneway': '1',\n",
       "  'modes': {'car'},\n",
       "  's2_from': 5221390682074967269,\n",
       "  's2_to': 5221390682013665025,\n",
       "  'attributes': {'osm:way:access': {'name': 'osm:way:access',\n",
       "    'class': 'java.lang.String',\n",
       "    'text': 'no'},\n",
       "   'osm:way:highway': {'name': 'osm:way:highway',\n",
       "    'class': 'java.lang.String',\n",
       "    'text': 'unclassified'},\n",
       "   'osm:way:id': {'name': 'osm:way:id',\n",
       "    'class': 'java.lang.Long',\n",
       "    'text': '476247613'},\n",
       "   'osm:way:name': {'name': 'osm:way:name',\n",
       "    'class': 'java.lang.String',\n",
       "    'text': 'Chitty Street'}},\n",
       "  'length': 33.76444553419279,\n",
       "  'google_speed': 6.8,\n",
       "  'google_polyline': 'mvmyHpqYb@pA'}}"
      ]
     },
     "execution_count": 8,
     "metadata": {},
     "output_type": "execute_result"
    }
   ],
   "source": [
    "n.edge('9791490', '4698712638')"
   ]
  },
  {
   "cell_type": "markdown",
   "metadata": {},
   "source": [
    "You can also choose to set google speed as the `freespeed` in the network. But be mindful if you use it for MATSim\n",
    "simulations, `freespeed` denotes the maximum speed a vehicle can travel on a certain link, Google Directions API data\n",
    "with `traffic=True` should be ran late at night/early morning ~4am local time to the network for any reliable results.\n",
    "Otherwise you are adding traffic conditions to the network which should be simulated by demand (population) side of \n",
    "the model rather than supply (network)."
   ]
  },
  {
   "cell_type": "code",
   "execution_count": 9,
   "metadata": {
    "ExecuteTime": {
     "end_time": "2020-12-17T13:05:09.681235Z",
     "start_time": "2020-12-17T13:05:09.634591Z"
    }
   },
   "outputs": [
    {
     "name": "stderr",
     "output_type": "stream",
     "text": [
      "2020-12-17 13:05:09,671 - 3165 out of 3166 links have not been affected by the function. Links affected: ['596']\n",
      "2020-12-17 13:05:09,679 - Changed Link attributes for 1 links\n"
     ]
    }
   ],
   "source": [
    "def set_google_speed(link_attribs):\n",
    "    return link_attribs['google_speed']\n",
    "\n",
    "n.apply_function_to_links(set_google_speed, 'freespeed')"
   ]
  },
  {
   "cell_type": "code",
   "execution_count": 10,
   "metadata": {
    "ExecuteTime": {
     "end_time": "2020-12-17T13:05:09.701952Z",
     "start_time": "2020-12-17T13:05:09.692023Z"
    }
   },
   "outputs": [
    {
     "data": {
      "text/plain": [
       "{0: {'id': '596',\n",
       "  'from': '9791490',\n",
       "  'to': '4698712638',\n",
       "  'freespeed': 6.8,\n",
       "  'capacity': 600.0,\n",
       "  'permlanes': 1.0,\n",
       "  'oneway': '1',\n",
       "  'modes': {'car'},\n",
       "  's2_from': 5221390682074967269,\n",
       "  's2_to': 5221390682013665025,\n",
       "  'attributes': {'osm:way:access': {'name': 'osm:way:access',\n",
       "    'class': 'java.lang.String',\n",
       "    'text': 'no'},\n",
       "   'osm:way:highway': {'name': 'osm:way:highway',\n",
       "    'class': 'java.lang.String',\n",
       "    'text': 'unclassified'},\n",
       "   'osm:way:id': {'name': 'osm:way:id',\n",
       "    'class': 'java.lang.Long',\n",
       "    'text': '476247613'},\n",
       "   'osm:way:name': {'name': 'osm:way:name',\n",
       "    'class': 'java.lang.String',\n",
       "    'text': 'Chitty Street'}},\n",
       "  'length': 33.76444553419279,\n",
       "  'google_speed': 6.8,\n",
       "  'google_polyline': 'mvmyHpqYb@pA'}}"
      ]
     },
     "execution_count": 10,
     "metadata": {},
     "output_type": "execute_result"
    }
   ],
   "source": [
    "n.edge('9791490', '4698712638')"
   ]
  },
  {
   "cell_type": "code",
   "execution_count": null,
   "metadata": {},
   "outputs": [],
   "source": []
  }
 ],
 "metadata": {
  "kernelspec": {
   "display_name": "Python (genet)",
   "language": "python",
   "name": "genet"
  },
  "language_info": {
   "codemirror_mode": {
    "name": "ipython",
    "version": 3
   },
   "file_extension": ".py",
   "mimetype": "text/x-python",
   "name": "python",
   "nbconvert_exporter": "python",
   "pygments_lexer": "ipython3",
   "version": "3.8.6"
  },
  "latex_envs": {
   "LaTeX_envs_menu_present": true,
   "autoclose": true,
   "autocomplete": true,
   "bibliofile": "biblio.bib",
   "cite_by": "apalike",
   "current_citInitial": 1,
   "eqLabelWithNumbers": true,
   "eqNumInitial": 1,
   "hotkeys": {
    "equation": "Ctrl-E",
    "itemize": "Ctrl-I"
   },
   "labels_anchors": false,
   "latex_user_defs": false,
   "report_style_numbering": false,
   "user_envs_cfg": false
  },
  "toc": {
   "base_numbering": 1,
   "nav_menu": {},
   "number_sections": true,
   "sideBar": true,
   "skip_h1_title": false,
   "title_cell": "Table of Contents",
   "title_sidebar": "Contents",
   "toc_cell": false,
   "toc_position": {},
   "toc_section_display": true,
   "toc_window_display": false
  },
  "varInspector": {
   "cols": {
    "lenName": 16,
    "lenType": 16,
    "lenVar": 40
   },
   "kernels_config": {
    "python": {
     "delete_cmd_postfix": "",
     "delete_cmd_prefix": "del ",
     "library": "var_list.py",
     "varRefreshCmd": "print(var_dic_list())"
    },
    "r": {
     "delete_cmd_postfix": ") ",
     "delete_cmd_prefix": "rm(",
     "library": "var_list.r",
     "varRefreshCmd": "cat(var_dic_list()) "
    }
   },
   "types_to_exclude": [
    "module",
    "function",
    "builtin_function_or_method",
    "instance",
    "_Feature"
   ],
   "window_display": false
  }
 },
 "nbformat": 4,
 "nbformat_minor": 2
}
