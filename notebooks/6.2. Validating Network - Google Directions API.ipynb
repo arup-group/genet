{
 "cells": [
  {
   "cell_type": "markdown",
   "metadata": {},
   "source": [
    "# Using Google Directions API for speed calculation\n",
    "\n",
    "You can generate and send google directions API requests based on the network. The process will create a 'car' modal\n",
    "subgraph and generate API requests for all edges in the subgraph. The number of requests is at most the number of edges\n",
    "in the subgraph. The process simplifies edges using `osmnx` library's method to extract a chains of nodes with no\n",
    "intersections, in this way reducing the number of requests. If your graph is already simplified, the number of requests\n",
    "will be equal to the number of edges."
   ]
  },
  {
   "cell_type": "code",
   "execution_count": 1,
   "metadata": {},
   "outputs": [
    {
     "name": "stderr",
     "output_type": "stream",
     "text": [
      "/Applications/anaconda3/envs/genet/lib/python3.7/site-packages/geopandas/_compat.py:110: UserWarning: The Shapely GEOS version (3.8.0-CAPI-1.13.1 ) is incompatible with the GEOS version PyGEOS was compiled with (3.10.0-CAPI-1.16.0). Conversions between both will be slow.\n",
      "  shapely_geos_version, geos_capi_version_string\n"
     ]
    }
   ],
   "source": [
    "import genet\n",
    "from genet import read_matsim, google_directions\n",
    "from genet.utils.persistence import ensure_dir\n",
    "from genet.outputs_handler.geojson import generate_geodataframes\n",
    "\n",
    "import numpy as np\n",
    "import random\n",
    "import geopandas as gpd\n",
    "import json\n",
    "import pandas as pd\n",
    "import ast\n",
    "import os\n",
    "import itertools\n",
    "import logging\n",
    "import osmnx as ox\n",
    "import polyline\n",
    "import matplotlib.pyplot as plt\n",
    "from shapely.geometry import LineString"
   ]
  },
  {
   "cell_type": "markdown",
   "metadata": {},
   "source": [
    "## 1. Creating requests"
   ]
  },
  {
   "cell_type": "markdown",
   "metadata": {},
   "source": [
    "First of all, we need to read in the network for which the requests are being generated"
   ]
  },
  {
   "cell_type": "code",
   "execution_count": 2,
   "metadata": {},
   "outputs": [
    {
     "name": "stdout",
     "output_type": "stream",
     "text": [
      "Graph info: Name: Network graph\n",
      "Type: MultiDiGraph\n",
      "Number of nodes: 1662\n",
      "Number of edges: 3166\n",
      "Average in degree:   1.9049\n",
      "Average out degree:   1.9049 \n",
      "Schedule info: Schedule:\n",
      "Number of services: 9\n",
      "Number of routes: 68\n",
      "Number of stops: 45\n"
     ]
    }
   ],
   "source": [
    "path_to_matsim_network = '../example_data/pt2matsim_network'\n",
    "\n",
    "network = os.path.join(path_to_matsim_network, 'network.xml')\n",
    "schedule = os.path.join(path_to_matsim_network, 'schedule.xml')\n",
    "vehicles = os.path.join(path_to_matsim_network, 'vehicles.xml')\n",
    "\n",
    "network_epsg = 'epsg:27700'\n",
    "\n",
    "n = read_matsim(\n",
    "    path_to_network=network, \n",
    "    epsg=network_epsg, \n",
    "    path_to_schedule=schedule, \n",
    "    path_to_vehicles=vehicles\n",
    ")\n",
    "\n",
    "# you don't need to read the vehicles file, but doing so ensures all vehicles in the schedule \n",
    "# are of the expected type and the definition of the vehicle is preserved\n",
    "n.print()"
   ]
  },
  {
   "cell_type": "markdown",
   "metadata": {},
   "source": [
    "Next we define the function to generate requests; it takes as input the network and the list of osm tags"
   ]
  },
  {
   "cell_type": "markdown",
   "metadata": {},
   "source": [
    "Let's create requests to get speed information for the main roads, print the number of requests, and save requests in a json file."
   ]
  },
  {
   "cell_type": "code",
   "execution_count": 3,
   "metadata": {
    "scrolled": true
   },
   "outputs": [
    {
     "name": "stderr",
     "output_type": "stream",
     "text": [
      "2021-11-25 12:44:05,895 - Generating Google Directions API requests for a non-simplified network.\n",
      "2021-11-25 12:44:05,931 - Identified 45 edge endpoints\n",
      "2021-11-25 12:44:05,933 - Identified 57 possible paths\n",
      "2021-11-25 12:44:05,934 - Processing 57 paths\n",
      "2021-11-25 12:44:05,938 - Saving Google Directions API requests to ../example_data/\n"
     ]
    },
    {
     "name": "stdout",
     "output_type": "stream",
     "text": [
      "52\n"
     ]
    }
   ],
   "source": [
    "# osm_tag = takes a list of osm tags to filter the network on, e.g. ['primary', 'secondary', 'tertiary']\n",
    "osm_tag = ['secondary']\n",
    "requests = genet.utils.google_directions.generate_requests(n, osm_tag)\n",
    "\n",
    "print(len(requests))\n",
    "\n",
    "genet.utils.google_directions.dump_all_api_requests_to_json(requests, '../example_data/', 'api_requests_send.json')"
   ]
  },
  {
   "cell_type": "markdown",
   "metadata": {},
   "source": [
    "52 requests were generated. The number of requests to be sent is important as it will influence the cost of Google Directions API. Current pricing can be found here: https://developers.google.com/maps/documentation/directions/usage-and-billing\n",
    "\n",
    "It can be useful to visualise the requests before sending them, to confirm that they are as expected. Section 5 explains how to visualise requests you generate and results you receive from the API using Kepler. "
   ]
  },
  {
   "cell_type": "markdown",
   "metadata": {},
   "source": [
    "## 2. Sending requests"
   ]
  },
  {
   "cell_type": "markdown",
   "metadata": {},
   "source": [
    "### 2.1 Sending requests created in Section 1"
   ]
  },
  {
   "cell_type": "markdown",
   "metadata": {},
   "source": [
    "To send requests to Google Direction API you need a key [(read more here)](https://developers.google.com/maps/documentation/directions/start). After obtaining a key, you can either pass it to the elevant function directly"
   ]
  },
  {
   "cell_type": "code",
   "execution_count": 5,
   "metadata": {},
   "outputs": [],
   "source": [
    "# Specify your own key\n",
    "api_key = 'YOUR API KEY'"
   ]
  },
  {
   "cell_type": "code",
   "execution_count": 6,
   "metadata": {},
   "outputs": [],
   "source": [
    "# Read in the API requests generated in the previous section\n",
    "path = '../example_data/api_requests_send.json'\n",
    "api_requests = genet.utils.google_directions.read_api_requests(path)"
   ]
  },
  {
   "cell_type": "markdown",
   "metadata": {},
   "source": [
    "Before we send the requests, we need to specify the time of departure:\n",
    "- `None` to get duration based on road network and average time-independent traffic conditions\n",
    "- `now` for current time\n",
    "- Time in the future as an integer in seconds since midnight, January 1, 1970 UTC, i.e. unix time (this website is useful for converting to unix time https://www.epochconverter.com )\n",
    "\n",
    "More details about `departure_time` parameter can be found here: https://developers.google.com/maps/documentation/directions/get-directions#departure_time\n",
    "\n",
    "If you set `departure_time` parameter to `now` or a time in the future, you can also specify the `traffic_model` parameter:\n",
    "- `best_guess` (default): indicates that the returned duration_in_traffic should be the best estimate of travel time given what is known about both historical traffic conditions and live traffic. Live traffic becomes more important the closer the departure_time is to now.\n",
    "- `pessimistic`: indicates that the returned duration_in_traffic should be longer than the actual travel time on most days, though occasional days with particularly bad traffic conditions may exceed this value.\n",
    "- `optimistic`: indicates that the returned duration_in_traffic should be shorter than the actual travel time on most days, though occasional days with particularly good traffic conditions may be faster than this value.\n",
    "\n",
    "More details about `traffic_model` parameter can be found here: https://developers.google.com/maps/documentation/directions/get-directions#traffic_model"
   ]
  },
  {
   "cell_type": "raw",
   "metadata": {},
   "source": [
    "# You may want to set a limit on the number of requests you are happy to send, \n",
    "# to avoid excess costs if there is a mistake\n",
    "\n",
    "lim = 55\n",
    "\n",
    "if len(api_requests) < lim:\n",
    "    output_dir = '../example_data/example_google_speed_data/'\n",
    "    filename = 'api_requests_received.json'\n",
    "\n",
    "    logging.info('Sending API requests')\n",
    "    api_requests = genet.google_directions.send_requests(api_requests=api_requests,\n",
    "                                                         departure_time=1665563400,\n",
    "                                                         traffic_model='best_guess',\n",
    "                                                         key=api_key)      \n",
    "\n",
    "    logging.info('Parsing API requests')\n",
    "    api_requests = genet.google_directions.parse_results(api_requests=api_requests)\n",
    "\n",
    "    logging.info('Saving API requests')\n",
    "    genet.google_directions.dump_all_api_requests_to_json(api_requests=api_requests, \n",
    "                                                          output_dir=output_dir, \n",
    "                                                          output_file_name=filename)"
   ]
  },
  {
   "cell_type": "markdown",
   "metadata": {},
   "source": [
    "This method will save derived results in the output directory provided, an example can be found here: \n",
    "`../example_data/example_google_speed_data`. \n",
    "\n",
    "It comprises of the google polyline of the response and speed derived from distance and time taken to travel as well as information that was generated in order to make the response such as the node IDs in the network for which this response holds, the `path_nodes` which denote any extra nodes from the non-simplified chain of nodes/edges in the request, the polyline of the network path, encoded using the same polyline encoding as the Google request polyline; as well as spatial information about the origin and destination of the request and timestamp."
   ]
  },
  {
   "cell_type": "markdown",
   "metadata": {},
   "source": [
    "### 2.2 Generating and sending requests in one step"
   ]
  },
  {
   "cell_type": "markdown",
   "metadata": {},
   "source": [
    "The steps described above give you flexibility in choosing the parts of the network for which you want to send the requests. If you are happy to send the requests for the whole network, you can skip sections 1 and 2.1 and go straight to the steps below (you still need to load the network first).\n",
    "\n",
    "If you know the API key, you can specify it in the function call:"
   ]
  },
  {
   "cell_type": "raw",
   "metadata": {},
   "source": [
    "api_requests = google_directions.send_requests_for_network(\n",
    "    n=n, \n",
    "    request_number_threshold=3000,\n",
    "    key='API_key',\n",
    "    output_dir='../example_data/example_google_speed_data',\n",
    "    departure_time='now'\n",
    ")"
   ]
  },
  {
   "cell_type": "markdown",
   "metadata": {},
   "source": [
    "Or set it as an environmental variable called `GOOGLE_DIR_API_KEY`, if using command line: `$ export GOOGLE_DIR_API_KEY='key'`"
   ]
  },
  {
   "cell_type": "raw",
   "metadata": {},
   "source": [
    "api_requests = google_directions.send_requests_for_network(\n",
    "    n=n, \n",
    "    request_number_threshold=3000,\n",
    "    output_dir='../example_data/example_google_speed_data',\n",
    "    departure_time='now'\n",
    ")"
   ]
  },
  {
   "cell_type": "markdown",
   "metadata": {},
   "source": [
    "If you use AWS, you can also store the key in the `Secrets Manager` [(read more here)](https://aws.amazon.com/secrets-manager/)\n",
    "authenticate to your AWS account and then pass the `secret_name` and `region_name` to the `send_requests_for_network` \n",
    "method:"
   ]
  },
  {
   "cell_type": "raw",
   "metadata": {},
   "source": [
    "api_requests = google_directions.send_requests_for_network(\n",
    "    n=_n, \n",
    "    request_number_threshold=3000,\n",
    "    output_dir='../example_data/example_google_speed_data',\n",
    "    departure_time='now',\n",
    "    secret_name='secret_name', \n",
    "    region_name='region_name'\n",
    ")"
   ]
  },
  {
   "cell_type": "markdown",
   "metadata": {},
   "source": [
    "## 3. Processing the requests"
   ]
  },
  {
   "cell_type": "markdown",
   "metadata": {},
   "source": [
    "### 3.1 Attaching the speed values from requests to the network"
   ]
  },
  {
   "cell_type": "markdown",
   "metadata": {},
   "source": [
    "Once the request results have been received, you can read them in from the output directory you specified. "
   ]
  },
  {
   "cell_type": "code",
   "execution_count": 7,
   "metadata": {
    "ExecuteTime": {
     "end_time": "2021-03-31T10:58:49.396915Z",
     "start_time": "2021-03-31T10:58:49.387803Z"
    }
   },
   "outputs": [],
   "source": [
    "api_requests = google_directions.read_api_requests('../example_data/example_google_speed_data/api_requests_received.json')"
   ]
  },
  {
   "cell_type": "code",
   "execution_count": 8,
   "metadata": {
    "ExecuteTime": {
     "end_time": "2021-03-31T10:58:49.410240Z",
     "start_time": "2021-03-31T10:58:49.400269Z"
    }
   },
   "outputs": [
    {
     "data": {
      "text/plain": [
       "[(('109349', '60035535'),\n",
       "  {'path_nodes': ('109349', '60035535'),\n",
       "   'path_polyline': 'efnyH`{VN@',\n",
       "   'origin': {'id': '109349',\n",
       "    'x': 530367.4912101941,\n",
       "    'y': 182203.92011985858,\n",
       "    'lon': -0.12224788708321918,\n",
       "    'lat': 51.52371203323968,\n",
       "    's2_id': 5221390742034218987},\n",
       "   'destination': {'id': '60035535',\n",
       "    'x': 530366.8640776458,\n",
       "    'y': 182194.5456432234,\n",
       "    'lon': -0.12226038708327418,\n",
       "    'lat': 51.523627933239666,\n",
       "    's2_id': 5221390742017931799},\n",
       "   'timestamp': 1637671582.6688871,\n",
       "   'request_payload': {'geocoded_waypoints': [{'geocoder_status': 'OK',\n",
       "      'place_id': 'ChIJPVRVJTcbdkgRPCuqw0WKmUU',\n",
       "      'types': ['premise']},\n",
       "     {'geocoder_status': 'OK',\n",
       "      'place_id': 'ChIJPVRVJTcbdkgRPCuqw0WKmUU',\n",
       "      'types': ['premise']}],\n",
       "    'routes': [{'bounds': {'northeast': {'lat': 51.5237011, 'lng': -0.1222239},\n",
       "       'southwest': {'lat': 51.5236367, 'lng': -0.1222638}},\n",
       "      'copyrights': 'Map data ©2021 Google',\n",
       "      'legs': [{'distance': {'text': '8 m', 'value': 8},\n",
       "        'duration': {'text': '1 min', 'value': 2},\n",
       "        'duration_in_traffic': {'text': '1 min', 'value': 1},\n",
       "        'end_address': 'Downing Court, Grenville St, London WC1N 1LX, UK',\n",
       "        'end_location': {'lat': 51.5236367, 'lng': -0.1222239},\n",
       "        'start_address': 'Downing Court, Grenville St, London WC1N 1LX, UK',\n",
       "        'start_location': {'lat': 51.5237011, 'lng': -0.1222638},\n",
       "        'steps': [{'distance': {'text': '8 m', 'value': 8},\n",
       "          'duration': {'text': '1 min', 'value': 2},\n",
       "          'end_location': {'lat': 51.5236367, 'lng': -0.1222239},\n",
       "          'html_instructions': 'Head <b>south</b> on <b>Grenville St</b>',\n",
       "          'polyline': {'points': 'cfnyHb{VJG'},\n",
       "          'start_location': {'lat': 51.5237011, 'lng': -0.1222638},\n",
       "          'travel_mode': 'DRIVING'}],\n",
       "        'traffic_speed_entry': [],\n",
       "        'via_waypoint': []}],\n",
       "      'overview_polyline': {'points': 'cfnyHb{VJG'},\n",
       "      'summary': 'Grenville St',\n",
       "      'warnings': [],\n",
       "      'waypoint_order': []}],\n",
       "    'status': 'OK'},\n",
       "   'parsed_response': {'google_speed': 8.0, 'google_polyline': 'cfnyHb{VJG'}})]"
      ]
     },
     "execution_count": 8,
     "metadata": {},
     "output_type": "execute_result"
    }
   ],
   "source": [
    "random.sample(api_requests.items(), 1)"
   ]
  },
  {
   "cell_type": "markdown",
   "metadata": {},
   "source": [
    "Once you have results, you can attach them to the network. This will create a dictionary of non-simplified edges to which the response data applies."
   ]
  },
  {
   "cell_type": "code",
   "execution_count": 9,
   "metadata": {
    "ExecuteTime": {
     "end_time": "2021-03-31T10:58:49.432178Z",
     "start_time": "2021-03-31T10:58:49.426673Z"
    }
   },
   "outputs": [],
   "source": [
    "google_edge_data = google_directions.map_results_to_edges(api_requests)"
   ]
  },
  {
   "cell_type": "code",
   "execution_count": 10,
   "metadata": {
    "ExecuteTime": {
     "end_time": "2021-03-31T10:58:49.440878Z",
     "start_time": "2021-03-31T10:58:49.433969Z"
    }
   },
   "outputs": [
    {
     "data": {
      "text/plain": [
       "[(('25496899', '2476787985'),\n",
       "  {'google_speed': 3.09375,\n",
       "   'google_polyline': '{plyH`xWJDLStAH|BV\\\\B?C?E@C@Am@{AmBsEm@wAt@iAh@}@lAmBXi@D['})]"
      ]
     },
     "execution_count": 10,
     "metadata": {},
     "output_type": "execute_result"
    }
   ],
   "source": [
    "random.sample(google_edge_data.items(), 1)"
   ]
  },
  {
   "cell_type": "code",
   "execution_count": 11,
   "metadata": {
    "ExecuteTime": {
     "end_time": "2021-03-31T10:58:49.458866Z",
     "start_time": "2021-03-31T10:58:49.446984Z"
    }
   },
   "outputs": [
    {
     "data": {
      "text/plain": [
       "{0: {'id': '596',\n",
       "  'from': '9791490',\n",
       "  'to': '4698712638',\n",
       "  'freespeed': 4.166666666666667,\n",
       "  'capacity': 600.0,\n",
       "  'permlanes': 1.0,\n",
       "  'oneway': '1',\n",
       "  'modes': {'car'},\n",
       "  's2_from': 5221390682074967269,\n",
       "  's2_to': 5221390682013665025,\n",
       "  'attributes': {'osm:way:access': {'name': 'osm:way:access',\n",
       "    'class': 'java.lang.String',\n",
       "    'text': 'no'},\n",
       "   'osm:way:highway': {'name': 'osm:way:highway',\n",
       "    'class': 'java.lang.String',\n",
       "    'text': 'unclassified'},\n",
       "   'osm:way:id': {'name': 'osm:way:id',\n",
       "    'class': 'java.lang.Long',\n",
       "    'text': '476247613'},\n",
       "   'osm:way:name': {'name': 'osm:way:name',\n",
       "    'class': 'java.lang.String',\n",
       "    'text': 'Chitty Street'}},\n",
       "  'length': 33.76444553419279}}"
      ]
     },
     "execution_count": 11,
     "metadata": {},
     "output_type": "execute_result"
    }
   ],
   "source": [
    "n.edge('9791490', '4698712638')"
   ]
  },
  {
   "cell_type": "markdown",
   "metadata": {},
   "source": [
    "If we're working with a network that may have multiple edges between the same pair of nodes, we can restrict the links to which the data will be applied by specifying a modal condition, so that at least only links allowing cars will inherit this data."
   ]
  },
  {
   "cell_type": "code",
   "execution_count": 12,
   "metadata": {
    "ExecuteTime": {
     "end_time": "2021-03-31T10:58:49.473617Z",
     "start_time": "2021-03-31T10:58:49.460920Z"
    }
   },
   "outputs": [],
   "source": [
    "def modal_condition(value):\n",
    "    return 'car' in value"
   ]
  },
  {
   "cell_type": "code",
   "execution_count": 13,
   "metadata": {},
   "outputs": [
    {
     "name": "stderr",
     "output_type": "stream",
     "text": [
      "2021-11-24 11:26:27,672 - Changed Edge attributes for 180 edges\n"
     ]
    }
   ],
   "source": [
    "n.apply_attributes_to_edges(google_edge_data, conditions={'modes': modal_condition})"
   ]
  },
  {
   "cell_type": "markdown",
   "metadata": {},
   "source": [
    "This will result in two new data points in the relevant links: `google_speed` and `google_polyline`."
   ]
  },
  {
   "cell_type": "code",
   "execution_count": 14,
   "metadata": {
    "ExecuteTime": {
     "end_time": "2021-03-31T10:58:49.484628Z",
     "start_time": "2021-03-31T10:58:49.478426Z"
    }
   },
   "outputs": [
    {
     "data": {
      "text/plain": [
       "{0: {'id': '596',\n",
       "  'from': '9791490',\n",
       "  'to': '4698712638',\n",
       "  'freespeed': 4.166666666666667,\n",
       "  'capacity': 600.0,\n",
       "  'permlanes': 1.0,\n",
       "  'oneway': '1',\n",
       "  'modes': {'car'},\n",
       "  's2_from': 5221390682074967269,\n",
       "  's2_to': 5221390682013665025,\n",
       "  'attributes': {'osm:way:access': {'name': 'osm:way:access',\n",
       "    'class': 'java.lang.String',\n",
       "    'text': 'no'},\n",
       "   'osm:way:highway': {'name': 'osm:way:highway',\n",
       "    'class': 'java.lang.String',\n",
       "    'text': 'unclassified'},\n",
       "   'osm:way:id': {'name': 'osm:way:id',\n",
       "    'class': 'java.lang.Long',\n",
       "    'text': '476247613'},\n",
       "   'osm:way:name': {'name': 'osm:way:name',\n",
       "    'class': 'java.lang.String',\n",
       "    'text': 'Chitty Street'}},\n",
       "  'length': 33.76444553419279}}"
      ]
     },
     "execution_count": 14,
     "metadata": {},
     "output_type": "execute_result"
    }
   ],
   "source": [
    "n.edge('9791490', '4698712638')"
   ]
  },
  {
   "cell_type": "markdown",
   "metadata": {},
   "source": [
    "Next, we can validate the difference between `freespeed` and `google_speed`."
   ]
  },
  {
   "cell_type": "code",
   "execution_count": 15,
   "metadata": {},
   "outputs": [],
   "source": [
    "def speed_difference(link_attribs):\n",
    "    return link_attribs['freespeed'] - link_attribs['google_speed']"
   ]
  },
  {
   "cell_type": "code",
   "execution_count": 16,
   "metadata": {},
   "outputs": [
    {
     "name": "stderr",
     "output_type": "stream",
     "text": [
      "2021-11-24 11:26:27,706 - 2986 out of 3166 links have not been affected by the function. Links affected: ['1020', '1065', '1066', '1078', '1086', '1087', '1088', '1089', '1090', '1091', '1092', '1123', '1175', '1176', '1178', '1184', '1185', '1186', '1199', '1200', '1201', '1202', '1238', '1240', '1244', '1251', '1252', '1253', '1254', '1256', '1257', '1258', '1259', '1289', '1290', '1317', '1318', '1319', '1320', '146', '147', '1474', '1476', '1477', '1530', '1531', '1532', '1533', '1534', '1535', '1536', '1537', '1638', '1641', '1645', '1646', '1647', '1648', '1649', '1650', '1651', '1652', '1653', '1654', '1655', '1656', '1736', '1760', '1761', '1799', '18', '1800', '1891', '1892', '19', '191', '1917', '1918', '192', '1953', '1954', '1955', '1973', '1992', '2041', '2042', '2043', '2044', '2053', '2054', '2119', '2171', '2178', '2179', '2180', '2181', '2182', '2183', '2184', '2185', '2225', '2247', '2248', '2249', '2275', '2348', '2361', '2362', '2369', '2370', '2371', '2373', '2378', '2381', '2382', '2468', '2469', '252', '2566', '2567', '2568', '2569', '2600', '262', '2673', '2674', '2745', '2839', '2881', '2897', '2898', '2955', '2956', '2979', '2980', '2981', '2982', '30', '3056', '3098', '3099', '31', '3171', '3172', '3183', '327', '33', '334', '3340', '3341', '3342', '3344', '3345', '34', '366', '367', '404', '405', '409', '414', '415', '440', '486', '487', '765', '798', '799', '802', '806', '810', '811', '812', '83', '877', '878', '880', '881', '930', '931', '948']\n",
      "2021-11-24 11:26:27,753 - Changed Link attributes for 180 links\n"
     ]
    }
   ],
   "source": [
    "n.apply_function_to_links(speed_difference, 'speed_difference')"
   ]
  },
  {
   "cell_type": "markdown",
   "metadata": {},
   "source": [
    "You can also choose to set google speed as the `freespeed` in the network. But be mindful if you use it for MATSim\n",
    "simulations, `freespeed` denotes the maximum speed a vehicle can travel on a certain link, Google Directions API data\n",
    "with `departure_time='now'` should be ran late at night/early morning ~4am local time to the network for any reliable results.\n",
    "Otherwise you are adding traffic conditions to the network which should be simulated by demand (population) side of \n",
    "the model rather than supply (network)."
   ]
  },
  {
   "cell_type": "code",
   "execution_count": 17,
   "metadata": {},
   "outputs": [],
   "source": [
    "def set_google_speed(link_attribs):\n",
    "    if link_attribs['google_speed'] != 0:\n",
    "        return link_attribs['google_speed']\n",
    "    else:\n",
    "        return link_attribs['freespeed']"
   ]
  },
  {
   "cell_type": "code",
   "execution_count": 18,
   "metadata": {
    "ExecuteTime": {
     "end_time": "2021-03-31T10:58:49.524832Z",
     "start_time": "2021-03-31T10:58:49.488660Z"
    }
   },
   "outputs": [
    {
     "name": "stderr",
     "output_type": "stream",
     "text": [
      "2021-11-24 11:26:27,779 - 2986 out of 3166 links have not been affected by the function. Links affected: ['1020', '1065', '1066', '1078', '1086', '1087', '1088', '1089', '1090', '1091', '1092', '1123', '1175', '1176', '1178', '1184', '1185', '1186', '1199', '1200', '1201', '1202', '1238', '1240', '1244', '1251', '1252', '1253', '1254', '1256', '1257', '1258', '1259', '1289', '1290', '1317', '1318', '1319', '1320', '146', '147', '1474', '1476', '1477', '1530', '1531', '1532', '1533', '1534', '1535', '1536', '1537', '1638', '1641', '1645', '1646', '1647', '1648', '1649', '1650', '1651', '1652', '1653', '1654', '1655', '1656', '1736', '1760', '1761', '1799', '18', '1800', '1891', '1892', '19', '191', '1917', '1918', '192', '1953', '1954', '1955', '1973', '1992', '2041', '2042', '2043', '2044', '2053', '2054', '2119', '2171', '2178', '2179', '2180', '2181', '2182', '2183', '2184', '2185', '2225', '2247', '2248', '2249', '2275', '2348', '2361', '2362', '2369', '2370', '2371', '2373', '2378', '2381', '2382', '2468', '2469', '252', '2566', '2567', '2568', '2569', '2600', '262', '2673', '2674', '2745', '2839', '2881', '2897', '2898', '2955', '2956', '2979', '2980', '2981', '2982', '30', '3056', '3098', '3099', '31', '3171', '3172', '3183', '327', '33', '334', '3340', '3341', '3342', '3344', '3345', '34', '366', '367', '404', '405', '409', '414', '415', '440', '486', '487', '765', '798', '799', '802', '806', '810', '811', '812', '83', '877', '878', '880', '881', '930', '931', '948']\n",
      "2021-11-24 11:26:27,818 - Changed Link attributes for 180 links\n"
     ]
    }
   ],
   "source": [
    "n.apply_function_to_links(set_google_speed, 'freespeed')"
   ]
  },
  {
   "cell_type": "code",
   "execution_count": 19,
   "metadata": {
    "ExecuteTime": {
     "end_time": "2021-03-31T10:58:49.538105Z",
     "start_time": "2021-03-31T10:58:49.528239Z"
    }
   },
   "outputs": [
    {
     "data": {
      "text/plain": [
       "{0: {'id': '596',\n",
       "  'from': '9791490',\n",
       "  'to': '4698712638',\n",
       "  'freespeed': 4.166666666666667,\n",
       "  'capacity': 600.0,\n",
       "  'permlanes': 1.0,\n",
       "  'oneway': '1',\n",
       "  'modes': {'car'},\n",
       "  's2_from': 5221390682074967269,\n",
       "  's2_to': 5221390682013665025,\n",
       "  'attributes': {'osm:way:access': {'name': 'osm:way:access',\n",
       "    'class': 'java.lang.String',\n",
       "    'text': 'no'},\n",
       "   'osm:way:highway': {'name': 'osm:way:highway',\n",
       "    'class': 'java.lang.String',\n",
       "    'text': 'unclassified'},\n",
       "   'osm:way:id': {'name': 'osm:way:id',\n",
       "    'class': 'java.lang.Long',\n",
       "    'text': '476247613'},\n",
       "   'osm:way:name': {'name': 'osm:way:name',\n",
       "    'class': 'java.lang.String',\n",
       "    'text': 'Chitty Street'}},\n",
       "  'length': 33.76444553419279}}"
      ]
     },
     "execution_count": 19,
     "metadata": {},
     "output_type": "execute_result"
    }
   ],
   "source": [
    "n.edge('9791490', '4698712638')"
   ]
  },
  {
   "cell_type": "markdown",
   "metadata": {},
   "source": [
    "### 3.2 Validating google speed values"
   ]
  },
  {
   "cell_type": "markdown",
   "metadata": {},
   "source": [
    "Once you have attached the google speed values to the network, you may want to do some validation, to check if the values make sense and if there are any missing values. \n",
    "\n",
    "To do that, we first need to convert the network to a geodataframe."
   ]
  },
  {
   "cell_type": "code",
   "execution_count": 20,
   "metadata": {},
   "outputs": [],
   "source": [
    "# If you only sent the requests for parts of the network with a certain OSM tag, \n",
    "# you should pass the list of those tags to the function graph_to_gdf()\n",
    "\n",
    "def graph_to_gdf(network, osm_tag=all):\n",
    "    subgraph_t = network.subgraph_on_link_conditions(\n",
    "        conditions = [\n",
    "            {'attributes': {'osm:way:highway': {'text': osm_tag}}},\n",
    "            {'modes' : 'car'}],\n",
    "        how = all, \n",
    "        mixed_dtypes = True)\n",
    "    \n",
    "    # convert subgraph to geodataframe\n",
    "    gdf_dict = generate_geodataframes(subgraph_t)\n",
    "    gdf = gdf_dict['links']\n",
    "    \n",
    "    # fill in missing points (due to network structure when filtering by osm_tag)  \n",
    "    gdf.loc[gdf['geometry'].isna(), 'geometry'] = gdf.loc[gdf['geometry'].isna()].apply(\n",
    "        lambda x: line_geometry(x['from'], x['to']), axis=1)\n",
    "    \n",
    "    # convert to epsg:4326 to allow visualisation in Kepler in section 4\n",
    "    gdf = gdf.to_crs(\"epsg:4326\")\n",
    "    \n",
    "    return gdf\n",
    "\n",
    "\n",
    "# For filling in missing points\n",
    "def line_geometry(u, v):\n",
    "    from_node = n.node(u)\n",
    "    to_node = n.node(v)\n",
    "    return LineString(\n",
    "        [(float(from_node['x']), float(from_node['y'])), (float(to_node['x']), float(to_node['y']))])"
   ]
  },
  {
   "cell_type": "code",
   "execution_count": 21,
   "metadata": {},
   "outputs": [],
   "source": [
    "gdf = graph_to_gdf(n)\n",
    "with_gs = gdf[gdf['google_speed'].notna()]\n",
    "google_speed_list = with_gs['google_speed'].to_list()"
   ]
  },
  {
   "cell_type": "code",
   "execution_count": 22,
   "metadata": {},
   "outputs": [
    {
     "name": "stderr",
     "output_type": "stream",
     "text": [
      "2021-11-24 11:26:29,400 - Average value of google_speed is 3.815765080269415 meters/seconds (=13.736754288969895 km/hour), maximum value of google_speed is 8.0 m/s (=28.8 km/h), minimum (non-zero) value of google_speed is 2.0416666666666665 m/s (=7.35 km/h); there are 0 links with google_speed value equal to 0 m/s\n"
     ]
    }
   ],
   "source": [
    "zeros = sum(i <= 0 for i in google_speed_list)\n",
    "if zeros > 0:\n",
    "    google_speed_list = google_speed_list.remove(0)\n",
    "minimum = min(google_speed_list)\n",
    "maximum = max(google_speed_list)\n",
    "average = sum(google_speed_list)/len(google_speed_list)\n",
    "\n",
    "summary = (\"Average value of google_speed is \" + str(average) + \" meters/seconds (=\" + str(average*3.6) + \" km/hour), \"\n",
    "\"maximum value of google_speed is \" + str(maximum) + \" m/s (=\" + str(maximum*3.6) + \" km/h), minimum (non-zero) \"\n",
    "\"value of google_speed is \" + str(minimum) + \" m/s (=\" + str(minimum*3.6) + \" km/h); there are \" + str(zeros) + \" links \" \n",
    "\"with google_speed value equal to 0 m/s\")\n",
    "\n",
    "logging.info(summary)"
   ]
  },
  {
   "cell_type": "markdown",
   "metadata": {},
   "source": [
    "## 4. Visualising google speeds"
   ]
  },
  {
   "cell_type": "markdown",
   "metadata": {},
   "source": [
    "There various tools available to visualise a genet network, and these are described in detail in the notebook `7. Visualising Network`. Here, we will have a quick look at how to visualise the google speeds in particular.\n",
    "\n",
    "First, we can do a quick visualisation using GeoPandas tools themselves, by plotting the parts of the network which have a `google_speed` value."
   ]
  },
  {
   "cell_type": "code",
   "execution_count": 23,
   "metadata": {},
   "outputs": [
    {
     "data": {
      "text/plain": [
       "<matplotlib.axes._subplots.AxesSubplot at 0x7ff7dedb1610>"
      ]
     },
     "execution_count": 23,
     "metadata": {},
     "output_type": "execute_result"
    },
    {
     "data": {
      "image/png": "[encoded data removed]",
      "text/plain": [
       "<Figure size 864x576 with 2 Axes>"
      ]
     },
     "metadata": {
      "needs_background": "light"
     },
     "output_type": "display_data"
    }
   ],
   "source": [
    "fig, ax = plt.subplots(1, 1, figsize=(12,8))\n",
    "gdf.plot(column='google_speed', ax=ax, legend=True, cmap='hot', linewidth=2.5)"
   ]
  },
  {
   "cell_type": "markdown",
   "metadata": {},
   "source": [
    "Since the visualisation above is quite simplistic, you may want to use Kepler instead. To do so, you just need to save the geodataframe in geojson format, and upload the file to Kepler: https://kepler.gl/demo"
   ]
  },
  {
   "cell_type": "code",
   "execution_count": 24,
   "metadata": {},
   "outputs": [
    {
     "name": "stderr",
     "output_type": "stream",
     "text": [
      "2021-11-24 11:26:29,675 - saving network links with valid google speed values to geojson\n"
     ]
    }
   ],
   "source": [
    "logging.info('saving network links with valid google speed values to geojson')\n",
    "genet.outputs_handler.geojson.save_geodataframe(with_gs, \n",
    "                                                'api_requests_viz', \n",
    "                                                '../example_data/example_google_speed_data/')"
   ]
  },
  {
   "cell_type": "markdown",
   "metadata": {},
   "source": [
    "Once the geojson file is uploaded to Kepler, click on the button next to `Stroke Colour` field (shown by green arrow in the image below). Then, in the field `Stroke Color Based On` choose `google_speed` from the drop down menu. You can also click on the table icon in the top right corner to display the legend.\n",
    "\n",
    "<img src=\"../example_data/example_google_speed_data/kepler_api_requests.png\">"
   ]
  },
  {
   "cell_type": "markdown",
   "metadata": {},
   "source": [
    "You can save this map in html format by clicking on the 'Share' button in the top left corner and selecting 'Export Map'."
   ]
  },
  {
   "cell_type": "code",
   "execution_count": null,
   "metadata": {},
   "outputs": [],
   "source": []
  }
 ],
 "metadata": {
  "kernelspec": {
   "display_name": "Python 3 (ipykernel)",
   "language": "python",
   "name": "python3"
  },
  "language_info": {
   "codemirror_mode": {
    "name": "ipython",
    "version": 3
   },
   "file_extension": ".py",
   "mimetype": "text/x-python",
   "name": "python",
   "nbconvert_exporter": "python",
   "pygments_lexer": "ipython3",
   "version": "3.7.11"
  },
  "latex_envs": {
   "LaTeX_envs_menu_present": true,
   "autoclose": true,
   "autocomplete": true,
   "bibliofile": "biblio.bib",
   "cite_by": "apalike",
   "current_citInitial": 1,
   "eqLabelWithNumbers": true,
   "eqNumInitial": 1,
   "hotkeys": {
    "equation": "Ctrl-E",
    "itemize": "Ctrl-I"
   },
   "labels_anchors": false,
   "latex_user_defs": false,
   "report_style_numbering": false,
   "user_envs_cfg": false
  },
  "toc": {
   "base_numbering": 1,
   "nav_menu": {},
   "number_sections": true,
   "sideBar": true,
   "skip_h1_title": false,
   "title_cell": "Table of Contents",
   "title_sidebar": "Contents",
   "toc_cell": false,
   "toc_position": {},
   "toc_section_display": true,
   "toc_window_display": false
  },
  "varInspector": {
   "cols": {
    "lenName": 16,
    "lenType": 16,
    "lenVar": 40
   },
   "kernels_config": {
    "python": {
     "delete_cmd_postfix": "",
     "delete_cmd_prefix": "del ",
     "library": "var_list.py",
     "varRefreshCmd": "print(var_dic_list())"
    },
    "r": {
     "delete_cmd_postfix": ") ",
     "delete_cmd_prefix": "rm(",
     "library": "var_list.r",
     "varRefreshCmd": "cat(var_dic_list()) "
    }
   },
   "types_to_exclude": [
    "module",
    "function",
    "builtin_function_or_method",
    "instance",
    "_Feature"
   ],
   "window_display": false
  }
 },
 "nbformat": 4,
 "nbformat_minor": 2
}
