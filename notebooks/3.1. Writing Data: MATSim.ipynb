{
 "cells": [
  {
   "cell_type": "markdown",
   "metadata": {},
   "source": [
    "# Writing `Network` to MATSim\n",
    "\n",
    "This page goes through the MATSim files that can be generated with GeNet. Available as a jupyter notebook or wiki page.\n",
    "\n",
    "## Supported output files\n",
    "\n",
    "GeNet currently supports writing the following MATSim network files:\n",
    "\n",
    "- `network.xml` with the following [network v2 dtd schema](https://www.matsim.org/files/dtd/network_v2.dtd)\n",
    "\n",
    "    Data present on the nodes and edges of the graph will only persist to the `network.xml` file if it matches the \n",
    "    required or optional attributes defined in the [/variables.py](https://github.com/arup-group/genet/blob/master/genet/variables.py), \n",
    "    or is saved in a nested dictionary under `attributes` for network links in the following \n",
    "    format: `'attributes': {'attribute_name' : {'name': 'attribute_name', 'class': 'java.lang.String', 'text': 'attribute_value'}}`.\n",
    "\n",
    "- `schedule.xml` with the following [schedule v2 dtd schema](https://www.matsim.org/files/dtd/transitSchedule_v2.dtd)\n",
    "\n",
    "    Similarly to the network, in the case any data is added to the `genet.Schedule` object's graph, only the allowed \n",
    "    attributes for stops (graph nodes) defined in [/variables.py](https://github.com/arup-group/genet/blob/master/genet/variables.py) \n",
    "    will persist to the `schedule.xml` file.\n",
    "\n",
    "- `vehicles.xml` with the following [vehicles v1 dtd schema](https://www.matsim.org/files/dtd/vehicleDefinitions_v1.0.xsd)\n",
    "\n",
    "    GeNet will generate a `vehicle.xml` file using `vehicles` and `vehicle_types`\n",
    "    attributes of the `Schedule` object. These are based on \n",
    "    [vehicle_definitions.yml](genet/configs/vehicles/vehicle_definitions.yml) by default\n",
    "    but can be customised at the time of creating the Schedule or by accessing/modifying\n",
    "    those attributes of the object directly.\n",
    "\n",
    "- `roadpricing-file.xml` with the following [roadpricing v1 dtd schema](http://www.matsim.org/files/dtd/roadpricing_v1.dtd)\n",
    "\n",
    "    How to generate data for this file is described in: Usage: 4. Using Network\n",
    "\n",
    "Let's read in a sample MATSim network into GeNet's `Network` object."
   ]
  },
  {
   "cell_type": "code",
   "execution_count": 1,
   "metadata": {
    "ExecuteTime": {
     "end_time": "2022-07-14T14:31:43.948069Z",
     "start_time": "2022-07-14T14:31:34.212894Z"
    }
   },
   "outputs": [
    {
     "name": "stdout",
     "output_type": "stream",
     "text": [
      "Graph info: Name: \n",
      "Type: MultiDiGraph\n",
      "Number of nodes: 1662\n",
      "Number of edges: 3166\n",
      "Average in degree:   1.9049\n",
      "Average out degree:   1.9049 \n",
      "Schedule info: Schedule:\n",
      "Number of services: 9\n",
      "Number of routes: 68\n",
      "Number of stops: 118\n"
     ]
    }
   ],
   "source": [
    "from genet import read_matsim\n",
    "import os\n",
    "\n",
    "path_to_matsim_network = '../example_data/pt2matsim_network'\n",
    "\n",
    "network = os.path.join(path_to_matsim_network, 'network.xml')\n",
    "schedule = os.path.join(path_to_matsim_network, 'schedule.xml')\n",
    "vehicles = os.path.join(path_to_matsim_network, 'vehicles.xml')\n",
    "n = read_matsim(\n",
    "    path_to_network=network, \n",
    "    epsg='epsg:27700', \n",
    "    path_to_schedule=schedule, \n",
    "    path_to_vehicles=vehicles\n",
    ")\n",
    "# you don't need to read the vehicles file, but doing so ensures all vehicles\n",
    "# in the schedule are of the expected type and the definition of the vehicle\n",
    "# is preserved\n",
    "n.print()"
   ]
  },
  {
   "cell_type": "markdown",
   "metadata": {},
   "source": [
    "To write the network into matsim format, use `write_to_matsim`"
   ]
  },
  {
   "cell_type": "code",
   "execution_count": 2,
   "metadata": {
    "ExecuteTime": {
     "end_time": "2022-07-14T14:31:45.111739Z",
     "start_time": "2022-07-14T14:31:43.950582Z"
    }
   },
   "outputs": [
    {
     "name": "stderr",
     "output_type": "stream",
     "text": [
      "2022-07-14 15:31:43,952 - Writing ../example_data/pt2matsim_network/genet_output/network.xml\n",
      "2022-07-14 15:31:44,529 - Writing ../example_data/pt2matsim_network/genet_output/schedule.xml\n",
      "2022-07-14 15:31:44,570 - Writing ../example_data/pt2matsim_network/genet_output/vehicles.xml\n"
     ]
    }
   ],
   "source": [
    "n.write_to_matsim(os.path.join(path_to_matsim_network, 'genet_output'))"
   ]
  },
  {
   "cell_type": "markdown",
   "metadata": {},
   "source": [
    "Note that saving your network to MATSim format will only include the attributes included in the [MATSim network schema](https://www.matsim.org/files/dtd/network_v2.dtd). All other attributes will not be saved to this format, but you may be interested in also saving your network to CSV, or (Geo/)JSON formats."
   ]
  }
 ],
 "metadata": {
  "kernelspec": {
   "display_name": "genet",
   "language": "python",
   "name": "genet"
  },
  "language_info": {
   "codemirror_mode": {
    "name": "ipython",
    "version": 3
   },
   "file_extension": ".py",
   "mimetype": "text/x-python",
   "name": "python",
   "nbconvert_exporter": "python",
   "pygments_lexer": "ipython3",
   "version": "3.7.7"
  },
  "latex_envs": {
   "LaTeX_envs_menu_present": true,
   "autoclose": true,
   "autocomplete": true,
   "bibliofile": "biblio.bib",
   "cite_by": "apalike",
   "current_citInitial": 1,
   "eqLabelWithNumbers": true,
   "eqNumInitial": 1,
   "hotkeys": {
    "equation": "Ctrl-E",
    "itemize": "Ctrl-I"
   },
   "labels_anchors": false,
   "latex_user_defs": false,
   "report_style_numbering": false,
   "user_envs_cfg": false
  },
  "toc": {
   "base_numbering": 1,
   "nav_menu": {},
   "number_sections": true,
   "sideBar": true,
   "skip_h1_title": false,
   "title_cell": "Table of Contents",
   "title_sidebar": "Contents",
   "toc_cell": false,
   "toc_position": {},
   "toc_section_display": true,
   "toc_window_display": false
  },
  "varInspector": {
   "cols": {
    "lenName": 16,
    "lenType": 16,
    "lenVar": 40
   },
   "kernels_config": {
    "python": {
     "delete_cmd_postfix": "",
     "delete_cmd_prefix": "del ",
     "library": "var_list.py",
     "varRefreshCmd": "print(var_dic_list())"
    },
    "r": {
     "delete_cmd_postfix": ") ",
     "delete_cmd_prefix": "rm(",
     "library": "var_list.r",
     "varRefreshCmd": "cat(var_dic_list()) "
    }
   },
   "types_to_exclude": [
    "module",
    "function",
    "builtin_function_or_method",
    "instance",
    "_Feature"
   ],
   "window_display": false
  }
 },
 "nbformat": 4,
 "nbformat_minor": 2
}
