{
 "cells": [
  {
   "cell_type": "markdown",
   "metadata": {},
   "source": [
    "# Auxiliary files\n",
    "\n",
    "GeNet supports reading in files in JSON and CSV formats which reference `Network` link or node IDs. Each file needs to reference only links or nodes, not both, in case there is overlap in IDs between nodes and links.\n",
    "\n",
    "An `AuxiliaryFile` attaches itself to the Network IDs, finding where the overlap in IDs is with the set of IDs stored in the network. A map is kept within the `AuxiliaryFile` object during a GeNet session, if using GeNet's own modification methods. The updates are applied right before saving the Network to file or when `update` method on the `AuxiliaryFile` is called. \n",
    "\n",
    "Some processes which will result in ID changes are:\n",
    "- node or link reindexing\n",
    "- network simplification\n",
    "\n",
    "And those which will result in data loss:\n",
    "- node or link removal\n",
    "\n",
    "Some examples of auxiliary files:\n",
    "- benchmarks snaped to the network\n",
    "- road pricing csv snapped to the network\n",
    "\n",
    "Right now, GeNet supports two types of auxiliary files:\n",
    "- CSV: table with single level indexing. The IDs can be nested in lists\n",
    "- JSON: any level of nestedness is allowed, the IDs can live singularly or within lists"
   ]
  },
  {
   "cell_type": "code",
   "execution_count": 1,
   "metadata": {
    "ExecuteTime": {
     "end_time": "2022-07-14T14:41:14.837729Z",
     "start_time": "2022-07-14T14:41:13.970097Z"
    }
   },
   "outputs": [],
   "source": [
    "import os\n",
    "import json\n",
    "import pandas as pd\n",
    "\n",
    "def read_json_file(path):\n",
    "    with open(path) as json_file:\n",
    "        return json.load(json_file)\n",
    "\n",
    "def read_csv_file(path):\n",
    "    return pd.read_csv(path)"
   ]
  },
  {
   "cell_type": "markdown",
   "metadata": {},
   "source": [
    "Let's show a couple of examples."
   ]
  },
  {
   "cell_type": "code",
   "execution_count": 2,
   "metadata": {
    "ExecuteTime": {
     "end_time": "2022-07-14T14:41:14.853289Z",
     "start_time": "2022-07-14T14:41:14.841002Z"
    }
   },
   "outputs": [],
   "source": [
    "example_json = os.path.join('..', 'tests', 'test_data', 'auxiliary_files', 'links_benchmark.json')\n",
    "example_csv = os.path.join('..', 'tests', 'test_data', 'auxiliary_files', 'links_benchmark.csv')"
   ]
  },
  {
   "cell_type": "code",
   "execution_count": 3,
   "metadata": {
    "ExecuteTime": {
     "end_time": "2022-07-14T14:41:14.906063Z",
     "start_time": "2022-07-14T14:41:14.874286Z"
    }
   },
   "outputs": [
    {
     "data": {
      "text/plain": [
       "{'car': {'1': {'in': {'links': ['0'],\n",
       "    'counts': {'0': 78.0,\n",
       "     '1': 46.0,\n",
       "     '2': 39.0,\n",
       "     '3': 45.0,\n",
       "     '4': 72.0,\n",
       "     '5': 188.0,\n",
       "     '6': 475.0,\n",
       "     '7': 734.0,\n",
       "     '8': 651.0,\n",
       "     '9': 605.0,\n",
       "     '10': 605.0,\n",
       "     '11': 625.0,\n",
       "     '12': 569.0,\n",
       "     '13': 632.0,\n",
       "     '14': 586.0,\n",
       "     '15': 585.0,\n",
       "     '16': 825.0,\n",
       "     '17': 756.0,\n",
       "     '18': 711.0,\n",
       "     '19': 597.0,\n",
       "     '20': 405.0,\n",
       "     '21': 285.0,\n",
       "     '22': 218.0,\n",
       "     '23': 136.0}},\n",
       "   'out': {'links': ['1'],\n",
       "    'counts': {'0': 76.0,\n",
       "     '1': 45.0,\n",
       "     '2': 40.0,\n",
       "     '3': 38.0,\n",
       "     '4': 63.0,\n",
       "     '5': 165.0,\n",
       "     '6': 608.0,\n",
       "     '7': 858.0,\n",
       "     '8': 725.0,\n",
       "     '9': 514.0,\n",
       "     '10': 415.0,\n",
       "     '11': 485.0,\n",
       "     '12': 554.0,\n",
       "     '13': 463.0,\n",
       "     '14': 589.0,\n",
       "     '15': 616.0,\n",
       "     '16': 835.0,\n",
       "     '17': 901.0,\n",
       "     '18': 704.0,\n",
       "     '19': 476.0,\n",
       "     '20': 355.0,\n",
       "     '21': 283.0,\n",
       "     '22': 219.0,\n",
       "     '23': 134.0}}},\n",
       "  '2': {'in': {'links': ['2'],\n",
       "    'counts': {'0': 92.0,\n",
       "     '1': 57.0,\n",
       "     '2': 53.0,\n",
       "     '3': 55.0,\n",
       "     '4': 88.0,\n",
       "     '5': 222.0,\n",
       "     '6': 637.0,\n",
       "     '7': 1146.0,\n",
       "     '8': 1017.0,\n",
       "     '9': 691.0,\n",
       "     '10': 578.0,\n",
       "     '11': 519.0,\n",
       "     '12': 540.0,\n",
       "     '13': 615.0,\n",
       "     '14': 619.0,\n",
       "     '15': 630.0,\n",
       "     '16': 828.0,\n",
       "     '17': 913.0,\n",
       "     '18': 890.0,\n",
       "     '19': 629.0,\n",
       "     '20': 326.0,\n",
       "     '21': 315.0,\n",
       "     '22': 252.0,\n",
       "     '23': 159.0}},\n",
       "   'out': {'links': ['3', '4'],\n",
       "    'counts': {'0': 81.0,\n",
       "     '1': 53.0,\n",
       "     '2': 47.0,\n",
       "     '3': 45.0,\n",
       "     '4': 77.0,\n",
       "     '5': 182.0,\n",
       "     '6': 385.0,\n",
       "     '7': 721.0,\n",
       "     '8': 592.0,\n",
       "     '9': 487.0,\n",
       "     '10': 488.0,\n",
       "     '11': 514.0,\n",
       "     '12': 498.0,\n",
       "     '13': 659.0,\n",
       "     '14': 749.0,\n",
       "     '15': 786.0,\n",
       "     '16': 1009.0,\n",
       "     '17': 908.0,\n",
       "     '18': 845.0,\n",
       "     '19': 578.0,\n",
       "     '20': 370.0,\n",
       "     '21': 273.0,\n",
       "     '22': 230.0,\n",
       "     '23': 137.0}}}},\n",
       " 'bus': {'1': {'in': {'links': ['0'],\n",
       "    'counts': {'0': 78.0,\n",
       "     '1': 46.0,\n",
       "     '2': 39.0,\n",
       "     '3': 45.0,\n",
       "     '4': 72.0,\n",
       "     '5': 188.0,\n",
       "     '6': 475.0,\n",
       "     '7': 734.0,\n",
       "     '8': 651.0,\n",
       "     '9': 605.0,\n",
       "     '10': 605.0,\n",
       "     '11': 625.0,\n",
       "     '12': 569.0,\n",
       "     '13': 632.0,\n",
       "     '14': 586.0,\n",
       "     '15': 585.0,\n",
       "     '16': 825.0,\n",
       "     '17': 756.0,\n",
       "     '18': 711.0,\n",
       "     '19': 597.0,\n",
       "     '20': 405.0,\n",
       "     '21': 285.0,\n",
       "     '22': 218.0,\n",
       "     '23': 136.0}},\n",
       "   'out': {'links': ['1'],\n",
       "    'counts': {'0': 76.0,\n",
       "     '1': 45.0,\n",
       "     '2': 40.0,\n",
       "     '3': 38.0,\n",
       "     '4': 63.0,\n",
       "     '5': 165.0,\n",
       "     '6': 608.0,\n",
       "     '7': 858.0,\n",
       "     '8': 725.0,\n",
       "     '9': 514.0,\n",
       "     '10': 415.0,\n",
       "     '11': 485.0,\n",
       "     '12': 554.0,\n",
       "     '13': 463.0,\n",
       "     '14': 589.0,\n",
       "     '15': 616.0,\n",
       "     '16': 835.0,\n",
       "     '17': 901.0,\n",
       "     '18': 704.0,\n",
       "     '19': 476.0,\n",
       "     '20': 355.0,\n",
       "     '21': 283.0,\n",
       "     '22': 219.0,\n",
       "     '23': 134.0}}},\n",
       "  '2': {'in': {'links': ['2'],\n",
       "    'counts': {'0': 92.0,\n",
       "     '1': 57.0,\n",
       "     '2': 53.0,\n",
       "     '3': 55.0,\n",
       "     '4': 88.0,\n",
       "     '5': 222.0,\n",
       "     '6': 637.0,\n",
       "     '7': 1146.0,\n",
       "     '8': 1017.0,\n",
       "     '9': 691.0,\n",
       "     '10': 578.0,\n",
       "     '11': 519.0,\n",
       "     '12': 540.0,\n",
       "     '13': 615.0,\n",
       "     '14': 619.0,\n",
       "     '15': 630.0,\n",
       "     '16': 828.0,\n",
       "     '17': 913.0,\n",
       "     '18': 890.0,\n",
       "     '19': 629.0,\n",
       "     '20': 326.0,\n",
       "     '21': 315.0,\n",
       "     '22': 252.0,\n",
       "     '23': 159.0}},\n",
       "   'out': {'links': ['3', '4'],\n",
       "    'counts': {'0': 81.0,\n",
       "     '1': 53.0,\n",
       "     '2': 47.0,\n",
       "     '3': 45.0,\n",
       "     '4': 77.0,\n",
       "     '5': 182.0,\n",
       "     '6': 385.0,\n",
       "     '7': 721.0,\n",
       "     '8': 592.0,\n",
       "     '9': 487.0,\n",
       "     '10': 488.0,\n",
       "     '11': 514.0,\n",
       "     '12': 498.0,\n",
       "     '13': 659.0,\n",
       "     '14': 749.0,\n",
       "     '15': 786.0,\n",
       "     '16': 1009.0,\n",
       "     '17': 908.0,\n",
       "     '18': 845.0,\n",
       "     '19': 578.0,\n",
       "     '20': 370.0,\n",
       "     '21': 273.0,\n",
       "     '22': 230.0,\n",
       "     '23': 137.0}}}}}"
      ]
     },
     "execution_count": 3,
     "metadata": {},
     "output_type": "execute_result"
    }
   ],
   "source": [
    "read_json_file(example_json)"
   ]
  },
  {
   "cell_type": "code",
   "execution_count": 4,
   "metadata": {
    "ExecuteTime": {
     "end_time": "2022-07-14T14:41:14.967138Z",
     "start_time": "2022-07-14T14:41:14.914425Z"
    }
   },
   "outputs": [
    {
     "data": {
      "text/html": [
       "<div>\n",
       "<style scoped>\n",
       "    .dataframe tbody tr th:only-of-type {\n",
       "        vertical-align: middle;\n",
       "    }\n",
       "\n",
       "    .dataframe tbody tr th {\n",
       "        vertical-align: top;\n",
       "    }\n",
       "\n",
       "    .dataframe thead th {\n",
       "        text-align: right;\n",
       "    }\n",
       "</style>\n",
       "<table border=\"1\" class=\"dataframe\">\n",
       "  <thead>\n",
       "    <tr style=\"text-align: right;\">\n",
       "      <th></th>\n",
       "      <th>id</th>\n",
       "      <th>direction</th>\n",
       "      <th>latitude</th>\n",
       "      <th>longitude</th>\n",
       "      <th>osm_id</th>\n",
       "      <th>links</th>\n",
       "      <th>other_links</th>\n",
       "    </tr>\n",
       "  </thead>\n",
       "  <tbody>\n",
       "    <tr>\n",
       "      <th>0</th>\n",
       "      <td>L001</td>\n",
       "      <td>north</td>\n",
       "      <td>51.445503</td>\n",
       "      <td>-0.234686</td>\n",
       "      <td>19074660</td>\n",
       "      <td>['1']</td>\n",
       "      <td>'5'</td>\n",
       "    </tr>\n",
       "    <tr>\n",
       "      <th>1</th>\n",
       "      <td>L001</td>\n",
       "      <td>south</td>\n",
       "      <td>51.445503</td>\n",
       "      <td>-0.234686</td>\n",
       "      <td>19074660</td>\n",
       "      <td>['2']</td>\n",
       "      <td>'6'</td>\n",
       "    </tr>\n",
       "    <tr>\n",
       "      <th>2</th>\n",
       "      <td>L002</td>\n",
       "      <td>east</td>\n",
       "      <td>51.444698</td>\n",
       "      <td>-0.233398</td>\n",
       "      <td>142592756</td>\n",
       "      <td>['3']</td>\n",
       "      <td>'7'</td>\n",
       "    </tr>\n",
       "    <tr>\n",
       "      <th>3</th>\n",
       "      <td>L002</td>\n",
       "      <td>west</td>\n",
       "      <td>51.444698</td>\n",
       "      <td>-0.233398</td>\n",
       "      <td>132778373</td>\n",
       "      <td>['4']</td>\n",
       "      <td>'8'</td>\n",
       "    </tr>\n",
       "  </tbody>\n",
       "</table>\n",
       "</div>"
      ],
      "text/plain": [
       "     id direction   latitude  longitude     osm_id  links other_links\n",
       "0  L001     north  51.445503  -0.234686   19074660  ['1']         '5'\n",
       "1  L001     south  51.445503  -0.234686   19074660  ['2']         '6'\n",
       "2  L002      east  51.444698  -0.233398  142592756  ['3']         '7'\n",
       "3  L002      west  51.444698  -0.233398  132778373  ['4']         '8'"
      ]
     },
     "execution_count": 4,
     "metadata": {},
     "output_type": "execute_result"
    }
   ],
   "source": [
    "read_csv_file(example_csv)"
   ]
  },
  {
   "cell_type": "markdown",
   "metadata": {},
   "source": [
    "We can attach them to a `Network` object using dedicated methods. Each file needs to pertain only to one set of IDs, either node or link IDs and the relevant method should be used to read the file."
   ]
  },
  {
   "cell_type": "code",
   "execution_count": 5,
   "metadata": {
    "ExecuteTime": {
     "end_time": "2022-07-14T14:41:18.936638Z",
     "start_time": "2022-07-14T14:41:14.974830Z"
    }
   },
   "outputs": [
    {
     "name": "stderr",
     "output_type": "stream",
     "text": [
      "2022-07-14 15:41:18,911 - Added 4 nodes\n",
      "2022-07-14 15:41:18,921 - Added 4 links\n"
     ]
    }
   ],
   "source": [
    "from genet import Network\n",
    "n = Network('epsg:27700')\n",
    "n.add_nodes({'1': {'x': 1, 'y': 2, 's2_id': 0}, '2': {'x': 1, 'y': 2, 's2_id': 0},\n",
    "             '3': {'x': 1, 'y': 2, 's2_id': 0}, '4': {'x': 1, 'y': 2, 's2_id': 0}})\n",
    "n.add_links({'1': {'from': '1', 'to': '2', 'freespeed': 1, 'capacity': 1, 'permlanes': 1, 'length': 1, 'modes': {'car'}},\n",
    "             '2': {'from': '1', 'to': '3', 'freespeed': 1, 'capacity': 1, 'permlanes': 1, 'length': 1, 'modes': {'car'}},\n",
    "             '3': {'from': '2', 'to': '4', 'freespeed': 1, 'capacity': 1, 'permlanes': 1, 'length': 1, 'modes': {'car'}},\n",
    "             '4': {'from': '3', 'to': '4', 'freespeed': 1, 'capacity': 1, 'permlanes': 1, 'length': 1, 'modes': {'car'}}})\n",
    "n.read_auxiliary_link_file(example_json)\n",
    "n.read_auxiliary_node_file(example_csv)"
   ]
  },
  {
   "cell_type": "markdown",
   "metadata": {},
   "source": [
    "Auxiliary files will record where within the file the node or link ID data is stored and use it later for updating."
   ]
  },
  {
   "cell_type": "code",
   "execution_count": 6,
   "metadata": {
    "ExecuteTime": {
     "end_time": "2022-07-14T14:41:18.945598Z",
     "start_time": "2022-07-14T14:41:18.939025Z"
    }
   },
   "outputs": [
    {
     "data": {
      "text/plain": [
       "['links']"
      ]
     },
     "execution_count": 6,
     "metadata": {},
     "output_type": "execute_result"
    }
   ],
   "source": [
    "n.auxiliary_files['node']['links_benchmark.csv'].attachments"
   ]
  },
  {
   "cell_type": "code",
   "execution_count": 7,
   "metadata": {
    "ExecuteTime": {
     "end_time": "2022-07-14T14:41:18.954697Z",
     "start_time": "2022-07-14T14:41:18.948086Z"
    }
   },
   "outputs": [
    {
     "data": {
      "text/plain": [
       "[{'car': {'1': {'out': 'links'}}},\n",
       " {'car': {'2': {'in': 'links'}}},\n",
       " {'car': {'2': {'out': 'links'}}},\n",
       " {'bus': {'1': {'out': 'links'}}},\n",
       " {'bus': {'2': {'in': 'links'}}},\n",
       " {'bus': {'2': {'out': 'links'}}}]"
      ]
     },
     "execution_count": 7,
     "metadata": {},
     "output_type": "execute_result"
    }
   ],
   "source": [
    "n.auxiliary_files['link']['links_benchmark.json'].attachments"
   ]
  },
  {
   "cell_type": "markdown",
   "metadata": {},
   "source": [
    "Now we can use methods to change the Network. The changes will be recorded and applied to the files when we save the network."
   ]
  },
  {
   "cell_type": "code",
   "execution_count": 8,
   "metadata": {
    "ExecuteTime": {
     "end_time": "2022-07-14T14:41:18.992584Z",
     "start_time": "2022-07-14T14:41:18.959750Z"
    }
   },
   "outputs": [
    {
     "name": "stderr",
     "output_type": "stream",
     "text": [
      "2022-07-14 15:41:18,960 - Begin simplifying the graph\n",
      "2022-07-14 15:41:18,962 - Generating paths to be simplified\n",
      "2022-07-14 15:41:18,963 - Identified 2 edge endpoints\n",
      "2022-07-14 15:41:18,964 - Identified 2 possible paths\n",
      "2022-07-14 15:41:18,965 - Processing 2 paths\n",
      "2022-07-14 15:41:18,966 - Found 2 paths to simplify.\n",
      "2022-07-14 15:41:18,967 - Generated 2 link ids.\n",
      "2022-07-14 15:41:18,967 - Processing links for all paths to be simplified\n",
      "2022-07-14 15:41:18,969 - Adding new simplified links\n",
      "2022-07-14 15:41:18,983 - Added 2 links\n",
      "2022-07-14 15:41:18,986 - Simplified graph: 4 to 2 nodes, 4 to 2 edges\n"
     ]
    }
   ],
   "source": [
    "n.simplify()"
   ]
  },
  {
   "cell_type": "code",
   "execution_count": 9,
   "metadata": {
    "ExecuteTime": {
     "end_time": "2022-07-14T14:41:19.001654Z",
     "start_time": "2022-07-14T14:41:18.996874Z"
    }
   },
   "outputs": [
    {
     "data": {
      "text/plain": [
       "{'crs': 'epsg:27700', 'simplified': True}"
      ]
     },
     "execution_count": 9,
     "metadata": {},
     "output_type": "execute_result"
    }
   ],
   "source": [
    "n.attributes"
   ]
  },
  {
   "cell_type": "code",
   "execution_count": 10,
   "metadata": {
    "ExecuteTime": {
     "end_time": "2022-07-14T14:41:19.023155Z",
     "start_time": "2022-07-14T14:41:19.004490Z"
    }
   },
   "outputs": [
    {
     "name": "stderr",
     "output_type": "stream",
     "text": [
      "2022-07-14 15:41:19,006 - Writing ../genet_output/network.xml\n",
      "2022-07-14 15:41:19,015 - Saving auxiliary file links_benchmark.json in ../genet_output/auxiliary_files\n",
      "2022-07-14 15:41:19,019 - Saving auxiliary file links_benchmark.csv in ../genet_output/auxiliary_files\n"
     ]
    }
   ],
   "source": [
    "n.write_to_matsim(os.path.join('..', 'genet_output'))"
   ]
  },
  {
   "cell_type": "code",
   "execution_count": 11,
   "metadata": {
    "ExecuteTime": {
     "end_time": "2022-07-14T14:41:19.040093Z",
     "start_time": "2022-07-14T14:41:19.025386Z"
    }
   },
   "outputs": [
    {
     "data": {
      "text/plain": [
       "{'car': {'1': {'in': {'links': ['0'],\n",
       "    'counts': {'0': 78.0,\n",
       "     '1': 46.0,\n",
       "     '2': 39.0,\n",
       "     '3': 45.0,\n",
       "     '4': 72.0,\n",
       "     '5': 188.0,\n",
       "     '6': 475.0,\n",
       "     '7': 734.0,\n",
       "     '8': 651.0,\n",
       "     '9': 605.0,\n",
       "     '10': 605.0,\n",
       "     '11': 625.0,\n",
       "     '12': 569.0,\n",
       "     '13': 632.0,\n",
       "     '14': 586.0,\n",
       "     '15': 585.0,\n",
       "     '16': 825.0,\n",
       "     '17': 756.0,\n",
       "     '18': 711.0,\n",
       "     '19': 597.0,\n",
       "     '20': 405.0,\n",
       "     '21': 285.0,\n",
       "     '22': 218.0,\n",
       "     '23': 136.0}},\n",
       "   'out': {'links': ['5'],\n",
       "    'counts': {'0': 76.0,\n",
       "     '1': 45.0,\n",
       "     '2': 40.0,\n",
       "     '3': 38.0,\n",
       "     '4': 63.0,\n",
       "     '5': 165.0,\n",
       "     '6': 608.0,\n",
       "     '7': 858.0,\n",
       "     '8': 725.0,\n",
       "     '9': 514.0,\n",
       "     '10': 415.0,\n",
       "     '11': 485.0,\n",
       "     '12': 554.0,\n",
       "     '13': 463.0,\n",
       "     '14': 589.0,\n",
       "     '15': 616.0,\n",
       "     '16': 835.0,\n",
       "     '17': 901.0,\n",
       "     '18': 704.0,\n",
       "     '19': 476.0,\n",
       "     '20': 355.0,\n",
       "     '21': 283.0,\n",
       "     '22': 219.0,\n",
       "     '23': 134.0}}},\n",
       "  '2': {'in': {'links': ['0'],\n",
       "    'counts': {'0': 92.0,\n",
       "     '1': 57.0,\n",
       "     '2': 53.0,\n",
       "     '3': 55.0,\n",
       "     '4': 88.0,\n",
       "     '5': 222.0,\n",
       "     '6': 637.0,\n",
       "     '7': 1146.0,\n",
       "     '8': 1017.0,\n",
       "     '9': 691.0,\n",
       "     '10': 578.0,\n",
       "     '11': 519.0,\n",
       "     '12': 540.0,\n",
       "     '13': 615.0,\n",
       "     '14': 619.0,\n",
       "     '15': 630.0,\n",
       "     '16': 828.0,\n",
       "     '17': 913.0,\n",
       "     '18': 890.0,\n",
       "     '19': 629.0,\n",
       "     '20': 326.0,\n",
       "     '21': 315.0,\n",
       "     '22': 252.0,\n",
       "     '23': 159.0}},\n",
       "   'out': {'links': ['5', '0'],\n",
       "    'counts': {'0': 81.0,\n",
       "     '1': 53.0,\n",
       "     '2': 47.0,\n",
       "     '3': 45.0,\n",
       "     '4': 77.0,\n",
       "     '5': 182.0,\n",
       "     '6': 385.0,\n",
       "     '7': 721.0,\n",
       "     '8': 592.0,\n",
       "     '9': 487.0,\n",
       "     '10': 488.0,\n",
       "     '11': 514.0,\n",
       "     '12': 498.0,\n",
       "     '13': 659.0,\n",
       "     '14': 749.0,\n",
       "     '15': 786.0,\n",
       "     '16': 1009.0,\n",
       "     '17': 908.0,\n",
       "     '18': 845.0,\n",
       "     '19': 578.0,\n",
       "     '20': 370.0,\n",
       "     '21': 273.0,\n",
       "     '22': 230.0,\n",
       "     '23': 137.0}}}},\n",
       " 'bus': {'1': {'in': {'links': ['0'],\n",
       "    'counts': {'0': 78.0,\n",
       "     '1': 46.0,\n",
       "     '2': 39.0,\n",
       "     '3': 45.0,\n",
       "     '4': 72.0,\n",
       "     '5': 188.0,\n",
       "     '6': 475.0,\n",
       "     '7': 734.0,\n",
       "     '8': 651.0,\n",
       "     '9': 605.0,\n",
       "     '10': 605.0,\n",
       "     '11': 625.0,\n",
       "     '12': 569.0,\n",
       "     '13': 632.0,\n",
       "     '14': 586.0,\n",
       "     '15': 585.0,\n",
       "     '16': 825.0,\n",
       "     '17': 756.0,\n",
       "     '18': 711.0,\n",
       "     '19': 597.0,\n",
       "     '20': 405.0,\n",
       "     '21': 285.0,\n",
       "     '22': 218.0,\n",
       "     '23': 136.0}},\n",
       "   'out': {'links': ['5'],\n",
       "    'counts': {'0': 76.0,\n",
       "     '1': 45.0,\n",
       "     '2': 40.0,\n",
       "     '3': 38.0,\n",
       "     '4': 63.0,\n",
       "     '5': 165.0,\n",
       "     '6': 608.0,\n",
       "     '7': 858.0,\n",
       "     '8': 725.0,\n",
       "     '9': 514.0,\n",
       "     '10': 415.0,\n",
       "     '11': 485.0,\n",
       "     '12': 554.0,\n",
       "     '13': 463.0,\n",
       "     '14': 589.0,\n",
       "     '15': 616.0,\n",
       "     '16': 835.0,\n",
       "     '17': 901.0,\n",
       "     '18': 704.0,\n",
       "     '19': 476.0,\n",
       "     '20': 355.0,\n",
       "     '21': 283.0,\n",
       "     '22': 219.0,\n",
       "     '23': 134.0}}},\n",
       "  '2': {'in': {'links': ['0'],\n",
       "    'counts': {'0': 92.0,\n",
       "     '1': 57.0,\n",
       "     '2': 53.0,\n",
       "     '3': 55.0,\n",
       "     '4': 88.0,\n",
       "     '5': 222.0,\n",
       "     '6': 637.0,\n",
       "     '7': 1146.0,\n",
       "     '8': 1017.0,\n",
       "     '9': 691.0,\n",
       "     '10': 578.0,\n",
       "     '11': 519.0,\n",
       "     '12': 540.0,\n",
       "     '13': 615.0,\n",
       "     '14': 619.0,\n",
       "     '15': 630.0,\n",
       "     '16': 828.0,\n",
       "     '17': 913.0,\n",
       "     '18': 890.0,\n",
       "     '19': 629.0,\n",
       "     '20': 326.0,\n",
       "     '21': 315.0,\n",
       "     '22': 252.0,\n",
       "     '23': 159.0}},\n",
       "   'out': {'links': ['5', '0'],\n",
       "    'counts': {'0': 81.0,\n",
       "     '1': 53.0,\n",
       "     '2': 47.0,\n",
       "     '3': 45.0,\n",
       "     '4': 77.0,\n",
       "     '5': 182.0,\n",
       "     '6': 385.0,\n",
       "     '7': 721.0,\n",
       "     '8': 592.0,\n",
       "     '9': 487.0,\n",
       "     '10': 488.0,\n",
       "     '11': 514.0,\n",
       "     '12': 498.0,\n",
       "     '13': 659.0,\n",
       "     '14': 749.0,\n",
       "     '15': 786.0,\n",
       "     '16': 1009.0,\n",
       "     '17': 908.0,\n",
       "     '18': 845.0,\n",
       "     '19': 578.0,\n",
       "     '20': 370.0,\n",
       "     '21': 273.0,\n",
       "     '22': 230.0,\n",
       "     '23': 137.0}}}}}"
      ]
     },
     "execution_count": 11,
     "metadata": {},
     "output_type": "execute_result"
    }
   ],
   "source": [
    "read_json_file(os.path.join('..', 'genet_output', 'auxiliary_files', 'links_benchmark.json'))"
   ]
  },
  {
   "cell_type": "code",
   "execution_count": 12,
   "metadata": {
    "ExecuteTime": {
     "end_time": "2022-07-14T14:41:19.060955Z",
     "start_time": "2022-07-14T14:41:19.042608Z"
    }
   },
   "outputs": [
    {
     "data": {
      "text/html": [
       "<div>\n",
       "<style scoped>\n",
       "    .dataframe tbody tr th:only-of-type {\n",
       "        vertical-align: middle;\n",
       "    }\n",
       "\n",
       "    .dataframe tbody tr th {\n",
       "        vertical-align: top;\n",
       "    }\n",
       "\n",
       "    .dataframe thead th {\n",
       "        text-align: right;\n",
       "    }\n",
       "</style>\n",
       "<table border=\"1\" class=\"dataframe\">\n",
       "  <thead>\n",
       "    <tr style=\"text-align: right;\">\n",
       "      <th></th>\n",
       "      <th>Unnamed: 0</th>\n",
       "      <th>id</th>\n",
       "      <th>direction</th>\n",
       "      <th>latitude</th>\n",
       "      <th>longitude</th>\n",
       "      <th>osm_id</th>\n",
       "      <th>links</th>\n",
       "      <th>other_links</th>\n",
       "    </tr>\n",
       "  </thead>\n",
       "  <tbody>\n",
       "    <tr>\n",
       "      <th>0</th>\n",
       "      <td>0</td>\n",
       "      <td>L001</td>\n",
       "      <td>north</td>\n",
       "      <td>51.445503</td>\n",
       "      <td>-0.234686</td>\n",
       "      <td>19074660</td>\n",
       "      <td>['1']</td>\n",
       "      <td>5</td>\n",
       "    </tr>\n",
       "    <tr>\n",
       "      <th>1</th>\n",
       "      <td>1</td>\n",
       "      <td>L001</td>\n",
       "      <td>south</td>\n",
       "      <td>51.445503</td>\n",
       "      <td>-0.234686</td>\n",
       "      <td>19074660</td>\n",
       "      <td>[None]</td>\n",
       "      <td>6</td>\n",
       "    </tr>\n",
       "    <tr>\n",
       "      <th>2</th>\n",
       "      <td>2</td>\n",
       "      <td>L002</td>\n",
       "      <td>east</td>\n",
       "      <td>51.444698</td>\n",
       "      <td>-0.233398</td>\n",
       "      <td>142592756</td>\n",
       "      <td>[None]</td>\n",
       "      <td>7</td>\n",
       "    </tr>\n",
       "    <tr>\n",
       "      <th>3</th>\n",
       "      <td>3</td>\n",
       "      <td>L002</td>\n",
       "      <td>west</td>\n",
       "      <td>51.444698</td>\n",
       "      <td>-0.233398</td>\n",
       "      <td>132778373</td>\n",
       "      <td>['4']</td>\n",
       "      <td>8</td>\n",
       "    </tr>\n",
       "  </tbody>\n",
       "</table>\n",
       "</div>"
      ],
      "text/plain": [
       "   Unnamed: 0    id direction   latitude  longitude     osm_id   links  \\\n",
       "0           0  L001     north  51.445503  -0.234686   19074660   ['1']   \n",
       "1           1  L001     south  51.445503  -0.234686   19074660  [None]   \n",
       "2           2  L002      east  51.444698  -0.233398  142592756  [None]   \n",
       "3           3  L002      west  51.444698  -0.233398  132778373   ['4']   \n",
       "\n",
       "   other_links  \n",
       "0            5  \n",
       "1            6  \n",
       "2            7  \n",
       "3            8  "
      ]
     },
     "execution_count": 12,
     "metadata": {},
     "output_type": "execute_result"
    }
   ],
   "source": [
    "read_csv_file(os.path.join('..', 'genet_output', 'auxiliary_files', 'links_benchmark.csv'))"
   ]
  }
 ],
 "metadata": {
  "kernelspec": {
   "display_name": "genet",
   "language": "python",
   "name": "genet"
  },
  "language_info": {
   "codemirror_mode": {
    "name": "ipython",
    "version": 3
   },
   "file_extension": ".py",
   "mimetype": "text/x-python",
   "name": "python",
   "nbconvert_exporter": "python",
   "pygments_lexer": "ipython3",
   "version": "3.7.7"
  },
  "latex_envs": {
   "LaTeX_envs_menu_present": true,
   "autoclose": true,
   "autocomplete": true,
   "bibliofile": "biblio.bib",
   "cite_by": "apalike",
   "current_citInitial": 1,
   "eqLabelWithNumbers": true,
   "eqNumInitial": 1,
   "hotkeys": {
    "equation": "Ctrl-E",
    "itemize": "Ctrl-I"
   },
   "labels_anchors": false,
   "latex_user_defs": false,
   "report_style_numbering": false,
   "user_envs_cfg": false
  },
  "toc": {
   "base_numbering": 1,
   "nav_menu": {},
   "number_sections": true,
   "sideBar": true,
   "skip_h1_title": false,
   "title_cell": "Table of Contents",
   "title_sidebar": "Contents",
   "toc_cell": false,
   "toc_position": {},
   "toc_section_display": true,
   "toc_window_display": false
  },
  "varInspector": {
   "cols": {
    "lenName": 16,
    "lenType": 16,
    "lenVar": 40
   },
   "kernels_config": {
    "python": {
     "delete_cmd_postfix": "",
     "delete_cmd_prefix": "del ",
     "library": "var_list.py",
     "varRefreshCmd": "print(var_dic_list())"
    },
    "r": {
     "delete_cmd_postfix": ") ",
     "delete_cmd_prefix": "rm(",
     "library": "var_list.r",
     "varRefreshCmd": "cat(var_dic_list()) "
    }
   },
   "types_to_exclude": [
    "module",
    "function",
    "builtin_function_or_method",
    "instance",
    "_Feature"
   ],
   "window_display": false
  }
 },
 "nbformat": 4,
 "nbformat_minor": 2
}
