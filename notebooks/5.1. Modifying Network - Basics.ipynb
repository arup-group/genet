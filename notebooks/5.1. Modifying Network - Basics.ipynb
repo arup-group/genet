{
 "cells": [
  {
   "cell_type": "markdown",
   "metadata": {},
   "source": [
    "# Modifying the `Network` object\n",
    "`GeNet` supports some simple modifications like adding, reindexing and removing nodes and links and some involved modifications like changing the data stored under nodes or links. All of these changes get recorded in `n.change_log`."
   ]
  },
  {
   "cell_type": "code",
   "execution_count": 1,
   "metadata": {
    "ExecuteTime": {
     "end_time": "2021-02-17T11:59:34.686913Z",
     "start_time": "2021-02-17T11:59:31.589610Z"
    }
   },
   "outputs": [
    {
     "data": {
      "text/plain": [
       "<Network instance at 4569508832: with \n",
       "graph: Name: Network graph\n",
       "Type: MultiDiGraph\n",
       "Number of nodes: 1662\n",
       "Number of edges: 3166\n",
       "Average in degree:   1.9049\n",
       "Average out degree:   1.9049 and \n",
       "schedule Schedule:\n",
       "Number of services: 9\n",
       "Number of routes: 68\n",
       "Number of stops: 45"
      ]
     },
     "execution_count": 1,
     "metadata": {},
     "output_type": "execute_result"
    }
   ],
   "source": [
    "# read example network\n",
    "import pandas as pd\n",
    "from genet import Network\n",
    "import os\n",
    "\n",
    "n = Network('epsg:27700')\n",
    "path_to_matsim_network = '../example_data/pt2matsim_network'\n",
    "n.read_matsim_network(os.path.join(path_to_matsim_network, 'network.xml'))\n",
    "n.read_matsim_schedule(os.path.join(path_to_matsim_network, 'schedule.xml'))\n",
    "n"
   ]
  },
  {
   "cell_type": "markdown",
   "metadata": {},
   "source": [
    "## Adding nodes/links"
   ]
  },
  {
   "cell_type": "code",
   "execution_count": 2,
   "metadata": {
    "ExecuteTime": {
     "end_time": "2021-02-17T11:59:34.702702Z",
     "start_time": "2021-02-17T11:59:34.688838Z"
    }
   },
   "outputs": [
    {
     "name": "stderr",
     "output_type": "stream",
     "text": [
      "2021-02-17 11:59:34,698 - Added Link with index proposed_index, from node:4356572310 to node:5811263955, under multi-index:1, and data={'from': '4356572310', 'to': '5811263955', 'id': 'proposed_index'}\n"
     ]
    },
    {
     "data": {
      "text/plain": [
       "'proposed_index'"
      ]
     },
     "execution_count": 2,
     "metadata": {},
     "output_type": "execute_result"
    }
   ],
   "source": [
    "n.add_link(link_id='proposed_index', u='4356572310', v='5811263955')"
   ]
  },
  {
   "cell_type": "code",
   "execution_count": 3,
   "metadata": {
    "ExecuteTime": {
     "end_time": "2021-02-17T11:59:34.720975Z",
     "start_time": "2021-02-17T11:59:34.706469Z"
    }
   },
   "outputs": [
    {
     "name": "stderr",
     "output_type": "stream",
     "text": [
      "2021-02-17 11:59:34,716 - Added Node with index `proposed_index` and data={'data': 'some_data'}\n"
     ]
    },
    {
     "data": {
      "text/plain": [
       "'proposed_index'"
      ]
     },
     "execution_count": 3,
     "metadata": {},
     "output_type": "execute_result"
    }
   ],
   "source": [
    "n.add_node(node='proposed_index', attribs={'data':'some_data'})"
   ]
  },
  {
   "cell_type": "markdown",
   "metadata": {},
   "source": [
    "The index passed is only a proposition. If a node or link under this link exists, a new, unique index will be generated."
   ]
  },
  {
   "cell_type": "code",
   "execution_count": 4,
   "metadata": {
    "ExecuteTime": {
     "end_time": "2021-02-17T11:59:34.737676Z",
     "start_time": "2021-02-17T11:59:34.723748Z"
    }
   },
   "outputs": [
    {
     "name": "stderr",
     "output_type": "stream",
     "text": [
      "2021-02-17 11:59:34,726 - Generated 1 link ids.\n",
      "2021-02-17 11:59:34,727 - Generated link id 0.\n",
      "2021-02-17 11:59:34,728 - `proposed_index` already exists. Generated a new unique_index: `0`\n",
      "2021-02-17 11:59:34,734 - Added Link with index 0, from node:4356572310 to node:5811263955, under multi-index:2, and data={'from': '4356572310', 'to': '5811263955', 'id': '0'}\n"
     ]
    }
   ],
   "source": [
    "actual_link_id_added = n.add_link(link_id='proposed_index', u='4356572310', v='5811263955')"
   ]
  },
  {
   "cell_type": "markdown",
   "metadata": {},
   "source": [
    "## Reindexing\n",
    "\n",
    "To reindex a node or link:"
   ]
  },
  {
   "cell_type": "code",
   "execution_count": 5,
   "metadata": {
    "ExecuteTime": {
     "end_time": "2021-02-17T11:59:34.815805Z",
     "start_time": "2021-02-17T11:59:34.739379Z"
    }
   },
   "outputs": [
    {
     "name": "stderr",
     "output_type": "stream",
     "text": [
      "2021-02-17 11:59:34,758 - Changed Link attributes for 0 links\n",
      "2021-02-17 11:59:34,777 - Changed Link attributes for 0 links\n",
      "2021-02-17 11:59:34,786 - Changed Node attributes under index: proposed_index\n",
      "2021-02-17 11:59:34,813 - Changed Node index from proposed_index to another_index\n"
     ]
    }
   ],
   "source": [
    "n.reindex_node('proposed_index', 'another_index')"
   ]
  },
  {
   "cell_type": "code",
   "execution_count": 6,
   "metadata": {
    "ExecuteTime": {
     "end_time": "2021-02-17T11:59:34.832514Z",
     "start_time": "2021-02-17T11:59:34.817537Z"
    }
   },
   "outputs": [
    {
     "name": "stderr",
     "output_type": "stream",
     "text": [
      "2021-02-17 11:59:34,829 - Changed Link attributes under index: proposed_index\n",
      "2021-02-17 11:59:34,829 - Changed Link index from proposed_index to another_index\n"
     ]
    }
   ],
   "source": [
    "n.reindex_link('proposed_index', 'another_index')"
   ]
  },
  {
   "cell_type": "markdown",
   "metadata": {},
   "source": [
    "## Removing nodes/links\n",
    "\n",
    "To remove a link or node:"
   ]
  },
  {
   "cell_type": "code",
   "execution_count": 7,
   "metadata": {
    "ExecuteTime": {
     "end_time": "2021-02-17T11:59:34.842872Z",
     "start_time": "2021-02-17T11:59:34.833900Z"
    }
   },
   "outputs": [
    {
     "name": "stderr",
     "output_type": "stream",
     "text": [
      "2021-02-17 11:59:34,838 - Removed 2 links\n"
     ]
    }
   ],
   "source": [
    "n.remove_links(['another_index', actual_link_id_added])"
   ]
  },
  {
   "cell_type": "code",
   "execution_count": 8,
   "metadata": {
    "ExecuteTime": {
     "end_time": "2021-02-17T11:59:34.855152Z",
     "start_time": "2021-02-17T11:59:34.846104Z"
    }
   },
   "outputs": [
    {
     "name": "stderr",
     "output_type": "stream",
     "text": [
      "2021-02-17 11:59:34,852 - Removed Node under index: another_index\n"
     ]
    }
   ],
   "source": [
    "n.remove_node('another_index')"
   ]
  },
  {
   "cell_type": "markdown",
   "metadata": {},
   "source": [
    "## Modifying data stored on nodes or edges:\n",
    "\n",
    "Let's say you have extracted `genet.Network` link ids of interest (See Section on Using Network - Accessing Data) and now you want to make changes to the network. Let's make changes to the nested OSM data stored on the links. We will replace the highway tags from `'primary'` to `'SOMETHING'`."
   ]
  },
  {
   "cell_type": "code",
   "execution_count": 9,
   "metadata": {
    "ExecuteTime": {
     "end_time": "2021-02-17T11:59:34.885880Z",
     "start_time": "2021-02-17T11:59:34.857902Z"
    }
   },
   "outputs": [
    {
     "data": {
      "text/plain": [
       "['1007', '1008', '1023', '1024', '103']"
      ]
     },
     "execution_count": 9,
     "metadata": {},
     "output_type": "execute_result"
    }
   ],
   "source": [
    "from genet import graph_operations\n",
    "\n",
    "links = n.extract_links_on_edge_attributes(\n",
    "    conditions= {'attributes': {'osm:way:highway': {'text': 'primary'}}},\n",
    ")\n",
    "\n",
    "links[:5]"
   ]
  },
  {
   "cell_type": "code",
   "execution_count": 10,
   "metadata": {
    "ExecuteTime": {
     "end_time": "2021-02-17T11:59:34.893263Z",
     "start_time": "2021-02-17T11:59:34.887988Z"
    }
   },
   "outputs": [
    {
     "data": {
      "text/plain": [
       "{'id': '1007',\n",
       " 'from': '4356572310',\n",
       " 'to': '5811263955',\n",
       " 'freespeed': 22.22222222222222,\n",
       " 'capacity': 3000.0,\n",
       " 'permlanes': 2.0,\n",
       " 'oneway': '1',\n",
       " 'modes': {'car'},\n",
       " 's2_from': 5221390723045407809,\n",
       " 's2_to': 5221390723040504387,\n",
       " 'attributes': {'osm:way:highway': {'name': 'osm:way:highway',\n",
       "   'class': 'java.lang.String',\n",
       "   'text': 'primary'},\n",
       "  'osm:way:id': {'name': 'osm:way:id',\n",
       "   'class': 'java.lang.Long',\n",
       "   'text': '589660342'},\n",
       "  'osm:way:lanes': {'name': 'osm:way:lanes',\n",
       "   'class': 'java.lang.String',\n",
       "   'text': '2'},\n",
       "  'osm:way:name': {'name': 'osm:way:name',\n",
       "   'class': 'java.lang.String',\n",
       "   'text': 'Shaftesbury Avenue'},\n",
       "  'osm:way:oneway': {'name': 'osm:way:oneway',\n",
       "   'class': 'java.lang.String',\n",
       "   'text': 'yes'}},\n",
       " 'length': 13.941905154249884}"
      ]
     },
     "execution_count": 10,
     "metadata": {},
     "output_type": "execute_result"
    }
   ],
   "source": [
    "n.link(links[0])"
   ]
  },
  {
   "cell_type": "markdown",
   "metadata": {
    "ExecuteTime": {
     "end_time": "2020-12-17T13:55:45.778595Z",
     "start_time": "2020-12-17T13:55:45.772735Z"
    }
   },
   "source": [
    "We create a dictionary which maps same changes to all links in the list using:\n",
    "\n",
    "```python\n",
    "    {link_id: {'attributes': {'osm:way:highway': {'text': 'SOMETHING'}}} for link_id in links}\n",
    "```"
   ]
  },
  {
   "cell_type": "code",
   "execution_count": 11,
   "metadata": {
    "ExecuteTime": {
     "end_time": "2021-02-17T11:59:35.037214Z",
     "start_time": "2021-02-17T11:59:34.895084Z"
    }
   },
   "outputs": [
    {
     "name": "stderr",
     "output_type": "stream",
     "text": [
      "2021-02-17 11:59:35,032 - Changed Link attributes for 619 links\n"
     ]
    }
   ],
   "source": [
    "n.apply_attributes_to_links({link_id: {'attributes': {'osm:way:highway': {'text': 'SOMETHING'}}} for link_id in links})"
   ]
  },
  {
   "cell_type": "code",
   "execution_count": 12,
   "metadata": {
    "ExecuteTime": {
     "end_time": "2021-02-17T11:59:35.046506Z",
     "start_time": "2021-02-17T11:59:35.040381Z"
    }
   },
   "outputs": [
    {
     "data": {
      "text/plain": [
       "{'id': '1007',\n",
       " 'from': '4356572310',\n",
       " 'to': '5811263955',\n",
       " 'freespeed': 22.22222222222222,\n",
       " 'capacity': 3000.0,\n",
       " 'permlanes': 2.0,\n",
       " 'oneway': '1',\n",
       " 'modes': {'car'},\n",
       " 's2_from': 5221390723045407809,\n",
       " 's2_to': 5221390723040504387,\n",
       " 'attributes': {'osm:way:highway': {'name': 'osm:way:highway',\n",
       "   'class': 'java.lang.String',\n",
       "   'text': 'SOMETHING'},\n",
       "  'osm:way:id': {'name': 'osm:way:id',\n",
       "   'class': 'java.lang.Long',\n",
       "   'text': '589660342'},\n",
       "  'osm:way:lanes': {'name': 'osm:way:lanes',\n",
       "   'class': 'java.lang.String',\n",
       "   'text': '2'},\n",
       "  'osm:way:name': {'name': 'osm:way:name',\n",
       "   'class': 'java.lang.String',\n",
       "   'text': 'Shaftesbury Avenue'},\n",
       "  'osm:way:oneway': {'name': 'osm:way:oneway',\n",
       "   'class': 'java.lang.String',\n",
       "   'text': 'yes'}},\n",
       " 'length': 13.941905154249884}"
      ]
     },
     "execution_count": 12,
     "metadata": {},
     "output_type": "execute_result"
    }
   ],
   "source": [
    "n.link(links[0])"
   ]
  },
  {
   "cell_type": "code",
   "execution_count": 13,
   "metadata": {
    "ExecuteTime": {
     "end_time": "2021-02-17T11:59:35.069197Z",
     "start_time": "2021-02-17T11:59:35.048883Z"
    }
   },
   "outputs": [
    {
     "data": {
      "text/html": [
       "<div>\n",
       "<style scoped>\n",
       "    .dataframe tbody tr th:only-of-type {\n",
       "        vertical-align: middle;\n",
       "    }\n",
       "\n",
       "    .dataframe tbody tr th {\n",
       "        vertical-align: top;\n",
       "    }\n",
       "\n",
       "    .dataframe thead th {\n",
       "        text-align: right;\n",
       "    }\n",
       "</style>\n",
       "<table border=\"1\" class=\"dataframe\">\n",
       "  <thead>\n",
       "    <tr style=\"text-align: right;\">\n",
       "      <th></th>\n",
       "      <th>timestamp</th>\n",
       "      <th>change_event</th>\n",
       "      <th>object_type</th>\n",
       "      <th>old_id</th>\n",
       "      <th>new_id</th>\n",
       "      <th>old_attributes</th>\n",
       "      <th>new_attributes</th>\n",
       "      <th>diff</th>\n",
       "    </tr>\n",
       "  </thead>\n",
       "  <tbody>\n",
       "    <tr>\n",
       "      <th>0</th>\n",
       "      <td>2021-02-17 11:59:34</td>\n",
       "      <td>add</td>\n",
       "      <td>link</td>\n",
       "      <td>None</td>\n",
       "      <td>proposed_index</td>\n",
       "      <td>None</td>\n",
       "      <td>{'from': '4356572310', 'to': '5811263955', 'id...</td>\n",
       "      <td>[(add, , [('from', '4356572310'), ('to', '5811...</td>\n",
       "    </tr>\n",
       "    <tr>\n",
       "      <th>1</th>\n",
       "      <td>2021-02-17 11:59:34</td>\n",
       "      <td>add</td>\n",
       "      <td>node</td>\n",
       "      <td>None</td>\n",
       "      <td>proposed_index</td>\n",
       "      <td>None</td>\n",
       "      <td>{'data': 'some_data'}</td>\n",
       "      <td>[(add, , [('data', 'some_data')]), (add, id, p...</td>\n",
       "    </tr>\n",
       "    <tr>\n",
       "      <th>2</th>\n",
       "      <td>2021-02-17 11:59:34</td>\n",
       "      <td>add</td>\n",
       "      <td>link</td>\n",
       "      <td>None</td>\n",
       "      <td>0</td>\n",
       "      <td>None</td>\n",
       "      <td>{'from': '4356572310', 'to': '5811263955', 'id...</td>\n",
       "      <td>[(add, , [('from', '4356572310'), ('to', '5811...</td>\n",
       "    </tr>\n",
       "    <tr>\n",
       "      <th>3</th>\n",
       "      <td>2021-02-17 11:59:34</td>\n",
       "      <td>modify</td>\n",
       "      <td>node</td>\n",
       "      <td>proposed_index</td>\n",
       "      <td>another_index</td>\n",
       "      <td>{'data': 'some_data'}</td>\n",
       "      <td>{'data': 'some_data', 'id': 'another_index'}</td>\n",
       "      <td>[(add, , [('id', 'another_index')]), (change, ...</td>\n",
       "    </tr>\n",
       "    <tr>\n",
       "      <th>4</th>\n",
       "      <td>2021-02-17 11:59:34</td>\n",
       "      <td>modify</td>\n",
       "      <td>node</td>\n",
       "      <td>proposed_index</td>\n",
       "      <td>proposed_index</td>\n",
       "      <td>{'data': 'some_data'}</td>\n",
       "      <td>{'data': 'some_data', 'id': 'another_index'}</td>\n",
       "      <td>[(add, , [('id', 'another_index')])]</td>\n",
       "    </tr>\n",
       "  </tbody>\n",
       "</table>\n",
       "</div>"
      ],
      "text/plain": [
       "             timestamp change_event object_type          old_id  \\\n",
       "0  2021-02-17 11:59:34          add        link            None   \n",
       "1  2021-02-17 11:59:34          add        node            None   \n",
       "2  2021-02-17 11:59:34          add        link            None   \n",
       "3  2021-02-17 11:59:34       modify        node  proposed_index   \n",
       "4  2021-02-17 11:59:34       modify        node  proposed_index   \n",
       "\n",
       "           new_id         old_attributes  \\\n",
       "0  proposed_index                   None   \n",
       "1  proposed_index                   None   \n",
       "2               0                   None   \n",
       "3   another_index  {'data': 'some_data'}   \n",
       "4  proposed_index  {'data': 'some_data'}   \n",
       "\n",
       "                                      new_attributes  \\\n",
       "0  {'from': '4356572310', 'to': '5811263955', 'id...   \n",
       "1                              {'data': 'some_data'}   \n",
       "2  {'from': '4356572310', 'to': '5811263955', 'id...   \n",
       "3       {'data': 'some_data', 'id': 'another_index'}   \n",
       "4       {'data': 'some_data', 'id': 'another_index'}   \n",
       "\n",
       "                                                diff  \n",
       "0  [(add, , [('from', '4356572310'), ('to', '5811...  \n",
       "1  [(add, , [('data', 'some_data')]), (add, id, p...  \n",
       "2  [(add, , [('from', '4356572310'), ('to', '5811...  \n",
       "3  [(add, , [('id', 'another_index')]), (change, ...  \n",
       "4               [(add, , [('id', 'another_index')])]  "
      ]
     },
     "execution_count": 13,
     "metadata": {},
     "output_type": "execute_result"
    }
   ],
   "source": [
    "n.change_log.head()"
   ]
  },
  {
   "cell_type": "code",
   "execution_count": 14,
   "metadata": {
    "ExecuteTime": {
     "end_time": "2021-02-17T11:59:35.078702Z",
     "start_time": "2021-02-17T11:59:35.071741Z"
    }
   },
   "outputs": [
    {
     "data": {
      "text/plain": [
       "\"{'id': '959', 'from': '300501141', 'to': '294158420', 'freespeed': 22.22222222222222, 'capacity': 1500.0, 'permlanes': 1.0, 'oneway': '1', 'modes': {'car'}, 's2_from': 5221390337863745429, 's2_to': 5221390337351379383, 'attributes': {'osm:relation:route': {'name': 'osm:relation:route', 'class': 'java.lang.String', 'text': 'bus'}, 'osm:way:highway': {'name': 'osm:way:highway', 'class': 'java.lang.String', 'text': 'primary'}, 'osm:way:id': {'name': 'osm:way:id', 'class': 'java.lang.Long', 'text': '26785612'}, 'osm:way:name': {'name': 'osm:way:name', 'class': 'java.lang.String', 'text': 'Albany Street'}}, 'length': 90.65828423645875}\""
      ]
     },
     "execution_count": 14,
     "metadata": {},
     "output_type": "execute_result"
    }
   ],
   "source": [
    "n.change_log.loc[618, :]['old_attributes']"
   ]
  },
  {
   "cell_type": "code",
   "execution_count": 15,
   "metadata": {
    "ExecuteTime": {
     "end_time": "2021-02-17T11:59:35.088383Z",
     "start_time": "2021-02-17T11:59:35.080714Z"
    }
   },
   "outputs": [
    {
     "data": {
      "text/plain": [
       "\"{'id': '959', 'from': '300501141', 'to': '294158420', 'freespeed': 22.22222222222222, 'capacity': 1500.0, 'permlanes': 1.0, 'oneway': '1', 'modes': {'car'}, 's2_from': 5221390337863745429, 's2_to': 5221390337351379383, 'attributes': {'osm:relation:route': {'name': 'osm:relation:route', 'class': 'java.lang.String', 'text': 'bus'}, 'osm:way:highway': {'name': 'osm:way:highway', 'class': 'java.lang.String', 'text': 'SOMETHING'}, 'osm:way:id': {'name': 'osm:way:id', 'class': 'java.lang.Long', 'text': '26785612'}, 'osm:way:name': {'name': 'osm:way:name', 'class': 'java.lang.String', 'text': 'Albany Street'}}, 'length': 90.65828423645875}\""
      ]
     },
     "execution_count": 15,
     "metadata": {},
     "output_type": "execute_result"
    }
   ],
   "source": [
    "n.change_log.loc[618, :]['new_attributes']"
   ]
  },
  {
   "cell_type": "code",
   "execution_count": 16,
   "metadata": {
    "ExecuteTime": {
     "end_time": "2021-02-17T11:59:35.096485Z",
     "start_time": "2021-02-17T11:59:35.090025Z"
    }
   },
   "outputs": [
    {
     "data": {
      "text/plain": [
       "[('change', 'attributes.osm:way:highway.text', ('primary', 'SOMETHING'))]"
      ]
     },
     "execution_count": 16,
     "metadata": {},
     "output_type": "execute_result"
    }
   ],
   "source": [
    "n.change_log.loc[618, :]['diff']"
   ]
  },
  {
   "cell_type": "markdown",
   "metadata": {},
   "source": [
    "Another useful method is the `apply_function_to_links`/`nodes`. This function takes a user-defined function with the variable that is the data dictionary stored on the links or nodes respectively. This function does not support `conditions`, but this is something that can be encoded in you function, for example:"
   ]
  },
  {
   "cell_type": "code",
   "execution_count": 17,
   "metadata": {
    "ExecuteTime": {
     "end_time": "2021-02-17T11:59:36.326032Z",
     "start_time": "2021-02-17T11:59:35.098275Z"
    }
   },
   "outputs": [
    {
     "name": "stderr",
     "output_type": "stream",
     "text": [
      "2021-02-17 11:59:36,317 - Changed Link attributes for 3166 links\n"
     ]
    }
   ],
   "source": [
    "def divide_capacity(link_attributes):\n",
    "    if 'car' in link_attributes['modes']:\n",
    "        return link_attributes['capacity']/link_attributes['permlanes']\n",
    "    \n",
    "n.apply_function_to_links(divide_capacity, 'base_capacity')"
   ]
  },
  {
   "cell_type": "markdown",
   "metadata": {},
   "source": [
    "This method will apply results of this function to links for which a value can be computed. For use here, that means that for any link which has a `'car'` value in `'modes'` a value of capacity divided by the number of lanes will be computed. We specify that the results will be stored under `base_capacity` in the links attribute dictionary."
   ]
  },
  {
   "cell_type": "code",
   "execution_count": 18,
   "metadata": {
    "ExecuteTime": {
     "end_time": "2021-02-17T11:59:36.334102Z",
     "start_time": "2021-02-17T11:59:36.327781Z"
    }
   },
   "outputs": [
    {
     "data": {
      "text/plain": [
       "{'id': '1007',\n",
       " 'from': '4356572310',\n",
       " 'to': '5811263955',\n",
       " 'freespeed': 22.22222222222222,\n",
       " 'capacity': 3000.0,\n",
       " 'permlanes': 2.0,\n",
       " 'oneway': '1',\n",
       " 'modes': {'car'},\n",
       " 's2_from': 5221390723045407809,\n",
       " 's2_to': 5221390723040504387,\n",
       " 'attributes': {'osm:way:highway': {'name': 'osm:way:highway',\n",
       "   'class': 'java.lang.String',\n",
       "   'text': 'SOMETHING'},\n",
       "  'osm:way:id': {'name': 'osm:way:id',\n",
       "   'class': 'java.lang.Long',\n",
       "   'text': '589660342'},\n",
       "  'osm:way:lanes': {'name': 'osm:way:lanes',\n",
       "   'class': 'java.lang.String',\n",
       "   'text': '2'},\n",
       "  'osm:way:name': {'name': 'osm:way:name',\n",
       "   'class': 'java.lang.String',\n",
       "   'text': 'Shaftesbury Avenue'},\n",
       "  'osm:way:oneway': {'name': 'osm:way:oneway',\n",
       "   'class': 'java.lang.String',\n",
       "   'text': 'yes'}},\n",
       " 'length': 13.941905154249884,\n",
       " 'base_capacity': 1500.0}"
      ]
     },
     "execution_count": 18,
     "metadata": {},
     "output_type": "execute_result"
    }
   ],
   "source": [
    "n.link(links[0])"
   ]
  },
  {
   "cell_type": "markdown",
   "metadata": {},
   "source": [
    "# Modifying the `Schedule` object\n",
    "\n",
    "GeNet has a number of methods to change the Schedule objects. Make sure you validate the end result."
   ]
  },
  {
   "cell_type": "code",
   "execution_count": 19,
   "metadata": {
    "ExecuteTime": {
     "end_time": "2021-02-17T11:59:36.345782Z",
     "start_time": "2021-02-17T11:59:36.335495Z"
    }
   },
   "outputs": [],
   "source": [
    "from genet import Stop, Route, Service"
   ]
  },
  {
   "cell_type": "markdown",
   "metadata": {},
   "source": [
    "## Adding Routes, Services\n",
    "\n",
    "You can add `Route`s and `Service`s. To add a `Route`, you need to identify which existing `Service` it should come under."
   ]
  },
  {
   "cell_type": "code",
   "execution_count": 20,
   "metadata": {
    "ExecuteTime": {
     "end_time": "2021-02-17T11:59:36.363795Z",
     "start_time": "2021-02-17T11:59:36.348640Z"
    }
   },
   "outputs": [
    {
     "data": {
      "text/plain": [
       "{'route_short_name': 'N55',\n",
       " 'mode': 'bus',\n",
       " 'trips': {'VJ2cdccea96e0e3e6a53a968bcb132941415d6d7c9_04:53:00': '04:53:00',\n",
       "  'VJ375a660d47a2aa570aa20a8568012da8497ffecf_03:53:00': '03:53:00',\n",
       "  'VJ3b9d77d2ef200b21c8048fea5eedc2d2788a1b94_01:54:00': '01:54:00',\n",
       "  'VJ79974c386a39426e06783650a759828438432aa4_05:23:00': '05:23:00',\n",
       "  'VJa09c394b71031216571d813a6266c83f2d30bf0a_04:23:00': '04:23:00',\n",
       "  'VJb1ecf6f30844187f7b9364fd9550acdcc5ce2c22_01:25:00': '01:25:00',\n",
       "  'VJc22488e687bcce9c50e372806cd8a1bcdddd5f98_02:24:00': '02:24:00',\n",
       "  'VJc3fd8f2be7eb005d47a13119c129d23ba6fed5fd_03:23:00': '03:23:00',\n",
       "  'VJe80a8ff48d21b29919ca3d8234d5a86bbf729513_02:54:00': '02:54:00',\n",
       "  'VJe81073fff46cfb30ff47a53f387e05dc17f2dda3_24:55:00': '24:55:00'},\n",
       " 'arrival_offsets': ['00:00:00', '00:02:00', '00:04:00', '00:06:00'],\n",
       " 'departure_offsets': ['00:00:00', '00:02:00', '00:04:00', '00:06:00'],\n",
       " 'route_long_name': '',\n",
       " 'id': 'VJ375a660d47a2aa570aa20a8568012da8497ffecf',\n",
       " 'route': ['834', '1573', '3139', '3141', '574', '3154', '979', '980', '981'],\n",
       " 'await_departure': [True, True, True, True],\n",
       " '_graph': <networkx.classes.digraph.DiGraph at 0x102995c18>,\n",
       " 'ordered_stops': ['490000235X.link:834',\n",
       "  '490000235YB.link:574',\n",
       "  '490014214HE.link:3154',\n",
       "  '490010689KB.link:981'],\n",
       " 'epsg': 'epsg:27700'}"
      ]
     },
     "execution_count": 20,
     "metadata": {},
     "output_type": "execute_result"
    }
   ],
   "source": [
    "n.schedule.route('VJ375a660d47a2aa570aa20a8568012da8497ffecf').__dict__"
   ]
  },
  {
   "cell_type": "code",
   "execution_count": 21,
   "metadata": {
    "ExecuteTime": {
     "end_time": "2021-02-17T11:59:36.856074Z",
     "start_time": "2021-02-17T11:59:36.366374Z"
    }
   },
   "outputs": [
    {
     "name": "stderr",
     "output_type": "stream",
     "text": [
      "2021-02-17 11:59:36,849 - Added Route with index `new_route`, data={'route_short_name': 'N55', 'mode': 'bus', 'trips': {'VJ2cdccea96e0e3e6a53a968bcb132941415d6d7c9_04:53:00': '04:53:00', 'VJ375a660d47a2aa570aa20a8568012da8497ffecf_03:53:00': '03:53:00', 'VJ3b9d77d2ef200b21c8048fea5eedc2d2788a1b94_01:54:00': '01:54:00', 'VJ79974c386a39426e06783650a759828438432aa4_05:23:00': '05:23:00', 'VJa09c394b71031216571d813a6266c83f2d30bf0a_04:23:00': '04:23:00', 'VJb1ecf6f30844187f7b9364fd9550acdcc5ce2c22_01:25:00': '01:25:00', 'VJc22488e687bcce9c50e372806cd8a1bcdddd5f98_02:24:00': '02:24:00', 'VJc3fd8f2be7eb005d47a13119c129d23ba6fed5fd_03:23:00': '03:23:00', 'VJe80a8ff48d21b29919ca3d8234d5a86bbf729513_02:54:00': '02:54:00', 'VJe81073fff46cfb30ff47a53f387e05dc17f2dda3_24:55:00': '24:55:00'}, 'arrival_offsets': ['00:00:00', '00:02:00', '00:04:00', '00:06:00'], 'departure_offsets': ['00:00:00', '00:02:00', '00:04:00', '00:06:00'], 'route_long_name': '', 'id': 'new_route', 'route': [], 'await_departure': [True, True, True, True], 'ordered_stops': ['490000235X.link:834', 'new_stop', 'other_new_stop', '490010689KB.link:981']} to Service `20274` within the Schedule\n"
     ]
    },
    {
     "data": {
      "text/plain": [
       "<Route instance at 4591108448: with 4 stops and 10 trips>"
      ]
     },
     "execution_count": 21,
     "metadata": {},
     "output_type": "execute_result"
    }
   ],
   "source": [
    "route = Route(\n",
    "    route_short_name='N55',\n",
    "    mode='bus',\n",
    "    trips={'VJ2cdccea96e0e3e6a53a968bcb132941415d6d7c9_04:53:00': '04:53:00',\n",
    "      'VJ375a660d47a2aa570aa20a8568012da8497ffecf_03:53:00': '03:53:00',\n",
    "      'VJ3b9d77d2ef200b21c8048fea5eedc2d2788a1b94_01:54:00': '01:54:00',\n",
    "      'VJ79974c386a39426e06783650a759828438432aa4_05:23:00': '05:23:00',\n",
    "      'VJa09c394b71031216571d813a6266c83f2d30bf0a_04:23:00': '04:23:00',\n",
    "      'VJb1ecf6f30844187f7b9364fd9550acdcc5ce2c22_01:25:00': '01:25:00',\n",
    "      'VJc22488e687bcce9c50e372806cd8a1bcdddd5f98_02:24:00': '02:24:00',\n",
    "      'VJc3fd8f2be7eb005d47a13119c129d23ba6fed5fd_03:23:00': '03:23:00',\n",
    "      'VJe80a8ff48d21b29919ca3d8234d5a86bbf729513_02:54:00': '02:54:00',\n",
    "      'VJe81073fff46cfb30ff47a53f387e05dc17f2dda3_24:55:00': '24:55:00'},\n",
    "   arrival_offsets=['00:00:00', '00:02:00', '00:04:00', '00:06:00'],\n",
    "   departure_offsets=['00:00:00', '00:02:00', '00:04:00', '00:06:00'],\n",
    "   id='new_route',\n",
    "#    route= ['834', '1573', '3139', '3141', '574', '3154', '979', '980', '981'],\n",
    "   await_departure= [True, True, True, True],\n",
    "   stops=[n.schedule.stop('490000235X.link:834'),\n",
    "          Stop(id='new_stop', x=529500, y=181300,\n",
    "            name='New Stop', epsg='epsg:27700'),\n",
    "          Stop(id='other_new_stop', x=529502, y=181302,\n",
    "            name='Other New Stop', epsg='epsg:27700'),\n",
    "          n.schedule.stop('490010689KB.link:981')]\n",
    ")\n",
    "\n",
    "n.schedule.add_route('20274', route)"
   ]
  },
  {
   "cell_type": "markdown",
   "metadata": {},
   "source": [
    "Alternatively, you can create and add a new `Service`."
   ]
  },
  {
   "cell_type": "code",
   "execution_count": 22,
   "metadata": {
    "ExecuteTime": {
     "end_time": "2021-02-17T11:59:36.913258Z",
     "start_time": "2021-02-17T11:59:36.858001Z"
    }
   },
   "outputs": [
    {
     "name": "stderr",
     "output_type": "stream",
     "text": [
      "2021-02-17 11:59:36,868 - Route with ID `new_route` within this Service `new_service` already exists in the Schedule. This Route will be reindexed to `new_service_new_route`\n",
      "2021-02-17 11:59:36,880 - Reindexed Route from new_route to new_service_new_route\n",
      "2021-02-17 11:59:36,902 - Added Service with index `new_service`, data={'id': 'new_service', 'name': 'N55'} and Routes: ['new_service_new_route']\n"
     ]
    },
    {
     "data": {
      "text/plain": [
       "<Service instance at 4592238776: with 1 routes>"
      ]
     },
     "execution_count": 22,
     "metadata": {},
     "output_type": "execute_result"
    }
   ],
   "source": [
    "n.schedule.add_service(Service(id='new_service', routes=[route]))"
   ]
  },
  {
   "cell_type": "markdown",
   "metadata": {},
   "source": [
    "You can also refer to existing stops in the `Schedule` when creating a`Route` to be added. You can either just pass Stop IDs as strings or use a stop method on the schedule to take and use that stop object. Note that in the case of the former (passing ID strings), the route will not have the spatial information for those stops until it is added to the Schedule."
   ]
  },
  {
   "cell_type": "code",
   "execution_count": 23,
   "metadata": {
    "ExecuteTime": {
     "end_time": "2021-02-17T11:59:36.931267Z",
     "start_time": "2021-02-17T11:59:36.918019Z"
    }
   },
   "outputs": [],
   "source": [
    "r = Route(\n",
    "    route_short_name='N55',\n",
    "    mode='bus',\n",
    "    trips={'some_trip': '14:53:00'},\n",
    "   arrival_offsets=['00:00:00', '00:06:00'],\n",
    "   departure_offsets=['00:00:00', '00:06:00'],\n",
    "   id='another_new_route',\n",
    "#    route= ['834', '1573', '3139', '3141', '574', '3154', '979', '980', '981'],\n",
    "   await_departure= [True, True],\n",
    "   stops=['490000235X.link:834', \n",
    "          '490010689KB.link:981']\n",
    ")"
   ]
  },
  {
   "cell_type": "code",
   "execution_count": 24,
   "metadata": {
    "ExecuteTime": {
     "end_time": "2021-02-17T11:59:36.942068Z",
     "start_time": "2021-02-17T11:59:36.934441Z"
    }
   },
   "outputs": [
    {
     "data": {
      "text/plain": [
       "{'routes': ['another_new_route']}"
      ]
     },
     "execution_count": 24,
     "metadata": {},
     "output_type": "execute_result"
    }
   ],
   "source": [
    "r.graph().nodes['490000235X.link:834']"
   ]
  },
  {
   "cell_type": "code",
   "execution_count": 25,
   "metadata": {
    "ExecuteTime": {
     "end_time": "2021-02-17T11:59:36.972142Z",
     "start_time": "2021-02-17T11:59:36.947541Z"
    }
   },
   "outputs": [
    {
     "name": "stderr",
     "output_type": "stream",
     "text": [
      "2021-02-17 11:59:36,965 - Added Route with index `another_new_route`, data={'route_short_name': 'N55', 'mode': 'bus', 'trips': {'some_trip': '14:53:00'}, 'arrival_offsets': ['00:00:00', '00:06:00'], 'departure_offsets': ['00:00:00', '00:06:00'], 'route_long_name': '', 'id': 'another_new_route', 'route': [], 'await_departure': [True, True], 'ordered_stops': ['490000235X.link:834', '490010689KB.link:981']} to Service `20274` within the Schedule\n"
     ]
    },
    {
     "data": {
      "text/plain": [
       "<Route instance at 4592239448: with 2 stops and 1 trips>"
      ]
     },
     "execution_count": 25,
     "metadata": {},
     "output_type": "execute_result"
    }
   ],
   "source": [
    "n.schedule.add_route('20274', r)"
   ]
  },
  {
   "cell_type": "code",
   "execution_count": 26,
   "metadata": {
    "ExecuteTime": {
     "end_time": "2021-02-17T11:59:36.986685Z",
     "start_time": "2021-02-17T11:59:36.978958Z"
    }
   },
   "outputs": [
    {
     "data": {
      "text/plain": [
       "{'services': ['20274', '18853', '14134'],\n",
       " 'routes': ['VJf9a22035ae6f25bb420df833474943ad76065c89',\n",
       "  'another_new_route',\n",
       "  'VJdf3936da1a51eb33db594ef99738802c14b19995',\n",
       "  'VJf3e316e5e605bb512147dee2a989be5a82ef1b5f',\n",
       "  'VJ4e2b897edf0e7b8a8e3b5516ab43ce56f72c5cff',\n",
       "  'new_route',\n",
       "  'VJ375a660d47a2aa570aa20a8568012da8497ffecf',\n",
       "  'VJd78967364a302cf232c5139d40622dcb6c238c9e',\n",
       "  'VJa7f37392e276aeac26c7e73bbc05e6a71af38dba',\n",
       "  'VJ256e98df611ff48afe737ddc81cbcde82e4e81c8',\n",
       "  'VJ12ba6089dfb2733e29c415a1a0015fef30fd5305',\n",
       "  'VJ2aba67e3ed98f2ed5f5966c1ac394cbf6d1943d7'],\n",
       " 'id': '490000235X.link:834',\n",
       " 'x': 529981.7958802709,\n",
       " 'y': 181412.0975758662,\n",
       " 'epsg': 'epsg:27700',\n",
       " 'name': 'Tottenham Court Road Station (Stop X)',\n",
       " 'lat': 51.51668503324075,\n",
       " 'lon': -0.12809598708996447,\n",
       " 's2_id': 5221390722025467597,\n",
       " 'additional_attributes': {'isBlocking', 'linkRefId', 'name'},\n",
       " 'linkRefId': '834',\n",
       " 'isBlocking': 'false'}"
      ]
     },
     "execution_count": 26,
     "metadata": {},
     "output_type": "execute_result"
    }
   ],
   "source": [
    "r.graph().nodes['490000235X.link:834']"
   ]
  },
  {
   "cell_type": "code",
   "execution_count": 27,
   "metadata": {
    "ExecuteTime": {
     "end_time": "2021-02-17T11:59:36.995791Z",
     "start_time": "2021-02-17T11:59:36.988582Z"
    }
   },
   "outputs": [
    {
     "data": {
      "text/plain": [
       "{'services': ['20274', '18853', '14134'],\n",
       " 'routes': ['VJf9a22035ae6f25bb420df833474943ad76065c89',\n",
       "  'another_new_route',\n",
       "  'VJdf3936da1a51eb33db594ef99738802c14b19995',\n",
       "  'VJf3e316e5e605bb512147dee2a989be5a82ef1b5f',\n",
       "  'VJ4e2b897edf0e7b8a8e3b5516ab43ce56f72c5cff',\n",
       "  'new_route',\n",
       "  'VJ375a660d47a2aa570aa20a8568012da8497ffecf',\n",
       "  'VJd78967364a302cf232c5139d40622dcb6c238c9e',\n",
       "  'VJa7f37392e276aeac26c7e73bbc05e6a71af38dba',\n",
       "  'VJ256e98df611ff48afe737ddc81cbcde82e4e81c8',\n",
       "  'VJ12ba6089dfb2733e29c415a1a0015fef30fd5305',\n",
       "  'VJ2aba67e3ed98f2ed5f5966c1ac394cbf6d1943d7'],\n",
       " 'id': '490010689KB.link:981',\n",
       " 'x': 529166.7349732723,\n",
       " 'y': 181256.33672284335,\n",
       " 'epsg': 'epsg:27700',\n",
       " 'name': 'Great Titchfield Street  Oxford Circus Station (Stop OP)',\n",
       " 'lat': 51.51547203324081,\n",
       " 'lon': -0.13989298709585662,\n",
       " 's2_id': 5221390688151572763,\n",
       " 'additional_attributes': {'isBlocking', 'linkRefId', 'name'},\n",
       " 'linkRefId': '981',\n",
       " 'isBlocking': 'false'}"
      ]
     },
     "execution_count": 27,
     "metadata": {},
     "output_type": "execute_result"
    }
   ],
   "source": [
    "r.graph().nodes['490010689KB.link:981']"
   ]
  },
  {
   "cell_type": "code",
   "execution_count": 28,
   "metadata": {
    "ExecuteTime": {
     "end_time": "2021-02-17T11:59:37.032944Z",
     "start_time": "2021-02-17T11:59:36.997464Z"
    }
   },
   "outputs": [
    {
     "name": "stderr",
     "output_type": "stream",
     "text": [
      "2021-02-17 11:59:37,006 - Route with ID `another_new_route` within already exists in the Schedule. This Route will be reindexed to `20274_6`\n",
      "2021-02-17 11:59:37,018 - Reindexed Route from another_new_route to 20274_6\n",
      "2021-02-17 11:59:37,028 - Added Route with index `20274_6`, data={'route_short_name': 'N55', 'mode': 'bus', 'trips': {'some_trip': '14:53:00'}, 'arrival_offsets': ['00:00:00', '00:06:00'], 'departure_offsets': ['00:00:00', '00:06:00'], 'route_long_name': '', 'id': '20274_6', 'route': [], 'await_departure': [True, True], 'ordered_stops': ['490000235X.link:834', '490010689KB.link:981']} to Service `20274` within the Schedule\n"
     ]
    },
    {
     "data": {
      "text/plain": [
       "<Route instance at 4592217336: with 2 stops and 1 trips>"
      ]
     },
     "execution_count": 28,
     "metadata": {},
     "output_type": "execute_result"
    }
   ],
   "source": [
    "r = Route(\n",
    "    route_short_name='N55',\n",
    "    mode='bus',\n",
    "    trips={'some_trip': '14:53:00'},\n",
    "   arrival_offsets=['00:00:00', '00:06:00'],\n",
    "   departure_offsets=['00:00:00', '00:06:00'],\n",
    "   id='another_new_route_2',\n",
    "#    route= ['834', '1573', '3139', '3141', '574', '3154', '979', '980', '981'],\n",
    "   await_departure= [True, True],\n",
    "   stops=[n.schedule.stop('490000235X.link:834'), \n",
    "          n.schedule.stop('490010689KB.link:981')]\n",
    ")\n",
    "n.schedule.add_route('20274', r)"
   ]
  },
  {
   "cell_type": "markdown",
   "metadata": {},
   "source": [
    "Note that for a Schedule to be a valid MATSim network, each stop referred to by a route needs a `linkRefId` attribute which links the stop to the `Network`.\n",
    "\n",
    "Trying to add Stops with IDs already in the Schedule will result in an error, unless the `force=True` is set. The added route/service will inherit the data stored under those stops. The idea is that you can either specify the Stops in the route/service to be added correctly, or if they are to be changed, you use a dedicated method - check section 'Modifying data' below."
   ]
  },
  {
   "cell_type": "code",
   "execution_count": 29,
   "metadata": {
    "ExecuteTime": {
     "end_time": "2021-02-17T11:59:37.963876Z",
     "start_time": "2021-02-17T11:59:37.034736Z"
    }
   },
   "outputs": [
    {
     "name": "stderr",
     "output_type": "stream",
     "text": [
      "2021-02-17 11:59:37,942 - Route with ID `new_route` within already exists in the Schedule. This Route will be reindexed to `20274_7`\n",
      "2021-02-17 11:59:37,949 - Reindexed Route from new_route to 20274_7\n",
      "2021-02-17 11:59:37,950 - The following stops will inherit the data currently stored under those Stop IDs in the Schedule: ['490000235X.link:834', '490010689KB.link:981'].\n",
      "2021-02-17 11:59:37,956 - Added Route with index `20274_7`, data={'route_short_name': 'N55', 'mode': 'bus', 'trips': {'VJ2cdccea96e0e3e6a53a968bcb132941415d6d7c9_04:53:00': '04:53:00', 'VJ375a660d47a2aa570aa20a8568012da8497ffecf_03:53:00': '03:53:00', 'VJ3b9d77d2ef200b21c8048fea5eedc2d2788a1b94_01:54:00': '01:54:00', 'VJ79974c386a39426e06783650a759828438432aa4_05:23:00': '05:23:00', 'VJa09c394b71031216571d813a6266c83f2d30bf0a_04:23:00': '04:23:00', 'VJb1ecf6f30844187f7b9364fd9550acdcc5ce2c22_01:25:00': '01:25:00', 'VJc22488e687bcce9c50e372806cd8a1bcdddd5f98_02:24:00': '02:24:00', 'VJc3fd8f2be7eb005d47a13119c129d23ba6fed5fd_03:23:00': '03:23:00', 'VJe80a8ff48d21b29919ca3d8234d5a86bbf729513_02:54:00': '02:54:00', 'VJe81073fff46cfb30ff47a53f387e05dc17f2dda3_24:55:00': '24:55:00'}, 'arrival_offsets': ['00:00:00', '00:02:00', '00:04:00', '00:06:00'], 'departure_offsets': ['00:00:00', '00:02:00', '00:04:00', '00:06:00'], 'route_long_name': '', 'id': '20274_7', 'route': [], 'await_departure': [True, True, True, True], 'ordered_stops': ['490000235X.link:834', 'new_stop', 'other_new_stop', '490010689KB.link:981']} to Service `20274` within the Schedule\n"
     ]
    },
    {
     "data": {
      "text/plain": [
       "<Route instance at 4592324000: with 4 stops and 10 trips>"
      ]
     },
     "execution_count": 29,
     "metadata": {},
     "output_type": "execute_result"
    }
   ],
   "source": [
    "route = Route(\n",
    "    route_short_name='N55',\n",
    "    mode='bus',\n",
    "    trips={'VJ2cdccea96e0e3e6a53a968bcb132941415d6d7c9_04:53:00': '04:53:00',\n",
    "      'VJ375a660d47a2aa570aa20a8568012da8497ffecf_03:53:00': '03:53:00',\n",
    "      'VJ3b9d77d2ef200b21c8048fea5eedc2d2788a1b94_01:54:00': '01:54:00',\n",
    "      'VJ79974c386a39426e06783650a759828438432aa4_05:23:00': '05:23:00',\n",
    "      'VJa09c394b71031216571d813a6266c83f2d30bf0a_04:23:00': '04:23:00',\n",
    "      'VJb1ecf6f30844187f7b9364fd9550acdcc5ce2c22_01:25:00': '01:25:00',\n",
    "      'VJc22488e687bcce9c50e372806cd8a1bcdddd5f98_02:24:00': '02:24:00',\n",
    "      'VJc3fd8f2be7eb005d47a13119c129d23ba6fed5fd_03:23:00': '03:23:00',\n",
    "      'VJe80a8ff48d21b29919ca3d8234d5a86bbf729513_02:54:00': '02:54:00',\n",
    "      'VJe81073fff46cfb30ff47a53f387e05dc17f2dda3_24:55:00': '24:55:00'},\n",
    "   arrival_offsets=['00:00:00', '00:02:00', '00:04:00', '00:06:00'],\n",
    "   departure_offsets=['00:00:00', '00:02:00', '00:04:00', '00:06:00'],\n",
    "   id='another_new_route_3',\n",
    "#    route= ['834', '1573', '3139', '3141', '574', '3154', '979', '980', '981'],\n",
    "   await_departure= [True, True, True, True],\n",
    "   stops=[\n",
    "       Stop(id='490000235X.link:834', x=529981, y=181412, epsg='epsg:27700'),\n",
    "       Stop(id='new_stop', x=529500, y=181300, epsg='epsg:27700', name='New Stop'),\n",
    "       Stop(id='other_new_stop', x=529502, y=181302, epsg='epsg:27700', name='Other New Stop'),\n",
    "       Stop(id='490010689KB.link:981', x=529166, y=181256, epsg='epsg:27700')\n",
    "   ]\n",
    ")\n",
    "\n",
    "n.schedule.add_route('20274', route, force=True)"
   ]
  },
  {
   "cell_type": "markdown",
   "metadata": {},
   "source": [
    "Note the message above: `The following stops will inherit the data currently stored under those Stop IDs in the Schedule: ['490000235X.link:834', '490010689KB.link:981'].`"
   ]
  },
  {
   "cell_type": "code",
   "execution_count": 30,
   "metadata": {
    "ExecuteTime": {
     "end_time": "2021-02-17T11:59:38.049620Z",
     "start_time": "2021-02-17T11:59:37.966611Z"
    }
   },
   "outputs": [
    {
     "data": {
      "text/html": [
       "<div>\n",
       "<style scoped>\n",
       "    .dataframe tbody tr th:only-of-type {\n",
       "        vertical-align: middle;\n",
       "    }\n",
       "\n",
       "    .dataframe tbody tr th {\n",
       "        vertical-align: top;\n",
       "    }\n",
       "\n",
       "    .dataframe thead th {\n",
       "        text-align: right;\n",
       "    }\n",
       "</style>\n",
       "<table border=\"1\" class=\"dataframe\">\n",
       "  <thead>\n",
       "    <tr style=\"text-align: right;\">\n",
       "      <th></th>\n",
       "      <th>timestamp</th>\n",
       "      <th>change_event</th>\n",
       "      <th>object_type</th>\n",
       "      <th>old_id</th>\n",
       "      <th>new_id</th>\n",
       "      <th>old_attributes</th>\n",
       "      <th>new_attributes</th>\n",
       "      <th>diff</th>\n",
       "    </tr>\n",
       "  </thead>\n",
       "  <tbody>\n",
       "    <tr>\n",
       "      <th>0</th>\n",
       "      <td>2021-02-17 11:59:36</td>\n",
       "      <td>add</td>\n",
       "      <td>route</td>\n",
       "      <td>None</td>\n",
       "      <td>new_route</td>\n",
       "      <td>None</td>\n",
       "      <td>{'route_short_name': 'N55', 'mode': 'bus', 'tr...</td>\n",
       "      <td>[(add, , [('route_short_name', 'N55'), ('mode'...</td>\n",
       "    </tr>\n",
       "    <tr>\n",
       "      <th>1</th>\n",
       "      <td>2021-02-17 11:59:36</td>\n",
       "      <td>add</td>\n",
       "      <td>service</td>\n",
       "      <td>None</td>\n",
       "      <td>new_service</td>\n",
       "      <td>None</td>\n",
       "      <td>{'id': 'new_service', 'name': 'N55'}</td>\n",
       "      <td>[(add, , [('id', 'new_service'), ('name', 'N55...</td>\n",
       "    </tr>\n",
       "    <tr>\n",
       "      <th>2</th>\n",
       "      <td>2021-02-17 11:59:36</td>\n",
       "      <td>add</td>\n",
       "      <td>route</td>\n",
       "      <td>None</td>\n",
       "      <td>another_new_route</td>\n",
       "      <td>None</td>\n",
       "      <td>{'route_short_name': 'N55', 'mode': 'bus', 'tr...</td>\n",
       "      <td>[(add, , [('route_short_name', 'N55'), ('mode'...</td>\n",
       "    </tr>\n",
       "    <tr>\n",
       "      <th>3</th>\n",
       "      <td>2021-02-17 11:59:37</td>\n",
       "      <td>add</td>\n",
       "      <td>route</td>\n",
       "      <td>None</td>\n",
       "      <td>20274_6</td>\n",
       "      <td>None</td>\n",
       "      <td>{'route_short_name': 'N55', 'mode': 'bus', 'tr...</td>\n",
       "      <td>[(add, , [('route_short_name', 'N55'), ('mode'...</td>\n",
       "    </tr>\n",
       "    <tr>\n",
       "      <th>4</th>\n",
       "      <td>2021-02-17 11:59:37</td>\n",
       "      <td>add</td>\n",
       "      <td>route</td>\n",
       "      <td>None</td>\n",
       "      <td>20274_7</td>\n",
       "      <td>None</td>\n",
       "      <td>{'route_short_name': 'N55', 'mode': 'bus', 'tr...</td>\n",
       "      <td>[(add, , [('route_short_name', 'N55'), ('mode'...</td>\n",
       "    </tr>\n",
       "  </tbody>\n",
       "</table>\n",
       "</div>"
      ],
      "text/plain": [
       "             timestamp change_event object_type old_id             new_id  \\\n",
       "0  2021-02-17 11:59:36          add       route   None          new_route   \n",
       "1  2021-02-17 11:59:36          add     service   None        new_service   \n",
       "2  2021-02-17 11:59:36          add       route   None  another_new_route   \n",
       "3  2021-02-17 11:59:37          add       route   None            20274_6   \n",
       "4  2021-02-17 11:59:37          add       route   None            20274_7   \n",
       "\n",
       "  old_attributes                                     new_attributes  \\\n",
       "0           None  {'route_short_name': 'N55', 'mode': 'bus', 'tr...   \n",
       "1           None               {'id': 'new_service', 'name': 'N55'}   \n",
       "2           None  {'route_short_name': 'N55', 'mode': 'bus', 'tr...   \n",
       "3           None  {'route_short_name': 'N55', 'mode': 'bus', 'tr...   \n",
       "4           None  {'route_short_name': 'N55', 'mode': 'bus', 'tr...   \n",
       "\n",
       "                                                diff  \n",
       "0  [(add, , [('route_short_name', 'N55'), ('mode'...  \n",
       "1  [(add, , [('id', 'new_service'), ('name', 'N55...  \n",
       "2  [(add, , [('route_short_name', 'N55'), ('mode'...  \n",
       "3  [(add, , [('route_short_name', 'N55'), ('mode'...  \n",
       "4  [(add, , [('route_short_name', 'N55'), ('mode'...  "
      ]
     },
     "execution_count": 30,
     "metadata": {},
     "output_type": "execute_result"
    }
   ],
   "source": [
    "n.schedule.change_log().head()"
   ]
  },
  {
   "cell_type": "markdown",
   "metadata": {},
   "source": [
    "There are no methods to add `Stop` objects on their own. They are added to the Schedule with `Route` and `Service` objects."
   ]
  },
  {
   "cell_type": "markdown",
   "metadata": {},
   "source": [
    "## Reindexing"
   ]
  },
  {
   "cell_type": "code",
   "execution_count": 31,
   "metadata": {
    "ExecuteTime": {
     "end_time": "2021-02-17T11:59:38.137080Z",
     "start_time": "2021-02-17T11:59:38.112433Z"
    }
   },
   "outputs": [
    {
     "name": "stderr",
     "output_type": "stream",
     "text": [
      "2021-02-17 11:59:38,134 - Reindexed Service from new_service to more_appropriate_id\n"
     ]
    }
   ],
   "source": [
    "n.schedule['new_service'].reindex(new_id='more_appropriate_id')"
   ]
  },
  {
   "cell_type": "code",
   "execution_count": 32,
   "metadata": {
    "ExecuteTime": {
     "end_time": "2021-02-17T11:59:38.151275Z",
     "start_time": "2021-02-17T11:59:38.138660Z"
    }
   },
   "outputs": [
    {
     "name": "stderr",
     "output_type": "stream",
     "text": [
      "2021-02-17 11:59:38,148 - Reindexed Route from new_route to more_appropriate_route_id\n"
     ]
    }
   ],
   "source": [
    "n.schedule.route('new_route').reindex(new_id='more_appropriate_route_id')"
   ]
  },
  {
   "cell_type": "code",
   "execution_count": 33,
   "metadata": {
    "ExecuteTime": {
     "end_time": "2021-02-17T11:59:38.226535Z",
     "start_time": "2021-02-17T11:59:38.154502Z"
    }
   },
   "outputs": [
    {
     "data": {
      "text/html": [
       "<div>\n",
       "<style scoped>\n",
       "    .dataframe tbody tr th:only-of-type {\n",
       "        vertical-align: middle;\n",
       "    }\n",
       "\n",
       "    .dataframe tbody tr th {\n",
       "        vertical-align: top;\n",
       "    }\n",
       "\n",
       "    .dataframe thead th {\n",
       "        text-align: right;\n",
       "    }\n",
       "</style>\n",
       "<table border=\"1\" class=\"dataframe\">\n",
       "  <thead>\n",
       "    <tr style=\"text-align: right;\">\n",
       "      <th></th>\n",
       "      <th>timestamp</th>\n",
       "      <th>change_event</th>\n",
       "      <th>object_type</th>\n",
       "      <th>old_id</th>\n",
       "      <th>new_id</th>\n",
       "      <th>old_attributes</th>\n",
       "      <th>new_attributes</th>\n",
       "      <th>diff</th>\n",
       "    </tr>\n",
       "  </thead>\n",
       "  <tbody>\n",
       "    <tr>\n",
       "      <th>0</th>\n",
       "      <td>2021-02-17 11:59:36</td>\n",
       "      <td>add</td>\n",
       "      <td>route</td>\n",
       "      <td>None</td>\n",
       "      <td>new_route</td>\n",
       "      <td>None</td>\n",
       "      <td>{'route_short_name': 'N55', 'mode': 'bus', 'tr...</td>\n",
       "      <td>[(add, , [('route_short_name', 'N55'), ('mode'...</td>\n",
       "    </tr>\n",
       "    <tr>\n",
       "      <th>1</th>\n",
       "      <td>2021-02-17 11:59:36</td>\n",
       "      <td>add</td>\n",
       "      <td>service</td>\n",
       "      <td>None</td>\n",
       "      <td>new_service</td>\n",
       "      <td>None</td>\n",
       "      <td>{'id': 'new_service', 'name': 'N55'}</td>\n",
       "      <td>[(add, , [('id', 'new_service'), ('name', 'N55...</td>\n",
       "    </tr>\n",
       "    <tr>\n",
       "      <th>2</th>\n",
       "      <td>2021-02-17 11:59:36</td>\n",
       "      <td>add</td>\n",
       "      <td>route</td>\n",
       "      <td>None</td>\n",
       "      <td>another_new_route</td>\n",
       "      <td>None</td>\n",
       "      <td>{'route_short_name': 'N55', 'mode': 'bus', 'tr...</td>\n",
       "      <td>[(add, , [('route_short_name', 'N55'), ('mode'...</td>\n",
       "    </tr>\n",
       "    <tr>\n",
       "      <th>3</th>\n",
       "      <td>2021-02-17 11:59:37</td>\n",
       "      <td>add</td>\n",
       "      <td>route</td>\n",
       "      <td>None</td>\n",
       "      <td>20274_6</td>\n",
       "      <td>None</td>\n",
       "      <td>{'route_short_name': 'N55', 'mode': 'bus', 'tr...</td>\n",
       "      <td>[(add, , [('route_short_name', 'N55'), ('mode'...</td>\n",
       "    </tr>\n",
       "    <tr>\n",
       "      <th>4</th>\n",
       "      <td>2021-02-17 11:59:37</td>\n",
       "      <td>add</td>\n",
       "      <td>route</td>\n",
       "      <td>None</td>\n",
       "      <td>20274_7</td>\n",
       "      <td>None</td>\n",
       "      <td>{'route_short_name': 'N55', 'mode': 'bus', 'tr...</td>\n",
       "      <td>[(add, , [('route_short_name', 'N55'), ('mode'...</td>\n",
       "    </tr>\n",
       "  </tbody>\n",
       "</table>\n",
       "</div>"
      ],
      "text/plain": [
       "             timestamp change_event object_type old_id             new_id  \\\n",
       "0  2021-02-17 11:59:36          add       route   None          new_route   \n",
       "1  2021-02-17 11:59:36          add     service   None        new_service   \n",
       "2  2021-02-17 11:59:36          add       route   None  another_new_route   \n",
       "3  2021-02-17 11:59:37          add       route   None            20274_6   \n",
       "4  2021-02-17 11:59:37          add       route   None            20274_7   \n",
       "\n",
       "  old_attributes                                     new_attributes  \\\n",
       "0           None  {'route_short_name': 'N55', 'mode': 'bus', 'tr...   \n",
       "1           None               {'id': 'new_service', 'name': 'N55'}   \n",
       "2           None  {'route_short_name': 'N55', 'mode': 'bus', 'tr...   \n",
       "3           None  {'route_short_name': 'N55', 'mode': 'bus', 'tr...   \n",
       "4           None  {'route_short_name': 'N55', 'mode': 'bus', 'tr...   \n",
       "\n",
       "                                                diff  \n",
       "0  [(add, , [('route_short_name', 'N55'), ('mode'...  \n",
       "1  [(add, , [('id', 'new_service'), ('name', 'N55...  \n",
       "2  [(add, , [('route_short_name', 'N55'), ('mode'...  \n",
       "3  [(add, , [('route_short_name', 'N55'), ('mode'...  \n",
       "4  [(add, , [('route_short_name', 'N55'), ('mode'...  "
      ]
     },
     "execution_count": 33,
     "metadata": {},
     "output_type": "execute_result"
    }
   ],
   "source": [
    "n.schedule.change_log().head()"
   ]
  },
  {
   "cell_type": "markdown",
   "metadata": {},
   "source": [
    "## Removing Stops, Routes, Services"
   ]
  },
  {
   "cell_type": "code",
   "execution_count": 34,
   "metadata": {
    "ExecuteTime": {
     "end_time": "2021-02-17T11:59:38.250002Z",
     "start_time": "2021-02-17T11:59:38.231315Z"
    }
   },
   "outputs": [
    {
     "name": "stderr",
     "output_type": "stream",
     "text": [
      "2021-02-17 11:59:38,243 - Removed Service with index `more_appropriate_id`, data={'id': 'more_appropriate_id', 'name': 'N55'} and Routes: {'new_service_new_route'}\n"
     ]
    }
   ],
   "source": [
    "n.schedule.remove_service('more_appropriate_id')"
   ]
  },
  {
   "cell_type": "code",
   "execution_count": 35,
   "metadata": {
    "ExecuteTime": {
     "end_time": "2021-02-17T11:59:38.270127Z",
     "start_time": "2021-02-17T11:59:38.252809Z"
    }
   },
   "outputs": [
    {
     "name": "stderr",
     "output_type": "stream",
     "text": [
      "2021-02-17 11:59:38,264 - Removed Route with index `more_appropriate_route_id`, data={'route_short_name': 'N55', 'mode': 'bus', 'trips': {'VJ2cdccea96e0e3e6a53a968bcb132941415d6d7c9_04:53:00': '04:53:00', 'VJ375a660d47a2aa570aa20a8568012da8497ffecf_03:53:00': '03:53:00', 'VJ3b9d77d2ef200b21c8048fea5eedc2d2788a1b94_01:54:00': '01:54:00', 'VJ79974c386a39426e06783650a759828438432aa4_05:23:00': '05:23:00', 'VJa09c394b71031216571d813a6266c83f2d30bf0a_04:23:00': '04:23:00', 'VJb1ecf6f30844187f7b9364fd9550acdcc5ce2c22_01:25:00': '01:25:00', 'VJc22488e687bcce9c50e372806cd8a1bcdddd5f98_02:24:00': '02:24:00', 'VJc3fd8f2be7eb005d47a13119c129d23ba6fed5fd_03:23:00': '03:23:00', 'VJe80a8ff48d21b29919ca3d8234d5a86bbf729513_02:54:00': '02:54:00', 'VJe81073fff46cfb30ff47a53f387e05dc17f2dda3_24:55:00': '24:55:00'}, 'arrival_offsets': ['00:00:00', '00:02:00', '00:04:00', '00:06:00'], 'departure_offsets': ['00:00:00', '00:02:00', '00:04:00', '00:06:00'], 'route_long_name': '', 'id': 'more_appropriate_route_id', 'route': [], 'await_departure': [True, True, True, True], 'ordered_stops': ['490000235X.link:834', 'new_stop', 'other_new_stop', '490010689KB.link:981']}. It was linked to Service `20274`.\n"
     ]
    }
   ],
   "source": [
    "n.schedule.remove_route('more_appropriate_route_id')"
   ]
  },
  {
   "cell_type": "code",
   "execution_count": null,
   "metadata": {},
   "outputs": [],
   "source": [
    "for route_id in {'another_new_route', 'another_new_route'}:\n",
    "    n.schedule.remove_route(route_id)"
   ]
  },
  {
   "cell_type": "code",
   "execution_count": 36,
   "metadata": {
    "ExecuteTime": {
     "end_time": "2021-02-17T11:59:38.302952Z",
     "start_time": "2021-02-17T11:59:38.273178Z"
    }
   },
   "outputs": [
    {
     "data": {
      "text/html": [
       "<div>\n",
       "<style scoped>\n",
       "    .dataframe tbody tr th:only-of-type {\n",
       "        vertical-align: middle;\n",
       "    }\n",
       "\n",
       "    .dataframe tbody tr th {\n",
       "        vertical-align: top;\n",
       "    }\n",
       "\n",
       "    .dataframe thead th {\n",
       "        text-align: right;\n",
       "    }\n",
       "</style>\n",
       "<table border=\"1\" class=\"dataframe\">\n",
       "  <thead>\n",
       "    <tr style=\"text-align: right;\">\n",
       "      <th></th>\n",
       "      <th>timestamp</th>\n",
       "      <th>change_event</th>\n",
       "      <th>object_type</th>\n",
       "      <th>old_id</th>\n",
       "      <th>new_id</th>\n",
       "      <th>old_attributes</th>\n",
       "      <th>new_attributes</th>\n",
       "      <th>diff</th>\n",
       "    </tr>\n",
       "  </thead>\n",
       "  <tbody>\n",
       "    <tr>\n",
       "      <th>4</th>\n",
       "      <td>2021-02-17 11:59:37</td>\n",
       "      <td>add</td>\n",
       "      <td>route</td>\n",
       "      <td>None</td>\n",
       "      <td>20274_7</td>\n",
       "      <td>None</td>\n",
       "      <td>{'route_short_name': 'N55', 'mode': 'bus', 'tr...</td>\n",
       "      <td>[(add, , [('route_short_name', 'N55'), ('mode'...</td>\n",
       "    </tr>\n",
       "    <tr>\n",
       "      <th>5</th>\n",
       "      <td>2021-02-17 11:59:38</td>\n",
       "      <td>modify</td>\n",
       "      <td>service</td>\n",
       "      <td>new_service</td>\n",
       "      <td>more_appropriate_id</td>\n",
       "      <td>{'id': 'new_service'}</td>\n",
       "      <td>{'id': 'more_appropriate_id'}</td>\n",
       "      <td>[(change, id, (new_service, more_appropriate_i...</td>\n",
       "    </tr>\n",
       "    <tr>\n",
       "      <th>6</th>\n",
       "      <td>2021-02-17 11:59:38</td>\n",
       "      <td>modify</td>\n",
       "      <td>route</td>\n",
       "      <td>new_route</td>\n",
       "      <td>more_appropriate_route_id</td>\n",
       "      <td>{'id': 'new_route'}</td>\n",
       "      <td>{'id': 'more_appropriate_route_id'}</td>\n",
       "      <td>[(change, id, (new_route, more_appropriate_rou...</td>\n",
       "    </tr>\n",
       "    <tr>\n",
       "      <th>7</th>\n",
       "      <td>2021-02-17 11:59:38</td>\n",
       "      <td>remove</td>\n",
       "      <td>service</td>\n",
       "      <td>more_appropriate_id</td>\n",
       "      <td>None</td>\n",
       "      <td>{'id': 'more_appropriate_id', 'name': 'N55'}</td>\n",
       "      <td>None</td>\n",
       "      <td>[(remove, , [('id', 'more_appropriate_id'), ('...</td>\n",
       "    </tr>\n",
       "    <tr>\n",
       "      <th>8</th>\n",
       "      <td>2021-02-17 11:59:38</td>\n",
       "      <td>remove</td>\n",
       "      <td>route</td>\n",
       "      <td>more_appropriate_route_id</td>\n",
       "      <td>None</td>\n",
       "      <td>{'route_short_name': 'N55', 'mode': 'bus', 'tr...</td>\n",
       "      <td>None</td>\n",
       "      <td>[(remove, , [('route_short_name', 'N55'), ('mo...</td>\n",
       "    </tr>\n",
       "  </tbody>\n",
       "</table>\n",
       "</div>"
      ],
      "text/plain": [
       "             timestamp change_event object_type                     old_id  \\\n",
       "4  2021-02-17 11:59:37          add       route                       None   \n",
       "5  2021-02-17 11:59:38       modify     service                new_service   \n",
       "6  2021-02-17 11:59:38       modify       route                  new_route   \n",
       "7  2021-02-17 11:59:38       remove     service        more_appropriate_id   \n",
       "8  2021-02-17 11:59:38       remove       route  more_appropriate_route_id   \n",
       "\n",
       "                      new_id  \\\n",
       "4                    20274_7   \n",
       "5        more_appropriate_id   \n",
       "6  more_appropriate_route_id   \n",
       "7                       None   \n",
       "8                       None   \n",
       "\n",
       "                                      old_attributes  \\\n",
       "4                                               None   \n",
       "5                              {'id': 'new_service'}   \n",
       "6                                {'id': 'new_route'}   \n",
       "7       {'id': 'more_appropriate_id', 'name': 'N55'}   \n",
       "8  {'route_short_name': 'N55', 'mode': 'bus', 'tr...   \n",
       "\n",
       "                                      new_attributes  \\\n",
       "4  {'route_short_name': 'N55', 'mode': 'bus', 'tr...   \n",
       "5                      {'id': 'more_appropriate_id'}   \n",
       "6                {'id': 'more_appropriate_route_id'}   \n",
       "7                                               None   \n",
       "8                                               None   \n",
       "\n",
       "                                                diff  \n",
       "4  [(add, , [('route_short_name', 'N55'), ('mode'...  \n",
       "5  [(change, id, (new_service, more_appropriate_i...  \n",
       "6  [(change, id, (new_route, more_appropriate_rou...  \n",
       "7  [(remove, , [('id', 'more_appropriate_id'), ('...  \n",
       "8  [(remove, , [('route_short_name', 'N55'), ('mo...  "
      ]
     },
     "execution_count": 36,
     "metadata": {},
     "output_type": "execute_result"
    }
   ],
   "source": [
    "n.schedule.change_log().tail()"
   ]
  },
  {
   "cell_type": "markdown",
   "metadata": {},
   "source": [
    "You can also remove `Stop`s. This will disconnect `Route`s and `Service`s using that `Stop`s and likely render them invalid. The method will warn you which `Route`s and `Servce`s are affected."
   ]
  },
  {
   "cell_type": "code",
   "execution_count": 37,
   "metadata": {
    "ExecuteTime": {
     "end_time": "2021-02-17T11:59:38.318037Z",
     "start_time": "2021-02-17T11:59:38.304587Z"
    }
   },
   "outputs": [
    {
     "name": "stderr",
     "output_type": "stream",
     "text": [
      "2021-02-17 11:59:38,312 - Removed Stop with index `new_stop`, data={'id': 'new_stop', 'x': 529500.0, 'y': 181300.0, 'epsg': 'epsg:27700', 'name': 'New Stop', 'lat': 51.51578819710296, 'lon': -0.1350768098744082, 's2_id': 5221390696585158415, 'additional_attributes': set()}. Routes affected: ['20274_7']. Services affected: ['20274'].\n"
     ]
    }
   ],
   "source": [
    "n.schedule.remove_stop('new_stop')"
   ]
  },
  {
   "cell_type": "markdown",
   "metadata": {},
   "source": [
    "Likewise, removing `Route`s and `Service`s is likely to result in a number of unused stops. There is a method to remove such stops."
   ]
  },
  {
   "cell_type": "code",
   "execution_count": 38,
   "metadata": {
    "ExecuteTime": {
     "end_time": "2021-02-17T11:59:38.324578Z",
     "start_time": "2021-02-17T11:59:38.320000Z"
    }
   },
   "outputs": [
    {
     "name": "stderr",
     "output_type": "stream",
     "text": [
      "2021-02-17 11:59:38,321 - Removed Stops with indecies `[]` which were not used by any Routes.\n"
     ]
    }
   ],
   "source": [
    "n.schedule.remove_unsused_stops()"
   ]
  },
  {
   "cell_type": "markdown",
   "metadata": {},
   "source": [
    "## Modifying data stored for Stops, Routes, Services\n",
    "\n",
    "### Applying known or pre-computed changes\n",
    "Applying changes or new attributes to Services, Routes and Stops can be done via Schedule level methods. They all work with a dictionary where the keys are the object IDs and the values are dictionaries holding attribute names and values. The method to extract a DataFrame on attributes comes in handy here. E.g."
   ]
  },
  {
   "cell_type": "code",
   "execution_count": 39,
   "metadata": {
    "ExecuteTime": {
     "end_time": "2021-02-17T11:59:38.336631Z",
     "start_time": "2021-02-17T11:59:38.326107Z"
    }
   },
   "outputs": [
    {
     "data": {
      "text/html": [
       "<div>\n",
       "<style scoped>\n",
       "    .dataframe tbody tr th:only-of-type {\n",
       "        vertical-align: middle;\n",
       "    }\n",
       "\n",
       "    .dataframe tbody tr th {\n",
       "        vertical-align: top;\n",
       "    }\n",
       "\n",
       "    .dataframe thead th {\n",
       "        text-align: right;\n",
       "    }\n",
       "</style>\n",
       "<table border=\"1\" class=\"dataframe\">\n",
       "  <thead>\n",
       "    <tr style=\"text-align: right;\">\n",
       "      <th></th>\n",
       "      <th>name</th>\n",
       "    </tr>\n",
       "  </thead>\n",
       "  <tbody>\n",
       "    <tr>\n",
       "      <th>20274</th>\n",
       "      <td>N55</td>\n",
       "    </tr>\n",
       "    <tr>\n",
       "      <th>15234</th>\n",
       "      <td>134</td>\n",
       "    </tr>\n",
       "    <tr>\n",
       "      <th>12430</th>\n",
       "      <td>205</td>\n",
       "    </tr>\n",
       "    <tr>\n",
       "      <th>17732</th>\n",
       "      <td>N20</td>\n",
       "    </tr>\n",
       "    <tr>\n",
       "      <th>15660</th>\n",
       "      <td>113</td>\n",
       "    </tr>\n",
       "  </tbody>\n",
       "</table>\n",
       "</div>"
      ],
      "text/plain": [
       "      name\n",
       "20274  N55\n",
       "15234  134\n",
       "12430  205\n",
       "17732  N20\n",
       "15660  113"
      ]
     },
     "execution_count": 39,
     "metadata": {},
     "output_type": "execute_result"
    }
   ],
   "source": [
    "df = n.schedule.service_attribute_data(keys='name')\n",
    "df.head()"
   ]
  },
  {
   "cell_type": "markdown",
   "metadata": {},
   "source": [
    "DataFrames are easy to work with. Youcould for exmaple manipulate the names or use other data to change these. For demonstration here, let's just set the names to something easy."
   ]
  },
  {
   "cell_type": "code",
   "execution_count": 40,
   "metadata": {
    "ExecuteTime": {
     "end_time": "2021-02-17T11:59:38.362040Z",
     "start_time": "2021-02-17T11:59:38.338544Z"
    }
   },
   "outputs": [
    {
     "data": {
      "text/html": [
       "<div>\n",
       "<style scoped>\n",
       "    .dataframe tbody tr th:only-of-type {\n",
       "        vertical-align: middle;\n",
       "    }\n",
       "\n",
       "    .dataframe tbody tr th {\n",
       "        vertical-align: top;\n",
       "    }\n",
       "\n",
       "    .dataframe thead th {\n",
       "        text-align: right;\n",
       "    }\n",
       "</style>\n",
       "<table border=\"1\" class=\"dataframe\">\n",
       "  <thead>\n",
       "    <tr style=\"text-align: right;\">\n",
       "      <th></th>\n",
       "      <th>name</th>\n",
       "    </tr>\n",
       "  </thead>\n",
       "  <tbody>\n",
       "    <tr>\n",
       "      <th>20274</th>\n",
       "      <td>Service_N55</td>\n",
       "    </tr>\n",
       "    <tr>\n",
       "      <th>15234</th>\n",
       "      <td>Service_134</td>\n",
       "    </tr>\n",
       "    <tr>\n",
       "      <th>12430</th>\n",
       "      <td>Service_205</td>\n",
       "    </tr>\n",
       "    <tr>\n",
       "      <th>17732</th>\n",
       "      <td>Service_N20</td>\n",
       "    </tr>\n",
       "    <tr>\n",
       "      <th>15660</th>\n",
       "      <td>Service_113</td>\n",
       "    </tr>\n",
       "  </tbody>\n",
       "</table>\n",
       "</div>"
      ],
      "text/plain": [
       "              name\n",
       "20274  Service_N55\n",
       "15234  Service_134\n",
       "12430  Service_205\n",
       "17732  Service_N20\n",
       "15660  Service_113"
      ]
     },
     "execution_count": 40,
     "metadata": {},
     "output_type": "execute_result"
    }
   ],
   "source": [
    "df['name'] = df['name'].apply(lambda x: f'Service_{x}')\n",
    "df.head()"
   ]
  },
  {
   "cell_type": "markdown",
   "metadata": {},
   "source": [
    "You can then convert this to a dictionary and pass it to the `apply_attributes_to_services` method."
   ]
  },
  {
   "cell_type": "code",
   "execution_count": 41,
   "metadata": {
    "ExecuteTime": {
     "end_time": "2021-02-17T11:59:38.376999Z",
     "start_time": "2021-02-17T11:59:38.363914Z"
    }
   },
   "outputs": [
    {
     "name": "stderr",
     "output_type": "stream",
     "text": [
      "2021-02-17 11:59:38,371 - Changed Service attributes for 9 services\n"
     ]
    }
   ],
   "source": [
    "n.schedule.apply_attributes_to_services(df.T.to_dict())"
   ]
  },
  {
   "cell_type": "code",
   "execution_count": 42,
   "metadata": {
    "ExecuteTime": {
     "end_time": "2021-02-17T11:59:38.402998Z",
     "start_time": "2021-02-17T11:59:38.379725Z"
    }
   },
   "outputs": [
    {
     "data": {
      "text/html": [
       "<div>\n",
       "<style scoped>\n",
       "    .dataframe tbody tr th:only-of-type {\n",
       "        vertical-align: middle;\n",
       "    }\n",
       "\n",
       "    .dataframe tbody tr th {\n",
       "        vertical-align: top;\n",
       "    }\n",
       "\n",
       "    .dataframe thead th {\n",
       "        text-align: right;\n",
       "    }\n",
       "</style>\n",
       "<table border=\"1\" class=\"dataframe\">\n",
       "  <thead>\n",
       "    <tr style=\"text-align: right;\">\n",
       "      <th></th>\n",
       "      <th>timestamp</th>\n",
       "      <th>change_event</th>\n",
       "      <th>object_type</th>\n",
       "      <th>old_id</th>\n",
       "      <th>new_id</th>\n",
       "      <th>old_attributes</th>\n",
       "      <th>new_attributes</th>\n",
       "      <th>diff</th>\n",
       "    </tr>\n",
       "  </thead>\n",
       "  <tbody>\n",
       "    <tr>\n",
       "      <th>14</th>\n",
       "      <td>2021-02-17 11:59:38</td>\n",
       "      <td>modify</td>\n",
       "      <td>service</td>\n",
       "      <td>15660</td>\n",
       "      <td>15660</td>\n",
       "      <td>{'id': '15660', 'name': '113'}</td>\n",
       "      <td>{'id': '15660', 'name': 'Service_113'}</td>\n",
       "      <td>[(change, name, (113, Service_113))]</td>\n",
       "    </tr>\n",
       "    <tr>\n",
       "      <th>15</th>\n",
       "      <td>2021-02-17 11:59:38</td>\n",
       "      <td>modify</td>\n",
       "      <td>service</td>\n",
       "      <td>18853</td>\n",
       "      <td>18853</td>\n",
       "      <td>{'id': '18853', 'name': 'N8'}</td>\n",
       "      <td>{'id': '18853', 'name': 'Service_N8'}</td>\n",
       "      <td>[(change, name, (N8, Service_N8))]</td>\n",
       "    </tr>\n",
       "    <tr>\n",
       "      <th>16</th>\n",
       "      <td>2021-02-17 11:59:38</td>\n",
       "      <td>modify</td>\n",
       "      <td>service</td>\n",
       "      <td>14134</td>\n",
       "      <td>14134</td>\n",
       "      <td>{'id': '14134', 'name': '98'}</td>\n",
       "      <td>{'id': '14134', 'name': 'Service_98'}</td>\n",
       "      <td>[(change, name, (98, Service_98))]</td>\n",
       "    </tr>\n",
       "    <tr>\n",
       "      <th>17</th>\n",
       "      <td>2021-02-17 11:59:38</td>\n",
       "      <td>modify</td>\n",
       "      <td>service</td>\n",
       "      <td>14073</td>\n",
       "      <td>14073</td>\n",
       "      <td>{'id': '14073', 'name': '94'}</td>\n",
       "      <td>{'id': '14073', 'name': 'Service_94'}</td>\n",
       "      <td>[(change, name, (94, Service_94))]</td>\n",
       "    </tr>\n",
       "    <tr>\n",
       "      <th>18</th>\n",
       "      <td>2021-02-17 11:59:38</td>\n",
       "      <td>modify</td>\n",
       "      <td>service</td>\n",
       "      <td>18915</td>\n",
       "      <td>18915</td>\n",
       "      <td>{'id': '18915', 'name': 'N5'}</td>\n",
       "      <td>{'id': '18915', 'name': 'Service_N5'}</td>\n",
       "      <td>[(change, name, (N5, Service_N5))]</td>\n",
       "    </tr>\n",
       "  </tbody>\n",
       "</table>\n",
       "</div>"
      ],
      "text/plain": [
       "              timestamp change_event object_type old_id new_id  \\\n",
       "14  2021-02-17 11:59:38       modify     service  15660  15660   \n",
       "15  2021-02-17 11:59:38       modify     service  18853  18853   \n",
       "16  2021-02-17 11:59:38       modify     service  14134  14134   \n",
       "17  2021-02-17 11:59:38       modify     service  14073  14073   \n",
       "18  2021-02-17 11:59:38       modify     service  18915  18915   \n",
       "\n",
       "                    old_attributes                          new_attributes  \\\n",
       "14  {'id': '15660', 'name': '113'}  {'id': '15660', 'name': 'Service_113'}   \n",
       "15   {'id': '18853', 'name': 'N8'}   {'id': '18853', 'name': 'Service_N8'}   \n",
       "16   {'id': '14134', 'name': '98'}   {'id': '14134', 'name': 'Service_98'}   \n",
       "17   {'id': '14073', 'name': '94'}   {'id': '14073', 'name': 'Service_94'}   \n",
       "18   {'id': '18915', 'name': 'N5'}   {'id': '18915', 'name': 'Service_N5'}   \n",
       "\n",
       "                                    diff  \n",
       "14  [(change, name, (113, Service_113))]  \n",
       "15    [(change, name, (N8, Service_N8))]  \n",
       "16    [(change, name, (98, Service_98))]  \n",
       "17    [(change, name, (94, Service_94))]  \n",
       "18    [(change, name, (N5, Service_N5))]  "
      ]
     },
     "execution_count": 42,
     "metadata": {},
     "output_type": "execute_result"
    }
   ],
   "source": [
    "n.schedule.change_log().tail()"
   ]
  },
  {
   "cell_type": "markdown",
   "metadata": {},
   "source": [
    "You can do the same for `Routes` and `Stops`. Your dictionaries cannot however hold changes to indices. You will encounter an error and should use `reindex` methods for such operations."
   ]
  },
  {
   "cell_type": "code",
   "execution_count": 43,
   "metadata": {
    "ExecuteTime": {
     "end_time": "2021-02-17T11:59:38.418727Z",
     "start_time": "2021-02-17T11:59:38.407585Z"
    }
   },
   "outputs": [
    {
     "name": "stderr",
     "output_type": "stream",
     "text": [
      "2021-02-17 11:59:38,413 - Changed Route attributes for 1 routes\n"
     ]
    }
   ],
   "source": [
    "n.schedule.apply_attributes_to_routes(\n",
    "    {'VJ375a660d47a2aa570aa20a8568012da8497ffecf': {\n",
    "        'name': 'my_favourite_route', \n",
    "        'mode': 'piggyback'\n",
    "    }}\n",
    ")"
   ]
  },
  {
   "cell_type": "code",
   "execution_count": 44,
   "metadata": {
    "ExecuteTime": {
     "end_time": "2021-02-17T11:59:38.433383Z",
     "start_time": "2021-02-17T11:59:38.423094Z"
    }
   },
   "outputs": [
    {
     "name": "stderr",
     "output_type": "stream",
     "text": [
      "2021-02-17 11:59:38,429 - Changed Stop attributes for 1 stops\n"
     ]
    }
   ],
   "source": [
    "n.schedule.apply_attributes_to_stops(\n",
    "    {'490000235YB.link:574': {'new_attribute': 'hello!'}}\n",
    ")"
   ]
  },
  {
   "cell_type": "code",
   "execution_count": 45,
   "metadata": {
    "ExecuteTime": {
     "end_time": "2021-02-17T11:59:38.479509Z",
     "start_time": "2021-02-17T11:59:38.436853Z"
    }
   },
   "outputs": [
    {
     "data": {
      "text/html": [
       "<div>\n",
       "<style scoped>\n",
       "    .dataframe tbody tr th:only-of-type {\n",
       "        vertical-align: middle;\n",
       "    }\n",
       "\n",
       "    .dataframe tbody tr th {\n",
       "        vertical-align: top;\n",
       "    }\n",
       "\n",
       "    .dataframe thead th {\n",
       "        text-align: right;\n",
       "    }\n",
       "</style>\n",
       "<table border=\"1\" class=\"dataframe\">\n",
       "  <thead>\n",
       "    <tr style=\"text-align: right;\">\n",
       "      <th></th>\n",
       "      <th>timestamp</th>\n",
       "      <th>change_event</th>\n",
       "      <th>object_type</th>\n",
       "      <th>old_id</th>\n",
       "      <th>new_id</th>\n",
       "      <th>old_attributes</th>\n",
       "      <th>new_attributes</th>\n",
       "      <th>diff</th>\n",
       "    </tr>\n",
       "  </thead>\n",
       "  <tbody>\n",
       "    <tr>\n",
       "      <th>16</th>\n",
       "      <td>2021-02-17 11:59:38</td>\n",
       "      <td>modify</td>\n",
       "      <td>service</td>\n",
       "      <td>14134</td>\n",
       "      <td>14134</td>\n",
       "      <td>{'id': '14134', 'name': '98'}</td>\n",
       "      <td>{'id': '14134', 'name': 'Service_98'}</td>\n",
       "      <td>[(change, name, (98, Service_98))]</td>\n",
       "    </tr>\n",
       "    <tr>\n",
       "      <th>17</th>\n",
       "      <td>2021-02-17 11:59:38</td>\n",
       "      <td>modify</td>\n",
       "      <td>service</td>\n",
       "      <td>14073</td>\n",
       "      <td>14073</td>\n",
       "      <td>{'id': '14073', 'name': '94'}</td>\n",
       "      <td>{'id': '14073', 'name': 'Service_94'}</td>\n",
       "      <td>[(change, name, (94, Service_94))]</td>\n",
       "    </tr>\n",
       "    <tr>\n",
       "      <th>18</th>\n",
       "      <td>2021-02-17 11:59:38</td>\n",
       "      <td>modify</td>\n",
       "      <td>service</td>\n",
       "      <td>18915</td>\n",
       "      <td>18915</td>\n",
       "      <td>{'id': '18915', 'name': 'N5'}</td>\n",
       "      <td>{'id': '18915', 'name': 'Service_N5'}</td>\n",
       "      <td>[(change, name, (N5, Service_N5))]</td>\n",
       "    </tr>\n",
       "    <tr>\n",
       "      <th>19</th>\n",
       "      <td>2021-02-17 11:59:38</td>\n",
       "      <td>modify</td>\n",
       "      <td>route</td>\n",
       "      <td>VJ375a660d47a2aa570aa20a8568012da8497ffecf</td>\n",
       "      <td>VJ375a660d47a2aa570aa20a8568012da8497ffecf</td>\n",
       "      <td>{'route_short_name': 'N55', 'mode': 'bus', 'tr...</td>\n",
       "      <td>{'route_short_name': 'N55', 'mode': 'piggyback...</td>\n",
       "      <td>[(change, mode, (bus, piggyback)), (add, , [('...</td>\n",
       "    </tr>\n",
       "    <tr>\n",
       "      <th>20</th>\n",
       "      <td>2021-02-17 11:59:38</td>\n",
       "      <td>modify</td>\n",
       "      <td>stop</td>\n",
       "      <td>490000235YB.link:574</td>\n",
       "      <td>490000235YB.link:574</td>\n",
       "      <td>{'services': ['20274', '18853', '14134'], 'rou...</td>\n",
       "      <td>{'services': ['20274', '18853', '14134'], 'rou...</td>\n",
       "      <td>[(add, , [('new_attribute', 'hello!')])]</td>\n",
       "    </tr>\n",
       "  </tbody>\n",
       "</table>\n",
       "</div>"
      ],
      "text/plain": [
       "              timestamp change_event object_type  \\\n",
       "16  2021-02-17 11:59:38       modify     service   \n",
       "17  2021-02-17 11:59:38       modify     service   \n",
       "18  2021-02-17 11:59:38       modify     service   \n",
       "19  2021-02-17 11:59:38       modify       route   \n",
       "20  2021-02-17 11:59:38       modify        stop   \n",
       "\n",
       "                                        old_id  \\\n",
       "16                                       14134   \n",
       "17                                       14073   \n",
       "18                                       18915   \n",
       "19  VJ375a660d47a2aa570aa20a8568012da8497ffecf   \n",
       "20                        490000235YB.link:574   \n",
       "\n",
       "                                        new_id  \\\n",
       "16                                       14134   \n",
       "17                                       14073   \n",
       "18                                       18915   \n",
       "19  VJ375a660d47a2aa570aa20a8568012da8497ffecf   \n",
       "20                        490000235YB.link:574   \n",
       "\n",
       "                                       old_attributes  \\\n",
       "16                      {'id': '14134', 'name': '98'}   \n",
       "17                      {'id': '14073', 'name': '94'}   \n",
       "18                      {'id': '18915', 'name': 'N5'}   \n",
       "19  {'route_short_name': 'N55', 'mode': 'bus', 'tr...   \n",
       "20  {'services': ['20274', '18853', '14134'], 'rou...   \n",
       "\n",
       "                                       new_attributes  \\\n",
       "16              {'id': '14134', 'name': 'Service_98'}   \n",
       "17              {'id': '14073', 'name': 'Service_94'}   \n",
       "18              {'id': '18915', 'name': 'Service_N5'}   \n",
       "19  {'route_short_name': 'N55', 'mode': 'piggyback...   \n",
       "20  {'services': ['20274', '18853', '14134'], 'rou...   \n",
       "\n",
       "                                                 diff  \n",
       "16                 [(change, name, (98, Service_98))]  \n",
       "17                 [(change, name, (94, Service_94))]  \n",
       "18                 [(change, name, (N5, Service_N5))]  \n",
       "19  [(change, mode, (bus, piggyback)), (add, , [('...  \n",
       "20           [(add, , [('new_attribute', 'hello!')])]  "
      ]
     },
     "execution_count": 45,
     "metadata": {},
     "output_type": "execute_result"
    }
   ],
   "source": [
    "n.schedule.change_log().tail()"
   ]
  },
  {
   "cell_type": "markdown",
   "metadata": {},
   "source": [
    "### Applying changes using functions or mappings\n",
    "\n",
    "If you have some logic that can be written into a function of object's attributes, you can pass this to `apply_function_to_x` methods. You need to select `location`, which refers to the name of the attribute the result should be stored under. It can already exist and be overwritten. The function passed, is not expected to work with all objects. It will fail silently, only evaluating and generating outputs where possible."
   ]
  },
  {
   "cell_type": "code",
   "execution_count": 46,
   "metadata": {
    "ExecuteTime": {
     "end_time": "2021-02-17T11:59:38.507529Z",
     "start_time": "2021-02-17T11:59:38.482831Z"
    }
   },
   "outputs": [
    {
     "name": "stderr",
     "output_type": "stream",
     "text": [
      "2021-02-17 11:59:38,503 - Changed Stop attributes for 46 stops\n"
     ]
    }
   ],
   "source": [
    "from shapely.geometry import Point\n",
    "\n",
    "def add_shapely_geometry_points(stop_attribs):\n",
    "    return Point(stop_attribs['x'], stop_attribs['y'])\n",
    "\n",
    "n.schedule.apply_function_to_stops(add_shapely_geometry_points, location='geometry')"
   ]
  },
  {
   "cell_type": "code",
   "execution_count": 47,
   "metadata": {
    "ExecuteTime": {
     "end_time": "2021-02-17T11:59:38.550742Z",
     "start_time": "2021-02-17T11:59:38.515211Z"
    }
   },
   "outputs": [
    {
     "data": {
      "text/html": [
       "<div>\n",
       "<style scoped>\n",
       "    .dataframe tbody tr th:only-of-type {\n",
       "        vertical-align: middle;\n",
       "    }\n",
       "\n",
       "    .dataframe tbody tr th {\n",
       "        vertical-align: top;\n",
       "    }\n",
       "\n",
       "    .dataframe thead th {\n",
       "        text-align: right;\n",
       "    }\n",
       "</style>\n",
       "<table border=\"1\" class=\"dataframe\">\n",
       "  <thead>\n",
       "    <tr style=\"text-align: right;\">\n",
       "      <th></th>\n",
       "      <th>timestamp</th>\n",
       "      <th>change_event</th>\n",
       "      <th>object_type</th>\n",
       "      <th>old_id</th>\n",
       "      <th>new_id</th>\n",
       "      <th>old_attributes</th>\n",
       "      <th>new_attributes</th>\n",
       "      <th>diff</th>\n",
       "    </tr>\n",
       "  </thead>\n",
       "  <tbody>\n",
       "    <tr>\n",
       "      <th>65</th>\n",
       "      <td>2021-02-17 11:59:38</td>\n",
       "      <td>modify</td>\n",
       "      <td>stop</td>\n",
       "      <td>490000191A.link:2354</td>\n",
       "      <td>490000191A.link:2354</td>\n",
       "      <td>{'services': ['12430'], 'routes': ['VJ95b4c534...</td>\n",
       "      <td>{'services': ['12430'], 'routes': ['VJ95b4c534...</td>\n",
       "      <td>[(add, , [('geometry', &lt;shapely.geometry.point...</td>\n",
       "    </tr>\n",
       "    <tr>\n",
       "      <th>66</th>\n",
       "      <td>2021-02-17 11:59:38</td>\n",
       "      <td>modify</td>\n",
       "      <td>stop</td>\n",
       "      <td>other_new_stop</td>\n",
       "      <td>other_new_stop</td>\n",
       "      <td>{'routes': ['20274_7'], 'id': 'other_new_stop'...</td>\n",
       "      <td>{'routes': ['20274_7'], 'id': 'other_new_stop'...</td>\n",
       "      <td>[(add, , [('geometry', &lt;shapely.geometry.point...</td>\n",
       "    </tr>\n",
       "  </tbody>\n",
       "</table>\n",
       "</div>"
      ],
      "text/plain": [
       "              timestamp change_event object_type                old_id  \\\n",
       "65  2021-02-17 11:59:38       modify        stop  490000191A.link:2354   \n",
       "66  2021-02-17 11:59:38       modify        stop        other_new_stop   \n",
       "\n",
       "                  new_id                                     old_attributes  \\\n",
       "65  490000191A.link:2354  {'services': ['12430'], 'routes': ['VJ95b4c534...   \n",
       "66        other_new_stop  {'routes': ['20274_7'], 'id': 'other_new_stop'...   \n",
       "\n",
       "                                       new_attributes  \\\n",
       "65  {'services': ['12430'], 'routes': ['VJ95b4c534...   \n",
       "66  {'routes': ['20274_7'], 'id': 'other_new_stop'...   \n",
       "\n",
       "                                                 diff  \n",
       "65  [(add, , [('geometry', <shapely.geometry.point...  \n",
       "66  [(add, , [('geometry', <shapely.geometry.point...  "
      ]
     },
     "execution_count": 47,
     "metadata": {},
     "output_type": "execute_result"
    }
   ],
   "source": [
    "n.schedule.change_log().tail(2)"
   ]
  },
  {
   "cell_type": "code",
   "execution_count": 48,
   "metadata": {
    "ExecuteTime": {
     "end_time": "2021-02-17T11:59:38.587594Z",
     "start_time": "2021-02-17T11:59:38.558446Z"
    }
   },
   "outputs": [
    {
     "data": {
      "text/html": [
       "<div>\n",
       "<style scoped>\n",
       "    .dataframe tbody tr th:only-of-type {\n",
       "        vertical-align: middle;\n",
       "    }\n",
       "\n",
       "    .dataframe tbody tr th {\n",
       "        vertical-align: top;\n",
       "    }\n",
       "\n",
       "    .dataframe thead th {\n",
       "        text-align: right;\n",
       "    }\n",
       "</style>\n",
       "<table border=\"1\" class=\"dataframe\">\n",
       "  <thead>\n",
       "    <tr style=\"text-align: right;\">\n",
       "      <th></th>\n",
       "      <th>name</th>\n",
       "      <th>x</th>\n",
       "      <th>y</th>\n",
       "      <th>geometry</th>\n",
       "    </tr>\n",
       "  </thead>\n",
       "  <tbody>\n",
       "    <tr>\n",
       "      <th>490000235X.link:834</th>\n",
       "      <td>Tottenham Court Road Station (Stop X)</td>\n",
       "      <td>529981.795880</td>\n",
       "      <td>181412.097576</td>\n",
       "      <td>POINT (529981.7958802709 181412.0975758662)</td>\n",
       "    </tr>\n",
       "    <tr>\n",
       "      <th>490000235YB.link:574</th>\n",
       "      <td>Oxford Street  Soho Street (Stop YB)</td>\n",
       "      <td>529570.781323</td>\n",
       "      <td>181336.281593</td>\n",
       "      <td>POINT (529570.7813227688 181336.2815925331)</td>\n",
       "    </tr>\n",
       "    <tr>\n",
       "      <th>490014214HE.link:3154</th>\n",
       "      <td>Wardour Street (Stop OM)</td>\n",
       "      <td>529477.750156</td>\n",
       "      <td>181314.437043</td>\n",
       "      <td>POINT (529477.7501560802 181314.4370430721)</td>\n",
       "    </tr>\n",
       "    <tr>\n",
       "      <th>490010689KB.link:981</th>\n",
       "      <td>Great Titchfield Street  Oxford Circus Station...</td>\n",
       "      <td>529166.734973</td>\n",
       "      <td>181256.336723</td>\n",
       "      <td>POINT (529166.7349732723 181256.3367228433)</td>\n",
       "    </tr>\n",
       "    <tr>\n",
       "      <th>490010689OJ.link:1787</th>\n",
       "      <td>Great Titchfield Street  Oxford Circus Station...</td>\n",
       "      <td>529227.773057</td>\n",
       "      <td>181280.477507</td>\n",
       "      <td>POINT (529227.7730568129 181280.4775071898)</td>\n",
       "    </tr>\n",
       "  </tbody>\n",
       "</table>\n",
       "</div>"
      ],
      "text/plain": [
       "                                                                    name  \\\n",
       "490000235X.link:834                Tottenham Court Road Station (Stop X)   \n",
       "490000235YB.link:574                Oxford Street  Soho Street (Stop YB)   \n",
       "490014214HE.link:3154                           Wardour Street (Stop OM)   \n",
       "490010689KB.link:981   Great Titchfield Street  Oxford Circus Station...   \n",
       "490010689OJ.link:1787  Great Titchfield Street  Oxford Circus Station...   \n",
       "\n",
       "                                   x              y  \\\n",
       "490000235X.link:834    529981.795880  181412.097576   \n",
       "490000235YB.link:574   529570.781323  181336.281593   \n",
       "490014214HE.link:3154  529477.750156  181314.437043   \n",
       "490010689KB.link:981   529166.734973  181256.336723   \n",
       "490010689OJ.link:1787  529227.773057  181280.477507   \n",
       "\n",
       "                                                          geometry  \n",
       "490000235X.link:834    POINT (529981.7958802709 181412.0975758662)  \n",
       "490000235YB.link:574   POINT (529570.7813227688 181336.2815925331)  \n",
       "490014214HE.link:3154  POINT (529477.7501560802 181314.4370430721)  \n",
       "490010689KB.link:981   POINT (529166.7349732723 181256.3367228433)  \n",
       "490010689OJ.link:1787  POINT (529227.7730568129 181280.4775071898)  "
      ]
     },
     "execution_count": 48,
     "metadata": {},
     "output_type": "execute_result"
    }
   ],
   "source": [
    "n.schedule.stop_attribute_data(keys=['name', 'x', 'y', 'geometry']).head()"
   ]
  },
  {
   "cell_type": "code",
   "execution_count": 49,
   "metadata": {
    "ExecuteTime": {
     "end_time": "2021-02-17T11:59:38.994319Z",
     "start_time": "2021-02-17T11:59:38.611355Z"
    }
   },
   "outputs": [
    {
     "data": {
      "text/plain": [
       "<matplotlib.axes._subplots.AxesSubplot at 0x111bbaeb8>"
      ]
     },
     "execution_count": 49,
     "metadata": {},
     "output_type": "execute_result"
    },
    {
     "data": {
      "image/png": "[encoded data removed]",
      "text/plain": [
       "<Figure size 432x288 with 1 Axes>"
      ]
     },
     "metadata": {
      "needs_background": "light"
     },
     "output_type": "display_data"
    }
   ],
   "source": [
    "from geopandas import GeoDataFrame\n",
    "GeoDataFrame(n.schedule.stop_attribute_data(keys='geometry')).plot()"
   ]
  },
  {
   "cell_type": "code",
   "execution_count": 50,
   "metadata": {
    "ExecuteTime": {
     "end_time": "2021-02-17T11:59:39.016094Z",
     "start_time": "2021-02-17T11:59:39.000801Z"
    }
   },
   "outputs": [
    {
     "data": {
      "text/plain": [
       "{'id': '490000235YB.link:574',\n",
       " 'x': 529570.7813227688,\n",
       " 'y': 181336.2815925331,\n",
       " 'epsg': 'epsg:27700',\n",
       " 'name': 'Oxford Street  Soho Street (Stop YB)',\n",
       " 'lat': 51.51609803324078,\n",
       " 'lon': -0.13404398709291862,\n",
       " 's2_id': 5221390696959560815,\n",
       " 'additional_attributes': {'geometry',\n",
       "  'isBlocking',\n",
       "  'linkRefId',\n",
       "  'new_attribute'},\n",
       " 'linkRefId': '574',\n",
       " 'isBlocking': 'false',\n",
       " 'new_attribute': 'hello!',\n",
       " 'geometry': <shapely.geometry.point.Point at 0x111b985c0>}"
      ]
     },
     "execution_count": 50,
     "metadata": {},
     "output_type": "execute_result"
    }
   ],
   "source": [
    "n.schedule.stop('490000235YB.link:574').__dict__"
   ]
  },
  {
   "cell_type": "markdown",
   "metadata": {},
   "source": [
    "For this let's say we want to reduce the number of trips. For simplicity of demonstration we don't have about which trips we delete, but logic around timings of trips can be added in this function, as the trips are saved as one of routes attributes (check out the summary methods)"
   ]
  },
  {
   "cell_type": "code",
   "execution_count": 51,
   "metadata": {
    "ExecuteTime": {
     "end_time": "2021-02-17T11:59:39.399182Z",
     "start_time": "2021-02-17T11:59:39.021338Z"
    }
   },
   "outputs": [
    {
     "ename": "KeyError",
     "evalue": "'new_stop'",
     "output_type": "error",
     "traceback": [
      "\u001b[0;31m---------------------------------------------------------------------------\u001b[0m",
      "\u001b[0;31mKeyError\u001b[0m                                  Traceback (most recent call last)",
      "\u001b[0;32m<ipython-input-51-51f3c9910b05>\u001b[0m in \u001b[0;36m<module>\u001b[0;34m\u001b[0m\n\u001b[1;32m      1\u001b[0m \u001b[0;31m# before\u001b[0m\u001b[0;34m\u001b[0m\u001b[0;34m\u001b[0m\u001b[0m\n\u001b[0;32m----> 2\u001b[0;31m \u001b[0mlen\u001b[0m\u001b[0;34m(\u001b[0m\u001b[0mn\u001b[0m\u001b[0;34m.\u001b[0m\u001b[0mschedule\u001b[0m\u001b[0;34m.\u001b[0m\u001b[0mgenerate_trips_dataframe\u001b[0m\u001b[0;34m(\u001b[0m\u001b[0;34m)\u001b[0m\u001b[0;34m.\u001b[0m\u001b[0mgroupby\u001b[0m\u001b[0;34m(\u001b[0m\u001b[0;34m'trip'\u001b[0m\u001b[0;34m)\u001b[0m\u001b[0;34m)\u001b[0m\u001b[0;34m\u001b[0m\u001b[0m\n\u001b[0m",
      "\u001b[0;32m~/PycharmProjects/ABM/genet/genet/schedule_elements.py\u001b[0m in \u001b[0;36mgenerate_trips_dataframe\u001b[0;34m(self, gtfs_day)\u001b[0m\n\u001b[1;32m   1076\u001b[0m \u001b[0;34m\u001b[0m\u001b[0m\n\u001b[1;32m   1077\u001b[0m         df['from_stop_name'] = df['from_stop'].apply(\n\u001b[0;32m-> 1078\u001b[0;31m             lambda x: self._graph.nodes[x]['name'].replace(\"\\\\\", \"_\").replace(\"/\", \"_\"))\n\u001b[0m\u001b[1;32m   1079\u001b[0m         df['to_stop_name'] = df['to_stop'].apply(\n\u001b[1;32m   1080\u001b[0m             lambda x: self._graph.nodes[x]['name'].replace(\"\\\\\", \"_\").replace(\"/\", \"_\"))\n",
      "\u001b[0;32m~/pycharm_venvs/genet/lib/python3.7/site-packages/pandas/core/series.py\u001b[0m in \u001b[0;36mapply\u001b[0;34m(self, func, convert_dtype, args, **kwds)\u001b[0m\n\u001b[1;32m   3846\u001b[0m             \u001b[0;32melse\u001b[0m\u001b[0;34m:\u001b[0m\u001b[0;34m\u001b[0m\u001b[0m\n\u001b[1;32m   3847\u001b[0m                 \u001b[0mvalues\u001b[0m \u001b[0;34m=\u001b[0m \u001b[0mself\u001b[0m\u001b[0;34m.\u001b[0m\u001b[0mastype\u001b[0m\u001b[0;34m(\u001b[0m\u001b[0mobject\u001b[0m\u001b[0;34m)\u001b[0m\u001b[0;34m.\u001b[0m\u001b[0mvalues\u001b[0m\u001b[0;34m\u001b[0m\u001b[0m\n\u001b[0;32m-> 3848\u001b[0;31m                 \u001b[0mmapped\u001b[0m \u001b[0;34m=\u001b[0m \u001b[0mlib\u001b[0m\u001b[0;34m.\u001b[0m\u001b[0mmap_infer\u001b[0m\u001b[0;34m(\u001b[0m\u001b[0mvalues\u001b[0m\u001b[0;34m,\u001b[0m \u001b[0mf\u001b[0m\u001b[0;34m,\u001b[0m \u001b[0mconvert\u001b[0m\u001b[0;34m=\u001b[0m\u001b[0mconvert_dtype\u001b[0m\u001b[0;34m)\u001b[0m\u001b[0;34m\u001b[0m\u001b[0m\n\u001b[0m\u001b[1;32m   3849\u001b[0m \u001b[0;34m\u001b[0m\u001b[0m\n\u001b[1;32m   3850\u001b[0m         \u001b[0;32mif\u001b[0m \u001b[0mlen\u001b[0m\u001b[0;34m(\u001b[0m\u001b[0mmapped\u001b[0m\u001b[0;34m)\u001b[0m \u001b[0;32mand\u001b[0m \u001b[0misinstance\u001b[0m\u001b[0;34m(\u001b[0m\u001b[0mmapped\u001b[0m\u001b[0;34m[\u001b[0m\u001b[0;36m0\u001b[0m\u001b[0;34m]\u001b[0m\u001b[0;34m,\u001b[0m \u001b[0mSeries\u001b[0m\u001b[0;34m)\u001b[0m\u001b[0;34m:\u001b[0m\u001b[0;34m\u001b[0m\u001b[0m\n",
      "\u001b[0;32mpandas/_libs/lib.pyx\u001b[0m in \u001b[0;36mpandas._libs.lib.map_infer\u001b[0;34m()\u001b[0m\n",
      "\u001b[0;32m~/PycharmProjects/ABM/genet/genet/schedule_elements.py\u001b[0m in \u001b[0;36m<lambda>\u001b[0;34m(x)\u001b[0m\n\u001b[1;32m   1076\u001b[0m \u001b[0;34m\u001b[0m\u001b[0m\n\u001b[1;32m   1077\u001b[0m         df['from_stop_name'] = df['from_stop'].apply(\n\u001b[0;32m-> 1078\u001b[0;31m             lambda x: self._graph.nodes[x]['name'].replace(\"\\\\\", \"_\").replace(\"/\", \"_\"))\n\u001b[0m\u001b[1;32m   1079\u001b[0m         df['to_stop_name'] = df['to_stop'].apply(\n\u001b[1;32m   1080\u001b[0m             lambda x: self._graph.nodes[x]['name'].replace(\"\\\\\", \"_\").replace(\"/\", \"_\"))\n",
      "\u001b[0;32m~/pycharm_venvs/genet/lib/python3.7/site-packages/networkx/classes/reportviews.py\u001b[0m in \u001b[0;36m__getitem__\u001b[0;34m(self, n)\u001b[0m\n\u001b[1;32m    176\u001b[0m \u001b[0;34m\u001b[0m\u001b[0m\n\u001b[1;32m    177\u001b[0m     \u001b[0;32mdef\u001b[0m \u001b[0m__getitem__\u001b[0m\u001b[0;34m(\u001b[0m\u001b[0mself\u001b[0m\u001b[0;34m,\u001b[0m \u001b[0mn\u001b[0m\u001b[0;34m)\u001b[0m\u001b[0;34m:\u001b[0m\u001b[0;34m\u001b[0m\u001b[0m\n\u001b[0;32m--> 178\u001b[0;31m         \u001b[0;32mreturn\u001b[0m \u001b[0mself\u001b[0m\u001b[0;34m.\u001b[0m\u001b[0m_nodes\u001b[0m\u001b[0;34m[\u001b[0m\u001b[0mn\u001b[0m\u001b[0;34m]\u001b[0m\u001b[0;34m\u001b[0m\u001b[0m\n\u001b[0m\u001b[1;32m    179\u001b[0m \u001b[0;34m\u001b[0m\u001b[0m\n\u001b[1;32m    180\u001b[0m     \u001b[0;31m# Set methods\u001b[0m\u001b[0;34m\u001b[0m\u001b[0;34m\u001b[0m\u001b[0m\n",
      "\u001b[0;31mKeyError\u001b[0m: 'new_stop'"
     ]
    }
   ],
   "source": [
    "# before\n",
    "len(n.schedule.generate_trips_dataframe().groupby('trip'))"
   ]
  },
  {
   "cell_type": "code",
   "execution_count": null,
   "metadata": {
    "ExecuteTime": {
     "end_time": "2021-02-17T11:59:39.687876Z",
     "start_time": "2021-02-17T11:59:34.902Z"
    }
   },
   "outputs": [],
   "source": [
    "def reduce_trips(attribs):\n",
    "    # just delete any other trip\n",
    "    trips = set(attribs['trips'].keys())\n",
    "    for i, trip in enumerate(trips):\n",
    "        if i % 2:\n",
    "            del attribs['trips'][trip]\n",
    "    return attribs['trips']\n",
    "\n",
    "n.schedule.apply_function_to_routes(reduce_trips, 'trips')"
   ]
  },
  {
   "cell_type": "code",
   "execution_count": null,
   "metadata": {
    "ExecuteTime": {
     "end_time": "2021-02-17T11:59:39.698555Z",
     "start_time": "2021-02-17T11:59:34.904Z"
    }
   },
   "outputs": [],
   "source": [
    "# after\n",
    "len(n.schedule.generate_trips_dataframe().groupby('trip'))"
   ]
  },
  {
   "cell_type": "markdown",
   "metadata": {},
   "source": [
    "Let's give an example of using a mapping. We can re-use the service name DataFrame we generated above."
   ]
  },
  {
   "cell_type": "code",
   "execution_count": null,
   "metadata": {
    "ExecuteTime": {
     "end_time": "2021-02-17T11:59:39.709911Z",
     "start_time": "2021-02-17T11:59:35.008Z"
    }
   },
   "outputs": [],
   "source": [
    "df['new_name'] = 'Brand_new_name' + df['name']\n",
    "df.head()"
   ]
  },
  {
   "cell_type": "code",
   "execution_count": null,
   "metadata": {
    "ExecuteTime": {
     "end_time": "2021-02-17T11:59:39.715187Z",
     "start_time": "2021-02-17T11:59:35.010Z"
    }
   },
   "outputs": [],
   "source": [
    "name_map = dict(zip(df['name'], df['new_name']))\n",
    "name_map"
   ]
  },
  {
   "cell_type": "markdown",
   "metadata": {},
   "source": [
    "In this case, `location` refers to the attribute to be mapped."
   ]
  },
  {
   "cell_type": "code",
   "execution_count": null,
   "metadata": {
    "ExecuteTime": {
     "end_time": "2021-02-17T11:59:39.724387Z",
     "start_time": "2021-02-17T11:59:35.128Z"
    }
   },
   "outputs": [],
   "source": [
    "n.schedule.apply_function_to_services(name_map, location='name')"
   ]
  },
  {
   "cell_type": "code",
   "execution_count": null,
   "metadata": {
    "ExecuteTime": {
     "end_time": "2021-02-17T11:59:39.736121Z",
     "start_time": "2021-02-17T11:59:35.131Z"
    }
   },
   "outputs": [],
   "source": [
    "n.schedule.change_log().tail()"
   ]
  }
 ],
 "metadata": {
  "kernelspec": {
   "display_name": "Python (genet)",
   "language": "python",
   "name": "genet"
  },
  "language_info": {
   "codemirror_mode": {
    "name": "ipython",
    "version": 3
   },
   "file_extension": ".py",
   "mimetype": "text/x-python",
   "name": "python",
   "nbconvert_exporter": "python",
   "pygments_lexer": "ipython3",
   "version": "3.7.0"
  },
  "latex_envs": {
   "LaTeX_envs_menu_present": true,
   "autoclose": true,
   "autocomplete": true,
   "bibliofile": "biblio.bib",
   "cite_by": "apalike",
   "current_citInitial": 1,
   "eqLabelWithNumbers": true,
   "eqNumInitial": 1,
   "hotkeys": {
    "equation": "Ctrl-E",
    "itemize": "Ctrl-I"
   },
   "labels_anchors": false,
   "latex_user_defs": false,
   "report_style_numbering": false,
   "user_envs_cfg": false
  },
  "toc": {
   "base_numbering": 1,
   "nav_menu": {},
   "number_sections": true,
   "sideBar": true,
   "skip_h1_title": false,
   "title_cell": "Table of Contents",
   "title_sidebar": "Contents",
   "toc_cell": false,
   "toc_position": {},
   "toc_section_display": true,
   "toc_window_display": false
  },
  "varInspector": {
   "cols": {
    "lenName": 16,
    "lenType": 16,
    "lenVar": 40
   },
   "kernels_config": {
    "python": {
     "delete_cmd_postfix": "",
     "delete_cmd_prefix": "del ",
     "library": "var_list.py",
     "varRefreshCmd": "print(var_dic_list())"
    },
    "r": {
     "delete_cmd_postfix": ") ",
     "delete_cmd_prefix": "rm(",
     "library": "var_list.r",
     "varRefreshCmd": "cat(var_dic_list()) "
    }
   },
   "types_to_exclude": [
    "module",
    "function",
    "builtin_function_or_method",
    "instance",
    "_Feature"
   ],
   "window_display": false
  }
 },
 "nbformat": 4,
 "nbformat_minor": 2
}
