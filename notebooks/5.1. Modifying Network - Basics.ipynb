{
 "cells": [
  {
   "cell_type": "markdown",
   "metadata": {},
   "source": [
    "# Modifying the `Network` object\n",
    "`GeNet` supports some simple modifications like adding, reindexing and removing nodes and links and some involved modifications like changing the data stored under nodes or links. All of these changes get recorded in `n.change_log`."
   ]
  },
  {
   "cell_type": "code",
   "execution_count": 1,
   "metadata": {
    "ExecuteTime": {
     "end_time": "2020-12-17T10:44:08.336118Z",
     "start_time": "2020-12-17T10:44:04.489665Z"
    }
   },
   "outputs": [
    {
     "data": {
      "text/plain": [
       "<Network instance at 4370019808: with \n",
       "graph: Name: Network graph\n",
       "Type: MultiDiGraph\n",
       "Number of nodes: 1662\n",
       "Number of edges: 3166\n",
       "Average in degree:   1.9049\n",
       "Average out degree:   1.9049 and \n",
       "schedule Schedule:\n",
       "Number of services: 9\n",
       "Number of unique routes: 68\n",
       "Number of stops: 45"
      ]
     },
     "execution_count": 1,
     "metadata": {},
     "output_type": "execute_result"
    }
   ],
   "source": [
    "# read example network\n",
    "import pandas as pd\n",
    "from genet import Network\n",
    "import os\n",
    "\n",
    "n = Network('epsg:27700')\n",
    "path_to_matsim_network = '../example_data/pt2matsim_network'\n",
    "n.read_matsim_network(os.path.join(path_to_matsim_network, 'network.xml'))\n",
    "n.read_matsim_schedule(os.path.join(path_to_matsim_network, 'schedule.xml'))\n",
    "n"
   ]
  },
  {
   "cell_type": "markdown",
   "metadata": {},
   "source": [
    "## Adding nodes/links"
   ]
  },
  {
   "cell_type": "code",
   "execution_count": 2,
   "metadata": {
    "ExecuteTime": {
     "end_time": "2020-12-17T10:44:30.762947Z",
     "start_time": "2020-12-17T10:44:30.746544Z"
    }
   },
   "outputs": [
    {
     "name": "stderr",
     "output_type": "stream",
     "text": [
      "2020-12-17 10:44:30,755 - Added Link with index proposed_index, from node:4356572310 to node:5811263955, under multi-index:1, and data={'from': '4356572310', 'to': '5811263955', 'id': 'proposed_index'}\n"
     ]
    },
    {
     "data": {
      "text/plain": [
       "'proposed_index'"
      ]
     },
     "execution_count": 2,
     "metadata": {},
     "output_type": "execute_result"
    }
   ],
   "source": [
    "n.add_link(link_id='proposed_index', u='4356572310', v='5811263955')"
   ]
  },
  {
   "cell_type": "code",
   "execution_count": 3,
   "metadata": {
    "ExecuteTime": {
     "end_time": "2020-12-17T10:44:43.206871Z",
     "start_time": "2020-12-17T10:44:43.188424Z"
    }
   },
   "outputs": [
    {
     "name": "stderr",
     "output_type": "stream",
     "text": [
      "2020-12-17 10:44:43,195 - Added Node with index `proposed_index` and data={'data': 'some_data'}\n"
     ]
    },
    {
     "data": {
      "text/plain": [
       "'proposed_index'"
      ]
     },
     "execution_count": 3,
     "metadata": {},
     "output_type": "execute_result"
    }
   ],
   "source": [
    "n.add_node(node='proposed_index', attribs={'data':'some_data'})"
   ]
  },
  {
   "cell_type": "markdown",
   "metadata": {},
   "source": [
    "The index passed is only a proposition. If a node or link under this link exists, a new, unique index will be generated."
   ]
  },
  {
   "cell_type": "code",
   "execution_count": null,
   "metadata": {},
   "outputs": [],
   "source": [
    "actual_link_id_added = n.add_link(link_id='proposed_index', u='4356572310', v='5811263955')"
   ]
  },
  {
   "cell_type": "markdown",
   "metadata": {},
   "source": [
    "## Reindexing\n",
    "\n",
    "To reindex a node or link:"
   ]
  },
  {
   "cell_type": "code",
   "execution_count": null,
   "metadata": {},
   "outputs": [],
   "source": [
    "n.reindex_node('proposed_index', 'another_index')"
   ]
  },
  {
   "cell_type": "code",
   "execution_count": null,
   "metadata": {},
   "outputs": [],
   "source": [
    "n.reindex_link('proposed_index', 'another_index')"
   ]
  },
  {
   "cell_type": "markdown",
   "metadata": {},
   "source": [
    "## Removing nodes/links\n",
    "\n",
    "To remove a link or node:"
   ]
  },
  {
   "cell_type": "code",
   "execution_count": null,
   "metadata": {},
   "outputs": [],
   "source": [
    "n.remove_links(['another_index', actual_link_id_added])"
   ]
  },
  {
   "cell_type": "code",
   "execution_count": null,
   "metadata": {},
   "outputs": [],
   "source": [
    "n.remove_node('another_index')"
   ]
  },
  {
   "cell_type": "markdown",
   "metadata": {},
   "source": [
    "## Modifying data stored on nodes or edges:\n",
    "\n",
    "Let's say you have extracted `genet.Network` link ids of interest (See Section on Using Network - Accessing Data) and now you want to make changes to the network. Let's make changes to the nested OSM data stored on the links. We will replace the highway tags from `'primary'` to `'SOMETHING'`."
   ]
  },
  {
   "cell_type": "code",
   "execution_count": null,
   "metadata": {},
   "outputs": [],
   "source": [
    "from genet import graph_operations\n",
    "\n",
    "links = graph_operations.extract_links_on_edge_attributes(\n",
    "    n,\n",
    "    conditions= {'attributes': {'osm:way:highway': {'text': 'primary'}}},\n",
    ")\n",
    "\n",
    "links[:5]"
   ]
  },
  {
   "cell_type": "code",
   "execution_count": null,
   "metadata": {},
   "outputs": [],
   "source": [
    "n.link(links[0])"
   ]
  },
  {
   "cell_type": "code",
   "execution_count": null,
   "metadata": {},
   "outputs": [],
   "source": [
    "We create a dictionary which maps same changes to all links in the list using:\n",
    "    \n",
    "    {link_id: {'attributes': {'osm:way:highway': {'text': 'SOMETHING'}}} for link_id in links}"
   ]
  },
  {
   "cell_type": "code",
   "execution_count": null,
   "metadata": {},
   "outputs": [],
   "source": [
    "n.apply_attributes_to_links({link_id: {'attributes': {'osm:way:highway': {'text': 'SOMETHING'}}} for link_id in links})"
   ]
  },
  {
   "cell_type": "code",
   "execution_count": null,
   "metadata": {},
   "outputs": [],
   "source": [
    "n.link(links[0])"
   ]
  },
  {
   "cell_type": "code",
   "execution_count": null,
   "metadata": {},
   "outputs": [],
   "source": [
    "n.change_log.log.head()"
   ]
  },
  {
   "cell_type": "code",
   "execution_count": null,
   "metadata": {},
   "outputs": [],
   "source": [
    "n.change_log.log.loc[618, :]['old_attributes']"
   ]
  },
  {
   "cell_type": "code",
   "execution_count": null,
   "metadata": {},
   "outputs": [],
   "source": [
    "n.change_log.log.loc[618, :]['new_attributes']"
   ]
  },
  {
   "cell_type": "code",
   "execution_count": null,
   "metadata": {},
   "outputs": [],
   "source": [
    "n.change_log.log.loc[618, :]['diff']"
   ]
  },
  {
   "cell_type": "markdown",
   "metadata": {},
   "source": [
    "# Modifying the `Schedule` object\n",
    "\n",
    "Right now, GeNet does not have methods to change the Schedule objects (coming soon ;)). You can still manipulate the` Schedule`, `Service` and `Route` objects' attributes yourself, but make sure you validate the end result."
   ]
  },
  {
   "cell_type": "code",
   "execution_count": 5,
   "metadata": {
    "ExecuteTime": {
     "end_time": "2020-12-17T11:37:16.131976Z",
     "start_time": "2020-12-17T11:37:16.088422Z"
    }
   },
   "outputs": [
    {
     "name": "stdout",
     "output_type": "stream",
     "text": [
      "{'_graph': <networkx.classes.digraph.DiGraph object at 0x10d9fcdc0>,\n",
      " 'epsg': 'epsg:27700',\n",
      " 'init_epsg': 'epsg:27700',\n",
      " 'minimal_transfer_times': {'490000078P.link:1383': {'stop': '490000078P',\n",
      "                                                     'transferTime': 0.0},\n",
      "                            '490000078Q.link:1239': {'stop': '490000078Q',\n",
      "                                                     'transferTime': 0.0},\n",
      "                            '490000078Q.link:2725': {'stop': '490000078Q',\n",
      "                                                     'transferTime': 0.0},\n",
      "                            '490000089A.link:823': {'stop': '490000089A',\n",
      "                                                    'transferTime': 0.0},\n",
      "                            '490000091G.link:1242': {'stop': '490000091G',\n",
      "                                                     'transferTime': 0.0},\n",
      "                            '490000091H.link:1912': {'stop': '490000091H',\n",
      "                                                     'transferTime': 0.0},\n",
      "                            '490000173JC': {'stop': '490000173JC.link:1792',\n",
      "                                            'transferTime': 0.0},\n",
      "                            '490000173N.link:1506': {'stop': '490000173N',\n",
      "                                                     'transferTime': 0.0},\n",
      "                            '490000173OQ': {'stop': '490000173OQ.link:3042',\n",
      "                                            'transferTime': 0.0},\n",
      "                            '490000173RC': {'stop': '490000173RC.link:3352',\n",
      "                                            'transferTime': 0.0},\n",
      "                            '490000173RG': {'stop': '490000173RG.link:2614',\n",
      "                                            'transferTime': 0.0},\n",
      "                            '490000173W.link:1868': {'stop': '490000173W',\n",
      "                                                     'transferTime': 0.0},\n",
      "                            '490000173Z': {'stop': '490000173Z.link:3041',\n",
      "                                           'transferTime': 0.0},\n",
      "                            '490000191A.link:2354': {'stop': '490000191A',\n",
      "                                                     'transferTime': 0.0},\n",
      "                            '490000191B.link:305': {'stop': '490000191B',\n",
      "                                                    'transferTime': 0.0},\n",
      "                            '490000235C': {'stop': '490000235C.link:3068',\n",
      "                                           'transferTime': 0.0},\n",
      "                            '490000235P.link:15': {'stop': '490000235P',\n",
      "                                                   'transferTime': 0.0},\n",
      "                            '490000235V.link:3140': {'stop': '490000235V',\n",
      "                                                     'transferTime': 0.0},\n",
      "                            '490000235X.link:834': {'stop': '490000235X',\n",
      "                                                    'transferTime': 0.0},\n",
      "                            '490000235YB.link:574': {'stop': '490000235YB',\n",
      "                                                     'transferTime': 0.0},\n",
      "                            '490000235Z': {'stop': '490000235Z.link:15',\n",
      "                                           'transferTime': 0.0},\n",
      "                            '490000252E.link:1198': {'stop': '490000252E.link:1239',\n",
      "                                                     'transferTime': 0.0},\n",
      "                            '490000252KA.link:1437': {'stop': '490000252KA',\n",
      "                                                      'transferTime': 0.0},\n",
      "                            '490000252V.link:1182': {'stop': '490000252V',\n",
      "                                                     'transferTime': 0.0},\n",
      "                            '490000252X': {'stop': '490000252X.link:86',\n",
      "                                           'transferTime': 0.0},\n",
      "                            '490000252X.link:2637': {'stop': '490000252X.link:86',\n",
      "                                                     'transferTime': 0.0},\n",
      "                            '4900020147W.link:2634': {'stop': '4900020147W',\n",
      "                                                      'transferTime': 0.0},\n",
      "                            '4900020147W.link:3328': {'stop': '4900020147W',\n",
      "                                                      'transferTime': 0.0},\n",
      "                            '490002121ZT.link:916': {'stop': '490002121ZT',\n",
      "                                                     'transferTime': 0.0},\n",
      "                            '490002124ZZ': {'stop': '490002124ZZ.link:1172',\n",
      "                                            'transferTime': 0.0},\n",
      "                            '490004695A': {'stop': '490004695A.link:3017',\n",
      "                                           'transferTime': 0.0},\n",
      "                            '490005084Z.link:2918': {'stop': '490005084Z',\n",
      "                                                     'transferTime': 0.0},\n",
      "                            '490007807E': {'stop': '490007807E.link:1154',\n",
      "                                           'transferTime': 0.0},\n",
      "                            '490007807W.link:2922': {'stop': '490007807W',\n",
      "                                                     'transferTime': 0.0},\n",
      "                            '490010531OS': {'stop': '490010531OS.link:1868',\n",
      "                                            'transferTime': 0.0},\n",
      "                            '490010531W': {'stop': '490010531W.link:1867',\n",
      "                                           'transferTime': 0.0},\n",
      "                            '490010689KB': {'stop': '490010689KB.link:981',\n",
      "                                            'transferTime': 0.0},\n",
      "                            '490010689OJ.link:1787': {'stop': '490010689OJ',\n",
      "                                                      'transferTime': 0.0},\n",
      "                            '490014214HE.link:3154': {'stop': '490014214HE',\n",
      "                                                      'transferTime': 0.0},\n",
      "                            '490015042T': {'stop': '490015042T.link:622',\n",
      "                                           'transferTime': 0.0},\n",
      "                            '490015042U': {'stop': '490015042U.link:796',\n",
      "                                           'transferTime': 0.0},\n",
      "                            '490015196OF.link:1311': {'stop': '490015196OF',\n",
      "                                                      'transferTime': 0.0},\n",
      "                            '490015196OG.link:2954': {'stop': '490015196OG',\n",
      "                                                      'transferTime': 0.0}},\n",
      " 'reference_edges': [('490000235V.link:3140', '490000235P.link:15'),\n",
      "                     ('490000091H.link:1912', '490000252KA.link:1437'),\n",
      "                     ('490000173Z.link:3041', '490000173N.link:1506'),\n",
      "                     ('490000091G.link:1242', '490000191B.link:305'),\n",
      "                     ('490015196OF.link:1311', '490010689OJ.link:1787'),\n",
      "                     ('490005084Z.link:2918', '490002124ZZ.link:1172'),\n",
      "                     ('490000078P.link:1383', '4900020147W.link:2634'),\n",
      "                     ('490000235X.link:834', '490000235YB.link:574'),\n",
      "                     ('490000235V.link:3140', '490000235Z.link:15'),\n",
      "                     ('490000173N.link:1506', '490000173JB.link:1663'),\n",
      "                     ('490000252V.link:1182', '490000091G.link:1242'),\n",
      "                     ('4900020147W.link:2634', '490000252V.link:1182'),\n",
      "                     ('490000252E.link:1198', '490000252X.link:2637'),\n",
      "                     ('490000078P.link:1383', '4900020147W.link:3328'),\n",
      "                     ('490000173JC.link:1792', '490000173W.link:1868'),\n",
      "                     ('490000235YB.link:574', '490010689KB.link:981'),\n",
      "                     ('490002121ZT.link:916', '490005084Z.link:2918'),\n",
      "                     ('4900020147W.link:3328', '490002121ZT.link:916'),\n",
      "                     ('490000089A.link:823', '490000252X.link:86'),\n",
      "                     ('490000252X.link:2637', '490015042T.link:622'),\n",
      "                     ('490007807E.link:1154', '490000191A.link:2354'),\n",
      "                     ('490000235C.link:3068', '490000089A.link:823'),\n",
      "                     ('490010689OJ.link:1787', '490000235V.link:3140'),\n",
      "                     ('490000173RC.link:3352', '490010531OS.link:1868'),\n",
      "                     ('490000191A.link:2354', '490000091H.link:1912'),\n",
      "                     ('490000252X.link:86', '490000078Q.link:1239'),\n",
      "                     ('490015196OG.link:2954', '490010689OJ.link:1787'),\n",
      "                     ('490015042U.link:796', '490000252E.link:1239'),\n",
      "                     ('490010689KB.link:981', '490000173OQ.link:3042'),\n",
      "                     ('490000235YB.link:574', '490014214HE.link:3154'),\n",
      "                     ('490010531W.link:1867', '490000173RG.link:2614'),\n",
      "                     ('490000252KA.link:1437', '490000078Q.link:2725'),\n",
      "                     ('490000191B.link:305', '490007807W.link:2922'),\n",
      "                     ('490014214HE.link:3154', '490010689KB.link:981'),\n",
      "                     ('490004695A.link:3017', '490000235C.link:3068')],\n",
      " 'reference_nodes': ['490000252E.link:1198',\n",
      "                     '490000091G.link:1242',\n",
      "                     '490000173RC.link:3352',\n",
      "                     '490000173JB.link:1663',\n",
      "                     '490007807W.link:2922',\n",
      "                     '490000089A.link:823',\n",
      "                     '490000252X.link:2637',\n",
      "                     '490004695A.link:3017',\n",
      "                     '490010531W.link:1867',\n",
      "                     '490007807E.link:1154',\n",
      "                     '490000173N.link:1506',\n",
      "                     '490010689KB.link:981',\n",
      "                     '490000078P.link:1383',\n",
      "                     '490002121ZT.link:916',\n",
      "                     '490000091H.link:1912',\n",
      "                     '490010531OS.link:1868',\n",
      "                     '490000191B.link:305',\n",
      "                     '490000235X.link:834',\n",
      "                     '490002124ZZ.link:1172',\n",
      "                     '490005084Z.link:2918',\n",
      "                     '4900020147W.link:2634',\n",
      "                     '490000235C.link:3068',\n",
      "                     '490015042T.link:622',\n",
      "                     '490000235Z.link:15',\n",
      "                     '490000173OQ.link:3042',\n",
      "                     '490000235V.link:3140',\n",
      "                     '4900020147W.link:3328',\n",
      "                     '490010689OJ.link:1787',\n",
      "                     '490015196OG.link:2954',\n",
      "                     '490000235P.link:15',\n",
      "                     '490000235YB.link:574',\n",
      "                     '490000078Q.link:2725',\n",
      "                     '490000173Z.link:3041',\n",
      "                     '490000252KA.link:1437',\n",
      "                     '490000078Q.link:1239',\n",
      "                     '490000252E.link:1239',\n",
      "                     '490000252V.link:1182',\n",
      "                     '490000191A.link:2354',\n",
      "                     '490000173RG.link:2614',\n",
      "                     '490014214HE.link:3154',\n",
      "                     '490000173JC.link:1792',\n",
      "                     '490015042U.link:796',\n",
      "                     '490015196OF.link:1311',\n",
      "                     '490000252X.link:86',\n",
      "                     '490000173W.link:1868'],\n",
      " 'services': {'12430': <Service instance at 4635815552: with 12 routes>,\n",
      "              '14073': <Service instance at 4632909088: with 15 routes>,\n",
      "              '14134': <Service instance at 4632911584: with 16 routes>,\n",
      "              '15234': <Service instance at 4632911296: with 9 routes>,\n",
      "              '15660': <Service instance at 4632910288: with 3 routes>,\n",
      "              '17732': <Service instance at 4632909376: with 2 routes>,\n",
      "              '18853': <Service instance at 4632910912: with 3 routes>,\n",
      "              '18915': <Service instance at 4645967232: with 5 routes>,\n",
      "              '20274': <Service instance at 4628610016: with 3 routes>},\n",
      " 'transformer': <Unknown Transformer: unknown>\n",
      "Description: unavailable until proj_trans is called\n",
      "Area of Use:\n",
      "- undefined}\n"
     ]
    }
   ],
   "source": [
    "from pprint import pprint\n",
    "pprint(n.schedule.__dict__)"
   ]
  },
  {
   "cell_type": "code",
   "execution_count": null,
   "metadata": {},
   "outputs": [],
   "source": []
  },
  {
   "cell_type": "code",
   "execution_count": null,
   "metadata": {},
   "outputs": [],
   "source": []
  },
  {
   "cell_type": "code",
   "execution_count": null,
   "metadata": {},
   "outputs": [],
   "source": []
  }
 ],
 "metadata": {
  "kernelspec": {
   "display_name": "Python (genet)",
   "language": "python",
   "name": "genet"
  },
  "language_info": {
   "codemirror_mode": {
    "name": "ipython",
    "version": 3
   },
   "file_extension": ".py",
   "mimetype": "text/x-python",
   "name": "python",
   "nbconvert_exporter": "python",
   "pygments_lexer": "ipython3",
   "version": "3.8.6"
  },
  "latex_envs": {
   "LaTeX_envs_menu_present": true,
   "autoclose": true,
   "autocomplete": true,
   "bibliofile": "biblio.bib",
   "cite_by": "apalike",
   "current_citInitial": 1,
   "eqLabelWithNumbers": true,
   "eqNumInitial": 1,
   "hotkeys": {
    "equation": "Ctrl-E",
    "itemize": "Ctrl-I"
   },
   "labels_anchors": false,
   "latex_user_defs": false,
   "report_style_numbering": false,
   "user_envs_cfg": false
  },
  "toc": {
   "base_numbering": 1,
   "nav_menu": {},
   "number_sections": true,
   "sideBar": true,
   "skip_h1_title": false,
   "title_cell": "Table of Contents",
   "title_sidebar": "Contents",
   "toc_cell": false,
   "toc_position": {},
   "toc_section_display": true,
   "toc_window_display": false
  },
  "varInspector": {
   "cols": {
    "lenName": 16,
    "lenType": 16,
    "lenVar": 40
   },
   "kernels_config": {
    "python": {
     "delete_cmd_postfix": "",
     "delete_cmd_prefix": "del ",
     "library": "var_list.py",
     "varRefreshCmd": "print(var_dic_list())"
    },
    "r": {
     "delete_cmd_postfix": ") ",
     "delete_cmd_prefix": "rm(",
     "library": "var_list.r",
     "varRefreshCmd": "cat(var_dic_list()) "
    }
   },
   "types_to_exclude": [
    "module",
    "function",
    "builtin_function_or_method",
    "instance",
    "_Feature"
   ],
   "window_display": false
  }
 },
 "nbformat": 4,
 "nbformat_minor": 2
}
