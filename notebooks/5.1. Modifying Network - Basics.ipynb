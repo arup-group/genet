{
 "cells": [
  {
   "cell_type": "markdown",
   "metadata": {},
   "source": [
    "# Modifying the `Network` object\n",
    "`GeNet` supports some simple modifications like adding, reindexing and removing nodes and links and some involved modifications like changing the data stored under nodes or links. All of these changes get recorded in `n.change_log`."
   ]
  },
  {
   "cell_type": "code",
   "execution_count": 2,
   "metadata": {},
   "outputs": [
    {
     "name": "stdout",
     "output_type": "stream",
     "text": [
      "anytree==2.8.0\n",
      "appdirs==1.4.4\n",
      "appnope==0.1.0\n",
      "atomicwrites==1.4.0\n",
      "attrs==19.3.0\n",
      "backcall==0.1.0\n",
      "bleach==4.1.0\n",
      "boto3==1.14.16\n",
      "botocore==1.17.16\n",
      "Bottleneck==1.3.2\n",
      "certifi==2020.4.5.2\n",
      "chardet==3.0.4\n",
      "charset-normalizer==2.0.6\n",
      "click @ file:///home/linux1/recipes/ci/click_1610990599742/work\n",
      "click-plugins @ file:///Users/ktietz/demo/mc3/conda-bld/click-plugins_1630665883852/work\n",
      "cligj==0.5.0\n",
      "colorama==0.4.4\n",
      "coverage==6.0\n",
      "cycler==0.10.0\n",
      "decorator==4.4.2\n",
      "defusedxml==0.7.1\n",
      "descartes==1.1.0\n",
      "dictdiffer==0.8.1\n",
      "docutils==0.15.2\n",
      "entrypoints==0.3\n",
      "execnet==1.9.0\n",
      "Fiona==1.8.13.post1\n",
      "flake8==3.9.2\n",
      "fonttools==4.25.0\n",
      "future==0.18.2\n",
      "GDAL==3.0.2\n",
      "-e git+https://github.com/arup-group/genet@c08f8f83c56854336b1081a41594357674ed0a1d#egg=genet\n",
      "geopandas @ file:///tmp/build/80754af9/geopandas_1627401391374/work\n",
      "idna==2.9\n",
      "importlib-metadata==1.6.0\n",
      "iniconfig==1.1.1\n",
      "ipykernel==5.3.0\n",
      "ipython==7.14.0\n",
      "ipython-genutils==0.2.0\n",
      "jedi==0.17.0\n",
      "Jinja2==3.0.1\n",
      "jmespath==0.10.0\n",
      "joblib @ file:///tmp/build/80754af9/joblib_1613502643832/work\n",
      "jsonschema==4.0.1\n",
      "jupyter-client==6.1.5\n",
      "jupyter-core==4.6.3\n",
      "jupyterlab-pygments==0.1.2\n",
      "kiwisolver==1.2.0\n",
      "lxml==4.6.3\n",
      "mapclassify @ file:///tmp/build/80754af9/mapclassify_1627369494639/work\n",
      "MarkupSafe==2.0.1\n",
      "matplotlib==3.2.1\n",
      "mccabe==0.6.1\n",
      "memory-profiler==0.57.0\n",
      "mistune==0.8.4\n",
      "mkl-fft==1.3.0\n",
      "mkl-random @ file:///C:/ci/mkl_random_1626186163140/work\n",
      "mkl-service==2.4.0\n",
      "more-itertools==8.3.0\n",
      "munch @ file:///Users/ktietz/demo/mc3/conda-bld/munch_1630566382504/work\n",
      "munkres==1.1.4\n",
      "nbclient==0.5.4\n",
      "nbconvert==6.0.7\n",
      "nbformat==5.1.3\n",
      "nest-asyncio==1.5.1\n",
      "networkx==2.4\n",
      "nose==1.3.7\n",
      "numexpr @ file:///C:/ci/numexpr_1618856761305/work\n",
      "numpy @ file:///C:/ci/numpy_and_numpy_base_1626271861146/work\n",
      "olefile==0.46\n",
      "osmnx==0.15.0\n",
      "osmread @ git+https://github.com/dezhin/osmread.git@d8d3fe5edd15fdab9526ea7a100ee6c796315663\n",
      "packaging==20.4\n",
      "pandas @ file:///C:/ci/pandas_1632920019983/work\n",
      "pandocfilters==1.5.0\n",
      "parso==0.7.0\n",
      "pexpect==4.8.0\n",
      "pickleshare==0.7.5\n",
      "Pillow @ file:///C:/ci/pillow_1625663286921/work\n",
      "pluggy==0.13.1\n",
      "ply==3.11\n",
      "polyline==1.4.0\n",
      "prompt-toolkit==3.0.5\n",
      "protobuf==3.0.0b3\n",
      "psutil==5.8.0\n",
      "ptyprocess==0.6.0\n",
      "py==1.10.0\n",
      "pycodestyle==2.7.0\n",
      "pyflakes==2.3.1\n",
      "Pygments==2.7.4\n",
      "pyparsing @ file:///home/linux1/recipes/ci/pyparsing_1610983426697/work\n",
      "pyproj==3.2.1\n",
      "pyrsistent==0.18.0\n",
      "pytest==6.2.5\n",
      "pytest-cov==2.12.1\n",
      "pytest-forked==1.3.0\n",
      "pytest-mock==3.1.0\n",
      "pytest-xdist==2.3.0\n",
      "python-dateutil==2.8.1\n",
      "pytz==2020.1\n",
      "PyUtilib==6.0.0\n",
      "pywin32==301\n",
      "PyYAML==5.4\n",
      "pyzmq==19.0.1\n",
      "requests==2.26.0\n",
      "requests-futures==1.0.0\n",
      "Rtree==0.9.4\n",
      "s2sphere==0.2.5\n",
      "s3transfer==0.3.3\n",
      "scikit-learn @ file:///C:/ci/scikit-learn_1622739441385/work\n",
      "scipy @ file:///C:/ci/scipy_1630606897162/work\n",
      "Shapely==1.7.1\n",
      "six==1.14.0\n",
      "tabulate==0.8.7\n",
      "testpath==0.5.0\n",
      "threadpoolctl @ file:///Users/ktietz/demo/mc3/conda-bld/threadpoolctl_1629802263681/work\n",
      "toml==0.10.2\n",
      "tornado @ file:///C:/ci/tornado_1606935947090/work\n",
      "tqdm==4.48.0\n",
      "traitlets==4.3.3\n",
      "urllib3==1.25.11\n",
      "wcwidth==0.1.9\n",
      "webencodings==0.5.1\n",
      "wincertstore==0.2\n",
      "xmltodict==0.12.0\n",
      "zipp==3.1.0\n"
     ]
    }
   ],
   "source": [
    "!pip freeze"
   ]
  },
  {
   "cell_type": "markdown",
   "metadata": {},
   "source": [
    "## Adding nodes/links"
   ]
  },
  {
   "cell_type": "code",
   "execution_count": 1,
   "metadata": {
    "ExecuteTime": {
     "end_time": "2021-03-31T10:57:07.774953Z",
     "start_time": "2021-03-31T10:57:00.936146Z"
    }
   },
   "outputs": [
    {
     "name": "stdout",
     "output_type": "stream",
     "text": [
      "Graph info: Name: Network graph\n",
      "Type: MultiDiGraph\n",
      "Number of nodes: 1662\n",
      "Number of edges: 3166\n",
      "Average in degree:   1.9049\n",
      "Average out degree:   1.9049 \n",
      "Schedule info: Schedule:\n",
      "Number of services: 9\n",
      "Number of routes: 68\n",
      "Number of stops: 45\n"
     ]
    }
   ],
   "source": [
    "from genet import read_matsim\n",
    "import os\n",
    "\n",
    "path_to_matsim_network = '../example_data/pt2matsim_network'\n",
    "\n",
    "network = os.path.join(path_to_matsim_network, 'network.xml')\n",
    "schedule = os.path.join(path_to_matsim_network, 'schedule.xml')\n",
    "vehicles = os.path.join(path_to_matsim_network, 'vehicles.xml')\n",
    "n = read_matsim(\n",
    "    path_to_network=network, \n",
    "    epsg='epsg:27700', \n",
    "    path_to_schedule=schedule, \n",
    "    path_to_vehicles=vehicles\n",
    ")\n",
    "# you don't need to read the vehicles file, but doing so ensures all vehicles\n",
    "# in the schedule are of the expected type and the definition of the vehicle\n",
    "# is preserved\n",
    "n.print()"
   ]
  },
  {
   "cell_type": "code",
   "execution_count": 2,
   "metadata": {
    "ExecuteTime": {
     "end_time": "2021-03-31T10:57:07.797828Z",
     "start_time": "2021-03-31T10:57:07.778946Z"
    }
   },
   "outputs": [
    {
     "name": "stderr",
     "output_type": "stream",
     "text": [
      "2021-03-31 11:57:07,790 - Added Link with index proposed_index, from node:4356572310 to node:5811263955, under multi-index:1, and data={'from': '4356572310', 'to': '5811263955', 'id': 'proposed_index'}\n"
     ]
    },
    {
     "data": {
      "text/plain": [
       "'proposed_index'"
      ]
     },
     "execution_count": 2,
     "metadata": {},
     "output_type": "execute_result"
    }
   ],
   "source": [
    "n.add_link(link_id='proposed_index', u='4356572310', v='5811263955')"
   ]
  },
  {
   "cell_type": "code",
   "execution_count": 3,
   "metadata": {
    "ExecuteTime": {
     "end_time": "2021-03-31T10:57:07.820766Z",
     "start_time": "2021-03-31T10:57:07.801874Z"
    }
   },
   "outputs": [
    {
     "name": "stderr",
     "output_type": "stream",
     "text": [
      "2021-03-31 11:57:07,813 - Added Node with index `proposed_index` and data={'data': 'some_data'}\n"
     ]
    },
    {
     "data": {
      "text/plain": [
       "'proposed_index'"
      ]
     },
     "execution_count": 3,
     "metadata": {},
     "output_type": "execute_result"
    }
   ],
   "source": [
    "n.add_node(node='proposed_index', attribs={'data':'some_data'})"
   ]
  },
  {
   "cell_type": "markdown",
   "metadata": {},
   "source": [
    "The index passed is only a proposition. If a node or link under this link exists, a new, unique index will be generated."
   ]
  },
  {
   "cell_type": "code",
   "execution_count": 4,
   "metadata": {
    "ExecuteTime": {
     "end_time": "2021-03-31T10:57:07.845137Z",
     "start_time": "2021-03-31T10:57:07.823059Z"
    }
   },
   "outputs": [
    {
     "name": "stderr",
     "output_type": "stream",
     "text": [
      "2021-03-31 11:57:07,825 - Generated 1 link ids.\n",
      "2021-03-31 11:57:07,828 - Generated link id 0.\n",
      "2021-03-31 11:57:07,830 - `proposed_index` already exists. Generated a new unique_index: `0`\n",
      "2021-03-31 11:57:07,839 - Added Link with index 0, from node:4356572310 to node:5811263955, under multi-index:2, and data={'from': '4356572310', 'to': '5811263955', 'id': '0'}\n"
     ]
    }
   ],
   "source": [
    "actual_link_id_added = n.add_link(link_id='proposed_index', u='4356572310', v='5811263955')"
   ]
  },
  {
   "cell_type": "markdown",
   "metadata": {},
   "source": [
    "## Reindexing\n",
    "\n",
    "To reindex a node or link:"
   ]
  },
  {
   "cell_type": "code",
   "execution_count": 5,
   "metadata": {
    "ExecuteTime": {
     "end_time": "2021-03-31T10:57:07.989239Z",
     "start_time": "2021-03-31T10:57:07.848945Z"
    }
   },
   "outputs": [
    {
     "name": "stderr",
     "output_type": "stream",
     "text": [
      "2021-03-31 11:57:07,890 - Changed Link attributes for 0 links\n",
      "2021-03-31 11:57:07,921 - Changed Link attributes for 0 links\n",
      "2021-03-31 11:57:07,935 - Changed Node attributes under index: proposed_index\n",
      "2021-03-31 11:57:07,984 - Changed Node index from proposed_index to another_index\n"
     ]
    }
   ],
   "source": [
    "n.reindex_node('proposed_index', 'another_index')"
   ]
  },
  {
   "cell_type": "code",
   "execution_count": 6,
   "metadata": {
    "ExecuteTime": {
     "end_time": "2021-03-31T10:57:08.011575Z",
     "start_time": "2021-03-31T10:57:07.992675Z"
    }
   },
   "outputs": [
    {
     "name": "stderr",
     "output_type": "stream",
     "text": [
      "2021-03-31 11:57:08,006 - Changed Link attributes under index: proposed_index\n",
      "2021-03-31 11:57:08,008 - Changed Link index from proposed_index to another_index\n"
     ]
    }
   ],
   "source": [
    "n.reindex_link('proposed_index', 'another_index')"
   ]
  },
  {
   "cell_type": "markdown",
   "metadata": {},
   "source": [
    "## Removing nodes/links\n",
    "\n",
    "To remove a link or node:"
   ]
  },
  {
   "cell_type": "code",
   "execution_count": 7,
   "metadata": {
    "ExecuteTime": {
     "end_time": "2021-03-31T10:57:08.027814Z",
     "start_time": "2021-03-31T10:57:08.016944Z"
    }
   },
   "outputs": [
    {
     "name": "stderr",
     "output_type": "stream",
     "text": [
      "2021-03-31 11:57:08,023 - Removed 2 links\n"
     ]
    }
   ],
   "source": [
    "n.remove_links(['another_index', actual_link_id_added])"
   ]
  },
  {
   "cell_type": "code",
   "execution_count": 8,
   "metadata": {
    "ExecuteTime": {
     "end_time": "2021-03-31T10:57:08.059019Z",
     "start_time": "2021-03-31T10:57:08.032699Z"
    }
   },
   "outputs": [
    {
     "name": "stderr",
     "output_type": "stream",
     "text": [
      "2021-03-31 11:57:08,054 - Removed Node under index: another_index\n"
     ]
    }
   ],
   "source": [
    "n.remove_node('another_index')"
   ]
  },
  {
   "cell_type": "markdown",
   "metadata": {},
   "source": [
    "## Modifying data stored on nodes or edges:\n",
    "\n",
    "Let's say you have extracted `genet.Network` link ids of interest (See Section on Using Network - Accessing Data) and now you want to make changes to the network. Let's make changes to the nested OSM data stored on the links. We will replace the highway tags from `'primary'` to `'SOMETHING'`."
   ]
  },
  {
   "cell_type": "code",
   "execution_count": 9,
   "metadata": {
    "ExecuteTime": {
     "end_time": "2021-03-31T10:57:08.111083Z",
     "start_time": "2021-03-31T10:57:08.062075Z"
    }
   },
   "outputs": [
    {
     "data": {
      "text/plain": [
       "['1007', '1008', '1023', '1024', '103']"
      ]
     },
     "execution_count": 9,
     "metadata": {},
     "output_type": "execute_result"
    }
   ],
   "source": [
    "from genet import graph_operations\n",
    "\n",
    "links = n.extract_links_on_edge_attributes(\n",
    "    conditions= {'attributes': {'osm:way:highway': {'text': 'primary'}}},\n",
    ")\n",
    "\n",
    "links[:5]"
   ]
  },
  {
   "cell_type": "code",
   "execution_count": 10,
   "metadata": {
    "ExecuteTime": {
     "end_time": "2021-03-31T10:57:08.125930Z",
     "start_time": "2021-03-31T10:57:08.116710Z"
    }
   },
   "outputs": [
    {
     "data": {
      "text/plain": [
       "{'id': '1007',\n",
       " 'from': '4356572310',\n",
       " 'to': '5811263955',\n",
       " 'freespeed': 22.22222222222222,\n",
       " 'capacity': 3000.0,\n",
       " 'permlanes': 2.0,\n",
       " 'oneway': '1',\n",
       " 'modes': {'car'},\n",
       " 's2_from': 5221390723045407809,\n",
       " 's2_to': 5221390723040504387,\n",
       " 'attributes': {'osm:way:highway': {'name': 'osm:way:highway',\n",
       "   'class': 'java.lang.String',\n",
       "   'text': 'primary'},\n",
       "  'osm:way:id': {'name': 'osm:way:id',\n",
       "   'class': 'java.lang.Long',\n",
       "   'text': '589660342'},\n",
       "  'osm:way:lanes': {'name': 'osm:way:lanes',\n",
       "   'class': 'java.lang.String',\n",
       "   'text': '2'},\n",
       "  'osm:way:name': {'name': 'osm:way:name',\n",
       "   'class': 'java.lang.String',\n",
       "   'text': 'Shaftesbury Avenue'},\n",
       "  'osm:way:oneway': {'name': 'osm:way:oneway',\n",
       "   'class': 'java.lang.String',\n",
       "   'text': 'yes'}},\n",
       " 'length': 13.941905154249884}"
      ]
     },
     "execution_count": 10,
     "metadata": {},
     "output_type": "execute_result"
    }
   ],
   "source": [
    "n.link(links[0])"
   ]
  },
  {
   "cell_type": "markdown",
   "metadata": {
    "ExecuteTime": {
     "end_time": "2020-12-17T13:55:45.778595Z",
     "start_time": "2020-12-17T13:55:45.772735Z"
    }
   },
   "source": [
    "We create a dictionary which maps same changes to all links in the list using:\n",
    "\n",
    "```python\n",
    "    {link_id: {'attributes': {'osm:way:highway': {'text': 'SOMETHING'}}} for link_id in links}\n",
    "```"
   ]
  },
  {
   "cell_type": "code",
   "execution_count": 11,
   "metadata": {
    "ExecuteTime": {
     "end_time": "2021-03-31T10:57:08.485788Z",
     "start_time": "2021-03-31T10:57:08.129267Z"
    }
   },
   "outputs": [
    {
     "name": "stderr",
     "output_type": "stream",
     "text": [
      "2021-03-31 11:57:08,474 - Changed Link attributes for 619 links\n"
     ]
    }
   ],
   "source": [
    "n.apply_attributes_to_links({link_id: {'attributes': {'osm:way:highway': {'text': 'SOMETHING'}}} for link_id in links})"
   ]
  },
  {
   "cell_type": "code",
   "execution_count": 12,
   "metadata": {
    "ExecuteTime": {
     "end_time": "2021-03-31T10:57:08.497792Z",
     "start_time": "2021-03-31T10:57:08.490072Z"
    }
   },
   "outputs": [
    {
     "data": {
      "text/plain": [
       "{'id': '1007',\n",
       " 'from': '4356572310',\n",
       " 'to': '5811263955',\n",
       " 'freespeed': 22.22222222222222,\n",
       " 'capacity': 3000.0,\n",
       " 'permlanes': 2.0,\n",
       " 'oneway': '1',\n",
       " 'modes': {'car'},\n",
       " 's2_from': 5221390723045407809,\n",
       " 's2_to': 5221390723040504387,\n",
       " 'attributes': {'osm:way:highway': {'name': 'osm:way:highway',\n",
       "   'class': 'java.lang.String',\n",
       "   'text': 'SOMETHING'},\n",
       "  'osm:way:id': {'name': 'osm:way:id',\n",
       "   'class': 'java.lang.Long',\n",
       "   'text': '589660342'},\n",
       "  'osm:way:lanes': {'name': 'osm:way:lanes',\n",
       "   'class': 'java.lang.String',\n",
       "   'text': '2'},\n",
       "  'osm:way:name': {'name': 'osm:way:name',\n",
       "   'class': 'java.lang.String',\n",
       "   'text': 'Shaftesbury Avenue'},\n",
       "  'osm:way:oneway': {'name': 'osm:way:oneway',\n",
       "   'class': 'java.lang.String',\n",
       "   'text': 'yes'}},\n",
       " 'length': 13.941905154249884}"
      ]
     },
     "execution_count": 12,
     "metadata": {},
     "output_type": "execute_result"
    }
   ],
   "source": [
    "n.link(links[0])"
   ]
  },
  {
   "cell_type": "code",
   "execution_count": 13,
   "metadata": {
    "ExecuteTime": {
     "end_time": "2021-03-31T10:57:08.546326Z",
     "start_time": "2021-03-31T10:57:08.502454Z"
    }
   },
   "outputs": [
    {
     "data": {
      "text/html": [
       "<div>\n",
       "<style scoped>\n",
       "    .dataframe tbody tr th:only-of-type {\n",
       "        vertical-align: middle;\n",
       "    }\n",
       "\n",
       "    .dataframe tbody tr th {\n",
       "        vertical-align: top;\n",
       "    }\n",
       "\n",
       "    .dataframe thead th {\n",
       "        text-align: right;\n",
       "    }\n",
       "</style>\n",
       "<table border=\"1\" class=\"dataframe\">\n",
       "  <thead>\n",
       "    <tr style=\"text-align: right;\">\n",
       "      <th></th>\n",
       "      <th>timestamp</th>\n",
       "      <th>change_event</th>\n",
       "      <th>object_type</th>\n",
       "      <th>old_id</th>\n",
       "      <th>new_id</th>\n",
       "      <th>old_attributes</th>\n",
       "      <th>new_attributes</th>\n",
       "      <th>diff</th>\n",
       "    </tr>\n",
       "  </thead>\n",
       "  <tbody>\n",
       "    <tr>\n",
       "      <th>0</th>\n",
       "      <td>2021-03-31 11:57:07</td>\n",
       "      <td>add</td>\n",
       "      <td>link</td>\n",
       "      <td>None</td>\n",
       "      <td>proposed_index</td>\n",
       "      <td>None</td>\n",
       "      <td>{'from': '4356572310', 'to': '5811263955', 'id...</td>\n",
       "      <td>[(add, , [('from', '4356572310'), ('to', '5811...</td>\n",
       "    </tr>\n",
       "    <tr>\n",
       "      <th>1</th>\n",
       "      <td>2021-03-31 11:57:07</td>\n",
       "      <td>add</td>\n",
       "      <td>node</td>\n",
       "      <td>None</td>\n",
       "      <td>proposed_index</td>\n",
       "      <td>None</td>\n",
       "      <td>{'data': 'some_data'}</td>\n",
       "      <td>[(add, , [('data', 'some_data')]), (add, id, p...</td>\n",
       "    </tr>\n",
       "    <tr>\n",
       "      <th>2</th>\n",
       "      <td>2021-03-31 11:57:07</td>\n",
       "      <td>add</td>\n",
       "      <td>link</td>\n",
       "      <td>None</td>\n",
       "      <td>0</td>\n",
       "      <td>None</td>\n",
       "      <td>{'from': '4356572310', 'to': '5811263955', 'id...</td>\n",
       "      <td>[(add, , [('from', '4356572310'), ('to', '5811...</td>\n",
       "    </tr>\n",
       "    <tr>\n",
       "      <th>3</th>\n",
       "      <td>2021-03-31 11:57:07</td>\n",
       "      <td>modify</td>\n",
       "      <td>node</td>\n",
       "      <td>proposed_index</td>\n",
       "      <td>another_index</td>\n",
       "      <td>{'data': 'some_data'}</td>\n",
       "      <td>{'data': 'some_data', 'id': 'another_index'}</td>\n",
       "      <td>[(add, , [('id', 'another_index')]), (change, ...</td>\n",
       "    </tr>\n",
       "    <tr>\n",
       "      <th>4</th>\n",
       "      <td>2021-03-31 11:57:07</td>\n",
       "      <td>modify</td>\n",
       "      <td>node</td>\n",
       "      <td>proposed_index</td>\n",
       "      <td>proposed_index</td>\n",
       "      <td>{'data': 'some_data'}</td>\n",
       "      <td>{'data': 'some_data', 'id': 'another_index'}</td>\n",
       "      <td>[(add, , [('id', 'another_index')])]</td>\n",
       "    </tr>\n",
       "  </tbody>\n",
       "</table>\n",
       "</div>"
      ],
      "text/plain": [
       "             timestamp change_event object_type          old_id  \\\n",
       "0  2021-03-31 11:57:07          add        link            None   \n",
       "1  2021-03-31 11:57:07          add        node            None   \n",
       "2  2021-03-31 11:57:07          add        link            None   \n",
       "3  2021-03-31 11:57:07       modify        node  proposed_index   \n",
       "4  2021-03-31 11:57:07       modify        node  proposed_index   \n",
       "\n",
       "           new_id         old_attributes  \\\n",
       "0  proposed_index                   None   \n",
       "1  proposed_index                   None   \n",
       "2               0                   None   \n",
       "3   another_index  {'data': 'some_data'}   \n",
       "4  proposed_index  {'data': 'some_data'}   \n",
       "\n",
       "                                      new_attributes  \\\n",
       "0  {'from': '4356572310', 'to': '5811263955', 'id...   \n",
       "1                              {'data': 'some_data'}   \n",
       "2  {'from': '4356572310', 'to': '5811263955', 'id...   \n",
       "3       {'data': 'some_data', 'id': 'another_index'}   \n",
       "4       {'data': 'some_data', 'id': 'another_index'}   \n",
       "\n",
       "                                                diff  \n",
       "0  [(add, , [('from', '4356572310'), ('to', '5811...  \n",
       "1  [(add, , [('data', 'some_data')]), (add, id, p...  \n",
       "2  [(add, , [('from', '4356572310'), ('to', '5811...  \n",
       "3  [(add, , [('id', 'another_index')]), (change, ...  \n",
       "4               [(add, , [('id', 'another_index')])]  "
      ]
     },
     "execution_count": 13,
     "metadata": {},
     "output_type": "execute_result"
    }
   ],
   "source": [
    "n.change_log.head()"
   ]
  },
  {
   "cell_type": "code",
   "execution_count": 14,
   "metadata": {
    "ExecuteTime": {
     "end_time": "2021-03-31T10:57:08.555304Z",
     "start_time": "2021-03-31T10:57:08.549452Z"
    }
   },
   "outputs": [
    {
     "data": {
      "text/plain": [
       "\"{'id': '959', 'from': '300501141', 'to': '294158420', 'freespeed': 22.22222222222222, 'capacity': 1500.0, 'permlanes': 1.0, 'oneway': '1', 'modes': {'car'}, 's2_from': 5221390337863745429, 's2_to': 5221390337351379383, 'attributes': {'osm:relation:route': {'name': 'osm:relation:route', 'class': 'java.lang.String', 'text': 'bus'}, 'osm:way:highway': {'name': 'osm:way:highway', 'class': 'java.lang.String', 'text': 'primary'}, 'osm:way:id': {'name': 'osm:way:id', 'class': 'java.lang.Long', 'text': '26785612'}, 'osm:way:name': {'name': 'osm:way:name', 'class': 'java.lang.String', 'text': 'Albany Street'}}, 'length': 90.65828423645875}\""
      ]
     },
     "execution_count": 14,
     "metadata": {},
     "output_type": "execute_result"
    }
   ],
   "source": [
    "n.change_log.loc[618, :]['old_attributes']"
   ]
  },
  {
   "cell_type": "code",
   "execution_count": 15,
   "metadata": {
    "ExecuteTime": {
     "end_time": "2021-03-31T10:57:08.569438Z",
     "start_time": "2021-03-31T10:57:08.558118Z"
    }
   },
   "outputs": [
    {
     "data": {
      "text/plain": [
       "\"{'id': '959', 'from': '300501141', 'to': '294158420', 'freespeed': 22.22222222222222, 'capacity': 1500.0, 'permlanes': 1.0, 'oneway': '1', 'modes': {'car'}, 's2_from': 5221390337863745429, 's2_to': 5221390337351379383, 'attributes': {'osm:relation:route': {'name': 'osm:relation:route', 'class': 'java.lang.String', 'text': 'bus'}, 'osm:way:highway': {'name': 'osm:way:highway', 'class': 'java.lang.String', 'text': 'SOMETHING'}, 'osm:way:id': {'name': 'osm:way:id', 'class': 'java.lang.Long', 'text': '26785612'}, 'osm:way:name': {'name': 'osm:way:name', 'class': 'java.lang.String', 'text': 'Albany Street'}}, 'length': 90.65828423645875}\""
      ]
     },
     "execution_count": 15,
     "metadata": {},
     "output_type": "execute_result"
    }
   ],
   "source": [
    "n.change_log.loc[618, :]['new_attributes']"
   ]
  },
  {
   "cell_type": "code",
   "execution_count": 16,
   "metadata": {
    "ExecuteTime": {
     "end_time": "2021-03-31T10:57:08.580033Z",
     "start_time": "2021-03-31T10:57:08.571615Z"
    }
   },
   "outputs": [
    {
     "data": {
      "text/plain": [
       "[('change', 'attributes.osm:way:highway.text', ('primary', 'SOMETHING'))]"
      ]
     },
     "execution_count": 16,
     "metadata": {},
     "output_type": "execute_result"
    }
   ],
   "source": [
    "n.change_log.loc[618, :]['diff']"
   ]
  },
  {
   "cell_type": "markdown",
   "metadata": {},
   "source": [
    "Another useful method is the `apply_function_to_links`/`nodes`. This function takes a user-defined function with the variable that is the data dictionary stored on the links or nodes respectively. This function does not support `conditions`, but this is something that can be encoded in you function, for example:"
   ]
  },
  {
   "cell_type": "code",
   "execution_count": 17,
   "metadata": {
    "ExecuteTime": {
     "end_time": "2021-03-31T10:57:09.627482Z",
     "start_time": "2021-03-31T10:57:08.581876Z"
    }
   },
   "outputs": [
    {
     "name": "stderr",
     "output_type": "stream",
     "text": [
      "2021-03-31 11:57:09,617 - Changed Link attributes for 3166 links\n"
     ]
    }
   ],
   "source": [
    "def divide_capacity(link_attributes):\n",
    "    if 'car' in link_attributes['modes']:\n",
    "        return link_attributes['capacity']/link_attributes['permlanes']\n",
    "    \n",
    "n.apply_function_to_links(divide_capacity, 'base_capacity')"
   ]
  },
  {
   "cell_type": "markdown",
   "metadata": {},
   "source": [
    "This method will apply results of this function to links for which a value can be computed. For use here, that means that for any link which has a `'car'` value in `'modes'` a value of capacity divided by the number of lanes will be computed. We specify that the results will be stored under `base_capacity` in the links attribute dictionary."
   ]
  },
  {
   "cell_type": "code",
   "execution_count": 18,
   "metadata": {
    "ExecuteTime": {
     "end_time": "2021-03-31T10:57:09.665129Z",
     "start_time": "2021-03-31T10:57:09.654559Z"
    }
   },
   "outputs": [
    {
     "data": {
      "text/plain": [
       "{'id': '1007',\n",
       " 'from': '4356572310',\n",
       " 'to': '5811263955',\n",
       " 'freespeed': 22.22222222222222,\n",
       " 'capacity': 3000.0,\n",
       " 'permlanes': 2.0,\n",
       " 'oneway': '1',\n",
       " 'modes': {'car'},\n",
       " 's2_from': 5221390723045407809,\n",
       " 's2_to': 5221390723040504387,\n",
       " 'attributes': {'osm:way:highway': {'name': 'osm:way:highway',\n",
       "   'class': 'java.lang.String',\n",
       "   'text': 'SOMETHING'},\n",
       "  'osm:way:id': {'name': 'osm:way:id',\n",
       "   'class': 'java.lang.Long',\n",
       "   'text': '589660342'},\n",
       "  'osm:way:lanes': {'name': 'osm:way:lanes',\n",
       "   'class': 'java.lang.String',\n",
       "   'text': '2'},\n",
       "  'osm:way:name': {'name': 'osm:way:name',\n",
       "   'class': 'java.lang.String',\n",
       "   'text': 'Shaftesbury Avenue'},\n",
       "  'osm:way:oneway': {'name': 'osm:way:oneway',\n",
       "   'class': 'java.lang.String',\n",
       "   'text': 'yes'}},\n",
       " 'length': 13.941905154249884,\n",
       " 'base_capacity': 1500.0}"
      ]
     },
     "execution_count": 18,
     "metadata": {},
     "output_type": "execute_result"
    }
   ],
   "source": [
    "n.link(links[0])"
   ]
  },
  {
   "cell_type": "markdown",
   "metadata": {},
   "source": [
    "# Modifying the `Schedule` object\n",
    "\n",
    "GeNet has a number of methods to change the Schedule objects. Make sure you validate the end result."
   ]
  },
  {
   "cell_type": "code",
   "execution_count": 19,
   "metadata": {
    "ExecuteTime": {
     "end_time": "2021-03-31T10:57:09.677997Z",
     "start_time": "2021-03-31T10:57:09.669585Z"
    }
   },
   "outputs": [],
   "source": [
    "from genet import Stop, Route, Service"
   ]
  },
  {
   "cell_type": "markdown",
   "metadata": {},
   "source": [
    "## Adding Routes, Services\n",
    "\n",
    "You can add `Route`s and `Service`s. To add a `Route`, you need to identify which existing `Service` it should come under."
   ]
  },
  {
   "cell_type": "code",
   "execution_count": 20,
   "metadata": {
    "ExecuteTime": {
     "end_time": "2021-03-31T10:57:10.217452Z",
     "start_time": "2021-03-31T10:57:09.679346Z"
    }
   },
   "outputs": [
    {
     "name": "stderr",
     "output_type": "stream",
     "text": [
      "2021-03-31 11:57:10,205 - Added Route with index `new_route`, data={'route_short_name': 'N55', 'mode': 'bus', 'trips': {'trip_id': ['fun_trip_1', 'fun_trip_2'], 'trip_departure_time': ['03:53:00', '16:23:00'], 'vehicle_id': ['fun_bus_1', 'fun_bus_2']}, 'arrival_offsets': ['00:00:00', '00:02:00', '00:04:00', '00:06:00'], 'departure_offsets': ['00:00:00', '00:02:00', '00:04:00', '00:06:00'], 'route_long_name': '', 'id': 'new_route', 'route': [], 'await_departure': [True, True, True, True], 'ordered_stops': ['490000235X.link:834', 'new_stop', 'other_new_stop', '490010689KB.link:981']} to Service `20274` within the Schedule\n"
     ]
    },
    {
     "data": {
      "text/plain": [
       "<Route instance at 4731681928: with 4 stops and 2 trips>"
      ]
     },
     "execution_count": 20,
     "metadata": {},
     "output_type": "execute_result"
    }
   ],
   "source": [
    "route = Route(\n",
    "    route_short_name='N55',\n",
    "    mode='bus',\n",
    "    trips={'trip_id': ['fun_trip_1', 'fun_trip_2'], \n",
    "           'trip_departure_time': ['03:53:00', '16:23:00'], \n",
    "           'vehicle_id': ['fun_bus_1', 'fun_bus_2']},\n",
    "   arrival_offsets=['00:00:00', '00:02:00', '00:04:00', '00:06:00'],\n",
    "   departure_offsets=['00:00:00', '00:02:00', '00:04:00', '00:06:00'],\n",
    "   id='new_route',\n",
    "#    route= ['834', '1573', '3139', '3141', '574', '3154', '979', '980', '981'],\n",
    "   await_departure= [True, True, True, True],\n",
    "   stops=[n.schedule.stop('490000235X.link:834'),\n",
    "          Stop(id='new_stop', x=529500, y=181300,\n",
    "            name='New Stop', epsg='epsg:27700'),\n",
    "          Stop(id='other_new_stop', x=529502, y=181302,\n",
    "            name='Other New Stop', epsg='epsg:27700'),\n",
    "          n.schedule.stop('490010689KB.link:981')]\n",
    ")\n",
    "\n",
    "n.schedule.add_route('20274', route)"
   ]
  },
  {
   "cell_type": "markdown",
   "metadata": {},
   "source": [
    "Alternatively, you can create and add a new `Service`."
   ]
  },
  {
   "cell_type": "code",
   "execution_count": 21,
   "metadata": {
    "ExecuteTime": {
     "end_time": "2021-03-31T10:57:10.289271Z",
     "start_time": "2021-03-31T10:57:10.220479Z"
    }
   },
   "outputs": [
    {
     "name": "stderr",
     "output_type": "stream",
     "text": [
      "2021-03-31 11:57:10,242 - Route with ID `new_route` within this Service `new_service` already exists in the Schedule. This Route will be reindexed to `new_service_new_route`\n",
      "2021-03-31 11:57:10,254 - Reindexed Route from new_route to new_service_new_route\n",
      "2021-03-31 11:57:10,278 - Added Service with index `new_service`, data={'id': 'new_service', 'name': 'N55'} and Routes: ['new_service_new_route']\n"
     ]
    },
    {
     "data": {
      "text/plain": [
       "<Service instance at 4731545864: with 1 routes>"
      ]
     },
     "execution_count": 21,
     "metadata": {},
     "output_type": "execute_result"
    }
   ],
   "source": [
    "n.schedule.add_service(Service(id='new_service', routes=[route]))"
   ]
  },
  {
   "cell_type": "markdown",
   "metadata": {},
   "source": [
    "You can also refer to existing stops in the `Schedule` when creating a`Route` to be added. You can either just pass Stop IDs as strings or use a stop method on the schedule to take and use that stop object. Note that in the case of the former (passing ID strings), the route will not have the spatial information for those stops until it is added to the Schedule."
   ]
  },
  {
   "cell_type": "code",
   "execution_count": 22,
   "metadata": {
    "ExecuteTime": {
     "end_time": "2021-03-31T10:57:10.303375Z",
     "start_time": "2021-03-31T10:57:10.294731Z"
    }
   },
   "outputs": [],
   "source": [
    "r = Route(\n",
    "    route_short_name='N55',\n",
    "    mode='bus',\n",
    "    trips={'trip_id': ['some_trip_1'], \n",
    "           'trip_departure_time': ['16:23:00'], \n",
    "           'vehicle_id': ['some_bus_2']},\n",
    "   arrival_offsets=['00:00:00', '00:06:00'],\n",
    "   departure_offsets=['00:00:00', '00:06:00'],\n",
    "   id='another_new_route',\n",
    "#    route= ['834', '1573', '3139', '3141', '574', '3154', '979', '980', '981'],\n",
    "   await_departure= [True, True],\n",
    "   stops=['490000235X.link:834', \n",
    "          '490010689KB.link:981']\n",
    ")"
   ]
  },
  {
   "cell_type": "code",
   "execution_count": 23,
   "metadata": {
    "ExecuteTime": {
     "end_time": "2021-03-31T10:57:10.320631Z",
     "start_time": "2021-03-31T10:57:10.313983Z"
    }
   },
   "outputs": [
    {
     "data": {
      "text/plain": [
       "{'routes': ['another_new_route']}"
      ]
     },
     "execution_count": 23,
     "metadata": {},
     "output_type": "execute_result"
    }
   ],
   "source": [
    "r.graph().nodes['490000235X.link:834']"
   ]
  },
  {
   "cell_type": "code",
   "execution_count": 24,
   "metadata": {
    "ExecuteTime": {
     "end_time": "2021-03-31T10:57:10.340717Z",
     "start_time": "2021-03-31T10:57:10.324482Z"
    }
   },
   "outputs": [
    {
     "name": "stderr",
     "output_type": "stream",
     "text": [
      "2021-03-31 11:57:10,334 - Added Route with index `another_new_route`, data={'route_short_name': 'N55', 'mode': 'bus', 'trips': {'trip_id': ['some_trip_1'], 'trip_departure_time': ['16:23:00'], 'vehicle_id': ['some_bus_2']}, 'arrival_offsets': ['00:00:00', '00:06:00'], 'departure_offsets': ['00:00:00', '00:06:00'], 'route_long_name': '', 'id': 'another_new_route', 'route': [], 'await_departure': [True, True], 'ordered_stops': ['490000235X.link:834', '490010689KB.link:981']} to Service `20274` within the Schedule\n"
     ]
    },
    {
     "data": {
      "text/plain": [
       "<Route instance at 4731497216: with 2 stops and 1 trips>"
      ]
     },
     "execution_count": 24,
     "metadata": {},
     "output_type": "execute_result"
    }
   ],
   "source": [
    "n.schedule.add_route('20274', r)"
   ]
  },
  {
   "cell_type": "code",
   "execution_count": 25,
   "metadata": {
    "ExecuteTime": {
     "end_time": "2021-03-31T10:57:10.356435Z",
     "start_time": "2021-03-31T10:57:10.342584Z"
    }
   },
   "outputs": [
    {
     "data": {
      "text/plain": [
       "{'services': ['18853', '14134', '20274'],\n",
       " 'routes': ['another_new_route',\n",
       "  'VJf9a22035ae6f25bb420df833474943ad76065c89',\n",
       "  'VJd78967364a302cf232c5139d40622dcb6c238c9e',\n",
       "  'VJf3e316e5e605bb512147dee2a989be5a82ef1b5f',\n",
       "  'VJ375a660d47a2aa570aa20a8568012da8497ffecf',\n",
       "  'VJ256e98df611ff48afe737ddc81cbcde82e4e81c8',\n",
       "  'VJ4e2b897edf0e7b8a8e3b5516ab43ce56f72c5cff',\n",
       "  'new_route',\n",
       "  'VJdf3936da1a51eb33db594ef99738802c14b19995',\n",
       "  'VJ2aba67e3ed98f2ed5f5966c1ac394cbf6d1943d7',\n",
       "  'VJa7f37392e276aeac26c7e73bbc05e6a71af38dba',\n",
       "  'VJ12ba6089dfb2733e29c415a1a0015fef30fd5305'],\n",
       " 'id': '490000235X.link:834',\n",
       " 'x': 529981.7958802709,\n",
       " 'y': 181412.0975758662,\n",
       " 'epsg': 'epsg:27700',\n",
       " 'name': 'Tottenham Court Road Station (Stop X)',\n",
       " 'lon': 51.51668503324075,\n",
       " 'lat': -0.12809598708996447,\n",
       " 's2_id': 2507584377443783851,\n",
       " 'additional_attributes': {'isBlocking', 'linkRefId', 'name'},\n",
       " 'linkRefId': '834',\n",
       " 'isBlocking': 'false'}"
      ]
     },
     "execution_count": 25,
     "metadata": {},
     "output_type": "execute_result"
    }
   ],
   "source": [
    "r.graph().nodes['490000235X.link:834']"
   ]
  },
  {
   "cell_type": "code",
   "execution_count": 26,
   "metadata": {
    "ExecuteTime": {
     "end_time": "2021-03-31T10:57:10.391008Z",
     "start_time": "2021-03-31T10:57:10.367522Z"
    }
   },
   "outputs": [
    {
     "name": "stderr",
     "output_type": "stream",
     "text": [
      "2021-03-31 11:57:10,385 - Added Route with index `another_new_route_2`, data={'route_short_name': 'N55', 'mode': 'bus', 'trips': {'trip_id': ['some_trip_1'], 'trip_departure_time': ['16:23:00'], 'vehicle_id': ['some_bus_2']}, 'arrival_offsets': ['00:00:00', '00:06:00'], 'departure_offsets': ['00:00:00', '00:06:00'], 'route_long_name': '', 'id': 'another_new_route_2', 'route': [], 'await_departure': [True, True], 'ordered_stops': ['490000235X.link:834', '490010689KB.link:981']} to Service `20274` within the Schedule\n"
     ]
    },
    {
     "data": {
      "text/plain": [
       "<Route instance at 4731497104: with 2 stops and 1 trips>"
      ]
     },
     "execution_count": 26,
     "metadata": {},
     "output_type": "execute_result"
    }
   ],
   "source": [
    "r = Route(\n",
    "    route_short_name='N55',\n",
    "    mode='bus',\n",
    "    trips={'trip_id': ['some_trip_1'], \n",
    "           'trip_departure_time': ['16:23:00'], \n",
    "           'vehicle_id': ['some_bus_2']},\n",
    "   arrival_offsets=['00:00:00', '00:06:00'],\n",
    "   departure_offsets=['00:00:00', '00:06:00'],\n",
    "   id='another_new_route_2',\n",
    "#    route= ['834', '1573', '3139', '3141', '574', '3154', '979', '980', '981'],\n",
    "   await_departure= [True, True],\n",
    "   stops=[n.schedule.stop('490000235X.link:834'), \n",
    "          n.schedule.stop('490010689KB.link:981')]\n",
    ")\n",
    "n.schedule.add_route('20274', r)"
   ]
  },
  {
   "cell_type": "markdown",
   "metadata": {},
   "source": [
    "Note that for a Schedule to be a valid MATSim network, each stop referred to by a route needs a `linkRefId` attribute which links the stop to the `Network`.\n",
    "\n",
    "Trying to add Stops with IDs already in the Schedule will result in an error, unless the `force=True` is set. The added route/service will inherit the data stored under those stops. The idea is that you can either specify the Stops in the route/service to be added correctly, or if they are to be changed, you use a dedicated method - check section 'Modifying data' below."
   ]
  },
  {
   "cell_type": "code",
   "execution_count": 27,
   "metadata": {
    "ExecuteTime": {
     "end_time": "2021-03-31T10:57:11.462538Z",
     "start_time": "2021-03-31T10:57:10.394784Z"
    }
   },
   "outputs": [
    {
     "name": "stderr",
     "output_type": "stream",
     "text": [
      "2021-03-31 11:57:11,446 - The following stops will inherit the data currently stored under those Stop IDs in the Schedule: ['490000235X.link:834', '490010689KB.link:981'].\n",
      "2021-03-31 11:57:11,454 - Added Route with index `another_new_route_3`, data={'route_short_name': 'N55', 'mode': 'bus', 'trips': {'trip_id': ['fun_trip_1', 'fun_trip_2'], 'trip_departure_time': ['03:53:00', '16:23:00'], 'vehicle_id': ['fun_bus_1', 'fun_bus_2']}, 'arrival_offsets': ['00:00:00', '00:02:00', '00:04:00', '00:06:00'], 'departure_offsets': ['00:00:00', '00:02:00', '00:04:00', '00:06:00'], 'route_long_name': '', 'id': 'another_new_route_3', 'route': [], 'await_departure': [True, True, True, True], 'ordered_stops': ['490000235X.link:834', 'new_stop', 'other_new_stop', '490010689KB.link:981']} to Service `20274` within the Schedule\n"
     ]
    },
    {
     "data": {
      "text/plain": [
       "<Route instance at 4731477016: with 4 stops and 2 trips>"
      ]
     },
     "execution_count": 27,
     "metadata": {},
     "output_type": "execute_result"
    }
   ],
   "source": [
    "route = Route(\n",
    "    route_short_name='N55',\n",
    "    mode='bus',\n",
    "    trips={'trip_id': ['fun_trip_1', 'fun_trip_2'], \n",
    "           'trip_departure_time': ['03:53:00', '16:23:00'], \n",
    "           'vehicle_id': ['fun_bus_1', 'fun_bus_2']},\n",
    "   arrival_offsets=['00:00:00', '00:02:00', '00:04:00', '00:06:00'],\n",
    "   departure_offsets=['00:00:00', '00:02:00', '00:04:00', '00:06:00'],\n",
    "   id='another_new_route_3',\n",
    "#    route= ['834', '1573', '3139', '3141', '574', '3154', '979', '980', '981'],\n",
    "   await_departure= [True, True, True, True],\n",
    "   stops=[\n",
    "       Stop(id='490000235X.link:834', x=529981, y=181412, epsg='epsg:27700'),\n",
    "       Stop(id='new_stop', x=529500, y=181300, epsg='epsg:27700', name='New Stop'),\n",
    "       Stop(id='other_new_stop', x=529502, y=181302, epsg='epsg:27700', name='Other New Stop'),\n",
    "       Stop(id='490010689KB.link:981', x=529166, y=181256, epsg='epsg:27700')\n",
    "   ]\n",
    ")\n",
    "\n",
    "n.schedule.add_route('20274', route, force=True)"
   ]
  },
  {
   "cell_type": "markdown",
   "metadata": {},
   "source": [
    "Note the message above: `The following stops will inherit the data currently stored under those Stop IDs in the Schedule: ['490000235X.link:834', '490010689KB.link:981'].`\n",
    "\n",
    "NOTE: adding routes and services results in new vehicles (unless you reuse the ones already in the Schedule---beware that the same vehicle cannot service multiple trips at the same time, genet does not currently have checks for this, the user needs to be mindful of the physics of shared vehicles). New vehicles need definitions, you can add them yourself to `schedule.vehicles['vehicle_id'] = {'type': 'bus'}` ensuring this vehicle type is defined in `schedule.vehicle_types['bus']`, or you can use a genet method to generate those vehicles, the type will be derived from the mode of the route. Then you can check if all of the types that vehicles are referring to have definitions."
   ]
  },
  {
   "cell_type": "code",
   "execution_count": 28,
   "metadata": {
    "ExecuteTime": {
     "end_time": "2021-03-31T10:57:11.482502Z",
     "start_time": "2021-03-31T10:57:11.464235Z"
    }
   },
   "outputs": [
    {
     "data": {
      "text/plain": [
       "13290"
      ]
     },
     "execution_count": 28,
     "metadata": {},
     "output_type": "execute_result"
    }
   ],
   "source": [
    "len(n.schedule.vehicles)"
   ]
  },
  {
   "cell_type": "code",
   "execution_count": 29,
   "metadata": {
    "ExecuteTime": {
     "end_time": "2021-03-31T10:57:11.911256Z",
     "start_time": "2021-03-31T10:57:11.486696Z"
    }
   },
   "outputs": [
    {
     "name": "stderr",
     "output_type": "stream",
     "text": [
      "/Users/kasia.kozlowska/PycharmProjects/ABM/genet/genet/schedule_elements.py:1186: UserWarning: DataFrame columns are not unique, some columns will be omitted.\n",
      "  self.vehicles = {**df.T.to_dict(), **self.vehicles}\n",
      "2021-03-31 11:57:11,900 - The following vehicle types are missing from the `vehicle_types` attribute: {'bus'}\n",
      "2021-03-31 11:57:11,904 - Vehicles affected by missing vehicle types: {'fun_bus_1': {'type': 'bus'}, 'fun_bus_2': {'type': 'bus'}, 'some_bus_2': {'type': 'bus'}}\n"
     ]
    },
    {
     "data": {
      "text/plain": [
       "False"
      ]
     },
     "execution_count": 29,
     "metadata": {},
     "output_type": "execute_result"
    }
   ],
   "source": [
    "n.schedule.generate_vehicles()\n",
    "n.schedule.validate_vehicle_definitions()"
   ]
  },
  {
   "cell_type": "code",
   "execution_count": 30,
   "metadata": {
    "ExecuteTime": {
     "end_time": "2021-03-31T10:57:11.925152Z",
     "start_time": "2021-03-31T10:57:11.921089Z"
    }
   },
   "outputs": [
    {
     "data": {
      "text/plain": [
       "13293"
      ]
     },
     "execution_count": 30,
     "metadata": {},
     "output_type": "execute_result"
    }
   ],
   "source": [
    "len(n.schedule.vehicles)"
   ]
  },
  {
   "cell_type": "code",
   "execution_count": 31,
   "metadata": {
    "ExecuteTime": {
     "end_time": "2021-03-31T10:57:11.949736Z",
     "start_time": "2021-03-31T10:57:11.929296Z"
    }
   },
   "outputs": [
    {
     "data": {
      "text/html": [
       "<div>\n",
       "<style scoped>\n",
       "    .dataframe tbody tr th:only-of-type {\n",
       "        vertical-align: middle;\n",
       "    }\n",
       "\n",
       "    .dataframe tbody tr th {\n",
       "        vertical-align: top;\n",
       "    }\n",
       "\n",
       "    .dataframe thead th {\n",
       "        text-align: right;\n",
       "    }\n",
       "</style>\n",
       "<table border=\"1\" class=\"dataframe\">\n",
       "  <thead>\n",
       "    <tr style=\"text-align: right;\">\n",
       "      <th></th>\n",
       "      <th>timestamp</th>\n",
       "      <th>change_event</th>\n",
       "      <th>object_type</th>\n",
       "      <th>old_id</th>\n",
       "      <th>new_id</th>\n",
       "      <th>old_attributes</th>\n",
       "      <th>new_attributes</th>\n",
       "      <th>diff</th>\n",
       "    </tr>\n",
       "  </thead>\n",
       "  <tbody>\n",
       "    <tr>\n",
       "      <th>0</th>\n",
       "      <td>2021-03-31 11:57:10</td>\n",
       "      <td>add</td>\n",
       "      <td>route</td>\n",
       "      <td>None</td>\n",
       "      <td>new_route</td>\n",
       "      <td>None</td>\n",
       "      <td>{'route_short_name': 'N55', 'mode': 'bus', 'tr...</td>\n",
       "      <td>[(add, , [('route_short_name', 'N55'), ('mode'...</td>\n",
       "    </tr>\n",
       "    <tr>\n",
       "      <th>1</th>\n",
       "      <td>2021-03-31 11:57:10</td>\n",
       "      <td>add</td>\n",
       "      <td>service</td>\n",
       "      <td>None</td>\n",
       "      <td>new_service</td>\n",
       "      <td>None</td>\n",
       "      <td>{'id': 'new_service', 'name': 'N55'}</td>\n",
       "      <td>[(add, , [('id', 'new_service'), ('name', 'N55...</td>\n",
       "    </tr>\n",
       "    <tr>\n",
       "      <th>2</th>\n",
       "      <td>2021-03-31 11:57:10</td>\n",
       "      <td>add</td>\n",
       "      <td>route</td>\n",
       "      <td>None</td>\n",
       "      <td>another_new_route</td>\n",
       "      <td>None</td>\n",
       "      <td>{'route_short_name': 'N55', 'mode': 'bus', 'tr...</td>\n",
       "      <td>[(add, , [('route_short_name', 'N55'), ('mode'...</td>\n",
       "    </tr>\n",
       "    <tr>\n",
       "      <th>3</th>\n",
       "      <td>2021-03-31 11:57:10</td>\n",
       "      <td>add</td>\n",
       "      <td>route</td>\n",
       "      <td>None</td>\n",
       "      <td>another_new_route_2</td>\n",
       "      <td>None</td>\n",
       "      <td>{'route_short_name': 'N55', 'mode': 'bus', 'tr...</td>\n",
       "      <td>[(add, , [('route_short_name', 'N55'), ('mode'...</td>\n",
       "    </tr>\n",
       "    <tr>\n",
       "      <th>4</th>\n",
       "      <td>2021-03-31 11:57:11</td>\n",
       "      <td>add</td>\n",
       "      <td>route</td>\n",
       "      <td>None</td>\n",
       "      <td>another_new_route_3</td>\n",
       "      <td>None</td>\n",
       "      <td>{'route_short_name': 'N55', 'mode': 'bus', 'tr...</td>\n",
       "      <td>[(add, , [('route_short_name', 'N55'), ('mode'...</td>\n",
       "    </tr>\n",
       "  </tbody>\n",
       "</table>\n",
       "</div>"
      ],
      "text/plain": [
       "             timestamp change_event object_type old_id               new_id  \\\n",
       "0  2021-03-31 11:57:10          add       route   None            new_route   \n",
       "1  2021-03-31 11:57:10          add     service   None          new_service   \n",
       "2  2021-03-31 11:57:10          add       route   None    another_new_route   \n",
       "3  2021-03-31 11:57:10          add       route   None  another_new_route_2   \n",
       "4  2021-03-31 11:57:11          add       route   None  another_new_route_3   \n",
       "\n",
       "  old_attributes                                     new_attributes  \\\n",
       "0           None  {'route_short_name': 'N55', 'mode': 'bus', 'tr...   \n",
       "1           None               {'id': 'new_service', 'name': 'N55'}   \n",
       "2           None  {'route_short_name': 'N55', 'mode': 'bus', 'tr...   \n",
       "3           None  {'route_short_name': 'N55', 'mode': 'bus', 'tr...   \n",
       "4           None  {'route_short_name': 'N55', 'mode': 'bus', 'tr...   \n",
       "\n",
       "                                                diff  \n",
       "0  [(add, , [('route_short_name', 'N55'), ('mode'...  \n",
       "1  [(add, , [('id', 'new_service'), ('name', 'N55...  \n",
       "2  [(add, , [('route_short_name', 'N55'), ('mode'...  \n",
       "3  [(add, , [('route_short_name', 'N55'), ('mode'...  \n",
       "4  [(add, , [('route_short_name', 'N55'), ('mode'...  "
      ]
     },
     "execution_count": 31,
     "metadata": {},
     "output_type": "execute_result"
    }
   ],
   "source": [
    "n.schedule.change_log().head()"
   ]
  },
  {
   "cell_type": "markdown",
   "metadata": {},
   "source": [
    "There are no methods to add `Stop` objects on their own. They are added to the Schedule with `Route` and `Service` objects."
   ]
  },
  {
   "cell_type": "markdown",
   "metadata": {},
   "source": [
    "## Reindexing"
   ]
  },
  {
   "cell_type": "code",
   "execution_count": 32,
   "metadata": {
    "ExecuteTime": {
     "end_time": "2021-03-31T10:57:11.975889Z",
     "start_time": "2021-03-31T10:57:11.957111Z"
    }
   },
   "outputs": [
    {
     "name": "stderr",
     "output_type": "stream",
     "text": [
      "2021-03-31 11:57:11,971 - Reindexed Service from new_service to more_appropriate_id\n"
     ]
    }
   ],
   "source": [
    "n.schedule['new_service'].reindex(new_id='more_appropriate_id')"
   ]
  },
  {
   "cell_type": "code",
   "execution_count": 33,
   "metadata": {
    "ExecuteTime": {
     "end_time": "2021-03-31T10:57:12.000784Z",
     "start_time": "2021-03-31T10:57:11.991194Z"
    }
   },
   "outputs": [
    {
     "name": "stderr",
     "output_type": "stream",
     "text": [
      "2021-03-31 11:57:11,997 - Reindexed Route from new_route to more_appropriate_route_id\n"
     ]
    }
   ],
   "source": [
    "n.schedule.route('new_route').reindex(new_id='more_appropriate_route_id')"
   ]
  },
  {
   "cell_type": "code",
   "execution_count": 34,
   "metadata": {
    "ExecuteTime": {
     "end_time": "2021-03-31T10:57:12.038616Z",
     "start_time": "2021-03-31T10:57:12.003847Z"
    }
   },
   "outputs": [
    {
     "data": {
      "text/html": [
       "<div>\n",
       "<style scoped>\n",
       "    .dataframe tbody tr th:only-of-type {\n",
       "        vertical-align: middle;\n",
       "    }\n",
       "\n",
       "    .dataframe tbody tr th {\n",
       "        vertical-align: top;\n",
       "    }\n",
       "\n",
       "    .dataframe thead th {\n",
       "        text-align: right;\n",
       "    }\n",
       "</style>\n",
       "<table border=\"1\" class=\"dataframe\">\n",
       "  <thead>\n",
       "    <tr style=\"text-align: right;\">\n",
       "      <th></th>\n",
       "      <th>timestamp</th>\n",
       "      <th>change_event</th>\n",
       "      <th>object_type</th>\n",
       "      <th>old_id</th>\n",
       "      <th>new_id</th>\n",
       "      <th>old_attributes</th>\n",
       "      <th>new_attributes</th>\n",
       "      <th>diff</th>\n",
       "    </tr>\n",
       "  </thead>\n",
       "  <tbody>\n",
       "    <tr>\n",
       "      <th>0</th>\n",
       "      <td>2021-03-31 11:57:10</td>\n",
       "      <td>add</td>\n",
       "      <td>route</td>\n",
       "      <td>None</td>\n",
       "      <td>new_route</td>\n",
       "      <td>None</td>\n",
       "      <td>{'route_short_name': 'N55', 'mode': 'bus', 'tr...</td>\n",
       "      <td>[(add, , [('route_short_name', 'N55'), ('mode'...</td>\n",
       "    </tr>\n",
       "    <tr>\n",
       "      <th>1</th>\n",
       "      <td>2021-03-31 11:57:10</td>\n",
       "      <td>add</td>\n",
       "      <td>service</td>\n",
       "      <td>None</td>\n",
       "      <td>new_service</td>\n",
       "      <td>None</td>\n",
       "      <td>{'id': 'new_service', 'name': 'N55'}</td>\n",
       "      <td>[(add, , [('id', 'new_service'), ('name', 'N55...</td>\n",
       "    </tr>\n",
       "    <tr>\n",
       "      <th>2</th>\n",
       "      <td>2021-03-31 11:57:10</td>\n",
       "      <td>add</td>\n",
       "      <td>route</td>\n",
       "      <td>None</td>\n",
       "      <td>another_new_route</td>\n",
       "      <td>None</td>\n",
       "      <td>{'route_short_name': 'N55', 'mode': 'bus', 'tr...</td>\n",
       "      <td>[(add, , [('route_short_name', 'N55'), ('mode'...</td>\n",
       "    </tr>\n",
       "    <tr>\n",
       "      <th>3</th>\n",
       "      <td>2021-03-31 11:57:10</td>\n",
       "      <td>add</td>\n",
       "      <td>route</td>\n",
       "      <td>None</td>\n",
       "      <td>another_new_route_2</td>\n",
       "      <td>None</td>\n",
       "      <td>{'route_short_name': 'N55', 'mode': 'bus', 'tr...</td>\n",
       "      <td>[(add, , [('route_short_name', 'N55'), ('mode'...</td>\n",
       "    </tr>\n",
       "    <tr>\n",
       "      <th>4</th>\n",
       "      <td>2021-03-31 11:57:11</td>\n",
       "      <td>add</td>\n",
       "      <td>route</td>\n",
       "      <td>None</td>\n",
       "      <td>another_new_route_3</td>\n",
       "      <td>None</td>\n",
       "      <td>{'route_short_name': 'N55', 'mode': 'bus', 'tr...</td>\n",
       "      <td>[(add, , [('route_short_name', 'N55'), ('mode'...</td>\n",
       "    </tr>\n",
       "  </tbody>\n",
       "</table>\n",
       "</div>"
      ],
      "text/plain": [
       "             timestamp change_event object_type old_id               new_id  \\\n",
       "0  2021-03-31 11:57:10          add       route   None            new_route   \n",
       "1  2021-03-31 11:57:10          add     service   None          new_service   \n",
       "2  2021-03-31 11:57:10          add       route   None    another_new_route   \n",
       "3  2021-03-31 11:57:10          add       route   None  another_new_route_2   \n",
       "4  2021-03-31 11:57:11          add       route   None  another_new_route_3   \n",
       "\n",
       "  old_attributes                                     new_attributes  \\\n",
       "0           None  {'route_short_name': 'N55', 'mode': 'bus', 'tr...   \n",
       "1           None               {'id': 'new_service', 'name': 'N55'}   \n",
       "2           None  {'route_short_name': 'N55', 'mode': 'bus', 'tr...   \n",
       "3           None  {'route_short_name': 'N55', 'mode': 'bus', 'tr...   \n",
       "4           None  {'route_short_name': 'N55', 'mode': 'bus', 'tr...   \n",
       "\n",
       "                                                diff  \n",
       "0  [(add, , [('route_short_name', 'N55'), ('mode'...  \n",
       "1  [(add, , [('id', 'new_service'), ('name', 'N55...  \n",
       "2  [(add, , [('route_short_name', 'N55'), ('mode'...  \n",
       "3  [(add, , [('route_short_name', 'N55'), ('mode'...  \n",
       "4  [(add, , [('route_short_name', 'N55'), ('mode'...  "
      ]
     },
     "execution_count": 34,
     "metadata": {},
     "output_type": "execute_result"
    }
   ],
   "source": [
    "n.schedule.change_log().head()"
   ]
  },
  {
   "cell_type": "markdown",
   "metadata": {},
   "source": [
    "## Removing Stops, Routes, Services"
   ]
  },
  {
   "cell_type": "code",
   "execution_count": 35,
   "metadata": {
    "ExecuteTime": {
     "end_time": "2021-03-31T10:57:12.054863Z",
     "start_time": "2021-03-31T10:57:12.040975Z"
    }
   },
   "outputs": [
    {
     "name": "stderr",
     "output_type": "stream",
     "text": [
      "2021-03-31 11:57:12,051 - Removed Service with index `more_appropriate_id`, data={'id': 'more_appropriate_id', 'name': 'N55'} and Routes: {'new_service_new_route'}\n"
     ]
    }
   ],
   "source": [
    "n.schedule.remove_service('more_appropriate_id')"
   ]
  },
  {
   "cell_type": "code",
   "execution_count": 36,
   "metadata": {
    "ExecuteTime": {
     "end_time": "2021-03-31T10:57:12.072069Z",
     "start_time": "2021-03-31T10:57:12.058232Z"
    }
   },
   "outputs": [
    {
     "name": "stderr",
     "output_type": "stream",
     "text": [
      "2021-03-31 11:57:12,069 - Removed Route with index `more_appropriate_route_id`, data={'route_short_name': 'N55', 'mode': 'bus', 'trips': {'trip_id': ['fun_trip_1', 'fun_trip_2'], 'trip_departure_time': ['03:53:00', '16:23:00'], 'vehicle_id': ['fun_bus_1', 'fun_bus_2']}, 'arrival_offsets': ['00:00:00', '00:02:00', '00:04:00', '00:06:00'], 'departure_offsets': ['00:00:00', '00:02:00', '00:04:00', '00:06:00'], 'route_long_name': '', 'id': 'more_appropriate_route_id', 'route': [], 'await_departure': [True, True, True, True], 'ordered_stops': ['490000235X.link:834', 'new_stop', 'other_new_stop', '490010689KB.link:981']}. It was linked to Service `20274`.\n"
     ]
    }
   ],
   "source": [
    "n.schedule.remove_route('more_appropriate_route_id')"
   ]
  },
  {
   "cell_type": "code",
   "execution_count": 37,
   "metadata": {
    "ExecuteTime": {
     "end_time": "2021-03-31T10:57:12.107846Z",
     "start_time": "2021-03-31T10:57:12.077397Z"
    }
   },
   "outputs": [
    {
     "name": "stderr",
     "output_type": "stream",
     "text": [
      "2021-03-31 11:57:12,091 - Removed Route with index `another_new_route`, data={'route_short_name': 'N55', 'mode': 'bus', 'trips': {'trip_id': ['some_trip_1'], 'trip_departure_time': ['16:23:00'], 'vehicle_id': ['some_bus_2']}, 'arrival_offsets': ['00:00:00', '00:06:00'], 'departure_offsets': ['00:00:00', '00:06:00'], 'route_long_name': '', 'id': 'another_new_route', 'route': [], 'await_departure': [True, True], 'ordered_stops': ['490000235X.link:834', '490010689KB.link:981']}. It was linked to Service `20274`.\n",
      "2021-03-31 11:57:12,095 - Removed Route with index `another_new_route_2`, data={'route_short_name': 'N55', 'mode': 'bus', 'trips': {'trip_id': ['some_trip_1'], 'trip_departure_time': ['16:23:00'], 'vehicle_id': ['some_bus_2']}, 'arrival_offsets': ['00:00:00', '00:06:00'], 'departure_offsets': ['00:00:00', '00:06:00'], 'route_long_name': '', 'id': 'another_new_route_2', 'route': [], 'await_departure': [True, True], 'ordered_stops': ['490000235X.link:834', '490010689KB.link:981']}. It was linked to Service `20274`.\n",
      "2021-03-31 11:57:12,104 - Removed Route with index `another_new_route_3`, data={'route_short_name': 'N55', 'mode': 'bus', 'trips': {'trip_id': ['fun_trip_1', 'fun_trip_2'], 'trip_departure_time': ['03:53:00', '16:23:00'], 'vehicle_id': ['fun_bus_1', 'fun_bus_2']}, 'arrival_offsets': ['00:00:00', '00:02:00', '00:04:00', '00:06:00'], 'departure_offsets': ['00:00:00', '00:02:00', '00:04:00', '00:06:00'], 'route_long_name': '', 'id': 'another_new_route_3', 'route': [], 'await_departure': [True, True, True, True], 'ordered_stops': ['490000235X.link:834', 'new_stop', 'other_new_stop', '490010689KB.link:981']}. It was linked to Service `20274`.\n"
     ]
    }
   ],
   "source": [
    "for route_id in {'another_new_route', 'another_new_route_2', 'another_new_route_3'}:\n",
    "    n.schedule.remove_route(route_id)"
   ]
  },
  {
   "cell_type": "code",
   "execution_count": 38,
   "metadata": {
    "ExecuteTime": {
     "end_time": "2021-03-31T10:57:12.136602Z",
     "start_time": "2021-03-31T10:57:12.112638Z"
    }
   },
   "outputs": [
    {
     "data": {
      "text/html": [
       "<div>\n",
       "<style scoped>\n",
       "    .dataframe tbody tr th:only-of-type {\n",
       "        vertical-align: middle;\n",
       "    }\n",
       "\n",
       "    .dataframe tbody tr th {\n",
       "        vertical-align: top;\n",
       "    }\n",
       "\n",
       "    .dataframe thead th {\n",
       "        text-align: right;\n",
       "    }\n",
       "</style>\n",
       "<table border=\"1\" class=\"dataframe\">\n",
       "  <thead>\n",
       "    <tr style=\"text-align: right;\">\n",
       "      <th></th>\n",
       "      <th>timestamp</th>\n",
       "      <th>change_event</th>\n",
       "      <th>object_type</th>\n",
       "      <th>old_id</th>\n",
       "      <th>new_id</th>\n",
       "      <th>old_attributes</th>\n",
       "      <th>new_attributes</th>\n",
       "      <th>diff</th>\n",
       "    </tr>\n",
       "  </thead>\n",
       "  <tbody>\n",
       "    <tr>\n",
       "      <th>7</th>\n",
       "      <td>2021-03-31 11:57:12</td>\n",
       "      <td>remove</td>\n",
       "      <td>service</td>\n",
       "      <td>more_appropriate_id</td>\n",
       "      <td>None</td>\n",
       "      <td>{'id': 'more_appropriate_id', 'name': 'N55'}</td>\n",
       "      <td>None</td>\n",
       "      <td>[(remove, , [('id', 'more_appropriate_id'), ('...</td>\n",
       "    </tr>\n",
       "    <tr>\n",
       "      <th>8</th>\n",
       "      <td>2021-03-31 11:57:12</td>\n",
       "      <td>remove</td>\n",
       "      <td>route</td>\n",
       "      <td>more_appropriate_route_id</td>\n",
       "      <td>None</td>\n",
       "      <td>{'route_short_name': 'N55', 'mode': 'bus', 'tr...</td>\n",
       "      <td>None</td>\n",
       "      <td>[(remove, , [('route_short_name', 'N55'), ('mo...</td>\n",
       "    </tr>\n",
       "    <tr>\n",
       "      <th>9</th>\n",
       "      <td>2021-03-31 11:57:12</td>\n",
       "      <td>remove</td>\n",
       "      <td>route</td>\n",
       "      <td>another_new_route</td>\n",
       "      <td>None</td>\n",
       "      <td>{'route_short_name': 'N55', 'mode': 'bus', 'tr...</td>\n",
       "      <td>None</td>\n",
       "      <td>[(remove, , [('route_short_name', 'N55'), ('mo...</td>\n",
       "    </tr>\n",
       "    <tr>\n",
       "      <th>10</th>\n",
       "      <td>2021-03-31 11:57:12</td>\n",
       "      <td>remove</td>\n",
       "      <td>route</td>\n",
       "      <td>another_new_route_2</td>\n",
       "      <td>None</td>\n",
       "      <td>{'route_short_name': 'N55', 'mode': 'bus', 'tr...</td>\n",
       "      <td>None</td>\n",
       "      <td>[(remove, , [('route_short_name', 'N55'), ('mo...</td>\n",
       "    </tr>\n",
       "    <tr>\n",
       "      <th>11</th>\n",
       "      <td>2021-03-31 11:57:12</td>\n",
       "      <td>remove</td>\n",
       "      <td>route</td>\n",
       "      <td>another_new_route_3</td>\n",
       "      <td>None</td>\n",
       "      <td>{'route_short_name': 'N55', 'mode': 'bus', 'tr...</td>\n",
       "      <td>None</td>\n",
       "      <td>[(remove, , [('route_short_name', 'N55'), ('mo...</td>\n",
       "    </tr>\n",
       "  </tbody>\n",
       "</table>\n",
       "</div>"
      ],
      "text/plain": [
       "              timestamp change_event object_type                     old_id  \\\n",
       "7   2021-03-31 11:57:12       remove     service        more_appropriate_id   \n",
       "8   2021-03-31 11:57:12       remove       route  more_appropriate_route_id   \n",
       "9   2021-03-31 11:57:12       remove       route          another_new_route   \n",
       "10  2021-03-31 11:57:12       remove       route        another_new_route_2   \n",
       "11  2021-03-31 11:57:12       remove       route        another_new_route_3   \n",
       "\n",
       "   new_id                                     old_attributes new_attributes  \\\n",
       "7    None       {'id': 'more_appropriate_id', 'name': 'N55'}           None   \n",
       "8    None  {'route_short_name': 'N55', 'mode': 'bus', 'tr...           None   \n",
       "9    None  {'route_short_name': 'N55', 'mode': 'bus', 'tr...           None   \n",
       "10   None  {'route_short_name': 'N55', 'mode': 'bus', 'tr...           None   \n",
       "11   None  {'route_short_name': 'N55', 'mode': 'bus', 'tr...           None   \n",
       "\n",
       "                                                 diff  \n",
       "7   [(remove, , [('id', 'more_appropriate_id'), ('...  \n",
       "8   [(remove, , [('route_short_name', 'N55'), ('mo...  \n",
       "9   [(remove, , [('route_short_name', 'N55'), ('mo...  \n",
       "10  [(remove, , [('route_short_name', 'N55'), ('mo...  \n",
       "11  [(remove, , [('route_short_name', 'N55'), ('mo...  "
      ]
     },
     "execution_count": 38,
     "metadata": {},
     "output_type": "execute_result"
    }
   ],
   "source": [
    "n.schedule.change_log().tail()"
   ]
  },
  {
   "cell_type": "markdown",
   "metadata": {},
   "source": [
    "You can also remove `Stop`s. This will disconnect `Route`s and `Service`s using that `Stop`s and likely render them invalid. The method will warn you which `Route`s and `Servce`s are affected."
   ]
  },
  {
   "cell_type": "code",
   "execution_count": 39,
   "metadata": {
    "ExecuteTime": {
     "end_time": "2021-03-31T10:57:12.163273Z",
     "start_time": "2021-03-31T10:57:12.148333Z"
    }
   },
   "outputs": [
    {
     "name": "stderr",
     "output_type": "stream",
     "text": [
      "2021-03-31 11:57:12,160 - Removed Stop with index `new_stop`, data={'id': 'new_stop', 'x': 529500.0, 'y': 181300.0, 'epsg': 'epsg:27700', 'name': 'New Stop', 'lon': -0.1350768098744082, 'lat': 51.51578819710296, 's2_id': 5221390696585158415, 'additional_attributes': set()}. Routes affected: []. Services affected: [].\n"
     ]
    }
   ],
   "source": [
    "n.schedule.remove_stop('new_stop')"
   ]
  },
  {
   "cell_type": "markdown",
   "metadata": {},
   "source": [
    "Likewise, removing `Route`s and `Service`s is likely to result in a number of unused stops. There is a method to remove such stops."
   ]
  },
  {
   "cell_type": "code",
   "execution_count": 40,
   "metadata": {
    "ExecuteTime": {
     "end_time": "2021-03-31T10:57:12.184947Z",
     "start_time": "2021-03-31T10:57:12.172103Z"
    }
   },
   "outputs": [
    {
     "name": "stderr",
     "output_type": "stream",
     "text": [
      "2021-03-31 11:57:12,180 - Removed Stop with index `other_new_stop`, data={'id': 'other_new_stop', 'x': 529502.0, 'y': 181302.0, 'epsg': 'epsg:27700', 'name': 'Other New Stop', 'lon': -0.1350472687576662, 'lat': 51.515805712413496, 's2_id': 5221390696583632715, 'additional_attributes': set()}. Routes affected: []. Services affected: [].\n",
      "2021-03-31 11:57:12,181 - Removed Stops with indecies `['other_new_stop']` which were not used by any Routes.\n"
     ]
    }
   ],
   "source": [
    "n.schedule.remove_unsused_stops()"
   ]
  },
  {
   "cell_type": "markdown",
   "metadata": {},
   "source": [
    "## Modifying data stored for Stops, Routes, Services\n",
    "\n",
    "### Applying known or pre-computed changes\n",
    "Applying changes or new attributes to Services, Routes and Stops can be done via Schedule level methods. They all work with a dictionary where the keys are the object IDs and the values are dictionaries holding attribute names and values. The method to extract a DataFrame on attributes comes in handy here. E.g."
   ]
  },
  {
   "cell_type": "code",
   "execution_count": 41,
   "metadata": {
    "ExecuteTime": {
     "end_time": "2021-03-31T10:57:12.202147Z",
     "start_time": "2021-03-31T10:57:12.191872Z"
    }
   },
   "outputs": [
    {
     "data": {
      "text/html": [
       "<div>\n",
       "<style scoped>\n",
       "    .dataframe tbody tr th:only-of-type {\n",
       "        vertical-align: middle;\n",
       "    }\n",
       "\n",
       "    .dataframe tbody tr th {\n",
       "        vertical-align: top;\n",
       "    }\n",
       "\n",
       "    .dataframe thead th {\n",
       "        text-align: right;\n",
       "    }\n",
       "</style>\n",
       "<table border=\"1\" class=\"dataframe\">\n",
       "  <thead>\n",
       "    <tr style=\"text-align: right;\">\n",
       "      <th></th>\n",
       "      <th>name</th>\n",
       "    </tr>\n",
       "  </thead>\n",
       "  <tbody>\n",
       "    <tr>\n",
       "      <th>18915</th>\n",
       "      <td>N5</td>\n",
       "    </tr>\n",
       "    <tr>\n",
       "      <th>14134</th>\n",
       "      <td>98</td>\n",
       "    </tr>\n",
       "    <tr>\n",
       "      <th>17732</th>\n",
       "      <td>N20</td>\n",
       "    </tr>\n",
       "    <tr>\n",
       "      <th>18853</th>\n",
       "      <td>N8</td>\n",
       "    </tr>\n",
       "    <tr>\n",
       "      <th>15660</th>\n",
       "      <td>113</td>\n",
       "    </tr>\n",
       "  </tbody>\n",
       "</table>\n",
       "</div>"
      ],
      "text/plain": [
       "      name\n",
       "18915   N5\n",
       "14134   98\n",
       "17732  N20\n",
       "18853   N8\n",
       "15660  113"
      ]
     },
     "execution_count": 41,
     "metadata": {},
     "output_type": "execute_result"
    }
   ],
   "source": [
    "df = n.schedule.service_attribute_data(keys='name')\n",
    "df.head()"
   ]
  },
  {
   "cell_type": "markdown",
   "metadata": {},
   "source": [
    "DataFrames are easy to work with. Youcould for exmaple manipulate the names or use other data to change these. For demonstration here, let's just set the names to something easy."
   ]
  },
  {
   "cell_type": "code",
   "execution_count": 42,
   "metadata": {
    "ExecuteTime": {
     "end_time": "2021-03-31T10:57:12.222707Z",
     "start_time": "2021-03-31T10:57:12.208350Z"
    }
   },
   "outputs": [
    {
     "data": {
      "text/html": [
       "<div>\n",
       "<style scoped>\n",
       "    .dataframe tbody tr th:only-of-type {\n",
       "        vertical-align: middle;\n",
       "    }\n",
       "\n",
       "    .dataframe tbody tr th {\n",
       "        vertical-align: top;\n",
       "    }\n",
       "\n",
       "    .dataframe thead th {\n",
       "        text-align: right;\n",
       "    }\n",
       "</style>\n",
       "<table border=\"1\" class=\"dataframe\">\n",
       "  <thead>\n",
       "    <tr style=\"text-align: right;\">\n",
       "      <th></th>\n",
       "      <th>name</th>\n",
       "    </tr>\n",
       "  </thead>\n",
       "  <tbody>\n",
       "    <tr>\n",
       "      <th>18915</th>\n",
       "      <td>Service_N5</td>\n",
       "    </tr>\n",
       "    <tr>\n",
       "      <th>14134</th>\n",
       "      <td>Service_98</td>\n",
       "    </tr>\n",
       "    <tr>\n",
       "      <th>17732</th>\n",
       "      <td>Service_N20</td>\n",
       "    </tr>\n",
       "    <tr>\n",
       "      <th>18853</th>\n",
       "      <td>Service_N8</td>\n",
       "    </tr>\n",
       "    <tr>\n",
       "      <th>15660</th>\n",
       "      <td>Service_113</td>\n",
       "    </tr>\n",
       "  </tbody>\n",
       "</table>\n",
       "</div>"
      ],
      "text/plain": [
       "              name\n",
       "18915   Service_N5\n",
       "14134   Service_98\n",
       "17732  Service_N20\n",
       "18853   Service_N8\n",
       "15660  Service_113"
      ]
     },
     "execution_count": 42,
     "metadata": {},
     "output_type": "execute_result"
    }
   ],
   "source": [
    "df['name'] = df['name'].apply(lambda x: f'Service_{x}')\n",
    "df.head()"
   ]
  },
  {
   "cell_type": "markdown",
   "metadata": {},
   "source": [
    "You can then convert this to a dictionary and pass it to the `apply_attributes_to_services` method."
   ]
  },
  {
   "cell_type": "code",
   "execution_count": 43,
   "metadata": {
    "ExecuteTime": {
     "end_time": "2021-03-31T10:57:12.262073Z",
     "start_time": "2021-03-31T10:57:12.230257Z"
    }
   },
   "outputs": [
    {
     "name": "stderr",
     "output_type": "stream",
     "text": [
      "2021-03-31 11:57:12,250 - Changed Service attributes for 9 services\n"
     ]
    }
   ],
   "source": [
    "n.schedule.apply_attributes_to_services(df.T.to_dict())"
   ]
  },
  {
   "cell_type": "code",
   "execution_count": 44,
   "metadata": {
    "ExecuteTime": {
     "end_time": "2021-03-31T10:57:12.290217Z",
     "start_time": "2021-03-31T10:57:12.271060Z"
    }
   },
   "outputs": [
    {
     "data": {
      "text/html": [
       "<div>\n",
       "<style scoped>\n",
       "    .dataframe tbody tr th:only-of-type {\n",
       "        vertical-align: middle;\n",
       "    }\n",
       "\n",
       "    .dataframe tbody tr th {\n",
       "        vertical-align: top;\n",
       "    }\n",
       "\n",
       "    .dataframe thead th {\n",
       "        text-align: right;\n",
       "    }\n",
       "</style>\n",
       "<table border=\"1\" class=\"dataframe\">\n",
       "  <thead>\n",
       "    <tr style=\"text-align: right;\">\n",
       "      <th></th>\n",
       "      <th>timestamp</th>\n",
       "      <th>change_event</th>\n",
       "      <th>object_type</th>\n",
       "      <th>old_id</th>\n",
       "      <th>new_id</th>\n",
       "      <th>old_attributes</th>\n",
       "      <th>new_attributes</th>\n",
       "      <th>diff</th>\n",
       "    </tr>\n",
       "  </thead>\n",
       "  <tbody>\n",
       "    <tr>\n",
       "      <th>18</th>\n",
       "      <td>2021-03-31 11:57:12</td>\n",
       "      <td>modify</td>\n",
       "      <td>service</td>\n",
       "      <td>15660</td>\n",
       "      <td>15660</td>\n",
       "      <td>{'id': '15660', 'name': '113'}</td>\n",
       "      <td>{'id': '15660', 'name': 'Service_113'}</td>\n",
       "      <td>[(change, name, (113, Service_113))]</td>\n",
       "    </tr>\n",
       "    <tr>\n",
       "      <th>19</th>\n",
       "      <td>2021-03-31 11:57:12</td>\n",
       "      <td>modify</td>\n",
       "      <td>service</td>\n",
       "      <td>12430</td>\n",
       "      <td>12430</td>\n",
       "      <td>{'id': '12430', 'name': '205'}</td>\n",
       "      <td>{'id': '12430', 'name': 'Service_205'}</td>\n",
       "      <td>[(change, name, (205, Service_205))]</td>\n",
       "    </tr>\n",
       "    <tr>\n",
       "      <th>20</th>\n",
       "      <td>2021-03-31 11:57:12</td>\n",
       "      <td>modify</td>\n",
       "      <td>service</td>\n",
       "      <td>14073</td>\n",
       "      <td>14073</td>\n",
       "      <td>{'id': '14073', 'name': '94'}</td>\n",
       "      <td>{'id': '14073', 'name': 'Service_94'}</td>\n",
       "      <td>[(change, name, (94, Service_94))]</td>\n",
       "    </tr>\n",
       "    <tr>\n",
       "      <th>21</th>\n",
       "      <td>2021-03-31 11:57:12</td>\n",
       "      <td>modify</td>\n",
       "      <td>service</td>\n",
       "      <td>15234</td>\n",
       "      <td>15234</td>\n",
       "      <td>{'id': '15234', 'name': '134'}</td>\n",
       "      <td>{'id': '15234', 'name': 'Service_134'}</td>\n",
       "      <td>[(change, name, (134, Service_134))]</td>\n",
       "    </tr>\n",
       "    <tr>\n",
       "      <th>22</th>\n",
       "      <td>2021-03-31 11:57:12</td>\n",
       "      <td>modify</td>\n",
       "      <td>service</td>\n",
       "      <td>20274</td>\n",
       "      <td>20274</td>\n",
       "      <td>{'id': '20274', 'name': 'N55'}</td>\n",
       "      <td>{'id': '20274', 'name': 'Service_N55'}</td>\n",
       "      <td>[(change, name, (N55, Service_N55))]</td>\n",
       "    </tr>\n",
       "  </tbody>\n",
       "</table>\n",
       "</div>"
      ],
      "text/plain": [
       "              timestamp change_event object_type old_id new_id  \\\n",
       "18  2021-03-31 11:57:12       modify     service  15660  15660   \n",
       "19  2021-03-31 11:57:12       modify     service  12430  12430   \n",
       "20  2021-03-31 11:57:12       modify     service  14073  14073   \n",
       "21  2021-03-31 11:57:12       modify     service  15234  15234   \n",
       "22  2021-03-31 11:57:12       modify     service  20274  20274   \n",
       "\n",
       "                    old_attributes                          new_attributes  \\\n",
       "18  {'id': '15660', 'name': '113'}  {'id': '15660', 'name': 'Service_113'}   \n",
       "19  {'id': '12430', 'name': '205'}  {'id': '12430', 'name': 'Service_205'}   \n",
       "20   {'id': '14073', 'name': '94'}   {'id': '14073', 'name': 'Service_94'}   \n",
       "21  {'id': '15234', 'name': '134'}  {'id': '15234', 'name': 'Service_134'}   \n",
       "22  {'id': '20274', 'name': 'N55'}  {'id': '20274', 'name': 'Service_N55'}   \n",
       "\n",
       "                                    diff  \n",
       "18  [(change, name, (113, Service_113))]  \n",
       "19  [(change, name, (205, Service_205))]  \n",
       "20    [(change, name, (94, Service_94))]  \n",
       "21  [(change, name, (134, Service_134))]  \n",
       "22  [(change, name, (N55, Service_N55))]  "
      ]
     },
     "execution_count": 44,
     "metadata": {},
     "output_type": "execute_result"
    }
   ],
   "source": [
    "n.schedule.change_log().tail()"
   ]
  },
  {
   "cell_type": "markdown",
   "metadata": {},
   "source": [
    "You can do the same for `Routes` and `Stops`. Your dictionaries cannot however hold changes to indices. You will encounter an error and should use `reindex` methods for such operations."
   ]
  },
  {
   "cell_type": "code",
   "execution_count": 45,
   "metadata": {
    "ExecuteTime": {
     "end_time": "2021-03-31T10:57:12.312423Z",
     "start_time": "2021-03-31T10:57:12.302923Z"
    }
   },
   "outputs": [
    {
     "name": "stderr",
     "output_type": "stream",
     "text": [
      "2021-03-31 11:57:12,307 - Changed Route attributes for 1 routes\n"
     ]
    }
   ],
   "source": [
    "n.schedule.apply_attributes_to_routes(\n",
    "    {'VJ375a660d47a2aa570aa20a8568012da8497ffecf': {\n",
    "        'name': 'my_favourite_route', \n",
    "        'mode': 'piggyback'\n",
    "    }}\n",
    ")"
   ]
  },
  {
   "cell_type": "code",
   "execution_count": 46,
   "metadata": {
    "ExecuteTime": {
     "end_time": "2021-03-31T10:57:12.331313Z",
     "start_time": "2021-03-31T10:57:12.320111Z"
    }
   },
   "outputs": [
    {
     "name": "stderr",
     "output_type": "stream",
     "text": [
      "2021-03-31 11:57:12,323 - Changed Stop attributes for 1 stops\n"
     ]
    }
   ],
   "source": [
    "n.schedule.apply_attributes_to_stops(\n",
    "    {'490000235YB.link:574': {'new_attribute': 'hello!'}}\n",
    ")"
   ]
  },
  {
   "cell_type": "code",
   "execution_count": 47,
   "metadata": {
    "ExecuteTime": {
     "end_time": "2021-03-31T10:57:12.360958Z",
     "start_time": "2021-03-31T10:57:12.339853Z"
    }
   },
   "outputs": [
    {
     "data": {
      "text/html": [
       "<div>\n",
       "<style scoped>\n",
       "    .dataframe tbody tr th:only-of-type {\n",
       "        vertical-align: middle;\n",
       "    }\n",
       "\n",
       "    .dataframe tbody tr th {\n",
       "        vertical-align: top;\n",
       "    }\n",
       "\n",
       "    .dataframe thead th {\n",
       "        text-align: right;\n",
       "    }\n",
       "</style>\n",
       "<table border=\"1\" class=\"dataframe\">\n",
       "  <thead>\n",
       "    <tr style=\"text-align: right;\">\n",
       "      <th></th>\n",
       "      <th>timestamp</th>\n",
       "      <th>change_event</th>\n",
       "      <th>object_type</th>\n",
       "      <th>old_id</th>\n",
       "      <th>new_id</th>\n",
       "      <th>old_attributes</th>\n",
       "      <th>new_attributes</th>\n",
       "      <th>diff</th>\n",
       "    </tr>\n",
       "  </thead>\n",
       "  <tbody>\n",
       "    <tr>\n",
       "      <th>20</th>\n",
       "      <td>2021-03-31 11:57:12</td>\n",
       "      <td>modify</td>\n",
       "      <td>service</td>\n",
       "      <td>14073</td>\n",
       "      <td>14073</td>\n",
       "      <td>{'id': '14073', 'name': '94'}</td>\n",
       "      <td>{'id': '14073', 'name': 'Service_94'}</td>\n",
       "      <td>[(change, name, (94, Service_94))]</td>\n",
       "    </tr>\n",
       "    <tr>\n",
       "      <th>21</th>\n",
       "      <td>2021-03-31 11:57:12</td>\n",
       "      <td>modify</td>\n",
       "      <td>service</td>\n",
       "      <td>15234</td>\n",
       "      <td>15234</td>\n",
       "      <td>{'id': '15234', 'name': '134'}</td>\n",
       "      <td>{'id': '15234', 'name': 'Service_134'}</td>\n",
       "      <td>[(change, name, (134, Service_134))]</td>\n",
       "    </tr>\n",
       "    <tr>\n",
       "      <th>22</th>\n",
       "      <td>2021-03-31 11:57:12</td>\n",
       "      <td>modify</td>\n",
       "      <td>service</td>\n",
       "      <td>20274</td>\n",
       "      <td>20274</td>\n",
       "      <td>{'id': '20274', 'name': 'N55'}</td>\n",
       "      <td>{'id': '20274', 'name': 'Service_N55'}</td>\n",
       "      <td>[(change, name, (N55, Service_N55))]</td>\n",
       "    </tr>\n",
       "    <tr>\n",
       "      <th>23</th>\n",
       "      <td>2021-03-31 11:57:12</td>\n",
       "      <td>modify</td>\n",
       "      <td>route</td>\n",
       "      <td>VJ375a660d47a2aa570aa20a8568012da8497ffecf</td>\n",
       "      <td>VJ375a660d47a2aa570aa20a8568012da8497ffecf</td>\n",
       "      <td>{'route_short_name': 'N55', 'mode': 'bus', 'tr...</td>\n",
       "      <td>{'route_short_name': 'N55', 'mode': 'piggyback...</td>\n",
       "      <td>[(change, mode, (bus, piggyback)), (add, , [('...</td>\n",
       "    </tr>\n",
       "    <tr>\n",
       "      <th>24</th>\n",
       "      <td>2021-03-31 11:57:12</td>\n",
       "      <td>modify</td>\n",
       "      <td>stop</td>\n",
       "      <td>490000235YB.link:574</td>\n",
       "      <td>490000235YB.link:574</td>\n",
       "      <td>{'services': ['18853', '14134', '20274'], 'rou...</td>\n",
       "      <td>{'services': ['18853', '14134', '20274'], 'rou...</td>\n",
       "      <td>[(add, , [('new_attribute', 'hello!')])]</td>\n",
       "    </tr>\n",
       "  </tbody>\n",
       "</table>\n",
       "</div>"
      ],
      "text/plain": [
       "              timestamp change_event object_type  \\\n",
       "20  2021-03-31 11:57:12       modify     service   \n",
       "21  2021-03-31 11:57:12       modify     service   \n",
       "22  2021-03-31 11:57:12       modify     service   \n",
       "23  2021-03-31 11:57:12       modify       route   \n",
       "24  2021-03-31 11:57:12       modify        stop   \n",
       "\n",
       "                                        old_id  \\\n",
       "20                                       14073   \n",
       "21                                       15234   \n",
       "22                                       20274   \n",
       "23  VJ375a660d47a2aa570aa20a8568012da8497ffecf   \n",
       "24                        490000235YB.link:574   \n",
       "\n",
       "                                        new_id  \\\n",
       "20                                       14073   \n",
       "21                                       15234   \n",
       "22                                       20274   \n",
       "23  VJ375a660d47a2aa570aa20a8568012da8497ffecf   \n",
       "24                        490000235YB.link:574   \n",
       "\n",
       "                                       old_attributes  \\\n",
       "20                      {'id': '14073', 'name': '94'}   \n",
       "21                     {'id': '15234', 'name': '134'}   \n",
       "22                     {'id': '20274', 'name': 'N55'}   \n",
       "23  {'route_short_name': 'N55', 'mode': 'bus', 'tr...   \n",
       "24  {'services': ['18853', '14134', '20274'], 'rou...   \n",
       "\n",
       "                                       new_attributes  \\\n",
       "20              {'id': '14073', 'name': 'Service_94'}   \n",
       "21             {'id': '15234', 'name': 'Service_134'}   \n",
       "22             {'id': '20274', 'name': 'Service_N55'}   \n",
       "23  {'route_short_name': 'N55', 'mode': 'piggyback...   \n",
       "24  {'services': ['18853', '14134', '20274'], 'rou...   \n",
       "\n",
       "                                                 diff  \n",
       "20                 [(change, name, (94, Service_94))]  \n",
       "21               [(change, name, (134, Service_134))]  \n",
       "22               [(change, name, (N55, Service_N55))]  \n",
       "23  [(change, mode, (bus, piggyback)), (add, , [('...  \n",
       "24           [(add, , [('new_attribute', 'hello!')])]  "
      ]
     },
     "execution_count": 47,
     "metadata": {},
     "output_type": "execute_result"
    }
   ],
   "source": [
    "n.schedule.change_log().tail()"
   ]
  },
  {
   "cell_type": "markdown",
   "metadata": {},
   "source": [
    "You can use `route_trips_to_dataframe` to extract all of the trips, their departures and vehicle IDs associated with the trips in the schedule. Trip ids need not be unique, route IDs provide a secondary index. Associated service IDs are also given for convenience."
   ]
  },
  {
   "cell_type": "code",
   "execution_count": 48,
   "metadata": {
    "ExecuteTime": {
     "end_time": "2021-03-31T10:57:12.470325Z",
     "start_time": "2021-03-31T10:57:12.376367Z"
    }
   },
   "outputs": [],
   "source": [
    "trips = n.schedule.route_trips_to_dataframe(gtfs_day='20210101')"
   ]
  },
  {
   "cell_type": "code",
   "execution_count": 49,
   "metadata": {
    "ExecuteTime": {
     "end_time": "2021-03-31T10:57:12.493796Z",
     "start_time": "2021-03-31T10:57:12.482089Z"
    }
   },
   "outputs": [
    {
     "data": {
      "text/html": [
       "<div>\n",
       "<style scoped>\n",
       "    .dataframe tbody tr th:only-of-type {\n",
       "        vertical-align: middle;\n",
       "    }\n",
       "\n",
       "    .dataframe tbody tr th {\n",
       "        vertical-align: top;\n",
       "    }\n",
       "\n",
       "    .dataframe thead th {\n",
       "        text-align: right;\n",
       "    }\n",
       "</style>\n",
       "<table border=\"1\" class=\"dataframe\">\n",
       "  <thead>\n",
       "    <tr style=\"text-align: right;\">\n",
       "      <th></th>\n",
       "      <th>service_id</th>\n",
       "      <th>route_id</th>\n",
       "      <th>trip_id</th>\n",
       "      <th>trip_departure_time</th>\n",
       "      <th>vehicle_id</th>\n",
       "    </tr>\n",
       "  </thead>\n",
       "  <tbody>\n",
       "    <tr>\n",
       "      <th>0</th>\n",
       "      <td>12430</td>\n",
       "      <td>VJeae6e634f8479e0b6712780d5728f0afca964e64</td>\n",
       "      <td>VJ8375f7a9e68d59d39ae5113ce44ef920c56adb79_20:...</td>\n",
       "      <td>2021-01-01 20:50:08</td>\n",
       "      <td>veh_443_bus</td>\n",
       "    </tr>\n",
       "    <tr>\n",
       "      <th>1</th>\n",
       "      <td>12430</td>\n",
       "      <td>VJeae6e634f8479e0b6712780d5728f0afca964e64</td>\n",
       "      <td>VJf8c1b44c2d6396d5223bdc5d1ec70c9a17daafc1_21:...</td>\n",
       "      <td>2021-01-01 21:32:08</td>\n",
       "      <td>veh_452_bus</td>\n",
       "    </tr>\n",
       "    <tr>\n",
       "      <th>2</th>\n",
       "      <td>12430</td>\n",
       "      <td>VJeae6e634f8479e0b6712780d5728f0afca964e64</td>\n",
       "      <td>VJ5613941368b37ea4be1853f94b1a993f6a56dad7_22:...</td>\n",
       "      <td>2021-01-01 21:10:08</td>\n",
       "      <td>veh_439_bus</td>\n",
       "    </tr>\n",
       "    <tr>\n",
       "      <th>3</th>\n",
       "      <td>12430</td>\n",
       "      <td>VJeae6e634f8479e0b6712780d5728f0afca964e64</td>\n",
       "      <td>VJ53d627cc50ee4d371871f32182de9ba5247ec443_06:...</td>\n",
       "      <td>2021-01-01 06:35:08</td>\n",
       "      <td>veh_437_bus</td>\n",
       "    </tr>\n",
       "    <tr>\n",
       "      <th>4</th>\n",
       "      <td>12430</td>\n",
       "      <td>VJeae6e634f8479e0b6712780d5728f0afca964e64</td>\n",
       "      <td>VJc81124c0faec85bb098d18f9fb8005b15e83f999_05:...</td>\n",
       "      <td>2021-01-01 06:46:08</td>\n",
       "      <td>veh_442_bus</td>\n",
       "    </tr>\n",
       "  </tbody>\n",
       "</table>\n",
       "</div>"
      ],
      "text/plain": [
       "  service_id                                    route_id  \\\n",
       "0      12430  VJeae6e634f8479e0b6712780d5728f0afca964e64   \n",
       "1      12430  VJeae6e634f8479e0b6712780d5728f0afca964e64   \n",
       "2      12430  VJeae6e634f8479e0b6712780d5728f0afca964e64   \n",
       "3      12430  VJeae6e634f8479e0b6712780d5728f0afca964e64   \n",
       "4      12430  VJeae6e634f8479e0b6712780d5728f0afca964e64   \n",
       "\n",
       "                                             trip_id trip_departure_time  \\\n",
       "0  VJ8375f7a9e68d59d39ae5113ce44ef920c56adb79_20:... 2021-01-01 20:50:08   \n",
       "1  VJf8c1b44c2d6396d5223bdc5d1ec70c9a17daafc1_21:... 2021-01-01 21:32:08   \n",
       "2  VJ5613941368b37ea4be1853f94b1a993f6a56dad7_22:... 2021-01-01 21:10:08   \n",
       "3  VJ53d627cc50ee4d371871f32182de9ba5247ec443_06:... 2021-01-01 06:35:08   \n",
       "4  VJc81124c0faec85bb098d18f9fb8005b15e83f999_05:... 2021-01-01 06:46:08   \n",
       "\n",
       "    vehicle_id  \n",
       "0  veh_443_bus  \n",
       "1  veh_452_bus  \n",
       "2  veh_439_bus  \n",
       "3  veh_437_bus  \n",
       "4  veh_442_bus  "
      ]
     },
     "execution_count": 49,
     "metadata": {},
     "output_type": "execute_result"
    }
   ],
   "source": [
    "trips.head()"
   ]
  },
  {
   "cell_type": "markdown",
   "metadata": {},
   "source": [
    "Let's change all of the trip ids to something shorter"
   ]
  },
  {
   "cell_type": "code",
   "execution_count": 50,
   "metadata": {
    "ExecuteTime": {
     "end_time": "2021-03-31T10:57:12.522834Z",
     "start_time": "2021-03-31T10:57:12.499756Z"
    }
   },
   "outputs": [
    {
     "data": {
      "text/html": [
       "<div>\n",
       "<style scoped>\n",
       "    .dataframe tbody tr th:only-of-type {\n",
       "        vertical-align: middle;\n",
       "    }\n",
       "\n",
       "    .dataframe tbody tr th {\n",
       "        vertical-align: top;\n",
       "    }\n",
       "\n",
       "    .dataframe thead th {\n",
       "        text-align: right;\n",
       "    }\n",
       "</style>\n",
       "<table border=\"1\" class=\"dataframe\">\n",
       "  <thead>\n",
       "    <tr style=\"text-align: right;\">\n",
       "      <th></th>\n",
       "      <th>service_id</th>\n",
       "      <th>route_id</th>\n",
       "      <th>trip_id</th>\n",
       "      <th>trip_departure_time</th>\n",
       "      <th>vehicle_id</th>\n",
       "    </tr>\n",
       "  </thead>\n",
       "  <tbody>\n",
       "    <tr>\n",
       "      <th>0</th>\n",
       "      <td>12430</td>\n",
       "      <td>VJeae6e634f8479e0b6712780d5728f0afca964e64</td>\n",
       "      <td>trip_0</td>\n",
       "      <td>2021-01-01 20:50:08</td>\n",
       "      <td>veh_443_bus</td>\n",
       "    </tr>\n",
       "    <tr>\n",
       "      <th>1</th>\n",
       "      <td>12430</td>\n",
       "      <td>VJeae6e634f8479e0b6712780d5728f0afca964e64</td>\n",
       "      <td>trip_1</td>\n",
       "      <td>2021-01-01 21:32:08</td>\n",
       "      <td>veh_452_bus</td>\n",
       "    </tr>\n",
       "    <tr>\n",
       "      <th>2</th>\n",
       "      <td>12430</td>\n",
       "      <td>VJeae6e634f8479e0b6712780d5728f0afca964e64</td>\n",
       "      <td>trip_2</td>\n",
       "      <td>2021-01-01 21:10:08</td>\n",
       "      <td>veh_439_bus</td>\n",
       "    </tr>\n",
       "    <tr>\n",
       "      <th>3</th>\n",
       "      <td>12430</td>\n",
       "      <td>VJeae6e634f8479e0b6712780d5728f0afca964e64</td>\n",
       "      <td>trip_3</td>\n",
       "      <td>2021-01-01 06:35:08</td>\n",
       "      <td>veh_437_bus</td>\n",
       "    </tr>\n",
       "    <tr>\n",
       "      <th>4</th>\n",
       "      <td>12430</td>\n",
       "      <td>VJeae6e634f8479e0b6712780d5728f0afca964e64</td>\n",
       "      <td>trip_4</td>\n",
       "      <td>2021-01-01 06:46:08</td>\n",
       "      <td>veh_442_bus</td>\n",
       "    </tr>\n",
       "  </tbody>\n",
       "</table>\n",
       "</div>"
      ],
      "text/plain": [
       "  service_id                                    route_id trip_id  \\\n",
       "0      12430  VJeae6e634f8479e0b6712780d5728f0afca964e64  trip_0   \n",
       "1      12430  VJeae6e634f8479e0b6712780d5728f0afca964e64  trip_1   \n",
       "2      12430  VJeae6e634f8479e0b6712780d5728f0afca964e64  trip_2   \n",
       "3      12430  VJeae6e634f8479e0b6712780d5728f0afca964e64  trip_3   \n",
       "4      12430  VJeae6e634f8479e0b6712780d5728f0afca964e64  trip_4   \n",
       "\n",
       "  trip_departure_time   vehicle_id  \n",
       "0 2021-01-01 20:50:08  veh_443_bus  \n",
       "1 2021-01-01 21:32:08  veh_452_bus  \n",
       "2 2021-01-01 21:10:08  veh_439_bus  \n",
       "3 2021-01-01 06:35:08  veh_437_bus  \n",
       "4 2021-01-01 06:46:08  veh_442_bus  "
      ]
     },
     "execution_count": 50,
     "metadata": {},
     "output_type": "execute_result"
    }
   ],
   "source": [
    "trips['trip_id'] = 'trip_' + trips.index.to_series().astype(str)\n",
    "trips.head()"
   ]
  },
  {
   "cell_type": "markdown",
   "metadata": {},
   "source": [
    "You can `set_route_trips_dataframe` which takes this dataframe and applies changes to all route trips based on the data in the dataframe. This means you can generate this DataFrame as shown below, manipulate trips (delete them, add new ones), change their departure times or change their vehicle ids to be shared for differnt trips, perhaps on some temporal logic and as long as the dataframe has the same schema, you can use it to set new trips in the schedule. This will appear in the changelog as a route level modify event.\n",
    "\n",
    "Nb removing all trips of the same route from the dataframe will have no effect when being applied. If there is data in the dataframe for a route, all of its trips will be replaced by the data in the dataframe, and if there is no data for a route in the frame, no changes will be applied to that route (i.e. the trips attribute for routes missing from the dataframe will not be set as empty)."
   ]
  },
  {
   "cell_type": "code",
   "execution_count": 51,
   "metadata": {
    "ExecuteTime": {
     "end_time": "2021-03-31T10:57:12.656280Z",
     "start_time": "2021-03-31T10:57:12.527525Z"
    }
   },
   "outputs": [
    {
     "name": "stderr",
     "output_type": "stream",
     "text": [
      "2021-03-31 11:57:12,642 - Changed Route attributes for 68 routes\n"
     ]
    },
    {
     "data": {
      "text/html": [
       "<div>\n",
       "<style scoped>\n",
       "    .dataframe tbody tr th:only-of-type {\n",
       "        vertical-align: middle;\n",
       "    }\n",
       "\n",
       "    .dataframe tbody tr th {\n",
       "        vertical-align: top;\n",
       "    }\n",
       "\n",
       "    .dataframe thead th {\n",
       "        text-align: right;\n",
       "    }\n",
       "</style>\n",
       "<table border=\"1\" class=\"dataframe\">\n",
       "  <thead>\n",
       "    <tr style=\"text-align: right;\">\n",
       "      <th></th>\n",
       "      <th>trips::trip_id</th>\n",
       "    </tr>\n",
       "  </thead>\n",
       "  <tbody>\n",
       "    <tr>\n",
       "      <th>VJeae6e634f8479e0b6712780d5728f0afca964e64</th>\n",
       "      <td>[trip_0, trip_1, trip_2, trip_3, trip_4, trip_...</td>\n",
       "    </tr>\n",
       "    <tr>\n",
       "      <th>VJfc4917783c2ca3227789fa7c532c9adf47702095</th>\n",
       "      <td>[trip_22, trip_23, trip_24, trip_25, trip_26, ...</td>\n",
       "    </tr>\n",
       "    <tr>\n",
       "      <th>VJ24fe211d801738b556a39f815256d7f6bc544ec5</th>\n",
       "      <td>[trip_31, trip_32, trip_33, trip_34, trip_35, ...</td>\n",
       "    </tr>\n",
       "    <tr>\n",
       "      <th>VJ256e98df611ff48afe737ddc81cbcde82e4e81c8</th>\n",
       "      <td>[trip_65]</td>\n",
       "    </tr>\n",
       "    <tr>\n",
       "      <th>VJaa5ee0daec7529d7668c81fe7fac0c4ff545daea</th>\n",
       "      <td>[trip_66, trip_67, trip_68, trip_69, trip_70, ...</td>\n",
       "    </tr>\n",
       "    <tr>\n",
       "      <th>...</th>\n",
       "      <td>...</td>\n",
       "    </tr>\n",
       "    <tr>\n",
       "      <th>VJf8e38a73359b6cf743d8e35ee64ef1f7b7914daa</th>\n",
       "      <td>[trip_1514, trip_1515, trip_1516, trip_1517, t...</td>\n",
       "    </tr>\n",
       "    <tr>\n",
       "      <th>VJbf9d4fdb976223e6a026c0c669ed290418abefee</th>\n",
       "      <td>[trip_1526, trip_1527, trip_1528, trip_1529, t...</td>\n",
       "    </tr>\n",
       "    <tr>\n",
       "      <th>VJd9dbeefeca6d74ef2594a17514ebc08ee2d503b2</th>\n",
       "      <td>[trip_1532, trip_1533, trip_1534, trip_1535, t...</td>\n",
       "    </tr>\n",
       "    <tr>\n",
       "      <th>VJb08f8a2de01a4ef99d3b7fefd9022117ac307531</th>\n",
       "      <td>[trip_1547, trip_1548, trip_1549, trip_1550]</td>\n",
       "    </tr>\n",
       "    <tr>\n",
       "      <th>VJ85c23573d670bab5485618b0c5fddff3314efc89</th>\n",
       "      <td>[trip_1551, trip_1552, trip_1553, trip_1554, t...</td>\n",
       "    </tr>\n",
       "  </tbody>\n",
       "</table>\n",
       "<p>68 rows × 1 columns</p>\n",
       "</div>"
      ],
      "text/plain": [
       "                                                                               trips::trip_id\n",
       "VJeae6e634f8479e0b6712780d5728f0afca964e64  [trip_0, trip_1, trip_2, trip_3, trip_4, trip_...\n",
       "VJfc4917783c2ca3227789fa7c532c9adf47702095  [trip_22, trip_23, trip_24, trip_25, trip_26, ...\n",
       "VJ24fe211d801738b556a39f815256d7f6bc544ec5  [trip_31, trip_32, trip_33, trip_34, trip_35, ...\n",
       "VJ256e98df611ff48afe737ddc81cbcde82e4e81c8                                          [trip_65]\n",
       "VJaa5ee0daec7529d7668c81fe7fac0c4ff545daea  [trip_66, trip_67, trip_68, trip_69, trip_70, ...\n",
       "...                                                                                       ...\n",
       "VJf8e38a73359b6cf743d8e35ee64ef1f7b7914daa  [trip_1514, trip_1515, trip_1516, trip_1517, t...\n",
       "VJbf9d4fdb976223e6a026c0c669ed290418abefee  [trip_1526, trip_1527, trip_1528, trip_1529, t...\n",
       "VJd9dbeefeca6d74ef2594a17514ebc08ee2d503b2  [trip_1532, trip_1533, trip_1534, trip_1535, t...\n",
       "VJb08f8a2de01a4ef99d3b7fefd9022117ac307531       [trip_1547, trip_1548, trip_1549, trip_1550]\n",
       "VJ85c23573d670bab5485618b0c5fddff3314efc89  [trip_1551, trip_1552, trip_1553, trip_1554, t...\n",
       "\n",
       "[68 rows x 1 columns]"
      ]
     },
     "execution_count": 51,
     "metadata": {},
     "output_type": "execute_result"
    }
   ],
   "source": [
    "n.schedule.set_route_trips_dataframe(trips)\n",
    "n.schedule.route_attribute_data(keys=[{'trips': 'trip_id'}])"
   ]
  },
  {
   "cell_type": "markdown",
   "metadata": {},
   "source": [
    "### Applying changes using functions or mappings\n",
    "\n",
    "If you have some logic that can be written into a function of object's attributes, you can pass this to `apply_function_to_x` methods. You need to select `location`, which refers to the name of the attribute the result should be stored under. It can already exist and be overwritten. The function passed, is not expected to work with all objects. It will fail silently, only evaluating and generating outputs where possible."
   ]
  },
  {
   "cell_type": "code",
   "execution_count": 52,
   "metadata": {
    "ExecuteTime": {
     "end_time": "2021-03-31T10:57:12.688752Z",
     "start_time": "2021-03-31T10:57:12.663396Z"
    }
   },
   "outputs": [
    {
     "name": "stderr",
     "output_type": "stream",
     "text": [
      "2021-03-31 11:57:12,686 - Changed Stop attributes for 45 stops\n"
     ]
    }
   ],
   "source": [
    "from shapely.geometry import Point\n",
    "\n",
    "def add_shapely_geometry_points(stop_attribs):\n",
    "    return Point(stop_attribs['x'], stop_attribs['y'])\n",
    "\n",
    "n.schedule.apply_function_to_stops(add_shapely_geometry_points, location='geometry')"
   ]
  },
  {
   "cell_type": "code",
   "execution_count": 53,
   "metadata": {
    "ExecuteTime": {
     "end_time": "2021-03-31T10:57:12.709067Z",
     "start_time": "2021-03-31T10:57:12.692789Z"
    }
   },
   "outputs": [
    {
     "data": {
      "text/html": [
       "<div>\n",
       "<style scoped>\n",
       "    .dataframe tbody tr th:only-of-type {\n",
       "        vertical-align: middle;\n",
       "    }\n",
       "\n",
       "    .dataframe tbody tr th {\n",
       "        vertical-align: top;\n",
       "    }\n",
       "\n",
       "    .dataframe thead th {\n",
       "        text-align: right;\n",
       "    }\n",
       "</style>\n",
       "<table border=\"1\" class=\"dataframe\">\n",
       "  <thead>\n",
       "    <tr style=\"text-align: right;\">\n",
       "      <th></th>\n",
       "      <th>timestamp</th>\n",
       "      <th>change_event</th>\n",
       "      <th>object_type</th>\n",
       "      <th>old_id</th>\n",
       "      <th>new_id</th>\n",
       "      <th>old_attributes</th>\n",
       "      <th>new_attributes</th>\n",
       "      <th>diff</th>\n",
       "    </tr>\n",
       "  </thead>\n",
       "  <tbody>\n",
       "    <tr>\n",
       "      <th>136</th>\n",
       "      <td>2021-03-31 11:57:12</td>\n",
       "      <td>modify</td>\n",
       "      <td>stop</td>\n",
       "      <td>490000091G.link:1242</td>\n",
       "      <td>490000091G.link:1242</td>\n",
       "      <td>{'services': ['12430'], 'routes': ['VJ15419796...</td>\n",
       "      <td>{'services': ['12430'], 'routes': ['VJ15419796...</td>\n",
       "      <td>[(add, , [('geometry', &lt;shapely.geometry.point...</td>\n",
       "    </tr>\n",
       "    <tr>\n",
       "      <th>137</th>\n",
       "      <td>2021-03-31 11:57:12</td>\n",
       "      <td>modify</td>\n",
       "      <td>stop</td>\n",
       "      <td>490010531W.link:1867</td>\n",
       "      <td>490010531W.link:1867</td>\n",
       "      <td>{'services': ['14073'], 'routes': ['VJdbc28007...</td>\n",
       "      <td>{'services': ['14073'], 'routes': ['VJdbc28007...</td>\n",
       "      <td>[(add, , [('geometry', &lt;shapely.geometry.point...</td>\n",
       "    </tr>\n",
       "  </tbody>\n",
       "</table>\n",
       "</div>"
      ],
      "text/plain": [
       "               timestamp change_event object_type                old_id  \\\n",
       "136  2021-03-31 11:57:12       modify        stop  490000091G.link:1242   \n",
       "137  2021-03-31 11:57:12       modify        stop  490010531W.link:1867   \n",
       "\n",
       "                   new_id                                     old_attributes  \\\n",
       "136  490000091G.link:1242  {'services': ['12430'], 'routes': ['VJ15419796...   \n",
       "137  490010531W.link:1867  {'services': ['14073'], 'routes': ['VJdbc28007...   \n",
       "\n",
       "                                        new_attributes  \\\n",
       "136  {'services': ['12430'], 'routes': ['VJ15419796...   \n",
       "137  {'services': ['14073'], 'routes': ['VJdbc28007...   \n",
       "\n",
       "                                                  diff  \n",
       "136  [(add, , [('geometry', <shapely.geometry.point...  \n",
       "137  [(add, , [('geometry', <shapely.geometry.point...  "
      ]
     },
     "execution_count": 53,
     "metadata": {},
     "output_type": "execute_result"
    }
   ],
   "source": [
    "n.schedule.change_log().tail(2)"
   ]
  },
  {
   "cell_type": "code",
   "execution_count": 54,
   "metadata": {
    "ExecuteTime": {
     "end_time": "2021-03-31T10:57:12.740531Z",
     "start_time": "2021-03-31T10:57:12.718435Z"
    }
   },
   "outputs": [
    {
     "data": {
      "text/html": [
       "<div>\n",
       "<style scoped>\n",
       "    .dataframe tbody tr th:only-of-type {\n",
       "        vertical-align: middle;\n",
       "    }\n",
       "\n",
       "    .dataframe tbody tr th {\n",
       "        vertical-align: top;\n",
       "    }\n",
       "\n",
       "    .dataframe thead th {\n",
       "        text-align: right;\n",
       "    }\n",
       "</style>\n",
       "<table border=\"1\" class=\"dataframe\">\n",
       "  <thead>\n",
       "    <tr style=\"text-align: right;\">\n",
       "      <th></th>\n",
       "      <th>name</th>\n",
       "      <th>x</th>\n",
       "      <th>y</th>\n",
       "      <th>geometry</th>\n",
       "    </tr>\n",
       "  </thead>\n",
       "  <tbody>\n",
       "    <tr>\n",
       "      <th>490000235X.link:834</th>\n",
       "      <td>Tottenham Court Road Station (Stop X)</td>\n",
       "      <td>529981.795880</td>\n",
       "      <td>181412.097576</td>\n",
       "      <td>POINT (529981.7958802709 181412.0975758662)</td>\n",
       "    </tr>\n",
       "    <tr>\n",
       "      <th>490000235YB.link:574</th>\n",
       "      <td>Oxford Street  Soho Street (Stop YB)</td>\n",
       "      <td>529570.781323</td>\n",
       "      <td>181336.281593</td>\n",
       "      <td>POINT (529570.7813227688 181336.2815925331)</td>\n",
       "    </tr>\n",
       "    <tr>\n",
       "      <th>490014214HE.link:3154</th>\n",
       "      <td>Wardour Street (Stop OM)</td>\n",
       "      <td>529477.750156</td>\n",
       "      <td>181314.437043</td>\n",
       "      <td>POINT (529477.7501560802 181314.4370430721)</td>\n",
       "    </tr>\n",
       "    <tr>\n",
       "      <th>490010689KB.link:981</th>\n",
       "      <td>Great Titchfield Street  Oxford Circus Station...</td>\n",
       "      <td>529166.734973</td>\n",
       "      <td>181256.336723</td>\n",
       "      <td>POINT (529166.7349732723 181256.3367228433)</td>\n",
       "    </tr>\n",
       "    <tr>\n",
       "      <th>490000235P.link:15</th>\n",
       "      <td>Tottenham Court Road Station  New Oxford Stree...</td>\n",
       "      <td>529967.770031</td>\n",
       "      <td>181420.307095</td>\n",
       "      <td>POINT (529967.770031479 181420.3070953883)</td>\n",
       "    </tr>\n",
       "  </tbody>\n",
       "</table>\n",
       "</div>"
      ],
      "text/plain": [
       "                                                                    name  \\\n",
       "490000235X.link:834                Tottenham Court Road Station (Stop X)   \n",
       "490000235YB.link:574                Oxford Street  Soho Street (Stop YB)   \n",
       "490014214HE.link:3154                           Wardour Street (Stop OM)   \n",
       "490010689KB.link:981   Great Titchfield Street  Oxford Circus Station...   \n",
       "490000235P.link:15     Tottenham Court Road Station  New Oxford Stree...   \n",
       "\n",
       "                                   x              y  \\\n",
       "490000235X.link:834    529981.795880  181412.097576   \n",
       "490000235YB.link:574   529570.781323  181336.281593   \n",
       "490014214HE.link:3154  529477.750156  181314.437043   \n",
       "490010689KB.link:981   529166.734973  181256.336723   \n",
       "490000235P.link:15     529967.770031  181420.307095   \n",
       "\n",
       "                                                          geometry  \n",
       "490000235X.link:834    POINT (529981.7958802709 181412.0975758662)  \n",
       "490000235YB.link:574   POINT (529570.7813227688 181336.2815925331)  \n",
       "490014214HE.link:3154  POINT (529477.7501560802 181314.4370430721)  \n",
       "490010689KB.link:981   POINT (529166.7349732723 181256.3367228433)  \n",
       "490000235P.link:15      POINT (529967.770031479 181420.3070953883)  "
      ]
     },
     "execution_count": 54,
     "metadata": {},
     "output_type": "execute_result"
    }
   ],
   "source": [
    "n.schedule.stop_attribute_data(keys=['name', 'x', 'y', 'geometry']).head()"
   ]
  },
  {
   "cell_type": "code",
   "execution_count": 55,
   "metadata": {
    "ExecuteTime": {
     "end_time": "2021-03-31T10:57:13.107522Z",
     "start_time": "2021-03-31T10:57:12.746850Z"
    }
   },
   "outputs": [
    {
     "data": {
      "text/plain": [
       "<matplotlib.axes._subplots.AxesSubplot at 0x11a00eba8>"
      ]
     },
     "execution_count": 55,
     "metadata": {},
     "output_type": "execute_result"
    },
    {
     "data": {
      "image/png": "[encoded data removed]",
      "text/plain": [
       "<Figure size 432x288 with 1 Axes>"
      ]
     },
     "metadata": {
      "needs_background": "light"
     },
     "output_type": "display_data"
    }
   ],
   "source": [
    "from geopandas import GeoDataFrame\n",
    "GeoDataFrame(n.schedule.stop_attribute_data(keys='geometry')).plot()"
   ]
  },
  {
   "cell_type": "code",
   "execution_count": 56,
   "metadata": {
    "ExecuteTime": {
     "end_time": "2021-03-31T10:57:13.124391Z",
     "start_time": "2021-03-31T10:57:13.115846Z"
    }
   },
   "outputs": [
    {
     "data": {
      "text/plain": [
       "{'id': '490000235YB.link:574',\n",
       " 'x': 529570.7813227688,\n",
       " 'y': 181336.2815925331,\n",
       " 'epsg': 'epsg:27700',\n",
       " 'name': 'Oxford Street  Soho Street (Stop YB)',\n",
       " 'lat': -0.13404398709291862,\n",
       " 'lon': 51.51609803324078,\n",
       " 's2_id': 2507584474601580133,\n",
       " 'additional_attributes': {'geometry',\n",
       "  'isBlocking',\n",
       "  'linkRefId',\n",
       "  'new_attribute'},\n",
       " 'linkRefId': '574',\n",
       " 'isBlocking': 'false',\n",
       " 'new_attribute': 'hello!',\n",
       " 'geometry': <shapely.geometry.point.Point at 0x11a0447b8>}"
      ]
     },
     "execution_count": 56,
     "metadata": {},
     "output_type": "execute_result"
    }
   ],
   "source": [
    "n.schedule.stop('490000235YB.link:574').__dict__"
   ]
  },
  {
   "cell_type": "markdown",
   "metadata": {},
   "source": [
    "For this let's say we want to reduce the number of trips. For simplicity of demonstration we don't have about which trips we delete, but logic around timings of trips can be added in this function, as the trips are saved as one of routes attributes (check out the summary methods)"
   ]
  },
  {
   "cell_type": "code",
   "execution_count": 57,
   "metadata": {
    "ExecuteTime": {
     "end_time": "2021-03-31T10:57:13.189264Z",
     "start_time": "2021-03-31T10:57:13.130022Z"
    }
   },
   "outputs": [
    {
     "data": {
      "text/plain": [
       "1562"
      ]
     },
     "execution_count": 57,
     "metadata": {},
     "output_type": "execute_result"
    }
   ],
   "source": [
    "# before\n",
    "len(n.schedule.route_trips_to_dataframe())"
   ]
  },
  {
   "cell_type": "code",
   "execution_count": 58,
   "metadata": {
    "ExecuteTime": {
     "end_time": "2021-03-31T10:57:13.250302Z",
     "start_time": "2021-03-31T10:57:13.194515Z"
    }
   },
   "outputs": [
    {
     "name": "stderr",
     "output_type": "stream",
     "text": [
      "2021-03-31 11:57:13,246 - Changed Route attributes for 68 routes\n"
     ]
    }
   ],
   "source": [
    "def reduce_trips(attribs):\n",
    "    # just delete any other trip\n",
    "    attribs['trips']['trip_id'] = attribs['trips']['trip_id'][::2]\n",
    "    attribs['trips']['trip_departure_time'] = attribs['trips']['trip_departure_time'][::2]\n",
    "    attribs['trips']['vehicle_id'] = attribs['trips']['vehicle_id'][::2]\n",
    "    return attribs['trips']\n",
    "\n",
    "n.schedule.apply_function_to_routes(reduce_trips, 'trips')"
   ]
  },
  {
   "cell_type": "code",
   "execution_count": 59,
   "metadata": {
    "ExecuteTime": {
     "end_time": "2021-03-31T10:57:13.296863Z",
     "start_time": "2021-03-31T10:57:13.256360Z"
    }
   },
   "outputs": [
    {
     "data": {
      "text/plain": [
       "792"
      ]
     },
     "execution_count": 59,
     "metadata": {},
     "output_type": "execute_result"
    }
   ],
   "source": [
    "# after\n",
    "len(n.schedule.route_trips_to_dataframe())"
   ]
  },
  {
   "cell_type": "markdown",
   "metadata": {},
   "source": [
    "Note, this could also be done using the `route_trips_to_dataframe` and `set_route_trips_dataframe` mentioned above.\n",
    "\n",
    "Let's give an example of using a mapping. We can re-use the service name DataFrame we generated above."
   ]
  },
  {
   "cell_type": "code",
   "execution_count": 60,
   "metadata": {
    "ExecuteTime": {
     "end_time": "2021-03-31T10:57:13.317904Z",
     "start_time": "2021-03-31T10:57:13.305673Z"
    }
   },
   "outputs": [
    {
     "data": {
      "text/html": [
       "<div>\n",
       "<style scoped>\n",
       "    .dataframe tbody tr th:only-of-type {\n",
       "        vertical-align: middle;\n",
       "    }\n",
       "\n",
       "    .dataframe tbody tr th {\n",
       "        vertical-align: top;\n",
       "    }\n",
       "\n",
       "    .dataframe thead th {\n",
       "        text-align: right;\n",
       "    }\n",
       "</style>\n",
       "<table border=\"1\" class=\"dataframe\">\n",
       "  <thead>\n",
       "    <tr style=\"text-align: right;\">\n",
       "      <th></th>\n",
       "      <th>name</th>\n",
       "      <th>new_name</th>\n",
       "    </tr>\n",
       "  </thead>\n",
       "  <tbody>\n",
       "    <tr>\n",
       "      <th>18915</th>\n",
       "      <td>Service_N5</td>\n",
       "      <td>Brand_new_nameService_N5</td>\n",
       "    </tr>\n",
       "    <tr>\n",
       "      <th>14134</th>\n",
       "      <td>Service_98</td>\n",
       "      <td>Brand_new_nameService_98</td>\n",
       "    </tr>\n",
       "    <tr>\n",
       "      <th>17732</th>\n",
       "      <td>Service_N20</td>\n",
       "      <td>Brand_new_nameService_N20</td>\n",
       "    </tr>\n",
       "    <tr>\n",
       "      <th>18853</th>\n",
       "      <td>Service_N8</td>\n",
       "      <td>Brand_new_nameService_N8</td>\n",
       "    </tr>\n",
       "    <tr>\n",
       "      <th>15660</th>\n",
       "      <td>Service_113</td>\n",
       "      <td>Brand_new_nameService_113</td>\n",
       "    </tr>\n",
       "  </tbody>\n",
       "</table>\n",
       "</div>"
      ],
      "text/plain": [
       "              name                   new_name\n",
       "18915   Service_N5   Brand_new_nameService_N5\n",
       "14134   Service_98   Brand_new_nameService_98\n",
       "17732  Service_N20  Brand_new_nameService_N20\n",
       "18853   Service_N8   Brand_new_nameService_N8\n",
       "15660  Service_113  Brand_new_nameService_113"
      ]
     },
     "execution_count": 60,
     "metadata": {},
     "output_type": "execute_result"
    }
   ],
   "source": [
    "df['new_name'] = 'Brand_new_name' + df['name']\n",
    "df.head()"
   ]
  },
  {
   "cell_type": "code",
   "execution_count": 61,
   "metadata": {
    "ExecuteTime": {
     "end_time": "2021-03-31T10:57:13.333043Z",
     "start_time": "2021-03-31T10:57:13.324431Z"
    }
   },
   "outputs": [
    {
     "data": {
      "text/plain": [
       "{'Service_N5': 'Brand_new_nameService_N5',\n",
       " 'Service_98': 'Brand_new_nameService_98',\n",
       " 'Service_N20': 'Brand_new_nameService_N20',\n",
       " 'Service_N8': 'Brand_new_nameService_N8',\n",
       " 'Service_113': 'Brand_new_nameService_113',\n",
       " 'Service_205': 'Brand_new_nameService_205',\n",
       " 'Service_94': 'Brand_new_nameService_94',\n",
       " 'Service_134': 'Brand_new_nameService_134',\n",
       " 'Service_N55': 'Brand_new_nameService_N55'}"
      ]
     },
     "execution_count": 61,
     "metadata": {},
     "output_type": "execute_result"
    }
   ],
   "source": [
    "name_map = dict(zip(df['name'], df['new_name']))\n",
    "name_map"
   ]
  },
  {
   "cell_type": "markdown",
   "metadata": {},
   "source": [
    "In this case, `location` refers to the attribute to be mapped."
   ]
  },
  {
   "cell_type": "code",
   "execution_count": 62,
   "metadata": {
    "ExecuteTime": {
     "end_time": "2021-03-31T10:57:13.350952Z",
     "start_time": "2021-03-31T10:57:13.340333Z"
    }
   },
   "outputs": [
    {
     "name": "stderr",
     "output_type": "stream",
     "text": [
      "2021-03-31 11:57:13,348 - Changed Service attributes for 9 services\n"
     ]
    }
   ],
   "source": [
    "n.schedule.apply_function_to_services(name_map, location='name')"
   ]
  },
  {
   "cell_type": "code",
   "execution_count": 63,
   "metadata": {
    "ExecuteTime": {
     "end_time": "2021-03-31T10:57:13.379673Z",
     "start_time": "2021-03-31T10:57:13.355553Z"
    }
   },
   "outputs": [
    {
     "data": {
      "text/html": [
       "<div>\n",
       "<style scoped>\n",
       "    .dataframe tbody tr th:only-of-type {\n",
       "        vertical-align: middle;\n",
       "    }\n",
       "\n",
       "    .dataframe tbody tr th {\n",
       "        vertical-align: top;\n",
       "    }\n",
       "\n",
       "    .dataframe thead th {\n",
       "        text-align: right;\n",
       "    }\n",
       "</style>\n",
       "<table border=\"1\" class=\"dataframe\">\n",
       "  <thead>\n",
       "    <tr style=\"text-align: right;\">\n",
       "      <th></th>\n",
       "      <th>timestamp</th>\n",
       "      <th>change_event</th>\n",
       "      <th>object_type</th>\n",
       "      <th>old_id</th>\n",
       "      <th>new_id</th>\n",
       "      <th>old_attributes</th>\n",
       "      <th>new_attributes</th>\n",
       "      <th>diff</th>\n",
       "    </tr>\n",
       "  </thead>\n",
       "  <tbody>\n",
       "    <tr>\n",
       "      <th>210</th>\n",
       "      <td>2021-03-31 11:57:13</td>\n",
       "      <td>modify</td>\n",
       "      <td>service</td>\n",
       "      <td>15660</td>\n",
       "      <td>15660</td>\n",
       "      <td>{'id': '15660', 'name': 'Service_113'}</td>\n",
       "      <td>{'id': '15660', 'name': 'Brand_new_nameService...</td>\n",
       "      <td>[(change, name, (Service_113, Brand_new_nameSe...</td>\n",
       "    </tr>\n",
       "    <tr>\n",
       "      <th>211</th>\n",
       "      <td>2021-03-31 11:57:13</td>\n",
       "      <td>modify</td>\n",
       "      <td>service</td>\n",
       "      <td>12430</td>\n",
       "      <td>12430</td>\n",
       "      <td>{'id': '12430', 'name': 'Service_205'}</td>\n",
       "      <td>{'id': '12430', 'name': 'Brand_new_nameService...</td>\n",
       "      <td>[(change, name, (Service_205, Brand_new_nameSe...</td>\n",
       "    </tr>\n",
       "    <tr>\n",
       "      <th>212</th>\n",
       "      <td>2021-03-31 11:57:13</td>\n",
       "      <td>modify</td>\n",
       "      <td>service</td>\n",
       "      <td>14073</td>\n",
       "      <td>14073</td>\n",
       "      <td>{'id': '14073', 'name': 'Service_94'}</td>\n",
       "      <td>{'id': '14073', 'name': 'Brand_new_nameService...</td>\n",
       "      <td>[(change, name, (Service_94, Brand_new_nameSer...</td>\n",
       "    </tr>\n",
       "    <tr>\n",
       "      <th>213</th>\n",
       "      <td>2021-03-31 11:57:13</td>\n",
       "      <td>modify</td>\n",
       "      <td>service</td>\n",
       "      <td>15234</td>\n",
       "      <td>15234</td>\n",
       "      <td>{'id': '15234', 'name': 'Service_134'}</td>\n",
       "      <td>{'id': '15234', 'name': 'Brand_new_nameService...</td>\n",
       "      <td>[(change, name, (Service_134, Brand_new_nameSe...</td>\n",
       "    </tr>\n",
       "    <tr>\n",
       "      <th>214</th>\n",
       "      <td>2021-03-31 11:57:13</td>\n",
       "      <td>modify</td>\n",
       "      <td>service</td>\n",
       "      <td>20274</td>\n",
       "      <td>20274</td>\n",
       "      <td>{'id': '20274', 'name': 'Service_N55'}</td>\n",
       "      <td>{'id': '20274', 'name': 'Brand_new_nameService...</td>\n",
       "      <td>[(change, name, (Service_N55, Brand_new_nameSe...</td>\n",
       "    </tr>\n",
       "  </tbody>\n",
       "</table>\n",
       "</div>"
      ],
      "text/plain": [
       "               timestamp change_event object_type old_id new_id  \\\n",
       "210  2021-03-31 11:57:13       modify     service  15660  15660   \n",
       "211  2021-03-31 11:57:13       modify     service  12430  12430   \n",
       "212  2021-03-31 11:57:13       modify     service  14073  14073   \n",
       "213  2021-03-31 11:57:13       modify     service  15234  15234   \n",
       "214  2021-03-31 11:57:13       modify     service  20274  20274   \n",
       "\n",
       "                             old_attributes  \\\n",
       "210  {'id': '15660', 'name': 'Service_113'}   \n",
       "211  {'id': '12430', 'name': 'Service_205'}   \n",
       "212   {'id': '14073', 'name': 'Service_94'}   \n",
       "213  {'id': '15234', 'name': 'Service_134'}   \n",
       "214  {'id': '20274', 'name': 'Service_N55'}   \n",
       "\n",
       "                                        new_attributes  \\\n",
       "210  {'id': '15660', 'name': 'Brand_new_nameService...   \n",
       "211  {'id': '12430', 'name': 'Brand_new_nameService...   \n",
       "212  {'id': '14073', 'name': 'Brand_new_nameService...   \n",
       "213  {'id': '15234', 'name': 'Brand_new_nameService...   \n",
       "214  {'id': '20274', 'name': 'Brand_new_nameService...   \n",
       "\n",
       "                                                  diff  \n",
       "210  [(change, name, (Service_113, Brand_new_nameSe...  \n",
       "211  [(change, name, (Service_205, Brand_new_nameSe...  \n",
       "212  [(change, name, (Service_94, Brand_new_nameSer...  \n",
       "213  [(change, name, (Service_134, Brand_new_nameSe...  \n",
       "214  [(change, name, (Service_N55, Brand_new_nameSe...  "
      ]
     },
     "execution_count": 63,
     "metadata": {},
     "output_type": "execute_result"
    }
   ],
   "source": [
    "n.schedule.change_log().tail()"
   ]
  }
 ],
 "metadata": {
  "kernelspec": {
   "display_name": "Python (genet)",
   "language": "python",
   "name": "genet"
  },
  "language_info": {
   "codemirror_mode": {
    "name": "ipython",
    "version": 3
   },
   "file_extension": ".py",
   "mimetype": "text/x-python",
   "name": "python",
   "nbconvert_exporter": "python",
   "pygments_lexer": "ipython3",
   "version": "3.7.11"
  },
  "latex_envs": {
   "LaTeX_envs_menu_present": true,
   "autoclose": true,
   "autocomplete": true,
   "bibliofile": "biblio.bib",
   "cite_by": "apalike",
   "current_citInitial": 1,
   "eqLabelWithNumbers": true,
   "eqNumInitial": 1,
   "hotkeys": {
    "equation": "Ctrl-E",
    "itemize": "Ctrl-I"
   },
   "labels_anchors": false,
   "latex_user_defs": false,
   "report_style_numbering": false,
   "user_envs_cfg": false
  },
  "toc": {
   "base_numbering": 1,
   "nav_menu": {},
   "number_sections": true,
   "sideBar": true,
   "skip_h1_title": false,
   "title_cell": "Table of Contents",
   "title_sidebar": "Contents",
   "toc_cell": false,
   "toc_position": {},
   "toc_section_display": true,
   "toc_window_display": false
  },
  "varInspector": {
   "cols": {
    "lenName": 16,
    "lenType": 16,
    "lenVar": 40
   },
   "kernels_config": {
    "python": {
     "delete_cmd_postfix": "",
     "delete_cmd_prefix": "del ",
     "library": "var_list.py",
     "varRefreshCmd": "print(var_dic_list())"
    },
    "r": {
     "delete_cmd_postfix": ") ",
     "delete_cmd_prefix": "rm(",
     "library": "var_list.r",
     "varRefreshCmd": "cat(var_dic_list()) "
    }
   },
   "types_to_exclude": [
    "module",
    "function",
    "builtin_function_or_method",
    "instance",
    "_Feature"
   ],
   "window_display": false
  }
 },
 "nbformat": 4,
 "nbformat_minor": 2
}
