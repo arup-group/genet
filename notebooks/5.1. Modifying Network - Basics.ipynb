{
 "cells": [
  {
   "cell_type": "markdown",
   "metadata": {},
   "source": [
    "# Modifying the `Network` object\n",
    "`GeNet` supports some simple modifications like adding, reindexing and removing nodes and links and some involved modifications like changing the data stored under nodes or links. All of these changes get recorded in `n.change_log`."
   ]
  },
  {
   "cell_type": "code",
   "execution_count": 1,
   "metadata": {
    "ExecuteTime": {
     "end_time": "2021-02-12T11:47:09.750235Z",
     "start_time": "2021-02-12T11:47:04.642183Z"
    }
   },
   "outputs": [
    {
     "data": {
      "text/plain": [
       "<Network instance at 4380136840: with \n",
       "graph: Name: Network graph\n",
       "Type: MultiDiGraph\n",
       "Number of nodes: 1662\n",
       "Number of edges: 3166\n",
       "Average in degree:   1.9049\n",
       "Average out degree:   1.9049 and \n",
       "schedule Schedule:\n",
       "Number of services: 9\n",
       "Number of routes: 68\n",
       "Number of stops: 45"
      ]
     },
     "execution_count": 1,
     "metadata": {},
     "output_type": "execute_result"
    }
   ],
   "source": [
    "# read example network\n",
    "import pandas as pd\n",
    "from genet import Network\n",
    "import os\n",
    "\n",
    "n = Network('epsg:27700')\n",
    "path_to_matsim_network = '../example_data/pt2matsim_network'\n",
    "n.read_matsim_network(os.path.join(path_to_matsim_network, 'network.xml'))\n",
    "n.read_matsim_schedule(os.path.join(path_to_matsim_network, 'schedule.xml'))\n",
    "n"
   ]
  },
  {
   "cell_type": "markdown",
   "metadata": {},
   "source": [
    "## Adding nodes/links"
   ]
  },
  {
   "cell_type": "code",
   "execution_count": 2,
   "metadata": {
    "ExecuteTime": {
     "end_time": "2021-02-12T11:47:09.771391Z",
     "start_time": "2021-02-12T11:47:09.753768Z"
    }
   },
   "outputs": [
    {
     "name": "stderr",
     "output_type": "stream",
     "text": [
      "2021-02-12 11:47:09,766 - Added Link with index proposed_index, from node:4356572310 to node:5811263955, under multi-index:1, and data={'from': '4356572310', 'to': '5811263955', 'id': 'proposed_index'}\n"
     ]
    },
    {
     "data": {
      "text/plain": [
       "'proposed_index'"
      ]
     },
     "execution_count": 2,
     "metadata": {},
     "output_type": "execute_result"
    }
   ],
   "source": [
    "n.add_link(link_id='proposed_index', u='4356572310', v='5811263955')"
   ]
  },
  {
   "cell_type": "code",
   "execution_count": 3,
   "metadata": {
    "ExecuteTime": {
     "end_time": "2021-02-12T11:47:09.787175Z",
     "start_time": "2021-02-12T11:47:09.775419Z"
    }
   },
   "outputs": [
    {
     "name": "stderr",
     "output_type": "stream",
     "text": [
      "2021-02-12 11:47:09,783 - Added Node with index `proposed_index` and data={'data': 'some_data'}\n"
     ]
    },
    {
     "data": {
      "text/plain": [
       "'proposed_index'"
      ]
     },
     "execution_count": 3,
     "metadata": {},
     "output_type": "execute_result"
    }
   ],
   "source": [
    "n.add_node(node='proposed_index', attribs={'data':'some_data'})"
   ]
  },
  {
   "cell_type": "markdown",
   "metadata": {},
   "source": [
    "The index passed is only a proposition. If a node or link under this link exists, a new, unique index will be generated."
   ]
  },
  {
   "cell_type": "code",
   "execution_count": 4,
   "metadata": {
    "ExecuteTime": {
     "end_time": "2021-02-12T11:47:09.824063Z",
     "start_time": "2021-02-12T11:47:09.796687Z"
    }
   },
   "outputs": [
    {
     "name": "stderr",
     "output_type": "stream",
     "text": [
      "2021-02-12 11:47:09,806 - Generated 1 link ids.\n",
      "2021-02-12 11:47:09,807 - Generated link id 0.\n",
      "2021-02-12 11:47:09,811 - `proposed_index` already exists. Generated a new unique_index: `0`\n",
      "2021-02-12 11:47:09,821 - Added Link with index 0, from node:4356572310 to node:5811263955, under multi-index:2, and data={'from': '4356572310', 'to': '5811263955', 'id': '0'}\n"
     ]
    }
   ],
   "source": [
    "actual_link_id_added = n.add_link(link_id='proposed_index', u='4356572310', v='5811263955')"
   ]
  },
  {
   "cell_type": "markdown",
   "metadata": {},
   "source": [
    "## Reindexing\n",
    "\n",
    "To reindex a node or link:"
   ]
  },
  {
   "cell_type": "code",
   "execution_count": 5,
   "metadata": {
    "ExecuteTime": {
     "end_time": "2021-02-12T11:47:10.010412Z",
     "start_time": "2021-02-12T11:47:09.826281Z"
    }
   },
   "outputs": [
    {
     "name": "stderr",
     "output_type": "stream",
     "text": [
      "2021-02-12 11:47:09,906 - Changed Link attributes for 0 links\n",
      "2021-02-12 11:47:09,954 - Changed Link attributes for 0 links\n",
      "2021-02-12 11:47:09,965 - Changed Node attributes under index: proposed_index\n",
      "2021-02-12 11:47:10,006 - Changed Node index from proposed_index to another_index\n"
     ]
    }
   ],
   "source": [
    "n.reindex_node('proposed_index', 'another_index')"
   ]
  },
  {
   "cell_type": "code",
   "execution_count": 6,
   "metadata": {
    "ExecuteTime": {
     "end_time": "2021-02-12T11:47:10.033043Z",
     "start_time": "2021-02-12T11:47:10.014040Z"
    }
   },
   "outputs": [
    {
     "name": "stderr",
     "output_type": "stream",
     "text": [
      "2021-02-12 11:47:10,027 - Changed Link attributes under index: proposed_index\n",
      "2021-02-12 11:47:10,028 - Changed Link index from proposed_index to another_index\n"
     ]
    }
   ],
   "source": [
    "n.reindex_link('proposed_index', 'another_index')"
   ]
  },
  {
   "cell_type": "markdown",
   "metadata": {},
   "source": [
    "## Removing nodes/links\n",
    "\n",
    "To remove a link or node:"
   ]
  },
  {
   "cell_type": "code",
   "execution_count": 7,
   "metadata": {
    "ExecuteTime": {
     "end_time": "2021-02-12T11:47:10.046930Z",
     "start_time": "2021-02-12T11:47:10.037296Z"
    }
   },
   "outputs": [
    {
     "name": "stderr",
     "output_type": "stream",
     "text": [
      "2021-02-12 11:47:10,040 - Removed 2 links\n"
     ]
    }
   ],
   "source": [
    "n.remove_links(['another_index', actual_link_id_added])"
   ]
  },
  {
   "cell_type": "code",
   "execution_count": 8,
   "metadata": {
    "ExecuteTime": {
     "end_time": "2021-02-12T11:47:10.061641Z",
     "start_time": "2021-02-12T11:47:10.050089Z"
    }
   },
   "outputs": [
    {
     "name": "stderr",
     "output_type": "stream",
     "text": [
      "2021-02-12 11:47:10,058 - Removed Node under index: another_index\n"
     ]
    }
   ],
   "source": [
    "n.remove_node('another_index')"
   ]
  },
  {
   "cell_type": "markdown",
   "metadata": {},
   "source": [
    "## Modifying data stored on nodes or edges:\n",
    "\n",
    "Let's say you have extracted `genet.Network` link ids of interest (See Section on Using Network - Accessing Data) and now you want to make changes to the network. Let's make changes to the nested OSM data stored on the links. We will replace the highway tags from `'primary'` to `'SOMETHING'`."
   ]
  },
  {
   "cell_type": "code",
   "execution_count": 9,
   "metadata": {
    "ExecuteTime": {
     "end_time": "2021-02-12T11:47:10.101419Z",
     "start_time": "2021-02-12T11:47:10.064569Z"
    }
   },
   "outputs": [
    {
     "data": {
      "text/plain": [
       "['1007', '1008', '1023', '1024', '103']"
      ]
     },
     "execution_count": 9,
     "metadata": {},
     "output_type": "execute_result"
    }
   ],
   "source": [
    "from genet import graph_operations\n",
    "\n",
    "links = n.extract_links_on_edge_attributes(\n",
    "    conditions= {'attributes': {'osm:way:highway': {'text': 'primary'}}},\n",
    ")\n",
    "\n",
    "links[:5]"
   ]
  },
  {
   "cell_type": "code",
   "execution_count": 10,
   "metadata": {
    "ExecuteTime": {
     "end_time": "2021-02-12T11:47:10.111139Z",
     "start_time": "2021-02-12T11:47:10.102935Z"
    }
   },
   "outputs": [
    {
     "data": {
      "text/plain": [
       "{'id': '1007',\n",
       " 'from': '4356572310',\n",
       " 'to': '5811263955',\n",
       " 'freespeed': 22.22222222222222,\n",
       " 'capacity': 3000.0,\n",
       " 'permlanes': 2.0,\n",
       " 'oneway': '1',\n",
       " 'modes': {'car'},\n",
       " 's2_from': 5221390723045407809,\n",
       " 's2_to': 5221390723040504387,\n",
       " 'attributes': {'osm:way:highway': {'name': 'osm:way:highway',\n",
       "   'class': 'java.lang.String',\n",
       "   'text': 'primary'},\n",
       "  'osm:way:id': {'name': 'osm:way:id',\n",
       "   'class': 'java.lang.Long',\n",
       "   'text': '589660342'},\n",
       "  'osm:way:lanes': {'name': 'osm:way:lanes',\n",
       "   'class': 'java.lang.String',\n",
       "   'text': '2'},\n",
       "  'osm:way:name': {'name': 'osm:way:name',\n",
       "   'class': 'java.lang.String',\n",
       "   'text': 'Shaftesbury Avenue'},\n",
       "  'osm:way:oneway': {'name': 'osm:way:oneway',\n",
       "   'class': 'java.lang.String',\n",
       "   'text': 'yes'}},\n",
       " 'length': 13.941905154249884}"
      ]
     },
     "execution_count": 10,
     "metadata": {},
     "output_type": "execute_result"
    }
   ],
   "source": [
    "n.link(links[0])"
   ]
  },
  {
   "cell_type": "markdown",
   "metadata": {
    "ExecuteTime": {
     "end_time": "2020-12-17T13:55:45.778595Z",
     "start_time": "2020-12-17T13:55:45.772735Z"
    }
   },
   "source": [
    "We create a dictionary which maps same changes to all links in the list using:\n",
    "\n",
    "```python\n",
    "    {link_id: {'attributes': {'osm:way:highway': {'text': 'SOMETHING'}}} for link_id in links}\n",
    "```"
   ]
  },
  {
   "cell_type": "code",
   "execution_count": 11,
   "metadata": {
    "ExecuteTime": {
     "end_time": "2021-02-12T11:47:10.353688Z",
     "start_time": "2021-02-12T11:47:10.116531Z"
    }
   },
   "outputs": [
    {
     "name": "stderr",
     "output_type": "stream",
     "text": [
      "2021-02-12 11:47:10,342 - Changed Link attributes for 619 links\n"
     ]
    }
   ],
   "source": [
    "n.apply_attributes_to_links({link_id: {'attributes': {'osm:way:highway': {'text': 'SOMETHING'}}} for link_id in links})"
   ]
  },
  {
   "cell_type": "code",
   "execution_count": 12,
   "metadata": {
    "ExecuteTime": {
     "end_time": "2021-02-12T11:47:10.368285Z",
     "start_time": "2021-02-12T11:47:10.356110Z"
    }
   },
   "outputs": [
    {
     "data": {
      "text/plain": [
       "{'id': '1007',\n",
       " 'from': '4356572310',\n",
       " 'to': '5811263955',\n",
       " 'freespeed': 22.22222222222222,\n",
       " 'capacity': 3000.0,\n",
       " 'permlanes': 2.0,\n",
       " 'oneway': '1',\n",
       " 'modes': {'car'},\n",
       " 's2_from': 5221390723045407809,\n",
       " 's2_to': 5221390723040504387,\n",
       " 'attributes': {'osm:way:highway': {'name': 'osm:way:highway',\n",
       "   'class': 'java.lang.String',\n",
       "   'text': 'SOMETHING'},\n",
       "  'osm:way:id': {'name': 'osm:way:id',\n",
       "   'class': 'java.lang.Long',\n",
       "   'text': '589660342'},\n",
       "  'osm:way:lanes': {'name': 'osm:way:lanes',\n",
       "   'class': 'java.lang.String',\n",
       "   'text': '2'},\n",
       "  'osm:way:name': {'name': 'osm:way:name',\n",
       "   'class': 'java.lang.String',\n",
       "   'text': 'Shaftesbury Avenue'},\n",
       "  'osm:way:oneway': {'name': 'osm:way:oneway',\n",
       "   'class': 'java.lang.String',\n",
       "   'text': 'yes'}},\n",
       " 'length': 13.941905154249884}"
      ]
     },
     "execution_count": 12,
     "metadata": {},
     "output_type": "execute_result"
    }
   ],
   "source": [
    "n.link(links[0])"
   ]
  },
  {
   "cell_type": "code",
   "execution_count": 13,
   "metadata": {
    "ExecuteTime": {
     "end_time": "2021-02-12T11:47:10.407026Z",
     "start_time": "2021-02-12T11:47:10.369775Z"
    }
   },
   "outputs": [
    {
     "data": {
      "text/html": [
       "<div>\n",
       "<style scoped>\n",
       "    .dataframe tbody tr th:only-of-type {\n",
       "        vertical-align: middle;\n",
       "    }\n",
       "\n",
       "    .dataframe tbody tr th {\n",
       "        vertical-align: top;\n",
       "    }\n",
       "\n",
       "    .dataframe thead th {\n",
       "        text-align: right;\n",
       "    }\n",
       "</style>\n",
       "<table border=\"1\" class=\"dataframe\">\n",
       "  <thead>\n",
       "    <tr style=\"text-align: right;\">\n",
       "      <th></th>\n",
       "      <th>timestamp</th>\n",
       "      <th>change_event</th>\n",
       "      <th>object_type</th>\n",
       "      <th>old_id</th>\n",
       "      <th>new_id</th>\n",
       "      <th>old_attributes</th>\n",
       "      <th>new_attributes</th>\n",
       "      <th>diff</th>\n",
       "    </tr>\n",
       "  </thead>\n",
       "  <tbody>\n",
       "    <tr>\n",
       "      <th>0</th>\n",
       "      <td>2021-02-12 11:47:09</td>\n",
       "      <td>add</td>\n",
       "      <td>link</td>\n",
       "      <td>None</td>\n",
       "      <td>proposed_index</td>\n",
       "      <td>None</td>\n",
       "      <td>{'from': '4356572310', 'to': '5811263955', 'id...</td>\n",
       "      <td>[(add, , [('from', '4356572310'), ('to', '5811...</td>\n",
       "    </tr>\n",
       "    <tr>\n",
       "      <th>1</th>\n",
       "      <td>2021-02-12 11:47:09</td>\n",
       "      <td>add</td>\n",
       "      <td>node</td>\n",
       "      <td>None</td>\n",
       "      <td>proposed_index</td>\n",
       "      <td>None</td>\n",
       "      <td>{'data': 'some_data'}</td>\n",
       "      <td>[(add, , [('data', 'some_data')]), (add, id, p...</td>\n",
       "    </tr>\n",
       "    <tr>\n",
       "      <th>2</th>\n",
       "      <td>2021-02-12 11:47:09</td>\n",
       "      <td>add</td>\n",
       "      <td>link</td>\n",
       "      <td>None</td>\n",
       "      <td>0</td>\n",
       "      <td>None</td>\n",
       "      <td>{'from': '4356572310', 'to': '5811263955', 'id...</td>\n",
       "      <td>[(add, , [('from', '4356572310'), ('to', '5811...</td>\n",
       "    </tr>\n",
       "    <tr>\n",
       "      <th>3</th>\n",
       "      <td>2021-02-12 11:47:09</td>\n",
       "      <td>modify</td>\n",
       "      <td>node</td>\n",
       "      <td>proposed_index</td>\n",
       "      <td>another_index</td>\n",
       "      <td>{'data': 'some_data'}</td>\n",
       "      <td>{'data': 'some_data', 'id': 'another_index'}</td>\n",
       "      <td>[(add, , [('id', 'another_index')]), (change, ...</td>\n",
       "    </tr>\n",
       "    <tr>\n",
       "      <th>4</th>\n",
       "      <td>2021-02-12 11:47:09</td>\n",
       "      <td>modify</td>\n",
       "      <td>node</td>\n",
       "      <td>proposed_index</td>\n",
       "      <td>proposed_index</td>\n",
       "      <td>{'data': 'some_data'}</td>\n",
       "      <td>{'data': 'some_data', 'id': 'another_index'}</td>\n",
       "      <td>[(add, , [('id', 'another_index')])]</td>\n",
       "    </tr>\n",
       "  </tbody>\n",
       "</table>\n",
       "</div>"
      ],
      "text/plain": [
       "             timestamp change_event object_type          old_id  \\\n",
       "0  2021-02-12 11:47:09          add        link            None   \n",
       "1  2021-02-12 11:47:09          add        node            None   \n",
       "2  2021-02-12 11:47:09          add        link            None   \n",
       "3  2021-02-12 11:47:09       modify        node  proposed_index   \n",
       "4  2021-02-12 11:47:09       modify        node  proposed_index   \n",
       "\n",
       "           new_id         old_attributes  \\\n",
       "0  proposed_index                   None   \n",
       "1  proposed_index                   None   \n",
       "2               0                   None   \n",
       "3   another_index  {'data': 'some_data'}   \n",
       "4  proposed_index  {'data': 'some_data'}   \n",
       "\n",
       "                                      new_attributes  \\\n",
       "0  {'from': '4356572310', 'to': '5811263955', 'id...   \n",
       "1                              {'data': 'some_data'}   \n",
       "2  {'from': '4356572310', 'to': '5811263955', 'id...   \n",
       "3       {'data': 'some_data', 'id': 'another_index'}   \n",
       "4       {'data': 'some_data', 'id': 'another_index'}   \n",
       "\n",
       "                                                diff  \n",
       "0  [(add, , [('from', '4356572310'), ('to', '5811...  \n",
       "1  [(add, , [('data', 'some_data')]), (add, id, p...  \n",
       "2  [(add, , [('from', '4356572310'), ('to', '5811...  \n",
       "3  [(add, , [('id', 'another_index')]), (change, ...  \n",
       "4               [(add, , [('id', 'another_index')])]  "
      ]
     },
     "execution_count": 13,
     "metadata": {},
     "output_type": "execute_result"
    }
   ],
   "source": [
    "n.change_log.head()"
   ]
  },
  {
   "cell_type": "code",
   "execution_count": 14,
   "metadata": {
    "ExecuteTime": {
     "end_time": "2021-02-12T11:47:10.428082Z",
     "start_time": "2021-02-12T11:47:10.409449Z"
    }
   },
   "outputs": [
    {
     "data": {
      "text/plain": [
       "\"{'id': '959', 'from': '300501141', 'to': '294158420', 'freespeed': 22.22222222222222, 'capacity': 1500.0, 'permlanes': 1.0, 'oneway': '1', 'modes': {'car'}, 's2_from': 5221390337863745429, 's2_to': 5221390337351379383, 'attributes': {'osm:relation:route': {'name': 'osm:relation:route', 'class': 'java.lang.String', 'text': 'bus'}, 'osm:way:highway': {'name': 'osm:way:highway', 'class': 'java.lang.String', 'text': 'primary'}, 'osm:way:id': {'name': 'osm:way:id', 'class': 'java.lang.Long', 'text': '26785612'}, 'osm:way:name': {'name': 'osm:way:name', 'class': 'java.lang.String', 'text': 'Albany Street'}}, 'length': 90.65828423645875}\""
      ]
     },
     "execution_count": 14,
     "metadata": {},
     "output_type": "execute_result"
    }
   ],
   "source": [
    "n.change_log.loc[618, :]['old_attributes']"
   ]
  },
  {
   "cell_type": "code",
   "execution_count": 15,
   "metadata": {
    "ExecuteTime": {
     "end_time": "2021-02-12T11:47:10.444462Z",
     "start_time": "2021-02-12T11:47:10.435905Z"
    }
   },
   "outputs": [
    {
     "data": {
      "text/plain": [
       "\"{'id': '959', 'from': '300501141', 'to': '294158420', 'freespeed': 22.22222222222222, 'capacity': 1500.0, 'permlanes': 1.0, 'oneway': '1', 'modes': {'car'}, 's2_from': 5221390337863745429, 's2_to': 5221390337351379383, 'attributes': {'osm:relation:route': {'name': 'osm:relation:route', 'class': 'java.lang.String', 'text': 'bus'}, 'osm:way:highway': {'name': 'osm:way:highway', 'class': 'java.lang.String', 'text': 'SOMETHING'}, 'osm:way:id': {'name': 'osm:way:id', 'class': 'java.lang.Long', 'text': '26785612'}, 'osm:way:name': {'name': 'osm:way:name', 'class': 'java.lang.String', 'text': 'Albany Street'}}, 'length': 90.65828423645875}\""
      ]
     },
     "execution_count": 15,
     "metadata": {},
     "output_type": "execute_result"
    }
   ],
   "source": [
    "n.change_log.loc[618, :]['new_attributes']"
   ]
  },
  {
   "cell_type": "code",
   "execution_count": 16,
   "metadata": {
    "ExecuteTime": {
     "end_time": "2021-02-12T11:47:10.456247Z",
     "start_time": "2021-02-12T11:47:10.448058Z"
    }
   },
   "outputs": [
    {
     "data": {
      "text/plain": [
       "[('change', 'attributes.osm:way:highway.text', ('primary', 'SOMETHING'))]"
      ]
     },
     "execution_count": 16,
     "metadata": {},
     "output_type": "execute_result"
    }
   ],
   "source": [
    "n.change_log.loc[618, :]['diff']"
   ]
  },
  {
   "cell_type": "markdown",
   "metadata": {},
   "source": [
    "Another useful method is the `apply_function_to_links`/`nodes`. This function takes a user-defined function with the variable that is the data dictionary stored on the links or nodes respectively. This function does not support `conditions`, but this is something that can be encoded in you function, for example:"
   ]
  },
  {
   "cell_type": "code",
   "execution_count": 17,
   "metadata": {
    "ExecuteTime": {
     "end_time": "2021-02-12T11:47:11.403008Z",
     "start_time": "2021-02-12T11:47:10.462661Z"
    }
   },
   "outputs": [
    {
     "name": "stderr",
     "output_type": "stream",
     "text": [
      "2021-02-12 11:47:11,394 - Changed Link attributes for 3166 links\n"
     ]
    }
   ],
   "source": [
    "def divide_capacity(link_attributes):\n",
    "    if 'car' in link_attributes['modes']:\n",
    "        return link_attributes['capacity']/link_attributes['permlanes']\n",
    "    \n",
    "n.apply_function_to_links(divide_capacity, 'base_capacity')"
   ]
  },
  {
   "cell_type": "markdown",
   "metadata": {},
   "source": [
    "This method will apply results of this function to links for which a value can be computed. For use here, that means that for any link which has a `'car'` value in `'modes'` a value of capacity divided by the number of lanes will be computed. We specify that the results will be stored under `base_capacity` in the links attribute dictionary."
   ]
  },
  {
   "cell_type": "code",
   "execution_count": 18,
   "metadata": {
    "ExecuteTime": {
     "end_time": "2021-02-12T11:47:11.415247Z",
     "start_time": "2021-02-12T11:47:11.404696Z"
    }
   },
   "outputs": [
    {
     "data": {
      "text/plain": [
       "{'id': '1007',\n",
       " 'from': '4356572310',\n",
       " 'to': '5811263955',\n",
       " 'freespeed': 22.22222222222222,\n",
       " 'capacity': 3000.0,\n",
       " 'permlanes': 2.0,\n",
       " 'oneway': '1',\n",
       " 'modes': {'car'},\n",
       " 's2_from': 5221390723045407809,\n",
       " 's2_to': 5221390723040504387,\n",
       " 'attributes': {'osm:way:highway': {'name': 'osm:way:highway',\n",
       "   'class': 'java.lang.String',\n",
       "   'text': 'SOMETHING'},\n",
       "  'osm:way:id': {'name': 'osm:way:id',\n",
       "   'class': 'java.lang.Long',\n",
       "   'text': '589660342'},\n",
       "  'osm:way:lanes': {'name': 'osm:way:lanes',\n",
       "   'class': 'java.lang.String',\n",
       "   'text': '2'},\n",
       "  'osm:way:name': {'name': 'osm:way:name',\n",
       "   'class': 'java.lang.String',\n",
       "   'text': 'Shaftesbury Avenue'},\n",
       "  'osm:way:oneway': {'name': 'osm:way:oneway',\n",
       "   'class': 'java.lang.String',\n",
       "   'text': 'yes'}},\n",
       " 'length': 13.941905154249884,\n",
       " 'base_capacity': 1500.0}"
      ]
     },
     "execution_count": 18,
     "metadata": {},
     "output_type": "execute_result"
    }
   ],
   "source": [
    "n.link(links[0])"
   ]
  },
  {
   "cell_type": "markdown",
   "metadata": {},
   "source": [
    "# Modifying the `Schedule` object\n",
    "\n",
    "GeNet has a number of methods to change the Schedule objects. Make sure you validate the end result."
   ]
  },
  {
   "cell_type": "code",
   "execution_count": 19,
   "metadata": {
    "ExecuteTime": {
     "end_time": "2021-02-12T11:47:11.425037Z",
     "start_time": "2021-02-12T11:47:11.417954Z"
    }
   },
   "outputs": [],
   "source": [
    "from genet import Stop, Route, Service"
   ]
  },
  {
   "cell_type": "markdown",
   "metadata": {},
   "source": [
    "## Adding Routes, Services\n",
    "\n",
    "You can add `Route`s and `Service`s. To add a `Route`, you need to identify which existing `Service` it should come under."
   ]
  },
  {
   "cell_type": "code",
   "execution_count": 20,
   "metadata": {
    "ExecuteTime": {
     "end_time": "2021-02-12T11:47:11.453689Z",
     "start_time": "2021-02-12T11:47:11.426648Z"
    }
   },
   "outputs": [
    {
     "data": {
      "text/plain": [
       "{'route_short_name': 'N55',\n",
       " 'mode': 'bus',\n",
       " 'trips': {'VJ2cdccea96e0e3e6a53a968bcb132941415d6d7c9_04:53:00': '04:53:00',\n",
       "  'VJ375a660d47a2aa570aa20a8568012da8497ffecf_03:53:00': '03:53:00',\n",
       "  'VJ3b9d77d2ef200b21c8048fea5eedc2d2788a1b94_01:54:00': '01:54:00',\n",
       "  'VJ79974c386a39426e06783650a759828438432aa4_05:23:00': '05:23:00',\n",
       "  'VJa09c394b71031216571d813a6266c83f2d30bf0a_04:23:00': '04:23:00',\n",
       "  'VJb1ecf6f30844187f7b9364fd9550acdcc5ce2c22_01:25:00': '01:25:00',\n",
       "  'VJc22488e687bcce9c50e372806cd8a1bcdddd5f98_02:24:00': '02:24:00',\n",
       "  'VJc3fd8f2be7eb005d47a13119c129d23ba6fed5fd_03:23:00': '03:23:00',\n",
       "  'VJe80a8ff48d21b29919ca3d8234d5a86bbf729513_02:54:00': '02:54:00',\n",
       "  'VJe81073fff46cfb30ff47a53f387e05dc17f2dda3_24:55:00': '24:55:00'},\n",
       " 'arrival_offsets': ['00:00:00', '00:02:00', '00:04:00', '00:06:00'],\n",
       " 'departure_offsets': ['00:00:00', '00:02:00', '00:04:00', '00:06:00'],\n",
       " 'route_long_name': '',\n",
       " 'id': 'VJ375a660d47a2aa570aa20a8568012da8497ffecf',\n",
       " 'route': ['834', '1573', '3139', '3141', '574', '3154', '979', '980', '981'],\n",
       " 'await_departure': [True, True, True, True],\n",
       " '_graph': <networkx.classes.digraph.DiGraph at 0x10e17bf98>,\n",
       " 'ordered_stops': ['490000235X.link:834',\n",
       "  '490000235YB.link:574',\n",
       "  '490014214HE.link:3154',\n",
       "  '490010689KB.link:981'],\n",
       " 'epsg': 'epsg:27700'}"
      ]
     },
     "execution_count": 20,
     "metadata": {},
     "output_type": "execute_result"
    }
   ],
   "source": [
    "n.schedule.route('VJ375a660d47a2aa570aa20a8568012da8497ffecf').__dict__"
   ]
  },
  {
   "cell_type": "code",
   "execution_count": 21,
   "metadata": {
    "ExecuteTime": {
     "end_time": "2021-02-12T11:47:12.906687Z",
     "start_time": "2021-02-12T11:47:11.456753Z"
    }
   },
   "outputs": [
    {
     "name": "stderr",
     "output_type": "stream",
     "text": [
      "2021-02-12 11:47:12,893 - Added Route with index `new_route`, data={'route_short_name': 'N55', 'mode': 'bus', 'trips': {'VJ2cdccea96e0e3e6a53a968bcb132941415d6d7c9_04:53:00': '04:53:00', 'VJ375a660d47a2aa570aa20a8568012da8497ffecf_03:53:00': '03:53:00', 'VJ3b9d77d2ef200b21c8048fea5eedc2d2788a1b94_01:54:00': '01:54:00', 'VJ79974c386a39426e06783650a759828438432aa4_05:23:00': '05:23:00', 'VJa09c394b71031216571d813a6266c83f2d30bf0a_04:23:00': '04:23:00', 'VJb1ecf6f30844187f7b9364fd9550acdcc5ce2c22_01:25:00': '01:25:00', 'VJc22488e687bcce9c50e372806cd8a1bcdddd5f98_02:24:00': '02:24:00', 'VJc3fd8f2be7eb005d47a13119c129d23ba6fed5fd_03:23:00': '03:23:00', 'VJe80a8ff48d21b29919ca3d8234d5a86bbf729513_02:54:00': '02:54:00', 'VJe81073fff46cfb30ff47a53f387e05dc17f2dda3_24:55:00': '24:55:00'}, 'arrival_offsets': ['00:00:00', '00:02:00', '00:04:00', '00:06:00'], 'departure_offsets': ['00:00:00', '00:02:00', '00:04:00', '00:06:00'], 'route_long_name': '', 'id': 'new_route', 'route': [], 'await_departure': [True, True], 'ordered_stops': ['490000235X.link:834', 'new_stop', '490010689KB.link:981']} to Service `20274` within the Schedule\n"
     ]
    },
    {
     "data": {
      "text/plain": [
       "<Route instance at 4633395944: with 3 stops and 10 trips>"
      ]
     },
     "execution_count": 21,
     "metadata": {},
     "output_type": "execute_result"
    }
   ],
   "source": [
    "route = Route(\n",
    "    route_short_name='N55',\n",
    "    mode='bus',\n",
    "    trips={'VJ2cdccea96e0e3e6a53a968bcb132941415d6d7c9_04:53:00': '04:53:00',\n",
    "      'VJ375a660d47a2aa570aa20a8568012da8497ffecf_03:53:00': '03:53:00',\n",
    "      'VJ3b9d77d2ef200b21c8048fea5eedc2d2788a1b94_01:54:00': '01:54:00',\n",
    "      'VJ79974c386a39426e06783650a759828438432aa4_05:23:00': '05:23:00',\n",
    "      'VJa09c394b71031216571d813a6266c83f2d30bf0a_04:23:00': '04:23:00',\n",
    "      'VJb1ecf6f30844187f7b9364fd9550acdcc5ce2c22_01:25:00': '01:25:00',\n",
    "      'VJc22488e687bcce9c50e372806cd8a1bcdddd5f98_02:24:00': '02:24:00',\n",
    "      'VJc3fd8f2be7eb005d47a13119c129d23ba6fed5fd_03:23:00': '03:23:00',\n",
    "      'VJe80a8ff48d21b29919ca3d8234d5a86bbf729513_02:54:00': '02:54:00',\n",
    "      'VJe81073fff46cfb30ff47a53f387e05dc17f2dda3_24:55:00': '24:55:00'},\n",
    "   arrival_offsets=['00:00:00', '00:02:00', '00:04:00', '00:06:00'],\n",
    "   departure_offsets=['00:00:00', '00:02:00', '00:04:00', '00:06:00'],\n",
    "   id='new_route',\n",
    "#    route= ['834', '1573', '3139', '3141', '574', '3154', '979', '980', '981'],\n",
    "   await_departure= [True, True],\n",
    "   stops=[\n",
    "       Stop(id='490000235X.link:834', x=529981.7958802709, y=181412.0975758662,\n",
    "            name='Tottenham Court Road Station (Stop X)',\n",
    "            additional_attributes=['linkRefId', 'isBlocking'],\n",
    "            linkRefId='834', isBlocking='false', epsg='epsg:27700'),\n",
    "       Stop(id='new_stop', x=529500, y=181300,\n",
    "            name='New Stop', epsg='epsg:27700'),\n",
    "       Stop(id='490010689KB.link:981', x=529166.7349732723, y=181256.33672284335,\n",
    "            name='Great Titchfield Street  Oxford Circus Station (Stop OP)',\n",
    "            additional_attributes=['linkRefId', 'isBlocking'],\n",
    "            linkRefId='981', isBlocking='false', epsg='epsg:27700')\n",
    "   ]\n",
    ")\n",
    "\n",
    "n.schedule.add_route('20274', route)"
   ]
  },
  {
   "cell_type": "code",
   "execution_count": 22,
   "metadata": {
    "ExecuteTime": {
     "end_time": "2021-02-12T11:47:13.137535Z",
     "start_time": "2021-02-12T11:47:12.946175Z"
    }
   },
   "outputs": [
    {
     "name": "stderr",
     "output_type": "stream",
     "text": [
      "2021-02-12 11:47:13,027 - Route with ID `new_route` within this Service `new_service` already exists in the Schedule. This Route will be reindexed to `new_service_new_route`\n",
      "2021-02-12 11:47:13,097 - Reindexed Route from new_route to new_service_new_route\n",
      "2021-02-12 11:47:13,125 - Added Service with index `new_service`, data={'id': 'new_service', 'name': 'N55'} and Routes: ['new_service_new_route']\n"
     ]
    },
    {
     "data": {
      "text/plain": [
       "<Service instance at 4633337304: with 1 routes>"
      ]
     },
     "execution_count": 22,
     "metadata": {},
     "output_type": "execute_result"
    }
   ],
   "source": [
    "n.schedule.add_service(Service(id='new_service', routes=[route]))"
   ]
  },
  {
   "cell_type": "code",
   "execution_count": 23,
   "metadata": {
    "ExecuteTime": {
     "end_time": "2021-02-12T11:47:13.200681Z",
     "start_time": "2021-02-12T11:47:13.157093Z"
    }
   },
   "outputs": [
    {
     "data": {
      "text/html": [
       "<div>\n",
       "<style scoped>\n",
       "    .dataframe tbody tr th:only-of-type {\n",
       "        vertical-align: middle;\n",
       "    }\n",
       "\n",
       "    .dataframe tbody tr th {\n",
       "        vertical-align: top;\n",
       "    }\n",
       "\n",
       "    .dataframe thead th {\n",
       "        text-align: right;\n",
       "    }\n",
       "</style>\n",
       "<table border=\"1\" class=\"dataframe\">\n",
       "  <thead>\n",
       "    <tr style=\"text-align: right;\">\n",
       "      <th></th>\n",
       "      <th>timestamp</th>\n",
       "      <th>change_event</th>\n",
       "      <th>object_type</th>\n",
       "      <th>old_id</th>\n",
       "      <th>new_id</th>\n",
       "      <th>old_attributes</th>\n",
       "      <th>new_attributes</th>\n",
       "      <th>diff</th>\n",
       "    </tr>\n",
       "  </thead>\n",
       "  <tbody>\n",
       "    <tr>\n",
       "      <th>0</th>\n",
       "      <td>2021-02-12 11:47:12</td>\n",
       "      <td>add</td>\n",
       "      <td>route</td>\n",
       "      <td>None</td>\n",
       "      <td>new_route</td>\n",
       "      <td>None</td>\n",
       "      <td>{'route_short_name': 'N55', 'mode': 'bus', 'tr...</td>\n",
       "      <td>[(add, , [('route_short_name', 'N55'), ('mode'...</td>\n",
       "    </tr>\n",
       "    <tr>\n",
       "      <th>1</th>\n",
       "      <td>2021-02-12 11:47:13</td>\n",
       "      <td>add</td>\n",
       "      <td>service</td>\n",
       "      <td>None</td>\n",
       "      <td>new_service</td>\n",
       "      <td>None</td>\n",
       "      <td>{'id': 'new_service', 'name': 'N55'}</td>\n",
       "      <td>[(add, , [('id', 'new_service'), ('name', 'N55...</td>\n",
       "    </tr>\n",
       "  </tbody>\n",
       "</table>\n",
       "</div>"
      ],
      "text/plain": [
       "             timestamp change_event object_type old_id       new_id  \\\n",
       "0  2021-02-12 11:47:12          add       route   None    new_route   \n",
       "1  2021-02-12 11:47:13          add     service   None  new_service   \n",
       "\n",
       "  old_attributes                                     new_attributes  \\\n",
       "0           None  {'route_short_name': 'N55', 'mode': 'bus', 'tr...   \n",
       "1           None               {'id': 'new_service', 'name': 'N55'}   \n",
       "\n",
       "                                                diff  \n",
       "0  [(add, , [('route_short_name', 'N55'), ('mode'...  \n",
       "1  [(add, , [('id', 'new_service'), ('name', 'N55...  "
      ]
     },
     "execution_count": 23,
     "metadata": {},
     "output_type": "execute_result"
    }
   ],
   "source": [
    "n.schedule.change_log().head()"
   ]
  },
  {
   "cell_type": "markdown",
   "metadata": {},
   "source": [
    "There are no methods to add `Stop` objects on their own. They are added to the Schedule with `Route` and `Service` objects."
   ]
  },
  {
   "cell_type": "markdown",
   "metadata": {},
   "source": [
    "## Reindexing"
   ]
  },
  {
   "cell_type": "code",
   "execution_count": 24,
   "metadata": {
    "ExecuteTime": {
     "end_time": "2021-02-12T11:47:13.239421Z",
     "start_time": "2021-02-12T11:47:13.204605Z"
    }
   },
   "outputs": [
    {
     "name": "stderr",
     "output_type": "stream",
     "text": [
      "2021-02-12 11:47:13,236 - Reindexed Service from new_service to more_appropriate_id\n"
     ]
    }
   ],
   "source": [
    "n.schedule['new_service'].reindex(new_id='more_appropriate_id')"
   ]
  },
  {
   "cell_type": "code",
   "execution_count": 25,
   "metadata": {
    "ExecuteTime": {
     "end_time": "2021-02-12T11:47:13.255978Z",
     "start_time": "2021-02-12T11:47:13.241176Z"
    }
   },
   "outputs": [
    {
     "name": "stderr",
     "output_type": "stream",
     "text": [
      "2021-02-12 11:47:13,253 - Reindexed Route from new_route to more_appropriate_route_id\n"
     ]
    }
   ],
   "source": [
    "n.schedule.route('new_route').reindex(new_id='more_appropriate_route_id')"
   ]
  },
  {
   "cell_type": "code",
   "execution_count": 26,
   "metadata": {
    "ExecuteTime": {
     "end_time": "2021-02-12T11:47:13.280615Z",
     "start_time": "2021-02-12T11:47:13.257460Z"
    }
   },
   "outputs": [
    {
     "data": {
      "text/html": [
       "<div>\n",
       "<style scoped>\n",
       "    .dataframe tbody tr th:only-of-type {\n",
       "        vertical-align: middle;\n",
       "    }\n",
       "\n",
       "    .dataframe tbody tr th {\n",
       "        vertical-align: top;\n",
       "    }\n",
       "\n",
       "    .dataframe thead th {\n",
       "        text-align: right;\n",
       "    }\n",
       "</style>\n",
       "<table border=\"1\" class=\"dataframe\">\n",
       "  <thead>\n",
       "    <tr style=\"text-align: right;\">\n",
       "      <th></th>\n",
       "      <th>timestamp</th>\n",
       "      <th>change_event</th>\n",
       "      <th>object_type</th>\n",
       "      <th>old_id</th>\n",
       "      <th>new_id</th>\n",
       "      <th>old_attributes</th>\n",
       "      <th>new_attributes</th>\n",
       "      <th>diff</th>\n",
       "    </tr>\n",
       "  </thead>\n",
       "  <tbody>\n",
       "    <tr>\n",
       "      <th>0</th>\n",
       "      <td>2021-02-12 11:47:12</td>\n",
       "      <td>add</td>\n",
       "      <td>route</td>\n",
       "      <td>None</td>\n",
       "      <td>new_route</td>\n",
       "      <td>None</td>\n",
       "      <td>{'route_short_name': 'N55', 'mode': 'bus', 'tr...</td>\n",
       "      <td>[(add, , [('route_short_name', 'N55'), ('mode'...</td>\n",
       "    </tr>\n",
       "    <tr>\n",
       "      <th>1</th>\n",
       "      <td>2021-02-12 11:47:13</td>\n",
       "      <td>add</td>\n",
       "      <td>service</td>\n",
       "      <td>None</td>\n",
       "      <td>new_service</td>\n",
       "      <td>None</td>\n",
       "      <td>{'id': 'new_service', 'name': 'N55'}</td>\n",
       "      <td>[(add, , [('id', 'new_service'), ('name', 'N55...</td>\n",
       "    </tr>\n",
       "    <tr>\n",
       "      <th>2</th>\n",
       "      <td>2021-02-12 11:47:13</td>\n",
       "      <td>modify</td>\n",
       "      <td>service</td>\n",
       "      <td>new_service</td>\n",
       "      <td>more_appropriate_id</td>\n",
       "      <td>{'id': 'new_service'}</td>\n",
       "      <td>{'id': 'more_appropriate_id'}</td>\n",
       "      <td>[(change, id, (new_service, more_appropriate_i...</td>\n",
       "    </tr>\n",
       "    <tr>\n",
       "      <th>3</th>\n",
       "      <td>2021-02-12 11:47:13</td>\n",
       "      <td>modify</td>\n",
       "      <td>route</td>\n",
       "      <td>new_route</td>\n",
       "      <td>more_appropriate_route_id</td>\n",
       "      <td>{'id': 'new_route'}</td>\n",
       "      <td>{'id': 'more_appropriate_route_id'}</td>\n",
       "      <td>[(change, id, (new_route, more_appropriate_rou...</td>\n",
       "    </tr>\n",
       "  </tbody>\n",
       "</table>\n",
       "</div>"
      ],
      "text/plain": [
       "             timestamp change_event object_type       old_id  \\\n",
       "0  2021-02-12 11:47:12          add       route         None   \n",
       "1  2021-02-12 11:47:13          add     service         None   \n",
       "2  2021-02-12 11:47:13       modify     service  new_service   \n",
       "3  2021-02-12 11:47:13       modify       route    new_route   \n",
       "\n",
       "                      new_id         old_attributes  \\\n",
       "0                  new_route                   None   \n",
       "1                new_service                   None   \n",
       "2        more_appropriate_id  {'id': 'new_service'}   \n",
       "3  more_appropriate_route_id    {'id': 'new_route'}   \n",
       "\n",
       "                                      new_attributes  \\\n",
       "0  {'route_short_name': 'N55', 'mode': 'bus', 'tr...   \n",
       "1               {'id': 'new_service', 'name': 'N55'}   \n",
       "2                      {'id': 'more_appropriate_id'}   \n",
       "3                {'id': 'more_appropriate_route_id'}   \n",
       "\n",
       "                                                diff  \n",
       "0  [(add, , [('route_short_name', 'N55'), ('mode'...  \n",
       "1  [(add, , [('id', 'new_service'), ('name', 'N55...  \n",
       "2  [(change, id, (new_service, more_appropriate_i...  \n",
       "3  [(change, id, (new_route, more_appropriate_rou...  "
      ]
     },
     "execution_count": 26,
     "metadata": {},
     "output_type": "execute_result"
    }
   ],
   "source": [
    "n.schedule.change_log().head()"
   ]
  },
  {
   "cell_type": "markdown",
   "metadata": {},
   "source": [
    "## Removing Stops, Routes, Services"
   ]
  },
  {
   "cell_type": "code",
   "execution_count": 27,
   "metadata": {
    "ExecuteTime": {
     "end_time": "2021-02-12T11:47:13.299011Z",
     "start_time": "2021-02-12T11:47:13.283093Z"
    }
   },
   "outputs": [
    {
     "name": "stderr",
     "output_type": "stream",
     "text": [
      "2021-02-12 11:47:13,294 - Removed Service with index `more_appropriate_id`, data={'id': 'more_appropriate_id', 'name': 'N55'} and Routes: {'new_service_new_route'}\n"
     ]
    }
   ],
   "source": [
    "n.schedule.remove_service('more_appropriate_id')"
   ]
  },
  {
   "cell_type": "code",
   "execution_count": 28,
   "metadata": {
    "ExecuteTime": {
     "end_time": "2021-02-12T11:47:13.315100Z",
     "start_time": "2021-02-12T11:47:13.301120Z"
    }
   },
   "outputs": [
    {
     "name": "stderr",
     "output_type": "stream",
     "text": [
      "2021-02-12 11:47:13,311 - Removed Route with index `more_appropriate_route_id`, data={'route_short_name': 'N55', 'mode': 'bus', 'trips': {'VJ2cdccea96e0e3e6a53a968bcb132941415d6d7c9_04:53:00': '04:53:00', 'VJ375a660d47a2aa570aa20a8568012da8497ffecf_03:53:00': '03:53:00', 'VJ3b9d77d2ef200b21c8048fea5eedc2d2788a1b94_01:54:00': '01:54:00', 'VJ79974c386a39426e06783650a759828438432aa4_05:23:00': '05:23:00', 'VJa09c394b71031216571d813a6266c83f2d30bf0a_04:23:00': '04:23:00', 'VJb1ecf6f30844187f7b9364fd9550acdcc5ce2c22_01:25:00': '01:25:00', 'VJc22488e687bcce9c50e372806cd8a1bcdddd5f98_02:24:00': '02:24:00', 'VJc3fd8f2be7eb005d47a13119c129d23ba6fed5fd_03:23:00': '03:23:00', 'VJe80a8ff48d21b29919ca3d8234d5a86bbf729513_02:54:00': '02:54:00', 'VJe81073fff46cfb30ff47a53f387e05dc17f2dda3_24:55:00': '24:55:00'}, 'arrival_offsets': ['00:00:00', '00:02:00', '00:04:00', '00:06:00'], 'departure_offsets': ['00:00:00', '00:02:00', '00:04:00', '00:06:00'], 'route_long_name': '', 'id': 'more_appropriate_route_id', 'route': [], 'await_departure': [True, True], 'ordered_stops': ['490000235X.link:834', 'new_stop', '490010689KB.link:981']}. It was linked to Service `20274`.\n"
     ]
    }
   ],
   "source": [
    "n.schedule.remove_route('more_appropriate_route_id')"
   ]
  },
  {
   "cell_type": "code",
   "execution_count": 29,
   "metadata": {
    "ExecuteTime": {
     "end_time": "2021-02-12T11:47:13.340341Z",
     "start_time": "2021-02-12T11:47:13.316664Z"
    }
   },
   "outputs": [
    {
     "data": {
      "text/html": [
       "<div>\n",
       "<style scoped>\n",
       "    .dataframe tbody tr th:only-of-type {\n",
       "        vertical-align: middle;\n",
       "    }\n",
       "\n",
       "    .dataframe tbody tr th {\n",
       "        vertical-align: top;\n",
       "    }\n",
       "\n",
       "    .dataframe thead th {\n",
       "        text-align: right;\n",
       "    }\n",
       "</style>\n",
       "<table border=\"1\" class=\"dataframe\">\n",
       "  <thead>\n",
       "    <tr style=\"text-align: right;\">\n",
       "      <th></th>\n",
       "      <th>timestamp</th>\n",
       "      <th>change_event</th>\n",
       "      <th>object_type</th>\n",
       "      <th>old_id</th>\n",
       "      <th>new_id</th>\n",
       "      <th>old_attributes</th>\n",
       "      <th>new_attributes</th>\n",
       "      <th>diff</th>\n",
       "    </tr>\n",
       "  </thead>\n",
       "  <tbody>\n",
       "    <tr>\n",
       "      <th>0</th>\n",
       "      <td>2021-02-12 11:47:12</td>\n",
       "      <td>add</td>\n",
       "      <td>route</td>\n",
       "      <td>None</td>\n",
       "      <td>new_route</td>\n",
       "      <td>None</td>\n",
       "      <td>{'route_short_name': 'N55', 'mode': 'bus', 'tr...</td>\n",
       "      <td>[(add, , [('route_short_name', 'N55'), ('mode'...</td>\n",
       "    </tr>\n",
       "    <tr>\n",
       "      <th>1</th>\n",
       "      <td>2021-02-12 11:47:13</td>\n",
       "      <td>add</td>\n",
       "      <td>service</td>\n",
       "      <td>None</td>\n",
       "      <td>new_service</td>\n",
       "      <td>None</td>\n",
       "      <td>{'id': 'new_service', 'name': 'N55'}</td>\n",
       "      <td>[(add, , [('id', 'new_service'), ('name', 'N55...</td>\n",
       "    </tr>\n",
       "    <tr>\n",
       "      <th>2</th>\n",
       "      <td>2021-02-12 11:47:13</td>\n",
       "      <td>modify</td>\n",
       "      <td>service</td>\n",
       "      <td>new_service</td>\n",
       "      <td>more_appropriate_id</td>\n",
       "      <td>{'id': 'new_service'}</td>\n",
       "      <td>{'id': 'more_appropriate_id'}</td>\n",
       "      <td>[(change, id, (new_service, more_appropriate_i...</td>\n",
       "    </tr>\n",
       "    <tr>\n",
       "      <th>3</th>\n",
       "      <td>2021-02-12 11:47:13</td>\n",
       "      <td>modify</td>\n",
       "      <td>route</td>\n",
       "      <td>new_route</td>\n",
       "      <td>more_appropriate_route_id</td>\n",
       "      <td>{'id': 'new_route'}</td>\n",
       "      <td>{'id': 'more_appropriate_route_id'}</td>\n",
       "      <td>[(change, id, (new_route, more_appropriate_rou...</td>\n",
       "    </tr>\n",
       "    <tr>\n",
       "      <th>4</th>\n",
       "      <td>2021-02-12 11:47:13</td>\n",
       "      <td>remove</td>\n",
       "      <td>service</td>\n",
       "      <td>more_appropriate_id</td>\n",
       "      <td>None</td>\n",
       "      <td>{'id': 'more_appropriate_id', 'name': 'N55'}</td>\n",
       "      <td>None</td>\n",
       "      <td>[(remove, , [('id', 'more_appropriate_id'), ('...</td>\n",
       "    </tr>\n",
       "  </tbody>\n",
       "</table>\n",
       "</div>"
      ],
      "text/plain": [
       "             timestamp change_event object_type               old_id  \\\n",
       "0  2021-02-12 11:47:12          add       route                 None   \n",
       "1  2021-02-12 11:47:13          add     service                 None   \n",
       "2  2021-02-12 11:47:13       modify     service          new_service   \n",
       "3  2021-02-12 11:47:13       modify       route            new_route   \n",
       "4  2021-02-12 11:47:13       remove     service  more_appropriate_id   \n",
       "\n",
       "                      new_id                                old_attributes  \\\n",
       "0                  new_route                                          None   \n",
       "1                new_service                                          None   \n",
       "2        more_appropriate_id                         {'id': 'new_service'}   \n",
       "3  more_appropriate_route_id                           {'id': 'new_route'}   \n",
       "4                       None  {'id': 'more_appropriate_id', 'name': 'N55'}   \n",
       "\n",
       "                                      new_attributes  \\\n",
       "0  {'route_short_name': 'N55', 'mode': 'bus', 'tr...   \n",
       "1               {'id': 'new_service', 'name': 'N55'}   \n",
       "2                      {'id': 'more_appropriate_id'}   \n",
       "3                {'id': 'more_appropriate_route_id'}   \n",
       "4                                               None   \n",
       "\n",
       "                                                diff  \n",
       "0  [(add, , [('route_short_name', 'N55'), ('mode'...  \n",
       "1  [(add, , [('id', 'new_service'), ('name', 'N55...  \n",
       "2  [(change, id, (new_service, more_appropriate_i...  \n",
       "3  [(change, id, (new_route, more_appropriate_rou...  \n",
       "4  [(remove, , [('id', 'more_appropriate_id'), ('...  "
      ]
     },
     "execution_count": 29,
     "metadata": {},
     "output_type": "execute_result"
    }
   ],
   "source": [
    "n.schedule.change_log().head()"
   ]
  },
  {
   "cell_type": "markdown",
   "metadata": {},
   "source": [
    "You can also remove `Stop`s. This will disconnect `Route`s and `Service`s using that `Stop`s and likely render them invalid. The method will warn you which `Route`s and `Servce`s are affected."
   ]
  },
  {
   "cell_type": "code",
   "execution_count": 30,
   "metadata": {
    "ExecuteTime": {
     "end_time": "2021-02-12T11:47:13.417862Z",
     "start_time": "2021-02-12T11:47:13.406120Z"
    }
   },
   "outputs": [
    {
     "name": "stderr",
     "output_type": "stream",
     "text": [
      "2021-02-12 11:47:13,413 - Removed Stop with index `490000091H.link:1912`, data={'id': '490000091H.link:1912', 'x': 528934.7945010976, 'y': 182202.18554864498, 'epsg': 'epsg:27700', 'name': 'Great Portland Street (Stop H)', 'lat': 51.52402503323941, 'lon': -0.14288798709207978, 's2_id': 5221390331888332895, 'additional_attributes': ['linkRefId', 'name', 'isBlocking'], 'linkRefId': '1912', 'isBlocking': 'false'}. Routes affected: ['VJ0f3c08222de16c2e278be0a1bf0f9ea47370774e', 'VJef7f20c3a9bf1419f6401e1e9131fe2c634bcb9a', 'VJ948e8caa0f08b9c6bf6330927893942c474b5100', 'VJ235c8fca539cf931b3c673f9b056606384aff950', 'VJ95b4c534d7c903d76ec0340025aa88b81dba3ce4', 'VJ8f9aea7491080b0137d3092706f53dc11f7dba45']. Services affected: ['12430'].\n"
     ]
    }
   ],
   "source": [
    "n.schedule.remove_stop('490000091H.link:1912')"
   ]
  },
  {
   "cell_type": "markdown",
   "metadata": {},
   "source": [
    "Likewise, removing `Route`s and `Service`s is likely to result in a number of unused stops. There is a method to remove such stops."
   ]
  },
  {
   "cell_type": "code",
   "execution_count": 31,
   "metadata": {
    "ExecuteTime": {
     "end_time": "2021-02-12T11:47:13.431182Z",
     "start_time": "2021-02-12T11:47:13.420654Z"
    }
   },
   "outputs": [
    {
     "name": "stderr",
     "output_type": "stream",
     "text": [
      "2021-02-12 11:47:13,427 - Removed Stop with index `new_stop`, data={'id': 'new_stop', 'x': 529500.0, 'y': 181300.0, 'epsg': 'epsg:27700', 'name': 'New Stop', 'lat': 51.51578819710296, 'lon': -0.1350768098744082, 's2_id': 5221390696585158415, 'additional_attributes': []}. Routes affected: []. Services affected: [].\n",
      "2021-02-12 11:47:13,429 - Removed Stops with indecies `['new_stop']` which were not used by any Routes.\n"
     ]
    }
   ],
   "source": [
    "n.schedule.remove_unsused_stops()"
   ]
  },
  {
   "cell_type": "markdown",
   "metadata": {},
   "source": [
    "## Modifying data stored for Stops, Routes, Services\n",
    "\n",
    "### Applying known or pre-computed changes\n",
    "Applying changes or new attributes to Services, Routes and Stops can be done via Schedule level methods. They all work with a dictionary where the keys are the object IDs and the values are dictionaries holding attribute names and values. The method to extract a DataFrame on attributes comes in handy here. E.g."
   ]
  },
  {
   "cell_type": "code",
   "execution_count": 32,
   "metadata": {
    "ExecuteTime": {
     "end_time": "2021-02-12T11:47:13.446263Z",
     "start_time": "2021-02-12T11:47:13.433716Z"
    }
   },
   "outputs": [
    {
     "data": {
      "text/html": [
       "<div>\n",
       "<style scoped>\n",
       "    .dataframe tbody tr th:only-of-type {\n",
       "        vertical-align: middle;\n",
       "    }\n",
       "\n",
       "    .dataframe tbody tr th {\n",
       "        vertical-align: top;\n",
       "    }\n",
       "\n",
       "    .dataframe thead th {\n",
       "        text-align: right;\n",
       "    }\n",
       "</style>\n",
       "<table border=\"1\" class=\"dataframe\">\n",
       "  <thead>\n",
       "    <tr style=\"text-align: right;\">\n",
       "      <th></th>\n",
       "      <th>name</th>\n",
       "    </tr>\n",
       "  </thead>\n",
       "  <tbody>\n",
       "    <tr>\n",
       "      <th>17732</th>\n",
       "      <td>N20</td>\n",
       "    </tr>\n",
       "    <tr>\n",
       "      <th>14073</th>\n",
       "      <td>94</td>\n",
       "    </tr>\n",
       "    <tr>\n",
       "      <th>14134</th>\n",
       "      <td>98</td>\n",
       "    </tr>\n",
       "    <tr>\n",
       "      <th>15234</th>\n",
       "      <td>134</td>\n",
       "    </tr>\n",
       "    <tr>\n",
       "      <th>18915</th>\n",
       "      <td>N5</td>\n",
       "    </tr>\n",
       "  </tbody>\n",
       "</table>\n",
       "</div>"
      ],
      "text/plain": [
       "      name\n",
       "17732  N20\n",
       "14073   94\n",
       "14134   98\n",
       "15234  134\n",
       "18915   N5"
      ]
     },
     "execution_count": 32,
     "metadata": {},
     "output_type": "execute_result"
    }
   ],
   "source": [
    "df = n.schedule.service_attribute_data(keys='name')\n",
    "df.head()"
   ]
  },
  {
   "cell_type": "markdown",
   "metadata": {},
   "source": [
    "DataFrames are easy to work with. Youcould for exmaple manipulate the names or use other data to change these. For demonstration here, let's just set the names to something easy."
   ]
  },
  {
   "cell_type": "code",
   "execution_count": 33,
   "metadata": {
    "ExecuteTime": {
     "end_time": "2021-02-12T11:47:13.458511Z",
     "start_time": "2021-02-12T11:47:13.448737Z"
    }
   },
   "outputs": [
    {
     "data": {
      "text/html": [
       "<div>\n",
       "<style scoped>\n",
       "    .dataframe tbody tr th:only-of-type {\n",
       "        vertical-align: middle;\n",
       "    }\n",
       "\n",
       "    .dataframe tbody tr th {\n",
       "        vertical-align: top;\n",
       "    }\n",
       "\n",
       "    .dataframe thead th {\n",
       "        text-align: right;\n",
       "    }\n",
       "</style>\n",
       "<table border=\"1\" class=\"dataframe\">\n",
       "  <thead>\n",
       "    <tr style=\"text-align: right;\">\n",
       "      <th></th>\n",
       "      <th>name</th>\n",
       "    </tr>\n",
       "  </thead>\n",
       "  <tbody>\n",
       "    <tr>\n",
       "      <th>17732</th>\n",
       "      <td>Service_N20</td>\n",
       "    </tr>\n",
       "    <tr>\n",
       "      <th>14073</th>\n",
       "      <td>Service_94</td>\n",
       "    </tr>\n",
       "    <tr>\n",
       "      <th>14134</th>\n",
       "      <td>Service_98</td>\n",
       "    </tr>\n",
       "    <tr>\n",
       "      <th>15234</th>\n",
       "      <td>Service_134</td>\n",
       "    </tr>\n",
       "    <tr>\n",
       "      <th>18915</th>\n",
       "      <td>Service_N5</td>\n",
       "    </tr>\n",
       "  </tbody>\n",
       "</table>\n",
       "</div>"
      ],
      "text/plain": [
       "              name\n",
       "17732  Service_N20\n",
       "14073   Service_94\n",
       "14134   Service_98\n",
       "15234  Service_134\n",
       "18915   Service_N5"
      ]
     },
     "execution_count": 33,
     "metadata": {},
     "output_type": "execute_result"
    }
   ],
   "source": [
    "df['name'] = df['name'].apply(lambda x: f'Service_{x}')\n",
    "df.head()"
   ]
  },
  {
   "cell_type": "markdown",
   "metadata": {},
   "source": [
    "You can then convert this to a dictionary and pass it to the `apply_attributes_to_services` method."
   ]
  },
  {
   "cell_type": "code",
   "execution_count": 34,
   "metadata": {
    "ExecuteTime": {
     "end_time": "2021-02-12T11:47:13.505146Z",
     "start_time": "2021-02-12T11:47:13.463246Z"
    }
   },
   "outputs": [
    {
     "name": "stderr",
     "output_type": "stream",
     "text": [
      "2021-02-12 11:47:13,502 - Changed Service attributes for 9 services\n"
     ]
    }
   ],
   "source": [
    "n.schedule.apply_attributes_to_services(df.T.to_dict())"
   ]
  },
  {
   "cell_type": "code",
   "execution_count": 35,
   "metadata": {
    "ExecuteTime": {
     "end_time": "2021-02-12T11:47:13.604079Z",
     "start_time": "2021-02-12T11:47:13.506743Z"
    }
   },
   "outputs": [
    {
     "data": {
      "text/html": [
       "<div>\n",
       "<style scoped>\n",
       "    .dataframe tbody tr th:only-of-type {\n",
       "        vertical-align: middle;\n",
       "    }\n",
       "\n",
       "    .dataframe tbody tr th {\n",
       "        vertical-align: top;\n",
       "    }\n",
       "\n",
       "    .dataframe thead th {\n",
       "        text-align: right;\n",
       "    }\n",
       "</style>\n",
       "<table border=\"1\" class=\"dataframe\">\n",
       "  <thead>\n",
       "    <tr style=\"text-align: right;\">\n",
       "      <th></th>\n",
       "      <th>timestamp</th>\n",
       "      <th>change_event</th>\n",
       "      <th>object_type</th>\n",
       "      <th>old_id</th>\n",
       "      <th>new_id</th>\n",
       "      <th>old_attributes</th>\n",
       "      <th>new_attributes</th>\n",
       "      <th>diff</th>\n",
       "    </tr>\n",
       "  </thead>\n",
       "  <tbody>\n",
       "    <tr>\n",
       "      <th>12</th>\n",
       "      <td>2021-02-12 11:47:13</td>\n",
       "      <td>modify</td>\n",
       "      <td>service</td>\n",
       "      <td>18915</td>\n",
       "      <td>18915</td>\n",
       "      <td>{'id': '18915', 'name': 'N5'}</td>\n",
       "      <td>{'id': '18915', 'name': 'Service_N5'}</td>\n",
       "      <td>[(change, name, (N5, Service_N5))]</td>\n",
       "    </tr>\n",
       "    <tr>\n",
       "      <th>13</th>\n",
       "      <td>2021-02-12 11:47:13</td>\n",
       "      <td>modify</td>\n",
       "      <td>service</td>\n",
       "      <td>18853</td>\n",
       "      <td>18853</td>\n",
       "      <td>{'id': '18853', 'name': 'N8'}</td>\n",
       "      <td>{'id': '18853', 'name': 'Service_N8'}</td>\n",
       "      <td>[(change, name, (N8, Service_N8))]</td>\n",
       "    </tr>\n",
       "    <tr>\n",
       "      <th>14</th>\n",
       "      <td>2021-02-12 11:47:13</td>\n",
       "      <td>modify</td>\n",
       "      <td>service</td>\n",
       "      <td>20274</td>\n",
       "      <td>20274</td>\n",
       "      <td>{'id': '20274', 'name': 'N55'}</td>\n",
       "      <td>{'id': '20274', 'name': 'Service_N55'}</td>\n",
       "      <td>[(change, name, (N55, Service_N55))]</td>\n",
       "    </tr>\n",
       "    <tr>\n",
       "      <th>15</th>\n",
       "      <td>2021-02-12 11:47:13</td>\n",
       "      <td>modify</td>\n",
       "      <td>service</td>\n",
       "      <td>15660</td>\n",
       "      <td>15660</td>\n",
       "      <td>{'id': '15660', 'name': '113'}</td>\n",
       "      <td>{'id': '15660', 'name': 'Service_113'}</td>\n",
       "      <td>[(change, name, (113, Service_113))]</td>\n",
       "    </tr>\n",
       "    <tr>\n",
       "      <th>16</th>\n",
       "      <td>2021-02-12 11:47:13</td>\n",
       "      <td>modify</td>\n",
       "      <td>service</td>\n",
       "      <td>12430</td>\n",
       "      <td>12430</td>\n",
       "      <td>{'id': '12430', 'name': '205'}</td>\n",
       "      <td>{'id': '12430', 'name': 'Service_205'}</td>\n",
       "      <td>[(change, name, (205, Service_205))]</td>\n",
       "    </tr>\n",
       "  </tbody>\n",
       "</table>\n",
       "</div>"
      ],
      "text/plain": [
       "              timestamp change_event object_type old_id new_id  \\\n",
       "12  2021-02-12 11:47:13       modify     service  18915  18915   \n",
       "13  2021-02-12 11:47:13       modify     service  18853  18853   \n",
       "14  2021-02-12 11:47:13       modify     service  20274  20274   \n",
       "15  2021-02-12 11:47:13       modify     service  15660  15660   \n",
       "16  2021-02-12 11:47:13       modify     service  12430  12430   \n",
       "\n",
       "                    old_attributes                          new_attributes  \\\n",
       "12   {'id': '18915', 'name': 'N5'}   {'id': '18915', 'name': 'Service_N5'}   \n",
       "13   {'id': '18853', 'name': 'N8'}   {'id': '18853', 'name': 'Service_N8'}   \n",
       "14  {'id': '20274', 'name': 'N55'}  {'id': '20274', 'name': 'Service_N55'}   \n",
       "15  {'id': '15660', 'name': '113'}  {'id': '15660', 'name': 'Service_113'}   \n",
       "16  {'id': '12430', 'name': '205'}  {'id': '12430', 'name': 'Service_205'}   \n",
       "\n",
       "                                    diff  \n",
       "12    [(change, name, (N5, Service_N5))]  \n",
       "13    [(change, name, (N8, Service_N8))]  \n",
       "14  [(change, name, (N55, Service_N55))]  \n",
       "15  [(change, name, (113, Service_113))]  \n",
       "16  [(change, name, (205, Service_205))]  "
      ]
     },
     "execution_count": 35,
     "metadata": {},
     "output_type": "execute_result"
    }
   ],
   "source": [
    "n.schedule.change_log().tail()"
   ]
  },
  {
   "cell_type": "markdown",
   "metadata": {},
   "source": [
    "You can do the same for `Routes` and `Stops`. Your dictionaries cannot however hold changes to indices. You will encounter an error and should use `reindex` methods for such operations."
   ]
  },
  {
   "cell_type": "code",
   "execution_count": 36,
   "metadata": {
    "ExecuteTime": {
     "end_time": "2021-02-12T11:47:13.614282Z",
     "start_time": "2021-02-12T11:47:13.606198Z"
    }
   },
   "outputs": [
    {
     "name": "stderr",
     "output_type": "stream",
     "text": [
      "2021-02-12 11:47:13,610 - Changed Route attributes for 1 routes\n"
     ]
    }
   ],
   "source": [
    "n.schedule.apply_attributes_to_routes(\n",
    "    {'VJ375a660d47a2aa570aa20a8568012da8497ffecf': {\n",
    "        'name': 'my_favourite_route', \n",
    "        'mode': 'piggyback'\n",
    "    }}\n",
    ")"
   ]
  },
  {
   "cell_type": "code",
   "execution_count": 37,
   "metadata": {
    "ExecuteTime": {
     "end_time": "2021-02-12T11:47:13.625470Z",
     "start_time": "2021-02-12T11:47:13.618180Z"
    }
   },
   "outputs": [
    {
     "name": "stderr",
     "output_type": "stream",
     "text": [
      "2021-02-12 11:47:13,621 - Changed Stop attributes for 1 stops\n"
     ]
    }
   ],
   "source": [
    "n.schedule.apply_attributes_to_stops(\n",
    "    {'490000235YB.link:574': {'new_attribute': 'hello!'}}\n",
    ")"
   ]
  },
  {
   "cell_type": "code",
   "execution_count": 38,
   "metadata": {
    "ExecuteTime": {
     "end_time": "2021-02-12T11:47:13.654618Z",
     "start_time": "2021-02-12T11:47:13.627447Z"
    }
   },
   "outputs": [
    {
     "data": {
      "text/html": [
       "<div>\n",
       "<style scoped>\n",
       "    .dataframe tbody tr th:only-of-type {\n",
       "        vertical-align: middle;\n",
       "    }\n",
       "\n",
       "    .dataframe tbody tr th {\n",
       "        vertical-align: top;\n",
       "    }\n",
       "\n",
       "    .dataframe thead th {\n",
       "        text-align: right;\n",
       "    }\n",
       "</style>\n",
       "<table border=\"1\" class=\"dataframe\">\n",
       "  <thead>\n",
       "    <tr style=\"text-align: right;\">\n",
       "      <th></th>\n",
       "      <th>timestamp</th>\n",
       "      <th>change_event</th>\n",
       "      <th>object_type</th>\n",
       "      <th>old_id</th>\n",
       "      <th>new_id</th>\n",
       "      <th>old_attributes</th>\n",
       "      <th>new_attributes</th>\n",
       "      <th>diff</th>\n",
       "    </tr>\n",
       "  </thead>\n",
       "  <tbody>\n",
       "    <tr>\n",
       "      <th>14</th>\n",
       "      <td>2021-02-12 11:47:13</td>\n",
       "      <td>modify</td>\n",
       "      <td>service</td>\n",
       "      <td>20274</td>\n",
       "      <td>20274</td>\n",
       "      <td>{'id': '20274', 'name': 'N55'}</td>\n",
       "      <td>{'id': '20274', 'name': 'Service_N55'}</td>\n",
       "      <td>[(change, name, (N55, Service_N55))]</td>\n",
       "    </tr>\n",
       "    <tr>\n",
       "      <th>15</th>\n",
       "      <td>2021-02-12 11:47:13</td>\n",
       "      <td>modify</td>\n",
       "      <td>service</td>\n",
       "      <td>15660</td>\n",
       "      <td>15660</td>\n",
       "      <td>{'id': '15660', 'name': '113'}</td>\n",
       "      <td>{'id': '15660', 'name': 'Service_113'}</td>\n",
       "      <td>[(change, name, (113, Service_113))]</td>\n",
       "    </tr>\n",
       "    <tr>\n",
       "      <th>16</th>\n",
       "      <td>2021-02-12 11:47:13</td>\n",
       "      <td>modify</td>\n",
       "      <td>service</td>\n",
       "      <td>12430</td>\n",
       "      <td>12430</td>\n",
       "      <td>{'id': '12430', 'name': '205'}</td>\n",
       "      <td>{'id': '12430', 'name': 'Service_205'}</td>\n",
       "      <td>[(change, name, (205, Service_205))]</td>\n",
       "    </tr>\n",
       "    <tr>\n",
       "      <th>17</th>\n",
       "      <td>2021-02-12 11:47:13</td>\n",
       "      <td>modify</td>\n",
       "      <td>route</td>\n",
       "      <td>VJ375a660d47a2aa570aa20a8568012da8497ffecf</td>\n",
       "      <td>VJ375a660d47a2aa570aa20a8568012da8497ffecf</td>\n",
       "      <td>{'route_short_name': 'N55', 'mode': 'bus', 'tr...</td>\n",
       "      <td>{'route_short_name': 'N55', 'mode': 'piggyback...</td>\n",
       "      <td>[(change, mode, (bus, piggyback)), (add, , [('...</td>\n",
       "    </tr>\n",
       "    <tr>\n",
       "      <th>18</th>\n",
       "      <td>2021-02-12 11:47:13</td>\n",
       "      <td>modify</td>\n",
       "      <td>stop</td>\n",
       "      <td>490000235YB.link:574</td>\n",
       "      <td>490000235YB.link:574</td>\n",
       "      <td>{'services': ['18853', '20274', '14134'], 'rou...</td>\n",
       "      <td>{'services': ['18853', '20274', '14134'], 'rou...</td>\n",
       "      <td>[(add, , [('new_attribute', 'hello!')])]</td>\n",
       "    </tr>\n",
       "  </tbody>\n",
       "</table>\n",
       "</div>"
      ],
      "text/plain": [
       "              timestamp change_event object_type  \\\n",
       "14  2021-02-12 11:47:13       modify     service   \n",
       "15  2021-02-12 11:47:13       modify     service   \n",
       "16  2021-02-12 11:47:13       modify     service   \n",
       "17  2021-02-12 11:47:13       modify       route   \n",
       "18  2021-02-12 11:47:13       modify        stop   \n",
       "\n",
       "                                        old_id  \\\n",
       "14                                       20274   \n",
       "15                                       15660   \n",
       "16                                       12430   \n",
       "17  VJ375a660d47a2aa570aa20a8568012da8497ffecf   \n",
       "18                        490000235YB.link:574   \n",
       "\n",
       "                                        new_id  \\\n",
       "14                                       20274   \n",
       "15                                       15660   \n",
       "16                                       12430   \n",
       "17  VJ375a660d47a2aa570aa20a8568012da8497ffecf   \n",
       "18                        490000235YB.link:574   \n",
       "\n",
       "                                       old_attributes  \\\n",
       "14                     {'id': '20274', 'name': 'N55'}   \n",
       "15                     {'id': '15660', 'name': '113'}   \n",
       "16                     {'id': '12430', 'name': '205'}   \n",
       "17  {'route_short_name': 'N55', 'mode': 'bus', 'tr...   \n",
       "18  {'services': ['18853', '20274', '14134'], 'rou...   \n",
       "\n",
       "                                       new_attributes  \\\n",
       "14             {'id': '20274', 'name': 'Service_N55'}   \n",
       "15             {'id': '15660', 'name': 'Service_113'}   \n",
       "16             {'id': '12430', 'name': 'Service_205'}   \n",
       "17  {'route_short_name': 'N55', 'mode': 'piggyback...   \n",
       "18  {'services': ['18853', '20274', '14134'], 'rou...   \n",
       "\n",
       "                                                 diff  \n",
       "14               [(change, name, (N55, Service_N55))]  \n",
       "15               [(change, name, (113, Service_113))]  \n",
       "16               [(change, name, (205, Service_205))]  \n",
       "17  [(change, mode, (bus, piggyback)), (add, , [('...  \n",
       "18           [(add, , [('new_attribute', 'hello!')])]  "
      ]
     },
     "execution_count": 38,
     "metadata": {},
     "output_type": "execute_result"
    }
   ],
   "source": [
    "n.schedule.change_log().tail()"
   ]
  },
  {
   "cell_type": "markdown",
   "metadata": {},
   "source": [
    "### Applying changes using functions or mappings\n",
    "\n",
    "If you have some logic that can be written into a function of object's attributes, you can pass this to `apply_function_to_x` methods. You need to select `location`, which refers to the name of the attribute the result should be stored under. It can already exist and be overwritten. The function passed, is not expected to work with all objects. It will fail silently, only evaluating and generating outputs where possible."
   ]
  },
  {
   "cell_type": "code",
   "execution_count": 39,
   "metadata": {
    "ExecuteTime": {
     "end_time": "2021-02-12T11:47:13.723290Z",
     "start_time": "2021-02-12T11:47:13.656312Z"
    }
   },
   "outputs": [
    {
     "name": "stderr",
     "output_type": "stream",
     "text": [
      "2021-02-12 11:47:13,677 - Changed Stop attributes for 44 stops\n"
     ]
    }
   ],
   "source": [
    "from shapely.geometry import Point\n",
    "def add_shapely_geometry_points(stop_attribs):\n",
    "    return Point(stop_attribs['x'], stop_attribs['y'])\n",
    "n.schedule.apply_function_to_stops(add_shapely_geometry_points, location='geometry')"
   ]
  },
  {
   "cell_type": "code",
   "execution_count": 40,
   "metadata": {
    "ExecuteTime": {
     "end_time": "2021-02-12T11:47:13.748654Z",
     "start_time": "2021-02-12T11:47:13.732190Z"
    }
   },
   "outputs": [
    {
     "data": {
      "text/html": [
       "<div>\n",
       "<style scoped>\n",
       "    .dataframe tbody tr th:only-of-type {\n",
       "        vertical-align: middle;\n",
       "    }\n",
       "\n",
       "    .dataframe tbody tr th {\n",
       "        vertical-align: top;\n",
       "    }\n",
       "\n",
       "    .dataframe thead th {\n",
       "        text-align: right;\n",
       "    }\n",
       "</style>\n",
       "<table border=\"1\" class=\"dataframe\">\n",
       "  <thead>\n",
       "    <tr style=\"text-align: right;\">\n",
       "      <th></th>\n",
       "      <th>timestamp</th>\n",
       "      <th>change_event</th>\n",
       "      <th>object_type</th>\n",
       "      <th>old_id</th>\n",
       "      <th>new_id</th>\n",
       "      <th>old_attributes</th>\n",
       "      <th>new_attributes</th>\n",
       "      <th>diff</th>\n",
       "    </tr>\n",
       "  </thead>\n",
       "  <tbody>\n",
       "    <tr>\n",
       "      <th>61</th>\n",
       "      <td>2021-02-12 11:47:13</td>\n",
       "      <td>modify</td>\n",
       "      <td>stop</td>\n",
       "      <td>490004695A.link:3017</td>\n",
       "      <td>490004695A.link:3017</td>\n",
       "      <td>{'services': ['18915', '17732'], 'routes': ['V...</td>\n",
       "      <td>{'services': ['18915', '17732'], 'routes': ['V...</td>\n",
       "      <td>[(add, , [('geometry', &lt;shapely.geometry.point...</td>\n",
       "    </tr>\n",
       "    <tr>\n",
       "      <th>62</th>\n",
       "      <td>2021-02-12 11:47:13</td>\n",
       "      <td>modify</td>\n",
       "      <td>stop</td>\n",
       "      <td>490000173RG.link:2614</td>\n",
       "      <td>490000173RG.link:2614</td>\n",
       "      <td>{'services': ['14073'], 'routes': ['VJ6cf76a4c...</td>\n",
       "      <td>{'services': ['14073'], 'routes': ['VJ6cf76a4c...</td>\n",
       "      <td>[(add, , [('geometry', &lt;shapely.geometry.point...</td>\n",
       "    </tr>\n",
       "  </tbody>\n",
       "</table>\n",
       "</div>"
      ],
      "text/plain": [
       "              timestamp change_event object_type                 old_id  \\\n",
       "61  2021-02-12 11:47:13       modify        stop   490004695A.link:3017   \n",
       "62  2021-02-12 11:47:13       modify        stop  490000173RG.link:2614   \n",
       "\n",
       "                   new_id                                     old_attributes  \\\n",
       "61   490004695A.link:3017  {'services': ['18915', '17732'], 'routes': ['V...   \n",
       "62  490000173RG.link:2614  {'services': ['14073'], 'routes': ['VJ6cf76a4c...   \n",
       "\n",
       "                                       new_attributes  \\\n",
       "61  {'services': ['18915', '17732'], 'routes': ['V...   \n",
       "62  {'services': ['14073'], 'routes': ['VJ6cf76a4c...   \n",
       "\n",
       "                                                 diff  \n",
       "61  [(add, , [('geometry', <shapely.geometry.point...  \n",
       "62  [(add, , [('geometry', <shapely.geometry.point...  "
      ]
     },
     "execution_count": 40,
     "metadata": {},
     "output_type": "execute_result"
    }
   ],
   "source": [
    "n.schedule.change_log().tail(2)"
   ]
  },
  {
   "cell_type": "code",
   "execution_count": 41,
   "metadata": {
    "ExecuteTime": {
     "end_time": "2021-02-12T11:47:13.800386Z",
     "start_time": "2021-02-12T11:47:13.751059Z"
    }
   },
   "outputs": [
    {
     "data": {
      "text/html": [
       "<div>\n",
       "<style scoped>\n",
       "    .dataframe tbody tr th:only-of-type {\n",
       "        vertical-align: middle;\n",
       "    }\n",
       "\n",
       "    .dataframe tbody tr th {\n",
       "        vertical-align: top;\n",
       "    }\n",
       "\n",
       "    .dataframe thead th {\n",
       "        text-align: right;\n",
       "    }\n",
       "</style>\n",
       "<table border=\"1\" class=\"dataframe\">\n",
       "  <thead>\n",
       "    <tr style=\"text-align: right;\">\n",
       "      <th></th>\n",
       "      <th>name</th>\n",
       "      <th>x</th>\n",
       "      <th>y</th>\n",
       "      <th>geometry</th>\n",
       "    </tr>\n",
       "  </thead>\n",
       "  <tbody>\n",
       "    <tr>\n",
       "      <th>490000235X.link:834</th>\n",
       "      <td>Tottenham Court Road Station (Stop X)</td>\n",
       "      <td>529981.795880</td>\n",
       "      <td>181412.097576</td>\n",
       "      <td>POINT (529981.7958802709 181412.0975758662)</td>\n",
       "    </tr>\n",
       "    <tr>\n",
       "      <th>490000235YB.link:574</th>\n",
       "      <td>Oxford Street  Soho Street (Stop YB)</td>\n",
       "      <td>529570.781323</td>\n",
       "      <td>181336.281593</td>\n",
       "      <td>POINT (529570.7813227688 181336.2815925331)</td>\n",
       "    </tr>\n",
       "    <tr>\n",
       "      <th>490014214HE.link:3154</th>\n",
       "      <td>Wardour Street (Stop OM)</td>\n",
       "      <td>529477.750156</td>\n",
       "      <td>181314.437043</td>\n",
       "      <td>POINT (529477.7501560802 181314.4370430721)</td>\n",
       "    </tr>\n",
       "    <tr>\n",
       "      <th>490010689KB.link:981</th>\n",
       "      <td>Great Titchfield Street  Oxford Circus Station...</td>\n",
       "      <td>529166.734973</td>\n",
       "      <td>181256.336723</td>\n",
       "      <td>POINT (529166.7349732723 181256.3367228433)</td>\n",
       "    </tr>\n",
       "    <tr>\n",
       "      <th>490015196OG.link:2954</th>\n",
       "      <td>Holles Street (Stop OG)</td>\n",
       "      <td>528823.776634</td>\n",
       "      <td>181291.362193</td>\n",
       "      <td>POINT (528823.776634044 181291.3621925522)</td>\n",
       "    </tr>\n",
       "  </tbody>\n",
       "</table>\n",
       "</div>"
      ],
      "text/plain": [
       "                                                                    name  \\\n",
       "490000235X.link:834                Tottenham Court Road Station (Stop X)   \n",
       "490000235YB.link:574                Oxford Street  Soho Street (Stop YB)   \n",
       "490014214HE.link:3154                           Wardour Street (Stop OM)   \n",
       "490010689KB.link:981   Great Titchfield Street  Oxford Circus Station...   \n",
       "490015196OG.link:2954                            Holles Street (Stop OG)   \n",
       "\n",
       "                                   x              y  \\\n",
       "490000235X.link:834    529981.795880  181412.097576   \n",
       "490000235YB.link:574   529570.781323  181336.281593   \n",
       "490014214HE.link:3154  529477.750156  181314.437043   \n",
       "490010689KB.link:981   529166.734973  181256.336723   \n",
       "490015196OG.link:2954  528823.776634  181291.362193   \n",
       "\n",
       "                                                          geometry  \n",
       "490000235X.link:834    POINT (529981.7958802709 181412.0975758662)  \n",
       "490000235YB.link:574   POINT (529570.7813227688 181336.2815925331)  \n",
       "490014214HE.link:3154  POINT (529477.7501560802 181314.4370430721)  \n",
       "490010689KB.link:981   POINT (529166.7349732723 181256.3367228433)  \n",
       "490015196OG.link:2954   POINT (528823.776634044 181291.3621925522)  "
      ]
     },
     "execution_count": 41,
     "metadata": {},
     "output_type": "execute_result"
    }
   ],
   "source": [
    "n.schedule.stop_attribute_data(keys=['name', 'x', 'y', 'geometry']).head()"
   ]
  },
  {
   "cell_type": "code",
   "execution_count": 42,
   "metadata": {
    "ExecuteTime": {
     "end_time": "2021-02-12T11:47:14.281132Z",
     "start_time": "2021-02-12T11:47:13.802580Z"
    }
   },
   "outputs": [
    {
     "data": {
      "text/plain": [
       "<matplotlib.axes._subplots.AxesSubplot at 0x1142d7c18>"
      ]
     },
     "execution_count": 42,
     "metadata": {},
     "output_type": "execute_result"
    },
    {
     "data": {
      "image/png": "[encoded data removed]",
      "text/plain": [
       "<Figure size 432x288 with 1 Axes>"
      ]
     },
     "metadata": {
      "needs_background": "light"
     },
     "output_type": "display_data"
    }
   ],
   "source": [
    "from geopandas import GeoDataFrame\n",
    "GeoDataFrame(n.schedule.stop_attribute_data(keys='geometry')).plot()"
   ]
  },
  {
   "cell_type": "code",
   "execution_count": 43,
   "metadata": {
    "ExecuteTime": {
     "end_time": "2021-02-12T11:47:14.309189Z",
     "start_time": "2021-02-12T11:47:14.290450Z"
    }
   },
   "outputs": [
    {
     "data": {
      "text/plain": [
       "{'id': '490000235YB.link:574',\n",
       " 'x': 529570.7813227688,\n",
       " 'y': 181336.2815925331,\n",
       " 'epsg': 'epsg:27700',\n",
       " 'name': 'Oxford Street  Soho Street (Stop YB)',\n",
       " 'lat': 51.51609803324078,\n",
       " 'lon': -0.13404398709291862,\n",
       " 's2_id': 5221390696959560815,\n",
       " 'additional_attributes': ['services',\n",
       "  'routes',\n",
       "  'linkRefId',\n",
       "  'isBlocking',\n",
       "  'new_attribute',\n",
       "  'geometry'],\n",
       " 'services': ['18853', '20274', '14134'],\n",
       " 'routes': ['VJ375a660d47a2aa570aa20a8568012da8497ffecf',\n",
       "  'VJdf3936da1a51eb33db594ef99738802c14b19995',\n",
       "  'VJd78967364a302cf232c5139d40622dcb6c238c9e',\n",
       "  'VJf9a22035ae6f25bb420df833474943ad76065c89',\n",
       "  'VJ4e2b897edf0e7b8a8e3b5516ab43ce56f72c5cff',\n",
       "  'VJ256e98df611ff48afe737ddc81cbcde82e4e81c8',\n",
       "  'VJa7f37392e276aeac26c7e73bbc05e6a71af38dba',\n",
       "  'VJ12ba6089dfb2733e29c415a1a0015fef30fd5305',\n",
       "  'VJ2aba67e3ed98f2ed5f5966c1ac394cbf6d1943d7',\n",
       "  'VJf3e316e5e605bb512147dee2a989be5a82ef1b5f'],\n",
       " 'linkRefId': '574',\n",
       " 'isBlocking': 'false',\n",
       " 'new_attribute': 'hello!',\n",
       " 'geometry': <shapely.geometry.point.Point at 0x1142c64a8>}"
      ]
     },
     "execution_count": 43,
     "metadata": {},
     "output_type": "execute_result"
    }
   ],
   "source": [
    "n.schedule.stop('490000235YB.link:574').__dict__"
   ]
  },
  {
   "cell_type": "code",
   "execution_count": 44,
   "metadata": {
    "ExecuteTime": {
     "end_time": "2021-02-12T11:47:14.560029Z",
     "start_time": "2021-02-12T11:47:14.315353Z"
    }
   },
   "outputs": [
    {
     "ename": "TypeError",
     "evalue": "apply_function_to_routes() missing 2 required positional arguments: 'function' and 'location'",
     "output_type": "error",
     "traceback": [
      "\u001b[0;31m---------------------------------------------------------------------------\u001b[0m",
      "\u001b[0;31mTypeError\u001b[0m                                 Traceback (most recent call last)",
      "\u001b[0;32m<ipython-input-44-cd31ff4cb17c>\u001b[0m in \u001b[0;36m<module>\u001b[0;34m\u001b[0m\n\u001b[0;32m----> 1\u001b[0;31m \u001b[0mn\u001b[0m\u001b[0;34m.\u001b[0m\u001b[0mschedule\u001b[0m\u001b[0;34m.\u001b[0m\u001b[0mapply_function_to_routes\u001b[0m\u001b[0;34m(\u001b[0m\u001b[0;34m)\u001b[0m\u001b[0;34m\u001b[0m\u001b[0m\n\u001b[0m",
      "\u001b[0;31mTypeError\u001b[0m: apply_function_to_routes() missing 2 required positional arguments: 'function' and 'location'"
     ]
    }
   ],
   "source": [
    "\n",
    "\n",
    "n.schedule.apply_function_to_routes()"
   ]
  },
  {
   "cell_type": "code",
   "execution_count": null,
   "metadata": {
    "ExecuteTime": {
     "end_time": "2021-02-12T11:47:14.596821Z",
     "start_time": "2021-02-12T11:47:05.420Z"
    }
   },
   "outputs": [],
   "source": [
    "n.schedule.apply_function_to_services()"
   ]
  },
  {
   "cell_type": "code",
   "execution_count": null,
   "metadata": {
    "ExecuteTime": {
     "end_time": "2021-02-12T11:47:14.601503Z",
     "start_time": "2021-02-12T11:47:05.424Z"
    }
   },
   "outputs": [],
   "source": [
    "n.schedule.change_log().head()"
   ]
  },
  {
   "cell_type": "code",
   "execution_count": null,
   "metadata": {},
   "outputs": [],
   "source": []
  }
 ],
 "metadata": {
  "kernelspec": {
   "display_name": "Python (genet)",
   "language": "python",
   "name": "genet"
  },
  "language_info": {
   "codemirror_mode": {
    "name": "ipython",
    "version": 3
   },
   "file_extension": ".py",
   "mimetype": "text/x-python",
   "name": "python",
   "nbconvert_exporter": "python",
   "pygments_lexer": "ipython3",
   "version": "3.7.0"
  },
  "latex_envs": {
   "LaTeX_envs_menu_present": true,
   "autoclose": true,
   "autocomplete": true,
   "bibliofile": "biblio.bib",
   "cite_by": "apalike",
   "current_citInitial": 1,
   "eqLabelWithNumbers": true,
   "eqNumInitial": 1,
   "hotkeys": {
    "equation": "Ctrl-E",
    "itemize": "Ctrl-I"
   },
   "labels_anchors": false,
   "latex_user_defs": false,
   "report_style_numbering": false,
   "user_envs_cfg": false
  },
  "toc": {
   "base_numbering": 1,
   "nav_menu": {},
   "number_sections": true,
   "sideBar": true,
   "skip_h1_title": false,
   "title_cell": "Table of Contents",
   "title_sidebar": "Contents",
   "toc_cell": false,
   "toc_position": {},
   "toc_section_display": true,
   "toc_window_display": false
  },
  "varInspector": {
   "cols": {
    "lenName": 16,
    "lenType": 16,
    "lenVar": 40
   },
   "kernels_config": {
    "python": {
     "delete_cmd_postfix": "",
     "delete_cmd_prefix": "del ",
     "library": "var_list.py",
     "varRefreshCmd": "print(var_dic_list())"
    },
    "r": {
     "delete_cmd_postfix": ") ",
     "delete_cmd_prefix": "rm(",
     "library": "var_list.r",
     "varRefreshCmd": "cat(var_dic_list()) "
    }
   },
   "types_to_exclude": [
    "module",
    "function",
    "builtin_function_or_method",
    "instance",
    "_Feature"
   ],
   "window_display": false
  }
 },
 "nbformat": 4,
 "nbformat_minor": 2
}
