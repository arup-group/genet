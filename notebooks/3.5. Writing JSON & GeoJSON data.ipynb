{
 "cells": [
  {
   "cell_type": "markdown",
   "metadata": {},
   "source": [
    "# Writing JSON & GeoJSON data\n"
   ]
  },
  {
   "cell_type": "code",
   "execution_count": 1,
   "metadata": {
    "ExecuteTime": {
     "end_time": "2021-03-31T10:56:35.298397Z",
     "start_time": "2021-03-31T10:56:30.153334Z"
    }
   },
   "outputs": [
    {
     "name": "stdout",
     "output_type": "stream",
     "text": [
      "Graph info: Name: Network graph\n",
      "Type: MultiDiGraph\n",
      "Number of nodes: 1662\n",
      "Number of edges: 3166\n",
      "Average in degree:   1.9049\n",
      "Average out degree:   1.9049 \n",
      "Schedule info: Schedule:\n",
      "Number of services: 9\n",
      "Number of routes: 68\n",
      "Number of stops: 45\n"
     ]
    }
   ],
   "source": [
    "from genet import read_matsim\n",
    "import os\n",
    "\n",
    "path_to_matsim_network = '../example_data/pt2matsim_network'\n",
    "\n",
    "network = os.path.join(path_to_matsim_network, 'network.xml')\n",
    "schedule = os.path.join(path_to_matsim_network, 'schedule.xml')\n",
    "vehicles = os.path.join(path_to_matsim_network, 'vehicles.xml')\n",
    "n = read_matsim(\n",
    "    path_to_network=network, \n",
    "    epsg='epsg:27700', \n",
    "    path_to_schedule=schedule, \n",
    "    path_to_vehicles=vehicles\n",
    ")\n",
    "# you don't need to read the vehicles file, but doing so ensures all vehicles\n",
    "# in the schedule are of the expected type and the definition of the vehicle\n",
    "# is preserved\n",
    "n.print()"
   ]
  },
  {
   "cell_type": "markdown",
   "metadata": {},
   "source": [
    "You can write the Network and it's Schedule (if applicable) to JSON:"
   ]
  },
  {
   "cell_type": "code",
   "execution_count": 2,
   "metadata": {
    "ExecuteTime": {
     "end_time": "2021-03-31T10:56:38.328520Z",
     "start_time": "2021-03-31T10:56:35.303177Z"
    }
   },
   "outputs": [
    {
     "name": "stderr",
     "output_type": "stream",
     "text": [
      "2021-03-31 11:56:35,308 - Saving Network to JSON in ../example_data/output_json\n",
      "2021-03-31 11:56:38,210 - Saving Schedule to JSON in ../example_data/output_json\n"
     ]
    }
   ],
   "source": [
    "n.write_to_json('../example_data/output_json')"
   ]
  },
  {
   "cell_type": "markdown",
   "metadata": {},
   "source": [
    "Writing the Network to JSON preserves all of the Network data - unlike writing the Network to CSV or MATSim format. For limitations of those formats head over to Sections/Notebooks:\n",
    "- Writing CSV data\n",
    "- Writing MATSim data"
   ]
  },
  {
   "cell_type": "markdown",
   "metadata": {},
   "source": [
    "You can also choose to write the network to GeoJSON. This will produce spatial representation of the Network graph and the Schedule graph. \n",
    "\n",
    "- The main diference for the Network graph outputs is that the link geometry is a `LINESTRING`, whereas in the JSON outputs, this geometry is an encoded polyline.\n",
    "- The biggest difference is for the Schedule graph. With JSON output you get the entire Schedule data saved to file. With GeoJSON you get only the spatial representation of the graph, nodes and edges, where nodes are the Stops in the Schedule and edges are the connections between Stops as defined by the Route and Service objects which use those Stops.  It does not include any information about the vehicles, their IDs or modes, vehicle definitions or network routes (the edges are straight lines between the Stops)"
   ]
  },
  {
   "cell_type": "code",
   "execution_count": 3,
   "metadata": {
    "ExecuteTime": {
     "end_time": "2021-03-31T10:56:41.603362Z",
     "start_time": "2021-03-31T10:56:38.330914Z"
    }
   },
   "outputs": [
    {
     "name": "stderr",
     "output_type": "stream",
     "text": [
      "2021-03-31 11:56:39,729 - Saving Network to GeoJSON in ../example_data/output_geojson\n",
      "2021-03-31 11:56:39,781 - ../example_data/output_geojson/network_nodes.geojson: No such file or directory\n",
      "2021-03-31 11:56:39,782 - driver GeoJSON does not support creation option ENCODING\n",
      "2021-03-31 11:56:40,139 - ../example_data/output_geojson/network_links.geojson: No such file or directory\n",
      "2021-03-31 11:56:40,140 - driver GeoJSON does not support creation option ENCODING\n",
      "2021-03-31 11:56:40,962 - ../example_data/output_geojson/network_nodes_geometry_only.geojson: No such file or directory\n",
      "2021-03-31 11:56:40,963 - driver GeoJSON does not support creation option ENCODING\n",
      "2021-03-31 11:56:41,128 - ../example_data/output_geojson/network_links_geometry_only.geojson: No such file or directory\n",
      "2021-03-31 11:56:41,129 - driver GeoJSON does not support creation option ENCODING\n",
      "2021-03-31 11:56:41,442 - Saving Schedule to GeoJSON in ../example_data/output_geojson\n",
      "2021-03-31 11:56:41,467 - ../example_data/output_geojson/schedule_nodes.geojson: No such file or directory\n",
      "2021-03-31 11:56:41,467 - driver GeoJSON does not support creation option ENCODING\n",
      "2021-03-31 11:56:41,503 - ../example_data/output_geojson/schedule_links.geojson: No such file or directory\n",
      "2021-03-31 11:56:41,505 - driver GeoJSON does not support creation option ENCODING\n",
      "2021-03-31 11:56:41,535 - ../example_data/output_geojson/schedule_nodes_geometry_only.geojson: No such file or directory\n",
      "2021-03-31 11:56:41,536 - driver GeoJSON does not support creation option ENCODING\n",
      "2021-03-31 11:56:41,564 - ../example_data/output_geojson/schedule_links_geometry_only.geojson: No such file or directory\n",
      "2021-03-31 11:56:41,568 - driver GeoJSON does not support creation option ENCODING\n"
     ]
    }
   ],
   "source": [
    "n.write_to_geojson('../example_data/output_geojson')"
   ]
  }
 ],
 "metadata": {
  "kernelspec": {
   "display_name": "genet",
   "language": "python",
   "name": "genet"
  },
  "language_info": {
   "codemirror_mode": {
    "name": "ipython",
    "version": 3
   },
   "file_extension": ".py",
   "mimetype": "text/x-python",
   "name": "python",
   "nbconvert_exporter": "python",
   "pygments_lexer": "ipython3",
   "version": "3.7.0"
  },
  "latex_envs": {
   "LaTeX_envs_menu_present": true,
   "autoclose": true,
   "autocomplete": true,
   "bibliofile": "biblio.bib",
   "cite_by": "apalike",
   "current_citInitial": 1,
   "eqLabelWithNumbers": true,
   "eqNumInitial": 1,
   "hotkeys": {
    "equation": "Ctrl-E",
    "itemize": "Ctrl-I"
   },
   "labels_anchors": false,
   "latex_user_defs": false,
   "report_style_numbering": false,
   "user_envs_cfg": false
  },
  "toc": {
   "base_numbering": 1,
   "nav_menu": {},
   "number_sections": true,
   "sideBar": true,
   "skip_h1_title": false,
   "title_cell": "Table of Contents",
   "title_sidebar": "Contents",
   "toc_cell": false,
   "toc_position": {},
   "toc_section_display": true,
   "toc_window_display": false
  },
  "varInspector": {
   "cols": {
    "lenName": 16,
    "lenType": 16,
    "lenVar": 40
   },
   "kernels_config": {
    "python": {
     "delete_cmd_postfix": "",
     "delete_cmd_prefix": "del ",
     "library": "var_list.py",
     "varRefreshCmd": "print(var_dic_list())"
    },
    "r": {
     "delete_cmd_postfix": ") ",
     "delete_cmd_prefix": "rm(",
     "library": "var_list.r",
     "varRefreshCmd": "cat(var_dic_list()) "
    }
   },
   "types_to_exclude": [
    "module",
    "function",
    "builtin_function_or_method",
    "instance",
    "_Feature"
   ],
   "window_display": false
  }
 },
 "nbformat": 4,
 "nbformat_minor": 2
}
