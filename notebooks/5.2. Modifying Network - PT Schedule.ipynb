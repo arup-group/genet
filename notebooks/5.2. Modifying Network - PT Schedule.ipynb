{
 "cells": [
  {
   "cell_type": "markdown",
   "metadata": {},
   "source": [
    "# Modifying the `Schedule` object\n",
    "\n",
    "GeNet has a number of methods to change the Schedule objects. Make sure you validate the end result."
   ]
  },
  {
   "cell_type": "code",
   "execution_count": 1,
   "metadata": {
    "ExecuteTime": {
     "end_time": "2021-12-02T15:41:12.442121Z",
     "start_time": "2021-12-02T15:38:38.972307Z"
    }
   },
   "outputs": [
    {
     "name": "stdout",
     "output_type": "stream",
     "text": [
      "Graph info: Name: Network graph\n",
      "Type: MultiDiGraph\n",
      "Number of nodes: 1662\n",
      "Number of edges: 3166\n",
      "Average in degree:   1.9049\n",
      "Average out degree:   1.9049 \n",
      "Schedule info: Schedule:\n",
      "Number of services: 9\n",
      "Number of routes: 68\n",
      "Number of stops: 118\n"
     ]
    }
   ],
   "source": [
    "# read example network\n",
    "import pandas as pd\n",
    "from genet import Network, Stop, Route, Service, read_matsim\n",
    "import os\n",
    "\n",
    "path_to_matsim_network = '../example_data/pt2matsim_network'\n",
    "\n",
    "network = os.path.join(path_to_matsim_network, 'network.xml')\n",
    "schedule = os.path.join(path_to_matsim_network, 'schedule.xml')\n",
    "vehicles = os.path.join(path_to_matsim_network, 'vehicles.xml')\n",
    "n = read_matsim(\n",
    "    path_to_network=network, \n",
    "    epsg='epsg:27700', \n",
    "    path_to_schedule=schedule, \n",
    "    path_to_vehicles=vehicles\n",
    ")\n",
    "# you don't need to read the vehicles file, but doing so ensures all vehicles\n",
    "# in the schedule are of the expected type and the definition of the vehicle\n",
    "# is preserved\n",
    "n.print()"
   ]
  },
  {
   "cell_type": "markdown",
   "metadata": {},
   "source": [
    "## Adding Routes, Services\n",
    "\n",
    "You can add `Route`s and `Service`s. To add a `Route`, you need to identify which existing `Service` it should come under."
   ]
  },
  {
   "cell_type": "code",
   "execution_count": 2,
   "metadata": {
    "ExecuteTime": {
     "end_time": "2021-12-02T15:41:18.063472Z",
     "start_time": "2021-12-02T15:41:12.457263Z"
    }
   },
   "outputs": [],
   "source": [
    "route = Route(\n",
    "    route_short_name='N55',\n",
    "    mode='bus',\n",
    "    trips={'trip_id': ['fun_trip_1', 'fun_trip_2'], \n",
    "           'trip_departure_time': ['03:53:00', '16:23:00'], \n",
    "           'vehicle_id': ['fun_bus_1', 'fun_bus_2']},\n",
    "   arrival_offsets=['00:00:00', '00:02:00', '00:04:00', '00:06:00'],\n",
    "   departure_offsets=['00:00:00', '00:02:00', '00:04:00', '00:06:00'],\n",
    "   id='new_route',\n",
    "#    route= ['834', '1573', '3139', '3141', '574', '3154', '979', '980', '981'],\n",
    "   await_departure= [True, True, True, True],\n",
    "   stops=[n.schedule.stop('490000235X'),\n",
    "          Stop(id='new_stop', x=529500, y=181300,\n",
    "            name='New Stop', epsg='epsg:27700'),\n",
    "          Stop(id='other_new_stop', x=529502, y=181302,\n",
    "            name='Other New Stop', epsg='epsg:27700'),\n",
    "          n.schedule.stop('490010689KB')]\n",
    ")"
   ]
  },
  {
   "cell_type": "markdown",
   "metadata": {},
   "source": [
    "You can create and add a new `Service`, or add the route to an existing Service"
   ]
  },
  {
   "cell_type": "code",
   "execution_count": 3,
   "metadata": {
    "ExecuteTime": {
     "end_time": "2021-12-02T15:41:18.132182Z",
     "start_time": "2021-12-02T15:41:18.091796Z"
    }
   },
   "outputs": [
    {
     "name": "stdout",
     "output_type": "stream",
     "text": [
      "Service ID: new_service\n",
      "Name: N55\n",
      "Number of routes: 1\n",
      "Number of stops: 4\n"
     ]
    }
   ],
   "source": [
    "new_service = Service(id='new_service', routes=[route])\n",
    "new_service.print()"
   ]
  },
  {
   "cell_type": "code",
   "execution_count": 4,
   "metadata": {
    "ExecuteTime": {
     "end_time": "2021-12-02T15:41:20.253469Z",
     "start_time": "2021-12-02T15:41:18.161279Z"
    }
   },
   "outputs": [
    {
     "name": "stderr",
     "output_type": "stream",
     "text": [
      "2021-12-02 16:41:18,228 - Added Service with index `new_service`, data={'id': 'new_service', 'name': 'N55'} and Routes: ['new_route']\n"
     ]
    },
    {
     "data": {
      "text/plain": [
       "<Service instance at 4894781968: with 1 routes>"
      ]
     },
     "execution_count": 4,
     "metadata": {},
     "output_type": "execute_result"
    }
   ],
   "source": [
    "n.schedule.add_service(Service(id='new_service', routes=[route]))"
   ]
  },
  {
   "cell_type": "code",
   "execution_count": 5,
   "metadata": {
    "ExecuteTime": {
     "end_time": "2021-12-02T15:41:22.749338Z",
     "start_time": "2021-12-02T15:41:20.260083Z"
    }
   },
   "outputs": [
    {
     "name": "stderr",
     "output_type": "stream",
     "text": [
      "2021-12-02 16:41:20,276 - Route with ID `new_route` within already exists in the Schedule. This Route will be reindexed to `20274_4`\n",
      "2021-12-02 16:41:20,293 - Reindexed Route from new_route to 20274_4\n",
      "2021-12-02 16:41:20,315 - Added Route with index `20274_4`, data={'route_short_name': 'N55', 'mode': 'bus', 'trips': {'trip_id': ['fun_trip_1', 'fun_trip_2'], 'trip_departure_time': ['03:53:00', '16:23:00'], 'vehicle_id': ['fun_bus_1', 'fun_bus_2']}, 'arrival_offsets': ['00:00:00', '00:02:00', '00:04:00', '00:06:00'], 'departure_offsets': ['00:00:00', '00:02:00', '00:04:00', '00:06:00'], 'route_long_name': '', 'id': '20274_4', 'route': [], 'await_departure': [True, True, True, True], 'ordered_stops': ['490000235X', 'new_stop', 'other_new_stop', '490010689KB']} to Service `20274` within the Schedule\n",
      "/Users/kasia.kozlowska/PycharmProjects/ABM/genet/genet/schedule_elements.py:1276: UserWarning: DataFrame columns are not unique, some columns will be omitted.\n",
      "  self.vehicles = {**df.T.to_dict(), **self.vehicles}\n"
     ]
    },
    {
     "data": {
      "text/plain": [
       "<Route instance at 4894794320: with 4 stops and 2 trips>"
      ]
     },
     "execution_count": 5,
     "metadata": {},
     "output_type": "execute_result"
    }
   ],
   "source": [
    "n.schedule.add_route('20274', route)"
   ]
  },
  {
   "cell_type": "code",
   "execution_count": 6,
   "metadata": {
    "ExecuteTime": {
     "end_time": "2021-12-02T15:41:22.829429Z",
     "start_time": "2021-12-02T15:41:22.787148Z"
    }
   },
   "outputs": [
    {
     "name": "stdout",
     "output_type": "stream",
     "text": [
      "Service ID: new_service\n",
      "Name: N55\n",
      "Number of routes: 1\n",
      "Number of stops: 4\n"
     ]
    }
   ],
   "source": [
    "n.schedule['new_service'].print()"
   ]
  },
  {
   "cell_type": "code",
   "execution_count": 7,
   "metadata": {
    "ExecuteTime": {
     "end_time": "2021-12-02T15:41:22.881471Z",
     "start_time": "2021-12-02T15:41:22.845282Z"
    }
   },
   "outputs": [
    {
     "data": {
      "text/plain": [
       "['490000235X', 'new_stop', 'other_new_stop', '490010689KB']"
      ]
     },
     "execution_count": 7,
     "metadata": {},
     "output_type": "execute_result"
    }
   ],
   "source": [
    "n.schedule.route('20274_4').ordered_stops"
   ]
  },
  {
   "cell_type": "markdown",
   "metadata": {},
   "source": [
    "You can also refer to existing stops in the `Schedule` when creating a`Route` to be added. You can either just pass Stop IDs as strings or use a stop method on the schedule to take and use that stop object. Note that in the case of the former (passing ID strings), the route will not have the spatial information for those stops until it is added to the Schedule."
   ]
  },
  {
   "cell_type": "code",
   "execution_count": 8,
   "metadata": {
    "ExecuteTime": {
     "end_time": "2021-12-02T15:41:23.015265Z",
     "start_time": "2021-12-02T15:41:22.931705Z"
    }
   },
   "outputs": [],
   "source": [
    "r = Route(\n",
    "    route_short_name='N55',\n",
    "    mode='bus',\n",
    "    trips={'trip_id': ['some_trip_1'], \n",
    "           'trip_departure_time': ['16:23:00'], \n",
    "           'vehicle_id': ['some_bus_2']},\n",
    "   arrival_offsets=['00:00:00', '00:06:00'],\n",
    "   departure_offsets=['00:00:00', '00:06:00'],\n",
    "   id='another_new_route',\n",
    "#    route= ['834', '1573', '3139', '3141', '574', '3154', '979', '980', '981'],\n",
    "   await_departure= [True, True],\n",
    "   stops=['490000235X.link:834', \n",
    "          '490010689KB.link:981']\n",
    ")"
   ]
  },
  {
   "cell_type": "code",
   "execution_count": 9,
   "metadata": {
    "ExecuteTime": {
     "end_time": "2021-12-02T15:41:23.056184Z",
     "start_time": "2021-12-02T15:41:23.027235Z"
    }
   },
   "outputs": [
    {
     "data": {
      "text/plain": [
       "{'routes': {'another_new_route'}}"
      ]
     },
     "execution_count": 9,
     "metadata": {},
     "output_type": "execute_result"
    }
   ],
   "source": [
    "r.graph().nodes['490000235X.link:834']"
   ]
  },
  {
   "cell_type": "code",
   "execution_count": 10,
   "metadata": {
    "ExecuteTime": {
     "end_time": "2021-12-02T15:41:25.809252Z",
     "start_time": "2021-12-02T15:41:23.060976Z"
    }
   },
   "outputs": [
    {
     "name": "stderr",
     "output_type": "stream",
     "text": [
      "2021-12-02 16:41:23,087 - Added Route with index `another_new_route`, data={'route_short_name': 'N55', 'mode': 'bus', 'trips': {'trip_id': ['some_trip_1'], 'trip_departure_time': ['16:23:00'], 'vehicle_id': ['some_bus_2']}, 'arrival_offsets': ['00:00:00', '00:06:00'], 'departure_offsets': ['00:00:00', '00:06:00'], 'route_long_name': '', 'id': 'another_new_route', 'route': [], 'await_departure': [True, True], 'ordered_stops': ['490000235X.link:834', '490010689KB.link:981']} to Service `20274` within the Schedule\n"
     ]
    },
    {
     "data": {
      "text/plain": [
       "<Route instance at 4898013776: with 2 stops and 1 trips>"
      ]
     },
     "execution_count": 10,
     "metadata": {},
     "output_type": "execute_result"
    }
   ],
   "source": [
    "n.schedule.add_route('20274', r)"
   ]
  },
  {
   "cell_type": "code",
   "execution_count": 11,
   "metadata": {
    "ExecuteTime": {
     "end_time": "2021-12-02T15:41:25.847741Z",
     "start_time": "2021-12-02T15:41:25.813458Z"
    }
   },
   "outputs": [
    {
     "data": {
      "text/plain": [
       "{'services': {'14134', '18853', '20274'},\n",
       " 'routes': {'VJ12ba6089dfb2733e29c415a1a0015fef30fd5305',\n",
       "  'VJ256e98df611ff48afe737ddc81cbcde82e4e81c8',\n",
       "  'VJ2aba67e3ed98f2ed5f5966c1ac394cbf6d1943d7',\n",
       "  'VJ375a660d47a2aa570aa20a8568012da8497ffecf',\n",
       "  'VJ4e2b897edf0e7b8a8e3b5516ab43ce56f72c5cff',\n",
       "  'VJa7f37392e276aeac26c7e73bbc05e6a71af38dba',\n",
       "  'VJd78967364a302cf232c5139d40622dcb6c238c9e',\n",
       "  'VJdf3936da1a51eb33db594ef99738802c14b19995',\n",
       "  'VJf3e316e5e605bb512147dee2a989be5a82ef1b5f',\n",
       "  'VJf9a22035ae6f25bb420df833474943ad76065c89',\n",
       "  'another_new_route'},\n",
       " 'id': '490000235X.link:834',\n",
       " 'x': 529981.7958802709,\n",
       " 'y': 181412.0975758662,\n",
       " 'epsg': 'epsg:27700',\n",
       " 'name': 'Tottenham Court Road Station (Stop X)',\n",
       " 'lon': -0.12809598708996447,\n",
       " 'lat': 51.51668503324075,\n",
       " 's2_id': 5221390722025467597,\n",
       " 'linkRefId': '834',\n",
       " 'isBlocking': 'false'}"
      ]
     },
     "execution_count": 11,
     "metadata": {},
     "output_type": "execute_result"
    }
   ],
   "source": [
    "r.graph().nodes['490000235X.link:834']"
   ]
  },
  {
   "cell_type": "code",
   "execution_count": 12,
   "metadata": {
    "ExecuteTime": {
     "end_time": "2021-12-02T15:41:28.579830Z",
     "start_time": "2021-12-02T15:41:25.866303Z"
    }
   },
   "outputs": [
    {
     "name": "stderr",
     "output_type": "stream",
     "text": [
      "2021-12-02 16:41:25,918 - Added Route with index `another_new_route_2`, data={'route_short_name': 'N55', 'mode': 'bus', 'trips': {'trip_id': ['some_trip_1'], 'trip_departure_time': ['16:23:00'], 'vehicle_id': ['some_bus_2']}, 'arrival_offsets': ['00:00:00', '00:06:00'], 'departure_offsets': ['00:00:00', '00:06:00'], 'route_long_name': '', 'id': 'another_new_route_2', 'route': [], 'await_departure': [True, True], 'ordered_stops': ['490000235X.link:834', '490010689KB.link:981']} to Service `20274` within the Schedule\n"
     ]
    },
    {
     "data": {
      "text/plain": [
       "<Route instance at 4899162512: with 2 stops and 1 trips>"
      ]
     },
     "execution_count": 12,
     "metadata": {},
     "output_type": "execute_result"
    }
   ],
   "source": [
    "r = Route(\n",
    "    route_short_name='N55',\n",
    "    mode='bus',\n",
    "    trips={'trip_id': ['some_trip_1'], \n",
    "           'trip_departure_time': ['16:23:00'], \n",
    "           'vehicle_id': ['some_bus_2']},\n",
    "   arrival_offsets=['00:00:00', '00:06:00'],\n",
    "   departure_offsets=['00:00:00', '00:06:00'],\n",
    "   id='another_new_route_2',\n",
    "#    route= ['834', '1573', '3139', '3141', '574', '3154', '979', '980', '981'],\n",
    "   await_departure= [True, True],\n",
    "   stops=[n.schedule.stop('490000235X.link:834'), \n",
    "          n.schedule.stop('490010689KB.link:981')]\n",
    ")\n",
    "n.schedule.add_route('20274', r)"
   ]
  },
  {
   "cell_type": "markdown",
   "metadata": {},
   "source": [
    "Note that for a Schedule to be a valid MATSim network, each stop referred to by a route needs a `linkRefId` attribute which links the stop to the `Network`.\n",
    "\n",
    "Trying to add Stops with IDs already in the Schedule will result in an error, unless the `force=True` is set. The added route/service will inherit the data stored under those stops. The idea is that you can either specify the Stops in the route/service to be added correctly, or if they are to be changed, you use a dedicated method - check section 'Modifying data' below."
   ]
  },
  {
   "cell_type": "code",
   "execution_count": 13,
   "metadata": {
    "ExecuteTime": {
     "end_time": "2021-12-02T15:41:38.748592Z",
     "start_time": "2021-12-02T15:41:28.620540Z"
    }
   },
   "outputs": [
    {
     "name": "stderr",
     "output_type": "stream",
     "text": [
      "2021-12-02 16:41:37,259 - The following stops will inherit the data currently stored under those Stop IDs in the Schedule: ['490000235X.link:834', '490010689KB.link:981'].\n",
      "2021-12-02 16:41:37,281 - Added Route with index `another_new_route_3`, data={'route_short_name': 'N55', 'mode': 'bus', 'trips': {'trip_id': ['fun_trip_1', 'fun_trip_2'], 'trip_departure_time': ['03:53:00', '16:23:00'], 'vehicle_id': ['fun_bus_1', 'fun_bus_2']}, 'arrival_offsets': ['00:00:00', '00:02:00', '00:04:00', '00:06:00'], 'departure_offsets': ['00:00:00', '00:02:00', '00:04:00', '00:06:00'], 'route_long_name': '', 'id': 'another_new_route_3', 'route': [], 'await_departure': [True, True, True, True], 'ordered_stops': ['490000235X.link:834', 'new_stop', 'other_new_stop', '490010689KB.link:981']} to Service `20274` within the Schedule\n"
     ]
    },
    {
     "data": {
      "text/plain": [
       "<Route instance at 4902023056: with 4 stops and 2 trips>"
      ]
     },
     "execution_count": 13,
     "metadata": {},
     "output_type": "execute_result"
    }
   ],
   "source": [
    "route = Route(\n",
    "    route_short_name='N55',\n",
    "    mode='bus',\n",
    "    trips={'trip_id': ['fun_trip_1', 'fun_trip_2'], \n",
    "           'trip_departure_time': ['03:53:00', '16:23:00'], \n",
    "           'vehicle_id': ['fun_bus_1', 'fun_bus_2']},\n",
    "   arrival_offsets=['00:00:00', '00:02:00', '00:04:00', '00:06:00'],\n",
    "   departure_offsets=['00:00:00', '00:02:00', '00:04:00', '00:06:00'],\n",
    "   id='another_new_route_3',\n",
    "#    route= ['834', '1573', '3139', '3141', '574', '3154', '979', '980', '981'],\n",
    "   await_departure= [True, True, True, True],\n",
    "   stops=[\n",
    "       Stop(id='490000235X.link:834', x=529981, y=181412, epsg='epsg:27700'),\n",
    "       Stop(id='new_stop', x=529500, y=181300, epsg='epsg:27700', name='New Stop'),\n",
    "       Stop(id='other_new_stop', x=529502, y=181302, epsg='epsg:27700', name='Other New Stop'),\n",
    "       Stop(id='490010689KB.link:981', x=529166, y=181256, epsg='epsg:27700')\n",
    "   ]\n",
    ")\n",
    "\n",
    "n.schedule.add_route('20274', route, force=True)"
   ]
  },
  {
   "cell_type": "markdown",
   "metadata": {},
   "source": [
    "Note the message above: `The following stops will inherit the data currently stored under those Stop IDs in the Schedule: ['490000235X.link:834', '490010689KB.link:981'].`\n",
    "\n",
    "NOTE: adding routes and services results in new vehicles (unless you reuse the ones already in the Schedule---beware that the same vehicle cannot service multiple trips at the same time, genet does not currently have checks for this, the user needs to be mindful of the physics of shared vehicles). New vehicles need definitions, you can add them yourself to `schedule.vehicles['vehicle_id'] = {'type': 'bus'}` ensuring this vehicle type is defined in `schedule.vehicle_types['bus']`, or you can use a genet method to generate those vehicles, the type will be derived from the mode of the route. Then you can check if all of the types that vehicles are referring to have definitions."
   ]
  },
  {
   "cell_type": "code",
   "execution_count": 14,
   "metadata": {
    "ExecuteTime": {
     "end_time": "2021-12-02T15:41:38.797894Z",
     "start_time": "2021-12-02T15:41:38.770254Z"
    }
   },
   "outputs": [
    {
     "data": {
      "text/plain": [
       "13293"
      ]
     },
     "execution_count": 14,
     "metadata": {},
     "output_type": "execute_result"
    }
   ],
   "source": [
    "len(n.schedule.vehicles)"
   ]
  },
  {
   "cell_type": "code",
   "execution_count": 15,
   "metadata": {
    "ExecuteTime": {
     "end_time": "2021-12-02T15:41:41.872077Z",
     "start_time": "2021-12-02T15:41:38.813415Z"
    }
   },
   "outputs": [],
   "source": [
    "n.schedule.generate_vehicles()"
   ]
  },
  {
   "cell_type": "code",
   "execution_count": 16,
   "metadata": {
    "ExecuteTime": {
     "end_time": "2021-12-02T15:41:42.013160Z",
     "start_time": "2021-12-02T15:41:41.881414Z"
    }
   },
   "outputs": [
    {
     "name": "stderr",
     "output_type": "stream",
     "text": [
      "2021-12-02 16:41:41,979 - The following vehicle types are missing from the `vehicle_types`  attribute: {'bus'}\n",
      "2021-12-02 16:41:41,980 - Vehicles affected by missing vehicle types: {'fun_bus_1': {'type': 'bus'}, 'fun_bus_2': {'type': 'bus'}, 'some_bus_2': {'type': 'bus'}}\n"
     ]
    },
    {
     "data": {
      "text/plain": [
       "False"
      ]
     },
     "execution_count": 16,
     "metadata": {},
     "output_type": "execute_result"
    }
   ],
   "source": [
    "n.schedule.validate_vehicle_definitions()"
   ]
  },
  {
   "cell_type": "code",
   "execution_count": 17,
   "metadata": {
    "ExecuteTime": {
     "end_time": "2021-12-02T15:41:42.061694Z",
     "start_time": "2021-12-02T15:41:42.030467Z"
    }
   },
   "outputs": [
    {
     "data": {
      "text/plain": [
       "13293"
      ]
     },
     "execution_count": 17,
     "metadata": {},
     "output_type": "execute_result"
    }
   ],
   "source": [
    "len(n.schedule.vehicles)"
   ]
  },
  {
   "cell_type": "code",
   "execution_count": 18,
   "metadata": {
    "ExecuteTime": {
     "end_time": "2021-12-02T15:41:42.263504Z",
     "start_time": "2021-12-02T15:41:42.066726Z"
    }
   },
   "outputs": [
    {
     "data": {
      "text/html": [
       "<div>\n",
       "<style scoped>\n",
       "    .dataframe tbody tr th:only-of-type {\n",
       "        vertical-align: middle;\n",
       "    }\n",
       "\n",
       "    .dataframe tbody tr th {\n",
       "        vertical-align: top;\n",
       "    }\n",
       "\n",
       "    .dataframe thead th {\n",
       "        text-align: right;\n",
       "    }\n",
       "</style>\n",
       "<table border=\"1\" class=\"dataframe\">\n",
       "  <thead>\n",
       "    <tr style=\"text-align: right;\">\n",
       "      <th></th>\n",
       "      <th>timestamp</th>\n",
       "      <th>change_event</th>\n",
       "      <th>object_type</th>\n",
       "      <th>old_id</th>\n",
       "      <th>new_id</th>\n",
       "      <th>old_attributes</th>\n",
       "      <th>new_attributes</th>\n",
       "      <th>diff</th>\n",
       "    </tr>\n",
       "  </thead>\n",
       "  <tbody>\n",
       "    <tr>\n",
       "      <th>0</th>\n",
       "      <td>2021-12-02 16:41:18</td>\n",
       "      <td>add</td>\n",
       "      <td>service</td>\n",
       "      <td>None</td>\n",
       "      <td>new_service</td>\n",
       "      <td>None</td>\n",
       "      <td>{'id': 'new_service', 'name': 'N55'}</td>\n",
       "      <td>[(add, , [('id', 'new_service'), ('name', 'N55...</td>\n",
       "    </tr>\n",
       "    <tr>\n",
       "      <th>1</th>\n",
       "      <td>2021-12-02 16:41:20</td>\n",
       "      <td>add</td>\n",
       "      <td>route</td>\n",
       "      <td>None</td>\n",
       "      <td>20274_4</td>\n",
       "      <td>None</td>\n",
       "      <td>{'route_short_name': 'N55', 'mode': 'bus', 'tr...</td>\n",
       "      <td>[(add, , [('route_short_name', 'N55'), ('mode'...</td>\n",
       "    </tr>\n",
       "    <tr>\n",
       "      <th>2</th>\n",
       "      <td>2021-12-02 16:41:23</td>\n",
       "      <td>add</td>\n",
       "      <td>route</td>\n",
       "      <td>None</td>\n",
       "      <td>another_new_route</td>\n",
       "      <td>None</td>\n",
       "      <td>{'route_short_name': 'N55', 'mode': 'bus', 'tr...</td>\n",
       "      <td>[(add, , [('route_short_name', 'N55'), ('mode'...</td>\n",
       "    </tr>\n",
       "    <tr>\n",
       "      <th>3</th>\n",
       "      <td>2021-12-02 16:41:25</td>\n",
       "      <td>add</td>\n",
       "      <td>route</td>\n",
       "      <td>None</td>\n",
       "      <td>another_new_route_2</td>\n",
       "      <td>None</td>\n",
       "      <td>{'route_short_name': 'N55', 'mode': 'bus', 'tr...</td>\n",
       "      <td>[(add, , [('route_short_name', 'N55'), ('mode'...</td>\n",
       "    </tr>\n",
       "    <tr>\n",
       "      <th>4</th>\n",
       "      <td>2021-12-02 16:41:37</td>\n",
       "      <td>add</td>\n",
       "      <td>route</td>\n",
       "      <td>None</td>\n",
       "      <td>another_new_route_3</td>\n",
       "      <td>None</td>\n",
       "      <td>{'route_short_name': 'N55', 'mode': 'bus', 'tr...</td>\n",
       "      <td>[(add, , [('route_short_name', 'N55'), ('mode'...</td>\n",
       "    </tr>\n",
       "  </tbody>\n",
       "</table>\n",
       "</div>"
      ],
      "text/plain": [
       "             timestamp change_event object_type old_id               new_id  \\\n",
       "0  2021-12-02 16:41:18          add     service   None          new_service   \n",
       "1  2021-12-02 16:41:20          add       route   None              20274_4   \n",
       "2  2021-12-02 16:41:23          add       route   None    another_new_route   \n",
       "3  2021-12-02 16:41:25          add       route   None  another_new_route_2   \n",
       "4  2021-12-02 16:41:37          add       route   None  another_new_route_3   \n",
       "\n",
       "  old_attributes                                     new_attributes  \\\n",
       "0           None               {'id': 'new_service', 'name': 'N55'}   \n",
       "1           None  {'route_short_name': 'N55', 'mode': 'bus', 'tr...   \n",
       "2           None  {'route_short_name': 'N55', 'mode': 'bus', 'tr...   \n",
       "3           None  {'route_short_name': 'N55', 'mode': 'bus', 'tr...   \n",
       "4           None  {'route_short_name': 'N55', 'mode': 'bus', 'tr...   \n",
       "\n",
       "                                                diff  \n",
       "0  [(add, , [('id', 'new_service'), ('name', 'N55...  \n",
       "1  [(add, , [('route_short_name', 'N55'), ('mode'...  \n",
       "2  [(add, , [('route_short_name', 'N55'), ('mode'...  \n",
       "3  [(add, , [('route_short_name', 'N55'), ('mode'...  \n",
       "4  [(add, , [('route_short_name', 'N55'), ('mode'...  "
      ]
     },
     "execution_count": 18,
     "metadata": {},
     "output_type": "execute_result"
    }
   ],
   "source": [
    "n.schedule.change_log().tail()"
   ]
  },
  {
   "cell_type": "markdown",
   "metadata": {},
   "source": [
    "There are no methods to add `Stop` objects on their own. They are added to the Schedule with `Route` and `Service` objects."
   ]
  },
  {
   "cell_type": "markdown",
   "metadata": {},
   "source": [
    "### Routing added Services/Routes\n",
    "\n",
    "You can use methods in GeNet to relate the Stops of PT services and find network routes between them. First you need to know the ID of the Service you want to snap (you can also snap the entire schedule, but depending on the size and complexity of your network and schedule it might take a long time). GeNet will then relate all stops in that service to a link in the Network graph and route all of the `Route`s of the `Service` object. It will do this for directed subsets (subgraphs) of the Service (e.g. if you have a Northbound and Southboud service, the stops may have to find different links in the graph)\n",
    "\n",
    "There are a lot of different parameters you can add to this method, that give you a bit more control. \n",
    "- `solver`: You can specify different mathematical solvers. For example GLPK, an open source solver which can be found here: https://www.gnu.org/software/glpk/. Another good open source choice is CBC: https://projects.coin-or.org/Cbc. You specify it as a string e.g. 'glpk', 'cbc', 'gurobi'. The solver needs to support MILP - mixed integer linear programming\n",
    "- `allow_partial`: Sometimes there isn't a link available for snapping within threshold for all stops. If allowed (default) an artificial self-loop link will be created as well as any connecting links to that unsnapped stop, under modal conditions. If set to False and the problem is partial, it will raise PartialMaxStableSetProblem error instead.\n",
    "- `distance_threshold`, `step_size`: You can vary the threshold for snapping stops to links. There are two parameters, the overall threshold and a step size; when snapping, the search area for links increases in steps until some links are found, we don't use the threshold right away because we don't want to have too many choices for snapping (makes it a little less heavy computationally)).\n",
    "- `additional_modes`: You can specify additional modes (when snapping, genet will consider a modal subset of the network that matches the pt service, e.g. bus, but you might want to use links that allow cars too).\n",
    "- `allow_directional_split`: You can opt for splitting the problem of snapping by direction. GeNet will then solve a series of problems for subgraphs (disjoint w.r.t. edges) of the Service. This is useful for rail type services that might share the same stop regardless of direction (in comparison to buses which have distinct bus stops, depending on which way they're travelling).\n",
    "\n",
    "Check the methods' doc strings for up to date details."
   ]
  },
  {
   "cell_type": "code",
   "execution_count": 19,
   "metadata": {
    "ExecuteTime": {
     "end_time": "2021-12-02T15:41:42.292320Z",
     "start_time": "2021-12-02T15:41:42.266428Z"
    }
   },
   "outputs": [
    {
     "data": {
      "text/plain": [
       "[]"
      ]
     },
     "execution_count": 19,
     "metadata": {},
     "output_type": "execute_result"
    }
   ],
   "source": [
    "n.schedule['new_service'].route('new_route').route"
   ]
  },
  {
   "cell_type": "code",
   "execution_count": 20,
   "metadata": {
    "ExecuteTime": {
     "end_time": "2021-12-02T15:41:42.312105Z",
     "start_time": "2021-12-02T15:41:42.298358Z"
    }
   },
   "outputs": [
    {
     "data": {
      "text/plain": [
       "['490000235X', 'new_stop', 'other_new_stop', '490010689KB']"
      ]
     },
     "execution_count": 20,
     "metadata": {},
     "output_type": "execute_result"
    }
   ],
   "source": [
    "n.schedule['new_service'].route('new_route').ordered_stops"
   ]
  },
  {
   "cell_type": "code",
   "execution_count": 21,
   "metadata": {
    "ExecuteTime": {
     "end_time": "2021-12-02T15:42:01.281850Z",
     "start_time": "2021-12-02T15:41:42.314912Z"
    }
   },
   "outputs": [
    {
     "name": "stderr",
     "output_type": "stream",
     "text": [
      "2021-12-02 16:41:56,316 - Routing Service new_service with modes = {'bus'}\n",
      "2021-12-02 16:41:56,497 - Building Maximum Stable Set for PT graph with 4 stops and 3 edges\n",
      "2021-12-02 16:42:00,126 - This Maximum Stable Set Problem is partially viable.\n",
      "2021-12-02 16:42:00,128 - Maximum Stable Set problem to snap the PT graph to the network is partially viable, meaning not all stops have found a link to snap to within the distance_threshold.Partial snapping is ON, this problem will proceed to the solver.\n",
      "2021-12-02 16:42:00,130 - Passing problem to solver\n",
      "2021-12-02 16:42:00,140 - Initializing ordered Set vertices with a fundamentally unordered data source (type: set).  This WILL potentially lead to nondeterministic behavior in Pyomo\n",
      "2021-12-02 16:42:00,155 - Passing problem to solver\n",
      "2021-12-02 16:42:00,701 - Successfully snapped 3 stops to network links.\n",
      "2021-12-02 16:42:00,813 - Stop ID changes detected for Routes: {'new_route'}\n",
      "2021-12-02 16:42:00,821 - Changed Route attributes for 1 routes\n",
      "2021-12-02 16:42:00,832 - Added 1 nodes\n",
      "2021-12-02 16:42:01,212 - Generated 0 link ids.\n",
      "2021-12-02 16:42:01,229 - Added 2 links\n",
      "2021-12-02 16:42:01,240 - Changed Link attributes for 4 links\n"
     ]
    }
   ],
   "source": [
    "n.route_service('new_service')"
   ]
  },
  {
   "cell_type": "code",
   "execution_count": 22,
   "metadata": {
    "ExecuteTime": {
     "end_time": "2021-12-02T15:42:01.308341Z",
     "start_time": "2021-12-02T15:42:01.294060Z"
    }
   },
   "outputs": [
    {
     "data": {
      "text/plain": [
       "['artificial_link===from:490000235X===to:490000235X',\n",
       " 'artificial_link===from:490000235X===to:9521035',\n",
       " '3154',\n",
       " '979',\n",
       " '980',\n",
       " '981']"
      ]
     },
     "execution_count": 22,
     "metadata": {},
     "output_type": "execute_result"
    }
   ],
   "source": [
    "n.schedule['new_service'].route('new_route').route"
   ]
  },
  {
   "cell_type": "code",
   "execution_count": 23,
   "metadata": {
    "ExecuteTime": {
     "end_time": "2021-12-02T15:42:01.362458Z",
     "start_time": "2021-12-02T15:42:01.333345Z"
    }
   },
   "outputs": [
    {
     "data": {
      "text/plain": [
       "['490000235X.link:artificial_link===from:490000235X===to:490000235X',\n",
       " 'new_stop.link:3154',\n",
       " 'other_new_stop.link:3154',\n",
       " '490010689KB.link:981']"
      ]
     },
     "execution_count": 23,
     "metadata": {},
     "output_type": "execute_result"
    }
   ],
   "source": [
    "n.schedule['new_service'].route('new_route').ordered_stops"
   ]
  },
  {
   "cell_type": "markdown",
   "metadata": {},
   "source": [
    "## Reindexing"
   ]
  },
  {
   "cell_type": "code",
   "execution_count": 24,
   "metadata": {
    "ExecuteTime": {
     "end_time": "2021-12-02T15:42:01.465456Z",
     "start_time": "2021-12-02T15:42:01.375132Z"
    }
   },
   "outputs": [
    {
     "name": "stderr",
     "output_type": "stream",
     "text": [
      "2021-12-02 16:42:01,395 - Reindexed Service from new_service to more_appropriate_id\n"
     ]
    }
   ],
   "source": [
    "n.schedule['new_service'].reindex(new_id='more_appropriate_id')"
   ]
  },
  {
   "cell_type": "code",
   "execution_count": 25,
   "metadata": {
    "ExecuteTime": {
     "end_time": "2021-12-02T15:42:01.544857Z",
     "start_time": "2021-12-02T15:42:01.480365Z"
    }
   },
   "outputs": [
    {
     "name": "stderr",
     "output_type": "stream",
     "text": [
      "2021-12-02 16:42:01,507 - Reindexed Route from new_route to more_appropriate_route_id\n"
     ]
    }
   ],
   "source": [
    "n.schedule.route('new_route').reindex(new_id='more_appropriate_route_id')"
   ]
  },
  {
   "cell_type": "code",
   "execution_count": 26,
   "metadata": {
    "ExecuteTime": {
     "end_time": "2021-12-02T15:42:01.623982Z",
     "start_time": "2021-12-02T15:42:01.564091Z"
    }
   },
   "outputs": [
    {
     "data": {
      "text/html": [
       "<div>\n",
       "<style scoped>\n",
       "    .dataframe tbody tr th:only-of-type {\n",
       "        vertical-align: middle;\n",
       "    }\n",
       "\n",
       "    .dataframe tbody tr th {\n",
       "        vertical-align: top;\n",
       "    }\n",
       "\n",
       "    .dataframe thead th {\n",
       "        text-align: right;\n",
       "    }\n",
       "</style>\n",
       "<table border=\"1\" class=\"dataframe\">\n",
       "  <thead>\n",
       "    <tr style=\"text-align: right;\">\n",
       "      <th></th>\n",
       "      <th>timestamp</th>\n",
       "      <th>change_event</th>\n",
       "      <th>object_type</th>\n",
       "      <th>old_id</th>\n",
       "      <th>new_id</th>\n",
       "      <th>old_attributes</th>\n",
       "      <th>new_attributes</th>\n",
       "      <th>diff</th>\n",
       "    </tr>\n",
       "  </thead>\n",
       "  <tbody>\n",
       "    <tr>\n",
       "      <th>3</th>\n",
       "      <td>2021-12-02 16:41:25</td>\n",
       "      <td>add</td>\n",
       "      <td>route</td>\n",
       "      <td>None</td>\n",
       "      <td>another_new_route_2</td>\n",
       "      <td>None</td>\n",
       "      <td>{'route_short_name': 'N55', 'mode': 'bus', 'tr...</td>\n",
       "      <td>[(add, , [('route_short_name', 'N55'), ('mode'...</td>\n",
       "    </tr>\n",
       "    <tr>\n",
       "      <th>4</th>\n",
       "      <td>2021-12-02 16:41:37</td>\n",
       "      <td>add</td>\n",
       "      <td>route</td>\n",
       "      <td>None</td>\n",
       "      <td>another_new_route_3</td>\n",
       "      <td>None</td>\n",
       "      <td>{'route_short_name': 'N55', 'mode': 'bus', 'tr...</td>\n",
       "      <td>[(add, , [('route_short_name', 'N55'), ('mode'...</td>\n",
       "    </tr>\n",
       "    <tr>\n",
       "      <th>5</th>\n",
       "      <td>2021-12-02 16:42:00</td>\n",
       "      <td>modify</td>\n",
       "      <td>route</td>\n",
       "      <td>new_route</td>\n",
       "      <td>new_route</td>\n",
       "      <td>{'route_short_name': 'N55', 'mode': 'bus', 'tr...</td>\n",
       "      <td>{'route_short_name': 'N55', 'mode': 'bus', 'tr...</td>\n",
       "      <td>[(add, route, [(0, 'artificial_link===from:490...</td>\n",
       "    </tr>\n",
       "    <tr>\n",
       "      <th>6</th>\n",
       "      <td>2021-12-02 16:42:01</td>\n",
       "      <td>modify</td>\n",
       "      <td>service</td>\n",
       "      <td>new_service</td>\n",
       "      <td>more_appropriate_id</td>\n",
       "      <td>{'id': 'new_service'}</td>\n",
       "      <td>{'id': 'more_appropriate_id'}</td>\n",
       "      <td>[(change, id, (new_service, more_appropriate_i...</td>\n",
       "    </tr>\n",
       "    <tr>\n",
       "      <th>7</th>\n",
       "      <td>2021-12-02 16:42:01</td>\n",
       "      <td>modify</td>\n",
       "      <td>route</td>\n",
       "      <td>new_route</td>\n",
       "      <td>more_appropriate_route_id</td>\n",
       "      <td>{'id': 'new_route'}</td>\n",
       "      <td>{'id': 'more_appropriate_route_id'}</td>\n",
       "      <td>[(change, id, (new_route, more_appropriate_rou...</td>\n",
       "    </tr>\n",
       "  </tbody>\n",
       "</table>\n",
       "</div>"
      ],
      "text/plain": [
       "             timestamp change_event object_type       old_id  \\\n",
       "3  2021-12-02 16:41:25          add       route         None   \n",
       "4  2021-12-02 16:41:37          add       route         None   \n",
       "5  2021-12-02 16:42:00       modify       route    new_route   \n",
       "6  2021-12-02 16:42:01       modify     service  new_service   \n",
       "7  2021-12-02 16:42:01       modify       route    new_route   \n",
       "\n",
       "                      new_id  \\\n",
       "3        another_new_route_2   \n",
       "4        another_new_route_3   \n",
       "5                  new_route   \n",
       "6        more_appropriate_id   \n",
       "7  more_appropriate_route_id   \n",
       "\n",
       "                                      old_attributes  \\\n",
       "3                                               None   \n",
       "4                                               None   \n",
       "5  {'route_short_name': 'N55', 'mode': 'bus', 'tr...   \n",
       "6                              {'id': 'new_service'}   \n",
       "7                                {'id': 'new_route'}   \n",
       "\n",
       "                                      new_attributes  \\\n",
       "3  {'route_short_name': 'N55', 'mode': 'bus', 'tr...   \n",
       "4  {'route_short_name': 'N55', 'mode': 'bus', 'tr...   \n",
       "5  {'route_short_name': 'N55', 'mode': 'bus', 'tr...   \n",
       "6                      {'id': 'more_appropriate_id'}   \n",
       "7                {'id': 'more_appropriate_route_id'}   \n",
       "\n",
       "                                                diff  \n",
       "3  [(add, , [('route_short_name', 'N55'), ('mode'...  \n",
       "4  [(add, , [('route_short_name', 'N55'), ('mode'...  \n",
       "5  [(add, route, [(0, 'artificial_link===from:490...  \n",
       "6  [(change, id, (new_service, more_appropriate_i...  \n",
       "7  [(change, id, (new_route, more_appropriate_rou...  "
      ]
     },
     "execution_count": 26,
     "metadata": {},
     "output_type": "execute_result"
    }
   ],
   "source": [
    "n.schedule.change_log().tail()"
   ]
  },
  {
   "cell_type": "markdown",
   "metadata": {},
   "source": [
    "## Removing Stops, Routes, Services"
   ]
  },
  {
   "cell_type": "code",
   "execution_count": 27,
   "metadata": {
    "ExecuteTime": {
     "end_time": "2021-12-02T15:42:02.530337Z",
     "start_time": "2021-12-02T15:42:01.648278Z"
    }
   },
   "outputs": [
    {
     "name": "stderr",
     "output_type": "stream",
     "text": [
      "/Users/kasia.kozlowska/PycharmProjects/ABM/genet/genet/schedule_elements.py:1276: UserWarning: DataFrame columns are not unique, some columns will be omitted.\n",
      "  self.vehicles = {**df.T.to_dict(), **self.vehicles}\n",
      "2021-12-02 16:42:02,515 - Removed Service with index `more_appropriate_id`, data={'id': 'more_appropriate_id', 'name': 'N55'} and Routes: {'more_appropriate_route_id'}\n"
     ]
    }
   ],
   "source": [
    "n.schedule.remove_service('more_appropriate_id')"
   ]
  },
  {
   "cell_type": "code",
   "execution_count": 28,
   "metadata": {
    "ExecuteTime": {
     "end_time": "2021-12-02T15:42:05.582299Z",
     "start_time": "2021-12-02T15:42:02.533005Z"
    }
   },
   "outputs": [
    {
     "name": "stderr",
     "output_type": "stream",
     "text": [
      "2021-12-02 16:42:03,237 - Removed Route with index `another_new_route`, data={'route_short_name': 'N55', 'mode': 'bus', 'trips': {'trip_id': ['some_trip_1'], 'trip_departure_time': ['16:23:00'], 'vehicle_id': ['some_bus_2']}, 'arrival_offsets': ['00:00:00', '00:06:00'], 'departure_offsets': ['00:00:00', '00:06:00'], 'route_long_name': '', 'id': 'another_new_route', 'route': [], 'await_departure': [True, True], 'ordered_stops': ['490000235X.link:834', '490010689KB.link:981']}. It was linked to Service `20274`.\n",
      "2021-12-02 16:42:04,129 - Removed Route with index `another_new_route_3`, data={'route_short_name': 'N55', 'mode': 'bus', 'trips': {'trip_id': ['fun_trip_1', 'fun_trip_2'], 'trip_departure_time': ['03:53:00', '16:23:00'], 'vehicle_id': ['fun_bus_1', 'fun_bus_2']}, 'arrival_offsets': ['00:00:00', '00:02:00', '00:04:00', '00:06:00'], 'departure_offsets': ['00:00:00', '00:02:00', '00:04:00', '00:06:00'], 'route_long_name': '', 'id': 'another_new_route_3', 'route': [], 'await_departure': [True, True, True, True], 'ordered_stops': ['490000235X.link:834', 'new_stop', 'other_new_stop', '490010689KB.link:981']}. It was linked to Service `20274`.\n",
      "2021-12-02 16:42:05,578 - Removed Route with index `another_new_route_2`, data={'route_short_name': 'N55', 'mode': 'bus', 'trips': {'trip_id': ['some_trip_1'], 'trip_departure_time': ['16:23:00'], 'vehicle_id': ['some_bus_2']}, 'arrival_offsets': ['00:00:00', '00:06:00'], 'departure_offsets': ['00:00:00', '00:06:00'], 'route_long_name': '', 'id': 'another_new_route_2', 'route': [], 'await_departure': [True, True], 'ordered_stops': ['490000235X.link:834', '490010689KB.link:981']}. It was linked to Service `20274`.\n"
     ]
    }
   ],
   "source": [
    "for route_id in {'another_new_route', 'another_new_route_2', 'another_new_route_3'}:\n",
    "    n.schedule.remove_route(route_id)"
   ]
  },
  {
   "cell_type": "code",
   "execution_count": 29,
   "metadata": {
    "ExecuteTime": {
     "end_time": "2021-12-02T15:42:05.627627Z",
     "start_time": "2021-12-02T15:42:05.588576Z"
    }
   },
   "outputs": [
    {
     "data": {
      "text/html": [
       "<div>\n",
       "<style scoped>\n",
       "    .dataframe tbody tr th:only-of-type {\n",
       "        vertical-align: middle;\n",
       "    }\n",
       "\n",
       "    .dataframe tbody tr th {\n",
       "        vertical-align: top;\n",
       "    }\n",
       "\n",
       "    .dataframe thead th {\n",
       "        text-align: right;\n",
       "    }\n",
       "</style>\n",
       "<table border=\"1\" class=\"dataframe\">\n",
       "  <thead>\n",
       "    <tr style=\"text-align: right;\">\n",
       "      <th></th>\n",
       "      <th>timestamp</th>\n",
       "      <th>change_event</th>\n",
       "      <th>object_type</th>\n",
       "      <th>old_id</th>\n",
       "      <th>new_id</th>\n",
       "      <th>old_attributes</th>\n",
       "      <th>new_attributes</th>\n",
       "      <th>diff</th>\n",
       "    </tr>\n",
       "  </thead>\n",
       "  <tbody>\n",
       "    <tr>\n",
       "      <th>7</th>\n",
       "      <td>2021-12-02 16:42:01</td>\n",
       "      <td>modify</td>\n",
       "      <td>route</td>\n",
       "      <td>new_route</td>\n",
       "      <td>more_appropriate_route_id</td>\n",
       "      <td>{'id': 'new_route'}</td>\n",
       "      <td>{'id': 'more_appropriate_route_id'}</td>\n",
       "      <td>[(change, id, (new_route, more_appropriate_rou...</td>\n",
       "    </tr>\n",
       "    <tr>\n",
       "      <th>8</th>\n",
       "      <td>2021-12-02 16:42:01</td>\n",
       "      <td>remove</td>\n",
       "      <td>service</td>\n",
       "      <td>more_appropriate_id</td>\n",
       "      <td>None</td>\n",
       "      <td>{'id': 'more_appropriate_id', 'name': 'N55'}</td>\n",
       "      <td>None</td>\n",
       "      <td>[(remove, , [('id', 'more_appropriate_id'), ('...</td>\n",
       "    </tr>\n",
       "    <tr>\n",
       "      <th>9</th>\n",
       "      <td>2021-12-02 16:42:02</td>\n",
       "      <td>remove</td>\n",
       "      <td>route</td>\n",
       "      <td>another_new_route</td>\n",
       "      <td>None</td>\n",
       "      <td>{'route_short_name': 'N55', 'mode': 'bus', 'tr...</td>\n",
       "      <td>None</td>\n",
       "      <td>[(remove, , [('route_short_name', 'N55'), ('mo...</td>\n",
       "    </tr>\n",
       "    <tr>\n",
       "      <th>10</th>\n",
       "      <td>2021-12-02 16:42:03</td>\n",
       "      <td>remove</td>\n",
       "      <td>route</td>\n",
       "      <td>another_new_route_3</td>\n",
       "      <td>None</td>\n",
       "      <td>{'route_short_name': 'N55', 'mode': 'bus', 'tr...</td>\n",
       "      <td>None</td>\n",
       "      <td>[(remove, , [('route_short_name', 'N55'), ('mo...</td>\n",
       "    </tr>\n",
       "    <tr>\n",
       "      <th>11</th>\n",
       "      <td>2021-12-02 16:42:04</td>\n",
       "      <td>remove</td>\n",
       "      <td>route</td>\n",
       "      <td>another_new_route_2</td>\n",
       "      <td>None</td>\n",
       "      <td>{'route_short_name': 'N55', 'mode': 'bus', 'tr...</td>\n",
       "      <td>None</td>\n",
       "      <td>[(remove, , [('route_short_name', 'N55'), ('mo...</td>\n",
       "    </tr>\n",
       "  </tbody>\n",
       "</table>\n",
       "</div>"
      ],
      "text/plain": [
       "              timestamp change_event object_type               old_id  \\\n",
       "7   2021-12-02 16:42:01       modify       route            new_route   \n",
       "8   2021-12-02 16:42:01       remove     service  more_appropriate_id   \n",
       "9   2021-12-02 16:42:02       remove       route    another_new_route   \n",
       "10  2021-12-02 16:42:03       remove       route  another_new_route_3   \n",
       "11  2021-12-02 16:42:04       remove       route  another_new_route_2   \n",
       "\n",
       "                       new_id  \\\n",
       "7   more_appropriate_route_id   \n",
       "8                        None   \n",
       "9                        None   \n",
       "10                       None   \n",
       "11                       None   \n",
       "\n",
       "                                       old_attributes  \\\n",
       "7                                 {'id': 'new_route'}   \n",
       "8        {'id': 'more_appropriate_id', 'name': 'N55'}   \n",
       "9   {'route_short_name': 'N55', 'mode': 'bus', 'tr...   \n",
       "10  {'route_short_name': 'N55', 'mode': 'bus', 'tr...   \n",
       "11  {'route_short_name': 'N55', 'mode': 'bus', 'tr...   \n",
       "\n",
       "                         new_attributes  \\\n",
       "7   {'id': 'more_appropriate_route_id'}   \n",
       "8                                  None   \n",
       "9                                  None   \n",
       "10                                 None   \n",
       "11                                 None   \n",
       "\n",
       "                                                 diff  \n",
       "7   [(change, id, (new_route, more_appropriate_rou...  \n",
       "8   [(remove, , [('id', 'more_appropriate_id'), ('...  \n",
       "9   [(remove, , [('route_short_name', 'N55'), ('mo...  \n",
       "10  [(remove, , [('route_short_name', 'N55'), ('mo...  \n",
       "11  [(remove, , [('route_short_name', 'N55'), ('mo...  "
      ]
     },
     "execution_count": 29,
     "metadata": {},
     "output_type": "execute_result"
    }
   ],
   "source": [
    "n.schedule.change_log().tail()"
   ]
  },
  {
   "cell_type": "markdown",
   "metadata": {},
   "source": [
    "You can also remove `Stop`s. This will disconnect `Route`s and `Service`s using that `Stop`s and likely render them invalid. The method will warn you which `Route`s and `Servce`s are affected."
   ]
  },
  {
   "cell_type": "code",
   "execution_count": 30,
   "metadata": {
    "ExecuteTime": {
     "end_time": "2021-12-02T15:42:05.659480Z",
     "start_time": "2021-12-02T15:42:05.649681Z"
    }
   },
   "outputs": [
    {
     "name": "stderr",
     "output_type": "stream",
     "text": [
      "2021-12-02 16:42:05,655 - Removed Stops with indices `['new_stop']`.Routes affected: {'20274_4'}. Services affected: {'20274'}.\n"
     ]
    }
   ],
   "source": [
    "n.schedule.remove_stop('new_stop')"
   ]
  },
  {
   "cell_type": "markdown",
   "metadata": {},
   "source": [
    "You can also remove `Stop`s. This will disconnect `Route`s and `Service`s using that `Stop`s and likely render them invalid. The method will warn you which `Route`s and `Servce`s are affected."
   ]
  },
  {
   "cell_type": "code",
   "execution_count": 31,
   "metadata": {
    "ExecuteTime": {
     "end_time": "2021-12-02T15:42:05.723980Z",
     "start_time": "2021-12-02T15:42:05.681841Z"
    }
   },
   "outputs": [
    {
     "name": "stderr",
     "output_type": "stream",
     "text": [
      "2021-12-02 16:42:05,707 - Removed Stops with indices `['490015196N', '490000252S', '9400ZZLUWRR1', '490000173RF', '490010198W', '490015196R', '9400ZZLUOXC4', '9400ZZLUOXC1', '490013600C', '490000235W1', '490000235N', '9400ZZLUOXC3', '490019675D', '490000235X.link:artificial_link===from:490000235X===to:490000235X', '9400ZZLUESQ1', '9400ZZLURGP1', '9400ZZLUGPS2', '9400ZZLUWRR3', 'other_new_stop.link:3154', '9400ZZLUTCR1', '9400ZZLUWRR2', '490000252R', 'new_stop.link:3154', '9400ZZLUOXC6', '490000173RD', '9400ZZLUOXC2', '9400ZZLUESQ2', '9400ZZLURGP2', '490011126K', '490000356NE', '9400ZZLUTCR4', '490000091F', '9400ZZLUGDG1', '9400ZZLUWRR4', '9400ZZLUOXC5', '490000091E', '9400ZZLUTCR3']`.Routes affected: set(). Services affected: set().\n",
      "2021-12-02 16:42:05,721 - Removed Stops with indecies `{'490015196N', '490000252S', '9400ZZLUWRR1', '490000173RF', '490010198W', '490015196R', '9400ZZLUOXC4', '9400ZZLUOXC1', '490013600C', '490000235W1', '490000235N', '9400ZZLUOXC3', '490019675D', '490000235X.link:artificial_link===from:490000235X===to:490000235X', '9400ZZLUESQ1', '9400ZZLURGP1', '9400ZZLUGPS2', '9400ZZLUWRR3', 'other_new_stop.link:3154', '9400ZZLUTCR1', '9400ZZLUWRR2', '490000252R', 'new_stop.link:3154', '9400ZZLUOXC6', '490000173RD', '9400ZZLUOXC2', '9400ZZLUESQ2', '9400ZZLURGP2', '490011126K', '490000356NE', '9400ZZLUTCR4', '490000091F', '9400ZZLUGDG1', '9400ZZLUWRR4', '9400ZZLUOXC5', '490000091E', '9400ZZLUTCR3'}` which were not used by any Routes or part of minimal transfer times.\n"
     ]
    }
   ],
   "source": [
    "n.schedule.remove_unsused_stops()"
   ]
  },
  {
   "cell_type": "markdown",
   "metadata": {},
   "source": [
    "## Modifying data stored for Stops, Routes, Services\n",
    "\n",
    "### Applying known or pre-computed changes\n",
    "Applying changes or new attributes to Services, Routes and Stops can be done via Schedule level methods. They all work with a dictionary where the keys are the object IDs and the values are dictionaries holding attribute names and values. The method to extract a DataFrame on attributes comes in handy here. E.g."
   ]
  },
  {
   "cell_type": "code",
   "execution_count": 32,
   "metadata": {
    "ExecuteTime": {
     "end_time": "2021-12-02T15:42:05.759683Z",
     "start_time": "2021-12-02T15:42:05.737158Z"
    }
   },
   "outputs": [
    {
     "data": {
      "text/html": [
       "<div>\n",
       "<style scoped>\n",
       "    .dataframe tbody tr th:only-of-type {\n",
       "        vertical-align: middle;\n",
       "    }\n",
       "\n",
       "    .dataframe tbody tr th {\n",
       "        vertical-align: top;\n",
       "    }\n",
       "\n",
       "    .dataframe thead th {\n",
       "        text-align: right;\n",
       "    }\n",
       "</style>\n",
       "<table border=\"1\" class=\"dataframe\">\n",
       "  <thead>\n",
       "    <tr style=\"text-align: right;\">\n",
       "      <th></th>\n",
       "      <th>name</th>\n",
       "    </tr>\n",
       "  </thead>\n",
       "  <tbody>\n",
       "    <tr>\n",
       "      <th>15234</th>\n",
       "      <td>134</td>\n",
       "    </tr>\n",
       "    <tr>\n",
       "      <th>12430</th>\n",
       "      <td>205</td>\n",
       "    </tr>\n",
       "    <tr>\n",
       "      <th>14073</th>\n",
       "      <td>94</td>\n",
       "    </tr>\n",
       "    <tr>\n",
       "      <th>18915</th>\n",
       "      <td>N5</td>\n",
       "    </tr>\n",
       "    <tr>\n",
       "      <th>20274</th>\n",
       "      <td>N55</td>\n",
       "    </tr>\n",
       "  </tbody>\n",
       "</table>\n",
       "</div>"
      ],
      "text/plain": [
       "      name\n",
       "15234  134\n",
       "12430  205\n",
       "14073   94\n",
       "18915   N5\n",
       "20274  N55"
      ]
     },
     "execution_count": 32,
     "metadata": {},
     "output_type": "execute_result"
    }
   ],
   "source": [
    "df = n.schedule.service_attribute_data(keys='name')\n",
    "df.head()"
   ]
  },
  {
   "cell_type": "markdown",
   "metadata": {},
   "source": [
    "DataFrames are easy to work with. Youcould for exmaple manipulate the names or use other data to change these. For demonstration here, let's just set the names to something easy."
   ]
  },
  {
   "cell_type": "code",
   "execution_count": 33,
   "metadata": {
    "ExecuteTime": {
     "end_time": "2021-12-02T15:42:05.793891Z",
     "start_time": "2021-12-02T15:42:05.771462Z"
    }
   },
   "outputs": [
    {
     "data": {
      "text/html": [
       "<div>\n",
       "<style scoped>\n",
       "    .dataframe tbody tr th:only-of-type {\n",
       "        vertical-align: middle;\n",
       "    }\n",
       "\n",
       "    .dataframe tbody tr th {\n",
       "        vertical-align: top;\n",
       "    }\n",
       "\n",
       "    .dataframe thead th {\n",
       "        text-align: right;\n",
       "    }\n",
       "</style>\n",
       "<table border=\"1\" class=\"dataframe\">\n",
       "  <thead>\n",
       "    <tr style=\"text-align: right;\">\n",
       "      <th></th>\n",
       "      <th>name</th>\n",
       "    </tr>\n",
       "  </thead>\n",
       "  <tbody>\n",
       "    <tr>\n",
       "      <th>15234</th>\n",
       "      <td>Service_134</td>\n",
       "    </tr>\n",
       "    <tr>\n",
       "      <th>12430</th>\n",
       "      <td>Service_205</td>\n",
       "    </tr>\n",
       "    <tr>\n",
       "      <th>14073</th>\n",
       "      <td>Service_94</td>\n",
       "    </tr>\n",
       "    <tr>\n",
       "      <th>18915</th>\n",
       "      <td>Service_N5</td>\n",
       "    </tr>\n",
       "    <tr>\n",
       "      <th>20274</th>\n",
       "      <td>Service_N55</td>\n",
       "    </tr>\n",
       "  </tbody>\n",
       "</table>\n",
       "</div>"
      ],
      "text/plain": [
       "              name\n",
       "15234  Service_134\n",
       "12430  Service_205\n",
       "14073   Service_94\n",
       "18915   Service_N5\n",
       "20274  Service_N55"
      ]
     },
     "execution_count": 33,
     "metadata": {},
     "output_type": "execute_result"
    }
   ],
   "source": [
    "df['name'] = df['name'].apply(lambda x: f'Service_{x}')\n",
    "df.head()"
   ]
  },
  {
   "cell_type": "markdown",
   "metadata": {},
   "source": [
    "You can then convert this to a dictionary and pass it to the `apply_attributes_to_services` method."
   ]
  },
  {
   "cell_type": "code",
   "execution_count": 34,
   "metadata": {
    "ExecuteTime": {
     "end_time": "2021-12-02T15:42:05.843035Z",
     "start_time": "2021-12-02T15:42:05.823987Z"
    }
   },
   "outputs": [
    {
     "name": "stderr",
     "output_type": "stream",
     "text": [
      "2021-12-02 16:42:05,830 - Changed Service attributes for 9 services\n"
     ]
    }
   ],
   "source": [
    "n.schedule.apply_attributes_to_services(df.T.to_dict())"
   ]
  },
  {
   "cell_type": "code",
   "execution_count": 35,
   "metadata": {
    "ExecuteTime": {
     "end_time": "2021-12-02T15:42:05.891132Z",
     "start_time": "2021-12-02T15:42:05.845929Z"
    }
   },
   "outputs": [
    {
     "data": {
      "text/html": [
       "<div>\n",
       "<style scoped>\n",
       "    .dataframe tbody tr th:only-of-type {\n",
       "        vertical-align: middle;\n",
       "    }\n",
       "\n",
       "    .dataframe tbody tr th {\n",
       "        vertical-align: top;\n",
       "    }\n",
       "\n",
       "    .dataframe thead th {\n",
       "        text-align: right;\n",
       "    }\n",
       "</style>\n",
       "<table border=\"1\" class=\"dataframe\">\n",
       "  <thead>\n",
       "    <tr style=\"text-align: right;\">\n",
       "      <th></th>\n",
       "      <th>timestamp</th>\n",
       "      <th>change_event</th>\n",
       "      <th>object_type</th>\n",
       "      <th>old_id</th>\n",
       "      <th>new_id</th>\n",
       "      <th>old_attributes</th>\n",
       "      <th>new_attributes</th>\n",
       "      <th>diff</th>\n",
       "    </tr>\n",
       "  </thead>\n",
       "  <tbody>\n",
       "    <tr>\n",
       "      <th>16</th>\n",
       "      <td>2021-12-02 16:42:05</td>\n",
       "      <td>modify</td>\n",
       "      <td>service</td>\n",
       "      <td>20274</td>\n",
       "      <td>20274</td>\n",
       "      <td>{'id': '20274', 'name': 'N55'}</td>\n",
       "      <td>{'id': '20274', 'name': 'Service_N55'}</td>\n",
       "      <td>[(change, name, (N55, Service_N55))]</td>\n",
       "    </tr>\n",
       "    <tr>\n",
       "      <th>17</th>\n",
       "      <td>2021-12-02 16:42:05</td>\n",
       "      <td>modify</td>\n",
       "      <td>service</td>\n",
       "      <td>18853</td>\n",
       "      <td>18853</td>\n",
       "      <td>{'id': '18853', 'name': 'N8'}</td>\n",
       "      <td>{'id': '18853', 'name': 'Service_N8'}</td>\n",
       "      <td>[(change, name, (N8, Service_N8))]</td>\n",
       "    </tr>\n",
       "    <tr>\n",
       "      <th>18</th>\n",
       "      <td>2021-12-02 16:42:05</td>\n",
       "      <td>modify</td>\n",
       "      <td>service</td>\n",
       "      <td>14134</td>\n",
       "      <td>14134</td>\n",
       "      <td>{'id': '14134', 'name': '98'}</td>\n",
       "      <td>{'id': '14134', 'name': 'Service_98'}</td>\n",
       "      <td>[(change, name, (98, Service_98))]</td>\n",
       "    </tr>\n",
       "    <tr>\n",
       "      <th>19</th>\n",
       "      <td>2021-12-02 16:42:05</td>\n",
       "      <td>modify</td>\n",
       "      <td>service</td>\n",
       "      <td>17732</td>\n",
       "      <td>17732</td>\n",
       "      <td>{'id': '17732', 'name': 'N20'}</td>\n",
       "      <td>{'id': '17732', 'name': 'Service_N20'}</td>\n",
       "      <td>[(change, name, (N20, Service_N20))]</td>\n",
       "    </tr>\n",
       "    <tr>\n",
       "      <th>20</th>\n",
       "      <td>2021-12-02 16:42:05</td>\n",
       "      <td>modify</td>\n",
       "      <td>service</td>\n",
       "      <td>15660</td>\n",
       "      <td>15660</td>\n",
       "      <td>{'id': '15660', 'name': '113'}</td>\n",
       "      <td>{'id': '15660', 'name': 'Service_113'}</td>\n",
       "      <td>[(change, name, (113, Service_113))]</td>\n",
       "    </tr>\n",
       "  </tbody>\n",
       "</table>\n",
       "</div>"
      ],
      "text/plain": [
       "              timestamp change_event object_type old_id new_id  \\\n",
       "16  2021-12-02 16:42:05       modify     service  20274  20274   \n",
       "17  2021-12-02 16:42:05       modify     service  18853  18853   \n",
       "18  2021-12-02 16:42:05       modify     service  14134  14134   \n",
       "19  2021-12-02 16:42:05       modify     service  17732  17732   \n",
       "20  2021-12-02 16:42:05       modify     service  15660  15660   \n",
       "\n",
       "                    old_attributes                          new_attributes  \\\n",
       "16  {'id': '20274', 'name': 'N55'}  {'id': '20274', 'name': 'Service_N55'}   \n",
       "17   {'id': '18853', 'name': 'N8'}   {'id': '18853', 'name': 'Service_N8'}   \n",
       "18   {'id': '14134', 'name': '98'}   {'id': '14134', 'name': 'Service_98'}   \n",
       "19  {'id': '17732', 'name': 'N20'}  {'id': '17732', 'name': 'Service_N20'}   \n",
       "20  {'id': '15660', 'name': '113'}  {'id': '15660', 'name': 'Service_113'}   \n",
       "\n",
       "                                    diff  \n",
       "16  [(change, name, (N55, Service_N55))]  \n",
       "17    [(change, name, (N8, Service_N8))]  \n",
       "18    [(change, name, (98, Service_98))]  \n",
       "19  [(change, name, (N20, Service_N20))]  \n",
       "20  [(change, name, (113, Service_113))]  "
      ]
     },
     "execution_count": 35,
     "metadata": {},
     "output_type": "execute_result"
    }
   ],
   "source": [
    "n.schedule.change_log().tail()"
   ]
  },
  {
   "cell_type": "markdown",
   "metadata": {},
   "source": [
    "You can do the same for `Routes` and `Stops`. Your dictionaries cannot however hold changes to indices. You will encounter an error and should use `reindex` methods for such operations."
   ]
  },
  {
   "cell_type": "code",
   "execution_count": 36,
   "metadata": {
    "ExecuteTime": {
     "end_time": "2021-12-02T15:42:05.929546Z",
     "start_time": "2021-12-02T15:42:05.912349Z"
    }
   },
   "outputs": [
    {
     "name": "stderr",
     "output_type": "stream",
     "text": [
      "2021-12-02 16:42:05,925 - Changed Route attributes for 1 routes\n"
     ]
    }
   ],
   "source": [
    "n.schedule.apply_attributes_to_routes(\n",
    "    {'VJ375a660d47a2aa570aa20a8568012da8497ffecf': {\n",
    "        'name': 'my_favourite_route', \n",
    "        'mode': 'piggyback'\n",
    "    }}\n",
    ")"
   ]
  },
  {
   "cell_type": "code",
   "execution_count": 37,
   "metadata": {
    "ExecuteTime": {
     "end_time": "2021-12-02T15:42:05.956811Z",
     "start_time": "2021-12-02T15:42:05.940463Z"
    }
   },
   "outputs": [
    {
     "name": "stderr",
     "output_type": "stream",
     "text": [
      "2021-12-02 16:42:05,947 - Changed Stop attributes for 1 stops\n"
     ]
    }
   ],
   "source": [
    "n.schedule.apply_attributes_to_stops(\n",
    "    {'490000235YB.link:574': {'new_attribute': 'hello!'}}\n",
    ")"
   ]
  },
  {
   "cell_type": "code",
   "execution_count": 38,
   "metadata": {
    "ExecuteTime": {
     "end_time": "2021-12-02T15:42:05.996595Z",
     "start_time": "2021-12-02T15:42:05.962083Z"
    }
   },
   "outputs": [
    {
     "data": {
      "text/html": [
       "<div>\n",
       "<style scoped>\n",
       "    .dataframe tbody tr th:only-of-type {\n",
       "        vertical-align: middle;\n",
       "    }\n",
       "\n",
       "    .dataframe tbody tr th {\n",
       "        vertical-align: top;\n",
       "    }\n",
       "\n",
       "    .dataframe thead th {\n",
       "        text-align: right;\n",
       "    }\n",
       "</style>\n",
       "<table border=\"1\" class=\"dataframe\">\n",
       "  <thead>\n",
       "    <tr style=\"text-align: right;\">\n",
       "      <th></th>\n",
       "      <th>timestamp</th>\n",
       "      <th>change_event</th>\n",
       "      <th>object_type</th>\n",
       "      <th>old_id</th>\n",
       "      <th>new_id</th>\n",
       "      <th>old_attributes</th>\n",
       "      <th>new_attributes</th>\n",
       "      <th>diff</th>\n",
       "    </tr>\n",
       "  </thead>\n",
       "  <tbody>\n",
       "    <tr>\n",
       "      <th>18</th>\n",
       "      <td>2021-12-02 16:42:05</td>\n",
       "      <td>modify</td>\n",
       "      <td>service</td>\n",
       "      <td>14134</td>\n",
       "      <td>14134</td>\n",
       "      <td>{'id': '14134', 'name': '98'}</td>\n",
       "      <td>{'id': '14134', 'name': 'Service_98'}</td>\n",
       "      <td>[(change, name, (98, Service_98))]</td>\n",
       "    </tr>\n",
       "    <tr>\n",
       "      <th>19</th>\n",
       "      <td>2021-12-02 16:42:05</td>\n",
       "      <td>modify</td>\n",
       "      <td>service</td>\n",
       "      <td>17732</td>\n",
       "      <td>17732</td>\n",
       "      <td>{'id': '17732', 'name': 'N20'}</td>\n",
       "      <td>{'id': '17732', 'name': 'Service_N20'}</td>\n",
       "      <td>[(change, name, (N20, Service_N20))]</td>\n",
       "    </tr>\n",
       "    <tr>\n",
       "      <th>20</th>\n",
       "      <td>2021-12-02 16:42:05</td>\n",
       "      <td>modify</td>\n",
       "      <td>service</td>\n",
       "      <td>15660</td>\n",
       "      <td>15660</td>\n",
       "      <td>{'id': '15660', 'name': '113'}</td>\n",
       "      <td>{'id': '15660', 'name': 'Service_113'}</td>\n",
       "      <td>[(change, name, (113, Service_113))]</td>\n",
       "    </tr>\n",
       "    <tr>\n",
       "      <th>21</th>\n",
       "      <td>2021-12-02 16:42:05</td>\n",
       "      <td>modify</td>\n",
       "      <td>route</td>\n",
       "      <td>VJ375a660d47a2aa570aa20a8568012da8497ffecf</td>\n",
       "      <td>VJ375a660d47a2aa570aa20a8568012da8497ffecf</td>\n",
       "      <td>{'route_short_name': 'N55', 'mode': 'bus', 'tr...</td>\n",
       "      <td>{'route_short_name': 'N55', 'mode': 'piggyback...</td>\n",
       "      <td>[(change, mode, (bus, piggyback)), (add, , [('...</td>\n",
       "    </tr>\n",
       "    <tr>\n",
       "      <th>22</th>\n",
       "      <td>2021-12-02 16:42:05</td>\n",
       "      <td>modify</td>\n",
       "      <td>stop</td>\n",
       "      <td>490000235YB.link:574</td>\n",
       "      <td>490000235YB.link:574</td>\n",
       "      <td>{'services': {'20274', '18853', '14134'}, 'rou...</td>\n",
       "      <td>{'services': {'18853', '20274', '14134'}, 'rou...</td>\n",
       "      <td>[(add, , [('new_attribute', 'hello!')])]</td>\n",
       "    </tr>\n",
       "  </tbody>\n",
       "</table>\n",
       "</div>"
      ],
      "text/plain": [
       "              timestamp change_event object_type  \\\n",
       "18  2021-12-02 16:42:05       modify     service   \n",
       "19  2021-12-02 16:42:05       modify     service   \n",
       "20  2021-12-02 16:42:05       modify     service   \n",
       "21  2021-12-02 16:42:05       modify       route   \n",
       "22  2021-12-02 16:42:05       modify        stop   \n",
       "\n",
       "                                        old_id  \\\n",
       "18                                       14134   \n",
       "19                                       17732   \n",
       "20                                       15660   \n",
       "21  VJ375a660d47a2aa570aa20a8568012da8497ffecf   \n",
       "22                        490000235YB.link:574   \n",
       "\n",
       "                                        new_id  \\\n",
       "18                                       14134   \n",
       "19                                       17732   \n",
       "20                                       15660   \n",
       "21  VJ375a660d47a2aa570aa20a8568012da8497ffecf   \n",
       "22                        490000235YB.link:574   \n",
       "\n",
       "                                       old_attributes  \\\n",
       "18                      {'id': '14134', 'name': '98'}   \n",
       "19                     {'id': '17732', 'name': 'N20'}   \n",
       "20                     {'id': '15660', 'name': '113'}   \n",
       "21  {'route_short_name': 'N55', 'mode': 'bus', 'tr...   \n",
       "22  {'services': {'20274', '18853', '14134'}, 'rou...   \n",
       "\n",
       "                                       new_attributes  \\\n",
       "18              {'id': '14134', 'name': 'Service_98'}   \n",
       "19             {'id': '17732', 'name': 'Service_N20'}   \n",
       "20             {'id': '15660', 'name': 'Service_113'}   \n",
       "21  {'route_short_name': 'N55', 'mode': 'piggyback...   \n",
       "22  {'services': {'18853', '20274', '14134'}, 'rou...   \n",
       "\n",
       "                                                 diff  \n",
       "18                 [(change, name, (98, Service_98))]  \n",
       "19               [(change, name, (N20, Service_N20))]  \n",
       "20               [(change, name, (113, Service_113))]  \n",
       "21  [(change, mode, (bus, piggyback)), (add, , [('...  \n",
       "22           [(add, , [('new_attribute', 'hello!')])]  "
      ]
     },
     "execution_count": 38,
     "metadata": {},
     "output_type": "execute_result"
    }
   ],
   "source": [
    "n.schedule.change_log().tail()"
   ]
  },
  {
   "cell_type": "markdown",
   "metadata": {},
   "source": [
    "You can use `route_trips_to_dataframe` to extract all of the trips, their departures and vehicle IDs associated with the trips in the schedule. Trip ids need not be unique, route IDs provide a secondary index. Associated service IDs are also given for convenience."
   ]
  },
  {
   "cell_type": "code",
   "execution_count": 39,
   "metadata": {
    "ExecuteTime": {
     "end_time": "2021-12-02T15:42:06.109632Z",
     "start_time": "2021-12-02T15:42:06.009736Z"
    }
   },
   "outputs": [],
   "source": [
    "trips = n.schedule.route_trips_to_dataframe(gtfs_day='20210101')"
   ]
  },
  {
   "cell_type": "code",
   "execution_count": 40,
   "metadata": {
    "ExecuteTime": {
     "end_time": "2021-12-02T15:42:06.194952Z",
     "start_time": "2021-12-02T15:42:06.112984Z"
    }
   },
   "outputs": [
    {
     "data": {
      "text/html": [
       "<div>\n",
       "<style scoped>\n",
       "    .dataframe tbody tr th:only-of-type {\n",
       "        vertical-align: middle;\n",
       "    }\n",
       "\n",
       "    .dataframe tbody tr th {\n",
       "        vertical-align: top;\n",
       "    }\n",
       "\n",
       "    .dataframe thead th {\n",
       "        text-align: right;\n",
       "    }\n",
       "</style>\n",
       "<table border=\"1\" class=\"dataframe\">\n",
       "  <thead>\n",
       "    <tr style=\"text-align: right;\">\n",
       "      <th></th>\n",
       "      <th>route_id</th>\n",
       "      <th>service_id</th>\n",
       "      <th>trip_id</th>\n",
       "      <th>trip_departure_time</th>\n",
       "      <th>vehicle_id</th>\n",
       "    </tr>\n",
       "  </thead>\n",
       "  <tbody>\n",
       "    <tr>\n",
       "      <th>0</th>\n",
       "      <td>VJ0d304b95d39f4bce48e6ff26ddd73a9c06f17f4f</td>\n",
       "      <td>18915</td>\n",
       "      <td>VJ0d304b95d39f4bce48e6ff26ddd73a9c06f17f4f_01:...</td>\n",
       "      <td>2021-01-01 01:39:30</td>\n",
       "      <td>veh_2235_bus</td>\n",
       "    </tr>\n",
       "    <tr>\n",
       "      <th>1</th>\n",
       "      <td>VJ0d304b95d39f4bce48e6ff26ddd73a9c06f17f4f</td>\n",
       "      <td>18915</td>\n",
       "      <td>VJ63e8b6b73bf0511c99c98c148cd8d81a99d980b3_01:...</td>\n",
       "      <td>2021-01-01 01:09:30</td>\n",
       "      <td>veh_2236_bus</td>\n",
       "    </tr>\n",
       "    <tr>\n",
       "      <th>2</th>\n",
       "      <td>VJ0d304b95d39f4bce48e6ff26ddd73a9c06f17f4f</td>\n",
       "      <td>18915</td>\n",
       "      <td>VJ8d4b92bb6c4d3c8ae053c76eee7b28c8a9f3c96b_00:...</td>\n",
       "      <td>2021-01-01 00:39:30</td>\n",
       "      <td>veh_2237_bus</td>\n",
       "    </tr>\n",
       "    <tr>\n",
       "      <th>3</th>\n",
       "      <td>VJ0d304b95d39f4bce48e6ff26ddd73a9c06f17f4f</td>\n",
       "      <td>18915</td>\n",
       "      <td>VJaf30d54b0eb1b9388069da33de80486d0b13b14c_02:...</td>\n",
       "      <td>2021-01-01 02:09:30</td>\n",
       "      <td>veh_2238_bus</td>\n",
       "    </tr>\n",
       "    <tr>\n",
       "      <th>4</th>\n",
       "      <td>VJ9b58a59e3d74941586a5bca7726a8aa624da67fc</td>\n",
       "      <td>15234</td>\n",
       "      <td>VJ00a8ca574c4e1e1f8d4ace6ee14ca6aca064fc04_16:...</td>\n",
       "      <td>2021-01-01 16:35:00</td>\n",
       "      <td>veh_1531_bus</td>\n",
       "    </tr>\n",
       "  </tbody>\n",
       "</table>\n",
       "</div>"
      ],
      "text/plain": [
       "                                     route_id service_id  \\\n",
       "0  VJ0d304b95d39f4bce48e6ff26ddd73a9c06f17f4f      18915   \n",
       "1  VJ0d304b95d39f4bce48e6ff26ddd73a9c06f17f4f      18915   \n",
       "2  VJ0d304b95d39f4bce48e6ff26ddd73a9c06f17f4f      18915   \n",
       "3  VJ0d304b95d39f4bce48e6ff26ddd73a9c06f17f4f      18915   \n",
       "4  VJ9b58a59e3d74941586a5bca7726a8aa624da67fc      15234   \n",
       "\n",
       "                                             trip_id trip_departure_time  \\\n",
       "0  VJ0d304b95d39f4bce48e6ff26ddd73a9c06f17f4f_01:... 2021-01-01 01:39:30   \n",
       "1  VJ63e8b6b73bf0511c99c98c148cd8d81a99d980b3_01:... 2021-01-01 01:09:30   \n",
       "2  VJ8d4b92bb6c4d3c8ae053c76eee7b28c8a9f3c96b_00:... 2021-01-01 00:39:30   \n",
       "3  VJaf30d54b0eb1b9388069da33de80486d0b13b14c_02:... 2021-01-01 02:09:30   \n",
       "4  VJ00a8ca574c4e1e1f8d4ace6ee14ca6aca064fc04_16:... 2021-01-01 16:35:00   \n",
       "\n",
       "     vehicle_id  \n",
       "0  veh_2235_bus  \n",
       "1  veh_2236_bus  \n",
       "2  veh_2237_bus  \n",
       "3  veh_2238_bus  \n",
       "4  veh_1531_bus  "
      ]
     },
     "execution_count": 40,
     "metadata": {},
     "output_type": "execute_result"
    }
   ],
   "source": [
    "trips.head()"
   ]
  },
  {
   "cell_type": "markdown",
   "metadata": {},
   "source": [
    "Let's change all of the trip ids to something shorter"
   ]
  },
  {
   "cell_type": "code",
   "execution_count": 41,
   "metadata": {
    "ExecuteTime": {
     "end_time": "2021-12-02T15:42:06.243926Z",
     "start_time": "2021-12-02T15:42:06.206391Z"
    }
   },
   "outputs": [
    {
     "data": {
      "text/html": [
       "<div>\n",
       "<style scoped>\n",
       "    .dataframe tbody tr th:only-of-type {\n",
       "        vertical-align: middle;\n",
       "    }\n",
       "\n",
       "    .dataframe tbody tr th {\n",
       "        vertical-align: top;\n",
       "    }\n",
       "\n",
       "    .dataframe thead th {\n",
       "        text-align: right;\n",
       "    }\n",
       "</style>\n",
       "<table border=\"1\" class=\"dataframe\">\n",
       "  <thead>\n",
       "    <tr style=\"text-align: right;\">\n",
       "      <th></th>\n",
       "      <th>route_id</th>\n",
       "      <th>service_id</th>\n",
       "      <th>trip_id</th>\n",
       "      <th>trip_departure_time</th>\n",
       "      <th>vehicle_id</th>\n",
       "    </tr>\n",
       "  </thead>\n",
       "  <tbody>\n",
       "    <tr>\n",
       "      <th>0</th>\n",
       "      <td>VJ0d304b95d39f4bce48e6ff26ddd73a9c06f17f4f</td>\n",
       "      <td>18915</td>\n",
       "      <td>trip_0</td>\n",
       "      <td>2021-01-01 01:39:30</td>\n",
       "      <td>veh_2235_bus</td>\n",
       "    </tr>\n",
       "    <tr>\n",
       "      <th>1</th>\n",
       "      <td>VJ0d304b95d39f4bce48e6ff26ddd73a9c06f17f4f</td>\n",
       "      <td>18915</td>\n",
       "      <td>trip_1</td>\n",
       "      <td>2021-01-01 01:09:30</td>\n",
       "      <td>veh_2236_bus</td>\n",
       "    </tr>\n",
       "    <tr>\n",
       "      <th>2</th>\n",
       "      <td>VJ0d304b95d39f4bce48e6ff26ddd73a9c06f17f4f</td>\n",
       "      <td>18915</td>\n",
       "      <td>trip_2</td>\n",
       "      <td>2021-01-01 00:39:30</td>\n",
       "      <td>veh_2237_bus</td>\n",
       "    </tr>\n",
       "    <tr>\n",
       "      <th>3</th>\n",
       "      <td>VJ0d304b95d39f4bce48e6ff26ddd73a9c06f17f4f</td>\n",
       "      <td>18915</td>\n",
       "      <td>trip_3</td>\n",
       "      <td>2021-01-01 02:09:30</td>\n",
       "      <td>veh_2238_bus</td>\n",
       "    </tr>\n",
       "    <tr>\n",
       "      <th>4</th>\n",
       "      <td>VJ9b58a59e3d74941586a5bca7726a8aa624da67fc</td>\n",
       "      <td>15234</td>\n",
       "      <td>trip_4</td>\n",
       "      <td>2021-01-01 16:35:00</td>\n",
       "      <td>veh_1531_bus</td>\n",
       "    </tr>\n",
       "  </tbody>\n",
       "</table>\n",
       "</div>"
      ],
      "text/plain": [
       "                                     route_id service_id trip_id  \\\n",
       "0  VJ0d304b95d39f4bce48e6ff26ddd73a9c06f17f4f      18915  trip_0   \n",
       "1  VJ0d304b95d39f4bce48e6ff26ddd73a9c06f17f4f      18915  trip_1   \n",
       "2  VJ0d304b95d39f4bce48e6ff26ddd73a9c06f17f4f      18915  trip_2   \n",
       "3  VJ0d304b95d39f4bce48e6ff26ddd73a9c06f17f4f      18915  trip_3   \n",
       "4  VJ9b58a59e3d74941586a5bca7726a8aa624da67fc      15234  trip_4   \n",
       "\n",
       "  trip_departure_time    vehicle_id  \n",
       "0 2021-01-01 01:39:30  veh_2235_bus  \n",
       "1 2021-01-01 01:09:30  veh_2236_bus  \n",
       "2 2021-01-01 00:39:30  veh_2237_bus  \n",
       "3 2021-01-01 02:09:30  veh_2238_bus  \n",
       "4 2021-01-01 16:35:00  veh_1531_bus  "
      ]
     },
     "execution_count": 41,
     "metadata": {},
     "output_type": "execute_result"
    }
   ],
   "source": [
    "trips['trip_id'] = 'trip_' + trips.index.to_series().astype(str)\n",
    "trips.head()"
   ]
  },
  {
   "cell_type": "markdown",
   "metadata": {},
   "source": [
    "You can `set_route_trips_dataframe` which takes this dataframe and applies changes to all route trips based on the data in the dataframe. This means you can generate this DataFrame as shown below, manipulate trips (delete them, add new ones), change their departure times or change their vehicle ids to be shared for differnt trips, perhaps on some temporal logic and as long as the dataframe has the same schema, you can use it to set new trips in the schedule. This will appear in the changelog as a route level modify event.\n",
    "\n",
    "Nb removing all trips of the same route from the dataframe will have no effect when being applied. If there is data in the dataframe for a route, all of its trips will be replaced by the data in the dataframe, and if there is no data for a route in the frame, no changes will be applied to that route (i.e. the trips attribute for routes missing from the dataframe will not be set as empty)."
   ]
  },
  {
   "cell_type": "code",
   "execution_count": 42,
   "metadata": {
    "ExecuteTime": {
     "end_time": "2021-12-02T15:42:06.542194Z",
     "start_time": "2021-12-02T15:42:06.258363Z"
    }
   },
   "outputs": [
    {
     "name": "stderr",
     "output_type": "stream",
     "text": [
      "2021-12-02 16:42:06,509 - Changed Route attributes for 69 routes\n"
     ]
    },
    {
     "data": {
      "text/html": [
       "<div>\n",
       "<style scoped>\n",
       "    .dataframe tbody tr th:only-of-type {\n",
       "        vertical-align: middle;\n",
       "    }\n",
       "\n",
       "    .dataframe tbody tr th {\n",
       "        vertical-align: top;\n",
       "    }\n",
       "\n",
       "    .dataframe thead th {\n",
       "        text-align: right;\n",
       "    }\n",
       "</style>\n",
       "<table border=\"1\" class=\"dataframe\">\n",
       "  <thead>\n",
       "    <tr style=\"text-align: right;\">\n",
       "      <th></th>\n",
       "      <th>trips::trip_id</th>\n",
       "    </tr>\n",
       "  </thead>\n",
       "  <tbody>\n",
       "    <tr>\n",
       "      <th>VJ0d304b95d39f4bce48e6ff26ddd73a9c06f17f4f</th>\n",
       "      <td>[trip_0, trip_1, trip_2, trip_3]</td>\n",
       "    </tr>\n",
       "    <tr>\n",
       "      <th>VJ9b58a59e3d74941586a5bca7726a8aa624da67fc</th>\n",
       "      <td>[trip_4, trip_5, trip_6, trip_7, trip_8, trip_...</td>\n",
       "    </tr>\n",
       "    <tr>\n",
       "      <th>VJ1a8cc306354fdc322d739ae644eb73444341d08d</th>\n",
       "      <td>[trip_163, trip_164, trip_165, trip_166, trip_...</td>\n",
       "    </tr>\n",
       "    <tr>\n",
       "      <th>VJe18efadf172576fea7989ec1f233f26854c0f66a</th>\n",
       "      <td>[trip_179, trip_180, trip_181, trip_182, trip_...</td>\n",
       "    </tr>\n",
       "    <tr>\n",
       "      <th>VJaa5ee0daec7529d7668c81fe7fac0c4ff545daea</th>\n",
       "      <td>[trip_187, trip_188, trip_189, trip_190, trip_...</td>\n",
       "    </tr>\n",
       "    <tr>\n",
       "      <th>...</th>\n",
       "      <td>...</td>\n",
       "    </tr>\n",
       "    <tr>\n",
       "      <th>VJc8cdbd902dadeebeeb4dbd7332b564ee2e4b00ce</th>\n",
       "      <td>[trip_1442, trip_1443, trip_1444, trip_1445, t...</td>\n",
       "    </tr>\n",
       "    <tr>\n",
       "      <th>VJd4cbfb092a104ac6a3164a86e9765f68734fdfcf</th>\n",
       "      <td>[trip_1454, trip_1455, trip_1456, trip_1457, t...</td>\n",
       "    </tr>\n",
       "    <tr>\n",
       "      <th>VJ812fad65e7fa418645b57b446f00cba573f2cdaf</th>\n",
       "      <td>[trip_1469, trip_1470, trip_1471, trip_1472]</td>\n",
       "    </tr>\n",
       "    <tr>\n",
       "      <th>VJd132b905afc6c0e8e8a994142e301ca5c0f70e22</th>\n",
       "      <td>[trip_1473, trip_1474, trip_1475, trip_1476, t...</td>\n",
       "    </tr>\n",
       "    <tr>\n",
       "      <th>VJ2aba67e3ed98f2ed5f5966c1ac394cbf6d1943d7</th>\n",
       "      <td>[trip_1494, trip_1495, trip_1496, trip_1497, t...</td>\n",
       "    </tr>\n",
       "  </tbody>\n",
       "</table>\n",
       "<p>69 rows × 1 columns</p>\n",
       "</div>"
      ],
      "text/plain": [
       "                                                                               trips::trip_id\n",
       "VJ0d304b95d39f4bce48e6ff26ddd73a9c06f17f4f                   [trip_0, trip_1, trip_2, trip_3]\n",
       "VJ9b58a59e3d74941586a5bca7726a8aa624da67fc  [trip_4, trip_5, trip_6, trip_7, trip_8, trip_...\n",
       "VJ1a8cc306354fdc322d739ae644eb73444341d08d  [trip_163, trip_164, trip_165, trip_166, trip_...\n",
       "VJe18efadf172576fea7989ec1f233f26854c0f66a  [trip_179, trip_180, trip_181, trip_182, trip_...\n",
       "VJaa5ee0daec7529d7668c81fe7fac0c4ff545daea  [trip_187, trip_188, trip_189, trip_190, trip_...\n",
       "...                                                                                       ...\n",
       "VJc8cdbd902dadeebeeb4dbd7332b564ee2e4b00ce  [trip_1442, trip_1443, trip_1444, trip_1445, t...\n",
       "VJd4cbfb092a104ac6a3164a86e9765f68734fdfcf  [trip_1454, trip_1455, trip_1456, trip_1457, t...\n",
       "VJ812fad65e7fa418645b57b446f00cba573f2cdaf       [trip_1469, trip_1470, trip_1471, trip_1472]\n",
       "VJd132b905afc6c0e8e8a994142e301ca5c0f70e22  [trip_1473, trip_1474, trip_1475, trip_1476, t...\n",
       "VJ2aba67e3ed98f2ed5f5966c1ac394cbf6d1943d7  [trip_1494, trip_1495, trip_1496, trip_1497, t...\n",
       "\n",
       "[69 rows x 1 columns]"
      ]
     },
     "execution_count": 42,
     "metadata": {},
     "output_type": "execute_result"
    }
   ],
   "source": [
    "n.schedule.set_route_trips_dataframe(trips)\n",
    "n.schedule.route_attribute_data(keys=[{'trips': 'trip_id'}])"
   ]
  },
  {
   "cell_type": "markdown",
   "metadata": {},
   "source": [
    "### Applying changes using functions or dictionary mappings\n",
    "\n",
    "If you have some logic that can be written into a function of object's attributes, you can pass this to `apply_function_to_x` methods. You need to select `location`, which refers to the name of the attribute the result should be stored under. It can already exist and be overwritten. The function passed, is not expected to work with all objects. It will fail silently, only evaluating and generating outputs where possible."
   ]
  },
  {
   "cell_type": "code",
   "execution_count": 43,
   "metadata": {
    "ExecuteTime": {
     "end_time": "2021-12-02T15:42:06.609578Z",
     "start_time": "2021-12-02T15:42:06.561286Z"
    }
   },
   "outputs": [
    {
     "name": "stderr",
     "output_type": "stream",
     "text": [
      "2021-12-02 16:42:06,599 - Changed Stop attributes for 85 stops\n"
     ]
    }
   ],
   "source": [
    "from shapely.geometry import Point\n",
    "\n",
    "def add_shapely_geometry_points(stop_attribs):\n",
    "    return Point(stop_attribs['x'], stop_attribs['y'])\n",
    "\n",
    "n.schedule.apply_function_to_stops(add_shapely_geometry_points, location='geometry')"
   ]
  },
  {
   "cell_type": "code",
   "execution_count": 44,
   "metadata": {
    "ExecuteTime": {
     "end_time": "2021-12-02T15:42:06.661630Z",
     "start_time": "2021-12-02T15:42:06.614358Z"
    }
   },
   "outputs": [
    {
     "data": {
      "text/html": [
       "<div>\n",
       "<style scoped>\n",
       "    .dataframe tbody tr th:only-of-type {\n",
       "        vertical-align: middle;\n",
       "    }\n",
       "\n",
       "    .dataframe tbody tr th {\n",
       "        vertical-align: top;\n",
       "    }\n",
       "\n",
       "    .dataframe thead th {\n",
       "        text-align: right;\n",
       "    }\n",
       "</style>\n",
       "<table border=\"1\" class=\"dataframe\">\n",
       "  <thead>\n",
       "    <tr style=\"text-align: right;\">\n",
       "      <th></th>\n",
       "      <th>timestamp</th>\n",
       "      <th>change_event</th>\n",
       "      <th>object_type</th>\n",
       "      <th>old_id</th>\n",
       "      <th>new_id</th>\n",
       "      <th>old_attributes</th>\n",
       "      <th>new_attributes</th>\n",
       "      <th>diff</th>\n",
       "    </tr>\n",
       "  </thead>\n",
       "  <tbody>\n",
       "    <tr>\n",
       "      <th>175</th>\n",
       "      <td>2021-12-02 16:42:06</td>\n",
       "      <td>modify</td>\n",
       "      <td>stop</td>\n",
       "      <td>490000173W</td>\n",
       "      <td>490000173W</td>\n",
       "      <td>{'id': '490000173W', 'x': 528819.7305995768, '...</td>\n",
       "      <td>{'id': '490000173W', 'x': 528819.7305995768, '...</td>\n",
       "      <td>[(add, , [('geometry', &lt;shapely.geometry.point...</td>\n",
       "    </tr>\n",
       "    <tr>\n",
       "      <th>176</th>\n",
       "      <td>2021-12-02 16:42:06</td>\n",
       "      <td>modify</td>\n",
       "      <td>stop</td>\n",
       "      <td>other_new_stop</td>\n",
       "      <td>other_new_stop</td>\n",
       "      <td>{'services': {'20274'}, 'routes': {'20274_4'},...</td>\n",
       "      <td>{'services': {'20274'}, 'routes': {'20274_4'},...</td>\n",
       "      <td>[(add, , [('geometry', &lt;shapely.geometry.point...</td>\n",
       "    </tr>\n",
       "  </tbody>\n",
       "</table>\n",
       "</div>"
      ],
      "text/plain": [
       "               timestamp change_event object_type          old_id  \\\n",
       "175  2021-12-02 16:42:06       modify        stop      490000173W   \n",
       "176  2021-12-02 16:42:06       modify        stop  other_new_stop   \n",
       "\n",
       "             new_id                                     old_attributes  \\\n",
       "175      490000173W  {'id': '490000173W', 'x': 528819.7305995768, '...   \n",
       "176  other_new_stop  {'services': {'20274'}, 'routes': {'20274_4'},...   \n",
       "\n",
       "                                        new_attributes  \\\n",
       "175  {'id': '490000173W', 'x': 528819.7305995768, '...   \n",
       "176  {'services': {'20274'}, 'routes': {'20274_4'},...   \n",
       "\n",
       "                                                  diff  \n",
       "175  [(add, , [('geometry', <shapely.geometry.point...  \n",
       "176  [(add, , [('geometry', <shapely.geometry.point...  "
      ]
     },
     "execution_count": 44,
     "metadata": {},
     "output_type": "execute_result"
    }
   ],
   "source": [
    "n.schedule.change_log().tail(2)"
   ]
  },
  {
   "cell_type": "code",
   "execution_count": 45,
   "metadata": {
    "ExecuteTime": {
     "end_time": "2021-12-02T15:42:06.716893Z",
     "start_time": "2021-12-02T15:42:06.679467Z"
    }
   },
   "outputs": [
    {
     "data": {
      "text/html": [
       "<div>\n",
       "<style scoped>\n",
       "    .dataframe tbody tr th:only-of-type {\n",
       "        vertical-align: middle;\n",
       "    }\n",
       "\n",
       "    .dataframe tbody tr th {\n",
       "        vertical-align: top;\n",
       "    }\n",
       "\n",
       "    .dataframe thead th {\n",
       "        text-align: right;\n",
       "    }\n",
       "</style>\n",
       "<table border=\"1\" class=\"dataframe\">\n",
       "  <thead>\n",
       "    <tr style=\"text-align: right;\">\n",
       "      <th></th>\n",
       "      <th>name</th>\n",
       "      <th>x</th>\n",
       "      <th>y</th>\n",
       "      <th>geometry</th>\n",
       "    </tr>\n",
       "  </thead>\n",
       "  <tbody>\n",
       "    <tr>\n",
       "      <th>490000235X.link:834</th>\n",
       "      <td>Tottenham Court Road Station (Stop X)</td>\n",
       "      <td>529981.795880</td>\n",
       "      <td>181412.097576</td>\n",
       "      <td>POINT (529981.7958802709 181412.0975758662)</td>\n",
       "    </tr>\n",
       "    <tr>\n",
       "      <th>490000235YB.link:574</th>\n",
       "      <td>Oxford Street  Soho Street (Stop YB)</td>\n",
       "      <td>529570.781323</td>\n",
       "      <td>181336.281593</td>\n",
       "      <td>POINT (529570.7813227688 181336.2815925331)</td>\n",
       "    </tr>\n",
       "    <tr>\n",
       "      <th>490014214HE.link:3154</th>\n",
       "      <td>Wardour Street (Stop OM)</td>\n",
       "      <td>529477.750156</td>\n",
       "      <td>181314.437043</td>\n",
       "      <td>POINT (529477.7501560802 181314.4370430721)</td>\n",
       "    </tr>\n",
       "    <tr>\n",
       "      <th>490010689KB.link:981</th>\n",
       "      <td>Great Titchfield Street  Oxford Circus Station...</td>\n",
       "      <td>529166.734973</td>\n",
       "      <td>181256.336723</td>\n",
       "      <td>POINT (529166.7349732723 181256.3367228433)</td>\n",
       "    </tr>\n",
       "    <tr>\n",
       "      <th>490010689OJ.link:1787</th>\n",
       "      <td>Great Titchfield Street  Oxford Circus Station...</td>\n",
       "      <td>529227.773057</td>\n",
       "      <td>181280.477507</td>\n",
       "      <td>POINT (529227.7730568129 181280.4775071898)</td>\n",
       "    </tr>\n",
       "  </tbody>\n",
       "</table>\n",
       "</div>"
      ],
      "text/plain": [
       "                                                                    name  \\\n",
       "490000235X.link:834                Tottenham Court Road Station (Stop X)   \n",
       "490000235YB.link:574                Oxford Street  Soho Street (Stop YB)   \n",
       "490014214HE.link:3154                           Wardour Street (Stop OM)   \n",
       "490010689KB.link:981   Great Titchfield Street  Oxford Circus Station...   \n",
       "490010689OJ.link:1787  Great Titchfield Street  Oxford Circus Station...   \n",
       "\n",
       "                                   x              y  \\\n",
       "490000235X.link:834    529981.795880  181412.097576   \n",
       "490000235YB.link:574   529570.781323  181336.281593   \n",
       "490014214HE.link:3154  529477.750156  181314.437043   \n",
       "490010689KB.link:981   529166.734973  181256.336723   \n",
       "490010689OJ.link:1787  529227.773057  181280.477507   \n",
       "\n",
       "                                                          geometry  \n",
       "490000235X.link:834    POINT (529981.7958802709 181412.0975758662)  \n",
       "490000235YB.link:574   POINT (529570.7813227688 181336.2815925331)  \n",
       "490014214HE.link:3154  POINT (529477.7501560802 181314.4370430721)  \n",
       "490010689KB.link:981   POINT (529166.7349732723 181256.3367228433)  \n",
       "490010689OJ.link:1787  POINT (529227.7730568129 181280.4775071898)  "
      ]
     },
     "execution_count": 45,
     "metadata": {},
     "output_type": "execute_result"
    }
   ],
   "source": [
    "n.schedule.stop_attribute_data(keys=['name', 'x', 'y', 'geometry']).head()"
   ]
  },
  {
   "cell_type": "code",
   "execution_count": 46,
   "metadata": {
    "ExecuteTime": {
     "end_time": "2021-12-02T15:42:07.142463Z",
     "start_time": "2021-12-02T15:42:06.726953Z"
    }
   },
   "outputs": [
    {
     "data": {
      "text/plain": [
       "<matplotlib.axes._subplots.AxesSubplot at 0x124692210>"
      ]
     },
     "execution_count": 46,
     "metadata": {},
     "output_type": "execute_result"
    },
    {
     "data": {
      "image/png": "[encoded data removed]",
      "text/plain": [
       "<Figure size 432x288 with 1 Axes>"
      ]
     },
     "metadata": {
      "needs_background": "light"
     },
     "output_type": "display_data"
    }
   ],
   "source": [
    "from geopandas import GeoDataFrame\n",
    "GeoDataFrame(n.schedule.stop_attribute_data(keys='geometry')).plot()"
   ]
  },
  {
   "cell_type": "code",
   "execution_count": 47,
   "metadata": {
    "ExecuteTime": {
     "end_time": "2021-12-02T15:42:07.251362Z",
     "start_time": "2021-12-02T15:42:07.149641Z"
    }
   },
   "outputs": [
    {
     "data": {
      "text/plain": [
       "{'id': '490000235YB.link:574',\n",
       " 'x': 529570.7813227688,\n",
       " 'y': 181336.2815925331,\n",
       " 'epsg': 'epsg:27700',\n",
       " 'name': 'Oxford Street  Soho Street (Stop YB)',\n",
       " 'lat': 51.51609803324077,\n",
       " 'lon': -0.13404398709291904,\n",
       " 's2_id': 5221390696959560815,\n",
       " 'linkRefId': '574',\n",
       " 'isBlocking': 'false',\n",
       " 'new_attribute': 'hello!',\n",
       " 'geometry': <shapely.geometry.point.Point at 0x123eae910>}"
      ]
     },
     "execution_count": 47,
     "metadata": {},
     "output_type": "execute_result"
    }
   ],
   "source": [
    "n.schedule.stop('490000235YB.link:574').__dict__"
   ]
  },
  {
   "cell_type": "markdown",
   "metadata": {},
   "source": [
    "For this let's say we want to reduce the number of trips. For simplicity of demonstration we don't have about which trips we delete, but logic around timings of trips can be added in this function, as the trips are saved as one of routes attributes (check out the summary methods)"
   ]
  },
  {
   "cell_type": "code",
   "execution_count": 48,
   "metadata": {
    "ExecuteTime": {
     "end_time": "2021-12-02T15:42:07.340959Z",
     "start_time": "2021-12-02T15:42:07.257162Z"
    }
   },
   "outputs": [
    {
     "data": {
      "text/plain": [
       "1564"
      ]
     },
     "execution_count": 48,
     "metadata": {},
     "output_type": "execute_result"
    }
   ],
   "source": [
    "# before\n",
    "len(n.schedule.route_trips_to_dataframe())"
   ]
  },
  {
   "cell_type": "code",
   "execution_count": 49,
   "metadata": {
    "ExecuteTime": {
     "end_time": "2021-12-02T15:42:07.441522Z",
     "start_time": "2021-12-02T15:42:07.350581Z"
    }
   },
   "outputs": [
    {
     "name": "stderr",
     "output_type": "stream",
     "text": [
      "2021-12-02 16:42:07,424 - Changed Route attributes for 69 routes\n"
     ]
    }
   ],
   "source": [
    "def reduce_trips(attribs):\n",
    "    # just delete any other trip\n",
    "    attribs['trips']['trip_id'] = attribs['trips']['trip_id'][::2]\n",
    "    attribs['trips']['trip_departure_time'] = attribs['trips']['trip_departure_time'][::2]\n",
    "    attribs['trips']['vehicle_id'] = attribs['trips']['vehicle_id'][::2]\n",
    "    return attribs['trips']\n",
    "\n",
    "n.schedule.apply_function_to_routes(reduce_trips, 'trips')"
   ]
  },
  {
   "cell_type": "code",
   "execution_count": 50,
   "metadata": {
    "ExecuteTime": {
     "end_time": "2021-12-02T15:42:07.516384Z",
     "start_time": "2021-12-02T15:42:07.443539Z"
    }
   },
   "outputs": [
    {
     "data": {
      "text/plain": [
       "793"
      ]
     },
     "execution_count": 50,
     "metadata": {},
     "output_type": "execute_result"
    }
   ],
   "source": [
    "# after\n",
    "len(n.schedule.route_trips_to_dataframe())"
   ]
  },
  {
   "cell_type": "markdown",
   "metadata": {},
   "source": [
    "Note, this could also be done using the `route_trips_to_dataframe` and `set_route_trips_dataframe` mentioned above.\n",
    "\n",
    "Let's give an example of using a mapping. We can re-use the service name DataFrame we generated above."
   ]
  },
  {
   "cell_type": "code",
   "execution_count": 51,
   "metadata": {
    "ExecuteTime": {
     "end_time": "2021-12-02T15:42:07.557527Z",
     "start_time": "2021-12-02T15:42:07.524517Z"
    }
   },
   "outputs": [
    {
     "data": {
      "text/html": [
       "<div>\n",
       "<style scoped>\n",
       "    .dataframe tbody tr th:only-of-type {\n",
       "        vertical-align: middle;\n",
       "    }\n",
       "\n",
       "    .dataframe tbody tr th {\n",
       "        vertical-align: top;\n",
       "    }\n",
       "\n",
       "    .dataframe thead th {\n",
       "        text-align: right;\n",
       "    }\n",
       "</style>\n",
       "<table border=\"1\" class=\"dataframe\">\n",
       "  <thead>\n",
       "    <tr style=\"text-align: right;\">\n",
       "      <th></th>\n",
       "      <th>name</th>\n",
       "      <th>new_name</th>\n",
       "    </tr>\n",
       "  </thead>\n",
       "  <tbody>\n",
       "    <tr>\n",
       "      <th>15234</th>\n",
       "      <td>Service_134</td>\n",
       "      <td>Brand_new_nameService_134</td>\n",
       "    </tr>\n",
       "    <tr>\n",
       "      <th>12430</th>\n",
       "      <td>Service_205</td>\n",
       "      <td>Brand_new_nameService_205</td>\n",
       "    </tr>\n",
       "    <tr>\n",
       "      <th>14073</th>\n",
       "      <td>Service_94</td>\n",
       "      <td>Brand_new_nameService_94</td>\n",
       "    </tr>\n",
       "    <tr>\n",
       "      <th>18915</th>\n",
       "      <td>Service_N5</td>\n",
       "      <td>Brand_new_nameService_N5</td>\n",
       "    </tr>\n",
       "    <tr>\n",
       "      <th>20274</th>\n",
       "      <td>Service_N55</td>\n",
       "      <td>Brand_new_nameService_N55</td>\n",
       "    </tr>\n",
       "  </tbody>\n",
       "</table>\n",
       "</div>"
      ],
      "text/plain": [
       "              name                   new_name\n",
       "15234  Service_134  Brand_new_nameService_134\n",
       "12430  Service_205  Brand_new_nameService_205\n",
       "14073   Service_94   Brand_new_nameService_94\n",
       "18915   Service_N5   Brand_new_nameService_N5\n",
       "20274  Service_N55  Brand_new_nameService_N55"
      ]
     },
     "execution_count": 51,
     "metadata": {},
     "output_type": "execute_result"
    }
   ],
   "source": [
    "df['new_name'] = 'Brand_new_name' + df['name']\n",
    "df.head()"
   ]
  },
  {
   "cell_type": "code",
   "execution_count": 52,
   "metadata": {
    "ExecuteTime": {
     "end_time": "2021-12-02T15:42:07.588274Z",
     "start_time": "2021-12-02T15:42:07.576703Z"
    }
   },
   "outputs": [
    {
     "data": {
      "text/plain": [
       "{'Service_134': 'Brand_new_nameService_134',\n",
       " 'Service_205': 'Brand_new_nameService_205',\n",
       " 'Service_94': 'Brand_new_nameService_94',\n",
       " 'Service_N5': 'Brand_new_nameService_N5',\n",
       " 'Service_N55': 'Brand_new_nameService_N55',\n",
       " 'Service_N8': 'Brand_new_nameService_N8',\n",
       " 'Service_98': 'Brand_new_nameService_98',\n",
       " 'Service_N20': 'Brand_new_nameService_N20',\n",
       " 'Service_113': 'Brand_new_nameService_113'}"
      ]
     },
     "execution_count": 52,
     "metadata": {},
     "output_type": "execute_result"
    }
   ],
   "source": [
    "name_map = dict(zip(df['name'], df['new_name']))\n",
    "name_map"
   ]
  },
  {
   "cell_type": "markdown",
   "metadata": {},
   "source": [
    "In this case, `location` refers to the attribute to be mapped."
   ]
  },
  {
   "cell_type": "code",
   "execution_count": 53,
   "metadata": {
    "ExecuteTime": {
     "end_time": "2021-12-02T15:42:07.616098Z",
     "start_time": "2021-12-02T15:42:07.606702Z"
    }
   },
   "outputs": [
    {
     "name": "stderr",
     "output_type": "stream",
     "text": [
      "2021-12-02 16:42:07,611 - Changed Service attributes for 9 services\n"
     ]
    }
   ],
   "source": [
    "n.schedule.apply_function_to_services(name_map, location='name')"
   ]
  },
  {
   "cell_type": "code",
   "execution_count": 54,
   "metadata": {
    "ExecuteTime": {
     "end_time": "2021-12-02T15:42:07.659956Z",
     "start_time": "2021-12-02T15:42:07.623211Z"
    }
   },
   "outputs": [
    {
     "data": {
      "text/html": [
       "<div>\n",
       "<style scoped>\n",
       "    .dataframe tbody tr th:only-of-type {\n",
       "        vertical-align: middle;\n",
       "    }\n",
       "\n",
       "    .dataframe tbody tr th {\n",
       "        vertical-align: top;\n",
       "    }\n",
       "\n",
       "    .dataframe thead th {\n",
       "        text-align: right;\n",
       "    }\n",
       "</style>\n",
       "<table border=\"1\" class=\"dataframe\">\n",
       "  <thead>\n",
       "    <tr style=\"text-align: right;\">\n",
       "      <th></th>\n",
       "      <th>timestamp</th>\n",
       "      <th>change_event</th>\n",
       "      <th>object_type</th>\n",
       "      <th>old_id</th>\n",
       "      <th>new_id</th>\n",
       "      <th>old_attributes</th>\n",
       "      <th>new_attributes</th>\n",
       "      <th>diff</th>\n",
       "    </tr>\n",
       "  </thead>\n",
       "  <tbody>\n",
       "    <tr>\n",
       "      <th>250</th>\n",
       "      <td>2021-12-02 16:42:07</td>\n",
       "      <td>modify</td>\n",
       "      <td>service</td>\n",
       "      <td>20274</td>\n",
       "      <td>20274</td>\n",
       "      <td>{'id': '20274', 'name': 'Service_N55'}</td>\n",
       "      <td>{'id': '20274', 'name': 'Brand_new_nameService...</td>\n",
       "      <td>[(change, name, (Service_N55, Brand_new_nameSe...</td>\n",
       "    </tr>\n",
       "    <tr>\n",
       "      <th>251</th>\n",
       "      <td>2021-12-02 16:42:07</td>\n",
       "      <td>modify</td>\n",
       "      <td>service</td>\n",
       "      <td>18853</td>\n",
       "      <td>18853</td>\n",
       "      <td>{'id': '18853', 'name': 'Service_N8'}</td>\n",
       "      <td>{'id': '18853', 'name': 'Brand_new_nameService...</td>\n",
       "      <td>[(change, name, (Service_N8, Brand_new_nameSer...</td>\n",
       "    </tr>\n",
       "    <tr>\n",
       "      <th>252</th>\n",
       "      <td>2021-12-02 16:42:07</td>\n",
       "      <td>modify</td>\n",
       "      <td>service</td>\n",
       "      <td>14134</td>\n",
       "      <td>14134</td>\n",
       "      <td>{'id': '14134', 'name': 'Service_98'}</td>\n",
       "      <td>{'id': '14134', 'name': 'Brand_new_nameService...</td>\n",
       "      <td>[(change, name, (Service_98, Brand_new_nameSer...</td>\n",
       "    </tr>\n",
       "    <tr>\n",
       "      <th>253</th>\n",
       "      <td>2021-12-02 16:42:07</td>\n",
       "      <td>modify</td>\n",
       "      <td>service</td>\n",
       "      <td>17732</td>\n",
       "      <td>17732</td>\n",
       "      <td>{'id': '17732', 'name': 'Service_N20'}</td>\n",
       "      <td>{'id': '17732', 'name': 'Brand_new_nameService...</td>\n",
       "      <td>[(change, name, (Service_N20, Brand_new_nameSe...</td>\n",
       "    </tr>\n",
       "    <tr>\n",
       "      <th>254</th>\n",
       "      <td>2021-12-02 16:42:07</td>\n",
       "      <td>modify</td>\n",
       "      <td>service</td>\n",
       "      <td>15660</td>\n",
       "      <td>15660</td>\n",
       "      <td>{'id': '15660', 'name': 'Service_113'}</td>\n",
       "      <td>{'id': '15660', 'name': 'Brand_new_nameService...</td>\n",
       "      <td>[(change, name, (Service_113, Brand_new_nameSe...</td>\n",
       "    </tr>\n",
       "  </tbody>\n",
       "</table>\n",
       "</div>"
      ],
      "text/plain": [
       "               timestamp change_event object_type old_id new_id  \\\n",
       "250  2021-12-02 16:42:07       modify     service  20274  20274   \n",
       "251  2021-12-02 16:42:07       modify     service  18853  18853   \n",
       "252  2021-12-02 16:42:07       modify     service  14134  14134   \n",
       "253  2021-12-02 16:42:07       modify     service  17732  17732   \n",
       "254  2021-12-02 16:42:07       modify     service  15660  15660   \n",
       "\n",
       "                             old_attributes  \\\n",
       "250  {'id': '20274', 'name': 'Service_N55'}   \n",
       "251   {'id': '18853', 'name': 'Service_N8'}   \n",
       "252   {'id': '14134', 'name': 'Service_98'}   \n",
       "253  {'id': '17732', 'name': 'Service_N20'}   \n",
       "254  {'id': '15660', 'name': 'Service_113'}   \n",
       "\n",
       "                                        new_attributes  \\\n",
       "250  {'id': '20274', 'name': 'Brand_new_nameService...   \n",
       "251  {'id': '18853', 'name': 'Brand_new_nameService...   \n",
       "252  {'id': '14134', 'name': 'Brand_new_nameService...   \n",
       "253  {'id': '17732', 'name': 'Brand_new_nameService...   \n",
       "254  {'id': '15660', 'name': 'Brand_new_nameService...   \n",
       "\n",
       "                                                  diff  \n",
       "250  [(change, name, (Service_N55, Brand_new_nameSe...  \n",
       "251  [(change, name, (Service_N8, Brand_new_nameSer...  \n",
       "252  [(change, name, (Service_98, Brand_new_nameSer...  \n",
       "253  [(change, name, (Service_N20, Brand_new_nameSe...  \n",
       "254  [(change, name, (Service_113, Brand_new_nameSe...  "
      ]
     },
     "execution_count": 54,
     "metadata": {},
     "output_type": "execute_result"
    }
   ],
   "source": [
    "n.schedule.change_log().tail()"
   ]
  },
  {
   "cell_type": "code",
   "execution_count": 55,
   "metadata": {
    "ExecuteTime": {
     "end_time": "2021-12-02T15:42:07.699153Z",
     "start_time": "2021-12-02T15:42:07.671657Z"
    }
   },
   "outputs": [
    {
     "data": {
      "text/plain": [
       "{'Brand_new_nameService_113',\n",
       " 'Brand_new_nameService_134',\n",
       " 'Brand_new_nameService_205',\n",
       " 'Brand_new_nameService_94',\n",
       " 'Brand_new_nameService_98',\n",
       " 'Brand_new_nameService_N20',\n",
       " 'Brand_new_nameService_N5',\n",
       " 'Brand_new_nameService_N55',\n",
       " 'Brand_new_nameService_N8'}"
      ]
     },
     "execution_count": 55,
     "metadata": {},
     "output_type": "execute_result"
    }
   ],
   "source": [
    "{s.name for s in n.schedule.services()}"
   ]
  },
  {
   "cell_type": "markdown",
   "metadata": {},
   "source": [
    "## Subsetting\n",
    "\n",
    "You can subset the Schedule object using Service IDs."
   ]
  },
  {
   "cell_type": "code",
   "execution_count": 56,
   "metadata": {
    "ExecuteTime": {
     "end_time": "2021-12-02T15:42:07.721037Z",
     "start_time": "2021-12-02T15:42:07.708350Z"
    }
   },
   "outputs": [
    {
     "data": {
      "text/plain": [
       "2"
      ]
     },
     "execution_count": 56,
     "metadata": {},
     "output_type": "execute_result"
    }
   ],
   "source": [
    "services = n.schedule.extract_service_ids_on_attributes(\n",
    "    {'name': ['Brand_new_nameService_134', 'Brand_new_nameService_98']})\n",
    "len(services)"
   ]
  },
  {
   "cell_type": "code",
   "execution_count": 57,
   "metadata": {
    "ExecuteTime": {
     "end_time": "2021-12-02T15:42:07.738556Z",
     "start_time": "2021-12-02T15:42:07.725354Z"
    }
   },
   "outputs": [
    {
     "name": "stdout",
     "output_type": "stream",
     "text": [
      "Schedule:\n",
      "Number of services: 9\n",
      "Number of routes: 69\n",
      "Number of stops: 85\n"
     ]
    }
   ],
   "source": [
    "n.schedule.print()"
   ]
  },
  {
   "cell_type": "code",
   "execution_count": 58,
   "metadata": {
    "ExecuteTime": {
     "end_time": "2021-12-02T15:42:14.064691Z",
     "start_time": "2021-12-02T15:42:07.742274Z"
    }
   },
   "outputs": [
    {
     "name": "stderr",
     "output_type": "stream",
     "text": [
      "2021-12-02 16:42:09,963 - The following vehicle types are missing from the `vehicle_types`  attribute: {'piggyback'}\n",
      "2021-12-02 16:42:09,964 - Vehicles affected by missing vehicle types: {'veh_2331_bus': {'type': 'piggyback'}, 'veh_2333_bus': {'type': 'piggyback'}, 'veh_2335_bus': {'type': 'piggyback'}, 'veh_2337_bus': {'type': 'piggyback'}, 'veh_2339_bus': {'type': 'piggyback'}}\n",
      "2021-12-02 16:42:10,597 - Removed Service with index `12430`, data={'id': '12430', 'name': 'Brand_new_nameService_205'} and Routes: {'VJ95b4c534d7c903d76ec0340025aa88b81dba3ce4', 'VJf8e38a73359b6cf743d8e35ee64ef1f7b7914daa', 'VJ0f3c08222de16c2e278be0a1bf0f9ea47370774e', 'VJ15419796737689e742962a625abcf3fd5b3d58b1', 'VJ06cd41dcd58d947097df4a8f33234ef423210154', 'VJ8f9aea7491080b0137d3092706f53dc11f7dba45', 'VJ235c8fca539cf931b3c673f9b056606384aff950', 'VJeae6e634f8479e0b6712780d5728f0afca964e64', 'VJef7f20c3a9bf1419f6401e1e9131fe2c634bcb9a', 'VJ948e8caa0f08b9c6bf6330927893942c474b5100', 'VJeb72539d69ddf8e29f1adf74d43953def196ae41', 'VJ06420fdab0dfe5c8e7f2f9504df05cf6289cd7d3'}\n",
      "2021-12-02 16:42:11,944 - Removed Service with index `14073`, data={'id': '14073', 'name': 'Brand_new_nameService_94'} and Routes: {'VJc8cdbd902dadeebeeb4dbd7332b564ee2e4b00ce', 'VJdbc280077e505b4f8d66586ca51751a125cb4ef0', 'VJb4309b7a9598539ab9942ea1bcadc60a91b978ba', 'VJf6055fdf9ef0dd6d0500b6c11adcfdd4d10655dc', 'VJe8cffad09738ff7b9698b333e3247918d5c45358', 'VJ93d8207ae8540b4ff59d47c9ee1ec5689084522d', 'VJ24fe211d801738b556a39f815256d7f6bc544ec5', 'VJe6ba07ef9f19ae40517261ad626bf34dd656491a', 'VJd9dbeefeca6d74ef2594a17514ebc08ee2d503b2', 'VJaa5ee0daec7529d7668c81fe7fac0c4ff545daea', 'VJe18efadf172576fea7989ec1f233f26854c0f66a', 'VJd132b905afc6c0e8e8a994142e301ca5c0f70e22', 'VJfc35884fc4f11dc408a209c19f56f3b60f634daf', 'VJea6046f64f85febf1854290fb8f76e921e3ac96b', 'VJ6cf76a4c03cca468cb6954db7f7aad5ae189df13'}\n",
      "2021-12-02 16:42:12,464 - Removed Service with index `18915`, data={'id': '18915', 'name': 'Brand_new_nameService_N5'} and Routes: {'VJ8a4b1ca7dfd0a130abd1de9f55f3b756617dd4ca', 'VJ0d304b95d39f4bce48e6ff26ddd73a9c06f17f4f', 'VJ520ec0c0ca58a849349fa614b5cf9270ac5c93da', 'VJb08f8a2de01a4ef99d3b7fefd9022117ac307531', 'VJ887921c00645929c5402ac46592e57c368ea63a1'}\n",
      "2021-12-02 16:42:12,849 - Removed Service with index `20274`, data={'id': '20274', 'name': 'Brand_new_nameService_N55'} and Routes: {'VJ375a660d47a2aa570aa20a8568012da8497ffecf', 'VJ6c64ab7b477e201cae950efde5bd0cb4e2e8888e', '20274_4', 'VJ812fad65e7fa418645b57b446f00cba573f2cdaf'}\n",
      "2021-12-02 16:42:13,297 - Removed Service with index `18853`, data={'id': '18853', 'name': 'Brand_new_nameService_N8'} and Routes: {'VJf3e316e5e605bb512147dee2a989be5a82ef1b5f', 'VJfc4917783c2ca3227789fa7c532c9adf47702095', 'VJ8cacca9a6722c497c413005568182ecf4d50b160'}\n",
      "2021-12-02 16:42:13,751 - Removed Service with index `17732`, data={'id': '17732', 'name': 'Brand_new_nameService_N20'} and Routes: {'VJ0cb60de3ed229c1413abac506e770b6ab8a7c49a', 'VJ85c23573d670bab5485618b0c5fddff3314efc89'}\n",
      "2021-12-02 16:42:14,039 - Removed Service with index `15660`, data={'id': '15660', 'name': 'Brand_new_nameService_113'} and Routes: {'VJ1cf651142378958b52229bfe1fa552e49136e60e', 'VJ3716910ec59c370d9f5c69137df7276b68cf0a08', 'VJf2e0de4f5dad68cb03064e6064e372dde52cc678'}\n",
      "2021-12-02 16:42:14,048 - Removed Stops with indices `['490000173JB.link:1663', 'other_new_stop']`.Routes affected: set(). Services affected: set().\n",
      "2021-12-02 16:42:14,055 - Removed Stops with indecies `{'490000173JB.link:1663', 'other_new_stop'}` which were not used by any Routes or part of minimal transfer times.\n"
     ]
    }
   ],
   "source": [
    "sub_s = n.schedule.subschedule(service_ids=services)"
   ]
  },
  {
   "cell_type": "code",
   "execution_count": 59,
   "metadata": {
    "ExecuteTime": {
     "end_time": "2021-12-02T15:42:14.112398Z",
     "start_time": "2021-12-02T15:42:14.067143Z"
    }
   },
   "outputs": [
    {
     "name": "stdout",
     "output_type": "stream",
     "text": [
      "Schedule:\n",
      "Number of services: 2\n",
      "Number of routes: 25\n",
      "Number of stops: 83\n"
     ]
    }
   ],
   "source": [
    "sub_s.print()"
   ]
  },
  {
   "cell_type": "markdown",
   "metadata": {},
   "source": [
    "### Spatial Subsetting\n",
    "\n",
    "There is a convenience method to extract a subset schedule using spatial conditions - refer to Using Schedule notebook or docs to learn more about what spatial inputs are supported."
   ]
  },
  {
   "cell_type": "code",
   "execution_count": 60,
   "metadata": {
    "ExecuteTime": {
     "end_time": "2021-12-02T15:42:14.134796Z",
     "start_time": "2021-12-02T15:42:14.116020Z"
    }
   },
   "outputs": [],
   "source": [
    "# pop it in https://s2.sidewalklabs.com/ to see it\n",
    "region = '48761ad0b14,48761ad0b3,48761ad0b5,48761ad0b7,48761ad0b84,48761ad0d,48761ad0e04,48761ad11f4,48761ad11fc,48761ad13,48761ad145fc,48761ad147,48761ad14c,48761ad153,48761ad41df,48761ad41e4,48761ad41fc,48761ad421,48761ad427,48761ad429,48761ad42b,48761ad5d5,48761ad5d7,48761ad5d9,48761ad5df,48761ad5e1,48761ad5e3,48761ad64,48761ad6c,48761ad71,48761ad73,48761ad744,48761ad74c,48761ad751,48761ad753,48761ad757554,48761ad75c,48761ad77,48761ad79,48761ad7b,48761ad7d,48761ad7e4,48761ad7ec,48761ad7f4,48761ad7f9,48761ad7fb,48761ad7fd,48761ad827,48761ad829,48761ad82b,48761ad9d5,48761ad9d7,48761ad9d84,48761b2802c,48761b2817,48761b281c,48761b283,48761b2847fc,48761b2849,48761b284b,48761b29b5,48761b29b7,48761b29b9,48761b29d,48761b29e4,48761b29e9,48761b29ea4,48761b29ef,48761b29fb4,48761b29fd'"
   ]
  },
  {
   "cell_type": "code",
   "execution_count": 61,
   "metadata": {
    "ExecuteTime": {
     "end_time": "2021-12-02T15:42:49.187490Z",
     "start_time": "2021-12-02T15:42:14.143942Z"
    }
   },
   "outputs": [
    {
     "name": "stderr",
     "output_type": "stream",
     "text": [
      "2021-12-02 16:42:32,723 - Subsetting a Network will likely result in a disconnected network graph. A cleaner will be ran that will remove links to make the resulting Network strongly connected for modes: car, walk, bike.\n",
      "2021-12-02 16:42:38,878 - Schedule will be subsetted using given services: ['12430']. Links pertaining to theirnetwork routes will also be retained.\n",
      "2021-12-02 16:42:42,716 - The following vehicle types are missing from the `vehicle_types`  attribute: {'piggyback'}\n",
      "2021-12-02 16:42:42,727 - Vehicles affected by missing vehicle types: {'veh_2331_bus': {'type': 'piggyback'}, 'veh_2333_bus': {'type': 'piggyback'}, 'veh_2335_bus': {'type': 'piggyback'}, 'veh_2337_bus': {'type': 'piggyback'}, 'veh_2339_bus': {'type': 'piggyback'}}\n",
      "2021-12-02 16:42:43,864 - Removed Service with index `15234`, data={'id': '15234', 'name': 'Brand_new_nameService_134'} and Routes: {'VJd4cbfb092a104ac6a3164a86e9765f68734fdfcf', 'VJ5b511605b1e07428c2e0a7d676d301c6c40dcca6', 'VJ9b58a59e3d74941586a5bca7726a8aa624da67fc', 'VJ8ccf92aa0f351b2e31f1a078b968dff4c2505c02', 'VJ1a8cc306354fdc322d739ae644eb73444341d08d', 'VJbf9d4fdb976223e6a026c0c669ed290418abefee', 'VJ652c769bc42361cc0308dff59a1fdcf0949bdade', 'VJ3d50b96792ae8495dbe5a5e372849a60c48b2279', 'VJ28a8a6a4ab02807a4fdfd199e5c2ca0622d34d0c'}\n",
      "2021-12-02 16:42:44,563 - Removed Service with index `14073`, data={'id': '14073', 'name': 'Brand_new_nameService_94'} and Routes: {'VJc8cdbd902dadeebeeb4dbd7332b564ee2e4b00ce', 'VJdbc280077e505b4f8d66586ca51751a125cb4ef0', 'VJb4309b7a9598539ab9942ea1bcadc60a91b978ba', 'VJf6055fdf9ef0dd6d0500b6c11adcfdd4d10655dc', 'VJe8cffad09738ff7b9698b333e3247918d5c45358', 'VJ93d8207ae8540b4ff59d47c9ee1ec5689084522d', 'VJ24fe211d801738b556a39f815256d7f6bc544ec5', 'VJe6ba07ef9f19ae40517261ad626bf34dd656491a', 'VJd9dbeefeca6d74ef2594a17514ebc08ee2d503b2', 'VJaa5ee0daec7529d7668c81fe7fac0c4ff545daea', 'VJe18efadf172576fea7989ec1f233f26854c0f66a', 'VJd132b905afc6c0e8e8a994142e301ca5c0f70e22', 'VJfc35884fc4f11dc408a209c19f56f3b60f634daf', 'VJea6046f64f85febf1854290fb8f76e921e3ac96b', 'VJ6cf76a4c03cca468cb6954db7f7aad5ae189df13'}\n",
      "2021-12-02 16:42:45,230 - Removed Service with index `18915`, data={'id': '18915', 'name': 'Brand_new_nameService_N5'} and Routes: {'VJ8a4b1ca7dfd0a130abd1de9f55f3b756617dd4ca', 'VJ0d304b95d39f4bce48e6ff26ddd73a9c06f17f4f', 'VJ520ec0c0ca58a849349fa614b5cf9270ac5c93da', 'VJb08f8a2de01a4ef99d3b7fefd9022117ac307531', 'VJ887921c00645929c5402ac46592e57c368ea63a1'}\n",
      "2021-12-02 16:42:45,800 - Removed Service with index `20274`, data={'id': '20274', 'name': 'Brand_new_nameService_N55'} and Routes: {'VJ375a660d47a2aa570aa20a8568012da8497ffecf', 'VJ6c64ab7b477e201cae950efde5bd0cb4e2e8888e', '20274_4', 'VJ812fad65e7fa418645b57b446f00cba573f2cdaf'}\n",
      "2021-12-02 16:42:46,564 - Removed Service with index `18853`, data={'id': '18853', 'name': 'Brand_new_nameService_N8'} and Routes: {'VJf3e316e5e605bb512147dee2a989be5a82ef1b5f', 'VJfc4917783c2ca3227789fa7c532c9adf47702095', 'VJ8cacca9a6722c497c413005568182ecf4d50b160'}\n",
      "2021-12-02 16:42:47,366 - Removed Service with index `14134`, data={'id': '14134', 'name': 'Brand_new_nameService_98'} and Routes: {'VJ4c6fa387b0d4be94a6c3679b94790b183e2558ca', 'VJ4e2b897edf0e7b8a8e3b5516ab43ce56f72c5cff', 'VJ4e311a625836374adf4cfaa841224840dbeb7619', 'VJ323d02e117552af1565f2ff1273a612655c829c4', 'VJb93a17a405fe502c5b3a2d6544105b0311da9fe2', 'VJ256e98df611ff48afe737ddc81cbcde82e4e81c8', 'VJdb0c128567fcbcc063d554ae1c95851cee41b909', 'VJd78967364a302cf232c5139d40622dcb6c238c9e', 'VJ5909ba51575a9459eb0013fbd31c8205455ca2fd', 'VJ26095b8f9f9db92ca2e53d4c086a7dcd82a13be9', 'VJa7f37392e276aeac26c7e73bbc05e6a71af38dba', 'VJ2c87b2a59184888f3175b55bde7b02d024ea8607', 'VJ12ba6089dfb2733e29c415a1a0015fef30fd5305', 'VJf9a22035ae6f25bb420df833474943ad76065c89', 'VJ2aba67e3ed98f2ed5f5966c1ac394cbf6d1943d7', 'VJdf3936da1a51eb33db594ef99738802c14b19995'}\n",
      "2021-12-02 16:42:48,012 - Removed Service with index `17732`, data={'id': '17732', 'name': 'Brand_new_nameService_N20'} and Routes: {'VJ0cb60de3ed229c1413abac506e770b6ab8a7c49a', 'VJ85c23573d670bab5485618b0c5fddff3314efc89'}\n",
      "2021-12-02 16:42:48,363 - Removed Service with index `15660`, data={'id': '15660', 'name': 'Brand_new_nameService_113'} and Routes: {'VJ1cf651142378958b52229bfe1fa552e49136e60e', 'VJ3716910ec59c370d9f5c69137df7276b68cf0a08', 'VJf2e0de4f5dad68cb03064e6064e372dde52cc678'}\n",
      "2021-12-02 16:42:48,380 - Removed Stops with indices `['490000173JB.link:1663', 'other_new_stop']`.Routes affected: set(). Services affected: set().\n",
      "2021-12-02 16:42:48,381 - Removed Stops with indecies `{'490000173JB.link:1663', 'other_new_stop'}` which were not used by any Routes or part of minimal transfer times.\n",
      "2021-12-02 16:42:48,797 - Extracting largest connected components resulted in mode: car being deleted from 82 edges\n",
      "2021-12-02 16:42:49,071 - Changed Link attributes for 259 links\n",
      "2021-12-02 16:42:49,103 - Removed 56 links\n",
      "2021-12-02 16:42:49,118 - The graph for modes: bike does not have any connected components. This method returns True because if the graph is empty for this mode there is no reason to fail this check.\n",
      "2021-12-02 16:42:49,141 - The graph for modes: walk does not have any connected components. This method returns True because if the graph is empty for this mode there is no reason to fail this check.\n",
      "2021-12-02 16:42:49,157 - Subsetted Network is ready - do not forget to validate and visualise your subset!\n"
     ]
    },
    {
     "data": {
      "text/plain": [
       "<Network instance at 4889764560: with \n",
       "graph: Name: Network graph\n",
       "Type: MultiDiGraph\n",
       "Number of nodes: 156\n",
       "Number of edges: 203\n",
       "Average in degree:   1.3013\n",
       "Average out degree:   1.3013 and \n",
       "schedule Schedule:\n",
       "Number of services: 1\n",
       "Number of routes: 12\n",
       "Number of stops: 83"
      ]
     },
     "execution_count": 61,
     "metadata": {},
     "output_type": "execute_result"
    }
   ],
   "source": [
    "n.subnetwork_on_spatial_condition(region, how='intersect')"
   ]
  },
  {
   "cell_type": "code",
   "execution_count": null,
   "metadata": {},
   "outputs": [],
   "source": []
  }
 ],
 "metadata": {
  "kernelspec": {
   "display_name": "genet",
   "language": "python",
   "name": "genet"
  },
  "language_info": {
   "codemirror_mode": {
    "name": "ipython",
    "version": 3
   },
   "file_extension": ".py",
   "mimetype": "text/x-python",
   "name": "python",
   "nbconvert_exporter": "python",
   "pygments_lexer": "ipython3",
   "version": "3.7.7"
  },
  "latex_envs": {
   "LaTeX_envs_menu_present": true,
   "autoclose": true,
   "autocomplete": true,
   "bibliofile": "biblio.bib",
   "cite_by": "apalike",
   "current_citInitial": 1,
   "eqLabelWithNumbers": true,
   "eqNumInitial": 1,
   "hotkeys": {
    "equation": "Ctrl-E",
    "itemize": "Ctrl-I"
   },
   "labels_anchors": false,
   "latex_user_defs": false,
   "report_style_numbering": false,
   "user_envs_cfg": false
  },
  "toc": {
   "base_numbering": 1,
   "nav_menu": {},
   "number_sections": true,
   "sideBar": true,
   "skip_h1_title": false,
   "title_cell": "Table of Contents",
   "title_sidebar": "Contents",
   "toc_cell": false,
   "toc_position": {},
   "toc_section_display": true,
   "toc_window_display": false
  },
  "varInspector": {
   "cols": {
    "lenName": 16,
    "lenType": 16,
    "lenVar": 40
   },
   "kernels_config": {
    "python": {
     "delete_cmd_postfix": "",
     "delete_cmd_prefix": "del ",
     "library": "var_list.py",
     "varRefreshCmd": "print(var_dic_list())"
    },
    "r": {
     "delete_cmd_postfix": ") ",
     "delete_cmd_prefix": "rm(",
     "library": "var_list.r",
     "varRefreshCmd": "cat(var_dic_list()) "
    }
   },
   "types_to_exclude": [
    "module",
    "function",
    "builtin_function_or_method",
    "instance",
    "_Feature"
   ],
   "window_display": false
  }
 },
 "nbformat": 4,
 "nbformat_minor": 2
}
