{
 "cells": [
  {
   "cell_type": "markdown",
   "metadata": {},
   "source": [
    "# Modifying the `Schedule` object\n",
    "\n",
    "GeNet has a number of methods to change the Schedule objects. Make sure you validate the end result."
   ]
  },
  {
   "cell_type": "code",
   "execution_count": 1,
   "metadata": {
    "ExecuteTime": {
     "end_time": "2021-04-13T16:25:29.414359Z",
     "start_time": "2021-04-13T16:25:21.613044Z"
    }
   },
   "outputs": [
    {
     "data": {
      "text/plain": [
       "<Network instance at 4612839184: with \n",
       "graph: Name: Network graph\n",
       "Type: MultiDiGraph\n",
       "Number of nodes: 1662\n",
       "Number of edges: 3166\n",
       "Average in degree:   1.9049\n",
       "Average out degree:   1.9049 and \n",
       "schedule Schedule:\n",
       "Number of services: 9\n",
       "Number of routes: 68\n",
       "Number of stops: 118"
      ]
     },
     "execution_count": 1,
     "metadata": {},
     "output_type": "execute_result"
    }
   ],
   "source": [
    "# read example network\n",
    "import pandas as pd\n",
    "from genet import Network, Stop, Route, Service, read_matsim\n",
    "import os\n",
    "\n",
    "path_to_matsim_network = '../example_data/pt2matsim_network'\n",
    "\n",
    "network = os.path.join(path_to_matsim_network, 'network.xml')\n",
    "schedule = os.path.join(path_to_matsim_network, 'schedule.xml')\n",
    "vehicles = os.path.join(path_to_matsim_network, 'vehicles.xml')\n",
    "n = read_matsim(\n",
    "    path_to_network=network, \n",
    "    epsg='epsg:27700', \n",
    "    path_to_schedule=schedule, \n",
    "    path_to_vehicles=vehicles\n",
    ")\n",
    "# you don't need to read the vehicles file, but doing so ensures all vehicles\n",
    "# in the schedule are of the expected type and the definition of the vehicle\n",
    "# is preserved\n",
    "n.print()"
   ]
  },
  {
   "cell_type": "markdown",
   "metadata": {},
   "source": [
    "## Adding Routes, Services\n",
    "\n",
    "You can add `Route`s and `Service`s. To add a `Route`, you need to identify which existing `Service` it should come under."
   ]
  },
  {
   "cell_type": "code",
   "execution_count": 2,
   "metadata": {
    "ExecuteTime": {
     "end_time": "2021-04-13T16:25:31.376422Z",
     "start_time": "2021-04-13T16:25:29.446137Z"
    }
   },
   "outputs": [],
   "source": [
    "route = Route(\n",
    "    route_short_name='N55',\n",
    "    mode='bus',\n",
    "    trips={'trip_id': ['fun_trip_1', 'fun_trip_2'], \n",
    "           'trip_departure_time': ['03:53:00', '16:23:00'], \n",
    "           'vehicle_id': ['fun_bus_1', 'fun_bus_2']},\n",
    "   arrival_offsets=['00:00:00', '00:02:00', '00:04:00', '00:06:00'],\n",
    "   departure_offsets=['00:00:00', '00:02:00', '00:04:00', '00:06:00'],\n",
    "   id='new_route',\n",
    "#    route= ['834', '1573', '3139', '3141', '574', '3154', '979', '980', '981'],\n",
    "   await_departure= [True, True, True, True],\n",
    "   stops=[n.schedule.stop('490000235X'),\n",
    "          Stop(id='new_stop', x=529500, y=181300,\n",
    "            name='New Stop', epsg='epsg:27700'),\n",
    "          Stop(id='other_new_stop', x=529502, y=181302,\n",
    "            name='Other New Stop', epsg='epsg:27700'),\n",
    "          n.schedule.stop('490010689KB')]\n",
    ")"
   ]
  },
  {
   "cell_type": "markdown",
   "metadata": {},
   "source": [
    "You can create and add a new `Service`, or add te route to an existing Service"
   ]
  },
  {
   "cell_type": "code",
   "execution_count": 3,
   "metadata": {
    "ExecuteTime": {
     "end_time": "2021-04-13T16:25:31.810893Z",
     "start_time": "2021-04-13T16:25:31.381714Z"
    }
   },
   "outputs": [
    {
     "name": "stderr",
     "output_type": "stream",
     "text": [
      "/Users/kasia.kozlowska/pycharm_venvs/genet/lib/python3.7/site-packages/pyproj/crs/crs.py:53: FutureWarning: '+init=<authority>:<code>' syntax is deprecated. '<authority>:<code>' is the preferred initialization method. When making the change, be mindful of axis order changes: https://pyproj4.github.io/pyproj/stable/gotchas.html#axis-order-changes-in-proj-6\n",
      "  return _prepare_from_string(\" \".join(pjargs))\n",
      "/Users/kasia.kozlowska/pycharm_venvs/genet/lib/python3.7/site-packages/pyproj/crs/crs.py:53: FutureWarning: '+init=<authority>:<code>' syntax is deprecated. '<authority>:<code>' is the preferred initialization method. When making the change, be mindful of axis order changes: https://pyproj4.github.io/pyproj/stable/gotchas.html#axis-order-changes-in-proj-6\n",
      "  return _prepare_from_string(\" \".join(pjargs))\n",
      "/Users/kasia.kozlowska/pycharm_venvs/genet/lib/python3.7/site-packages/osmnx/utils_graph.py:56: FutureWarning: Assigning CRS to a GeoDataFrame without a geometry column is now deprecated and will not be supported in the future.\n",
      "  gdf_nodes = gpd.GeoDataFrame(data, index=nodes, crs=crs)\n"
     ]
    },
    {
     "data": {
      "image/png": "[encoded data removed]",
      "text/plain": [
       "<Figure size 576x576 with 1 Axes>"
      ]
     },
     "metadata": {},
     "output_type": "display_data"
    },
    {
     "data": {
      "text/plain": [
       "(<Figure size 576x576 with 1 Axes>,\n",
       " <matplotlib.axes._subplots.AxesSubplot at 0x11a16dd30>)"
      ]
     },
     "execution_count": 3,
     "metadata": {},
     "output_type": "execute_result"
    }
   ],
   "source": [
    "new_service = Service(id='new_service', routes=[route])\n",
    "new_service.plot()"
   ]
  },
  {
   "cell_type": "code",
   "execution_count": 4,
   "metadata": {
    "ExecuteTime": {
     "end_time": "2021-04-13T16:25:31.906513Z",
     "start_time": "2021-04-13T16:25:31.813845Z"
    }
   },
   "outputs": [
    {
     "name": "stderr",
     "output_type": "stream",
     "text": [
      "2021-04-13 17:25:31,869 - Added Service with index `new_service`, data={'id': 'new_service', 'name': 'N55'} and Routes: ['new_route']\n"
     ]
    },
    {
     "data": {
      "text/plain": [
       "<Service instance at 4463846512: with 1 routes>"
      ]
     },
     "execution_count": 4,
     "metadata": {},
     "output_type": "execute_result"
    }
   ],
   "source": [
    "n.schedule.add_service(Service(id='new_service', routes=[route]))"
   ]
  },
  {
   "cell_type": "code",
   "execution_count": 5,
   "metadata": {
    "ExecuteTime": {
     "end_time": "2021-04-13T16:25:31.983831Z",
     "start_time": "2021-04-13T16:25:31.913184Z"
    }
   },
   "outputs": [
    {
     "name": "stderr",
     "output_type": "stream",
     "text": [
      "2021-04-13 17:25:31,927 - Route with ID `new_route` within already exists in the Schedule. This Route will be reindexed to `20274_4`\n",
      "2021-04-13 17:25:31,960 - Reindexed Route from new_route to 20274_4\n",
      "2021-04-13 17:25:31,975 - Added Route with index `20274_4`, data={'route_short_name': 'N55', 'mode': 'bus', 'trips': {'trip_id': ['fun_trip_1', 'fun_trip_2'], 'trip_departure_time': ['03:53:00', '16:23:00'], 'vehicle_id': ['fun_bus_1', 'fun_bus_2']}, 'arrival_offsets': ['00:00:00', '00:02:00', '00:04:00', '00:06:00'], 'departure_offsets': ['00:00:00', '00:02:00', '00:04:00', '00:06:00'], 'route_long_name': '', 'id': '20274_4', 'route': [], 'await_departure': [True, True, True, True], 'ordered_stops': ['490000235X', 'new_stop', 'other_new_stop', '490010689KB']} to Service `20274` within the Schedule\n"
     ]
    },
    {
     "data": {
      "text/plain": [
       "<Route instance at 4729484064: with 4 stops and 2 trips>"
      ]
     },
     "execution_count": 5,
     "metadata": {},
     "output_type": "execute_result"
    }
   ],
   "source": [
    "n.schedule.add_route('20274', route)"
   ]
  },
  {
   "cell_type": "code",
   "execution_count": 6,
   "metadata": {
    "ExecuteTime": {
     "end_time": "2021-04-13T16:25:32.404261Z",
     "start_time": "2021-04-13T16:25:31.986296Z"
    }
   },
   "outputs": [
    {
     "name": "stderr",
     "output_type": "stream",
     "text": [
      "/Users/kasia.kozlowska/pycharm_venvs/genet/lib/python3.7/site-packages/pyproj/crs/crs.py:53: FutureWarning: '+init=<authority>:<code>' syntax is deprecated. '<authority>:<code>' is the preferred initialization method. When making the change, be mindful of axis order changes: https://pyproj4.github.io/pyproj/stable/gotchas.html#axis-order-changes-in-proj-6\n",
      "  return _prepare_from_string(\" \".join(pjargs))\n",
      "/Users/kasia.kozlowska/pycharm_venvs/genet/lib/python3.7/site-packages/osmnx/utils_graph.py:56: FutureWarning: Assigning CRS to a GeoDataFrame without a geometry column is now deprecated and will not be supported in the future.\n",
      "  gdf_nodes = gpd.GeoDataFrame(data, index=nodes, crs=crs)\n"
     ]
    },
    {
     "data": {
      "image/png": "[encoded data removed]",
      "text/plain": [
       "<Figure size 576x576 with 1 Axes>"
      ]
     },
     "metadata": {},
     "output_type": "display_data"
    },
    {
     "data": {
      "text/plain": [
       "(<Figure size 576x576 with 1 Axes>,\n",
       " <matplotlib.axes._subplots.AxesSubplot at 0x119dcb748>)"
      ]
     },
     "execution_count": 6,
     "metadata": {},
     "output_type": "execute_result"
    }
   ],
   "source": [
    "n.schedule['new_service'].plot()"
   ]
  },
  {
   "cell_type": "code",
   "execution_count": 7,
   "metadata": {
    "ExecuteTime": {
     "end_time": "2021-04-13T16:25:32.999247Z",
     "start_time": "2021-04-13T16:25:32.407102Z"
    }
   },
   "outputs": [
    {
     "name": "stderr",
     "output_type": "stream",
     "text": [
      "/Users/kasia.kozlowska/pycharm_venvs/genet/lib/python3.7/site-packages/pyproj/crs/crs.py:53: FutureWarning: '+init=<authority>:<code>' syntax is deprecated. '<authority>:<code>' is the preferred initialization method. When making the change, be mindful of axis order changes: https://pyproj4.github.io/pyproj/stable/gotchas.html#axis-order-changes-in-proj-6\n",
      "  return _prepare_from_string(\" \".join(pjargs))\n",
      "/Users/kasia.kozlowska/pycharm_venvs/genet/lib/python3.7/site-packages/osmnx/utils_graph.py:56: FutureWarning: Assigning CRS to a GeoDataFrame without a geometry column is now deprecated and will not be supported in the future.\n",
      "  gdf_nodes = gpd.GeoDataFrame(data, index=nodes, crs=crs)\n"
     ]
    },
    {
     "data": {
      "image/png": "[encoded data removed]",
      "text/plain": [
       "<Figure size 576x576 with 1 Axes>"
      ]
     },
     "metadata": {},
     "output_type": "display_data"
    },
    {
     "data": {
      "text/plain": [
       "(<Figure size 576x576 with 1 Axes>,\n",
       " <matplotlib.axes._subplots.AxesSubplot at 0x119d65a90>)"
      ]
     },
     "execution_count": 7,
     "metadata": {},
     "output_type": "execute_result"
    }
   ],
   "source": [
    "n.schedule.route('20274_4').plot()"
   ]
  },
  {
   "cell_type": "markdown",
   "metadata": {},
   "source": [
    "You can also refer to existing stops in the `Schedule` when creating a`Route` to be added. You can either just pass Stop IDs as strings or use a stop method on the schedule to take and use that stop object. Note that in the case of the former (passing ID strings), the route will not have the spatial information for those stops until it is added to the Schedule."
   ]
  },
  {
   "cell_type": "code",
   "execution_count": 8,
   "metadata": {
    "ExecuteTime": {
     "end_time": "2021-04-13T16:25:33.020202Z",
     "start_time": "2021-04-13T16:25:33.003113Z"
    }
   },
   "outputs": [],
   "source": [
    "r = Route(\n",
    "    route_short_name='N55',\n",
    "    mode='bus',\n",
    "    trips={'trip_id': ['some_trip_1'], \n",
    "           'trip_departure_time': ['16:23:00'], \n",
    "           'vehicle_id': ['some_bus_2']},\n",
    "   arrival_offsets=['00:00:00', '00:06:00'],\n",
    "   departure_offsets=['00:00:00', '00:06:00'],\n",
    "   id='another_new_route',\n",
    "#    route= ['834', '1573', '3139', '3141', '574', '3154', '979', '980', '981'],\n",
    "   await_departure= [True, True],\n",
    "   stops=['490000235X.link:834', \n",
    "          '490010689KB.link:981']\n",
    ")"
   ]
  },
  {
   "cell_type": "code",
   "execution_count": 9,
   "metadata": {
    "ExecuteTime": {
     "end_time": "2021-04-13T16:25:33.029732Z",
     "start_time": "2021-04-13T16:25:33.024200Z"
    }
   },
   "outputs": [
    {
     "data": {
      "text/plain": [
       "{'routes': {'another_new_route'}}"
      ]
     },
     "execution_count": 9,
     "metadata": {},
     "output_type": "execute_result"
    }
   ],
   "source": [
    "r.graph().nodes['490000235X.link:834']"
   ]
  },
  {
   "cell_type": "code",
   "execution_count": 10,
   "metadata": {
    "ExecuteTime": {
     "end_time": "2021-04-13T16:25:33.046481Z",
     "start_time": "2021-04-13T16:25:33.031828Z"
    }
   },
   "outputs": [
    {
     "name": "stderr",
     "output_type": "stream",
     "text": [
      "2021-04-13 17:25:33,040 - Added Route with index `another_new_route`, data={'route_short_name': 'N55', 'mode': 'bus', 'trips': {'trip_id': ['some_trip_1'], 'trip_departure_time': ['16:23:00'], 'vehicle_id': ['some_bus_2']}, 'arrival_offsets': ['00:00:00', '00:06:00'], 'departure_offsets': ['00:00:00', '00:06:00'], 'route_long_name': '', 'id': 'another_new_route', 'route': [], 'await_departure': [True, True], 'ordered_stops': ['490000235X.link:834', '490010689KB.link:981']} to Service `20274` within the Schedule\n"
     ]
    },
    {
     "data": {
      "text/plain": [
       "<Route instance at 4727682944: with 2 stops and 1 trips>"
      ]
     },
     "execution_count": 10,
     "metadata": {},
     "output_type": "execute_result"
    }
   ],
   "source": [
    "n.schedule.add_route('20274', r)"
   ]
  },
  {
   "cell_type": "code",
   "execution_count": 11,
   "metadata": {
    "ExecuteTime": {
     "end_time": "2021-04-13T16:25:33.058352Z",
     "start_time": "2021-04-13T16:25:33.050027Z"
    }
   },
   "outputs": [
    {
     "data": {
      "text/plain": [
       "{'services': {'14134', '18853', '20274'},\n",
       " 'routes': {'VJ12ba6089dfb2733e29c415a1a0015fef30fd5305',\n",
       "  'VJ256e98df611ff48afe737ddc81cbcde82e4e81c8',\n",
       "  'VJ2aba67e3ed98f2ed5f5966c1ac394cbf6d1943d7',\n",
       "  'VJ375a660d47a2aa570aa20a8568012da8497ffecf',\n",
       "  'VJ4e2b897edf0e7b8a8e3b5516ab43ce56f72c5cff',\n",
       "  'VJa7f37392e276aeac26c7e73bbc05e6a71af38dba',\n",
       "  'VJd78967364a302cf232c5139d40622dcb6c238c9e',\n",
       "  'VJdf3936da1a51eb33db594ef99738802c14b19995',\n",
       "  'VJf3e316e5e605bb512147dee2a989be5a82ef1b5f',\n",
       "  'VJf9a22035ae6f25bb420df833474943ad76065c89',\n",
       "  'another_new_route'},\n",
       " 'id': '490000235X.link:834',\n",
       " 'x': 529981.7958802709,\n",
       " 'y': 181412.0975758662,\n",
       " 'epsg': 'epsg:27700',\n",
       " 'name': 'Tottenham Court Road Station (Stop X)',\n",
       " 'lon': 51.51668503324075,\n",
       " 'lat': -0.12809598708996447,\n",
       " 's2_id': 2507584377443783851,\n",
       " 'additional_attributes': {'isBlocking', 'linkRefId', 'name'},\n",
       " 'linkRefId': '834',\n",
       " 'isBlocking': 'false'}"
      ]
     },
     "execution_count": 11,
     "metadata": {},
     "output_type": "execute_result"
    }
   ],
   "source": [
    "r.graph().nodes['490000235X.link:834']"
   ]
  },
  {
   "cell_type": "code",
   "execution_count": 12,
   "metadata": {
    "ExecuteTime": {
     "end_time": "2021-04-13T16:25:33.083901Z",
     "start_time": "2021-04-13T16:25:33.060876Z"
    }
   },
   "outputs": [
    {
     "name": "stderr",
     "output_type": "stream",
     "text": [
      "2021-04-13 17:25:33,078 - Added Route with index `another_new_route_2`, data={'route_short_name': 'N55', 'mode': 'bus', 'trips': {'trip_id': ['some_trip_1'], 'trip_departure_time': ['16:23:00'], 'vehicle_id': ['some_bus_2']}, 'arrival_offsets': ['00:00:00', '00:06:00'], 'departure_offsets': ['00:00:00', '00:06:00'], 'route_long_name': '', 'id': 'another_new_route_2', 'route': [], 'await_departure': [True, True], 'ordered_stops': ['490000235X.link:834', '490010689KB.link:981']} to Service `20274` within the Schedule\n"
     ]
    },
    {
     "data": {
      "text/plain": [
       "<Route instance at 4727634856: with 2 stops and 1 trips>"
      ]
     },
     "execution_count": 12,
     "metadata": {},
     "output_type": "execute_result"
    }
   ],
   "source": [
    "r = Route(\n",
    "    route_short_name='N55',\n",
    "    mode='bus',\n",
    "    trips={'trip_id': ['some_trip_1'], \n",
    "           'trip_departure_time': ['16:23:00'], \n",
    "           'vehicle_id': ['some_bus_2']},\n",
    "   arrival_offsets=['00:00:00', '00:06:00'],\n",
    "   departure_offsets=['00:00:00', '00:06:00'],\n",
    "   id='another_new_route_2',\n",
    "#    route= ['834', '1573', '3139', '3141', '574', '3154', '979', '980', '981'],\n",
    "   await_departure= [True, True],\n",
    "   stops=[n.schedule.stop('490000235X.link:834'), \n",
    "          n.schedule.stop('490010689KB.link:981')]\n",
    ")\n",
    "n.schedule.add_route('20274', r)"
   ]
  },
  {
   "cell_type": "markdown",
   "metadata": {},
   "source": [
    "Note that for a Schedule to be a valid MATSim network, each stop referred to by a route needs a `linkRefId` attribute which links the stop to the `Network`.\n",
    "\n",
    "Trying to add Stops with IDs already in the Schedule will result in an error, unless the `force=True` is set. The added route/service will inherit the data stored under those stops. The idea is that you can either specify the Stops in the route/service to be added correctly, or if they are to be changed, you use a dedicated method - check section 'Modifying data' below."
   ]
  },
  {
   "cell_type": "code",
   "execution_count": 13,
   "metadata": {
    "ExecuteTime": {
     "end_time": "2021-04-13T16:25:34.884243Z",
     "start_time": "2021-04-13T16:25:33.085788Z"
    }
   },
   "outputs": [
    {
     "name": "stderr",
     "output_type": "stream",
     "text": [
      "2021-04-13 17:25:34,867 - The following stops will inherit the data currently stored under those Stop IDs in the Schedule: ['490000235X.link:834', '490010689KB.link:981'].\n",
      "2021-04-13 17:25:34,875 - Added Route with index `another_new_route_3`, data={'route_short_name': 'N55', 'mode': 'bus', 'trips': {'trip_id': ['fun_trip_1', 'fun_trip_2'], 'trip_departure_time': ['03:53:00', '16:23:00'], 'vehicle_id': ['fun_bus_1', 'fun_bus_2']}, 'arrival_offsets': ['00:00:00', '00:02:00', '00:04:00', '00:06:00'], 'departure_offsets': ['00:00:00', '00:02:00', '00:04:00', '00:06:00'], 'route_long_name': '', 'id': 'another_new_route_3', 'route': [], 'await_departure': [True, True, True, True], 'ordered_stops': ['490000235X.link:834', 'new_stop', 'other_new_stop', '490010689KB.link:981']} to Service `20274` within the Schedule\n"
     ]
    },
    {
     "data": {
      "text/plain": [
       "<Route instance at 4727609328: with 4 stops and 2 trips>"
      ]
     },
     "execution_count": 13,
     "metadata": {},
     "output_type": "execute_result"
    }
   ],
   "source": [
    "route = Route(\n",
    "    route_short_name='N55',\n",
    "    mode='bus',\n",
    "    trips={'trip_id': ['fun_trip_1', 'fun_trip_2'], \n",
    "           'trip_departure_time': ['03:53:00', '16:23:00'], \n",
    "           'vehicle_id': ['fun_bus_1', 'fun_bus_2']},\n",
    "   arrival_offsets=['00:00:00', '00:02:00', '00:04:00', '00:06:00'],\n",
    "   departure_offsets=['00:00:00', '00:02:00', '00:04:00', '00:06:00'],\n",
    "   id='another_new_route_3',\n",
    "#    route= ['834', '1573', '3139', '3141', '574', '3154', '979', '980', '981'],\n",
    "   await_departure= [True, True, True, True],\n",
    "   stops=[\n",
    "       Stop(id='490000235X.link:834', x=529981, y=181412, epsg='epsg:27700'),\n",
    "       Stop(id='new_stop', x=529500, y=181300, epsg='epsg:27700', name='New Stop'),\n",
    "       Stop(id='other_new_stop', x=529502, y=181302, epsg='epsg:27700', name='Other New Stop'),\n",
    "       Stop(id='490010689KB.link:981', x=529166, y=181256, epsg='epsg:27700')\n",
    "   ]\n",
    ")\n",
    "\n",
    "n.schedule.add_route('20274', route, force=True)"
   ]
  },
  {
   "cell_type": "markdown",
   "metadata": {},
   "source": [
    "Note the message above: `The following stops will inherit the data currently stored under those Stop IDs in the Schedule: ['490000235X.link:834', '490010689KB.link:981'].`\n",
    "\n",
    "NOTE: adding routes and services results in new vehicles (unless you reuse the ones already in the Schedule---beware that the same vehicle cannot service multiple trips at the same time, genet does not currently have checks for this, the user needs to be mindful of the physics of shared vehicles). New vehicles need definitions, you can add them yourself to `schedule.vehicles['vehicle_id'] = {'type': 'bus'}` ensuring this vehicle type is defined in `schedule.vehicle_types['bus']`, or you can use a genet method to generate those vehicles, the type will be derived from the mode of the route. Then you can check if all of the types that vehicles are referring to have definitions."
   ]
  },
  {
   "cell_type": "code",
   "execution_count": 14,
   "metadata": {
    "ExecuteTime": {
     "end_time": "2021-04-13T16:25:34.904632Z",
     "start_time": "2021-04-13T16:25:34.889312Z"
    }
   },
   "outputs": [
    {
     "data": {
      "text/plain": [
       "13290"
      ]
     },
     "execution_count": 14,
     "metadata": {},
     "output_type": "execute_result"
    }
   ],
   "source": [
    "len(n.schedule.vehicles)"
   ]
  },
  {
   "cell_type": "code",
   "execution_count": 15,
   "metadata": {
    "ExecuteTime": {
     "end_time": "2021-04-13T16:25:35.524028Z",
     "start_time": "2021-04-13T16:25:34.910023Z"
    }
   },
   "outputs": [
    {
     "name": "stderr",
     "output_type": "stream",
     "text": [
      "/Users/kasia.kozlowska/PycharmProjects/ABM/genet/genet/schedule_elements.py:1232: UserWarning: DataFrame columns are not unique, some columns will be omitted.\n",
      "  self.vehicles = {**df.T.to_dict(), **self.vehicles}\n"
     ]
    }
   ],
   "source": [
    "n.schedule.generate_vehicles()"
   ]
  },
  {
   "cell_type": "code",
   "execution_count": 16,
   "metadata": {
    "ExecuteTime": {
     "end_time": "2021-04-13T16:25:35.567066Z",
     "start_time": "2021-04-13T16:25:35.526156Z"
    }
   },
   "outputs": [
    {
     "data": {
      "text/plain": [
       "True"
      ]
     },
     "execution_count": 16,
     "metadata": {},
     "output_type": "execute_result"
    }
   ],
   "source": [
    "n.schedule.validate_vehicle_definitions()"
   ]
  },
  {
   "cell_type": "code",
   "execution_count": 17,
   "metadata": {
    "ExecuteTime": {
     "end_time": "2021-04-13T16:25:35.581593Z",
     "start_time": "2021-04-13T16:25:35.568725Z"
    }
   },
   "outputs": [
    {
     "data": {
      "text/plain": [
       "13293"
      ]
     },
     "execution_count": 17,
     "metadata": {},
     "output_type": "execute_result"
    }
   ],
   "source": [
    "len(n.schedule.vehicles)"
   ]
  },
  {
   "cell_type": "code",
   "execution_count": 18,
   "metadata": {
    "ExecuteTime": {
     "end_time": "2021-04-13T16:25:35.635247Z",
     "start_time": "2021-04-13T16:25:35.591099Z"
    }
   },
   "outputs": [
    {
     "data": {
      "text/html": [
       "<div>\n",
       "<style scoped>\n",
       "    .dataframe tbody tr th:only-of-type {\n",
       "        vertical-align: middle;\n",
       "    }\n",
       "\n",
       "    .dataframe tbody tr th {\n",
       "        vertical-align: top;\n",
       "    }\n",
       "\n",
       "    .dataframe thead th {\n",
       "        text-align: right;\n",
       "    }\n",
       "</style>\n",
       "<table border=\"1\" class=\"dataframe\">\n",
       "  <thead>\n",
       "    <tr style=\"text-align: right;\">\n",
       "      <th></th>\n",
       "      <th>timestamp</th>\n",
       "      <th>change_event</th>\n",
       "      <th>object_type</th>\n",
       "      <th>old_id</th>\n",
       "      <th>new_id</th>\n",
       "      <th>old_attributes</th>\n",
       "      <th>new_attributes</th>\n",
       "      <th>diff</th>\n",
       "    </tr>\n",
       "  </thead>\n",
       "  <tbody>\n",
       "    <tr>\n",
       "      <th>0</th>\n",
       "      <td>2021-04-13 17:25:31</td>\n",
       "      <td>add</td>\n",
       "      <td>service</td>\n",
       "      <td>None</td>\n",
       "      <td>new_service</td>\n",
       "      <td>None</td>\n",
       "      <td>{'id': 'new_service', 'name': 'N55'}</td>\n",
       "      <td>[(add, , [('id', 'new_service'), ('name', 'N55...</td>\n",
       "    </tr>\n",
       "    <tr>\n",
       "      <th>1</th>\n",
       "      <td>2021-04-13 17:25:31</td>\n",
       "      <td>add</td>\n",
       "      <td>route</td>\n",
       "      <td>None</td>\n",
       "      <td>20274_4</td>\n",
       "      <td>None</td>\n",
       "      <td>{'route_short_name': 'N55', 'mode': 'bus', 'tr...</td>\n",
       "      <td>[(add, , [('route_short_name', 'N55'), ('mode'...</td>\n",
       "    </tr>\n",
       "    <tr>\n",
       "      <th>2</th>\n",
       "      <td>2021-04-13 17:25:33</td>\n",
       "      <td>add</td>\n",
       "      <td>route</td>\n",
       "      <td>None</td>\n",
       "      <td>another_new_route</td>\n",
       "      <td>None</td>\n",
       "      <td>{'route_short_name': 'N55', 'mode': 'bus', 'tr...</td>\n",
       "      <td>[(add, , [('route_short_name', 'N55'), ('mode'...</td>\n",
       "    </tr>\n",
       "    <tr>\n",
       "      <th>3</th>\n",
       "      <td>2021-04-13 17:25:33</td>\n",
       "      <td>add</td>\n",
       "      <td>route</td>\n",
       "      <td>None</td>\n",
       "      <td>another_new_route_2</td>\n",
       "      <td>None</td>\n",
       "      <td>{'route_short_name': 'N55', 'mode': 'bus', 'tr...</td>\n",
       "      <td>[(add, , [('route_short_name', 'N55'), ('mode'...</td>\n",
       "    </tr>\n",
       "    <tr>\n",
       "      <th>4</th>\n",
       "      <td>2021-04-13 17:25:34</td>\n",
       "      <td>add</td>\n",
       "      <td>route</td>\n",
       "      <td>None</td>\n",
       "      <td>another_new_route_3</td>\n",
       "      <td>None</td>\n",
       "      <td>{'route_short_name': 'N55', 'mode': 'bus', 'tr...</td>\n",
       "      <td>[(add, , [('route_short_name', 'N55'), ('mode'...</td>\n",
       "    </tr>\n",
       "  </tbody>\n",
       "</table>\n",
       "</div>"
      ],
      "text/plain": [
       "             timestamp change_event object_type old_id               new_id  \\\n",
       "0  2021-04-13 17:25:31          add     service   None          new_service   \n",
       "1  2021-04-13 17:25:31          add       route   None              20274_4   \n",
       "2  2021-04-13 17:25:33          add       route   None    another_new_route   \n",
       "3  2021-04-13 17:25:33          add       route   None  another_new_route_2   \n",
       "4  2021-04-13 17:25:34          add       route   None  another_new_route_3   \n",
       "\n",
       "  old_attributes                                     new_attributes  \\\n",
       "0           None               {'id': 'new_service', 'name': 'N55'}   \n",
       "1           None  {'route_short_name': 'N55', 'mode': 'bus', 'tr...   \n",
       "2           None  {'route_short_name': 'N55', 'mode': 'bus', 'tr...   \n",
       "3           None  {'route_short_name': 'N55', 'mode': 'bus', 'tr...   \n",
       "4           None  {'route_short_name': 'N55', 'mode': 'bus', 'tr...   \n",
       "\n",
       "                                                diff  \n",
       "0  [(add, , [('id', 'new_service'), ('name', 'N55...  \n",
       "1  [(add, , [('route_short_name', 'N55'), ('mode'...  \n",
       "2  [(add, , [('route_short_name', 'N55'), ('mode'...  \n",
       "3  [(add, , [('route_short_name', 'N55'), ('mode'...  \n",
       "4  [(add, , [('route_short_name', 'N55'), ('mode'...  "
      ]
     },
     "execution_count": 18,
     "metadata": {},
     "output_type": "execute_result"
    }
   ],
   "source": [
    "n.schedule.change_log().tail()"
   ]
  },
  {
   "cell_type": "markdown",
   "metadata": {},
   "source": [
    "There are no methods to add `Stop` objects on their own. They are added to the Schedule with `Route` and `Service` objects."
   ]
  },
  {
   "cell_type": "markdown",
   "metadata": {},
   "source": [
    "### Routing added Services/Routes\n",
    "\n",
    "You can use a method in GeNet to relate the Stops of PT services and find network routes between them. First you need to know the ID of the Service you want to snap (you can also snap the entire schedule, but depending on the size and complexity of your network and schedule it might take a long time). GeNet will then relate all stops in that service to a link in the Network graph and route all of the `Route`s of the `Service` object. It will do this for directed subsets (subgraphs) of the Service (e.g. if you have a Northbound and Southboud service, the stops may have to find different links in the graph)\n",
    "\n",
    "There are a lot of different parameters you can add to this method, that give you a bit more control. \n",
    "- For example you can vary the threshold for snapping stops to links. There are two parameters, the overall threshold and a step size; when snapping, the search area for links increases in steps until some links are found, we don't use the threshold right away because we don't want to have too many choices for snapping (makes it a little less heavy computationally)).\n",
    "- You can specify additional modes (when snapping, genet will consider a modal subset of the network that matches the pt service, e.g. bus, but you might want to use links that allow cars too).\n",
    "- You can opt for splitting the problem of snapping by direction. GeNet will then solve a series of problems for subgraphs (disjoint w.r.t. edges) of the Service. This is useful for rail type services that might share the same stop regardless of direction (in comparison to buses which have distinct bus stops, depending on which way they're travelling).\n",
    "\n",
    "Check the method's doc string for up to date details."
   ]
  },
  {
   "cell_type": "code",
   "execution_count": 19,
   "metadata": {
    "ExecuteTime": {
     "end_time": "2021-04-13T16:25:35.650208Z",
     "start_time": "2021-04-13T16:25:35.638074Z"
    }
   },
   "outputs": [
    {
     "data": {
      "text/plain": [
       "[]"
      ]
     },
     "execution_count": 19,
     "metadata": {},
     "output_type": "execute_result"
    }
   ],
   "source": [
    "n.schedule['new_service'].route('new_route').route"
   ]
  },
  {
   "cell_type": "code",
   "execution_count": 20,
   "metadata": {
    "ExecuteTime": {
     "end_time": "2021-04-13T16:25:35.660670Z",
     "start_time": "2021-04-13T16:25:35.653732Z"
    }
   },
   "outputs": [
    {
     "data": {
      "text/plain": [
       "NodeView(('490010689KB', '490000235X', 'new_stop', 'other_new_stop'))"
      ]
     },
     "execution_count": 20,
     "metadata": {},
     "output_type": "execute_result"
    }
   ],
   "source": [
    "n.schedule['new_service'].route('new_route').graph().nodes()"
   ]
  },
  {
   "cell_type": "code",
   "execution_count": 21,
   "metadata": {
    "ExecuteTime": {
     "end_time": "2021-04-13T16:25:42.565817Z",
     "start_time": "2021-04-13T16:25:35.664383Z"
    }
   },
   "outputs": [
    {
     "name": "stderr",
     "output_type": "stream",
     "text": [
      "/Users/kasia.kozlowska/pycharm_venvs/genet/lib/python3.7/site-packages/pyproj/crs/crs.py:53: FutureWarning: '+init=<authority>:<code>' syntax is deprecated. '<authority>:<code>' is the preferred initialization method. When making the change, be mindful of axis order changes: https://pyproj4.github.io/pyproj/stable/gotchas.html#axis-order-changes-in-proj-6\n",
      "  return _prepare_from_string(\" \".join(pjargs))\n",
      "2021-04-13 17:25:38,332 - Building Maximum Stable Set for PT graph with 4 stops and 3 edges\n",
      "2021-04-13 17:25:41,100 - This Maximum Stable Set Problem is partially viable.\n",
      "2021-04-13 17:25:41,101 - Maximum Stable Set problem to snap the PT graph to the network is partially viable, meaning not all stops have found a link to snap to within the distance_threshold.Partial snapping is ON, this problem will proceed to the solver.\n",
      "2021-04-13 17:25:41,102 - Passing problem to solver\n",
      "2021-04-13 17:25:41,105 - Initializing ordered Set vertices with a fundamentally unordered data source (type: set).  This WILL potentially lead to nondeterministic behavior in Pyomo\n",
      "2021-04-13 17:25:41,114 - Passing problem to solver\n",
      "2021-04-13 17:25:41,913 - Successfully snapped 3 stops to network links.\n",
      "/Users/kasia.kozlowska/PycharmProjects/ABM/genet/genet/max_stable_set.py:410: SettingWithCopyWarning: \n",
      "A value is trying to be set on a copy of a slice from a DataFrame.\n",
      "Try using .loc[row_indexer,col_indexer] = value instead\n",
      "\n",
      "See the caveats in the documentation: https://pandas.pydata.org/pandas-docs/stable/user_guide/indexing.html#returning-a-view-versus-a-copy\n",
      "  lambda x: max_stable_set.routed_path(x))\n",
      "/Users/kasia.kozlowska/PycharmProjects/ABM/genet/genet/max_stable_set.py:413: SettingWithCopyWarning: \n",
      "A value is trying to be set on a copy of a slice from a DataFrame.\n",
      "Try using .loc[row_indexer,col_indexer] = value instead\n",
      "\n",
      "See the caveats in the documentation: https://pandas.pydata.org/pandas-docs/stable/user_guide/indexing.html#returning-a-view-versus-a-copy\n",
      "  lambda x: [map[stop] for stop in x])\n",
      "2021-04-13 17:25:41,940 - Stop ID changes detected for Routes: {'new_route'}\n",
      "2021-04-13 17:25:41,944 - Changed Route attributes for 1 routes\n",
      "2021-04-13 17:25:41,952 - Added 1 nodes\n",
      "2021-04-13 17:25:42,375 - Generated 0 link ids.\n",
      "2021-04-13 17:25:42,457 - Added 2 links\n",
      "2021-04-13 17:25:42,501 - Changed Link attributes for 4 links\n"
     ]
    }
   ],
   "source": [
    "n.route_service('new_service')"
   ]
  },
  {
   "cell_type": "code",
   "execution_count": 22,
   "metadata": {
    "ExecuteTime": {
     "end_time": "2021-04-13T16:25:42.586572Z",
     "start_time": "2021-04-13T16:25:42.569516Z"
    }
   },
   "outputs": [
    {
     "data": {
      "text/plain": [
       "['artificial_link===from:490000235X===to:490000235X',\n",
       " 'artificial_link===from:490000235X===to:9521035',\n",
       " '3154',\n",
       " '979',\n",
       " '980',\n",
       " '981']"
      ]
     },
     "execution_count": 22,
     "metadata": {},
     "output_type": "execute_result"
    }
   ],
   "source": [
    "n.schedule['new_service'].route('new_route').route"
   ]
  },
  {
   "cell_type": "code",
   "execution_count": 23,
   "metadata": {
    "ExecuteTime": {
     "end_time": "2021-04-13T16:25:42.601735Z",
     "start_time": "2021-04-13T16:25:42.595094Z"
    }
   },
   "outputs": [
    {
     "data": {
      "text/plain": [
       "NodeView(('490010689KB.link:981', 'new_stop.link:3154', '490000235X.link:artificial_link===from:490000235X===to:490000235X', 'other_new_stop.link:3154'))"
      ]
     },
     "execution_count": 23,
     "metadata": {},
     "output_type": "execute_result"
    }
   ],
   "source": [
    "n.schedule['new_service'].route('new_route').graph().nodes()"
   ]
  },
  {
   "cell_type": "markdown",
   "metadata": {},
   "source": [
    "## Reindexing"
   ]
  },
  {
   "cell_type": "code",
   "execution_count": 24,
   "metadata": {
    "ExecuteTime": {
     "end_time": "2021-04-13T16:25:42.620688Z",
     "start_time": "2021-04-13T16:25:42.609369Z"
    }
   },
   "outputs": [
    {
     "name": "stderr",
     "output_type": "stream",
     "text": [
      "2021-04-13 17:25:42,617 - Reindexed Service from new_service to more_appropriate_id\n"
     ]
    }
   ],
   "source": [
    "n.schedule['new_service'].reindex(new_id='more_appropriate_id')"
   ]
  },
  {
   "cell_type": "code",
   "execution_count": 25,
   "metadata": {
    "ExecuteTime": {
     "end_time": "2021-04-13T16:25:42.636310Z",
     "start_time": "2021-04-13T16:25:42.623590Z"
    }
   },
   "outputs": [
    {
     "name": "stderr",
     "output_type": "stream",
     "text": [
      "2021-04-13 17:25:42,633 - Reindexed Route from new_route to more_appropriate_route_id\n"
     ]
    }
   ],
   "source": [
    "n.schedule.route('new_route').reindex(new_id='more_appropriate_route_id')"
   ]
  },
  {
   "cell_type": "code",
   "execution_count": 26,
   "metadata": {
    "ExecuteTime": {
     "end_time": "2021-04-13T16:25:42.687573Z",
     "start_time": "2021-04-13T16:25:42.641172Z"
    }
   },
   "outputs": [
    {
     "data": {
      "text/html": [
       "<div>\n",
       "<style scoped>\n",
       "    .dataframe tbody tr th:only-of-type {\n",
       "        vertical-align: middle;\n",
       "    }\n",
       "\n",
       "    .dataframe tbody tr th {\n",
       "        vertical-align: top;\n",
       "    }\n",
       "\n",
       "    .dataframe thead th {\n",
       "        text-align: right;\n",
       "    }\n",
       "</style>\n",
       "<table border=\"1\" class=\"dataframe\">\n",
       "  <thead>\n",
       "    <tr style=\"text-align: right;\">\n",
       "      <th></th>\n",
       "      <th>timestamp</th>\n",
       "      <th>change_event</th>\n",
       "      <th>object_type</th>\n",
       "      <th>old_id</th>\n",
       "      <th>new_id</th>\n",
       "      <th>old_attributes</th>\n",
       "      <th>new_attributes</th>\n",
       "      <th>diff</th>\n",
       "    </tr>\n",
       "  </thead>\n",
       "  <tbody>\n",
       "    <tr>\n",
       "      <th>3</th>\n",
       "      <td>2021-04-13 17:25:33</td>\n",
       "      <td>add</td>\n",
       "      <td>route</td>\n",
       "      <td>None</td>\n",
       "      <td>another_new_route_2</td>\n",
       "      <td>None</td>\n",
       "      <td>{'route_short_name': 'N55', 'mode': 'bus', 'tr...</td>\n",
       "      <td>[(add, , [('route_short_name', 'N55'), ('mode'...</td>\n",
       "    </tr>\n",
       "    <tr>\n",
       "      <th>4</th>\n",
       "      <td>2021-04-13 17:25:34</td>\n",
       "      <td>add</td>\n",
       "      <td>route</td>\n",
       "      <td>None</td>\n",
       "      <td>another_new_route_3</td>\n",
       "      <td>None</td>\n",
       "      <td>{'route_short_name': 'N55', 'mode': 'bus', 'tr...</td>\n",
       "      <td>[(add, , [('route_short_name', 'N55'), ('mode'...</td>\n",
       "    </tr>\n",
       "    <tr>\n",
       "      <th>5</th>\n",
       "      <td>2021-04-13 17:25:41</td>\n",
       "      <td>modify</td>\n",
       "      <td>route</td>\n",
       "      <td>new_route</td>\n",
       "      <td>new_route</td>\n",
       "      <td>{'route_short_name': 'N55', 'mode': 'bus', 'tr...</td>\n",
       "      <td>{'route_short_name': 'N55', 'mode': 'bus', 'tr...</td>\n",
       "      <td>[(add, route, [(0, 'artificial_link===from:490...</td>\n",
       "    </tr>\n",
       "    <tr>\n",
       "      <th>6</th>\n",
       "      <td>2021-04-13 17:25:42</td>\n",
       "      <td>modify</td>\n",
       "      <td>service</td>\n",
       "      <td>new_service</td>\n",
       "      <td>more_appropriate_id</td>\n",
       "      <td>{'id': 'new_service'}</td>\n",
       "      <td>{'id': 'more_appropriate_id'}</td>\n",
       "      <td>[(change, id, (new_service, more_appropriate_i...</td>\n",
       "    </tr>\n",
       "    <tr>\n",
       "      <th>7</th>\n",
       "      <td>2021-04-13 17:25:42</td>\n",
       "      <td>modify</td>\n",
       "      <td>route</td>\n",
       "      <td>new_route</td>\n",
       "      <td>more_appropriate_route_id</td>\n",
       "      <td>{'id': 'new_route'}</td>\n",
       "      <td>{'id': 'more_appropriate_route_id'}</td>\n",
       "      <td>[(change, id, (new_route, more_appropriate_rou...</td>\n",
       "    </tr>\n",
       "  </tbody>\n",
       "</table>\n",
       "</div>"
      ],
      "text/plain": [
       "             timestamp change_event object_type       old_id  \\\n",
       "3  2021-04-13 17:25:33          add       route         None   \n",
       "4  2021-04-13 17:25:34          add       route         None   \n",
       "5  2021-04-13 17:25:41       modify       route    new_route   \n",
       "6  2021-04-13 17:25:42       modify     service  new_service   \n",
       "7  2021-04-13 17:25:42       modify       route    new_route   \n",
       "\n",
       "                      new_id  \\\n",
       "3        another_new_route_2   \n",
       "4        another_new_route_3   \n",
       "5                  new_route   \n",
       "6        more_appropriate_id   \n",
       "7  more_appropriate_route_id   \n",
       "\n",
       "                                      old_attributes  \\\n",
       "3                                               None   \n",
       "4                                               None   \n",
       "5  {'route_short_name': 'N55', 'mode': 'bus', 'tr...   \n",
       "6                              {'id': 'new_service'}   \n",
       "7                                {'id': 'new_route'}   \n",
       "\n",
       "                                      new_attributes  \\\n",
       "3  {'route_short_name': 'N55', 'mode': 'bus', 'tr...   \n",
       "4  {'route_short_name': 'N55', 'mode': 'bus', 'tr...   \n",
       "5  {'route_short_name': 'N55', 'mode': 'bus', 'tr...   \n",
       "6                      {'id': 'more_appropriate_id'}   \n",
       "7                {'id': 'more_appropriate_route_id'}   \n",
       "\n",
       "                                                diff  \n",
       "3  [(add, , [('route_short_name', 'N55'), ('mode'...  \n",
       "4  [(add, , [('route_short_name', 'N55'), ('mode'...  \n",
       "5  [(add, route, [(0, 'artificial_link===from:490...  \n",
       "6  [(change, id, (new_service, more_appropriate_i...  \n",
       "7  [(change, id, (new_route, more_appropriate_rou...  "
      ]
     },
     "execution_count": 26,
     "metadata": {},
     "output_type": "execute_result"
    }
   ],
   "source": [
    "n.schedule.change_log().tail()"
   ]
  },
  {
   "cell_type": "markdown",
   "metadata": {},
   "source": [
    "## Removing Stops, Routes, Services"
   ]
  },
  {
   "cell_type": "code",
   "execution_count": 27,
   "metadata": {
    "ExecuteTime": {
     "end_time": "2021-04-13T16:25:42.704238Z",
     "start_time": "2021-04-13T16:25:42.689432Z"
    }
   },
   "outputs": [
    {
     "name": "stderr",
     "output_type": "stream",
     "text": [
      "2021-04-13 17:25:42,698 - Removed Service with index `more_appropriate_id`, data={'id': 'more_appropriate_id', 'name': 'N55'} and Routes: {'more_appropriate_route_id'}\n"
     ]
    }
   ],
   "source": [
    "n.schedule.remove_service('more_appropriate_id')"
   ]
  },
  {
   "cell_type": "code",
   "execution_count": 28,
   "metadata": {
    "ExecuteTime": {
     "end_time": "2021-04-13T16:25:42.832122Z",
     "start_time": "2021-04-13T16:25:42.706945Z"
    }
   },
   "outputs": [
    {
     "name": "stderr",
     "output_type": "stream",
     "text": [
      "2021-04-13 17:25:42,771 - Removed Route with index `another_new_route`, data={'route_short_name': 'N55', 'mode': 'bus', 'trips': {'trip_id': ['some_trip_1'], 'trip_departure_time': ['16:23:00'], 'vehicle_id': ['some_bus_2']}, 'arrival_offsets': ['00:00:00', '00:06:00'], 'departure_offsets': ['00:00:00', '00:06:00'], 'route_long_name': '', 'id': 'another_new_route', 'route': [], 'await_departure': [True, True], 'ordered_stops': ['490000235X.link:834', '490010689KB.link:981']}. It was linked to Service `20274`.\n",
      "2021-04-13 17:25:42,804 - Removed Route with index `another_new_route_3`, data={'route_short_name': 'N55', 'mode': 'bus', 'trips': {'trip_id': ['fun_trip_1', 'fun_trip_2'], 'trip_departure_time': ['03:53:00', '16:23:00'], 'vehicle_id': ['fun_bus_1', 'fun_bus_2']}, 'arrival_offsets': ['00:00:00', '00:02:00', '00:04:00', '00:06:00'], 'departure_offsets': ['00:00:00', '00:02:00', '00:04:00', '00:06:00'], 'route_long_name': '', 'id': 'another_new_route_3', 'route': [], 'await_departure': [True, True, True, True], 'ordered_stops': ['490000235X.link:834', 'new_stop', 'other_new_stop', '490010689KB.link:981']}. It was linked to Service `20274`.\n",
      "2021-04-13 17:25:42,828 - Removed Route with index `another_new_route_2`, data={'route_short_name': 'N55', 'mode': 'bus', 'trips': {'trip_id': ['some_trip_1'], 'trip_departure_time': ['16:23:00'], 'vehicle_id': ['some_bus_2']}, 'arrival_offsets': ['00:00:00', '00:06:00'], 'departure_offsets': ['00:00:00', '00:06:00'], 'route_long_name': '', 'id': 'another_new_route_2', 'route': [], 'await_departure': [True, True], 'ordered_stops': ['490000235X.link:834', '490010689KB.link:981']}. It was linked to Service `20274`.\n"
     ]
    }
   ],
   "source": [
    "for route_id in {'another_new_route', 'another_new_route_2', 'another_new_route_3'}:\n",
    "    n.schedule.remove_route(route_id)"
   ]
  },
  {
   "cell_type": "code",
   "execution_count": 29,
   "metadata": {
    "ExecuteTime": {
     "end_time": "2021-04-13T16:25:42.867934Z",
     "start_time": "2021-04-13T16:25:42.835042Z"
    }
   },
   "outputs": [
    {
     "data": {
      "text/html": [
       "<div>\n",
       "<style scoped>\n",
       "    .dataframe tbody tr th:only-of-type {\n",
       "        vertical-align: middle;\n",
       "    }\n",
       "\n",
       "    .dataframe tbody tr th {\n",
       "        vertical-align: top;\n",
       "    }\n",
       "\n",
       "    .dataframe thead th {\n",
       "        text-align: right;\n",
       "    }\n",
       "</style>\n",
       "<table border=\"1\" class=\"dataframe\">\n",
       "  <thead>\n",
       "    <tr style=\"text-align: right;\">\n",
       "      <th></th>\n",
       "      <th>timestamp</th>\n",
       "      <th>change_event</th>\n",
       "      <th>object_type</th>\n",
       "      <th>old_id</th>\n",
       "      <th>new_id</th>\n",
       "      <th>old_attributes</th>\n",
       "      <th>new_attributes</th>\n",
       "      <th>diff</th>\n",
       "    </tr>\n",
       "  </thead>\n",
       "  <tbody>\n",
       "    <tr>\n",
       "      <th>7</th>\n",
       "      <td>2021-04-13 17:25:42</td>\n",
       "      <td>modify</td>\n",
       "      <td>route</td>\n",
       "      <td>new_route</td>\n",
       "      <td>more_appropriate_route_id</td>\n",
       "      <td>{'id': 'new_route'}</td>\n",
       "      <td>{'id': 'more_appropriate_route_id'}</td>\n",
       "      <td>[(change, id, (new_route, more_appropriate_rou...</td>\n",
       "    </tr>\n",
       "    <tr>\n",
       "      <th>8</th>\n",
       "      <td>2021-04-13 17:25:42</td>\n",
       "      <td>remove</td>\n",
       "      <td>service</td>\n",
       "      <td>more_appropriate_id</td>\n",
       "      <td>None</td>\n",
       "      <td>{'id': 'more_appropriate_id', 'name': 'N55'}</td>\n",
       "      <td>None</td>\n",
       "      <td>[(remove, , [('id', 'more_appropriate_id'), ('...</td>\n",
       "    </tr>\n",
       "    <tr>\n",
       "      <th>9</th>\n",
       "      <td>2021-04-13 17:25:42</td>\n",
       "      <td>remove</td>\n",
       "      <td>route</td>\n",
       "      <td>another_new_route</td>\n",
       "      <td>None</td>\n",
       "      <td>{'route_short_name': 'N55', 'mode': 'bus', 'tr...</td>\n",
       "      <td>None</td>\n",
       "      <td>[(remove, , [('route_short_name', 'N55'), ('mo...</td>\n",
       "    </tr>\n",
       "    <tr>\n",
       "      <th>10</th>\n",
       "      <td>2021-04-13 17:25:42</td>\n",
       "      <td>remove</td>\n",
       "      <td>route</td>\n",
       "      <td>another_new_route_3</td>\n",
       "      <td>None</td>\n",
       "      <td>{'route_short_name': 'N55', 'mode': 'bus', 'tr...</td>\n",
       "      <td>None</td>\n",
       "      <td>[(remove, , [('route_short_name', 'N55'), ('mo...</td>\n",
       "    </tr>\n",
       "    <tr>\n",
       "      <th>11</th>\n",
       "      <td>2021-04-13 17:25:42</td>\n",
       "      <td>remove</td>\n",
       "      <td>route</td>\n",
       "      <td>another_new_route_2</td>\n",
       "      <td>None</td>\n",
       "      <td>{'route_short_name': 'N55', 'mode': 'bus', 'tr...</td>\n",
       "      <td>None</td>\n",
       "      <td>[(remove, , [('route_short_name', 'N55'), ('mo...</td>\n",
       "    </tr>\n",
       "  </tbody>\n",
       "</table>\n",
       "</div>"
      ],
      "text/plain": [
       "              timestamp change_event object_type               old_id  \\\n",
       "7   2021-04-13 17:25:42       modify       route            new_route   \n",
       "8   2021-04-13 17:25:42       remove     service  more_appropriate_id   \n",
       "9   2021-04-13 17:25:42       remove       route    another_new_route   \n",
       "10  2021-04-13 17:25:42       remove       route  another_new_route_3   \n",
       "11  2021-04-13 17:25:42       remove       route  another_new_route_2   \n",
       "\n",
       "                       new_id  \\\n",
       "7   more_appropriate_route_id   \n",
       "8                        None   \n",
       "9                        None   \n",
       "10                       None   \n",
       "11                       None   \n",
       "\n",
       "                                       old_attributes  \\\n",
       "7                                 {'id': 'new_route'}   \n",
       "8        {'id': 'more_appropriate_id', 'name': 'N55'}   \n",
       "9   {'route_short_name': 'N55', 'mode': 'bus', 'tr...   \n",
       "10  {'route_short_name': 'N55', 'mode': 'bus', 'tr...   \n",
       "11  {'route_short_name': 'N55', 'mode': 'bus', 'tr...   \n",
       "\n",
       "                         new_attributes  \\\n",
       "7   {'id': 'more_appropriate_route_id'}   \n",
       "8                                  None   \n",
       "9                                  None   \n",
       "10                                 None   \n",
       "11                                 None   \n",
       "\n",
       "                                                 diff  \n",
       "7   [(change, id, (new_route, more_appropriate_rou...  \n",
       "8   [(remove, , [('id', 'more_appropriate_id'), ('...  \n",
       "9   [(remove, , [('route_short_name', 'N55'), ('mo...  \n",
       "10  [(remove, , [('route_short_name', 'N55'), ('mo...  \n",
       "11  [(remove, , [('route_short_name', 'N55'), ('mo...  "
      ]
     },
     "execution_count": 29,
     "metadata": {},
     "output_type": "execute_result"
    }
   ],
   "source": [
    "n.schedule.change_log().tail()"
   ]
  },
  {
   "cell_type": "markdown",
   "metadata": {},
   "source": [
    "You can also remove `Stop`s. This will disconnect `Route`s and `Service`s using that `Stop`s and likely render them invalid. The method will warn you which `Route`s and `Servce`s are affected."
   ]
  },
  {
   "cell_type": "code",
   "execution_count": 30,
   "metadata": {
    "ExecuteTime": {
     "end_time": "2021-04-13T16:25:42.883632Z",
     "start_time": "2021-04-13T16:25:42.870197Z"
    }
   },
   "outputs": [
    {
     "name": "stderr",
     "output_type": "stream",
     "text": [
      "2021-04-13 17:25:42,879 - Removed Stop with index `new_stop`, data={'id': 'new_stop', 'x': 529500.0, 'y': 181300.0, 'epsg': 'epsg:27700', 'name': 'New Stop', 'lon': -0.1350768098744082, 'lat': 51.51578819710296, 's2_id': 5221390696585158415, 'additional_attributes': set()}. Routes affected: {'20274_4'}. Services affected: {'20274'}.\n"
     ]
    }
   ],
   "source": [
    "n.schedule.remove_stop('new_stop')"
   ]
  },
  {
   "cell_type": "markdown",
   "metadata": {},
   "source": [
    "You can also remove `Stop`s. This will disconnect `Route`s and `Service`s using that `Stop`s and likely render them invalid. The method will warn you which `Route`s and `Servce`s are affected."
   ]
  },
  {
   "cell_type": "code",
   "execution_count": 31,
   "metadata": {
    "ExecuteTime": {
     "end_time": "2021-04-13T16:25:43.553463Z",
     "start_time": "2021-04-13T16:25:42.886150Z"
    }
   },
   "outputs": [
    {
     "name": "stderr",
     "output_type": "stream",
     "text": [
      "2021-04-13 17:25:42,946 - Removed Stop with index `490000173RF`, data={'id': '490000173RF', 'x': 529005.768975204, 'y': 181304.1022004814, 'name': 'Oxford Circus Stn Margaret St (Stop RF)', 'isBlocking': 'false', 'epsg': 'epsg:27700'}. Routes affected: set(). Services affected: set().\n",
      "2021-04-13 17:25:42,964 - Removed Stop with index `490000091F`, data={'id': '490000091F', 'x': 528839.7441194298, 'y': 182137.34852809936, 'name': 'Great Portland Street (Stop F)', 'isBlocking': 'false', 'epsg': 'epsg:27700'}. Routes affected: set(). Services affected: set().\n",
      "2021-04-13 17:25:42,991 - Removed Stop with index `9400ZZLUWRR3`, data={'id': '9400ZZLUWRR3', 'x': 529227.7798224052, 'y': 182216.41780797765, 'name': 'Warren Street Underground Station', 'stopAreaId': '940GZZLUWRR', 'isBlocking': 'false', 'epsg': 'epsg:27700'}. Routes affected: set(). Services affected: set().\n",
      "2021-04-13 17:25:43,004 - Removed Stop with index `9400ZZLUOXC6`, data={'id': '9400ZZLUOXC6', 'x': 529013.7410255029, 'y': 181288.1696510841, 'name': 'Oxford Circus Underground Station', 'stopAreaId': '940GZZLUOXC', 'isBlocking': 'false', 'epsg': 'epsg:27700'}. Routes affected: set(). Services affected: set().\n",
      "2021-04-13 17:25:43,012 - Removed Stop with index `490013600C`, data={'id': '490013600C', 'x': 528826.7311023801, 'y': 182237.16642831545, 'name': 'Albany Street (Stop C)', 'isBlocking': 'false', 'epsg': 'epsg:27700'}. Routes affected: set(). Services affected: set().\n",
      "2021-04-13 17:25:43,057 - Removed Stop with index `9400ZZLUOXC2`, data={'id': '9400ZZLUOXC2', 'x': 529002.7357932694, 'y': 181284.1068964149, 'name': 'Oxford Circus Underground Station', 'stopAreaId': '940GZZLUOXC', 'isBlocking': 'false', 'epsg': 'epsg:27700'}. Routes affected: set(). Services affected: set().\n",
      "2021-04-13 17:25:43,067 - Removed Stop with index `9400ZZLUESQ1`, data={'id': '9400ZZLUESQ1', 'x': 529457.8023702999, 'y': 182394.19578770327, 'name': 'Euston Square Underground Station', 'stopAreaId': '940GZZLUESQ', 'isBlocking': 'false', 'epsg': 'epsg:27700'}. Routes affected: set(). Services affected: set().\n",
      "2021-04-13 17:25:43,080 - Removed Stop with index `9400ZZLUWRR2`, data={'id': '9400ZZLUWRR2', 'x': 529291.753302556, 'y': 182239.29925111524, 'name': 'Warren Street Underground Station', 'stopAreaId': '940GZZLUWRR', 'isBlocking': 'false', 'epsg': 'epsg:27700'}. Routes affected: set(). Services affected: set().\n",
      "2021-04-13 17:25:43,090 - Removed Stop with index `490000173RD`, data={'id': '490000173RD', 'x': 528966.7250584327, 'y': 181417.2797308719, 'name': 'Margaret Street Oxford Circus (Stop RD)', 'isBlocking': 'false', 'epsg': 'epsg:27700'}. Routes affected: set(). Services affected: set().\n",
      "2021-04-13 17:25:43,104 - Removed Stop with index `9400ZZLURGP1`, data={'id': '9400ZZLURGP1', 'x': 528702.7858144796, 'y': 182099.04783399682, 'name': \"Regent's Park Underground Station\", 'stopAreaId': '940GZZLURGP', 'isBlocking': 'false', 'epsg': 'epsg:27700'}. Routes affected: set(). Services affected: set().\n",
      "2021-04-13 17:25:43,119 - Removed Stop with index `9400ZZLUOXC1`, data={'id': '9400ZZLUOXC1', 'x': 529066.7447596977, 'y': 181243.22498975584, 'name': 'Oxford Circus Underground Station', 'stopAreaId': '940GZZLUOXC', 'isBlocking': 'false', 'epsg': 'epsg:27700'}. Routes affected: set(). Services affected: set().\n",
      "2021-04-13 17:25:43,134 - Removed Stop with index `490000252R`, data={'id': '490000252R', 'x': 529239.7661155101, 'y': 182400.10532104305, 'name': 'Warren Street Stn  Euston Rd (Stop R)', 'isBlocking': 'false', 'epsg': 'epsg:27700'}. Routes affected: set(). Services affected: set().\n",
      "2021-04-13 17:25:43,142 - Removed Stop with index `490000235N`, data={'id': '490000235N', 'x': 529940.7342809836, 'y': 181337.27121022658, 'name': 'Tottenham Court Road Station (Stop T)', 'isBlocking': 'false', 'epsg': 'epsg:27700'}. Routes affected: set(). Services affected: set().\n",
      "2021-04-13 17:25:43,213 - Removed Stop with index `490015196N`, data={'id': '490015196N', 'x': 528843.7492656803, 'y': 181232.00244975724, 'name': 'Holles Street', 'isBlocking': 'false', 'epsg': 'epsg:27700'}. Routes affected: set(). Services affected: set().\n",
      "2021-04-13 17:25:43,233 - Removed Stop with index `490015196R`, data={'id': '490015196R', 'x': 528793.7718335354, 'y': 181171.3145886244, 'name': 'Oxford Street  John Lewis (Stop OR)', 'isBlocking': 'false', 'epsg': 'epsg:27700'}. Routes affected: set(). Services affected: set().\n",
      "2021-04-13 17:25:43,263 - Removed Stop with index `490010198W`, data={'id': '490010198W', 'x': 528880.7296578337, 'y': 181739.3543585685, 'name': 'New Cavendish Street', 'isBlocking': 'false', 'epsg': 'epsg:27700'}. Routes affected: set(). Services affected: set().\n",
      "2021-04-13 17:25:43,284 - Removed Stop with index `9400ZZLUOXC4`, data={'id': '9400ZZLUOXC4', 'x': 529004.7147708246, 'y': 181277.2580580855, 'name': 'Oxford Circus Underground Station', 'stopAreaId': '940GZZLUOXC', 'isBlocking': 'false', 'epsg': 'epsg:27700'}. Routes affected: set(). Services affected: set().\n",
      "2021-04-13 17:25:43,301 - Removed Stop with index `9400ZZLUOXC3`, data={'id': '9400ZZLUOXC3', 'x': 529015.7510730226, 'y': 181280.097575391, 'name': 'Oxford Circus Underground Station', 'stopAreaId': '940GZZLUOXC', 'isBlocking': 'false', 'epsg': 'epsg:27700'}. Routes affected: set(). Services affected: set().\n",
      "2021-04-13 17:25:43,317 - Removed Stop with index `new_stop.link:3154`, data={'id': 'new_stop.link:3154', 'x': 529500.0, 'y': 181300.0, 'epsg': 'epsg:27700', 'name': 'New Stop', 'lon': -0.1350768098744082, 'lat': 51.51578819710296, 's2_id': 5221390696585158415, 'additional_attributes': set(), 'linkRefId': '3154', 'stop_id': 'new_stop'}. Routes affected: set(). Services affected: set().\n",
      "2021-04-13 17:25:43,335 - Removed Stop with index `490019675D`, data={'id': '490019675D', 'x': 528848.77991065, 'y': 182331.19702162553, 'name': 'Euston Road (Stop D)', 'isBlocking': 'false', 'epsg': 'epsg:27700'}. Routes affected: set(). Services affected: set().\n",
      "2021-04-13 17:25:43,349 - Removed Stop with index `9400ZZLURGP2`, data={'id': '9400ZZLURGP2', 'x': 528704.7613223545, 'y': 182092.31008630985, 'name': \"Regent's Park Underground Station\", 'stopAreaId': '940GZZLURGP', 'isBlocking': 'false', 'epsg': 'epsg:27700'}. Routes affected: set(). Services affected: set().\n",
      "2021-04-13 17:25:43,367 - Removed Stop with index `9400ZZLUTCR1`, data={'id': '9400ZZLUTCR1', 'x': 529744.7467207713, 'y': 181375.10469678615, 'name': 'Tottenham Court Road Underground Station', 'stopAreaId': '940GZZLUTCR', 'isBlocking': 'false', 'epsg': 'epsg:27700'}. Routes affected: set(). Services affected: set().\n",
      "2021-04-13 17:25:43,395 - Removed Stop with index `9400ZZLUTCR3`, data={'id': '9400ZZLUTCR3', 'x': 529825.7592661118, 'y': 181321.09061689116, 'name': 'Tottenham Court Road Underground Station', 'stopAreaId': '940GZZLUTCR', 'isBlocking': 'false', 'epsg': 'epsg:27700'}. Routes affected: set(). Services affected: set().\n",
      "2021-04-13 17:25:43,431 - Removed Stop with index `9400ZZLUGDG1`, data={'id': '9400ZZLUGDG1', 'x': 529528.7432046565, 'y': 181844.18614713819, 'name': 'Goodge Street Underground Station', 'stopAreaId': '940GZZLUGDG', 'isBlocking': 'false', 'epsg': 'epsg:27700'}. Routes affected: set(). Services affected: set().\n",
      "2021-04-13 17:25:43,439 - Removed Stop with index `490011126K`, data={'id': '490011126K', 'x': 528774.7671302322, 'y': 181814.3378378136, 'name': 'Portland Place (Stop K)', 'isBlocking': 'false', 'epsg': 'epsg:27700'}. Routes affected: set(). Services affected: set().\n",
      "2021-04-13 17:25:43,450 - Removed Stop with index `490000235W1`, data={'id': '490000235W1', 'x': 529959.771919372, 'y': 181285.1243656829, 'name': 'Tottenham Court Road Station (Stop S)', 'isBlocking': 'false', 'epsg': 'epsg:27700'}. Routes affected: set(). Services affected: set().\n",
      "2021-04-13 17:25:43,458 - Removed Stop with index `9400ZZLUESQ2`, data={'id': '9400ZZLUESQ2', 'x': 529453.7521920939, 'y': 182392.42343129055, 'name': 'Euston Square Underground Station', 'stopAreaId': '940GZZLUESQ', 'isBlocking': 'false', 'epsg': 'epsg:27700'}. Routes affected: set(). Services affected: set().\n",
      "2021-04-13 17:25:43,466 - Removed Stop with index `9400ZZLUWRR4`, data={'id': '9400ZZLUWRR4', 'x': 529225.7792770677, 'y': 182210.46930065827, 'name': 'Warren Street Underground Station', 'stopAreaId': '940GZZLUWRR', 'isBlocking': 'false', 'epsg': 'epsg:27700'}. Routes affected: set(). Services affected: set().\n"
     ]
    },
    {
     "name": "stderr",
     "output_type": "stream",
     "text": [
      "2021-04-13 17:25:43,474 - Removed Stop with index `9400ZZLUTCR4`, data={'id': '9400ZZLUTCR4', 'x': 529825.787229313, 'y': 181325.43110254267, 'name': 'Tottenham Court Road Underground Station', 'stopAreaId': '940GZZLUTCR', 'isBlocking': 'false', 'epsg': 'epsg:27700'}. Routes affected: set(). Services affected: set().\n",
      "2021-04-13 17:25:43,481 - Removed Stop with index `9400ZZLUGPS2`, data={'id': '9400ZZLUGPS2', 'x': 528862.3135234541, 'y': 182194.44889770175, 'name': 'Great Portland Street Underground Station', 'stopAreaId': '940GZZLUGPS', 'isBlocking': 'false', 'epsg': 'epsg:27700'}. Routes affected: set(). Services affected: set().\n",
      "2021-04-13 17:25:43,489 - Removed Stop with index `490000091E`, data={'id': '490000091E', 'x': 528867.770390693, 'y': 182083.31184164743, 'name': 'Great Portland Street (Stop E)', 'isBlocking': 'false', 'epsg': 'epsg:27700'}. Routes affected: set(). Services affected: set().\n",
      "2021-04-13 17:25:43,496 - Removed Stop with index `490000356NE`, data={'id': '490000356NE', 'x': 529854.787997603, 'y': 181481.06861471198, 'name': 'Tottenham Court Road  Great Russell Street', 'isBlocking': 'false', 'epsg': 'epsg:27700'}. Routes affected: set(). Services affected: set().\n",
      "2021-04-13 17:25:43,513 - Removed Stop with index `9400ZZLUOXC5`, data={'id': '9400ZZLUOXC5', 'x': 529074.7706163004, 'y': 181244.31904206856, 'name': 'Oxford Circus Underground Station', 'stopAreaId': '940GZZLUOXC', 'isBlocking': 'false', 'epsg': 'epsg:27700'}. Routes affected: set(). Services affected: set().\n",
      "2021-04-13 17:25:43,532 - Removed Stop with index `490000252S`, data={'id': '490000252S', 'x': 529222.7900227709, 'y': 182423.4864806903, 'name': 'Drummond Street (Stop S)', 'isBlocking': 'false', 'epsg': 'epsg:27700'}. Routes affected: set(). Services affected: set().\n",
      "2021-04-13 17:25:43,538 - Removed Stop with index `9400ZZLUWRR1`, data={'id': '9400ZZLUWRR1', 'x': 529289.7996926662, 'y': 182245.1471524262, 'name': 'Warren Street Underground Station', 'stopAreaId': '940GZZLUWRR', 'isBlocking': 'false', 'epsg': 'epsg:27700'}. Routes affected: set(). Services affected: set().\n",
      "2021-04-13 17:25:43,541 - Removed Stops with indecies `{'490000173RF', '490000091F', '9400ZZLUWRR3', '9400ZZLUOXC6', '490013600C', '9400ZZLUOXC2', '9400ZZLUESQ1', '9400ZZLUWRR2', '490000173RD', '9400ZZLURGP1', '9400ZZLUOXC1', '490000252R', '490000235N', '490015196N', '490015196R', '490010198W', '9400ZZLUOXC4', '9400ZZLUOXC3', 'new_stop.link:3154', '490019675D', '9400ZZLURGP2', '9400ZZLUTCR1', '9400ZZLUTCR3', '9400ZZLUGDG1', '490011126K', '490000235W1', '9400ZZLUESQ2', '9400ZZLUWRR4', '9400ZZLUTCR4', '9400ZZLUGPS2', '490000091E', '490000356NE', '9400ZZLUOXC5', '490000252S', '9400ZZLUWRR1'}` which were not used by any Routes or part of minimal transfer times.\n"
     ]
    }
   ],
   "source": [
    "n.schedule.remove_unsused_stops()"
   ]
  },
  {
   "cell_type": "markdown",
   "metadata": {},
   "source": [
    "## Modifying data stored for Stops, Routes, Services\n",
    "\n",
    "### Applying known or pre-computed changes\n",
    "Applying changes or new attributes to Services, Routes and Stops can be done via Schedule level methods. They all work with a dictionary where the keys are the object IDs and the values are dictionaries holding attribute names and values. The method to extract a DataFrame on attributes comes in handy here. E.g."
   ]
  },
  {
   "cell_type": "code",
   "execution_count": 32,
   "metadata": {
    "ExecuteTime": {
     "end_time": "2021-04-13T16:25:43.591836Z",
     "start_time": "2021-04-13T16:25:43.560755Z"
    }
   },
   "outputs": [
    {
     "data": {
      "text/html": [
       "<div>\n",
       "<style scoped>\n",
       "    .dataframe tbody tr th:only-of-type {\n",
       "        vertical-align: middle;\n",
       "    }\n",
       "\n",
       "    .dataframe tbody tr th {\n",
       "        vertical-align: top;\n",
       "    }\n",
       "\n",
       "    .dataframe thead th {\n",
       "        text-align: right;\n",
       "    }\n",
       "</style>\n",
       "<table border=\"1\" class=\"dataframe\">\n",
       "  <thead>\n",
       "    <tr style=\"text-align: right;\">\n",
       "      <th></th>\n",
       "      <th>name</th>\n",
       "    </tr>\n",
       "  </thead>\n",
       "  <tbody>\n",
       "    <tr>\n",
       "      <th>17732</th>\n",
       "      <td>N20</td>\n",
       "    </tr>\n",
       "    <tr>\n",
       "      <th>12430</th>\n",
       "      <td>205</td>\n",
       "    </tr>\n",
       "    <tr>\n",
       "      <th>15234</th>\n",
       "      <td>134</td>\n",
       "    </tr>\n",
       "    <tr>\n",
       "      <th>14134</th>\n",
       "      <td>98</td>\n",
       "    </tr>\n",
       "    <tr>\n",
       "      <th>18915</th>\n",
       "      <td>N5</td>\n",
       "    </tr>\n",
       "  </tbody>\n",
       "</table>\n",
       "</div>"
      ],
      "text/plain": [
       "      name\n",
       "17732  N20\n",
       "12430  205\n",
       "15234  134\n",
       "14134   98\n",
       "18915   N5"
      ]
     },
     "execution_count": 32,
     "metadata": {},
     "output_type": "execute_result"
    }
   ],
   "source": [
    "df = n.schedule.service_attribute_data(keys='name')\n",
    "df.head()"
   ]
  },
  {
   "cell_type": "markdown",
   "metadata": {},
   "source": [
    "DataFrames are easy to work with. Youcould for exmaple manipulate the names or use other data to change these. For demonstration here, let's just set the names to something easy."
   ]
  },
  {
   "cell_type": "code",
   "execution_count": 33,
   "metadata": {
    "ExecuteTime": {
     "end_time": "2021-04-13T16:25:43.645051Z",
     "start_time": "2021-04-13T16:25:43.594374Z"
    }
   },
   "outputs": [
    {
     "data": {
      "text/html": [
       "<div>\n",
       "<style scoped>\n",
       "    .dataframe tbody tr th:only-of-type {\n",
       "        vertical-align: middle;\n",
       "    }\n",
       "\n",
       "    .dataframe tbody tr th {\n",
       "        vertical-align: top;\n",
       "    }\n",
       "\n",
       "    .dataframe thead th {\n",
       "        text-align: right;\n",
       "    }\n",
       "</style>\n",
       "<table border=\"1\" class=\"dataframe\">\n",
       "  <thead>\n",
       "    <tr style=\"text-align: right;\">\n",
       "      <th></th>\n",
       "      <th>name</th>\n",
       "    </tr>\n",
       "  </thead>\n",
       "  <tbody>\n",
       "    <tr>\n",
       "      <th>17732</th>\n",
       "      <td>Service_N20</td>\n",
       "    </tr>\n",
       "    <tr>\n",
       "      <th>12430</th>\n",
       "      <td>Service_205</td>\n",
       "    </tr>\n",
       "    <tr>\n",
       "      <th>15234</th>\n",
       "      <td>Service_134</td>\n",
       "    </tr>\n",
       "    <tr>\n",
       "      <th>14134</th>\n",
       "      <td>Service_98</td>\n",
       "    </tr>\n",
       "    <tr>\n",
       "      <th>18915</th>\n",
       "      <td>Service_N5</td>\n",
       "    </tr>\n",
       "  </tbody>\n",
       "</table>\n",
       "</div>"
      ],
      "text/plain": [
       "              name\n",
       "17732  Service_N20\n",
       "12430  Service_205\n",
       "15234  Service_134\n",
       "14134   Service_98\n",
       "18915   Service_N5"
      ]
     },
     "execution_count": 33,
     "metadata": {},
     "output_type": "execute_result"
    }
   ],
   "source": [
    "df['name'] = df['name'].apply(lambda x: f'Service_{x}')\n",
    "df.head()"
   ]
  },
  {
   "cell_type": "markdown",
   "metadata": {},
   "source": [
    "You can then convert this to a dictionary and pass it to the `apply_attributes_to_services` method."
   ]
  },
  {
   "cell_type": "code",
   "execution_count": 34,
   "metadata": {
    "ExecuteTime": {
     "end_time": "2021-04-13T16:25:43.671190Z",
     "start_time": "2021-04-13T16:25:43.647370Z"
    }
   },
   "outputs": [
    {
     "name": "stderr",
     "output_type": "stream",
     "text": [
      "2021-04-13 17:25:43,663 - Changed Service attributes for 9 services\n"
     ]
    }
   ],
   "source": [
    "n.schedule.apply_attributes_to_services(df.T.to_dict())"
   ]
  },
  {
   "cell_type": "code",
   "execution_count": 35,
   "metadata": {
    "ExecuteTime": {
     "end_time": "2021-04-13T16:25:43.712620Z",
     "start_time": "2021-04-13T16:25:43.677501Z"
    }
   },
   "outputs": [
    {
     "data": {
      "text/html": [
       "<div>\n",
       "<style scoped>\n",
       "    .dataframe tbody tr th:only-of-type {\n",
       "        vertical-align: middle;\n",
       "    }\n",
       "\n",
       "    .dataframe tbody tr th {\n",
       "        vertical-align: top;\n",
       "    }\n",
       "\n",
       "    .dataframe thead th {\n",
       "        text-align: right;\n",
       "    }\n",
       "</style>\n",
       "<table border=\"1\" class=\"dataframe\">\n",
       "  <thead>\n",
       "    <tr style=\"text-align: right;\">\n",
       "      <th></th>\n",
       "      <th>timestamp</th>\n",
       "      <th>change_event</th>\n",
       "      <th>object_type</th>\n",
       "      <th>old_id</th>\n",
       "      <th>new_id</th>\n",
       "      <th>old_attributes</th>\n",
       "      <th>new_attributes</th>\n",
       "      <th>diff</th>\n",
       "    </tr>\n",
       "  </thead>\n",
       "  <tbody>\n",
       "    <tr>\n",
       "      <th>52</th>\n",
       "      <td>2021-04-13 17:25:43</td>\n",
       "      <td>modify</td>\n",
       "      <td>service</td>\n",
       "      <td>18915</td>\n",
       "      <td>18915</td>\n",
       "      <td>{'id': '18915', 'name': 'N5'}</td>\n",
       "      <td>{'id': '18915', 'name': 'Service_N5'}</td>\n",
       "      <td>[(change, name, (N5, Service_N5))]</td>\n",
       "    </tr>\n",
       "    <tr>\n",
       "      <th>53</th>\n",
       "      <td>2021-04-13 17:25:43</td>\n",
       "      <td>modify</td>\n",
       "      <td>service</td>\n",
       "      <td>18853</td>\n",
       "      <td>18853</td>\n",
       "      <td>{'id': '18853', 'name': 'N8'}</td>\n",
       "      <td>{'id': '18853', 'name': 'Service_N8'}</td>\n",
       "      <td>[(change, name, (N8, Service_N8))]</td>\n",
       "    </tr>\n",
       "    <tr>\n",
       "      <th>54</th>\n",
       "      <td>2021-04-13 17:25:43</td>\n",
       "      <td>modify</td>\n",
       "      <td>service</td>\n",
       "      <td>14073</td>\n",
       "      <td>14073</td>\n",
       "      <td>{'id': '14073', 'name': '94'}</td>\n",
       "      <td>{'id': '14073', 'name': 'Service_94'}</td>\n",
       "      <td>[(change, name, (94, Service_94))]</td>\n",
       "    </tr>\n",
       "    <tr>\n",
       "      <th>55</th>\n",
       "      <td>2021-04-13 17:25:43</td>\n",
       "      <td>modify</td>\n",
       "      <td>service</td>\n",
       "      <td>15660</td>\n",
       "      <td>15660</td>\n",
       "      <td>{'id': '15660', 'name': '113'}</td>\n",
       "      <td>{'id': '15660', 'name': 'Service_113'}</td>\n",
       "      <td>[(change, name, (113, Service_113))]</td>\n",
       "    </tr>\n",
       "    <tr>\n",
       "      <th>56</th>\n",
       "      <td>2021-04-13 17:25:43</td>\n",
       "      <td>modify</td>\n",
       "      <td>service</td>\n",
       "      <td>20274</td>\n",
       "      <td>20274</td>\n",
       "      <td>{'id': '20274', 'name': 'N55'}</td>\n",
       "      <td>{'id': '20274', 'name': 'Service_N55'}</td>\n",
       "      <td>[(change, name, (N55, Service_N55))]</td>\n",
       "    </tr>\n",
       "  </tbody>\n",
       "</table>\n",
       "</div>"
      ],
      "text/plain": [
       "              timestamp change_event object_type old_id new_id  \\\n",
       "52  2021-04-13 17:25:43       modify     service  18915  18915   \n",
       "53  2021-04-13 17:25:43       modify     service  18853  18853   \n",
       "54  2021-04-13 17:25:43       modify     service  14073  14073   \n",
       "55  2021-04-13 17:25:43       modify     service  15660  15660   \n",
       "56  2021-04-13 17:25:43       modify     service  20274  20274   \n",
       "\n",
       "                    old_attributes                          new_attributes  \\\n",
       "52   {'id': '18915', 'name': 'N5'}   {'id': '18915', 'name': 'Service_N5'}   \n",
       "53   {'id': '18853', 'name': 'N8'}   {'id': '18853', 'name': 'Service_N8'}   \n",
       "54   {'id': '14073', 'name': '94'}   {'id': '14073', 'name': 'Service_94'}   \n",
       "55  {'id': '15660', 'name': '113'}  {'id': '15660', 'name': 'Service_113'}   \n",
       "56  {'id': '20274', 'name': 'N55'}  {'id': '20274', 'name': 'Service_N55'}   \n",
       "\n",
       "                                    diff  \n",
       "52    [(change, name, (N5, Service_N5))]  \n",
       "53    [(change, name, (N8, Service_N8))]  \n",
       "54    [(change, name, (94, Service_94))]  \n",
       "55  [(change, name, (113, Service_113))]  \n",
       "56  [(change, name, (N55, Service_N55))]  "
      ]
     },
     "execution_count": 35,
     "metadata": {},
     "output_type": "execute_result"
    }
   ],
   "source": [
    "n.schedule.change_log().tail()"
   ]
  },
  {
   "cell_type": "markdown",
   "metadata": {},
   "source": [
    "You can do the same for `Routes` and `Stops`. Your dictionaries cannot however hold changes to indices. You will encounter an error and should use `reindex` methods for such operations."
   ]
  },
  {
   "cell_type": "code",
   "execution_count": 36,
   "metadata": {
    "ExecuteTime": {
     "end_time": "2021-04-13T16:25:43.727335Z",
     "start_time": "2021-04-13T16:25:43.714801Z"
    }
   },
   "outputs": [
    {
     "name": "stderr",
     "output_type": "stream",
     "text": [
      "2021-04-13 17:25:43,720 - Changed Route attributes for 1 routes\n"
     ]
    }
   ],
   "source": [
    "n.schedule.apply_attributes_to_routes(\n",
    "    {'VJ375a660d47a2aa570aa20a8568012da8497ffecf': {\n",
    "        'name': 'my_favourite_route', \n",
    "        'mode': 'piggyback'\n",
    "    }}\n",
    ")"
   ]
  },
  {
   "cell_type": "code",
   "execution_count": 37,
   "metadata": {
    "ExecuteTime": {
     "end_time": "2021-04-13T16:25:43.747909Z",
     "start_time": "2021-04-13T16:25:43.730483Z"
    }
   },
   "outputs": [
    {
     "name": "stderr",
     "output_type": "stream",
     "text": [
      "2021-04-13 17:25:43,737 - Changed Stop attributes for 1 stops\n"
     ]
    }
   ],
   "source": [
    "n.schedule.apply_attributes_to_stops(\n",
    "    {'490000235YB.link:574': {'new_attribute': 'hello!'}}\n",
    ")"
   ]
  },
  {
   "cell_type": "code",
   "execution_count": 38,
   "metadata": {
    "ExecuteTime": {
     "end_time": "2021-04-13T16:25:43.834234Z",
     "start_time": "2021-04-13T16:25:43.750950Z"
    }
   },
   "outputs": [
    {
     "data": {
      "text/html": [
       "<div>\n",
       "<style scoped>\n",
       "    .dataframe tbody tr th:only-of-type {\n",
       "        vertical-align: middle;\n",
       "    }\n",
       "\n",
       "    .dataframe tbody tr th {\n",
       "        vertical-align: top;\n",
       "    }\n",
       "\n",
       "    .dataframe thead th {\n",
       "        text-align: right;\n",
       "    }\n",
       "</style>\n",
       "<table border=\"1\" class=\"dataframe\">\n",
       "  <thead>\n",
       "    <tr style=\"text-align: right;\">\n",
       "      <th></th>\n",
       "      <th>timestamp</th>\n",
       "      <th>change_event</th>\n",
       "      <th>object_type</th>\n",
       "      <th>old_id</th>\n",
       "      <th>new_id</th>\n",
       "      <th>old_attributes</th>\n",
       "      <th>new_attributes</th>\n",
       "      <th>diff</th>\n",
       "    </tr>\n",
       "  </thead>\n",
       "  <tbody>\n",
       "    <tr>\n",
       "      <th>54</th>\n",
       "      <td>2021-04-13 17:25:43</td>\n",
       "      <td>modify</td>\n",
       "      <td>service</td>\n",
       "      <td>14073</td>\n",
       "      <td>14073</td>\n",
       "      <td>{'id': '14073', 'name': '94'}</td>\n",
       "      <td>{'id': '14073', 'name': 'Service_94'}</td>\n",
       "      <td>[(change, name, (94, Service_94))]</td>\n",
       "    </tr>\n",
       "    <tr>\n",
       "      <th>55</th>\n",
       "      <td>2021-04-13 17:25:43</td>\n",
       "      <td>modify</td>\n",
       "      <td>service</td>\n",
       "      <td>15660</td>\n",
       "      <td>15660</td>\n",
       "      <td>{'id': '15660', 'name': '113'}</td>\n",
       "      <td>{'id': '15660', 'name': 'Service_113'}</td>\n",
       "      <td>[(change, name, (113, Service_113))]</td>\n",
       "    </tr>\n",
       "    <tr>\n",
       "      <th>56</th>\n",
       "      <td>2021-04-13 17:25:43</td>\n",
       "      <td>modify</td>\n",
       "      <td>service</td>\n",
       "      <td>20274</td>\n",
       "      <td>20274</td>\n",
       "      <td>{'id': '20274', 'name': 'N55'}</td>\n",
       "      <td>{'id': '20274', 'name': 'Service_N55'}</td>\n",
       "      <td>[(change, name, (N55, Service_N55))]</td>\n",
       "    </tr>\n",
       "    <tr>\n",
       "      <th>57</th>\n",
       "      <td>2021-04-13 17:25:43</td>\n",
       "      <td>modify</td>\n",
       "      <td>route</td>\n",
       "      <td>VJ375a660d47a2aa570aa20a8568012da8497ffecf</td>\n",
       "      <td>VJ375a660d47a2aa570aa20a8568012da8497ffecf</td>\n",
       "      <td>{'route_short_name': 'N55', 'mode': 'bus', 'tr...</td>\n",
       "      <td>{'route_short_name': 'N55', 'mode': 'piggyback...</td>\n",
       "      <td>[(change, mode, (bus, piggyback)), (add, , [('...</td>\n",
       "    </tr>\n",
       "    <tr>\n",
       "      <th>58</th>\n",
       "      <td>2021-04-13 17:25:43</td>\n",
       "      <td>modify</td>\n",
       "      <td>stop</td>\n",
       "      <td>490000235YB.link:574</td>\n",
       "      <td>490000235YB.link:574</td>\n",
       "      <td>{'services': {'14134', '18853', '20274'}, 'rou...</td>\n",
       "      <td>{'services': {'14134', '18853', '20274'}, 'rou...</td>\n",
       "      <td>[(add, , [('new_attribute', 'hello!')])]</td>\n",
       "    </tr>\n",
       "  </tbody>\n",
       "</table>\n",
       "</div>"
      ],
      "text/plain": [
       "              timestamp change_event object_type  \\\n",
       "54  2021-04-13 17:25:43       modify     service   \n",
       "55  2021-04-13 17:25:43       modify     service   \n",
       "56  2021-04-13 17:25:43       modify     service   \n",
       "57  2021-04-13 17:25:43       modify       route   \n",
       "58  2021-04-13 17:25:43       modify        stop   \n",
       "\n",
       "                                        old_id  \\\n",
       "54                                       14073   \n",
       "55                                       15660   \n",
       "56                                       20274   \n",
       "57  VJ375a660d47a2aa570aa20a8568012da8497ffecf   \n",
       "58                        490000235YB.link:574   \n",
       "\n",
       "                                        new_id  \\\n",
       "54                                       14073   \n",
       "55                                       15660   \n",
       "56                                       20274   \n",
       "57  VJ375a660d47a2aa570aa20a8568012da8497ffecf   \n",
       "58                        490000235YB.link:574   \n",
       "\n",
       "                                       old_attributes  \\\n",
       "54                      {'id': '14073', 'name': '94'}   \n",
       "55                     {'id': '15660', 'name': '113'}   \n",
       "56                     {'id': '20274', 'name': 'N55'}   \n",
       "57  {'route_short_name': 'N55', 'mode': 'bus', 'tr...   \n",
       "58  {'services': {'14134', '18853', '20274'}, 'rou...   \n",
       "\n",
       "                                       new_attributes  \\\n",
       "54              {'id': '14073', 'name': 'Service_94'}   \n",
       "55             {'id': '15660', 'name': 'Service_113'}   \n",
       "56             {'id': '20274', 'name': 'Service_N55'}   \n",
       "57  {'route_short_name': 'N55', 'mode': 'piggyback...   \n",
       "58  {'services': {'14134', '18853', '20274'}, 'rou...   \n",
       "\n",
       "                                                 diff  \n",
       "54                 [(change, name, (94, Service_94))]  \n",
       "55               [(change, name, (113, Service_113))]  \n",
       "56               [(change, name, (N55, Service_N55))]  \n",
       "57  [(change, mode, (bus, piggyback)), (add, , [('...  \n",
       "58           [(add, , [('new_attribute', 'hello!')])]  "
      ]
     },
     "execution_count": 38,
     "metadata": {},
     "output_type": "execute_result"
    }
   ],
   "source": [
    "n.schedule.change_log().tail()"
   ]
  },
  {
   "cell_type": "markdown",
   "metadata": {},
   "source": [
    "You can use `route_trips_to_dataframe` to extract all of the trips, their departures and vehicle IDs associated with the trips in the schedule. Trip ids need not be unique, route IDs provide a secondary index. Associated service IDs are also given for convenience."
   ]
  },
  {
   "cell_type": "code",
   "execution_count": 39,
   "metadata": {
    "ExecuteTime": {
     "end_time": "2021-04-13T16:25:43.998617Z",
     "start_time": "2021-04-13T16:25:43.847523Z"
    }
   },
   "outputs": [],
   "source": [
    "trips = n.schedule.route_trips_to_dataframe(gtfs_day='20210101')"
   ]
  },
  {
   "cell_type": "code",
   "execution_count": 40,
   "metadata": {
    "ExecuteTime": {
     "end_time": "2021-04-13T16:25:44.071241Z",
     "start_time": "2021-04-13T16:25:44.003330Z"
    }
   },
   "outputs": [
    {
     "data": {
      "text/html": [
       "<div>\n",
       "<style scoped>\n",
       "    .dataframe tbody tr th:only-of-type {\n",
       "        vertical-align: middle;\n",
       "    }\n",
       "\n",
       "    .dataframe tbody tr th {\n",
       "        vertical-align: top;\n",
       "    }\n",
       "\n",
       "    .dataframe thead th {\n",
       "        text-align: right;\n",
       "    }\n",
       "</style>\n",
       "<table border=\"1\" class=\"dataframe\">\n",
       "  <thead>\n",
       "    <tr style=\"text-align: right;\">\n",
       "      <th></th>\n",
       "      <th>service_id</th>\n",
       "      <th>route_id</th>\n",
       "      <th>trip_id</th>\n",
       "      <th>trip_departure_time</th>\n",
       "      <th>vehicle_id</th>\n",
       "    </tr>\n",
       "  </thead>\n",
       "  <tbody>\n",
       "    <tr>\n",
       "      <th>0</th>\n",
       "      <td>15234</td>\n",
       "      <td>VJd4cbfb092a104ac6a3164a86e9765f68734fdfcf</td>\n",
       "      <td>VJ004714becf735c172cf17a0329190c27b61451ae_19:...</td>\n",
       "      <td>2021-01-01 19:18:00</td>\n",
       "      <td>veh_1778_bus</td>\n",
       "    </tr>\n",
       "    <tr>\n",
       "      <th>1</th>\n",
       "      <td>15234</td>\n",
       "      <td>VJd4cbfb092a104ac6a3164a86e9765f68734fdfcf</td>\n",
       "      <td>VJ11748f78bfd412185d8deaf4ad61cd4f1477d6b1_14:...</td>\n",
       "      <td>2021-01-01 14:56:00</td>\n",
       "      <td>veh_1779_bus</td>\n",
       "    </tr>\n",
       "    <tr>\n",
       "      <th>2</th>\n",
       "      <td>15234</td>\n",
       "      <td>VJd4cbfb092a104ac6a3164a86e9765f68734fdfcf</td>\n",
       "      <td>VJ28bbf4f0d3469f24be40acbdf6e8720679638358_14:...</td>\n",
       "      <td>2021-01-01 14:24:00</td>\n",
       "      <td>veh_1780_bus</td>\n",
       "    </tr>\n",
       "    <tr>\n",
       "      <th>3</th>\n",
       "      <td>15234</td>\n",
       "      <td>VJd4cbfb092a104ac6a3164a86e9765f68734fdfcf</td>\n",
       "      <td>VJ2a974ddfa37ddc24e089d82ab79df699b8c44630_19:...</td>\n",
       "      <td>2021-01-01 19:30:00</td>\n",
       "      <td>veh_1781_bus</td>\n",
       "    </tr>\n",
       "    <tr>\n",
       "      <th>4</th>\n",
       "      <td>15234</td>\n",
       "      <td>VJd4cbfb092a104ac6a3164a86e9765f68734fdfcf</td>\n",
       "      <td>VJ35d0be40bd5b63e1d5a9d08ff4b9081fd8fd87c6_14:...</td>\n",
       "      <td>2021-01-01 14:08:00</td>\n",
       "      <td>veh_1782_bus</td>\n",
       "    </tr>\n",
       "  </tbody>\n",
       "</table>\n",
       "</div>"
      ],
      "text/plain": [
       "  service_id                                    route_id  \\\n",
       "0      15234  VJd4cbfb092a104ac6a3164a86e9765f68734fdfcf   \n",
       "1      15234  VJd4cbfb092a104ac6a3164a86e9765f68734fdfcf   \n",
       "2      15234  VJd4cbfb092a104ac6a3164a86e9765f68734fdfcf   \n",
       "3      15234  VJd4cbfb092a104ac6a3164a86e9765f68734fdfcf   \n",
       "4      15234  VJd4cbfb092a104ac6a3164a86e9765f68734fdfcf   \n",
       "\n",
       "                                             trip_id trip_departure_time  \\\n",
       "0  VJ004714becf735c172cf17a0329190c27b61451ae_19:... 2021-01-01 19:18:00   \n",
       "1  VJ11748f78bfd412185d8deaf4ad61cd4f1477d6b1_14:... 2021-01-01 14:56:00   \n",
       "2  VJ28bbf4f0d3469f24be40acbdf6e8720679638358_14:... 2021-01-01 14:24:00   \n",
       "3  VJ2a974ddfa37ddc24e089d82ab79df699b8c44630_19:... 2021-01-01 19:30:00   \n",
       "4  VJ35d0be40bd5b63e1d5a9d08ff4b9081fd8fd87c6_14:... 2021-01-01 14:08:00   \n",
       "\n",
       "     vehicle_id  \n",
       "0  veh_1778_bus  \n",
       "1  veh_1779_bus  \n",
       "2  veh_1780_bus  \n",
       "3  veh_1781_bus  \n",
       "4  veh_1782_bus  "
      ]
     },
     "execution_count": 40,
     "metadata": {},
     "output_type": "execute_result"
    }
   ],
   "source": [
    "trips.head()"
   ]
  },
  {
   "cell_type": "markdown",
   "metadata": {},
   "source": [
    "Let's change all of the trip ids to something shorter"
   ]
  },
  {
   "cell_type": "code",
   "execution_count": 41,
   "metadata": {
    "ExecuteTime": {
     "end_time": "2021-04-13T16:25:44.094907Z",
     "start_time": "2021-04-13T16:25:44.074665Z"
    }
   },
   "outputs": [
    {
     "data": {
      "text/html": [
       "<div>\n",
       "<style scoped>\n",
       "    .dataframe tbody tr th:only-of-type {\n",
       "        vertical-align: middle;\n",
       "    }\n",
       "\n",
       "    .dataframe tbody tr th {\n",
       "        vertical-align: top;\n",
       "    }\n",
       "\n",
       "    .dataframe thead th {\n",
       "        text-align: right;\n",
       "    }\n",
       "</style>\n",
       "<table border=\"1\" class=\"dataframe\">\n",
       "  <thead>\n",
       "    <tr style=\"text-align: right;\">\n",
       "      <th></th>\n",
       "      <th>service_id</th>\n",
       "      <th>route_id</th>\n",
       "      <th>trip_id</th>\n",
       "      <th>trip_departure_time</th>\n",
       "      <th>vehicle_id</th>\n",
       "    </tr>\n",
       "  </thead>\n",
       "  <tbody>\n",
       "    <tr>\n",
       "      <th>0</th>\n",
       "      <td>15234</td>\n",
       "      <td>VJd4cbfb092a104ac6a3164a86e9765f68734fdfcf</td>\n",
       "      <td>trip_0</td>\n",
       "      <td>2021-01-01 19:18:00</td>\n",
       "      <td>veh_1778_bus</td>\n",
       "    </tr>\n",
       "    <tr>\n",
       "      <th>1</th>\n",
       "      <td>15234</td>\n",
       "      <td>VJd4cbfb092a104ac6a3164a86e9765f68734fdfcf</td>\n",
       "      <td>trip_1</td>\n",
       "      <td>2021-01-01 14:56:00</td>\n",
       "      <td>veh_1779_bus</td>\n",
       "    </tr>\n",
       "    <tr>\n",
       "      <th>2</th>\n",
       "      <td>15234</td>\n",
       "      <td>VJd4cbfb092a104ac6a3164a86e9765f68734fdfcf</td>\n",
       "      <td>trip_2</td>\n",
       "      <td>2021-01-01 14:24:00</td>\n",
       "      <td>veh_1780_bus</td>\n",
       "    </tr>\n",
       "    <tr>\n",
       "      <th>3</th>\n",
       "      <td>15234</td>\n",
       "      <td>VJd4cbfb092a104ac6a3164a86e9765f68734fdfcf</td>\n",
       "      <td>trip_3</td>\n",
       "      <td>2021-01-01 19:30:00</td>\n",
       "      <td>veh_1781_bus</td>\n",
       "    </tr>\n",
       "    <tr>\n",
       "      <th>4</th>\n",
       "      <td>15234</td>\n",
       "      <td>VJd4cbfb092a104ac6a3164a86e9765f68734fdfcf</td>\n",
       "      <td>trip_4</td>\n",
       "      <td>2021-01-01 14:08:00</td>\n",
       "      <td>veh_1782_bus</td>\n",
       "    </tr>\n",
       "  </tbody>\n",
       "</table>\n",
       "</div>"
      ],
      "text/plain": [
       "  service_id                                    route_id trip_id  \\\n",
       "0      15234  VJd4cbfb092a104ac6a3164a86e9765f68734fdfcf  trip_0   \n",
       "1      15234  VJd4cbfb092a104ac6a3164a86e9765f68734fdfcf  trip_1   \n",
       "2      15234  VJd4cbfb092a104ac6a3164a86e9765f68734fdfcf  trip_2   \n",
       "3      15234  VJd4cbfb092a104ac6a3164a86e9765f68734fdfcf  trip_3   \n",
       "4      15234  VJd4cbfb092a104ac6a3164a86e9765f68734fdfcf  trip_4   \n",
       "\n",
       "  trip_departure_time    vehicle_id  \n",
       "0 2021-01-01 19:18:00  veh_1778_bus  \n",
       "1 2021-01-01 14:56:00  veh_1779_bus  \n",
       "2 2021-01-01 14:24:00  veh_1780_bus  \n",
       "3 2021-01-01 19:30:00  veh_1781_bus  \n",
       "4 2021-01-01 14:08:00  veh_1782_bus  "
      ]
     },
     "execution_count": 41,
     "metadata": {},
     "output_type": "execute_result"
    }
   ],
   "source": [
    "trips['trip_id'] = 'trip_' + trips.index.to_series().astype(str)\n",
    "trips.head()"
   ]
  },
  {
   "cell_type": "markdown",
   "metadata": {},
   "source": [
    "You can `set_route_trips_dataframe` which takes this dataframe and applies changes to all route trips based on the data in the dataframe. This means you can generate this DataFrame as shown below, manipulate trips (delete them, add new ones), change their departure times or change their vehicle ids to be shared for differnt trips, perhaps on some temporal logic and as long as the dataframe has the same schema, you can use it to set new trips in the schedule. This will appear in the changelog as a route level modify event.\n",
    "\n",
    "Nb removing all trips of the same route from the dataframe will have no effect when being applied. If there is data in the dataframe for a route, all of its trips will be replaced by the data in the dataframe, and if there is no data for a route in the frame, no changes will be applied to that route (i.e. the trips attribute for routes missing from the dataframe will not be set as empty)."
   ]
  },
  {
   "cell_type": "code",
   "execution_count": 42,
   "metadata": {
    "ExecuteTime": {
     "end_time": "2021-04-13T16:25:44.538412Z",
     "start_time": "2021-04-13T16:25:44.096754Z"
    }
   },
   "outputs": [
    {
     "name": "stderr",
     "output_type": "stream",
     "text": [
      "2021-04-13 17:25:44,464 - Changed Route attributes for 69 routes\n"
     ]
    },
    {
     "data": {
      "text/html": [
       "<div>\n",
       "<style scoped>\n",
       "    .dataframe tbody tr th:only-of-type {\n",
       "        vertical-align: middle;\n",
       "    }\n",
       "\n",
       "    .dataframe tbody tr th {\n",
       "        vertical-align: top;\n",
       "    }\n",
       "\n",
       "    .dataframe thead th {\n",
       "        text-align: right;\n",
       "    }\n",
       "</style>\n",
       "<table border=\"1\" class=\"dataframe\">\n",
       "  <thead>\n",
       "    <tr style=\"text-align: right;\">\n",
       "      <th></th>\n",
       "      <th>trips::trip_id</th>\n",
       "    </tr>\n",
       "  </thead>\n",
       "  <tbody>\n",
       "    <tr>\n",
       "      <th>VJd4cbfb092a104ac6a3164a86e9765f68734fdfcf</th>\n",
       "      <td>[trip_0, trip_1, trip_2, trip_3, trip_4, trip_...</td>\n",
       "    </tr>\n",
       "    <tr>\n",
       "      <th>VJ8f9aea7491080b0137d3092706f53dc11f7dba45</th>\n",
       "      <td>[trip_15, trip_16, trip_17, trip_18, trip_19, ...</td>\n",
       "    </tr>\n",
       "    <tr>\n",
       "      <th>VJ1a8cc306354fdc322d739ae644eb73444341d08d</th>\n",
       "      <td>[trip_21, trip_22, trip_23, trip_24, trip_25, ...</td>\n",
       "    </tr>\n",
       "    <tr>\n",
       "      <th>VJ1cf651142378958b52229bfe1fa552e49136e60e</th>\n",
       "      <td>[trip_37, trip_38, trip_39, trip_40, trip_41, ...</td>\n",
       "    </tr>\n",
       "    <tr>\n",
       "      <th>VJ323d02e117552af1565f2ff1273a612655c829c4</th>\n",
       "      <td>[trip_83]</td>\n",
       "    </tr>\n",
       "    <tr>\n",
       "      <th>...</th>\n",
       "      <td>...</td>\n",
       "    </tr>\n",
       "    <tr>\n",
       "      <th>VJ6cf76a4c03cca468cb6954db7f7aad5ae189df13</th>\n",
       "      <td>[trip_1386, trip_1387]</td>\n",
       "    </tr>\n",
       "    <tr>\n",
       "      <th>VJ9b58a59e3d74941586a5bca7726a8aa624da67fc</th>\n",
       "      <td>[trip_1388, trip_1389, trip_1390, trip_1391, t...</td>\n",
       "    </tr>\n",
       "    <tr>\n",
       "      <th>VJf9a22035ae6f25bb420df833474943ad76065c89</th>\n",
       "      <td>[trip_1547, trip_1548, trip_1549]</td>\n",
       "    </tr>\n",
       "    <tr>\n",
       "      <th>VJ06cd41dcd58d947097df4a8f33234ef423210154</th>\n",
       "      <td>[trip_1550, trip_1551, trip_1552, trip_1553, t...</td>\n",
       "    </tr>\n",
       "    <tr>\n",
       "      <th>VJa7f37392e276aeac26c7e73bbc05e6a71af38dba</th>\n",
       "      <td>[trip_1556, trip_1557, trip_1558, trip_1559, t...</td>\n",
       "    </tr>\n",
       "  </tbody>\n",
       "</table>\n",
       "<p>69 rows × 1 columns</p>\n",
       "</div>"
      ],
      "text/plain": [
       "                                                                               trips::trip_id\n",
       "VJd4cbfb092a104ac6a3164a86e9765f68734fdfcf  [trip_0, trip_1, trip_2, trip_3, trip_4, trip_...\n",
       "VJ8f9aea7491080b0137d3092706f53dc11f7dba45  [trip_15, trip_16, trip_17, trip_18, trip_19, ...\n",
       "VJ1a8cc306354fdc322d739ae644eb73444341d08d  [trip_21, trip_22, trip_23, trip_24, trip_25, ...\n",
       "VJ1cf651142378958b52229bfe1fa552e49136e60e  [trip_37, trip_38, trip_39, trip_40, trip_41, ...\n",
       "VJ323d02e117552af1565f2ff1273a612655c829c4                                          [trip_83]\n",
       "...                                                                                       ...\n",
       "VJ6cf76a4c03cca468cb6954db7f7aad5ae189df13                             [trip_1386, trip_1387]\n",
       "VJ9b58a59e3d74941586a5bca7726a8aa624da67fc  [trip_1388, trip_1389, trip_1390, trip_1391, t...\n",
       "VJf9a22035ae6f25bb420df833474943ad76065c89                  [trip_1547, trip_1548, trip_1549]\n",
       "VJ06cd41dcd58d947097df4a8f33234ef423210154  [trip_1550, trip_1551, trip_1552, trip_1553, t...\n",
       "VJa7f37392e276aeac26c7e73bbc05e6a71af38dba  [trip_1556, trip_1557, trip_1558, trip_1559, t...\n",
       "\n",
       "[69 rows x 1 columns]"
      ]
     },
     "execution_count": 42,
     "metadata": {},
     "output_type": "execute_result"
    }
   ],
   "source": [
    "n.schedule.set_route_trips_dataframe(trips)\n",
    "n.schedule.route_attribute_data(keys=[{'trips': 'trip_id'}])"
   ]
  },
  {
   "cell_type": "markdown",
   "metadata": {},
   "source": [
    "### Applying changes using functions or dictionary mappings\n",
    "\n",
    "If you have some logic that can be written into a function of object's attributes, you can pass this to `apply_function_to_x` methods. You need to select `location`, which refers to the name of the attribute the result should be stored under. It can already exist and be overwritten. The function passed, is not expected to work with all objects. It will fail silently, only evaluating and generating outputs where possible."
   ]
  },
  {
   "cell_type": "code",
   "execution_count": 43,
   "metadata": {
    "ExecuteTime": {
     "end_time": "2021-04-13T16:25:44.596515Z",
     "start_time": "2021-04-13T16:25:44.542722Z"
    }
   },
   "outputs": [
    {
     "name": "stderr",
     "output_type": "stream",
     "text": [
      "2021-04-13 17:25:44,593 - Changed Stop attributes for 87 stops\n"
     ]
    }
   ],
   "source": [
    "from shapely.geometry import Point\n",
    "\n",
    "def add_shapely_geometry_points(stop_attribs):\n",
    "    return Point(stop_attribs['x'], stop_attribs['y'])\n",
    "\n",
    "n.schedule.apply_function_to_stops(add_shapely_geometry_points, location='geometry')"
   ]
  },
  {
   "cell_type": "code",
   "execution_count": 44,
   "metadata": {
    "ExecuteTime": {
     "end_time": "2021-04-13T16:25:44.628858Z",
     "start_time": "2021-04-13T16:25:44.598951Z"
    }
   },
   "outputs": [
    {
     "data": {
      "text/html": [
       "<div>\n",
       "<style scoped>\n",
       "    .dataframe tbody tr th:only-of-type {\n",
       "        vertical-align: middle;\n",
       "    }\n",
       "\n",
       "    .dataframe tbody tr th {\n",
       "        vertical-align: top;\n",
       "    }\n",
       "\n",
       "    .dataframe thead th {\n",
       "        text-align: right;\n",
       "    }\n",
       "</style>\n",
       "<table border=\"1\" class=\"dataframe\">\n",
       "  <thead>\n",
       "    <tr style=\"text-align: right;\">\n",
       "      <th></th>\n",
       "      <th>timestamp</th>\n",
       "      <th>change_event</th>\n",
       "      <th>object_type</th>\n",
       "      <th>old_id</th>\n",
       "      <th>new_id</th>\n",
       "      <th>old_attributes</th>\n",
       "      <th>new_attributes</th>\n",
       "      <th>diff</th>\n",
       "    </tr>\n",
       "  </thead>\n",
       "  <tbody>\n",
       "    <tr>\n",
       "      <th>213</th>\n",
       "      <td>2021-04-13 17:25:44</td>\n",
       "      <td>modify</td>\n",
       "      <td>stop</td>\n",
       "      <td>other_new_stop.link:3154</td>\n",
       "      <td>other_new_stop.link:3154</td>\n",
       "      <td>{'services': set(), 'routes': set(), 'id': 'ot...</td>\n",
       "      <td>{'services': set(), 'routes': set(), 'id': 'ot...</td>\n",
       "      <td>[(add, , [('geometry', &lt;shapely.geometry.point...</td>\n",
       "    </tr>\n",
       "    <tr>\n",
       "      <th>214</th>\n",
       "      <td>2021-04-13 17:25:44</td>\n",
       "      <td>modify</td>\n",
       "      <td>stop</td>\n",
       "      <td>490000235X.link:artificial_link===from:4900002...</td>\n",
       "      <td>490000235X.link:artificial_link===from:4900002...</td>\n",
       "      <td>{'id': '490000235X.link:artificial_link===from...</td>\n",
       "      <td>{'id': '490000235X.link:artificial_link===from...</td>\n",
       "      <td>[(add, , [('geometry', &lt;shapely.geometry.point...</td>\n",
       "    </tr>\n",
       "  </tbody>\n",
       "</table>\n",
       "</div>"
      ],
      "text/plain": [
       "               timestamp change_event object_type  \\\n",
       "213  2021-04-13 17:25:44       modify        stop   \n",
       "214  2021-04-13 17:25:44       modify        stop   \n",
       "\n",
       "                                                old_id  \\\n",
       "213                           other_new_stop.link:3154   \n",
       "214  490000235X.link:artificial_link===from:4900002...   \n",
       "\n",
       "                                                new_id  \\\n",
       "213                           other_new_stop.link:3154   \n",
       "214  490000235X.link:artificial_link===from:4900002...   \n",
       "\n",
       "                                        old_attributes  \\\n",
       "213  {'services': set(), 'routes': set(), 'id': 'ot...   \n",
       "214  {'id': '490000235X.link:artificial_link===from...   \n",
       "\n",
       "                                        new_attributes  \\\n",
       "213  {'services': set(), 'routes': set(), 'id': 'ot...   \n",
       "214  {'id': '490000235X.link:artificial_link===from...   \n",
       "\n",
       "                                                  diff  \n",
       "213  [(add, , [('geometry', <shapely.geometry.point...  \n",
       "214  [(add, , [('geometry', <shapely.geometry.point...  "
      ]
     },
     "execution_count": 44,
     "metadata": {},
     "output_type": "execute_result"
    }
   ],
   "source": [
    "n.schedule.change_log().tail(2)"
   ]
  },
  {
   "cell_type": "code",
   "execution_count": 45,
   "metadata": {
    "ExecuteTime": {
     "end_time": "2021-04-13T16:25:44.733100Z",
     "start_time": "2021-04-13T16:25:44.631898Z"
    }
   },
   "outputs": [
    {
     "data": {
      "text/html": [
       "<div>\n",
       "<style scoped>\n",
       "    .dataframe tbody tr th:only-of-type {\n",
       "        vertical-align: middle;\n",
       "    }\n",
       "\n",
       "    .dataframe tbody tr th {\n",
       "        vertical-align: top;\n",
       "    }\n",
       "\n",
       "    .dataframe thead th {\n",
       "        text-align: right;\n",
       "    }\n",
       "</style>\n",
       "<table border=\"1\" class=\"dataframe\">\n",
       "  <thead>\n",
       "    <tr style=\"text-align: right;\">\n",
       "      <th></th>\n",
       "      <th>name</th>\n",
       "      <th>x</th>\n",
       "      <th>y</th>\n",
       "      <th>geometry</th>\n",
       "    </tr>\n",
       "  </thead>\n",
       "  <tbody>\n",
       "    <tr>\n",
       "      <th>490000235X.link:834</th>\n",
       "      <td>Tottenham Court Road Station (Stop X)</td>\n",
       "      <td>529981.795880</td>\n",
       "      <td>181412.097576</td>\n",
       "      <td>POINT (529981.7958802709 181412.0975758662)</td>\n",
       "    </tr>\n",
       "    <tr>\n",
       "      <th>490000235YB.link:574</th>\n",
       "      <td>Oxford Street  Soho Street (Stop YB)</td>\n",
       "      <td>529570.781323</td>\n",
       "      <td>181336.281593</td>\n",
       "      <td>POINT (529570.7813227688 181336.2815925331)</td>\n",
       "    </tr>\n",
       "    <tr>\n",
       "      <th>490014214HE.link:3154</th>\n",
       "      <td>Wardour Street (Stop OM)</td>\n",
       "      <td>529477.750156</td>\n",
       "      <td>181314.437043</td>\n",
       "      <td>POINT (529477.7501560802 181314.4370430721)</td>\n",
       "    </tr>\n",
       "    <tr>\n",
       "      <th>490010689KB.link:981</th>\n",
       "      <td>Great Titchfield Street  Oxford Circus Station...</td>\n",
       "      <td>529166.734973</td>\n",
       "      <td>181256.336723</td>\n",
       "      <td>POINT (529166.7349732723 181256.3367228433)</td>\n",
       "    </tr>\n",
       "    <tr>\n",
       "      <th>490010689OJ.link:1787</th>\n",
       "      <td>Great Titchfield Street  Oxford Circus Station...</td>\n",
       "      <td>529227.773057</td>\n",
       "      <td>181280.477507</td>\n",
       "      <td>POINT (529227.7730568129 181280.4775071898)</td>\n",
       "    </tr>\n",
       "  </tbody>\n",
       "</table>\n",
       "</div>"
      ],
      "text/plain": [
       "                                                                    name  \\\n",
       "490000235X.link:834                Tottenham Court Road Station (Stop X)   \n",
       "490000235YB.link:574                Oxford Street  Soho Street (Stop YB)   \n",
       "490014214HE.link:3154                           Wardour Street (Stop OM)   \n",
       "490010689KB.link:981   Great Titchfield Street  Oxford Circus Station...   \n",
       "490010689OJ.link:1787  Great Titchfield Street  Oxford Circus Station...   \n",
       "\n",
       "                                   x              y  \\\n",
       "490000235X.link:834    529981.795880  181412.097576   \n",
       "490000235YB.link:574   529570.781323  181336.281593   \n",
       "490014214HE.link:3154  529477.750156  181314.437043   \n",
       "490010689KB.link:981   529166.734973  181256.336723   \n",
       "490010689OJ.link:1787  529227.773057  181280.477507   \n",
       "\n",
       "                                                          geometry  \n",
       "490000235X.link:834    POINT (529981.7958802709 181412.0975758662)  \n",
       "490000235YB.link:574   POINT (529570.7813227688 181336.2815925331)  \n",
       "490014214HE.link:3154  POINT (529477.7501560802 181314.4370430721)  \n",
       "490010689KB.link:981   POINT (529166.7349732723 181256.3367228433)  \n",
       "490010689OJ.link:1787  POINT (529227.7730568129 181280.4775071898)  "
      ]
     },
     "execution_count": 45,
     "metadata": {},
     "output_type": "execute_result"
    }
   ],
   "source": [
    "n.schedule.stop_attribute_data(keys=['name', 'x', 'y', 'geometry']).head()"
   ]
  },
  {
   "cell_type": "code",
   "execution_count": 46,
   "metadata": {
    "ExecuteTime": {
     "end_time": "2021-04-13T16:25:45.582496Z",
     "start_time": "2021-04-13T16:25:44.755997Z"
    }
   },
   "outputs": [
    {
     "data": {
      "text/plain": [
       "<matplotlib.axes._subplots.AxesSubplot at 0x119c5e208>"
      ]
     },
     "execution_count": 46,
     "metadata": {},
     "output_type": "execute_result"
    },
    {
     "data": {
      "image/png": "[encoded data removed]",
      "text/plain": [
       "<Figure size 432x288 with 1 Axes>"
      ]
     },
     "metadata": {
      "needs_background": "light"
     },
     "output_type": "display_data"
    }
   ],
   "source": [
    "from geopandas import GeoDataFrame\n",
    "GeoDataFrame(n.schedule.stop_attribute_data(keys='geometry')).plot()"
   ]
  },
  {
   "cell_type": "code",
   "execution_count": 47,
   "metadata": {
    "ExecuteTime": {
     "end_time": "2021-04-13T16:25:45.637933Z",
     "start_time": "2021-04-13T16:25:45.621428Z"
    }
   },
   "outputs": [
    {
     "data": {
      "text/plain": [
       "{'id': '490000235YB.link:574',\n",
       " 'x': 529570.7813227688,\n",
       " 'y': 181336.2815925331,\n",
       " 'epsg': 'epsg:27700',\n",
       " 'name': 'Oxford Street  Soho Street (Stop YB)',\n",
       " 'lat': -0.13404398709291862,\n",
       " 'lon': 51.51609803324078,\n",
       " 's2_id': 2507584474601580133,\n",
       " 'additional_attributes': {'geometry',\n",
       "  'isBlocking',\n",
       "  'linkRefId',\n",
       "  'new_attribute'},\n",
       " 'linkRefId': '574',\n",
       " 'isBlocking': 'false',\n",
       " 'new_attribute': 'hello!',\n",
       " 'geometry': <shapely.geometry.point.Point at 0x119c48780>}"
      ]
     },
     "execution_count": 47,
     "metadata": {},
     "output_type": "execute_result"
    }
   ],
   "source": [
    "n.schedule.stop('490000235YB.link:574').__dict__"
   ]
  },
  {
   "cell_type": "markdown",
   "metadata": {},
   "source": [
    "For this let's say we want to reduce the number of trips. For simplicity of demonstration we don't have about which trips we delete, but logic around timings of trips can be added in this function, as the trips are saved as one of routes attributes (check out the summary methods)"
   ]
  },
  {
   "cell_type": "code",
   "execution_count": 48,
   "metadata": {
    "ExecuteTime": {
     "end_time": "2021-04-13T16:25:45.815295Z",
     "start_time": "2021-04-13T16:25:45.644007Z"
    }
   },
   "outputs": [
    {
     "data": {
      "text/plain": [
       "1564"
      ]
     },
     "execution_count": 48,
     "metadata": {},
     "output_type": "execute_result"
    }
   ],
   "source": [
    "# before\n",
    "len(n.schedule.route_trips_to_dataframe())"
   ]
  },
  {
   "cell_type": "code",
   "execution_count": 49,
   "metadata": {
    "ExecuteTime": {
     "end_time": "2021-04-13T16:25:45.937644Z",
     "start_time": "2021-04-13T16:25:45.829160Z"
    }
   },
   "outputs": [
    {
     "name": "stderr",
     "output_type": "stream",
     "text": [
      "2021-04-13 17:25:45,928 - Changed Route attributes for 69 routes\n"
     ]
    }
   ],
   "source": [
    "def reduce_trips(attribs):\n",
    "    # just delete any other trip\n",
    "    attribs['trips']['trip_id'] = attribs['trips']['trip_id'][::2]\n",
    "    attribs['trips']['trip_departure_time'] = attribs['trips']['trip_departure_time'][::2]\n",
    "    attribs['trips']['vehicle_id'] = attribs['trips']['vehicle_id'][::2]\n",
    "    return attribs['trips']\n",
    "\n",
    "n.schedule.apply_function_to_routes(reduce_trips, 'trips')"
   ]
  },
  {
   "cell_type": "code",
   "execution_count": 50,
   "metadata": {
    "ExecuteTime": {
     "end_time": "2021-04-13T16:25:46.142548Z",
     "start_time": "2021-04-13T16:25:45.944063Z"
    }
   },
   "outputs": [
    {
     "data": {
      "text/plain": [
       "793"
      ]
     },
     "execution_count": 50,
     "metadata": {},
     "output_type": "execute_result"
    }
   ],
   "source": [
    "# after\n",
    "len(n.schedule.route_trips_to_dataframe())"
   ]
  },
  {
   "cell_type": "markdown",
   "metadata": {},
   "source": [
    "Note, this could also be done using the `route_trips_to_dataframe` and `set_route_trips_dataframe` mentioned above.\n",
    "\n",
    "Let's give an example of using a mapping. We can re-use the service name DataFrame we generated above."
   ]
  },
  {
   "cell_type": "code",
   "execution_count": 51,
   "metadata": {
    "ExecuteTime": {
     "end_time": "2021-04-13T16:25:46.179742Z",
     "start_time": "2021-04-13T16:25:46.148126Z"
    }
   },
   "outputs": [
    {
     "data": {
      "text/html": [
       "<div>\n",
       "<style scoped>\n",
       "    .dataframe tbody tr th:only-of-type {\n",
       "        vertical-align: middle;\n",
       "    }\n",
       "\n",
       "    .dataframe tbody tr th {\n",
       "        vertical-align: top;\n",
       "    }\n",
       "\n",
       "    .dataframe thead th {\n",
       "        text-align: right;\n",
       "    }\n",
       "</style>\n",
       "<table border=\"1\" class=\"dataframe\">\n",
       "  <thead>\n",
       "    <tr style=\"text-align: right;\">\n",
       "      <th></th>\n",
       "      <th>name</th>\n",
       "      <th>new_name</th>\n",
       "    </tr>\n",
       "  </thead>\n",
       "  <tbody>\n",
       "    <tr>\n",
       "      <th>17732</th>\n",
       "      <td>Service_N20</td>\n",
       "      <td>Brand_new_nameService_N20</td>\n",
       "    </tr>\n",
       "    <tr>\n",
       "      <th>12430</th>\n",
       "      <td>Service_205</td>\n",
       "      <td>Brand_new_nameService_205</td>\n",
       "    </tr>\n",
       "    <tr>\n",
       "      <th>15234</th>\n",
       "      <td>Service_134</td>\n",
       "      <td>Brand_new_nameService_134</td>\n",
       "    </tr>\n",
       "    <tr>\n",
       "      <th>14134</th>\n",
       "      <td>Service_98</td>\n",
       "      <td>Brand_new_nameService_98</td>\n",
       "    </tr>\n",
       "    <tr>\n",
       "      <th>18915</th>\n",
       "      <td>Service_N5</td>\n",
       "      <td>Brand_new_nameService_N5</td>\n",
       "    </tr>\n",
       "  </tbody>\n",
       "</table>\n",
       "</div>"
      ],
      "text/plain": [
       "              name                   new_name\n",
       "17732  Service_N20  Brand_new_nameService_N20\n",
       "12430  Service_205  Brand_new_nameService_205\n",
       "15234  Service_134  Brand_new_nameService_134\n",
       "14134   Service_98   Brand_new_nameService_98\n",
       "18915   Service_N5   Brand_new_nameService_N5"
      ]
     },
     "execution_count": 51,
     "metadata": {},
     "output_type": "execute_result"
    }
   ],
   "source": [
    "df['new_name'] = 'Brand_new_name' + df['name']\n",
    "df.head()"
   ]
  },
  {
   "cell_type": "code",
   "execution_count": 52,
   "metadata": {
    "ExecuteTime": {
     "end_time": "2021-04-13T16:25:46.194570Z",
     "start_time": "2021-04-13T16:25:46.184505Z"
    }
   },
   "outputs": [
    {
     "data": {
      "text/plain": [
       "{'Service_N20': 'Brand_new_nameService_N20',\n",
       " 'Service_205': 'Brand_new_nameService_205',\n",
       " 'Service_134': 'Brand_new_nameService_134',\n",
       " 'Service_98': 'Brand_new_nameService_98',\n",
       " 'Service_N5': 'Brand_new_nameService_N5',\n",
       " 'Service_N8': 'Brand_new_nameService_N8',\n",
       " 'Service_94': 'Brand_new_nameService_94',\n",
       " 'Service_113': 'Brand_new_nameService_113',\n",
       " 'Service_N55': 'Brand_new_nameService_N55'}"
      ]
     },
     "execution_count": 52,
     "metadata": {},
     "output_type": "execute_result"
    }
   ],
   "source": [
    "name_map = dict(zip(df['name'], df['new_name']))\n",
    "name_map"
   ]
  },
  {
   "cell_type": "markdown",
   "metadata": {},
   "source": [
    "In this case, `location` refers to the attribute to be mapped."
   ]
  },
  {
   "cell_type": "code",
   "execution_count": 53,
   "metadata": {
    "ExecuteTime": {
     "end_time": "2021-04-13T16:25:46.213709Z",
     "start_time": "2021-04-13T16:25:46.200203Z"
    }
   },
   "outputs": [
    {
     "name": "stderr",
     "output_type": "stream",
     "text": [
      "2021-04-13 17:25:46,209 - Changed Service attributes for 9 services\n"
     ]
    }
   ],
   "source": [
    "n.schedule.apply_function_to_services(name_map, location='name')"
   ]
  },
  {
   "cell_type": "code",
   "execution_count": 54,
   "metadata": {
    "ExecuteTime": {
     "end_time": "2021-04-13T16:25:46.250516Z",
     "start_time": "2021-04-13T16:25:46.217888Z"
    }
   },
   "outputs": [
    {
     "data": {
      "text/html": [
       "<div>\n",
       "<style scoped>\n",
       "    .dataframe tbody tr th:only-of-type {\n",
       "        vertical-align: middle;\n",
       "    }\n",
       "\n",
       "    .dataframe tbody tr th {\n",
       "        vertical-align: top;\n",
       "    }\n",
       "\n",
       "    .dataframe thead th {\n",
       "        text-align: right;\n",
       "    }\n",
       "</style>\n",
       "<table border=\"1\" class=\"dataframe\">\n",
       "  <thead>\n",
       "    <tr style=\"text-align: right;\">\n",
       "      <th></th>\n",
       "      <th>timestamp</th>\n",
       "      <th>change_event</th>\n",
       "      <th>object_type</th>\n",
       "      <th>old_id</th>\n",
       "      <th>new_id</th>\n",
       "      <th>old_attributes</th>\n",
       "      <th>new_attributes</th>\n",
       "      <th>diff</th>\n",
       "    </tr>\n",
       "  </thead>\n",
       "  <tbody>\n",
       "    <tr>\n",
       "      <th>288</th>\n",
       "      <td>2021-04-13 17:25:46</td>\n",
       "      <td>modify</td>\n",
       "      <td>service</td>\n",
       "      <td>18915</td>\n",
       "      <td>18915</td>\n",
       "      <td>{'id': '18915', 'name': 'Service_N5'}</td>\n",
       "      <td>{'id': '18915', 'name': 'Brand_new_nameService...</td>\n",
       "      <td>[(change, name, (Service_N5, Brand_new_nameSer...</td>\n",
       "    </tr>\n",
       "    <tr>\n",
       "      <th>289</th>\n",
       "      <td>2021-04-13 17:25:46</td>\n",
       "      <td>modify</td>\n",
       "      <td>service</td>\n",
       "      <td>18853</td>\n",
       "      <td>18853</td>\n",
       "      <td>{'id': '18853', 'name': 'Service_N8'}</td>\n",
       "      <td>{'id': '18853', 'name': 'Brand_new_nameService...</td>\n",
       "      <td>[(change, name, (Service_N8, Brand_new_nameSer...</td>\n",
       "    </tr>\n",
       "    <tr>\n",
       "      <th>290</th>\n",
       "      <td>2021-04-13 17:25:46</td>\n",
       "      <td>modify</td>\n",
       "      <td>service</td>\n",
       "      <td>14073</td>\n",
       "      <td>14073</td>\n",
       "      <td>{'id': '14073', 'name': 'Service_94'}</td>\n",
       "      <td>{'id': '14073', 'name': 'Brand_new_nameService...</td>\n",
       "      <td>[(change, name, (Service_94, Brand_new_nameSer...</td>\n",
       "    </tr>\n",
       "    <tr>\n",
       "      <th>291</th>\n",
       "      <td>2021-04-13 17:25:46</td>\n",
       "      <td>modify</td>\n",
       "      <td>service</td>\n",
       "      <td>15660</td>\n",
       "      <td>15660</td>\n",
       "      <td>{'id': '15660', 'name': 'Service_113'}</td>\n",
       "      <td>{'id': '15660', 'name': 'Brand_new_nameService...</td>\n",
       "      <td>[(change, name, (Service_113, Brand_new_nameSe...</td>\n",
       "    </tr>\n",
       "    <tr>\n",
       "      <th>292</th>\n",
       "      <td>2021-04-13 17:25:46</td>\n",
       "      <td>modify</td>\n",
       "      <td>service</td>\n",
       "      <td>20274</td>\n",
       "      <td>20274</td>\n",
       "      <td>{'id': '20274', 'name': 'Service_N55'}</td>\n",
       "      <td>{'id': '20274', 'name': 'Brand_new_nameService...</td>\n",
       "      <td>[(change, name, (Service_N55, Brand_new_nameSe...</td>\n",
       "    </tr>\n",
       "  </tbody>\n",
       "</table>\n",
       "</div>"
      ],
      "text/plain": [
       "               timestamp change_event object_type old_id new_id  \\\n",
       "288  2021-04-13 17:25:46       modify     service  18915  18915   \n",
       "289  2021-04-13 17:25:46       modify     service  18853  18853   \n",
       "290  2021-04-13 17:25:46       modify     service  14073  14073   \n",
       "291  2021-04-13 17:25:46       modify     service  15660  15660   \n",
       "292  2021-04-13 17:25:46       modify     service  20274  20274   \n",
       "\n",
       "                             old_attributes  \\\n",
       "288   {'id': '18915', 'name': 'Service_N5'}   \n",
       "289   {'id': '18853', 'name': 'Service_N8'}   \n",
       "290   {'id': '14073', 'name': 'Service_94'}   \n",
       "291  {'id': '15660', 'name': 'Service_113'}   \n",
       "292  {'id': '20274', 'name': 'Service_N55'}   \n",
       "\n",
       "                                        new_attributes  \\\n",
       "288  {'id': '18915', 'name': 'Brand_new_nameService...   \n",
       "289  {'id': '18853', 'name': 'Brand_new_nameService...   \n",
       "290  {'id': '14073', 'name': 'Brand_new_nameService...   \n",
       "291  {'id': '15660', 'name': 'Brand_new_nameService...   \n",
       "292  {'id': '20274', 'name': 'Brand_new_nameService...   \n",
       "\n",
       "                                                  diff  \n",
       "288  [(change, name, (Service_N5, Brand_new_nameSer...  \n",
       "289  [(change, name, (Service_N8, Brand_new_nameSer...  \n",
       "290  [(change, name, (Service_94, Brand_new_nameSer...  \n",
       "291  [(change, name, (Service_113, Brand_new_nameSe...  \n",
       "292  [(change, name, (Service_N55, Brand_new_nameSe...  "
      ]
     },
     "execution_count": 54,
     "metadata": {},
     "output_type": "execute_result"
    }
   ],
   "source": [
    "n.schedule.change_log().tail()"
   ]
  }
 ],
 "metadata": {
  "kernelspec": {
   "display_name": "genet",
   "language": "python",
   "name": "genet"
  },
  "language_info": {
   "codemirror_mode": {
    "name": "ipython",
    "version": 3
   },
   "file_extension": ".py",
   "mimetype": "text/x-python",
   "name": "python",
   "nbconvert_exporter": "python",
   "pygments_lexer": "ipython3",
   "version": "3.7.0"
  },
  "latex_envs": {
   "LaTeX_envs_menu_present": true,
   "autoclose": true,
   "autocomplete": true,
   "bibliofile": "biblio.bib",
   "cite_by": "apalike",
   "current_citInitial": 1,
   "eqLabelWithNumbers": true,
   "eqNumInitial": 1,
   "hotkeys": {
    "equation": "Ctrl-E",
    "itemize": "Ctrl-I"
   },
   "labels_anchors": false,
   "latex_user_defs": false,
   "report_style_numbering": false,
   "user_envs_cfg": false
  },
  "toc": {
   "base_numbering": 1,
   "nav_menu": {},
   "number_sections": true,
   "sideBar": true,
   "skip_h1_title": false,
   "title_cell": "Table of Contents",
   "title_sidebar": "Contents",
   "toc_cell": false,
   "toc_position": {},
   "toc_section_display": true,
   "toc_window_display": false
  },
  "varInspector": {
   "cols": {
    "lenName": 16,
    "lenType": 16,
    "lenVar": 40
   },
   "kernels_config": {
    "python": {
     "delete_cmd_postfix": "",
     "delete_cmd_prefix": "del ",
     "library": "var_list.py",
     "varRefreshCmd": "print(var_dic_list())"
    },
    "r": {
     "delete_cmd_postfix": ") ",
     "delete_cmd_prefix": "rm(",
     "library": "var_list.r",
     "varRefreshCmd": "cat(var_dic_list()) "
    }
   },
   "types_to_exclude": [
    "module",
    "function",
    "builtin_function_or_method",
    "instance",
    "_Feature"
   ],
   "window_display": false
  }
 },
 "nbformat": 4,
 "nbformat_minor": 2
}
