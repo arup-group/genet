{
 "cells": [
  {
   "cell_type": "markdown",
   "metadata": {},
   "source": [
    "# Modifying the `Schedule` object\n",
    "\n",
    "GeNet has a number of methods to change the Schedule objects. Make sure you validate the end result."
   ]
  },
  {
   "cell_type": "code",
   "execution_count": 1,
   "metadata": {
    "ExecuteTime": {
     "end_time": "2021-10-25T10:28:44.135834Z",
     "start_time": "2021-10-25T10:27:47.367013Z"
    }
   },
   "outputs": [
    {
     "name": "stdout",
     "output_type": "stream",
     "text": [
      "Graph info: Name: Network graph\n",
      "Type: MultiDiGraph\n",
      "Number of nodes: 1662\n",
      "Number of edges: 3166\n",
      "Average in degree:   1.9049\n",
      "Average out degree:   1.9049 \n",
      "Schedule info: Schedule:\n",
      "Number of services: 9\n",
      "Number of routes: 68\n",
      "Number of stops: 118\n"
     ]
    }
   ],
   "source": [
    "# read example network\n",
    "import pandas as pd\n",
    "from genet import Network, Stop, Route, Service, read_matsim\n",
    "import os\n",
    "\n",
    "path_to_matsim_network = '../example_data/pt2matsim_network'\n",
    "\n",
    "network = os.path.join(path_to_matsim_network, 'network.xml')\n",
    "schedule = os.path.join(path_to_matsim_network, 'schedule.xml')\n",
    "vehicles = os.path.join(path_to_matsim_network, 'vehicles.xml')\n",
    "n = read_matsim(\n",
    "    path_to_network=network, \n",
    "    epsg='epsg:27700', \n",
    "    path_to_schedule=schedule, \n",
    "    path_to_vehicles=vehicles\n",
    ")\n",
    "# you don't need to read the vehicles file, but doing so ensures all vehicles\n",
    "# in the schedule are of the expected type and the definition of the vehicle\n",
    "# is preserved\n",
    "n.print()"
   ]
  },
  {
   "cell_type": "markdown",
   "metadata": {},
   "source": [
    "## Adding Routes, Services\n",
    "\n",
    "You can add `Route`s and `Service`s. To add a `Route`, you need to identify which existing `Service` it should come under."
   ]
  },
  {
   "cell_type": "code",
   "execution_count": 2,
   "metadata": {
    "ExecuteTime": {
     "end_time": "2021-10-25T10:28:45.463756Z",
     "start_time": "2021-10-25T10:28:44.140960Z"
    }
   },
   "outputs": [],
   "source": [
    "route = Route(\n",
    "    route_short_name='N55',\n",
    "    mode='bus',\n",
    "    trips={'trip_id': ['fun_trip_1', 'fun_trip_2'], \n",
    "           'trip_departure_time': ['03:53:00', '16:23:00'], \n",
    "           'vehicle_id': ['fun_bus_1', 'fun_bus_2']},\n",
    "   arrival_offsets=['00:00:00', '00:02:00', '00:04:00', '00:06:00'],\n",
    "   departure_offsets=['00:00:00', '00:02:00', '00:04:00', '00:06:00'],\n",
    "   id='new_route',\n",
    "#    route= ['834', '1573', '3139', '3141', '574', '3154', '979', '980', '981'],\n",
    "   await_departure= [True, True, True, True],\n",
    "   stops=[n.schedule.stop('490000235X'),\n",
    "          Stop(id='new_stop', x=529500, y=181300,\n",
    "            name='New Stop', epsg='epsg:27700'),\n",
    "          Stop(id='other_new_stop', x=529502, y=181302,\n",
    "            name='Other New Stop', epsg='epsg:27700'),\n",
    "          n.schedule.stop('490010689KB')]\n",
    ")"
   ]
  },
  {
   "cell_type": "markdown",
   "metadata": {},
   "source": [
    "You can create and add a new `Service`, or add the route to an existing Service"
   ]
  },
  {
   "cell_type": "code",
   "execution_count": 3,
   "metadata": {
    "ExecuteTime": {
     "end_time": "2021-10-25T10:28:45.508927Z",
     "start_time": "2021-10-25T10:28:45.479774Z"
    }
   },
   "outputs": [
    {
     "name": "stdout",
     "output_type": "stream",
     "text": [
      "Service ID: new_service\n",
      "Name: N55\n",
      "Number of routes: 1\n",
      "Number of stops: 4\n"
     ]
    }
   ],
   "source": [
    "new_service = Service(id='new_service', routes=[route])\n",
    "new_service.print()"
   ]
  },
  {
   "cell_type": "code",
   "execution_count": 4,
   "metadata": {
    "ExecuteTime": {
     "end_time": "2021-10-25T10:28:46.099564Z",
     "start_time": "2021-10-25T10:28:45.517573Z"
    }
   },
   "outputs": [
    {
     "name": "stderr",
     "output_type": "stream",
     "text": [
      "2021-10-25 11:28:45,538 - Added Service with index `new_service`, data={'id': 'new_service', 'name': 'N55'} and Routes: ['new_route']\n"
     ]
    },
    {
     "data": {
      "text/plain": [
       "<Service instance at 4464896976: with 1 routes>"
      ]
     },
     "execution_count": 4,
     "metadata": {},
     "output_type": "execute_result"
    }
   ],
   "source": [
    "n.schedule.add_service(Service(id='new_service', routes=[route]))"
   ]
  },
  {
   "cell_type": "code",
   "execution_count": 5,
   "metadata": {
    "ExecuteTime": {
     "end_time": "2021-10-25T10:28:46.851538Z",
     "start_time": "2021-10-25T10:28:46.108153Z"
    }
   },
   "outputs": [
    {
     "name": "stderr",
     "output_type": "stream",
     "text": [
      "2021-10-25 11:28:46,113 - Route with ID `new_route` within already exists in the Schedule. This Route will be reindexed to `20274_4`\n",
      "2021-10-25 11:28:46,126 - Reindexed Route from new_route to 20274_4\n",
      "2021-10-25 11:28:46,138 - Added Route with index `20274_4`, data={'route_short_name': 'N55', 'mode': 'bus', 'trips': {'trip_id': ['fun_trip_1', 'fun_trip_2'], 'trip_departure_time': ['03:53:00', '16:23:00'], 'vehicle_id': ['fun_bus_1', 'fun_bus_2']}, 'arrival_offsets': ['00:00:00', '00:02:00', '00:04:00', '00:06:00'], 'departure_offsets': ['00:00:00', '00:02:00', '00:04:00', '00:06:00'], 'route_long_name': '', 'id': '20274_4', 'route': [], 'await_departure': [True, True, True, True], 'ordered_stops': ['490000235X', 'new_stop', 'other_new_stop', '490010689KB']} to Service `20274` within the Schedule\n",
      "/Users/kasia.kozlowska/PycharmProjects/ABM/genet/genet/schedule_elements.py:1243: UserWarning: DataFrame columns are not unique, some columns will be omitted.\n",
      "  self.vehicles = {**df.T.to_dict(), **self.vehicles}\n"
     ]
    },
    {
     "data": {
      "text/plain": [
       "<Route instance at 4910081296: with 4 stops and 2 trips>"
      ]
     },
     "execution_count": 5,
     "metadata": {},
     "output_type": "execute_result"
    }
   ],
   "source": [
    "n.schedule.add_route('20274', route)"
   ]
  },
  {
   "cell_type": "code",
   "execution_count": 6,
   "metadata": {
    "ExecuteTime": {
     "end_time": "2021-10-25T10:28:46.866601Z",
     "start_time": "2021-10-25T10:28:46.857330Z"
    }
   },
   "outputs": [
    {
     "name": "stdout",
     "output_type": "stream",
     "text": [
      "Service ID: new_service\n",
      "Name: N55\n",
      "Number of routes: 1\n",
      "Number of stops: 4\n"
     ]
    }
   ],
   "source": [
    "n.schedule['new_service'].print()"
   ]
  },
  {
   "cell_type": "code",
   "execution_count": 7,
   "metadata": {
    "ExecuteTime": {
     "end_time": "2021-10-25T10:28:46.885544Z",
     "start_time": "2021-10-25T10:28:46.873025Z"
    }
   },
   "outputs": [
    {
     "data": {
      "text/plain": [
       "['490000235X', 'new_stop', 'other_new_stop', '490010689KB']"
      ]
     },
     "execution_count": 7,
     "metadata": {},
     "output_type": "execute_result"
    }
   ],
   "source": [
    "n.schedule.route('20274_4').ordered_stops"
   ]
  },
  {
   "cell_type": "markdown",
   "metadata": {},
   "source": [
    "You can also refer to existing stops in the `Schedule` when creating a`Route` to be added. You can either just pass Stop IDs as strings or use a stop method on the schedule to take and use that stop object. Note that in the case of the former (passing ID strings), the route will not have the spatial information for those stops until it is added to the Schedule."
   ]
  },
  {
   "cell_type": "code",
   "execution_count": 8,
   "metadata": {
    "ExecuteTime": {
     "end_time": "2021-10-25T10:28:46.911865Z",
     "start_time": "2021-10-25T10:28:46.903026Z"
    }
   },
   "outputs": [],
   "source": [
    "r = Route(\n",
    "    route_short_name='N55',\n",
    "    mode='bus',\n",
    "    trips={'trip_id': ['some_trip_1'], \n",
    "           'trip_departure_time': ['16:23:00'], \n",
    "           'vehicle_id': ['some_bus_2']},\n",
    "   arrival_offsets=['00:00:00', '00:06:00'],\n",
    "   departure_offsets=['00:00:00', '00:06:00'],\n",
    "   id='another_new_route',\n",
    "#    route= ['834', '1573', '3139', '3141', '574', '3154', '979', '980', '981'],\n",
    "   await_departure= [True, True],\n",
    "   stops=['490000235X.link:834', \n",
    "          '490010689KB.link:981']\n",
    ")"
   ]
  },
  {
   "cell_type": "code",
   "execution_count": 9,
   "metadata": {
    "ExecuteTime": {
     "end_time": "2021-10-25T10:28:46.929393Z",
     "start_time": "2021-10-25T10:28:46.915947Z"
    }
   },
   "outputs": [
    {
     "data": {
      "text/plain": [
       "{'routes': {'another_new_route'}}"
      ]
     },
     "execution_count": 9,
     "metadata": {},
     "output_type": "execute_result"
    }
   ],
   "source": [
    "r.graph().nodes['490000235X.link:834']"
   ]
  },
  {
   "cell_type": "code",
   "execution_count": 10,
   "metadata": {
    "ExecuteTime": {
     "end_time": "2021-10-25T10:28:47.869029Z",
     "start_time": "2021-10-25T10:28:46.938320Z"
    }
   },
   "outputs": [
    {
     "name": "stderr",
     "output_type": "stream",
     "text": [
      "2021-10-25 11:28:46,953 - Added Route with index `another_new_route`, data={'route_short_name': 'N55', 'mode': 'bus', 'trips': {'trip_id': ['some_trip_1'], 'trip_departure_time': ['16:23:00'], 'vehicle_id': ['some_bus_2']}, 'arrival_offsets': ['00:00:00', '00:06:00'], 'departure_offsets': ['00:00:00', '00:06:00'], 'route_long_name': '', 'id': 'another_new_route', 'route': [], 'await_departure': [True, True], 'ordered_stops': ['490000235X.link:834', '490010689KB.link:981']} to Service `20274` within the Schedule\n"
     ]
    },
    {
     "data": {
      "text/plain": [
       "<Route instance at 4915961552: with 2 stops and 1 trips>"
      ]
     },
     "execution_count": 10,
     "metadata": {},
     "output_type": "execute_result"
    }
   ],
   "source": [
    "n.schedule.add_route('20274', r)"
   ]
  },
  {
   "cell_type": "code",
   "execution_count": 11,
   "metadata": {
    "ExecuteTime": {
     "end_time": "2021-10-25T10:28:47.889345Z",
     "start_time": "2021-10-25T10:28:47.875570Z"
    }
   },
   "outputs": [
    {
     "data": {
      "text/plain": [
       "{'services': {'14134', '18853', '20274'},\n",
       " 'routes': {'VJ12ba6089dfb2733e29c415a1a0015fef30fd5305',\n",
       "  'VJ256e98df611ff48afe737ddc81cbcde82e4e81c8',\n",
       "  'VJ2aba67e3ed98f2ed5f5966c1ac394cbf6d1943d7',\n",
       "  'VJ375a660d47a2aa570aa20a8568012da8497ffecf',\n",
       "  'VJ4e2b897edf0e7b8a8e3b5516ab43ce56f72c5cff',\n",
       "  'VJa7f37392e276aeac26c7e73bbc05e6a71af38dba',\n",
       "  'VJd78967364a302cf232c5139d40622dcb6c238c9e',\n",
       "  'VJdf3936da1a51eb33db594ef99738802c14b19995',\n",
       "  'VJf3e316e5e605bb512147dee2a989be5a82ef1b5f',\n",
       "  'VJf9a22035ae6f25bb420df833474943ad76065c89',\n",
       "  'another_new_route'},\n",
       " 'id': '490000235X.link:834',\n",
       " 'x': 529981.7958802709,\n",
       " 'y': 181412.0975758662,\n",
       " 'epsg': 'epsg:27700',\n",
       " 'name': 'Tottenham Court Road Station (Stop X)',\n",
       " 'lon': -0.12809598708996447,\n",
       " 'lat': 51.51668503324075,\n",
       " 's2_id': 5221390722025467597,\n",
       " 'linkRefId': '834',\n",
       " 'isBlocking': 'false'}"
      ]
     },
     "execution_count": 11,
     "metadata": {},
     "output_type": "execute_result"
    }
   ],
   "source": [
    "r.graph().nodes['490000235X.link:834']"
   ]
  },
  {
   "cell_type": "code",
   "execution_count": 12,
   "metadata": {
    "ExecuteTime": {
     "end_time": "2021-10-25T10:28:48.497694Z",
     "start_time": "2021-10-25T10:28:47.897663Z"
    }
   },
   "outputs": [
    {
     "name": "stderr",
     "output_type": "stream",
     "text": [
      "2021-10-25 11:28:47,948 - Added Route with index `another_new_route_2`, data={'route_short_name': 'N55', 'mode': 'bus', 'trips': {'trip_id': ['some_trip_1'], 'trip_departure_time': ['16:23:00'], 'vehicle_id': ['some_bus_2']}, 'arrival_offsets': ['00:00:00', '00:06:00'], 'departure_offsets': ['00:00:00', '00:06:00'], 'route_long_name': '', 'id': 'another_new_route_2', 'route': [], 'await_departure': [True, True], 'ordered_stops': ['490000235X.link:834', '490010689KB.link:981']} to Service `20274` within the Schedule\n"
     ]
    },
    {
     "data": {
      "text/plain": [
       "<Route instance at 4912081168: with 2 stops and 1 trips>"
      ]
     },
     "execution_count": 12,
     "metadata": {},
     "output_type": "execute_result"
    }
   ],
   "source": [
    "r = Route(\n",
    "    route_short_name='N55',\n",
    "    mode='bus',\n",
    "    trips={'trip_id': ['some_trip_1'], \n",
    "           'trip_departure_time': ['16:23:00'], \n",
    "           'vehicle_id': ['some_bus_2']},\n",
    "   arrival_offsets=['00:00:00', '00:06:00'],\n",
    "   departure_offsets=['00:00:00', '00:06:00'],\n",
    "   id='another_new_route_2',\n",
    "#    route= ['834', '1573', '3139', '3141', '574', '3154', '979', '980', '981'],\n",
    "   await_departure= [True, True],\n",
    "   stops=[n.schedule.stop('490000235X.link:834'), \n",
    "          n.schedule.stop('490010689KB.link:981')]\n",
    ")\n",
    "n.schedule.add_route('20274', r)"
   ]
  },
  {
   "cell_type": "markdown",
   "metadata": {},
   "source": [
    "Note that for a Schedule to be a valid MATSim network, each stop referred to by a route needs a `linkRefId` attribute which links the stop to the `Network`.\n",
    "\n",
    "Trying to add Stops with IDs already in the Schedule will result in an error, unless the `force=True` is set. The added route/service will inherit the data stored under those stops. The idea is that you can either specify the Stops in the route/service to be added correctly, or if they are to be changed, you use a dedicated method - check section 'Modifying data' below."
   ]
  },
  {
   "cell_type": "code",
   "execution_count": 13,
   "metadata": {
    "ExecuteTime": {
     "end_time": "2021-10-25T10:28:51.430310Z",
     "start_time": "2021-10-25T10:28:48.517850Z"
    }
   },
   "outputs": [
    {
     "name": "stderr",
     "output_type": "stream",
     "text": [
      "2021-10-25 11:28:50,986 - The following stops will inherit the data currently stored under those Stop IDs in the Schedule: ['490000235X.link:834', '490010689KB.link:981'].\n",
      "2021-10-25 11:28:50,994 - Added Route with index `another_new_route_3`, data={'route_short_name': 'N55', 'mode': 'bus', 'trips': {'trip_id': ['fun_trip_1', 'fun_trip_2'], 'trip_departure_time': ['03:53:00', '16:23:00'], 'vehicle_id': ['fun_bus_1', 'fun_bus_2']}, 'arrival_offsets': ['00:00:00', '00:02:00', '00:04:00', '00:06:00'], 'departure_offsets': ['00:00:00', '00:02:00', '00:04:00', '00:06:00'], 'route_long_name': '', 'id': 'another_new_route_3', 'route': [], 'await_departure': [True, True, True, True], 'ordered_stops': ['490000235X.link:834', 'new_stop', 'other_new_stop', '490010689KB.link:981']} to Service `20274` within the Schedule\n"
     ]
    },
    {
     "data": {
      "text/plain": [
       "<Route instance at 4912020304: with 4 stops and 2 trips>"
      ]
     },
     "execution_count": 13,
     "metadata": {},
     "output_type": "execute_result"
    }
   ],
   "source": [
    "route = Route(\n",
    "    route_short_name='N55',\n",
    "    mode='bus',\n",
    "    trips={'trip_id': ['fun_trip_1', 'fun_trip_2'], \n",
    "           'trip_departure_time': ['03:53:00', '16:23:00'], \n",
    "           'vehicle_id': ['fun_bus_1', 'fun_bus_2']},\n",
    "   arrival_offsets=['00:00:00', '00:02:00', '00:04:00', '00:06:00'],\n",
    "   departure_offsets=['00:00:00', '00:02:00', '00:04:00', '00:06:00'],\n",
    "   id='another_new_route_3',\n",
    "#    route= ['834', '1573', '3139', '3141', '574', '3154', '979', '980', '981'],\n",
    "   await_departure= [True, True, True, True],\n",
    "   stops=[\n",
    "       Stop(id='490000235X.link:834', x=529981, y=181412, epsg='epsg:27700'),\n",
    "       Stop(id='new_stop', x=529500, y=181300, epsg='epsg:27700', name='New Stop'),\n",
    "       Stop(id='other_new_stop', x=529502, y=181302, epsg='epsg:27700', name='Other New Stop'),\n",
    "       Stop(id='490010689KB.link:981', x=529166, y=181256, epsg='epsg:27700')\n",
    "   ]\n",
    ")\n",
    "\n",
    "n.schedule.add_route('20274', route, force=True)"
   ]
  },
  {
   "cell_type": "markdown",
   "metadata": {},
   "source": [
    "Note the message above: `The following stops will inherit the data currently stored under those Stop IDs in the Schedule: ['490000235X.link:834', '490010689KB.link:981'].`\n",
    "\n",
    "NOTE: adding routes and services results in new vehicles (unless you reuse the ones already in the Schedule---beware that the same vehicle cannot service multiple trips at the same time, genet does not currently have checks for this, the user needs to be mindful of the physics of shared vehicles). New vehicles need definitions, you can add them yourself to `schedule.vehicles['vehicle_id'] = {'type': 'bus'}` ensuring this vehicle type is defined in `schedule.vehicle_types['bus']`, or you can use a genet method to generate those vehicles, the type will be derived from the mode of the route. Then you can check if all of the types that vehicles are referring to have definitions."
   ]
  },
  {
   "cell_type": "code",
   "execution_count": 14,
   "metadata": {
    "ExecuteTime": {
     "end_time": "2021-10-25T10:28:51.521223Z",
     "start_time": "2021-10-25T10:28:51.452481Z"
    }
   },
   "outputs": [
    {
     "data": {
      "text/plain": [
       "13293"
      ]
     },
     "execution_count": 14,
     "metadata": {},
     "output_type": "execute_result"
    }
   ],
   "source": [
    "len(n.schedule.vehicles)"
   ]
  },
  {
   "cell_type": "code",
   "execution_count": 15,
   "metadata": {
    "ExecuteTime": {
     "end_time": "2021-10-25T10:28:52.060839Z",
     "start_time": "2021-10-25T10:28:51.528728Z"
    }
   },
   "outputs": [],
   "source": [
    "n.schedule.generate_vehicles()"
   ]
  },
  {
   "cell_type": "code",
   "execution_count": 16,
   "metadata": {
    "ExecuteTime": {
     "end_time": "2021-10-25T10:28:52.127896Z",
     "start_time": "2021-10-25T10:28:52.063731Z"
    }
   },
   "outputs": [
    {
     "name": "stderr",
     "output_type": "stream",
     "text": [
      "2021-10-25 11:28:52,108 - The following vehicle types are missing from the `vehicle_types` attribute: {'bus'}\n",
      "2021-10-25 11:28:52,115 - Vehicles affected by missing vehicle types: {'fun_bus_1': {'type': 'bus'}, 'fun_bus_2': {'type': 'bus'}, 'some_bus_2': {'type': 'bus'}}\n"
     ]
    },
    {
     "data": {
      "text/plain": [
       "False"
      ]
     },
     "execution_count": 16,
     "metadata": {},
     "output_type": "execute_result"
    }
   ],
   "source": [
    "n.schedule.validate_vehicle_definitions()"
   ]
  },
  {
   "cell_type": "code",
   "execution_count": 17,
   "metadata": {
    "ExecuteTime": {
     "end_time": "2021-10-25T10:28:52.146205Z",
     "start_time": "2021-10-25T10:28:52.136067Z"
    }
   },
   "outputs": [
    {
     "data": {
      "text/plain": [
       "13293"
      ]
     },
     "execution_count": 17,
     "metadata": {},
     "output_type": "execute_result"
    }
   ],
   "source": [
    "len(n.schedule.vehicles)"
   ]
  },
  {
   "cell_type": "code",
   "execution_count": 18,
   "metadata": {
    "ExecuteTime": {
     "end_time": "2021-10-25T10:28:52.259810Z",
     "start_time": "2021-10-25T10:28:52.159406Z"
    }
   },
   "outputs": [
    {
     "data": {
      "text/html": [
       "<div>\n",
       "<style scoped>\n",
       "    .dataframe tbody tr th:only-of-type {\n",
       "        vertical-align: middle;\n",
       "    }\n",
       "\n",
       "    .dataframe tbody tr th {\n",
       "        vertical-align: top;\n",
       "    }\n",
       "\n",
       "    .dataframe thead th {\n",
       "        text-align: right;\n",
       "    }\n",
       "</style>\n",
       "<table border=\"1\" class=\"dataframe\">\n",
       "  <thead>\n",
       "    <tr style=\"text-align: right;\">\n",
       "      <th></th>\n",
       "      <th>timestamp</th>\n",
       "      <th>change_event</th>\n",
       "      <th>object_type</th>\n",
       "      <th>old_id</th>\n",
       "      <th>new_id</th>\n",
       "      <th>old_attributes</th>\n",
       "      <th>new_attributes</th>\n",
       "      <th>diff</th>\n",
       "    </tr>\n",
       "  </thead>\n",
       "  <tbody>\n",
       "    <tr>\n",
       "      <th>0</th>\n",
       "      <td>2021-10-25 11:28:45</td>\n",
       "      <td>add</td>\n",
       "      <td>service</td>\n",
       "      <td>None</td>\n",
       "      <td>new_service</td>\n",
       "      <td>None</td>\n",
       "      <td>{'id': 'new_service', 'name': 'N55'}</td>\n",
       "      <td>[(add, , [('id', 'new_service'), ('name', 'N55...</td>\n",
       "    </tr>\n",
       "    <tr>\n",
       "      <th>1</th>\n",
       "      <td>2021-10-25 11:28:46</td>\n",
       "      <td>add</td>\n",
       "      <td>route</td>\n",
       "      <td>None</td>\n",
       "      <td>20274_4</td>\n",
       "      <td>None</td>\n",
       "      <td>{'route_short_name': 'N55', 'mode': 'bus', 'tr...</td>\n",
       "      <td>[(add, , [('route_short_name', 'N55'), ('mode'...</td>\n",
       "    </tr>\n",
       "    <tr>\n",
       "      <th>2</th>\n",
       "      <td>2021-10-25 11:28:46</td>\n",
       "      <td>add</td>\n",
       "      <td>route</td>\n",
       "      <td>None</td>\n",
       "      <td>another_new_route</td>\n",
       "      <td>None</td>\n",
       "      <td>{'route_short_name': 'N55', 'mode': 'bus', 'tr...</td>\n",
       "      <td>[(add, , [('route_short_name', 'N55'), ('mode'...</td>\n",
       "    </tr>\n",
       "    <tr>\n",
       "      <th>3</th>\n",
       "      <td>2021-10-25 11:28:47</td>\n",
       "      <td>add</td>\n",
       "      <td>route</td>\n",
       "      <td>None</td>\n",
       "      <td>another_new_route_2</td>\n",
       "      <td>None</td>\n",
       "      <td>{'route_short_name': 'N55', 'mode': 'bus', 'tr...</td>\n",
       "      <td>[(add, , [('route_short_name', 'N55'), ('mode'...</td>\n",
       "    </tr>\n",
       "    <tr>\n",
       "      <th>4</th>\n",
       "      <td>2021-10-25 11:28:50</td>\n",
       "      <td>add</td>\n",
       "      <td>route</td>\n",
       "      <td>None</td>\n",
       "      <td>another_new_route_3</td>\n",
       "      <td>None</td>\n",
       "      <td>{'route_short_name': 'N55', 'mode': 'bus', 'tr...</td>\n",
       "      <td>[(add, , [('route_short_name', 'N55'), ('mode'...</td>\n",
       "    </tr>\n",
       "  </tbody>\n",
       "</table>\n",
       "</div>"
      ],
      "text/plain": [
       "             timestamp change_event object_type old_id               new_id  \\\n",
       "0  2021-10-25 11:28:45          add     service   None          new_service   \n",
       "1  2021-10-25 11:28:46          add       route   None              20274_4   \n",
       "2  2021-10-25 11:28:46          add       route   None    another_new_route   \n",
       "3  2021-10-25 11:28:47          add       route   None  another_new_route_2   \n",
       "4  2021-10-25 11:28:50          add       route   None  another_new_route_3   \n",
       "\n",
       "  old_attributes                                     new_attributes  \\\n",
       "0           None               {'id': 'new_service', 'name': 'N55'}   \n",
       "1           None  {'route_short_name': 'N55', 'mode': 'bus', 'tr...   \n",
       "2           None  {'route_short_name': 'N55', 'mode': 'bus', 'tr...   \n",
       "3           None  {'route_short_name': 'N55', 'mode': 'bus', 'tr...   \n",
       "4           None  {'route_short_name': 'N55', 'mode': 'bus', 'tr...   \n",
       "\n",
       "                                                diff  \n",
       "0  [(add, , [('id', 'new_service'), ('name', 'N55...  \n",
       "1  [(add, , [('route_short_name', 'N55'), ('mode'...  \n",
       "2  [(add, , [('route_short_name', 'N55'), ('mode'...  \n",
       "3  [(add, , [('route_short_name', 'N55'), ('mode'...  \n",
       "4  [(add, , [('route_short_name', 'N55'), ('mode'...  "
      ]
     },
     "execution_count": 18,
     "metadata": {},
     "output_type": "execute_result"
    }
   ],
   "source": [
    "n.schedule.change_log().tail()"
   ]
  },
  {
   "cell_type": "markdown",
   "metadata": {},
   "source": [
    "There are no methods to add `Stop` objects on their own. They are added to the Schedule with `Route` and `Service` objects."
   ]
  },
  {
   "cell_type": "markdown",
   "metadata": {},
   "source": [
    "### Routing added Services/Routes\n",
    "\n",
    "You can use methods in GeNet to relate the Stops of PT services and find network routes between them. First you need to know the ID of the Service you want to snap (you can also snap the entire schedule, but depending on the size and complexity of your network and schedule it might take a long time). GeNet will then relate all stops in that service to a link in the Network graph and route all of the `Route`s of the `Service` object. It will do this for directed subsets (subgraphs) of the Service (e.g. if you have a Northbound and Southboud service, the stops may have to find different links in the graph)\n",
    "\n",
    "There are a lot of different parameters you can add to this method, that give you a bit more control. \n",
    "- `solver`: You can specify different mathematical solvers. For example GLPK, an open source solver which can be found here: https://www.gnu.org/software/glpk/. Another good open source choice is CBC: https://projects.coin-or.org/Cbc. You specify it as a string e.g. 'glpk', 'cbc', 'gurobi'. The solver needs to support MILP - mixed integer linear programming\n",
    "- `allow_partial`: Sometimes there isn't a link available for snapping within threshold for all stops. If allowed (default) an artificial self-loop link will be created as well as any connecting links to that unsnapped stop, under modal conditions. If set to False and the problem is partial, it will raise PartialMaxStableSetProblem error instead.\n",
    "- `distance_threshold`, `step_size`: You can vary the threshold for snapping stops to links. There are two parameters, the overall threshold and a step size; when snapping, the search area for links increases in steps until some links are found, we don't use the threshold right away because we don't want to have too many choices for snapping (makes it a little less heavy computationally)).\n",
    "- `additional_modes`: You can specify additional modes (when snapping, genet will consider a modal subset of the network that matches the pt service, e.g. bus, but you might want to use links that allow cars too).\n",
    "- `allow_directional_split`: You can opt for splitting the problem of snapping by direction. GeNet will then solve a series of problems for subgraphs (disjoint w.r.t. edges) of the Service. This is useful for rail type services that might share the same stop regardless of direction (in comparison to buses which have distinct bus stops, depending on which way they're travelling).\n",
    "\n",
    "Check the methods' doc strings for up to date details."
   ]
  },
  {
   "cell_type": "code",
   "execution_count": 19,
   "metadata": {
    "ExecuteTime": {
     "end_time": "2021-10-25T10:28:52.278628Z",
     "start_time": "2021-10-25T10:28:52.263470Z"
    }
   },
   "outputs": [
    {
     "data": {
      "text/plain": [
       "[]"
      ]
     },
     "execution_count": 19,
     "metadata": {},
     "output_type": "execute_result"
    }
   ],
   "source": [
    "n.schedule['new_service'].route('new_route').route"
   ]
  },
  {
   "cell_type": "code",
   "execution_count": 20,
   "metadata": {
    "ExecuteTime": {
     "end_time": "2021-10-25T10:28:52.292426Z",
     "start_time": "2021-10-25T10:28:52.283580Z"
    }
   },
   "outputs": [
    {
     "data": {
      "text/plain": [
       "['490000235X', 'new_stop', 'other_new_stop', '490010689KB']"
      ]
     },
     "execution_count": 20,
     "metadata": {},
     "output_type": "execute_result"
    }
   ],
   "source": [
    "n.schedule['new_service'].route('new_route').ordered_stops"
   ]
  },
  {
   "cell_type": "code",
   "execution_count": 21,
   "metadata": {
    "ExecuteTime": {
     "end_time": "2021-10-25T10:28:59.438057Z",
     "start_time": "2021-10-25T10:28:52.297554Z"
    }
   },
   "outputs": [
    {
     "name": "stderr",
     "output_type": "stream",
     "text": [
      "2021-10-25 11:28:55,733 - Routing Service new_service with modes = {'bus'}\n",
      "2021-10-25 11:28:55,846 - Building Maximum Stable Set for PT graph with 4 stops and 3 edges\n",
      "2021-10-25 11:28:58,420 - This Maximum Stable Set Problem is partially viable.\n",
      "2021-10-25 11:28:58,421 - Maximum Stable Set problem to snap the PT graph to the network is partially viable, meaning not all stops have found a link to snap to within the distance_threshold.Partial snapping is ON, this problem will proceed to the solver.\n",
      "2021-10-25 11:28:58,424 - Passing problem to solver\n",
      "2021-10-25 11:28:58,428 - Initializing ordered Set vertices with a fundamentally unordered data source (type: set).  This WILL potentially lead to nondeterministic behavior in Pyomo\n",
      "2021-10-25 11:28:58,436 - Passing problem to solver\n",
      "2021-10-25 11:28:58,930 - Successfully snapped 3 stops to network links.\n",
      "2021-10-25 11:28:59,034 - Stop ID changes detected for Routes: {'new_route'}\n",
      "2021-10-25 11:28:59,038 - Changed Route attributes for 1 routes\n",
      "2021-10-25 11:28:59,058 - Added 1 nodes\n",
      "2021-10-25 11:28:59,331 - Generated 0 link ids.\n",
      "2021-10-25 11:28:59,353 - Added 2 links\n",
      "2021-10-25 11:28:59,362 - Changed Link attributes for 4 links\n"
     ]
    }
   ],
   "source": [
    "n.route_service('new_service')"
   ]
  },
  {
   "cell_type": "code",
   "execution_count": 22,
   "metadata": {
    "ExecuteTime": {
     "end_time": "2021-10-25T10:28:59.475622Z",
     "start_time": "2021-10-25T10:28:59.452490Z"
    }
   },
   "outputs": [
    {
     "data": {
      "text/plain": [
       "['artificial_link===from:490000235X===to:490000235X',\n",
       " 'artificial_link===from:490000235X===to:9521035',\n",
       " '3154',\n",
       " '979',\n",
       " '980',\n",
       " '981']"
      ]
     },
     "execution_count": 22,
     "metadata": {},
     "output_type": "execute_result"
    }
   ],
   "source": [
    "n.schedule['new_service'].route('new_route').route"
   ]
  },
  {
   "cell_type": "code",
   "execution_count": 23,
   "metadata": {
    "ExecuteTime": {
     "end_time": "2021-10-25T10:28:59.501748Z",
     "start_time": "2021-10-25T10:28:59.492015Z"
    }
   },
   "outputs": [
    {
     "data": {
      "text/plain": [
       "['490000235X.link:artificial_link===from:490000235X===to:490000235X',\n",
       " 'new_stop.link:3154',\n",
       " 'other_new_stop.link:3154',\n",
       " '490010689KB.link:981']"
      ]
     },
     "execution_count": 23,
     "metadata": {},
     "output_type": "execute_result"
    }
   ],
   "source": [
    "n.schedule['new_service'].route('new_route').ordered_stops"
   ]
  },
  {
   "cell_type": "markdown",
   "metadata": {},
   "source": [
    "## Reindexing"
   ]
  },
  {
   "cell_type": "code",
   "execution_count": 24,
   "metadata": {
    "ExecuteTime": {
     "end_time": "2021-10-25T10:28:59.571738Z",
     "start_time": "2021-10-25T10:28:59.509132Z"
    }
   },
   "outputs": [
    {
     "name": "stderr",
     "output_type": "stream",
     "text": [
      "2021-10-25 11:28:59,561 - Reindexed Service from new_service to more_appropriate_id\n"
     ]
    }
   ],
   "source": [
    "n.schedule['new_service'].reindex(new_id='more_appropriate_id')"
   ]
  },
  {
   "cell_type": "code",
   "execution_count": 25,
   "metadata": {
    "ExecuteTime": {
     "end_time": "2021-10-25T10:28:59.589624Z",
     "start_time": "2021-10-25T10:28:59.575245Z"
    }
   },
   "outputs": [
    {
     "name": "stderr",
     "output_type": "stream",
     "text": [
      "2021-10-25 11:28:59,584 - Reindexed Route from new_route to more_appropriate_route_id\n"
     ]
    }
   ],
   "source": [
    "n.schedule.route('new_route').reindex(new_id='more_appropriate_route_id')"
   ]
  },
  {
   "cell_type": "code",
   "execution_count": 26,
   "metadata": {
    "ExecuteTime": {
     "end_time": "2021-10-25T10:28:59.660351Z",
     "start_time": "2021-10-25T10:28:59.591656Z"
    }
   },
   "outputs": [
    {
     "data": {
      "text/html": [
       "<div>\n",
       "<style scoped>\n",
       "    .dataframe tbody tr th:only-of-type {\n",
       "        vertical-align: middle;\n",
       "    }\n",
       "\n",
       "    .dataframe tbody tr th {\n",
       "        vertical-align: top;\n",
       "    }\n",
       "\n",
       "    .dataframe thead th {\n",
       "        text-align: right;\n",
       "    }\n",
       "</style>\n",
       "<table border=\"1\" class=\"dataframe\">\n",
       "  <thead>\n",
       "    <tr style=\"text-align: right;\">\n",
       "      <th></th>\n",
       "      <th>timestamp</th>\n",
       "      <th>change_event</th>\n",
       "      <th>object_type</th>\n",
       "      <th>old_id</th>\n",
       "      <th>new_id</th>\n",
       "      <th>old_attributes</th>\n",
       "      <th>new_attributes</th>\n",
       "      <th>diff</th>\n",
       "    </tr>\n",
       "  </thead>\n",
       "  <tbody>\n",
       "    <tr>\n",
       "      <th>3</th>\n",
       "      <td>2021-10-25 11:28:47</td>\n",
       "      <td>add</td>\n",
       "      <td>route</td>\n",
       "      <td>None</td>\n",
       "      <td>another_new_route_2</td>\n",
       "      <td>None</td>\n",
       "      <td>{'route_short_name': 'N55', 'mode': 'bus', 'tr...</td>\n",
       "      <td>[(add, , [('route_short_name', 'N55'), ('mode'...</td>\n",
       "    </tr>\n",
       "    <tr>\n",
       "      <th>4</th>\n",
       "      <td>2021-10-25 11:28:50</td>\n",
       "      <td>add</td>\n",
       "      <td>route</td>\n",
       "      <td>None</td>\n",
       "      <td>another_new_route_3</td>\n",
       "      <td>None</td>\n",
       "      <td>{'route_short_name': 'N55', 'mode': 'bus', 'tr...</td>\n",
       "      <td>[(add, , [('route_short_name', 'N55'), ('mode'...</td>\n",
       "    </tr>\n",
       "    <tr>\n",
       "      <th>5</th>\n",
       "      <td>2021-10-25 11:28:59</td>\n",
       "      <td>modify</td>\n",
       "      <td>route</td>\n",
       "      <td>new_route</td>\n",
       "      <td>new_route</td>\n",
       "      <td>{'route_short_name': 'N55', 'mode': 'bus', 'tr...</td>\n",
       "      <td>{'route_short_name': 'N55', 'mode': 'bus', 'tr...</td>\n",
       "      <td>[(add, route, [(0, 'artificial_link===from:490...</td>\n",
       "    </tr>\n",
       "    <tr>\n",
       "      <th>6</th>\n",
       "      <td>2021-10-25 11:28:59</td>\n",
       "      <td>modify</td>\n",
       "      <td>service</td>\n",
       "      <td>new_service</td>\n",
       "      <td>more_appropriate_id</td>\n",
       "      <td>{'id': 'new_service'}</td>\n",
       "      <td>{'id': 'more_appropriate_id'}</td>\n",
       "      <td>[(change, id, (new_service, more_appropriate_i...</td>\n",
       "    </tr>\n",
       "    <tr>\n",
       "      <th>7</th>\n",
       "      <td>2021-10-25 11:28:59</td>\n",
       "      <td>modify</td>\n",
       "      <td>route</td>\n",
       "      <td>new_route</td>\n",
       "      <td>more_appropriate_route_id</td>\n",
       "      <td>{'id': 'new_route'}</td>\n",
       "      <td>{'id': 'more_appropriate_route_id'}</td>\n",
       "      <td>[(change, id, (new_route, more_appropriate_rou...</td>\n",
       "    </tr>\n",
       "  </tbody>\n",
       "</table>\n",
       "</div>"
      ],
      "text/plain": [
       "             timestamp change_event object_type       old_id  \\\n",
       "3  2021-10-25 11:28:47          add       route         None   \n",
       "4  2021-10-25 11:28:50          add       route         None   \n",
       "5  2021-10-25 11:28:59       modify       route    new_route   \n",
       "6  2021-10-25 11:28:59       modify     service  new_service   \n",
       "7  2021-10-25 11:28:59       modify       route    new_route   \n",
       "\n",
       "                      new_id  \\\n",
       "3        another_new_route_2   \n",
       "4        another_new_route_3   \n",
       "5                  new_route   \n",
       "6        more_appropriate_id   \n",
       "7  more_appropriate_route_id   \n",
       "\n",
       "                                      old_attributes  \\\n",
       "3                                               None   \n",
       "4                                               None   \n",
       "5  {'route_short_name': 'N55', 'mode': 'bus', 'tr...   \n",
       "6                              {'id': 'new_service'}   \n",
       "7                                {'id': 'new_route'}   \n",
       "\n",
       "                                      new_attributes  \\\n",
       "3  {'route_short_name': 'N55', 'mode': 'bus', 'tr...   \n",
       "4  {'route_short_name': 'N55', 'mode': 'bus', 'tr...   \n",
       "5  {'route_short_name': 'N55', 'mode': 'bus', 'tr...   \n",
       "6                      {'id': 'more_appropriate_id'}   \n",
       "7                {'id': 'more_appropriate_route_id'}   \n",
       "\n",
       "                                                diff  \n",
       "3  [(add, , [('route_short_name', 'N55'), ('mode'...  \n",
       "4  [(add, , [('route_short_name', 'N55'), ('mode'...  \n",
       "5  [(add, route, [(0, 'artificial_link===from:490...  \n",
       "6  [(change, id, (new_service, more_appropriate_i...  \n",
       "7  [(change, id, (new_route, more_appropriate_rou...  "
      ]
     },
     "execution_count": 26,
     "metadata": {},
     "output_type": "execute_result"
    }
   ],
   "source": [
    "n.schedule.change_log().tail()"
   ]
  },
  {
   "cell_type": "markdown",
   "metadata": {},
   "source": [
    "## Removing Stops, Routes, Services"
   ]
  },
  {
   "cell_type": "code",
   "execution_count": 27,
   "metadata": {
    "ExecuteTime": {
     "end_time": "2021-10-25T10:29:00.301325Z",
     "start_time": "2021-10-25T10:28:59.666474Z"
    }
   },
   "outputs": [
    {
     "name": "stderr",
     "output_type": "stream",
     "text": [
      "/Users/kasia.kozlowska/PycharmProjects/ABM/genet/genet/schedule_elements.py:1243: UserWarning: DataFrame columns are not unique, some columns will be omitted.\n",
      "  self.vehicles = {**df.T.to_dict(), **self.vehicles}\n",
      "2021-10-25 11:29:00,295 - Removed Service with index `more_appropriate_id`, data={'id': 'more_appropriate_id', 'name': 'N55'} and Routes: {'more_appropriate_route_id'}\n"
     ]
    }
   ],
   "source": [
    "n.schedule.remove_service('more_appropriate_id')"
   ]
  },
  {
   "cell_type": "code",
   "execution_count": 28,
   "metadata": {
    "ExecuteTime": {
     "end_time": "2021-10-25T10:29:01.726967Z",
     "start_time": "2021-10-25T10:29:00.310269Z"
    }
   },
   "outputs": [
    {
     "name": "stderr",
     "output_type": "stream",
     "text": [
      "2021-10-25 11:29:00,799 - Removed Route with index `another_new_route_3`, data={'route_short_name': 'N55', 'mode': 'bus', 'trips': {'trip_id': ['fun_trip_1', 'fun_trip_2'], 'trip_departure_time': ['03:53:00', '16:23:00'], 'vehicle_id': ['fun_bus_1', 'fun_bus_2']}, 'arrival_offsets': ['00:00:00', '00:02:00', '00:04:00', '00:06:00'], 'departure_offsets': ['00:00:00', '00:02:00', '00:04:00', '00:06:00'], 'route_long_name': '', 'id': 'another_new_route_3', 'route': [], 'await_departure': [True, True, True, True], 'ordered_stops': ['490000235X.link:834', 'new_stop', 'other_new_stop', '490010689KB.link:981']}. It was linked to Service `20274`.\n",
      "2021-10-25 11:29:01,203 - Removed Route with index `another_new_route_2`, data={'route_short_name': 'N55', 'mode': 'bus', 'trips': {'trip_id': ['some_trip_1'], 'trip_departure_time': ['16:23:00'], 'vehicle_id': ['some_bus_2']}, 'arrival_offsets': ['00:00:00', '00:06:00'], 'departure_offsets': ['00:00:00', '00:06:00'], 'route_long_name': '', 'id': 'another_new_route_2', 'route': [], 'await_departure': [True, True], 'ordered_stops': ['490000235X.link:834', '490010689KB.link:981']}. It was linked to Service `20274`.\n",
      "2021-10-25 11:29:01,723 - Removed Route with index `another_new_route`, data={'route_short_name': 'N55', 'mode': 'bus', 'trips': {'trip_id': ['some_trip_1'], 'trip_departure_time': ['16:23:00'], 'vehicle_id': ['some_bus_2']}, 'arrival_offsets': ['00:00:00', '00:06:00'], 'departure_offsets': ['00:00:00', '00:06:00'], 'route_long_name': '', 'id': 'another_new_route', 'route': [], 'await_departure': [True, True], 'ordered_stops': ['490000235X.link:834', '490010689KB.link:981']}. It was linked to Service `20274`.\n"
     ]
    }
   ],
   "source": [
    "for route_id in {'another_new_route', 'another_new_route_2', 'another_new_route_3'}:\n",
    "    n.schedule.remove_route(route_id)"
   ]
  },
  {
   "cell_type": "code",
   "execution_count": 29,
   "metadata": {
    "ExecuteTime": {
     "end_time": "2021-10-25T10:29:01.797179Z",
     "start_time": "2021-10-25T10:29:01.733710Z"
    }
   },
   "outputs": [
    {
     "data": {
      "text/html": [
       "<div>\n",
       "<style scoped>\n",
       "    .dataframe tbody tr th:only-of-type {\n",
       "        vertical-align: middle;\n",
       "    }\n",
       "\n",
       "    .dataframe tbody tr th {\n",
       "        vertical-align: top;\n",
       "    }\n",
       "\n",
       "    .dataframe thead th {\n",
       "        text-align: right;\n",
       "    }\n",
       "</style>\n",
       "<table border=\"1\" class=\"dataframe\">\n",
       "  <thead>\n",
       "    <tr style=\"text-align: right;\">\n",
       "      <th></th>\n",
       "      <th>timestamp</th>\n",
       "      <th>change_event</th>\n",
       "      <th>object_type</th>\n",
       "      <th>old_id</th>\n",
       "      <th>new_id</th>\n",
       "      <th>old_attributes</th>\n",
       "      <th>new_attributes</th>\n",
       "      <th>diff</th>\n",
       "    </tr>\n",
       "  </thead>\n",
       "  <tbody>\n",
       "    <tr>\n",
       "      <th>7</th>\n",
       "      <td>2021-10-25 11:28:59</td>\n",
       "      <td>modify</td>\n",
       "      <td>route</td>\n",
       "      <td>new_route</td>\n",
       "      <td>more_appropriate_route_id</td>\n",
       "      <td>{'id': 'new_route'}</td>\n",
       "      <td>{'id': 'more_appropriate_route_id'}</td>\n",
       "      <td>[(change, id, (new_route, more_appropriate_rou...</td>\n",
       "    </tr>\n",
       "    <tr>\n",
       "      <th>8</th>\n",
       "      <td>2021-10-25 11:28:59</td>\n",
       "      <td>remove</td>\n",
       "      <td>service</td>\n",
       "      <td>more_appropriate_id</td>\n",
       "      <td>None</td>\n",
       "      <td>{'id': 'more_appropriate_id', 'name': 'N55'}</td>\n",
       "      <td>None</td>\n",
       "      <td>[(remove, , [('id', 'more_appropriate_id'), ('...</td>\n",
       "    </tr>\n",
       "    <tr>\n",
       "      <th>9</th>\n",
       "      <td>2021-10-25 11:29:00</td>\n",
       "      <td>remove</td>\n",
       "      <td>route</td>\n",
       "      <td>another_new_route_3</td>\n",
       "      <td>None</td>\n",
       "      <td>{'route_short_name': 'N55', 'mode': 'bus', 'tr...</td>\n",
       "      <td>None</td>\n",
       "      <td>[(remove, , [('route_short_name', 'N55'), ('mo...</td>\n",
       "    </tr>\n",
       "    <tr>\n",
       "      <th>10</th>\n",
       "      <td>2021-10-25 11:29:00</td>\n",
       "      <td>remove</td>\n",
       "      <td>route</td>\n",
       "      <td>another_new_route_2</td>\n",
       "      <td>None</td>\n",
       "      <td>{'route_short_name': 'N55', 'mode': 'bus', 'tr...</td>\n",
       "      <td>None</td>\n",
       "      <td>[(remove, , [('route_short_name', 'N55'), ('mo...</td>\n",
       "    </tr>\n",
       "    <tr>\n",
       "      <th>11</th>\n",
       "      <td>2021-10-25 11:29:01</td>\n",
       "      <td>remove</td>\n",
       "      <td>route</td>\n",
       "      <td>another_new_route</td>\n",
       "      <td>None</td>\n",
       "      <td>{'route_short_name': 'N55', 'mode': 'bus', 'tr...</td>\n",
       "      <td>None</td>\n",
       "      <td>[(remove, , [('route_short_name', 'N55'), ('mo...</td>\n",
       "    </tr>\n",
       "  </tbody>\n",
       "</table>\n",
       "</div>"
      ],
      "text/plain": [
       "              timestamp change_event object_type               old_id  \\\n",
       "7   2021-10-25 11:28:59       modify       route            new_route   \n",
       "8   2021-10-25 11:28:59       remove     service  more_appropriate_id   \n",
       "9   2021-10-25 11:29:00       remove       route  another_new_route_3   \n",
       "10  2021-10-25 11:29:00       remove       route  another_new_route_2   \n",
       "11  2021-10-25 11:29:01       remove       route    another_new_route   \n",
       "\n",
       "                       new_id  \\\n",
       "7   more_appropriate_route_id   \n",
       "8                        None   \n",
       "9                        None   \n",
       "10                       None   \n",
       "11                       None   \n",
       "\n",
       "                                       old_attributes  \\\n",
       "7                                 {'id': 'new_route'}   \n",
       "8        {'id': 'more_appropriate_id', 'name': 'N55'}   \n",
       "9   {'route_short_name': 'N55', 'mode': 'bus', 'tr...   \n",
       "10  {'route_short_name': 'N55', 'mode': 'bus', 'tr...   \n",
       "11  {'route_short_name': 'N55', 'mode': 'bus', 'tr...   \n",
       "\n",
       "                         new_attributes  \\\n",
       "7   {'id': 'more_appropriate_route_id'}   \n",
       "8                                  None   \n",
       "9                                  None   \n",
       "10                                 None   \n",
       "11                                 None   \n",
       "\n",
       "                                                 diff  \n",
       "7   [(change, id, (new_route, more_appropriate_rou...  \n",
       "8   [(remove, , [('id', 'more_appropriate_id'), ('...  \n",
       "9   [(remove, , [('route_short_name', 'N55'), ('mo...  \n",
       "10  [(remove, , [('route_short_name', 'N55'), ('mo...  \n",
       "11  [(remove, , [('route_short_name', 'N55'), ('mo...  "
      ]
     },
     "execution_count": 29,
     "metadata": {},
     "output_type": "execute_result"
    }
   ],
   "source": [
    "n.schedule.change_log().tail()"
   ]
  },
  {
   "cell_type": "markdown",
   "metadata": {},
   "source": [
    "You can also remove `Stop`s. This will disconnect `Route`s and `Service`s using that `Stop`s and likely render them invalid. The method will warn you which `Route`s and `Servce`s are affected."
   ]
  },
  {
   "cell_type": "code",
   "execution_count": 30,
   "metadata": {
    "ExecuteTime": {
     "end_time": "2021-10-25T10:29:01.827213Z",
     "start_time": "2021-10-25T10:29:01.804194Z"
    }
   },
   "outputs": [
    {
     "name": "stderr",
     "output_type": "stream",
     "text": [
      "2021-10-25 11:29:01,822 - Removed Stop with index `new_stop`, data={'id': 'new_stop', 'x': 529500.0, 'y': 181300.0, 'epsg': 'epsg:27700', 'name': 'New Stop', 'lon': -0.13507680987440782, 'lat': 51.51578819710294, 's2_id': 5221390696585158415}. Routes affected: {'20274_4'}. Services affected: {'20274'}.\n"
     ]
    }
   ],
   "source": [
    "n.schedule.remove_stop('new_stop')"
   ]
  },
  {
   "cell_type": "markdown",
   "metadata": {},
   "source": [
    "You can also remove `Stop`s. This will disconnect `Route`s and `Service`s using that `Stop`s and likely render them invalid. The method will warn you which `Route`s and `Servce`s are affected."
   ]
  },
  {
   "cell_type": "code",
   "execution_count": 31,
   "metadata": {
    "ExecuteTime": {
     "end_time": "2021-10-25T10:29:02.677771Z",
     "start_time": "2021-10-25T10:29:01.834739Z"
    }
   },
   "outputs": [
    {
     "name": "stderr",
     "output_type": "stream",
     "text": [
      "2021-10-25 11:29:01,885 - Removed Stop with index `490014214HE`, data={'id': '490014214HE', 'x': 529477.7501560802, 'y': 181314.43704307207, 'epsg': 'epsg:27700', 'name': 'Wardour Street (Stop OM)', 'lon': -0.13539198709361353, 'lat': 51.5159230332408, 's2_id': 5221390691069029927, 'isBlocking': 'false'}. Routes affected: set(). Services affected: set().\n",
      "2021-10-25 11:29:01,897 - Removed Stop with index `490015042U`, data={'id': '490015042U', 'x': 529237.7588612114, 'y': 182408.0661155618, 'epsg': 'epsg:27700', 'name': 'Warren Street Stn  Euston Rd (Stop U)', 'lon': -0.13844798708907116, 'lat': 51.525806033239135, 's2_id': 5221390675812541383, 'isBlocking': 'false'}. Routes affected: set(). Services affected: set().\n",
      "2021-10-25 11:29:01,914 - Removed Stop with index `490010531OS`, data={'id': '490010531OS', 'x': 528716.7250075269, 'y': 181154.11781636789, 'epsg': 'epsg:27700', 'name': 'New Bond Street (Stop OS)', 'lon': -0.1464119870992024, 'lat': 51.51465603324086, 's2_id': 5221366501632406567, 'isBlocking': 'false'}. Routes affected: set(). Services affected: set().\n",
      "2021-10-25 11:29:01,955 - Removed Stop with index `9400ZZLURGP2`, data={'id': '9400ZZLURGP2', 'x': 528704.7613223545, 'y': 182092.31008630985, 'epsg': 'epsg:27700', 'name': \"Regent's Park Underground Station\", 'lon': -0.14624198709410974, 'lat': 51.52309003323949, 's2_id': 5221390329386076927, 'stopAreaId': '940GZZLURGP', 'isBlocking': 'false'}. Routes affected: set(). Services affected: set().\n",
      "2021-10-25 11:29:01,969 - Removed Stop with index `490005084Z`, data={'id': '490005084Z', 'x': 529548.7873136688, 'y': 181834.01469327847, 'epsg': 'epsg:27700', 'name': 'Goodge Street Station', 'lon': -0.13417798709031087, 'lat': 51.52057603324007, 's2_id': 5221390705119956903, 'isBlocking': 'false'}. Routes affected: set(). Services affected: set().\n",
      "2021-10-25 11:29:01,982 - Removed Stop with index `490000356NE`, data={'id': '490000356NE', 'x': 529854.787997603, 'y': 181481.06861471198, 'epsg': 'epsg:27700', 'name': 'Tottenham Court Road  Great Russell Street', 'lon': -0.12989998709036796, 'lat': 51.517334033240644, 's2_id': 5221390700112987879, 'isBlocking': 'false'}. Routes affected: set(). Services affected: set().\n",
      "2021-10-25 11:29:01,991 - Removed Stop with index `490002124ZZ`, data={'id': '490002124ZZ', 'x': 529737.7933655808, 'y': 181560.4244781675, 'epsg': 'epsg:27700', 'name': 'Stephen Street (Stop B)', 'lon': -0.13155598709065314, 'lat': 51.51807403324048, 's2_id': 5221390701017042117, 'isBlocking': 'false'}. Routes affected: set(). Services affected: set().\n",
      "2021-10-25 11:29:01,999 - Removed Stop with index `490010531W`, data={'id': '490010531W', 'x': 528736.7539280347, 'y': 181171.98408505222, 'epsg': 'epsg:27700', 'name': 'New Bond Street (Stop OE)', 'lon': -0.14611698709898094, 'lat': 51.51481203324085, 's2_id': 5221366501610481045, 'isBlocking': 'false'}. Routes affected: set(). Services affected: set().\n",
      "2021-10-25 11:29:02,007 - Removed Stop with index `9400ZZLUOXC1`, data={'id': '9400ZZLUOXC1', 'x': 529066.7447596977, 'y': 181243.22498975584, 'epsg': 'epsg:27700', 'name': 'Oxford Circus Underground Station', 'lon': -0.14133798709654735, 'lat': 51.51537703324081, 's2_id': 5221390321474949629, 'stopAreaId': '940GZZLUOXC', 'isBlocking': 'false'}. Routes affected: set(). Services affected: set().\n",
      "2021-10-25 11:29:02,034 - Removed Stop with index `490015196N`, data={'id': '490015196N', 'x': 528843.7492656803, 'y': 181232.00244975724, 'epsg': 'epsg:27700', 'name': 'Holles Street', 'lon': -0.14455398709798775, 'lat': 51.51532703324077, 's2_id': 5221390319339875719, 'isBlocking': 'false'}. Routes affected: set(). Services affected: set().\n",
      "2021-10-25 11:29:02,050 - Removed Stop with index `490000173Z`, data={'id': '490000173Z', 'x': 528907.7584933704, 'y': 181229.39729146822, 'epsg': 'epsg:27700', 'name': 'Oxford Circus (Stop OH)', 'lon': -0.14363298709760586, 'lat': 51.51528903324081, 's2_id': 5221390320807007481, 'isBlocking': 'false'}. Routes affected: set(). Services affected: set().\n",
      "2021-10-25 11:29:02,060 - Removed Stop with index `490007807E`, data={'id': '490007807E', 'x': 528476.7267725631, 'y': 182117.13888549892, 'epsg': 'epsg:27700', 'name': 'Harley Street (Stop M)', 'lon': -0.14951798709538494, 'lat': 51.52336503323941, 's2_id': 5221390302825319969, 'isBlocking': 'false'}. Routes affected: set(). Services affected: set().\n",
      "2021-10-25 11:29:02,068 - Removed Stop with index `9400ZZLUOXC2`, data={'id': '9400ZZLUOXC2', 'x': 529002.7357932694, 'y': 181284.1068964149, 'epsg': 'epsg:27700', 'name': 'Oxford Circus Underground Station', 'lon': -0.14224498709671718, 'lat': 51.51575903324075, 's2_id': 5221390321304111883, 'stopAreaId': '940GZZLUOXC', 'isBlocking': 'false'}. Routes affected: set(). Services affected: set().\n",
      "2021-10-25 11:29:02,075 - Removed Stop with index `490002121ZT`, data={'id': '490002121ZT', 'x': 529412.7885750805, 'y': 182052.21048454626, 'epsg': 'epsg:27700', 'name': 'Capper Street (Stop N)', 'lon': -0.13605698708995015, 'lat': 51.52256803323971, 's2_id': 5221390681543854913, 'isBlocking': 'false'}. Routes affected: set(). Services affected: set().\n",
      "2021-10-25 11:29:02,081 - Removed Stop with index `490000173RD`, data={'id': '490000173RD', 'x': 528966.7250584327, 'y': 181417.2797308719, 'epsg': 'epsg:27700', 'name': 'Margaret Street Oxford Circus (Stop RD)', 'lon': -0.14271498709620548, 'lat': 51.51696403324052, 's2_id': 5221390320340886169, 'isBlocking': 'false'}. Routes affected: set(). Services affected: set().\n",
      "2021-10-25 11:29:02,087 - Removed Stop with index `490000235V`, data={'id': '490000235V', 'x': 529716.7238324936, 'y': 181371.3848181052, 'epsg': 'epsg:27700', 'name': 'Tottenham Court Road Station (Stop V)', 'lon': -0.1319289870918254, 'lat': 51.51638003324076, 's2_id': 5221390698590575743, 'isBlocking': 'false'}. Routes affected: set(). Services affected: set().\n",
      "2021-10-25 11:29:02,093 - Removed Stop with index `9400ZZLUGDG1`, data={'id': '9400ZZLUGDG1', 'x': 529528.7432046565, 'y': 181844.18614713819, 'epsg': 'epsg:27700', 'name': 'Goodge Street Underground Station', 'lon': -0.13446298709038043, 'lat': 51.52067203324001, 's2_id': 5221390705308801121, 'stopAreaId': '940GZZLUGDG', 'isBlocking': 'false'}. Routes affected: set(). Services affected: set().\n",
      "2021-10-25 11:29:02,098 - Removed Stop with index `9400ZZLUTCR1`, data={'id': '9400ZZLUTCR1', 'x': 529744.7467207713, 'y': 181375.10469678615, 'epsg': 'epsg:27700', 'name': 'Tottenham Court Road Underground Station', 'lon': -0.1315239870916317, 'lat': 51.51640703324076, 's2_id': 5221390698477721021, 'stopAreaId': '940GZZLUTCR', 'isBlocking': 'false'}. Routes affected: set(). Services affected: set().\n",
      "2021-10-25 11:29:02,106 - Removed Stop with index `490000173W`, data={'id': '490000173W', 'x': 528819.7305995768, 'y': 181177.09121090674, 'epsg': 'epsg:27700', 'name': 'Oxford Street  John Lewis (Stop OV)', 'lon': -0.14491998709843892, 'lat': 51.51483903324084, 's2_id': 5221366501084237637, 'isBlocking': 'false'}. Routes affected: set(). Services affected: set().\n",
      "2021-10-25 11:29:02,118 - Removed Stop with index `490015196R`, data={'id': '490015196R', 'x': 528793.7718335354, 'y': 181171.3145886244, 'epsg': 'epsg:27700', 'name': 'Oxford Street  John Lewis (Stop OR)', 'lon': -0.14529598709863245, 'lat': 51.51479303324084, 's2_id': 5221366501121099409, 'isBlocking': 'false'}. Routes affected: set(). Services affected: set().\n",
      "2021-10-25 11:29:02,126 - Removed Stop with index `9400ZZLUWRR1`, data={'id': '9400ZZLUWRR1', 'x': 529289.7996926662, 'y': 182245.1471524262, 'epsg': 'epsg:27700', 'name': 'Warren Street Underground Station', 'lon': -0.13775798708964618, 'lat': 51.52433003323939, 's2_id': 5221390678937476015, 'stopAreaId': '940GZZLUWRR', 'isBlocking': 'false'}. Routes affected: set(). Services affected: set().\n",
      "2021-10-25 11:29:02,148 - Removed Stop with index `490000235N`, data={'id': '490000235N', 'x': 529940.7342809836, 'y': 181337.27121022658, 'epsg': 'epsg:27700', 'name': 'Tottenham Court Road Station (Stop T)', 'lon': -0.1287149870906311, 'lat': 51.51602203324083, 's2_id': 5221390722292015723, 'isBlocking': 'false'}. Routes affected: set(). Services affected: set().\n",
      "2021-10-25 11:29:02,159 - Removed Stop with index `490000173RG`, data={'id': '490000173RG', 'x': 529047.7330732123, 'y': 181155.27965510602, 'epsg': 'epsg:27700', 'name': 'Oxford Circus (Stop RG)', 'lon': -0.1416439870971484, 'lat': 51.51459103324095, 's2_id': 5221366498849206815, 'isBlocking': 'false'}. Routes affected: set(). Services affected: set().\n"
     ]
    },
    {
     "name": "stderr",
     "output_type": "stream",
     "text": [
      "2021-10-25 11:29:02,166 - Removed Stop with index `490000252S`, data={'id': '490000252S', 'x': 529222.7900227709, 'y': 182423.4864806903, 'epsg': 'epsg:27700', 'name': 'Drummond Street (Stop S)', 'lon': -0.138657987089078, 'lat': 51.525948033239096, 's2_id': 5221390675795688803, 'isBlocking': 'false'}. Routes affected: set(). Services affected: set().\n",
      "2021-10-25 11:29:02,174 - Removed Stop with index `490000078P`, data={'id': '490000078P', 'x': 529455.7452394223, 'y': 182401.37630677427, 'epsg': 'epsg:27700', 'name': 'Euston Square (Stop P)', 'lon': -0.13530998708775915, 'lat': 51.525696033239186, 's2_id': 5221390668020036699, 'isBlocking': 'false'}. Routes affected: set(). Services affected: set().\n",
      "2021-10-25 11:29:02,186 - Removed Stop with index `490004695A`, data={'id': '490004695A', 'x': 529871.7640650324, 'y': 181148.23017527343, 'epsg': 'epsg:27700', 'name': 'Denmark Street (Stop A)', 'lon': -0.12977798709209976, 'lat': 51.514339033241114, 's2_id': 5221366120918541515, 'isBlocking': 'false'}. Routes affected: set(). Services affected: set().\n",
      "2021-10-25 11:29:02,196 - Removed Stop with index `490011126K`, data={'id': '490011126K', 'x': 528774.7671302322, 'y': 181814.3378378136, 'epsg': 'epsg:27700', 'name': 'Portland Place (Stop K)', 'lon': -0.14533498709520687, 'lat': 51.52057603323991, 's2_id': 5221390326970606487, 'isBlocking': 'false'}. Routes affected: set(). Services affected: set().\n",
      "2021-10-25 11:29:02,204 - Removed Stop with index `490000235C`, data={'id': '490000235C', 'x': 529741.7651502674, 'y': 181516.3492589303, 'epsg': 'epsg:27700', 'name': 'Tottenham Court Road Station (Stop C)', 'lon': -0.13151498709087225, 'lat': 51.51767703324057, 's2_id': 5221390700893078413, 'isBlocking': 'false'}. Routes affected: set(). Services affected: set().\n",
      "2021-10-25 11:29:02,211 - Removed Stop with index `490000252KA`, data={'id': '490000252KA', 'x': 529167.7808792109, 'y': 182307.47336101992, 'epsg': 'epsg:27700', 'name': 'Warren Street Station (Stop KA)', 'lon': -0.13949298709005897, 'lat': 51.52491803323928, 's2_id': 5221390678522217327, 'isBlocking': 'false'}. Routes affected: set(). Services affected: set().\n",
      "2021-10-25 11:29:02,220 - Removed Stop with index `490000173RC`, data={'id': '490000173RC', 'x': 529030.7471738418, 'y': 181143.38697923813, 'epsg': 'epsg:27700', 'name': 'Oxford Circus (Stop RC)', 'lon': -0.14189298709732065, 'lat': 51.514488033240944, 's2_id': 5221366498899630869, 'isBlocking': 'false'}. Routes affected: set(). Services affected: set().\n",
      "2021-10-25 11:29:02,225 - Removed Stop with index `490000235X.link:artificial_link===from:490000235X===to:490000235X`, data={'id': '490000235X.link:artificial_link===from:490000235X===to:490000235X', 'x': 529981.7958802709, 'y': 181412.0975758662, 'epsg': 'epsg:27700', 'name': 'Tottenham Court Road Station (Stop X)', 'lon': -0.12809598708996447, 'lat': 51.51668503324075, 's2_id': 5221390722025467597, 'isBlocking': 'false', 'linkRefId': 'artificial_link===from:490000235X===to:490000235X', 'stop_id': '490000235X'}. Routes affected: set(). Services affected: set().\n",
      "2021-10-25 11:29:02,231 - Removed Stop with index `490010689OJ`, data={'id': '490010689OJ', 'x': 529227.7730568129, 'y': 181280.47750718985, 'epsg': 'epsg:27700', 'name': 'Great Titchfield Street  Oxford Circus Station (Stop OJ)', 'lon': -0.13900498709534623, 'lat': 51.51567503324077, 's2_id': 5221390688502742997, 'isBlocking': 'false'}. Routes affected: set(). Services affected: set().\n",
      "2021-10-25 11:29:02,238 - Removed Stop with index `4900020147W`, data={'id': '4900020147W', 'x': 529361.7737897219, 'y': 182346.34885162022, 'epsg': 'epsg:27700', 'name': 'University College Hosp Warren Street Stn (Stop W)', 'lon': -0.1366839870886439, 'lat': 51.52522303323926, 's2_id': 5221390679269989303, 'isBlocking': 'false'}. Routes affected: set(). Services affected: set().\n",
      "2021-10-25 11:29:02,245 - Removed Stop with index `9400ZZLUESQ1`, data={'id': '9400ZZLUESQ1', 'x': 529457.8023702999, 'y': 182394.19578770327, 'epsg': 'epsg:27700', 'name': 'Euston Square Underground Station', 'lon': -0.13528298708778735, 'lat': 51.52563103323921, 's2_id': 5221390668021772289, 'stopAreaId': '940GZZLUESQ', 'isBlocking': 'false'}. Routes affected: set(). Services affected: set().\n",
      "2021-10-25 11:29:02,252 - Removed Stop with index `490000091E`, data={'id': '490000091E', 'x': 528867.770390693, 'y': 182083.31184164743, 'epsg': 'epsg:27700', 'name': 'Great Portland Street (Stop E)', 'lon': -0.14389698709314874, 'lat': 51.52297203323953, 's2_id': 5221390331561547709, 'isBlocking': 'false'}. Routes affected: set(). Services affected: set().\n",
      "2021-10-25 11:29:02,265 - Removed Stop with index `other_new_stop.link:3154`, data={'id': 'other_new_stop.link:3154', 'x': 529502.0, 'y': 181302.0, 'epsg': 'epsg:27700', 'name': 'Other New Stop', 'lon': -0.1350472687576662, 'lat': 51.515805712413496, 's2_id': 5221390696583632715, 'linkRefId': '3154', 'stop_id': 'other_new_stop'}. Routes affected: set(). Services affected: set().\n",
      "2021-10-25 11:29:02,293 - Removed Stop with index `490000191B`, data={'id': '490000191B', 'x': 528679.7402471425, 'y': 182151.09728065133, 'epsg': 'epsg:27700', 'name': \"Regent's Park (Stop B)\", 'lon': -0.14658098709393952, 'lat': 51.52362403323941, 's2_id': 5221390329572045363, 'isBlocking': 'false'}. Routes affected: set(). Services affected: set().\n",
      "2021-10-25 11:29:02,301 - Removed Stop with index `490000173RF`, data={'id': '490000173RF', 'x': 529005.768975204, 'y': 181304.1022004814, 'epsg': 'epsg:27700', 'name': 'Oxford Circus Stn Margaret St (Stop RF)', 'lon': -0.14219398709658915, 'lat': 51.515938033240694, 's2_id': 5221390321206763685, 'isBlocking': 'false'}. Routes affected: set(). Services affected: set().\n",
      "2021-10-25 11:29:02,309 - Removed Stop with index `9400ZZLUTCR3`, data={'id': '9400ZZLUTCR3', 'x': 529825.7592661118, 'y': 181321.09061689116, 'epsg': 'epsg:27700', 'name': 'Tottenham Court Road Underground Station', 'lon': -0.1303769870914284, 'lat': 51.51590303324084, 's2_id': 5221390699256347303, 'stopAreaId': '940GZZLUTCR', 'isBlocking': 'false'}. Routes affected: set(). Services affected: set().\n",
      "2021-10-25 11:29:02,316 - Removed Stop with index `9400ZZLUOXC3`, data={'id': '9400ZZLUOXC3', 'x': 529015.7510730226, 'y': 181280.097575391, 'epsg': 'epsg:27700', 'name': 'Oxford Circus Underground Station', 'lon': -0.1420589870966604, 'lat': 51.51572003324073, 's2_id': 5221390321284714501, 'stopAreaId': '940GZZLUOXC', 'isBlocking': 'false'}. Routes affected: set(). Services affected: set().\n",
      "2021-10-25 11:29:02,324 - Removed Stop with index `490010198W`, data={'id': '490010198W', 'x': 528880.7296578337, 'y': 181739.3543585685, 'epsg': 'epsg:27700', 'name': 'New Cavendish Street', 'lon': -0.14383598709496287, 'lat': 51.51987803324006, 's2_id': 5221390323679791843, 'isBlocking': 'false'}. Routes affected: set(). Services affected: set().\n",
      "2021-10-25 11:29:02,333 - Removed Stop with index `9400ZZLUTCR4`, data={'id': '9400ZZLUTCR4', 'x': 529825.787229313, 'y': 181325.43110254267, 'epsg': 'epsg:27700', 'name': 'Tottenham Court Road Underground Station', 'lon': -0.13037498709140638, 'lat': 51.51594203324084, 's2_id': 5221390699165819119, 'stopAreaId': '940GZZLUTCR', 'isBlocking': 'false'}. Routes affected: set(). Services affected: set().\n",
      "2021-10-25 11:29:02,340 - Removed Stop with index `490019675D`, data={'id': '490019675D', 'x': 528848.77991065, 'y': 182331.19702162553, 'epsg': 'epsg:27700', 'name': 'Euston Road (Stop D)', 'lon': -0.14407998709190123, 'lat': 51.525204033239184, 's2_id': 5221390330835155327, 'isBlocking': 'false'}. Routes affected: set(). Services affected: set().\n",
      "2021-10-25 11:29:02,351 - Removed Stop with index `490000091F`, data={'id': '490000091F', 'x': 528839.7441194298, 'y': 182137.34852809936, 'epsg': 'epsg:27700', 'name': 'Great Portland Street (Stop F)', 'lon': -0.14428098709302548, 'lat': 51.523464033239456, 's2_id': 5221390328848196789, 'isBlocking': 'false'}. Routes affected: set(). Services affected: set().\n",
      "2021-10-25 11:29:02,360 - Removed Stop with index `490015196OF`, data={'id': '490015196OF', 'x': 528832.7597702648, 'y': 181194.4466185941, 'epsg': 'epsg:27700', 'name': 'Oxford Circus Station  John Lewis (Stop OF)', 'lon': -0.14472598709826212, 'lat': 51.514992033240816, 's2_id': 5221390319261602009, 'isBlocking': 'false'}. Routes affected: set(). Services affected: set().\n"
     ]
    },
    {
     "name": "stderr",
     "output_type": "stream",
     "text": [
      "2021-10-25 11:29:02,370 - Removed Stop with index `490010689KB.link:981`, data={'id': '490010689KB.link:981', 'x': 529166.7349732723, 'y': 181256.33672284335, 'epsg': 'epsg:27700', 'name': 'Great Titchfield Street  Oxford Circus Station (Stop OP)', 'lon': -0.13989298709585662, 'lat': 51.51547203324081, 's2_id': 5221390688151572763, 'linkRefId': '981', 'isBlocking': 'false', 'stop_id': '490010689KB'}. Routes affected: set(). Services affected: set().\n",
      "2021-10-25 11:29:02,381 - Removed Stop with index `490000091H`, data={'id': '490000091H', 'x': 528934.7945010976, 'y': 182202.18554864498, 'epsg': 'epsg:27700', 'name': 'Great Portland Street (Stop H)', 'lon': -0.14288798709207978, 'lat': 51.52402503323941, 's2_id': 5221390331888332895, 'isBlocking': 'false'}. Routes affected: set(). Services affected: set().\n",
      "2021-10-25 11:29:02,407 - Removed Stop with index `9400ZZLUOXC4`, data={'id': '9400ZZLUOXC4', 'x': 529004.7147708246, 'y': 181277.2580580855, 'epsg': 'epsg:27700', 'name': 'Oxford Circus Underground Station', 'lon': -0.14221898709674244, 'lat': 51.515697033240734, 's2_id': 5221390321292658545, 'stopAreaId': '940GZZLUOXC', 'isBlocking': 'false'}. Routes affected: set(). Services affected: set().\n",
      "2021-10-25 11:29:02,417 - Removed Stop with index `490015196OG`, data={'id': '490015196OG', 'x': 528823.776634044, 'y': 181291.36219255225, 'epsg': 'epsg:27700', 'name': 'Holles Street (Stop OG)', 'lon': -0.14481998709778535, 'lat': 51.51586503324068, 's2_id': 5221390319115185447, 'isBlocking': 'false'}. Routes affected: set(). Services affected: set().\n",
      "2021-10-25 11:29:02,424 - Removed Stop with index `490000252X`, data={'id': '490000252X', 'x': 529299.7787751436, 'y': 182221.2542656777, 'epsg': 'epsg:27700', 'name': 'Warren Street Station (Stop X)', 'lon': -0.13762298708971518, 'lat': 51.52411303323943, 's2_id': 5221390680677135141, 'isBlocking': 'false'}. Routes affected: set(). Services affected: set().\n",
      "2021-10-25 11:29:02,431 - Removed Stop with index `9400ZZLUWRR3`, data={'id': '9400ZZLUWRR3', 'x': 529227.7798224052, 'y': 182216.41780797765, 'epsg': 'epsg:27700', 'name': 'Warren Street Underground Station', 'lon': -0.13866198709018962, 'lat': 51.52408603323942, 's2_id': 5221390678163626213, 'stopAreaId': '940GZZLUWRR', 'isBlocking': 'false'}. Routes affected: set(). Services affected: set().\n",
      "2021-10-25 11:29:02,438 - Removed Stop with index `490000252R`, data={'id': '490000252R', 'x': 529239.7661155101, 'y': 182400.10532104305, 'epsg': 'epsg:27700', 'name': 'Warren Street Stn  Euston Rd (Stop R)', 'lon': -0.13842198708910197, 'lat': 51.52573403323915, 's2_id': 5221390675857415143, 'isBlocking': 'false'}. Routes affected: set(). Services affected: set().\n",
      "2021-10-25 11:29:02,448 - Removed Stop with index `490000173JC`, data={'id': '490000173JC', 'x': 528965.7722053318, 'y': 181255.12727756292, 'epsg': 'epsg:27700', 'name': 'John Princes St Oxford Circus (Stop JC)', 'lon': -0.14278798709710624, 'lat': 51.515507033240766, 's2_id': 5221390321040739773, 'isBlocking': 'false'}. Routes affected: set(). Services affected: set().\n",
      "2021-10-25 11:29:02,455 - Removed Stop with index `490000089A`, data={'id': '490000089A', 'x': 529488.7338336208, 'y': 181894.1307048137, 'epsg': 'epsg:27700', 'name': 'Goodge Street Station (Stop A)', 'lon': -0.13502098709035157, 'lat': 51.521130033239956, 's2_id': 5221390705375052825, 'isBlocking': 'false'}. Routes affected: set(). Services affected: set().\n",
      "2021-10-25 11:29:02,462 - Removed Stop with index `9400ZZLUOXC5`, data={'id': '9400ZZLUOXC5', 'x': 529074.7706163004, 'y': 181244.31904206856, 'epsg': 'epsg:27700', 'name': 'Oxford Circus Underground Station', 'lon': -0.1412219870964914, 'lat': 51.515385033240804, 's2_id': 5221390321570971763, 'stopAreaId': '940GZZLUOXC', 'isBlocking': 'false'}. Routes affected: set(). Services affected: set().\n",
      "2021-10-25 11:29:02,469 - Removed Stop with index `490000173OQ`, data={'id': '490000173OQ', 'x': 528896.7401349418, 'y': 181182.04834285344, 'epsg': 'epsg:27700', 'name': 'Oxford Circus Station Harewood Place (Stop OQ)', 'lon': -0.14380898709793544, 'lat': 51.51486603324087, 's2_id': 5221366499506713213, 'isBlocking': 'false'}. Routes affected: set(). Services affected: set().\n",
      "2021-10-25 11:29:02,476 - Removed Stop with index `490000078Q`, data={'id': '490000078Q', 'x': 529350.7866124967, 'y': 182388.0201078112, 'epsg': 'epsg:27700', 'name': 'Euston Square (Stop Q)', 'lon': -0.13682698708848137, 'lat': 51.52560003323918, 's2_id': 5221390668558830581, 'isBlocking': 'false'}. Routes affected: set(). Services affected: set().\n",
      "2021-10-25 11:29:02,482 - Removed Stop with index `9400ZZLUESQ2`, data={'id': '9400ZZLUESQ2', 'x': 529453.7521920939, 'y': 182392.42343129055, 'epsg': 'epsg:27700', 'name': 'Euston Square Underground Station', 'lon': -0.13534198708782177, 'lat': 51.52561603323921, 's2_id': 5221390668022207035, 'stopAreaId': '940GZZLUESQ', 'isBlocking': 'false'}. Routes affected: set(). Services affected: set().\n",
      "2021-10-25 11:29:02,491 - Removed Stop with index `490000091G`, data={'id': '490000091G', 'x': 528868.7401970585, 'y': 182187.3790120287, 'epsg': 'epsg:27700', 'name': 'Great Portland Street (Stop G)', 'lon': -0.14384498709256976, 'lat': 51.52390703323939, 's2_id': 5221390331402893463, 'isBlocking': 'false'}. Routes affected: set(). Services affected: set().\n",
      "2021-10-25 11:29:02,501 - Removed Stop with index `490013600C`, data={'id': '490013600C', 'x': 528826.7311023801, 'y': 182237.16642831545, 'epsg': 'epsg:27700', 'name': 'Albany Street (Stop C)', 'lon': -0.14443198709255553, 'lat': 51.5243640332393, 's2_id': 5221390330644881765, 'isBlocking': 'false'}. Routes affected: set(). Services affected: set().\n",
      "2021-10-25 11:29:02,508 - Removed Stop with index `490015042T`, data={'id': '490015042T', 'x': 529218.7495082667, 'y': 182413.14631945646, 'epsg': 'epsg:27700', 'name': 'Drummond Street (Stop T)', 'lon': -0.13871998708915975, 'lat': 51.52585603323912, 's2_id': 5221390675805390799, 'isBlocking': 'false'}. Routes affected: set(). Services affected: set().\n",
      "2021-10-25 11:29:02,524 - Removed Stop with index `9400ZZLUOXC6`, data={'id': '9400ZZLUOXC6', 'x': 529013.7410255029, 'y': 181288.1696510841, 'epsg': 'epsg:27700', 'name': 'Oxford Circus Underground Station', 'lon': -0.14208498709662765, 'lat': 51.515793033240726, 's2_id': 5221390321297719831, 'stopAreaId': '940GZZLUOXC', 'isBlocking': 'false'}. Routes affected: set(). Services affected: set().\n",
      "2021-10-25 11:29:02,538 - Removed Stop with index `9400ZZLUGPS2`, data={'id': '9400ZZLUGPS2', 'x': 528862.3135234541, 'y': 182194.44889770175, 'epsg': 'epsg:27700', 'name': 'Great Portland Street Underground Station', 'lon': -0.14393498709257005, 'lat': 51.52397203323939, 's2_id': 5221390331395619755, 'stopAreaId': '940GZZLUGPS', 'isBlocking': 'false'}. Routes affected: set(). Services affected: set().\n",
      "2021-10-25 11:29:02,551 - Removed Stop with index `490000173N`, data={'id': '490000173N', 'x': 528997.7501733231, 'y': 181319.14337049128, 'epsg': 'epsg:27700', 'name': 'Margaret Street Oxford Circus (Stop RE)', 'lon': -0.14230398709655456, 'lat': 51.51607503324069, 's2_id': 5221390321192531605, 'isBlocking': 'false'}. Routes affected: set(). Services affected: set().\n",
      "2021-10-25 11:29:02,566 - Removed Stop with index `490000235Z`, data={'id': '490000235Z', 'x': 529957.7399474721, 'y': 181416.15589408798, 'epsg': 'epsg:27700', 'name': 'New Oxford Street (Stop Z)', 'lon': -0.12844098709009108, 'lat': 51.51672703324074, 's2_id': 5221390721969709947, 'isBlocking': 'false'}. Routes affected: set(). Services affected: set().\n",
      "2021-10-25 11:29:02,574 - Removed Stop with index `490000235P`, data={'id': '490000235P', 'x': 529967.770031479, 'y': 181420.3070953883, 'epsg': 'epsg:27700', 'name': 'Tottenham Court Road Station  New Oxford Street (Stop Y)', 'lon': -0.12829498709000656, 'lat': 51.51676203324072, 's2_id': 5221390721966453159, 'isBlocking': 'false'}. Routes affected: set(). Services affected: set().\n",
      "2021-10-25 11:29:02,582 - Removed Stop with index `490007807W`, data={'id': '490007807W', 'x': 528475.7574253343, 'y': 182095.0818986625, 'epsg': 'epsg:27700', 'name': 'Harley Street (Stop L)', 'lon': -0.1495399870955132, 'lat': 51.52316703323943, 's2_id': 5221390302820476735, 'isBlocking': 'false'}. Routes affected: set(). Services affected: set().\n"
     ]
    },
    {
     "name": "stderr",
     "output_type": "stream",
     "text": [
      "2021-10-25 11:29:02,589 - Removed Stop with index `490000191A`, data={'id': '490000191A', 'x': 528649.7415935269, 'y': 182165.24841055647, 'epsg': 'epsg:27700', 'name': \"Regent's Park (Stop A)\", 'lon': -0.14700798709404783, 'lat': 51.52375803323939, 's2_id': 5221390302070799085, 'isBlocking': 'false'}. Routes affected: set(). Services affected: set().\n",
      "2021-10-25 11:29:02,599 - Removed Stop with index `9400ZZLUWRR4`, data={'id': '9400ZZLUWRR4', 'x': 529225.7792770677, 'y': 182210.46930065827, 'epsg': 'epsg:27700', 'name': 'Warren Street Underground Station', 'lon': -0.13869298709023378, 'lat': 51.524033033239434, 's2_id': 5221390678156937061, 'stopAreaId': '940GZZLUWRR', 'isBlocking': 'false'}. Routes affected: set(). Services affected: set().\n",
      "2021-10-25 11:29:02,607 - Removed Stop with index `490000235W1`, data={'id': '490000235W1', 'x': 529959.771919372, 'y': 181285.1243656829, 'epsg': 'epsg:27700', 'name': 'Tottenham Court Road Station (Stop S)', 'lon': -0.12845998709080084, 'lat': 51.51554903324093, 's2_id': 5221390722499682403, 'isBlocking': 'false'}. Routes affected: set(). Services affected: set().\n",
      "2021-10-25 11:29:02,616 - Removed Stop with index `9400ZZLURGP1`, data={'id': '9400ZZLURGP1', 'x': 528702.7858144796, 'y': 182099.04783399682, 'epsg': 'epsg:27700', 'name': \"Regent's Park Underground Station\", 'lon': -0.14626798709408378, 'lat': 51.52315103323948, 's2_id': 5221390329495070589, 'stopAreaId': '940GZZLURGP', 'isBlocking': 'false'}. Routes affected: set(). Services affected: set().\n",
      "2021-10-25 11:29:02,622 - Removed Stop with index `9400ZZLUWRR2`, data={'id': '9400ZZLUWRR2', 'x': 529291.753302556, 'y': 182239.29925111524, 'epsg': 'epsg:27700', 'name': 'Warren Street Underground Station', 'lon': -0.13773198708966708, 'lat': 51.524277033239414, 's2_id': 5221390678935288907, 'stopAreaId': '940GZZLUWRR', 'isBlocking': 'false'}. Routes affected: set(). Services affected: set().\n",
      "2021-10-25 11:29:02,630 - Removed Stop with index `490000235YB`, data={'id': '490000235YB', 'x': 529570.7813227688, 'y': 181336.2815925331, 'epsg': 'epsg:27700', 'name': 'Oxford Street  Soho Street (Stop YB)', 'lon': -0.13404398709291904, 'lat': 51.51609803324077, 's2_id': 5221390696959560815, 'isBlocking': 'false'}. Routes affected: set(). Services affected: set().\n",
      "2021-10-25 11:29:02,654 - Removed Stop with index `new_stop.link:3154`, data={'id': 'new_stop.link:3154', 'x': 529500.0, 'y': 181300.0, 'epsg': 'epsg:27700', 'name': 'New Stop', 'lon': -0.13507680987440782, 'lat': 51.51578819710294, 's2_id': 5221390696585158415, 'linkRefId': '3154', 'stop_id': 'new_stop'}. Routes affected: set(). Services affected: set().\n",
      "2021-10-25 11:29:02,672 - Removed Stop with index `490000252V`, data={'id': '490000252V', 'x': 529191.772822441, 'y': 182270.24968387076, 'epsg': 'epsg:27700', 'name': 'Warren Street Station (Stop V)', 'lon': -0.13916098709011546, 'lat': 51.52457803323936, 's2_id': 5221390678449402205, 'isBlocking': 'false'}. Routes affected: set(). Services affected: set().\n",
      "2021-10-25 11:29:02,673 - Removed Stops with indecies `{'490014214HE', '490015042U', '490010531OS', '9400ZZLURGP2', '490005084Z', '490000356NE', '490002124ZZ', '490010531W', '9400ZZLUOXC1', '490015196N', '490000173Z', '490007807E', '9400ZZLUOXC2', '490002121ZT', '490000173RD', '490000235V', '9400ZZLUGDG1', '9400ZZLUTCR1', '490000173W', '490015196R', '9400ZZLUWRR1', '490000235N', '490000173RG', '490000252S', '490000078P', '490004695A', '490011126K', '490000235C', '490000252KA', '490000173RC', '490000235X.link:artificial_link===from:490000235X===to:490000235X', '490010689OJ', '4900020147W', '9400ZZLUESQ1', '490000091E', 'other_new_stop.link:3154', '490000191B', '490000173RF', '9400ZZLUTCR3', '9400ZZLUOXC3', '490010198W', '9400ZZLUTCR4', '490019675D', '490000091F', '490015196OF', '490010689KB.link:981', '490000091H', '9400ZZLUOXC4', '490015196OG', '490000252X', '9400ZZLUWRR3', '490000252R', '490000173JC', '490000089A', '9400ZZLUOXC5', '490000173OQ', '490000078Q', '9400ZZLUESQ2', '490000091G', '490013600C', '490015042T', '9400ZZLUOXC6', '9400ZZLUGPS2', '490000173N', '490000235Z', '490000235P', '490007807W', '490000191A', '9400ZZLUWRR4', '490000235W1', '9400ZZLURGP1', '9400ZZLUWRR2', '490000235YB', 'new_stop.link:3154', '490000252V'}` which were not used by any Routes or part of minimal transfer times.\n"
     ]
    }
   ],
   "source": [
    "n.schedule.remove_unsused_stops()"
   ]
  },
  {
   "cell_type": "markdown",
   "metadata": {},
   "source": [
    "## Modifying data stored for Stops, Routes, Services\n",
    "\n",
    "### Applying known or pre-computed changes\n",
    "Applying changes or new attributes to Services, Routes and Stops can be done via Schedule level methods. They all work with a dictionary where the keys are the object IDs and the values are dictionaries holding attribute names and values. The method to extract a DataFrame on attributes comes in handy here. E.g."
   ]
  },
  {
   "cell_type": "code",
   "execution_count": 32,
   "metadata": {
    "ExecuteTime": {
     "end_time": "2021-10-25T10:29:02.697949Z",
     "start_time": "2021-10-25T10:29:02.680361Z"
    }
   },
   "outputs": [
    {
     "data": {
      "text/html": [
       "<div>\n",
       "<style scoped>\n",
       "    .dataframe tbody tr th:only-of-type {\n",
       "        vertical-align: middle;\n",
       "    }\n",
       "\n",
       "    .dataframe tbody tr th {\n",
       "        vertical-align: top;\n",
       "    }\n",
       "\n",
       "    .dataframe thead th {\n",
       "        text-align: right;\n",
       "    }\n",
       "</style>\n",
       "<table border=\"1\" class=\"dataframe\">\n",
       "  <thead>\n",
       "    <tr style=\"text-align: right;\">\n",
       "      <th></th>\n",
       "      <th>name</th>\n",
       "    </tr>\n",
       "  </thead>\n",
       "  <tbody>\n",
       "    <tr>\n",
       "      <th>20274</th>\n",
       "      <td>N55</td>\n",
       "    </tr>\n",
       "    <tr>\n",
       "      <th>12430</th>\n",
       "      <td>205</td>\n",
       "    </tr>\n",
       "    <tr>\n",
       "      <th>17732</th>\n",
       "      <td>N20</td>\n",
       "    </tr>\n",
       "    <tr>\n",
       "      <th>15660</th>\n",
       "      <td>113</td>\n",
       "    </tr>\n",
       "    <tr>\n",
       "      <th>14134</th>\n",
       "      <td>98</td>\n",
       "    </tr>\n",
       "  </tbody>\n",
       "</table>\n",
       "</div>"
      ],
      "text/plain": [
       "      name\n",
       "20274  N55\n",
       "12430  205\n",
       "17732  N20\n",
       "15660  113\n",
       "14134   98"
      ]
     },
     "execution_count": 32,
     "metadata": {},
     "output_type": "execute_result"
    }
   ],
   "source": [
    "df = n.schedule.service_attribute_data(keys='name')\n",
    "df.head()"
   ]
  },
  {
   "cell_type": "markdown",
   "metadata": {},
   "source": [
    "DataFrames are easy to work with. Youcould for exmaple manipulate the names or use other data to change these. For demonstration here, let's just set the names to something easy."
   ]
  },
  {
   "cell_type": "code",
   "execution_count": 33,
   "metadata": {
    "ExecuteTime": {
     "end_time": "2021-10-25T10:29:02.722256Z",
     "start_time": "2021-10-25T10:29:02.703983Z"
    }
   },
   "outputs": [
    {
     "data": {
      "text/html": [
       "<div>\n",
       "<style scoped>\n",
       "    .dataframe tbody tr th:only-of-type {\n",
       "        vertical-align: middle;\n",
       "    }\n",
       "\n",
       "    .dataframe tbody tr th {\n",
       "        vertical-align: top;\n",
       "    }\n",
       "\n",
       "    .dataframe thead th {\n",
       "        text-align: right;\n",
       "    }\n",
       "</style>\n",
       "<table border=\"1\" class=\"dataframe\">\n",
       "  <thead>\n",
       "    <tr style=\"text-align: right;\">\n",
       "      <th></th>\n",
       "      <th>name</th>\n",
       "    </tr>\n",
       "  </thead>\n",
       "  <tbody>\n",
       "    <tr>\n",
       "      <th>20274</th>\n",
       "      <td>Service_N55</td>\n",
       "    </tr>\n",
       "    <tr>\n",
       "      <th>12430</th>\n",
       "      <td>Service_205</td>\n",
       "    </tr>\n",
       "    <tr>\n",
       "      <th>17732</th>\n",
       "      <td>Service_N20</td>\n",
       "    </tr>\n",
       "    <tr>\n",
       "      <th>15660</th>\n",
       "      <td>Service_113</td>\n",
       "    </tr>\n",
       "    <tr>\n",
       "      <th>14134</th>\n",
       "      <td>Service_98</td>\n",
       "    </tr>\n",
       "  </tbody>\n",
       "</table>\n",
       "</div>"
      ],
      "text/plain": [
       "              name\n",
       "20274  Service_N55\n",
       "12430  Service_205\n",
       "17732  Service_N20\n",
       "15660  Service_113\n",
       "14134   Service_98"
      ]
     },
     "execution_count": 33,
     "metadata": {},
     "output_type": "execute_result"
    }
   ],
   "source": [
    "df['name'] = df['name'].apply(lambda x: f'Service_{x}')\n",
    "df.head()"
   ]
  },
  {
   "cell_type": "markdown",
   "metadata": {},
   "source": [
    "You can then convert this to a dictionary and pass it to the `apply_attributes_to_services` method."
   ]
  },
  {
   "cell_type": "code",
   "execution_count": 34,
   "metadata": {
    "ExecuteTime": {
     "end_time": "2021-10-25T10:29:02.738235Z",
     "start_time": "2021-10-25T10:29:02.725372Z"
    }
   },
   "outputs": [
    {
     "name": "stderr",
     "output_type": "stream",
     "text": [
      "2021-10-25 11:29:02,733 - Changed Service attributes for 9 services\n"
     ]
    }
   ],
   "source": [
    "n.schedule.apply_attributes_to_services(df.T.to_dict())"
   ]
  },
  {
   "cell_type": "code",
   "execution_count": 35,
   "metadata": {
    "ExecuteTime": {
     "end_time": "2021-10-25T10:29:02.776350Z",
     "start_time": "2021-10-25T10:29:02.743414Z"
    }
   },
   "outputs": [
    {
     "data": {
      "text/html": [
       "<div>\n",
       "<style scoped>\n",
       "    .dataframe tbody tr th:only-of-type {\n",
       "        vertical-align: middle;\n",
       "    }\n",
       "\n",
       "    .dataframe tbody tr th {\n",
       "        vertical-align: top;\n",
       "    }\n",
       "\n",
       "    .dataframe thead th {\n",
       "        text-align: right;\n",
       "    }\n",
       "</style>\n",
       "<table border=\"1\" class=\"dataframe\">\n",
       "  <thead>\n",
       "    <tr style=\"text-align: right;\">\n",
       "      <th></th>\n",
       "      <th>timestamp</th>\n",
       "      <th>change_event</th>\n",
       "      <th>object_type</th>\n",
       "      <th>old_id</th>\n",
       "      <th>new_id</th>\n",
       "      <th>old_attributes</th>\n",
       "      <th>new_attributes</th>\n",
       "      <th>diff</th>\n",
       "    </tr>\n",
       "  </thead>\n",
       "  <tbody>\n",
       "    <tr>\n",
       "      <th>92</th>\n",
       "      <td>2021-10-25 11:29:02</td>\n",
       "      <td>modify</td>\n",
       "      <td>service</td>\n",
       "      <td>14134</td>\n",
       "      <td>14134</td>\n",
       "      <td>{'id': '14134', 'name': '98'}</td>\n",
       "      <td>{'id': '14134', 'name': 'Service_98'}</td>\n",
       "      <td>[(change, name, (98, Service_98))]</td>\n",
       "    </tr>\n",
       "    <tr>\n",
       "      <th>93</th>\n",
       "      <td>2021-10-25 11:29:02</td>\n",
       "      <td>modify</td>\n",
       "      <td>service</td>\n",
       "      <td>18853</td>\n",
       "      <td>18853</td>\n",
       "      <td>{'id': '18853', 'name': 'N8'}</td>\n",
       "      <td>{'id': '18853', 'name': 'Service_N8'}</td>\n",
       "      <td>[(change, name, (N8, Service_N8))]</td>\n",
       "    </tr>\n",
       "    <tr>\n",
       "      <th>94</th>\n",
       "      <td>2021-10-25 11:29:02</td>\n",
       "      <td>modify</td>\n",
       "      <td>service</td>\n",
       "      <td>18915</td>\n",
       "      <td>18915</td>\n",
       "      <td>{'id': '18915', 'name': 'N5'}</td>\n",
       "      <td>{'id': '18915', 'name': 'Service_N5'}</td>\n",
       "      <td>[(change, name, (N5, Service_N5))]</td>\n",
       "    </tr>\n",
       "    <tr>\n",
       "      <th>95</th>\n",
       "      <td>2021-10-25 11:29:02</td>\n",
       "      <td>modify</td>\n",
       "      <td>service</td>\n",
       "      <td>14073</td>\n",
       "      <td>14073</td>\n",
       "      <td>{'id': '14073', 'name': '94'}</td>\n",
       "      <td>{'id': '14073', 'name': 'Service_94'}</td>\n",
       "      <td>[(change, name, (94, Service_94))]</td>\n",
       "    </tr>\n",
       "    <tr>\n",
       "      <th>96</th>\n",
       "      <td>2021-10-25 11:29:02</td>\n",
       "      <td>modify</td>\n",
       "      <td>service</td>\n",
       "      <td>15234</td>\n",
       "      <td>15234</td>\n",
       "      <td>{'id': '15234', 'name': '134'}</td>\n",
       "      <td>{'id': '15234', 'name': 'Service_134'}</td>\n",
       "      <td>[(change, name, (134, Service_134))]</td>\n",
       "    </tr>\n",
       "  </tbody>\n",
       "</table>\n",
       "</div>"
      ],
      "text/plain": [
       "              timestamp change_event object_type old_id new_id  \\\n",
       "92  2021-10-25 11:29:02       modify     service  14134  14134   \n",
       "93  2021-10-25 11:29:02       modify     service  18853  18853   \n",
       "94  2021-10-25 11:29:02       modify     service  18915  18915   \n",
       "95  2021-10-25 11:29:02       modify     service  14073  14073   \n",
       "96  2021-10-25 11:29:02       modify     service  15234  15234   \n",
       "\n",
       "                    old_attributes                          new_attributes  \\\n",
       "92   {'id': '14134', 'name': '98'}   {'id': '14134', 'name': 'Service_98'}   \n",
       "93   {'id': '18853', 'name': 'N8'}   {'id': '18853', 'name': 'Service_N8'}   \n",
       "94   {'id': '18915', 'name': 'N5'}   {'id': '18915', 'name': 'Service_N5'}   \n",
       "95   {'id': '14073', 'name': '94'}   {'id': '14073', 'name': 'Service_94'}   \n",
       "96  {'id': '15234', 'name': '134'}  {'id': '15234', 'name': 'Service_134'}   \n",
       "\n",
       "                                    diff  \n",
       "92    [(change, name, (98, Service_98))]  \n",
       "93    [(change, name, (N8, Service_N8))]  \n",
       "94    [(change, name, (N5, Service_N5))]  \n",
       "95    [(change, name, (94, Service_94))]  \n",
       "96  [(change, name, (134, Service_134))]  "
      ]
     },
     "execution_count": 35,
     "metadata": {},
     "output_type": "execute_result"
    }
   ],
   "source": [
    "n.schedule.change_log().tail()"
   ]
  },
  {
   "cell_type": "markdown",
   "metadata": {},
   "source": [
    "You can do the same for `Routes` and `Stops`. Your dictionaries cannot however hold changes to indices. You will encounter an error and should use `reindex` methods for such operations."
   ]
  },
  {
   "cell_type": "code",
   "execution_count": 36,
   "metadata": {
    "ExecuteTime": {
     "end_time": "2021-10-25T10:29:02.814752Z",
     "start_time": "2021-10-25T10:29:02.779341Z"
    }
   },
   "outputs": [
    {
     "name": "stderr",
     "output_type": "stream",
     "text": [
      "2021-10-25 11:29:02,807 - Changed Route attributes for 1 routes\n"
     ]
    }
   ],
   "source": [
    "n.schedule.apply_attributes_to_routes(\n",
    "    {'VJ375a660d47a2aa570aa20a8568012da8497ffecf': {\n",
    "        'name': 'my_favourite_route', \n",
    "        'mode': 'piggyback'\n",
    "    }}\n",
    ")"
   ]
  },
  {
   "cell_type": "code",
   "execution_count": 37,
   "metadata": {
    "ExecuteTime": {
     "end_time": "2021-10-25T10:29:02.826761Z",
     "start_time": "2021-10-25T10:29:02.817972Z"
    }
   },
   "outputs": [
    {
     "name": "stderr",
     "output_type": "stream",
     "text": [
      "2021-10-25 11:29:02,823 - Changed Stop attributes for 1 stops\n"
     ]
    }
   ],
   "source": [
    "n.schedule.apply_attributes_to_stops(\n",
    "    {'490000235YB.link:574': {'new_attribute': 'hello!'}}\n",
    ")"
   ]
  },
  {
   "cell_type": "code",
   "execution_count": 38,
   "metadata": {
    "ExecuteTime": {
     "end_time": "2021-10-25T10:29:02.865571Z",
     "start_time": "2021-10-25T10:29:02.831270Z"
    }
   },
   "outputs": [
    {
     "data": {
      "text/html": [
       "<div>\n",
       "<style scoped>\n",
       "    .dataframe tbody tr th:only-of-type {\n",
       "        vertical-align: middle;\n",
       "    }\n",
       "\n",
       "    .dataframe tbody tr th {\n",
       "        vertical-align: top;\n",
       "    }\n",
       "\n",
       "    .dataframe thead th {\n",
       "        text-align: right;\n",
       "    }\n",
       "</style>\n",
       "<table border=\"1\" class=\"dataframe\">\n",
       "  <thead>\n",
       "    <tr style=\"text-align: right;\">\n",
       "      <th></th>\n",
       "      <th>timestamp</th>\n",
       "      <th>change_event</th>\n",
       "      <th>object_type</th>\n",
       "      <th>old_id</th>\n",
       "      <th>new_id</th>\n",
       "      <th>old_attributes</th>\n",
       "      <th>new_attributes</th>\n",
       "      <th>diff</th>\n",
       "    </tr>\n",
       "  </thead>\n",
       "  <tbody>\n",
       "    <tr>\n",
       "      <th>94</th>\n",
       "      <td>2021-10-25 11:29:02</td>\n",
       "      <td>modify</td>\n",
       "      <td>service</td>\n",
       "      <td>18915</td>\n",
       "      <td>18915</td>\n",
       "      <td>{'id': '18915', 'name': 'N5'}</td>\n",
       "      <td>{'id': '18915', 'name': 'Service_N5'}</td>\n",
       "      <td>[(change, name, (N5, Service_N5))]</td>\n",
       "    </tr>\n",
       "    <tr>\n",
       "      <th>95</th>\n",
       "      <td>2021-10-25 11:29:02</td>\n",
       "      <td>modify</td>\n",
       "      <td>service</td>\n",
       "      <td>14073</td>\n",
       "      <td>14073</td>\n",
       "      <td>{'id': '14073', 'name': '94'}</td>\n",
       "      <td>{'id': '14073', 'name': 'Service_94'}</td>\n",
       "      <td>[(change, name, (94, Service_94))]</td>\n",
       "    </tr>\n",
       "    <tr>\n",
       "      <th>96</th>\n",
       "      <td>2021-10-25 11:29:02</td>\n",
       "      <td>modify</td>\n",
       "      <td>service</td>\n",
       "      <td>15234</td>\n",
       "      <td>15234</td>\n",
       "      <td>{'id': '15234', 'name': '134'}</td>\n",
       "      <td>{'id': '15234', 'name': 'Service_134'}</td>\n",
       "      <td>[(change, name, (134, Service_134))]</td>\n",
       "    </tr>\n",
       "    <tr>\n",
       "      <th>97</th>\n",
       "      <td>2021-10-25 11:29:02</td>\n",
       "      <td>modify</td>\n",
       "      <td>route</td>\n",
       "      <td>VJ375a660d47a2aa570aa20a8568012da8497ffecf</td>\n",
       "      <td>VJ375a660d47a2aa570aa20a8568012da8497ffecf</td>\n",
       "      <td>{'route_short_name': 'N55', 'mode': 'bus', 'tr...</td>\n",
       "      <td>{'route_short_name': 'N55', 'mode': 'piggyback...</td>\n",
       "      <td>[(change, mode, (bus, piggyback)), (add, , [('...</td>\n",
       "    </tr>\n",
       "    <tr>\n",
       "      <th>98</th>\n",
       "      <td>2021-10-25 11:29:02</td>\n",
       "      <td>modify</td>\n",
       "      <td>stop</td>\n",
       "      <td>490000235YB.link:574</td>\n",
       "      <td>490000235YB.link:574</td>\n",
       "      <td>{'services': {'20274', '18853', '14134'}, 'rou...</td>\n",
       "      <td>{'services': {'20274', '18853', '14134'}, 'rou...</td>\n",
       "      <td>[(add, , [('new_attribute', 'hello!')])]</td>\n",
       "    </tr>\n",
       "  </tbody>\n",
       "</table>\n",
       "</div>"
      ],
      "text/plain": [
       "              timestamp change_event object_type  \\\n",
       "94  2021-10-25 11:29:02       modify     service   \n",
       "95  2021-10-25 11:29:02       modify     service   \n",
       "96  2021-10-25 11:29:02       modify     service   \n",
       "97  2021-10-25 11:29:02       modify       route   \n",
       "98  2021-10-25 11:29:02       modify        stop   \n",
       "\n",
       "                                        old_id  \\\n",
       "94                                       18915   \n",
       "95                                       14073   \n",
       "96                                       15234   \n",
       "97  VJ375a660d47a2aa570aa20a8568012da8497ffecf   \n",
       "98                        490000235YB.link:574   \n",
       "\n",
       "                                        new_id  \\\n",
       "94                                       18915   \n",
       "95                                       14073   \n",
       "96                                       15234   \n",
       "97  VJ375a660d47a2aa570aa20a8568012da8497ffecf   \n",
       "98                        490000235YB.link:574   \n",
       "\n",
       "                                       old_attributes  \\\n",
       "94                      {'id': '18915', 'name': 'N5'}   \n",
       "95                      {'id': '14073', 'name': '94'}   \n",
       "96                     {'id': '15234', 'name': '134'}   \n",
       "97  {'route_short_name': 'N55', 'mode': 'bus', 'tr...   \n",
       "98  {'services': {'20274', '18853', '14134'}, 'rou...   \n",
       "\n",
       "                                       new_attributes  \\\n",
       "94              {'id': '18915', 'name': 'Service_N5'}   \n",
       "95              {'id': '14073', 'name': 'Service_94'}   \n",
       "96             {'id': '15234', 'name': 'Service_134'}   \n",
       "97  {'route_short_name': 'N55', 'mode': 'piggyback...   \n",
       "98  {'services': {'20274', '18853', '14134'}, 'rou...   \n",
       "\n",
       "                                                 diff  \n",
       "94                 [(change, name, (N5, Service_N5))]  \n",
       "95                 [(change, name, (94, Service_94))]  \n",
       "96               [(change, name, (134, Service_134))]  \n",
       "97  [(change, mode, (bus, piggyback)), (add, , [('...  \n",
       "98           [(add, , [('new_attribute', 'hello!')])]  "
      ]
     },
     "execution_count": 38,
     "metadata": {},
     "output_type": "execute_result"
    }
   ],
   "source": [
    "n.schedule.change_log().tail()"
   ]
  },
  {
   "cell_type": "markdown",
   "metadata": {},
   "source": [
    "You can use `route_trips_to_dataframe` to extract all of the trips, their departures and vehicle IDs associated with the trips in the schedule. Trip ids need not be unique, route IDs provide a secondary index. Associated service IDs are also given for convenience."
   ]
  },
  {
   "cell_type": "code",
   "execution_count": 39,
   "metadata": {
    "ExecuteTime": {
     "end_time": "2021-10-25T10:29:02.973809Z",
     "start_time": "2021-10-25T10:29:02.868702Z"
    }
   },
   "outputs": [],
   "source": [
    "trips = n.schedule.route_trips_to_dataframe(gtfs_day='20210101')"
   ]
  },
  {
   "cell_type": "code",
   "execution_count": 40,
   "metadata": {
    "ExecuteTime": {
     "end_time": "2021-10-25T10:29:02.997205Z",
     "start_time": "2021-10-25T10:29:02.976858Z"
    }
   },
   "outputs": [
    {
     "data": {
      "text/html": [
       "<div>\n",
       "<style scoped>\n",
       "    .dataframe tbody tr th:only-of-type {\n",
       "        vertical-align: middle;\n",
       "    }\n",
       "\n",
       "    .dataframe tbody tr th {\n",
       "        vertical-align: top;\n",
       "    }\n",
       "\n",
       "    .dataframe thead th {\n",
       "        text-align: right;\n",
       "    }\n",
       "</style>\n",
       "<table border=\"1\" class=\"dataframe\">\n",
       "  <thead>\n",
       "    <tr style=\"text-align: right;\">\n",
       "      <th></th>\n",
       "      <th>route_id</th>\n",
       "      <th>service_id</th>\n",
       "      <th>trip_id</th>\n",
       "      <th>trip_departure_time</th>\n",
       "      <th>vehicle_id</th>\n",
       "    </tr>\n",
       "  </thead>\n",
       "  <tbody>\n",
       "    <tr>\n",
       "      <th>0</th>\n",
       "      <td>VJd78967364a302cf232c5139d40622dcb6c238c9e</td>\n",
       "      <td>14134</td>\n",
       "      <td>VJ2750f36b3df447e3719dc10236b7daae59696f1d_23:...</td>\n",
       "      <td>2021-01-01 23:13:00</td>\n",
       "      <td>veh_1144_bus</td>\n",
       "    </tr>\n",
       "    <tr>\n",
       "      <th>1</th>\n",
       "      <td>VJd78967364a302cf232c5139d40622dcb6c238c9e</td>\n",
       "      <td>14134</td>\n",
       "      <td>VJd78967364a302cf232c5139d40622dcb6c238c9e_23:...</td>\n",
       "      <td>2021-01-01 23:05:00</td>\n",
       "      <td>veh_1145_bus</td>\n",
       "    </tr>\n",
       "    <tr>\n",
       "      <th>2</th>\n",
       "      <td>VJ235c8fca539cf931b3c673f9b056606384aff950</td>\n",
       "      <td>12430</td>\n",
       "      <td>VJ02f66d6051cb3c787c2ec5430d41a33563c0be58_19:...</td>\n",
       "      <td>2021-01-01 19:30:30</td>\n",
       "      <td>veh_523_bus</td>\n",
       "    </tr>\n",
       "    <tr>\n",
       "      <th>3</th>\n",
       "      <td>VJ235c8fca539cf931b3c673f9b056606384aff950</td>\n",
       "      <td>12430</td>\n",
       "      <td>VJ0f837b7496df360a0ea669d199332f48c9c5cf88_19:...</td>\n",
       "      <td>2021-01-01 19:59:30</td>\n",
       "      <td>veh_524_bus</td>\n",
       "    </tr>\n",
       "    <tr>\n",
       "      <th>4</th>\n",
       "      <td>VJ235c8fca539cf931b3c673f9b056606384aff950</td>\n",
       "      <td>12430</td>\n",
       "      <td>VJ11da86a06c5be70ccf95b59df6f8c8b2c61a53a7_19:...</td>\n",
       "      <td>2021-01-01 19:05:30</td>\n",
       "      <td>veh_525_bus</td>\n",
       "    </tr>\n",
       "  </tbody>\n",
       "</table>\n",
       "</div>"
      ],
      "text/plain": [
       "                                     route_id service_id  \\\n",
       "0  VJd78967364a302cf232c5139d40622dcb6c238c9e      14134   \n",
       "1  VJd78967364a302cf232c5139d40622dcb6c238c9e      14134   \n",
       "2  VJ235c8fca539cf931b3c673f9b056606384aff950      12430   \n",
       "3  VJ235c8fca539cf931b3c673f9b056606384aff950      12430   \n",
       "4  VJ235c8fca539cf931b3c673f9b056606384aff950      12430   \n",
       "\n",
       "                                             trip_id trip_departure_time  \\\n",
       "0  VJ2750f36b3df447e3719dc10236b7daae59696f1d_23:... 2021-01-01 23:13:00   \n",
       "1  VJd78967364a302cf232c5139d40622dcb6c238c9e_23:... 2021-01-01 23:05:00   \n",
       "2  VJ02f66d6051cb3c787c2ec5430d41a33563c0be58_19:... 2021-01-01 19:30:30   \n",
       "3  VJ0f837b7496df360a0ea669d199332f48c9c5cf88_19:... 2021-01-01 19:59:30   \n",
       "4  VJ11da86a06c5be70ccf95b59df6f8c8b2c61a53a7_19:... 2021-01-01 19:05:30   \n",
       "\n",
       "     vehicle_id  \n",
       "0  veh_1144_bus  \n",
       "1  veh_1145_bus  \n",
       "2   veh_523_bus  \n",
       "3   veh_524_bus  \n",
       "4   veh_525_bus  "
      ]
     },
     "execution_count": 40,
     "metadata": {},
     "output_type": "execute_result"
    }
   ],
   "source": [
    "trips.head()"
   ]
  },
  {
   "cell_type": "markdown",
   "metadata": {},
   "source": [
    "Let's change all of the trip ids to something shorter"
   ]
  },
  {
   "cell_type": "code",
   "execution_count": 41,
   "metadata": {
    "ExecuteTime": {
     "end_time": "2021-10-25T10:29:03.025296Z",
     "start_time": "2021-10-25T10:29:03.002898Z"
    }
   },
   "outputs": [
    {
     "data": {
      "text/html": [
       "<div>\n",
       "<style scoped>\n",
       "    .dataframe tbody tr th:only-of-type {\n",
       "        vertical-align: middle;\n",
       "    }\n",
       "\n",
       "    .dataframe tbody tr th {\n",
       "        vertical-align: top;\n",
       "    }\n",
       "\n",
       "    .dataframe thead th {\n",
       "        text-align: right;\n",
       "    }\n",
       "</style>\n",
       "<table border=\"1\" class=\"dataframe\">\n",
       "  <thead>\n",
       "    <tr style=\"text-align: right;\">\n",
       "      <th></th>\n",
       "      <th>route_id</th>\n",
       "      <th>service_id</th>\n",
       "      <th>trip_id</th>\n",
       "      <th>trip_departure_time</th>\n",
       "      <th>vehicle_id</th>\n",
       "    </tr>\n",
       "  </thead>\n",
       "  <tbody>\n",
       "    <tr>\n",
       "      <th>0</th>\n",
       "      <td>VJd78967364a302cf232c5139d40622dcb6c238c9e</td>\n",
       "      <td>14134</td>\n",
       "      <td>trip_0</td>\n",
       "      <td>2021-01-01 23:13:00</td>\n",
       "      <td>veh_1144_bus</td>\n",
       "    </tr>\n",
       "    <tr>\n",
       "      <th>1</th>\n",
       "      <td>VJd78967364a302cf232c5139d40622dcb6c238c9e</td>\n",
       "      <td>14134</td>\n",
       "      <td>trip_1</td>\n",
       "      <td>2021-01-01 23:05:00</td>\n",
       "      <td>veh_1145_bus</td>\n",
       "    </tr>\n",
       "    <tr>\n",
       "      <th>2</th>\n",
       "      <td>VJ235c8fca539cf931b3c673f9b056606384aff950</td>\n",
       "      <td>12430</td>\n",
       "      <td>trip_2</td>\n",
       "      <td>2021-01-01 19:30:30</td>\n",
       "      <td>veh_523_bus</td>\n",
       "    </tr>\n",
       "    <tr>\n",
       "      <th>3</th>\n",
       "      <td>VJ235c8fca539cf931b3c673f9b056606384aff950</td>\n",
       "      <td>12430</td>\n",
       "      <td>trip_3</td>\n",
       "      <td>2021-01-01 19:59:30</td>\n",
       "      <td>veh_524_bus</td>\n",
       "    </tr>\n",
       "    <tr>\n",
       "      <th>4</th>\n",
       "      <td>VJ235c8fca539cf931b3c673f9b056606384aff950</td>\n",
       "      <td>12430</td>\n",
       "      <td>trip_4</td>\n",
       "      <td>2021-01-01 19:05:30</td>\n",
       "      <td>veh_525_bus</td>\n",
       "    </tr>\n",
       "  </tbody>\n",
       "</table>\n",
       "</div>"
      ],
      "text/plain": [
       "                                     route_id service_id trip_id  \\\n",
       "0  VJd78967364a302cf232c5139d40622dcb6c238c9e      14134  trip_0   \n",
       "1  VJd78967364a302cf232c5139d40622dcb6c238c9e      14134  trip_1   \n",
       "2  VJ235c8fca539cf931b3c673f9b056606384aff950      12430  trip_2   \n",
       "3  VJ235c8fca539cf931b3c673f9b056606384aff950      12430  trip_3   \n",
       "4  VJ235c8fca539cf931b3c673f9b056606384aff950      12430  trip_4   \n",
       "\n",
       "  trip_departure_time    vehicle_id  \n",
       "0 2021-01-01 23:13:00  veh_1144_bus  \n",
       "1 2021-01-01 23:05:00  veh_1145_bus  \n",
       "2 2021-01-01 19:30:30   veh_523_bus  \n",
       "3 2021-01-01 19:59:30   veh_524_bus  \n",
       "4 2021-01-01 19:05:30   veh_525_bus  "
      ]
     },
     "execution_count": 41,
     "metadata": {},
     "output_type": "execute_result"
    }
   ],
   "source": [
    "trips['trip_id'] = 'trip_' + trips.index.to_series().astype(str)\n",
    "trips.head()"
   ]
  },
  {
   "cell_type": "markdown",
   "metadata": {},
   "source": [
    "You can `set_route_trips_dataframe` which takes this dataframe and applies changes to all route trips based on the data in the dataframe. This means you can generate this DataFrame as shown below, manipulate trips (delete them, add new ones), change their departure times or change their vehicle ids to be shared for differnt trips, perhaps on some temporal logic and as long as the dataframe has the same schema, you can use it to set new trips in the schedule. This will appear in the changelog as a route level modify event.\n",
    "\n",
    "Nb removing all trips of the same route from the dataframe will have no effect when being applied. If there is data in the dataframe for a route, all of its trips will be replaced by the data in the dataframe, and if there is no data for a route in the frame, no changes will be applied to that route (i.e. the trips attribute for routes missing from the dataframe will not be set as empty)."
   ]
  },
  {
   "cell_type": "code",
   "execution_count": 42,
   "metadata": {
    "ExecuteTime": {
     "end_time": "2021-10-25T10:29:03.285197Z",
     "start_time": "2021-10-25T10:29:03.028729Z"
    }
   },
   "outputs": [
    {
     "name": "stderr",
     "output_type": "stream",
     "text": [
      "2021-10-25 11:29:03,267 - Changed Route attributes for 69 routes\n"
     ]
    },
    {
     "data": {
      "text/html": [
       "<div>\n",
       "<style scoped>\n",
       "    .dataframe tbody tr th:only-of-type {\n",
       "        vertical-align: middle;\n",
       "    }\n",
       "\n",
       "    .dataframe tbody tr th {\n",
       "        vertical-align: top;\n",
       "    }\n",
       "\n",
       "    .dataframe thead th {\n",
       "        text-align: right;\n",
       "    }\n",
       "</style>\n",
       "<table border=\"1\" class=\"dataframe\">\n",
       "  <thead>\n",
       "    <tr style=\"text-align: right;\">\n",
       "      <th></th>\n",
       "      <th>trips::trip_id</th>\n",
       "    </tr>\n",
       "  </thead>\n",
       "  <tbody>\n",
       "    <tr>\n",
       "      <th>VJd78967364a302cf232c5139d40622dcb6c238c9e</th>\n",
       "      <td>[trip_0, trip_1]</td>\n",
       "    </tr>\n",
       "    <tr>\n",
       "      <th>VJ235c8fca539cf931b3c673f9b056606384aff950</th>\n",
       "      <td>[trip_2, trip_3, trip_4, trip_5, trip_6, trip_...</td>\n",
       "    </tr>\n",
       "    <tr>\n",
       "      <th>VJ1cf651142378958b52229bfe1fa552e49136e60e</th>\n",
       "      <td>[trip_32, trip_33, trip_34, trip_35, trip_36, ...</td>\n",
       "    </tr>\n",
       "    <tr>\n",
       "      <th>VJ652c769bc42361cc0308dff59a1fdcf0949bdade</th>\n",
       "      <td>[trip_78]</td>\n",
       "    </tr>\n",
       "    <tr>\n",
       "      <th>VJ9b58a59e3d74941586a5bca7726a8aa624da67fc</th>\n",
       "      <td>[trip_79, trip_80, trip_81, trip_82, trip_83, ...</td>\n",
       "    </tr>\n",
       "    <tr>\n",
       "      <th>...</th>\n",
       "      <td>...</td>\n",
       "    </tr>\n",
       "    <tr>\n",
       "      <th>VJb93a17a405fe502c5b3a2d6544105b0311da9fe2</th>\n",
       "      <td>[trip_1531, trip_1532]</td>\n",
       "    </tr>\n",
       "    <tr>\n",
       "      <th>VJ8a4b1ca7dfd0a130abd1de9f55f3b756617dd4ca</th>\n",
       "      <td>[trip_1533, trip_1534, trip_1535, trip_1536, t...</td>\n",
       "    </tr>\n",
       "    <tr>\n",
       "      <th>VJe8cffad09738ff7b9698b333e3247918d5c45358</th>\n",
       "      <td>[trip_1541, trip_1542, trip_1543, trip_1544, t...</td>\n",
       "    </tr>\n",
       "    <tr>\n",
       "      <th>VJe18efadf172576fea7989ec1f233f26854c0f66a</th>\n",
       "      <td>[trip_1554, trip_1555, trip_1556, trip_1557, t...</td>\n",
       "    </tr>\n",
       "    <tr>\n",
       "      <th>VJ93d8207ae8540b4ff59d47c9ee1ec5689084522d</th>\n",
       "      <td>[trip_1562, trip_1563]</td>\n",
       "    </tr>\n",
       "  </tbody>\n",
       "</table>\n",
       "<p>69 rows × 1 columns</p>\n",
       "</div>"
      ],
      "text/plain": [
       "                                                                               trips::trip_id\n",
       "VJd78967364a302cf232c5139d40622dcb6c238c9e                                   [trip_0, trip_1]\n",
       "VJ235c8fca539cf931b3c673f9b056606384aff950  [trip_2, trip_3, trip_4, trip_5, trip_6, trip_...\n",
       "VJ1cf651142378958b52229bfe1fa552e49136e60e  [trip_32, trip_33, trip_34, trip_35, trip_36, ...\n",
       "VJ652c769bc42361cc0308dff59a1fdcf0949bdade                                          [trip_78]\n",
       "VJ9b58a59e3d74941586a5bca7726a8aa624da67fc  [trip_79, trip_80, trip_81, trip_82, trip_83, ...\n",
       "...                                                                                       ...\n",
       "VJb93a17a405fe502c5b3a2d6544105b0311da9fe2                             [trip_1531, trip_1532]\n",
       "VJ8a4b1ca7dfd0a130abd1de9f55f3b756617dd4ca  [trip_1533, trip_1534, trip_1535, trip_1536, t...\n",
       "VJe8cffad09738ff7b9698b333e3247918d5c45358  [trip_1541, trip_1542, trip_1543, trip_1544, t...\n",
       "VJe18efadf172576fea7989ec1f233f26854c0f66a  [trip_1554, trip_1555, trip_1556, trip_1557, t...\n",
       "VJ93d8207ae8540b4ff59d47c9ee1ec5689084522d                             [trip_1562, trip_1563]\n",
       "\n",
       "[69 rows x 1 columns]"
      ]
     },
     "execution_count": 42,
     "metadata": {},
     "output_type": "execute_result"
    }
   ],
   "source": [
    "n.schedule.set_route_trips_dataframe(trips)\n",
    "n.schedule.route_attribute_data(keys=[{'trips': 'trip_id'}])"
   ]
  },
  {
   "cell_type": "markdown",
   "metadata": {},
   "source": [
    "### Applying changes using functions or dictionary mappings\n",
    "\n",
    "If you have some logic that can be written into a function of object's attributes, you can pass this to `apply_function_to_x` methods. You need to select `location`, which refers to the name of the attribute the result should be stored under. It can already exist and be overwritten. The function passed, is not expected to work with all objects. It will fail silently, only evaluating and generating outputs where possible."
   ]
  },
  {
   "cell_type": "code",
   "execution_count": 43,
   "metadata": {
    "ExecuteTime": {
     "end_time": "2021-10-25T10:29:03.338036Z",
     "start_time": "2021-10-25T10:29:03.292031Z"
    }
   },
   "outputs": [
    {
     "name": "stderr",
     "output_type": "stream",
     "text": [
      "2021-10-25 11:29:03,330 - Changed Stop attributes for 47 stops\n"
     ]
    }
   ],
   "source": [
    "from shapely.geometry import Point\n",
    "\n",
    "def add_shapely_geometry_points(stop_attribs):\n",
    "    return Point(stop_attribs['x'], stop_attribs['y'])\n",
    "\n",
    "n.schedule.apply_function_to_stops(add_shapely_geometry_points, location='geometry')"
   ]
  },
  {
   "cell_type": "code",
   "execution_count": 44,
   "metadata": {
    "ExecuteTime": {
     "end_time": "2021-10-25T10:29:03.379272Z",
     "start_time": "2021-10-25T10:29:03.343636Z"
    }
   },
   "outputs": [
    {
     "data": {
      "text/html": [
       "<div>\n",
       "<style scoped>\n",
       "    .dataframe tbody tr th:only-of-type {\n",
       "        vertical-align: middle;\n",
       "    }\n",
       "\n",
       "    .dataframe tbody tr th {\n",
       "        vertical-align: top;\n",
       "    }\n",
       "\n",
       "    .dataframe thead th {\n",
       "        text-align: right;\n",
       "    }\n",
       "</style>\n",
       "<table border=\"1\" class=\"dataframe\">\n",
       "  <thead>\n",
       "    <tr style=\"text-align: right;\">\n",
       "      <th></th>\n",
       "      <th>timestamp</th>\n",
       "      <th>change_event</th>\n",
       "      <th>object_type</th>\n",
       "      <th>old_id</th>\n",
       "      <th>new_id</th>\n",
       "      <th>old_attributes</th>\n",
       "      <th>new_attributes</th>\n",
       "      <th>diff</th>\n",
       "    </tr>\n",
       "  </thead>\n",
       "  <tbody>\n",
       "    <tr>\n",
       "      <th>213</th>\n",
       "      <td>2021-10-25 11:29:03</td>\n",
       "      <td>modify</td>\n",
       "      <td>stop</td>\n",
       "      <td>490010689KB</td>\n",
       "      <td>490010689KB</td>\n",
       "      <td>{'id': '490010689KB', 'x': 529166.7349732723, ...</td>\n",
       "      <td>{'id': '490010689KB', 'x': 529166.7349732723, ...</td>\n",
       "      <td>[(add, , [('geometry', &lt;shapely.geometry.point...</td>\n",
       "    </tr>\n",
       "    <tr>\n",
       "      <th>214</th>\n",
       "      <td>2021-10-25 11:29:03</td>\n",
       "      <td>modify</td>\n",
       "      <td>stop</td>\n",
       "      <td>other_new_stop</td>\n",
       "      <td>other_new_stop</td>\n",
       "      <td>{'services': {'20274'}, 'routes': {'20274_4'},...</td>\n",
       "      <td>{'services': {'20274'}, 'routes': {'20274_4'},...</td>\n",
       "      <td>[(add, , [('geometry', &lt;shapely.geometry.point...</td>\n",
       "    </tr>\n",
       "  </tbody>\n",
       "</table>\n",
       "</div>"
      ],
      "text/plain": [
       "               timestamp change_event object_type          old_id  \\\n",
       "213  2021-10-25 11:29:03       modify        stop     490010689KB   \n",
       "214  2021-10-25 11:29:03       modify        stop  other_new_stop   \n",
       "\n",
       "             new_id                                     old_attributes  \\\n",
       "213     490010689KB  {'id': '490010689KB', 'x': 529166.7349732723, ...   \n",
       "214  other_new_stop  {'services': {'20274'}, 'routes': {'20274_4'},...   \n",
       "\n",
       "                                        new_attributes  \\\n",
       "213  {'id': '490010689KB', 'x': 529166.7349732723, ...   \n",
       "214  {'services': {'20274'}, 'routes': {'20274_4'},...   \n",
       "\n",
       "                                                  diff  \n",
       "213  [(add, , [('geometry', <shapely.geometry.point...  \n",
       "214  [(add, , [('geometry', <shapely.geometry.point...  "
      ]
     },
     "execution_count": 44,
     "metadata": {},
     "output_type": "execute_result"
    }
   ],
   "source": [
    "n.schedule.change_log().tail(2)"
   ]
  },
  {
   "cell_type": "code",
   "execution_count": 45,
   "metadata": {
    "ExecuteTime": {
     "end_time": "2021-10-25T10:29:03.417388Z",
     "start_time": "2021-10-25T10:29:03.382445Z"
    }
   },
   "outputs": [
    {
     "data": {
      "text/html": [
       "<div>\n",
       "<style scoped>\n",
       "    .dataframe tbody tr th:only-of-type {\n",
       "        vertical-align: middle;\n",
       "    }\n",
       "\n",
       "    .dataframe tbody tr th {\n",
       "        vertical-align: top;\n",
       "    }\n",
       "\n",
       "    .dataframe thead th {\n",
       "        text-align: right;\n",
       "    }\n",
       "</style>\n",
       "<table border=\"1\" class=\"dataframe\">\n",
       "  <thead>\n",
       "    <tr style=\"text-align: right;\">\n",
       "      <th></th>\n",
       "      <th>name</th>\n",
       "      <th>x</th>\n",
       "      <th>y</th>\n",
       "      <th>geometry</th>\n",
       "    </tr>\n",
       "  </thead>\n",
       "  <tbody>\n",
       "    <tr>\n",
       "      <th>490000235X.link:834</th>\n",
       "      <td>Tottenham Court Road Station (Stop X)</td>\n",
       "      <td>529981.795880</td>\n",
       "      <td>181412.097576</td>\n",
       "      <td>POINT (529981.7958802709 181412.0975758662)</td>\n",
       "    </tr>\n",
       "    <tr>\n",
       "      <th>490000235YB.link:574</th>\n",
       "      <td>Oxford Street  Soho Street (Stop YB)</td>\n",
       "      <td>529570.781323</td>\n",
       "      <td>181336.281593</td>\n",
       "      <td>POINT (529570.7813227688 181336.2815925331)</td>\n",
       "    </tr>\n",
       "    <tr>\n",
       "      <th>490014214HE.link:3154</th>\n",
       "      <td>Wardour Street (Stop OM)</td>\n",
       "      <td>529477.750156</td>\n",
       "      <td>181314.437043</td>\n",
       "      <td>POINT (529477.7501560802 181314.4370430721)</td>\n",
       "    </tr>\n",
       "    <tr>\n",
       "      <th>490000235P.link:15</th>\n",
       "      <td>Tottenham Court Road Station  New Oxford Stree...</td>\n",
       "      <td>529967.770031</td>\n",
       "      <td>181420.307095</td>\n",
       "      <td>POINT (529967.770031479 181420.3070953883)</td>\n",
       "    </tr>\n",
       "    <tr>\n",
       "      <th>490015196OG.link:2954</th>\n",
       "      <td>Holles Street (Stop OG)</td>\n",
       "      <td>528823.776634</td>\n",
       "      <td>181291.362193</td>\n",
       "      <td>POINT (528823.776634044 181291.3621925522)</td>\n",
       "    </tr>\n",
       "  </tbody>\n",
       "</table>\n",
       "</div>"
      ],
      "text/plain": [
       "                                                                    name  \\\n",
       "490000235X.link:834                Tottenham Court Road Station (Stop X)   \n",
       "490000235YB.link:574                Oxford Street  Soho Street (Stop YB)   \n",
       "490014214HE.link:3154                           Wardour Street (Stop OM)   \n",
       "490000235P.link:15     Tottenham Court Road Station  New Oxford Stree...   \n",
       "490015196OG.link:2954                            Holles Street (Stop OG)   \n",
       "\n",
       "                                   x              y  \\\n",
       "490000235X.link:834    529981.795880  181412.097576   \n",
       "490000235YB.link:574   529570.781323  181336.281593   \n",
       "490014214HE.link:3154  529477.750156  181314.437043   \n",
       "490000235P.link:15     529967.770031  181420.307095   \n",
       "490015196OG.link:2954  528823.776634  181291.362193   \n",
       "\n",
       "                                                          geometry  \n",
       "490000235X.link:834    POINT (529981.7958802709 181412.0975758662)  \n",
       "490000235YB.link:574   POINT (529570.7813227688 181336.2815925331)  \n",
       "490014214HE.link:3154  POINT (529477.7501560802 181314.4370430721)  \n",
       "490000235P.link:15      POINT (529967.770031479 181420.3070953883)  \n",
       "490015196OG.link:2954   POINT (528823.776634044 181291.3621925522)  "
      ]
     },
     "execution_count": 45,
     "metadata": {},
     "output_type": "execute_result"
    }
   ],
   "source": [
    "n.schedule.stop_attribute_data(keys=['name', 'x', 'y', 'geometry']).head()"
   ]
  },
  {
   "cell_type": "code",
   "execution_count": 46,
   "metadata": {
    "ExecuteTime": {
     "end_time": "2021-10-25T10:29:03.933476Z",
     "start_time": "2021-10-25T10:29:03.419812Z"
    }
   },
   "outputs": [
    {
     "data": {
      "text/plain": [
       "<matplotlib.axes._subplots.AxesSubplot at 0x124e9dd10>"
      ]
     },
     "execution_count": 46,
     "metadata": {},
     "output_type": "execute_result"
    },
    {
     "data": {
      "image/png": "[encoded data removed]",
      "text/plain": [
       "<Figure size 432x288 with 1 Axes>"
      ]
     },
     "metadata": {
      "needs_background": "light"
     },
     "output_type": "display_data"
    }
   ],
   "source": [
    "from geopandas import GeoDataFrame\n",
    "GeoDataFrame(n.schedule.stop_attribute_data(keys='geometry')).plot()"
   ]
  },
  {
   "cell_type": "code",
   "execution_count": 47,
   "metadata": {
    "ExecuteTime": {
     "end_time": "2021-10-25T10:29:03.955942Z",
     "start_time": "2021-10-25T10:29:03.941144Z"
    }
   },
   "outputs": [
    {
     "data": {
      "text/plain": [
       "{'id': '490000235YB.link:574',\n",
       " 'x': 529570.7813227688,\n",
       " 'y': 181336.2815925331,\n",
       " 'epsg': 'epsg:27700',\n",
       " 'name': 'Oxford Street  Soho Street (Stop YB)',\n",
       " 'lat': 51.51609803324077,\n",
       " 'lon': -0.13404398709291904,\n",
       " 's2_id': 5221390696959560815,\n",
       " 'linkRefId': '574',\n",
       " 'isBlocking': 'false',\n",
       " 'new_attribute': 'hello!',\n",
       " 'geometry': <shapely.geometry.point.Point at 0x125741a10>}"
      ]
     },
     "execution_count": 47,
     "metadata": {},
     "output_type": "execute_result"
    }
   ],
   "source": [
    "n.schedule.stop('490000235YB.link:574').__dict__"
   ]
  },
  {
   "cell_type": "markdown",
   "metadata": {},
   "source": [
    "For this let's say we want to reduce the number of trips. For simplicity of demonstration we don't have about which trips we delete, but logic around timings of trips can be added in this function, as the trips are saved as one of routes attributes (check out the summary methods)"
   ]
  },
  {
   "cell_type": "code",
   "execution_count": 48,
   "metadata": {
    "ExecuteTime": {
     "end_time": "2021-10-25T10:29:04.100468Z",
     "start_time": "2021-10-25T10:29:03.958691Z"
    }
   },
   "outputs": [
    {
     "data": {
      "text/plain": [
       "1564"
      ]
     },
     "execution_count": 48,
     "metadata": {},
     "output_type": "execute_result"
    }
   ],
   "source": [
    "# before\n",
    "len(n.schedule.route_trips_to_dataframe())"
   ]
  },
  {
   "cell_type": "code",
   "execution_count": 49,
   "metadata": {
    "ExecuteTime": {
     "end_time": "2021-10-25T10:29:04.208462Z",
     "start_time": "2021-10-25T10:29:04.108106Z"
    }
   },
   "outputs": [
    {
     "name": "stderr",
     "output_type": "stream",
     "text": [
      "2021-10-25 11:29:04,202 - Changed Route attributes for 69 routes\n"
     ]
    }
   ],
   "source": [
    "def reduce_trips(attribs):\n",
    "    # just delete any other trip\n",
    "    attribs['trips']['trip_id'] = attribs['trips']['trip_id'][::2]\n",
    "    attribs['trips']['trip_departure_time'] = attribs['trips']['trip_departure_time'][::2]\n",
    "    attribs['trips']['vehicle_id'] = attribs['trips']['vehicle_id'][::2]\n",
    "    return attribs['trips']\n",
    "\n",
    "n.schedule.apply_function_to_routes(reduce_trips, 'trips')"
   ]
  },
  {
   "cell_type": "code",
   "execution_count": 50,
   "metadata": {
    "ExecuteTime": {
     "end_time": "2021-10-25T10:29:04.296195Z",
     "start_time": "2021-10-25T10:29:04.221844Z"
    }
   },
   "outputs": [
    {
     "data": {
      "text/plain": [
       "793"
      ]
     },
     "execution_count": 50,
     "metadata": {},
     "output_type": "execute_result"
    }
   ],
   "source": [
    "# after\n",
    "len(n.schedule.route_trips_to_dataframe())"
   ]
  },
  {
   "cell_type": "markdown",
   "metadata": {},
   "source": [
    "Note, this could also be done using the `route_trips_to_dataframe` and `set_route_trips_dataframe` mentioned above.\n",
    "\n",
    "Let's give an example of using a mapping. We can re-use the service name DataFrame we generated above."
   ]
  },
  {
   "cell_type": "code",
   "execution_count": 51,
   "metadata": {
    "ExecuteTime": {
     "end_time": "2021-10-25T10:29:04.333267Z",
     "start_time": "2021-10-25T10:29:04.298501Z"
    }
   },
   "outputs": [
    {
     "data": {
      "text/html": [
       "<div>\n",
       "<style scoped>\n",
       "    .dataframe tbody tr th:only-of-type {\n",
       "        vertical-align: middle;\n",
       "    }\n",
       "\n",
       "    .dataframe tbody tr th {\n",
       "        vertical-align: top;\n",
       "    }\n",
       "\n",
       "    .dataframe thead th {\n",
       "        text-align: right;\n",
       "    }\n",
       "</style>\n",
       "<table border=\"1\" class=\"dataframe\">\n",
       "  <thead>\n",
       "    <tr style=\"text-align: right;\">\n",
       "      <th></th>\n",
       "      <th>name</th>\n",
       "      <th>new_name</th>\n",
       "    </tr>\n",
       "  </thead>\n",
       "  <tbody>\n",
       "    <tr>\n",
       "      <th>20274</th>\n",
       "      <td>Service_N55</td>\n",
       "      <td>Brand_new_nameService_N55</td>\n",
       "    </tr>\n",
       "    <tr>\n",
       "      <th>12430</th>\n",
       "      <td>Service_205</td>\n",
       "      <td>Brand_new_nameService_205</td>\n",
       "    </tr>\n",
       "    <tr>\n",
       "      <th>17732</th>\n",
       "      <td>Service_N20</td>\n",
       "      <td>Brand_new_nameService_N20</td>\n",
       "    </tr>\n",
       "    <tr>\n",
       "      <th>15660</th>\n",
       "      <td>Service_113</td>\n",
       "      <td>Brand_new_nameService_113</td>\n",
       "    </tr>\n",
       "    <tr>\n",
       "      <th>14134</th>\n",
       "      <td>Service_98</td>\n",
       "      <td>Brand_new_nameService_98</td>\n",
       "    </tr>\n",
       "  </tbody>\n",
       "</table>\n",
       "</div>"
      ],
      "text/plain": [
       "              name                   new_name\n",
       "20274  Service_N55  Brand_new_nameService_N55\n",
       "12430  Service_205  Brand_new_nameService_205\n",
       "17732  Service_N20  Brand_new_nameService_N20\n",
       "15660  Service_113  Brand_new_nameService_113\n",
       "14134   Service_98   Brand_new_nameService_98"
      ]
     },
     "execution_count": 51,
     "metadata": {},
     "output_type": "execute_result"
    }
   ],
   "source": [
    "df['new_name'] = 'Brand_new_name' + df['name']\n",
    "df.head()"
   ]
  },
  {
   "cell_type": "code",
   "execution_count": 52,
   "metadata": {
    "ExecuteTime": {
     "end_time": "2021-10-25T10:29:04.345254Z",
     "start_time": "2021-10-25T10:29:04.336987Z"
    }
   },
   "outputs": [
    {
     "data": {
      "text/plain": [
       "{'Service_N55': 'Brand_new_nameService_N55',\n",
       " 'Service_205': 'Brand_new_nameService_205',\n",
       " 'Service_N20': 'Brand_new_nameService_N20',\n",
       " 'Service_113': 'Brand_new_nameService_113',\n",
       " 'Service_98': 'Brand_new_nameService_98',\n",
       " 'Service_N8': 'Brand_new_nameService_N8',\n",
       " 'Service_N5': 'Brand_new_nameService_N5',\n",
       " 'Service_94': 'Brand_new_nameService_94',\n",
       " 'Service_134': 'Brand_new_nameService_134'}"
      ]
     },
     "execution_count": 52,
     "metadata": {},
     "output_type": "execute_result"
    }
   ],
   "source": [
    "name_map = dict(zip(df['name'], df['new_name']))\n",
    "name_map"
   ]
  },
  {
   "cell_type": "markdown",
   "metadata": {},
   "source": [
    "In this case, `location` refers to the attribute to be mapped."
   ]
  },
  {
   "cell_type": "code",
   "execution_count": 53,
   "metadata": {
    "ExecuteTime": {
     "end_time": "2021-10-25T10:29:04.365421Z",
     "start_time": "2021-10-25T10:29:04.350098Z"
    }
   },
   "outputs": [
    {
     "name": "stderr",
     "output_type": "stream",
     "text": [
      "2021-10-25 11:29:04,359 - Changed Service attributes for 9 services\n"
     ]
    }
   ],
   "source": [
    "n.schedule.apply_function_to_services(name_map, location='name')"
   ]
  },
  {
   "cell_type": "code",
   "execution_count": 54,
   "metadata": {
    "ExecuteTime": {
     "end_time": "2021-10-25T10:29:04.430822Z",
     "start_time": "2021-10-25T10:29:04.370247Z"
    }
   },
   "outputs": [
    {
     "data": {
      "text/html": [
       "<div>\n",
       "<style scoped>\n",
       "    .dataframe tbody tr th:only-of-type {\n",
       "        vertical-align: middle;\n",
       "    }\n",
       "\n",
       "    .dataframe tbody tr th {\n",
       "        vertical-align: top;\n",
       "    }\n",
       "\n",
       "    .dataframe thead th {\n",
       "        text-align: right;\n",
       "    }\n",
       "</style>\n",
       "<table border=\"1\" class=\"dataframe\">\n",
       "  <thead>\n",
       "    <tr style=\"text-align: right;\">\n",
       "      <th></th>\n",
       "      <th>timestamp</th>\n",
       "      <th>change_event</th>\n",
       "      <th>object_type</th>\n",
       "      <th>old_id</th>\n",
       "      <th>new_id</th>\n",
       "      <th>old_attributes</th>\n",
       "      <th>new_attributes</th>\n",
       "      <th>diff</th>\n",
       "    </tr>\n",
       "  </thead>\n",
       "  <tbody>\n",
       "    <tr>\n",
       "      <th>288</th>\n",
       "      <td>2021-10-25 11:29:04</td>\n",
       "      <td>modify</td>\n",
       "      <td>service</td>\n",
       "      <td>14134</td>\n",
       "      <td>14134</td>\n",
       "      <td>{'id': '14134', 'name': 'Service_98'}</td>\n",
       "      <td>{'id': '14134', 'name': 'Brand_new_nameService...</td>\n",
       "      <td>[(change, name, (Service_98, Brand_new_nameSer...</td>\n",
       "    </tr>\n",
       "    <tr>\n",
       "      <th>289</th>\n",
       "      <td>2021-10-25 11:29:04</td>\n",
       "      <td>modify</td>\n",
       "      <td>service</td>\n",
       "      <td>18853</td>\n",
       "      <td>18853</td>\n",
       "      <td>{'id': '18853', 'name': 'Service_N8'}</td>\n",
       "      <td>{'id': '18853', 'name': 'Brand_new_nameService...</td>\n",
       "      <td>[(change, name, (Service_N8, Brand_new_nameSer...</td>\n",
       "    </tr>\n",
       "    <tr>\n",
       "      <th>290</th>\n",
       "      <td>2021-10-25 11:29:04</td>\n",
       "      <td>modify</td>\n",
       "      <td>service</td>\n",
       "      <td>18915</td>\n",
       "      <td>18915</td>\n",
       "      <td>{'id': '18915', 'name': 'Service_N5'}</td>\n",
       "      <td>{'id': '18915', 'name': 'Brand_new_nameService...</td>\n",
       "      <td>[(change, name, (Service_N5, Brand_new_nameSer...</td>\n",
       "    </tr>\n",
       "    <tr>\n",
       "      <th>291</th>\n",
       "      <td>2021-10-25 11:29:04</td>\n",
       "      <td>modify</td>\n",
       "      <td>service</td>\n",
       "      <td>14073</td>\n",
       "      <td>14073</td>\n",
       "      <td>{'id': '14073', 'name': 'Service_94'}</td>\n",
       "      <td>{'id': '14073', 'name': 'Brand_new_nameService...</td>\n",
       "      <td>[(change, name, (Service_94, Brand_new_nameSer...</td>\n",
       "    </tr>\n",
       "    <tr>\n",
       "      <th>292</th>\n",
       "      <td>2021-10-25 11:29:04</td>\n",
       "      <td>modify</td>\n",
       "      <td>service</td>\n",
       "      <td>15234</td>\n",
       "      <td>15234</td>\n",
       "      <td>{'id': '15234', 'name': 'Service_134'}</td>\n",
       "      <td>{'id': '15234', 'name': 'Brand_new_nameService...</td>\n",
       "      <td>[(change, name, (Service_134, Brand_new_nameSe...</td>\n",
       "    </tr>\n",
       "  </tbody>\n",
       "</table>\n",
       "</div>"
      ],
      "text/plain": [
       "               timestamp change_event object_type old_id new_id  \\\n",
       "288  2021-10-25 11:29:04       modify     service  14134  14134   \n",
       "289  2021-10-25 11:29:04       modify     service  18853  18853   \n",
       "290  2021-10-25 11:29:04       modify     service  18915  18915   \n",
       "291  2021-10-25 11:29:04       modify     service  14073  14073   \n",
       "292  2021-10-25 11:29:04       modify     service  15234  15234   \n",
       "\n",
       "                             old_attributes  \\\n",
       "288   {'id': '14134', 'name': 'Service_98'}   \n",
       "289   {'id': '18853', 'name': 'Service_N8'}   \n",
       "290   {'id': '18915', 'name': 'Service_N5'}   \n",
       "291   {'id': '14073', 'name': 'Service_94'}   \n",
       "292  {'id': '15234', 'name': 'Service_134'}   \n",
       "\n",
       "                                        new_attributes  \\\n",
       "288  {'id': '14134', 'name': 'Brand_new_nameService...   \n",
       "289  {'id': '18853', 'name': 'Brand_new_nameService...   \n",
       "290  {'id': '18915', 'name': 'Brand_new_nameService...   \n",
       "291  {'id': '14073', 'name': 'Brand_new_nameService...   \n",
       "292  {'id': '15234', 'name': 'Brand_new_nameService...   \n",
       "\n",
       "                                                  diff  \n",
       "288  [(change, name, (Service_98, Brand_new_nameSer...  \n",
       "289  [(change, name, (Service_N8, Brand_new_nameSer...  \n",
       "290  [(change, name, (Service_N5, Brand_new_nameSer...  \n",
       "291  [(change, name, (Service_94, Brand_new_nameSer...  \n",
       "292  [(change, name, (Service_134, Brand_new_nameSe...  "
      ]
     },
     "execution_count": 54,
     "metadata": {},
     "output_type": "execute_result"
    }
   ],
   "source": [
    "n.schedule.change_log().tail()"
   ]
  }
 ],
 "metadata": {
  "kernelspec": {
   "display_name": "genet",
   "language": "python",
   "name": "genet"
  },
  "language_info": {
   "codemirror_mode": {
    "name": "ipython",
    "version": 3
   },
   "file_extension": ".py",
   "mimetype": "text/x-python",
   "name": "python",
   "nbconvert_exporter": "python",
   "pygments_lexer": "ipython3",
   "version": "3.7.7"
  },
  "latex_envs": {
   "LaTeX_envs_menu_present": true,
   "autoclose": true,
   "autocomplete": true,
   "bibliofile": "biblio.bib",
   "cite_by": "apalike",
   "current_citInitial": 1,
   "eqLabelWithNumbers": true,
   "eqNumInitial": 1,
   "hotkeys": {
    "equation": "Ctrl-E",
    "itemize": "Ctrl-I"
   },
   "labels_anchors": false,
   "latex_user_defs": false,
   "report_style_numbering": false,
   "user_envs_cfg": false
  },
  "toc": {
   "base_numbering": 1,
   "nav_menu": {},
   "number_sections": true,
   "sideBar": true,
   "skip_h1_title": false,
   "title_cell": "Table of Contents",
   "title_sidebar": "Contents",
   "toc_cell": false,
   "toc_position": {},
   "toc_section_display": true,
   "toc_window_display": false
  },
  "varInspector": {
   "cols": {
    "lenName": 16,
    "lenType": 16,
    "lenVar": 40
   },
   "kernels_config": {
    "python": {
     "delete_cmd_postfix": "",
     "delete_cmd_prefix": "del ",
     "library": "var_list.py",
     "varRefreshCmd": "print(var_dic_list())"
    },
    "r": {
     "delete_cmd_postfix": ") ",
     "delete_cmd_prefix": "rm(",
     "library": "var_list.r",
     "varRefreshCmd": "cat(var_dic_list()) "
    }
   },
   "types_to_exclude": [
    "module",
    "function",
    "builtin_function_or_method",
    "instance",
    "_Feature"
   ],
   "window_display": false
  }
 },
 "nbformat": 4,
 "nbformat_minor": 2
}
