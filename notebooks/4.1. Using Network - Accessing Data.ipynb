{
 "cells": [
  {
   "cell_type": "markdown",
   "metadata": {},
   "source": [
    "# Using the `Network` object\n",
    "\n",
    "Let's read in a sample MATSim network into GeNet's `Network` object."
   ]
  },
  {
   "cell_type": "code",
   "execution_count": 71,
   "metadata": {
    "ExecuteTime": {
     "end_time": "2021-02-23T16:29:57.531832Z",
     "start_time": "2021-02-23T16:29:55.462988Z"
    }
   },
   "outputs": [
    {
     "name": "stdout",
     "output_type": "stream",
     "text": [
      "Graph info: Name: Network graph\n",
      "Type: MultiDiGraph\n",
      "Number of nodes: 1662\n",
      "Number of edges: 3166\n",
      "Average in degree:   1.9049\n",
      "Average out degree:   1.9049 \n",
      "Schedule info: Schedule:\n",
      "Number of services: 9\n",
      "Number of routes: 68\n",
      "Number of stops: 45\n"
     ]
    }
   ],
   "source": [
    "from genet import Network\n",
    "import os\n",
    "\n",
    "n = Network('epsg:27700')\n",
    "path_to_matsim_network = '../example_data/pt2matsim_network'\n",
    "n.read_matsim_network(os.path.join(path_to_matsim_network, 'network.xml'))\n",
    "# you don't need to read the vehicles file, but doing so ensures all vehicles\n",
    "# in the schedule are of the expected type and the definition of the vehicle\n",
    "# is preserved\n",
    "n.read_matsim_schedule(\n",
    "    os.path.join(path_to_matsim_network, 'schedule.xml'),\n",
    "    os.path.join(path_to_matsim_network, 'vehicles.xml'),\n",
    ")\n",
    "n.print()"
   ]
  },
  {
   "cell_type": "markdown",
   "metadata": {
    "ExecuteTime": {
     "end_time": "2020-12-15T18:52:10.250625Z",
     "start_time": "2020-12-15T18:52:10.240982Z"
    }
   },
   "source": [
    "## Summary\n",
    "\n",
    "The data saved on the edges or nodes of the graph can be nested. There are a couple of convenient methods that summarise the schema of the data found on the nodes and links. If `data=True`, the output also shows up to 5 unique values stored in that location."
   ]
  },
  {
   "cell_type": "code",
   "execution_count": 2,
   "metadata": {
    "ExecuteTime": {
     "end_time": "2021-02-23T15:57:03.045018Z",
     "start_time": "2021-02-23T15:57:02.801031Z"
    }
   },
   "outputs": [
    {
     "name": "stdout",
     "output_type": "stream",
     "text": [
      "attribute\n",
      "├── id: ['1667203485', '25475924', '255747713', '852019112', '9520032']\n",
      "├── x: [528387.4250512555, 528391.4406755936, 528393.2742107178, 528396.6287644263, 528396.3513181042]\n",
      "├── y: [181547.5850354673, 181552.72935927223, 181558.10532352765, 181559.970402835, 181562.0370527053]\n",
      "├── lon: [-0.15178558709839862, -0.15872448710537235, -0.13569068709168342, -0.13766218709633904, -0.13543658708819173]\n",
      "├── lat: [51.51609983324067, 51.5182034332405, 51.51504733324089, 51.522253033239515, 51.522948433239556]\n",
      "└── s2_id: [5221390710015643649, 5221390314367946753, 5221366508477440003, 5221390682291777543, 5221390739236081673]\n"
     ]
    }
   ],
   "source": [
    "n.node_attribute_summary(data=True)"
   ]
  },
  {
   "cell_type": "code",
   "execution_count": 3,
   "metadata": {
    "ExecuteTime": {
     "end_time": "2021-02-23T15:57:03.206851Z",
     "start_time": "2021-02-23T15:57:03.051765Z"
    }
   },
   "outputs": [
    {
     "name": "stdout",
     "output_type": "stream",
     "text": [
      "attribute\n",
      "├── id\n",
      "├── from\n",
      "├── to\n",
      "├── freespeed\n",
      "├── capacity\n",
      "├── permlanes\n",
      "├── oneway\n",
      "├── modes\n",
      "├── s2_from\n",
      "├── s2_to\n",
      "├── attributes\n",
      "│   ├── osm:way:access\n",
      "│   │   ├── name\n",
      "│   │   ├── class\n",
      "│   │   └── text\n",
      "│   ├── osm:way:highway\n",
      "│   │   ├── name\n",
      "│   │   ├── class\n",
      "│   │   └── text\n",
      "│   ├── osm:way:id\n",
      "│   │   ├── name\n",
      "│   │   ├── class\n",
      "│   │   └── text\n",
      "│   ├── osm:way:name\n",
      "│   │   ├── name\n",
      "│   │   ├── class\n",
      "│   │   └── text\n",
      "│   ├── osm:relation:route\n",
      "│   │   ├── name\n",
      "│   │   ├── class\n",
      "│   │   └── text\n",
      "│   ├── osm:way:lanes\n",
      "│   │   ├── name\n",
      "│   │   ├── class\n",
      "│   │   └── text\n",
      "│   ├── osm:way:oneway\n",
      "│   │   ├── name\n",
      "│   │   ├── class\n",
      "│   │   └── text\n",
      "│   ├── osm:way:tunnel\n",
      "│   │   ├── name\n",
      "│   │   ├── class\n",
      "│   │   └── text\n",
      "│   ├── osm:way:psv\n",
      "│   │   ├── name\n",
      "│   │   ├── class\n",
      "│   │   └── text\n",
      "│   ├── osm:way:vehicle\n",
      "│   │   ├── name\n",
      "│   │   ├── class\n",
      "│   │   └── text\n",
      "│   ├── osm:way:traffic_calming\n",
      "│   │   ├── name\n",
      "│   │   ├── class\n",
      "│   │   └── text\n",
      "│   ├── osm:way:junction\n",
      "│   │   ├── name\n",
      "│   │   ├── class\n",
      "│   │   └── text\n",
      "│   └── osm:way:service\n",
      "│       ├── name\n",
      "│       ├── class\n",
      "│       └── text\n",
      "└── length\n"
     ]
    }
   ],
   "source": [
    "n.link_attribute_summary(data=False)"
   ]
  },
  {
   "cell_type": "markdown",
   "metadata": {},
   "source": [
    "Once you see the general schema for the data stored on nodes and links, you may decide to look at or perform analysis \n",
    "on all of the data stored in the netowrk under a particular key. A GeNet network has two methods which generate a\n",
    "`pandas.Series` object, which stores the nodes or links data present at the specified key, indexed by the same index \n",
    "as the nodes or links."
   ]
  },
  {
   "cell_type": "code",
   "execution_count": 4,
   "metadata": {
    "ExecuteTime": {
     "end_time": "2021-02-23T15:57:03.218444Z",
     "start_time": "2021-02-23T15:57:03.213118Z"
    }
   },
   "outputs": [],
   "source": [
    "s2_id = n.node_attribute_data_under_key('s2_id')"
   ]
  },
  {
   "cell_type": "code",
   "execution_count": 5,
   "metadata": {
    "ExecuteTime": {
     "end_time": "2021-02-23T15:57:03.231701Z",
     "start_time": "2021-02-23T15:57:03.221024Z"
    }
   },
   "outputs": [
    {
     "data": {
      "text/plain": [
       "101982       5221390329378179879\n",
       "101986       5221390328605860387\n",
       "101990       5221390304444511271\n",
       "101991       5221390303978897267\n",
       "101992       5221390304897644929\n",
       "                    ...         \n",
       "983839058    5221390693831817171\n",
       "99936        5221390297975475113\n",
       "99937        5221390299484831045\n",
       "99940        5221390294354743413\n",
       "99943        5221390298004852605\n",
       "Length: 1662, dtype: int64"
      ]
     },
     "execution_count": 5,
     "metadata": {},
     "output_type": "execute_result"
    }
   ],
   "source": [
    "s2_id"
   ]
  },
  {
   "cell_type": "code",
   "execution_count": 6,
   "metadata": {
    "ExecuteTime": {
     "end_time": "2021-02-23T15:57:03.277788Z",
     "start_time": "2021-02-23T15:57:03.233306Z"
    }
   },
   "outputs": [
    {
     "data": {
      "text/plain": [
       "1       4.166667\n",
       "10      4.166667\n",
       "100     4.166667\n",
       "1000    4.166667\n",
       "1001    4.166667\n",
       "dtype: float64"
      ]
     },
     "execution_count": 6,
     "metadata": {},
     "output_type": "execute_result"
    }
   ],
   "source": [
    "n.link_attribute_data_under_key('freespeed').head()"
   ]
  },
  {
   "cell_type": "markdown",
   "metadata": {},
   "source": [
    "Or you can access nested data,"
   ]
  },
  {
   "cell_type": "code",
   "execution_count": 7,
   "metadata": {
    "ExecuteTime": {
     "end_time": "2021-02-23T15:57:03.323108Z",
     "start_time": "2021-02-23T15:57:03.283355Z"
    }
   },
   "outputs": [
    {
     "data": {
      "text/plain": [
       "1007    2\n",
       "1008    2\n",
       "1037    2\n",
       "1038    2\n",
       "1039    2\n",
       "dtype: object"
      ]
     },
     "execution_count": 7,
     "metadata": {},
     "output_type": "execute_result"
    }
   ],
   "source": [
    "n.link_attribute_data_under_key({'attributes': {'osm:way:lanes': 'text'}}).head()"
   ]
  },
  {
   "cell_type": "markdown",
   "metadata": {},
   "source": [
    "You can also build a `pandas.DataFrame` out of several keys."
   ]
  },
  {
   "cell_type": "code",
   "execution_count": 8,
   "metadata": {
    "ExecuteTime": {
     "end_time": "2021-02-23T15:57:03.413115Z",
     "start_time": "2021-02-23T15:57:03.327550Z"
    }
   },
   "outputs": [
    {
     "data": {
      "text/html": [
       "<div>\n",
       "<style scoped>\n",
       "    .dataframe tbody tr th:only-of-type {\n",
       "        vertical-align: middle;\n",
       "    }\n",
       "\n",
       "    .dataframe tbody tr th {\n",
       "        vertical-align: top;\n",
       "    }\n",
       "\n",
       "    .dataframe thead th {\n",
       "        text-align: right;\n",
       "    }\n",
       "</style>\n",
       "<table border=\"1\" class=\"dataframe\">\n",
       "  <thead>\n",
       "    <tr style=\"text-align: right;\">\n",
       "      <th></th>\n",
       "      <th>freespeed</th>\n",
       "      <th>attributes::osm:way:highway::text</th>\n",
       "    </tr>\n",
       "  </thead>\n",
       "  <tbody>\n",
       "    <tr>\n",
       "      <th>1</th>\n",
       "      <td>4.166667</td>\n",
       "      <td>unclassified</td>\n",
       "    </tr>\n",
       "    <tr>\n",
       "      <th>10</th>\n",
       "      <td>4.166667</td>\n",
       "      <td>unclassified</td>\n",
       "    </tr>\n",
       "    <tr>\n",
       "      <th>100</th>\n",
       "      <td>4.166667</td>\n",
       "      <td>unclassified</td>\n",
       "    </tr>\n",
       "    <tr>\n",
       "      <th>1000</th>\n",
       "      <td>4.166667</td>\n",
       "      <td>residential</td>\n",
       "    </tr>\n",
       "    <tr>\n",
       "      <th>1001</th>\n",
       "      <td>4.166667</td>\n",
       "      <td>residential</td>\n",
       "    </tr>\n",
       "  </tbody>\n",
       "</table>\n",
       "</div>"
      ],
      "text/plain": [
       "      freespeed attributes::osm:way:highway::text\n",
       "1      4.166667                      unclassified\n",
       "10     4.166667                      unclassified\n",
       "100    4.166667                      unclassified\n",
       "1000   4.166667                       residential\n",
       "1001   4.166667                       residential"
      ]
     },
     "execution_count": 8,
     "metadata": {},
     "output_type": "execute_result"
    }
   ],
   "source": [
    "n.link_attribute_data_under_keys(['freespeed', {'attributes': {'osm:way:highway': 'text'}}]).head()"
   ]
  },
  {
   "cell_type": "markdown",
   "metadata": {},
   "source": [
    "## Extracting links of interest\n",
    "\n",
    "The function below gathers link ids which satisfy conditions \n",
    "to arbitrary level of nested-ness. It also allows quite flexible conditions---below we require that the link value\n",
    "at `data['attributes']['osm:way:highway']['text'] == 'primary'`, where data is the data dictionary stored on that link."
   ]
  },
  {
   "cell_type": "code",
   "execution_count": 9,
   "metadata": {
    "ExecuteTime": {
     "end_time": "2021-02-23T15:57:03.419472Z",
     "start_time": "2021-02-23T15:57:03.416550Z"
    }
   },
   "outputs": [],
   "source": [
    "from genet import graph_operations"
   ]
  },
  {
   "cell_type": "code",
   "execution_count": 10,
   "metadata": {
    "ExecuteTime": {
     "end_time": "2021-02-23T15:57:03.450843Z",
     "start_time": "2021-02-23T15:57:03.423582Z"
    }
   },
   "outputs": [],
   "source": [
    "links = n.extract_links_on_edge_attributes(\n",
    "    conditions= {'attributes': {'osm:way:highway': {'text': 'primary'}}},\n",
    ")"
   ]
  },
  {
   "cell_type": "code",
   "execution_count": 11,
   "metadata": {
    "ExecuteTime": {
     "end_time": "2021-02-23T15:57:03.458238Z",
     "start_time": "2021-02-23T15:57:03.452283Z"
    }
   },
   "outputs": [
    {
     "data": {
      "text/plain": [
       "['1007', '1008', '1023', '1024', '103']"
      ]
     },
     "execution_count": 11,
     "metadata": {},
     "output_type": "execute_result"
    }
   ],
   "source": [
    "links[:5]"
   ]
  },
  {
   "cell_type": "code",
   "execution_count": 12,
   "metadata": {
    "ExecuteTime": {
     "end_time": "2021-02-23T15:57:03.468162Z",
     "start_time": "2021-02-23T15:57:03.461754Z"
    }
   },
   "outputs": [
    {
     "data": {
      "text/plain": [
       "619"
      ]
     },
     "execution_count": 12,
     "metadata": {},
     "output_type": "execute_result"
    }
   ],
   "source": [
    "len(links)"
   ]
  },
  {
   "cell_type": "markdown",
   "metadata": {},
   "source": [
    "Below we now require that the link value\n",
    "at `data['attributes']['osm:way:highway']['text'] in ['primary', 'something else']`. There is nothing in the data that has such tags, so the output is the same."
   ]
  },
  {
   "cell_type": "code",
   "execution_count": 13,
   "metadata": {
    "ExecuteTime": {
     "end_time": "2021-02-23T15:57:03.516636Z",
     "start_time": "2021-02-23T15:57:03.470490Z"
    }
   },
   "outputs": [],
   "source": [
    "links = n.extract_links_on_edge_attributes(\n",
    "    conditions= {'attributes': {'osm:way:highway': {'text': ['primary', 'something else']}}},\n",
    ")"
   ]
  },
  {
   "cell_type": "code",
   "execution_count": 14,
   "metadata": {
    "ExecuteTime": {
     "end_time": "2021-02-23T15:57:03.526561Z",
     "start_time": "2021-02-23T15:57:03.520615Z"
    }
   },
   "outputs": [
    {
     "data": {
      "text/plain": [
       "['1007', '1008', '1023', '1024', '103']"
      ]
     },
     "execution_count": 14,
     "metadata": {},
     "output_type": "execute_result"
    }
   ],
   "source": [
    "links[:5]"
   ]
  },
  {
   "cell_type": "code",
   "execution_count": 15,
   "metadata": {
    "ExecuteTime": {
     "end_time": "2021-02-23T15:57:03.534608Z",
     "start_time": "2021-02-23T15:57:03.528569Z"
    }
   },
   "outputs": [
    {
     "data": {
      "text/plain": [
       "619"
      ]
     },
     "execution_count": 15,
     "metadata": {},
     "output_type": "execute_result"
    }
   ],
   "source": [
    "len(links)"
   ]
  },
  {
   "cell_type": "markdown",
   "metadata": {},
   "source": [
    "We can also pass a list of conditions. In this case it makes sense for us to specify how multiple conditions should be handled. We can do it via \n",
    "- `how=all` - all conditions need to be met\n",
    "- `how=any` - at least one condition needs to be met\n",
    "\n",
    "It is set to `any` as default."
   ]
  },
  {
   "cell_type": "code",
   "execution_count": 16,
   "metadata": {
    "ExecuteTime": {
     "end_time": "2021-02-23T15:57:03.577632Z",
     "start_time": "2021-02-23T15:57:03.539486Z"
    }
   },
   "outputs": [],
   "source": [
    "links = n.extract_links_on_edge_attributes(\n",
    "    conditions= [{'attributes': {'osm:way:highway': {'text': 'primary'}}},\n",
    "                 {'attributes': {'osm:way:highway': {'text': 'something else'}}}],\n",
    "    how=any\n",
    ")"
   ]
  },
  {
   "cell_type": "code",
   "execution_count": 17,
   "metadata": {
    "ExecuteTime": {
     "end_time": "2021-02-23T15:57:03.585515Z",
     "start_time": "2021-02-23T15:57:03.579055Z"
    }
   },
   "outputs": [
    {
     "data": {
      "text/plain": [
       "['1007', '1008', '1023', '1024', '103']"
      ]
     },
     "execution_count": 17,
     "metadata": {},
     "output_type": "execute_result"
    }
   ],
   "source": [
    "links[:5]"
   ]
  },
  {
   "cell_type": "code",
   "execution_count": 18,
   "metadata": {
    "ExecuteTime": {
     "end_time": "2021-02-23T15:57:03.592211Z",
     "start_time": "2021-02-23T15:57:03.587366Z"
    }
   },
   "outputs": [
    {
     "data": {
      "text/plain": [
       "619"
      ]
     },
     "execution_count": 18,
     "metadata": {},
     "output_type": "execute_result"
    }
   ],
   "source": [
    "len(links)"
   ]
  },
  {
   "cell_type": "code",
   "execution_count": 19,
   "metadata": {
    "ExecuteTime": {
     "end_time": "2021-02-23T15:57:03.637867Z",
     "start_time": "2021-02-23T15:57:03.594113Z"
    }
   },
   "outputs": [],
   "source": [
    "links = n.extract_links_on_edge_attributes(\n",
    "    conditions= [{'attributes': {'osm:way:highway': {'text': 'primary'}}},\n",
    "                 {'attributes': {'osm:way:highway': {'text': 'something else'}}}],\n",
    "    how=all\n",
    ")"
   ]
  },
  {
   "cell_type": "code",
   "execution_count": 20,
   "metadata": {
    "ExecuteTime": {
     "end_time": "2021-02-23T15:57:03.644689Z",
     "start_time": "2021-02-23T15:57:03.639468Z"
    }
   },
   "outputs": [
    {
     "data": {
      "text/plain": [
       "[]"
      ]
     },
     "execution_count": 20,
     "metadata": {},
     "output_type": "execute_result"
    }
   ],
   "source": [
    "links[:5]"
   ]
  },
  {
   "cell_type": "markdown",
   "metadata": {},
   "source": [
    "As expected, no links satisfy both `data['attributes']['osm:way:highway']['text'] == 'primary'` and `data['attributes']['osm:way:highway']['text'] == 'something else'`."
   ]
  },
  {
   "cell_type": "markdown",
   "metadata": {},
   "source": [
    "Below, we give an example of subsetting a numeric boundary. We find links where `0 <= 'freespeed'  <= 20`."
   ]
  },
  {
   "cell_type": "code",
   "execution_count": 21,
   "metadata": {
    "ExecuteTime": {
     "end_time": "2021-02-23T15:57:03.677804Z",
     "start_time": "2021-02-23T15:57:03.650601Z"
    }
   },
   "outputs": [],
   "source": [
    "links = n.extract_links_on_edge_attributes(\n",
    "    conditions = {'freespeed': (0,20)},\n",
    ")"
   ]
  },
  {
   "cell_type": "code",
   "execution_count": 22,
   "metadata": {
    "ExecuteTime": {
     "end_time": "2021-02-23T15:57:03.684907Z",
     "start_time": "2021-02-23T15:57:03.679190Z"
    }
   },
   "outputs": [
    {
     "data": {
      "text/plain": [
       "['1', '10', '100', '1000', '1001']"
      ]
     },
     "execution_count": 22,
     "metadata": {},
     "output_type": "execute_result"
    }
   ],
   "source": [
    "links[:5]"
   ]
  },
  {
   "cell_type": "code",
   "execution_count": 23,
   "metadata": {
    "ExecuteTime": {
     "end_time": "2021-02-23T15:57:03.694757Z",
     "start_time": "2021-02-23T15:57:03.689832Z"
    }
   },
   "outputs": [
    {
     "data": {
      "text/plain": [
       "2334"
      ]
     },
     "execution_count": 23,
     "metadata": {},
     "output_type": "execute_result"
    }
   ],
   "source": [
    "len(links)"
   ]
  },
  {
   "cell_type": "markdown",
   "metadata": {},
   "source": [
    "Finally, we can define a function that will handle the condition for us. The function should take the value expected at the key in the data dictionary and return either `True` or `False`.\n",
    "\n",
    "For example, below we give an example equivalent to our first example of `data['attributes']['osm:way:highway']['text'] == 'primary'` but using a function we defined ourselves to handle the condition."
   ]
  },
  {
   "cell_type": "code",
   "execution_count": 24,
   "metadata": {
    "ExecuteTime": {
     "end_time": "2021-02-23T15:57:03.742172Z",
     "start_time": "2021-02-23T15:57:03.698377Z"
    }
   },
   "outputs": [],
   "source": [
    "def highway_primary(value):\n",
    "    return value == 'primary'\n",
    "\n",
    "links = n.extract_links_on_edge_attributes(\n",
    "    conditions= {'attributes': {'osm:way:highway': {'text': highway_primary}}},\n",
    ")"
   ]
  },
  {
   "cell_type": "code",
   "execution_count": 25,
   "metadata": {
    "ExecuteTime": {
     "end_time": "2021-02-23T15:57:03.749516Z",
     "start_time": "2021-02-23T15:57:03.744047Z"
    }
   },
   "outputs": [
    {
     "data": {
      "text/plain": [
       "['1007', '1008', '1023', '1024', '103']"
      ]
     },
     "execution_count": 25,
     "metadata": {},
     "output_type": "execute_result"
    }
   ],
   "source": [
    "links[:5]"
   ]
  },
  {
   "cell_type": "code",
   "execution_count": 26,
   "metadata": {
    "ExecuteTime": {
     "end_time": "2021-02-23T15:57:03.757097Z",
     "start_time": "2021-02-23T15:57:03.751744Z"
    }
   },
   "outputs": [
    {
     "data": {
      "text/plain": [
       "619"
      ]
     },
     "execution_count": 26,
     "metadata": {},
     "output_type": "execute_result"
    }
   ],
   "source": [
    "len(links)"
   ]
  },
  {
   "cell_type": "markdown",
   "metadata": {},
   "source": [
    "This allows for really flexible subsetting of the network based on data stored on the edges. Another example, similar to the numeric boundary, but this time we only care about the upper bound and we make it a strict inequality."
   ]
  },
  {
   "cell_type": "code",
   "execution_count": 27,
   "metadata": {
    "ExecuteTime": {
     "end_time": "2021-02-23T15:57:03.790888Z",
     "start_time": "2021-02-23T15:57:03.760025Z"
    }
   },
   "outputs": [],
   "source": [
    "def below_20(value):\n",
    "    return value < 20\n",
    "\n",
    "links = n.extract_links_on_edge_attributes(\n",
    "    conditions= {'freespeed': below_20},\n",
    ")"
   ]
  },
  {
   "cell_type": "code",
   "execution_count": 28,
   "metadata": {
    "ExecuteTime": {
     "end_time": "2021-02-23T15:57:03.799865Z",
     "start_time": "2021-02-23T15:57:03.794503Z"
    }
   },
   "outputs": [
    {
     "data": {
      "text/plain": [
       "['1', '10', '100', '1000', '1001']"
      ]
     },
     "execution_count": 28,
     "metadata": {},
     "output_type": "execute_result"
    }
   ],
   "source": [
    "links[:5]"
   ]
  },
  {
   "cell_type": "code",
   "execution_count": 29,
   "metadata": {
    "ExecuteTime": {
     "end_time": "2021-02-23T15:57:03.807260Z",
     "start_time": "2021-02-23T15:57:03.801491Z"
    }
   },
   "outputs": [
    {
     "data": {
      "text/plain": [
       "2334"
      ]
     },
     "execution_count": 29,
     "metadata": {},
     "output_type": "execute_result"
    }
   ],
   "source": [
    "len(links)"
   ]
  },
  {
   "cell_type": "markdown",
   "metadata": {},
   "source": [
    "### Modal convenience methods"
   ]
  },
  {
   "cell_type": "code",
   "execution_count": 30,
   "metadata": {
    "ExecuteTime": {
     "end_time": "2021-02-23T15:57:03.840206Z",
     "start_time": "2021-02-23T15:57:03.809605Z"
    }
   },
   "outputs": [
    {
     "data": {
      "text/plain": [
       "['1021', '1023', '1024', '1079', '1105']"
      ]
     },
     "execution_count": 30,
     "metadata": {},
     "output_type": "execute_result"
    }
   ],
   "source": [
    "n.links_on_modal_condition('bus')[:5]"
   ]
  },
  {
   "cell_type": "markdown",
   "metadata": {},
   "source": [
    "`nodes_on_modal_condition` will return nodes connected to the links satisfying the modal condition."
   ]
  },
  {
   "cell_type": "code",
   "execution_count": 31,
   "metadata": {
    "ExecuteTime": {
     "end_time": "2021-02-23T15:57:03.922308Z",
     "start_time": "2021-02-23T15:57:03.844001Z"
    }
   },
   "outputs": [
    {
     "data": {
      "text/plain": [
       "['1667203485', '25475924', '255747713', '9521018', '60035533']"
      ]
     },
     "execution_count": 31,
     "metadata": {},
     "output_type": "execute_result"
    }
   ],
   "source": [
    "n.nodes_on_modal_condition(['car', 'bus'])[:5]"
   ]
  },
  {
   "cell_type": "markdown",
   "metadata": {},
   "source": [
    "### Spatial convenience methods\n",
    "\n",
    "For spatial extraction conditions you have a choice of:\n",
    "- `shapely.geometry.Polygon` or `shapely.geometry.GeometryCollection` of Polygons (in epsg:4326)\n",
    "- geojson file, can be generated with [http://geojson.io/](http://geojson.io/)\n",
    "- [S2 Geometry hex string which can be generated and copied from http://s2.sidewalklabs.com/regioncoverer](http://s2.sidewalklabs.com/regioncoverer/?center=51.522960%2C-0.144245&zoom=16&cells=48761ad71%2C48761ad723%2C48761ad724c%2C48761ad73c%2C48761ad744%2C48761ad75d3%2C48761ad75d5%2C48761ad765%2C48761ad767%2C48761ad76c%2C48761ad774%2C48761ad779%2C48761ad77b%2C48761ad783%2C48761ad784c%2C48761ad7854%2C48761ad794%2C48761ad79c%2C48761ad7a4%2C48761ad7ac%2C48761ad7b1%2C48761ad7bc)\n"
   ]
  },
  {
   "cell_type": "code",
   "execution_count": 32,
   "metadata": {
    "ExecuteTime": {
     "end_time": "2021-02-23T15:57:04.981266Z",
     "start_time": "2021-02-23T15:57:03.924934Z"
    }
   },
   "outputs": [
    {
     "name": "stderr",
     "output_type": "stream",
     "text": [
      "/Users/kasia.kozlowska/pycharm_venvs/genet/lib/python3.7/site-packages/pyproj/crs/crs.py:53: FutureWarning: '+init=<authority>:<code>' syntax is deprecated. '<authority>:<code>' is the preferred initialization method. When making the change, be mindful of axis order changes: https://pyproj4.github.io/pyproj/stable/gotchas.html#axis-order-changes-in-proj-6\n",
      "  return _prepare_from_string(\" \".join(pjargs))\n"
     ]
    }
   ],
   "source": [
    "from genet.outputs_handler.geojson import generate_geodataframes\n",
    "gdf_nodes, gdf_links = generate_geodataframes(n.graph)"
   ]
  },
  {
   "cell_type": "code",
   "execution_count": 33,
   "metadata": {
    "ExecuteTime": {
     "end_time": "2021-02-23T15:57:05.000975Z",
     "start_time": "2021-02-23T15:57:04.982828Z"
    }
   },
   "outputs": [
    {
     "data": {
      "text/plain": [
       "5"
      ]
     },
     "execution_count": 33,
     "metadata": {},
     "output_type": "execute_result"
    }
   ],
   "source": [
    "region = '48761ad71,48761ad723,48761ad724c,48761ad73c,48761ad744,48761ad75d3,48761ad75d5,48761ad765,48761ad767,48761ad76c,48761ad774,48761ad779,48761ad77b,48761ad783,48761ad784c,48761ad7854,48761ad794,48761ad79c,48761ad7a4,48761ad7ac,48761ad7b1,48761ad7bc'\n",
    "_nodes = n.nodes_on_spatial_condition(region)[:5]\n",
    "len(_nodes)"
   ]
  },
  {
   "cell_type": "code",
   "execution_count": 34,
   "metadata": {
    "ExecuteTime": {
     "end_time": "2021-02-23T15:57:05.554963Z",
     "start_time": "2021-02-23T15:57:05.002443Z"
    }
   },
   "outputs": [
    {
     "data": {
      "text/plain": [
       "(<matplotlib.axes._subplots.AxesSubplot at 0x11c182048>,\n",
       " <matplotlib.axes._subplots.AxesSubplot at 0x11c2126a0>)"
      ]
     },
     "execution_count": 34,
     "metadata": {},
     "output_type": "execute_result"
    },
    {
     "data": {
      "image/png": "[encoded data removed]",
      "text/plain": [
       "<Figure size 432x288 with 1 Axes>"
      ]
     },
     "metadata": {
      "needs_background": "light"
     },
     "output_type": "display_data"
    },
    {
     "data": {
      "image/png": "[encoded data removed]",
      "text/plain": [
       "<Figure size 432x288 with 1 Axes>"
      ]
     },
     "metadata": {
      "needs_background": "light"
     },
     "output_type": "display_data"
    }
   ],
   "source": [
    "gdf_nodes.plot(), gdf_nodes[gdf_nodes['id'].isin(_nodes)].plot()"
   ]
  },
  {
   "cell_type": "code",
   "execution_count": 35,
   "metadata": {
    "ExecuteTime": {
     "end_time": "2021-02-23T15:57:06.547763Z",
     "start_time": "2021-02-23T15:57:05.556683Z"
    }
   },
   "outputs": [
    {
     "name": "stderr",
     "output_type": "stream",
     "text": [
      "/Users/kasia.kozlowska/pycharm_venvs/genet/lib/python3.7/site-packages/pyproj/crs/crs.py:53: FutureWarning: '+init=<authority>:<code>' syntax is deprecated. '<authority>:<code>' is the preferred initialization method. When making the change, be mindful of axis order changes: https://pyproj4.github.io/pyproj/stable/gotchas.html#axis-order-changes-in-proj-6\n",
      "  return _prepare_from_string(\" \".join(pjargs))\n"
     ]
    },
    {
     "data": {
      "text/plain": [
       "270"
      ]
     },
     "execution_count": 35,
     "metadata": {},
     "output_type": "execute_result"
    }
   ],
   "source": [
    "geojson = '../example_data/Fitzrovia_polygon.geojson'\n",
    "\n",
    "# here the area is too small for any routes to be within it\n",
    "_links = n.links_on_spatial_condition(geojson, how='intersect')\n",
    "len(_links)"
   ]
  },
  {
   "cell_type": "code",
   "execution_count": 36,
   "metadata": {
    "ExecuteTime": {
     "end_time": "2021-02-23T15:57:07.306912Z",
     "start_time": "2021-02-23T15:57:06.549496Z"
    }
   },
   "outputs": [
    {
     "data": {
      "text/plain": [
       "(<matplotlib.axes._subplots.AxesSubplot at 0x11bb65ef0>,\n",
       " <matplotlib.axes._subplots.AxesSubplot at 0x11c345e48>)"
      ]
     },
     "execution_count": 36,
     "metadata": {},
     "output_type": "execute_result"
    },
    {
     "data": {
      "image/png": "[encoded data removed]",
      "text/plain": [
       "<Figure size 432x288 with 1 Axes>"
      ]
     },
     "metadata": {
      "needs_background": "light"
     },
     "output_type": "display_data"
    },
    {
     "data": {
      "image/png": "[encoded data removed]",
      "text/plain": [
       "<Figure size 432x288 with 1 Axes>"
      ]
     },
     "metadata": {
      "needs_background": "light"
     },
     "output_type": "display_data"
    }
   ],
   "source": [
    "gdf_links.plot(), gdf_links[gdf_links['id'].isin(_links)].plot()"
   ]
  },
  {
   "cell_type": "code",
   "execution_count": 37,
   "metadata": {
    "ExecuteTime": {
     "end_time": "2021-02-23T15:57:08.708100Z",
     "start_time": "2021-02-23T15:57:07.335078Z"
    }
   },
   "outputs": [
    {
     "name": "stderr",
     "output_type": "stream",
     "text": [
      "/Users/kasia.kozlowska/pycharm_venvs/genet/lib/python3.7/site-packages/pyproj/crs/crs.py:53: FutureWarning: '+init=<authority>:<code>' syntax is deprecated. '<authority>:<code>' is the preferred initialization method. When making the change, be mindful of axis order changes: https://pyproj4.github.io/pyproj/stable/gotchas.html#axis-order-changes-in-proj-6\n",
      "  return _prepare_from_string(\" \".join(pjargs))\n"
     ]
    },
    {
     "data": {
      "text/plain": [
       "227"
      ]
     },
     "execution_count": 37,
     "metadata": {},
     "output_type": "execute_result"
    }
   ],
   "source": [
    "from shapely.geometry import Polygon\n",
    "\n",
    "region = Polygon([\n",
    "    (-0.1487016677856445, 51.52556684350165), (-0.14063358306884766, 51.5255134425896),\n",
    "    (-0.13865947723388672, 51.5228700191647), (-0.14093399047851562, 51.52006622056997),\n",
    "    (-0.1492595672607422, 51.51974577545329), (-0.1508045196533203, 51.52276321095246),\n",
    "    (-0.1487016677856445, 51.52556684350165)])\n",
    "\n",
    "_links = n.links_on_spatial_condition(region, how='within')\n",
    "len(_links)"
   ]
  },
  {
   "cell_type": "code",
   "execution_count": 38,
   "metadata": {
    "ExecuteTime": {
     "end_time": "2021-02-23T15:57:09.294810Z",
     "start_time": "2021-02-23T15:57:08.710673Z"
    }
   },
   "outputs": [
    {
     "data": {
      "text/plain": [
       "(<matplotlib.axes._subplots.AxesSubplot at 0x11b914e10>,\n",
       " <matplotlib.axes._subplots.AxesSubplot at 0x11ba6dba8>)"
      ]
     },
     "execution_count": 38,
     "metadata": {},
     "output_type": "execute_result"
    },
    {
     "data": {
      "image/png": "[encoded data removed]",
      "text/plain": [
       "<Figure size 432x288 with 1 Axes>"
      ]
     },
     "metadata": {
      "needs_background": "light"
     },
     "output_type": "display_data"
    },
    {
     "data": {
      "image/png": "[encoded data removed]",
      "text/plain": [
       "<Figure size 432x288 with 1 Axes>"
      ]
     },
     "metadata": {
      "needs_background": "light"
     },
     "output_type": "display_data"
    }
   ],
   "source": [
    "gdf_links.plot(), gdf_links[gdf_links['id'].isin(_links)].plot()"
   ]
  },
  {
   "cell_type": "markdown",
   "metadata": {},
   "source": [
    "# Using the `Schedule` object\n",
    "`Schedule` is a representation of public transit and is a part of any `genet.Network`, it is initiated as empty. A Network can exist and still be valid with an empty `Schedule`. Earlier we read a MATSim transit schedule. \n",
    "\n",
    "A `Schedule` is comprised of a number of nested objects. Each `Schedule` has a number of `Service`s. Each `Service` is made up a number of `Route`s. A `Route` is defined by an ordered list of `Stop` objects. Every `Service` should, logically, have at least two `Route`s, one going in one direction and another going back. Each `Route` also hold information about the trips, their timing and offsets arriving and departing at the `Stop`s.\n",
    "\n",
    "We can look at quick stats:"
   ]
  },
  {
   "cell_type": "code",
   "execution_count": 39,
   "metadata": {
    "ExecuteTime": {
     "end_time": "2021-02-23T15:57:09.307473Z",
     "start_time": "2021-02-23T15:57:09.297474Z"
    }
   },
   "outputs": [
    {
     "name": "stdout",
     "output_type": "stream",
     "text": [
      "Schedule:\n",
      "Number of services: 9\n",
      "Number of routes: 68\n",
      "Number of stops: 45\n"
     ]
    }
   ],
   "source": [
    "n.schedule.print()"
   ]
  },
  {
   "cell_type": "markdown",
   "metadata": {},
   "source": [
    "Or we can plot the `Schedule` object. A `Schedule` on its' own does not have information about the `Network`, even if it has refrences to it via network routes in the `Route` objects. Thus calling a `plot` method on a Schedule will result in a plot of connections between stops for all `Route`s within all `Service`s. To plot the network routes of the `Schedule` we use the `plot` method for the `Network` object which holds that `Schedule`."
   ]
  },
  {
   "cell_type": "code",
   "execution_count": 40,
   "metadata": {
    "ExecuteTime": {
     "end_time": "2021-02-23T15:57:09.594740Z",
     "start_time": "2021-02-23T15:57:09.316185Z"
    }
   },
   "outputs": [
    {
     "name": "stderr",
     "output_type": "stream",
     "text": [
      "/Users/kasia.kozlowska/pycharm_venvs/genet/lib/python3.7/site-packages/pyproj/crs/crs.py:53: FutureWarning: '+init=<authority>:<code>' syntax is deprecated. '<authority>:<code>' is the preferred initialization method. When making the change, be mindful of axis order changes: https://pyproj4.github.io/pyproj/stable/gotchas.html#axis-order-changes-in-proj-6\n",
      "  return _prepare_from_string(\" \".join(pjargs))\n",
      "/Users/kasia.kozlowska/pycharm_venvs/genet/lib/python3.7/site-packages/pyproj/crs/crs.py:53: FutureWarning: '+init=<authority>:<code>' syntax is deprecated. '<authority>:<code>' is the preferred initialization method. When making the change, be mindful of axis order changes: https://pyproj4.github.io/pyproj/stable/gotchas.html#axis-order-changes-in-proj-6\n",
      "  return _prepare_from_string(\" \".join(pjargs))\n"
     ]
    },
    {
     "data": {
      "image/png": "[encoded data removed]",
      "text/plain": [
       "<Figure size 576x576 with 1 Axes>"
      ]
     },
     "metadata": {},
     "output_type": "display_data"
    },
    {
     "data": {
      "text/plain": [
       "(<Figure size 576x576 with 1 Axes>,\n",
       " <matplotlib.axes._subplots.AxesSubplot at 0x11ba627f0>)"
      ]
     },
     "execution_count": 40,
     "metadata": {},
     "output_type": "execute_result"
    }
   ],
   "source": [
    "n.schedule.plot()"
   ]
  },
  {
   "cell_type": "markdown",
   "metadata": {},
   "source": [
    "## Summary\n",
    "Schedules can get large and complicated. GeNet includes methods similar to ones presented for `Network` objects. This time, instead of inspecting data stored on links and edges of a graph, we summarise data held for Stops, Routes and Services in the Schedule."
   ]
  },
  {
   "cell_type": "code",
   "execution_count": 41,
   "metadata": {
    "ExecuteTime": {
     "end_time": "2021-02-23T15:57:09.612812Z",
     "start_time": "2021-02-23T15:57:09.603602Z"
    }
   },
   "outputs": [
    {
     "name": "stdout",
     "output_type": "stream",
     "text": [
      "attribute\n",
      "├── services\n",
      "├── routes\n",
      "├── id\n",
      "├── x\n",
      "├── y\n",
      "├── epsg\n",
      "├── name\n",
      "├── lat\n",
      "├── lon\n",
      "├── s2_id\n",
      "├── additional_attributes\n",
      "├── linkRefId\n",
      "└── isBlocking\n"
     ]
    }
   ],
   "source": [
    "n.schedule.stop_attribute_summary(data=False)"
   ]
  },
  {
   "cell_type": "code",
   "execution_count": 42,
   "metadata": {
    "ExecuteTime": {
     "end_time": "2021-02-23T15:57:09.648920Z",
     "start_time": "2021-02-23T15:57:09.616616Z"
    }
   },
   "outputs": [
    {
     "name": "stdout",
     "output_type": "stream",
     "text": [
      "attribute\n",
      "├── route_short_name: ['94', '113', 'N8', 'N20', 'N5']\n",
      "├── mode: ['bus']\n",
      "├── trips\n",
      "│   ├── trip_id: ['VJ33e5546bdd3e9281dc8dbe530d67dd7e34352b61_15:09:00', 'VJ7d40809e4e187795fcb14f1befa17036baedb04c_17:32:00', 'VJ093350c7a24291d42b83678a7f298e6c6c875e9f_08:51:00', 'VJe3087fc34c73052fcfbbf9e3256adf7f629f38a9_24:01:00', 'VJ6cc11fb46ab954b63161bf1bee99b178603e3bb7_16:07:00']\n",
      "│   ├── trip_departure_time: ['09:58:13', '18:06:00', '02:44:00', '09:46:34', '11:07:34']\n",
      "│   └── vehicle_id: ['veh_1853_bus', 'veh_1715_bus', 'veh_765_bus', 'veh_926_bus', 'veh_529_bus']\n",
      "├── arrival_offsets: ['00:04:55', '00:01:15', '00:03:23', '00:06:40', '00:05:56']\n",
      "├── departure_offsets: ['00:04:55', '00:01:15', '00:03:23', '00:06:40', '00:05:56']\n",
      "├── route_long_name: ['']\n",
      "├── id: ['VJ95b4c534d7c903d76ec0340025aa88b81dba3ce4', 'VJ8a4b1ca7dfd0a130abd1de9f55f3b756617dd4ca', 'VJ256e98df611ff48afe737ddc81cbcde82e4e81c8', 'VJ6c64ab7b477e201cae950efde5bd0cb4e2e8888e', 'VJ0cb60de3ed229c1413abac506e770b6ab8a7c49a']\n",
      "├── route: ['1106', '3041', '3328', '3017', '730']\n",
      "├── await_departure: [True]\n",
      "└── ordered_stops: ['490000173Z.link:3041', '490002121ZT.link:916', '490000252E.link:1239', '490000173JB.link:1663', '490010689KB.link:981']\n"
     ]
    }
   ],
   "source": [
    "n.schedule.route_attribute_summary(data=True)"
   ]
  },
  {
   "cell_type": "code",
   "execution_count": 43,
   "metadata": {
    "ExecuteTime": {
     "end_time": "2021-02-23T15:57:09.663296Z",
     "start_time": "2021-02-23T15:57:09.653639Z"
    }
   },
   "outputs": [
    {
     "name": "stdout",
     "output_type": "stream",
     "text": [
      "attribute\n",
      "├── id: ['15660', '15234', '12430', '17732', '18915']\n",
      "└── name: ['113', '94', 'N8', 'N20', 'N5']\n"
     ]
    }
   ],
   "source": [
    "n.schedule.service_attribute_summary(data=True)"
   ]
  },
  {
   "cell_type": "markdown",
   "metadata": {},
   "source": [
    "Again, similarly to `Network` objects, we can generate `pandas.DataFrame`s for chosen attributes of Stops, Routes and Services. These dataframes are indexed by the index of the object you query, i.e. Stop ID, Route ID or Service ID. During intantiation of a Schedule object, Route and Service indices are checked and forced to be unique, reindexing them as neccessary."
   ]
  },
  {
   "cell_type": "code",
   "execution_count": 44,
   "metadata": {
    "ExecuteTime": {
     "end_time": "2021-02-23T15:57:09.699197Z",
     "start_time": "2021-02-23T15:57:09.667201Z"
    }
   },
   "outputs": [
    {
     "data": {
      "text/html": [
       "<div>\n",
       "<style scoped>\n",
       "    .dataframe tbody tr th:only-of-type {\n",
       "        vertical-align: middle;\n",
       "    }\n",
       "\n",
       "    .dataframe tbody tr th {\n",
       "        vertical-align: top;\n",
       "    }\n",
       "\n",
       "    .dataframe thead th {\n",
       "        text-align: right;\n",
       "    }\n",
       "</style>\n",
       "<table border=\"1\" class=\"dataframe\">\n",
       "  <thead>\n",
       "    <tr style=\"text-align: right;\">\n",
       "      <th></th>\n",
       "      <th>lat</th>\n",
       "      <th>lon</th>\n",
       "      <th>name</th>\n",
       "    </tr>\n",
       "  </thead>\n",
       "  <tbody>\n",
       "    <tr>\n",
       "      <th>490000235X.link:834</th>\n",
       "      <td>51.516685</td>\n",
       "      <td>-0.128096</td>\n",
       "      <td>Tottenham Court Road Station (Stop X)</td>\n",
       "    </tr>\n",
       "    <tr>\n",
       "      <th>490000235YB.link:574</th>\n",
       "      <td>51.516098</td>\n",
       "      <td>-0.134044</td>\n",
       "      <td>Oxford Street  Soho Street (Stop YB)</td>\n",
       "    </tr>\n",
       "    <tr>\n",
       "      <th>490014214HE.link:3154</th>\n",
       "      <td>51.515923</td>\n",
       "      <td>-0.135392</td>\n",
       "      <td>Wardour Street (Stop OM)</td>\n",
       "    </tr>\n",
       "    <tr>\n",
       "      <th>490010689KB.link:981</th>\n",
       "      <td>51.515472</td>\n",
       "      <td>-0.139893</td>\n",
       "      <td>Great Titchfield Street  Oxford Circus Station...</td>\n",
       "    </tr>\n",
       "    <tr>\n",
       "      <th>490000235P.link:15</th>\n",
       "      <td>51.516762</td>\n",
       "      <td>-0.128295</td>\n",
       "      <td>Tottenham Court Road Station  New Oxford Stree...</td>\n",
       "    </tr>\n",
       "  </tbody>\n",
       "</table>\n",
       "</div>"
      ],
      "text/plain": [
       "                             lat       lon  \\\n",
       "490000235X.link:834    51.516685 -0.128096   \n",
       "490000235YB.link:574   51.516098 -0.134044   \n",
       "490014214HE.link:3154  51.515923 -0.135392   \n",
       "490010689KB.link:981   51.515472 -0.139893   \n",
       "490000235P.link:15     51.516762 -0.128295   \n",
       "\n",
       "                                                                    name  \n",
       "490000235X.link:834                Tottenham Court Road Station (Stop X)  \n",
       "490000235YB.link:574                Oxford Street  Soho Street (Stop YB)  \n",
       "490014214HE.link:3154                           Wardour Street (Stop OM)  \n",
       "490010689KB.link:981   Great Titchfield Street  Oxford Circus Station...  \n",
       "490000235P.link:15     Tottenham Court Road Station  New Oxford Stree...  "
      ]
     },
     "execution_count": 44,
     "metadata": {},
     "output_type": "execute_result"
    }
   ],
   "source": [
    "n.schedule.stop_attribute_data(keys=['lat', 'lon', 'name']).head()"
   ]
  },
  {
   "cell_type": "code",
   "execution_count": 45,
   "metadata": {
    "ExecuteTime": {
     "end_time": "2021-02-23T15:57:09.747568Z",
     "start_time": "2021-02-23T15:57:09.704696Z"
    }
   },
   "outputs": [
    {
     "data": {
      "text/html": [
       "<div>\n",
       "<style scoped>\n",
       "    .dataframe tbody tr th:only-of-type {\n",
       "        vertical-align: middle;\n",
       "    }\n",
       "\n",
       "    .dataframe tbody tr th {\n",
       "        vertical-align: top;\n",
       "    }\n",
       "\n",
       "    .dataframe thead th {\n",
       "        text-align: right;\n",
       "    }\n",
       "</style>\n",
       "<table border=\"1\" class=\"dataframe\">\n",
       "  <thead>\n",
       "    <tr style=\"text-align: right;\">\n",
       "      <th></th>\n",
       "      <th>route_short_name</th>\n",
       "      <th>mode</th>\n",
       "    </tr>\n",
       "  </thead>\n",
       "  <tbody>\n",
       "    <tr>\n",
       "      <th>VJ375a660d47a2aa570aa20a8568012da8497ffecf</th>\n",
       "      <td>N55</td>\n",
       "      <td>bus</td>\n",
       "    </tr>\n",
       "    <tr>\n",
       "      <th>VJ6c64ab7b477e201cae950efde5bd0cb4e2e8888e</th>\n",
       "      <td>N55</td>\n",
       "      <td>bus</td>\n",
       "    </tr>\n",
       "    <tr>\n",
       "      <th>VJ812fad65e7fa418645b57b446f00cba573f2cdaf</th>\n",
       "      <td>N55</td>\n",
       "      <td>bus</td>\n",
       "    </tr>\n",
       "    <tr>\n",
       "      <th>VJ95b4c534d7c903d76ec0340025aa88b81dba3ce4</th>\n",
       "      <td>205</td>\n",
       "      <td>bus</td>\n",
       "    </tr>\n",
       "    <tr>\n",
       "      <th>VJ8a4b1ca7dfd0a130abd1de9f55f3b756617dd4ca</th>\n",
       "      <td>N5</td>\n",
       "      <td>bus</td>\n",
       "    </tr>\n",
       "  </tbody>\n",
       "</table>\n",
       "</div>"
      ],
      "text/plain": [
       "                                           route_short_name mode\n",
       "VJ375a660d47a2aa570aa20a8568012da8497ffecf              N55  bus\n",
       "VJ6c64ab7b477e201cae950efde5bd0cb4e2e8888e              N55  bus\n",
       "VJ812fad65e7fa418645b57b446f00cba573f2cdaf              N55  bus\n",
       "VJ95b4c534d7c903d76ec0340025aa88b81dba3ce4              205  bus\n",
       "VJ8a4b1ca7dfd0a130abd1de9f55f3b756617dd4ca               N5  bus"
      ]
     },
     "execution_count": 45,
     "metadata": {},
     "output_type": "execute_result"
    }
   ],
   "source": [
    "n.schedule.route_attribute_data(keys=['route_short_name', 'mode']).head()"
   ]
  },
  {
   "cell_type": "code",
   "execution_count": 46,
   "metadata": {
    "ExecuteTime": {
     "end_time": "2021-02-23T15:57:09.776279Z",
     "start_time": "2021-02-23T15:57:09.757191Z"
    }
   },
   "outputs": [
    {
     "data": {
      "text/html": [
       "<div>\n",
       "<style scoped>\n",
       "    .dataframe tbody tr th:only-of-type {\n",
       "        vertical-align: middle;\n",
       "    }\n",
       "\n",
       "    .dataframe tbody tr th {\n",
       "        vertical-align: top;\n",
       "    }\n",
       "\n",
       "    .dataframe thead th {\n",
       "        text-align: right;\n",
       "    }\n",
       "</style>\n",
       "<table border=\"1\" class=\"dataframe\">\n",
       "  <thead>\n",
       "    <tr style=\"text-align: right;\">\n",
       "      <th></th>\n",
       "      <th>name</th>\n",
       "    </tr>\n",
       "    <tr>\n",
       "      <th>service_id</th>\n",
       "      <th></th>\n",
       "    </tr>\n",
       "  </thead>\n",
       "  <tbody>\n",
       "    <tr>\n",
       "      <th>20274</th>\n",
       "      <td>N55</td>\n",
       "    </tr>\n",
       "    <tr>\n",
       "      <th>15660</th>\n",
       "      <td>113</td>\n",
       "    </tr>\n",
       "    <tr>\n",
       "      <th>15234</th>\n",
       "      <td>134</td>\n",
       "    </tr>\n",
       "    <tr>\n",
       "      <th>17732</th>\n",
       "      <td>N20</td>\n",
       "    </tr>\n",
       "    <tr>\n",
       "      <th>12430</th>\n",
       "      <td>205</td>\n",
       "    </tr>\n",
       "  </tbody>\n",
       "</table>\n",
       "</div>"
      ],
      "text/plain": [
       "           name\n",
       "service_id     \n",
       "20274       N55\n",
       "15660       113\n",
       "15234       134\n",
       "17732       N20\n",
       "12430       205"
      ]
     },
     "execution_count": 46,
     "metadata": {},
     "output_type": "execute_result"
    }
   ],
   "source": [
    "n.schedule.service_attribute_data(keys='name', index_name='service_id').head()"
   ]
  },
  {
   "cell_type": "markdown",
   "metadata": {},
   "source": [
    "Each trip in the schedule has a vehicle assigned to it. By default, each trip will have a unique vehicle, but this can be changed by the user (have a look in modification notebook). Each vehicle is linked to a type. Each schedule begins with types based off of a config `genet/configs/vehicles/vehicle_definitions.yml`, the user may like to point to their own config file or set those values through the Schedule object."
   ]
  },
  {
   "cell_type": "code",
   "execution_count": 72,
   "metadata": {
    "ExecuteTime": {
     "end_time": "2021-02-23T16:30:12.047926Z",
     "start_time": "2021-02-23T16:30:12.043957Z"
    }
   },
   "outputs": [
    {
     "data": {
      "text/plain": [
       "{'type': 'Bus'}"
      ]
     },
     "execution_count": 72,
     "metadata": {},
     "output_type": "execute_result"
    }
   ],
   "source": [
    "n.schedule.vehicles['veh_2331_bus']"
   ]
  },
  {
   "cell_type": "code",
   "execution_count": 74,
   "metadata": {
    "ExecuteTime": {
     "end_time": "2021-02-23T16:30:22.818246Z",
     "start_time": "2021-02-23T16:30:22.811727Z"
    }
   },
   "outputs": [
    {
     "data": {
      "text/plain": [
       "{'capacity': {'seats': {'persons': '70'}, 'standingRoom': {'persons': 5}},\n",
       " 'length': {'meter': '18.0'},\n",
       " 'width': {'meter': '2.5'},\n",
       " 'accessTime': {'secondsPerPerson': '0.5'},\n",
       " 'egressTime': {'secondsPerPerson': '0.5'},\n",
       " 'doorOperation': {'mode': 'serial'},\n",
       " 'passengerCarEquivalents': {'pce': '2.8'}}"
      ]
     },
     "execution_count": 74,
     "metadata": {},
     "output_type": "execute_result"
    }
   ],
   "source": [
    "n.schedule.vehicle_types['Bus']['capacity']['standingRoom']['persons'] = 5\n",
    "n.schedule.vehicle_types['Bus']"
   ]
  },
  {
   "cell_type": "markdown",
   "metadata": {},
   "source": [
    "There exists a method to check that all vehicles are linked to a vehicle type which exists in the schedule."
   ]
  },
  {
   "cell_type": "code",
   "execution_count": 75,
   "metadata": {
    "ExecuteTime": {
     "end_time": "2021-02-23T16:30:27.296649Z",
     "start_time": "2021-02-23T16:30:27.153707Z"
    }
   },
   "outputs": [
    {
     "data": {
      "text/plain": [
       "True"
      ]
     },
     "execution_count": 75,
     "metadata": {},
     "output_type": "execute_result"
    }
   ],
   "source": [
    "n.schedule.validate_vehicle_definitions()"
   ]
  },
  {
   "cell_type": "markdown",
   "metadata": {},
   "source": [
    "`route_trips_to_dataframe` is a useful method to extract all of the trips, their departures and vehicle IDs associated with the trips in the schedule. Trip ids need not be unique, route IDs provide a secondary index. Associated service IDs are also given for convenience. There is another method `set_route_trips_dataframe` which takes this dataframe and applies changes to all route trips based on the data in the dataframe. This means you can generate this DataFrame as shown below, manipulate trips (delete them, add new ones), change their departure times or change their vehicle ids to be shared for differnt trips, perhaps on some temporal logic and as long as the dataframe has the same schema, you can use it to set new trips in the schedule. This will appear in the changelog as a route level modify event. More info on this can be found in the Modifying Network notebook or wiki page."
   ]
  },
  {
   "cell_type": "code",
   "execution_count": 77,
   "metadata": {
    "ExecuteTime": {
     "end_time": "2021-02-23T16:31:35.683908Z",
     "start_time": "2021-02-23T16:31:35.628963Z"
    }
   },
   "outputs": [
    {
     "data": {
      "text/html": [
       "<div>\n",
       "<style scoped>\n",
       "    .dataframe tbody tr th:only-of-type {\n",
       "        vertical-align: middle;\n",
       "    }\n",
       "\n",
       "    .dataframe tbody tr th {\n",
       "        vertical-align: top;\n",
       "    }\n",
       "\n",
       "    .dataframe thead th {\n",
       "        text-align: right;\n",
       "    }\n",
       "</style>\n",
       "<table border=\"1\" class=\"dataframe\">\n",
       "  <thead>\n",
       "    <tr style=\"text-align: right;\">\n",
       "      <th></th>\n",
       "      <th>service_id</th>\n",
       "      <th>route_id</th>\n",
       "      <th>trip_id</th>\n",
       "      <th>trip_departure_time</th>\n",
       "      <th>vehicle_id</th>\n",
       "    </tr>\n",
       "  </thead>\n",
       "  <tbody>\n",
       "    <tr>\n",
       "      <th>0</th>\n",
       "      <td>20274</td>\n",
       "      <td>VJ375a660d47a2aa570aa20a8568012da8497ffecf</td>\n",
       "      <td>VJ2cdccea96e0e3e6a53a968bcb132941415d6d7c9_04:...</td>\n",
       "      <td>2021-01-01 04:53:00</td>\n",
       "      <td>veh_2331_bus</td>\n",
       "    </tr>\n",
       "    <tr>\n",
       "      <th>1</th>\n",
       "      <td>20274</td>\n",
       "      <td>VJ375a660d47a2aa570aa20a8568012da8497ffecf</td>\n",
       "      <td>VJ375a660d47a2aa570aa20a8568012da8497ffecf_03:...</td>\n",
       "      <td>2021-01-01 03:53:00</td>\n",
       "      <td>veh_2332_bus</td>\n",
       "    </tr>\n",
       "    <tr>\n",
       "      <th>2</th>\n",
       "      <td>20274</td>\n",
       "      <td>VJ375a660d47a2aa570aa20a8568012da8497ffecf</td>\n",
       "      <td>VJ3b9d77d2ef200b21c8048fea5eedc2d2788a1b94_01:...</td>\n",
       "      <td>2021-01-01 01:54:00</td>\n",
       "      <td>veh_2333_bus</td>\n",
       "    </tr>\n",
       "    <tr>\n",
       "      <th>3</th>\n",
       "      <td>20274</td>\n",
       "      <td>VJ375a660d47a2aa570aa20a8568012da8497ffecf</td>\n",
       "      <td>VJ79974c386a39426e06783650a759828438432aa4_05:...</td>\n",
       "      <td>2021-01-01 05:23:00</td>\n",
       "      <td>veh_2334_bus</td>\n",
       "    </tr>\n",
       "    <tr>\n",
       "      <th>4</th>\n",
       "      <td>20274</td>\n",
       "      <td>VJ375a660d47a2aa570aa20a8568012da8497ffecf</td>\n",
       "      <td>VJa09c394b71031216571d813a6266c83f2d30bf0a_04:...</td>\n",
       "      <td>2021-01-01 04:23:00</td>\n",
       "      <td>veh_2335_bus</td>\n",
       "    </tr>\n",
       "  </tbody>\n",
       "</table>\n",
       "</div>"
      ],
      "text/plain": [
       "  service_id                                    route_id  \\\n",
       "0      20274  VJ375a660d47a2aa570aa20a8568012da8497ffecf   \n",
       "1      20274  VJ375a660d47a2aa570aa20a8568012da8497ffecf   \n",
       "2      20274  VJ375a660d47a2aa570aa20a8568012da8497ffecf   \n",
       "3      20274  VJ375a660d47a2aa570aa20a8568012da8497ffecf   \n",
       "4      20274  VJ375a660d47a2aa570aa20a8568012da8497ffecf   \n",
       "\n",
       "                                             trip_id trip_departure_time  \\\n",
       "0  VJ2cdccea96e0e3e6a53a968bcb132941415d6d7c9_04:... 2021-01-01 04:53:00   \n",
       "1  VJ375a660d47a2aa570aa20a8568012da8497ffecf_03:... 2021-01-01 03:53:00   \n",
       "2  VJ3b9d77d2ef200b21c8048fea5eedc2d2788a1b94_01:... 2021-01-01 01:54:00   \n",
       "3  VJ79974c386a39426e06783650a759828438432aa4_05:... 2021-01-01 05:23:00   \n",
       "4  VJa09c394b71031216571d813a6266c83f2d30bf0a_04:... 2021-01-01 04:23:00   \n",
       "\n",
       "     vehicle_id  \n",
       "0  veh_2331_bus  \n",
       "1  veh_2332_bus  \n",
       "2  veh_2333_bus  \n",
       "3  veh_2334_bus  \n",
       "4  veh_2335_bus  "
      ]
     },
     "execution_count": 77,
     "metadata": {},
     "output_type": "execute_result"
    }
   ],
   "source": [
    "n.schedule.route_trips_to_dataframe(gtfs_day='20210101').head()"
   ]
  },
  {
   "cell_type": "markdown",
   "metadata": {},
   "source": [
    "## Extracting Stops, Routes, Services of interest\n",
    "\n",
    "There are times when we need to extract Service, Route or Stop IDs depending on some logic. Building conditions works exactly the same as for links and nodes of `genet.Network` which was presented exhaustively above. Here we present some examples. There are separate methods for `Service`, `Route` or `Stop` objects that return the IDs of these objects if they satisfy the conditions given by the user. Note, `attribute_summary` methods presented above help in building these conditions."
   ]
  },
  {
   "cell_type": "markdown",
   "metadata": {},
   "source": [
    "### In general"
   ]
  },
  {
   "cell_type": "code",
   "execution_count": 47,
   "metadata": {
    "ExecuteTime": {
     "end_time": "2021-02-23T15:57:09.821018Z",
     "start_time": "2021-02-23T15:57:09.806374Z"
    }
   },
   "outputs": [
    {
     "data": {
      "text/plain": [
       "['20274']"
      ]
     },
     "execution_count": 47,
     "metadata": {},
     "output_type": "execute_result"
    }
   ],
   "source": [
    "n.schedule.extract_service_ids_on_attributes(\n",
    "    conditions={'name': 'N55'})"
   ]
  },
  {
   "cell_type": "code",
   "execution_count": 48,
   "metadata": {
    "ExecuteTime": {
     "end_time": "2021-02-23T15:57:09.832674Z",
     "start_time": "2021-02-23T15:57:09.823640Z"
    }
   },
   "outputs": [
    {
     "data": {
      "text/plain": [
       "['VJ375a660d47a2aa570aa20a8568012da8497ffecf',\n",
       " 'VJ6c64ab7b477e201cae950efde5bd0cb4e2e8888e',\n",
       " 'VJ812fad65e7fa418645b57b446f00cba573f2cdaf']"
      ]
     },
     "execution_count": 48,
     "metadata": {},
     "output_type": "execute_result"
    }
   ],
   "source": [
    "n.schedule.extract_route_ids_on_attributes(\n",
    "    conditions=[{'mode': 'bus'}, {'route_short_name': 'N55'}], how=all)[:5]"
   ]
  },
  {
   "cell_type": "code",
   "execution_count": 49,
   "metadata": {
    "ExecuteTime": {
     "end_time": "2021-02-23T15:57:09.845304Z",
     "start_time": "2021-02-23T15:57:09.834429Z"
    }
   },
   "outputs": [
    {
     "data": {
      "text/plain": [
       "['490000235YB.link:574',\n",
       " '490000235P.link:15',\n",
       " '490000173W.link:1868',\n",
       " '490000235Z.link:15']"
      ]
     },
     "execution_count": 49,
     "metadata": {},
     "output_type": "execute_result"
    }
   ],
   "source": [
    "def oxford_street_in_name(attribs):\n",
    "    if 'Oxford Street' in attribs:\n",
    "        return True\n",
    "    else:\n",
    "        return False\n",
    "\n",
    "n.schedule.extract_stop_ids_on_attributes(\n",
    "    conditions={'name': oxford_street_in_name})[:5]"
   ]
  },
  {
   "cell_type": "markdown",
   "metadata": {},
   "source": [
    "There are several common extraction logics we might need. They relate to modes and spatial and temporal logic. Below we go through some convenience methods for those.\n",
    "\n",
    "### Modal\n",
    "\n",
    "Below are convenience methods for extracting object IDs based on the modes they are related to. Note that only `Route` objects actually hold information about their mode of transport. When we extract `Service` of mode `x`, we pick services whose at least one route is of that mode. Similarly with `Stop`s, we extract those used by routes of that mode."
   ]
  },
  {
   "cell_type": "code",
   "execution_count": 50,
   "metadata": {
    "ExecuteTime": {
     "end_time": "2021-02-23T15:57:09.868103Z",
     "start_time": "2021-02-23T15:57:09.849637Z"
    }
   },
   "outputs": [
    {
     "data": {
      "text/plain": [
       "['15660', '15234', '12430', '17732', '18915']"
      ]
     },
     "execution_count": 50,
     "metadata": {},
     "output_type": "execute_result"
    }
   ],
   "source": [
    "n.schedule.services_on_modal_condition(modes='bus')[:5]"
   ]
  },
  {
   "cell_type": "code",
   "execution_count": 51,
   "metadata": {
    "ExecuteTime": {
     "end_time": "2021-02-23T15:57:09.876773Z",
     "start_time": "2021-02-23T15:57:09.871470Z"
    }
   },
   "outputs": [
    {
     "data": {
      "text/plain": [
       "['VJ375a660d47a2aa570aa20a8568012da8497ffecf',\n",
       " 'VJ6c64ab7b477e201cae950efde5bd0cb4e2e8888e',\n",
       " 'VJ812fad65e7fa418645b57b446f00cba573f2cdaf',\n",
       " 'VJ95b4c534d7c903d76ec0340025aa88b81dba3ce4',\n",
       " 'VJ8a4b1ca7dfd0a130abd1de9f55f3b756617dd4ca']"
      ]
     },
     "execution_count": 51,
     "metadata": {},
     "output_type": "execute_result"
    }
   ],
   "source": [
    "n.schedule.routes_on_modal_condition(modes=['bus', 'rail'])[:5]"
   ]
  },
  {
   "cell_type": "code",
   "execution_count": 52,
   "metadata": {
    "ExecuteTime": {
     "end_time": "2021-02-23T15:57:09.919428Z",
     "start_time": "2021-02-23T15:57:09.896090Z"
    }
   },
   "outputs": [
    {
     "data": {
      "text/plain": [
       "['490000235X.link:834',\n",
       " '490000235YB.link:574',\n",
       " '490014214HE.link:3154',\n",
       " '490010689KB.link:981',\n",
       " '490000235P.link:15']"
      ]
     },
     "execution_count": 52,
     "metadata": {},
     "output_type": "execute_result"
    }
   ],
   "source": [
    "n.schedule.stops_on_modal_condition(modes='bus')[:5]"
   ]
  },
  {
   "cell_type": "markdown",
   "metadata": {},
   "source": [
    "### Spatial\n",
    "\n",
    "For spatial extraction conditions, similarly to the `Network` object, you have a choice of:\n",
    "- `shapely.geometry.Polygon` or `shapely.geometry.GeometryCollection` of Polygons (in epsg:4326)\n",
    "- geojson file, can be generated with [http://geojson.io/](http://geojson.io/)\n",
    "- [S2 Geometry hex string which can be generated and copied from http://s2.sidewalklabs.com/regioncoverer](http://s2.sidewalklabs.com/regioncoverer/?center=51.522960%2C-0.144245&zoom=16&cells=48761ad71%2C48761ad723%2C48761ad724c%2C48761ad73c%2C48761ad744%2C48761ad75d3%2C48761ad75d5%2C48761ad765%2C48761ad767%2C48761ad76c%2C48761ad774%2C48761ad779%2C48761ad77b%2C48761ad783%2C48761ad784c%2C48761ad7854%2C48761ad794%2C48761ad79c%2C48761ad7a4%2C48761ad7ac%2C48761ad7b1%2C48761ad7bc)\n",
    "\n",
    "Again, methods exist for `Service`, `Route` or `Stop` objects seperately."
   ]
  },
  {
   "cell_type": "code",
   "execution_count": 53,
   "metadata": {
    "ExecuteTime": {
     "end_time": "2021-02-23T15:57:10.520505Z",
     "start_time": "2021-02-23T15:57:09.926469Z"
    }
   },
   "outputs": [
    {
     "name": "stderr",
     "output_type": "stream",
     "text": [
      "/Users/kasia.kozlowska/pycharm_venvs/genet/lib/python3.7/site-packages/pyproj/crs/crs.py:53: FutureWarning: '+init=<authority>:<code>' syntax is deprecated. '<authority>:<code>' is the preferred initialization method. When making the change, be mindful of axis order changes: https://pyproj4.github.io/pyproj/stable/gotchas.html#axis-order-changes-in-proj-6\n",
      "  return _prepare_from_string(\" \".join(pjargs))\n"
     ]
    },
    {
     "data": {
      "text/plain": [
       "['12430']"
      ]
     },
     "execution_count": 53,
     "metadata": {},
     "output_type": "execute_result"
    }
   ],
   "source": [
    "from shapely.geometry import Polygon\n",
    "\n",
    "region = Polygon([\n",
    "    (-0.1487016677856445, 51.52556684350165), (-0.14063358306884766, 51.5255134425896),\n",
    "    (-0.13865947723388672, 51.5228700191647), (-0.14093399047851562, 51.52006622056997),\n",
    "    (-0.1492595672607422, 51.51974577545329), (-0.1508045196533203, 51.52276321095246),\n",
    "    (-0.1487016677856445, 51.52556684350165)])\n",
    "\n",
    "n.schedule.services_on_spatial_condition(region)"
   ]
  },
  {
   "cell_type": "markdown",
   "metadata": {},
   "source": [
    "There are two options for `Service` and `Route` objects. They can either `intersect` the area, meaning at least one of their `Stop`s lie in the specified area, or be `within` this area."
   ]
  },
  {
   "cell_type": "code",
   "execution_count": 54,
   "metadata": {
    "ExecuteTime": {
     "end_time": "2021-02-23T15:57:11.090513Z",
     "start_time": "2021-02-23T15:57:10.522057Z"
    }
   },
   "outputs": [
    {
     "name": "stderr",
     "output_type": "stream",
     "text": [
      "/Users/kasia.kozlowska/pycharm_venvs/genet/lib/python3.7/site-packages/pyproj/crs/crs.py:53: FutureWarning: '+init=<authority>:<code>' syntax is deprecated. '<authority>:<code>' is the preferred initialization method. When making the change, be mindful of axis order changes: https://pyproj4.github.io/pyproj/stable/gotchas.html#axis-order-changes-in-proj-6\n",
      "  return _prepare_from_string(\" \".join(pjargs))\n"
     ]
    },
    {
     "data": {
      "text/plain": [
       "[]"
      ]
     },
     "execution_count": 54,
     "metadata": {},
     "output_type": "execute_result"
    }
   ],
   "source": [
    "geojson = '../example_data/Fitzrovia_polygon.geojson'\n",
    "\n",
    "# here the area is too small for any routes to be within it\n",
    "n.schedule.routes_on_spatial_condition(geojson, how='within')"
   ]
  },
  {
   "cell_type": "code",
   "execution_count": 55,
   "metadata": {
    "ExecuteTime": {
     "end_time": "2021-02-23T15:57:11.789860Z",
     "start_time": "2021-02-23T15:57:11.094295Z"
    }
   },
   "outputs": [
    {
     "name": "stderr",
     "output_type": "stream",
     "text": [
      "/Users/kasia.kozlowska/pycharm_venvs/genet/lib/python3.7/site-packages/pyproj/crs/crs.py:53: FutureWarning: '+init=<authority>:<code>' syntax is deprecated. '<authority>:<code>' is the preferred initialization method. When making the change, be mindful of axis order changes: https://pyproj4.github.io/pyproj/stable/gotchas.html#axis-order-changes-in-proj-6\n",
      "  return _prepare_from_string(\" \".join(pjargs))\n"
     ]
    },
    {
     "data": {
      "text/plain": [
       "['VJ06420fdab0dfe5c8e7f2f9504df05cf6289cd7d3',\n",
       " 'VJ95b4c534d7c903d76ec0340025aa88b81dba3ce4',\n",
       " 'VJeb72539d69ddf8e29f1adf74d43953def196ae41',\n",
       " 'VJef7f20c3a9bf1419f6401e1e9131fe2c634bcb9a',\n",
       " 'VJ0f3c08222de16c2e278be0a1bf0f9ea47370774e']"
      ]
     },
     "execution_count": 55,
     "metadata": {},
     "output_type": "execute_result"
    }
   ],
   "source": [
    "# a lot of routes intersect it however\n",
    "n.schedule.routes_on_spatial_condition(geojson, how='intersect')[:5]"
   ]
  },
  {
   "cell_type": "code",
   "execution_count": 56,
   "metadata": {
    "ExecuteTime": {
     "end_time": "2021-02-23T15:57:11.810445Z",
     "start_time": "2021-02-23T15:57:11.795238Z"
    }
   },
   "outputs": [
    {
     "data": {
      "text/plain": [
       "['490000091G.link:1242', '490000091H.link:1912']"
      ]
     },
     "execution_count": 56,
     "metadata": {},
     "output_type": "execute_result"
    }
   ],
   "source": [
    "hex_region = '48761ad71,48761ad723,48761ad724c,48761ad73c,48761ad744,48761ad75d3,48761ad75d5,48761ad765,48761ad767,48761ad76c,48761ad774,48761ad779,48761ad77b,48761ad783,48761ad784c,48761ad7854,48761ad794,48761ad79c,48761ad7a4,48761ad7ac,48761ad7b1,48761ad7bc'\n",
    "n.schedule.stops_on_spatial_condition(hex_region)"
   ]
  },
  {
   "cell_type": "markdown",
   "metadata": {},
   "source": [
    "### Temporal\n",
    "\n",
    "These methods are under construction. A useful one in the meantime is presented below. It generates a `pandas.DataFrame` of departure and arrival times between all stops for all trips."
   ]
  },
  {
   "cell_type": "code",
   "execution_count": 57,
   "metadata": {
    "ExecuteTime": {
     "end_time": "2021-02-23T15:57:11.984501Z",
     "start_time": "2021-02-23T15:57:11.814911Z"
    }
   },
   "outputs": [
    {
     "data": {
      "text/html": [
       "<div>\n",
       "<style scoped>\n",
       "    .dataframe tbody tr th:only-of-type {\n",
       "        vertical-align: middle;\n",
       "    }\n",
       "\n",
       "    .dataframe tbody tr th {\n",
       "        vertical-align: top;\n",
       "    }\n",
       "\n",
       "    .dataframe thead th {\n",
       "        text-align: right;\n",
       "    }\n",
       "</style>\n",
       "<table border=\"1\" class=\"dataframe\">\n",
       "  <thead>\n",
       "    <tr style=\"text-align: right;\">\n",
       "      <th></th>\n",
       "      <th>service</th>\n",
       "      <th>route</th>\n",
       "      <th>arrival_time</th>\n",
       "      <th>from_stop</th>\n",
       "      <th>departure_time</th>\n",
       "      <th>mode</th>\n",
       "      <th>from_stop_name</th>\n",
       "      <th>route_name</th>\n",
       "      <th>to_stop_name</th>\n",
       "      <th>service_name</th>\n",
       "      <th>to_stop</th>\n",
       "      <th>trip</th>\n",
       "      <th>vehicle_id</th>\n",
       "    </tr>\n",
       "  </thead>\n",
       "  <tbody>\n",
       "    <tr>\n",
       "      <th>0</th>\n",
       "      <td>12430</td>\n",
       "      <td>VJ06420fdab0dfe5c8e7f2f9504df05cf6289cd7d3</td>\n",
       "      <td>2020-01-01 16:35:25</td>\n",
       "      <td>490000078P.link:1383</td>\n",
       "      <td>2020-01-01 16:33:42</td>\n",
       "      <td>bus</td>\n",
       "      <td>Euston Square (Stop P)</td>\n",
       "      <td>205</td>\n",
       "      <td>University College Hosp Warren Street Stn (Sto...</td>\n",
       "      <td>205</td>\n",
       "      <td>4900020147W.link:2634</td>\n",
       "      <td>VJ03f4f8905d6dc7868242f3fd29828ee9b366a906_16:...</td>\n",
       "      <td>veh_388_bus</td>\n",
       "    </tr>\n",
       "    <tr>\n",
       "      <th>1</th>\n",
       "      <td>12430</td>\n",
       "      <td>VJ06420fdab0dfe5c8e7f2f9504df05cf6289cd7d3</td>\n",
       "      <td>2020-01-01 16:37:08</td>\n",
       "      <td>4900020147W.link:2634</td>\n",
       "      <td>2020-01-01 16:35:25</td>\n",
       "      <td>bus</td>\n",
       "      <td>University College Hosp Warren Street Stn (Sto...</td>\n",
       "      <td>205</td>\n",
       "      <td>Warren Street Station (Stop V)</td>\n",
       "      <td>205</td>\n",
       "      <td>490000252V.link:1182</td>\n",
       "      <td>VJ03f4f8905d6dc7868242f3fd29828ee9b366a906_16:...</td>\n",
       "      <td>veh_388_bus</td>\n",
       "    </tr>\n",
       "    <tr>\n",
       "      <th>2</th>\n",
       "      <td>12430</td>\n",
       "      <td>VJ06420fdab0dfe5c8e7f2f9504df05cf6289cd7d3</td>\n",
       "      <td>2020-01-01 16:38:51</td>\n",
       "      <td>490000252V.link:1182</td>\n",
       "      <td>2020-01-01 16:37:08</td>\n",
       "      <td>bus</td>\n",
       "      <td>Warren Street Station (Stop V)</td>\n",
       "      <td>205</td>\n",
       "      <td>Great Portland Street (Stop G)</td>\n",
       "      <td>205</td>\n",
       "      <td>490000091G.link:1242</td>\n",
       "      <td>VJ03f4f8905d6dc7868242f3fd29828ee9b366a906_16:...</td>\n",
       "      <td>veh_388_bus</td>\n",
       "    </tr>\n",
       "    <tr>\n",
       "      <th>3</th>\n",
       "      <td>12430</td>\n",
       "      <td>VJ06420fdab0dfe5c8e7f2f9504df05cf6289cd7d3</td>\n",
       "      <td>2020-01-01 16:40:34</td>\n",
       "      <td>490000091G.link:1242</td>\n",
       "      <td>2020-01-01 16:38:51</td>\n",
       "      <td>bus</td>\n",
       "      <td>Great Portland Street (Stop G)</td>\n",
       "      <td>205</td>\n",
       "      <td>Regent's Park (Stop B)</td>\n",
       "      <td>205</td>\n",
       "      <td>490000191B.link:305</td>\n",
       "      <td>VJ03f4f8905d6dc7868242f3fd29828ee9b366a906_16:...</td>\n",
       "      <td>veh_388_bus</td>\n",
       "    </tr>\n",
       "    <tr>\n",
       "      <th>4</th>\n",
       "      <td>12430</td>\n",
       "      <td>VJ06420fdab0dfe5c8e7f2f9504df05cf6289cd7d3</td>\n",
       "      <td>2020-01-01 16:42:17</td>\n",
       "      <td>490000191B.link:305</td>\n",
       "      <td>2020-01-01 16:40:34</td>\n",
       "      <td>bus</td>\n",
       "      <td>Regent's Park (Stop B)</td>\n",
       "      <td>205</td>\n",
       "      <td>Harley Street (Stop L)</td>\n",
       "      <td>205</td>\n",
       "      <td>490007807W.link:2922</td>\n",
       "      <td>VJ03f4f8905d6dc7868242f3fd29828ee9b366a906_16:...</td>\n",
       "      <td>veh_388_bus</td>\n",
       "    </tr>\n",
       "  </tbody>\n",
       "</table>\n",
       "</div>"
      ],
      "text/plain": [
       "  service                                       route        arrival_time  \\\n",
       "0   12430  VJ06420fdab0dfe5c8e7f2f9504df05cf6289cd7d3 2020-01-01 16:35:25   \n",
       "1   12430  VJ06420fdab0dfe5c8e7f2f9504df05cf6289cd7d3 2020-01-01 16:37:08   \n",
       "2   12430  VJ06420fdab0dfe5c8e7f2f9504df05cf6289cd7d3 2020-01-01 16:38:51   \n",
       "3   12430  VJ06420fdab0dfe5c8e7f2f9504df05cf6289cd7d3 2020-01-01 16:40:34   \n",
       "4   12430  VJ06420fdab0dfe5c8e7f2f9504df05cf6289cd7d3 2020-01-01 16:42:17   \n",
       "\n",
       "               from_stop      departure_time mode  \\\n",
       "0   490000078P.link:1383 2020-01-01 16:33:42  bus   \n",
       "1  4900020147W.link:2634 2020-01-01 16:35:25  bus   \n",
       "2   490000252V.link:1182 2020-01-01 16:37:08  bus   \n",
       "3   490000091G.link:1242 2020-01-01 16:38:51  bus   \n",
       "4    490000191B.link:305 2020-01-01 16:40:34  bus   \n",
       "\n",
       "                                      from_stop_name route_name  \\\n",
       "0                             Euston Square (Stop P)        205   \n",
       "1  University College Hosp Warren Street Stn (Sto...        205   \n",
       "2                     Warren Street Station (Stop V)        205   \n",
       "3                     Great Portland Street (Stop G)        205   \n",
       "4                             Regent's Park (Stop B)        205   \n",
       "\n",
       "                                        to_stop_name service_name  \\\n",
       "0  University College Hosp Warren Street Stn (Sto...          205   \n",
       "1                     Warren Street Station (Stop V)          205   \n",
       "2                     Great Portland Street (Stop G)          205   \n",
       "3                             Regent's Park (Stop B)          205   \n",
       "4                             Harley Street (Stop L)          205   \n",
       "\n",
       "                 to_stop                                               trip  \\\n",
       "0  4900020147W.link:2634  VJ03f4f8905d6dc7868242f3fd29828ee9b366a906_16:...   \n",
       "1   490000252V.link:1182  VJ03f4f8905d6dc7868242f3fd29828ee9b366a906_16:...   \n",
       "2   490000091G.link:1242  VJ03f4f8905d6dc7868242f3fd29828ee9b366a906_16:...   \n",
       "3    490000191B.link:305  VJ03f4f8905d6dc7868242f3fd29828ee9b366a906_16:...   \n",
       "4   490007807W.link:2922  VJ03f4f8905d6dc7868242f3fd29828ee9b366a906_16:...   \n",
       "\n",
       "    vehicle_id  \n",
       "0  veh_388_bus  \n",
       "1  veh_388_bus  \n",
       "2  veh_388_bus  \n",
       "3  veh_388_bus  \n",
       "4  veh_388_bus  "
      ]
     },
     "execution_count": 57,
     "metadata": {},
     "output_type": "execute_result"
    }
   ],
   "source": [
    "n.schedule.generate_trips_dataframe(gtfs_day='20200101').head()"
   ]
  },
  {
   "cell_type": "markdown",
   "metadata": {},
   "source": [
    "## Accessing `Stop`, `Route`, `Service` objects"
   ]
  },
  {
   "cell_type": "markdown",
   "metadata": {},
   "source": [
    "Once you extract IDs of interest, you can access these objects. You can also modify them, check out the Modify Network notebook for usage examples.\n",
    "\n",
    "Each `Service` is indexed and can be accessed by its' ID. It also has a plot method."
   ]
  },
  {
   "cell_type": "code",
   "execution_count": 58,
   "metadata": {
    "ExecuteTime": {
     "end_time": "2021-02-23T15:57:11.998409Z",
     "start_time": "2021-02-23T15:57:11.987335Z"
    }
   },
   "outputs": [
    {
     "data": {
      "text/plain": [
       "['20274', '15660', '15234', '17732', '12430']"
      ]
     },
     "execution_count": 58,
     "metadata": {},
     "output_type": "execute_result"
    }
   ],
   "source": [
    "n.schedule.service_ids()[:5]"
   ]
  },
  {
   "cell_type": "code",
   "execution_count": 59,
   "metadata": {
    "ExecuteTime": {
     "end_time": "2021-02-23T15:57:12.007967Z",
     "start_time": "2021-02-23T15:57:12.002450Z"
    }
   },
   "outputs": [
    {
     "name": "stdout",
     "output_type": "stream",
     "text": [
      "Service ID: 12430\n",
      "Name: 205\n",
      "Number of routes: 12\n",
      "Number of stops: 11\n"
     ]
    }
   ],
   "source": [
    "service = n.schedule['12430']\n",
    "service.print()"
   ]
  },
  {
   "cell_type": "code",
   "execution_count": 60,
   "metadata": {
    "ExecuteTime": {
     "end_time": "2021-02-23T15:57:12.209885Z",
     "start_time": "2021-02-23T15:57:12.016571Z"
    }
   },
   "outputs": [
    {
     "name": "stderr",
     "output_type": "stream",
     "text": [
      "/Users/kasia.kozlowska/pycharm_venvs/genet/lib/python3.7/site-packages/pyproj/crs/crs.py:53: FutureWarning: '+init=<authority>:<code>' syntax is deprecated. '<authority>:<code>' is the preferred initialization method. When making the change, be mindful of axis order changes: https://pyproj4.github.io/pyproj/stable/gotchas.html#axis-order-changes-in-proj-6\n",
      "  return _prepare_from_string(\" \".join(pjargs))\n",
      "/Users/kasia.kozlowska/pycharm_venvs/genet/lib/python3.7/site-packages/pyproj/crs/crs.py:53: FutureWarning: '+init=<authority>:<code>' syntax is deprecated. '<authority>:<code>' is the preferred initialization method. When making the change, be mindful of axis order changes: https://pyproj4.github.io/pyproj/stable/gotchas.html#axis-order-changes-in-proj-6\n",
      "  return _prepare_from_string(\" \".join(pjargs))\n"
     ]
    },
    {
     "data": {
      "image/png": "[encoded data removed]",
      "text/plain": [
       "<Figure size 576x576 with 1 Axes>"
      ]
     },
     "metadata": {},
     "output_type": "display_data"
    },
    {
     "data": {
      "text/plain": [
       "(<Figure size 576x576 with 1 Axes>,\n",
       " <matplotlib.axes._subplots.AxesSubplot at 0x11bec9b00>)"
      ]
     },
     "execution_count": 60,
     "metadata": {},
     "output_type": "execute_result"
    }
   ],
   "source": [
    "service.plot()"
   ]
  },
  {
   "cell_type": "markdown",
   "metadata": {},
   "source": [
    "Similarly, each `Route` is indexed and can be accessed by its' id. It also has a plot method."
   ]
  },
  {
   "cell_type": "code",
   "execution_count": 61,
   "metadata": {
    "ExecuteTime": {
     "end_time": "2021-02-23T15:57:12.223903Z",
     "start_time": "2021-02-23T15:57:12.215410Z"
    }
   },
   "outputs": [
    {
     "data": {
      "text/plain": [
       "['VJ375a660d47a2aa570aa20a8568012da8497ffecf',\n",
       " 'VJ6c64ab7b477e201cae950efde5bd0cb4e2e8888e',\n",
       " 'VJ812fad65e7fa418645b57b446f00cba573f2cdaf',\n",
       " 'VJ95b4c534d7c903d76ec0340025aa88b81dba3ce4',\n",
       " 'VJ8a4b1ca7dfd0a130abd1de9f55f3b756617dd4ca']"
      ]
     },
     "execution_count": 61,
     "metadata": {},
     "output_type": "execute_result"
    }
   ],
   "source": [
    "n.schedule.route_ids()[:5]"
   ]
  },
  {
   "cell_type": "code",
   "execution_count": 62,
   "metadata": {
    "ExecuteTime": {
     "end_time": "2021-02-23T15:57:12.238526Z",
     "start_time": "2021-02-23T15:57:12.232688Z"
    }
   },
   "outputs": [
    {
     "name": "stdout",
     "output_type": "stream",
     "text": [
      "Route ID: VJ948e8caa0f08b9c6bf6330927893942c474b5100\n",
      "Name: 205\n",
      "Number of stops: 5\n",
      "Number of trips: 10\n"
     ]
    }
   ],
   "source": [
    "route = n.schedule.route('VJ948e8caa0f08b9c6bf6330927893942c474b5100')\n",
    "route.print()"
   ]
  },
  {
   "cell_type": "code",
   "execution_count": 63,
   "metadata": {
    "ExecuteTime": {
     "end_time": "2021-02-23T15:57:12.434875Z",
     "start_time": "2021-02-23T15:57:12.240694Z"
    }
   },
   "outputs": [
    {
     "name": "stderr",
     "output_type": "stream",
     "text": [
      "/Users/kasia.kozlowska/pycharm_venvs/genet/lib/python3.7/site-packages/pyproj/crs/crs.py:53: FutureWarning: '+init=<authority>:<code>' syntax is deprecated. '<authority>:<code>' is the preferred initialization method. When making the change, be mindful of axis order changes: https://pyproj4.github.io/pyproj/stable/gotchas.html#axis-order-changes-in-proj-6\n",
      "  return _prepare_from_string(\" \".join(pjargs))\n"
     ]
    },
    {
     "data": {
      "image/png": "[encoded data removed]",
      "text/plain": [
       "<Figure size 576x576 with 1 Axes>"
      ]
     },
     "metadata": {},
     "output_type": "display_data"
    },
    {
     "data": {
      "text/plain": [
       "(<Figure size 576x576 with 1 Axes>,\n",
       " <matplotlib.axes._subplots.AxesSubplot at 0x11be5a940>)"
      ]
     },
     "execution_count": 63,
     "metadata": {},
     "output_type": "execute_result"
    }
   ],
   "source": [
    "route.plot()"
   ]
  },
  {
   "cell_type": "markdown",
   "metadata": {},
   "source": [
    "Finally, each `Stop` is indexed too, and can be accessed by its' id. "
   ]
  },
  {
   "cell_type": "code",
   "execution_count": 64,
   "metadata": {
    "ExecuteTime": {
     "end_time": "2021-02-23T15:57:12.458227Z",
     "start_time": "2021-02-23T15:57:12.437704Z"
    }
   },
   "outputs": [
    {
     "name": "stdout",
     "output_type": "stream",
     "text": [
      "Stop ID: 490007807E.link:1154\n",
      "Projection: epsg:27700\n",
      "Lat, Lon: 51.52336503, -0.14951799\n",
      "linkRefId: 1154\n"
     ]
    }
   ],
   "source": [
    "stop = n.schedule.stop('490007807E.link:1154')\n",
    "stop.print()"
   ]
  },
  {
   "cell_type": "code",
   "execution_count": null,
   "metadata": {},
   "outputs": [],
   "source": []
  }
 ],
 "metadata": {
  "kernelspec": {
   "display_name": "Python (genet)",
   "language": "python",
   "name": "genet"
  },
  "language_info": {
   "codemirror_mode": {
    "name": "ipython",
    "version": 3
   },
   "file_extension": ".py",
   "mimetype": "text/x-python",
   "name": "python",
   "nbconvert_exporter": "python",
   "pygments_lexer": "ipython3",
   "version": "3.7.0"
  },
  "latex_envs": {
   "LaTeX_envs_menu_present": true,
   "autoclose": true,
   "autocomplete": true,
   "bibliofile": "biblio.bib",
   "cite_by": "apalike",
   "current_citInitial": 1,
   "eqLabelWithNumbers": true,
   "eqNumInitial": 1,
   "hotkeys": {
    "equation": "Ctrl-E",
    "itemize": "Ctrl-I"
   },
   "labels_anchors": false,
   "latex_user_defs": false,
   "report_style_numbering": false,
   "user_envs_cfg": false
  },
  "toc": {
   "base_numbering": 1,
   "nav_menu": {},
   "number_sections": true,
   "sideBar": true,
   "skip_h1_title": false,
   "title_cell": "Table of Contents",
   "title_sidebar": "Contents",
   "toc_cell": false,
   "toc_position": {},
   "toc_section_display": true,
   "toc_window_display": false
  },
  "varInspector": {
   "cols": {
    "lenName": 16,
    "lenType": 16,
    "lenVar": 40
   },
   "kernels_config": {
    "python": {
     "delete_cmd_postfix": "",
     "delete_cmd_prefix": "del ",
     "library": "var_list.py",
     "varRefreshCmd": "print(var_dic_list())"
    },
    "r": {
     "delete_cmd_postfix": ") ",
     "delete_cmd_prefix": "rm(",
     "library": "var_list.r",
     "varRefreshCmd": "cat(var_dic_list()) "
    }
   },
   "types_to_exclude": [
    "module",
    "function",
    "builtin_function_or_method",
    "instance",
    "_Feature"
   ],
   "window_display": false
  }
 },
 "nbformat": 4,
 "nbformat_minor": 2
}
