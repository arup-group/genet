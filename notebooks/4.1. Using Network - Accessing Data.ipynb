{
 "cells": [
  {
   "cell_type": "markdown",
   "metadata": {},
   "source": [
    "# Using the `Network` object\n",
    "\n",
    "Let's read in a sample MATSim network into GeNet's `Network` object."
   ]
  },
  {
   "cell_type": "code",
   "execution_count": 1,
   "metadata": {
    "ExecuteTime": {
     "end_time": "2020-12-15T20:10:55.950646Z",
     "start_time": "2020-12-15T20:10:52.324653Z"
    }
   },
   "outputs": [
    {
     "name": "stdout",
     "output_type": "stream",
     "text": [
      "Graph info: Name: Network graph\n",
      "Type: MultiDiGraph\n",
      "Number of nodes: 1662\n",
      "Number of edges: 3166\n",
      "Average in degree:   1.9049\n",
      "Average out degree:   1.9049 \n",
      "Schedule info: Schedule:\n",
      "Number of services: 9\n",
      "Number of unique routes: 68\n",
      "Number of stops: 45\n"
     ]
    }
   ],
   "source": [
    "from genet import Network\n",
    "import os\n",
    "\n",
    "n = Network('epsg:27700')\n",
    "path_to_matsim_network = '../example_data/pt2matsim_network'\n",
    "n.read_matsim_network(os.path.join(path_to_matsim_network, 'network.xml'))\n",
    "n.read_matsim_schedule(os.path.join(path_to_matsim_network, 'schedule.xml'))\n",
    "n.print()"
   ]
  },
  {
   "cell_type": "markdown",
   "metadata": {
    "ExecuteTime": {
     "end_time": "2020-12-15T18:52:10.250625Z",
     "start_time": "2020-12-15T18:52:10.240982Z"
    }
   },
   "source": [
    "## Summary\n",
    "\n",
    "The data saved on the edges or nodes of the graph can be nested. There are a couple of convenient methods that summarise the schema of the data found on the nodes and links. If `data=True`, the output also shows up to 5 unique values stored in that location."
   ]
  },
  {
   "cell_type": "code",
   "execution_count": 2,
   "metadata": {
    "ExecuteTime": {
     "end_time": "2020-12-15T20:10:56.151040Z",
     "start_time": "2020-12-15T20:10:55.953245Z"
    }
   },
   "outputs": [
    {
     "name": "stdout",
     "output_type": "stream",
     "text": [
      "attribute\n",
      "├── id: ['1204707018', '255562', '281454961', '294158436', '25500758']\n",
      "├── x: [528387.4250512555, 528391.4406755936, 528393.2742107178, 528396.6287644263, 528396.3513181042]\n",
      "├── y: [181547.5850354673, 181552.72935927223, 181558.10532352765, 181559.970402835, 181562.0370527053]\n",
      "├── lon: [-0.15178558709839862, -0.15872448710537235, -0.13569068709168342, -0.13766218709633904, -0.13543658708819173]\n",
      "├── lat: [51.51609983324067, 51.5182034332405, 51.51504733324089, 51.522253033239515, 51.522948433239556]\n",
      "└── s2_id: [5221390710015643649, 5221390314367946753, 5221366508477440003, 5221390682291777543, 5221390739236081673]\n"
     ]
    }
   ],
   "source": [
    "n.node_attribute_summary(data=True)"
   ]
  },
  {
   "cell_type": "code",
   "execution_count": 3,
   "metadata": {
    "ExecuteTime": {
     "end_time": "2020-12-15T20:10:56.289377Z",
     "start_time": "2020-12-15T20:10:56.154526Z"
    }
   },
   "outputs": [
    {
     "name": "stdout",
     "output_type": "stream",
     "text": [
      "attribute\n",
      "├── id\n",
      "├── from\n",
      "├── to\n",
      "├── freespeed\n",
      "├── capacity\n",
      "├── permlanes\n",
      "├── oneway\n",
      "├── modes\n",
      "├── s2_from\n",
      "├── s2_to\n",
      "├── attributes\n",
      "│   ├── osm:way:access\n",
      "│   │   ├── name\n",
      "│   │   ├── class\n",
      "│   │   └── text\n",
      "│   ├── osm:way:highway\n",
      "│   │   ├── name\n",
      "│   │   ├── class\n",
      "│   │   └── text\n",
      "│   ├── osm:way:id\n",
      "│   │   ├── name\n",
      "│   │   ├── class\n",
      "│   │   └── text\n",
      "│   ├── osm:way:name\n",
      "│   │   ├── name\n",
      "│   │   ├── class\n",
      "│   │   └── text\n",
      "│   ├── osm:relation:route\n",
      "│   │   ├── name\n",
      "│   │   ├── class\n",
      "│   │   └── text\n",
      "│   ├── osm:way:lanes\n",
      "│   │   ├── name\n",
      "│   │   ├── class\n",
      "│   │   └── text\n",
      "│   ├── osm:way:oneway\n",
      "│   │   ├── name\n",
      "│   │   ├── class\n",
      "│   │   └── text\n",
      "│   ├── osm:way:tunnel\n",
      "│   │   ├── name\n",
      "│   │   ├── class\n",
      "│   │   └── text\n",
      "│   ├── osm:way:psv\n",
      "│   │   ├── name\n",
      "│   │   ├── class\n",
      "│   │   └── text\n",
      "│   ├── osm:way:vehicle\n",
      "│   │   ├── name\n",
      "│   │   ├── class\n",
      "│   │   └── text\n",
      "│   ├── osm:way:traffic_calming\n",
      "│   │   ├── name\n",
      "│   │   ├── class\n",
      "│   │   └── text\n",
      "│   ├── osm:way:junction\n",
      "│   │   ├── name\n",
      "│   │   ├── class\n",
      "│   │   └── text\n",
      "│   └── osm:way:service\n",
      "│       ├── name\n",
      "│       ├── class\n",
      "│       └── text\n",
      "└── length\n"
     ]
    }
   ],
   "source": [
    "n.link_attribute_summary(data=False)"
   ]
  },
  {
   "cell_type": "markdown",
   "metadata": {},
   "source": [
    "Once you see the general schema for the data stored on nodes and links, you may decide to look at or perform analysis \n",
    "on all of the data stored in the netowrk under a particular key. A GeNet network has two methods which generate a\n",
    "`pandas.Series` object, which stores the nodes or links data present at the specified key, indexed by the same index \n",
    "as the nodes or links."
   ]
  },
  {
   "cell_type": "code",
   "execution_count": 4,
   "metadata": {
    "ExecuteTime": {
     "end_time": "2020-12-15T20:10:56.304946Z",
     "start_time": "2020-12-15T20:10:56.295358Z"
    }
   },
   "outputs": [],
   "source": [
    "s2_id = n.node_attribute_data_under_key('s2_id')"
   ]
  },
  {
   "cell_type": "code",
   "execution_count": 5,
   "metadata": {
    "ExecuteTime": {
     "end_time": "2020-12-15T20:10:56.338606Z",
     "start_time": "2020-12-15T20:10:56.311766Z"
    }
   },
   "outputs": [
    {
     "data": {
      "text/plain": [
       "101982       5221390329378179879\n",
       "101986       5221390328605860387\n",
       "101990       5221390304444511271\n",
       "101991       5221390303978897267\n",
       "101992       5221390304897644929\n",
       "                    ...         \n",
       "983839058    5221390693831817171\n",
       "99936        5221390297975475113\n",
       "99937        5221390299484831045\n",
       "99940        5221390294354743413\n",
       "99943        5221390298004852605\n",
       "Length: 1662, dtype: int64"
      ]
     },
     "execution_count": 5,
     "metadata": {},
     "output_type": "execute_result"
    }
   ],
   "source": [
    "s2_id"
   ]
  },
  {
   "cell_type": "code",
   "execution_count": 6,
   "metadata": {
    "ExecuteTime": {
     "end_time": "2020-12-15T20:10:56.385105Z",
     "start_time": "2020-12-15T20:10:56.343183Z"
    }
   },
   "outputs": [
    {
     "data": {
      "text/plain": [
       "1       4.166667\n",
       "10      4.166667\n",
       "100     4.166667\n",
       "1000    4.166667\n",
       "1001    4.166667\n",
       "dtype: float64"
      ]
     },
     "execution_count": 6,
     "metadata": {},
     "output_type": "execute_result"
    }
   ],
   "source": [
    "n.link_attribute_data_under_key('freespeed').head()"
   ]
  },
  {
   "cell_type": "markdown",
   "metadata": {},
   "source": [
    "Or you can access nested data,"
   ]
  },
  {
   "cell_type": "code",
   "execution_count": 7,
   "metadata": {
    "ExecuteTime": {
     "end_time": "2020-12-15T20:10:56.416600Z",
     "start_time": "2020-12-15T20:10:56.389667Z"
    }
   },
   "outputs": [
    {
     "data": {
      "text/plain": [
       "1007    2\n",
       "1008    2\n",
       "1037    2\n",
       "1038    2\n",
       "1039    2\n",
       "dtype: object"
      ]
     },
     "execution_count": 7,
     "metadata": {},
     "output_type": "execute_result"
    }
   ],
   "source": [
    "n.link_attribute_data_under_key({'attributes': {'osm:way:lanes': 'text'}}).head()"
   ]
  },
  {
   "cell_type": "markdown",
   "metadata": {},
   "source": [
    "You can also build a `pandas.DataFrame` out of several keys."
   ]
  },
  {
   "cell_type": "code",
   "execution_count": 8,
   "metadata": {
    "ExecuteTime": {
     "end_time": "2020-12-15T20:10:56.504995Z",
     "start_time": "2020-12-15T20:10:56.422301Z"
    }
   },
   "outputs": [
    {
     "data": {
      "text/html": [
       "<div>\n",
       "<style scoped>\n",
       "    .dataframe tbody tr th:only-of-type {\n",
       "        vertical-align: middle;\n",
       "    }\n",
       "\n",
       "    .dataframe tbody tr th {\n",
       "        vertical-align: top;\n",
       "    }\n",
       "\n",
       "    .dataframe thead th {\n",
       "        text-align: right;\n",
       "    }\n",
       "</style>\n",
       "<table border=\"1\" class=\"dataframe\">\n",
       "  <thead>\n",
       "    <tr style=\"text-align: right;\">\n",
       "      <th></th>\n",
       "      <th>freespeed</th>\n",
       "      <th>attributes::osm:way:highway::text</th>\n",
       "    </tr>\n",
       "  </thead>\n",
       "  <tbody>\n",
       "    <tr>\n",
       "      <th>1</th>\n",
       "      <td>4.166667</td>\n",
       "      <td>unclassified</td>\n",
       "    </tr>\n",
       "    <tr>\n",
       "      <th>10</th>\n",
       "      <td>4.166667</td>\n",
       "      <td>unclassified</td>\n",
       "    </tr>\n",
       "    <tr>\n",
       "      <th>100</th>\n",
       "      <td>4.166667</td>\n",
       "      <td>unclassified</td>\n",
       "    </tr>\n",
       "    <tr>\n",
       "      <th>1000</th>\n",
       "      <td>4.166667</td>\n",
       "      <td>residential</td>\n",
       "    </tr>\n",
       "    <tr>\n",
       "      <th>1001</th>\n",
       "      <td>4.166667</td>\n",
       "      <td>residential</td>\n",
       "    </tr>\n",
       "  </tbody>\n",
       "</table>\n",
       "</div>"
      ],
      "text/plain": [
       "      freespeed attributes::osm:way:highway::text\n",
       "1      4.166667                      unclassified\n",
       "10     4.166667                      unclassified\n",
       "100    4.166667                      unclassified\n",
       "1000   4.166667                       residential\n",
       "1001   4.166667                       residential"
      ]
     },
     "execution_count": 8,
     "metadata": {},
     "output_type": "execute_result"
    }
   ],
   "source": [
    "n.link_attribute_data_under_keys(['freespeed', {'attributes': {'osm:way:highway': 'text'}}]).head()"
   ]
  },
  {
   "cell_type": "markdown",
   "metadata": {},
   "source": [
    "### Extracting links of interest\n",
    "\n",
    "The function below gathers link ids which satisfy conditions \n",
    "to arbitrary level of nested-ness. It also allows quite flexible conditions---below we require that the link value\n",
    "at `data['attributes']['osm:way:highway']['text'] == 'primary'`, where data is the data dictionary stored on that link."
   ]
  },
  {
   "cell_type": "code",
   "execution_count": 9,
   "metadata": {
    "ExecuteTime": {
     "end_time": "2020-12-15T20:10:56.513812Z",
     "start_time": "2020-12-15T20:10:56.510903Z"
    }
   },
   "outputs": [],
   "source": [
    "from genet import graph_operations"
   ]
  },
  {
   "cell_type": "code",
   "execution_count": 10,
   "metadata": {
    "ExecuteTime": {
     "end_time": "2020-12-15T20:10:56.548753Z",
     "start_time": "2020-12-15T20:10:56.516924Z"
    }
   },
   "outputs": [],
   "source": [
    "links = graph_operations.extract_links_on_edge_attributes(\n",
    "    n,\n",
    "    conditions= {'attributes': {'osm:way:highway': {'text': 'primary'}}},\n",
    ")"
   ]
  },
  {
   "cell_type": "code",
   "execution_count": 11,
   "metadata": {
    "ExecuteTime": {
     "end_time": "2020-12-15T20:10:56.562420Z",
     "start_time": "2020-12-15T20:10:56.554868Z"
    }
   },
   "outputs": [
    {
     "data": {
      "text/plain": [
       "['1007', '1008', '1023', '1024', '103']"
      ]
     },
     "execution_count": 11,
     "metadata": {},
     "output_type": "execute_result"
    }
   ],
   "source": [
    "links[:5]"
   ]
  },
  {
   "cell_type": "code",
   "execution_count": 12,
   "metadata": {
    "ExecuteTime": {
     "end_time": "2020-12-15T20:10:56.570292Z",
     "start_time": "2020-12-15T20:10:56.564105Z"
    }
   },
   "outputs": [
    {
     "data": {
      "text/plain": [
       "619"
      ]
     },
     "execution_count": 12,
     "metadata": {},
     "output_type": "execute_result"
    }
   ],
   "source": [
    "len(links)"
   ]
  },
  {
   "cell_type": "markdown",
   "metadata": {},
   "source": [
    "Below we now require that the link value\n",
    "at `data['attributes']['osm:way:highway']['text'] in ['primary', 'something else']`. There is nothing in the data that has such tags, so the output is the same."
   ]
  },
  {
   "cell_type": "code",
   "execution_count": 13,
   "metadata": {
    "ExecuteTime": {
     "end_time": "2020-12-15T20:10:56.606778Z",
     "start_time": "2020-12-15T20:10:56.576104Z"
    }
   },
   "outputs": [],
   "source": [
    "links = graph_operations.extract_links_on_edge_attributes(\n",
    "    n,\n",
    "    conditions= {'attributes': {'osm:way:highway': {'text': ['primary', 'something else']}}},\n",
    ")"
   ]
  },
  {
   "cell_type": "code",
   "execution_count": 14,
   "metadata": {
    "ExecuteTime": {
     "end_time": "2020-12-15T20:10:56.619404Z",
     "start_time": "2020-12-15T20:10:56.612473Z"
    }
   },
   "outputs": [
    {
     "data": {
      "text/plain": [
       "['1007', '1008', '1023', '1024', '103']"
      ]
     },
     "execution_count": 14,
     "metadata": {},
     "output_type": "execute_result"
    }
   ],
   "source": [
    "links[:5]"
   ]
  },
  {
   "cell_type": "code",
   "execution_count": 15,
   "metadata": {
    "ExecuteTime": {
     "end_time": "2020-12-15T20:10:56.628898Z",
     "start_time": "2020-12-15T20:10:56.621923Z"
    }
   },
   "outputs": [
    {
     "data": {
      "text/plain": [
       "619"
      ]
     },
     "execution_count": 15,
     "metadata": {},
     "output_type": "execute_result"
    }
   ],
   "source": [
    "len(links)"
   ]
  },
  {
   "cell_type": "markdown",
   "metadata": {},
   "source": [
    "We can also pass a list of conditions. In this case it makes sense for us to specify how multiple conditions should be handled. We can do it via \n",
    "- `how=all` - all conditions need to be met\n",
    "- `how=any` - at least one condition needs to be met\n",
    "\n",
    "It is set to `any` as default."
   ]
  },
  {
   "cell_type": "code",
   "execution_count": 16,
   "metadata": {
    "ExecuteTime": {
     "end_time": "2020-12-15T20:10:56.678596Z",
     "start_time": "2020-12-15T20:10:56.634188Z"
    }
   },
   "outputs": [],
   "source": [
    "links = graph_operations.extract_links_on_edge_attributes(\n",
    "    n,\n",
    "    conditions= [{'attributes': {'osm:way:highway': {'text': 'primary'}}},\n",
    "                 {'attributes': {'osm:way:highway': {'text': 'something else'}}}],\n",
    "    how=any\n",
    ")"
   ]
  },
  {
   "cell_type": "code",
   "execution_count": 17,
   "metadata": {
    "ExecuteTime": {
     "end_time": "2020-12-15T20:10:56.689431Z",
     "start_time": "2020-12-15T20:10:56.684219Z"
    }
   },
   "outputs": [
    {
     "data": {
      "text/plain": [
       "['1007', '1008', '1023', '1024', '103']"
      ]
     },
     "execution_count": 17,
     "metadata": {},
     "output_type": "execute_result"
    }
   ],
   "source": [
    "links[:5]"
   ]
  },
  {
   "cell_type": "code",
   "execution_count": 18,
   "metadata": {
    "ExecuteTime": {
     "end_time": "2020-12-15T20:10:56.696751Z",
     "start_time": "2020-12-15T20:10:56.691874Z"
    }
   },
   "outputs": [
    {
     "data": {
      "text/plain": [
       "619"
      ]
     },
     "execution_count": 18,
     "metadata": {},
     "output_type": "execute_result"
    }
   ],
   "source": [
    "len(links)"
   ]
  },
  {
   "cell_type": "code",
   "execution_count": 19,
   "metadata": {
    "ExecuteTime": {
     "end_time": "2020-12-15T20:10:56.746353Z",
     "start_time": "2020-12-15T20:10:56.698899Z"
    }
   },
   "outputs": [],
   "source": [
    "links = graph_operations.extract_links_on_edge_attributes(\n",
    "    n,\n",
    "    conditions= [{'attributes': {'osm:way:highway': {'text': 'primary'}}},\n",
    "                 {'attributes': {'osm:way:highway': {'text': 'something else'}}}],\n",
    "    how=all\n",
    ")"
   ]
  },
  {
   "cell_type": "code",
   "execution_count": 20,
   "metadata": {
    "ExecuteTime": {
     "end_time": "2020-12-15T20:10:56.757720Z",
     "start_time": "2020-12-15T20:10:56.748276Z"
    }
   },
   "outputs": [
    {
     "data": {
      "text/plain": [
       "[]"
      ]
     },
     "execution_count": 20,
     "metadata": {},
     "output_type": "execute_result"
    }
   ],
   "source": [
    "links[:5]"
   ]
  },
  {
   "cell_type": "markdown",
   "metadata": {},
   "source": [
    "As expected, no links satisfy both `data['attributes']['osm:way:highway']['text'] == 'primary'` and `data['attributes']['osm:way:highway']['text'] == 'something else'`."
   ]
  },
  {
   "cell_type": "markdown",
   "metadata": {},
   "source": [
    "Below, we give an example of subsetting a numeric boundary. We find links where `0 <= 'freespeed'  <= 20`."
   ]
  },
  {
   "cell_type": "code",
   "execution_count": 21,
   "metadata": {
    "ExecuteTime": {
     "end_time": "2020-12-15T20:10:56.790263Z",
     "start_time": "2020-12-15T20:10:56.759362Z"
    }
   },
   "outputs": [],
   "source": [
    "links = graph_operations.extract_links_on_edge_attributes(\n",
    "    n,\n",
    "    conditions = {'freespeed': (0,20)},\n",
    ")"
   ]
  },
  {
   "cell_type": "code",
   "execution_count": 22,
   "metadata": {
    "ExecuteTime": {
     "end_time": "2020-12-15T20:10:56.797155Z",
     "start_time": "2020-12-15T20:10:56.791878Z"
    }
   },
   "outputs": [
    {
     "data": {
      "text/plain": [
       "['1', '10', '100', '1000', '1001']"
      ]
     },
     "execution_count": 22,
     "metadata": {},
     "output_type": "execute_result"
    }
   ],
   "source": [
    "links[:5]"
   ]
  },
  {
   "cell_type": "code",
   "execution_count": 23,
   "metadata": {
    "ExecuteTime": {
     "end_time": "2020-12-15T20:10:56.810172Z",
     "start_time": "2020-12-15T20:10:56.803223Z"
    }
   },
   "outputs": [
    {
     "data": {
      "text/plain": [
       "2334"
      ]
     },
     "execution_count": 23,
     "metadata": {},
     "output_type": "execute_result"
    }
   ],
   "source": [
    "len(links)"
   ]
  },
  {
   "cell_type": "markdown",
   "metadata": {},
   "source": [
    "Finally, we can define a function that will handle the condition for us. The function should take the value expected at the key in the data dictionary and return either `True` or `False`.\n",
    "\n",
    "For example, below we give an example equivalent to our first example of `data['attributes']['osm:way:highway']['text'] == 'primary'` but using a function we defined ourselves to handle the condition."
   ]
  },
  {
   "cell_type": "code",
   "execution_count": 24,
   "metadata": {
    "ExecuteTime": {
     "end_time": "2020-12-15T20:10:56.850189Z",
     "start_time": "2020-12-15T20:10:56.815404Z"
    }
   },
   "outputs": [],
   "source": [
    "def highway_primary(value):\n",
    "    return value == 'primary'\n",
    "\n",
    "links = graph_operations.extract_links_on_edge_attributes(\n",
    "    n,\n",
    "    conditions= {'attributes': {'osm:way:highway': {'text': highway_primary}}},\n",
    ")"
   ]
  },
  {
   "cell_type": "code",
   "execution_count": 25,
   "metadata": {
    "ExecuteTime": {
     "end_time": "2020-12-15T20:10:56.857000Z",
     "start_time": "2020-12-15T20:10:56.851710Z"
    }
   },
   "outputs": [
    {
     "data": {
      "text/plain": [
       "['1007', '1008', '1023', '1024', '103']"
      ]
     },
     "execution_count": 25,
     "metadata": {},
     "output_type": "execute_result"
    }
   ],
   "source": [
    "links[:5]"
   ]
  },
  {
   "cell_type": "code",
   "execution_count": 26,
   "metadata": {
    "ExecuteTime": {
     "end_time": "2020-12-15T20:10:56.870637Z",
     "start_time": "2020-12-15T20:10:56.860322Z"
    }
   },
   "outputs": [
    {
     "data": {
      "text/plain": [
       "619"
      ]
     },
     "execution_count": 26,
     "metadata": {},
     "output_type": "execute_result"
    }
   ],
   "source": [
    "len(links)"
   ]
  },
  {
   "cell_type": "markdown",
   "metadata": {},
   "source": [
    "This allows for really flexible subsetting of the network based on data stored on the edges. Another example, similar to the numeric boundary, but this time we only care about the upper bound and we make it a strict inequality."
   ]
  },
  {
   "cell_type": "code",
   "execution_count": 27,
   "metadata": {
    "ExecuteTime": {
     "end_time": "2020-12-15T20:10:56.903304Z",
     "start_time": "2020-12-15T20:10:56.873407Z"
    }
   },
   "outputs": [],
   "source": [
    "def below_20(value):\n",
    "    return value < 20\n",
    "\n",
    "links = graph_operations.extract_links_on_edge_attributes(\n",
    "    n,\n",
    "    conditions= {'freespeed': below_20},\n",
    ")"
   ]
  },
  {
   "cell_type": "code",
   "execution_count": 28,
   "metadata": {
    "ExecuteTime": {
     "end_time": "2020-12-15T20:10:56.924313Z",
     "start_time": "2020-12-15T20:10:56.908250Z"
    }
   },
   "outputs": [
    {
     "data": {
      "text/plain": [
       "['1', '10', '100', '1000', '1001']"
      ]
     },
     "execution_count": 28,
     "metadata": {},
     "output_type": "execute_result"
    }
   ],
   "source": [
    "links[:5]"
   ]
  },
  {
   "cell_type": "code",
   "execution_count": 29,
   "metadata": {
    "ExecuteTime": {
     "end_time": "2020-12-15T20:10:56.947349Z",
     "start_time": "2020-12-15T20:10:56.942975Z"
    }
   },
   "outputs": [
    {
     "data": {
      "text/plain": [
       "2334"
      ]
     },
     "execution_count": 29,
     "metadata": {},
     "output_type": "execute_result"
    }
   ],
   "source": [
    "len(links)"
   ]
  },
  {
   "cell_type": "markdown",
   "metadata": {},
   "source": [
    "## Using the `Schedule` object"
   ]
  },
  {
   "cell_type": "code",
   "execution_count": 30,
   "metadata": {
    "ExecuteTime": {
     "end_time": "2020-12-15T20:10:56.962386Z",
     "start_time": "2020-12-15T20:10:56.949232Z"
    }
   },
   "outputs": [
    {
     "name": "stdout",
     "output_type": "stream",
     "text": [
      "Schedule:\n",
      "Number of services: 9\n",
      "Number of unique routes: 68\n",
      "Number of stops: 45\n"
     ]
    }
   ],
   "source": [
    "n.schedule.print()"
   ]
  },
  {
   "cell_type": "markdown",
   "metadata": {},
   "source": [
    "You can plot the `Schedule` object. It will result in plotting the connections between stops for all `Route`s within all `Service`s. To plot the network routes of the `Schedule` you need information about the `Network`, this can be done using the `plot` function for the `Network` object."
   ]
  },
  {
   "cell_type": "code",
   "execution_count": 31,
   "metadata": {
    "ExecuteTime": {
     "end_time": "2020-12-15T20:10:57.228329Z",
     "start_time": "2020-12-15T20:10:56.963888Z"
    }
   },
   "outputs": [
    {
     "name": "stderr",
     "output_type": "stream",
     "text": [
      "/Users/kasia.kozlowska/pycharm_venvs/genet/lib/python3.8/site-packages/pyproj/crs/crs.py:53: FutureWarning: '+init=<authority>:<code>' syntax is deprecated. '<authority>:<code>' is the preferred initialization method. When making the change, be mindful of axis order changes: https://pyproj4.github.io/pyproj/stable/gotchas.html#axis-order-changes-in-proj-6\n",
      "  return _prepare_from_string(\" \".join(pjargs))\n",
      "/Users/kasia.kozlowska/pycharm_venvs/genet/lib/python3.8/site-packages/pyproj/crs/crs.py:53: FutureWarning: '+init=<authority>:<code>' syntax is deprecated. '<authority>:<code>' is the preferred initialization method. When making the change, be mindful of axis order changes: https://pyproj4.github.io/pyproj/stable/gotchas.html#axis-order-changes-in-proj-6\n",
      "  return _prepare_from_string(\" \".join(pjargs))\n"
     ]
    },
    {
     "data": {
      "image/png": "[encoded data removed]",
      "text/plain": [
       "<Figure size 576x576 with 1 Axes>"
      ]
     },
     "metadata": {},
     "output_type": "display_data"
    },
    {
     "data": {
      "text/plain": [
       "(<Figure size 576x576 with 1 Axes>,\n",
       " <matplotlib.axes._subplots.AxesSubplot at 0x11dbc3400>)"
      ]
     },
     "execution_count": 31,
     "metadata": {},
     "output_type": "execute_result"
    }
   ],
   "source": [
    "n.schedule.plot()"
   ]
  },
  {
   "cell_type": "markdown",
   "metadata": {},
   "source": [
    "Each `Service` is indexed and can be accessed by its' id. It also has a plot method."
   ]
  },
  {
   "cell_type": "code",
   "execution_count": 32,
   "metadata": {
    "ExecuteTime": {
     "end_time": "2020-12-15T20:10:57.240651Z",
     "start_time": "2020-12-15T20:10:57.230992Z"
    }
   },
   "outputs": [
    {
     "data": {
      "text/plain": [
       "['12430', '14073', '14134', '15234', '15660']"
      ]
     },
     "execution_count": 32,
     "metadata": {},
     "output_type": "execute_result"
    }
   ],
   "source": [
    "n.schedule.service_ids()[:5]"
   ]
  },
  {
   "cell_type": "code",
   "execution_count": 33,
   "metadata": {
    "ExecuteTime": {
     "end_time": "2020-12-15T20:10:57.249327Z",
     "start_time": "2020-12-15T20:10:57.243495Z"
    }
   },
   "outputs": [
    {
     "name": "stdout",
     "output_type": "stream",
     "text": [
      "Service ID: 12430\n",
      "Name: 205\n",
      "Number of routes: 12\n",
      "Number of unique stops: 11\n"
     ]
    }
   ],
   "source": [
    "service = n.schedule['12430']\n",
    "service.print()"
   ]
  },
  {
   "cell_type": "code",
   "execution_count": 34,
   "metadata": {
    "ExecuteTime": {
     "end_time": "2020-12-15T20:10:57.465462Z",
     "start_time": "2020-12-15T20:10:57.250961Z"
    }
   },
   "outputs": [
    {
     "name": "stderr",
     "output_type": "stream",
     "text": [
      "/Users/kasia.kozlowska/pycharm_venvs/genet/lib/python3.8/site-packages/pyproj/crs/crs.py:53: FutureWarning: '+init=<authority>:<code>' syntax is deprecated. '<authority>:<code>' is the preferred initialization method. When making the change, be mindful of axis order changes: https://pyproj4.github.io/pyproj/stable/gotchas.html#axis-order-changes-in-proj-6\n",
      "  return _prepare_from_string(\" \".join(pjargs))\n"
     ]
    },
    {
     "data": {
      "image/png": "[encoded data removed]",
      "text/plain": [
       "<Figure size 576x576 with 1 Axes>"
      ]
     },
     "metadata": {},
     "output_type": "display_data"
    },
    {
     "data": {
      "text/plain": [
       "(<Figure size 576x576 with 1 Axes>,\n",
       " <matplotlib.axes._subplots.AxesSubplot at 0x11dbe45b0>)"
      ]
     },
     "execution_count": 34,
     "metadata": {},
     "output_type": "execute_result"
    }
   ],
   "source": [
    "service.plot()"
   ]
  },
  {
   "cell_type": "markdown",
   "metadata": {},
   "source": [
    "Similarly, each `Route` is indexed and can be accessed by its' id. It also has a plot method."
   ]
  },
  {
   "cell_type": "code",
   "execution_count": 35,
   "metadata": {
    "ExecuteTime": {
     "end_time": "2020-12-15T20:10:57.473140Z",
     "start_time": "2020-12-15T20:10:57.467419Z"
    }
   },
   "outputs": [
    {
     "name": "stdout",
     "output_type": "stream",
     "text": [
      "Route ID: VJ948e8caa0f08b9c6bf6330927893942c474b5100\n",
      "Name: 205\n",
      "Number of stops: 5\n",
      "Number of trips: 10\n"
     ]
    }
   ],
   "source": [
    "route = n.schedule.route('VJ948e8caa0f08b9c6bf6330927893942c474b5100')\n",
    "route.print()"
   ]
  },
  {
   "cell_type": "code",
   "execution_count": 36,
   "metadata": {
    "ExecuteTime": {
     "end_time": "2020-12-15T20:10:57.646848Z",
     "start_time": "2020-12-15T20:10:57.475619Z"
    }
   },
   "outputs": [
    {
     "name": "stderr",
     "output_type": "stream",
     "text": [
      "/Users/kasia.kozlowska/pycharm_venvs/genet/lib/python3.8/site-packages/pyproj/crs/crs.py:53: FutureWarning: '+init=<authority>:<code>' syntax is deprecated. '<authority>:<code>' is the preferred initialization method. When making the change, be mindful of axis order changes: https://pyproj4.github.io/pyproj/stable/gotchas.html#axis-order-changes-in-proj-6\n",
      "  return _prepare_from_string(\" \".join(pjargs))\n"
     ]
    },
    {
     "data": {
      "image/png": "[encoded data removed]",
      "text/plain": [
       "<Figure size 576x576 with 1 Axes>"
      ]
     },
     "metadata": {},
     "output_type": "display_data"
    },
    {
     "data": {
      "text/plain": [
       "(<Figure size 576x576 with 1 Axes>,\n",
       " <matplotlib.axes._subplots.AxesSubplot at 0x11dbddd00>)"
      ]
     },
     "execution_count": 36,
     "metadata": {},
     "output_type": "execute_result"
    }
   ],
   "source": [
    "route.plot()"
   ]
  },
  {
   "cell_type": "markdown",
   "metadata": {},
   "source": [
    "Finally, each `Stop` is indexed too, and can be accessed by its' id. "
   ]
  },
  {
   "cell_type": "code",
   "execution_count": 37,
   "metadata": {
    "ExecuteTime": {
     "end_time": "2020-12-15T20:10:57.655821Z",
     "start_time": "2020-12-15T20:10:57.649700Z"
    }
   },
   "outputs": [
    {
     "name": "stdout",
     "output_type": "stream",
     "text": [
      "Stop ID: 490007807E.link:1154\n",
      "Projection: epsg:27700\n",
      "Lat, Lon: 51.52336503, -0.14951799\n",
      "linkRefId: 1154\n"
     ]
    }
   ],
   "source": [
    "stop = n.schedule.stop('490007807E.link:1154')\n",
    "stop.print()"
   ]
  }
 ],
 "metadata": {
  "kernelspec": {
   "display_name": "Python (genet)",
   "language": "python",
   "name": "genet"
  },
  "language_info": {
   "codemirror_mode": {
    "name": "ipython",
    "version": 3
   },
   "file_extension": ".py",
   "mimetype": "text/x-python",
   "name": "python",
   "nbconvert_exporter": "python",
   "pygments_lexer": "ipython3",
   "version": "3.8.6"
  },
  "latex_envs": {
   "LaTeX_envs_menu_present": true,
   "autoclose": true,
   "autocomplete": true,
   "bibliofile": "biblio.bib",
   "cite_by": "apalike",
   "current_citInitial": 1,
   "eqLabelWithNumbers": true,
   "eqNumInitial": 1,
   "hotkeys": {
    "equation": "Ctrl-E",
    "itemize": "Ctrl-I"
   },
   "labels_anchors": false,
   "latex_user_defs": false,
   "report_style_numbering": false,
   "user_envs_cfg": false
  },
  "toc": {
   "base_numbering": 1,
   "nav_menu": {},
   "number_sections": true,
   "sideBar": true,
   "skip_h1_title": false,
   "title_cell": "Table of Contents",
   "title_sidebar": "Contents",
   "toc_cell": false,
   "toc_position": {},
   "toc_section_display": true,
   "toc_window_display": false
  },
  "varInspector": {
   "cols": {
    "lenName": 16,
    "lenType": 16,
    "lenVar": 40
   },
   "kernels_config": {
    "python": {
     "delete_cmd_postfix": "",
     "delete_cmd_prefix": "del ",
     "library": "var_list.py",
     "varRefreshCmd": "print(var_dic_list())"
    },
    "r": {
     "delete_cmd_postfix": ") ",
     "delete_cmd_prefix": "rm(",
     "library": "var_list.r",
     "varRefreshCmd": "cat(var_dic_list()) "
    }
   },
   "types_to_exclude": [
    "module",
    "function",
    "builtin_function_or_method",
    "instance",
    "_Feature"
   ],
   "window_display": false
  }
 },
 "nbformat": 4,
 "nbformat_minor": 2
}
