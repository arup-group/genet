{
 "cells": [
  {
   "cell_type": "markdown",
   "metadata": {},
   "source": [
    "# Using the `Network` object\n",
    "\n",
    "Let's read in a sample MATSim network into GeNet's `Network` object."
   ]
  },
  {
   "cell_type": "code",
   "execution_count": 1,
   "metadata": {
    "ExecuteTime": {
     "end_time": "2021-02-12T14:34:50.499765Z",
     "start_time": "2021-02-12T14:34:44.472764Z"
    }
   },
   "outputs": [
    {
     "name": "stdout",
     "output_type": "stream",
     "text": [
      "Graph info: Name: Network graph\n",
      "Type: MultiDiGraph\n",
      "Number of nodes: 1662\n",
      "Number of edges: 3166\n",
      "Average in degree:   1.9049\n",
      "Average out degree:   1.9049 \n",
      "Schedule info: Schedule:\n",
      "Number of services: 9\n",
      "Number of routes: 68\n",
      "Number of stops: 45\n"
     ]
    }
   ],
   "source": [
    "from genet import Network\n",
    "import os\n",
    "\n",
    "n = Network('epsg:27700')\n",
    "path_to_matsim_network = '../example_data/pt2matsim_network'\n",
    "n.read_matsim_network(os.path.join(path_to_matsim_network, 'network.xml'))\n",
    "n.read_matsim_schedule(os.path.join(path_to_matsim_network, 'schedule.xml'))\n",
    "n.print()"
   ]
  },
  {
   "cell_type": "markdown",
   "metadata": {
    "ExecuteTime": {
     "end_time": "2020-12-15T18:52:10.250625Z",
     "start_time": "2020-12-15T18:52:10.240982Z"
    }
   },
   "source": [
    "## Summary\n",
    "\n",
    "The data saved on the edges or nodes of the graph can be nested. There are a couple of convenient methods that summarise the schema of the data found on the nodes and links. If `data=True`, the output also shows up to 5 unique values stored in that location."
   ]
  },
  {
   "cell_type": "code",
   "execution_count": 2,
   "metadata": {
    "ExecuteTime": {
     "end_time": "2021-02-12T14:34:50.814085Z",
     "start_time": "2021-02-12T14:34:50.519768Z"
    }
   },
   "outputs": [
    {
     "name": "stdout",
     "output_type": "stream",
     "text": [
      "attribute\n",
      "├── id: ['1230374638', '497215765', '101995', '25257040', '5932883504']\n",
      "├── x: [528387.4250512555, 528391.4406755936, 528393.2742107178, 528396.6287644263, 528396.3513181042]\n",
      "├── y: [181547.5850354673, 181552.72935927223, 181558.10532352765, 181559.970402835, 181562.0370527053]\n",
      "├── lon: [-0.15178558709839862, -0.15872448710537235, -0.13569068709168342, -0.13766218709633904, -0.13543658708819173]\n",
      "├── lat: [51.51609983324067, 51.5182034332405, 51.51504733324089, 51.522253033239515, 51.522948433239556]\n",
      "└── s2_id: [5221390710015643649, 5221390314367946753, 5221366508477440003, 5221390682291777543, 5221390739236081673]\n"
     ]
    }
   ],
   "source": [
    "n.node_attribute_summary(data=True)"
   ]
  },
  {
   "cell_type": "code",
   "execution_count": 3,
   "metadata": {
    "ExecuteTime": {
     "end_time": "2021-02-12T14:34:51.039455Z",
     "start_time": "2021-02-12T14:34:50.816774Z"
    }
   },
   "outputs": [
    {
     "name": "stdout",
     "output_type": "stream",
     "text": [
      "attribute\n",
      "├── id\n",
      "├── from\n",
      "├── to\n",
      "├── freespeed\n",
      "├── capacity\n",
      "├── permlanes\n",
      "├── oneway\n",
      "├── modes\n",
      "├── s2_from\n",
      "├── s2_to\n",
      "├── attributes\n",
      "│   ├── osm:way:access\n",
      "│   │   ├── name\n",
      "│   │   ├── class\n",
      "│   │   └── text\n",
      "│   ├── osm:way:highway\n",
      "│   │   ├── name\n",
      "│   │   ├── class\n",
      "│   │   └── text\n",
      "│   ├── osm:way:id\n",
      "│   │   ├── name\n",
      "│   │   ├── class\n",
      "│   │   └── text\n",
      "│   ├── osm:way:name\n",
      "│   │   ├── name\n",
      "│   │   ├── class\n",
      "│   │   └── text\n",
      "│   ├── osm:relation:route\n",
      "│   │   ├── name\n",
      "│   │   ├── class\n",
      "│   │   └── text\n",
      "│   ├── osm:way:lanes\n",
      "│   │   ├── name\n",
      "│   │   ├── class\n",
      "│   │   └── text\n",
      "│   ├── osm:way:oneway\n",
      "│   │   ├── name\n",
      "│   │   ├── class\n",
      "│   │   └── text\n",
      "│   ├── osm:way:tunnel\n",
      "│   │   ├── name\n",
      "│   │   ├── class\n",
      "│   │   └── text\n",
      "│   ├── osm:way:psv\n",
      "│   │   ├── name\n",
      "│   │   ├── class\n",
      "│   │   └── text\n",
      "│   ├── osm:way:vehicle\n",
      "│   │   ├── name\n",
      "│   │   ├── class\n",
      "│   │   └── text\n",
      "│   ├── osm:way:traffic_calming\n",
      "│   │   ├── name\n",
      "│   │   ├── class\n",
      "│   │   └── text\n",
      "│   ├── osm:way:junction\n",
      "│   │   ├── name\n",
      "│   │   ├── class\n",
      "│   │   └── text\n",
      "│   └── osm:way:service\n",
      "│       ├── name\n",
      "│       ├── class\n",
      "│       └── text\n",
      "└── length\n"
     ]
    }
   ],
   "source": [
    "n.link_attribute_summary(data=False)"
   ]
  },
  {
   "cell_type": "markdown",
   "metadata": {},
   "source": [
    "Once you see the general schema for the data stored on nodes and links, you may decide to look at or perform analysis \n",
    "on all of the data stored in the netowrk under a particular key. A GeNet network has two methods which generate a\n",
    "`pandas.Series` object, which stores the nodes or links data present at the specified key, indexed by the same index \n",
    "as the nodes or links."
   ]
  },
  {
   "cell_type": "code",
   "execution_count": 4,
   "metadata": {
    "ExecuteTime": {
     "end_time": "2021-02-12T14:34:51.059598Z",
     "start_time": "2021-02-12T14:34:51.043312Z"
    }
   },
   "outputs": [],
   "source": [
    "s2_id = n.node_attribute_data_under_key('s2_id')"
   ]
  },
  {
   "cell_type": "code",
   "execution_count": 5,
   "metadata": {
    "ExecuteTime": {
     "end_time": "2021-02-12T14:34:51.077562Z",
     "start_time": "2021-02-12T14:34:51.065979Z"
    }
   },
   "outputs": [
    {
     "data": {
      "text/plain": [
       "101982       5221390329378179879\n",
       "101986       5221390328605860387\n",
       "101990       5221390304444511271\n",
       "101991       5221390303978897267\n",
       "101992       5221390304897644929\n",
       "                    ...         \n",
       "983839058    5221390693831817171\n",
       "99936        5221390297975475113\n",
       "99937        5221390299484831045\n",
       "99940        5221390294354743413\n",
       "99943        5221390298004852605\n",
       "Length: 1662, dtype: int64"
      ]
     },
     "execution_count": 5,
     "metadata": {},
     "output_type": "execute_result"
    }
   ],
   "source": [
    "s2_id"
   ]
  },
  {
   "cell_type": "code",
   "execution_count": 6,
   "metadata": {
    "ExecuteTime": {
     "end_time": "2021-02-12T14:34:51.187655Z",
     "start_time": "2021-02-12T14:34:51.079425Z"
    }
   },
   "outputs": [
    {
     "data": {
      "text/plain": [
       "1       4.166667\n",
       "10      4.166667\n",
       "100     4.166667\n",
       "1000    4.166667\n",
       "1001    4.166667\n",
       "dtype: float64"
      ]
     },
     "execution_count": 6,
     "metadata": {},
     "output_type": "execute_result"
    }
   ],
   "source": [
    "n.link_attribute_data_under_key('freespeed').head()"
   ]
  },
  {
   "cell_type": "markdown",
   "metadata": {},
   "source": [
    "Or you can access nested data,"
   ]
  },
  {
   "cell_type": "code",
   "execution_count": 7,
   "metadata": {
    "ExecuteTime": {
     "end_time": "2021-02-12T14:34:51.268230Z",
     "start_time": "2021-02-12T14:34:51.194415Z"
    }
   },
   "outputs": [
    {
     "data": {
      "text/plain": [
       "1007    2\n",
       "1008    2\n",
       "1037    2\n",
       "1038    2\n",
       "1039    2\n",
       "dtype: object"
      ]
     },
     "execution_count": 7,
     "metadata": {},
     "output_type": "execute_result"
    }
   ],
   "source": [
    "n.link_attribute_data_under_key({'attributes': {'osm:way:lanes': 'text'}}).head()"
   ]
  },
  {
   "cell_type": "markdown",
   "metadata": {},
   "source": [
    "You can also build a `pandas.DataFrame` out of several keys."
   ]
  },
  {
   "cell_type": "code",
   "execution_count": 8,
   "metadata": {
    "ExecuteTime": {
     "end_time": "2021-02-12T14:34:51.345422Z",
     "start_time": "2021-02-12T14:34:51.271040Z"
    }
   },
   "outputs": [
    {
     "data": {
      "text/html": [
       "<div>\n",
       "<style scoped>\n",
       "    .dataframe tbody tr th:only-of-type {\n",
       "        vertical-align: middle;\n",
       "    }\n",
       "\n",
       "    .dataframe tbody tr th {\n",
       "        vertical-align: top;\n",
       "    }\n",
       "\n",
       "    .dataframe thead th {\n",
       "        text-align: right;\n",
       "    }\n",
       "</style>\n",
       "<table border=\"1\" class=\"dataframe\">\n",
       "  <thead>\n",
       "    <tr style=\"text-align: right;\">\n",
       "      <th></th>\n",
       "      <th>freespeed</th>\n",
       "      <th>attributes::osm:way:highway::text</th>\n",
       "    </tr>\n",
       "  </thead>\n",
       "  <tbody>\n",
       "    <tr>\n",
       "      <th>1</th>\n",
       "      <td>4.166667</td>\n",
       "      <td>unclassified</td>\n",
       "    </tr>\n",
       "    <tr>\n",
       "      <th>10</th>\n",
       "      <td>4.166667</td>\n",
       "      <td>unclassified</td>\n",
       "    </tr>\n",
       "    <tr>\n",
       "      <th>100</th>\n",
       "      <td>4.166667</td>\n",
       "      <td>unclassified</td>\n",
       "    </tr>\n",
       "    <tr>\n",
       "      <th>1000</th>\n",
       "      <td>4.166667</td>\n",
       "      <td>residential</td>\n",
       "    </tr>\n",
       "    <tr>\n",
       "      <th>1001</th>\n",
       "      <td>4.166667</td>\n",
       "      <td>residential</td>\n",
       "    </tr>\n",
       "  </tbody>\n",
       "</table>\n",
       "</div>"
      ],
      "text/plain": [
       "      freespeed attributes::osm:way:highway::text\n",
       "1      4.166667                      unclassified\n",
       "10     4.166667                      unclassified\n",
       "100    4.166667                      unclassified\n",
       "1000   4.166667                       residential\n",
       "1001   4.166667                       residential"
      ]
     },
     "execution_count": 8,
     "metadata": {},
     "output_type": "execute_result"
    }
   ],
   "source": [
    "n.link_attribute_data_under_keys(['freespeed', {'attributes': {'osm:way:highway': 'text'}}]).head()"
   ]
  },
  {
   "cell_type": "markdown",
   "metadata": {},
   "source": [
    "## Extracting links of interest\n",
    "\n",
    "The function below gathers link ids which satisfy conditions \n",
    "to arbitrary level of nested-ness. It also allows quite flexible conditions---below we require that the link value\n",
    "at `data['attributes']['osm:way:highway']['text'] == 'primary'`, where data is the data dictionary stored on that link."
   ]
  },
  {
   "cell_type": "code",
   "execution_count": 9,
   "metadata": {
    "ExecuteTime": {
     "end_time": "2021-02-12T14:34:51.355021Z",
     "start_time": "2021-02-12T14:34:51.352379Z"
    }
   },
   "outputs": [],
   "source": [
    "from genet import graph_operations"
   ]
  },
  {
   "cell_type": "code",
   "execution_count": 10,
   "metadata": {
    "ExecuteTime": {
     "end_time": "2021-02-12T14:34:51.417867Z",
     "start_time": "2021-02-12T14:34:51.356640Z"
    }
   },
   "outputs": [],
   "source": [
    "links = n.extract_links_on_edge_attributes(\n",
    "    conditions= {'attributes': {'osm:way:highway': {'text': 'primary'}}},\n",
    ")"
   ]
  },
  {
   "cell_type": "code",
   "execution_count": 11,
   "metadata": {
    "ExecuteTime": {
     "end_time": "2021-02-12T14:34:51.434120Z",
     "start_time": "2021-02-12T14:34:51.421985Z"
    }
   },
   "outputs": [
    {
     "data": {
      "text/plain": [
       "['1007', '1008', '1023', '1024', '103']"
      ]
     },
     "execution_count": 11,
     "metadata": {},
     "output_type": "execute_result"
    }
   ],
   "source": [
    "links[:5]"
   ]
  },
  {
   "cell_type": "code",
   "execution_count": 12,
   "metadata": {
    "ExecuteTime": {
     "end_time": "2021-02-12T14:34:51.440782Z",
     "start_time": "2021-02-12T14:34:51.435524Z"
    }
   },
   "outputs": [
    {
     "data": {
      "text/plain": [
       "619"
      ]
     },
     "execution_count": 12,
     "metadata": {},
     "output_type": "execute_result"
    }
   ],
   "source": [
    "len(links)"
   ]
  },
  {
   "cell_type": "markdown",
   "metadata": {},
   "source": [
    "Below we now require that the link value\n",
    "at `data['attributes']['osm:way:highway']['text'] in ['primary', 'something else']`. There is nothing in the data that has such tags, so the output is the same."
   ]
  },
  {
   "cell_type": "code",
   "execution_count": 13,
   "metadata": {
    "ExecuteTime": {
     "end_time": "2021-02-12T14:34:51.485089Z",
     "start_time": "2021-02-12T14:34:51.442431Z"
    }
   },
   "outputs": [],
   "source": [
    "links = n.extract_links_on_edge_attributes(\n",
    "    conditions= {'attributes': {'osm:way:highway': {'text': ['primary', 'something else']}}},\n",
    ")"
   ]
  },
  {
   "cell_type": "code",
   "execution_count": 14,
   "metadata": {
    "ExecuteTime": {
     "end_time": "2021-02-12T14:34:51.492009Z",
     "start_time": "2021-02-12T14:34:51.486549Z"
    }
   },
   "outputs": [
    {
     "data": {
      "text/plain": [
       "['1007', '1008', '1023', '1024', '103']"
      ]
     },
     "execution_count": 14,
     "metadata": {},
     "output_type": "execute_result"
    }
   ],
   "source": [
    "links[:5]"
   ]
  },
  {
   "cell_type": "code",
   "execution_count": 15,
   "metadata": {
    "ExecuteTime": {
     "end_time": "2021-02-12T14:34:51.503976Z",
     "start_time": "2021-02-12T14:34:51.494698Z"
    }
   },
   "outputs": [
    {
     "data": {
      "text/plain": [
       "619"
      ]
     },
     "execution_count": 15,
     "metadata": {},
     "output_type": "execute_result"
    }
   ],
   "source": [
    "len(links)"
   ]
  },
  {
   "cell_type": "markdown",
   "metadata": {},
   "source": [
    "We can also pass a list of conditions. In this case it makes sense for us to specify how multiple conditions should be handled. We can do it via \n",
    "- `how=all` - all conditions need to be met\n",
    "- `how=any` - at least one condition needs to be met\n",
    "\n",
    "It is set to `any` as default."
   ]
  },
  {
   "cell_type": "code",
   "execution_count": 16,
   "metadata": {
    "ExecuteTime": {
     "end_time": "2021-02-12T14:34:51.597114Z",
     "start_time": "2021-02-12T14:34:51.506831Z"
    }
   },
   "outputs": [],
   "source": [
    "links = n.extract_links_on_edge_attributes(\n",
    "    conditions= [{'attributes': {'osm:way:highway': {'text': 'primary'}}},\n",
    "                 {'attributes': {'osm:way:highway': {'text': 'something else'}}}],\n",
    "    how=any\n",
    ")"
   ]
  },
  {
   "cell_type": "code",
   "execution_count": 17,
   "metadata": {
    "ExecuteTime": {
     "end_time": "2021-02-12T14:34:51.607185Z",
     "start_time": "2021-02-12T14:34:51.601809Z"
    }
   },
   "outputs": [
    {
     "data": {
      "text/plain": [
       "['1007', '1008', '1023', '1024', '103']"
      ]
     },
     "execution_count": 17,
     "metadata": {},
     "output_type": "execute_result"
    }
   ],
   "source": [
    "links[:5]"
   ]
  },
  {
   "cell_type": "code",
   "execution_count": 18,
   "metadata": {
    "ExecuteTime": {
     "end_time": "2021-02-12T14:34:51.613559Z",
     "start_time": "2021-02-12T14:34:51.608792Z"
    }
   },
   "outputs": [
    {
     "data": {
      "text/plain": [
       "619"
      ]
     },
     "execution_count": 18,
     "metadata": {},
     "output_type": "execute_result"
    }
   ],
   "source": [
    "len(links)"
   ]
  },
  {
   "cell_type": "code",
   "execution_count": 19,
   "metadata": {
    "ExecuteTime": {
     "end_time": "2021-02-12T14:34:51.688470Z",
     "start_time": "2021-02-12T14:34:51.615133Z"
    }
   },
   "outputs": [],
   "source": [
    "links = n.extract_links_on_edge_attributes(\n",
    "    conditions= [{'attributes': {'osm:way:highway': {'text': 'primary'}}},\n",
    "                 {'attributes': {'osm:way:highway': {'text': 'something else'}}}],\n",
    "    how=all\n",
    ")"
   ]
  },
  {
   "cell_type": "code",
   "execution_count": 20,
   "metadata": {
    "ExecuteTime": {
     "end_time": "2021-02-12T14:34:51.696202Z",
     "start_time": "2021-02-12T14:34:51.690125Z"
    }
   },
   "outputs": [
    {
     "data": {
      "text/plain": [
       "[]"
      ]
     },
     "execution_count": 20,
     "metadata": {},
     "output_type": "execute_result"
    }
   ],
   "source": [
    "links[:5]"
   ]
  },
  {
   "cell_type": "markdown",
   "metadata": {},
   "source": [
    "As expected, no links satisfy both `data['attributes']['osm:way:highway']['text'] == 'primary'` and `data['attributes']['osm:way:highway']['text'] == 'something else'`."
   ]
  },
  {
   "cell_type": "markdown",
   "metadata": {},
   "source": [
    "Below, we give an example of subsetting a numeric boundary. We find links where `0 <= 'freespeed'  <= 20`."
   ]
  },
  {
   "cell_type": "code",
   "execution_count": 21,
   "metadata": {
    "ExecuteTime": {
     "end_time": "2021-02-12T14:34:51.728910Z",
     "start_time": "2021-02-12T14:34:51.698327Z"
    }
   },
   "outputs": [],
   "source": [
    "links = n.extract_links_on_edge_attributes(\n",
    "    conditions = {'freespeed': (0,20)},\n",
    ")"
   ]
  },
  {
   "cell_type": "code",
   "execution_count": 22,
   "metadata": {
    "ExecuteTime": {
     "end_time": "2021-02-12T14:34:51.738262Z",
     "start_time": "2021-02-12T14:34:51.731069Z"
    }
   },
   "outputs": [
    {
     "data": {
      "text/plain": [
       "['1', '10', '100', '1000', '1001']"
      ]
     },
     "execution_count": 22,
     "metadata": {},
     "output_type": "execute_result"
    }
   ],
   "source": [
    "links[:5]"
   ]
  },
  {
   "cell_type": "code",
   "execution_count": 23,
   "metadata": {
    "ExecuteTime": {
     "end_time": "2021-02-12T14:34:51.761912Z",
     "start_time": "2021-02-12T14:34:51.747676Z"
    }
   },
   "outputs": [
    {
     "data": {
      "text/plain": [
       "2334"
      ]
     },
     "execution_count": 23,
     "metadata": {},
     "output_type": "execute_result"
    }
   ],
   "source": [
    "len(links)"
   ]
  },
  {
   "cell_type": "markdown",
   "metadata": {},
   "source": [
    "Finally, we can define a function that will handle the condition for us. The function should take the value expected at the key in the data dictionary and return either `True` or `False`.\n",
    "\n",
    "For example, below we give an example equivalent to our first example of `data['attributes']['osm:way:highway']['text'] == 'primary'` but using a function we defined ourselves to handle the condition."
   ]
  },
  {
   "cell_type": "code",
   "execution_count": 24,
   "metadata": {
    "ExecuteTime": {
     "end_time": "2021-02-12T14:34:51.810967Z",
     "start_time": "2021-02-12T14:34:51.764691Z"
    }
   },
   "outputs": [],
   "source": [
    "def highway_primary(value):\n",
    "    return value == 'primary'\n",
    "\n",
    "links = n.extract_links_on_edge_attributes(\n",
    "    conditions= {'attributes': {'osm:way:highway': {'text': highway_primary}}},\n",
    ")"
   ]
  },
  {
   "cell_type": "code",
   "execution_count": 25,
   "metadata": {
    "ExecuteTime": {
     "end_time": "2021-02-12T14:34:51.819539Z",
     "start_time": "2021-02-12T14:34:51.813914Z"
    }
   },
   "outputs": [
    {
     "data": {
      "text/plain": [
       "['1007', '1008', '1023', '1024', '103']"
      ]
     },
     "execution_count": 25,
     "metadata": {},
     "output_type": "execute_result"
    }
   ],
   "source": [
    "links[:5]"
   ]
  },
  {
   "cell_type": "code",
   "execution_count": 26,
   "metadata": {
    "ExecuteTime": {
     "end_time": "2021-02-12T14:34:51.829809Z",
     "start_time": "2021-02-12T14:34:51.821694Z"
    }
   },
   "outputs": [
    {
     "data": {
      "text/plain": [
       "619"
      ]
     },
     "execution_count": 26,
     "metadata": {},
     "output_type": "execute_result"
    }
   ],
   "source": [
    "len(links)"
   ]
  },
  {
   "cell_type": "markdown",
   "metadata": {},
   "source": [
    "This allows for really flexible subsetting of the network based on data stored on the edges. Another example, similar to the numeric boundary, but this time we only care about the upper bound and we make it a strict inequality."
   ]
  },
  {
   "cell_type": "code",
   "execution_count": 27,
   "metadata": {
    "ExecuteTime": {
     "end_time": "2021-02-12T14:34:51.874462Z",
     "start_time": "2021-02-12T14:34:51.831520Z"
    }
   },
   "outputs": [],
   "source": [
    "def below_20(value):\n",
    "    return value < 20\n",
    "\n",
    "links = n.extract_links_on_edge_attributes(\n",
    "    conditions= {'freespeed': below_20},\n",
    ")"
   ]
  },
  {
   "cell_type": "code",
   "execution_count": 28,
   "metadata": {
    "ExecuteTime": {
     "end_time": "2021-02-12T14:34:51.885771Z",
     "start_time": "2021-02-12T14:34:51.877390Z"
    }
   },
   "outputs": [
    {
     "data": {
      "text/plain": [
       "['1', '10', '100', '1000', '1001']"
      ]
     },
     "execution_count": 28,
     "metadata": {},
     "output_type": "execute_result"
    }
   ],
   "source": [
    "links[:5]"
   ]
  },
  {
   "cell_type": "code",
   "execution_count": 29,
   "metadata": {
    "ExecuteTime": {
     "end_time": "2021-02-12T14:34:51.894916Z",
     "start_time": "2021-02-12T14:34:51.888677Z"
    }
   },
   "outputs": [
    {
     "data": {
      "text/plain": [
       "2334"
      ]
     },
     "execution_count": 29,
     "metadata": {},
     "output_type": "execute_result"
    }
   ],
   "source": [
    "len(links)"
   ]
  },
  {
   "cell_type": "markdown",
   "metadata": {},
   "source": [
    "### Modal convenience methods"
   ]
  },
  {
   "cell_type": "code",
   "execution_count": null,
   "metadata": {},
   "outputs": [],
   "source": []
  },
  {
   "cell_type": "markdown",
   "metadata": {},
   "source": [
    "### Spatial convenience methods\n",
    "\n",
    "For spatial extraction conditions you have a choice of:\n",
    "- `shapely.geometry.Polygon` or `shapely.geometry.GeometryCollection` of Polygons (in epsg:4326)\n",
    "- geojson file, can be generated with [http://geojson.io/](http://geojson.io/)\n",
    "- [S2 Geometry hex string which can be generated and copied from http://s2.sidewalklabs.com/regioncoverer](http://s2.sidewalklabs.com/regioncoverer/?center=51.522960%2C-0.144245&zoom=16&cells=48761ad71%2C48761ad723%2C48761ad724c%2C48761ad73c%2C48761ad744%2C48761ad75d3%2C48761ad75d5%2C48761ad765%2C48761ad767%2C48761ad76c%2C48761ad774%2C48761ad779%2C48761ad77b%2C48761ad783%2C48761ad784c%2C48761ad7854%2C48761ad794%2C48761ad79c%2C48761ad7a4%2C48761ad7ac%2C48761ad7b1%2C48761ad7bc)\n"
   ]
  },
  {
   "cell_type": "code",
   "execution_count": 30,
   "metadata": {
    "ExecuteTime": {
     "end_time": "2021-02-12T14:34:53.591873Z",
     "start_time": "2021-02-12T14:34:51.896795Z"
    }
   },
   "outputs": [
    {
     "name": "stderr",
     "output_type": "stream",
     "text": [
      "/Users/kasia.kozlowska/pycharm_venvs/genet/lib/python3.7/site-packages/pyproj/crs/crs.py:53: FutureWarning: '+init=<authority>:<code>' syntax is deprecated. '<authority>:<code>' is the preferred initialization method. When making the change, be mindful of axis order changes: https://pyproj4.github.io/pyproj/stable/gotchas.html#axis-order-changes-in-proj-6\n",
      "  return _prepare_from_string(\" \".join(pjargs))\n"
     ]
    }
   ],
   "source": [
    "from genet.outputs_handler.geojson import generate_geodataframes\n",
    "gdf_nodes, gdf_links = generate_geodataframes(n.graph)"
   ]
  },
  {
   "cell_type": "code",
   "execution_count": 31,
   "metadata": {
    "ExecuteTime": {
     "end_time": "2021-02-12T14:34:53.625732Z",
     "start_time": "2021-02-12T14:34:53.593331Z"
    }
   },
   "outputs": [
    {
     "data": {
      "text/plain": [
       "5"
      ]
     },
     "execution_count": 31,
     "metadata": {},
     "output_type": "execute_result"
    }
   ],
   "source": [
    "region = '48761ad71,48761ad723,48761ad724c,48761ad73c,48761ad744,48761ad75d3,48761ad75d5,48761ad765,48761ad767,48761ad76c,48761ad774,48761ad779,48761ad77b,48761ad783,48761ad784c,48761ad7854,48761ad794,48761ad79c,48761ad7a4,48761ad7ac,48761ad7b1,48761ad7bc'\n",
    "_nodes = n.nodes_on_spatial_condition(region)[:5]\n",
    "len(_nodes)"
   ]
  },
  {
   "cell_type": "code",
   "execution_count": 32,
   "metadata": {
    "ExecuteTime": {
     "end_time": "2021-02-12T14:34:54.332492Z",
     "start_time": "2021-02-12T14:34:53.628893Z"
    }
   },
   "outputs": [
    {
     "data": {
      "text/plain": [
       "(<matplotlib.axes._subplots.AxesSubplot at 0x11a09db70>,\n",
       " <matplotlib.axes._subplots.AxesSubplot at 0x11a0fcd30>)"
      ]
     },
     "execution_count": 32,
     "metadata": {},
     "output_type": "execute_result"
    },
    {
     "data": {
      "image/png": "[encoded data removed]",
      "text/plain": [
       "<Figure size 432x288 with 1 Axes>"
      ]
     },
     "metadata": {
      "needs_background": "light"
     },
     "output_type": "display_data"
    },
    {
     "data": {
      "image/png": "[encoded data removed]",
      "text/plain": [
       "<Figure size 432x288 with 1 Axes>"
      ]
     },
     "metadata": {
      "needs_background": "light"
     },
     "output_type": "display_data"
    }
   ],
   "source": [
    "gdf_nodes.plot(), gdf_nodes[gdf_nodes['id'].isin(_nodes)].plot()"
   ]
  },
  {
   "cell_type": "code",
   "execution_count": 33,
   "metadata": {
    "ExecuteTime": {
     "end_time": "2021-02-12T14:34:56.654876Z",
     "start_time": "2021-02-12T14:34:54.335553Z"
    }
   },
   "outputs": [
    {
     "name": "stderr",
     "output_type": "stream",
     "text": [
      "/Users/kasia.kozlowska/pycharm_venvs/genet/lib/python3.7/site-packages/pyproj/crs/crs.py:53: FutureWarning: '+init=<authority>:<code>' syntax is deprecated. '<authority>:<code>' is the preferred initialization method. When making the change, be mindful of axis order changes: https://pyproj4.github.io/pyproj/stable/gotchas.html#axis-order-changes-in-proj-6\n",
      "  return _prepare_from_string(\" \".join(pjargs))\n"
     ]
    },
    {
     "data": {
      "text/plain": [
       "270"
      ]
     },
     "execution_count": 33,
     "metadata": {},
     "output_type": "execute_result"
    }
   ],
   "source": [
    "geojson = '../example_data/Fitzrovia_polygon.geojson'\n",
    "\n",
    "# here the area is too small for any routes to be within it\n",
    "_links = n.links_on_spatial_condition(geojson, how='intersect')\n",
    "len(_links)"
   ]
  },
  {
   "cell_type": "code",
   "execution_count": 34,
   "metadata": {
    "ExecuteTime": {
     "end_time": "2021-02-12T14:34:57.642684Z",
     "start_time": "2021-02-12T14:34:56.657459Z"
    }
   },
   "outputs": [
    {
     "data": {
      "text/plain": [
       "(<matplotlib.axes._subplots.AxesSubplot at 0x119a73e80>,\n",
       " <matplotlib.axes._subplots.AxesSubplot at 0x119bc8160>)"
      ]
     },
     "execution_count": 34,
     "metadata": {},
     "output_type": "execute_result"
    },
    {
     "data": {
      "image/png": "[encoded data removed]",
      "text/plain": [
       "<Figure size 432x288 with 1 Axes>"
      ]
     },
     "metadata": {
      "needs_background": "light"
     },
     "output_type": "display_data"
    },
    {
     "data": {
      "image/png": "[encoded data removed]",
      "text/plain": [
       "<Figure size 432x288 with 1 Axes>"
      ]
     },
     "metadata": {
      "needs_background": "light"
     },
     "output_type": "display_data"
    }
   ],
   "source": [
    "gdf_links.plot(), gdf_links[gdf_links['id'].isin(_links)].plot()"
   ]
  },
  {
   "cell_type": "code",
   "execution_count": 35,
   "metadata": {
    "ExecuteTime": {
     "end_time": "2021-02-12T14:34:59.736064Z",
     "start_time": "2021-02-12T14:34:57.647447Z"
    }
   },
   "outputs": [
    {
     "name": "stderr",
     "output_type": "stream",
     "text": [
      "/Users/kasia.kozlowska/pycharm_venvs/genet/lib/python3.7/site-packages/pyproj/crs/crs.py:53: FutureWarning: '+init=<authority>:<code>' syntax is deprecated. '<authority>:<code>' is the preferred initialization method. When making the change, be mindful of axis order changes: https://pyproj4.github.io/pyproj/stable/gotchas.html#axis-order-changes-in-proj-6\n",
      "  return _prepare_from_string(\" \".join(pjargs))\n"
     ]
    },
    {
     "data": {
      "text/plain": [
       "227"
      ]
     },
     "execution_count": 35,
     "metadata": {},
     "output_type": "execute_result"
    }
   ],
   "source": [
    "from shapely.geometry import Polygon\n",
    "\n",
    "region = Polygon([\n",
    "    (-0.1487016677856445, 51.52556684350165), (-0.14063358306884766, 51.5255134425896),\n",
    "    (-0.13865947723388672, 51.5228700191647), (-0.14093399047851562, 51.52006622056997),\n",
    "    (-0.1492595672607422, 51.51974577545329), (-0.1508045196533203, 51.52276321095246),\n",
    "    (-0.1487016677856445, 51.52556684350165)])\n",
    "\n",
    "_links = n.links_on_spatial_condition(region, how='within')\n",
    "len(_links)"
   ]
  },
  {
   "cell_type": "code",
   "execution_count": 36,
   "metadata": {
    "ExecuteTime": {
     "end_time": "2021-02-12T14:35:00.354004Z",
     "start_time": "2021-02-12T14:34:59.741161Z"
    }
   },
   "outputs": [
    {
     "data": {
      "text/plain": [
       "(<matplotlib.axes._subplots.AxesSubplot at 0x11978c978>,\n",
       " <matplotlib.axes._subplots.AxesSubplot at 0x119898b00>)"
      ]
     },
     "execution_count": 36,
     "metadata": {},
     "output_type": "execute_result"
    },
    {
     "data": {
      "image/png": "[encoded data removed]",
      "text/plain": [
       "<Figure size 432x288 with 1 Axes>"
      ]
     },
     "metadata": {
      "needs_background": "light"
     },
     "output_type": "display_data"
    },
    {
     "data": {
      "image/png": "[encoded data removed]",
      "text/plain": [
       "<Figure size 432x288 with 1 Axes>"
      ]
     },
     "metadata": {
      "needs_background": "light"
     },
     "output_type": "display_data"
    }
   ],
   "source": [
    "gdf_links.plot(), gdf_links[gdf_links['id'].isin(_links)].plot()"
   ]
  },
  {
   "cell_type": "markdown",
   "metadata": {},
   "source": [
    "# Using the `Schedule` object\n",
    "`Schedule` is a representation of public transit and is a part of any `genet.Network`, it is initiated as empty. A Network can exist and still be valid with an empty `Schedule`. Earlier we read a MATSim transit schedule. \n",
    "\n",
    "A `Schedule` is comprised of a number of nested objects. Each `Schedule` has a number of `Service`s. Each `Service` is made up a number of `Route`s. A `Route` is defined by an ordered list of `Stop` objects. Every `Service` should, logically, have at least two `Route`s, one going in one direction and another going back. Each `Route` also hold information about the trips, their timing and offsets arriving and departing at the `Stop`s.\n",
    "\n",
    "We can look at quick stats:"
   ]
  },
  {
   "cell_type": "code",
   "execution_count": 37,
   "metadata": {
    "ExecuteTime": {
     "end_time": "2021-02-12T14:35:00.368164Z",
     "start_time": "2021-02-12T14:35:00.362113Z"
    }
   },
   "outputs": [
    {
     "name": "stdout",
     "output_type": "stream",
     "text": [
      "Schedule:\n",
      "Number of services: 9\n",
      "Number of routes: 68\n",
      "Number of stops: 45\n"
     ]
    }
   ],
   "source": [
    "n.schedule.print()"
   ]
  },
  {
   "cell_type": "markdown",
   "metadata": {},
   "source": [
    "Or we can plot the `Schedule` object. A `Schedule` on its' own does not have information about the `Network`, even if it has refrences to it via network routes in the `Route` objects. Thus calling a `plot` method on a Schedule will result in a plot of connections between stops for all `Route`s within all `Service`s. To plot the network routes of the `Schedule` we use the `plot` method for the `Network` object which holds that `Schedule`."
   ]
  },
  {
   "cell_type": "code",
   "execution_count": 38,
   "metadata": {
    "ExecuteTime": {
     "end_time": "2021-02-12T14:35:00.739545Z",
     "start_time": "2021-02-12T14:35:00.415770Z"
    }
   },
   "outputs": [
    {
     "name": "stderr",
     "output_type": "stream",
     "text": [
      "/Users/kasia.kozlowska/pycharm_venvs/genet/lib/python3.7/site-packages/pyproj/crs/crs.py:53: FutureWarning: '+init=<authority>:<code>' syntax is deprecated. '<authority>:<code>' is the preferred initialization method. When making the change, be mindful of axis order changes: https://pyproj4.github.io/pyproj/stable/gotchas.html#axis-order-changes-in-proj-6\n",
      "  return _prepare_from_string(\" \".join(pjargs))\n",
      "/Users/kasia.kozlowska/pycharm_venvs/genet/lib/python3.7/site-packages/pyproj/crs/crs.py:53: FutureWarning: '+init=<authority>:<code>' syntax is deprecated. '<authority>:<code>' is the preferred initialization method. When making the change, be mindful of axis order changes: https://pyproj4.github.io/pyproj/stable/gotchas.html#axis-order-changes-in-proj-6\n",
      "  return _prepare_from_string(\" \".join(pjargs))\n"
     ]
    },
    {
     "data": {
      "image/png": "[encoded data removed]",
      "text/plain": [
       "<Figure size 576x576 with 1 Axes>"
      ]
     },
     "metadata": {},
     "output_type": "display_data"
    },
    {
     "data": {
      "text/plain": [
       "(<Figure size 576x576 with 1 Axes>,\n",
       " <matplotlib.axes._subplots.AxesSubplot at 0x119a7f940>)"
      ]
     },
     "execution_count": 38,
     "metadata": {},
     "output_type": "execute_result"
    }
   ],
   "source": [
    "n.schedule.plot()"
   ]
  },
  {
   "cell_type": "markdown",
   "metadata": {},
   "source": [
    "## Summary\n",
    "Schedules can get large and complicated. GeNet includes methods similar to ones presented for `Network` objects. This time, instead of inspecting data stored on links and edges of a graph, we summarise data held for Stops, Routes and Services in the Schedule."
   ]
  },
  {
   "cell_type": "code",
   "execution_count": 63,
   "metadata": {
    "ExecuteTime": {
     "end_time": "2021-02-12T16:04:38.554783Z",
     "start_time": "2021-02-12T16:04:38.386126Z"
    }
   },
   "outputs": [
    {
     "name": "stdout",
     "output_type": "stream",
     "text": [
      "attribute\n",
      "├── services\n",
      "├── routes\n",
      "├── id\n",
      "├── x\n",
      "├── y\n",
      "├── epsg\n",
      "├── name\n",
      "├── lat\n",
      "├── lon\n",
      "├── s2_id\n",
      "├── additional_attributes\n",
      "├── linkRefId\n",
      "└── isBlocking\n"
     ]
    }
   ],
   "source": [
    "n.schedule.stop_attribute_summary(data=False)"
   ]
  },
  {
   "cell_type": "code",
   "execution_count": 40,
   "metadata": {
    "ExecuteTime": {
     "end_time": "2021-02-12T14:35:01.328869Z",
     "start_time": "2021-02-12T14:35:00.784712Z"
    }
   },
   "outputs": [
    {
     "name": "stdout",
     "output_type": "stream",
     "text": [
      "attribute\n",
      "├── route_short_name: ['N20', '134', 'N55', '98', 'N5']\n",
      "├── mode: ['bus']\n",
      "├── trips\n",
      "│   ├── VJ2cdccea96e0e3e6a53a968bcb132941415d6d7c9_04:53:00: ['04:53:00']\n",
      "│   ├── VJ375a660d47a2aa570aa20a8568012da8497ffecf_03:53:00: ['03:53:00']\n",
      "│   ├── VJ3b9d77d2ef200b21c8048fea5eedc2d2788a1b94_01:54:00: ['01:54:00']\n",
      "│   ├── VJ79974c386a39426e06783650a759828438432aa4_05:23:00: ['05:23:00']\n",
      "│   ├── VJa09c394b71031216571d813a6266c83f2d30bf0a_04:23:00: ['04:23:00']\n",
      "│   ├── VJb1ecf6f30844187f7b9364fd9550acdcc5ce2c22_01:25:00: ['01:25:00']\n",
      "│   ├── VJc22488e687bcce9c50e372806cd8a1bcdddd5f98_02:24:00: ['02:24:00']\n",
      "│   ├── VJc3fd8f2be7eb005d47a13119c129d23ba6fed5fd_03:23:00: ['03:23:00']\n",
      "│   ├── VJe80a8ff48d21b29919ca3d8234d5a86bbf729513_02:54:00: ['02:54:00']\n",
      "│   ├── VJe81073fff46cfb30ff47a53f387e05dc17f2dda3_24:55:00: ['24:55:00']\n",
      "│   ├── VJ4bf97582df9fc4d0ac8bba408ff3f377f362159c_02:10:00: ['02:10:00']\n",
      "│   ├── VJ812fad65e7fa418645b57b446f00cba573f2cdaf_01:10:00: ['01:10:00']\n",
      "│   ├── VJ8e65ca2283254da7a81b812fcb31771490cb86c1_01:40:00: ['01:40:00']\n",
      "│   ├── VJbb0c33cd9f97cb60ded2f5cf433c1570264999c5_02:40:00: ['02:40:00']\n",
      "│   ├── VJ4e00b97ca9c6c0c96da8f793dfbd37b11f647fa7_03:40:00: ['03:40:00']\n",
      "│   ├── VJ5754c33f25d479f4b039d73ab1e930b5424d104f_03:10:00: ['03:10:00']\n",
      "│   ├── VJ599595acc340bbcd35a4521cb7a8a2c76596f915_04:10:00: ['04:10:00']\n",
      "│   ├── VJ6c64ab7b477e201cae950efde5bd0cb4e2e8888e_04:40:00: ['04:40:00']\n",
      "│   ├── VJ0380d3d1e03e99c0fbafe6fdd2f7b5c5766f018b_01:30:00: ['01:30:00']\n",
      "│   ├── VJ210489c99419848f6b73db97b6ac3e1ad19ec817_01:00:00: ['01:00:00']\n",
      "│   ├── VJ4dc979983ac1f0cbd7092f9ff8dbca0b9d2c6bcb_24:30:00: ['24:30:00']\n",
      "│   ├── VJb08f8a2de01a4ef99d3b7fefd9022117ac307531_02:00:00: ['02:00:00']\n",
      "│   ├── VJ06cd41dcd58d947097df4a8f33234ef423210154_19:06:25: ['19:06:25']\n",
      "│   ├── VJ1bcf188bb09863f2e8de90d9ccf565a837bf31e3_19:23:25: ['19:23:25']\n",
      "│   ├── VJ23541642f5333d5c28cfafa8b9695c772ec2059b_18:58:25: ['18:58:25']\n",
      "│   ├── VJbff3936011c907bc44de22ba373d23fc940f5bbf_19:14:25: ['19:14:25']\n",
      "│   ├── VJd6cf2001898104eb7c450d3749ee94e9e2bd697a_07:59:25: ['07:59:25']\n",
      "│   ├── VJe007158d32c8f7fd424fb627dbb216b4a85310b7_19:31:25: ['19:31:25']\n",
      "│   ├── VJ0c74f1bdcb3a35924d4d4b5c8d469551caaacd31_00:48:00: ['00:48:00']\n",
      "│   ├── VJ0d8983f38a5bb3b83bf9b7ac3b823b3e88b587eb_23:00:00: ['23:00:00']\n",
      "│   ├── VJ1c8bc4e6e8237dfe9f8a2f1369c547881c321657_06:29:00: ['06:29:00']\n",
      "│   ├── VJ1cf651142378958b52229bfe1fa552e49136e60e_00:36:00: ['00:36:00']\n",
      "│   ├── VJ1d43c0c82f62d53338b9d458f25bce49f9b1ba51_07:36:00: ['07:36:00']\n",
      "│   ├── VJ23a931d5fb7c3ca3324e2e1ff6dcb8a7ec1e6bc0_23:48:00: ['23:48:00']\n",
      "│   ├── VJ2494459a899a46aef1c5d74cede4e42a4dd2af91_07:29:00: ['07:29:00']\n",
      "│   ├── VJ2515c601adb04ff13d3a7a3d155d8e3f916ece84_21:12:00: ['21:12:00']\n",
      "│   ├── VJ2a1ce715a979219082841d249b5805861b395fbd_06:59:00: ['06:59:00']\n",
      "│   ├── VJ2d214d2b1a81b52ba0f35642647e4516675144b5_05:54:00: ['05:54:00']\n",
      "│   ├── VJ2f11c48449e4028521cb0a7ce03d8d6a626c2d75_22:00:00: ['22:00:00']\n",
      "│   ├── VJ34e777e6910c6039b713c58ce838877e06a5abec_20:52:00: ['20:52:00']\n",
      "│   ├── VJ399356fb1429ec1fc498cc88fc5ab9aa2b0ca5ab_20:13:00: ['20:13:00']\n",
      "│   ├── VJ41c0bbcdbc995fe32fc8a6cf2bd66de8ddcbc13c_20:31:00: ['20:31:00']\n",
      "│   ├── VJ4254c63859fbf6b10fde6027d54789f2b56ac74d_22:24:00: ['22:24:00']\n",
      "│   ├── VJ443cbabb54c5441ca3f468f24dc667d3923d6504_00:00:00: ['00:00:00']\n",
      "│   ├── VJ5152a8590bcb17076b666396bd0ba83d91d50e9a_21:24:00: ['21:24:00']\n",
      "│   ├── VJ538ddb947ed4c66b0152b20b4d6230c1919814a5_23:24:00: ['23:24:00']\n",
      "│   ├── VJ558eb8b835fbdbf0a43d9d4a4e4b1c9b87fe4a74_07:21:00: ['07:21:00']\n",
      "│   ├── VJ5ab1fc33d37c6ebf5ebc7f2792f959552c9e35b4_00:12:00: ['00:12:00']\n",
      "│   ├── VJ616d432a7a88bcd7c2352d4454bf9d72a19eaaf8_05:42:00: ['05:42:00']\n",
      "│   ├── VJ617548bee40eb4cb1c84a5d919d0b53a1194d290_06:06:00: ['06:06:00']\n",
      "│   ├── VJ61899ed27d1d74edff64fd6398bd775075c29a56_07:14:00: ['07:14:00']\n",
      "│   ├── VJ6c1e618a51c06580a5d72a1e8874c210965d99ba_20:41:00: ['20:41:00']\n",
      "│   ├── VJ70bb6bb53c4af7d5df075251c5bb5ecdc2cb5194_20:22:00: ['20:22:00']\n",
      "│   ├── VJ72eb8acd0836b0d39ae77cc3855656287622fa9b_00:24:00: ['00:24:00']\n",
      "│   ├── VJ81d6619e40bae3285152b14990797f8ab1346557_06:14:00: ['06:14:00']\n",
      "│   ├── VJ89dcff86f6a5ddcba3a9877d644853a2a50bb3d6_06:51:00: ['06:51:00']\n",
      "│   ├── VJ8cb112f28c087447773163bd687caf0fdceac29c_22:48:00: ['22:48:00']\n",
      "│   ├── VJ8e3fb6b0b021fb653cf5092d62c20e532abed33d_01:00:00: ['01:00:00']\n",
      "│   ├── VJ9055edaf7763ff15474ca5807f2cd64efa307046_21:36:00: ['21:36:00']\n",
      "│   ├── VJ924a4a12e269accecb15718a3206196f82b672c1_23:36:00: ['23:36:00']\n",
      "│   ├── VJ93943d6378b677f8b41375fa7ca4d000b8a37325_06:44:00: ['06:44:00']\n",
      "│   ├── VJ967efb54f2071e12fa727f1fb3b918cbc7ca0183_23:12:00: ['23:12:00']\n",
      "│   ├── VJ9c22c5cd53549076a7ac3059c54fb1038649c374_07:44:00: ['07:44:00']\n",
      "│   ├── VJ9e2848fc99b9c827e6dc91b9bb6f9aecb19d6548_20:06:00: ['20:06:00']\n",
      "│   ├── VJb0c5d8d73e5c2b572016e8e80c2ea5eff3d4198c_06:36:00: ['06:36:00']\n",
      "│   ├── VJbfdc1537a2ccfa9f280f32f57fcfa5d25d0afcfb_07:51:00: ['07:51:00']\n",
      "│   ├── VJc206c9f195dd38f31e5e945e40d6ecf489cf5b98_05:30:00: ['05:30:00']\n",
      "│   ├── VJc28ec054ebf52f4e61f755cbea4054cd408b35dc_21:02:00: ['21:02:00']\n",
      "│   ├── VJd7ceae1ba67f8bdaf1998f25a747ed6157664d18_21:48:00: ['21:48:00']\n",
      "│   ├── VJe0d2d26be8951f9605e4620de9e8d09f7c71c9c2_07:06:00: ['07:06:00']\n",
      "│   ├── VJecfb8234602075be20472bb9966a7d2b1519ab87_22:36:00: ['22:36:00']\n",
      "│   ├── VJf0354f04e1efead859d9fb7692dfcb0b6153f91b_22:12:00: ['22:12:00']\n",
      "│   ├── VJf48a57843fb3bce8bd19e41f9d5e79f813297fb0_07:59:00: ['07:59:00']\n",
      "│   ├── VJf797589a5ce2c098c22ddbf8692f87fe7cfa20d4_06:21:00: ['06:21:00']\n",
      "│   ├── VJ32544ddc7ee8b2359430eea32840004899dfa6b1_21:02:10: ['21:02:10']\n",
      "│   ├── VJ45ca498fc5ff619f73f24dd6c0bd8b739ed7c891_22:25:10: ['22:25:10']\n",
      "│   ├── VJ4efd158e48ce4662df9762605398885cc21b4ca3_22:48:10: ['22:48:10']\n",
      "│   ├── VJ678c51e7125dd78fd1b81c41b36d5eb60b66914e_23:00:10: ['23:00:10']\n",
      "│   ├── VJ6d2aaafe2614af27176872b08aaefd1274e54cbd_21:49:10: ['21:49:10']\n",
      "│   ├── VJ7ed3c99ee61ba8de123a3f49a9450c340a9d9867_06:35:10: ['06:35:10']\n",
      "│   ├── VJaa433a5def7369e3e5f6fecf16feafcf6cf95539_22:13:10: ['22:13:10']\n",
      "│   ├── VJac0b6aa6ea8189e4b653777e9c3d1753ff83b374_21:13:10: ['21:13:10']\n",
      "│   ├── VJaf2c6f62539ec9ef26340b58ef7be9cf3703799f_22:37:10: ['22:37:10']\n",
      "│   ├── VJc852a477e3b290f1b424824f72982bd54bd36270_06:25:10: ['06:25:10']\n",
      "│   ├── VJe73db577c2adebe056acdce308b04a2afd622c5f_22:01:10: ['22:01:10']\n",
      "│   ├── VJef7f20c3a9bf1419f6401e1e9131fe2c634bcb9a_06:03:10: ['06:03:10']\n",
      "│   ├── VJf3e1ac3b15022326e84d8e01fa1a1e3c3cd8139c_06:15:10: ['06:15:10']\n",
      "│   ├── VJf9f2648db2d2faaddd302aa6bc98230d1bdb749d_21:25:10: ['21:25:10']\n",
      "│   ├── VJfdccf8661360da5420c96e01664fb91419ad4f32_21:37:10: ['21:37:10']\n",
      "│   ├── VJ6a551fbde01b81be237475c6c164591a0de7408f_06:02:00: ['06:02:00']\n",
      "│   ├── VJ8afdecb301f868fdcd3eb64f4e53bf166ff9de3c_06:14:00: ['06:14:00']\n",
      "│   ├── VJcce31c3d81a01c443aa6fdab1987231704e4a485_05:35:00: ['05:35:00']\n",
      "│   ├── VJdba049f6b6b0fbdda56601fea4e8e0e0a245ed17_05:03:00: ['05:03:00']\n",
      "│   ├── VJf6055fdf9ef0dd6d0500b6c11adcfdd4d10655dc_05:50:00: ['05:50:00']\n",
      "│   ├── VJf9cc92045395b036b1aafe5c2b980a55cfa3be21_06:26:00: ['06:26:00']\n",
      "│   ├── VJfe681e194bdc9517de56db09920a518b72b73eb1_04:32:00: ['04:32:00']\n",
      "│   ├── VJ06447f89024ca7df749294639aeba33598ed3daa_01:05:00: ['01:05:00']\n",
      "│   ├── VJ12e12cacf2818414a1204b66a802f9ae8652f982_02:45:00: ['02:45:00']\n",
      "│   ├── VJ22e8748b773c8862f303b86f730672a677c1ab4e_02:05:00: ['02:05:00']\n",
      "│   ├── VJ465cd6a5781b854026726f7d896716c249d4decb_01:25:00: ['01:25:00']\n",
      "│   ├── VJ4b98b9bb63a8be5d4f7d5e45aed44baaf3f705a1_00:05:00: ['00:05:00']\n",
      "│   ├── VJ94af31fe3157910268d6b0f3343faf65b034b9b2_01:45:00: ['01:45:00']\n",
      "│   ├── VJb79ba295c7189fef9ee63bf397ccadaa4574ee83_00:25:00: ['00:25:00']\n",
      "│   ├── VJf05ada2cbf00bce04ffce8a45715bc2aa069bf2d_00:45:00: ['00:45:00']\n",
      "│   ├── VJfc4917783c2ca3227789fa7c532c9adf47702095_02:25:00: ['02:25:00']\n",
      "│   ├── VJ05f2d2487820f23cdea3a3aa6c38f30af2d570fd_07:14:03: ['07:14:03']\n",
      "│   ├── VJ0a56663a29cbfe35c898db48c9680c45490c0bff_07:34:03: ['07:34:03']\n",
      "│   ├── VJ0dfd4a4f2563bcc7d8f2039f61afd7c8b38ff8fd_00:35:03: ['00:35:03']\n",
      "│   ├── VJ2607908cdc873db14d6381cc50afa94e60091d62_07:20:03: ['07:20:03']\n",
      "│   ├── VJ3330bb973b8017341294f5995f1d41b94720fe92_00:05:03: ['00:05:03']\n",
      "│   ├── VJ42da7e5751b55c669d3c76a80a1448af0651ed89_00:15:03: ['00:15:03']\n",
      "│   ├── VJ4721d36e6ba70f4a2a049730c030a94246081e89_08:03:03: ['08:03:03']\n",
      "│   ├── VJ642deaf30ff49eba4ccd0143d95fc5c107a49f86_23:25:03: ['23:25:03']\n",
      "│   ├── VJ651f9f386d215d35d2b7977ff4ece8463c8168f0_23:05:03: ['23:05:03']\n",
      "│   ├── VJ745935b6a1c0b84c4959001e56f404a99cd3b29f_00:45:03: ['00:45:03']\n",
      "│   ├── VJ74fd9c0e7a768ad6ea14f99a6b61147aee0912a7_01:00:03: ['01:00:03']\n",
      "│   ├── VJ86f672effee775db29435cc74aff29e418d4264f_00:25:03: ['00:25:03']\n",
      "│   ├── VJ88bc9fdf221ef92af6cfaf5dcf5a9de83094e4f0_07:52:03: ['07:52:03']\n",
      "│   ├── VJ9b5f563f4dc7ca65eee5ba1344e28323181d148f_07:07:03: ['07:07:03']\n",
      "│   ├── VJaa8e206ae2580ad2d7da252f1f12a1bbcf0ed67f_07:47:03: ['07:47:03']\n",
      "│   ├── VJb689bb703984abbf7c54b3a00c1d873d58b8c06c_07:40:03: ['07:40:03']\n",
      "│   ├── VJbc96272561ff7b4ca631f7056e7da5610b7c3fca_07:27:03: ['07:27:03']\n",
      "│   ├── VJc5d343e15a817a77713be70c47336e874229a042_07:57:03: ['07:57:03']\n",
      "│   ├── VJea5d29c8bd48ce92ad81b52f23d7d76201812e52_23:45:03: ['23:45:03']\n",
      "│   ├── VJea6046f64f85febf1854290fb8f76e921e3ac96b_23:15:03: ['23:15:03']\n",
      "│   ├── VJeaa2d481f1f5f04ebf5a30f9075d105bf45b7714_23:35:03: ['23:35:03']\n",
      "│   ├── VJee6891f654b0b9d7386de9096e2b12ac2c5d8704_23:55:03: ['23:55:03']\n",
      "│   ├── VJ045b18d760da4c932d0e649e9e20607305bb7d2b_14:48:00: ['14:48:00']\n",
      "│   ├── VJ05b9d9767491a42285910221b7af71ccb14ea1b3_08:10:00: ['08:10:00']\n",
      "│   ├── VJ0a4f69dd276b2572171db2effd294ec3a53f2288_17:25:00: ['17:25:00']\n",
      "│   ├── VJ11ec61fd0b78b541b144e0493153036c0511db2d_12:25:00: ['12:25:00']\n",
      "│   ├── VJ12c3509c4cf00295584bc66949b142f6f1260478_10:18:00: ['10:18:00']\n",
      "│   ├── VJ13449353b11444a535ba80c56f9c870fb9542639_11:40:00: ['11:40:00']\n",
      "│   ├── VJ1449c2f04781455fc78e86b5cae13cd2236c013c_07:55:00: ['07:55:00']\n",
      "│   ├── VJ15917d623f58fa4987dd17884c5a0b94e09b8daf_08:48:00: ['08:48:00']\n",
      "│   ├── VJ15e8df189f9ec5b1a6b4abaf37e03c8d377d51de_14:18:00: ['14:18:00']\n",
      "│   ├── VJ182b773a94a2e7756e0eeb4ab174a403c00d6b39_13:55:00: ['13:55:00']\n",
      "│   ├── VJ18936fcec73876f52476ec33226677e409e09ea6_13:40:00: ['13:40:00']\n",
      "│   ├── VJ1c94c4c841a521f2e352ae8a33321f7db418ddb0_12:33:00: ['12:33:00']\n",
      "│   ├── VJ1e9afebb23d3e056ad3074acf1228095b5099c9c_16:55:00: ['16:55:00']\n",
      "│   ├── VJ1fc845ee79d9c9bdeba3689dadb853b1ea5af9e1_17:10:00: ['17:10:00']\n",
      "│   ├── VJ200fd4064d6e876a60f9d112c303f49df20bbb56_11:55:00: ['11:55:00']\n",
      "│   ├── VJ2061fd97661cc6c4b3c49c6016655aa75984ac22_08:33:00: ['08:33:00']\n",
      "│   ├── VJ22f16c543e8672f51c453755c209724a675f4fc4_19:45:00: ['19:45:00']\n",
      "│   ├── VJ246b002a9ff523019a46748c73738e8fcf7d572b_16:48:00: ['16:48:00']\n",
      "│   ├── VJ26095b8f9f9db92ca2e53d4c086a7dcd82a13be9_15:25:00: ['15:25:00']\n",
      "│   ├── VJ268dbf2749639b7892d4bb08c58fc0caf995843f_09:18:00: ['09:18:00']\n",
      "│   ├── VJ26a3f7d6e7e6ec8700f6e7bdb8607ad8a5c17e87_16:25:00: ['16:25:00']\n",
      "│   ├── VJ28c2491cd5462c54f57d4cb5e487b0e24b966d0d_12:48:00: ['12:48:00']\n",
      "│   ├── VJ299ff6786ad05a7ff765cae44f2dd0c94fed1901_14:33:00: ['14:33:00']\n",
      "│   ├── VJ2ce47dc036698279278da9b42d7f0d7e1d6b14a8_19:05:00: ['19:05:00']\n",
      "│   ├── VJ2d3ecd358f272552db992bc6aea6f43037130fc4_08:25:00: ['08:25:00']\n",
      "│   ├── VJ2ec728040ca8c6ce41489ad43ba885e1df547026_18:50:00: ['18:50:00']\n",
      "│   ├── VJ2f1e61ea99273de4b61e462894522f04044ba083_09:33:00: ['09:33:00']\n",
      "│   ├── VJ2fa0f1bcbac3082f76039548a0778b78c84f2879_18:27:00: ['18:27:00']\n",
      "│   ├── VJ3292d03ed68eb8a9a6690b44db59bfc93a018f51_11:25:00: ['11:25:00']\n",
      "│   ├── VJ34a4b5014ca4ab261a06a8a9f3bd26eb9d22240f_22:45:00: ['22:45:00']\n",
      "│   ├── VJ37b1e04e90dd63daf34fdc471bea09f12be57d88_14:10:00: ['14:10:00']\n",
      "│   ├── VJ39075a2cd5798d9598018db51bfc9c0ea4ef87e5_18:43:00: ['18:43:00']\n",
      "│   ├── VJ3c3510c2f12e7e3b41fc6d42e5a1ee793504d719_17:18:00: ['17:18:00']\n",
      "│   ├── VJ3e283a4175b7c0162815767712a0458d18ed9ae8_22:33:00: ['22:33:00']\n",
      "│   ├── VJ4115cf5fe38696f2a12d3d6c3632528f950b1a77_17:48:00: ['17:48:00']\n",
      "│   ├── VJ428c9772b9d973cbb03aa244dbe0a9c87940a06b_11:18:00: ['11:18:00']\n",
      "│   ├── VJ471fcccae03f0fd0c4f54e83ae13fa4886539108_14:03:00: ['14:03:00']\n",
      "│   ├── VJ4778a270244761295d2e1288f745b4c2e745345a_13:33:00: ['13:33:00']\n",
      "│   ├── VJ47a6f15b88730d56d3bd5c867dc29056c0cd66af_20:33:00: ['20:33:00']\n",
      "│   ├── VJ4a519dd939dc7450bdee915578312583f36ae85c_20:21:00: ['20:21:00']\n",
      "│   ├── VJ510fd593b513c36fba01bca7bc7ee1e68afb4e33_08:55:00: ['08:55:00']\n",
      "│   ├── VJ529cd544405df4938258b154ea0bc42f0fcc2ec7_10:55:00: ['10:55:00']\n",
      "│   ├── VJ547b44318cb8e8362e8f44ac438dc60a605151b2_12:55:00: ['12:55:00']\n",
      "│   ├── VJ5cd2c5f64b75f7792b8e9e39cc075da5aa645bc7_17:55:00: ['17:55:00']\n",
      "│   ├── VJ5ddcde4cf688379baf1886b25091d15556c6a655_12:40:00: ['12:40:00']\n",
      "│   ├── VJ5dfb8471c4ecccaf3dc1d2a968a9e7e2408e9ff2_15:33:00: ['15:33:00']\n",
      "│   ├── VJ5ff347c406d3ca2f0b7b7aba125394fd766ad877_15:18:00: ['15:18:00']\n",
      "│   ├── VJ61600797be8ba40a6478737668bd28df0c209855_19:15:00: ['19:15:00']\n",
      "│   ├── VJ63a0f531958e8ab0074af121a7ebb71f7fb1aabb_13:25:00: ['13:25:00']\n",
      "│   ├── VJ672f75190aaebabcf13a751589cba32966a4637c_10:25:00: ['10:25:00']\n",
      "│   ├── VJ6971bb9881c8f18e92908f673493d9a9b6838dda_17:33:00: ['17:33:00']\n",
      "│   ├── VJ6b064dbd210ecb1764ed2cb6f461dc975b9e3fa4_08:18:00: ['08:18:00']\n",
      "│   ├── VJ6b515290c59513956b0fb61f30eb428d4d54adaa_15:40:00: ['15:40:00']\n",
      "│   ├── VJ6bc03e52d611c403bd76cba5a03860c8fd1763cd_21:09:00: ['21:09:00']\n",
      "│   ├── VJ6e321fe0285ef1d6d63d10b74ab96083bb6793c1_16:33:00: ['16:33:00']\n",
      "│   ├── VJ70bbf4e475b783674962b8667bd0fcee73906738_10:48:00: ['10:48:00']\n",
      "│   ├── VJ75d4c72c7cd769c536b2b329abdca9275d7048ba_13:48:00: ['13:48:00']\n",
      "│   ├── VJ7648ba32a0cc1abeadd5e8006506c67488649357_18:57:00: ['18:57:00']\n",
      "│   ├── VJ79eaccc4e9b6436446889c485388f2e7b4e99d1a_15:03:00: ['15:03:00']\n",
      "│   ├── VJ7c6d9c64d3d6a98381445e07dfd11a60b9707f25_13:03:00: ['13:03:00']\n",
      "│   ├── VJ7e2863327562e197062978b4ca40efd0da63b692_21:21:00: ['21:21:00']\n",
      "│   ├── VJ833d990c87188d3dadd946e91535f84b9d115f47_07:48:00: ['07:48:00']\n",
      "│   ├── VJ83a727b416ea4610d97caab95536f991654d71f5_16:10:00: ['16:10:00']\n",
      "│   ├── VJ85de28d94c78b078365de068b9fb6088c5641c32_16:40:00: ['16:40:00']\n",
      "│   ├── VJ88179d754ffe84b89391ce502c2f56020786bcef_20:09:00: ['20:09:00']\n",
      "│   ├── VJ881eec29ebba8f74dbaa8d5d40abc5b808b72b23_12:03:00: ['12:03:00']\n",
      "│   ├── VJ942b161c67121a204db7a87acf8fd3ccb1d4a7c7_10:40:00: ['10:40:00']\n",
      "│   ├── VJ9578d10d393a27a68b7f914ff66e89155ef34504_10:33:00: ['10:33:00']\n",
      "│   ├── VJ96ebe7102724066e1d40abd55661b7dd76477a3b_20:57:00: ['20:57:00']\n",
      "│   ├── VJ9717c2c2463b7b65a0e60f3fda8e7fb678c023c7_09:48:00: ['09:48:00']\n",
      "│   ├── VJ97cebeae65f2b5115765fb00f8cd32bde1085d1a_21:33:00: ['21:33:00']\n",
      "│   ├── VJ99091677abdb51612b25a559a3db32f83be4c79d_09:03:00: ['09:03:00']\n",
      "│   ├── VJa1659c55f28b474b55f3aa76eb7d9726f45ebf07_10:03:00: ['10:03:00']\n",
      "│   ├── VJa2045f3e15840a2a3659745bfe4332b509663e0d_17:40:00: ['17:40:00']\n",
      "│   ├── VJa5b1fe6ffedd5e4737e6597803fa5dc930b944eb_20:45:00: ['20:45:00']\n",
      "│   ├── VJa7a5ec6ea54e64a3acb730389fa5dfa87caba7a5_07:40:00: ['07:40:00']\n",
      "│   ├── VJab22d6d303a433f58b10490b2523e3a6a85eb483_14:25:00: ['14:25:00']\n",
      "│   ├── VJac57f77ce7131d936092db76effb798d76899fb6_09:55:00: ['09:55:00']\n",
      "│   ├── VJb1060625d24ff5493839e678af640825c27b47b7_18:35:00: ['18:35:00']\n",
      "│   ├── VJb2e4a1d3f19d1e118fb7d1c7bf5f684b852547d3_16:18:00: ['16:18:00']\n",
      "│   ├── VJb46254c135d3695feea7429d3582e5f16c7a5904_08:03:00: ['08:03:00']\n",
      "│   ├── VJb5c29cf32259fc0d031564c96d737ca413c63ca3_18:19:00: ['18:19:00']\n",
      "│   ├── VJb861ac4d05b7ecfe0508b1ad74abf393c61695cb_22:09:00: ['22:09:00']\n",
      "│   ├── VJb9768ff1bf2056913dc17c4ac52bc84e91dadae7_08:40:00: ['08:40:00']\n",
      "│   ├── VJbb04dacce6bd2c5614da8239cce7acf1d91721b3_15:55:00: ['15:55:00']\n",
      "│   ├── VJbbec91e02b43c5b9527d6cc4c9a628de74b50f35_19:35:00: ['19:35:00']\n",
      "│   ├── VJbf40bd37db17373a9e10492e0e33438ddd12c83a_11:33:00: ['11:33:00']\n",
      "│   ├── VJc207183e256b6e77c841ef16480d44c90619ceaf_09:25:00: ['09:25:00']\n",
      "│   ├── VJc36e9fe966f8981e4bb0ed985e40550f75e23042_12:10:00: ['12:10:00']\n",
      "│   ├── VJc6616a2ba4a79d232b18cb16d400b66205e662ba_19:57:00: ['19:57:00']\n",
      "│   ├── VJcc68d44dbb6beb68c3f38ddf96356bf85c2e542b_21:57:00: ['21:57:00']\n",
      "│   ├── VJcca1f35d98b3e0a38c9b3000ca0a87711868b185_09:10:00: ['09:10:00']\n",
      "│   ├── VJd0e599e997553cb6bf86ad4a4a49cd6641188fbf_10:10:00: ['10:10:00']\n",
      "│   ├── VJd34c59a9ef23561e3a788339ac74dd09daa582f4_13:10:00: ['13:10:00']\n",
      "│   ├── VJd4251b683637f5aa7343e9bb31e9fda3a6bf92dc_15:10:00: ['15:10:00']\n",
      "│   ├── VJd9cffd6554ac72aa1922f8c07722b9fb116b8310_09:40:00: ['09:40:00']\n",
      "│   ├── VJdd89fe3eed6c50eb308d5510d4035f6bf7e6faa4_21:45:00: ['21:45:00']\n",
      "│   ├── VJe43cb4a7cb5150d00392b39cab1389691812dfeb_17:03:00: ['17:03:00']\n",
      "│   ├── VJe9b70f9561d845a01d62a50098a41572730f1292_14:55:00: ['14:55:00']\n",
      "│   ├── VJeb19deaef2afada574430574f9733e454f638f29_12:18:00: ['12:18:00']\n",
      "│   ├── VJeb25aa36efb5f89e23359a8ac0c3b11d4777197e_18:11:00: ['18:11:00']\n",
      "│   ├── VJf2b0fb761c708ef406480251f90b92adc557bd8e_11:03:00: ['11:03:00']\n",
      "│   ├── VJf39f95cd99a03bebf92717ff107b287fd88039cb_22:21:00: ['22:21:00']\n",
      "│   ├── VJf3bc97445193f79a2b7b149ff49e7039f0f8878b_16:03:00: ['16:03:00']\n",
      "│   ├── VJf5778c29cc6c27dc092e4d181f73121600d0da08_13:18:00: ['13:18:00']\n",
      "│   ├── VJf5be50399498391e462aa9bbf8eaf111dbd73add_11:48:00: ['11:48:00']\n",
      "│   ├── VJf8189cfc5545e5c1167145f6893f97efc541eab4_11:10:00: ['11:10:00']\n",
      "│   ├── VJf854e22609989f6a400ef8f023097301aaacc5a1_14:40:00: ['14:40:00']\n",
      "│   ├── VJfa24dafdc4444772076c72e103fbc8558da29edb_22:58:00: ['22:58:00']\n",
      "│   ├── VJfb0c01a8250fbb07fe3df11ab68a766df5fbcaa9_15:48:00: ['15:48:00']\n",
      "│   ├── VJfb55cf49422734b7a958bf78f06434279b792760_19:25:00: ['19:25:00']\n",
      "│   ├── VJfe32d56ff06adc1e44d15001442e892ad21b3ddd_18:03:00: ['18:03:00']\n",
      "│   ├── VJ2c87b2a59184888f3175b55bde7b02d024ea8607_05:59:00: ['05:59:00']\n",
      "│   ├── VJ59fbbf6be34b98c8c0540c5d660450506e8d78c4_06:14:00: ['06:14:00']\n",
      "│   ├── VJ5d36436f5c01dca74347f62541dd117750e6e1d5_06:31:00: ['06:31:00']\n",
      "│   ├── VJ8394dc2f5d3fe269e66d17686ff39550312c603c_06:36:00: ['06:36:00']\n",
      "│   ├── VJa988b9547b8d1eccce3b8ebae25ffdf81c58c513_06:41:00: ['06:41:00']\n",
      "│   ├── VJff4a18fdef9ccc03f1036afd7ec44b6b7265ffa8_06:24:00: ['06:24:00']\n",
      "│   ├── VJ0dd3a39830d6a633f3ac0aa49cf570d405e6902c_09:55:34: ['09:55:34']\n",
      "│   ├── VJ13dc3a075ff7840f4f8d4b2464213e7cbbd17672_10:49:34: ['10:49:34']\n",
      "│   ├── VJ15419796737689e742962a625abcf3fd5b3d58b1_18:32:34: ['18:32:34']\n",
      "│   ├── VJ1796bfe64ab2138723266ef6e8405fba91e1db47_09:28:34: ['09:28:34']\n",
      "│   ├── VJ1cf111019e8ae7cddc9da366a005a9c85d6f16e0_09:01:34: ['09:01:34']\n",
      "│   ├── VJ1dff9d6e78d7d8670063b58017473aad99310220_09:10:34: ['09:10:34']\n",
      "│   ├── VJ21c461d1a5f612080c25e21d4febe2e76bbff75b_10:22:34: ['10:22:34']\n",
      "│   ├── VJ409ca43edd7041a397b88b1da5feecf30e0664f3_09:19:34: ['09:19:34']\n",
      "│   ├── VJ44d063895c3f46fc0bbba22d9964303e895ff775_10:04:34: ['10:04:34']\n",
      "│   ├── VJ4635f04f39f5fc5d11dfd0489a4f84b39e574144_17:56:34: ['17:56:34']\n",
      "│   ├── VJ49746e8458b576f4f6e04eda6d42c184eb1e3839_08:07:34: ['08:07:34']\n",
      "│   ├── VJ558e7743ce92dde4bb0e29f56d23520b6b4a245f_10:31:34: ['10:31:34']\n",
      "│   ├── VJ5ce474e5784b7cd2af3129413e0eda4874eb1f04_08:52:34: ['08:52:34']\n",
      "│   ├── VJ5fb7ddc5dc3ac8502d7c9d639085d1e642eabaa3_08:43:34: ['08:43:34']\n",
      "│   ├── VJ6b2d32983200dcc0d6ee2e2162113f68468d60bb_08:34:34: ['08:34:34']\n",
      "│   ├── VJ842712d7a10db4e26e81776b7829a711978e37a9_08:25:34: ['08:25:34']\n",
      "│   ├── VJ86ff283f2913897d7d80ccecd53f3b498a6c3caf_18:40:34: ['18:40:34']\n",
      "│   ├── VJ8fdd6622c914d27f32279be48fbff4ad0ec976d3_10:40:34: ['10:40:34']\n",
      "│   ├── VJ912e7ddb5968252f361f9e4614dea9550808c4c0_08:16:34: ['08:16:34']\n",
      "│   ├── VJa6ac4bcfc656cc147fc3f05e5363756365cc8d86_18:05:34: ['18:05:34']\n",
      "│   ├── VJa717277cee466affdcc669630ac38d88ca3ffcb0_18:14:34: ['18:14:34']\n",
      "│   ├── VJb97ceac248f3a1f236991b6853d2cb5362da94b0_09:46:34: ['09:46:34']\n",
      "│   ├── VJc043a40591122bad958045320b82738335ed4c13_18:49:34: ['18:49:34']\n",
      "│   ├── VJc0ac93e5a24f76b813086cc1e5b2ee58523d2fc4_09:37:34: ['09:37:34']\n",
      "│   ├── VJc7b667843c30494549dac94514721f037f3f4bca_10:13:34: ['10:13:34']\n",
      "│   ├── VJd87cbdb884379a550a9188e65a77c1072bc52fdd_10:58:34: ['10:58:34']\n",
      "│   ├── VJe2e799e26a77ada3916afbbdef928320261ea070_11:07:34: ['11:07:34']\n",
      "│   ├── VJfa17c79eb99d122fab0108f1c79f0202a1f9fc97_18:23:34: ['18:23:34']\n",
      "│   ├── VJ02981be0ba7d6c0a266e0c6674330a6c348d780d_15:14:56: ['15:14:56']\n",
      "│   ├── VJ0bed83d16a81b4f9ac96cd708977f7828c3034af_16:44:56: ['16:44:56']\n",
      "│   ├── VJ0d5c884e960469ac2ced50a704e57d965da26018_17:20:56: ['17:20:56']\n",
      "│   ├── VJ0dced374f86a00d6703a213b208a7c6f91ce1d01_18:08:56: ['18:08:56']\n",
      "│   ├── VJ107b261690137486d4ed56d9ded86eca3eac6a37_17:38:56: ['17:38:56']\n",
      "│   ├── VJ10b173bf36de4e10682655dfd71b0b5070ddb1cb_19:14:56: ['19:14:56']\n",
      "│   ├── VJ12cd8cb918aa2c708e77adf934b6a9c897444f88_13:37:56: ['13:37:56']\n",
      "│   ├── VJ157a2ee25bf97e328dac1ba9bc621f27e39bf78a_16:08:56: ['16:08:56']\n",
      "│   ├── VJ173a850cb6986576772120e83ce392d79910177c_17:14:56: ['17:14:56']\n",
      "│   ├── VJ1bbad5122919ff4567fdf8ed4b498b8056dd9633_15:38:56: ['15:38:56']\n",
      "│   ├── VJ1bd8eb92fbcc1b7158208ea9b86b7d727760f455_14:44:56: ['14:44:56']\n",
      "│   ├── VJ1fed34f457eea48c0efe2f76415b35a8c13571b3_14:52:56: ['14:52:56']\n",
      "│   ├── VJ229ef79766428e4ee86400e1cf7e0698c24acd7c_12:07:56: ['12:07:56']\n",
      "│   ├── VJ318e68fc32306ef9446a0fc8d7206ae69347cd81_14:29:56: ['14:29:56']\n",
      "│   ├── VJ3825655322e063e189ece16a5957d6ea6b66a682_15:44:56: ['15:44:56']\n",
      "│   ├── VJ45340ce1612b63fbd8239e8c4d5cdcec58c4da1e_16:38:56: ['16:38:56']\n",
      "│   ├── VJ4ec706aed6724ab28bc2b817ad112d93fba9f305_17:02:56: ['17:02:56']\n",
      "│   ├── VJ52e02863bab34a72a243e6860dc36dc1baa00b5f_12:29:56: ['12:29:56']\n",
      "│   ├── VJ55a49551f66bf200d44d0b53c8c0cd3f8ad9de36_14:59:56: ['14:59:56']\n",
      "│   ├── VJ56d473667c8fd82599b94030c191beba3cbdb4f6_12:37:56: ['12:37:56']\n",
      "│   ├── VJ56dbc06a8d972abfa1215cc238ad40796b92a701_16:26:56: ['16:26:56']\n",
      "│   ├── VJ5c17f78e3e3b6e3047a3a1caff2fdcec430b85bb_11:59:56: ['11:59:56']\n",
      "│   ├── VJ69b8b60174585251049251c787d48e57a6a88451_18:26:56: ['18:26:56']\n",
      "│   ├── VJ705fbb5d0cd3a4f9ef43a5dd0644b7a7c3e018c0_15:26:56: ['15:26:56']\n",
      "│   ├── VJ7488611e987dbdd3bcb9eaf2af08811279e291c2_16:50:56: ['16:50:56']\n",
      "│   ├── VJ777b11a75a6bceb50836aa76a0b4e181a4705e4b_14:07:56: ['14:07:56']\n",
      "│   ├── VJ7848a4db4486b714731c21141c13436817260ef9_17:26:56: ['17:26:56']\n",
      "│   ├── VJ7897ca3b0db1ac3f9a1519e70714b99264729c40_14:22:56: ['14:22:56']\n",
      "│   ├── VJ7941092c23c46ef37caf292dbb3fe4ea520b2b4d_13:07:56: ['13:07:56']\n",
      "│   ├── VJ7d3ed27ad2a4fc8e2eb9866fb875dfa1f6dde202_17:08:56: ['17:08:56']\n",
      "│   ├── VJ815b3e6b18a344a5a68f08d84c356238c0a396f0_12:52:56: ['12:52:56']\n",
      "│   ├── VJ82f1301dd5770e4aaf9305c49e593035b36dbf14_13:14:56: ['13:14:56']\n",
      "│   ├── VJ831f9718b3be3718ebd9dffb52142d29b1e015d5_17:56:56: ['17:56:56']\n",
      "│   ├── VJ83d373073bb20a3ffe5d3c55e54537ebaf064cd3_15:56:56: ['15:56:56']\n",
      "│   ├── VJ83f29afb4c22b72c6814b822937c4ccea999ddc1_18:50:56: ['18:50:56']\n",
      "│   ├── VJ850882d330f82879077977db4e00df4e3b440fb9_16:32:56: ['16:32:56']\n",
      "│   ├── VJ86da5ac4b6cec8164d77e8f19d41d8b986ed55a8_12:22:56: ['12:22:56']\n",
      "│   ├── VJ88161e34afe3ad34f166a747e43194da511a5858_15:50:56: ['15:50:56']\n",
      "│   ├── VJ8b0d68aaadd1ad0375a107135b3e66bc7f2ebf30_15:20:56: ['15:20:56']\n",
      "│   ├── VJ8cac22edfc024f03ae96845305a39f8688c2b464_13:44:56: ['13:44:56']\n",
      "│   ├── VJ8d1003509257e171df9db27a9df87be53d754829_18:56:56: ['18:56:56']\n",
      "│   ├── VJ8da455abbd798ebec1fd032801ae9bf1b3ebfb1c_13:29:56: ['13:29:56']\n",
      "│   ├── VJ8e6d3b0610e28cc007a98cec6a23e5a8e4c390bf_14:14:56: ['14:14:56']\n",
      "│   ├── VJ8fe7b7464b076079ca502bf9819a163c253de33a_18:38:56: ['18:38:56']\n",
      "│   ├── VJ93e7d24b32b327aea45682b43834195df4309e24_19:26:56: ['19:26:56']\n",
      "│   ├── VJ96fcc1c1b57be83cfac1833551dd0525a99ac703_18:14:56: ['18:14:56']\n",
      "│   ├── VJ98c5082dc733f68aded0af00aed00f06077ea135_15:32:56: ['15:32:56']\n",
      "│   ├── VJ9ac0a44d18d874f3ef7d087d6b49e351694e90a7_13:22:56: ['13:22:56']\n",
      "│   ├── VJa0ebd74343ffc0dcf839cc9641d0cf92ba1a61e2_16:56:56: ['16:56:56']\n",
      "│   ├── VJa282967990023819e8b4c72e55305b7357f3ba49_17:50:56: ['17:50:56']\n",
      "│   ├── VJa7667302175c8d4c980bd22fd9dd9c0ef852b9ec_19:08:56: ['19:08:56']\n",
      "│   ├── VJa7e01cac4167b1388a54ac4f82c576fc00e2f115_14:37:56: ['14:37:56']\n",
      "│   ├── VJaa5ee0daec7529d7668c81fe7fac0c4ff545daea_12:44:56: ['12:44:56']\n",
      "│   ├── VJbe34a835cd4d2d45b9c2132a1796999d653eafb8_12:14:56: ['12:14:56']\n",
      "│   ├── VJc58b56a5a06f365c91d11e784cfdab655ad495dc_18:02:56: ['18:02:56']\n",
      "│   ├── VJc59203bd56e7bdba133847175f15c2104e7a66cf_18:44:56: ['18:44:56']\n",
      "│   ├── VJc7cee15dff7158d9b28574416d845e6f2f7fc5ed_13:59:56: ['13:59:56']\n",
      "│   ├── VJc8710dd34b3a0aafa7697a5ab4bc9c1c424d0bfe_19:02:56: ['19:02:56']\n",
      "│   ├── VJd49d750e36cb24c67ea9808f512b09c235b744b9_18:20:56: ['18:20:56']\n",
      "│   ├── VJd7c93558bf07b3491b838e6c173a25fa272baede_12:59:56: ['12:59:56']\n",
      "│   ├── VJdad985a6c8be38399417831ed18dac3a2591c739_19:32:56: ['19:32:56']\n",
      "│   ├── VJdbc8453fd43c6113e1bbd0ab70c09148970cd42c_17:32:56: ['17:32:56']\n",
      "│   ├── VJe208dbeb42d5242e0a97fb754c168e6719c73a3e_16:02:56: ['16:02:56']\n",
      "│   ├── VJe283a0c32ad7f875d9a103f24823def92a550977_19:20:56: ['19:20:56']\n",
      "│   ├── VJe512acd080ecf9ed6fd5486680a279226cbaee0f_17:44:56: ['17:44:56']\n",
      "│   ├── VJe77cd772898226c881a70e472363159a163ab18c_16:14:56: ['16:14:56']\n",
      "│   ├── VJee3086666244fe235ef0a43d9dcd307c4d1aaca2_16:20:56: ['16:20:56']\n",
      "│   ├── VJf3cd2c1b6debfd43a652bcd187285e4ac2eae75c_13:52:56: ['13:52:56']\n",
      "│   ├── VJf8266bec4eb66504ab95684a45b62f4d72687831_18:32:56: ['18:32:56']\n",
      "│   ├── VJf842c61e9345a23e027f00f8680fdb8eeb2eca8f_15:07:56: ['15:07:56']\n",
      "│   ├── VJ520ec0c0ca58a849349fa614b5cf9270ac5c93da_02:30:50: ['02:30:50']\n",
      "│   ├── VJ7a1c3f9bb726eccef85048922c7c33efdbffb4c2_02:56:50: ['02:56:50']\n",
      "│   ├── VJ10e618fb4956ca3dd2d0f5121e91c41c790e3405_07:02:00: ['07:02:00']\n",
      "│   ├── VJ418a03aaee47a908d43163bef7043d8ce3b7854b_03:30:00: ['03:30:00']\n",
      "│   ├── VJ5b511605b1e07428c2e0a7d676d301c6c40dcca6_03:00:00: ['03:00:00']\n",
      "│   ├── VJ68821fd4ec2cb1d27fc7fdb88f6769a3dfd8adec_07:34:00: ['07:34:00']\n",
      "│   ├── VJ693c5ebe984452f2dc390736197ed9edbd713408_06:54:00: ['06:54:00']\n",
      "│   ├── VJ7c33f516d089b99dbb1a44650b750cbd7427d2ac_01:35:00: ['01:35:00']\n",
      "│   ├── VJ8c481fe0e2dae8cef0094526b022a2ca61c676cf_02:05:00: ['02:05:00']\n",
      "│   ├── VJ8c68d427ed06685bbc3668b2d975814886ce7cdf_02:30:00: ['02:30:00']\n",
      "│   ├── VJbcdbe26378694f6ca6b03fcc4d6915cebc0c7617_01:05:00: ['01:05:00']\n",
      "│   ├── VJc780b69fa45a0f2499dc4fa22a49718de6edc46e_07:26:00: ['07:26:00']\n",
      "│   ├── VJc80280186ed75e759e11f00d786bfed0adbf8e3f_04:00:00: ['04:00:00']\n",
      "│   ├── VJd7d2fd3be01bc95d8abd1d38407110ef775b1c4f_07:18:00: ['07:18:00']\n",
      "│   ├── VJdba59e30d9054aa65bf52eecf2cca36036598923_07:10:00: ['07:10:00']\n",
      "│   ├── VJfe365bf46fef6ffb2f086b0ee6a1207ce1adacd2_07:40:00: ['07:40:00']\n",
      "│   ├── VJ2e4c6d83aa4dfd4b71ae27a9568cd3a4d0598f6d_05:25:00: ['05:25:00']\n",
      "│   ├── VJ4fef3d3f34855f68dab603441550f4e487b0b9b7_03:45:00: ['03:45:00']\n",
      "│   ├── VJ8cacca9a6722c497c413005568182ecf4d50b160_05:05:00: ['05:05:00']\n",
      "│   ├── VJ99c16d764175d7337e6a4eb4e96b9f86d229c48f_03:25:00: ['03:25:00']\n",
      "│   ├── VJb539a6d218dff4d1beedc043251816c61261a18b_04:05:00: ['04:05:00']\n",
      "│   ├── VJd31d4caa3acbb42ea7f1bda2fc6546367cd381a6_04:25:00: ['04:25:00']\n",
      "│   ├── VJe4bb380a7597afb92965ad2e6067bdbd3b2ef0bb_03:05:00: ['03:05:00']\n",
      "│   ├── VJeed31b18553abeb6b2b7df9eb4db8d6c706c0f3a_04:45:00: ['04:45:00']\n",
      "│   ├── VJ05068f2d86bc3067567a3d0669b97ff70daf0a8a_14:48:00: ['14:48:00']\n",
      "│   ├── VJ08a0150ac6a91760461cbddb878e5f54f01d9a3e_06:57:00: ['06:57:00']\n",
      "│   ├── VJ09731ab32b0154fdd353309e672a20630af2808b_12:25:00: ['12:25:00']\n",
      "│   ├── VJ0a313408b6c27ce9989ab6c984c017251dac84e6_06:02:00: ['06:02:00']\n",
      "│   ├── VJ0a50a490dbe95942a7b8761b09c373fc6a60341c_08:30:00: ['08:30:00']\n",
      "│   ├── VJ0a836fdeddf420d4c7835e056fd734f7c222bc63_17:46:00: ['17:46:00']\n",
      "│   ├── VJ0edf7a192a61b4782434b115688e0a4d50af39a6_08:42:00: ['08:42:00']\n",
      "│   ├── VJ0f516a34a2820f8920be4547ce1e2cb14133a3fc_23:01:00: ['23:01:00']\n",
      "│   ├── VJ10351b03b7a4daf11a5347dce27f5d378c805a8a_19:04:00: ['19:04:00']\n",
      "│   ├── VJ1335242282910198717160669cee7461e85dc27a_11:33:00: ['11:33:00']\n",
      "│   ├── VJ1374837d0b1c4fd676a3146ed32e30975451d3a8_18:49:00: ['18:49:00']\n",
      "│   ├── VJ1421ea5104002f95bc868c505b5dde59af36dbd5_16:34:00: ['16:34:00']\n",
      "│   ├── VJ149da042a063e0ebf84002874d20ff85b629318c_17:22:00: ['17:22:00']\n",
      "│   ├── VJ15bfa07391ca69cbd752da57f6b2533b6494a8ea_06:32:00: ['06:32:00']\n",
      "│   ├── VJ1766b25a4d9f90e6963ce7089e19d704c411e2eb_17:16:00: ['17:16:00']\n",
      "│   ├── VJ1983d9cdcf52b9a454000f207271cf4672146e23_15:25:00: ['15:25:00']\n",
      "│   ├── VJ1bf6907bb9484b9fa03af80778133d30c4fc03c2_14:33:00: ['14:33:00']\n",
      "│   ├── VJ1deb5f3ce0a496ecc1fc65c8fdfd7cd56fafe491_24:01:00: ['24:01:00']\n",
      "│   ├── VJ211057d76dc86a1d75ca6978682036c436cf0e20_18:19:00: ['18:19:00']\n",
      "│   ├── VJ21aa1849e4f68728f7740a7d46bd49529fe57363_10:29:00: ['10:29:00']\n",
      "│   ├── VJ23f7f1aa6ee3a1d634080c91444d1cf28144c070_14:03:00: ['14:03:00']\n",
      "│   ├── VJ2560077aff653ecdf5df0bae1720b2aadd6905f9_17:34:00: ['17:34:00']\n",
      "│   ├── VJ27d8d93daca7fdd1bb78cadfc0afcbf4447db12d_15:48:00: ['15:48:00']\n",
      "│   ├── VJ2be583f4012db2f3a6dacdee63b341e324eb1420_14:40:00: ['14:40:00']\n",
      "│   ├── VJ2d0a79b259279900ded1f48c9c043fad4988b591_09:06:00: ['09:06:00']\n",
      "│   ├── VJ2dd2c256a812a407278bee53a0a6acbcb429170a_16:52:00: ['16:52:00']\n",
      "│   ├── VJ332c87702f13045263ef4578beee61a9184a3747_18:04:00: ['18:04:00']\n",
      "│   ├── VJ33d29ba3d8bb815624568466f258368bcb241d4e_19:33:00: ['19:33:00']\n",
      "│   ├── VJ345fee54900e48795ae4a78a9d5a567169d5eefe_17:58:00: ['17:58:00']\n",
      "│   ├── VJ349e77dc5b37bbd94c61c8e7717d8fcdbb4f1b39_10:08:00: ['10:08:00']\n",
      "│   ├── VJ35f4d1ebf4f6710232662f1d9106c1dbced4249d_17:40:00: ['17:40:00']\n",
      "│   ├── VJ3644bcb589927d10a2b3e6218c768e6654e82d09_16:03:00: ['16:03:00']\n",
      "│   ├── VJ391be444b1fffc5316d5ad98fefd22c3d5609afa_14:25:00: ['14:25:00']\n",
      "│   ├── VJ3e33447ccefa9eb15f9f35afa811bde4fc53f4a9_06:09:00: ['06:09:00']\n",
      "│   ├── VJ3ea8583c061d48e7f19fce8c7ac00803f09e19d6_08:36:00: ['08:36:00']\n",
      "│   ├── VJ3eec10e84fa6523774d2e9b795fe00b38b4c7937_08:16:00: ['08:16:00']\n",
      "│   ├── VJ413ac6e6455fe3bfc66b4b2f8c454973bba73570_06:48:00: ['06:48:00']\n",
      "│   ├── VJ426fb36cff701ff2eae4aa0418947e33fe4197e4_19:40:00: ['19:40:00']\n",
      "│   ├── VJ43cd459f15733ae9eae813b970c5e2517bf4b781_19:55:00: ['19:55:00']\n",
      "│   ├── VJ441060ac33cb241bed8bff1fb4ec12498694ee1c_08:03:00: ['08:03:00']\n",
      "│   ├── VJ44c2f4fc5f3f886ffb8c48c00b8451d38d6e18ff_05:18:00: ['05:18:00']\n",
      "│   ├── VJ4525a34cd8c7d62b3fb50b35882b11440e9c15bd_11:18:00: ['11:18:00']\n",
      "│   ├── VJ49ad0c6658e639afd0d7f8b74052545919596c73_09:36:00: ['09:36:00']\n",
      "│   ├── VJ4aae6baa06a64f7e12182c5a4db8bd45604e9318_07:42:00: ['07:42:00']\n",
      "│   ├── VJ4b1c0d624bb6cbdf6286bc40beee303cdca27c96_11:40:00: ['11:40:00']\n",
      "│   ├── VJ4c6699bffd6a6e519c44bd6c3590021c749ea15e_23:37:00: ['23:37:00']\n",
      "│   ├── VJ4d6ff75f019dc64dd2e134a62ed0583de2cdd7a0_22:25:00: ['22:25:00']\n",
      "│   ├── VJ4d778155dc03ef16a548eabdeedee2434a5d4b17_23:25:00: ['23:25:00']\n",
      "│   ├── VJ51d464dd274b61f9f9b31d7be7075db75d4af249_08:48:00: ['08:48:00']\n",
      "│   ├── VJ5278359c6d913e76958c14a7988e3f9356e8fc77_10:55:00: ['10:55:00']\n",
      "│   ├── VJ52b566df116eec3e25bbf14ef2590459a460a7bc_24:13:00: ['24:13:00']\n",
      "│   ├── VJ54dd09aefcedc5bc7648ffc501ea36bd1551bc99_05:42:00: ['05:42:00']\n",
      "│   ├── VJ557b3d95ff8c9d9aa1d811ab2a1d46e5b5bec215_07:29:00: ['07:29:00']\n",
      "│   ├── VJ5797fda01573f573151324c1ce65973d3407c616_13:48:00: ['13:48:00']\n",
      "│   ├── VJ59f0c28139703245ed745d1d9900992e36ec5b09_07:35:00: ['07:35:00']\n",
      "│   ├── VJ5c11926773758b352cd8a3fbe129030e9f7a5b80_15:55:00: ['15:55:00']\n",
      "│   ├── VJ5c7fa5bc270ea50a2d3a156cc049b04189cae730_23:13:00: ['23:13:00']\n",
      "│   ├── VJ5cd310edb94153c46d87d7621097b93f460e635c_16:28:00: ['16:28:00']\n",
      "│   ├── VJ5d60ef60a2b0afad04eff960c90a0e93227261d8_06:26:00: ['06:26:00']\n",
      "│   ├── VJ5d830ddfcb7fa64ae04c4beb1ece8c9ff18d76cc_16:40:00: ['16:40:00']\n",
      "│   ├── VJ5ec866aa95b43a27738693811737fc1dbcc8519c_11:03:00: ['11:03:00']\n",
      "│   ├── VJ626b2dc8de12ca6749028380111c79a8dd83b7db_21:49:00: ['21:49:00']\n",
      "│   ├── VJ627887d5677abc3cc7f0e4de52b39136e80bb143_07:13:00: ['07:13:00']\n",
      "│   ├── VJ66950fe92c5c8c042ce5203371d35c54a43d96a7_21:37:00: ['21:37:00']\n",
      "│   ├── VJ68d61141fa73ea6983473a98b0dddea7e1df9d4c_11:25:00: ['11:25:00']\n",
      "│   ├── VJ68eed655ec468c45411a688cd47e235ac1123084_22:01:00: ['22:01:00']\n",
      "│   ├── VJ6a27102d5012451103ee61beae7e2ae9f4d3cd68_07:21:00: ['07:21:00']\n",
      "│   ├── VJ6b0b9b4f42a7009825ee31f2414ed0101ee07e47_10:42:00: ['10:42:00']\n",
      "│   ├── VJ6cde63f3f676d7759a3b642d05e369cff5aa3964_18:57:00: ['18:57:00']\n",
      "│   ├── VJ6dafcae97b2604d5f0ea1b65b4a45c20398ba444_08:23:00: ['08:23:00']\n",
      "│   ├── VJ71f6d0f6a26cff3f099a8cae79babf497250c6f9_14:55:00: ['14:55:00']\n",
      "│   ├── VJ72c1fd17a5520925a714eed5243114f172131ab7_13:03:00: ['13:03:00']\n",
      "│   ├── VJ73af085ff7edd7c255e2d87ce29618becdea6830_06:17:00: ['06:17:00']\n",
      "│   ├── VJ7483fd3649d7bc9ccc8bc949a29a499fe6c10218_13:10:00: ['13:10:00']\n",
      "│   ├── VJ752eca768118b42f710ed51ca4f6c05471c94845_15:10:00: ['15:10:00']\n",
      "│   ├── VJ765a1199b5338463eb6499a33bd690b974d90bb4_11:10:00: ['11:10:00']\n",
      "│   ├── VJ77034fd17fe14b247f20e4c9bfc359266a7e6cf0_20:40:00: ['20:40:00']\n",
      "│   ├── VJ7ca32cfbb5e9d1ec2f946d4bbc5ec95459df1b80_07:49:00: ['07:49:00']\n",
      "│   ├── VJ81349ff713602a10f04007f4e06c34a5723fd5b0_13:55:00: ['13:55:00']\n",
      "│   ├── VJ82537ade0410552c85eb6a2e5d02d144ed4fa00e_22:49:00: ['22:49:00']\n",
      "│   ├── VJ834300869939d895f7cbfe641671717bbd0a56a7_15:33:00: ['15:33:00']\n",
      "│   ├── VJ83de6a86b72daa35a3c26a819ac8d2746ebd2e16_05:54:00: ['05:54:00']\n",
      "│   ├── VJ84e49eb982513c549e7f80f6709a78160e7a9f39_22:37:00: ['22:37:00']\n",
      "│   ├── VJ86a477781569787e3eb6750313d83ca4ada98302_16:58:00: ['16:58:00']\n",
      "│   ├── VJ87693c3db1d79ff197fae99291b7fbb9bdd1b2bf_12:55:00: ['12:55:00']\n",
      "│   ├── VJ89b95fcefcfe9d44c8dac6dad4e33ccb3599fcd6_16:16:00: ['16:16:00']\n",
      "│   ├── VJ8aabbf5ce4cf00809458e1e344b036c8f2cf6406_18:34:00: ['18:34:00']\n",
      "│   ├── VJ92f98091c7767dc6c292e1f54ab063a937705816_19:11:00: ['19:11:00']\n",
      "│   ├── VJ944f0513df4f1439f9d874e4ce7f7890b4c4fc58_21:25:00: ['21:25:00']\n",
      "│   ├── VJ966b36a7033b291472bae3a2309ce424c3917ea8_10:35:00: ['10:35:00']\n",
      "│   ├── VJ97dc002776099c5573b9b0f42f2c5e1d6ad359b2_20:19:00: ['20:19:00']\n",
      "│   ├── VJ9892868e3eec91b5b8a57540913753958845b056_19:26:00: ['19:26:00']\n",
      "│   ├── VJ990c95fbff7f8f4319b9d8e7ef0a95a9500e8f29_14:10:00: ['14:10:00']\n",
      "│   ├── VJ9a56a15d482a7c60f1f8e3b8c206abdbf156fc92_17:28:00: ['17:28:00']\n",
      "│   ├── VJ9d3ba43834a9848d3dfef2fcc16b186d56d028b1_16:22:00: ['16:22:00']\n",
      "│   ├── VJ9d72fccca401712f084abc4bcc88850fb1c1f7c1_19:48:00: ['19:48:00']\n",
      "│   ├── VJ9ee89dcad498f9da3ece72db36a8d8b3f1175518_15:18:00: ['15:18:00']\n",
      "│   ├── VJ9f88894b73e759cf702ce5b36f5a77ca0716cb8e_13:40:00: ['13:40:00']\n",
      "│   ├── VJa5072dc80a74628a8e992104e3a2697d9b3fa518_06:39:00: ['06:39:00']\n",
      "│   ├── VJa5eb73c8a144d968dc366c53a0f50f32fd75de57_12:33:00: ['12:33:00']\n",
      "│   ├── VJa63fbbaac41498afe39173a5161bc06544c223c8_09:12:00: ['09:12:00']\n",
      "│   ├── VJa9cb32b8eb15220bf94d1170b14cfe168d5042a8_09:42:00: ['09:42:00']\n",
      "│   ├── VJae5de2dd2c8882148ca727f274207b67a31bd5e5_12:18:00: ['12:18:00']\n",
      "│   ├── VJb534749a4eb34d4942b6f84f4fab497685565fdd_16:46:00: ['16:46:00']\n",
      "│   ├── VJb7bbd96ab1d03b6d2e70086d091e0a9aac884efe_11:55:00: ['11:55:00']\n",
      "│   ├── VJb96bd619e5a1129dfcdeb2c47c7b0ab9aafa0a52_12:03:00: ['12:03:00']\n",
      "│   ├── VJbc4b747556c2ba2ad97c9672f60005982423bca9_13:18:00: ['13:18:00']\n",
      "│   ├── VJbcb75cda27cdd35180c88614e91c6522c8fe900f_17:52:00: ['17:52:00']\n",
      "│   ├── VJbf4b46b746f9928a6afcd4204b780e22d228d65a_17:10:00: ['17:10:00']\n",
      "│   ├── VJc037e8d97d1ac6736c19f9402d193623c209fa48_18:42:00: ['18:42:00']\n",
      "│   ├── VJc4cadb8124458ce9fbe5f8fcbf1aa3f1e77a0652_13:33:00: ['13:33:00']\n",
      "│   ├── VJc592d0623ad130fd0173c8497d69bcc4ee5e708a_08:54:00: ['08:54:00']\n",
      "│   ├── VJc5b4f97f834b62cfa932e3ef406239534ec5e215_12:48:00: ['12:48:00']\n",
      "│   ├── VJc7c04bee1d64e2890a1e11a4fe4788ac9a16dc56_22:13:00: ['22:13:00']\n",
      "│   ├── VJcbe27f1b65b3972bea4802bef50a9aa14625119b_15:03:00: ['15:03:00']\n",
      "│   ├── VJcdb39b82a1d2798b84b7197d495d5986cca86193_13:25:00: ['13:25:00']\n",
      "│   ├── VJcf75b25d0d9abf4cbd246683d5cff6ae14138b0c_24:37:00: ['24:37:00']\n",
      "│   ├── VJcf9697b6f22f5be4efd0617b96d7d642e29fda62_20:02:00: ['20:02:00']\n",
      "│   ├── VJcff868977051abc3c2f2b5076ff8b47fd685a579_24:25:00: ['24:25:00']\n",
      "│   ├── VJd2489058ffa8ea0c1b8ba449b824583918fe85db_09:30:00: ['09:30:00']\n",
      "│   ├── VJd5d6bacff1a481717ad6da04f6c47261217c9398_21:01:00: ['21:01:00']\n",
      "│   ├── VJd700367dd6eb648e05717e532bfabd09401d687c_07:56:00: ['07:56:00']\n",
      "│   ├── VJdb1bc32cdeee8502eb4479bb42abb8ca1c6e070c_18:27:00: ['18:27:00']\n",
      "│   ├── VJde30f9472f5dc56dc4d0696f35b2b09926ad5408_15:40:00: ['15:40:00']\n",
      "│   ├── VJe081aeb703bca00003e481eac214419c825ce886_20:50:00: ['20:50:00']\n",
      "│   ├── VJe2417d8146b8ab80b4ce0b988207aee26170eca0_09:54:00: ['09:54:00']\n",
      "│   ├── VJe32b2cad871c8db6bfa9b5ec3dabfd8ecd0f1bde_19:18:00: ['19:18:00']\n",
      "│   ├── VJe3c5b1e7016e8978c3a5f8dad9c72388bcbdbf9a_20:10:00: ['20:10:00']\n",
      "│   ├── VJe5c08959f666a633d0d17af4dab8d1b16057464a_00:49:00: ['00:49:00']\n",
      "│   ├── VJeb252ebdfcbea1cf4809192e05b281a653fcd28f_18:12:00: ['18:12:00']\n",
      "│   ├── VJec23b2a987d8dd5adf8b89fe2ea0b6726dd4ad52_12:10:00: ['12:10:00']\n",
      "│   ├── VJed81396f5386cb5a065f2264ad9574ae8027374f_08:10:00: ['08:10:00']\n",
      "│   ├── VJede854d8121c44ebe5ebbd05b1dc79f526c70931_20:29:00: ['20:29:00']\n",
      "│   ├── VJee3f006fd41273bbcb5ae42f5e767fad23422ff8_10:15:00: ['10:15:00']\n",
      "│   ├── VJf1419cf7c06ab9a1bef6bcc1750c5f281c5a1063_14:18:00: ['14:18:00']\n",
      "│   ├── VJf2bf56457cddfcd719036c743a7779ee8ab8556a_16:10:00: ['16:10:00']\n",
      "│   ├── VJf2e0de4f5dad68cb03064e6064e372dde52cc678_11:48:00: ['11:48:00']\n",
      "│   ├── VJf37342f8697458b4dc9e6e477ce4eaf6eb975a26_10:48:00: ['10:48:00']\n",
      "│   ├── VJf3a61551007e2fcd641848e4582f315d166e094a_21:13:00: ['21:13:00']\n",
      "│   ├── VJf3c8bff3de6c2de328745f983dca9c8bf00938b1_09:00:00: ['09:00:00']\n",
      "│   ├── VJf40fea676631efc9f5f7732b071316c85777df44_09:18:00: ['09:18:00']\n",
      "│   ├── VJf5518575d876d5e69920195d76a7a7606b28d7b1_09:48:00: ['09:48:00']\n",
      "│   ├── VJf695b22cbc142eb05a4b5e0ab9579be2a4b225e5_09:24:00: ['09:24:00']\n",
      "│   ├── VJf7556692a8b0a6082703e77fe9db0d4719fa8044_07:05:00: ['07:05:00']\n",
      "│   ├── VJf793c6c8ba8fdfd5c96c447e2ac6b303fc240344_17:04:00: ['17:04:00']\n",
      "│   ├── VJf8ad752d36b3df6d2c999d48ba38a72b608496d7_23:49:00: ['23:49:00']\n",
      "│   ├── VJf8f541aeb832f42e5b5a179db58886978210495e_10:22:00: ['10:22:00']\n",
      "│   ├── VJf975fd57c161c90a0a1be669d6e79822266fae5b_12:40:00: ['12:40:00']\n",
      "│   ├── VJfb45fa8569c08308a5f22de05d9a3e9e1d2f5e5f_10:01:00: ['10:01:00']\n",
      "│   ├── VJfbed99fb826d8313f887efebe4bedc1e630eb67e_05:30:00: ['05:30:00']\n",
      "│   ├── VJ1bc9c6ad46c2e02fa21499ad8af90545a0580484_21:06:00: ['21:06:00']\n",
      "│   ├── VJ3e3a65ec991536a32bb18d328ccf7d3913f969e8_21:59:00: ['21:59:00']\n",
      "│   ├── VJ79f69516bc20ed1f0f609ae370346be2289d47b4_21:21:00: ['21:21:00']\n",
      "│   ├── VJ9311aba78788b152ff50d46dad8469cded0a527e_21:49:00: ['21:49:00']\n",
      "│   ├── VJ98057dfb44bad239fd3c0b302a37181dbaa00191_21:39:00: ['21:39:00']\n",
      "│   ├── VJ9e442a827b3d88274b38a828d1da7d6310ad3e2d_21:13:00: ['21:13:00']\n",
      "│   ├── VJaa442c54956ef1d6318547d9324852bd88929bc9_21:29:00: ['21:29:00']\n",
      "│   ├── VJc63e795dede75ddcc911350097bf6ac10ad98bf1_22:39:00: ['22:39:00']\n",
      "│   ├── VJc8cdbd902dadeebeeb4dbd7332b564ee2e4b00ce_22:09:00: ['22:09:00']\n",
      "│   ├── VJf090a82a061cf471b834af4113eeca79de5d9e24_22:29:00: ['22:29:00']\n",
      "│   ├── VJf64ed111b3c00d55dd8e650261b3cab7fdb3db40_07:56:00: ['07:56:00']\n",
      "│   ├── VJf732b4d70fe807b4d6fc5ead62380e394595d9d6_22:19:00: ['22:19:00']\n",
      "│   ├── VJdf3936da1a51eb33db594ef99738802c14b19995_06:39:00: ['06:39:00']\n",
      "│   ├── VJ0201d6ecca94820a1c956ca592730bf149b454ae_04:04:00: ['04:04:00']\n",
      "│   ├── VJ0daf8af52ed0c82d7b749b57974d7a1219000e15_05:24:00: ['05:24:00']\n",
      "│   ├── VJ305fdcdf22d74a667d14fe5b17f666985270d396_05:04:00: ['05:04:00']\n",
      "│   ├── VJ35790dfaa8d283d3c0377fbb6adf9d648813dc00_05:44:00: ['05:44:00']\n",
      "│   ├── VJ4b698bdd0d888acdc40011eec7199a09f1d192cc_01:44:00: ['01:44:00']\n",
      "│   ├── VJ5b3c5dcf74f8d400d5054b1076672bcac3248d57_03:44:00: ['03:44:00']\n",
      "│   ├── VJ62fbf582ab461fb8ca11a294b02a403c56f34b9e_04:24:00: ['04:24:00']\n",
      "│   ├── VJ778421075f974a67443b8b6dd75380739173c2f9_03:24:00: ['03:24:00']\n",
      "│   ├── VJ82dc7b3dac09ce8d0e71575564220c0bd47dbf8e_04:44:00: ['04:44:00']\n",
      "│   ├── VJ88d8e722aa07f0030b35cf25e32f66145b184eb4_06:04:00: ['06:04:00']\n",
      "│   ├── VJ91b57e9fb783c8b780d7047b7199663cd467864e_01:24:00: ['01:24:00']\n",
      "│   ├── VJ93277517df14d4b43114d0a81c6017e182448ff6_03:04:00: ['03:04:00']\n",
      "│   ├── VJ9d5c1b5aea387a78d01ffdef9d5acf66ca358b2a_25:04:00: ['25:04:00']\n",
      "│   ├── VJbc8a0dd26e4d9a45b5bcbe21f4554e8c96c622d1_02:44:00: ['02:44:00']\n",
      "│   ├── VJd7375475782a6f9638c37d870d21d460df67180f_02:04:00: ['02:04:00']\n",
      "│   ├── VJf3e316e5e605bb512147dee2a989be5a82ef1b5f_02:24:00: ['02:24:00']\n",
      "│   ├── VJ2599afa4b551277192daab664fe2d37e3170672a_05:00:00: ['05:00:00']\n",
      "│   ├── VJ2d04e8d661d469f87c28c180fb4f21cde17df747_05:30:00: ['05:30:00']\n",
      "│   ├── VJ3beaca7458453e1ef21d8ab183fb05eeb7d38403_06:00:00: ['06:00:00']\n",
      "│   ├── VJ5d3943fb9caaaafa4480acb9a52b8b3d6a4f3527_00:15:00: ['00:15:00']\n",
      "│   ├── VJ64fafbd342747b844a06ee8e1d20e49032b0ee03_04:30:00: ['04:30:00']\n",
      "│   ├── VJbf9d4fdb976223e6a026c0c669ed290418abefee_00:35:00: ['00:35:00']\n",
      "│   ├── VJ04e99eecc9d02bace9cd30843b4fa2502abf0d2d_08:09:00: ['08:09:00']\n",
      "│   ├── VJ12ba6089dfb2733e29c415a1a0015fef30fd5305_19:27:00: ['19:27:00']\n",
      "│   ├── VJ1bfb8ac1a80280fdda1742d297f73ba74f3f4876_19:07:00: ['19:07:00']\n",
      "│   ├── VJ28307ab8cf9619b3fa3d14dec554d8094fc07961_08:24:00: ['08:24:00']\n",
      "│   ├── VJ3f74d4ffe9af9ef681592765f8e05e3bba2a4057_18:39:00: ['18:39:00']\n",
      "│   ├── VJ4414fbc40bc6746b4addaf728d9d6ca3bfb474af_07:54:00: ['07:54:00']\n",
      "│   ├── VJ505a32d6e2a72df75a1f9b8e2c7251745e2fb0ad_07:30:00: ['07:30:00']\n",
      "│   ├── VJ5f1482784340fae5b5ba60ab5a44d9795032483b_08:02:00: ['08:02:00']\n",
      "│   ├── VJ631da68aa847b18c62699f22eedf5c43e5e67e11_08:54:00: ['08:54:00']\n",
      "│   ├── VJ78bd0b30c4ad6891c60965a6c3a198a7aebc3c06_09:17:00: ['09:17:00']\n",
      "│   ├── VJ79ebc16b3a3348664f500319782add64f8111249_08:47:00: ['08:47:00']\n",
      "│   ├── VJ8301f4928a170331f7e42a1526a30906540822be_09:24:00: ['09:24:00']\n",
      "│   ├── VJ9169eec153704d487fff26e77d851a986e446633_07:38:00: ['07:38:00']\n",
      "│   ├── VJ930b5e5e606c2cec6c824627e29d259d84a13a27_09:39:00: ['09:39:00']\n",
      "│   ├── VJ966e8cd8381b36780908434ede761e8693ebdf9e_09:09:00: ['09:09:00']\n",
      "│   ├── VJ9e1a63e07c939276be6d7ba47212af414c94bce5_09:47:00: ['09:47:00']\n",
      "│   ├── VJ9f12b24e827ceabadebbf8dc3fbe6ab886e0b284_09:02:00: ['09:02:00']\n",
      "│   ├── VJa456110c056c0ce3895f9d75ed623c99d10d73c2_19:01:00: ['19:01:00']\n",
      "│   ├── VJae4fa5c404488278669380000f88d73b6dab1c8e_08:39:00: ['08:39:00']\n",
      "│   ├── VJb002beacf787d53a6ecca2b7d2f516c4f61be57b_18:54:00: ['18:54:00']\n",
      "│   ├── VJbc251acc8398f29ecb1b27cfa2bb08fa74849627_08:32:00: ['08:32:00']\n",
      "│   ├── VJc602612a145d1dfc6e685dd219b97dc1c1a18b7d_09:32:00: ['09:32:00']\n",
      "│   ├── VJcc60d79bf370fd69ff6934603aa9d83e86e82e02_07:22:00: ['07:22:00']\n",
      "│   ├── VJce62e6b5204f508b95912aef88900683c96b34da_18:47:00: ['18:47:00']\n",
      "│   ├── VJe165350c77c2d832b595c5c02cf61a9291d87f88_19:13:00: ['19:13:00']\n",
      "│   ├── VJe5bcad74f34cf224ff26bec111e7a52888555b16_19:20:00: ['19:20:00']\n",
      "│   ├── VJf3f6f75efad693ead486d8ce01154e6d7f38330f_08:17:00: ['08:17:00']\n",
      "│   ├── VJf4ec8b4961d31215139defc7228838d6445cb603_07:46:00: ['07:46:00']\n",
      "│   ├── VJ01aabdea189073c29528b5ee10f9f297448ebd81_23:22:00: ['23:22:00']\n",
      "│   ├── VJ0c5b0ce35f53f7bf1a3dfbb8cd0684ddaf564720_07:34:00: ['07:34:00']\n",
      "│   ├── VJ4e311a625836374adf4cfaa841224840dbeb7619_23:10:00: ['23:10:00']\n",
      "│   ├── VJec43137846f28257bf183054fce0fa9b3bc3539a_07:26:00: ['07:26:00']\n",
      "│   ├── VJ4c6fa387b0d4be94a6c3679b94790b183e2558ca_07:02:00: ['07:02:00']\n",
      "│   ├── VJ4f286c80139953631343dbb0df93606663967d04_07:14:00: ['07:14:00']\n",
      "│   ├── VJ842b688e965c6a093869af9f7b2a55592aff2b98_07:08:00: ['07:08:00']\n",
      "│   ├── VJ8f1284b66480f0c3086c2815484f0d362152ae8c_23:58:00: ['23:58:00']\n",
      "│   ├── VJb93a17a405fe502c5b3a2d6544105b0311da9fe2_06:46:00: ['06:46:00']\n",
      "│   ├── VJ256e98df611ff48afe737ddc81cbcde82e4e81c8_06:49:00: ['06:49:00']\n",
      "│   ├── VJ05f2228ff0aaf41d4f4a9c41bcff3ce510ffcbe3_01:11:00: ['01:11:00']\n",
      "│   ├── VJ06c14bea822b745309c89c1b0fa3d87de969c19c_23:38:00: ['23:38:00']\n",
      "│   ├── VJ13ae7224bb6f6670b17b4d04d8e957d5298db7b3_00:47:00: ['00:47:00']\n",
      "│   ├── VJ14466a1be302911cd22d2f580db749a9a3bcc75a_24:25:00: ['24:25:00']\n",
      "│   ├── VJ726e3c82cbf8567f8943e244d40af4c8a6df501d_23:27:00: ['23:27:00']\n",
      "│   ├── VJ7bcb60f9923b7d93edb502b9ad6f1f63a79fb330_24:36:00: ['24:36:00']\n",
      "│   ├── VJa523c3e9d1c68df2746e3ab613088b46622c88e2_24:02:00: ['24:02:00']\n",
      "│   ├── VJa8f5878e631ba8af916930e63c93e6727f2c5a06_00:59:00: ['00:59:00']\n",
      "│   ├── VJb1c21e1cb6b15eddffab7440c14721e4a5717e7f_23:50:00: ['23:50:00']\n",
      "│   ├── VJbdca0029c2ee6e7d881aa11dcc9415ec0d4df46e_23:05:00: ['23:05:00']\n",
      "│   ├── VJd77048066d8c0bbffb592e757b7ae930d212365c_24:14:00: ['24:14:00']\n",
      "│   ├── VJf8e38a73359b6cf743d8e35ee64ef1f7b7914daa_23:16:00: ['23:16:00']\n",
      "│   ├── VJ323d02e117552af1565f2ff1273a612655c829c4_06:51:00: ['06:51:00']\n",
      "│   ├── VJ0d65d0b913024137de091890ad1e027672e950e0_11:52:13: ['11:52:13']\n",
      "│   ├── VJ0e07b9d48811b2cb11b8cf96e8ecc7763a7903b6_11:07:13: ['11:07:13']\n",
      "│   ├── VJ0ee2ddb72c43f0b40f4dbf463faf418115414c1a_10:39:13: ['10:39:13']\n",
      "│   ├── VJ0eeb35c7005fa87dbe51d62bfadf1c81a615bc92_11:29:13: ['11:29:13']\n",
      "│   ├── VJ1928a1f8f4db2dd10242a467e670dc833e357161_20:20:13: ['20:20:13']\n",
      "│   ├── VJ24fe211d801738b556a39f815256d7f6bc544ec5_11:22:13: ['11:22:13']\n",
      "│   ├── VJ307eaac8a831c51d553c0db7f59c32a7f68d4f8e_10:04:13: ['10:04:13']\n",
      "│   ├── VJ3caa0583ab6b00f7f8c677e96352a1b089265ff4_20:14:13: ['20:14:13']\n",
      "│   ├── VJ43976073eea7713f45393e645ba1d77b0ca7ea85_19:38:13: ['19:38:13']\n",
      "│   ├── VJ4aef2a225b05120532c446362dc759e30dfd5eb7_20:08:13: ['20:08:13']\n",
      "│   ├── VJ4eb514ac9e3018343d19496ce191249618d253b8_19:56:13: ['19:56:13']\n",
      "│   ├── VJ6742d893d4f493d9df764c6f430bb1c45859d97f_09:46:13: ['09:46:13']\n",
      "│   ├── VJ67ed4c7ca55c681bfdb32045ba12847436f1486f_11:00:13: ['11:00:13']\n",
      "│   ├── VJ72c37558338b4719dcfacecc5ae129be00dcec1e_20:35:13: ['20:35:13']\n",
      "│   ├── VJ7f3e9206dbc9fd8618dea27401e86ede5041a38a_11:37:13: ['11:37:13']\n",
      "│   ├── VJ86b466bd1032362e2d28b6fa444cb20d0384e9e2_09:58:13: ['09:58:13']\n",
      "│   ├── VJ8729ca16bd0dd64344e2e20f88abfb5d224454b8_20:59:13: ['20:59:13']\n",
      "│   ├── VJ8bee385a9681e4670e38f03a403257114121f19d_10:32:13: ['10:32:13']\n",
      "│   ├── VJ8f7ce0100c38a4119bb37908b82e6d14942f7cdc_19:44:13: ['19:44:13']\n",
      "│   ├── VJ997e32bf6fa0dc4795d77102fade353ec802342b_09:52:13: ['09:52:13']\n",
      "│   ├── VJa0f54180181f9200e91af48faf439e315c220398_10:46:13: ['10:46:13']\n",
      "│   ├── VJb275da181610cf20c4501c45336570b3162d4d62_11:44:13: ['11:44:13']\n",
      "│   ├── VJbc6fd8055fe9f95b433fd306c3dcc8b651fccbc4_21:07:13: ['21:07:13']\n",
      "│   ├── VJbfa35685064aac5a3e073172278078f324e44cec_20:27:13: ['20:27:13']\n",
      "│   ├── VJc239057734e457e3ba45979b2d87a019b62742da_20:51:13: ['20:51:13']\n",
      "│   ├── VJc66876038adb21f5222e5a2fb9556bcf92e8ad11_10:25:13: ['10:25:13']\n",
      "│   ├── VJcb2c41252c59202af2e9121649b81a62cd510628_10:18:13: ['10:18:13']\n",
      "│   ├── VJd20fc798a5a6afd0e0e7ec01536c07b7946b334a_20:02:13: ['20:02:13']\n",
      "│   ├── VJd4e8f85aaaeb59dc300386e4d9c387df0bc5ea05_10:11:13: ['10:11:13']\n",
      "│   ├── VJd58720f36aab9424330cda2d7d3c2f35f3869a7e_11:14:13: ['11:14:13']\n",
      "│   ├── VJec8dde7922924bdf14592a61ad0d39398258d85d_19:50:13: ['19:50:13']\n",
      "│   ├── VJf10a4ec6bca70e9385ec9762b0c4ab8f868576a2_10:53:13: ['10:53:13']\n",
      "│   ├── VJf47b5a4f373b3269f7eefe1b029e2c5ccb56d15f_20:43:13: ['20:43:13']\n",
      "│   ├── VJfc97772be79693bdab84dff4582f57e0ad6a1870_09:40:13: ['09:40:13']\n",
      "│   ├── VJ0132e57c4ae77f91a392f2c8e053855da6658714_20:59:08: ['20:59:08']\n",
      "│   ├── VJ08911b2d7195a5c915d86621871d1a19c7d79d09_21:55:08: ['21:55:08']\n",
      "│   ├── VJ114ee33b85efb33ab4e31249cfffad7f5f34bc31_06:10:08: ['06:10:08']\n",
      "│   ├── VJ14a81b1ff87a434665d621a72134d899c70c9c93_21:10:08: ['21:10:08']\n",
      "│   ├── VJ26029eca9b36152577f354724f4f94350a1291dc_21:21:08: ['21:21:08']\n",
      "│   ├── VJ41407f15734663886c42ae688cbab345095494ef_22:53:08: ['22:53:08']\n",
      "│   ├── VJ53d627cc50ee4d371871f32182de9ba5247ec443_06:46:08: ['06:46:08']\n",
      "│   ├── VJ5613941368b37ea4be1853f94b1a993f6a56dad7_22:41:08: ['22:41:08']\n",
      "│   ├── VJ57957b4bf6dd32ee1e4609571b5e42b97b955e15_06:23:08: ['06:23:08']\n",
      "│   ├── VJ5ee65b68f38216646dcb5f98617305b0321c6c90_05:32:08: ['05:32:08']\n",
      "│   ├── VJ634e8fd7412c241f870be6181e97a5b2ee12334b_22:18:08: ['22:18:08']\n",
      "│   ├── VJ6c25f3ae973a9f96188646693a305f3660070fb1_20:23:08: ['20:23:08']\n",
      "│   ├── VJ8375f7a9e68d59d39ae5113ce44ef920c56adb79_20:50:08: ['20:50:08']\n",
      "│   ├── VJ8ac9cd9ccc6e0dc1a872ea94a34c9688168c37bd_20:32:08: ['20:32:08']\n",
      "│   ├── VJ9b8518ba402597a3ddb13e39f3aaa9214a2758d7_05:57:08: ['05:57:08']\n",
      "│   ├── VJa509b5b8fee497331cf79d77db26644ce5ad74b2_21:32:08: ['21:32:08']\n",
      "│   ├── VJac4f314cb79879d4d1e4e88dcf621be1150c27e3_20:41:08: ['20:41:08']\n",
      "│   ├── VJafcfd283e8bc1c57dbf0846c5aafee5e09b40136_06:35:08: ['06:35:08']\n",
      "│   ├── VJc81124c0faec85bb098d18f9fb8005b15e83f999_05:44:08: ['05:44:08']\n",
      "│   ├── VJe3df2a4f453c5a61cc07fb63c279bfd65270ebc7_22:07:08: ['22:07:08']\n",
      "│   ├── VJeae6e634f8479e0b6712780d5728f0afca964e64_22:30:08: ['22:30:08']\n",
      "│   ├── VJf8c1b44c2d6396d5223bdc5d1ec70c9a17daafc1_21:44:08: ['21:44:08']\n",
      "│   ├── VJ02f66d6051cb3c787c2ec5430d41a33563c0be58_19:30:30: ['19:30:30']\n",
      "│   ├── VJ0f837b7496df360a0ea669d199332f48c9c5cf88_19:59:30: ['19:59:30']\n",
      "│   ├── VJ11da86a06c5be70ccf95b59df6f8c8b2c61a53a7_19:05:30: ['19:05:30']\n",
      "│   ├── VJ12a927b0f5866456df31f96f1c18221bb8f0e1e4_08:13:30: ['08:13:30']\n",
      "│   ├── VJ1d0151d8a552d0573622351edef2c9fa57f34475_10:19:30: ['10:19:30']\n",
      "│   ├── VJ235c8fca539cf931b3c673f9b056606384aff950_08:22:30: ['08:22:30']\n",
      "│   ├── VJ2eca6f4dedcf1159c4601f77a8855843161aa5a6_09:34:30: ['09:34:30']\n",
      "│   ├── VJ3a8ad3242cee09ff9fa0664e95b10bedad4bf289_08:40:30: ['08:40:30']\n",
      "│   ├── VJ3b1a483754c8b43eec5b8563923a1f9f148053d7_10:55:30: ['10:55:30']\n",
      "│   ├── VJ42a5eb8d57fa0b14a0a3f30887fc0270a186ff0e_09:43:30: ['09:43:30']\n",
      "│   ├── VJ47c25343312c8d39daf023e353caaa8c0252d546_08:31:30: ['08:31:30']\n",
      "│   ├── VJ49c8f465eb8ec098e4cc97e0aa24920092f6d0dd_19:13:30: ['19:13:30']\n",
      "│   ├── VJ4e777bd51f333c0e8c23c170e1ab5a3854cdf8a8_08:49:30: ['08:49:30']\n",
      "│   ├── VJ4ebe96a555a358dc3776e80421d90aaf0e6e564f_10:28:30: ['10:28:30']\n",
      "│   ├── VJ5448b9d6e559f4a6ea7d4d4d2784ed82c8d6f962_10:37:30: ['10:37:30']\n",
      "│   ├── VJ5e657e25355ed08f120e8e39fd6c8140c9cf845b_10:01:30: ['10:01:30']\n",
      "│   ├── VJ660098b4dc277b7c4f6f84981ba99333d7e6c25b_09:16:30: ['09:16:30']\n",
      "│   ├── VJ68608f623f5dd7005a60e80239b02d8d8d7f784d_19:39:30: ['19:39:30']\n",
      "│   ├── VJ876938c96a0a245e907ffc469260e5f869c06a1d_09:07:30: ['09:07:30']\n",
      "│   ├── VJ9256e9b4ed1d6e96b40dd8ccbed47d5a7f457724_10:10:30: ['10:10:30']\n",
      "│   ├── VJa9f0f3702786cfb2993bdcc5b925e95084cc5df9_11:04:30: ['11:04:30']\n",
      "│   ├── VJaa088d4bd9d9b3d35ca1b8cdc04934b4da247229_08:04:30: ['08:04:30']\n",
      "│   ├── VJac9d273ac377ada7f6fbf9b8bf444efe7e6bca1a_07:56:30: ['07:56:30']\n",
      "│   ├── VJbb26dcc07f95c58ba6cebc454d44a54d10c6d0cc_10:46:30: ['10:46:30']\n",
      "│   ├── VJc526f3985b95946b86b418eafffa2e9bb3e31c18_09:52:30: ['09:52:30']\n",
      "│   ├── VJd2ebd53c5629f3b6ba92c3c21e39d97d4aa9c1cc_09:25:30: ['09:25:30']\n",
      "│   ├── VJe86d1577ab0e4ca33c51335716d89906aeb155d2_19:49:30: ['19:49:30']\n",
      "│   ├── VJed4c7951d1717d07f2f1c36202b0001172863f90_19:22:30: ['19:22:30']\n",
      "│   ├── VJed547b9fb30ddcfc545cb3a64e33096ce1ef8168_08:58:30: ['08:58:30']\n",
      "│   ├── VJff87c07d8b546a5e0737da4c111dcf763f92c502_20:09:30: ['20:09:30']\n",
      "│   ├── VJ0406a25dce42307b5839fbb32558e9f73566689d_17:09:50: ['17:09:50']\n",
      "│   ├── VJ24f3641389386064f42016207679f6852563e23a_17:27:50: ['17:27:50']\n",
      "│   ├── VJ7756ecc177b1698ee28e2a02d506a50f7f6f077c_17:18:50: ['17:18:50']\n",
      "│   ├── VJ8f9aea7491080b0137d3092706f53dc11f7dba45_17:45:50: ['17:45:50']\n",
      "│   ├── VJa8eb7bb001eef72cb6ae2fc19e96a2b50d61e756_17:54:50: ['17:54:50']\n",
      "│   ├── VJee5949960e8d68cc29695963d4ac264533bcd16d_17:36:50: ['17:36:50']\n",
      "│   ├── VJ2750f36b3df447e3719dc10236b7daae59696f1d_23:13:00: ['23:13:00']\n",
      "│   ├── VJd78967364a302cf232c5139d40622dcb6c238c9e_23:05:00: ['23:05:00']\n",
      "│   ├── VJ00e83e3fdaff1a5478716f7c100ac2e0d5460e33_16:24:00: ['16:24:00']\n",
      "│   ├── VJ0400d52ed50f5687db923a6da8c4588856d358a2_14:19:00: ['14:19:00']\n",
      "│   ├── VJ0c59fba2bdf7144991fc30712c6e41586082dc2a_13:19:00: ['13:19:00']\n",
      "│   ├── VJ1d95af6c13cc7191d2d9258fc40d817235b52c3d_14:04:00: ['14:04:00']\n",
      "│   ├── VJ203911163e39aed0530ad9d0e6fed31281dd5ae1_13:04:00: ['13:04:00']\n",
      "│   ├── VJ2978f2bcafd94e751f1a1a14d63fb8eedd5a6eaf_14:41:00: ['14:41:00']\n",
      "│   ├── VJ29bec3416ad258149c23f04af206e790ef039ab8_17:18:00: ['17:18:00']\n",
      "│   ├── VJ2c6298e3720875547a3dd7dd3e90eb102d26a902_15:30:00: ['15:30:00']\n",
      "│   ├── VJ3234816f184ff493b5151ead5e2fecac6a4f9134_17:48:00: ['17:48:00']\n",
      "│   ├── VJ3899753a645c678ad5fc47663a837a459b5cf4b6_17:54:00: ['17:54:00']\n",
      "│   ├── VJ3979936b58693de6cc14bfe8c05ce24727dec418_16:12:00: ['16:12:00']\n",
      "│   ├── VJ3b556eb6edc2ef126922123c864dbe7de5951161_17:12:00: ['17:12:00']\n",
      "│   ├── VJ401630198fb6e7821917e116e141771af830f169_14:11:00: ['14:11:00']\n",
      "│   ├── VJ413bcf4c000fbf73c0e85459d09ad1e8e74057af_18:06:00: ['18:06:00']\n",
      "│   ├── VJ4eeb8b750b5b855af0c33a8f27c307f25dee8bfc_17:00:00: ['17:00:00']\n",
      "│   ├── VJ51ea74608c1d7fac11c9951b332f153d69569f54_16:30:00: ['16:30:00']\n",
      "│   ├── VJ55fae84c86a677c828208a840b6b7ad906293f99_17:24:00: ['17:24:00']\n",
      "│   ├── VJ59b54288c29563245083fda273b3a9405e095268_15:42:00: ['15:42:00']\n",
      "│   ├── VJ5c2b1116530ef2e405c69e0bb12dfeaca4c08b24_16:54:00: ['16:54:00']\n",
      "│   ├── VJ5c7c23389c48384ed8662dfb3814601b84677529_12:41:00: ['12:41:00']\n",
      "│   ├── VJ5ff2ca11e14b0aa42a60a98d5d7f8c8634c937a9_16:42:00: ['16:42:00']\n",
      "│   ├── VJ6071f96520cb29a6348ca6407885afaf4d91dd2a_15:24:00: ['15:24:00']\n",
      "│   ├── VJ644f3ac82b41dcdbbe610ff8dbdff82d3d574d5b_13:11:00: ['13:11:00']\n",
      "│   ├── VJ64f334102cca9c29d1f73eb2487b66de23b9aa79_16:18:00: ['16:18:00']\n",
      "│   ├── VJ67aaebf862956dd35f27e1944f55624330c4124d_13:41:00: ['13:41:00']\n",
      "│   ├── VJ681965f1e2cb37b89c561c02c4e1f216e9e80440_18:24:00: ['18:24:00']\n",
      "│   ├── VJ6e066a446c7f448851a229a2280df64464dfef0d_15:18:00: ['15:18:00']\n",
      "│   ├── VJ7216dcdec083205f58da7ed0f9485c465360f2f6_12:26:00: ['12:26:00']\n",
      "│   ├── VJ7ad845209867c452d31238452746411dd2de7cf6_12:19:00: ['12:19:00']\n",
      "│   ├── VJ7d15712cd6ebb243627513798f23afa2b6f7315d_13:26:00: ['13:26:00']\n",
      "│   ├── VJ7e3fc331c6c73bb5c0e315f0c3e53ec8d0898db2_18:00:00: ['18:00:00']\n",
      "│   ├── VJ7ea2a26866b8967e081c262210f52891de51b4e5_14:48:00: ['14:48:00']\n",
      "│   ├── VJ803a41ba8052d44fbca8ec62ac22387466d26b7d_12:49:00: ['12:49:00']\n",
      "│   ├── VJ857aaa7371eedd11a9c87d91d7a7d4066487ff1e_13:49:00: ['13:49:00']\n",
      "│   ├── VJ891f2e517cace944708c98a4ba0971ff5730dd5b_17:36:00: ['17:36:00']\n",
      "│   ├── VJ917056f65729a6baa7bdd16bceddae1498bbdf21_15:48:00: ['15:48:00']\n",
      "│   ├── VJ9b68f032f23c14ee8bab78f3e7eb38abaaa56ca7_12:56:00: ['12:56:00']\n",
      "│   ├── VJ9e82a00ecf12d011dac1209df2608d00217157a9_18:12:00: ['18:12:00']\n",
      "│   ├── VJa08c69e40a1b59e8dc06fc7ea6ee4c1ed858c32b_15:12:00: ['15:12:00']\n",
      "│   ├── VJada891ff3b0c73a2345bab977c82ba02140d0268_17:06:00: ['17:06:00']\n",
      "│   ├── VJaeb1000148bd9934e0fdb37528ba0b22ace4fd32_13:56:00: ['13:56:00']\n",
      "│   ├── VJb096d4338ff3380b6ab1b9ce2af6419bc6453a35_15:36:00: ['15:36:00']\n",
      "│   ├── VJc159d1611d4a7ff4018808c30d1dac63f61d399a_13:34:00: ['13:34:00']\n",
      "│   ├── VJc394675580280fc0ff0b84eb42d3d1836f520234_14:34:00: ['14:34:00']\n",
      "│   ├── VJd0c2cea3c6daeeedfbc3468fbc3cfa548e687f59_17:42:00: ['17:42:00']\n",
      "│   ├── VJd5d3ee61f575fd39022b4da12d31df9924a5aad0_17:30:00: ['17:30:00']\n",
      "│   ├── VJd8983dc743b7d02ca6fb9369f54aab16b1b29aa0_15:00:00: ['15:00:00']\n",
      "│   ├── VJdea9c7f5199decd8eed316086cc406e8514241ff_15:06:00: ['15:06:00']\n",
      "│   ├── VJe72c59dede61ffb72c9c23c6579996f87d3af5eb_15:54:00: ['15:54:00']\n",
      "│   ├── VJe92da7ec4368774d8c296ee73d1a1228335cf54a_16:36:00: ['16:36:00']\n",
      "│   ├── VJf1ac4129f04a62b0137a67c3942357f0875b7e9a_16:00:00: ['16:00:00']\n",
      "│   ├── VJf39afb191cace9b63544c8630c55ad8e6b62feac_14:26:00: ['14:26:00']\n",
      "│   ├── VJf4b350ab140e60897fa14bc835a9307601b83985_14:54:00: ['14:54:00']\n",
      "│   ├── VJf4cd5cde4ca5192f414b64578712de3f95ac3be9_16:06:00: ['16:06:00']\n",
      "│   ├── VJf9a2f4681b55c1a34e1780129e1cbae5ff78e3d7_16:48:00: ['16:48:00']\n",
      "│   ├── VJfc35884fc4f11dc408a209c19f56f3b60f634daf_12:34:00: ['12:34:00']\n",
      "│   ├── VJfddfee94bd82f71c1826dfd153def68cddf809c0_18:18:00: ['18:18:00']\n",
      "│   ├── VJ345d6511e043bf8f4c8461bbeac4c9dd3b33f971_23:33:00: ['23:33:00']\n",
      "│   ├── VJ5909ba51575a9459eb0013fbd31c8205455ca2fd_07:20:00: ['07:20:00']\n",
      "│   ├── VJ271b7ae9952cd91efc662396dc15df457228f292_06:42:19: ['06:42:19']\n",
      "│   ├── VJ3d1cb21d32e004525ad930a9bf5138e5c7402477_03:54:19: ['03:54:19']\n",
      "│   ├── VJ51f07f0144e1cb01f51bc8803f105595dbb374e6_01:54:19: ['01:54:19']\n",
      "│   ├── VJ6ae521e12c3b64402e434de0b81f76b53e109411_05:24:19: ['05:24:19']\n",
      "│   ├── VJ7459a8c0e886033d63f1a3eff0842bc685f66d03_01:24:19: ['01:24:19']\n",
      "│   ├── VJ93aacaa08efa72950b8a531ecad2d79443b08f49_06:30:19: ['06:30:19']\n",
      "│   ├── VJb209e574bf91fa6e39a71f51894e7e34d9566f71_02:54:19: ['02:54:19']\n",
      "│   ├── VJc9143a1e8ee5cf623447b099315b25ae02f6660b_05:54:19: ['05:54:19']\n",
      "│   ├── VJe1498134d2f9c5357931f2c2b8b41eaebb2c2d28_06:18:19: ['06:18:19']\n",
      "│   ├── VJe68eddec0aff1ee23c56b114da5420599f776da0_06:54:19: ['06:54:19']\n",
      "│   ├── VJe80b1561068f8690c4a61854130a0a7c0c975a96_02:24:19: ['02:24:19']\n",
      "│   ├── VJe8cffad09738ff7b9698b333e3247918d5c45358_06:06:19: ['06:06:19']\n",
      "│   ├── VJf419a7b351a39fc930b4360e0d65115074b45379_03:24:19: ['03:24:19']\n",
      "│   ├── VJ1ee9fa651a8b295de6b621ebcfc4f2947aa86c7a_07:18:00: ['07:18:00']\n",
      "│   ├── VJ277e5cee0c32f9983283f0a138b4db5e47922513_07:31:00: ['07:31:00']\n",
      "│   ├── VJ2902db56d88fe61b36c0061eee30e5f71be8dab4_07:46:00: ['07:46:00']\n",
      "│   ├── VJ2a05753058e652668a92827f80ba41bf319d55ed_06:40:00: ['06:40:00']\n",
      "│   ├── VJ2cc571ec3eebee2724d1334a643da2aafe77cb9d_07:11:00: ['07:11:00']\n",
      "│   ├── VJ3a9dbb7e006a78574a005a3d1785428bc96fa3f5_06:56:00: ['06:56:00']\n",
      "│   ├── VJ4315e5a9acb8098f268d923697853778656716ae_23:51:00: ['23:51:00']\n",
      "│   ├── VJ50bfc578bced4701436e5e7a33bb3aa745621cd0_07:36:00: ['07:36:00']\n",
      "│   ├── VJ682449558ca9d5aa5ca15489052a8a753a014330_23:01:00: ['23:01:00']\n",
      "│   ├── VJ73acdc034e916f267cb76587bd2232a284c726cd_07:41:00: ['07:41:00']\n",
      "│   ├── VJ7d675ee42879aefbaf37a1d43ce9882f934af5da_23:31:00: ['23:31:00']\n",
      "│   ├── VJ7e7a8960813760a8d1f73e284cf61ed965047d6c_24:11:00: ['24:11:00']\n",
      "│   ├── VJ8e4eaee14afde0654785b806aff8f516dfdbef72_07:04:00: ['07:04:00']\n",
      "│   ├── VJ922879570ad1248f28d877effc3d15b06071f366_23:41:00: ['23:41:00']\n",
      "│   ├── VJ96ecced496e9d58b195596ca57291c6d55fd5575_24:21:00: ['24:21:00']\n",
      "│   ├── VJ99e8ddf6ac3eb100c359b210d91ce5b68d3a2316_00:36:00: ['00:36:00']\n",
      "│   ├── VJa89a23bb4f56e0ccab3a0ec27fab99cca4e31ce8_23:21:00: ['23:21:00']\n",
      "│   ├── VJadd214ce23053ddc0e916353e048a8870df45ef7_07:26:00: ['07:26:00']\n",
      "│   ├── VJd132b905afc6c0e8e8a994142e301ca5c0f70e22_23:11:00: ['23:11:00']\n",
      "│   ├── VJd6d590c523b344d1942dc80af60cc57ffe2b7588_06:48:00: ['06:48:00']\n",
      "│   ├── VJe3087fc34c73052fcfbbf9e3256adf7f629f38a9_24:01:00: ['24:01:00']\n",
      "│   ├── VJ022877083be097bd06725f83187478bd56ce08e6_15:39:00: ['15:39:00']\n",
      "│   ├── VJ07bca0ad4ab7d1c675069f0319d15a6960916726_13:24:00: ['13:24:00']\n",
      "│   ├── VJ0c71063057e0824233a3aec42188e6ce7bc309a4_17:54:00: ['17:54:00']\n",
      "│   ├── VJ0fab12dda790fd231abe3793ff3d3500a2fa92da_11:47:00: ['11:47:00']\n",
      "│   ├── VJ1357b36fb861500cb8e59f52470d9a11e335c576_18:24:00: ['18:24:00']\n",
      "│   ├── VJ148c60d39081aef0ee269b2897eb4466abde02e4_10:17:00: ['10:17:00']\n",
      "│   ├── VJ15182b8f9e35e5bae8c97d065eafed731388183c_10:47:00: ['10:47:00']\n",
      "│   ├── VJ1f63216b8c8aa6abf2ead2a00ccdfa6b4e448f3b_17:39:00: ['17:39:00']\n",
      "│   ├── VJ1fa8eb01d7f281f1bf4524953b896fd5c614c681_17:24:00: ['17:24:00']\n",
      "│   ├── VJ1ff2c6dc63357726515ef019d3e0fcfd238ea268_17:09:00: ['17:09:00']\n",
      "│   ├── VJ22ed019776eedb6f820ebb9695123c7635573c44_14:47:00: ['14:47:00']\n",
      "│   ├── VJ2aba67e3ed98f2ed5f5966c1ac394cbf6d1943d7_10:02:00: ['10:02:00']\n",
      "│   ├── VJ2c6bd7cd5c24c7b4a3157c4f0944718260553118_11:09:00: ['11:09:00']\n",
      "│   ├── VJ2d03f9be127ba7d46b8108a693109d64cb8fb4db_11:02:00: ['11:02:00']\n",
      "│   ├── VJ2d52842c91f53e51eedbda0ecadd2597bc7fac52_11:32:00: ['11:32:00']\n",
      "│   ├── VJ2d6fcea5626a9a78b69d891d18d43828dac05585_10:24:00: ['10:24:00']\n",
      "│   ├── VJ2f645060eb2cb93149b8b49f9119c3a05da09a93_13:32:00: ['13:32:00']\n",
      "│   ├── VJ322719f2128bfbfbea740b51d258d3024e90c484_15:32:00: ['15:32:00']\n",
      "│   ├── VJ40a342149d0ad2dfc5f5aed7b1dcad3345ac71dc_12:47:00: ['12:47:00']\n",
      "│   ├── VJ4d1306592ce6f9637a81b3a9c1a4a7a08072715a_15:17:00: ['15:17:00']\n",
      "│   ├── VJ5cf977c5f3913e65a93326e38b005d37824bc590_16:24:00: ['16:24:00']\n",
      "│   ├── VJ5d91fa277ce95a4835d064d76707a96d5ae82ed1_17:02:00: ['17:02:00']\n",
      "│   ├── VJ63f85449674612274722e010db9a2417d337f482_14:17:00: ['14:17:00']\n",
      "│   ├── VJ7761973edd576eeb468330d9a68584601ac74102_11:54:00: ['11:54:00']\n",
      "│   ├── VJ790f8a2d4e366e9a0bdb77ed80c779df285b1fe8_09:54:00: ['09:54:00']\n",
      "│   ├── VJ7a91fd9069561daa991c9c72fc2fcfbc18cea96c_12:54:00: ['12:54:00']\n",
      "│   ├── VJ7a9a4f52b3b3abca89207a3d24dec5d882c7a374_14:24:00: ['14:24:00']\n",
      "│   ├── VJ7c5fc6fe744a13807eb99ee3d677d2b474c98c2a_16:02:00: ['16:02:00']\n",
      "│   ├── VJ7c81e87303c05df6f09433239d054732f61d598d_14:09:00: ['14:09:00']\n",
      "│   ├── VJ7d40809e4e187795fcb14f1befa17036baedb04c_17:32:00: ['17:32:00']\n",
      "│   ├── VJ7e3198ace4f7454a834037d7b4122321161f9dbd_12:24:00: ['12:24:00']\n",
      "│   ├── VJ7ec181674e95c292e9aa36d3c58085e7ebe5d258_12:39:00: ['12:39:00']\n",
      "│   ├── VJ7f60f13b37f2f79f467becbed58b5dc6015f4ba6_17:17:00: ['17:17:00']\n",
      "│   ├── VJ7facc49837a48c4f5e8405da420c34487d9dd20c_14:54:00: ['14:54:00']\n",
      "│   ├── VJ8cf9e1cb25c670337bd1eb715326fc45992ce0f1_17:47:00: ['17:47:00']\n",
      "│   ├── VJ8d0f4765066578d20c76c6c14e3a4778f84b83b9_18:32:00: ['18:32:00']\n",
      "│   ├── VJ8ee0b34afc0571826be37f83c9a0b352ac5893b0_15:02:00: ['15:02:00']\n",
      "│   ├── VJ9507ed8d39d3a8410d7eefeaae587b2944c66ad1_16:17:00: ['16:17:00']\n",
      "│   ├── VJ971dd6572e46bb3999954199245779502e153ead_10:32:00: ['10:32:00']\n",
      "│   ├── VJ9c7417fae8ae00b1bb9b6625cec8fe4477153517_14:02:00: ['14:02:00']\n",
      "│   ├── VJ9d191722c1fca35941a52fc44319d94b79786864_13:39:00: ['13:39:00']\n",
      "│   ├── VJ9e13c40b268bdedad4eb274aa74e2e29e838c991_11:24:00: ['11:24:00']\n",
      "│   ├── VJ9ed45a453bf965c91f162c2d2c8332d060809d77_15:47:00: ['15:47:00']\n",
      "│   ├── VJ9fc984e29fadb80a426f38b74277751db3aba768_13:02:00: ['13:02:00']\n",
      "│   ├── VJa263dca9faae819fafe9c31835c5a16d3a7ff502_12:17:00: ['12:17:00']\n",
      "│   ├── VJa3d2789db8d44eec1737952f2d23d0d47064fa99_13:47:00: ['13:47:00']\n",
      "│   ├── VJa47ef8e353a1490c2f2a137700d7da32e568127b_10:54:00: ['10:54:00']\n",
      "│   ├── VJa5c8f6e8fa1a07942c6c944f2b4e68bb75ef557f_13:09:00: ['13:09:00']\n",
      "│   ├── VJaaa009eec02efa1b79822f97b7d226ba5c6c14d6_16:54:00: ['16:54:00']\n",
      "│   ├── VJb50e9a7685a94c8fac0c372c21de9eb6317e935c_11:39:00: ['11:39:00']\n",
      "│   ├── VJc2d39253f5dc1fe42f45944e7c5dba387e529dc4_14:32:00: ['14:32:00']\n",
      "│   ├── VJc587ba9af83fe2d88ac2eed477d47c088af39c2b_12:09:00: ['12:09:00']\n",
      "│   ├── VJc719328d3f8a57a943df585e36ff398464b208b4_18:09:00: ['18:09:00']\n",
      "│   ├── VJccd2a7b9c3a558b69baa4e8e3eb44896cb4e7a97_16:09:00: ['16:09:00']\n",
      "│   ├── VJcd0231c4db59fa50bc6a3c0b3afb9cba42dfff15_10:09:00: ['10:09:00']\n",
      "│   ├── VJce77c148b29b9e9346754058ab77267e3befad25_16:39:00: ['16:39:00']\n",
      "│   ├── VJd0d98786a0d1be8096248d5d73e226c2c660497b_15:54:00: ['15:54:00']\n",
      "│   ├── VJd4376c29e839b8dd6f5ff06cbfce9cf48bc0ee01_12:02:00: ['12:02:00']\n",
      "│   ├── VJd6ccb5bc674fbf500fce32d84fa4c63dc2ab931c_18:17:00: ['18:17:00']\n",
      "│   ├── VJd74715862d564bbb13a006a1f42d00708b5decce_12:32:00: ['12:32:00']\n",
      "│   ├── VJdb2bff98ddf9bc075c2282453d37d71fd51c69d8_14:39:00: ['14:39:00']\n",
      "│   ├── VJdc444516bb4a981e6d98fe74a02eabbbb778fa90_10:39:00: ['10:39:00']\n",
      "│   ├── VJe0db562dc8e89f0d967efe5f2027dc8b0c144dc0_18:02:00: ['18:02:00']\n",
      "│   ├── VJe29559c2714158b38f79fa1ed51fafbb810770e8_11:17:00: ['11:17:00']\n",
      "│   ├── VJe755f20f466105aa8e212ad1153cc16bbcf05775_15:24:00: ['15:24:00']\n",
      "│   ├── VJead983820c018b4f47335a913b379cec863358a1_13:54:00: ['13:54:00']\n",
      "│   ├── VJeb5892ba842be2427853fbb8b31d71d5f1b9ded9_13:17:00: ['13:17:00']\n",
      "│   ├── VJed4057e29f365523d8f572ff7ed7be4609807fc4_16:32:00: ['16:32:00']\n",
      "│   ├── VJf4ad201215fe9a629a233de08b8918a6a4dc5f9c_16:47:00: ['16:47:00']\n",
      "│   ├── VJfbba8ad513ed2751b466dda0a74baaa38adfa7c5_15:09:00: ['15:09:00']\n",
      "│   ├── VJ06763866f87458b795e266e7e09847b91df60da2_03:11:10: ['03:11:10']\n",
      "│   ├── VJ06fccdca05c596c4c5ff4212a8352bce0df1257f_05:11:10: ['05:11:10']\n",
      "│   ├── VJ27e89782949bf73e645df43db4933cc8e8835e71_00:41:10: ['00:41:10']\n",
      "│   ├── VJ53cd49673abaa6968c4e0477f3a1452423118c12_01:11:10: ['01:11:10']\n",
      "│   ├── VJ6791ac5abdc69187828a011c9bbb4ff58745e223_03:41:10: ['03:41:10']\n",
      "│   ├── VJ68f476e15a8f2c25459510d9b650185e4b1dd808_01:41:10: ['01:41:10']\n",
      "│   ├── VJ85c23573d670bab5485618b0c5fddff3314efc89_04:11:10: ['04:11:10']\n",
      "│   ├── VJd867428121f80b2de3515a921d58c580475833bb_02:41:10: ['02:41:10']\n",
      "│   ├── VJdbded9b3555ceced586ef1901a97b74963849a53_04:41:10: ['04:41:10']\n",
      "│   ├── VJe45bbbb97614a7355c8e7c1d00f79a9b320b14e1_02:11:10: ['02:11:10']\n",
      "│   ├── VJe73874bc8107a48742b18227bfb478241349734b_05:41:10: ['05:41:10']\n",
      "│   ├── VJ0d304b95d39f4bce48e6ff26ddd73a9c06f17f4f_01:39:30: ['01:39:30']\n",
      "│   ├── VJ63e8b6b73bf0511c99c98c148cd8d81a99d980b3_01:09:30: ['01:09:30']\n",
      "│   ├── VJ8d4b92bb6c4d3c8ae053c76eee7b28c8a9f3c96b_00:39:30: ['00:39:30']\n",
      "│   ├── VJaf30d54b0eb1b9388069da33de80486d0b13b14c_02:09:30: ['02:09:30']\n",
      "│   ├── VJ020e7af00b293c689258cfacea5b47dcc6df33a5_09:48:00: ['09:48:00']\n",
      "│   ├── VJ08cc7c01693920aec813db31375ce4d7c0d694d5_10:36:00: ['10:36:00']\n",
      "│   ├── VJ0bb8bc0d79937bb8f63f270d4fedfd7352504599_19:07:00: ['19:07:00']\n",
      "│   ├── VJ1cdb6cde26c03f852d94c6d0f13c8ec83c4b6793_10:42:00: ['10:42:00']\n",
      "│   ├── VJ2ac3b38a64bd84eb0a199841753862792b12a19c_11:12:00: ['11:12:00']\n",
      "│   ├── VJ2ecf6c6b3bca05996a2e31c2d16885775778ba5f_10:08:00: ['10:08:00']\n",
      "│   ├── VJ3121801886d3aba35ed84319df29a27d5d2d81d1_18:43:00: ['18:43:00']\n",
      "│   ├── VJ4df24b2ac1a099041c2d907c2d110e257a00b831_10:29:00: ['10:29:00']\n",
      "│   ├── VJ59e245c88d64bf832c377055767cb2496eed1565_09:54:00: ['09:54:00']\n",
      "│   ├── VJ5cb2c647d591649f330be9455839bc84ef6e28e2_11:05:00: ['11:05:00']\n",
      "│   ├── VJ669389184f8e12a86a27cc2d79695ee243d8e983_11:42:00: ['11:42:00']\n",
      "│   ├── VJ6b53d13b5bab6080ddee57c7a7fccc891e60f55c_10:57:00: ['10:57:00']\n",
      "│   ├── VJ838cb03e67cc3775c3bee77b2c4268a341760519_10:01:00: ['10:01:00']\n",
      "│   ├── VJ83e7928e44e67919d42bc5a53816223aab06933e_10:15:00: ['10:15:00']\n",
      "│   ├── VJ8c508cfb0adec647a2aaaa20bfeb2b186bdc403a_11:50:00: ['11:50:00']\n",
      "│   ├── VJ913c364cd6b2ba07f85691f1b8ef45af3deb3169_19:01:00: ['19:01:00']\n",
      "│   ├── VJ94984f3d7dea1c8d4062c3e5f706405d8fc607af_11:20:00: ['11:20:00']\n",
      "│   ├── VJ95211e42cb44ce67cbed31fcc5837abfa3041c20_10:22:00: ['10:22:00']\n",
      "│   ├── VJb4309b7a9598539ab9942ea1bcadc60a91b978ba_18:55:00: ['18:55:00']\n",
      "│   ├── VJccf9bd0a7d3fd8a986fc50f53c958dd3c3c4eec1_18:31:00: ['18:31:00']\n",
      "│   ├── VJd23f4b41ac833e53774950f2f1565392749917c1_19:13:00: ['19:13:00']\n",
      "│   ├── VJd53b49f9fd995c4ea251071a755a7860aa86175e_09:42:00: ['09:42:00']\n",
      "│   ├── VJd7535ef59558d740577aae5c8f4a70c5b54496e6_18:37:00: ['18:37:00']\n",
      "│   ├── VJd8dcb268bb60052f46073df3454916767adad980_12:12:00: ['12:12:00']\n",
      "│   ├── VJde98bb4722b8609a574d21bac37006eaaaa31f05_19:19:00: ['19:19:00']\n",
      "│   ├── VJdece67392abb0c1ce6cfdb2084b2ad3445e5a413_12:05:00: ['12:05:00']\n",
      "│   ├── VJebfec55b5bef35c19c0f1019b306df6714d47378_18:49:00: ['18:49:00']\n",
      "│   ├── VJed0e213c85df2275e1b15bdce5326799b200ad31_19:25:00: ['19:25:00']\n",
      "│   ├── VJf28cbb4709a010dc379b0d1a9a6d2cf1257d426b_10:50:00: ['10:50:00']\n",
      "│   ├── VJf3e82a5cccdd82c142fc3973fb9ede1c1653d1d1_11:57:00: ['11:57:00']\n",
      "│   ├── VJf4ba3cac0433c1b49b1e24512d878db9abc770b6_11:27:00: ['11:27:00']\n",
      "│   ├── VJfefedd8b5980537efd1c08f53611ba8598c7ffbc_11:35:00: ['11:35:00']\n",
      "│   ├── VJ652c769bc42361cc0308dff59a1fdcf0949bdade_19:50:00: ['19:50:00']\n",
      "│   ├── VJ047dc6559e95b2c2851701bf5f7958a98334c95f_21:30:00: ['21:30:00']\n",
      "│   ├── VJ07b0c560359f24b72bbfed7287a3aecc77bbaf82_22:05:00: ['22:05:00']\n",
      "│   ├── VJ29f51913243221412be5fc1e112738491914f73a_22:17:00: ['22:17:00']\n",
      "│   ├── VJ3424c5782fcd816f7c23a9ffcfece0effb0abc54_22:41:00: ['22:41:00']\n",
      "│   ├── VJ347f150f822f920b83d75af1ad8bd594f1026ba0_20:22:00: ['20:22:00']\n",
      "│   ├── VJ36066b9c103a64ea8ab091e7f70f40995188dae4_19:52:00: ['19:52:00']\n",
      "│   ├── VJ43dd4c953de19c3e7cb4d723dfef2c67f46121be_19:34:00: ['19:34:00']\n",
      "│   ├── VJ4aab742153a735bf2f36b1218e3d431f9195b5c1_20:02:00: ['20:02:00']\n",
      "│   ├── VJ4e2b897edf0e7b8a8e3b5516ab43ce56f72c5cff_20:44:00: ['20:44:00']\n",
      "│   ├── VJ56c7769397a542ed1dd41d1eda7c17ac4207cf86_21:53:00: ['21:53:00']\n",
      "│   ├── VJ79773474d4dc4264c0d9d96db5e09e58958fdc03_20:56:00: ['20:56:00']\n",
      "│   ├── VJ95aee344071a5b3c9570771a15bfee89580cf463_22:29:00: ['22:29:00']\n",
      "│   ├── VJ9b6d6faabf0bd216238e779a957d2d46d8a33989_20:12:00: ['20:12:00']\n",
      "│   ├── VJaf0ab39aa96ad15a282056484e72acf6bc90b83c_19:42:00: ['19:42:00']\n",
      "│   ├── VJb6ba3aba6e43ff9a089b4420e33ba14240780456_21:20:00: ['21:20:00']\n",
      "│   ├── VJbabb677a2453dab07e430ada2c39023f4c09b159_22:53:00: ['22:53:00']\n",
      "│   ├── VJe70d3ec59bdcb995a06b2eae97565f1bdd316bea_21:41:00: ['21:41:00']\n",
      "│   ├── VJed6cc5f85a96ea427f3534036cd2ace1df6d7d66_20:32:00: ['20:32:00']\n",
      "│   ├── VJeea58f2e7d1b954a41fd26a513dce097acbd2018_21:08:00: ['21:08:00']\n",
      "│   ├── VJ0922ef52b2c5abf53e8c64c9bf7ce3efe94b68ec_06:57:17: ['06:57:17']\n",
      "│   ├── VJ1a6c5ea577c442848bdf83c822c623b3d54220ee_20:14:17: ['20:14:17']\n",
      "│   ├── VJ5b597bf775ab48954bd4a21915e843c57981d09a_20:05:17: ['20:05:17']\n",
      "│   ├── VJ78f9e652a6d3068d4fb3d990c397a33fc922393c_07:42:17: ['07:42:17']\n",
      "│   ├── VJ94f7fe99aaa7e395f96605b04e28ed7f98940a96_07:24:17: ['07:24:17']\n",
      "│   ├── VJ9ffd3e48b99f51f430e9ae521b953532bf25139f_07:51:17: ['07:51:17']\n",
      "│   ├── VJaf53fb6e118e5ce07d110ce00e44a67da2863354_07:33:17: ['07:33:17']\n",
      "│   ├── VJb1818136dce8d2ed2e5ebb8749e6d0ee4fafb32a_19:48:17: ['19:48:17']\n",
      "│   ├── VJc883a668be0c6c245d47da485bd717129696a843_19:56:17: ['19:56:17']\n",
      "│   ├── VJeb72539d69ddf8e29f1adf74d43953def196ae41_07:06:17: ['07:06:17']\n",
      "│   ├── VJf04e6aa20af4cf88a9f6b8270eee0e4b6d67deec_07:15:17: ['07:15:17']\n",
      "│   ├── VJf2d7e1eeda0a809e16f9669c9743d04ecca81a8d_19:40:17: ['19:40:17']\n",
      "│   ├── VJ6cf76a4c03cca468cb6954db7f7aad5ae189df13_07:51:00: ['07:51:00']\n",
      "│   ├── VJc46b0ed423412821c815e3a49b7a7658aaa80792_22:50:00: ['22:50:00']\n",
      "│   ├── VJ037211f1103b3c4d9a736f4981b6c7107125c240_22:46:29: ['22:46:29']\n",
      "│   ├── VJ08aebfaeba8704e8f15d647394b0234059c25bf6_21:38:29: ['21:38:29']\n",
      "│   ├── VJ1bf2f1fbb78819fb19932e497922ac31850c99a5_21:22:29: ['21:22:29']\n",
      "│   ├── VJ1fe5d483fe7d3230fadeb0d9e9a1067dabd7893b_22:16:29: ['22:16:29']\n",
      "│   ├── VJ3d60f1490917a93c0cdd2f48eea0d3c51ec6c6ea_21:46:29: ['21:46:29']\n",
      "│   ├── VJ459b16d2a0ccd3331070cd56d17bcade5e2b8d56_22:06:29: ['22:06:29']\n",
      "│   ├── VJ745b4b08ac7313d098bbeaa215d3cbe3d6a20755_22:26:29: ['22:26:29']\n",
      "│   ├── VJ907d1725f352c103c255b865373bb3805ddc900e_22:36:29: ['22:36:29']\n",
      "│   ├── VJ90c945bf7df583e314c1034a534498c6d5e74bc3_21:30:29: ['21:30:29']\n",
      "│   ├── VJ95b2071472ee0bd026686893c98ae2531667b57c_21:56:29: ['21:56:29']\n",
      "│   ├── VJa206033a1435a4565ea40a39dc3e4e09abd0de64_22:56:29: ['22:56:29']\n",
      "│   ├── VJe6ba07ef9f19ae40517261ad626bf34dd656491a_21:14:29: ['21:14:29']\n",
      "│   ├── VJ27a53634d88f96faa97026d6bd7b62cf685b23f8_01:05:00: ['01:05:00']\n",
      "│   ├── VJ306c9365d1f02e53ee0b59b1b058ba5efa32a580_02:02:00: ['02:02:00']\n",
      "│   ├── VJ5b7330809d3c07a330b1ef6e2623f89c9fca8a22_01:34:00: ['01:34:00']\n",
      "│   ├── VJ710332b1c05c07b488b27f8286583ad6baffc26d_03:31:00: ['03:31:00']\n",
      "│   ├── VJ9657ec79fcf62a93ccbf38dfd3d50facc74e0781_04:01:00: ['04:01:00']\n",
      "│   ├── VJc3d73fa5d19d8c90ddd22f27987f2824db4a55ca_02:31:00: ['02:31:00']\n",
      "│   ├── VJe18efadf172576fea7989ec1f233f26854c0f66a_06:33:00: ['06:33:00']\n",
      "│   ├── VJf46aa918c70ceaf1f22d7e8bf62c642fdbe52c44_03:01:00: ['03:01:00']\n",
      "│   ├── VJ054df8c0b1739ebdc1683cdd38a066085ab16fb9_09:12:00: ['09:12:00']\n",
      "│   ├── VJ06df2ca37174c62d1340476df138e9c400a86fe5_19:44:00: ['19:44:00']\n",
      "│   ├── VJ0d82f3494372d436fcf2b4f8f78468999f9cf9e3_20:06:00: ['20:06:00']\n",
      "│   ├── VJ255c9f38c1ebbe055b592ba4b940f1ec99eb42bb_09:06:00: ['09:06:00']\n",
      "│   ├── VJ2f5812d20748a00c8a4d9a2d8fe9496717251a34_08:25:00: ['08:25:00']\n",
      "│   ├── VJ30759943260f7ef02cda388b451ee7b1108f9388_09:24:00: ['09:24:00']\n",
      "│   ├── VJ345dcb77b4a4ff76d2dd04f414f70a2115054d70_08:36:00: ['08:36:00']\n",
      "│   ├── VJ4d14ee5e1d6cc9f0b50b3307e3ca9d629d639ce6_09:00:00: ['09:00:00']\n",
      "│   ├── VJ52dff6c6eefc5a8f31e10e0b6259f9d04c34c8cf_08:42:00: ['08:42:00']\n",
      "│   ├── VJ67e50b5f2a85fac7de89921bb6954d7fca7d495a_09:18:00: ['09:18:00']\n",
      "│   ├── VJ68d36989cd7ee3198abefcfc7a3267dc9dac2c7b_09:30:00: ['09:30:00']\n",
      "│   ├── VJ6ebdad17b2eeacce3d2c2292d4b209b58147a2fd_08:01:00: ['08:01:00']\n",
      "│   ├── VJ77bcacd57d1fbabe6b03ccd936e84de198987428_08:13:00: ['08:13:00']\n",
      "│   ├── VJ830438c807cc40a644fc4861d27d2a043c20c7cf_20:21:00: ['20:21:00']\n",
      "│   ├── VJ8c16f30b5708e5f537be5fa9a2f969e5a5903870_08:19:00: ['08:19:00']\n",
      "│   ├── VJ8cfcd291a34ca41bf6eb053ae0b7b0435b3c08d1_20:29:00: ['20:29:00']\n",
      "│   ├── VJ99b2b66089d15c2f958f3467c52f504fce64043a_20:56:00: ['20:56:00']\n",
      "│   ├── VJa951808c415f3830cb10dca5d3e9d2ed2f427359_19:58:00: ['19:58:00']\n",
      "│   ├── VJb3ace126b28e08fa7da45b054f2fd0aaed463a47_09:36:00: ['09:36:00']\n",
      "│   ├── VJcf926c2ac8c659226e7055612f9c7f5bb6fe05a6_19:50:00: ['19:50:00']\n",
      "│   ├── VJcfb7c3a94e9ed45629683c30a1ebda9ae598c4b1_08:30:00: ['08:30:00']\n",
      "│   ├── VJd6faaee6ef12660fd878562c28c4b7842daebe45_20:37:00: ['20:37:00']\n",
      "│   ├── VJdbc280077e505b4f8d66586ca51751a125cb4ef0_20:13:00: ['20:13:00']\n",
      "│   ├── VJf2bc271d3804328cc761c99f004bf2bc4198683e_08:07:00: ['08:07:00']\n",
      "│   ├── VJf4b7f40c78c791cd4d3e2d38d0a3db8a4ba8f951_20:47:00: ['20:47:00']\n",
      "│   ├── VJf7778268b898e7435b1e7213df590e96296be664_19:38:00: ['19:38:00']\n",
      "│   ├── VJf882b6c089741aac4df52d6a002c7f793c7fff32_19:32:00: ['19:32:00']\n",
      "│   ├── VJfa5fb8ef7c1054a5f1f22bcb380c7b78f0d429c5_08:54:00: ['08:54:00']\n",
      "│   ├── VJfeddeb96354a9935d38cb1212e7721fddbf49ae0_08:48:00: ['08:48:00']\n",
      "│   ├── VJ004714becf735c172cf17a0329190c27b61451ae_19:18:00: ['19:18:00']\n",
      "│   ├── VJ11748f78bfd412185d8deaf4ad61cd4f1477d6b1_14:56:00: ['14:56:00']\n",
      "│   ├── VJ28bbf4f0d3469f24be40acbdf6e8720679638358_14:24:00: ['14:24:00']\n",
      "│   ├── VJ2a974ddfa37ddc24e089d82ab79df699b8c44630_19:30:00: ['19:30:00']\n",
      "│   ├── VJ35d0be40bd5b63e1d5a9d08ff4b9081fd8fd87c6_14:08:00: ['14:08:00']\n",
      "│   ├── VJ40fe8bfa3f5e31b76460c848c3f588be927be985_19:05:00: ['19:05:00']\n",
      "│   ├── VJ43b7e80f1df3e4aa541bf4f4e462e1c4aadd67fb_14:32:00: ['14:32:00']\n",
      "│   ├── VJ486a79f0fe63cf60b6d14b7ae32c43d2e9621187_14:48:00: ['14:48:00']\n",
      "│   ├── VJ6272802d82ad347d71127d18bf63953ba4f03fce_19:24:00: ['19:24:00']\n",
      "│   ├── VJ6adf16e792c2569bc3dbec7bc09fcaa14f31b7d0_19:12:00: ['19:12:00']\n",
      "│   ├── VJ9916e0222f2c8cd2cbadb74b74f7c7632706f200_18:59:00: ['18:59:00']\n",
      "│   ├── VJa0fa9430f52f087fea3da1bfacf9e7c58d0bf2ae_14:16:00: ['14:16:00']\n",
      "│   ├── VJccb05fd5ab9611f48fb5ebc017194ffeea96917a_19:43:00: ['19:43:00']\n",
      "│   ├── VJd4cbfb092a104ac6a3164a86e9765f68734fdfcf_14:40:00: ['14:40:00']\n",
      "│   ├── VJfb67e0671605ca27e881e9c1276f1906447f29cf_19:36:00: ['19:36:00']\n",
      "│   ├── VJ2925541bb74182fd3f39af29cab9a0a0e625ed65_23:45:00: ['23:45:00']\n",
      "│   ├── VJdb0c128567fcbcc063d554ae1c95851cee41b909_06:57:00: ['06:57:00']\n",
      "│   ├── VJ0316446c561e9d64f890651ce524fe44c806eef5_00:14:00: ['00:14:00']\n",
      "│   ├── VJ147156f7e92c008b0449992bfd739ca80dea6143_06:14:00: ['06:14:00']\n",
      "│   ├── VJ26ff0f89b2f50eb3317c5871d4be7c9f0bff3efb_23:24:00: ['23:24:00']\n",
      "│   ├── VJa7f37392e276aeac26c7e73bbc05e6a71af38dba_23:54:00: ['23:54:00']\n",
      "│   ├── VJafc40e43d578cdd7d0b132ace16d61e308dfbab3_23:34:00: ['23:34:00']\n",
      "│   ├── VJbe88b7dbd94489bd2fd81d56d28c8793e280187a_23:44:00: ['23:44:00']\n",
      "│   ├── VJe4afdd1e9acaf97e3daf97acec9e4ac19e842a33_06:29:00: ['06:29:00']\n",
      "│   ├── VJfbf3062d6f213cbf7cee3db521914e47772da49a_00:04:00: ['00:04:00']\n",
      "│   ├── VJ0185022c07e1c4a3c67360d674135affb70d4fd9_08:50:46: ['08:50:46']\n",
      "│   ├── VJ44ba63bee765e4e3b570e1a30eeae9a1de0aae12_09:20:46: ['09:20:46']\n",
      "│   ├── VJ485330b26f46215de7942cc93fa2ce2534953562_09:02:46: ['09:02:46']\n",
      "│   ├── VJ4a3f1f05eac890c26bc51e8906df5073830f7aaf_08:38:46: ['08:38:46']\n",
      "│   ├── VJ5ac0dacf0503b1ca0b109811e22a7dadfaeb3a3f_09:08:46: ['09:08:46']\n",
      "│   ├── VJ67dd0bea4134c5b12d00fc6be9a0ccf358979eee_08:44:46: ['08:44:46']\n",
      "│   ├── VJ7552ecdedf7ac29d1a9edae7c1c5df3e044c01e3_09:14:46: ['09:14:46']\n",
      "│   ├── VJ933dea2251f4625b10a726a23c0922aa2ab5157b_08:08:46: ['08:08:46']\n",
      "│   ├── VJa5feda39db72ce648400f50b08b667639fdabeb3_09:32:46: ['09:32:46']\n",
      "│   ├── VJaf17ff5b93a41f887970c56ec0a42ec7733d2e6f_08:20:46: ['08:20:46']\n",
      "│   ├── VJb79c44c4232f1f37deaf84bb16d05d87f33ee092_08:26:46: ['08:26:46']\n",
      "│   ├── VJd9dbeefeca6d74ef2594a17514ebc08ee2d503b2_08:56:46: ['08:56:46']\n",
      "│   ├── VJe48d52b9c9fab3e657bec2005ccb27da8d95010e_08:32:46: ['08:32:46']\n",
      "│   ├── VJe7d587e41760969787f10644a459ba11d23a0d31_09:26:46: ['09:26:46']\n",
      "│   ├── VJf38c68b40654ee5051c7cf4336f95eaf83e47f37_08:14:46: ['08:14:46']\n",
      "│   ├── VJ0b25cf7224820e511ae9ce1e32a1f9dcef8bbd7d_07:21:20: ['07:21:20']\n",
      "│   ├── VJ118fdfe8dcd4aa9bbf4335badaf99307834f0a68_06:55:20: ['06:55:20']\n",
      "│   ├── VJ14e325cc729358e8b9ce70050c9e2548fbbee6ed_07:49:20: ['07:49:20']\n",
      "│   ├── VJ175a4d4a30d4fb08039e7a093361531d07157ed7_20:38:20: ['20:38:20']\n",
      "│   ├── VJ687d1ff7ad5bae7e41ac7904421d4f8f28b819ec_20:19:20: ['20:19:20']\n",
      "│   ├── VJ95b4c534d7c903d76ec0340025aa88b81dba3ce4_07:35:20: ['07:35:20']\n",
      "│   ├── VJa867882174ae4bf763b0e3363a5e70158f8397f3_06:46:20: ['06:46:20']\n",
      "│   ├── VJb5069a7e2eac6cf175676864c4691350227da812_07:03:20: ['07:03:20']\n",
      "│   ├── VJbbd5540d5d23e58700f3d20836ed88fe979ca1b5_07:42:20: ['07:42:20']\n",
      "│   ├── VJcb4cdccbbbdf534475972bcebb452eda5d15e07c_20:50:20: ['20:50:20']\n",
      "│   ├── VJccd010576290632e0862b0d32c4af9c46edbef67_07:28:20: ['07:28:20']\n",
      "│   ├── VJdfb6bd9ee9a22208dadc137bb5ba32d8e012af77_07:12:20: ['07:12:20']\n",
      "│   ├── VJe258caa24b2e3cd879e4c9446b7bb6b4598fb89d_20:29:20: ['20:29:20']\n",
      "│   ├── VJ02d1842c5287e5c5e01b85c45a10b88fab1d8d83_17:54:00: ['17:54:00']\n",
      "│   ├── VJ08bcbc9f610b0f85daf955a7d7965fb41328fa47_16:23:00: ['16:23:00']\n",
      "│   ├── VJ1cf9eb3b12e81adfac91a88384acdbf13b52c820_18:14:00: ['18:14:00']\n",
      "│   ├── VJ2a1e57fa2eca453887630b870db0476d584bae6f_15:59:00: ['15:59:00']\n",
      "│   ├── VJ2ab07db822820c7246caa5cbe8f2a5b218a612d7_17:17:00: ['17:17:00']\n",
      "│   ├── VJ338dcc26c4194b7f0794587db46119ee3a73729d_17:35:00: ['17:35:00']\n",
      "│   ├── VJ35af5e05a8f5044724d39a5bd7bfb05d283955b7_18:27:00: ['18:27:00']\n",
      "│   ├── VJ4243abd96548db5098bdc0fb7439c520816ddcc2_18:53:00: ['18:53:00']\n",
      "│   ├── VJ49856671df24fb8384bb5687f8636e481303a147_16:47:00: ['16:47:00']\n",
      "│   ├── VJ4da111d9b831fa3c18361bf7589884661bf5d05e_16:39:00: ['16:39:00']\n",
      "│   ├── VJ4f15359918255deffc9e7ed75c4133f682b4be2a_18:47:00: ['18:47:00']\n",
      "│   ├── VJ4f45cdd73d33bccc81e99a2e96a3df1c043b1613_15:35:00: ['15:35:00']\n",
      "│   ├── VJ522535019de61b24944c928c73a07961b2ae38fe_18:07:00: ['18:07:00']\n",
      "│   ├── VJ531165d5f39261077a359d7e9c31778b4e8085c7_17:47:00: ['17:47:00']\n",
      "│   ├── VJ5678b95d7c89add91132cd3f1a8e0db28a143dcb_17:29:00: ['17:29:00']\n",
      "│   ├── VJ57b496d05800ae80bae056f5e8c0e38a1432ef6d_15:51:00: ['15:51:00']\n",
      "│   ├── VJ63e619167ab3590d76d301f726cf0c6cc4f2a147_16:15:00: ['16:15:00']\n",
      "│   ├── VJ6869ff159fc9f8fbfbee47d6f30cc5c660ed1e35_15:11:00: ['15:11:00']\n",
      "│   ├── VJ68fa6a18dc2886e52a97e9a4ffdb11abd3eab9a8_15:43:00: ['15:43:00']\n",
      "│   ├── VJ737d9b673c422c05e4cc9ae09eeb8c3b25fb55a9_16:07:00: ['16:07:00']\n",
      "│   ├── VJ7a371ea3bf0aafd2f0d71329dc2b78f956163279_18:41:00: ['18:41:00']\n",
      "│   ├── VJ868291efaee2c470a52f641b064a360eb1c98cf2_16:31:00: ['16:31:00']\n",
      "│   ├── VJ8c3532240e59df6e8113a88a455cc23ef864a91c_17:05:00: ['17:05:00']\n",
      "│   ├── VJ8ccf92aa0f351b2e31f1a078b968dff4c2505c02_18:01:00: ['18:01:00']\n",
      "│   ├── VJ998800322397d8ddaa7a23c582676e15257b4d9e_17:41:00: ['17:41:00']\n",
      "│   ├── VJa3c3d57702742e75378b1eafc142b7f14fd2f965_17:11:00: ['17:11:00']\n",
      "│   ├── VJc2e2b1da2f1b4be2ca996a4fe9b2e01d802c9e8c_18:34:00: ['18:34:00']\n",
      "│   ├── VJcd4e1e8917483df34a9ce5b8110a80939c970389_15:27:00: ['15:27:00']\n",
      "│   ├── VJd6b842a92a4cde0efcf599f40b54a7fbef76a311_15:19:00: ['15:19:00']\n",
      "│   ├── VJe38a1cfc9a7e7e03300fe98b13dc7b015f3e923e_16:59:00: ['16:59:00']\n",
      "│   ├── VJe38a3d977c9237f6a2fd9211a5b565a0740a0ce6_18:21:00: ['18:21:00']\n",
      "│   ├── VJf026f558982a2891418a07f4fa8436f75057b590_16:53:00: ['16:53:00']\n",
      "│   ├── VJf72adeb9398700f08bca3b54c50079cedada2c16_15:03:00: ['15:03:00']\n",
      "│   ├── VJfc2441a7de0e59635dffcfa40ce8e53b8ba39eda_17:23:00: ['17:23:00']\n",
      "│   ├── VJ03f4f8905d6dc7868242f3fd29828ee9b366a906_16:33:42: ['16:33:42']\n",
      "│   ├── VJ06420fdab0dfe5c8e7f2f9504df05cf6289cd7d3_13:52:42: ['13:52:42']\n",
      "│   ├── VJ0d3b026c4060cd0325803e488a965a5ab91fd4c0_11:32:42: ['11:32:42']\n",
      "│   ├── VJ0deeab102834361f823e266e2886c08a2c5bebf3_13:00:42: ['13:00:42']\n",
      "│   ├── VJ126aa65811277b9774ae127ff819495441bc4e75_11:24:42: ['11:24:42']\n",
      "│   ├── VJ164a5cdc8f6c8f5598b52069e48e9472f6b5e738_17:18:42: ['17:18:42']\n",
      "│   ├── VJ1c3e3445acc781baf79bb6f76615aa84eb7706da_14:10:42: ['14:10:42']\n",
      "│   ├── VJ1e86ff4bd36ddd197ac247cbfb60e7d115cd74f5_12:15:42: ['12:15:42']\n",
      "│   ├── VJ28b3586d5bb6fe55cc2302892db4fdf82c7666b3_16:51:42: ['16:51:42']\n",
      "│   ├── VJ3810d00fb986abbf91e897b7559f021b8425c127_17:28:42: ['17:28:42']\n",
      "│   ├── VJ3867179fcec1ce4dfa2f19e51e68983f3f82b635_17:09:42: ['17:09:42']\n",
      "│   ├── VJ3ec8ef059e4f14019ad6ce3537489385fee3b917_12:51:42: ['12:51:42']\n",
      "│   ├── VJ3f45e3e8ad5f7292cb6a5b6e883c26838070e189_12:06:42: ['12:06:42']\n",
      "│   ├── VJ4155b3d5d916db07a50061ae1c15b24ecfc2f96f_11:41:42: ['11:41:42']\n",
      "│   ├── VJ44e4a1ea6e4ac75e8326e462ca9c3f0093677aaf_15:48:42: ['15:48:42']\n",
      "│   ├── VJ4ae564102cc749bae5ae8ce8cc9c89e0a86841e0_15:21:42: ['15:21:42']\n",
      "│   ├── VJ4d8f5400302dd085e057741e14cf2cafc49aee4b_14:36:42: ['14:36:42']\n",
      "│   ├── VJ50c1d517dd74632bf372027931173c682c3b4bc6_12:33:42: ['12:33:42']\n",
      "│   ├── VJ523e0361804a67ccce6b9e725fbc338e875df337_13:26:42: ['13:26:42']\n",
      "│   ├── VJ66a70c246cc1f2c54e6eb794de51054052c4c2a3_15:03:42: ['15:03:42']\n",
      "│   ├── VJ6a00ee245bea483d28bc7e0ac016350c2c26cd13_11:58:42: ['11:58:42']\n",
      "│   ├── VJ70cdcef7ccba9c599c70f89bdf8b10852e33bb04_11:15:42: ['11:15:42']\n",
      "│   ├── VJ7843b0673b4da2dea397fe9d2ce37f07ae154768_16:24:42: ['16:24:42']\n",
      "│   ├── VJ7c67983fab217cabcbf75c4b0e9e08bf3f7cddab_17:46:42: ['17:46:42']\n",
      "│   ├── VJ83315ad2b967bff65afa7a93d247272a57aa627a_16:42:42: ['16:42:42']\n",
      "│   ├── VJ9a07ae827952543ab31cd0ba523c186840062e7a_12:24:42: ['12:24:42']\n",
      "│   ├── VJ9b2c4981f3f59bb2bd804a4b70b4077734d011e3_13:35:42: ['13:35:42']\n",
      "│   ├── VJ9bb1f50a7e054c038efe8d03f33e40a680734e33_15:57:42: ['15:57:42']\n",
      "│   ├── VJ9fe9494f0493ade924f74fff15f13848e20a7a16_14:27:42: ['14:27:42']\n",
      "│   ├── VJa460f7bb29b03e4c80983a82e8be568c3cf7b9a0_12:42:42: ['12:42:42']\n",
      "│   ├── VJab7034b2118110e9995965ecc7dba5f61549cca6_13:09:42: ['13:09:42']\n",
      "│   ├── VJae8fd7ca54638c7913f5eef20bc7e942310f3cc1_16:06:42: ['16:06:42']\n",
      "│   ├── VJb92bf4096d2f127ffb224c4c0c21b31555ff4860_16:15:42: ['16:15:42']\n",
      "│   ├── VJc36d3f4a294e2e2e0a010ff8466a03d611503e68_15:12:42: ['15:12:42']\n",
      "│   ├── VJc3d19832272b9ad278a2d7e490d90d62d27644e0_14:54:42: ['14:54:42']\n",
      "│   ├── VJc48b195a5dc59de0fc159c40eab36841cfa1a422_14:01:42: ['14:01:42']\n",
      "│   ├── VJc4f0555006812d87dcebea05e8eb9f7faa5d5a2b_15:39:42: ['15:39:42']\n",
      "│   ├── VJc9a308474ed72f769664413e686f3447613c5b3a_11:49:42: ['11:49:42']\n",
      "│   ├── VJcbb016df2427715ba64c94cbd9b246af1a8db38d_17:37:42: ['17:37:42']\n",
      "│   ├── VJcd5cf4e7690263fda9ffd0bf057853a1244ea7a4_15:30:42: ['15:30:42']\n",
      "│   ├── VJd4b4db59c5aac2eff31fac538d8dc542873315fa_14:45:42: ['14:45:42']\n",
      "│   ├── VJd56d06a72767793af7aa8b26843135f2568007b2_14:18:42: ['14:18:42']\n",
      "│   ├── VJe0d7aed3cd5a59035c0911544cbbf7ee7adb1ea2_13:18:42: ['13:18:42']\n",
      "│   ├── VJefcc83962619cdbb27e37a99371265acd2c7ec9f_17:00:42: ['17:00:42']\n",
      "│   ├── VJf0d5b75fa8bf7a7851382212cb15f9b2d345f9ee_13:44:42: ['13:44:42']\n",
      "│   ├── VJ0107cf82b20aa0e8e1054aaaa8ac52a58ff8e2ce_00:05:00: ['00:05:00']\n",
      "│   ├── VJ0df1e35f5bee22ae52eb2d2241f186c9e78dee07_22:45:00: ['22:45:00']\n",
      "│   ├── VJ2d6c73f69bdea74d876e6bd5bda1de33a6a0fe42_23:05:00: ['23:05:00']\n",
      "│   ├── VJ2f611939a49749d2e50207cdab0d6f4511124d16_23:35:00: ['23:35:00']\n",
      "│   ├── VJ30bdc120bbcca897000702ec0aa0a7857fb61c35_22:35:00: ['22:35:00']\n",
      "│   ├── VJ35b22741b91937c3cb139fd4b0a9e431e46ae99a_23:45:00: ['23:45:00']\n",
      "│   ├── VJ3d50b96792ae8495dbe5a5e372849a60c48b2279_21:50:00: ['21:50:00']\n",
      "│   ├── VJ478b7467e17b1f321ccf92e6263cbae88f6fc953_23:55:00: ['23:55:00']\n",
      "│   ├── VJ54a633b211590130e5d3919f0008f3b81b772c96_22:05:00: ['22:05:00']\n",
      "│   ├── VJ6ca6245ed54fb176b668317cefd9a2765e6b5193_06:34:00: ['06:34:00']\n",
      "│   ├── VJ70b6c593ed08cb351875f7fee56fa7bfcf97b55d_22:25:00: ['22:25:00']\n",
      "│   ├── VJ87aef99f265b34df310aba792b6f0ed77166da7c_06:22:00: ['06:22:00']\n",
      "│   ├── VJ8bb61f6de5639d30345173f3914dd53ab0881fd0_06:46:00: ['06:46:00']\n",
      "│   ├── VJ93c31634a8bd87d62a684e9860b1ef1b1a5b2307_06:10:00: ['06:10:00']\n",
      "│   ├── VJba3b3638ae89cb9812a446a743a212d38afed696_21:57:00: ['21:57:00']\n",
      "│   ├── VJd8a40e38046b0249eff80ac52e2f8ff4dec53176_23:15:00: ['23:15:00']\n",
      "│   ├── VJe1121e0d44f377ec52de2807863d98a5c1c55432_23:25:00: ['23:25:00']\n",
      "│   ├── VJec98381782439eee32eae2181bcf5fb3064344e4_22:15:00: ['22:15:00']\n",
      "│   ├── VJf436da5931ac04085ee5ce90615cfe156d2d8c85_22:55:00: ['22:55:00']\n",
      "│   ├── VJ04d8dae5b2e2154a020284a906482f05a0b699b9_13:20:00: ['13:20:00']\n",
      "│   ├── VJ06f7bd1a11bffb535aa2db2d980519e467593170_09:44:00: ['09:44:00']\n",
      "│   ├── VJ11fd12d4366d6e1633433af65ad43cf19e39e9a9_10:10:00: ['10:10:00']\n",
      "│   ├── VJ152b22a2dcb4524435261bd26493cd77b5800a2c_11:20:00: ['11:20:00']\n",
      "│   ├── VJ21942dd3123d01e17a3928f28785d3d239f6a3cc_11:36:00: ['11:36:00']\n",
      "│   ├── VJ28a8a6a4ab02807a4fdfd199e5c2ca0622d34d0c_09:02:00: ['09:02:00']\n",
      "│   ├── VJ2ce24f240e1d59de98b7ad2ef77a17147b01f970_10:30:00: ['10:30:00']\n",
      "│   ├── VJ3df0779c4d71600bb850cd220c674bb42f665fa1_10:24:00: ['10:24:00']\n",
      "│   ├── VJ3e816945555857aa74f28827f6db294f2e78c8d6_13:44:00: ['13:44:00']\n",
      "│   ├── VJ44d8fce23df813e537586fd3754fcdce072fc34c_11:44:00: ['11:44:00']\n",
      "│   ├── VJ45b4016c3adab63aa28aec4fe579b5140af63f70_10:36:00: ['10:36:00']\n",
      "│   ├── VJ551ecb8a09bf526a2eb8bbda4def5bfc84538131_12:24:00: ['12:24:00']\n",
      "│   ├── VJ55362a54e9941f0fd0ec05be89cfa48d47835ff4_12:16:00: ['12:16:00']\n",
      "│   ├── VJ59cc078f849b1091a790dfd588021be66a31770e_13:36:00: ['13:36:00']\n",
      "│   ├── VJ5a2858731dabc97d451fae557e4a0a6a50212e2f_08:50:00: ['08:50:00']\n",
      "│   ├── VJ67c92a00c6f73a06715d9014deaca37c81f7fabe_08:25:00: ['08:25:00']\n",
      "│   ├── VJ77b0909de75f5c76f42f3e7f55729e60eaf18ec3_09:20:00: ['09:20:00']\n",
      "│   ├── VJ79c70bb288fa8948711b09733a7d594c98223d3c_12:00:00: ['12:00:00']\n",
      "│   ├── VJ7b9cc688feae8ad71b717d1ba62c9f8b6adf7544_10:43:00: ['10:43:00']\n",
      "│   ├── VJ85d55fb15b171b4105521cc26ae9200d76beea9f_08:12:00: ['08:12:00']\n",
      "│   ├── VJ8c22d0e4d713f07cf75f92282e0c7f47e75a6527_10:17:00: ['10:17:00']\n",
      "│   ├── VJ8d43f19997c5c277d0ba5c9a48d4241b646157d8_11:52:00: ['11:52:00']\n",
      "│   ├── VJ8f641fd491ab118cc674109eae2b71bf0449c33f_08:32:00: ['08:32:00']\n",
      "│   ├── VJ93f14db89b7490d5ac37dcd4ffc9836a87d1e0b6_14:00:00: ['14:00:00']\n",
      "│   ├── VJ96cc76e90e2d48f7efd6ec5539c5e180e43daf58_08:38:00: ['08:38:00']\n",
      "│   ├── VJ976a09c6cbba750f370f10f5e1ffd4c2eb27441f_10:04:00: ['10:04:00']\n",
      "│   ├── VJ98f04bc4aa79bc2a3c8d302b549d1fbaa92d5618_13:28:00: ['13:28:00']\n",
      "│   ├── VJ9a8f470bb6954e527452f58bc703f0c3e7b49849_09:08:00: ['09:08:00']\n",
      "│   ├── VJ9dfa071cc4e80ab8475ad07ce8fd160782a4ca2c_07:52:00: ['07:52:00']\n",
      "│   ├── VJa31f7af9136bb8187fad3884b256921744ae0ae6_08:44:00: ['08:44:00']\n",
      "│   ├── VJa6b509c478369def2da7a13cc3793f32375b8ae0_12:40:00: ['12:40:00']\n",
      "│   ├── VJae00f6d8dcbbc01ed5b4279670e07699c2260163_13:12:00: ['13:12:00']\n",
      "│   ├── VJaf50f7d1ac0284fa238d91916202ddd72382cf7b_09:50:00: ['09:50:00']\n",
      "│   ├── VJb41cca05a6d763eb7f12e8078b52033146a9cde9_09:38:00: ['09:38:00']\n",
      "│   ├── VJb9e2ee8ba947397f1cc4591c194314ee94a0d53e_12:48:00: ['12:48:00']\n",
      "│   ├── VJb9f2e9678fb4108209e8b9bcd94d8a4d539920ab_13:52:00: ['13:52:00']\n",
      "│   ├── VJbd07618dd25aae51ddead1383db60dd5bfc8db60_09:32:00: ['09:32:00']\n",
      "│   ├── VJbd820912eb05b6634ad4af6061abaa8615bef288_08:19:00: ['08:19:00']\n",
      "│   ├── VJbeb68b320ee33c75f6cd44503b613a3e9146623f_11:04:00: ['11:04:00']\n",
      "│   ├── VJc00776ff7b0a6a3835fddd2701909086c9a9a3ef_10:50:00: ['10:50:00']\n",
      "│   ├── VJc00e9494c0312458672ff55cffa16a47c3800ffc_09:14:00: ['09:14:00']\n",
      "│   ├── VJc34068b2d3289311af30e8b551aae71a64006256_12:56:00: ['12:56:00']\n",
      "│   ├── VJc4729f7d315b3e7f7f1658f528a4adb65c587d5b_12:08:00: ['12:08:00']\n",
      "│   ├── VJcbd9adc150296ac69f1d4a87a96dff51e3dc0ea1_11:12:00: ['11:12:00']\n",
      "│   ├── VJcf1d15e8f9bfdd25a8859e271e7f9dcf2db23c4e_07:45:00: ['07:45:00']\n",
      "│   ├── VJd4250d532e483a753e64262c8dc7790f6138e048_08:56:00: ['08:56:00']\n",
      "│   ├── VJd4262365d50d25e003507b2261b2eee1bff6cd19_11:28:00: ['11:28:00']\n",
      "│   ├── VJd84addd1eb2e2575b213627e2fdd0540554cff80_10:57:00: ['10:57:00']\n",
      "│   ├── VJd8e19c271364024611902addba87a6a4fdeb30b2_12:32:00: ['12:32:00']\n",
      "│   ├── VJdf28b42d90d4b632df2b145f3ca7318e63de2eb6_13:04:00: ['13:04:00']\n",
      "│   ├── VJecfe4687ee688ebd42d051b389136e8b5a0434ba_09:26:00: ['09:26:00']\n",
      "│   ├── VJfcc2179fc3d93f13706b9bf076ee7cc00d06e968_08:05:00: ['08:05:00']\n",
      "│   ├── VJfd4cf33d86eed1c88f2df3baa84bbf2c6471e3e1_09:57:00: ['09:57:00']\n",
      "│   ├── VJfd729672d8a1a0b5a5dd2d7de007eaa12de4e6f7_07:59:00: ['07:59:00']\n",
      "│   ├── VJ47f1486b249a22d8ec61727bbcb5631e6071e776_07:08:00: ['07:08:00']\n",
      "│   ├── VJb8aac77cec34ece89d523ec642b603bc41004c95_07:00:00: ['07:00:00']\n",
      "│   ├── VJf9a22035ae6f25bb420df833474943ad76065c89_07:16:00: ['07:16:00']\n",
      "│   ├── VJ00a8ca574c4e1e1f8d4ace6ee14ca6aca064fc04_16:35:00: ['16:35:00']\n",
      "│   ├── VJ00ea0768282b6652ad858d17e53b5f67b90c21b3_20:25:00: ['20:25:00']\n",
      "│   ├── VJ04b00a379c2ae7a4250116c120a2d558e8398bcd_20:32:00: ['20:32:00']\n",
      "│   ├── VJ06dcf8cc1feed5edc4749329dbe195714c98c6d6_13:19:00: ['13:19:00']\n",
      "│   ├── VJ08fc5504d67590b7dbe67ef2584fb17e71a60c27_09:34:00: ['09:34:00']\n",
      "│   ├── VJ09078004d53451002391ac03a2b2f2e778bb7b60_14:55:00: ['14:55:00']\n",
      "│   ├── VJ093350c7a24291d42b83678a7f298e6c6c875e9f_08:51:00: ['08:51:00']\n",
      "│   ├── VJ0a3f89fbde18995c23b48906ac494826a47f24bb_15:59:00: ['15:59:00']\n",
      "│   ├── VJ0e45b3e8efe36a8329b6bf7e0e7c616bf0244f0a_13:43:00: ['13:43:00']\n",
      "│   ├── VJ0f27ee235dd645fd718522e9ec2482fb2edcaa0f_13:59:00: ['13:59:00']\n",
      "│   ├── VJ101a10b1de1733f21cca6d385d2aa6814517202e_05:57:00: ['05:57:00']\n",
      "│   ├── VJ105aefb5641b00ed9e71ebd03dae4cd26346cf7d_02:18:00: ['02:18:00']\n",
      "│   ├── VJ13175d8f981ecb1bfe151ccdfc23b95b3bec419f_14:07:00: ['14:07:00']\n",
      "│   ├── VJ140e4c677cd98cb24374ea7ed1c6295701eb7de7_20:39:00: ['20:39:00']\n",
      "│   ├── VJ18226ae3784009d9313a67f63a1eda8ae71db231_21:22:00: ['21:22:00']\n",
      "│   ├── VJ182ee9e2754cffb4d8adef6d3218febb0bbb0393_23:08:00: ['23:08:00']\n",
      "│   ├── VJ19517cfe1565852e3f21e40f5897bd0e39208b0d_19:21:00: ['19:21:00']\n",
      "│   ├── VJ198fb9b853fa5fd787e7c7a71d3326f95864b323_22:08:00: ['22:08:00']\n",
      "│   ├── VJ1a780f2aa6cb1cf6d8367030eff010aa5acd609c_19:35:00: ['19:35:00']\n",
      "│   ├── VJ1dad9f03c52f20c70ff1c32e818eed42561d2084_03:48:00: ['03:48:00']\n",
      "│   ├── VJ1fb4f93410a0cc4bd73f677d80800cb3bd330d65_20:11:00: ['20:11:00']\n",
      "│   ├── VJ20018b8e846041a048a34a883d36d3e74b8fb413_13:35:00: ['13:35:00']\n",
      "│   ├── VJ20f63fd03d2b5ec9439a817d4cf2bce1afd09d86_15:27:00: ['15:27:00']\n",
      "│   ├── VJ210ac5819aec7ba4dbe8df1713c490eb20cb27f8_10:25:00: ['10:25:00']\n",
      "│   ├── VJ2319a6fd74a0c7000c42959481f3143a1be8b3de_11:35:00: ['11:35:00']\n",
      "│   ├── VJ2409e457073edd2fa828f77e799499fad8cc8697_17:17:00: ['17:17:00']\n",
      "│   ├── VJ252bb9bb4ea4f0b40b8ce897b8fc6245e66a0992_13:03:00: ['13:03:00']\n",
      "│   ├── VJ25f933b5e0d9bd7796be18b22661d3c24db6d438_11:43:00: ['11:43:00']\n",
      "│   ├── VJ27da7b4b84e5a7556a131966d1440f325cad7267_08:14:00: ['08:14:00']\n",
      "│   ├── VJ28a20a54bb32735719626853af2530b27b7f4f33_22:58:00: ['22:58:00']\n",
      "│   ├── VJ2a84ef4e65980c0a5deaf56b1e051968c83f9c2d_11:27:00: ['11:27:00']\n",
      "│   ├── VJ2f0ea7f5ed5cdf737dcd1a376e345f8356b0d2bf_11:19:00: ['11:19:00']\n",
      "│   ├── VJ2f366cef870e0f5939e197f10dd8fc5954c3ffc2_24:18:00: ['24:18:00']\n",
      "│   ├── VJ2fb648a36ab5ff8a59fc77f664ba1751526c7a3f_17:11:00: ['17:11:00']\n",
      "│   ├── VJ2fc614e828ab1bde0a741be5da840b7e2e5b19ee_12:47:00: ['12:47:00']\n",
      "│   ├── VJ31b283bf4ae389eda303963eea5826f27c34333c_06:46:00: ['06:46:00']\n",
      "│   ├── VJ31c6bab23f735a6723e90c5160034ba02f0481c5_10:39:00: ['10:39:00']\n",
      "│   ├── VJ341b7db7b2ee51785c528da66def998e9fda178f_19:02:00: ['19:02:00']\n",
      "│   ├── VJ366f6274f4c9d7211caf8a5b7baa72b59d7be1f1_14:47:00: ['14:47:00']\n",
      "│   ├── VJ36ea8eaad0a69d59e07403b93f4b33a55f0f7777_07:41:00: ['07:41:00']\n",
      "│   ├── VJ3a61ffdb98a2f645663582518143034ecb75689a_23:48:00: ['23:48:00']\n",
      "│   ├── VJ3af3e11851931c59273f3a79b0ff11bcbf8ede0f_01:18:00: ['01:18:00']\n",
      "│   ├── VJ3b761f0503e314180e30cb69c6fbbe221ad7216d_08:27:00: ['08:27:00']\n",
      "│   ├── VJ3caeb003c1500940c95ff9cb453f4cc15a146094_06:38:00: ['06:38:00']\n",
      "│   ├── VJ3cd1825a5dd9b59f6a0370e61f1f5fefe2a96324_08:33:00: ['08:33:00']\n",
      "│   ├── VJ3d8a2c8401abe68d3a3715375d65d6efb48546ef_22:28:00: ['22:28:00']\n",
      "│   ├── VJ401b2bdee57a146aa048fdc4f6a42eab11c830d2_15:51:00: ['15:51:00']\n",
      "│   ├── VJ41d633d88089b08fd88bad0f922c8498d53a1303_10:47:00: ['10:47:00']\n",
      "│   ├── VJ427aeeb8c4f30983ab6ea9bfadd39904c4cbd3de_07:12:00: ['07:12:00']\n",
      "│   ├── VJ42e15d37fc56d27c28a607dc2613d06d81f3df7e_07:36:00: ['07:36:00']\n",
      "│   ├── VJ44be1784ed54116bf4b9e8142469346d843540a5_07:24:00: ['07:24:00']\n",
      "│   ├── VJ489995a54c38ef51ee90c0036d1f12da1d6d7b51_15:35:00: ['15:35:00']\n",
      "│   ├── VJ4a395c81ebd259ede59cacc742010465621fd996_17:23:00: ['17:23:00']\n",
      "│   ├── VJ4acc2ac798c698b0e707c6e77de634fe66faa367_08:21:00: ['08:21:00']\n",
      "│   ├── VJ4c44c7cba58188b481ecc34ee9b94cacf1a8b10a_14:15:00: ['14:15:00']\n",
      "│   ├── VJ4e00695459300b8f2a1d9445362a2ce61cce3c3d_07:47:00: ['07:47:00']\n",
      "│   ├── VJ4e402b148296c557810f19d0163280c17a6e4c68_21:01:00: ['21:01:00']\n",
      "│   ├── VJ4ea67ee676fc630e63a4f80b9347cca9c2f4ebd1_20:47:00: ['20:47:00']\n",
      "│   ├── VJ4f9871ee0b0b7a79a49ba2839ee1f335efd70e3b_16:47:00: ['16:47:00']\n",
      "│   ├── VJ4fc83bdf9f0f773ef79c44934a8c535a101abec5_16:59:00: ['16:59:00']\n",
      "│   ├── VJ507a94f60c874eccbaae971c5fb82fb236375871_19:28:00: ['19:28:00']\n",
      "│   ├── VJ512ba44720c488d9abf428cdbe8b73fa411d761b_07:18:00: ['07:18:00']\n",
      "│   ├── VJ54818ebdbff25001f8a91f881c203797fd3db3a1_03:18:00: ['03:18:00']\n",
      "│   ├── VJ560c29d8c63d611e7b01b853256b147186f828ae_05:18:00: ['05:18:00']\n",
      "│   ├── VJ56ad71ebb2915f7b2e51cf1835a282bf9e82181f_11:03:00: ['11:03:00']\n",
      "│   ├── VJ5b56d1be95ba5950285eb1527ce3154d33e53db6_21:30:00: ['21:30:00']\n",
      "│   ├── VJ5c1a093ec2a5c43c9b2873dfdfdde74e41511bef_05:48:00: ['05:48:00']\n",
      "│   ├── VJ5d2590d39ec43173c65b1bac36876bcd37eca327_04:18:00: ['04:18:00']\n",
      "│   ├── VJ5d4723bbeafe8d70db1b51c5a1157df1fae1886f_10:13:00: ['10:13:00']\n",
      "│   ├── VJ6570d3f540ee21d68d1b533bbfc31aab81408f6d_06:33:00: ['06:33:00']\n",
      "│   ├── VJ66dea2b6a06e6d8dfb022c7a4c020319308800e5_19:08:00: ['19:08:00']\n",
      "│   ├── VJ6932c4204d4fa68778fb6894c0319494a1b6b777_13:27:00: ['13:27:00']\n",
      "│   ├── VJ6952c482254c688c77cec5443b2024fe8f4d5c4e_14:23:00: ['14:23:00']\n",
      "│   ├── VJ6992e6ecd4bc8715d62785e1b9440ec67dd9c7af_16:53:00: ['16:53:00']\n",
      "│   ├── VJ6a8f9dad35c234697ba940e36b35fe96c78a7077_17:43:00: ['17:43:00']\n",
      "│   ├── VJ6bf3c2b5893ed059f0bbab14496caf2cafa1092d_18:10:00: ['18:10:00']\n",
      "│   ├── VJ6cc11fb46ab954b63161bf1bee99b178603e3bb7_16:07:00: ['16:07:00']\n",
      "│   ├── VJ6d2b74e6ead3b91c5ae35a3f65979efd3e994c4c_10:07:00: ['10:07:00']\n",
      "│   ├── VJ6d357762c69b959394ab98e2c928a92e35d46c62_18:23:00: ['18:23:00']\n",
      "│   ├── VJ700dea832d8bec344c8c8add7a2b3e702725aa48_15:43:00: ['15:43:00']\n",
      "│   ├── VJ72620ef43e041c6070f9cf5df3541b3b55a23b52_17:50:00: ['17:50:00']\n",
      "│   ├── VJ72dae1aa2bf6a21a93518848f346252d5a75695e_06:58:00: ['06:58:00']\n",
      "│   ├── VJ7493b839d60e967984ffb557568529aefac223d4_12:39:00: ['12:39:00']\n",
      "│   ├── VJ74ca92e4294dac2f6da15a23540c2b040ce76464_18:30:00: ['18:30:00']\n",
      "│   ├── VJ78d9738fbd2223798a1bda6fc956e7a6556d255d_13:51:00: ['13:51:00']\n",
      "│   ├── VJ78db1b20db80ca342356ec9ecf79163cfc1e1baa_12:15:00: ['12:15:00']\n",
      "│   ├── VJ79538a65aa32c9734547cb5fb676a4e045890a8c_23:58:00: ['23:58:00']\n",
      "│   ├── VJ7b2d27055c5a9a263933714945592249d001486c_09:03:00: ['09:03:00']\n",
      "│   ├── VJ7c291875d8f1fa74917e3106fc94946cade371c9_23:18:00: ['23:18:00']\n",
      "│   ├── VJ7cd67f44079e88775d9d96703e982683c729d9c3_17:57:00: ['17:57:00']\n",
      "│   ├── VJ805a1e80bbee100c34b2d5cc939ad92251e9fb2f_04:48:00: ['04:48:00']\n",
      "│   ├── VJ82e49b2ac80c977a3c03bf98a69f841e46cddb5d_18:55:00: ['18:55:00']\n",
      "│   ├── VJ82eba1ea41b2a5567063c4264826f1b0b6fc6cd7_12:23:00: ['12:23:00']\n",
      "│   ├── VJ88a2f72fb86a1f229c9792a040e41eeaa787418b_10:19:00: ['10:19:00']\n",
      "│   ├── VJ89bbf5ef80fcc24457fc3c2e0c5298734d099430_00:48:00: ['00:48:00']\n",
      "│   ├── VJ8d1ebe138a8c44366faaa9fe565d998fb115575d_23:28:00: ['23:28:00']\n",
      "│   ├── VJ8d61ac1d2b43a67c15fa6a0baebc2d1feab82de6_08:57:00: ['08:57:00']\n",
      "│   ├── VJ9052964bc751ccb87af4c13cbad9220f49c00121_14:39:00: ['14:39:00']\n",
      "│   ├── VJ90b469491dbc580fc55f2d368e72c61bcea3df05_06:52:00: ['06:52:00']\n",
      "│   ├── VJ937a671e443d98fc082e801bb4362a18c027ab14_16:15:00: ['16:15:00']\n",
      "│   ├── VJ945a9172a58baebf81678f7d41787db472f9afb9_08:45:00: ['08:45:00']\n",
      "│   ├── VJ9712e6c09f855a32abba116ff290dd48395946aa_06:21:00: ['06:21:00']\n",
      "│   ├── VJ97b1568d82f722f55a0406270752aa773258f94b_09:15:00: ['09:15:00']\n",
      "│   ├── VJ9992f979a4a9396646946b0ed7e5b50c303e903b_12:07:00: ['12:07:00']\n",
      "│   ├── VJ9b459a188bd4ae1f8592dd3d22a9098b08e051ce_19:14:00: ['19:14:00']\n",
      "│   ├── VJ9b58a59e3d74941586a5bca7726a8aa624da67fc_11:51:00: ['11:51:00']\n",
      "│   ├── VJ9bcbf4f2b4f697efbcb8383377a4f03c07733165_17:05:00: ['17:05:00']\n",
      "│   ├── VJa056bf082b10e23399f4001c1199d4e24b9b25b7_07:05:00: ['07:05:00']\n",
      "│   ├── VJa15b7270c949f2137b88bd2a7eafc528f2371edc_21:48:00: ['21:48:00']\n",
      "│   ├── VJa1a09d4ea63d985f50a788c6c9c2fc2f3a3e0623_15:03:00: ['15:03:00']\n",
      "│   ├── VJa4d7070cd59337a07b8fbff8cfa9f56e1fa48dab_12:55:00: ['12:55:00']\n",
      "│   ├── VJa5e1ff87ac842d40b9e188b0925160d8f8b14caf_10:32:00: ['10:32:00']\n",
      "│   ├── VJb0c0aa3c62f995287c91a4a220f0e5c1dfcecf8e_21:38:00: ['21:38:00']\n",
      "│   ├── VJb0ddf195ff91c59fa976d15a3fa1475ec18ffc8f_22:38:00: ['22:38:00']\n",
      "│   ├── VJb1ed52d58d0aaa08440a1a9190ce6f7612ec03f8_20:18:00: ['20:18:00']\n",
      "│   ├── VJb30024b097b211b7c0c4d03090b28093ceb4794e_22:18:00: ['22:18:00']\n",
      "│   ├── VJba6374a4de5f0c0ecb7365a9669bf253ea8802ae_14:31:00: ['14:31:00']\n",
      "│   ├── VJbaef9eefbbe4298baee781583247a2f4cf98d026_08:07:00: ['08:07:00']\n",
      "│   ├── VJbb63547998fd6b8eac9ff0c24cd9e83213da2229_09:09:00: ['09:09:00']\n",
      "│   ├── VJbb8c7c51c8936aa75dc4df42d33f7dd9386f88fb_06:09:00: ['06:09:00']\n",
      "│   ├── VJbbac3acb74d59a053aeb4a9e2d35d04a10393dad_09:47:00: ['09:47:00']\n",
      "│   ├── VJbd352909ff9d8719ef444fb62f1c214f95131b0b_09:21:00: ['09:21:00']\n",
      "│   ├── VJbdc101d2eb45404ef3186557aef1467cc9b851c3_20:54:00: ['20:54:00']\n",
      "│   ├── VJc025817f353ddfdee4ca3439017d5fb683bf3256_18:36:00: ['18:36:00']\n",
      "│   ├── VJc048a0e91dc8292cdb7b1ea9bd94007fa49bdafd_08:39:00: ['08:39:00']\n",
      "│   ├── VJc1aa00a58f1a7d4937160d4281f4d421be92777c_19:50:00: ['19:50:00']\n",
      "│   ├── VJc41c3879fc70a7ebbc1e612483e74f3423b674b9_21:08:00: ['21:08:00']\n",
      "│   ├── VJc45a463f30ebe01dfaded745ba9554bea4a907f4_13:11:00: ['13:11:00']\n",
      "│   ├── VJc734ebecc6ef1bb5b02633aaa72043a5da833ee3_10:55:00: ['10:55:00']\n",
      "│   ├── VJc88943cc90cda6bee078a6c75eec246eb01be3e2_01:48:00: ['01:48:00']\n",
      "│   ├── VJc8afb75afae2c959f7ff5c74f087e2a4da6ccce9_19:57:00: ['19:57:00']\n",
      "│   ├── VJc9dcecd8f9028191993897a9473a5291943a244e_11:11:00: ['11:11:00']\n",
      "│   ├── VJca98c595fa0a47507590497b2a4176e2a844824c_07:30:00: ['07:30:00']\n",
      "│   ├── VJcd3d98035947ade4fcf2e9d3eefebe2678b68c9f_11:59:00: ['11:59:00']\n",
      "│   ├── VJcea7201cbe65f63744d529dafeeef41bf8bde211_09:54:00: ['09:54:00']\n",
      "│   ├── VJd335840a4ad6098032a4dbdf2d9fd0ab39641e20_19:43:00: ['19:43:00']\n",
      "│   ├── VJd33a9102e92f2b4edf361dde9f178f60d4b542af_16:23:00: ['16:23:00']\n",
      "│   ├── VJd356bf134ecbe55a951dae48fccd34ba2ee702c4_18:49:00: ['18:49:00']\n",
      "│   ├── VJd6701bffcc423438521a7fd6361acca9df89c961_17:30:00: ['17:30:00']\n",
      "│   ├── VJd718d53c73a212d7aab8e682fb91b3892609ec92_12:31:00: ['12:31:00']\n",
      "│   ├── VJd7611c660cfacb55c621d0e0a8dd7235de82e6c5_23:38:00: ['23:38:00']\n",
      "│   ├── VJd84152d0abf20bc18d600c514d077ef3135718fe_21:15:00: ['21:15:00']\n",
      "│   ├── VJdb053c72df3605b49a745851287a983a61f14d59_20:04:00: ['20:04:00']\n",
      "│   ├── VJdc2b2a6993f0f6646b13da77349cec345129ab47_15:19:00: ['15:19:00']\n",
      "│   ├── VJe4cb23aebe3269659c89ea8dbd5204dffd4cbb48_15:11:00: ['15:11:00']\n",
      "│   ├── VJe5c34cf4700027b0390235f0a367ba06596c9e92_09:27:00: ['09:27:00']\n",
      "│   ├── VJe726a6f177e424a42fb7d26209e1bff1c26e86c5_17:37:00: ['17:37:00']\n",
      "│   ├── VJe84d8fff2081a113de370c9d254bfb88d2df2423_09:41:00: ['09:41:00']\n",
      "│   ├── VJe9559d3471bfb91442f99aece2694a7a50ac3ecf_18:03:00: ['18:03:00']\n",
      "│   ├── VJeb077424a915ec7038fe9179ae37e55522e09a39_22:48:00: ['22:48:00']\n",
      "│   ├── VJec6f239216ed5025c2ae0c354e25cf1cde8ef050_02:48:00: ['02:48:00']\n",
      "│   ├── VJef61397e987eb77cdcc748224db4af82b83d2418_21:58:00: ['21:58:00']\n",
      "│   ├── VJf1fd730e1388509b1d4b3f12597f454cef74149d_07:54:00: ['07:54:00']\n",
      "│   ├── VJf22c5fc36522b1127a297afb14dde89903f7335f_18:17:00: ['18:17:00']\n",
      "│   ├── VJf280c18f7097dce07a9a750503e5f0168e529687_10:01:00: ['10:01:00']\n",
      "│   ├── VJf7772b236c0f7b40c4bf60497c9abdbabc589b87_16:29:00: ['16:29:00']\n",
      "│   ├── VJf98b6906881a895851e4a04b20a875a1f883c652_18:42:00: ['18:42:00']\n",
      "│   ├── VJfa431ba26a422f64931afe5a9125b335bdabc992_16:41:00: ['16:41:00']\n",
      "│   ├── VJff320bbfb9755453d92a315d500ecb946a0062c3_08:01:00: ['08:01:00']\n",
      "│   ├── VJ0b0180c7b6bcef5834ec857e9b5a94254803694f_03:48:00: ['03:48:00']\n",
      "│   ├── VJ0cb60de3ed229c1413abac506e770b6ab8a7c49a_03:18:00: ['03:18:00']\n",
      "│   ├── VJ5e32459fcb7ab3481a1bab1b2c106f592a67d8ff_04:43:00: ['04:43:00']\n",
      "│   ├── VJ691d8b8a2b60e4f943babbea813c047824d60e6e_02:28:00: ['02:28:00']\n",
      "│   ├── VJ9b62613eaaadfb63206602708def459f48c9d7e5_01:58:00: ['01:58:00']\n",
      "│   ├── VJ9fde44c07dfbe36f14546fdb57eba8896c57edb1_05:13:00: ['05:13:00']\n",
      "│   ├── VJadd2550a6474c2f14390d4dba64555f0cabf25c7_02:53:00: ['02:53:00']\n",
      "│   ├── VJb722c487c42164c131d3d66f69a3d663bb6a8101_01:28:00: ['01:28:00']\n",
      "│   ├── VJd61b8fb7b37808cd388551ba85ac3fabe14491b8_00:28:00: ['00:28:00']\n",
      "│   ├── VJd6fde501ac1c0b7394cf7db53f7a300e9dca3680_04:13:00: ['04:13:00']\n",
      "│   ├── VJd76f0cbce336eabc2d2b0e9a1b7c9d4a1dccf14d_05:43:00: ['05:43:00']\n",
      "│   ├── VJfde96719b0b7d584a7852eb7efec496cae413e2d_00:58:00: ['00:58:00']\n",
      "│   ├── VJ093eb0af7d4a41b765911713e969a613c26b1f50_16:42:40: ['16:42:40']\n",
      "│   ├── VJ0c03c529d15ee11d0d17e6fafff1468283635a69_18:47:40: ['18:47:40']\n",
      "│   ├── VJ0f3c08222de16c2e278be0a1bf0f9ea47370774e_11:49:40: ['11:49:40']\n",
      "│   ├── VJ1311b63f89a5266c761ec0dfc2d834b51f3bffe8_17:00:40: ['17:00:40']\n",
      "│   ├── VJ17e3e7295a4bbfb4a294e296ff6d38e058961528_14:01:40: ['14:01:40']\n",
      "│   ├── VJ1d5d7c5e650c2eea9c54251aa4e8364d83ff48f1_18:20:40: ['18:20:40']\n",
      "│   ├── VJ1ed7793a29d630fe064a70cf9df15ace2f4c2802_11:40:40: ['11:40:40']\n",
      "│   ├── VJ210dcd227d097ede73a9ce1b6f288d06d0cab1c3_13:44:40: ['13:44:40']\n",
      "│   ├── VJ23389df85086d92d8a2480064da9d9b32bf46141_16:51:40: ['16:51:40']\n",
      "│   ├── VJ256daa2e7aee636d6ec3919f37f93cb025bf3fc2_12:07:40: ['12:07:40']\n",
      "│   ├── VJ30467b10ff62912f6f98bd4939aa33484d3cbd4d_13:10:40: ['13:10:40']\n",
      "│   ├── VJ323095dc6d490ae2ed573eb6990850eeb6f8b8c9_14:45:40: ['14:45:40']\n",
      "│   ├── VJ35b38b02d9024c708f5e41d1164b27bce173ef70_18:29:40: ['18:29:40']\n",
      "│   ├── VJ35d238051bcd00cf5505966082169fcadda49eea_16:15:40: ['16:15:40']\n",
      "│   ├── VJ361e745164c7893f08f4c16be84bac7b29664e4d_16:06:40: ['16:06:40']\n",
      "│   ├── VJ40bf4ab1b1968a3d7d1f62ea7fc9e7df052da80a_15:21:40: ['15:21:40']\n",
      "│   ├── VJ4264f794a35b3834f7493b2e8c33737daf98cfb6_11:13:40: ['11:13:40']\n",
      "│   ├── VJ532ca08b989293cfc15b5027ccc78b4cca0239f2_18:56:40: ['18:56:40']\n",
      "│   ├── VJ65a8340c4c7f662d7f7f15c162e9f2319af2207d_11:58:40: ['11:58:40']\n",
      "│   ├── VJ69185e9131494b1780dd60da7b312dc2749d7057_14:36:40: ['14:36:40']\n",
      "│   ├── VJ756cf1a59d50342c86fdca38d674eb425b53bdd5_12:34:40: ['12:34:40']\n",
      "│   ├── VJ7d071331f687aa2c9af7b99c60a7beb7e3a2d82b_13:27:40: ['13:27:40']\n",
      "│   ├── VJ815d2cc41534e09549d38db67a40e7454674c283_16:33:40: ['16:33:40']\n",
      "│   ├── VJ825b005b2d759f18206888759ac6f6bbcec09e58_15:48:40: ['15:48:40']\n",
      "│   ├── VJ836ffbed17e064020ac4521a5c742a7fb0bca9ae_18:38:40: ['18:38:40']\n",
      "│   ├── VJ844efeab190f113d704a1fadb22d66c5bdc2d5b8_14:54:40: ['14:54:40']\n",
      "│   ├── VJ84930cbb250f1de5ddd68b62afa775398bb91e6b_15:39:40: ['15:39:40']\n",
      "│   ├── VJ8a5f6511099e1312f1c5d4099cf01da8870f0e15_12:52:40: ['12:52:40']\n",
      "│   ├── VJ94987907aed649f52e2f26941db0b96d5aa45084_15:30:40: ['15:30:40']\n",
      "│   ├── VJ986d47f721215de6908e35644e350df32832c0be_12:16:40: ['12:16:40']\n",
      "│   ├── VJ99c4b7127d7163139295fa90176a520abb0e9f23_13:53:40: ['13:53:40']\n",
      "│   ├── VJb12020b6bc811b16fefd39bb28a3ca9c9d5182ad_12:25:40: ['12:25:40']\n",
      "│   ├── VJb71aa60b5a62de87ebf7be3411387c1c119b43da_18:03:40: ['18:03:40']\n",
      "│   ├── VJc2cfcda3830e6bb9cef978bb3ca2912e27fde6a4_14:19:40: ['14:19:40']\n",
      "│   ├── VJd0df4e3f084e2caa0b020ad24a715549f4a6d203_13:36:40: ['13:36:40']\n",
      "│   ├── VJd15d5a198d82e82f44e4019d32dacfd6d3a4db53_13:19:40: ['13:19:40']\n",
      "│   ├── VJd1a164b64e2f89f64de19f9bcf5ac4cec184829b_15:03:40: ['15:03:40']\n",
      "│   ├── VJd470a79eaf02ecae910730cbfa25494a56d785e4_12:43:40: ['12:43:40']\n",
      "│   ├── VJe52e638e633ca12cc2ac693bcba460cd759f09d9_16:24:40: ['16:24:40']\n",
      "│   ├── VJece46b0bc317c7f10e4ab5ae9d6edb53129861a0_18:12:40: ['18:12:40']\n",
      "│   ├── VJf580942938d54e1f0d14ed6ec72b18c5812de021_14:27:40: ['14:27:40']\n",
      "│   ├── VJf9f88228babbc30f6c34230c277ae65456ced15e_15:57:40: ['15:57:40']\n",
      "│   ├── VJf9f9077495c2793700b42216c25d51de08872468_13:01:40: ['13:01:40']\n",
      "│   ├── VJfac4854307b3816f4b1d950a066b88a2a6273e00_11:31:40: ['11:31:40']\n",
      "│   ├── VJfcdc87aa3fc001b7362b7fb0b3494f246d815d9d_11:22:40: ['11:22:40']\n",
      "│   ├── VJfce55f29089c3cb0e187e72a623ad3fab0a5d124_14:10:40: ['14:10:40']\n",
      "│   ├── VJfde743b98943c8239b3a24201ffe53bce44df934_15:12:40: ['15:12:40']\n",
      "│   ├── VJ00a2267d1b55de8ff4c2770a6c303ea7b1f02326_24:00:00: ['24:00:00']\n",
      "│   ├── VJ193d4b1ff6ffad00561559436256ba0ef1ccef65_00:36:00: ['00:36:00']\n",
      "│   ├── VJ1fde46447526920c4fb1da62d2fe71cda687e7ac_05:52:00: ['05:52:00']\n",
      "│   ├── VJ4e68e1110ffadc2af2a4ad1bbb654d733bac0875_23:48:00: ['23:48:00']\n",
      "│   ├── VJ580313279775a8da26e81d1663c0f35b4b782c26_05:40:00: ['05:40:00']\n",
      "│   ├── VJ774a67291d565958fbe49d23391a07b7e7a5b7f4_23:36:00: ['23:36:00']\n",
      "│   ├── VJ948e8caa0f08b9c6bf6330927893942c474b5100_00:24:00: ['00:24:00']\n",
      "│   ├── VJac57126c568dd67d68ba2bfc11c1b3efa2b1def1_00:12:00: ['00:12:00']\n",
      "│   ├── VJd58ba0cf76ed5362a95c474b6aa06bb4452c9fec_23:24:00: ['23:24:00']\n",
      "│   ├── VJff84d25b8a9721bef41a7a2b00ac99f73c580f97_23:12:00: ['23:12:00']\n",
      "│   ├── VJ097f4d004d5d8300e91bd6ea5fb1b139a8d05fad_19:57:00: ['19:57:00']\n",
      "│   ├── VJ1660f214a56edfd6448854ad815b21206387b8c5_21:07:00: ['21:07:00']\n",
      "│   ├── VJ1a8cc306354fdc322d739ae644eb73444341d08d_21:42:00: ['21:42:00']\n",
      "│   ├── VJ27bbb11467e38e50fdeeac016c4ec3143ebaae6e_21:35:00: ['21:35:00']\n",
      "│   ├── VJ2968beefe09462076313d597d87897cb2e9928a2_21:28:00: ['21:28:00']\n",
      "│   ├── VJ343c748f665d983524d0811592129146cbe04582_21:21:00: ['21:21:00']\n",
      "│   ├── VJ513c54710bb0f16fad2f48278b3f2a6d4e2c95b9_21:00:00: ['21:00:00']\n",
      "│   ├── VJ56647f36f84f2965305ccb2b6f28fabeb84adcb5_20:53:00: ['20:53:00']\n",
      "│   ├── VJ579f3c03e623ea9770e3659e8d98f9b617b6882d_21:14:00: ['21:14:00']\n",
      "│   ├── VJ9098ce9f0d9a905abbdf24f7e6b6558e6607e1eb_20:11:00: ['20:11:00']\n",
      "│   ├── VJ96e92920a53bce3b398849ffbe8353780f7c5245_20:39:00: ['20:39:00']\n",
      "│   ├── VJaad01cba1701841f15d7d9c6ddbc1f2666c1ceca_20:46:00: ['20:46:00']\n",
      "│   ├── VJba0a93461fb463f77ac03d00b6b53006fc8be0a5_20:25:00: ['20:25:00']\n",
      "│   ├── VJd21d83a07205cb2b189cc35481e30f150f5ae551_20:32:00: ['20:32:00']\n",
      "│   ├── VJd99c9c998a546afe06976dc7b53fd3b81bb03d74_20:04:00: ['20:04:00']\n",
      "│   ├── VJe9905a3c963ff23ddb7b820e55f0384fbf135804_20:18:00: ['20:18:00']\n",
      "│   ├── VJ06c22d28b7e244602a896a8e645add30f55c5759_13:47:00: ['13:47:00']\n",
      "│   ├── VJ075d2c12c902a230da9e810af6f90e817b88dda1_16:58:00: ['16:58:00']\n",
      "│   ├── VJ15b47416bff8502c79286c153992c94ec8967a5c_09:02:00: ['09:02:00']\n",
      "│   ├── VJ161363136a7d244ec88af205ae339be336948b8d_17:34:00: ['17:34:00']\n",
      "│   ├── VJ169ca21c9698272e91aaa657197c4a348b740a42_09:50:00: ['09:50:00']\n",
      "│   ├── VJ17316761d44b207f67faa24a127ad67597fedc28_09:32:00: ['09:32:00']\n",
      "│   ├── VJ17bb063f763c477bd2be5e162e4beaf2d154f388_12:54:00: ['12:54:00']\n",
      "│   ├── VJ1dd6b75b52998c192e0499208da310602a64bd78_11:47:00: ['11:47:00']\n",
      "│   ├── VJ1ee63d2870d38212f2db8145b1d94c78a4cd36ed_08:29:00: ['08:29:00']\n",
      "│   ├── VJ1f1e700c019091844406b3c3f94ab9832b8295b0_15:32:00: ['15:32:00']\n",
      "│   ├── VJ1f7eebde4596d25f6991154a6beef4ff392ae328_16:22:00: ['16:22:00']\n",
      "│   ├── VJ1f869a5e8a86ce2009e0a76654e714eacfab19e3_16:46:00: ['16:46:00']\n",
      "│   ├── VJ232aea9a77afadd60f3f996225729bc72b571ca8_18:10:00: ['18:10:00']\n",
      "│   ├── VJ247c3fd2de1212d35fb8d92d3589fb613a9ac71b_19:16:00: ['19:16:00']\n",
      "│   ├── VJ27c2fdd1fc5381a587ffa5e21eb0c7323542000c_14:47:00: ['14:47:00']\n",
      "│   ├── VJ2d2bcac8fa0c42579af7f260163ff7a5a25baf4e_16:52:00: ['16:52:00']\n",
      "│   ├── VJ2daee6c1e81d7388f6b2058426c15a6fd2ddf332_17:10:00: ['17:10:00']\n",
      "│   ├── VJ2e0ce3bde8e6cf2587d8d52dc3aa4cbce2b9b394_18:46:00: ['18:46:00']\n",
      "│   ├── VJ2fd38db28f3ac407a0f15b276e279bb98385d373_14:09:00: ['14:09:00']\n",
      "│   ├── VJ33e5546bdd3e9281dc8dbe530d67dd7e34352b61_15:09:00: ['15:09:00']\n",
      "│   ├── VJ353f05c0396c69a38139a81e1520bd6f064757f8_11:02:00: ['11:02:00']\n",
      "│   ├── VJ3716910ec59c370d9f5c69137df7276b68cf0a08_11:32:00: ['11:32:00']\n",
      "│   ├── VJ3aaa0b36e539eb9c0b374c09688618fed3694929_14:02:00: ['14:02:00']\n",
      "│   ├── VJ3ae393ad338412db374f85e479eabaacee8474d9_12:02:00: ['12:02:00']\n",
      "│   ├── VJ3b1b444d2e452d16c2f778b83eb9892e0fd618a2_19:31:00: ['19:31:00']\n",
      "│   ├── VJ3fb155bf638580325318a94b74db03699a66d87e_16:16:00: ['16:16:00']\n",
      "│   ├── VJ4159aa4f858c530fddf45c2e2459118605e080f8_12:47:00: ['12:47:00']\n",
      "│   ├── VJ435b281b51f812e28921634c03712c6e4d0152ae_14:17:00: ['14:17:00']\n",
      "│   ├── VJ45ab21eeafd87474fa3829179042e21377461aba_18:24:00: ['18:24:00']\n",
      "│   ├── VJ4b3beaac2f1a9085d55523c6a2692bc9543c8a23_14:24:00: ['14:24:00']\n",
      "│   ├── VJ4b87a5e7c71be0ddebf5d496fa6527b383e41de8_11:09:00: ['11:09:00']\n",
      "│   ├── VJ50d993db4f561ab8d7da408fde6f2f0210165e13_10:15:00: ['10:15:00']\n",
      "│   ├── VJ53a64cad296389d08aa047f477532901dcb75894_09:38:00: ['09:38:00']\n",
      "│   ├── VJ549bda1e4e4ecddf73129c6e05127ca0092c9637_17:52:00: ['17:52:00']\n",
      "│   ├── VJ580063f935729cfabdb407c3d8529796c6c5a877_15:24:00: ['15:24:00']\n",
      "│   ├── VJ58601a68678cc753f9d0ba7fb9a56a7225938376_09:26:00: ['09:26:00']\n",
      "│   ├── VJ59657d3dab84df62c6496950853404b9b0fc6f80_15:02:00: ['15:02:00']\n",
      "│   ├── VJ615e84e2dfe42b60de02ae436c0d3be1836621e9_09:20:00: ['09:20:00']\n",
      "│   ├── VJ623e59ee740a229aeac5ac9e09047637a7e6223a_10:08:00: ['10:08:00']\n",
      "│   ├── VJ647ee5bc4e735ef305ab5c09b7ea10d138eff345_16:40:00: ['16:40:00']\n",
      "│   ├── VJ699b383ee305a6a281b5a22cf2e66633c5748192_17:28:00: ['17:28:00']\n",
      "│   ├── VJ6e9a46bb8edbef26b252694298df042a58447e93_12:39:00: ['12:39:00']\n",
      "│   ├── VJ6e9e5c62dacb586ca9e0588b28feaabc2c6dc4e7_19:53:00: ['19:53:00']\n",
      "│   ├── VJ73a1d50aa27e33005b054aeb07e19d6953c93c31_18:16:00: ['18:16:00']\n",
      "│   ├── VJ73cb5b62698bcb79d84610887d1a803538404048_19:39:00: ['19:39:00']\n",
      "│   ├── VJ75c8a28f3871dc5ffabc37bf7a7545e20b84834d_16:02:00: ['16:02:00']\n",
      "│   ├── VJ761952b12c3459b80ff422f5194742a90886e479_09:56:00: ['09:56:00']\n",
      "│   ├── VJ78afddcac4fc1e495c10f872a5f2574f00e0a150_15:39:00: ['15:39:00']\n",
      "│   ├── VJ7a0a26e6c00a48f44befdb03d73be61ac1bf7ffe_18:39:00: ['18:39:00']\n",
      "│   ├── VJ81864b87afb1d3b7c2b841d5ed1b56b5f85a0f5a_14:32:00: ['14:32:00']\n",
      "│   ├── VJ82efb871778eac2f994c45ead50ca0a037768040_08:06:00: ['08:06:00']\n",
      "│   ├── VJ82fd8e225eb6fa9ea0f59a4f4973bb2c9906e31b_14:39:00: ['14:39:00']\n",
      "│   ├── VJ83dc66a1fba66a0d6aae1ec0d798d6d907e5bc38_10:36:00: ['10:36:00']\n",
      "│   ├── VJ88df68c2d6a3bae18b1e0391af48308a3d9537f0_11:24:00: ['11:24:00']\n",
      "│   ├── VJ8a1456427d7f0e20cbd81c0fcc87dcac1e3e5db2_10:56:00: ['10:56:00']\n",
      "│   ├── VJ8a24e93ba9a9823d663e88a3835323d773958660_09:14:00: ['09:14:00']\n",
      "│   ├── VJ8b4ccec5b0d92b532c680930953eabdbb0ea81c5_19:09:00: ['19:09:00']\n",
      "│   ├── VJ8c81cd5f7acb3a20a0e3dba685ddbcd5636f9a2b_14:54:00: ['14:54:00']\n",
      "│   ├── VJ8d1d89350dbbbb0c80d61f083fc753275148d87e_08:21:00: ['08:21:00']\n",
      "│   ├── VJ8ddb49280ba5bed1fb7582f3fe1b229c9f3037c3_17:46:00: ['17:46:00']\n",
      "│   ├── VJ8fc15f78a621c106fa6256c6556464a098003565_12:24:00: ['12:24:00']\n",
      "│   ├── VJ909db7e8cc4cc07b55edf7ce5f7612bd29beb738_16:10:00: ['16:10:00']\n",
      "│   ├── VJ90d993282ae073a20f07a42458c6a11babba6c39_18:54:00: ['18:54:00']\n",
      "│   ├── VJ93dfa86a59dbf46b628d56dca21bdb0f562283d2_10:02:00: ['10:02:00']\n",
      "│   ├── VJ95d8309f2da9a999725ef82ae983209c9020ca13_17:16:00: ['17:16:00']\n",
      "│   ├── VJ9951991efb3e46bcf3411b610bbc427e2a5f7a24_13:24:00: ['13:24:00']\n",
      "│   ├── VJ9a4efb8b980be986207a4390632ae38994d151b8_11:54:00: ['11:54:00']\n",
      "│   ├── VJ9c828fbd63ed0011b25b9c979dc625e5e4d5dba1_10:43:00: ['10:43:00']\n",
      "│   ├── VJ9ee03b02a18397223b71d3afcb11740cf2f31f9d_13:39:00: ['13:39:00']\n",
      "│   ├── VJa17107d6a361c39c97bd06fcb3d8a6370be8a0d0_13:02:00: ['13:02:00']\n",
      "│   ├── VJa1a712ea156c828ec14ff2360ccd7220136a2ef4_13:09:00: ['13:09:00']\n",
      "│   ├── VJa1df3c6469400ec375c7abc473b3288623e189bf_13:54:00: ['13:54:00']\n",
      "│   ├── VJa53eee9cce687cd163c23c75be5bf2fce9e98c58_08:50:00: ['08:50:00']\n",
      "│   ├── VJa6bfbabc2682a416ef4bbb1cbca4f1a8eeac3da1_10:22:00: ['10:22:00']\n",
      "│   ├── VJacbabb8dd351ba1c78f470911fc29497d150f8ea_18:04:00: ['18:04:00']\n",
      "│   ├── VJb03d67d6c7bbf663efc65512fcf104ab7d743cd8_10:29:00: ['10:29:00']\n",
      "│   ├── VJb51623a1c6e8182bcba0ac0274b93e94f7972b82_19:59:00: ['19:59:00']\n",
      "│   ├── VJb567b5cd925cf5f2491710021451a8d9a3f47dab_08:36:00: ['08:36:00']\n",
      "│   ├── VJb6c27f63156b13f5b5132e545464975cf6ec45a8_08:14:00: ['08:14:00']\n",
      "│   ├── VJc03cb88a1580b44bea4187956679d14d9e80c000_17:04:00: ['17:04:00']\n",
      "│   ├── VJc0b219c1d25bcbbdc6f58cfa6ccd8cff8284db65_19:01:00: ['19:01:00']\n",
      "│   ├── VJc1152e9081cb5b35f6542b606ee0e5b2d1125329_11:39:00: ['11:39:00']\n",
      "│   ├── VJc88672800186f18d3a8d528a4de2f7fed0851943_12:17:00: ['12:17:00']\n",
      "│   ├── VJca81ce5d51753ab1ec96443c9be36881a5830652_08:56:00: ['08:56:00']\n",
      "│   ├── VJca89e67db35da75e6da1e0555f564a58630c4976_17:40:00: ['17:40:00']\n",
      "│   ├── VJcc2e00b98a2837e18c555477c6e44ca2efe332e7_10:49:00: ['10:49:00']\n",
      "│   ├── VJcdbf0e450c512dd6d67147edcfbbac5e1f33a388_08:44:00: ['08:44:00']\n",
      "│   ├── VJd454d0d75850d38c37014f587db931c711884f86_12:32:00: ['12:32:00']\n",
      "│   ├── VJd81143a4f6592285474372fc6193ffc909ace397_18:31:00: ['18:31:00']\n",
      "│   ├── VJdb9f6c164e503ddcc9fa1f953a107266328649b1_17:22:00: ['17:22:00']\n",
      "│   ├── VJe0db6b1f35cfbf5e15816ae44ce6469156f3d332_19:24:00: ['19:24:00']\n",
      "│   ├── VJe4a4bd569f8f266b2385e124c17f144253d847fd_16:28:00: ['16:28:00']\n",
      "│   ├── VJe712fe12a2b22bf949e704c0ca439e4e49331ed0_17:58:00: ['17:58:00']\n",
      "│   ├── VJe9c7c7a7e23479b18e909928fd069ed2e9a14751_13:17:00: ['13:17:00']\n",
      "│   ├── VJea28e44921ea70bae114944b1f20ec53e0b3917b_13:32:00: ['13:32:00']\n",
      "│   ├── VJed68cb668baa19f1e72ef7df9aa399e1f231b09b_16:34:00: ['16:34:00']\n",
      "│   ├── VJeea45be4106197ab143054ea7504e2ed3e62943a_09:44:00: ['09:44:00']\n",
      "│   ├── VJef0eada6243f94d8be3a2be54c0d7f363f244548_15:47:00: ['15:47:00']\n",
      "│   ├── VJf03ab3134c62fcf85bfeb7cb3183ea853b4ba4e5_09:08:00: ['09:08:00']\n",
      "│   ├── VJf0d8ed094d8fe818cadd72ebdea4210ddc468dd2_15:17:00: ['15:17:00']\n",
      "│   ├── VJf5195e20173db1799b4c894a92126a57b8db9a05_19:45:00: ['19:45:00']\n",
      "│   ├── VJf5d4b27a2e5699f27e297a7965c7bc21e426a334_11:17:00: ['11:17:00']\n",
      "│   ├── VJfadc731dacd6bb158167f6a3d20c62448a5b217b_12:09:00: ['12:09:00']\n",
      "│   ├── VJfc5aaf514d21f9f05a7ab64a903b409d46990d43_15:54:00: ['15:54:00']\n",
      "│   ├── VJ5ca518f658f14f60bfa59ce0f1ee647d902e4f99_03:26:40: ['03:26:40']\n",
      "│   ├── VJ8637315ebf665d60a46cba733fcc326cdc29fc44_04:56:40: ['04:56:40']\n",
      "│   ├── VJ887921c00645929c5402ac46592e57c368ea63a1_05:26:40: ['05:26:40']\n",
      "│   ├── VJb24da4b9e99a8a3e8db2a3162e002e089d0abc6f_03:56:40: ['03:56:40']\n",
      "│   ├── VJc8c36227dcacb58d94fc4f81dd34b6cad24e2be4_04:26:40: ['04:26:40']\n",
      "│   ├── VJfab68d6f27900e279f06f225f3d4626e304f324b_05:57:40: ['05:57:40']\n",
      "│   ├── VJ20d5eee4da74c4e3d9e449964e033f55f5e32ce2_05:53:45: ['05:53:45']\n",
      "│   ├── VJ38301966decfa302752acd731514bd79463c8cdb_02:38:45: ['02:38:45']\n",
      "│   ├── VJ650dbfc110a8713314fb99002ec3891be3525b74_03:58:45: ['03:58:45']\n",
      "│   ├── VJ6d6e22c4c145c309dbc90f6d64e9ed56863d1c76_04:53:45: ['04:53:45']\n",
      "│   ├── VJ82330b053e230aadb62d3e98af3d01bcad20eca2_05:23:45: ['05:23:45']\n",
      "│   ├── VJ8a4b1ca7dfd0a130abd1de9f55f3b756617dd4ca_04:23:45: ['04:23:45']\n",
      "│   ├── VJ981ab17c1e607489306721c3d09f6438c1e52e52_03:28:45: ['03:28:45']\n",
      "│   ├── VJc73dde02299f3f7d10c9daadb3e216e4cd5b0a14_03:03:45: ['03:03:45']\n",
      "│   ├── VJ93d8207ae8540b4ff59d47c9ee1ec5689084522d_04:53:36: ['04:53:36']\n",
      "│   └── VJf8c00ef586e4fbf1e7c75d216ed830d039b6e04a_04:23:36: ['04:23:36']\n",
      "├── arrival_offsets: ['00:06:40', '00:01:41', '00:03:30', '00:05:15', '00:03:02']\n",
      "├── departure_offsets: ['00:06:40', '00:01:41', '00:03:30', '00:05:15', '00:03:02']\n",
      "├── route_long_name: ['']\n",
      "├── id: ['VJb08f8a2de01a4ef99d3b7fefd9022117ac307531', 'VJ06cd41dcd58d947097df4a8f33234ef423210154', 'VJ1cf651142378958b52229bfe1fa552e49136e60e', 'VJef7f20c3a9bf1419f6401e1e9131fe2c634bcb9a', 'VJf6055fdf9ef0dd6d0500b6c11adcfdd4d10655dc']\n",
      "├── route: ['2722', '1475', '2354', '1792', '772']\n",
      "├── await_departure: [True]\n",
      "└── ordered_stops: ['490000252V.link:1182', '490000252E.link:1198', '490002124ZZ.link:1172', '490010689KB.link:981', '490002121ZT.link:916']\n"
     ]
    }
   ],
   "source": [
    "n.schedule.route_attribute_summary(data=True)"
   ]
  },
  {
   "cell_type": "code",
   "execution_count": 41,
   "metadata": {
    "ExecuteTime": {
     "end_time": "2021-02-12T14:35:01.337631Z",
     "start_time": "2021-02-12T14:35:01.330362Z"
    }
   },
   "outputs": [
    {
     "name": "stdout",
     "output_type": "stream",
     "text": [
      "attribute\n",
      "├── id: ['12430', '20274', '17732', '15234', '15660']\n",
      "└── name: ['N8', 'N20', '134', 'N55', '98']\n"
     ]
    }
   ],
   "source": [
    "n.schedule.service_attribute_summary(data=True)"
   ]
  },
  {
   "cell_type": "markdown",
   "metadata": {},
   "source": [
    "Again, similarly to `Network` objects, we can generate `pandas.DataFrame`s for chosen attributes of Stops, Routes and Services. These dataframes are indexed by the index of the object you query, i.e. Stop ID, Route ID or Service ID. During intantiation of a Schedule object, Route and Service indices are checked and forced to be unique, reindexing them as neccessary."
   ]
  },
  {
   "cell_type": "code",
   "execution_count": 42,
   "metadata": {
    "ExecuteTime": {
     "end_time": "2021-02-12T14:35:01.396553Z",
     "start_time": "2021-02-12T14:35:01.339214Z"
    }
   },
   "outputs": [
    {
     "data": {
      "text/html": [
       "<div>\n",
       "<style scoped>\n",
       "    .dataframe tbody tr th:only-of-type {\n",
       "        vertical-align: middle;\n",
       "    }\n",
       "\n",
       "    .dataframe tbody tr th {\n",
       "        vertical-align: top;\n",
       "    }\n",
       "\n",
       "    .dataframe thead th {\n",
       "        text-align: right;\n",
       "    }\n",
       "</style>\n",
       "<table border=\"1\" class=\"dataframe\">\n",
       "  <thead>\n",
       "    <tr style=\"text-align: right;\">\n",
       "      <th></th>\n",
       "      <th>lat</th>\n",
       "      <th>lon</th>\n",
       "      <th>name</th>\n",
       "    </tr>\n",
       "  </thead>\n",
       "  <tbody>\n",
       "    <tr>\n",
       "      <th>490000235X.link:834</th>\n",
       "      <td>51.516685</td>\n",
       "      <td>-0.128096</td>\n",
       "      <td>Tottenham Court Road Station (Stop X)</td>\n",
       "    </tr>\n",
       "    <tr>\n",
       "      <th>490000235YB.link:574</th>\n",
       "      <td>51.516098</td>\n",
       "      <td>-0.134044</td>\n",
       "      <td>Oxford Street  Soho Street (Stop YB)</td>\n",
       "    </tr>\n",
       "    <tr>\n",
       "      <th>490014214HE.link:3154</th>\n",
       "      <td>51.515923</td>\n",
       "      <td>-0.135392</td>\n",
       "      <td>Wardour Street (Stop OM)</td>\n",
       "    </tr>\n",
       "    <tr>\n",
       "      <th>490010689KB.link:981</th>\n",
       "      <td>51.515472</td>\n",
       "      <td>-0.139893</td>\n",
       "      <td>Great Titchfield Street  Oxford Circus Station...</td>\n",
       "    </tr>\n",
       "    <tr>\n",
       "      <th>490000235P.link:15</th>\n",
       "      <td>51.516762</td>\n",
       "      <td>-0.128295</td>\n",
       "      <td>Tottenham Court Road Station  New Oxford Stree...</td>\n",
       "    </tr>\n",
       "  </tbody>\n",
       "</table>\n",
       "</div>"
      ],
      "text/plain": [
       "                             lat       lon  \\\n",
       "490000235X.link:834    51.516685 -0.128096   \n",
       "490000235YB.link:574   51.516098 -0.134044   \n",
       "490014214HE.link:3154  51.515923 -0.135392   \n",
       "490010689KB.link:981   51.515472 -0.139893   \n",
       "490000235P.link:15     51.516762 -0.128295   \n",
       "\n",
       "                                                                    name  \n",
       "490000235X.link:834                Tottenham Court Road Station (Stop X)  \n",
       "490000235YB.link:574                Oxford Street  Soho Street (Stop YB)  \n",
       "490014214HE.link:3154                           Wardour Street (Stop OM)  \n",
       "490010689KB.link:981   Great Titchfield Street  Oxford Circus Station...  \n",
       "490000235P.link:15     Tottenham Court Road Station  New Oxford Stree...  "
      ]
     },
     "execution_count": 42,
     "metadata": {},
     "output_type": "execute_result"
    }
   ],
   "source": [
    "n.schedule.stop_attribute_data(keys=['lat', 'lon', 'name']).head()"
   ]
  },
  {
   "cell_type": "code",
   "execution_count": 43,
   "metadata": {
    "ExecuteTime": {
     "end_time": "2021-02-12T14:35:01.423040Z",
     "start_time": "2021-02-12T14:35:01.399581Z"
    }
   },
   "outputs": [
    {
     "data": {
      "text/html": [
       "<div>\n",
       "<style scoped>\n",
       "    .dataframe tbody tr th:only-of-type {\n",
       "        vertical-align: middle;\n",
       "    }\n",
       "\n",
       "    .dataframe tbody tr th {\n",
       "        vertical-align: top;\n",
       "    }\n",
       "\n",
       "    .dataframe thead th {\n",
       "        text-align: right;\n",
       "    }\n",
       "</style>\n",
       "<table border=\"1\" class=\"dataframe\">\n",
       "  <thead>\n",
       "    <tr style=\"text-align: right;\">\n",
       "      <th></th>\n",
       "      <th>route_short_name</th>\n",
       "      <th>mode</th>\n",
       "    </tr>\n",
       "  </thead>\n",
       "  <tbody>\n",
       "    <tr>\n",
       "      <th>VJ375a660d47a2aa570aa20a8568012da8497ffecf</th>\n",
       "      <td>N55</td>\n",
       "      <td>bus</td>\n",
       "    </tr>\n",
       "    <tr>\n",
       "      <th>VJ812fad65e7fa418645b57b446f00cba573f2cdaf</th>\n",
       "      <td>N55</td>\n",
       "      <td>bus</td>\n",
       "    </tr>\n",
       "    <tr>\n",
       "      <th>VJ6c64ab7b477e201cae950efde5bd0cb4e2e8888e</th>\n",
       "      <td>N55</td>\n",
       "      <td>bus</td>\n",
       "    </tr>\n",
       "    <tr>\n",
       "      <th>VJb08f8a2de01a4ef99d3b7fefd9022117ac307531</th>\n",
       "      <td>N5</td>\n",
       "      <td>bus</td>\n",
       "    </tr>\n",
       "    <tr>\n",
       "      <th>VJ06cd41dcd58d947097df4a8f33234ef423210154</th>\n",
       "      <td>205</td>\n",
       "      <td>bus</td>\n",
       "    </tr>\n",
       "  </tbody>\n",
       "</table>\n",
       "</div>"
      ],
      "text/plain": [
       "                                           route_short_name mode\n",
       "VJ375a660d47a2aa570aa20a8568012da8497ffecf              N55  bus\n",
       "VJ812fad65e7fa418645b57b446f00cba573f2cdaf              N55  bus\n",
       "VJ6c64ab7b477e201cae950efde5bd0cb4e2e8888e              N55  bus\n",
       "VJb08f8a2de01a4ef99d3b7fefd9022117ac307531               N5  bus\n",
       "VJ06cd41dcd58d947097df4a8f33234ef423210154              205  bus"
      ]
     },
     "execution_count": 43,
     "metadata": {},
     "output_type": "execute_result"
    }
   ],
   "source": [
    "n.schedule.route_attribute_data(keys=['route_short_name', 'mode']).head()"
   ]
  },
  {
   "cell_type": "code",
   "execution_count": 44,
   "metadata": {
    "ExecuteTime": {
     "end_time": "2021-02-12T14:35:01.443206Z",
     "start_time": "2021-02-12T14:35:01.427336Z"
    }
   },
   "outputs": [
    {
     "data": {
      "text/html": [
       "<div>\n",
       "<style scoped>\n",
       "    .dataframe tbody tr th:only-of-type {\n",
       "        vertical-align: middle;\n",
       "    }\n",
       "\n",
       "    .dataframe tbody tr th {\n",
       "        vertical-align: top;\n",
       "    }\n",
       "\n",
       "    .dataframe thead th {\n",
       "        text-align: right;\n",
       "    }\n",
       "</style>\n",
       "<table border=\"1\" class=\"dataframe\">\n",
       "  <thead>\n",
       "    <tr style=\"text-align: right;\">\n",
       "      <th></th>\n",
       "      <th>name</th>\n",
       "    </tr>\n",
       "    <tr>\n",
       "      <th>service_id</th>\n",
       "      <th></th>\n",
       "    </tr>\n",
       "  </thead>\n",
       "  <tbody>\n",
       "    <tr>\n",
       "      <th>20274</th>\n",
       "      <td>N55</td>\n",
       "    </tr>\n",
       "    <tr>\n",
       "      <th>12430</th>\n",
       "      <td>205</td>\n",
       "    </tr>\n",
       "    <tr>\n",
       "      <th>17732</th>\n",
       "      <td>N20</td>\n",
       "    </tr>\n",
       "    <tr>\n",
       "      <th>15234</th>\n",
       "      <td>134</td>\n",
       "    </tr>\n",
       "    <tr>\n",
       "      <th>15660</th>\n",
       "      <td>113</td>\n",
       "    </tr>\n",
       "  </tbody>\n",
       "</table>\n",
       "</div>"
      ],
      "text/plain": [
       "           name\n",
       "service_id     \n",
       "20274       N55\n",
       "12430       205\n",
       "17732       N20\n",
       "15234       134\n",
       "15660       113"
      ]
     },
     "execution_count": 44,
     "metadata": {},
     "output_type": "execute_result"
    }
   ],
   "source": [
    "n.schedule.service_attribute_data(keys='name', index_name='service_id').head()"
   ]
  },
  {
   "cell_type": "markdown",
   "metadata": {},
   "source": [
    "## Extracting Stops, Routes, Services of interest\n",
    "\n",
    "There are times when we need to extract Service, Route or Stop IDs depending on some logic. Building conditions works exactly the same as for links and nodes of `genet.Network` which was presented exhaustively above. Here we present some examples. There are separate methods for `Service`, `Route` or `Stop` objects that return the IDs of these objects if they satisfy the conditions given by the user. Note, `attribute_summary` methods presented above help in building these conditions."
   ]
  },
  {
   "cell_type": "markdown",
   "metadata": {},
   "source": [
    "### In general"
   ]
  },
  {
   "cell_type": "code",
   "execution_count": 45,
   "metadata": {
    "ExecuteTime": {
     "end_time": "2021-02-12T14:35:01.452662Z",
     "start_time": "2021-02-12T14:35:01.445855Z"
    }
   },
   "outputs": [
    {
     "data": {
      "text/plain": [
       "['20274']"
      ]
     },
     "execution_count": 45,
     "metadata": {},
     "output_type": "execute_result"
    }
   ],
   "source": [
    "n.schedule.extract_service_ids_on_attributes(\n",
    "    conditions={'name': 'N55'})"
   ]
  },
  {
   "cell_type": "code",
   "execution_count": 46,
   "metadata": {
    "ExecuteTime": {
     "end_time": "2021-02-12T14:35:01.463687Z",
     "start_time": "2021-02-12T14:35:01.454303Z"
    }
   },
   "outputs": [
    {
     "data": {
      "text/plain": [
       "['VJ375a660d47a2aa570aa20a8568012da8497ffecf',\n",
       " 'VJ812fad65e7fa418645b57b446f00cba573f2cdaf',\n",
       " 'VJ6c64ab7b477e201cae950efde5bd0cb4e2e8888e']"
      ]
     },
     "execution_count": 46,
     "metadata": {},
     "output_type": "execute_result"
    }
   ],
   "source": [
    "n.schedule.extract_route_ids_on_attributes(\n",
    "    conditions=[{'mode': 'bus'}, {'route_short_name': 'N55'}], how=all)[:5]"
   ]
  },
  {
   "cell_type": "code",
   "execution_count": 47,
   "metadata": {
    "ExecuteTime": {
     "end_time": "2021-02-12T14:35:01.476860Z",
     "start_time": "2021-02-12T14:35:01.465341Z"
    }
   },
   "outputs": [
    {
     "data": {
      "text/plain": [
       "['490000235YB.link:574',\n",
       " '490000235P.link:15',\n",
       " '490000173W.link:1868',\n",
       " '490000235Z.link:15']"
      ]
     },
     "execution_count": 47,
     "metadata": {},
     "output_type": "execute_result"
    }
   ],
   "source": [
    "def oxford_street_in_name(attribs):\n",
    "    if 'Oxford Street' in attribs:\n",
    "        return True\n",
    "    else:\n",
    "        return False\n",
    "\n",
    "n.schedule.extract_stop_ids_on_attributes(\n",
    "    conditions={'name': oxford_street_in_name})[:5]"
   ]
  },
  {
   "cell_type": "markdown",
   "metadata": {},
   "source": [
    "There are several common extraction logics we might need. They relate to modes and spatial and temporal logic. Below we go through some convenience methods for those.\n",
    "\n",
    "### Modal\n",
    "\n",
    "Below are convenience methods for extracting object IDs based on the modes they are related to. Note that only `Route` objects actually hold information about their mode of transport. When we extract `Service` of mode `x`, we pick services whose at least one route is of that mode. Similarly with `Stop`s, we extract those used by routes of that mode."
   ]
  },
  {
   "cell_type": "code",
   "execution_count": 48,
   "metadata": {
    "ExecuteTime": {
     "end_time": "2021-02-12T14:35:01.486159Z",
     "start_time": "2021-02-12T14:35:01.480250Z"
    }
   },
   "outputs": [
    {
     "data": {
      "text/plain": [
       "['20274', '12430', '17732', '15234', '15660']"
      ]
     },
     "execution_count": 48,
     "metadata": {},
     "output_type": "execute_result"
    }
   ],
   "source": [
    "n.schedule.services_on_modal_condition(modes='bus')[:5]"
   ]
  },
  {
   "cell_type": "code",
   "execution_count": 49,
   "metadata": {
    "ExecuteTime": {
     "end_time": "2021-02-12T14:35:01.492790Z",
     "start_time": "2021-02-12T14:35:01.487591Z"
    }
   },
   "outputs": [
    {
     "data": {
      "text/plain": [
       "['VJ375a660d47a2aa570aa20a8568012da8497ffecf',\n",
       " 'VJ812fad65e7fa418645b57b446f00cba573f2cdaf',\n",
       " 'VJ6c64ab7b477e201cae950efde5bd0cb4e2e8888e',\n",
       " 'VJb08f8a2de01a4ef99d3b7fefd9022117ac307531',\n",
       " 'VJ06cd41dcd58d947097df4a8f33234ef423210154']"
      ]
     },
     "execution_count": 49,
     "metadata": {},
     "output_type": "execute_result"
    }
   ],
   "source": [
    "n.schedule.routes_on_modal_condition(modes=['bus', 'rail'])[:5]"
   ]
  },
  {
   "cell_type": "code",
   "execution_count": 50,
   "metadata": {
    "ExecuteTime": {
     "end_time": "2021-02-12T14:35:01.502508Z",
     "start_time": "2021-02-12T14:35:01.495227Z"
    }
   },
   "outputs": [
    {
     "data": {
      "text/plain": [
       "['490000235X.link:834',\n",
       " '490000235YB.link:574',\n",
       " '490014214HE.link:3154',\n",
       " '490010689KB.link:981',\n",
       " '490000235P.link:15']"
      ]
     },
     "execution_count": 50,
     "metadata": {},
     "output_type": "execute_result"
    }
   ],
   "source": [
    "n.schedule.stops_on_modal_condition(modes='bus')[:5]"
   ]
  },
  {
   "cell_type": "markdown",
   "metadata": {},
   "source": [
    "### Spatial\n",
    "\n",
    "For spatial extraction conditions, similarly to the `Network` object, you have a choice of:\n",
    "- `shapely.geometry.Polygon` or `shapely.geometry.GeometryCollection` of Polygons (in epsg:4326)\n",
    "- geojson file, can be generated with [http://geojson.io/](http://geojson.io/)\n",
    "- [S2 Geometry hex string which can be generated and copied from http://s2.sidewalklabs.com/regioncoverer](http://s2.sidewalklabs.com/regioncoverer/?center=51.522960%2C-0.144245&zoom=16&cells=48761ad71%2C48761ad723%2C48761ad724c%2C48761ad73c%2C48761ad744%2C48761ad75d3%2C48761ad75d5%2C48761ad765%2C48761ad767%2C48761ad76c%2C48761ad774%2C48761ad779%2C48761ad77b%2C48761ad783%2C48761ad784c%2C48761ad7854%2C48761ad794%2C48761ad79c%2C48761ad7a4%2C48761ad7ac%2C48761ad7b1%2C48761ad7bc)\n",
    "\n",
    "Again, methods exist for `Service`, `Route` or `Stop` objects seperately."
   ]
  },
  {
   "cell_type": "code",
   "execution_count": 51,
   "metadata": {
    "ExecuteTime": {
     "end_time": "2021-02-12T14:35:02.125133Z",
     "start_time": "2021-02-12T14:35:01.505424Z"
    }
   },
   "outputs": [
    {
     "name": "stderr",
     "output_type": "stream",
     "text": [
      "/Users/kasia.kozlowska/pycharm_venvs/genet/lib/python3.7/site-packages/pyproj/crs/crs.py:53: FutureWarning: '+init=<authority>:<code>' syntax is deprecated. '<authority>:<code>' is the preferred initialization method. When making the change, be mindful of axis order changes: https://pyproj4.github.io/pyproj/stable/gotchas.html#axis-order-changes-in-proj-6\n",
      "  return _prepare_from_string(\" \".join(pjargs))\n"
     ]
    },
    {
     "data": {
      "text/plain": [
       "['12430']"
      ]
     },
     "execution_count": 51,
     "metadata": {},
     "output_type": "execute_result"
    }
   ],
   "source": [
    "from shapely.geometry import Polygon\n",
    "\n",
    "region = Polygon([\n",
    "    (-0.1487016677856445, 51.52556684350165), (-0.14063358306884766, 51.5255134425896),\n",
    "    (-0.13865947723388672, 51.5228700191647), (-0.14093399047851562, 51.52006622056997),\n",
    "    (-0.1492595672607422, 51.51974577545329), (-0.1508045196533203, 51.52276321095246),\n",
    "    (-0.1487016677856445, 51.52556684350165)])\n",
    "\n",
    "n.schedule.services_on_spatial_condition(region)"
   ]
  },
  {
   "cell_type": "markdown",
   "metadata": {},
   "source": [
    "There are two options for `Service` and `Route` objects. They can either `intersect` the area, meaning at least one of their `Stop`s lie in the specified area, or be `within` this area."
   ]
  },
  {
   "cell_type": "code",
   "execution_count": 52,
   "metadata": {
    "ExecuteTime": {
     "end_time": "2021-02-12T14:35:02.655263Z",
     "start_time": "2021-02-12T14:35:02.131247Z"
    }
   },
   "outputs": [
    {
     "name": "stderr",
     "output_type": "stream",
     "text": [
      "/Users/kasia.kozlowska/pycharm_venvs/genet/lib/python3.7/site-packages/pyproj/crs/crs.py:53: FutureWarning: '+init=<authority>:<code>' syntax is deprecated. '<authority>:<code>' is the preferred initialization method. When making the change, be mindful of axis order changes: https://pyproj4.github.io/pyproj/stable/gotchas.html#axis-order-changes-in-proj-6\n",
      "  return _prepare_from_string(\" \".join(pjargs))\n"
     ]
    },
    {
     "data": {
      "text/plain": [
       "[]"
      ]
     },
     "execution_count": 52,
     "metadata": {},
     "output_type": "execute_result"
    }
   ],
   "source": [
    "geojson = '../example_data/Fitzrovia_polygon.geojson'\n",
    "\n",
    "# here the area is too small for any routes to be within it\n",
    "n.schedule.routes_on_spatial_condition(geojson, how='within')"
   ]
  },
  {
   "cell_type": "code",
   "execution_count": 53,
   "metadata": {
    "ExecuteTime": {
     "end_time": "2021-02-12T14:35:03.192922Z",
     "start_time": "2021-02-12T14:35:02.657117Z"
    }
   },
   "outputs": [
    {
     "name": "stderr",
     "output_type": "stream",
     "text": [
      "/Users/kasia.kozlowska/pycharm_venvs/genet/lib/python3.7/site-packages/pyproj/crs/crs.py:53: FutureWarning: '+init=<authority>:<code>' syntax is deprecated. '<authority>:<code>' is the preferred initialization method. When making the change, be mindful of axis order changes: https://pyproj4.github.io/pyproj/stable/gotchas.html#axis-order-changes-in-proj-6\n",
      "  return _prepare_from_string(\" \".join(pjargs))\n"
     ]
    },
    {
     "data": {
      "text/plain": [
       "['VJ06cd41dcd58d947097df4a8f33234ef423210154',\n",
       " 'VJf8e38a73359b6cf743d8e35ee64ef1f7b7914daa',\n",
       " 'VJef7f20c3a9bf1419f6401e1e9131fe2c634bcb9a',\n",
       " 'VJ0f3c08222de16c2e278be0a1bf0f9ea47370774e',\n",
       " 'VJeae6e634f8479e0b6712780d5728f0afca964e64']"
      ]
     },
     "execution_count": 53,
     "metadata": {},
     "output_type": "execute_result"
    }
   ],
   "source": [
    "# a lot of routes intersect it however\n",
    "n.schedule.routes_on_spatial_condition(geojson, how='intersect')[:5]"
   ]
  },
  {
   "cell_type": "code",
   "execution_count": 54,
   "metadata": {
    "ExecuteTime": {
     "end_time": "2021-02-12T14:35:03.203061Z",
     "start_time": "2021-02-12T14:35:03.196226Z"
    }
   },
   "outputs": [
    {
     "data": {
      "text/plain": [
       "['490000091H.link:1912', '490000091G.link:1242']"
      ]
     },
     "execution_count": 54,
     "metadata": {},
     "output_type": "execute_result"
    }
   ],
   "source": [
    "hex_region = '48761ad71,48761ad723,48761ad724c,48761ad73c,48761ad744,48761ad75d3,48761ad75d5,48761ad765,48761ad767,48761ad76c,48761ad774,48761ad779,48761ad77b,48761ad783,48761ad784c,48761ad7854,48761ad794,48761ad79c,48761ad7a4,48761ad7ac,48761ad7b1,48761ad7bc'\n",
    "n.schedule.stops_on_spatial_condition(hex_region)"
   ]
  },
  {
   "cell_type": "markdown",
   "metadata": {},
   "source": [
    "### Temporal\n",
    "\n",
    "These methods are under construction. A useful one in the meantime is presented below. It generates a `pandas.DataFrame` of departure and arrival times between all stops for all trips."
   ]
  },
  {
   "cell_type": "code",
   "execution_count": 55,
   "metadata": {
    "ExecuteTime": {
     "end_time": "2021-02-12T14:35:03.369236Z",
     "start_time": "2021-02-12T14:35:03.208807Z"
    }
   },
   "outputs": [
    {
     "data": {
      "text/html": [
       "<div>\n",
       "<style scoped>\n",
       "    .dataframe tbody tr th:only-of-type {\n",
       "        vertical-align: middle;\n",
       "    }\n",
       "\n",
       "    .dataframe tbody tr th {\n",
       "        vertical-align: top;\n",
       "    }\n",
       "\n",
       "    .dataframe thead th {\n",
       "        text-align: right;\n",
       "    }\n",
       "</style>\n",
       "<table border=\"1\" class=\"dataframe\">\n",
       "  <thead>\n",
       "    <tr style=\"text-align: right;\">\n",
       "      <th></th>\n",
       "      <th>arrival_time</th>\n",
       "      <th>mode</th>\n",
       "      <th>service_name</th>\n",
       "      <th>from_stop_name</th>\n",
       "      <th>route</th>\n",
       "      <th>from_stop</th>\n",
       "      <th>departure_time</th>\n",
       "      <th>to_stop_name</th>\n",
       "      <th>service</th>\n",
       "      <th>to_stop</th>\n",
       "      <th>route_name</th>\n",
       "      <th>trip</th>\n",
       "    </tr>\n",
       "  </thead>\n",
       "  <tbody>\n",
       "    <tr>\n",
       "      <th>0</th>\n",
       "      <td>2020-01-01 16:35:25</td>\n",
       "      <td>bus</td>\n",
       "      <td>205</td>\n",
       "      <td>Euston Square (Stop P)</td>\n",
       "      <td>VJ06420fdab0dfe5c8e7f2f9504df05cf6289cd7d3</td>\n",
       "      <td>490000078P.link:1383</td>\n",
       "      <td>2020-01-01 16:33:42</td>\n",
       "      <td>University College Hosp Warren Street Stn (Sto...</td>\n",
       "      <td>12430</td>\n",
       "      <td>4900020147W.link:2634</td>\n",
       "      <td>205</td>\n",
       "      <td>VJ03f4f8905d6dc7868242f3fd29828ee9b366a906_16:...</td>\n",
       "    </tr>\n",
       "    <tr>\n",
       "      <th>1</th>\n",
       "      <td>2020-01-01 16:37:08</td>\n",
       "      <td>bus</td>\n",
       "      <td>205</td>\n",
       "      <td>University College Hosp Warren Street Stn (Sto...</td>\n",
       "      <td>VJ06420fdab0dfe5c8e7f2f9504df05cf6289cd7d3</td>\n",
       "      <td>4900020147W.link:2634</td>\n",
       "      <td>2020-01-01 16:35:25</td>\n",
       "      <td>Warren Street Station (Stop V)</td>\n",
       "      <td>12430</td>\n",
       "      <td>490000252V.link:1182</td>\n",
       "      <td>205</td>\n",
       "      <td>VJ03f4f8905d6dc7868242f3fd29828ee9b366a906_16:...</td>\n",
       "    </tr>\n",
       "    <tr>\n",
       "      <th>2</th>\n",
       "      <td>2020-01-01 16:38:51</td>\n",
       "      <td>bus</td>\n",
       "      <td>205</td>\n",
       "      <td>Warren Street Station (Stop V)</td>\n",
       "      <td>VJ06420fdab0dfe5c8e7f2f9504df05cf6289cd7d3</td>\n",
       "      <td>490000252V.link:1182</td>\n",
       "      <td>2020-01-01 16:37:08</td>\n",
       "      <td>Great Portland Street (Stop G)</td>\n",
       "      <td>12430</td>\n",
       "      <td>490000091G.link:1242</td>\n",
       "      <td>205</td>\n",
       "      <td>VJ03f4f8905d6dc7868242f3fd29828ee9b366a906_16:...</td>\n",
       "    </tr>\n",
       "    <tr>\n",
       "      <th>3</th>\n",
       "      <td>2020-01-01 16:40:34</td>\n",
       "      <td>bus</td>\n",
       "      <td>205</td>\n",
       "      <td>Great Portland Street (Stop G)</td>\n",
       "      <td>VJ06420fdab0dfe5c8e7f2f9504df05cf6289cd7d3</td>\n",
       "      <td>490000091G.link:1242</td>\n",
       "      <td>2020-01-01 16:38:51</td>\n",
       "      <td>Regent's Park (Stop B)</td>\n",
       "      <td>12430</td>\n",
       "      <td>490000191B.link:305</td>\n",
       "      <td>205</td>\n",
       "      <td>VJ03f4f8905d6dc7868242f3fd29828ee9b366a906_16:...</td>\n",
       "    </tr>\n",
       "    <tr>\n",
       "      <th>4</th>\n",
       "      <td>2020-01-01 16:42:17</td>\n",
       "      <td>bus</td>\n",
       "      <td>205</td>\n",
       "      <td>Regent's Park (Stop B)</td>\n",
       "      <td>VJ06420fdab0dfe5c8e7f2f9504df05cf6289cd7d3</td>\n",
       "      <td>490000191B.link:305</td>\n",
       "      <td>2020-01-01 16:40:34</td>\n",
       "      <td>Harley Street (Stop L)</td>\n",
       "      <td>12430</td>\n",
       "      <td>490007807W.link:2922</td>\n",
       "      <td>205</td>\n",
       "      <td>VJ03f4f8905d6dc7868242f3fd29828ee9b366a906_16:...</td>\n",
       "    </tr>\n",
       "  </tbody>\n",
       "</table>\n",
       "</div>"
      ],
      "text/plain": [
       "         arrival_time mode service_name  \\\n",
       "0 2020-01-01 16:35:25  bus          205   \n",
       "1 2020-01-01 16:37:08  bus          205   \n",
       "2 2020-01-01 16:38:51  bus          205   \n",
       "3 2020-01-01 16:40:34  bus          205   \n",
       "4 2020-01-01 16:42:17  bus          205   \n",
       "\n",
       "                                      from_stop_name  \\\n",
       "0                             Euston Square (Stop P)   \n",
       "1  University College Hosp Warren Street Stn (Sto...   \n",
       "2                     Warren Street Station (Stop V)   \n",
       "3                     Great Portland Street (Stop G)   \n",
       "4                             Regent's Park (Stop B)   \n",
       "\n",
       "                                        route              from_stop  \\\n",
       "0  VJ06420fdab0dfe5c8e7f2f9504df05cf6289cd7d3   490000078P.link:1383   \n",
       "1  VJ06420fdab0dfe5c8e7f2f9504df05cf6289cd7d3  4900020147W.link:2634   \n",
       "2  VJ06420fdab0dfe5c8e7f2f9504df05cf6289cd7d3   490000252V.link:1182   \n",
       "3  VJ06420fdab0dfe5c8e7f2f9504df05cf6289cd7d3   490000091G.link:1242   \n",
       "4  VJ06420fdab0dfe5c8e7f2f9504df05cf6289cd7d3    490000191B.link:305   \n",
       "\n",
       "       departure_time                                       to_stop_name  \\\n",
       "0 2020-01-01 16:33:42  University College Hosp Warren Street Stn (Sto...   \n",
       "1 2020-01-01 16:35:25                     Warren Street Station (Stop V)   \n",
       "2 2020-01-01 16:37:08                     Great Portland Street (Stop G)   \n",
       "3 2020-01-01 16:38:51                             Regent's Park (Stop B)   \n",
       "4 2020-01-01 16:40:34                             Harley Street (Stop L)   \n",
       "\n",
       "  service                to_stop route_name  \\\n",
       "0   12430  4900020147W.link:2634        205   \n",
       "1   12430   490000252V.link:1182        205   \n",
       "2   12430   490000091G.link:1242        205   \n",
       "3   12430    490000191B.link:305        205   \n",
       "4   12430   490007807W.link:2922        205   \n",
       "\n",
       "                                                trip  \n",
       "0  VJ03f4f8905d6dc7868242f3fd29828ee9b366a906_16:...  \n",
       "1  VJ03f4f8905d6dc7868242f3fd29828ee9b366a906_16:...  \n",
       "2  VJ03f4f8905d6dc7868242f3fd29828ee9b366a906_16:...  \n",
       "3  VJ03f4f8905d6dc7868242f3fd29828ee9b366a906_16:...  \n",
       "4  VJ03f4f8905d6dc7868242f3fd29828ee9b366a906_16:...  "
      ]
     },
     "execution_count": 55,
     "metadata": {},
     "output_type": "execute_result"
    }
   ],
   "source": [
    "n.schedule.generate_trips_dataframe(gtfs_day='20200101').head()"
   ]
  },
  {
   "cell_type": "markdown",
   "metadata": {},
   "source": [
    "## Accessing `Stop`, `Route`, `Service` objects"
   ]
  },
  {
   "cell_type": "markdown",
   "metadata": {},
   "source": [
    "Once you extract IDs of interest, you can access these objects. You can also modify them, check out the Modify Network notebook for usage examples.\n",
    "\n",
    "Each `Service` is indexed and can be accessed by its' ID. It also has a plot method."
   ]
  },
  {
   "cell_type": "code",
   "execution_count": 56,
   "metadata": {
    "ExecuteTime": {
     "end_time": "2021-02-12T14:35:03.382650Z",
     "start_time": "2021-02-12T14:35:03.371048Z"
    }
   },
   "outputs": [
    {
     "data": {
      "text/plain": [
       "['20274', '12430', '17732', '15234', '15660']"
      ]
     },
     "execution_count": 56,
     "metadata": {},
     "output_type": "execute_result"
    }
   ],
   "source": [
    "n.schedule.service_ids()[:5]"
   ]
  },
  {
   "cell_type": "code",
   "execution_count": 57,
   "metadata": {
    "ExecuteTime": {
     "end_time": "2021-02-12T14:35:03.392035Z",
     "start_time": "2021-02-12T14:35:03.387393Z"
    }
   },
   "outputs": [
    {
     "name": "stdout",
     "output_type": "stream",
     "text": [
      "Service ID: 12430\n",
      "Name: 205\n",
      "Number of routes: 12\n",
      "Number of stops: 11\n"
     ]
    }
   ],
   "source": [
    "service = n.schedule['12430']\n",
    "service.print()"
   ]
  },
  {
   "cell_type": "code",
   "execution_count": 58,
   "metadata": {
    "ExecuteTime": {
     "end_time": "2021-02-12T14:35:03.574255Z",
     "start_time": "2021-02-12T14:35:03.393727Z"
    }
   },
   "outputs": [
    {
     "name": "stderr",
     "output_type": "stream",
     "text": [
      "/Users/kasia.kozlowska/pycharm_venvs/genet/lib/python3.7/site-packages/pyproj/crs/crs.py:53: FutureWarning: '+init=<authority>:<code>' syntax is deprecated. '<authority>:<code>' is the preferred initialization method. When making the change, be mindful of axis order changes: https://pyproj4.github.io/pyproj/stable/gotchas.html#axis-order-changes-in-proj-6\n",
      "  return _prepare_from_string(\" \".join(pjargs))\n",
      "/Users/kasia.kozlowska/pycharm_venvs/genet/lib/python3.7/site-packages/pyproj/crs/crs.py:53: FutureWarning: '+init=<authority>:<code>' syntax is deprecated. '<authority>:<code>' is the preferred initialization method. When making the change, be mindful of axis order changes: https://pyproj4.github.io/pyproj/stable/gotchas.html#axis-order-changes-in-proj-6\n",
      "  return _prepare_from_string(\" \".join(pjargs))\n"
     ]
    },
    {
     "data": {
      "image/png": "[encoded data removed]",
      "text/plain": [
       "<Figure size 576x576 with 1 Axes>"
      ]
     },
     "metadata": {},
     "output_type": "display_data"
    },
    {
     "data": {
      "text/plain": [
       "(<Figure size 576x576 with 1 Axes>,\n",
       " <matplotlib.axes._subplots.AxesSubplot at 0x119de4ef0>)"
      ]
     },
     "execution_count": 58,
     "metadata": {},
     "output_type": "execute_result"
    }
   ],
   "source": [
    "service.plot()"
   ]
  },
  {
   "cell_type": "markdown",
   "metadata": {},
   "source": [
    "Similarly, each `Route` is indexed and can be accessed by its' id. It also has a plot method."
   ]
  },
  {
   "cell_type": "code",
   "execution_count": 59,
   "metadata": {
    "ExecuteTime": {
     "end_time": "2021-02-12T14:35:03.585284Z",
     "start_time": "2021-02-12T14:35:03.576537Z"
    }
   },
   "outputs": [
    {
     "data": {
      "text/plain": [
       "['VJ375a660d47a2aa570aa20a8568012da8497ffecf',\n",
       " 'VJ812fad65e7fa418645b57b446f00cba573f2cdaf',\n",
       " 'VJ6c64ab7b477e201cae950efde5bd0cb4e2e8888e',\n",
       " 'VJb08f8a2de01a4ef99d3b7fefd9022117ac307531',\n",
       " 'VJ06cd41dcd58d947097df4a8f33234ef423210154']"
      ]
     },
     "execution_count": 59,
     "metadata": {},
     "output_type": "execute_result"
    }
   ],
   "source": [
    "n.schedule.route_ids()[:5]"
   ]
  },
  {
   "cell_type": "code",
   "execution_count": 60,
   "metadata": {
    "ExecuteTime": {
     "end_time": "2021-02-12T14:35:03.592643Z",
     "start_time": "2021-02-12T14:35:03.587679Z"
    }
   },
   "outputs": [
    {
     "name": "stdout",
     "output_type": "stream",
     "text": [
      "Route ID: VJ948e8caa0f08b9c6bf6330927893942c474b5100\n",
      "Name: 205\n",
      "Number of stops: 5\n",
      "Number of trips: 10\n"
     ]
    }
   ],
   "source": [
    "route = n.schedule.route('VJ948e8caa0f08b9c6bf6330927893942c474b5100')\n",
    "route.print()"
   ]
  },
  {
   "cell_type": "code",
   "execution_count": 61,
   "metadata": {
    "ExecuteTime": {
     "end_time": "2021-02-12T14:35:03.800479Z",
     "start_time": "2021-02-12T14:35:03.598084Z"
    }
   },
   "outputs": [
    {
     "name": "stderr",
     "output_type": "stream",
     "text": [
      "/Users/kasia.kozlowska/pycharm_venvs/genet/lib/python3.7/site-packages/pyproj/crs/crs.py:53: FutureWarning: '+init=<authority>:<code>' syntax is deprecated. '<authority>:<code>' is the preferred initialization method. When making the change, be mindful of axis order changes: https://pyproj4.github.io/pyproj/stable/gotchas.html#axis-order-changes-in-proj-6\n",
      "  return _prepare_from_string(\" \".join(pjargs))\n"
     ]
    },
    {
     "data": {
      "image/png": "[encoded data removed]",
      "text/plain": [
       "<Figure size 576x576 with 1 Axes>"
      ]
     },
     "metadata": {},
     "output_type": "display_data"
    },
    {
     "data": {
      "text/plain": [
       "(<Figure size 576x576 with 1 Axes>,\n",
       " <matplotlib.axes._subplots.AxesSubplot at 0x119dea710>)"
      ]
     },
     "execution_count": 61,
     "metadata": {},
     "output_type": "execute_result"
    }
   ],
   "source": [
    "route.plot()"
   ]
  },
  {
   "cell_type": "markdown",
   "metadata": {},
   "source": [
    "Finally, each `Stop` is indexed too, and can be accessed by its' id. "
   ]
  },
  {
   "cell_type": "code",
   "execution_count": 62,
   "metadata": {
    "ExecuteTime": {
     "end_time": "2021-02-12T14:35:03.820657Z",
     "start_time": "2021-02-12T14:35:03.807704Z"
    }
   },
   "outputs": [
    {
     "name": "stdout",
     "output_type": "stream",
     "text": [
      "Stop ID: 490007807E.link:1154\n",
      "Projection: epsg:27700\n",
      "Lat, Lon: 51.52336503, -0.14951799\n",
      "linkRefId: 1154\n"
     ]
    }
   ],
   "source": [
    "stop = n.schedule.stop('490007807E.link:1154')\n",
    "stop.print()"
   ]
  },
  {
   "cell_type": "code",
   "execution_count": null,
   "metadata": {},
   "outputs": [],
   "source": []
  }
 ],
 "metadata": {
  "kernelspec": {
   "display_name": "Python (genet)",
   "language": "python",
   "name": "genet"
  },
  "language_info": {
   "codemirror_mode": {
    "name": "ipython",
    "version": 3
   },
   "file_extension": ".py",
   "mimetype": "text/x-python",
   "name": "python",
   "nbconvert_exporter": "python",
   "pygments_lexer": "ipython3",
   "version": "3.7.0"
  },
  "latex_envs": {
   "LaTeX_envs_menu_present": true,
   "autoclose": true,
   "autocomplete": true,
   "bibliofile": "biblio.bib",
   "cite_by": "apalike",
   "current_citInitial": 1,
   "eqLabelWithNumbers": true,
   "eqNumInitial": 1,
   "hotkeys": {
    "equation": "Ctrl-E",
    "itemize": "Ctrl-I"
   },
   "labels_anchors": false,
   "latex_user_defs": false,
   "report_style_numbering": false,
   "user_envs_cfg": false
  },
  "toc": {
   "base_numbering": 1,
   "nav_menu": {},
   "number_sections": true,
   "sideBar": true,
   "skip_h1_title": false,
   "title_cell": "Table of Contents",
   "title_sidebar": "Contents",
   "toc_cell": false,
   "toc_position": {},
   "toc_section_display": true,
   "toc_window_display": false
  },
  "varInspector": {
   "cols": {
    "lenName": 16,
    "lenType": 16,
    "lenVar": 40
   },
   "kernels_config": {
    "python": {
     "delete_cmd_postfix": "",
     "delete_cmd_prefix": "del ",
     "library": "var_list.py",
     "varRefreshCmd": "print(var_dic_list())"
    },
    "r": {
     "delete_cmd_postfix": ") ",
     "delete_cmd_prefix": "rm(",
     "library": "var_list.r",
     "varRefreshCmd": "cat(var_dic_list()) "
    }
   },
   "types_to_exclude": [
    "module",
    "function",
    "builtin_function_or_method",
    "instance",
    "_Feature"
   ],
   "window_display": false
  }
 },
 "nbformat": 4,
 "nbformat_minor": 2
}
