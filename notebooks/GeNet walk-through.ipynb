{
 "cells": [
  {
   "cell_type": "markdown",
   "metadata": {},
   "source": [
    "# GeNet walk-through"
   ]
  },
  {
   "cell_type": "markdown",
   "metadata": {},
   "source": [
    "## Reading in a network"
   ]
  },
  {
   "cell_type": "code",
   "execution_count": 1,
   "metadata": {
    "ExecuteTime": {
     "end_time": "2020-06-15T14:29:21.249897Z",
     "start_time": "2020-06-15T14:29:20.148584Z"
    }
   },
   "outputs": [],
   "source": [
    "import genet as gn\n",
    "import pandas as pd\n",
    "import networkx as nx\n",
    "import os"
   ]
  },
  {
   "cell_type": "code",
   "execution_count": 2,
   "metadata": {
    "ExecuteTime": {
     "end_time": "2020-06-15T14:29:21.255834Z",
     "start_time": "2020-06-15T14:29:21.252630Z"
    }
   },
   "outputs": [],
   "source": [
    "path_to_matsim_network = '/Users/kasia.kozlowska/PycharmProjects/ABM/genet/example_data/pt2matsim_network'"
   ]
  },
  {
   "cell_type": "code",
   "execution_count": 3,
   "metadata": {
    "ExecuteTime": {
     "end_time": "2020-06-15T14:29:21.272344Z",
     "start_time": "2020-06-15T14:29:21.259356Z"
    }
   },
   "outputs": [],
   "source": [
    "n = gn.Network()"
   ]
  },
  {
   "cell_type": "code",
   "execution_count": 4,
   "metadata": {
    "ExecuteTime": {
     "end_time": "2020-06-15T14:29:21.288406Z",
     "start_time": "2020-06-15T14:29:21.274498Z"
    }
   },
   "outputs": [
    {
     "data": {
      "text/plain": [
       "<Network instance at 4661589072: with \n",
       "graph: Name: \n",
       "Type: MultiDiGraph\n",
       "Number of nodes: 0\n",
       "Number of edges: 0\n",
       " and \n",
       "schedule Number of services: 0\n",
       "Number of unique routes: 0"
      ]
     },
     "execution_count": 4,
     "metadata": {},
     "output_type": "execute_result"
    }
   ],
   "source": [
    "n"
   ]
  },
  {
   "cell_type": "code",
   "execution_count": 5,
   "metadata": {
    "ExecuteTime": {
     "end_time": "2020-06-15T14:29:21.295268Z",
     "start_time": "2020-06-15T14:29:21.289757Z"
    }
   },
   "outputs": [],
   "source": [
    "network = os.path.join(path_to_matsim_network, 'network.xml')\n",
    "schedule = os.path.join(path_to_matsim_network, 'schedule.xml')"
   ]
  },
  {
   "cell_type": "code",
   "execution_count": 6,
   "metadata": {
    "ExecuteTime": {
     "end_time": "2020-06-15T14:29:21.885292Z",
     "start_time": "2020-06-15T14:29:21.296771Z"
    }
   },
   "outputs": [],
   "source": [
    "n.read_matsim_network(network, epsg='epsg:27700')"
   ]
  },
  {
   "cell_type": "code",
   "execution_count": 7,
   "metadata": {
    "ExecuteTime": {
     "end_time": "2020-06-15T14:29:22.907248Z",
     "start_time": "2020-06-15T14:29:21.886913Z"
    }
   },
   "outputs": [],
   "source": [
    "n.read_matsim_schedule(schedule, epsg='epsg:27700')"
   ]
  },
  {
   "cell_type": "code",
   "execution_count": 8,
   "metadata": {
    "ExecuteTime": {
     "end_time": "2020-06-15T14:29:22.935830Z",
     "start_time": "2020-06-15T14:29:22.914930Z"
    }
   },
   "outputs": [
    {
     "data": {
      "text/plain": [
       "<Network instance at 4661589072: with \n",
       "graph: Name: \n",
       "Type: MultiDiGraph\n",
       "Number of nodes: 1662\n",
       "Number of edges: 3166\n",
       "Average in degree:   1.9049\n",
       "Average out degree:   1.9049 and \n",
       "schedule Number of services: 62\n",
       "Number of unique routes: 520"
      ]
     },
     "execution_count": 8,
     "metadata": {},
     "output_type": "execute_result"
    }
   ],
   "source": [
    "n"
   ]
  },
  {
   "cell_type": "code",
   "execution_count": 9,
   "metadata": {
    "ExecuteTime": {
     "end_time": "2020-06-15T14:29:22.950778Z",
     "start_time": "2020-06-15T14:29:22.940242Z"
    }
   },
   "outputs": [
    {
     "data": {
      "text/plain": [
       "('101982',\n",
       " {'id': '101982',\n",
       "  'x': '528704.1425925883',\n",
       "  'y': '182068.78193707118',\n",
       "  'lon': -0.14625948709424305,\n",
       "  'lat': 51.52287873323954,\n",
       "  's2_id': 5221390329378179879})"
      ]
     },
     "execution_count": 9,
     "metadata": {},
     "output_type": "execute_result"
    }
   ],
   "source": [
    "list(n.nodes())[0]"
   ]
  },
  {
   "cell_type": "code",
   "execution_count": 10,
   "metadata": {
    "ExecuteTime": {
     "end_time": "2020-06-15T14:29:22.977973Z",
     "start_time": "2020-06-15T14:29:22.952413Z"
    }
   },
   "outputs": [
    {
     "data": {
      "text/plain": [
       "('1',\n",
       " {'id': '1',\n",
       "  'from': '25508485',\n",
       "  'to': '21667818',\n",
       "  'freespeed': 4.166666666666667,\n",
       "  'capacity': 600.0,\n",
       "  'permlanes': 1.0,\n",
       "  'oneway': '1',\n",
       "  'modes': ['car'],\n",
       "  's2_from': 5221390301001263407,\n",
       "  's2_to': 5221390302696205321,\n",
       "  'length': 52.765151087870265,\n",
       "  'attributes': {'osm:way:access': {'name': 'osm:way:access',\n",
       "    'class': 'java.lang.String',\n",
       "    'text': 'permissive'},\n",
       "   'osm:way:highway': {'name': 'osm:way:highway',\n",
       "    'class': 'java.lang.String',\n",
       "    'text': 'unclassified'},\n",
       "   'osm:way:id': {'name': 'osm:way:id',\n",
       "    'class': 'java.lang.Long',\n",
       "    'text': '26997928'},\n",
       "   'osm:way:name': {'name': 'osm:way:name',\n",
       "    'class': 'java.lang.String',\n",
       "    'text': 'Brunswick Place'}}})"
      ]
     },
     "execution_count": 10,
     "metadata": {},
     "output_type": "execute_result"
    }
   ],
   "source": [
    "list(n.links())[0]"
   ]
  },
  {
   "cell_type": "markdown",
   "metadata": {},
   "source": [
    "## Using the `Network` object"
   ]
  },
  {
   "cell_type": "markdown",
   "metadata": {},
   "source": [
    "### Summary\n",
    "\n",
    "The data saved on the edges or nodes of the graph can be nested. There are a couple of convenient methods that summarise the schema of the data found on the nodes and links. If `data=True`, the output also shows up to 5 unique values stored in that location."
   ]
  },
  {
   "cell_type": "code",
   "execution_count": 11,
   "metadata": {
    "ExecuteTime": {
     "end_time": "2020-06-15T14:29:23.420183Z",
     "start_time": "2020-06-15T14:29:22.979474Z"
    }
   },
   "outputs": [
    {
     "name": "stdout",
     "output_type": "stream",
     "text": [
      "attribute\n",
      "├── id: ['1852698147', '11510326', '1614978621', '823536', '107345']\n",
      "├── x: ['528670.7252634836', '530130.7301176484', '529644.0455118616', '530610.2672353121', '528975.1246094264']\n",
      "├── y: ['182146.14924995502', '181812.21473778482', '181161.3441473061', '181294.61262175092', '182419.56041817705']\n",
      "├── lon: [-0.15178558709839862, -0.15872448710537235, -0.13569068709168342, -0.13766218709633904, -0.13543658708819173]\n",
      "├── lat: [51.51609983324067, 51.5182034332405, 51.51504733324089, 51.522253033239515, 51.522948433239556]\n",
      "└── s2_id: [5221390710015643649, 5221390314367946753, 5221366508477440003, 5221390682291777543, 5221390739236081673]\n"
     ]
    }
   ],
   "source": [
    "n.node_attribute_summary(data=True)"
   ]
  },
  {
   "cell_type": "code",
   "execution_count": 12,
   "metadata": {
    "ExecuteTime": {
     "end_time": "2020-06-15T14:29:25.526849Z",
     "start_time": "2020-06-15T14:29:23.422741Z"
    }
   },
   "outputs": [
    {
     "name": "stdout",
     "output_type": "stream",
     "text": [
      "attribute\n",
      "├── id: ['120', '2464', '3003', '1223', '443']\n",
      "├── from: ['1852698147', '11510326', '1614978621', '823536', '107345']\n",
      "├── to: ['1852698147', '11510326', '1614978621', '823536', '107345']\n",
      "├── freespeed: [2.7777777777777777, 4.166666666666667, 5.0, 6.944444444444445, 8.333333333333334]\n",
      "├── capacity: [4000.0, 8000.0, 12000.0, 1000.0, 1800.0]\n",
      "├── permlanes: [1.0, 2.0, 3.0, 4.0, 5.0]\n",
      "├── oneway: ['1']\n",
      "├── modes: ['pt', 'artificial', 'bus', 'car']\n",
      "├── s2_from: [5221390710015643649, 5221390314367946753, 5221366508477440003, 5221390682291777543, 5221390739236081673]\n",
      "├── s2_to: [5221390710015643649, 5221390314367946753, 5221366508477440003, 5221390682291777543, 5221390739236081673]\n",
      "├── length: [2.6358639819628706, 3.5904978805887175, 4.599609949197294, 4.620218895820138, 5.8016284584454105]\n",
      "└── attributes\n",
      "    ├── osm:way:access\n",
      "    │   ├── name: ['osm:way:access']\n",
      "    │   ├── class: ['java.lang.String']\n",
      "    │   └── text: ['no', 'destination', 'permissive', 'yes', 'private']\n",
      "    ├── osm:way:highway\n",
      "    │   ├── name: ['osm:way:highway']\n",
      "    │   ├── class: ['java.lang.String']\n",
      "    │   └── text: ['tertiary', 'secondary_link', 'trunk', 'trunk_link', 'living_street']\n",
      "    ├── osm:way:id\n",
      "    │   ├── name: ['osm:way:id']\n",
      "    │   ├── class: ['java.lang.Long']\n",
      "    │   └── text: ['232724588', '677357550', '527537175', '587315169', '4074189']\n",
      "    ├── osm:way:name\n",
      "    │   ├── name: ['osm:way:name']\n",
      "    │   ├── class: ['java.lang.String']\n",
      "    │   └── text: ['Barbon Close', 'Devonshire Street', 'Nassau Street', 'Langham Street', 'Flitcroft Street']\n",
      "    ├── osm:relation:route\n",
      "    │   ├── name: ['osm:relation:route']\n",
      "    │   ├── class: ['java.lang.String']\n",
      "    │   └── text: ['bus,bicycle', 'road', 'bus,bicycle,road', 'bus,historic,bicycle', 'bicycle']\n",
      "    ├── osm:way:lanes\n",
      "    │   ├── name: ['osm:way:lanes']\n",
      "    │   ├── class: ['java.lang.String']\n",
      "    │   └── text: ['2', None, '6', '1', '3']\n",
      "    ├── osm:way:oneway\n",
      "    │   ├── name: ['osm:way:oneway']\n",
      "    │   ├── class: ['java.lang.String']\n",
      "    │   └── text: ['no', 'yes']\n",
      "    ├── osm:way:tunnel\n",
      "    │   ├── name: ['osm:way:tunnel']\n",
      "    │   ├── class: ['java.lang.String']\n",
      "    │   └── text: ['building_passage', 'yes']\n",
      "    ├── osm:way:psv\n",
      "    │   ├── name: ['osm:way:psv']\n",
      "    │   ├── class: ['java.lang.String']\n",
      "    │   └── text: ['destination', 'yes']\n",
      "    ├── osm:way:vehicle\n",
      "    │   ├── name: ['osm:way:vehicle']\n",
      "    │   ├── class: ['java.lang.String']\n",
      "    │   └── text: ['no', 'private']\n",
      "    ├── osm:way:traffic_calming\n",
      "    │   ├── name: ['osm:way:traffic_calming']\n",
      "    │   ├── class: ['java.lang.String']\n",
      "    │   └── text: ['cushion', 'hump', 'choker', 'table']\n",
      "    ├── osm:way:junction\n",
      "    │   ├── name: ['osm:way:junction']\n",
      "    │   ├── class: ['java.lang.String']\n",
      "    │   └── text: ['roundabout']\n",
      "    └── osm:way:service\n",
      "        ├── name: ['osm:way:service']\n",
      "        ├── class: ['java.lang.String']\n",
      "        └── text: ['bus']\n"
     ]
    }
   ],
   "source": [
    "n.link_attribute_summary(data=True)"
   ]
  },
  {
   "cell_type": "markdown",
   "metadata": {},
   "source": [
    "Once you see the general schema for the data stored on nodes and links, you may decide to look at or perform analysis \n",
    "on all of the data stored in the netowrk under a particular key. A GeNet network has two methods which generate a\n",
    "`pandas.Series` object, which stores the nodes or links data present at the specified key, indexed by the same index \n",
    "as the nodes or links."
   ]
  },
  {
   "cell_type": "code",
   "execution_count": 13,
   "metadata": {
    "ExecuteTime": {
     "end_time": "2020-06-15T14:29:25.541347Z",
     "start_time": "2020-06-15T14:29:25.531098Z"
    }
   },
   "outputs": [],
   "source": [
    "s2_id = n.node_attribute_data_under_key('s2_id')"
   ]
  },
  {
   "cell_type": "code",
   "execution_count": 14,
   "metadata": {
    "ExecuteTime": {
     "end_time": "2020-06-15T14:29:25.551358Z",
     "start_time": "2020-06-15T14:29:25.543482Z"
    }
   },
   "outputs": [
    {
     "data": {
      "text/plain": [
       "101982       5221390329378179879\n",
       "101986       5221390328605860387\n",
       "101990       5221390304444511271\n",
       "101991       5221390303978897267\n",
       "101992       5221390304897644929\n",
       "                    ...         \n",
       "983839058    5221390693831817171\n",
       "99936        5221390297975475113\n",
       "99937        5221390299484831045\n",
       "99940        5221390294354743413\n",
       "99943        5221390298004852605\n",
       "Length: 1662, dtype: int64"
      ]
     },
     "execution_count": 14,
     "metadata": {},
     "output_type": "execute_result"
    }
   ],
   "source": [
    "s2_id"
   ]
  },
  {
   "cell_type": "code",
   "execution_count": 15,
   "metadata": {
    "ExecuteTime": {
     "end_time": "2020-06-15T14:29:25.602274Z",
     "start_time": "2020-06-15T14:29:25.554757Z"
    }
   },
   "outputs": [
    {
     "data": {
      "text/plain": [
       "1       4.166667\n",
       "10      4.166667\n",
       "100     4.166667\n",
       "1000    4.166667\n",
       "1001    4.166667\n",
       "dtype: float64"
      ]
     },
     "execution_count": 15,
     "metadata": {},
     "output_type": "execute_result"
    }
   ],
   "source": [
    "n.link_attribute_data_under_key('freespeed').head()"
   ]
  },
  {
   "cell_type": "markdown",
   "metadata": {},
   "source": [
    "Or you can access nested data,"
   ]
  },
  {
   "cell_type": "code",
   "execution_count": 16,
   "metadata": {
    "ExecuteTime": {
     "end_time": "2020-06-15T14:29:25.646245Z",
     "start_time": "2020-06-15T14:29:25.605179Z"
    }
   },
   "outputs": [
    {
     "data": {
      "text/plain": [
       "1007    2\n",
       "1008    2\n",
       "1037    2\n",
       "1038    2\n",
       "1039    2\n",
       "dtype: object"
      ]
     },
     "execution_count": 16,
     "metadata": {},
     "output_type": "execute_result"
    }
   ],
   "source": [
    "n.link_attribute_data_under_key({'attributes': {'osm:way:lanes': 'text'}}).head()"
   ]
  },
  {
   "cell_type": "markdown",
   "metadata": {},
   "source": [
    "You can also build a `pandas.DataFrame` out of several keys."
   ]
  },
  {
   "cell_type": "code",
   "execution_count": 17,
   "metadata": {
    "ExecuteTime": {
     "end_time": "2020-06-15T14:29:25.767357Z",
     "start_time": "2020-06-15T14:29:25.648979Z"
    }
   },
   "outputs": [
    {
     "data": {
      "text/html": [
       "<div>\n",
       "<style scoped>\n",
       "    .dataframe tbody tr th:only-of-type {\n",
       "        vertical-align: middle;\n",
       "    }\n",
       "\n",
       "    .dataframe tbody tr th {\n",
       "        vertical-align: top;\n",
       "    }\n",
       "\n",
       "    .dataframe thead th {\n",
       "        text-align: right;\n",
       "    }\n",
       "</style>\n",
       "<table border=\"1\" class=\"dataframe\">\n",
       "  <thead>\n",
       "    <tr style=\"text-align: right;\">\n",
       "      <th></th>\n",
       "      <th>freespeed</th>\n",
       "      <th>attributes::osm:way:highway::text</th>\n",
       "    </tr>\n",
       "  </thead>\n",
       "  <tbody>\n",
       "    <tr>\n",
       "      <th>1</th>\n",
       "      <td>4.166667</td>\n",
       "      <td>unclassified</td>\n",
       "    </tr>\n",
       "    <tr>\n",
       "      <th>10</th>\n",
       "      <td>4.166667</td>\n",
       "      <td>unclassified</td>\n",
       "    </tr>\n",
       "    <tr>\n",
       "      <th>100</th>\n",
       "      <td>4.166667</td>\n",
       "      <td>unclassified</td>\n",
       "    </tr>\n",
       "    <tr>\n",
       "      <th>1000</th>\n",
       "      <td>4.166667</td>\n",
       "      <td>residential</td>\n",
       "    </tr>\n",
       "    <tr>\n",
       "      <th>1001</th>\n",
       "      <td>4.166667</td>\n",
       "      <td>residential</td>\n",
       "    </tr>\n",
       "  </tbody>\n",
       "</table>\n",
       "</div>"
      ],
      "text/plain": [
       "      freespeed attributes::osm:way:highway::text\n",
       "1      4.166667                      unclassified\n",
       "10     4.166667                      unclassified\n",
       "100    4.166667                      unclassified\n",
       "1000   4.166667                       residential\n",
       "1001   4.166667                       residential"
      ]
     },
     "execution_count": 17,
     "metadata": {},
     "output_type": "execute_result"
    }
   ],
   "source": [
    "n.link_attribute_data_under_keys(['freespeed', {'attributes': {'osm:way:highway': 'text'}}]).head()"
   ]
  },
  {
   "cell_type": "markdown",
   "metadata": {},
   "source": [
    "### Extracting links of interest\n",
    "\n",
    "The function below gathers link ids which satisfy conditions \n",
    "to arbitrary level of nested-ness. It also allows quite flexible conditions---below we require that the link value\n",
    "at `data['attributes']['osm:way:highway']['text'] == 'primary'`, where data is the data dictionary stored on that link."
   ]
  },
  {
   "cell_type": "code",
   "execution_count": 18,
   "metadata": {
    "ExecuteTime": {
     "end_time": "2020-06-15T14:29:25.830254Z",
     "start_time": "2020-06-15T14:29:25.771515Z"
    }
   },
   "outputs": [],
   "source": [
    "links = gn.graph_operations.extract_links_on_edge_attributes(\n",
    "    n,\n",
    "    conditions= {'attributes': {'osm:way:highway': {'text': 'primary'}}},\n",
    ")"
   ]
  },
  {
   "cell_type": "code",
   "execution_count": 19,
   "metadata": {
    "ExecuteTime": {
     "end_time": "2020-06-15T14:29:25.839983Z",
     "start_time": "2020-06-15T14:29:25.833763Z"
    }
   },
   "outputs": [
    {
     "data": {
      "text/plain": [
       "['1007', '1008', '1023', '1024', '103']"
      ]
     },
     "execution_count": 19,
     "metadata": {},
     "output_type": "execute_result"
    }
   ],
   "source": [
    "links[:5]"
   ]
  },
  {
   "cell_type": "code",
   "execution_count": 20,
   "metadata": {
    "ExecuteTime": {
     "end_time": "2020-06-15T14:29:25.851848Z",
     "start_time": "2020-06-15T14:29:25.845080Z"
    }
   },
   "outputs": [
    {
     "data": {
      "text/plain": [
       "619"
      ]
     },
     "execution_count": 20,
     "metadata": {},
     "output_type": "execute_result"
    }
   ],
   "source": [
    "len(links)"
   ]
  },
  {
   "cell_type": "markdown",
   "metadata": {},
   "source": [
    "Below we now require that the link value\n",
    "at `data['attributes']['osm:way:highway']['text'] in ['primary', 'something else']`. There is nothing in the data that has such tags, so the output is the same."
   ]
  },
  {
   "cell_type": "code",
   "execution_count": 21,
   "metadata": {
    "ExecuteTime": {
     "end_time": "2020-06-15T14:29:25.891422Z",
     "start_time": "2020-06-15T14:29:25.853421Z"
    }
   },
   "outputs": [],
   "source": [
    "links = gn.graph_operations.extract_links_on_edge_attributes(\n",
    "    n,\n",
    "    conditions= {'attributes': {'osm:way:highway': {'text': ['primary', 'something else']}}},\n",
    ")"
   ]
  },
  {
   "cell_type": "code",
   "execution_count": 22,
   "metadata": {
    "ExecuteTime": {
     "end_time": "2020-06-15T14:29:25.900806Z",
     "start_time": "2020-06-15T14:29:25.893043Z"
    }
   },
   "outputs": [
    {
     "data": {
      "text/plain": [
       "['1007', '1008', '1023', '1024', '103']"
      ]
     },
     "execution_count": 22,
     "metadata": {},
     "output_type": "execute_result"
    }
   ],
   "source": [
    "links[:5]"
   ]
  },
  {
   "cell_type": "code",
   "execution_count": 23,
   "metadata": {
    "ExecuteTime": {
     "end_time": "2020-06-15T14:29:25.910499Z",
     "start_time": "2020-06-15T14:29:25.906289Z"
    }
   },
   "outputs": [
    {
     "data": {
      "text/plain": [
       "619"
      ]
     },
     "execution_count": 23,
     "metadata": {},
     "output_type": "execute_result"
    }
   ],
   "source": [
    "len(links)"
   ]
  },
  {
   "cell_type": "markdown",
   "metadata": {},
   "source": [
    "We can also pass a list of conditions. In this case it makes sense for us to specify how multiple conditions should be handled. We can do it via \n",
    "- `how=all` - all conditions need to be met\n",
    "- `how=any` - at least one condition needs to be met\n",
    "\n",
    "It is set to `any` as default."
   ]
  },
  {
   "cell_type": "code",
   "execution_count": 24,
   "metadata": {
    "ExecuteTime": {
     "end_time": "2020-06-15T14:29:25.965829Z",
     "start_time": "2020-06-15T14:29:25.914548Z"
    }
   },
   "outputs": [],
   "source": [
    "links = gn.graph_operations.extract_links_on_edge_attributes(\n",
    "    n,\n",
    "    conditions= [{'attributes': {'osm:way:highway': {'text': 'primary'}}},\n",
    "                 {'attributes': {'osm:way:highway': {'text': 'something else'}}}],\n",
    "    how=any\n",
    ")"
   ]
  },
  {
   "cell_type": "code",
   "execution_count": 25,
   "metadata": {
    "ExecuteTime": {
     "end_time": "2020-06-15T14:29:25.974494Z",
     "start_time": "2020-06-15T14:29:25.969008Z"
    }
   },
   "outputs": [
    {
     "data": {
      "text/plain": [
       "['1007', '1008', '1023', '1024', '103']"
      ]
     },
     "execution_count": 25,
     "metadata": {},
     "output_type": "execute_result"
    }
   ],
   "source": [
    "links[:5]"
   ]
  },
  {
   "cell_type": "code",
   "execution_count": 26,
   "metadata": {
    "ExecuteTime": {
     "end_time": "2020-06-15T14:29:25.983427Z",
     "start_time": "2020-06-15T14:29:25.976649Z"
    }
   },
   "outputs": [
    {
     "data": {
      "text/plain": [
       "619"
      ]
     },
     "execution_count": 26,
     "metadata": {},
     "output_type": "execute_result"
    }
   ],
   "source": [
    "len(links)"
   ]
  },
  {
   "cell_type": "code",
   "execution_count": 27,
   "metadata": {
    "ExecuteTime": {
     "end_time": "2020-06-15T14:29:26.045304Z",
     "start_time": "2020-06-15T14:29:25.986354Z"
    }
   },
   "outputs": [],
   "source": [
    "links = gn.graph_operations.extract_links_on_edge_attributes(\n",
    "    n,\n",
    "    conditions= [{'attributes': {'osm:way:highway': {'text': 'primary'}}},\n",
    "                 {'attributes': {'osm:way:highway': {'text': 'something else'}}}],\n",
    "    how=all\n",
    ")"
   ]
  },
  {
   "cell_type": "code",
   "execution_count": 28,
   "metadata": {
    "ExecuteTime": {
     "end_time": "2020-06-15T14:29:26.055210Z",
     "start_time": "2020-06-15T14:29:26.048518Z"
    }
   },
   "outputs": [
    {
     "data": {
      "text/plain": [
       "[]"
      ]
     },
     "execution_count": 28,
     "metadata": {},
     "output_type": "execute_result"
    }
   ],
   "source": [
    "links[:5]"
   ]
  },
  {
   "cell_type": "markdown",
   "metadata": {},
   "source": [
    "As expected, no links satisfy both `data['attributes']['osm:way:highway']['text'] == 'primary'` and `data['attributes']['osm:way:highway']['text'] == 'something else'`."
   ]
  },
  {
   "cell_type": "markdown",
   "metadata": {},
   "source": [
    "Below, we give an example of subsetting a numeric boundary. We find links where `0 <= 'freespeed'  <= 20`."
   ]
  },
  {
   "cell_type": "code",
   "execution_count": 29,
   "metadata": {
    "ExecuteTime": {
     "end_time": "2020-06-15T14:29:26.091090Z",
     "start_time": "2020-06-15T14:29:26.058637Z"
    }
   },
   "outputs": [],
   "source": [
    "links = gn.graph_operations.extract_links_on_edge_attributes(\n",
    "    n,\n",
    "    conditions = {'freespeed': (0,20)},\n",
    ")"
   ]
  },
  {
   "cell_type": "code",
   "execution_count": 30,
   "metadata": {
    "ExecuteTime": {
     "end_time": "2020-06-15T14:29:26.101665Z",
     "start_time": "2020-06-15T14:29:26.096002Z"
    }
   },
   "outputs": [
    {
     "data": {
      "text/plain": [
       "['1', '10', '100', '1000', '1001']"
      ]
     },
     "execution_count": 30,
     "metadata": {},
     "output_type": "execute_result"
    }
   ],
   "source": [
    "links[:5]"
   ]
  },
  {
   "cell_type": "code",
   "execution_count": 31,
   "metadata": {
    "ExecuteTime": {
     "end_time": "2020-06-15T14:29:26.110953Z",
     "start_time": "2020-06-15T14:29:26.103717Z"
    }
   },
   "outputs": [
    {
     "data": {
      "text/plain": [
       "2334"
      ]
     },
     "execution_count": 31,
     "metadata": {},
     "output_type": "execute_result"
    }
   ],
   "source": [
    "len(links)"
   ]
  },
  {
   "cell_type": "markdown",
   "metadata": {},
   "source": [
    "Finally, we can define a function that will handle the condition for us. The function should take the value expected at the key in the data dictionary and return either `True` or `False`.\n",
    "\n",
    "For example, below we give an example equivalent to our first example of `data['attributes']['osm:way:highway']['text'] == 'primary'` but using a function we defined ourselves to handle the condition."
   ]
  },
  {
   "cell_type": "code",
   "execution_count": 32,
   "metadata": {
    "ExecuteTime": {
     "end_time": "2020-06-15T14:29:26.153993Z",
     "start_time": "2020-06-15T14:29:26.112806Z"
    }
   },
   "outputs": [],
   "source": [
    "def highway_primary(value):\n",
    "    return value == 'primary'\n",
    "\n",
    "links = gn.graph_operations.extract_links_on_edge_attributes(\n",
    "    n,\n",
    "    conditions= {'attributes': {'osm:way:highway': {'text': highway_primary}}},\n",
    ")"
   ]
  },
  {
   "cell_type": "code",
   "execution_count": 33,
   "metadata": {
    "ExecuteTime": {
     "end_time": "2020-06-15T14:29:26.170542Z",
     "start_time": "2020-06-15T14:29:26.162938Z"
    }
   },
   "outputs": [
    {
     "data": {
      "text/plain": [
       "['1007', '1008', '1023', '1024', '103']"
      ]
     },
     "execution_count": 33,
     "metadata": {},
     "output_type": "execute_result"
    }
   ],
   "source": [
    "links[:5]"
   ]
  },
  {
   "cell_type": "code",
   "execution_count": 34,
   "metadata": {
    "ExecuteTime": {
     "end_time": "2020-06-15T14:29:26.187625Z",
     "start_time": "2020-06-15T14:29:26.176212Z"
    }
   },
   "outputs": [
    {
     "data": {
      "text/plain": [
       "619"
      ]
     },
     "execution_count": 34,
     "metadata": {},
     "output_type": "execute_result"
    }
   ],
   "source": [
    "len(links)"
   ]
  },
  {
   "cell_type": "markdown",
   "metadata": {},
   "source": [
    "This allows for really flexible subsetting of the network based on data stored on the edges. Another example, similar to the numeric boundary, but this time we only care about the upper bound and we make it a strict inequality."
   ]
  },
  {
   "cell_type": "code",
   "execution_count": 35,
   "metadata": {
    "ExecuteTime": {
     "end_time": "2020-06-15T14:29:26.226317Z",
     "start_time": "2020-06-15T14:29:26.190807Z"
    }
   },
   "outputs": [],
   "source": [
    "def below_20(value):\n",
    "    return value < 20\n",
    "\n",
    "links = gn.graph_operations.extract_links_on_edge_attributes(\n",
    "    n,\n",
    "    conditions= {'freespeed': below_20},\n",
    ")"
   ]
  },
  {
   "cell_type": "code",
   "execution_count": 36,
   "metadata": {
    "ExecuteTime": {
     "end_time": "2020-06-15T14:29:26.232531Z",
     "start_time": "2020-06-15T14:29:26.227841Z"
    }
   },
   "outputs": [
    {
     "data": {
      "text/plain": [
       "['1', '10', '100', '1000', '1001']"
      ]
     },
     "execution_count": 36,
     "metadata": {},
     "output_type": "execute_result"
    }
   ],
   "source": [
    "links[:5]"
   ]
  },
  {
   "cell_type": "code",
   "execution_count": 37,
   "metadata": {
    "ExecuteTime": {
     "end_time": "2020-06-15T14:29:26.241389Z",
     "start_time": "2020-06-15T14:29:26.235352Z"
    }
   },
   "outputs": [
    {
     "data": {
      "text/plain": [
       "2334"
      ]
     },
     "execution_count": 37,
     "metadata": {},
     "output_type": "execute_result"
    }
   ],
   "source": [
    "len(links)"
   ]
  },
  {
   "cell_type": "markdown",
   "metadata": {},
   "source": [
    "## Using the `Schedule` object"
   ]
  },
  {
   "cell_type": "code",
   "execution_count": 38,
   "metadata": {
    "ExecuteTime": {
     "end_time": "2020-06-15T14:29:26.249060Z",
     "start_time": "2020-06-15T14:29:26.242961Z"
    }
   },
   "outputs": [
    {
     "data": {
      "text/plain": [
       "529737.7933655808"
      ]
     },
     "execution_count": 38,
     "metadata": {},
     "output_type": "execute_result"
    }
   ],
   "source": [
    "n.schedule['15003'].routes[0].stops[0].x"
   ]
  },
  {
   "cell_type": "code",
   "execution_count": null,
   "metadata": {},
   "outputs": [],
   "source": []
  },
  {
   "cell_type": "code",
   "execution_count": null,
   "metadata": {},
   "outputs": [],
   "source": []
  },
  {
   "cell_type": "markdown",
   "metadata": {},
   "source": [
    "## Modifying the `Network` object"
   ]
  },
  {
   "cell_type": "markdown",
   "metadata": {},
   "source": [
    "`GeNet` supports some simple modifications like adding, reindexing and removing nodes and links and some involved modifications like changing the data stored under nodes or links (which will be discussed below). All of these changes get recorded in `n.change_log`."
   ]
  },
  {
   "cell_type": "code",
   "execution_count": 39,
   "metadata": {
    "ExecuteTime": {
     "end_time": "2020-06-15T14:29:26.272851Z",
     "start_time": "2020-06-15T14:29:26.250741Z"
    }
   },
   "outputs": [
    {
     "name": "stderr",
     "output_type": "stream",
     "text": [
      "2020-06-15 15:29:26,264 - Added Link with index proposed_index, from node:4356572310 to node:5811263955, under multi-index:1, and data={'from': '4356572310', 'to': '5811263955', 'id': 'proposed_index'}\n"
     ]
    },
    {
     "data": {
      "text/plain": [
       "'proposed_index'"
      ]
     },
     "execution_count": 39,
     "metadata": {},
     "output_type": "execute_result"
    }
   ],
   "source": [
    "n.add_link(link_id='proposed_index', u='4356572310', v='5811263955')"
   ]
  },
  {
   "cell_type": "code",
   "execution_count": 40,
   "metadata": {
    "ExecuteTime": {
     "end_time": "2020-06-15T14:29:26.292637Z",
     "start_time": "2020-06-15T14:29:26.275521Z"
    }
   },
   "outputs": [
    {
     "name": "stderr",
     "output_type": "stream",
     "text": [
      "2020-06-15 15:29:26,286 - Added Node with index `proposed_index` and data={'data': 'some_data'}\n"
     ]
    },
    {
     "data": {
      "text/plain": [
       "'proposed_index'"
      ]
     },
     "execution_count": 40,
     "metadata": {},
     "output_type": "execute_result"
    }
   ],
   "source": [
    "n.add_node(node='proposed_index', attribs={'data':'some_data'})"
   ]
  },
  {
   "cell_type": "markdown",
   "metadata": {},
   "source": [
    "The index passed is only a proposition. If a node or link under this link exists, a new, unique index will be generated."
   ]
  },
  {
   "cell_type": "code",
   "execution_count": 41,
   "metadata": {
    "ExecuteTime": {
     "end_time": "2020-06-15T14:29:26.314250Z",
     "start_time": "2020-06-15T14:29:26.297458Z"
    }
   },
   "outputs": [
    {
     "name": "stderr",
     "output_type": "stream",
     "text": [
      "2020-06-15 15:29:26,302 - Generated link id fb0a34ee-8b90-4294-8973-4e94d6485cd7.\n",
      "2020-06-15 15:29:26,303 - This link_id=`proposed_index` already exists. Generated a new unique_index: `fb0a34ee-8b90-4294-8973-4e94d6485cd7`\n",
      "2020-06-15 15:29:26,311 - Added Link with index fb0a34ee-8b90-4294-8973-4e94d6485cd7, from node:4356572310 to node:5811263955, under multi-index:2, and data={'from': '4356572310', 'to': '5811263955', 'id': 'fb0a34ee-8b90-4294-8973-4e94d6485cd7'}\n"
     ]
    }
   ],
   "source": [
    "actual_link_id_added = n.add_link(link_id='proposed_index', u='4356572310', v='5811263955')"
   ]
  },
  {
   "cell_type": "markdown",
   "metadata": {},
   "source": [
    "To reindex a node or link:"
   ]
  },
  {
   "cell_type": "code",
   "execution_count": 42,
   "metadata": {
    "ExecuteTime": {
     "end_time": "2020-06-15T14:29:26.425989Z",
     "start_time": "2020-06-15T14:29:26.316206Z"
    }
   },
   "outputs": [
    {
     "name": "stderr",
     "output_type": "stream",
     "text": [
      "2020-06-15 15:29:26,371 - Changed Node attributes under index: proposed_index\n",
      "2020-06-15 15:29:26,409 - Changed Node index from proposed_index to another_index\n"
     ]
    }
   ],
   "source": [
    "n.reindex_node('proposed_index', 'another_index')"
   ]
  },
  {
   "cell_type": "code",
   "execution_count": 43,
   "metadata": {
    "ExecuteTime": {
     "end_time": "2020-06-15T14:29:26.452058Z",
     "start_time": "2020-06-15T14:29:26.428856Z"
    }
   },
   "outputs": [
    {
     "name": "stderr",
     "output_type": "stream",
     "text": [
      "2020-06-15 15:29:26,447 - Changed Link attributes under index: proposed_index\n",
      "2020-06-15 15:29:26,448 - Changed Link index from proposed_index to another_index\n"
     ]
    }
   ],
   "source": [
    "n.reindex_link('proposed_index', 'another_index')"
   ]
  },
  {
   "cell_type": "markdown",
   "metadata": {},
   "source": [
    "To remove a link or node:"
   ]
  },
  {
   "cell_type": "code",
   "execution_count": 44,
   "metadata": {
    "ExecuteTime": {
     "end_time": "2020-06-15T14:29:26.472378Z",
     "start_time": "2020-06-15T14:29:26.453912Z"
    }
   },
   "outputs": [
    {
     "name": "stderr",
     "output_type": "stream",
     "text": [
      "2020-06-15 15:29:26,462 - Removed Link under index: another_index\n",
      "2020-06-15 15:29:26,469 - Removed Link under index: fb0a34ee-8b90-4294-8973-4e94d6485cd7\n"
     ]
    }
   ],
   "source": [
    "n.remove_links(['another_index', actual_link_id_added])"
   ]
  },
  {
   "cell_type": "code",
   "execution_count": 45,
   "metadata": {
    "ExecuteTime": {
     "end_time": "2020-06-15T14:29:26.489079Z",
     "start_time": "2020-06-15T14:29:26.474297Z"
    }
   },
   "outputs": [
    {
     "name": "stderr",
     "output_type": "stream",
     "text": [
      "2020-06-15 15:29:26,482 - Removed Node under index: another_index\n"
     ]
    }
   ],
   "source": [
    "n.remove_node('another_index')"
   ]
  },
  {
   "cell_type": "markdown",
   "metadata": {},
   "source": [
    "Let's say you have extracted `genet.Network` link ids of interest and now you want to make changes to the network. Let's make changes to the nested OSM data stored on the links. We will replace the highway tags from `'primary'` to `'SOMETHING'`."
   ]
  },
  {
   "cell_type": "code",
   "execution_count": 46,
   "metadata": {
    "ExecuteTime": {
     "end_time": "2020-06-15T14:29:26.527879Z",
     "start_time": "2020-06-15T14:29:26.490854Z"
    }
   },
   "outputs": [
    {
     "data": {
      "text/plain": [
       "['1007', '1008', '1023', '1024', '103']"
      ]
     },
     "execution_count": 46,
     "metadata": {},
     "output_type": "execute_result"
    }
   ],
   "source": [
    "links = gn.graph_operations.extract_links_on_edge_attributes(\n",
    "    n,\n",
    "    conditions= {'attributes': {'osm:way:highway': {'text': 'primary'}}},\n",
    ")\n",
    "\n",
    "links[:5]"
   ]
  },
  {
   "cell_type": "code",
   "execution_count": 47,
   "metadata": {
    "ExecuteTime": {
     "end_time": "2020-06-15T14:29:26.538515Z",
     "start_time": "2020-06-15T14:29:26.529510Z"
    }
   },
   "outputs": [
    {
     "data": {
      "text/plain": [
       "{'id': '1007',\n",
       " 'from': '4356572310',\n",
       " 'to': '5811263955',\n",
       " 'freespeed': 22.22222222222222,\n",
       " 'capacity': 3000.0,\n",
       " 'permlanes': 2.0,\n",
       " 'oneway': '1',\n",
       " 'modes': ['car'],\n",
       " 's2_from': 5221390723045407809,\n",
       " 's2_to': 5221390723040504387,\n",
       " 'length': 13.941905154249884,\n",
       " 'attributes': {'osm:way:highway': {'name': 'osm:way:highway',\n",
       "   'class': 'java.lang.String',\n",
       "   'text': 'primary'},\n",
       "  'osm:way:id': {'name': 'osm:way:id',\n",
       "   'class': 'java.lang.Long',\n",
       "   'text': '589660342'},\n",
       "  'osm:way:lanes': {'name': 'osm:way:lanes',\n",
       "   'class': 'java.lang.String',\n",
       "   'text': '2'},\n",
       "  'osm:way:name': {'name': 'osm:way:name',\n",
       "   'class': 'java.lang.String',\n",
       "   'text': 'Shaftesbury Avenue'},\n",
       "  'osm:way:oneway': {'name': 'osm:way:oneway',\n",
       "   'class': 'java.lang.String',\n",
       "   'text': 'yes'}}}"
      ]
     },
     "execution_count": 47,
     "metadata": {},
     "output_type": "execute_result"
    }
   ],
   "source": [
    "n.link(links[0])"
   ]
  },
  {
   "cell_type": "code",
   "execution_count": 48,
   "metadata": {
    "ExecuteTime": {
     "end_time": "2020-06-15T14:29:30.809536Z",
     "start_time": "2020-06-15T14:29:26.540493Z"
    }
   },
   "outputs": [
    {
     "name": "stderr",
     "output_type": "stream",
     "text": [
      "2020-06-15 15:29:26,549 - Changed Link attributes under index: 1007\n",
      "2020-06-15 15:29:26,557 - Changed Link attributes under index: 1008\n",
      "2020-06-15 15:29:26,563 - Changed Link attributes under index: 1023\n",
      "2020-06-15 15:29:26,569 - Changed Link attributes under index: 1024\n",
      "2020-06-15 15:29:26,574 - Changed Link attributes under index: 103\n",
      "2020-06-15 15:29:26,579 - Changed Link attributes under index: 1035\n",
      "2020-06-15 15:29:26,584 - Changed Link attributes under index: 1036\n",
      "2020-06-15 15:29:26,589 - Changed Link attributes under index: 104\n",
      "2020-06-15 15:29:26,594 - Changed Link attributes under index: 1044\n",
      "2020-06-15 15:29:26,599 - Changed Link attributes under index: 1045\n",
      "2020-06-15 15:29:26,609 - Changed Link attributes under index: 105\n",
      "2020-06-15 15:29:26,617 - Changed Link attributes under index: 106\n",
      "2020-06-15 15:29:26,624 - Changed Link attributes under index: 107\n",
      "2020-06-15 15:29:26,634 - Changed Link attributes under index: 1079\n",
      "2020-06-15 15:29:26,643 - Changed Link attributes under index: 108\n",
      "2020-06-15 15:29:26,648 - Changed Link attributes under index: 109\n",
      "2020-06-15 15:29:26,653 - Changed Link attributes under index: 110\n",
      "2020-06-15 15:29:26,661 - Changed Link attributes under index: 1105\n",
      "2020-06-15 15:29:26,667 - Changed Link attributes under index: 1106\n",
      "2020-06-15 15:29:26,671 - Changed Link attributes under index: 1113\n",
      "2020-06-15 15:29:26,676 - Changed Link attributes under index: 1114\n",
      "2020-06-15 15:29:26,681 - Changed Link attributes under index: 1115\n",
      "2020-06-15 15:29:26,686 - Changed Link attributes under index: 1116\n",
      "2020-06-15 15:29:26,691 - Changed Link attributes under index: 1130\n",
      "2020-06-15 15:29:26,699 - Changed Link attributes under index: 1131\n",
      "2020-06-15 15:29:26,707 - Changed Link attributes under index: 1141\n",
      "2020-06-15 15:29:26,712 - Changed Link attributes under index: 1153\n",
      "2020-06-15 15:29:26,718 - Changed Link attributes under index: 1158\n",
      "2020-06-15 15:29:26,723 - Changed Link attributes under index: 1159\n",
      "2020-06-15 15:29:26,727 - Changed Link attributes under index: 1183\n",
      "2020-06-15 15:29:26,732 - Changed Link attributes under index: 1187\n",
      "2020-06-15 15:29:26,737 - Changed Link attributes under index: 1189\n",
      "2020-06-15 15:29:26,743 - Changed Link attributes under index: 12\n",
      "2020-06-15 15:29:26,748 - Changed Link attributes under index: 1214\n",
      "2020-06-15 15:29:26,758 - Changed Link attributes under index: 1215\n",
      "2020-06-15 15:29:26,767 - Changed Link attributes under index: 1234\n",
      "2020-06-15 15:29:26,780 - Changed Link attributes under index: 1235\n",
      "2020-06-15 15:29:26,789 - Changed Link attributes under index: 1236\n",
      "2020-06-15 15:29:26,794 - Changed Link attributes under index: 1237\n",
      "2020-06-15 15:29:26,799 - Changed Link attributes under index: 1261\n",
      "2020-06-15 15:29:26,806 - Changed Link attributes under index: 1278\n",
      "2020-06-15 15:29:26,812 - Changed Link attributes under index: 1279\n",
      "2020-06-15 15:29:26,818 - Changed Link attributes under index: 129\n",
      "2020-06-15 15:29:26,829 - Changed Link attributes under index: 1295\n",
      "2020-06-15 15:29:26,835 - Changed Link attributes under index: 13\n",
      "2020-06-15 15:29:26,842 - Changed Link attributes under index: 1304\n",
      "2020-06-15 15:29:26,851 - Changed Link attributes under index: 1305\n",
      "2020-06-15 15:29:26,859 - Changed Link attributes under index: 1306\n",
      "2020-06-15 15:29:26,866 - Changed Link attributes under index: 1311\n",
      "2020-06-15 15:29:26,872 - Changed Link attributes under index: 1312\n",
      "2020-06-15 15:29:26,879 - Changed Link attributes under index: 1328\n",
      "2020-06-15 15:29:26,888 - Changed Link attributes under index: 1336\n",
      "2020-06-15 15:29:26,893 - Changed Link attributes under index: 1337\n",
      "2020-06-15 15:29:26,899 - Changed Link attributes under index: 1338\n",
      "2020-06-15 15:29:26,905 - Changed Link attributes under index: 1339\n",
      "2020-06-15 15:29:26,913 - Changed Link attributes under index: 1340\n",
      "2020-06-15 15:29:26,919 - Changed Link attributes under index: 1343\n",
      "2020-06-15 15:29:26,926 - Changed Link attributes under index: 1344\n",
      "2020-06-15 15:29:26,935 - Changed Link attributes under index: 1345\n",
      "2020-06-15 15:29:26,940 - Changed Link attributes under index: 1346\n",
      "2020-06-15 15:29:26,949 - Changed Link attributes under index: 1347\n",
      "2020-06-15 15:29:26,956 - Changed Link attributes under index: 1362\n",
      "2020-06-15 15:29:26,961 - Changed Link attributes under index: 1374\n",
      "2020-06-15 15:29:26,972 - Changed Link attributes under index: 1375\n",
      "2020-06-15 15:29:26,978 - Changed Link attributes under index: 1385\n",
      "2020-06-15 15:29:26,983 - Changed Link attributes under index: 1386\n",
      "2020-06-15 15:29:26,989 - Changed Link attributes under index: 1387\n",
      "2020-06-15 15:29:26,995 - Changed Link attributes under index: 1388\n",
      "2020-06-15 15:29:27,000 - Changed Link attributes under index: 1389\n",
      "2020-06-15 15:29:27,006 - Changed Link attributes under index: 14\n",
      "2020-06-15 15:29:27,010 - Changed Link attributes under index: 141\n",
      "2020-06-15 15:29:27,016 - Changed Link attributes under index: 1416\n",
      "2020-06-15 15:29:27,020 - Changed Link attributes under index: 1417\n",
      "2020-06-15 15:29:27,037 - Changed Link attributes under index: 1418\n",
      "2020-06-15 15:29:27,041 - Changed Link attributes under index: 1420\n",
      "2020-06-15 15:29:27,057 - Changed Link attributes under index: 1421\n",
      "2020-06-15 15:29:27,068 - Changed Link attributes under index: 1428\n",
      "2020-06-15 15:29:27,079 - Changed Link attributes under index: 1431\n",
      "2020-06-15 15:29:27,091 - Changed Link attributes under index: 1435\n",
      "2020-06-15 15:29:27,096 - Changed Link attributes under index: 1475\n",
      "2020-06-15 15:29:27,102 - Changed Link attributes under index: 1480\n",
      "2020-06-15 15:29:27,107 - Changed Link attributes under index: 1481\n",
      "2020-06-15 15:29:27,113 - Changed Link attributes under index: 1489\n",
      "2020-06-15 15:29:27,119 - Changed Link attributes under index: 1490\n",
      "2020-06-15 15:29:27,124 - Changed Link attributes under index: 15\n",
      "2020-06-15 15:29:27,129 - Changed Link attributes under index: 1506\n",
      "2020-06-15 15:29:27,134 - Changed Link attributes under index: 1507\n",
      "2020-06-15 15:29:27,139 - Changed Link attributes under index: 1508\n",
      "2020-06-15 15:29:27,144 - Changed Link attributes under index: 154\n",
      "2020-06-15 15:29:27,150 - Changed Link attributes under index: 1542\n",
      "2020-06-15 15:29:27,155 - Changed Link attributes under index: 1543\n",
      "2020-06-15 15:29:27,165 - Changed Link attributes under index: 1550\n",
      "2020-06-15 15:29:27,173 - Changed Link attributes under index: 1551\n",
      "2020-06-15 15:29:27,180 - Changed Link attributes under index: 1556\n",
      "2020-06-15 15:29:27,185 - Changed Link attributes under index: 1557\n",
      "2020-06-15 15:29:27,191 - Changed Link attributes under index: 1558\n",
      "2020-06-15 15:29:27,196 - Changed Link attributes under index: 1559\n",
      "2020-06-15 15:29:27,205 - Changed Link attributes under index: 1560\n",
      "2020-06-15 15:29:27,211 - Changed Link attributes under index: 1561\n",
      "2020-06-15 15:29:27,216 - Changed Link attributes under index: 1562\n",
      "2020-06-15 15:29:27,221 - Changed Link attributes under index: 1563\n",
      "2020-06-15 15:29:27,226 - Changed Link attributes under index: 1564\n",
      "2020-06-15 15:29:27,231 - Changed Link attributes under index: 1565\n",
      "2020-06-15 15:29:27,236 - Changed Link attributes under index: 1569\n",
      "2020-06-15 15:29:27,244 - Changed Link attributes under index: 1570\n",
      "2020-06-15 15:29:27,250 - Changed Link attributes under index: 1571\n",
      "2020-06-15 15:29:27,257 - Changed Link attributes under index: 1572\n",
      "2020-06-15 15:29:27,264 - Changed Link attributes under index: 1573\n",
      "2020-06-15 15:29:27,272 - Changed Link attributes under index: 1574\n",
      "2020-06-15 15:29:27,284 - Changed Link attributes under index: 1578\n",
      "2020-06-15 15:29:27,289 - Changed Link attributes under index: 158\n",
      "2020-06-15 15:29:27,296 - Changed Link attributes under index: 1581\n",
      "2020-06-15 15:29:27,307 - Changed Link attributes under index: 1582\n",
      "2020-06-15 15:29:27,315 - Changed Link attributes under index: 160\n",
      "2020-06-15 15:29:27,323 - Changed Link attributes under index: 161\n",
      "2020-06-15 15:29:27,331 - Changed Link attributes under index: 162\n",
      "2020-06-15 15:29:27,337 - Changed Link attributes under index: 1630\n",
      "2020-06-15 15:29:27,345 - Changed Link attributes under index: 1631\n",
      "2020-06-15 15:29:27,350 - Changed Link attributes under index: 1632\n",
      "2020-06-15 15:29:27,360 - Changed Link attributes under index: 1633\n",
      "2020-06-15 15:29:27,365 - Changed Link attributes under index: 1634\n"
     ]
    },
    {
     "name": "stderr",
     "output_type": "stream",
     "text": [
      "2020-06-15 15:29:27,371 - Changed Link attributes under index: 1635\n",
      "2020-06-15 15:29:27,376 - Changed Link attributes under index: 1664\n",
      "2020-06-15 15:29:27,382 - Changed Link attributes under index: 1665\n",
      "2020-06-15 15:29:27,387 - Changed Link attributes under index: 1666\n",
      "2020-06-15 15:29:27,393 - Changed Link attributes under index: 1667\n",
      "2020-06-15 15:29:27,397 - Changed Link attributes under index: 1668\n",
      "2020-06-15 15:29:27,403 - Changed Link attributes under index: 1669\n",
      "2020-06-15 15:29:27,408 - Changed Link attributes under index: 1672\n",
      "2020-06-15 15:29:27,413 - Changed Link attributes under index: 1673\n",
      "2020-06-15 15:29:27,418 - Changed Link attributes under index: 1684\n",
      "2020-06-15 15:29:27,423 - Changed Link attributes under index: 1685\n",
      "2020-06-15 15:29:27,428 - Changed Link attributes under index: 1697\n",
      "2020-06-15 15:29:27,439 - Changed Link attributes under index: 1698\n",
      "2020-06-15 15:29:27,446 - Changed Link attributes under index: 1699\n",
      "2020-06-15 15:29:27,451 - Changed Link attributes under index: 17\n",
      "2020-06-15 15:29:27,461 - Changed Link attributes under index: 1704\n",
      "2020-06-15 15:29:27,466 - Changed Link attributes under index: 1705\n",
      "2020-06-15 15:29:27,472 - Changed Link attributes under index: 1706\n",
      "2020-06-15 15:29:27,477 - Changed Link attributes under index: 1707\n",
      "2020-06-15 15:29:27,483 - Changed Link attributes under index: 1737\n",
      "2020-06-15 15:29:27,489 - Changed Link attributes under index: 1756\n",
      "2020-06-15 15:29:27,493 - Changed Link attributes under index: 1757\n",
      "2020-06-15 15:29:27,499 - Changed Link attributes under index: 178\n",
      "2020-06-15 15:29:27,504 - Changed Link attributes under index: 1780\n",
      "2020-06-15 15:29:27,509 - Changed Link attributes under index: 1781\n",
      "2020-06-15 15:29:27,514 - Changed Link attributes under index: 1786\n",
      "2020-06-15 15:29:27,520 - Changed Link attributes under index: 1787\n",
      "2020-06-15 15:29:27,524 - Changed Link attributes under index: 1788\n",
      "2020-06-15 15:29:27,530 - Changed Link attributes under index: 1791\n",
      "2020-06-15 15:29:27,535 - Changed Link attributes under index: 1809\n",
      "2020-06-15 15:29:27,541 - Changed Link attributes under index: 1836\n",
      "2020-06-15 15:29:27,545 - Changed Link attributes under index: 1837\n",
      "2020-06-15 15:29:27,551 - Changed Link attributes under index: 1867\n",
      "2020-06-15 15:29:27,555 - Changed Link attributes under index: 1868\n",
      "2020-06-15 15:29:27,563 - Changed Link attributes under index: 1888\n",
      "2020-06-15 15:29:27,578 - Changed Link attributes under index: 1889\n",
      "2020-06-15 15:29:27,582 - Changed Link attributes under index: 1913\n",
      "2020-06-15 15:29:27,595 - Changed Link attributes under index: 1914\n",
      "2020-06-15 15:29:27,599 - Changed Link attributes under index: 1915\n",
      "2020-06-15 15:29:27,604 - Changed Link attributes under index: 1916\n",
      "2020-06-15 15:29:27,609 - Changed Link attributes under index: 1931\n",
      "2020-06-15 15:29:27,614 - Changed Link attributes under index: 1932\n",
      "2020-06-15 15:29:27,620 - Changed Link attributes under index: 1966\n",
      "2020-06-15 15:29:27,625 - Changed Link attributes under index: 1967\n",
      "2020-06-15 15:29:27,630 - Changed Link attributes under index: 1994\n",
      "2020-06-15 15:29:27,635 - Changed Link attributes under index: 1995\n",
      "2020-06-15 15:29:27,640 - Changed Link attributes under index: 2003\n",
      "2020-06-15 15:29:27,645 - Changed Link attributes under index: 2004\n",
      "2020-06-15 15:29:27,650 - Changed Link attributes under index: 2005\n",
      "2020-06-15 15:29:27,659 - Changed Link attributes under index: 2008\n",
      "2020-06-15 15:29:27,666 - Changed Link attributes under index: 2009\n",
      "2020-06-15 15:29:27,673 - Changed Link attributes under index: 2010\n",
      "2020-06-15 15:29:27,680 - Changed Link attributes under index: 2011\n",
      "2020-06-15 15:29:27,687 - Changed Link attributes under index: 2012\n",
      "2020-06-15 15:29:27,694 - Changed Link attributes under index: 2013\n",
      "2020-06-15 15:29:27,702 - Changed Link attributes under index: 2014\n",
      "2020-06-15 15:29:27,713 - Changed Link attributes under index: 2015\n",
      "2020-06-15 15:29:27,722 - Changed Link attributes under index: 2016\n",
      "2020-06-15 15:29:27,732 - Changed Link attributes under index: 2017\n",
      "2020-06-15 15:29:27,737 - Changed Link attributes under index: 2027\n",
      "2020-06-15 15:29:27,742 - Changed Link attributes under index: 2028\n",
      "2020-06-15 15:29:27,746 - Changed Link attributes under index: 2029\n",
      "2020-06-15 15:29:27,752 - Changed Link attributes under index: 2030\n",
      "2020-06-15 15:29:27,757 - Changed Link attributes under index: 2039\n",
      "2020-06-15 15:29:27,762 - Changed Link attributes under index: 2040\n",
      "2020-06-15 15:29:27,767 - Changed Link attributes under index: 2051\n",
      "2020-06-15 15:29:27,772 - Changed Link attributes under index: 2055\n",
      "2020-06-15 15:29:27,777 - Changed Link attributes under index: 2056\n",
      "2020-06-15 15:29:27,782 - Changed Link attributes under index: 2057\n",
      "2020-06-15 15:29:27,788 - Changed Link attributes under index: 2058\n",
      "2020-06-15 15:29:27,797 - Changed Link attributes under index: 2059\n",
      "2020-06-15 15:29:27,807 - Changed Link attributes under index: 2060\n",
      "2020-06-15 15:29:27,815 - Changed Link attributes under index: 2061\n",
      "2020-06-15 15:29:27,823 - Changed Link attributes under index: 2062\n",
      "2020-06-15 15:29:27,828 - Changed Link attributes under index: 2105\n",
      "2020-06-15 15:29:27,833 - Changed Link attributes under index: 2106\n",
      "2020-06-15 15:29:27,839 - Changed Link attributes under index: 2107\n",
      "2020-06-15 15:29:27,843 - Changed Link attributes under index: 2108\n",
      "2020-06-15 15:29:27,849 - Changed Link attributes under index: 2110\n",
      "2020-06-15 15:29:27,854 - Changed Link attributes under index: 2111\n",
      "2020-06-15 15:29:27,860 - Changed Link attributes under index: 2112\n",
      "2020-06-15 15:29:27,864 - Changed Link attributes under index: 2113\n",
      "2020-06-15 15:29:27,870 - Changed Link attributes under index: 2124\n",
      "2020-06-15 15:29:27,875 - Changed Link attributes under index: 2125\n",
      "2020-06-15 15:29:27,880 - Changed Link attributes under index: 2145\n",
      "2020-06-15 15:29:27,885 - Changed Link attributes under index: 2146\n",
      "2020-06-15 15:29:27,891 - Changed Link attributes under index: 2147\n",
      "2020-06-15 15:29:27,898 - Changed Link attributes under index: 2148\n",
      "2020-06-15 15:29:27,903 - Changed Link attributes under index: 2149\n",
      "2020-06-15 15:29:27,908 - Changed Link attributes under index: 2150\n",
      "2020-06-15 15:29:27,912 - Changed Link attributes under index: 2157\n",
      "2020-06-15 15:29:27,919 - Changed Link attributes under index: 2158\n",
      "2020-06-15 15:29:27,940 - Changed Link attributes under index: 2162\n",
      "2020-06-15 15:29:27,949 - Changed Link attributes under index: 2163\n",
      "2020-06-15 15:29:27,953 - Changed Link attributes under index: 2166\n",
      "2020-06-15 15:29:27,959 - Changed Link attributes under index: 2167\n",
      "2020-06-15 15:29:27,963 - Changed Link attributes under index: 2168\n",
      "2020-06-15 15:29:27,970 - Changed Link attributes under index: 2169\n",
      "2020-06-15 15:29:27,974 - Changed Link attributes under index: 217\n",
      "2020-06-15 15:29:27,980 - Changed Link attributes under index: 2176\n",
      "2020-06-15 15:29:27,984 - Changed Link attributes under index: 2177\n",
      "2020-06-15 15:29:27,990 - Changed Link attributes under index: 218\n",
      "2020-06-15 15:29:27,994 - Changed Link attributes under index: 2196\n",
      "2020-06-15 15:29:28,000 - Changed Link attributes under index: 2197\n",
      "2020-06-15 15:29:28,005 - Changed Link attributes under index: 2199\n",
      "2020-06-15 15:29:28,012 - Changed Link attributes under index: 2200\n",
      "2020-06-15 15:29:28,025 - Changed Link attributes under index: 221\n",
      "2020-06-15 15:29:28,031 - Changed Link attributes under index: 2218\n",
      "2020-06-15 15:29:28,040 - Changed Link attributes under index: 2219\n",
      "2020-06-15 15:29:28,046 - Changed Link attributes under index: 222\n",
      "2020-06-15 15:29:28,055 - Changed Link attributes under index: 2233\n",
      "2020-06-15 15:29:28,064 - Changed Link attributes under index: 2234\n",
      "2020-06-15 15:29:28,075 - Changed Link attributes under index: 2235\n",
      "2020-06-15 15:29:28,080 - Changed Link attributes under index: 2236\n",
      "2020-06-15 15:29:28,085 - Changed Link attributes under index: 2237\n",
      "2020-06-15 15:29:28,089 - Changed Link attributes under index: 2238\n",
      "2020-06-15 15:29:28,096 - Changed Link attributes under index: 2253\n",
      "2020-06-15 15:29:28,102 - Changed Link attributes under index: 2254\n",
      "2020-06-15 15:29:28,106 - Changed Link attributes under index: 2255\n",
      "2020-06-15 15:29:28,111 - Changed Link attributes under index: 2256\n",
      "2020-06-15 15:29:28,126 - Changed Link attributes under index: 2257\n"
     ]
    },
    {
     "name": "stderr",
     "output_type": "stream",
     "text": [
      "2020-06-15 15:29:28,130 - Changed Link attributes under index: 2258\n",
      "2020-06-15 15:29:28,138 - Changed Link attributes under index: 2259\n",
      "2020-06-15 15:29:28,146 - Changed Link attributes under index: 226\n",
      "2020-06-15 15:29:28,151 - Changed Link attributes under index: 2260\n",
      "2020-06-15 15:29:28,157 - Changed Link attributes under index: 2261\n",
      "2020-06-15 15:29:28,163 - Changed Link attributes under index: 2262\n",
      "2020-06-15 15:29:28,168 - Changed Link attributes under index: 2263\n",
      "2020-06-15 15:29:28,173 - Changed Link attributes under index: 2264\n",
      "2020-06-15 15:29:28,178 - Changed Link attributes under index: 2265\n",
      "2020-06-15 15:29:28,183 - Changed Link attributes under index: 2266\n",
      "2020-06-15 15:29:28,188 - Changed Link attributes under index: 2267\n",
      "2020-06-15 15:29:28,193 - Changed Link attributes under index: 2268\n",
      "2020-06-15 15:29:28,198 - Changed Link attributes under index: 2269\n",
      "2020-06-15 15:29:28,204 - Changed Link attributes under index: 227\n",
      "2020-06-15 15:29:28,215 - Changed Link attributes under index: 2270\n",
      "2020-06-15 15:29:28,220 - Changed Link attributes under index: 2271\n",
      "2020-06-15 15:29:28,225 - Changed Link attributes under index: 2272\n",
      "2020-06-15 15:29:28,230 - Changed Link attributes under index: 2273\n",
      "2020-06-15 15:29:28,235 - Changed Link attributes under index: 228\n",
      "2020-06-15 15:29:28,240 - Changed Link attributes under index: 229\n",
      "2020-06-15 15:29:28,244 - Changed Link attributes under index: 2296\n",
      "2020-06-15 15:29:28,250 - Changed Link attributes under index: 2297\n",
      "2020-06-15 15:29:28,259 - Changed Link attributes under index: 2298\n",
      "2020-06-15 15:29:28,267 - Changed Link attributes under index: 2299\n",
      "2020-06-15 15:29:28,274 - Changed Link attributes under index: 2315\n",
      "2020-06-15 15:29:28,284 - Changed Link attributes under index: 2316\n",
      "2020-06-15 15:29:28,290 - Changed Link attributes under index: 2317\n",
      "2020-06-15 15:29:28,295 - Changed Link attributes under index: 2318\n",
      "2020-06-15 15:29:28,300 - Changed Link attributes under index: 232\n",
      "2020-06-15 15:29:28,307 - Changed Link attributes under index: 2322\n",
      "2020-06-15 15:29:28,315 - Changed Link attributes under index: 233\n",
      "2020-06-15 15:29:28,321 - Changed Link attributes under index: 2330\n",
      "2020-06-15 15:29:28,328 - Changed Link attributes under index: 2331\n",
      "2020-06-15 15:29:28,335 - Changed Link attributes under index: 2334\n",
      "2020-06-15 15:29:28,340 - Changed Link attributes under index: 2335\n",
      "2020-06-15 15:29:28,349 - Changed Link attributes under index: 2336\n",
      "2020-06-15 15:29:28,357 - Changed Link attributes under index: 2337\n",
      "2020-06-15 15:29:28,363 - Changed Link attributes under index: 2357\n",
      "2020-06-15 15:29:28,371 - Changed Link attributes under index: 2387\n",
      "2020-06-15 15:29:28,379 - Changed Link attributes under index: 2389\n",
      "2020-06-15 15:29:28,387 - Changed Link attributes under index: 2407\n",
      "2020-06-15 15:29:28,393 - Changed Link attributes under index: 241\n",
      "2020-06-15 15:29:28,401 - Changed Link attributes under index: 2426\n",
      "2020-06-15 15:29:28,407 - Changed Link attributes under index: 2427\n",
      "2020-06-15 15:29:28,412 - Changed Link attributes under index: 243\n",
      "2020-06-15 15:29:28,418 - Changed Link attributes under index: 2451\n",
      "2020-06-15 15:29:28,424 - Changed Link attributes under index: 2452\n",
      "2020-06-15 15:29:28,431 - Changed Link attributes under index: 2453\n",
      "2020-06-15 15:29:28,437 - Changed Link attributes under index: 2487\n",
      "2020-06-15 15:29:28,446 - Changed Link attributes under index: 2504\n",
      "2020-06-15 15:29:28,455 - Changed Link attributes under index: 2505\n",
      "2020-06-15 15:29:28,460 - Changed Link attributes under index: 2513\n",
      "2020-06-15 15:29:28,475 - Changed Link attributes under index: 2523\n",
      "2020-06-15 15:29:28,494 - Changed Link attributes under index: 2524\n",
      "2020-06-15 15:29:28,498 - Changed Link attributes under index: 2525\n",
      "2020-06-15 15:29:28,505 - Changed Link attributes under index: 2526\n",
      "2020-06-15 15:29:28,511 - Changed Link attributes under index: 2527\n",
      "2020-06-15 15:29:28,527 - Changed Link attributes under index: 2565\n",
      "2020-06-15 15:29:28,532 - Changed Link attributes under index: 257\n",
      "2020-06-15 15:29:28,543 - Changed Link attributes under index: 2579\n",
      "2020-06-15 15:29:28,548 - Changed Link attributes under index: 2585\n",
      "2020-06-15 15:29:28,557 - Changed Link attributes under index: 2590\n",
      "2020-06-15 15:29:28,561 - Changed Link attributes under index: 2593\n",
      "2020-06-15 15:29:28,567 - Changed Link attributes under index: 2594\n",
      "2020-06-15 15:29:28,572 - Changed Link attributes under index: 2605\n",
      "2020-06-15 15:29:28,578 - Changed Link attributes under index: 2606\n",
      "2020-06-15 15:29:28,584 - Changed Link attributes under index: 2612\n",
      "2020-06-15 15:29:28,589 - Changed Link attributes under index: 2614\n",
      "2020-06-15 15:29:28,593 - Changed Link attributes under index: 2617\n",
      "2020-06-15 15:29:28,601 - Changed Link attributes under index: 2641\n",
      "2020-06-15 15:29:28,606 - Changed Link attributes under index: 2642\n",
      "2020-06-15 15:29:28,610 - Changed Link attributes under index: 2643\n",
      "2020-06-15 15:29:28,616 - Changed Link attributes under index: 2644\n",
      "2020-06-15 15:29:28,621 - Changed Link attributes under index: 2645\n",
      "2020-06-15 15:29:28,626 - Changed Link attributes under index: 2646\n",
      "2020-06-15 15:29:28,631 - Changed Link attributes under index: 2647\n",
      "2020-06-15 15:29:28,637 - Changed Link attributes under index: 2648\n",
      "2020-06-15 15:29:28,642 - Changed Link attributes under index: 2649\n",
      "2020-06-15 15:29:28,648 - Changed Link attributes under index: 265\n",
      "2020-06-15 15:29:28,664 - Changed Link attributes under index: 2650\n",
      "2020-06-15 15:29:28,671 - Changed Link attributes under index: 2662\n",
      "2020-06-15 15:29:28,681 - Changed Link attributes under index: 2663\n",
      "2020-06-15 15:29:28,685 - Changed Link attributes under index: 2668\n",
      "2020-06-15 15:29:28,692 - Changed Link attributes under index: 2669\n",
      "2020-06-15 15:29:28,696 - Changed Link attributes under index: 267\n",
      "2020-06-15 15:29:28,701 - Changed Link attributes under index: 2694\n",
      "2020-06-15 15:29:28,708 - Changed Link attributes under index: 2695\n",
      "2020-06-15 15:29:28,716 - Changed Link attributes under index: 2708\n",
      "2020-06-15 15:29:28,724 - Changed Link attributes under index: 2709\n",
      "2020-06-15 15:29:28,729 - Changed Link attributes under index: 2710\n",
      "2020-06-15 15:29:28,734 - Changed Link attributes under index: 2711\n",
      "2020-06-15 15:29:28,739 - Changed Link attributes under index: 2712\n",
      "2020-06-15 15:29:28,744 - Changed Link attributes under index: 2713\n",
      "2020-06-15 15:29:28,750 - Changed Link attributes under index: 2715\n",
      "2020-06-15 15:29:28,760 - Changed Link attributes under index: 2718\n",
      "2020-06-15 15:29:28,771 - Changed Link attributes under index: 272\n",
      "2020-06-15 15:29:28,777 - Changed Link attributes under index: 2726\n",
      "2020-06-15 15:29:28,784 - Changed Link attributes under index: 273\n",
      "2020-06-15 15:29:28,792 - Changed Link attributes under index: 2742\n",
      "2020-06-15 15:29:28,800 - Changed Link attributes under index: 2743\n",
      "2020-06-15 15:29:28,809 - Changed Link attributes under index: 2744\n",
      "2020-06-15 15:29:28,815 - Changed Link attributes under index: 2746\n",
      "2020-06-15 15:29:28,821 - Changed Link attributes under index: 2747\n",
      "2020-06-15 15:29:28,826 - Changed Link attributes under index: 2748\n",
      "2020-06-15 15:29:28,831 - Changed Link attributes under index: 2749\n",
      "2020-06-15 15:29:28,836 - Changed Link attributes under index: 2754\n",
      "2020-06-15 15:29:28,841 - Changed Link attributes under index: 2755\n",
      "2020-06-15 15:29:28,845 - Changed Link attributes under index: 2794\n",
      "2020-06-15 15:29:28,851 - Changed Link attributes under index: 2795\n",
      "2020-06-15 15:29:28,860 - Changed Link attributes under index: 2796\n",
      "2020-06-15 15:29:28,873 - Changed Link attributes under index: 2797\n",
      "2020-06-15 15:29:28,882 - Changed Link attributes under index: 284\n",
      "2020-06-15 15:29:28,887 - Changed Link attributes under index: 2867\n",
      "2020-06-15 15:29:28,892 - Changed Link attributes under index: 2868\n",
      "2020-06-15 15:29:28,898 - Changed Link attributes under index: 2869\n",
      "2020-06-15 15:29:28,903 - Changed Link attributes under index: 2870\n",
      "2020-06-15 15:29:28,909 - Changed Link attributes under index: 2871\n",
      "2020-06-15 15:29:28,913 - Changed Link attributes under index: 2872\n",
      "2020-06-15 15:29:28,919 - Changed Link attributes under index: 2873\n",
      "2020-06-15 15:29:28,923 - Changed Link attributes under index: 2928\n",
      "2020-06-15 15:29:28,929 - Changed Link attributes under index: 2929\n"
     ]
    },
    {
     "name": "stderr",
     "output_type": "stream",
     "text": [
      "2020-06-15 15:29:28,933 - Changed Link attributes under index: 2930\n",
      "2020-06-15 15:29:28,939 - Changed Link attributes under index: 2931\n",
      "2020-06-15 15:29:28,944 - Changed Link attributes under index: 2942\n",
      "2020-06-15 15:29:28,951 - Changed Link attributes under index: 2943\n",
      "2020-06-15 15:29:28,956 - Changed Link attributes under index: 2944\n",
      "2020-06-15 15:29:28,961 - Changed Link attributes under index: 2945\n",
      "2020-06-15 15:29:28,965 - Changed Link attributes under index: 2946\n",
      "2020-06-15 15:29:28,971 - Changed Link attributes under index: 2947\n",
      "2020-06-15 15:29:28,975 - Changed Link attributes under index: 2948\n",
      "2020-06-15 15:29:28,981 - Changed Link attributes under index: 2949\n",
      "2020-06-15 15:29:28,986 - Changed Link attributes under index: 2950\n",
      "2020-06-15 15:29:28,998 - Changed Link attributes under index: 296\n",
      "2020-06-15 15:29:29,006 - Changed Link attributes under index: 297\n",
      "2020-06-15 15:29:29,014 - Changed Link attributes under index: 2987\n",
      "2020-06-15 15:29:29,020 - Changed Link attributes under index: 2989\n",
      "2020-06-15 15:29:29,024 - Changed Link attributes under index: 2990\n",
      "2020-06-15 15:29:29,030 - Changed Link attributes under index: 3013\n",
      "2020-06-15 15:29:29,036 - Changed Link attributes under index: 3016\n",
      "2020-06-15 15:29:29,040 - Changed Link attributes under index: 3017\n",
      "2020-06-15 15:29:29,047 - Changed Link attributes under index: 3018\n",
      "2020-06-15 15:29:29,051 - Changed Link attributes under index: 3027\n",
      "2020-06-15 15:29:29,057 - Changed Link attributes under index: 3028\n",
      "2020-06-15 15:29:29,061 - Changed Link attributes under index: 3029\n",
      "2020-06-15 15:29:29,075 - Changed Link attributes under index: 3035\n",
      "2020-06-15 15:29:29,084 - Changed Link attributes under index: 3036\n",
      "2020-06-15 15:29:29,096 - Changed Link attributes under index: 3038\n",
      "2020-06-15 15:29:29,103 - Changed Link attributes under index: 3039\n",
      "2020-06-15 15:29:29,112 - Changed Link attributes under index: 3040\n",
      "2020-06-15 15:29:29,121 - Changed Link attributes under index: 3041\n",
      "2020-06-15 15:29:29,127 - Changed Link attributes under index: 3042\n",
      "2020-06-15 15:29:29,132 - Changed Link attributes under index: 3050\n",
      "2020-06-15 15:29:29,137 - Changed Link attributes under index: 3055\n",
      "2020-06-15 15:29:29,142 - Changed Link attributes under index: 3057\n",
      "2020-06-15 15:29:29,146 - Changed Link attributes under index: 3062\n",
      "2020-06-15 15:29:29,152 - Changed Link attributes under index: 3067\n",
      "2020-06-15 15:29:29,162 - Changed Link attributes under index: 3068\n",
      "2020-06-15 15:29:29,171 - Changed Link attributes under index: 3077\n",
      "2020-06-15 15:29:29,181 - Changed Link attributes under index: 3078\n",
      "2020-06-15 15:29:29,185 - Changed Link attributes under index: 3079\n",
      "2020-06-15 15:29:29,191 - Changed Link attributes under index: 308\n",
      "2020-06-15 15:29:29,198 - Changed Link attributes under index: 3080\n",
      "2020-06-15 15:29:29,204 - Changed Link attributes under index: 3100\n",
      "2020-06-15 15:29:29,209 - Changed Link attributes under index: 3114\n",
      "2020-06-15 15:29:29,218 - Changed Link attributes under index: 3115\n",
      "2020-06-15 15:29:29,227 - Changed Link attributes under index: 3126\n",
      "2020-06-15 15:29:29,231 - Changed Link attributes under index: 3127\n",
      "2020-06-15 15:29:29,237 - Changed Link attributes under index: 3128\n",
      "2020-06-15 15:29:29,241 - Changed Link attributes under index: 3129\n",
      "2020-06-15 15:29:29,248 - Changed Link attributes under index: 3130\n",
      "2020-06-15 15:29:29,253 - Changed Link attributes under index: 3131\n",
      "2020-06-15 15:29:29,258 - Changed Link attributes under index: 3139\n",
      "2020-06-15 15:29:29,264 - Changed Link attributes under index: 3140\n",
      "2020-06-15 15:29:29,268 - Changed Link attributes under index: 3141\n",
      "2020-06-15 15:29:29,274 - Changed Link attributes under index: 3142\n",
      "2020-06-15 15:29:29,281 - Changed Link attributes under index: 3148\n",
      "2020-06-15 15:29:29,287 - Changed Link attributes under index: 3149\n",
      "2020-06-15 15:29:29,293 - Changed Link attributes under index: 3150\n",
      "2020-06-15 15:29:29,315 - Changed Link attributes under index: 3154\n",
      "2020-06-15 15:29:29,321 - Changed Link attributes under index: 3155\n",
      "2020-06-15 15:29:29,333 - Changed Link attributes under index: 3159\n",
      "2020-06-15 15:29:29,337 - Changed Link attributes under index: 3160\n",
      "2020-06-15 15:29:29,343 - Changed Link attributes under index: 3161\n",
      "2020-06-15 15:29:29,348 - Changed Link attributes under index: 3162\n",
      "2020-06-15 15:29:29,354 - Changed Link attributes under index: 3173\n",
      "2020-06-15 15:29:29,360 - Changed Link attributes under index: 3174\n",
      "2020-06-15 15:29:29,366 - Changed Link attributes under index: 3177\n",
      "2020-06-15 15:29:29,371 - Changed Link attributes under index: 3178\n",
      "2020-06-15 15:29:29,387 - Changed Link attributes under index: 3181\n",
      "2020-06-15 15:29:29,398 - Changed Link attributes under index: 3182\n",
      "2020-06-15 15:29:29,410 - Changed Link attributes under index: 319\n",
      "2020-06-15 15:29:29,437 - Changed Link attributes under index: 320\n",
      "2020-06-15 15:29:29,447 - Changed Link attributes under index: 3213\n",
      "2020-06-15 15:29:29,453 - Changed Link attributes under index: 3214\n",
      "2020-06-15 15:29:29,457 - Changed Link attributes under index: 3215\n",
      "2020-06-15 15:29:29,464 - Changed Link attributes under index: 3216\n",
      "2020-06-15 15:29:29,468 - Changed Link attributes under index: 3217\n",
      "2020-06-15 15:29:29,473 - Changed Link attributes under index: 3229\n",
      "2020-06-15 15:29:29,478 - Changed Link attributes under index: 3252\n",
      "2020-06-15 15:29:29,484 - Changed Link attributes under index: 3253\n",
      "2020-06-15 15:29:29,489 - Changed Link attributes under index: 3254\n",
      "2020-06-15 15:29:29,495 - Changed Link attributes under index: 3255\n",
      "2020-06-15 15:29:29,500 - Changed Link attributes under index: 3264\n",
      "2020-06-15 15:29:29,505 - Changed Link attributes under index: 3265\n",
      "2020-06-15 15:29:29,510 - Changed Link attributes under index: 3266\n",
      "2020-06-15 15:29:29,516 - Changed Link attributes under index: 3267\n",
      "2020-06-15 15:29:29,520 - Changed Link attributes under index: 3268\n",
      "2020-06-15 15:29:29,526 - Changed Link attributes under index: 3269\n",
      "2020-06-15 15:29:29,530 - Changed Link attributes under index: 3270\n",
      "2020-06-15 15:29:29,536 - Changed Link attributes under index: 3274\n",
      "2020-06-15 15:29:29,540 - Changed Link attributes under index: 3275\n",
      "2020-06-15 15:29:29,547 - Changed Link attributes under index: 3278\n",
      "2020-06-15 15:29:29,551 - Changed Link attributes under index: 3279\n",
      "2020-06-15 15:29:29,557 - Changed Link attributes under index: 329\n",
      "2020-06-15 15:29:29,573 - Changed Link attributes under index: 3292\n",
      "2020-06-15 15:29:29,584 - Changed Link attributes under index: 3293\n",
      "2020-06-15 15:29:29,591 - Changed Link attributes under index: 330\n",
      "2020-06-15 15:29:29,597 - Changed Link attributes under index: 3302\n",
      "2020-06-15 15:29:29,602 - Changed Link attributes under index: 3303\n",
      "2020-06-15 15:29:29,606 - Changed Link attributes under index: 331\n",
      "2020-06-15 15:29:29,613 - Changed Link attributes under index: 3313\n",
      "2020-06-15 15:29:29,618 - Changed Link attributes under index: 3314\n",
      "2020-06-15 15:29:29,624 - Changed Link attributes under index: 3315\n",
      "2020-06-15 15:29:29,628 - Changed Link attributes under index: 3318\n",
      "2020-06-15 15:29:29,641 - Changed Link attributes under index: 3319\n",
      "2020-06-15 15:29:29,653 - Changed Link attributes under index: 332\n",
      "2020-06-15 15:29:29,665 - Changed Link attributes under index: 3320\n",
      "2020-06-15 15:29:29,687 - Changed Link attributes under index: 3321\n",
      "2020-06-15 15:29:29,700 - Changed Link attributes under index: 3322\n",
      "2020-06-15 15:29:29,706 - Changed Link attributes under index: 3346\n",
      "2020-06-15 15:29:29,715 - Changed Link attributes under index: 3347\n",
      "2020-06-15 15:29:29,724 - Changed Link attributes under index: 3352\n",
      "2020-06-15 15:29:29,732 - Changed Link attributes under index: 3355\n",
      "2020-06-15 15:29:29,739 - Changed Link attributes under index: 352\n",
      "2020-06-15 15:29:29,743 - Changed Link attributes under index: 353\n",
      "2020-06-15 15:29:29,749 - Changed Link attributes under index: 357\n",
      "2020-06-15 15:29:29,754 - Changed Link attributes under index: 358\n",
      "2020-06-15 15:29:29,759 - Changed Link attributes under index: 359\n",
      "2020-06-15 15:29:29,764 - Changed Link attributes under index: 369\n",
      "2020-06-15 15:29:29,769 - Changed Link attributes under index: 370\n",
      "2020-06-15 15:29:29,773 - Changed Link attributes under index: 382\n",
      "2020-06-15 15:29:29,780 - Changed Link attributes under index: 383\n"
     ]
    },
    {
     "name": "stderr",
     "output_type": "stream",
     "text": [
      "2020-06-15 15:29:29,784 - Changed Link attributes under index: 399\n",
      "2020-06-15 15:29:29,790 - Changed Link attributes under index: 416\n",
      "2020-06-15 15:29:29,800 - Changed Link attributes under index: 417\n",
      "2020-06-15 15:29:29,817 - Changed Link attributes under index: 424\n",
      "2020-06-15 15:29:29,828 - Changed Link attributes under index: 425\n",
      "2020-06-15 15:29:29,836 - Changed Link attributes under index: 426\n",
      "2020-06-15 15:29:29,842 - Changed Link attributes under index: 441\n",
      "2020-06-15 15:29:29,846 - Changed Link attributes under index: 464\n",
      "2020-06-15 15:29:29,852 - Changed Link attributes under index: 466\n",
      "2020-06-15 15:29:29,856 - Changed Link attributes under index: 467\n",
      "2020-06-15 15:29:29,863 - Changed Link attributes under index: 497\n",
      "2020-06-15 15:29:29,868 - Changed Link attributes under index: 504\n",
      "2020-06-15 15:29:29,880 - Changed Link attributes under index: 505\n",
      "2020-06-15 15:29:29,888 - Changed Link attributes under index: 506\n",
      "2020-06-15 15:29:29,898 - Changed Link attributes under index: 519\n",
      "2020-06-15 15:29:29,904 - Changed Link attributes under index: 521\n",
      "2020-06-15 15:29:29,908 - Changed Link attributes under index: 532\n",
      "2020-06-15 15:29:29,919 - Changed Link attributes under index: 55\n",
      "2020-06-15 15:29:29,929 - Changed Link attributes under index: 554\n",
      "2020-06-15 15:29:29,938 - Changed Link attributes under index: 557\n",
      "2020-06-15 15:29:29,954 - Changed Link attributes under index: 558\n",
      "2020-06-15 15:29:29,963 - Changed Link attributes under index: 559\n",
      "2020-06-15 15:29:29,973 - Changed Link attributes under index: 560\n",
      "2020-06-15 15:29:29,979 - Changed Link attributes under index: 567\n",
      "2020-06-15 15:29:29,984 - Changed Link attributes under index: 574\n",
      "2020-06-15 15:29:29,990 - Changed Link attributes under index: 575\n",
      "2020-06-15 15:29:29,996 - Changed Link attributes under index: 59\n",
      "2020-06-15 15:29:30,002 - Changed Link attributes under index: 591\n",
      "2020-06-15 15:29:30,009 - Changed Link attributes under index: 592\n",
      "2020-06-15 15:29:30,014 - Changed Link attributes under index: 593\n",
      "2020-06-15 15:29:30,020 - Changed Link attributes under index: 594\n",
      "2020-06-15 15:29:30,024 - Changed Link attributes under index: 597\n",
      "2020-06-15 15:29:30,029 - Changed Link attributes under index: 598\n",
      "2020-06-15 15:29:30,035 - Changed Link attributes under index: 599\n",
      "2020-06-15 15:29:30,040 - Changed Link attributes under index: 6\n",
      "2020-06-15 15:29:30,044 - Changed Link attributes under index: 60\n",
      "2020-06-15 15:29:30,051 - Changed Link attributes under index: 600\n",
      "2020-06-15 15:29:30,062 - Changed Link attributes under index: 601\n",
      "2020-06-15 15:29:30,070 - Changed Link attributes under index: 602\n",
      "2020-06-15 15:29:30,079 - Changed Link attributes under index: 608\n",
      "2020-06-15 15:29:30,086 - Changed Link attributes under index: 609\n",
      "2020-06-15 15:29:30,093 - Changed Link attributes under index: 62\n",
      "2020-06-15 15:29:30,099 - Changed Link attributes under index: 63\n",
      "2020-06-15 15:29:30,103 - Changed Link attributes under index: 662\n",
      "2020-06-15 15:29:30,109 - Changed Link attributes under index: 669\n",
      "2020-06-15 15:29:30,113 - Changed Link attributes under index: 67\n",
      "2020-06-15 15:29:30,119 - Changed Link attributes under index: 68\n",
      "2020-06-15 15:29:30,131 - Changed Link attributes under index: 682\n",
      "2020-06-15 15:29:30,142 - Changed Link attributes under index: 684\n",
      "2020-06-15 15:29:30,154 - Changed Link attributes under index: 687\n",
      "2020-06-15 15:29:30,158 - Changed Link attributes under index: 690\n",
      "2020-06-15 15:29:30,166 - Changed Link attributes under index: 692\n",
      "2020-06-15 15:29:30,171 - Changed Link attributes under index: 693\n",
      "2020-06-15 15:29:30,179 - Changed Link attributes under index: 694\n",
      "2020-06-15 15:29:30,185 - Changed Link attributes under index: 695\n",
      "2020-06-15 15:29:30,192 - Changed Link attributes under index: 696\n",
      "2020-06-15 15:29:30,198 - Changed Link attributes under index: 697\n",
      "2020-06-15 15:29:30,203 - Changed Link attributes under index: 724\n",
      "2020-06-15 15:29:30,211 - Changed Link attributes under index: 725\n",
      "2020-06-15 15:29:30,217 - Changed Link attributes under index: 726\n",
      "2020-06-15 15:29:30,229 - Changed Link attributes under index: 730\n",
      "2020-06-15 15:29:30,236 - Changed Link attributes under index: 735\n",
      "2020-06-15 15:29:30,241 - Changed Link attributes under index: 736\n",
      "2020-06-15 15:29:30,246 - Changed Link attributes under index: 737\n",
      "2020-06-15 15:29:30,251 - Changed Link attributes under index: 738\n",
      "2020-06-15 15:29:30,258 - Changed Link attributes under index: 739\n",
      "2020-06-15 15:29:30,274 - Changed Link attributes under index: 740\n",
      "2020-06-15 15:29:30,294 - Changed Link attributes under index: 752\n",
      "2020-06-15 15:29:30,308 - Changed Link attributes under index: 753\n",
      "2020-06-15 15:29:30,325 - Changed Link attributes under index: 755\n",
      "2020-06-15 15:29:30,329 - Changed Link attributes under index: 756\n",
      "2020-06-15 15:29:30,335 - Changed Link attributes under index: 757\n",
      "2020-06-15 15:29:30,341 - Changed Link attributes under index: 758\n",
      "2020-06-15 15:29:30,346 - Changed Link attributes under index: 759\n",
      "2020-06-15 15:29:30,352 - Changed Link attributes under index: 760\n",
      "2020-06-15 15:29:30,378 - Changed Link attributes under index: 761\n",
      "2020-06-15 15:29:30,384 - Changed Link attributes under index: 762\n",
      "2020-06-15 15:29:30,392 - Changed Link attributes under index: 763\n",
      "2020-06-15 15:29:30,400 - Changed Link attributes under index: 764\n",
      "2020-06-15 15:29:30,406 - Changed Link attributes under index: 766\n",
      "2020-06-15 15:29:30,413 - Changed Link attributes under index: 771\n",
      "2020-06-15 15:29:30,420 - Changed Link attributes under index: 772\n",
      "2020-06-15 15:29:30,426 - Changed Link attributes under index: 782\n",
      "2020-06-15 15:29:30,433 - Changed Link attributes under index: 791\n",
      "2020-06-15 15:29:30,440 - Changed Link attributes under index: 817\n",
      "2020-06-15 15:29:30,446 - Changed Link attributes under index: 818\n",
      "2020-06-15 15:29:30,453 - Changed Link attributes under index: 819\n",
      "2020-06-15 15:29:30,459 - Changed Link attributes under index: 820\n",
      "2020-06-15 15:29:30,463 - Changed Link attributes under index: 821\n",
      "2020-06-15 15:29:30,469 - Changed Link attributes under index: 823\n",
      "2020-06-15 15:29:30,475 - Changed Link attributes under index: 824\n",
      "2020-06-15 15:29:30,480 - Changed Link attributes under index: 825\n",
      "2020-06-15 15:29:30,486 - Changed Link attributes under index: 826\n",
      "2020-06-15 15:29:30,503 - Changed Link attributes under index: 827\n",
      "2020-06-15 15:29:30,515 - Changed Link attributes under index: 828\n",
      "2020-06-15 15:29:30,521 - Changed Link attributes under index: 830\n",
      "2020-06-15 15:29:30,528 - Changed Link attributes under index: 831\n",
      "2020-06-15 15:29:30,534 - Changed Link attributes under index: 833\n",
      "2020-06-15 15:29:30,539 - Changed Link attributes under index: 834\n",
      "2020-06-15 15:29:30,544 - Changed Link attributes under index: 839\n",
      "2020-06-15 15:29:30,549 - Changed Link attributes under index: 840\n",
      "2020-06-15 15:29:30,555 - Changed Link attributes under index: 855\n",
      "2020-06-15 15:29:30,577 - Changed Link attributes under index: 857\n",
      "2020-06-15 15:29:30,590 - Changed Link attributes under index: 87\n",
      "2020-06-15 15:29:30,595 - Changed Link attributes under index: 879\n",
      "2020-06-15 15:29:30,601 - Changed Link attributes under index: 884\n",
      "2020-06-15 15:29:30,608 - Changed Link attributes under index: 885\n",
      "2020-06-15 15:29:30,614 - Changed Link attributes under index: 886\n",
      "2020-06-15 15:29:30,623 - Changed Link attributes under index: 896\n",
      "2020-06-15 15:29:30,631 - Changed Link attributes under index: 898\n",
      "2020-06-15 15:29:30,637 - Changed Link attributes under index: 910\n",
      "2020-06-15 15:29:30,643 - Changed Link attributes under index: 935\n",
      "2020-06-15 15:29:30,651 - Changed Link attributes under index: 936\n",
      "2020-06-15 15:29:30,658 - Changed Link attributes under index: 937\n",
      "2020-06-15 15:29:30,663 - Changed Link attributes under index: 938\n",
      "2020-06-15 15:29:30,668 - Changed Link attributes under index: 950\n",
      "2020-06-15 15:29:30,673 - Changed Link attributes under index: 951\n",
      "2020-06-15 15:29:30,678 - Changed Link attributes under index: 952\n",
      "2020-06-15 15:29:30,683 - Changed Link attributes under index: 953\n",
      "2020-06-15 15:29:30,688 - Changed Link attributes under index: 954\n",
      "2020-06-15 15:29:30,695 - Changed Link attributes under index: 955\n",
      "2020-06-15 15:29:30,707 - Changed Link attributes under index: 956\n",
      "2020-06-15 15:29:30,714 - Changed Link attributes under index: 957\n"
     ]
    },
    {
     "name": "stderr",
     "output_type": "stream",
     "text": [
      "2020-06-15 15:29:30,721 - Changed Link attributes under index: 958\n",
      "2020-06-15 15:29:30,737 - Changed Link attributes under index: 959\n",
      "2020-06-15 15:29:30,745 - Changed Link attributes under index: 960\n",
      "2020-06-15 15:29:30,750 - Changed Link attributes under index: 961\n",
      "2020-06-15 15:29:30,755 - Changed Link attributes under index: 962\n",
      "2020-06-15 15:29:30,760 - Changed Link attributes under index: 963\n",
      "2020-06-15 15:29:30,765 - Changed Link attributes under index: 964\n",
      "2020-06-15 15:29:30,770 - Changed Link attributes under index: 965\n",
      "2020-06-15 15:29:30,777 - Changed Link attributes under index: 979\n",
      "2020-06-15 15:29:30,785 - Changed Link attributes under index: 980\n",
      "2020-06-15 15:29:30,796 - Changed Link attributes under index: 981\n",
      "2020-06-15 15:29:30,807 - Changed Link attributes under index: 987\n"
     ]
    }
   ],
   "source": [
    "n.apply_attributes_to_links(links, {'attributes': {'osm:way:highway': {'text': 'SOMETHING'}}})"
   ]
  },
  {
   "cell_type": "code",
   "execution_count": 49,
   "metadata": {
    "ExecuteTime": {
     "end_time": "2020-06-15T14:29:30.820053Z",
     "start_time": "2020-06-15T14:29:30.812105Z"
    }
   },
   "outputs": [
    {
     "data": {
      "text/plain": [
       "{'id': '1007',\n",
       " 'from': '4356572310',\n",
       " 'to': '5811263955',\n",
       " 'freespeed': 22.22222222222222,\n",
       " 'capacity': 3000.0,\n",
       " 'permlanes': 2.0,\n",
       " 'oneway': '1',\n",
       " 'modes': ['car'],\n",
       " 's2_from': 5221390723045407809,\n",
       " 's2_to': 5221390723040504387,\n",
       " 'length': 13.941905154249884,\n",
       " 'attributes': {'osm:way:highway': {'name': 'osm:way:highway',\n",
       "   'class': 'java.lang.String',\n",
       "   'text': 'SOMETHING'},\n",
       "  'osm:way:id': {'name': 'osm:way:id',\n",
       "   'class': 'java.lang.Long',\n",
       "   'text': '589660342'},\n",
       "  'osm:way:lanes': {'name': 'osm:way:lanes',\n",
       "   'class': 'java.lang.String',\n",
       "   'text': '2'},\n",
       "  'osm:way:name': {'name': 'osm:way:name',\n",
       "   'class': 'java.lang.String',\n",
       "   'text': 'Shaftesbury Avenue'},\n",
       "  'osm:way:oneway': {'name': 'osm:way:oneway',\n",
       "   'class': 'java.lang.String',\n",
       "   'text': 'yes'}}}"
      ]
     },
     "execution_count": 49,
     "metadata": {},
     "output_type": "execute_result"
    }
   ],
   "source": [
    "n.link(links[0])"
   ]
  },
  {
   "cell_type": "code",
   "execution_count": 50,
   "metadata": {
    "ExecuteTime": {
     "end_time": "2020-06-15T14:29:30.846840Z",
     "start_time": "2020-06-15T14:29:30.824195Z"
    },
    "scrolled": true
   },
   "outputs": [
    {
     "data": {
      "text/html": [
       "<div>\n",
       "<style scoped>\n",
       "    .dataframe tbody tr th:only-of-type {\n",
       "        vertical-align: middle;\n",
       "    }\n",
       "\n",
       "    .dataframe tbody tr th {\n",
       "        vertical-align: top;\n",
       "    }\n",
       "\n",
       "    .dataframe thead th {\n",
       "        text-align: right;\n",
       "    }\n",
       "</style>\n",
       "<table border=\"1\" class=\"dataframe\">\n",
       "  <thead>\n",
       "    <tr style=\"text-align: right;\">\n",
       "      <th></th>\n",
       "      <th>timestamp</th>\n",
       "      <th>change_event</th>\n",
       "      <th>object_type</th>\n",
       "      <th>old_id</th>\n",
       "      <th>new_id</th>\n",
       "      <th>old_attributes</th>\n",
       "      <th>new_attributes</th>\n",
       "      <th>diff</th>\n",
       "    </tr>\n",
       "  </thead>\n",
       "  <tbody>\n",
       "    <tr>\n",
       "      <th>0</th>\n",
       "      <td>2020-06-15 15:29:26</td>\n",
       "      <td>add</td>\n",
       "      <td>link</td>\n",
       "      <td>None</td>\n",
       "      <td>proposed_index</td>\n",
       "      <td>None</td>\n",
       "      <td>{'from': '4356572310', 'to': '5811263955', 'id...</td>\n",
       "      <td>[(add, , [('from', '4356572310'), ('to', '5811...</td>\n",
       "    </tr>\n",
       "    <tr>\n",
       "      <th>1</th>\n",
       "      <td>2020-06-15 15:29:26</td>\n",
       "      <td>add</td>\n",
       "      <td>node</td>\n",
       "      <td>None</td>\n",
       "      <td>proposed_index</td>\n",
       "      <td>None</td>\n",
       "      <td>{'data': 'some_data'}</td>\n",
       "      <td>[(add, , [('data', 'some_data')]), (add, id, p...</td>\n",
       "    </tr>\n",
       "    <tr>\n",
       "      <th>2</th>\n",
       "      <td>2020-06-15 15:29:26</td>\n",
       "      <td>add</td>\n",
       "      <td>link</td>\n",
       "      <td>None</td>\n",
       "      <td>fb0a34ee-8b90-4294-8973-4e94d6485cd7</td>\n",
       "      <td>None</td>\n",
       "      <td>{'from': '4356572310', 'to': '5811263955', 'id...</td>\n",
       "      <td>[(add, , [('from', '4356572310'), ('to', '5811...</td>\n",
       "    </tr>\n",
       "    <tr>\n",
       "      <th>3</th>\n",
       "      <td>2020-06-15 15:29:26</td>\n",
       "      <td>modify</td>\n",
       "      <td>node</td>\n",
       "      <td>proposed_index</td>\n",
       "      <td>another_index</td>\n",
       "      <td>{'data': 'some_data'}</td>\n",
       "      <td>{'data': 'some_data', 'id': 'another_index'}</td>\n",
       "      <td>[(add, , [('id', 'another_index')]), (change, ...</td>\n",
       "    </tr>\n",
       "    <tr>\n",
       "      <th>4</th>\n",
       "      <td>2020-06-15 15:29:26</td>\n",
       "      <td>modify</td>\n",
       "      <td>node</td>\n",
       "      <td>proposed_index</td>\n",
       "      <td>proposed_index</td>\n",
       "      <td>{'data': 'some_data'}</td>\n",
       "      <td>{'data': 'some_data', 'id': 'another_index'}</td>\n",
       "      <td>[(add, , [('id', 'another_index')])]</td>\n",
       "    </tr>\n",
       "  </tbody>\n",
       "</table>\n",
       "</div>"
      ],
      "text/plain": [
       "             timestamp change_event object_type          old_id  \\\n",
       "0  2020-06-15 15:29:26          add        link            None   \n",
       "1  2020-06-15 15:29:26          add        node            None   \n",
       "2  2020-06-15 15:29:26          add        link            None   \n",
       "3  2020-06-15 15:29:26       modify        node  proposed_index   \n",
       "4  2020-06-15 15:29:26       modify        node  proposed_index   \n",
       "\n",
       "                                 new_id         old_attributes  \\\n",
       "0                        proposed_index                   None   \n",
       "1                        proposed_index                   None   \n",
       "2  fb0a34ee-8b90-4294-8973-4e94d6485cd7                   None   \n",
       "3                         another_index  {'data': 'some_data'}   \n",
       "4                        proposed_index  {'data': 'some_data'}   \n",
       "\n",
       "                                      new_attributes  \\\n",
       "0  {'from': '4356572310', 'to': '5811263955', 'id...   \n",
       "1                              {'data': 'some_data'}   \n",
       "2  {'from': '4356572310', 'to': '5811263955', 'id...   \n",
       "3       {'data': 'some_data', 'id': 'another_index'}   \n",
       "4       {'data': 'some_data', 'id': 'another_index'}   \n",
       "\n",
       "                                                diff  \n",
       "0  [(add, , [('from', '4356572310'), ('to', '5811...  \n",
       "1  [(add, , [('data', 'some_data')]), (add, id, p...  \n",
       "2  [(add, , [('from', '4356572310'), ('to', '5811...  \n",
       "3  [(add, , [('id', 'another_index')]), (change, ...  \n",
       "4               [(add, , [('id', 'another_index')])]  "
      ]
     },
     "execution_count": 50,
     "metadata": {},
     "output_type": "execute_result"
    }
   ],
   "source": [
    "n.change_log.log.head()"
   ]
  },
  {
   "cell_type": "code",
   "execution_count": 51,
   "metadata": {
    "ExecuteTime": {
     "end_time": "2020-06-15T14:29:30.857142Z",
     "start_time": "2020-06-15T14:29:30.849530Z"
    }
   },
   "outputs": [
    {
     "data": {
      "text/plain": [
       "\"{'id': '959', 'from': '300501141', 'to': '294158420', 'freespeed': 22.22222222222222, 'capacity': 1500.0, 'permlanes': 1.0, 'oneway': '1', 'modes': ['car'], 's2_from': 5221390337863745429, 's2_to': 5221390337351379383, 'length': 90.65828423645875, 'attributes': {'osm:relation:route': {'name': 'osm:relation:route', 'class': 'java.lang.String', 'text': 'bus'}, 'osm:way:highway': {'name': 'osm:way:highway', 'class': 'java.lang.String', 'text': 'primary'}, 'osm:way:id': {'name': 'osm:way:id', 'class': 'java.lang.Long', 'text': '26785612'}, 'osm:way:name': {'name': 'osm:way:name', 'class': 'java.lang.String', 'text': 'Albany Street'}}}\""
      ]
     },
     "execution_count": 51,
     "metadata": {},
     "output_type": "execute_result"
    }
   ],
   "source": [
    "n.change_log.log.loc[618, :]['old_attributes']"
   ]
  },
  {
   "cell_type": "code",
   "execution_count": 52,
   "metadata": {
    "ExecuteTime": {
     "end_time": "2020-06-15T14:29:30.866859Z",
     "start_time": "2020-06-15T14:29:30.859201Z"
    }
   },
   "outputs": [
    {
     "data": {
      "text/plain": [
       "\"{'id': '959', 'from': '300501141', 'to': '294158420', 'freespeed': 22.22222222222222, 'capacity': 1500.0, 'permlanes': 1.0, 'oneway': '1', 'modes': ['car'], 's2_from': 5221390337863745429, 's2_to': 5221390337351379383, 'length': 90.65828423645875, 'attributes': {'osm:relation:route': {'name': 'osm:relation:route', 'class': 'java.lang.String', 'text': 'bus'}, 'osm:way:highway': {'name': 'osm:way:highway', 'class': 'java.lang.String', 'text': 'SOMETHING'}, 'osm:way:id': {'name': 'osm:way:id', 'class': 'java.lang.Long', 'text': '26785612'}, 'osm:way:name': {'name': 'osm:way:name', 'class': 'java.lang.String', 'text': 'Albany Street'}}}\""
      ]
     },
     "execution_count": 52,
     "metadata": {},
     "output_type": "execute_result"
    }
   ],
   "source": [
    "n.change_log.log.loc[618, :]['new_attributes']"
   ]
  },
  {
   "cell_type": "code",
   "execution_count": 53,
   "metadata": {
    "ExecuteTime": {
     "end_time": "2020-06-15T14:29:30.876430Z",
     "start_time": "2020-06-15T14:29:30.869629Z"
    }
   },
   "outputs": [
    {
     "data": {
      "text/plain": [
       "[('change', 'attributes.osm:way:highway.text', ('primary', 'SOMETHING'))]"
      ]
     },
     "execution_count": 53,
     "metadata": {},
     "output_type": "execute_result"
    }
   ],
   "source": [
    "n.change_log.log.loc[618, :]['diff']"
   ]
  },
  {
   "cell_type": "markdown",
   "metadata": {},
   "source": [
    "## Modifying the `Schedule` object"
   ]
  },
  {
   "cell_type": "code",
   "execution_count": null,
   "metadata": {},
   "outputs": [],
   "source": []
  },
  {
   "cell_type": "code",
   "execution_count": null,
   "metadata": {},
   "outputs": [],
   "source": []
  },
  {
   "cell_type": "code",
   "execution_count": null,
   "metadata": {},
   "outputs": [],
   "source": []
  },
  {
   "cell_type": "code",
   "execution_count": null,
   "metadata": {},
   "outputs": [],
   "source": []
  },
  {
   "cell_type": "code",
   "execution_count": null,
   "metadata": {},
   "outputs": [],
   "source": []
  },
  {
   "cell_type": "code",
   "execution_count": null,
   "metadata": {},
   "outputs": [],
   "source": []
  },
  {
   "cell_type": "markdown",
   "metadata": {},
   "source": [
    "## Validation"
   ]
  },
  {
   "cell_type": "raw",
   "metadata": {
    "ExecuteTime": {
     "end_time": "2020-06-15T14:19:23.037081Z",
     "start_time": "2020-06-15T14:19:22.877258Z"
    }
   },
   "source": [
    "n.plot()"
   ]
  },
  {
   "cell_type": "raw",
   "metadata": {
    "ExecuteTime": {
     "end_time": "2020-06-15T14:19:23.106592Z",
     "start_time": "2020-06-15T14:19:18.016Z"
    }
   },
   "source": [
    "n.generate_validation_report()"
   ]
  },
  {
   "cell_type": "markdown",
   "metadata": {},
   "source": [
    "## Adding two networks\n",
    "\n",
    "You can add one network to another. The network you're adding the other network too will be updated with the nodes, link and data from the other network."
   ]
  },
  {
   "cell_type": "markdown",
   "metadata": {},
   "source": [
    "For now, the method only supports non overlapping services so let's merge two graphs, one of which being a small subgraph of `n`."
   ]
  },
  {
   "cell_type": "code",
   "execution_count": 54,
   "metadata": {
    "ExecuteTime": {
     "end_time": "2020-06-15T14:29:30.882195Z",
     "start_time": "2020-06-15T14:29:30.878834Z"
    }
   },
   "outputs": [],
   "source": [
    "n_nodes = ['25508485', '21667818', '25508485']"
   ]
  },
  {
   "cell_type": "code",
   "execution_count": 55,
   "metadata": {
    "ExecuteTime": {
     "end_time": "2020-06-15T14:29:30.898681Z",
     "start_time": "2020-06-15T14:29:30.884834Z"
    }
   },
   "outputs": [],
   "source": [
    "other_n = gn.Network()\n",
    "other_n.epsg = 'epsg:27700'\n",
    "other_n.graph = n.graph.subgraph(n_nodes)\n",
    "other_n.schedule = gn.Schedule()\n",
    "other_n.schedule.epsg = 'epsg:27700'"
   ]
  },
  {
   "cell_type": "code",
   "execution_count": 56,
   "metadata": {
    "ExecuteTime": {
     "end_time": "2020-06-15T14:29:30.905718Z",
     "start_time": "2020-06-15T14:29:30.900510Z"
    }
   },
   "outputs": [
    {
     "data": {
      "text/plain": [
       "<Network instance at 4690484624: with \n",
       "graph: Name: \n",
       "Type: MultiDiGraph\n",
       "Number of nodes: 2\n",
       "Number of edges: 4\n",
       "Average in degree:   2.0000\n",
       "Average out degree:   2.0000 and \n",
       "schedule Number of services: 0\n",
       "Number of unique routes: 0"
      ]
     },
     "execution_count": 56,
     "metadata": {},
     "output_type": "execute_result"
    }
   ],
   "source": [
    "other_n"
   ]
  },
  {
   "cell_type": "code",
   "execution_count": 57,
   "metadata": {
    "ExecuteTime": {
     "end_time": "2020-06-15T14:29:58.584659Z",
     "start_time": "2020-06-15T14:29:30.907855Z"
    }
   },
   "outputs": [
    {
     "name": "stderr",
     "output_type": "stream",
     "text": [
      "2020-06-15 15:29:30,938 - Changed Node attributes under index: 21667818\n",
      "2020-06-15 15:29:30,949 - Changed Node attributes under index: 25508485\n",
      "/Users/kasia.kozlowska/PycharmProjects/ABM/genet/genet/utils/graph_operations.py:268: UserWarning: Boolean Series key will be reindexed to match DataFrame index.\n",
      "  for idx in s2_id_df.dropna()[s2_id_df['right'] != s2_id_df['left']].index]\n",
      "2020-06-15 15:29:30,961 - Finished consolidating node indexing between the two graphs\n",
      "2020-06-15 15:29:58,541 - Finished consolidating link indexing between the two graphs\n"
     ]
    }
   ],
   "source": [
    "n.add(other_n)"
   ]
  },
  {
   "cell_type": "code",
   "execution_count": 58,
   "metadata": {
    "ExecuteTime": {
     "end_time": "2020-06-15T14:29:58.606284Z",
     "start_time": "2020-06-15T14:29:58.586791Z"
    }
   },
   "outputs": [
    {
     "data": {
      "text/plain": [
       "<Network instance at 4661589072: with \n",
       "graph: Name: \n",
       "Type: MultiDiGraph\n",
       "Number of nodes: 1662\n",
       "Number of edges: 3166\n",
       "Average in degree:   1.9049\n",
       "Average out degree:   1.9049 and \n",
       "schedule Number of services: 62\n",
       "Number of unique routes: 520"
      ]
     },
     "execution_count": 58,
     "metadata": {},
     "output_type": "execute_result"
    }
   ],
   "source": [
    "n"
   ]
  },
  {
   "cell_type": "markdown",
   "metadata": {},
   "source": [
    "The number of nodes and edges should be the same in the output as we merged a subgraph of n.\n",
    "\n",
    "```\n",
    "<Network instance at 4548707792: with \n",
    "graph: Name: \n",
    "Type: MultiDiGraph\n",
    "Number of nodes: 1662\n",
    "Number of edges: 3166\n",
    "Average in degree:   1.9049\n",
    "Average out degree:   1.9049 and \n",
    "schedule Number of services: 62\n",
    "Number of unique routes: 520\n",
    "```"
   ]
  },
  {
   "cell_type": "markdown",
   "metadata": {},
   "source": [
    "## Writing results"
   ]
  },
  {
   "cell_type": "code",
   "execution_count": 59,
   "metadata": {
    "ExecuteTime": {
     "end_time": "2020-06-15T14:30:00.339411Z",
     "start_time": "2020-06-15T14:29:58.609554Z"
    }
   },
   "outputs": [
    {
     "name": "stderr",
     "output_type": "stream",
     "text": [
      "2020-06-15 15:29:58,614 - Writing /Users/kasia.kozlowska/PycharmProjects/ABM/genet/example_data/pt2matsim_network/genet_output/network.xml\n",
      "2020-06-15 15:29:59,209 - Writing /Users/kasia.kozlowska/PycharmProjects/ABM/genet/example_data/pt2matsim_network/genet_output/schedule.xml\n",
      "2020-06-15 15:29:59,223 - The stop(s) along your route don't have arrival and departure offsets. This is likely a route with one stop - consider validating your schedule.\n",
      "2020-06-15 15:29:59,224 - Route needs to have a network route composed of a list of network links that the vehicle on this route traverses. If read the Schedule from GTFS, the resulting Route objects will not have reference to the network route taken.\n",
      "2020-06-15 15:29:59,227 - Route needs to have a network route composed of a list of network links that the vehicle on this route traverses. If read the Schedule from GTFS, the resulting Route objects will not have reference to the network route taken.\n",
      "2020-06-15 15:29:59,228 - Route needs to have a network route composed of a list of network links that the vehicle on this route traverses. If read the Schedule from GTFS, the resulting Route objects will not have reference to the network route taken.\n",
      "2020-06-15 15:29:59,229 - Route needs to have a network route composed of a list of network links that the vehicle on this route traverses. If read the Schedule from GTFS, the resulting Route objects will not have reference to the network route taken.\n",
      "2020-06-15 15:29:59,259 - Route needs to have a network route composed of a list of network links that the vehicle on this route traverses. If read the Schedule from GTFS, the resulting Route objects will not have reference to the network route taken.\n",
      "2020-06-15 15:29:59,260 - Route needs to have a network route composed of a list of network links that the vehicle on this route traverses. If read the Schedule from GTFS, the resulting Route objects will not have reference to the network route taken.\n",
      "2020-06-15 15:29:59,263 - Route needs to have a network route composed of a list of network links that the vehicle on this route traverses. If read the Schedule from GTFS, the resulting Route objects will not have reference to the network route taken.\n",
      "2020-06-15 15:29:59,264 - Route needs to have a network route composed of a list of network links that the vehicle on this route traverses. If read the Schedule from GTFS, the resulting Route objects will not have reference to the network route taken.\n",
      "2020-06-15 15:29:59,265 - Route needs to have a network route composed of a list of network links that the vehicle on this route traverses. If read the Schedule from GTFS, the resulting Route objects will not have reference to the network route taken.\n",
      "2020-06-15 15:29:59,268 - Route needs to have a network route composed of a list of network links that the vehicle on this route traverses. If read the Schedule from GTFS, the resulting Route objects will not have reference to the network route taken.\n",
      "2020-06-15 15:29:59,270 - Route needs to have a network route composed of a list of network links that the vehicle on this route traverses. If read the Schedule from GTFS, the resulting Route objects will not have reference to the network route taken.\n",
      "2020-06-15 15:29:59,274 - Route needs to have a network route composed of a list of network links that the vehicle on this route traverses. If read the Schedule from GTFS, the resulting Route objects will not have reference to the network route taken.\n",
      "2020-06-15 15:29:59,279 - Route needs to have a network route composed of a list of network links that the vehicle on this route traverses. If read the Schedule from GTFS, the resulting Route objects will not have reference to the network route taken.\n",
      "2020-06-15 15:29:59,283 - Route needs to have a network route composed of a list of network links that the vehicle on this route traverses. If read the Schedule from GTFS, the resulting Route objects will not have reference to the network route taken.\n",
      "2020-06-15 15:29:59,287 - Route needs to have a network route composed of a list of network links that the vehicle on this route traverses. If read the Schedule from GTFS, the resulting Route objects will not have reference to the network route taken.\n",
      "2020-06-15 15:29:59,288 - Route needs to have a network route composed of a list of network links that the vehicle on this route traverses. If read the Schedule from GTFS, the resulting Route objects will not have reference to the network route taken.\n",
      "2020-06-15 15:29:59,291 - Route needs to have a network route composed of a list of network links that the vehicle on this route traverses. If read the Schedule from GTFS, the resulting Route objects will not have reference to the network route taken.\n",
      "2020-06-15 15:29:59,292 - Route needs to have a network route composed of a list of network links that the vehicle on this route traverses. If read the Schedule from GTFS, the resulting Route objects will not have reference to the network route taken.\n",
      "2020-06-15 15:29:59,298 - Route needs to have a network route composed of a list of network links that the vehicle on this route traverses. If read the Schedule from GTFS, the resulting Route objects will not have reference to the network route taken.\n",
      "2020-06-15 15:29:59,302 - Route needs to have a network route composed of a list of network links that the vehicle on this route traverses. If read the Schedule from GTFS, the resulting Route objects will not have reference to the network route taken.\n",
      "2020-06-15 15:29:59,310 - Route needs to have a network route composed of a list of network links that the vehicle on this route traverses. If read the Schedule from GTFS, the resulting Route objects will not have reference to the network route taken.\n",
      "2020-06-15 15:29:59,313 - Route needs to have a network route composed of a list of network links that the vehicle on this route traverses. If read the Schedule from GTFS, the resulting Route objects will not have reference to the network route taken.\n",
      "2020-06-15 15:29:59,314 - Route needs to have a network route composed of a list of network links that the vehicle on this route traverses. If read the Schedule from GTFS, the resulting Route objects will not have reference to the network route taken.\n",
      "2020-06-15 15:29:59,316 - Route needs to have a network route composed of a list of network links that the vehicle on this route traverses. If read the Schedule from GTFS, the resulting Route objects will not have reference to the network route taken.\n",
      "2020-06-15 15:29:59,317 - Route needs to have a network route composed of a list of network links that the vehicle on this route traverses. If read the Schedule from GTFS, the resulting Route objects will not have reference to the network route taken.\n",
      "2020-06-15 15:29:59,319 - Route needs to have a network route composed of a list of network links that the vehicle on this route traverses. If read the Schedule from GTFS, the resulting Route objects will not have reference to the network route taken.\n",
      "2020-06-15 15:29:59,324 - Route needs to have a network route composed of a list of network links that the vehicle on this route traverses. If read the Schedule from GTFS, the resulting Route objects will not have reference to the network route taken.\n",
      "2020-06-15 15:29:59,325 - Route needs to have a network route composed of a list of network links that the vehicle on this route traverses. If read the Schedule from GTFS, the resulting Route objects will not have reference to the network route taken.\n",
      "2020-06-15 15:29:59,328 - Route needs to have a network route composed of a list of network links that the vehicle on this route traverses. If read the Schedule from GTFS, the resulting Route objects will not have reference to the network route taken.\n",
      "2020-06-15 15:29:59,331 - Route needs to have a network route composed of a list of network links that the vehicle on this route traverses. If read the Schedule from GTFS, the resulting Route objects will not have reference to the network route taken.\n",
      "2020-06-15 15:29:59,333 - Route needs to have a network route composed of a list of network links that the vehicle on this route traverses. If read the Schedule from GTFS, the resulting Route objects will not have reference to the network route taken.\n"
     ]
    },
    {
     "name": "stderr",
     "output_type": "stream",
     "text": [
      "2020-06-15 15:29:59,334 - Route needs to have a network route composed of a list of network links that the vehicle on this route traverses. If read the Schedule from GTFS, the resulting Route objects will not have reference to the network route taken.\n",
      "2020-06-15 15:29:59,335 - Route needs to have a network route composed of a list of network links that the vehicle on this route traverses. If read the Schedule from GTFS, the resulting Route objects will not have reference to the network route taken.\n",
      "2020-06-15 15:29:59,336 - Route needs to have a network route composed of a list of network links that the vehicle on this route traverses. If read the Schedule from GTFS, the resulting Route objects will not have reference to the network route taken.\n",
      "2020-06-15 15:29:59,338 - Route needs to have a network route composed of a list of network links that the vehicle on this route traverses. If read the Schedule from GTFS, the resulting Route objects will not have reference to the network route taken.\n",
      "2020-06-15 15:29:59,340 - Route needs to have a network route composed of a list of network links that the vehicle on this route traverses. If read the Schedule from GTFS, the resulting Route objects will not have reference to the network route taken.\n",
      "2020-06-15 15:29:59,341 - Route needs to have a network route composed of a list of network links that the vehicle on this route traverses. If read the Schedule from GTFS, the resulting Route objects will not have reference to the network route taken.\n",
      "2020-06-15 15:29:59,343 - Route needs to have a network route composed of a list of network links that the vehicle on this route traverses. If read the Schedule from GTFS, the resulting Route objects will not have reference to the network route taken.\n",
      "2020-06-15 15:29:59,344 - Route needs to have a network route composed of a list of network links that the vehicle on this route traverses. If read the Schedule from GTFS, the resulting Route objects will not have reference to the network route taken.\n",
      "2020-06-15 15:29:59,346 - Route needs to have a network route composed of a list of network links that the vehicle on this route traverses. If read the Schedule from GTFS, the resulting Route objects will not have reference to the network route taken.\n",
      "2020-06-15 15:29:59,347 - Route needs to have a network route composed of a list of network links that the vehicle on this route traverses. If read the Schedule from GTFS, the resulting Route objects will not have reference to the network route taken.\n",
      "2020-06-15 15:29:59,348 - Route needs to have a network route composed of a list of network links that the vehicle on this route traverses. If read the Schedule from GTFS, the resulting Route objects will not have reference to the network route taken.\n",
      "2020-06-15 15:29:59,350 - Route needs to have a network route composed of a list of network links that the vehicle on this route traverses. If read the Schedule from GTFS, the resulting Route objects will not have reference to the network route taken.\n",
      "2020-06-15 15:29:59,351 - Route needs to have a network route composed of a list of network links that the vehicle on this route traverses. If read the Schedule from GTFS, the resulting Route objects will not have reference to the network route taken.\n",
      "2020-06-15 15:29:59,353 - Route needs to have a network route composed of a list of network links that the vehicle on this route traverses. If read the Schedule from GTFS, the resulting Route objects will not have reference to the network route taken.\n",
      "2020-06-15 15:29:59,354 - Route needs to have a network route composed of a list of network links that the vehicle on this route traverses. If read the Schedule from GTFS, the resulting Route objects will not have reference to the network route taken.\n",
      "2020-06-15 15:29:59,356 - Route needs to have a network route composed of a list of network links that the vehicle on this route traverses. If read the Schedule from GTFS, the resulting Route objects will not have reference to the network route taken.\n",
      "2020-06-15 15:29:59,358 - Route needs to have a network route composed of a list of network links that the vehicle on this route traverses. If read the Schedule from GTFS, the resulting Route objects will not have reference to the network route taken.\n",
      "2020-06-15 15:29:59,359 - Route needs to have a network route composed of a list of network links that the vehicle on this route traverses. If read the Schedule from GTFS, the resulting Route objects will not have reference to the network route taken.\n",
      "2020-06-15 15:29:59,360 - Route needs to have a network route composed of a list of network links that the vehicle on this route traverses. If read the Schedule from GTFS, the resulting Route objects will not have reference to the network route taken.\n",
      "2020-06-15 15:29:59,370 - The stop(s) along your route don't have arrival and departure offsets. This is likely a route with one stop - consider validating your schedule.\n",
      "2020-06-15 15:29:59,370 - Route needs to have a network route composed of a list of network links that the vehicle on this route traverses. If read the Schedule from GTFS, the resulting Route objects will not have reference to the network route taken.\n",
      "2020-06-15 15:29:59,371 - Route needs to have a network route composed of a list of network links that the vehicle on this route traverses. If read the Schedule from GTFS, the resulting Route objects will not have reference to the network route taken.\n",
      "2020-06-15 15:29:59,376 - The stop(s) along your route don't have arrival and departure offsets. This is likely a route with one stop - consider validating your schedule.\n",
      "2020-06-15 15:29:59,380 - Route needs to have a network route composed of a list of network links that the vehicle on this route traverses. If read the Schedule from GTFS, the resulting Route objects will not have reference to the network route taken.\n",
      "2020-06-15 15:29:59,381 - The stop(s) along your route don't have arrival and departure offsets. This is likely a route with one stop - consider validating your schedule.\n",
      "2020-06-15 15:29:59,382 - Route needs to have a network route composed of a list of network links that the vehicle on this route traverses. If read the Schedule from GTFS, the resulting Route objects will not have reference to the network route taken.\n",
      "2020-06-15 15:29:59,386 - Route needs to have a network route composed of a list of network links that the vehicle on this route traverses. If read the Schedule from GTFS, the resulting Route objects will not have reference to the network route taken.\n",
      "2020-06-15 15:29:59,389 - Route needs to have a network route composed of a list of network links that the vehicle on this route traverses. If read the Schedule from GTFS, the resulting Route objects will not have reference to the network route taken.\n",
      "2020-06-15 15:29:59,393 - Route needs to have a network route composed of a list of network links that the vehicle on this route traverses. If read the Schedule from GTFS, the resulting Route objects will not have reference to the network route taken.\n",
      "2020-06-15 15:29:59,395 - Route needs to have a network route composed of a list of network links that the vehicle on this route traverses. If read the Schedule from GTFS, the resulting Route objects will not have reference to the network route taken.\n",
      "2020-06-15 15:29:59,397 - Route needs to have a network route composed of a list of network links that the vehicle on this route traverses. If read the Schedule from GTFS, the resulting Route objects will not have reference to the network route taken.\n",
      "2020-06-15 15:29:59,401 - The stop(s) along your route don't have arrival and departure offsets. This is likely a route with one stop - consider validating your schedule.\n",
      "2020-06-15 15:29:59,407 - Route needs to have a network route composed of a list of network links that the vehicle on this route traverses. If read the Schedule from GTFS, the resulting Route objects will not have reference to the network route taken.\n",
      "2020-06-15 15:29:59,412 - Route needs to have a network route composed of a list of network links that the vehicle on this route traverses. If read the Schedule from GTFS, the resulting Route objects will not have reference to the network route taken.\n"
     ]
    },
    {
     "name": "stderr",
     "output_type": "stream",
     "text": [
      "2020-06-15 15:29:59,414 - Route needs to have a network route composed of a list of network links that the vehicle on this route traverses. If read the Schedule from GTFS, the resulting Route objects will not have reference to the network route taken.\n",
      "2020-06-15 15:29:59,415 - Route needs to have a network route composed of a list of network links that the vehicle on this route traverses. If read the Schedule from GTFS, the resulting Route objects will not have reference to the network route taken.\n",
      "2020-06-15 15:29:59,416 - Route needs to have a network route composed of a list of network links that the vehicle on this route traverses. If read the Schedule from GTFS, the resulting Route objects will not have reference to the network route taken.\n",
      "2020-06-15 15:29:59,417 - Route needs to have a network route composed of a list of network links that the vehicle on this route traverses. If read the Schedule from GTFS, the resulting Route objects will not have reference to the network route taken.\n",
      "2020-06-15 15:29:59,419 - Route needs to have a network route composed of a list of network links that the vehicle on this route traverses. If read the Schedule from GTFS, the resulting Route objects will not have reference to the network route taken.\n",
      "2020-06-15 15:29:59,420 - Route needs to have a network route composed of a list of network links that the vehicle on this route traverses. If read the Schedule from GTFS, the resulting Route objects will not have reference to the network route taken.\n",
      "2020-06-15 15:29:59,422 - The stop(s) along your route don't have arrival and departure offsets. This is likely a route with one stop - consider validating your schedule.\n",
      "2020-06-15 15:29:59,424 - Route needs to have a network route composed of a list of network links that the vehicle on this route traverses. If read the Schedule from GTFS, the resulting Route objects will not have reference to the network route taken.\n",
      "2020-06-15 15:29:59,427 - The stop(s) along your route don't have arrival and departure offsets. This is likely a route with one stop - consider validating your schedule.\n",
      "2020-06-15 15:29:59,427 - Route needs to have a network route composed of a list of network links that the vehicle on this route traverses. If read the Schedule from GTFS, the resulting Route objects will not have reference to the network route taken.\n",
      "2020-06-15 15:29:59,432 - Route needs to have a network route composed of a list of network links that the vehicle on this route traverses. If read the Schedule from GTFS, the resulting Route objects will not have reference to the network route taken.\n",
      "2020-06-15 15:29:59,433 - Route needs to have a network route composed of a list of network links that the vehicle on this route traverses. If read the Schedule from GTFS, the resulting Route objects will not have reference to the network route taken.\n",
      "2020-06-15 15:29:59,436 - Route needs to have a network route composed of a list of network links that the vehicle on this route traverses. If read the Schedule from GTFS, the resulting Route objects will not have reference to the network route taken.\n",
      "2020-06-15 15:29:59,437 - Route needs to have a network route composed of a list of network links that the vehicle on this route traverses. If read the Schedule from GTFS, the resulting Route objects will not have reference to the network route taken.\n",
      "2020-06-15 15:29:59,440 - The stop(s) along your route don't have arrival and departure offsets. This is likely a route with one stop - consider validating your schedule.\n",
      "2020-06-15 15:29:59,440 - Route needs to have a network route composed of a list of network links that the vehicle on this route traverses. If read the Schedule from GTFS, the resulting Route objects will not have reference to the network route taken.\n",
      "2020-06-15 15:29:59,445 - Route needs to have a network route composed of a list of network links that the vehicle on this route traverses. If read the Schedule from GTFS, the resulting Route objects will not have reference to the network route taken.\n",
      "2020-06-15 15:29:59,447 - Route needs to have a network route composed of a list of network links that the vehicle on this route traverses. If read the Schedule from GTFS, the resulting Route objects will not have reference to the network route taken.\n",
      "2020-06-15 15:29:59,450 - Route needs to have a network route composed of a list of network links that the vehicle on this route traverses. If read the Schedule from GTFS, the resulting Route objects will not have reference to the network route taken.\n",
      "2020-06-15 15:29:59,451 - Route needs to have a network route composed of a list of network links that the vehicle on this route traverses. If read the Schedule from GTFS, the resulting Route objects will not have reference to the network route taken.\n",
      "2020-06-15 15:29:59,452 - Route needs to have a network route composed of a list of network links that the vehicle on this route traverses. If read the Schedule from GTFS, the resulting Route objects will not have reference to the network route taken.\n",
      "2020-06-15 15:29:59,454 - Route needs to have a network route composed of a list of network links that the vehicle on this route traverses. If read the Schedule from GTFS, the resulting Route objects will not have reference to the network route taken.\n",
      "2020-06-15 15:29:59,455 - Route needs to have a network route composed of a list of network links that the vehicle on this route traverses. If read the Schedule from GTFS, the resulting Route objects will not have reference to the network route taken.\n",
      "2020-06-15 15:29:59,456 - Route needs to have a network route composed of a list of network links that the vehicle on this route traverses. If read the Schedule from GTFS, the resulting Route objects will not have reference to the network route taken.\n",
      "2020-06-15 15:29:59,458 - Route needs to have a network route composed of a list of network links that the vehicle on this route traverses. If read the Schedule from GTFS, the resulting Route objects will not have reference to the network route taken.\n",
      "2020-06-15 15:29:59,460 - Route needs to have a network route composed of a list of network links that the vehicle on this route traverses. If read the Schedule from GTFS, the resulting Route objects will not have reference to the network route taken.\n",
      "2020-06-15 15:29:59,462 - Route needs to have a network route composed of a list of network links that the vehicle on this route traverses. If read the Schedule from GTFS, the resulting Route objects will not have reference to the network route taken.\n",
      "2020-06-15 15:29:59,463 - Route needs to have a network route composed of a list of network links that the vehicle on this route traverses. If read the Schedule from GTFS, the resulting Route objects will not have reference to the network route taken.\n",
      "2020-06-15 15:29:59,465 - Route needs to have a network route composed of a list of network links that the vehicle on this route traverses. If read the Schedule from GTFS, the resulting Route objects will not have reference to the network route taken.\n",
      "2020-06-15 15:29:59,467 - Route needs to have a network route composed of a list of network links that the vehicle on this route traverses. If read the Schedule from GTFS, the resulting Route objects will not have reference to the network route taken.\n",
      "2020-06-15 15:29:59,468 - Route needs to have a network route composed of a list of network links that the vehicle on this route traverses. If read the Schedule from GTFS, the resulting Route objects will not have reference to the network route taken.\n",
      "2020-06-15 15:29:59,470 - Route needs to have a network route composed of a list of network links that the vehicle on this route traverses. If read the Schedule from GTFS, the resulting Route objects will not have reference to the network route taken.\n",
      "2020-06-15 15:29:59,471 - Route needs to have a network route composed of a list of network links that the vehicle on this route traverses. If read the Schedule from GTFS, the resulting Route objects will not have reference to the network route taken.\n",
      "2020-06-15 15:29:59,472 - Route needs to have a network route composed of a list of network links that the vehicle on this route traverses. If read the Schedule from GTFS, the resulting Route objects will not have reference to the network route taken.\n"
     ]
    },
    {
     "name": "stderr",
     "output_type": "stream",
     "text": [
      "2020-06-15 15:29:59,475 - Route needs to have a network route composed of a list of network links that the vehicle on this route traverses. If read the Schedule from GTFS, the resulting Route objects will not have reference to the network route taken.\n",
      "2020-06-15 15:29:59,476 - Route needs to have a network route composed of a list of network links that the vehicle on this route traverses. If read the Schedule from GTFS, the resulting Route objects will not have reference to the network route taken.\n",
      "2020-06-15 15:29:59,478 - Route needs to have a network route composed of a list of network links that the vehicle on this route traverses. If read the Schedule from GTFS, the resulting Route objects will not have reference to the network route taken.\n",
      "2020-06-15 15:29:59,479 - Route needs to have a network route composed of a list of network links that the vehicle on this route traverses. If read the Schedule from GTFS, the resulting Route objects will not have reference to the network route taken.\n",
      "2020-06-15 15:29:59,481 - Route needs to have a network route composed of a list of network links that the vehicle on this route traverses. If read the Schedule from GTFS, the resulting Route objects will not have reference to the network route taken.\n",
      "2020-06-15 15:29:59,483 - Route needs to have a network route composed of a list of network links that the vehicle on this route traverses. If read the Schedule from GTFS, the resulting Route objects will not have reference to the network route taken.\n",
      "2020-06-15 15:29:59,484 - Route needs to have a network route composed of a list of network links that the vehicle on this route traverses. If read the Schedule from GTFS, the resulting Route objects will not have reference to the network route taken.\n",
      "2020-06-15 15:29:59,486 - Route needs to have a network route composed of a list of network links that the vehicle on this route traverses. If read the Schedule from GTFS, the resulting Route objects will not have reference to the network route taken.\n",
      "2020-06-15 15:29:59,488 - Route needs to have a network route composed of a list of network links that the vehicle on this route traverses. If read the Schedule from GTFS, the resulting Route objects will not have reference to the network route taken.\n",
      "2020-06-15 15:29:59,489 - Route needs to have a network route composed of a list of network links that the vehicle on this route traverses. If read the Schedule from GTFS, the resulting Route objects will not have reference to the network route taken.\n",
      "2020-06-15 15:29:59,491 - Route needs to have a network route composed of a list of network links that the vehicle on this route traverses. If read the Schedule from GTFS, the resulting Route objects will not have reference to the network route taken.\n",
      "2020-06-15 15:29:59,493 - Route needs to have a network route composed of a list of network links that the vehicle on this route traverses. If read the Schedule from GTFS, the resulting Route objects will not have reference to the network route taken.\n",
      "2020-06-15 15:29:59,494 - Route needs to have a network route composed of a list of network links that the vehicle on this route traverses. If read the Schedule from GTFS, the resulting Route objects will not have reference to the network route taken.\n",
      "2020-06-15 15:29:59,496 - Route needs to have a network route composed of a list of network links that the vehicle on this route traverses. If read the Schedule from GTFS, the resulting Route objects will not have reference to the network route taken.\n",
      "2020-06-15 15:29:59,497 - Route needs to have a network route composed of a list of network links that the vehicle on this route traverses. If read the Schedule from GTFS, the resulting Route objects will not have reference to the network route taken.\n",
      "2020-06-15 15:29:59,498 - Route needs to have a network route composed of a list of network links that the vehicle on this route traverses. If read the Schedule from GTFS, the resulting Route objects will not have reference to the network route taken.\n",
      "2020-06-15 15:29:59,500 - Route needs to have a network route composed of a list of network links that the vehicle on this route traverses. If read the Schedule from GTFS, the resulting Route objects will not have reference to the network route taken.\n",
      "2020-06-15 15:29:59,506 - Route needs to have a network route composed of a list of network links that the vehicle on this route traverses. If read the Schedule from GTFS, the resulting Route objects will not have reference to the network route taken.\n",
      "2020-06-15 15:29:59,513 - Route needs to have a network route composed of a list of network links that the vehicle on this route traverses. If read the Schedule from GTFS, the resulting Route objects will not have reference to the network route taken.\n",
      "2020-06-15 15:29:59,519 - Route needs to have a network route composed of a list of network links that the vehicle on this route traverses. If read the Schedule from GTFS, the resulting Route objects will not have reference to the network route taken.\n",
      "2020-06-15 15:29:59,522 - Route needs to have a network route composed of a list of network links that the vehicle on this route traverses. If read the Schedule from GTFS, the resulting Route objects will not have reference to the network route taken.\n",
      "2020-06-15 15:29:59,526 - Route needs to have a network route composed of a list of network links that the vehicle on this route traverses. If read the Schedule from GTFS, the resulting Route objects will not have reference to the network route taken.\n",
      "2020-06-15 15:29:59,531 - Route needs to have a network route composed of a list of network links that the vehicle on this route traverses. If read the Schedule from GTFS, the resulting Route objects will not have reference to the network route taken.\n",
      "2020-06-15 15:29:59,533 - Route needs to have a network route composed of a list of network links that the vehicle on this route traverses. If read the Schedule from GTFS, the resulting Route objects will not have reference to the network route taken.\n",
      "2020-06-15 15:29:59,535 - Route needs to have a network route composed of a list of network links that the vehicle on this route traverses. If read the Schedule from GTFS, the resulting Route objects will not have reference to the network route taken.\n",
      "2020-06-15 15:29:59,536 - Route needs to have a network route composed of a list of network links that the vehicle on this route traverses. If read the Schedule from GTFS, the resulting Route objects will not have reference to the network route taken.\n",
      "2020-06-15 15:29:59,541 - Route needs to have a network route composed of a list of network links that the vehicle on this route traverses. If read the Schedule from GTFS, the resulting Route objects will not have reference to the network route taken.\n",
      "2020-06-15 15:29:59,544 - Route needs to have a network route composed of a list of network links that the vehicle on this route traverses. If read the Schedule from GTFS, the resulting Route objects will not have reference to the network route taken.\n",
      "2020-06-15 15:29:59,548 - Route needs to have a network route composed of a list of network links that the vehicle on this route traverses. If read the Schedule from GTFS, the resulting Route objects will not have reference to the network route taken.\n",
      "2020-06-15 15:29:59,550 - Route needs to have a network route composed of a list of network links that the vehicle on this route traverses. If read the Schedule from GTFS, the resulting Route objects will not have reference to the network route taken.\n",
      "2020-06-15 15:29:59,552 - The stop(s) along your route don't have arrival and departure offsets. This is likely a route with one stop - consider validating your schedule.\n",
      "2020-06-15 15:29:59,553 - Route needs to have a network route composed of a list of network links that the vehicle on this route traverses. If read the Schedule from GTFS, the resulting Route objects will not have reference to the network route taken.\n",
      "2020-06-15 15:29:59,558 - Route needs to have a network route composed of a list of network links that the vehicle on this route traverses. If read the Schedule from GTFS, the resulting Route objects will not have reference to the network route taken.\n"
     ]
    },
    {
     "name": "stderr",
     "output_type": "stream",
     "text": [
      "2020-06-15 15:29:59,564 - Route needs to have a network route composed of a list of network links that the vehicle on this route traverses. If read the Schedule from GTFS, the resulting Route objects will not have reference to the network route taken.\n",
      "2020-06-15 15:29:59,567 - Route needs to have a network route composed of a list of network links that the vehicle on this route traverses. If read the Schedule from GTFS, the resulting Route objects will not have reference to the network route taken.\n",
      "2020-06-15 15:29:59,569 - Route needs to have a network route composed of a list of network links that the vehicle on this route traverses. If read the Schedule from GTFS, the resulting Route objects will not have reference to the network route taken.\n",
      "2020-06-15 15:29:59,572 - Route needs to have a network route composed of a list of network links that the vehicle on this route traverses. If read the Schedule from GTFS, the resulting Route objects will not have reference to the network route taken.\n",
      "2020-06-15 15:29:59,575 - The stop(s) along your route don't have arrival and departure offsets. This is likely a route with one stop - consider validating your schedule.\n",
      "2020-06-15 15:29:59,577 - Route needs to have a network route composed of a list of network links that the vehicle on this route traverses. If read the Schedule from GTFS, the resulting Route objects will not have reference to the network route taken.\n",
      "2020-06-15 15:29:59,580 - Route needs to have a network route composed of a list of network links that the vehicle on this route traverses. If read the Schedule from GTFS, the resulting Route objects will not have reference to the network route taken.\n",
      "2020-06-15 15:29:59,582 - Route needs to have a network route composed of a list of network links that the vehicle on this route traverses. If read the Schedule from GTFS, the resulting Route objects will not have reference to the network route taken.\n",
      "2020-06-15 15:29:59,583 - Route needs to have a network route composed of a list of network links that the vehicle on this route traverses. If read the Schedule from GTFS, the resulting Route objects will not have reference to the network route taken.\n",
      "2020-06-15 15:29:59,585 - Route needs to have a network route composed of a list of network links that the vehicle on this route traverses. If read the Schedule from GTFS, the resulting Route objects will not have reference to the network route taken.\n",
      "2020-06-15 15:29:59,586 - Route needs to have a network route composed of a list of network links that the vehicle on this route traverses. If read the Schedule from GTFS, the resulting Route objects will not have reference to the network route taken.\n",
      "2020-06-15 15:29:59,588 - Route needs to have a network route composed of a list of network links that the vehicle on this route traverses. If read the Schedule from GTFS, the resulting Route objects will not have reference to the network route taken.\n",
      "2020-06-15 15:29:59,591 - Route needs to have a network route composed of a list of network links that the vehicle on this route traverses. If read the Schedule from GTFS, the resulting Route objects will not have reference to the network route taken.\n",
      "2020-06-15 15:29:59,594 - Route needs to have a network route composed of a list of network links that the vehicle on this route traverses. If read the Schedule from GTFS, the resulting Route objects will not have reference to the network route taken.\n",
      "2020-06-15 15:29:59,595 - Route needs to have a network route composed of a list of network links that the vehicle on this route traverses. If read the Schedule from GTFS, the resulting Route objects will not have reference to the network route taken.\n",
      "2020-06-15 15:29:59,597 - The stop(s) along your route don't have arrival and departure offsets. This is likely a route with one stop - consider validating your schedule.\n",
      "2020-06-15 15:29:59,597 - Route needs to have a network route composed of a list of network links that the vehicle on this route traverses. If read the Schedule from GTFS, the resulting Route objects will not have reference to the network route taken.\n",
      "2020-06-15 15:29:59,598 - Route needs to have a network route composed of a list of network links that the vehicle on this route traverses. If read the Schedule from GTFS, the resulting Route objects will not have reference to the network route taken.\n",
      "2020-06-15 15:29:59,600 - Route needs to have a network route composed of a list of network links that the vehicle on this route traverses. If read the Schedule from GTFS, the resulting Route objects will not have reference to the network route taken.\n",
      "2020-06-15 15:29:59,600 - Route needs to have a network route composed of a list of network links that the vehicle on this route traverses. If read the Schedule from GTFS, the resulting Route objects will not have reference to the network route taken.\n",
      "2020-06-15 15:29:59,601 - Route needs to have a network route composed of a list of network links that the vehicle on this route traverses. If read the Schedule from GTFS, the resulting Route objects will not have reference to the network route taken.\n",
      "2020-06-15 15:29:59,602 - Route needs to have a network route composed of a list of network links that the vehicle on this route traverses. If read the Schedule from GTFS, the resulting Route objects will not have reference to the network route taken.\n",
      "2020-06-15 15:29:59,604 - Route needs to have a network route composed of a list of network links that the vehicle on this route traverses. If read the Schedule from GTFS, the resulting Route objects will not have reference to the network route taken.\n",
      "2020-06-15 15:29:59,605 - Route needs to have a network route composed of a list of network links that the vehicle on this route traverses. If read the Schedule from GTFS, the resulting Route objects will not have reference to the network route taken.\n",
      "2020-06-15 15:29:59,607 - Route needs to have a network route composed of a list of network links that the vehicle on this route traverses. If read the Schedule from GTFS, the resulting Route objects will not have reference to the network route taken.\n",
      "2020-06-15 15:29:59,608 - Route needs to have a network route composed of a list of network links that the vehicle on this route traverses. If read the Schedule from GTFS, the resulting Route objects will not have reference to the network route taken.\n",
      "2020-06-15 15:29:59,609 - Route needs to have a network route composed of a list of network links that the vehicle on this route traverses. If read the Schedule from GTFS, the resulting Route objects will not have reference to the network route taken.\n",
      "2020-06-15 15:29:59,612 - Route needs to have a network route composed of a list of network links that the vehicle on this route traverses. If read the Schedule from GTFS, the resulting Route objects will not have reference to the network route taken.\n",
      "2020-06-15 15:29:59,613 - Route needs to have a network route composed of a list of network links that the vehicle on this route traverses. If read the Schedule from GTFS, the resulting Route objects will not have reference to the network route taken.\n",
      "2020-06-15 15:29:59,614 - Route needs to have a network route composed of a list of network links that the vehicle on this route traverses. If read the Schedule from GTFS, the resulting Route objects will not have reference to the network route taken.\n",
      "2020-06-15 15:29:59,615 - Route needs to have a network route composed of a list of network links that the vehicle on this route traverses. If read the Schedule from GTFS, the resulting Route objects will not have reference to the network route taken.\n",
      "2020-06-15 15:29:59,616 - Route needs to have a network route composed of a list of network links that the vehicle on this route traverses. If read the Schedule from GTFS, the resulting Route objects will not have reference to the network route taken.\n",
      "2020-06-15 15:29:59,619 - Route needs to have a network route composed of a list of network links that the vehicle on this route traverses. If read the Schedule from GTFS, the resulting Route objects will not have reference to the network route taken.\n",
      "2020-06-15 15:29:59,621 - Route needs to have a network route composed of a list of network links that the vehicle on this route traverses. If read the Schedule from GTFS, the resulting Route objects will not have reference to the network route taken.\n"
     ]
    },
    {
     "name": "stderr",
     "output_type": "stream",
     "text": [
      "2020-06-15 15:29:59,622 - The stop(s) along your route don't have arrival and departure offsets. This is likely a route with one stop - consider validating your schedule.\n",
      "2020-06-15 15:29:59,623 - Route needs to have a network route composed of a list of network links that the vehicle on this route traverses. If read the Schedule from GTFS, the resulting Route objects will not have reference to the network route taken.\n",
      "2020-06-15 15:29:59,625 - The stop(s) along your route don't have arrival and departure offsets. This is likely a route with one stop - consider validating your schedule.\n",
      "2020-06-15 15:29:59,626 - Route needs to have a network route composed of a list of network links that the vehicle on this route traverses. If read the Schedule from GTFS, the resulting Route objects will not have reference to the network route taken.\n",
      "2020-06-15 15:29:59,628 - Route needs to have a network route composed of a list of network links that the vehicle on this route traverses. If read the Schedule from GTFS, the resulting Route objects will not have reference to the network route taken.\n",
      "2020-06-15 15:29:59,629 - Route needs to have a network route composed of a list of network links that the vehicle on this route traverses. If read the Schedule from GTFS, the resulting Route objects will not have reference to the network route taken.\n",
      "2020-06-15 15:29:59,631 - Route needs to have a network route composed of a list of network links that the vehicle on this route traverses. If read the Schedule from GTFS, the resulting Route objects will not have reference to the network route taken.\n",
      "2020-06-15 15:29:59,632 - Route needs to have a network route composed of a list of network links that the vehicle on this route traverses. If read the Schedule from GTFS, the resulting Route objects will not have reference to the network route taken.\n",
      "2020-06-15 15:29:59,633 - Route needs to have a network route composed of a list of network links that the vehicle on this route traverses. If read the Schedule from GTFS, the resulting Route objects will not have reference to the network route taken.\n",
      "2020-06-15 15:29:59,635 - Route needs to have a network route composed of a list of network links that the vehicle on this route traverses. If read the Schedule from GTFS, the resulting Route objects will not have reference to the network route taken.\n",
      "2020-06-15 15:29:59,640 - Route needs to have a network route composed of a list of network links that the vehicle on this route traverses. If read the Schedule from GTFS, the resulting Route objects will not have reference to the network route taken.\n",
      "2020-06-15 15:29:59,641 - Route needs to have a network route composed of a list of network links that the vehicle on this route traverses. If read the Schedule from GTFS, the resulting Route objects will not have reference to the network route taken.\n",
      "2020-06-15 15:29:59,642 - Route needs to have a network route composed of a list of network links that the vehicle on this route traverses. If read the Schedule from GTFS, the resulting Route objects will not have reference to the network route taken.\n",
      "2020-06-15 15:29:59,644 - Route needs to have a network route composed of a list of network links that the vehicle on this route traverses. If read the Schedule from GTFS, the resulting Route objects will not have reference to the network route taken.\n",
      "2020-06-15 15:29:59,645 - Route needs to have a network route composed of a list of network links that the vehicle on this route traverses. If read the Schedule from GTFS, the resulting Route objects will not have reference to the network route taken.\n",
      "2020-06-15 15:29:59,646 - Route needs to have a network route composed of a list of network links that the vehicle on this route traverses. If read the Schedule from GTFS, the resulting Route objects will not have reference to the network route taken.\n",
      "2020-06-15 15:29:59,648 - Route needs to have a network route composed of a list of network links that the vehicle on this route traverses. If read the Schedule from GTFS, the resulting Route objects will not have reference to the network route taken.\n",
      "2020-06-15 15:29:59,649 - Route needs to have a network route composed of a list of network links that the vehicle on this route traverses. If read the Schedule from GTFS, the resulting Route objects will not have reference to the network route taken.\n",
      "2020-06-15 15:29:59,651 - Route needs to have a network route composed of a list of network links that the vehicle on this route traverses. If read the Schedule from GTFS, the resulting Route objects will not have reference to the network route taken.\n",
      "2020-06-15 15:29:59,652 - Route needs to have a network route composed of a list of network links that the vehicle on this route traverses. If read the Schedule from GTFS, the resulting Route objects will not have reference to the network route taken.\n",
      "2020-06-15 15:29:59,653 - Route needs to have a network route composed of a list of network links that the vehicle on this route traverses. If read the Schedule from GTFS, the resulting Route objects will not have reference to the network route taken.\n",
      "2020-06-15 15:29:59,655 - Route needs to have a network route composed of a list of network links that the vehicle on this route traverses. If read the Schedule from GTFS, the resulting Route objects will not have reference to the network route taken.\n",
      "2020-06-15 15:29:59,657 - Route needs to have a network route composed of a list of network links that the vehicle on this route traverses. If read the Schedule from GTFS, the resulting Route objects will not have reference to the network route taken.\n",
      "2020-06-15 15:29:59,658 - Route needs to have a network route composed of a list of network links that the vehicle on this route traverses. If read the Schedule from GTFS, the resulting Route objects will not have reference to the network route taken.\n",
      "2020-06-15 15:29:59,661 - Route needs to have a network route composed of a list of network links that the vehicle on this route traverses. If read the Schedule from GTFS, the resulting Route objects will not have reference to the network route taken.\n",
      "2020-06-15 15:29:59,663 - Route needs to have a network route composed of a list of network links that the vehicle on this route traverses. If read the Schedule from GTFS, the resulting Route objects will not have reference to the network route taken.\n",
      "2020-06-15 15:29:59,665 - Route needs to have a network route composed of a list of network links that the vehicle on this route traverses. If read the Schedule from GTFS, the resulting Route objects will not have reference to the network route taken.\n",
      "2020-06-15 15:29:59,666 - Route needs to have a network route composed of a list of network links that the vehicle on this route traverses. If read the Schedule from GTFS, the resulting Route objects will not have reference to the network route taken.\n",
      "2020-06-15 15:29:59,667 - Route needs to have a network route composed of a list of network links that the vehicle on this route traverses. If read the Schedule from GTFS, the resulting Route objects will not have reference to the network route taken.\n",
      "2020-06-15 15:29:59,668 - Route needs to have a network route composed of a list of network links that the vehicle on this route traverses. If read the Schedule from GTFS, the resulting Route objects will not have reference to the network route taken.\n",
      "2020-06-15 15:29:59,669 - Route needs to have a network route composed of a list of network links that the vehicle on this route traverses. If read the Schedule from GTFS, the resulting Route objects will not have reference to the network route taken.\n",
      "2020-06-15 15:29:59,670 - Route needs to have a network route composed of a list of network links that the vehicle on this route traverses. If read the Schedule from GTFS, the resulting Route objects will not have reference to the network route taken.\n",
      "2020-06-15 15:29:59,671 - Route needs to have a network route composed of a list of network links that the vehicle on this route traverses. If read the Schedule from GTFS, the resulting Route objects will not have reference to the network route taken.\n",
      "2020-06-15 15:29:59,676 - Route needs to have a network route composed of a list of network links that the vehicle on this route traverses. If read the Schedule from GTFS, the resulting Route objects will not have reference to the network route taken.\n"
     ]
    },
    {
     "name": "stderr",
     "output_type": "stream",
     "text": [
      "2020-06-15 15:29:59,678 - Route needs to have a network route composed of a list of network links that the vehicle on this route traverses. If read the Schedule from GTFS, the resulting Route objects will not have reference to the network route taken.\n",
      "2020-06-15 15:29:59,680 - Route needs to have a network route composed of a list of network links that the vehicle on this route traverses. If read the Schedule from GTFS, the resulting Route objects will not have reference to the network route taken.\n",
      "2020-06-15 15:29:59,682 - Route needs to have a network route composed of a list of network links that the vehicle on this route traverses. If read the Schedule from GTFS, the resulting Route objects will not have reference to the network route taken.\n",
      "2020-06-15 15:29:59,684 - Route needs to have a network route composed of a list of network links that the vehicle on this route traverses. If read the Schedule from GTFS, the resulting Route objects will not have reference to the network route taken.\n",
      "2020-06-15 15:29:59,685 - Route needs to have a network route composed of a list of network links that the vehicle on this route traverses. If read the Schedule from GTFS, the resulting Route objects will not have reference to the network route taken.\n",
      "2020-06-15 15:29:59,686 - Route needs to have a network route composed of a list of network links that the vehicle on this route traverses. If read the Schedule from GTFS, the resulting Route objects will not have reference to the network route taken.\n",
      "2020-06-15 15:29:59,689 - Route needs to have a network route composed of a list of network links that the vehicle on this route traverses. If read the Schedule from GTFS, the resulting Route objects will not have reference to the network route taken.\n",
      "2020-06-15 15:29:59,691 - The stop(s) along your route don't have arrival and departure offsets. This is likely a route with one stop - consider validating your schedule.\n",
      "2020-06-15 15:29:59,694 - Route needs to have a network route composed of a list of network links that the vehicle on this route traverses. If read the Schedule from GTFS, the resulting Route objects will not have reference to the network route taken.\n",
      "2020-06-15 15:29:59,697 - Route needs to have a network route composed of a list of network links that the vehicle on this route traverses. If read the Schedule from GTFS, the resulting Route objects will not have reference to the network route taken.\n",
      "2020-06-15 15:29:59,698 - Route needs to have a network route composed of a list of network links that the vehicle on this route traverses. If read the Schedule from GTFS, the resulting Route objects will not have reference to the network route taken.\n",
      "2020-06-15 15:29:59,701 - Route needs to have a network route composed of a list of network links that the vehicle on this route traverses. If read the Schedule from GTFS, the resulting Route objects will not have reference to the network route taken.\n",
      "2020-06-15 15:29:59,702 - Route needs to have a network route composed of a list of network links that the vehicle on this route traverses. If read the Schedule from GTFS, the resulting Route objects will not have reference to the network route taken.\n",
      "2020-06-15 15:29:59,703 - Route needs to have a network route composed of a list of network links that the vehicle on this route traverses. If read the Schedule from GTFS, the resulting Route objects will not have reference to the network route taken.\n",
      "2020-06-15 15:29:59,704 - Route needs to have a network route composed of a list of network links that the vehicle on this route traverses. If read the Schedule from GTFS, the resulting Route objects will not have reference to the network route taken.\n",
      "2020-06-15 15:29:59,705 - Route needs to have a network route composed of a list of network links that the vehicle on this route traverses. If read the Schedule from GTFS, the resulting Route objects will not have reference to the network route taken.\n",
      "2020-06-15 15:29:59,708 - Route needs to have a network route composed of a list of network links that the vehicle on this route traverses. If read the Schedule from GTFS, the resulting Route objects will not have reference to the network route taken.\n",
      "2020-06-15 15:29:59,710 - Route needs to have a network route composed of a list of network links that the vehicle on this route traverses. If read the Schedule from GTFS, the resulting Route objects will not have reference to the network route taken.\n",
      "2020-06-15 15:29:59,712 - Route needs to have a network route composed of a list of network links that the vehicle on this route traverses. If read the Schedule from GTFS, the resulting Route objects will not have reference to the network route taken.\n",
      "2020-06-15 15:29:59,714 - Route needs to have a network route composed of a list of network links that the vehicle on this route traverses. If read the Schedule from GTFS, the resulting Route objects will not have reference to the network route taken.\n",
      "2020-06-15 15:29:59,715 - Route needs to have a network route composed of a list of network links that the vehicle on this route traverses. If read the Schedule from GTFS, the resulting Route objects will not have reference to the network route taken.\n",
      "2020-06-15 15:29:59,716 - Route needs to have a network route composed of a list of network links that the vehicle on this route traverses. If read the Schedule from GTFS, the resulting Route objects will not have reference to the network route taken.\n",
      "2020-06-15 15:29:59,717 - The stop(s) along your route don't have arrival and departure offsets. This is likely a route with one stop - consider validating your schedule.\n",
      "2020-06-15 15:29:59,718 - Route needs to have a network route composed of a list of network links that the vehicle on this route traverses. If read the Schedule from GTFS, the resulting Route objects will not have reference to the network route taken.\n",
      "2020-06-15 15:29:59,720 - The stop(s) along your route don't have arrival and departure offsets. This is likely a route with one stop - consider validating your schedule.\n",
      "2020-06-15 15:29:59,722 - Route needs to have a network route composed of a list of network links that the vehicle on this route traverses. If read the Schedule from GTFS, the resulting Route objects will not have reference to the network route taken.\n",
      "2020-06-15 15:29:59,724 - The stop(s) along your route don't have arrival and departure offsets. This is likely a route with one stop - consider validating your schedule.\n",
      "2020-06-15 15:29:59,726 - Route needs to have a network route composed of a list of network links that the vehicle on this route traverses. If read the Schedule from GTFS, the resulting Route objects will not have reference to the network route taken.\n",
      "2020-06-15 15:29:59,729 - Route needs to have a network route composed of a list of network links that the vehicle on this route traverses. If read the Schedule from GTFS, the resulting Route objects will not have reference to the network route taken.\n",
      "2020-06-15 15:29:59,731 - Route needs to have a network route composed of a list of network links that the vehicle on this route traverses. If read the Schedule from GTFS, the resulting Route objects will not have reference to the network route taken.\n",
      "2020-06-15 15:29:59,732 - Route needs to have a network route composed of a list of network links that the vehicle on this route traverses. If read the Schedule from GTFS, the resulting Route objects will not have reference to the network route taken.\n",
      "2020-06-15 15:29:59,734 - Route needs to have a network route composed of a list of network links that the vehicle on this route traverses. If read the Schedule from GTFS, the resulting Route objects will not have reference to the network route taken.\n",
      "2020-06-15 15:29:59,735 - Route needs to have a network route composed of a list of network links that the vehicle on this route traverses. If read the Schedule from GTFS, the resulting Route objects will not have reference to the network route taken.\n",
      "2020-06-15 15:29:59,737 - Route needs to have a network route composed of a list of network links that the vehicle on this route traverses. If read the Schedule from GTFS, the resulting Route objects will not have reference to the network route taken.\n"
     ]
    },
    {
     "name": "stderr",
     "output_type": "stream",
     "text": [
      "2020-06-15 15:29:59,740 - Route needs to have a network route composed of a list of network links that the vehicle on this route traverses. If read the Schedule from GTFS, the resulting Route objects will not have reference to the network route taken.\n",
      "2020-06-15 15:29:59,744 - Route needs to have a network route composed of a list of network links that the vehicle on this route traverses. If read the Schedule from GTFS, the resulting Route objects will not have reference to the network route taken.\n",
      "2020-06-15 15:29:59,745 - Route needs to have a network route composed of a list of network links that the vehicle on this route traverses. If read the Schedule from GTFS, the resulting Route objects will not have reference to the network route taken.\n",
      "2020-06-15 15:29:59,747 - Route needs to have a network route composed of a list of network links that the vehicle on this route traverses. If read the Schedule from GTFS, the resulting Route objects will not have reference to the network route taken.\n",
      "2020-06-15 15:29:59,749 - Route needs to have a network route composed of a list of network links that the vehicle on this route traverses. If read the Schedule from GTFS, the resulting Route objects will not have reference to the network route taken.\n",
      "2020-06-15 15:29:59,750 - Route needs to have a network route composed of a list of network links that the vehicle on this route traverses. If read the Schedule from GTFS, the resulting Route objects will not have reference to the network route taken.\n",
      "2020-06-15 15:29:59,752 - Route needs to have a network route composed of a list of network links that the vehicle on this route traverses. If read the Schedule from GTFS, the resulting Route objects will not have reference to the network route taken.\n",
      "2020-06-15 15:29:59,753 - Route needs to have a network route composed of a list of network links that the vehicle on this route traverses. If read the Schedule from GTFS, the resulting Route objects will not have reference to the network route taken.\n",
      "2020-06-15 15:29:59,755 - Route needs to have a network route composed of a list of network links that the vehicle on this route traverses. If read the Schedule from GTFS, the resulting Route objects will not have reference to the network route taken.\n",
      "2020-06-15 15:29:59,757 - Route needs to have a network route composed of a list of network links that the vehicle on this route traverses. If read the Schedule from GTFS, the resulting Route objects will not have reference to the network route taken.\n",
      "2020-06-15 15:29:59,761 - Route needs to have a network route composed of a list of network links that the vehicle on this route traverses. If read the Schedule from GTFS, the resulting Route objects will not have reference to the network route taken.\n",
      "2020-06-15 15:29:59,763 - Route needs to have a network route composed of a list of network links that the vehicle on this route traverses. If read the Schedule from GTFS, the resulting Route objects will not have reference to the network route taken.\n",
      "2020-06-15 15:29:59,764 - Route needs to have a network route composed of a list of network links that the vehicle on this route traverses. If read the Schedule from GTFS, the resulting Route objects will not have reference to the network route taken.\n",
      "2020-06-15 15:29:59,766 - Route needs to have a network route composed of a list of network links that the vehicle on this route traverses. If read the Schedule from GTFS, the resulting Route objects will not have reference to the network route taken.\n",
      "2020-06-15 15:29:59,768 - Route needs to have a network route composed of a list of network links that the vehicle on this route traverses. If read the Schedule from GTFS, the resulting Route objects will not have reference to the network route taken.\n",
      "2020-06-15 15:29:59,769 - Route needs to have a network route composed of a list of network links that the vehicle on this route traverses. If read the Schedule from GTFS, the resulting Route objects will not have reference to the network route taken.\n",
      "2020-06-15 15:29:59,771 - Route needs to have a network route composed of a list of network links that the vehicle on this route traverses. If read the Schedule from GTFS, the resulting Route objects will not have reference to the network route taken.\n",
      "2020-06-15 15:29:59,776 - Route needs to have a network route composed of a list of network links that the vehicle on this route traverses. If read the Schedule from GTFS, the resulting Route objects will not have reference to the network route taken.\n",
      "2020-06-15 15:29:59,778 - Route needs to have a network route composed of a list of network links that the vehicle on this route traverses. If read the Schedule from GTFS, the resulting Route objects will not have reference to the network route taken.\n",
      "2020-06-15 15:29:59,781 - Route needs to have a network route composed of a list of network links that the vehicle on this route traverses. If read the Schedule from GTFS, the resulting Route objects will not have reference to the network route taken.\n",
      "2020-06-15 15:29:59,782 - Route needs to have a network route composed of a list of network links that the vehicle on this route traverses. If read the Schedule from GTFS, the resulting Route objects will not have reference to the network route taken.\n",
      "2020-06-15 15:29:59,783 - Route needs to have a network route composed of a list of network links that the vehicle on this route traverses. If read the Schedule from GTFS, the resulting Route objects will not have reference to the network route taken.\n",
      "2020-06-15 15:29:59,785 - Route needs to have a network route composed of a list of network links that the vehicle on this route traverses. If read the Schedule from GTFS, the resulting Route objects will not have reference to the network route taken.\n",
      "2020-06-15 15:29:59,786 - Route needs to have a network route composed of a list of network links that the vehicle on this route traverses. If read the Schedule from GTFS, the resulting Route objects will not have reference to the network route taken.\n",
      "2020-06-15 15:29:59,787 - Route needs to have a network route composed of a list of network links that the vehicle on this route traverses. If read the Schedule from GTFS, the resulting Route objects will not have reference to the network route taken.\n",
      "2020-06-15 15:29:59,789 - Route needs to have a network route composed of a list of network links that the vehicle on this route traverses. If read the Schedule from GTFS, the resulting Route objects will not have reference to the network route taken.\n",
      "2020-06-15 15:29:59,790 - Route needs to have a network route composed of a list of network links that the vehicle on this route traverses. If read the Schedule from GTFS, the resulting Route objects will not have reference to the network route taken.\n",
      "2020-06-15 15:29:59,795 - Route needs to have a network route composed of a list of network links that the vehicle on this route traverses. If read the Schedule from GTFS, the resulting Route objects will not have reference to the network route taken.\n",
      "2020-06-15 15:29:59,797 - Route needs to have a network route composed of a list of network links that the vehicle on this route traverses. If read the Schedule from GTFS, the resulting Route objects will not have reference to the network route taken.\n",
      "2020-06-15 15:29:59,798 - Route needs to have a network route composed of a list of network links that the vehicle on this route traverses. If read the Schedule from GTFS, the resulting Route objects will not have reference to the network route taken.\n",
      "2020-06-15 15:29:59,798 - Route needs to have a network route composed of a list of network links that the vehicle on this route traverses. If read the Schedule from GTFS, the resulting Route objects will not have reference to the network route taken.\n",
      "2020-06-15 15:29:59,800 - Route needs to have a network route composed of a list of network links that the vehicle on this route traverses. If read the Schedule from GTFS, the resulting Route objects will not have reference to the network route taken.\n",
      "2020-06-15 15:29:59,801 - Route needs to have a network route composed of a list of network links that the vehicle on this route traverses. If read the Schedule from GTFS, the resulting Route objects will not have reference to the network route taken.\n"
     ]
    },
    {
     "name": "stderr",
     "output_type": "stream",
     "text": [
      "2020-06-15 15:29:59,802 - Route needs to have a network route composed of a list of network links that the vehicle on this route traverses. If read the Schedule from GTFS, the resulting Route objects will not have reference to the network route taken.\n",
      "2020-06-15 15:29:59,803 - Route needs to have a network route composed of a list of network links that the vehicle on this route traverses. If read the Schedule from GTFS, the resulting Route objects will not have reference to the network route taken.\n",
      "2020-06-15 15:29:59,806 - Route needs to have a network route composed of a list of network links that the vehicle on this route traverses. If read the Schedule from GTFS, the resulting Route objects will not have reference to the network route taken.\n",
      "2020-06-15 15:29:59,808 - Route needs to have a network route composed of a list of network links that the vehicle on this route traverses. If read the Schedule from GTFS, the resulting Route objects will not have reference to the network route taken.\n",
      "2020-06-15 15:29:59,811 - Route needs to have a network route composed of a list of network links that the vehicle on this route traverses. If read the Schedule from GTFS, the resulting Route objects will not have reference to the network route taken.\n",
      "2020-06-15 15:29:59,813 - Route needs to have a network route composed of a list of network links that the vehicle on this route traverses. If read the Schedule from GTFS, the resulting Route objects will not have reference to the network route taken.\n",
      "2020-06-15 15:29:59,813 - Route needs to have a network route composed of a list of network links that the vehicle on this route traverses. If read the Schedule from GTFS, the resulting Route objects will not have reference to the network route taken.\n",
      "2020-06-15 15:29:59,814 - Route needs to have a network route composed of a list of network links that the vehicle on this route traverses. If read the Schedule from GTFS, the resulting Route objects will not have reference to the network route taken.\n",
      "2020-06-15 15:29:59,815 - Route needs to have a network route composed of a list of network links that the vehicle on this route traverses. If read the Schedule from GTFS, the resulting Route objects will not have reference to the network route taken.\n",
      "2020-06-15 15:29:59,817 - Route needs to have a network route composed of a list of network links that the vehicle on this route traverses. If read the Schedule from GTFS, the resulting Route objects will not have reference to the network route taken.\n",
      "2020-06-15 15:29:59,817 - Route needs to have a network route composed of a list of network links that the vehicle on this route traverses. If read the Schedule from GTFS, the resulting Route objects will not have reference to the network route taken.\n",
      "2020-06-15 15:29:59,819 - Route needs to have a network route composed of a list of network links that the vehicle on this route traverses. If read the Schedule from GTFS, the resulting Route objects will not have reference to the network route taken.\n",
      "2020-06-15 15:29:59,821 - Route needs to have a network route composed of a list of network links that the vehicle on this route traverses. If read the Schedule from GTFS, the resulting Route objects will not have reference to the network route taken.\n",
      "2020-06-15 15:29:59,823 - Route needs to have a network route composed of a list of network links that the vehicle on this route traverses. If read the Schedule from GTFS, the resulting Route objects will not have reference to the network route taken.\n",
      "2020-06-15 15:29:59,828 - Route needs to have a network route composed of a list of network links that the vehicle on this route traverses. If read the Schedule from GTFS, the resulting Route objects will not have reference to the network route taken.\n",
      "2020-06-15 15:29:59,830 - Route needs to have a network route composed of a list of network links that the vehicle on this route traverses. If read the Schedule from GTFS, the resulting Route objects will not have reference to the network route taken.\n",
      "2020-06-15 15:29:59,831 - Route needs to have a network route composed of a list of network links that the vehicle on this route traverses. If read the Schedule from GTFS, the resulting Route objects will not have reference to the network route taken.\n",
      "2020-06-15 15:29:59,833 - Route needs to have a network route composed of a list of network links that the vehicle on this route traverses. If read the Schedule from GTFS, the resulting Route objects will not have reference to the network route taken.\n",
      "2020-06-15 15:29:59,834 - Route needs to have a network route composed of a list of network links that the vehicle on this route traverses. If read the Schedule from GTFS, the resulting Route objects will not have reference to the network route taken.\n",
      "2020-06-15 15:29:59,839 - Route needs to have a network route composed of a list of network links that the vehicle on this route traverses. If read the Schedule from GTFS, the resulting Route objects will not have reference to the network route taken.\n",
      "2020-06-15 15:29:59,840 - Route needs to have a network route composed of a list of network links that the vehicle on this route traverses. If read the Schedule from GTFS, the resulting Route objects will not have reference to the network route taken.\n",
      "2020-06-15 15:29:59,841 - Route needs to have a network route composed of a list of network links that the vehicle on this route traverses. If read the Schedule from GTFS, the resulting Route objects will not have reference to the network route taken.\n",
      "2020-06-15 15:29:59,845 - Route needs to have a network route composed of a list of network links that the vehicle on this route traverses. If read the Schedule from GTFS, the resulting Route objects will not have reference to the network route taken.\n",
      "2020-06-15 15:29:59,846 - Route needs to have a network route composed of a list of network links that the vehicle on this route traverses. If read the Schedule from GTFS, the resulting Route objects will not have reference to the network route taken.\n",
      "2020-06-15 15:29:59,848 - Route needs to have a network route composed of a list of network links that the vehicle on this route traverses. If read the Schedule from GTFS, the resulting Route objects will not have reference to the network route taken.\n",
      "2020-06-15 15:29:59,849 - Route needs to have a network route composed of a list of network links that the vehicle on this route traverses. If read the Schedule from GTFS, the resulting Route objects will not have reference to the network route taken.\n",
      "2020-06-15 15:29:59,850 - Route needs to have a network route composed of a list of network links that the vehicle on this route traverses. If read the Schedule from GTFS, the resulting Route objects will not have reference to the network route taken.\n",
      "2020-06-15 15:29:59,851 - Route needs to have a network route composed of a list of network links that the vehicle on this route traverses. If read the Schedule from GTFS, the resulting Route objects will not have reference to the network route taken.\n",
      "2020-06-15 15:29:59,852 - Route needs to have a network route composed of a list of network links that the vehicle on this route traverses. If read the Schedule from GTFS, the resulting Route objects will not have reference to the network route taken.\n",
      "2020-06-15 15:29:59,853 - Route needs to have a network route composed of a list of network links that the vehicle on this route traverses. If read the Schedule from GTFS, the resulting Route objects will not have reference to the network route taken.\n",
      "2020-06-15 15:29:59,853 - Route needs to have a network route composed of a list of network links that the vehicle on this route traverses. If read the Schedule from GTFS, the resulting Route objects will not have reference to the network route taken.\n",
      "2020-06-15 15:29:59,856 - Route needs to have a network route composed of a list of network links that the vehicle on this route traverses. If read the Schedule from GTFS, the resulting Route objects will not have reference to the network route taken.\n",
      "2020-06-15 15:29:59,857 - Route needs to have a network route composed of a list of network links that the vehicle on this route traverses. If read the Schedule from GTFS, the resulting Route objects will not have reference to the network route taken.\n"
     ]
    },
    {
     "name": "stderr",
     "output_type": "stream",
     "text": [
      "2020-06-15 15:29:59,861 - Route needs to have a network route composed of a list of network links that the vehicle on this route traverses. If read the Schedule from GTFS, the resulting Route objects will not have reference to the network route taken.\n",
      "2020-06-15 15:29:59,862 - Route needs to have a network route composed of a list of network links that the vehicle on this route traverses. If read the Schedule from GTFS, the resulting Route objects will not have reference to the network route taken.\n",
      "2020-06-15 15:29:59,863 - Route needs to have a network route composed of a list of network links that the vehicle on this route traverses. If read the Schedule from GTFS, the resulting Route objects will not have reference to the network route taken.\n",
      "2020-06-15 15:29:59,864 - Route needs to have a network route composed of a list of network links that the vehicle on this route traverses. If read the Schedule from GTFS, the resulting Route objects will not have reference to the network route taken.\n",
      "2020-06-15 15:29:59,866 - Route needs to have a network route composed of a list of network links that the vehicle on this route traverses. If read the Schedule from GTFS, the resulting Route objects will not have reference to the network route taken.\n",
      "2020-06-15 15:29:59,867 - Route needs to have a network route composed of a list of network links that the vehicle on this route traverses. If read the Schedule from GTFS, the resulting Route objects will not have reference to the network route taken.\n",
      "2020-06-15 15:29:59,868 - Route needs to have a network route composed of a list of network links that the vehicle on this route traverses. If read the Schedule from GTFS, the resulting Route objects will not have reference to the network route taken.\n",
      "2020-06-15 15:29:59,869 - Route needs to have a network route composed of a list of network links that the vehicle on this route traverses. If read the Schedule from GTFS, the resulting Route objects will not have reference to the network route taken.\n",
      "2020-06-15 15:29:59,871 - Route needs to have a network route composed of a list of network links that the vehicle on this route traverses. If read the Schedule from GTFS, the resulting Route objects will not have reference to the network route taken.\n",
      "2020-06-15 15:29:59,872 - Route needs to have a network route composed of a list of network links that the vehicle on this route traverses. If read the Schedule from GTFS, the resulting Route objects will not have reference to the network route taken.\n",
      "2020-06-15 15:29:59,874 - Route needs to have a network route composed of a list of network links that the vehicle on this route traverses. If read the Schedule from GTFS, the resulting Route objects will not have reference to the network route taken.\n",
      "2020-06-15 15:29:59,876 - Route needs to have a network route composed of a list of network links that the vehicle on this route traverses. If read the Schedule from GTFS, the resulting Route objects will not have reference to the network route taken.\n",
      "2020-06-15 15:29:59,877 - Route needs to have a network route composed of a list of network links that the vehicle on this route traverses. If read the Schedule from GTFS, the resulting Route objects will not have reference to the network route taken.\n",
      "2020-06-15 15:29:59,878 - Route needs to have a network route composed of a list of network links that the vehicle on this route traverses. If read the Schedule from GTFS, the resulting Route objects will not have reference to the network route taken.\n",
      "2020-06-15 15:29:59,879 - Route needs to have a network route composed of a list of network links that the vehicle on this route traverses. If read the Schedule from GTFS, the resulting Route objects will not have reference to the network route taken.\n",
      "2020-06-15 15:29:59,881 - Route needs to have a network route composed of a list of network links that the vehicle on this route traverses. If read the Schedule from GTFS, the resulting Route objects will not have reference to the network route taken.\n",
      "2020-06-15 15:29:59,882 - The stop(s) along your route don't have arrival and departure offsets. This is likely a route with one stop - consider validating your schedule.\n",
      "2020-06-15 15:29:59,882 - Route needs to have a network route composed of a list of network links that the vehicle on this route traverses. If read the Schedule from GTFS, the resulting Route objects will not have reference to the network route taken.\n",
      "2020-06-15 15:29:59,883 - Route needs to have a network route composed of a list of network links that the vehicle on this route traverses. If read the Schedule from GTFS, the resulting Route objects will not have reference to the network route taken.\n",
      "2020-06-15 15:29:59,895 - Route needs to have a network route composed of a list of network links that the vehicle on this route traverses. If read the Schedule from GTFS, the resulting Route objects will not have reference to the network route taken.\n",
      "2020-06-15 15:29:59,896 - Route needs to have a network route composed of a list of network links that the vehicle on this route traverses. If read the Schedule from GTFS, the resulting Route objects will not have reference to the network route taken.\n",
      "2020-06-15 15:29:59,905 - Route needs to have a network route composed of a list of network links that the vehicle on this route traverses. If read the Schedule from GTFS, the resulting Route objects will not have reference to the network route taken.\n",
      "2020-06-15 15:29:59,907 - Route needs to have a network route composed of a list of network links that the vehicle on this route traverses. If read the Schedule from GTFS, the resulting Route objects will not have reference to the network route taken.\n",
      "2020-06-15 15:29:59,914 - Route needs to have a network route composed of a list of network links that the vehicle on this route traverses. If read the Schedule from GTFS, the resulting Route objects will not have reference to the network route taken.\n",
      "2020-06-15 15:29:59,921 - Route needs to have a network route composed of a list of network links that the vehicle on this route traverses. If read the Schedule from GTFS, the resulting Route objects will not have reference to the network route taken.\n",
      "2020-06-15 15:29:59,925 - Route needs to have a network route composed of a list of network links that the vehicle on this route traverses. If read the Schedule from GTFS, the resulting Route objects will not have reference to the network route taken.\n",
      "2020-06-15 15:29:59,929 - Route needs to have a network route composed of a list of network links that the vehicle on this route traverses. If read the Schedule from GTFS, the resulting Route objects will not have reference to the network route taken.\n",
      "2020-06-15 15:29:59,931 - Route needs to have a network route composed of a list of network links that the vehicle on this route traverses. If read the Schedule from GTFS, the resulting Route objects will not have reference to the network route taken.\n",
      "2020-06-15 15:29:59,933 - Route needs to have a network route composed of a list of network links that the vehicle on this route traverses. If read the Schedule from GTFS, the resulting Route objects will not have reference to the network route taken.\n",
      "2020-06-15 15:29:59,935 - Route needs to have a network route composed of a list of network links that the vehicle on this route traverses. If read the Schedule from GTFS, the resulting Route objects will not have reference to the network route taken.\n",
      "2020-06-15 15:29:59,937 - Route needs to have a network route composed of a list of network links that the vehicle on this route traverses. If read the Schedule from GTFS, the resulting Route objects will not have reference to the network route taken.\n",
      "2020-06-15 15:29:59,941 - Route needs to have a network route composed of a list of network links that the vehicle on this route traverses. If read the Schedule from GTFS, the resulting Route objects will not have reference to the network route taken.\n",
      "2020-06-15 15:29:59,946 - Route needs to have a network route composed of a list of network links that the vehicle on this route traverses. If read the Schedule from GTFS, the resulting Route objects will not have reference to the network route taken.\n"
     ]
    },
    {
     "name": "stderr",
     "output_type": "stream",
     "text": [
      "2020-06-15 15:29:59,948 - Route needs to have a network route composed of a list of network links that the vehicle on this route traverses. If read the Schedule from GTFS, the resulting Route objects will not have reference to the network route taken.\n",
      "2020-06-15 15:29:59,950 - Route needs to have a network route composed of a list of network links that the vehicle on this route traverses. If read the Schedule from GTFS, the resulting Route objects will not have reference to the network route taken.\n",
      "2020-06-15 15:29:59,959 - Route needs to have a network route composed of a list of network links that the vehicle on this route traverses. If read the Schedule from GTFS, the resulting Route objects will not have reference to the network route taken.\n",
      "2020-06-15 15:29:59,966 - Route needs to have a network route composed of a list of network links that the vehicle on this route traverses. If read the Schedule from GTFS, the resulting Route objects will not have reference to the network route taken.\n",
      "2020-06-15 15:29:59,967 - Route needs to have a network route composed of a list of network links that the vehicle on this route traverses. If read the Schedule from GTFS, the resulting Route objects will not have reference to the network route taken.\n",
      "2020-06-15 15:29:59,969 - Route needs to have a network route composed of a list of network links that the vehicle on this route traverses. If read the Schedule from GTFS, the resulting Route objects will not have reference to the network route taken.\n",
      "2020-06-15 15:29:59,970 - Route needs to have a network route composed of a list of network links that the vehicle on this route traverses. If read the Schedule from GTFS, the resulting Route objects will not have reference to the network route taken.\n",
      "2020-06-15 15:29:59,973 - Route needs to have a network route composed of a list of network links that the vehicle on this route traverses. If read the Schedule from GTFS, the resulting Route objects will not have reference to the network route taken.\n",
      "2020-06-15 15:29:59,978 - Route needs to have a network route composed of a list of network links that the vehicle on this route traverses. If read the Schedule from GTFS, the resulting Route objects will not have reference to the network route taken.\n",
      "2020-06-15 15:29:59,992 - Route needs to have a network route composed of a list of network links that the vehicle on this route traverses. If read the Schedule from GTFS, the resulting Route objects will not have reference to the network route taken.\n",
      "2020-06-15 15:29:59,998 - Route needs to have a network route composed of a list of network links that the vehicle on this route traverses. If read the Schedule from GTFS, the resulting Route objects will not have reference to the network route taken.\n",
      "2020-06-15 15:30:00,001 - The stop(s) along your route don't have arrival and departure offsets. This is likely a route with one stop - consider validating your schedule.\n",
      "2020-06-15 15:30:00,002 - Route needs to have a network route composed of a list of network links that the vehicle on this route traverses. If read the Schedule from GTFS, the resulting Route objects will not have reference to the network route taken.\n",
      "2020-06-15 15:30:00,004 - The stop(s) along your route don't have arrival and departure offsets. This is likely a route with one stop - consider validating your schedule.\n",
      "2020-06-15 15:30:00,005 - Route needs to have a network route composed of a list of network links that the vehicle on this route traverses. If read the Schedule from GTFS, the resulting Route objects will not have reference to the network route taken.\n",
      "2020-06-15 15:30:00,006 - The stop(s) along your route don't have arrival and departure offsets. This is likely a route with one stop - consider validating your schedule.\n",
      "2020-06-15 15:30:00,006 - Route needs to have a network route composed of a list of network links that the vehicle on this route traverses. If read the Schedule from GTFS, the resulting Route objects will not have reference to the network route taken.\n",
      "2020-06-15 15:30:00,008 - Route needs to have a network route composed of a list of network links that the vehicle on this route traverses. If read the Schedule from GTFS, the resulting Route objects will not have reference to the network route taken.\n",
      "2020-06-15 15:30:00,009 - Route needs to have a network route composed of a list of network links that the vehicle on this route traverses. If read the Schedule from GTFS, the resulting Route objects will not have reference to the network route taken.\n",
      "2020-06-15 15:30:00,010 - Route needs to have a network route composed of a list of network links that the vehicle on this route traverses. If read the Schedule from GTFS, the resulting Route objects will not have reference to the network route taken.\n",
      "2020-06-15 15:30:00,011 - Route needs to have a network route composed of a list of network links that the vehicle on this route traverses. If read the Schedule from GTFS, the resulting Route objects will not have reference to the network route taken.\n",
      "2020-06-15 15:30:00,012 - Route needs to have a network route composed of a list of network links that the vehicle on this route traverses. If read the Schedule from GTFS, the resulting Route objects will not have reference to the network route taken.\n",
      "2020-06-15 15:30:00,013 - Route needs to have a network route composed of a list of network links that the vehicle on this route traverses. If read the Schedule from GTFS, the resulting Route objects will not have reference to the network route taken.\n",
      "2020-06-15 15:30:00,014 - Route needs to have a network route composed of a list of network links that the vehicle on this route traverses. If read the Schedule from GTFS, the resulting Route objects will not have reference to the network route taken.\n",
      "2020-06-15 15:30:00,016 - Route needs to have a network route composed of a list of network links that the vehicle on this route traverses. If read the Schedule from GTFS, the resulting Route objects will not have reference to the network route taken.\n",
      "2020-06-15 15:30:00,017 - Route needs to have a network route composed of a list of network links that the vehicle on this route traverses. If read the Schedule from GTFS, the resulting Route objects will not have reference to the network route taken.\n",
      "2020-06-15 15:30:00,018 - Route needs to have a network route composed of a list of network links that the vehicle on this route traverses. If read the Schedule from GTFS, the resulting Route objects will not have reference to the network route taken.\n",
      "2020-06-15 15:30:00,019 - Route needs to have a network route composed of a list of network links that the vehicle on this route traverses. If read the Schedule from GTFS, the resulting Route objects will not have reference to the network route taken.\n",
      "2020-06-15 15:30:00,020 - Route needs to have a network route composed of a list of network links that the vehicle on this route traverses. If read the Schedule from GTFS, the resulting Route objects will not have reference to the network route taken.\n",
      "2020-06-15 15:30:00,021 - Route needs to have a network route composed of a list of network links that the vehicle on this route traverses. If read the Schedule from GTFS, the resulting Route objects will not have reference to the network route taken.\n",
      "2020-06-15 15:30:00,022 - Route needs to have a network route composed of a list of network links that the vehicle on this route traverses. If read the Schedule from GTFS, the resulting Route objects will not have reference to the network route taken.\n",
      "2020-06-15 15:30:00,023 - Route needs to have a network route composed of a list of network links that the vehicle on this route traverses. If read the Schedule from GTFS, the resulting Route objects will not have reference to the network route taken.\n",
      "2020-06-15 15:30:00,025 - Route needs to have a network route composed of a list of network links that the vehicle on this route traverses. If read the Schedule from GTFS, the resulting Route objects will not have reference to the network route taken.\n",
      "2020-06-15 15:30:00,027 - Route needs to have a network route composed of a list of network links that the vehicle on this route traverses. If read the Schedule from GTFS, the resulting Route objects will not have reference to the network route taken.\n"
     ]
    },
    {
     "name": "stderr",
     "output_type": "stream",
     "text": [
      "2020-06-15 15:30:00,028 - Route needs to have a network route composed of a list of network links that the vehicle on this route traverses. If read the Schedule from GTFS, the resulting Route objects will not have reference to the network route taken.\n",
      "2020-06-15 15:30:00,029 - Route needs to have a network route composed of a list of network links that the vehicle on this route traverses. If read the Schedule from GTFS, the resulting Route objects will not have reference to the network route taken.\n",
      "2020-06-15 15:30:00,030 - Route needs to have a network route composed of a list of network links that the vehicle on this route traverses. If read the Schedule from GTFS, the resulting Route objects will not have reference to the network route taken.\n",
      "2020-06-15 15:30:00,031 - Route needs to have a network route composed of a list of network links that the vehicle on this route traverses. If read the Schedule from GTFS, the resulting Route objects will not have reference to the network route taken.\n",
      "2020-06-15 15:30:00,032 - Route needs to have a network route composed of a list of network links that the vehicle on this route traverses. If read the Schedule from GTFS, the resulting Route objects will not have reference to the network route taken.\n",
      "2020-06-15 15:30:00,032 - The stop(s) along your route don't have arrival and departure offsets. This is likely a route with one stop - consider validating your schedule.\n",
      "2020-06-15 15:30:00,034 - Route needs to have a network route composed of a list of network links that the vehicle on this route traverses. If read the Schedule from GTFS, the resulting Route objects will not have reference to the network route taken.\n",
      "2020-06-15 15:30:00,034 - Route needs to have a network route composed of a list of network links that the vehicle on this route traverses. If read the Schedule from GTFS, the resulting Route objects will not have reference to the network route taken.\n",
      "2020-06-15 15:30:00,036 - Route needs to have a network route composed of a list of network links that the vehicle on this route traverses. If read the Schedule from GTFS, the resulting Route objects will not have reference to the network route taken.\n",
      "2020-06-15 15:30:00,037 - Route needs to have a network route composed of a list of network links that the vehicle on this route traverses. If read the Schedule from GTFS, the resulting Route objects will not have reference to the network route taken.\n",
      "2020-06-15 15:30:00,038 - Route needs to have a network route composed of a list of network links that the vehicle on this route traverses. If read the Schedule from GTFS, the resulting Route objects will not have reference to the network route taken.\n",
      "2020-06-15 15:30:00,039 - Route needs to have a network route composed of a list of network links that the vehicle on this route traverses. If read the Schedule from GTFS, the resulting Route objects will not have reference to the network route taken.\n",
      "2020-06-15 15:30:00,040 - Route needs to have a network route composed of a list of network links that the vehicle on this route traverses. If read the Schedule from GTFS, the resulting Route objects will not have reference to the network route taken.\n",
      "2020-06-15 15:30:00,041 - Route needs to have a network route composed of a list of network links that the vehicle on this route traverses. If read the Schedule from GTFS, the resulting Route objects will not have reference to the network route taken.\n",
      "2020-06-15 15:30:00,042 - Route needs to have a network route composed of a list of network links that the vehicle on this route traverses. If read the Schedule from GTFS, the resulting Route objects will not have reference to the network route taken.\n",
      "2020-06-15 15:30:00,044 - Route needs to have a network route composed of a list of network links that the vehicle on this route traverses. If read the Schedule from GTFS, the resulting Route objects will not have reference to the network route taken.\n",
      "2020-06-15 15:30:00,045 - Route needs to have a network route composed of a list of network links that the vehicle on this route traverses. If read the Schedule from GTFS, the resulting Route objects will not have reference to the network route taken.\n",
      "2020-06-15 15:30:00,048 - Route needs to have a network route composed of a list of network links that the vehicle on this route traverses. If read the Schedule from GTFS, the resulting Route objects will not have reference to the network route taken.\n",
      "2020-06-15 15:30:00,049 - Route needs to have a network route composed of a list of network links that the vehicle on this route traverses. If read the Schedule from GTFS, the resulting Route objects will not have reference to the network route taken.\n",
      "2020-06-15 15:30:00,050 - Route needs to have a network route composed of a list of network links that the vehicle on this route traverses. If read the Schedule from GTFS, the resulting Route objects will not have reference to the network route taken.\n",
      "2020-06-15 15:30:00,052 - Route needs to have a network route composed of a list of network links that the vehicle on this route traverses. If read the Schedule from GTFS, the resulting Route objects will not have reference to the network route taken.\n",
      "2020-06-15 15:30:00,054 - Route needs to have a network route composed of a list of network links that the vehicle on this route traverses. If read the Schedule from GTFS, the resulting Route objects will not have reference to the network route taken.\n",
      "2020-06-15 15:30:00,055 - Route needs to have a network route composed of a list of network links that the vehicle on this route traverses. If read the Schedule from GTFS, the resulting Route objects will not have reference to the network route taken.\n",
      "2020-06-15 15:30:00,056 - Route needs to have a network route composed of a list of network links that the vehicle on this route traverses. If read the Schedule from GTFS, the resulting Route objects will not have reference to the network route taken.\n",
      "2020-06-15 15:30:00,056 - Route needs to have a network route composed of a list of network links that the vehicle on this route traverses. If read the Schedule from GTFS, the resulting Route objects will not have reference to the network route taken.\n",
      "2020-06-15 15:30:00,057 - Route needs to have a network route composed of a list of network links that the vehicle on this route traverses. If read the Schedule from GTFS, the resulting Route objects will not have reference to the network route taken.\n",
      "2020-06-15 15:30:00,059 - Route needs to have a network route composed of a list of network links that the vehicle on this route traverses. If read the Schedule from GTFS, the resulting Route objects will not have reference to the network route taken.\n",
      "2020-06-15 15:30:00,060 - Route needs to have a network route composed of a list of network links that the vehicle on this route traverses. If read the Schedule from GTFS, the resulting Route objects will not have reference to the network route taken.\n",
      "2020-06-15 15:30:00,061 - Route needs to have a network route composed of a list of network links that the vehicle on this route traverses. If read the Schedule from GTFS, the resulting Route objects will not have reference to the network route taken.\n",
      "2020-06-15 15:30:00,062 - Route needs to have a network route composed of a list of network links that the vehicle on this route traverses. If read the Schedule from GTFS, the resulting Route objects will not have reference to the network route taken.\n",
      "2020-06-15 15:30:00,063 - Route needs to have a network route composed of a list of network links that the vehicle on this route traverses. If read the Schedule from GTFS, the resulting Route objects will not have reference to the network route taken.\n",
      "2020-06-15 15:30:00,065 - Route needs to have a network route composed of a list of network links that the vehicle on this route traverses. If read the Schedule from GTFS, the resulting Route objects will not have reference to the network route taken.\n",
      "2020-06-15 15:30:00,066 - Route needs to have a network route composed of a list of network links that the vehicle on this route traverses. If read the Schedule from GTFS, the resulting Route objects will not have reference to the network route taken.\n"
     ]
    },
    {
     "name": "stderr",
     "output_type": "stream",
     "text": [
      "2020-06-15 15:30:00,068 - Route needs to have a network route composed of a list of network links that the vehicle on this route traverses. If read the Schedule from GTFS, the resulting Route objects will not have reference to the network route taken.\n",
      "2020-06-15 15:30:00,069 - Route needs to have a network route composed of a list of network links that the vehicle on this route traverses. If read the Schedule from GTFS, the resulting Route objects will not have reference to the network route taken.\n",
      "2020-06-15 15:30:00,070 - Route needs to have a network route composed of a list of network links that the vehicle on this route traverses. If read the Schedule from GTFS, the resulting Route objects will not have reference to the network route taken.\n",
      "2020-06-15 15:30:00,071 - Route needs to have a network route composed of a list of network links that the vehicle on this route traverses. If read the Schedule from GTFS, the resulting Route objects will not have reference to the network route taken.\n",
      "2020-06-15 15:30:00,073 - Route needs to have a network route composed of a list of network links that the vehicle on this route traverses. If read the Schedule from GTFS, the resulting Route objects will not have reference to the network route taken.\n",
      "2020-06-15 15:30:00,073 - Route needs to have a network route composed of a list of network links that the vehicle on this route traverses. If read the Schedule from GTFS, the resulting Route objects will not have reference to the network route taken.\n",
      "2020-06-15 15:30:00,075 - Route needs to have a network route composed of a list of network links that the vehicle on this route traverses. If read the Schedule from GTFS, the resulting Route objects will not have reference to the network route taken.\n",
      "2020-06-15 15:30:00,076 - Route needs to have a network route composed of a list of network links that the vehicle on this route traverses. If read the Schedule from GTFS, the resulting Route objects will not have reference to the network route taken.\n",
      "2020-06-15 15:30:00,078 - Route needs to have a network route composed of a list of network links that the vehicle on this route traverses. If read the Schedule from GTFS, the resulting Route objects will not have reference to the network route taken.\n",
      "2020-06-15 15:30:00,079 - Route needs to have a network route composed of a list of network links that the vehicle on this route traverses. If read the Schedule from GTFS, the resulting Route objects will not have reference to the network route taken.\n",
      "2020-06-15 15:30:00,080 - Route needs to have a network route composed of a list of network links that the vehicle on this route traverses. If read the Schedule from GTFS, the resulting Route objects will not have reference to the network route taken.\n",
      "2020-06-15 15:30:00,081 - Route needs to have a network route composed of a list of network links that the vehicle on this route traverses. If read the Schedule from GTFS, the resulting Route objects will not have reference to the network route taken.\n",
      "2020-06-15 15:30:00,082 - Route needs to have a network route composed of a list of network links that the vehicle on this route traverses. If read the Schedule from GTFS, the resulting Route objects will not have reference to the network route taken.\n",
      "2020-06-15 15:30:00,084 - Route needs to have a network route composed of a list of network links that the vehicle on this route traverses. If read the Schedule from GTFS, the resulting Route objects will not have reference to the network route taken.\n",
      "2020-06-15 15:30:00,085 - Route needs to have a network route composed of a list of network links that the vehicle on this route traverses. If read the Schedule from GTFS, the resulting Route objects will not have reference to the network route taken.\n",
      "2020-06-15 15:30:00,086 - Route needs to have a network route composed of a list of network links that the vehicle on this route traverses. If read the Schedule from GTFS, the resulting Route objects will not have reference to the network route taken.\n",
      "2020-06-15 15:30:00,087 - Route needs to have a network route composed of a list of network links that the vehicle on this route traverses. If read the Schedule from GTFS, the resulting Route objects will not have reference to the network route taken.\n",
      "2020-06-15 15:30:00,088 - Route needs to have a network route composed of a list of network links that the vehicle on this route traverses. If read the Schedule from GTFS, the resulting Route objects will not have reference to the network route taken.\n",
      "2020-06-15 15:30:00,089 - Route needs to have a network route composed of a list of network links that the vehicle on this route traverses. If read the Schedule from GTFS, the resulting Route objects will not have reference to the network route taken.\n",
      "2020-06-15 15:30:00,090 - Route needs to have a network route composed of a list of network links that the vehicle on this route traverses. If read the Schedule from GTFS, the resulting Route objects will not have reference to the network route taken.\n",
      "2020-06-15 15:30:00,092 - Route needs to have a network route composed of a list of network links that the vehicle on this route traverses. If read the Schedule from GTFS, the resulting Route objects will not have reference to the network route taken.\n",
      "2020-06-15 15:30:00,093 - Route needs to have a network route composed of a list of network links that the vehicle on this route traverses. If read the Schedule from GTFS, the resulting Route objects will not have reference to the network route taken.\n",
      "2020-06-15 15:30:00,094 - Route needs to have a network route composed of a list of network links that the vehicle on this route traverses. If read the Schedule from GTFS, the resulting Route objects will not have reference to the network route taken.\n",
      "2020-06-15 15:30:00,095 - Route needs to have a network route composed of a list of network links that the vehicle on this route traverses. If read the Schedule from GTFS, the resulting Route objects will not have reference to the network route taken.\n",
      "2020-06-15 15:30:00,095 - The stop(s) along your route don't have arrival and departure offsets. This is likely a route with one stop - consider validating your schedule.\n",
      "2020-06-15 15:30:00,096 - Route needs to have a network route composed of a list of network links that the vehicle on this route traverses. If read the Schedule from GTFS, the resulting Route objects will not have reference to the network route taken.\n",
      "2020-06-15 15:30:00,100 - The stop(s) along your route don't have arrival and departure offsets. This is likely a route with one stop - consider validating your schedule.\n",
      "2020-06-15 15:30:00,101 - Route needs to have a network route composed of a list of network links that the vehicle on this route traverses. If read the Schedule from GTFS, the resulting Route objects will not have reference to the network route taken.\n",
      "2020-06-15 15:30:00,103 - The stop(s) along your route don't have arrival and departure offsets. This is likely a route with one stop - consider validating your schedule.\n",
      "2020-06-15 15:30:00,104 - Route needs to have a network route composed of a list of network links that the vehicle on this route traverses. If read the Schedule from GTFS, the resulting Route objects will not have reference to the network route taken.\n",
      "2020-06-15 15:30:00,107 - Route needs to have a network route composed of a list of network links that the vehicle on this route traverses. If read the Schedule from GTFS, the resulting Route objects will not have reference to the network route taken.\n",
      "2020-06-15 15:30:00,109 - Route needs to have a network route composed of a list of network links that the vehicle on this route traverses. If read the Schedule from GTFS, the resulting Route objects will not have reference to the network route taken.\n",
      "2020-06-15 15:30:00,111 - Route needs to have a network route composed of a list of network links that the vehicle on this route traverses. If read the Schedule from GTFS, the resulting Route objects will not have reference to the network route taken.\n",
      "2020-06-15 15:30:00,113 - Route needs to have a network route composed of a list of network links that the vehicle on this route traverses. If read the Schedule from GTFS, the resulting Route objects will not have reference to the network route taken.\n"
     ]
    },
    {
     "name": "stderr",
     "output_type": "stream",
     "text": [
      "2020-06-15 15:30:00,114 - Route needs to have a network route composed of a list of network links that the vehicle on this route traverses. If read the Schedule from GTFS, the resulting Route objects will not have reference to the network route taken.\n",
      "2020-06-15 15:30:00,116 - Route needs to have a network route composed of a list of network links that the vehicle on this route traverses. If read the Schedule from GTFS, the resulting Route objects will not have reference to the network route taken.\n",
      "2020-06-15 15:30:00,117 - Route needs to have a network route composed of a list of network links that the vehicle on this route traverses. If read the Schedule from GTFS, the resulting Route objects will not have reference to the network route taken.\n",
      "2020-06-15 15:30:00,119 - Route needs to have a network route composed of a list of network links that the vehicle on this route traverses. If read the Schedule from GTFS, the resulting Route objects will not have reference to the network route taken.\n",
      "2020-06-15 15:30:00,120 - Route needs to have a network route composed of a list of network links that the vehicle on this route traverses. If read the Schedule from GTFS, the resulting Route objects will not have reference to the network route taken.\n",
      "2020-06-15 15:30:00,121 - Route needs to have a network route composed of a list of network links that the vehicle on this route traverses. If read the Schedule from GTFS, the resulting Route objects will not have reference to the network route taken.\n",
      "2020-06-15 15:30:00,122 - Route needs to have a network route composed of a list of network links that the vehicle on this route traverses. If read the Schedule from GTFS, the resulting Route objects will not have reference to the network route taken.\n",
      "2020-06-15 15:30:00,123 - Route needs to have a network route composed of a list of network links that the vehicle on this route traverses. If read the Schedule from GTFS, the resulting Route objects will not have reference to the network route taken.\n",
      "2020-06-15 15:30:00,124 - Route needs to have a network route composed of a list of network links that the vehicle on this route traverses. If read the Schedule from GTFS, the resulting Route objects will not have reference to the network route taken.\n",
      "2020-06-15 15:30:00,125 - Route needs to have a network route composed of a list of network links that the vehicle on this route traverses. If read the Schedule from GTFS, the resulting Route objects will not have reference to the network route taken.\n",
      "2020-06-15 15:30:00,126 - Route needs to have a network route composed of a list of network links that the vehicle on this route traverses. If read the Schedule from GTFS, the resulting Route objects will not have reference to the network route taken.\n",
      "2020-06-15 15:30:00,127 - Route needs to have a network route composed of a list of network links that the vehicle on this route traverses. If read the Schedule from GTFS, the resulting Route objects will not have reference to the network route taken.\n",
      "2020-06-15 15:30:00,128 - Route needs to have a network route composed of a list of network links that the vehicle on this route traverses. If read the Schedule from GTFS, the resulting Route objects will not have reference to the network route taken.\n",
      "2020-06-15 15:30:00,129 - Route needs to have a network route composed of a list of network links that the vehicle on this route traverses. If read the Schedule from GTFS, the resulting Route objects will not have reference to the network route taken.\n",
      "2020-06-15 15:30:00,130 - Route needs to have a network route composed of a list of network links that the vehicle on this route traverses. If read the Schedule from GTFS, the resulting Route objects will not have reference to the network route taken.\n",
      "2020-06-15 15:30:00,134 - Route needs to have a network route composed of a list of network links that the vehicle on this route traverses. If read the Schedule from GTFS, the resulting Route objects will not have reference to the network route taken.\n",
      "2020-06-15 15:30:00,135 - Route needs to have a network route composed of a list of network links that the vehicle on this route traverses. If read the Schedule from GTFS, the resulting Route objects will not have reference to the network route taken.\n",
      "2020-06-15 15:30:00,136 - Route needs to have a network route composed of a list of network links that the vehicle on this route traverses. If read the Schedule from GTFS, the resulting Route objects will not have reference to the network route taken.\n",
      "2020-06-15 15:30:00,138 - Route needs to have a network route composed of a list of network links that the vehicle on this route traverses. If read the Schedule from GTFS, the resulting Route objects will not have reference to the network route taken.\n",
      "2020-06-15 15:30:00,140 - Route needs to have a network route composed of a list of network links that the vehicle on this route traverses. If read the Schedule from GTFS, the resulting Route objects will not have reference to the network route taken.\n",
      "2020-06-15 15:30:00,142 - Route needs to have a network route composed of a list of network links that the vehicle on this route traverses. If read the Schedule from GTFS, the resulting Route objects will not have reference to the network route taken.\n",
      "2020-06-15 15:30:00,143 - Route needs to have a network route composed of a list of network links that the vehicle on this route traverses. If read the Schedule from GTFS, the resulting Route objects will not have reference to the network route taken.\n",
      "2020-06-15 15:30:00,144 - Route needs to have a network route composed of a list of network links that the vehicle on this route traverses. If read the Schedule from GTFS, the resulting Route objects will not have reference to the network route taken.\n",
      "2020-06-15 15:30:00,145 - Route needs to have a network route composed of a list of network links that the vehicle on this route traverses. If read the Schedule from GTFS, the resulting Route objects will not have reference to the network route taken.\n",
      "2020-06-15 15:30:00,147 - Route needs to have a network route composed of a list of network links that the vehicle on this route traverses. If read the Schedule from GTFS, the resulting Route objects will not have reference to the network route taken.\n",
      "2020-06-15 15:30:00,148 - Route needs to have a network route composed of a list of network links that the vehicle on this route traverses. If read the Schedule from GTFS, the resulting Route objects will not have reference to the network route taken.\n",
      "2020-06-15 15:30:00,149 - Route needs to have a network route composed of a list of network links that the vehicle on this route traverses. If read the Schedule from GTFS, the resulting Route objects will not have reference to the network route taken.\n",
      "2020-06-15 15:30:00,150 - Route needs to have a network route composed of a list of network links that the vehicle on this route traverses. If read the Schedule from GTFS, the resulting Route objects will not have reference to the network route taken.\n",
      "2020-06-15 15:30:00,151 - Route needs to have a network route composed of a list of network links that the vehicle on this route traverses. If read the Schedule from GTFS, the resulting Route objects will not have reference to the network route taken.\n",
      "2020-06-15 15:30:00,152 - Route needs to have a network route composed of a list of network links that the vehicle on this route traverses. If read the Schedule from GTFS, the resulting Route objects will not have reference to the network route taken.\n",
      "2020-06-15 15:30:00,154 - Route needs to have a network route composed of a list of network links that the vehicle on this route traverses. If read the Schedule from GTFS, the resulting Route objects will not have reference to the network route taken.\n",
      "2020-06-15 15:30:00,155 - Route needs to have a network route composed of a list of network links that the vehicle on this route traverses. If read the Schedule from GTFS, the resulting Route objects will not have reference to the network route taken.\n",
      "2020-06-15 15:30:00,155 - Route needs to have a network route composed of a list of network links that the vehicle on this route traverses. If read the Schedule from GTFS, the resulting Route objects will not have reference to the network route taken.\n"
     ]
    },
    {
     "name": "stderr",
     "output_type": "stream",
     "text": [
      "2020-06-15 15:30:00,156 - Route needs to have a network route composed of a list of network links that the vehicle on this route traverses. If read the Schedule from GTFS, the resulting Route objects will not have reference to the network route taken.\n",
      "2020-06-15 15:30:00,157 - Route needs to have a network route composed of a list of network links that the vehicle on this route traverses. If read the Schedule from GTFS, the resulting Route objects will not have reference to the network route taken.\n",
      "2020-06-15 15:30:00,158 - Route needs to have a network route composed of a list of network links that the vehicle on this route traverses. If read the Schedule from GTFS, the resulting Route objects will not have reference to the network route taken.\n",
      "2020-06-15 15:30:00,159 - Route needs to have a network route composed of a list of network links that the vehicle on this route traverses. If read the Schedule from GTFS, the resulting Route objects will not have reference to the network route taken.\n",
      "2020-06-15 15:30:00,160 - Route needs to have a network route composed of a list of network links that the vehicle on this route traverses. If read the Schedule from GTFS, the resulting Route objects will not have reference to the network route taken.\n",
      "2020-06-15 15:30:00,161 - Route needs to have a network route composed of a list of network links that the vehicle on this route traverses. If read the Schedule from GTFS, the resulting Route objects will not have reference to the network route taken.\n",
      "2020-06-15 15:30:00,162 - Route needs to have a network route composed of a list of network links that the vehicle on this route traverses. If read the Schedule from GTFS, the resulting Route objects will not have reference to the network route taken.\n",
      "2020-06-15 15:30:00,167 - Writing /Users/kasia.kozlowska/PycharmProjects/ABM/genet/example_data/pt2matsim_network/genet_output/vehicles.xml\n"
     ]
    }
   ],
   "source": [
    "n.write_to_matsim(os.path.join(path_to_matsim_network, 'genet_output'))"
   ]
  },
  {
   "cell_type": "code",
   "execution_count": null,
   "metadata": {},
   "outputs": [],
   "source": []
  }
 ],
 "metadata": {
  "kernelspec": {
   "display_name": "Python (genet)",
   "language": "python",
   "name": "genet"
  },
  "language_info": {
   "codemirror_mode": {
    "name": "ipython",
    "version": 3
   },
   "file_extension": ".py",
   "mimetype": "text/x-python",
   "name": "python",
   "nbconvert_exporter": "python",
   "pygments_lexer": "ipython3",
   "version": "3.7.5"
  },
  "latex_envs": {
   "LaTeX_envs_menu_present": true,
   "autoclose": true,
   "autocomplete": true,
   "bibliofile": "biblio.bib",
   "cite_by": "apalike",
   "current_citInitial": 1,
   "eqLabelWithNumbers": true,
   "eqNumInitial": 1,
   "hotkeys": {
    "equation": "Ctrl-E",
    "itemize": "Ctrl-I"
   },
   "labels_anchors": false,
   "latex_user_defs": false,
   "report_style_numbering": false,
   "user_envs_cfg": false
  },
  "toc": {
   "base_numbering": 1,
   "nav_menu": {},
   "number_sections": true,
   "sideBar": true,
   "skip_h1_title": false,
   "title_cell": "Table of Contents",
   "title_sidebar": "Contents",
   "toc_cell": false,
   "toc_position": {},
   "toc_section_display": true,
   "toc_window_display": false
  },
  "varInspector": {
   "cols": {
    "lenName": 16,
    "lenType": 16,
    "lenVar": 40
   },
   "kernels_config": {
    "python": {
     "delete_cmd_postfix": "",
     "delete_cmd_prefix": "del ",
     "library": "var_list.py",
     "varRefreshCmd": "print(var_dic_list())"
    },
    "r": {
     "delete_cmd_postfix": ") ",
     "delete_cmd_prefix": "rm(",
     "library": "var_list.r",
     "varRefreshCmd": "cat(var_dic_list()) "
    }
   },
   "types_to_exclude": [
    "module",
    "function",
    "builtin_function_or_method",
    "instance",
    "_Feature"
   ],
   "window_display": false
  }
 },
 "nbformat": 4,
 "nbformat_minor": 2
}
