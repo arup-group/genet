{
 "cells": [
  {
   "cell_type": "markdown",
   "metadata": {},
   "source": [
    "# 5.1. Modifying the `Network` object: Graph\n",
    "\n",
    "This page goes through making basic changes to the Network. Available as a jupyter notebook or wiki page.\n",
    "\n",
    "`GeNet` supports some simple modifications like adding, reindexing and removing nodes and links and some involved modifications like changing the data stored under nodes or links. All of these changes get recorded in `n.change_log`."
   ]
  },
  {
   "cell_type": "code",
   "execution_count": 1,
   "metadata": {
    "ExecuteTime": {
     "end_time": "2022-11-03T18:53:14.950269Z",
     "start_time": "2022-11-03T18:52:52.803906Z"
    }
   },
   "outputs": [
    {
     "name": "stdout",
     "output_type": "stream",
     "text": [
      "Graph info: Name: \n",
      "Type: MultiDiGraph\n",
      "Number of nodes: 1662\n",
      "Number of edges: 3166\n",
      "Average in degree:   1.9049\n",
      "Average out degree:   1.9049 \n",
      "Schedule info: Schedule:\n",
      "Number of services: 9\n",
      "Number of routes: 68\n",
      "Number of stops: 118\n"
     ]
    }
   ],
   "source": [
    "# read example network\n",
    "import os\n",
    "\n",
    "from genet import read_matsim\n",
    "\n",
    "path_to_matsim_network = \"example_data/pt2matsim_network\"\n",
    "\n",
    "network = os.path.join(path_to_matsim_network, \"network.xml\")\n",
    "schedule = os.path.join(path_to_matsim_network, \"schedule.xml\")\n",
    "vehicles = os.path.join(path_to_matsim_network, \"vehicles.xml\")\n",
    "n = read_matsim(\n",
    "    path_to_network=network, epsg=\"epsg:27700\", path_to_schedule=schedule, path_to_vehicles=vehicles\n",
    ")\n",
    "# you don't need to read the vehicles file, but doing so ensures all vehicles\n",
    "# in the schedule are of the expected type and the definition of the vehicle\n",
    "# is preserved\n",
    "n.print()"
   ]
  },
  {
   "cell_type": "markdown",
   "metadata": {},
   "source": [
    "## Adding nodes/links"
   ]
  },
  {
   "cell_type": "code",
   "execution_count": 2,
   "metadata": {
    "ExecuteTime": {
     "end_time": "2022-11-03T18:53:15.099970Z",
     "start_time": "2022-11-03T18:53:14.988318Z"
    }
   },
   "outputs": [
    {
     "name": "stderr",
     "output_type": "stream",
     "text": [
      "2022-11-03 18:53:15,024 - Added Link with index proposed_index, from node:4356572310 to node:5811263955, under multi-index:1, and data={'from': '4356572310', 'to': '5811263955', 'id': 'proposed_index'}\n"
     ]
    },
    {
     "data": {
      "text/plain": [
       "'proposed_index'"
      ]
     },
     "execution_count": 2,
     "metadata": {},
     "output_type": "execute_result"
    }
   ],
   "source": [
    "n.add_link(link_id=\"proposed_index\", u=\"4356572310\", v=\"5811263955\")"
   ]
  },
  {
   "cell_type": "code",
   "execution_count": 3,
   "metadata": {
    "ExecuteTime": {
     "end_time": "2022-11-03T18:53:15.384841Z",
     "start_time": "2022-11-03T18:53:15.125235Z"
    }
   },
   "outputs": [
    {
     "name": "stderr",
     "output_type": "stream",
     "text": [
      "2022-11-03 18:53:15,177 - Added 1 nodes\n"
     ]
    },
    {
     "data": {
      "text/plain": [
       "{}"
      ]
     },
     "execution_count": 3,
     "metadata": {},
     "output_type": "execute_result"
    }
   ],
   "source": [
    "n.add_node(node=\"proposed_index\", attribs={\"x\": 1, \"y\": 1, \"data\": \"some_data\"})"
   ]
  },
  {
   "cell_type": "markdown",
   "metadata": {},
   "source": [
    "The index passed is only a proposition. If a node or link under this link exists, a new, unique index will be generated."
   ]
  },
  {
   "cell_type": "code",
   "execution_count": 4,
   "metadata": {
    "ExecuteTime": {
     "end_time": "2022-11-03T18:53:15.435637Z",
     "start_time": "2022-11-03T18:53:15.389568Z"
    }
   },
   "outputs": [
    {
     "name": "stderr",
     "output_type": "stream",
     "text": [
      "2022-11-03 18:53:15,391 - Generated 1 link ids.\n",
      "2022-11-03 18:53:15,396 - Generated link id 0.\n",
      "2022-11-03 18:53:15,403 - `proposed_index` already exists. Generated a new unique_index: `0`\n",
      "2022-11-03 18:53:15,418 - Added Link with index 0, from node:4356572310 to node:5811263955, under multi-index:2, and data={'from': '4356572310', 'to': '5811263955', 'id': '0'}\n"
     ]
    }
   ],
   "source": [
    "actual_link_id_added = n.add_link(link_id=\"proposed_index\", u=\"4356572310\", v=\"5811263955\")"
   ]
  },
  {
   "cell_type": "markdown",
   "metadata": {},
   "source": [
    "## Reindexing\n",
    "\n",
    "To reindex a node or link:"
   ]
  },
  {
   "cell_type": "code",
   "execution_count": 5,
   "metadata": {
    "ExecuteTime": {
     "end_time": "2022-11-03T18:53:16.158127Z",
     "start_time": "2022-11-03T18:53:15.441925Z"
    }
   },
   "outputs": [
    {
     "name": "stderr",
     "output_type": "stream",
     "text": [
      "2022-11-03 18:53:15,514 - Changed Link attributes for 0 links\n",
      "2022-11-03 18:53:15,617 - Changed Link attributes for 0 links\n",
      "2022-11-03 18:53:15,630 - Changed Node attributes under index: proposed_index\n",
      "2022-11-03 18:53:16,151 - Changed Node index from proposed_index to another_index\n"
     ]
    }
   ],
   "source": [
    "n.reindex_node(\"proposed_index\", \"another_index\")"
   ]
  },
  {
   "cell_type": "code",
   "execution_count": 6,
   "metadata": {
    "ExecuteTime": {
     "end_time": "2022-11-03T18:53:16.282130Z",
     "start_time": "2022-11-03T18:53:16.221872Z"
    }
   },
   "outputs": [
    {
     "name": "stderr",
     "output_type": "stream",
     "text": [
      "2022-11-03 18:53:16,234 - Changed Link attributes under index: proposed_index\n",
      "2022-11-03 18:53:16,262 - Changed Link index from proposed_index to another_index\n"
     ]
    }
   ],
   "source": [
    "n.reindex_link(\"proposed_index\", \"another_index\")"
   ]
  },
  {
   "cell_type": "markdown",
   "metadata": {},
   "source": [
    "## Removing nodes/links\n",
    "\n",
    "To remove a link or node:"
   ]
  },
  {
   "cell_type": "code",
   "execution_count": 7,
   "metadata": {
    "ExecuteTime": {
     "end_time": "2022-11-03T18:53:16.324975Z",
     "start_time": "2022-11-03T18:53:16.300454Z"
    }
   },
   "outputs": [
    {
     "name": "stderr",
     "output_type": "stream",
     "text": [
      "2022-11-03 18:53:16,306 - Removed 2 links\n"
     ]
    }
   ],
   "source": [
    "n.remove_links([\"another_index\", actual_link_id_added])"
   ]
  },
  {
   "cell_type": "code",
   "execution_count": 8,
   "metadata": {
    "ExecuteTime": {
     "end_time": "2022-11-03T18:53:16.354606Z",
     "start_time": "2022-11-03T18:53:16.338809Z"
    }
   },
   "outputs": [
    {
     "name": "stderr",
     "output_type": "stream",
     "text": [
      "2022-11-03 18:53:16,346 - Removed Node under index: another_index\n"
     ]
    }
   ],
   "source": [
    "n.remove_node(\"another_index\")"
   ]
  },
  {
   "cell_type": "markdown",
   "metadata": {},
   "source": [
    "## Modifying data stored on nodes or edges:\n",
    "\n",
    "Let's say you have extracted `genet.Network` link ids of interest (See Section on Using Network - Accessing Data) and now you want to make changes to the network. Let's make changes to the nested OSM data stored on the links. We will replace the highway tags from `'primary'` to `'SOMETHING'`."
   ]
  },
  {
   "cell_type": "code",
   "execution_count": 9,
   "metadata": {
    "ExecuteTime": {
     "end_time": "2022-11-03T18:53:16.590507Z",
     "start_time": "2022-11-03T18:53:16.372266Z"
    }
   },
   "outputs": [
    {
     "data": {
      "text/plain": [
       "['1007', '1008', '1023', '1024', '103']"
      ]
     },
     "execution_count": 9,
     "metadata": {},
     "output_type": "execute_result"
    }
   ],
   "source": [
    "links = n.extract_links_on_edge_attributes(\n",
    "    conditions={\"attributes\": {\"osm:way:highway\": \"primary\"}}\n",
    ")\n",
    "\n",
    "links[:5]"
   ]
  },
  {
   "cell_type": "code",
   "execution_count": 10,
   "metadata": {
    "ExecuteTime": {
     "end_time": "2022-11-03T18:53:16.618103Z",
     "start_time": "2022-11-03T18:53:16.607988Z"
    }
   },
   "outputs": [
    {
     "data": {
      "text/plain": [
       "{'id': '1007',\n",
       " 'from': '4356572310',\n",
       " 'to': '5811263955',\n",
       " 'freespeed': 22.22222222222222,\n",
       " 'capacity': 3000.0,\n",
       " 'permlanes': 2.0,\n",
       " 'oneway': '1',\n",
       " 'modes': {'car'},\n",
       " 's2_from': 5221390723045407809,\n",
       " 's2_to': 5221390723040504387,\n",
       " 'attributes': {'osm:way:highway': 'primary',\n",
       "  'osm:way:id': 589660342.0,\n",
       "  'osm:way:lanes': '2',\n",
       "  'osm:way:name': 'Shaftesbury Avenue',\n",
       "  'osm:way:oneway': 'yes'},\n",
       " 'length': 13.941905154249884}"
      ]
     },
     "execution_count": 10,
     "metadata": {},
     "output_type": "execute_result"
    }
   ],
   "source": [
    "n.link(links[0])"
   ]
  },
  {
   "cell_type": "markdown",
   "metadata": {
    "ExecuteTime": {
     "end_time": "2020-12-17T13:55:45.778595Z",
     "start_time": "2020-12-17T13:55:45.772735Z"
    }
   },
   "source": [
    "We create a dictionary which maps same changes to all links in the list using:\n",
    "\n",
    "```python\n",
    "    {link_id: {'attributes': {'osm:way:highway': 'SOMETHING'}} for link_id in links}\n",
    "```"
   ]
  },
  {
   "cell_type": "code",
   "execution_count": 11,
   "metadata": {
    "ExecuteTime": {
     "end_time": "2022-11-03T18:53:17.111190Z",
     "start_time": "2022-11-03T18:53:16.631004Z"
    }
   },
   "outputs": [
    {
     "name": "stderr",
     "output_type": "stream",
     "text": [
      "2022-11-03 18:53:17,103 - Changed Link attributes for 619 links\n"
     ]
    }
   ],
   "source": [
    "n.apply_attributes_to_links(\n",
    "    {link_id: {\"attributes\": {\"osm:way:highway\": \"SOMETHING\"}} for link_id in links}\n",
    ")"
   ]
  },
  {
   "cell_type": "code",
   "execution_count": 12,
   "metadata": {
    "ExecuteTime": {
     "end_time": "2022-11-03T18:53:17.140029Z",
     "start_time": "2022-11-03T18:53:17.116189Z"
    }
   },
   "outputs": [
    {
     "data": {
      "text/plain": [
       "{'id': '1007',\n",
       " 'from': '4356572310',\n",
       " 'to': '5811263955',\n",
       " 'freespeed': 22.22222222222222,\n",
       " 'capacity': 3000.0,\n",
       " 'permlanes': 2.0,\n",
       " 'oneway': '1',\n",
       " 'modes': {'car'},\n",
       " 's2_from': 5221390723045407809,\n",
       " 's2_to': 5221390723040504387,\n",
       " 'attributes': {'osm:way:highway': 'SOMETHING',\n",
       "  'osm:way:id': 589660342.0,\n",
       "  'osm:way:lanes': '2',\n",
       "  'osm:way:name': 'Shaftesbury Avenue',\n",
       "  'osm:way:oneway': 'yes'},\n",
       " 'length': 13.941905154249884}"
      ]
     },
     "execution_count": 12,
     "metadata": {},
     "output_type": "execute_result"
    }
   ],
   "source": [
    "n.link(links[0])"
   ]
  },
  {
   "cell_type": "code",
   "execution_count": 13,
   "metadata": {
    "ExecuteTime": {
     "end_time": "2022-11-03T18:53:17.258620Z",
     "start_time": "2022-11-03T18:53:17.144273Z"
    }
   },
   "outputs": [
    {
     "data": {
      "text/html": [
       "<div>\n",
       "<style scoped>\n",
       "    .dataframe tbody tr th:only-of-type {\n",
       "        vertical-align: middle;\n",
       "    }\n",
       "\n",
       "    .dataframe tbody tr th {\n",
       "        vertical-align: top;\n",
       "    }\n",
       "\n",
       "    .dataframe thead th {\n",
       "        text-align: right;\n",
       "    }\n",
       "</style>\n",
       "<table border=\"1\" class=\"dataframe\">\n",
       "  <thead>\n",
       "    <tr style=\"text-align: right;\">\n",
       "      <th></th>\n",
       "      <th>timestamp</th>\n",
       "      <th>change_event</th>\n",
       "      <th>object_type</th>\n",
       "      <th>old_id</th>\n",
       "      <th>new_id</th>\n",
       "      <th>old_attributes</th>\n",
       "      <th>new_attributes</th>\n",
       "      <th>diff</th>\n",
       "    </tr>\n",
       "  </thead>\n",
       "  <tbody>\n",
       "    <tr>\n",
       "      <th>0</th>\n",
       "      <td>2022-11-03 18:53:15</td>\n",
       "      <td>add</td>\n",
       "      <td>link</td>\n",
       "      <td>None</td>\n",
       "      <td>proposed_index</td>\n",
       "      <td>None</td>\n",
       "      <td>{'from': '4356572310', 'to': '5811263955', 'id...</td>\n",
       "      <td>[(add, , [('from', '4356572310'), ('to', '5811...</td>\n",
       "    </tr>\n",
       "    <tr>\n",
       "      <th>1</th>\n",
       "      <td>2022-11-03 18:53:15</td>\n",
       "      <td>add</td>\n",
       "      <td>node</td>\n",
       "      <td>None</td>\n",
       "      <td>proposed_index</td>\n",
       "      <td>None</td>\n",
       "      <td>{'x': 1, 'y': 1, 'lon': -7.557147012910978, 'l...</td>\n",
       "      <td>[(add, , [('x', 1), ('y', 1), ('lon', -7.55714...</td>\n",
       "    </tr>\n",
       "    <tr>\n",
       "      <th>2</th>\n",
       "      <td>2022-11-03 18:53:15</td>\n",
       "      <td>add</td>\n",
       "      <td>link</td>\n",
       "      <td>None</td>\n",
       "      <td>0</td>\n",
       "      <td>None</td>\n",
       "      <td>{'from': '4356572310', 'to': '5811263955', 'id...</td>\n",
       "      <td>[(add, , [('from', '4356572310'), ('to', '5811...</td>\n",
       "    </tr>\n",
       "    <tr>\n",
       "      <th>3</th>\n",
       "      <td>2022-11-03 18:53:15</td>\n",
       "      <td>modify</td>\n",
       "      <td>node</td>\n",
       "      <td>proposed_index</td>\n",
       "      <td>another_index</td>\n",
       "      <td>{'x': 1, 'y': 1, 'lon': -7.557147012910978, 'l...</td>\n",
       "      <td>{'x': 1, 'y': 1, 'lon': -7.557147012910978, 'l...</td>\n",
       "      <td>[(change, id, (proposed_index, another_index))...</td>\n",
       "    </tr>\n",
       "    <tr>\n",
       "      <th>4</th>\n",
       "      <td>2022-11-03 18:53:15</td>\n",
       "      <td>modify</td>\n",
       "      <td>node</td>\n",
       "      <td>proposed_index</td>\n",
       "      <td>proposed_index</td>\n",
       "      <td>{'x': 1, 'y': 1, 'lon': -7.557147012910978, 'l...</td>\n",
       "      <td>{'x': 1, 'y': 1, 'lon': -7.557147012910978, 'l...</td>\n",
       "      <td>[(change, id, (proposed_index, another_index))]</td>\n",
       "    </tr>\n",
       "  </tbody>\n",
       "</table>\n",
       "</div>"
      ],
      "text/plain": [
       "             timestamp change_event object_type          old_id  \\\n",
       "0  2022-11-03 18:53:15          add        link            None   \n",
       "1  2022-11-03 18:53:15          add        node            None   \n",
       "2  2022-11-03 18:53:15          add        link            None   \n",
       "3  2022-11-03 18:53:15       modify        node  proposed_index   \n",
       "4  2022-11-03 18:53:15       modify        node  proposed_index   \n",
       "\n",
       "           new_id                                     old_attributes  \\\n",
       "0  proposed_index                                               None   \n",
       "1  proposed_index                                               None   \n",
       "2               0                                               None   \n",
       "3   another_index  {'x': 1, 'y': 1, 'lon': -7.557147012910978, 'l...   \n",
       "4  proposed_index  {'x': 1, 'y': 1, 'lon': -7.557147012910978, 'l...   \n",
       "\n",
       "                                      new_attributes  \\\n",
       "0  {'from': '4356572310', 'to': '5811263955', 'id...   \n",
       "1  {'x': 1, 'y': 1, 'lon': -7.557147012910978, 'l...   \n",
       "2  {'from': '4356572310', 'to': '5811263955', 'id...   \n",
       "3  {'x': 1, 'y': 1, 'lon': -7.557147012910978, 'l...   \n",
       "4  {'x': 1, 'y': 1, 'lon': -7.557147012910978, 'l...   \n",
       "\n",
       "                                                diff  \n",
       "0  [(add, , [('from', '4356572310'), ('to', '5811...  \n",
       "1  [(add, , [('x', 1), ('y', 1), ('lon', -7.55714...  \n",
       "2  [(add, , [('from', '4356572310'), ('to', '5811...  \n",
       "3  [(change, id, (proposed_index, another_index))...  \n",
       "4    [(change, id, (proposed_index, another_index))]  "
      ]
     },
     "execution_count": 13,
     "metadata": {},
     "output_type": "execute_result"
    }
   ],
   "source": [
    "n.change_log.head()"
   ]
  },
  {
   "cell_type": "code",
   "execution_count": 14,
   "metadata": {
    "ExecuteTime": {
     "end_time": "2022-11-03T18:53:17.270010Z",
     "start_time": "2022-11-03T18:53:17.262822Z"
    }
   },
   "outputs": [
    {
     "data": {
      "text/plain": [
       "\"{'id': '959', 'from': '300501141', 'to': '294158420', 'freespeed': 22.22222222222222, 'capacity': 1500.0, 'permlanes': 1.0, 'oneway': '1', 'modes': {'car'}, 's2_from': 5221390337863745429, 's2_to': 5221390337351379383, 'attributes': {'osm:relation:route': 'bus', 'osm:way:highway': 'primary', 'osm:way:id': 26785612.0, 'osm:way:name': 'Albany Street'}, 'length': 90.65828423645875}\""
      ]
     },
     "execution_count": 14,
     "metadata": {},
     "output_type": "execute_result"
    }
   ],
   "source": [
    "n.change_log.loc[618, :][\"old_attributes\"]"
   ]
  },
  {
   "cell_type": "code",
   "execution_count": 15,
   "metadata": {
    "ExecuteTime": {
     "end_time": "2022-11-03T18:53:17.285328Z",
     "start_time": "2022-11-03T18:53:17.275478Z"
    }
   },
   "outputs": [
    {
     "data": {
      "text/plain": [
       "\"{'id': '959', 'from': '300501141', 'to': '294158420', 'freespeed': 22.22222222222222, 'capacity': 1500.0, 'permlanes': 1.0, 'oneway': '1', 'modes': {'car'}, 's2_from': 5221390337863745429, 's2_to': 5221390337351379383, 'attributes': {'osm:relation:route': 'bus', 'osm:way:highway': 'SOMETHING', 'osm:way:id': 26785612.0, 'osm:way:name': 'Albany Street'}, 'length': 90.65828423645875}\""
      ]
     },
     "execution_count": 15,
     "metadata": {},
     "output_type": "execute_result"
    }
   ],
   "source": [
    "n.change_log.loc[618, :][\"new_attributes\"]"
   ]
  },
  {
   "cell_type": "code",
   "execution_count": 16,
   "metadata": {
    "ExecuteTime": {
     "end_time": "2022-11-03T18:53:17.306325Z",
     "start_time": "2022-11-03T18:53:17.289500Z"
    }
   },
   "outputs": [
    {
     "data": {
      "text/plain": [
       "[('change', 'attributes.osm:way:highway', ('primary', 'SOMETHING'))]"
      ]
     },
     "execution_count": 16,
     "metadata": {},
     "output_type": "execute_result"
    }
   ],
   "source": [
    "n.change_log.loc[618, :][\"diff\"]"
   ]
  },
  {
   "cell_type": "markdown",
   "metadata": {},
   "source": [
    "Another useful method is the `apply_function_to_links`/`nodes`. This function takes a user-defined function with the variable that is the data dictionary stored on the links or nodes respectively. This function does not support `conditions`, but this is something that can be encoded in you function, for example:"
   ]
  },
  {
   "cell_type": "code",
   "execution_count": 17,
   "metadata": {
    "ExecuteTime": {
     "end_time": "2022-11-03T18:53:18.514501Z",
     "start_time": "2022-11-03T18:53:17.314456Z"
    }
   },
   "outputs": [
    {
     "name": "stderr",
     "output_type": "stream",
     "text": [
      "2022-11-03 18:53:18,497 - Changed Link attributes for 3166 links\n"
     ]
    }
   ],
   "source": [
    "def divide_capacity(link_attributes):\n",
    "    if \"car\" in link_attributes[\"modes\"]:\n",
    "        return link_attributes[\"capacity\"] / link_attributes[\"permlanes\"]\n",
    "\n",
    "\n",
    "n.apply_function_to_links(divide_capacity, \"base_capacity\")"
   ]
  },
  {
   "cell_type": "markdown",
   "metadata": {},
   "source": [
    "This method will apply results of this function to links for which a value can be computed. For use here, that means that for any link which has a `'car'` value in `'modes'` a value of capacity divided by the number of lanes will be computed. We specify that the results will be stored under `base_capacity` in the links attribute dictionary."
   ]
  },
  {
   "cell_type": "code",
   "execution_count": 18,
   "metadata": {
    "ExecuteTime": {
     "end_time": "2022-11-03T18:53:18.603149Z",
     "start_time": "2022-11-03T18:53:18.549615Z"
    }
   },
   "outputs": [
    {
     "data": {
      "text/plain": [
       "{'id': '1007',\n",
       " 'from': '4356572310',\n",
       " 'to': '5811263955',\n",
       " 'freespeed': 22.22222222222222,\n",
       " 'capacity': 3000.0,\n",
       " 'permlanes': 2.0,\n",
       " 'oneway': '1',\n",
       " 'modes': {'car'},\n",
       " 's2_from': 5221390723045407809,\n",
       " 's2_to': 5221390723040504387,\n",
       " 'attributes': {'osm:way:highway': 'SOMETHING',\n",
       "  'osm:way:id': 589660342.0,\n",
       "  'osm:way:lanes': '2',\n",
       "  'osm:way:name': 'Shaftesbury Avenue',\n",
       "  'osm:way:oneway': 'yes'},\n",
       " 'length': 13.941905154249884,\n",
       " 'base_capacity': 1500.0}"
      ]
     },
     "execution_count": 18,
     "metadata": {},
     "output_type": "execute_result"
    }
   ],
   "source": [
    "n.link(links[0])"
   ]
  },
  {
   "cell_type": "markdown",
   "metadata": {},
   "source": [
    "## Divinding Links at a point\n",
    "\n",
    "This is useful when adding new junctions when creating network scenarios."
   ]
  },
  {
   "cell_type": "code",
   "execution_count": 19,
   "metadata": {
    "ExecuteTime": {
     "end_time": "2022-11-03T18:53:18.749243Z",
     "start_time": "2022-11-03T18:53:18.731266Z"
    }
   },
   "outputs": [
    {
     "data": {
      "text/plain": [
       "{'id': '3283',\n",
       " 'from': '5183504114',\n",
       " 'to': '2100667093',\n",
       " 'freespeed': 4.166666666666667,\n",
       " 'capacity': 600.0,\n",
       " 'permlanes': 1.0,\n",
       " 'oneway': '1',\n",
       " 'modes': {'car'},\n",
       " 's2_from': 5221390345346257215,\n",
       " 's2_to': 5221390252517831471,\n",
       " 'attributes': {'osm:way:access': 'permissive',\n",
       "  'osm:way:highway': 'unclassified',\n",
       "  'osm:way:id': 5228769.0,\n",
       "  'osm:way:name': 'Inner Circle',\n",
       "  'osm:way:psv': 'destination'},\n",
       " 'length': 690.3981958395409,\n",
       " 'base_capacity': 600.0}"
      ]
     },
     "execution_count": 19,
     "metadata": {},
     "output_type": "execute_result"
    }
   ],
   "source": [
    "n.link(\"3283\")"
   ]
  },
  {
   "cell_type": "code",
   "execution_count": 20,
   "metadata": {
    "ExecuteTime": {
     "end_time": "2022-11-03T18:53:19.364482Z",
     "start_time": "2022-11-03T18:53:18.756063Z"
    },
    "scrolled": true
   },
   "outputs": [
    {
     "name": "stderr",
     "output_type": "stream",
     "text": [
      "2022-11-03 18:53:18,760 - Generated node id 6985267189.\n",
      "2022-11-03 18:53:18,796 - Added 1 nodes\n",
      "2022-11-03 18:53:18,798 - Generated 2 link ids.\n",
      "2022-11-03 18:53:18,832 - Given point is very close, but not cannot be placed on the line. We move it slightly and the resulting split may not be exact.\n",
      "2022-11-03 18:53:19,323 - Generated 0 link ids.\n",
      "2022-11-03 18:53:19,334 - Added 2 links\n",
      "2022-11-03 18:53:19,338 - Removed link under index: 3283\n",
      "2022-11-03 18:53:19,344 - Updating network routes in the PT schedule.\n",
      "2022-11-03 18:53:19,349 - No PT routes were affected by this change\n"
     ]
    }
   ],
   "source": [
    "data = n.split_link_at_point(\"3283\", x=528241.91, y=182530.95)"
   ]
  },
  {
   "cell_type": "code",
   "execution_count": 21,
   "metadata": {
    "ExecuteTime": {
     "end_time": "2022-11-03T18:53:19.407788Z",
     "start_time": "2022-11-03T18:53:19.391281Z"
    }
   },
   "outputs": [
    {
     "data": {
      "text/plain": [
       "{'node_attributes': {'x': 528245.7985264073,\n",
       "  'y': 182527.45267297997,\n",
       "  'lon': -0.15269551425404423,\n",
       "  'lat': 51.527104855135136,\n",
       "  'id': '6985267189',\n",
       "  's2_id': 5221390345020494669},\n",
       " 'links': {'5': {'id': '5',\n",
       "   'from': '5183504114',\n",
       "   'to': '6985267189',\n",
       "   'freespeed': 4.166666666666667,\n",
       "   'capacity': 600.0,\n",
       "   'permlanes': 1.0,\n",
       "   'oneway': '1',\n",
       "   'modes': {'car'},\n",
       "   's2_from': 5221390345346257215,\n",
       "   's2_to': 5221390345020494669,\n",
       "   'attributes': {'osm:way:access': 'permissive',\n",
       "    'osm:way:highway': 'unclassified',\n",
       "    'osm:way:id': 5228769.0,\n",
       "    'osm:way:name': 'Inner Circle',\n",
       "    'osm:way:psv': 'destination'},\n",
       "   'length': 349.009032054085,\n",
       "   'base_capacity': 600.0,\n",
       "   'geometry': <shapely.geometry.linestring.LineString at 0x7fd35b152b90>},\n",
       "  '0': {'id': '0',\n",
       "   'from': '6985267189',\n",
       "   'to': '2100667093',\n",
       "   'freespeed': 4.166666666666667,\n",
       "   'capacity': 600.0,\n",
       "   'permlanes': 1.0,\n",
       "   'oneway': '1',\n",
       "   'modes': {'car'},\n",
       "   's2_from': 5221390345020494669,\n",
       "   's2_to': 5221390252517831471,\n",
       "   'attributes': {'osm:way:access': 'permissive',\n",
       "    'osm:way:highway': 'unclassified',\n",
       "    'osm:way:id': 5228769.0,\n",
       "    'osm:way:name': 'Inner Circle',\n",
       "    'osm:way:psv': 'destination'},\n",
       "   'length': 341.38916378545576,\n",
       "   'base_capacity': 600.0,\n",
       "   'geometry': <shapely.geometry.linestring.LineString at 0x7fd35b152810>}}}"
      ]
     },
     "execution_count": 21,
     "metadata": {},
     "output_type": "execute_result"
    }
   ],
   "source": [
    "data"
   ]
  },
  {
   "cell_type": "markdown",
   "metadata": {},
   "source": [
    "We can find a link going in the opposite direction and use the node from previous method to split this link at that node too."
   ]
  },
  {
   "cell_type": "code",
   "execution_count": 22,
   "metadata": {
    "ExecuteTime": {
     "end_time": "2022-11-03T18:53:19.478501Z",
     "start_time": "2022-11-03T18:53:19.425250Z"
    }
   },
   "outputs": [
    {
     "data": {
      "text/plain": [
       "['2997', '3282']"
      ]
     },
     "execution_count": 22,
     "metadata": {},
     "output_type": "execute_result"
    }
   ],
   "source": [
    "n.extract_links_on_edge_attributes([{\"from\": \"2100667093\"}, {\"to\": \"5183504114\"}], how=all)"
   ]
  },
  {
   "cell_type": "code",
   "execution_count": 23,
   "metadata": {
    "ExecuteTime": {
     "end_time": "2022-11-03T18:53:20.864726Z",
     "start_time": "2022-11-03T18:53:19.493157Z"
    }
   },
   "outputs": [
    {
     "name": "stderr",
     "output_type": "stream",
     "text": [
      "2022-11-03 18:53:19,500 - Generated 2 link ids.\n",
      "2022-11-03 18:53:19,512 - Given point is very close, but not cannot be placed on the line. We move it slightly and the resulting split may not be exact.\n",
      "2022-11-03 18:53:20,698 - Generated 0 link ids.\n",
      "2022-11-03 18:53:20,769 - Added 2 links\n",
      "2022-11-03 18:53:20,792 - Removed link under index: 2997\n",
      "2022-11-03 18:53:20,795 - Updating network routes in the PT schedule.\n",
      "2022-11-03 18:53:20,855 - No PT routes were affected by this change\n"
     ]
    }
   ],
   "source": [
    "data = n.split_link_at_node(\"2997\", data[\"node_attributes\"][\"id\"])"
   ]
  },
  {
   "cell_type": "code",
   "execution_count": 24,
   "metadata": {
    "ExecuteTime": {
     "end_time": "2022-11-03T18:53:20.891910Z",
     "start_time": "2022-11-03T18:53:20.877027Z"
    }
   },
   "outputs": [
    {
     "data": {
      "text/plain": [
       "{'node_attributes': {'x': 528245.7985264073,\n",
       "  'y': 182527.45267297997,\n",
       "  'lon': -0.15269551425404423,\n",
       "  'lat': 51.527104855135136,\n",
       "  'id': '6985267189',\n",
       "  's2_id': 5221390345020494669},\n",
       " 'links': {'7': {'id': '7',\n",
       "   'from': '2100667093',\n",
       "   'to': '6985267189',\n",
       "   'freespeed': 4.166666666666667,\n",
       "   'capacity': 600.0,\n",
       "   'permlanes': 1.0,\n",
       "   'oneway': '1',\n",
       "   'modes': {'car'},\n",
       "   's2_from': 5221390252517831471,\n",
       "   's2_to': 5221390345020494669,\n",
       "   'attributes': {'osm:way:access': 'permissive',\n",
       "    'osm:way:highway': 'unclassified',\n",
       "    'osm:way:id': 568575658.0,\n",
       "    'osm:way:name': 'Inner Circle',\n",
       "    'osm:way:psv': 'destination'},\n",
       "   'length': 165.75966408574467,\n",
       "   'base_capacity': 600.0,\n",
       "   'geometry': <shapely.geometry.linestring.LineString at 0x7fd35af3ff50>},\n",
       "  '21': {'id': '21',\n",
       "   'from': '6985267189',\n",
       "   'to': '5183504114',\n",
       "   'freespeed': 4.166666666666667,\n",
       "   'capacity': 600.0,\n",
       "   'permlanes': 1.0,\n",
       "   'oneway': '1',\n",
       "   'modes': {'car'},\n",
       "   's2_from': 5221390345020494669,\n",
       "   's2_to': 5221390345346257215,\n",
       "   'attributes': {'osm:way:access': 'permissive',\n",
       "    'osm:way:highway': 'unclassified',\n",
       "    'osm:way:id': 568575658.0,\n",
       "    'osm:way:name': 'Inner Circle',\n",
       "    'osm:way:psv': 'destination'},\n",
       "   'length': 169.4594499564508,\n",
       "   'base_capacity': 600.0,\n",
       "   'geometry': <shapely.geometry.linestring.LineString at 0x7fd35af3f810>}}}"
      ]
     },
     "execution_count": 24,
     "metadata": {},
     "output_type": "execute_result"
    }
   ],
   "source": [
    "data"
   ]
  },
  {
   "cell_type": "markdown",
   "metadata": {},
   "source": [
    "But note that the geometries of the two splits may be slightly off (at the point of cut) with curvy links."
   ]
  },
  {
   "cell_type": "markdown",
   "metadata": {},
   "source": [
    "## Subsetting\n",
    "\n",
    "You can subset the Network object using link IDs."
   ]
  },
  {
   "cell_type": "code",
   "execution_count": 25,
   "metadata": {
    "ExecuteTime": {
     "end_time": "2022-11-03T18:53:30.343723Z",
     "start_time": "2022-11-03T18:53:20.902315Z"
    }
   },
   "outputs": [],
   "source": [
    "n = read_matsim(\n",
    "    path_to_network=network, epsg=\"epsg:27700\", path_to_schedule=schedule, path_to_vehicles=vehicles\n",
    ")\n",
    "\n",
    "links = n.extract_links_on_edge_attributes(\n",
    "    conditions={\"attributes\": {\"osm:way:highway\": [\"primary\", \"primary_link\"]}}\n",
    ")"
   ]
  },
  {
   "cell_type": "code",
   "execution_count": 26,
   "metadata": {
    "ExecuteTime": {
     "end_time": "2022-11-03T18:53:32.098532Z",
     "start_time": "2022-11-03T18:53:30.413229Z"
    }
   },
   "outputs": [
    {
     "name": "stderr",
     "output_type": "stream",
     "text": [
      "2022-11-03 18:53:30,415 - Subsetting a Network will likely result in a disconnected network graph. A cleaner will be ran that will remove links to make the resulting Network strongly connected for modes: car, walk, bike.\n",
      "2022-11-03 18:53:31,298 - Param: strongly_connected_modes is defaulting to `{'car', 'walk', 'bike'}` You can change this behaviour by passing the parameter.\n",
      "2022-11-03 18:53:31,328 - The graph for modes: bike does not have any connected components. This method returns True because if the graph is empty for this mode there is no reason to fail this check.\n",
      "2022-11-03 18:53:31,425 - The graph for modes: walk does not have any connected components. This method returns True because if the graph is empty for this mode there is no reason to fail this check.\n",
      "2022-11-03 18:53:31,604 - The graph for mode car is not strongly connected. The largest 1 connected components will be extracted.\n",
      "2022-11-03 18:53:31,777 - Extracting largest connected components resulted in mode: car being deleted from 180 edges\n",
      "/Users/kasia.kozlowska/PycharmProjects/ABM/genet/genet/core.py:596: UserWarning: Boolean Series key will be reindexed to match DataFrame index.\n",
      "  df = df.loc[links & set(df.index)][df['modes'].apply(lambda x: bool(mode & x))]\n",
      "2022-11-03 18:53:31,992 - Changed Link attributes for 180 links\n",
      "2022-11-03 18:53:32,070 - Removed 152 links\n",
      "2022-11-03 18:53:32,093 - Subsetted Network is ready - do not forget to validate and visualise your subset!\n"
     ]
    }
   ],
   "source": [
    "sub_n = n.subnetwork(links=links)"
   ]
  },
  {
   "cell_type": "code",
   "execution_count": 27,
   "metadata": {
    "ExecuteTime": {
     "end_time": "2022-11-03T18:53:32.139128Z",
     "start_time": "2022-11-03T18:53:32.119167Z"
    }
   },
   "outputs": [
    {
     "data": {
      "text/plain": [
       "<Network instance at 140545726361424: with \n",
       "graph: Name: \n",
       "Type: MultiDiGraph\n",
       "Number of nodes: 426\n",
       "Number of edges: 472\n",
       "Average in degree:   1.1080\n",
       "Average out degree:   1.1080 and \n",
       "schedule Schedule:\n",
       "Number of services: 0\n",
       "Number of routes: 0\n",
       "Number of stops: 0"
      ]
     },
     "execution_count": 27,
     "metadata": {},
     "output_type": "execute_result"
    }
   ],
   "source": [
    "sub_n"
   ]
  },
  {
   "cell_type": "code",
   "execution_count": 28,
   "metadata": {
    "ExecuteTime": {
     "end_time": "2022-11-03T18:53:32.231772Z",
     "start_time": "2022-11-03T18:53:32.151456Z"
    }
   },
   "outputs": [
    {
     "data": {
      "text/plain": [
       "<Network instance at 140545741931600: with \n",
       "graph: Name: \n",
       "Type: MultiDiGraph\n",
       "Number of nodes: 1662\n",
       "Number of edges: 3166\n",
       "Average in degree:   1.9049\n",
       "Average out degree:   1.9049 and \n",
       "schedule Schedule:\n",
       "Number of services: 9\n",
       "Number of routes: 68\n",
       "Number of stops: 118"
      ]
     },
     "execution_count": 28,
     "metadata": {},
     "output_type": "execute_result"
    }
   ],
   "source": [
    "n"
   ]
  },
  {
   "cell_type": "markdown",
   "metadata": {},
   "source": [
    "### Spatial Subsetting\n",
    "\n",
    "There is a convenience method to extract a subset network using spatial conditions - refer to Using Network notebook or docs to learn more about what spatial inputs are supported."
   ]
  },
  {
   "cell_type": "code",
   "execution_count": 29,
   "metadata": {
    "ExecuteTime": {
     "end_time": "2022-11-03T18:53:32.264453Z",
     "start_time": "2022-11-03T18:53:32.242394Z"
    }
   },
   "outputs": [],
   "source": [
    "# pop it in https://s2.sidewalklabs.com/ to see it\n",
    "region = \"48761ad0b14,48761ad0b3,48761ad0b5,48761ad0b7,48761ad0b84,48761ad0d,48761ad0e04,48761ad11f4,48761ad11fc,48761ad13,48761ad145fc,48761ad147,48761ad14c,48761ad153,48761ad41df,48761ad41e4,48761ad41fc,48761ad421,48761ad427,48761ad429,48761ad42b,48761ad5d5,48761ad5d7,48761ad5d9,48761ad5df,48761ad5e1,48761ad5e3,48761ad64,48761ad6c,48761ad71,48761ad73,48761ad744,48761ad74c,48761ad751,48761ad753,48761ad757554,48761ad75c,48761ad77,48761ad79,48761ad7b,48761ad7d,48761ad7e4,48761ad7ec,48761ad7f4,48761ad7f9,48761ad7fb,48761ad7fd,48761ad827,48761ad829,48761ad82b,48761ad9d5,48761ad9d7,48761ad9d84,48761b2802c,48761b2817,48761b281c,48761b283,48761b2847fc,48761b2849,48761b284b,48761b29b5,48761b29b7,48761b29b9,48761b29d,48761b29e4,48761b29e9,48761b29ea4,48761b29ef,48761b29fb4,48761b29fd\""
   ]
  },
  {
   "cell_type": "code",
   "execution_count": 30,
   "metadata": {
    "ExecuteTime": {
     "end_time": "2022-11-03T18:53:36.766415Z",
     "start_time": "2022-11-03T18:53:32.277624Z"
    }
   },
   "outputs": [
    {
     "name": "stderr",
     "output_type": "stream",
     "text": [
      "2022-11-03 18:53:35,884 - Subsetting a Network will likely result in a disconnected network graph. A cleaner will be ran that will remove links to make the resulting Network strongly connected for modes: car, walk, bike.\n",
      "2022-11-03 18:53:36,606 - Param: strongly_connected_modes is defaulting to `{'car', 'walk', 'bike'}` You can change this behaviour by passing the parameter.\n",
      "2022-11-03 18:53:36,609 - The graph for modes: bike does not have any connected components. This method returns True because if the graph is empty for this mode there is no reason to fail this check.\n",
      "2022-11-03 18:53:36,612 - The graph for modes: walk does not have any connected components. This method returns True because if the graph is empty for this mode there is no reason to fail this check.\n",
      "2022-11-03 18:53:36,635 - The graph for mode car is not strongly connected. The largest 1 connected components will be extracted.\n",
      "2022-11-03 18:53:36,660 - Extracting largest connected components resulted in mode: car being deleted from 72 edges\n",
      "/Users/kasia.kozlowska/PycharmProjects/ABM/genet/genet/core.py:596: UserWarning: Boolean Series key will be reindexed to match DataFrame index.\n",
      "  df = df.loc[links & set(df.index)][df['modes'].apply(lambda x: bool(mode & x))]\n",
      "2022-11-03 18:53:36,720 - Changed Link attributes for 72 links\n",
      "2022-11-03 18:53:36,742 - Removed 61 links\n",
      "2022-11-03 18:53:36,744 - Subsetted Network is ready - do not forget to validate and visualise your subset!\n"
     ]
    },
    {
     "data": {
      "text/plain": [
       "<Network instance at 140545741000144: with \n",
       "graph: Name: \n",
       "Type: MultiDiGraph\n",
       "Number of nodes: 110\n",
       "Number of edges: 134\n",
       "Average in degree:   1.2182\n",
       "Average out degree:   1.2182 and \n",
       "schedule Schedule:\n",
       "Number of services: 0\n",
       "Number of routes: 0\n",
       "Number of stops: 0"
      ]
     },
     "execution_count": 30,
     "metadata": {},
     "output_type": "execute_result"
    }
   ],
   "source": [
    "n.subnetwork_on_spatial_condition(region, how=\"within\")"
   ]
  },
  {
   "cell_type": "code",
   "execution_count": 31,
   "metadata": {
    "ExecuteTime": {
     "end_time": "2022-11-03T18:53:50.931661Z",
     "start_time": "2022-11-03T18:53:37.036193Z"
    },
    "scrolled": false
   },
   "outputs": [
    {
     "name": "stderr",
     "output_type": "stream",
     "text": [
      "2022-11-03 18:53:44,117 - Subsetting a Network will likely result in a disconnected network graph. A cleaner will be ran that will remove links to make the resulting Network strongly connected for modes: car, walk, bike.\n",
      "2022-11-03 18:53:44,283 - Schedule will be subsetted using given services: ['12430']. Links pertaining to their network routes will also be retained.\n",
      "2022-11-03 18:53:45,735 - Removed Services with IDs `20274`, and Routes: {'VJ812fad65e7fa418645b57b446f00cba573f2cdaf', 'VJ6c64ab7b477e201cae950efde5bd0cb4e2e8888e', 'VJ375a660d47a2aa570aa20a8568012da8497ffecf'}\n",
      "2022-11-03 18:53:46,245 - Removed Services with IDs `18853`, and Routes: {'VJf3e316e5e605bb512147dee2a989be5a82ef1b5f', 'VJ8cacca9a6722c497c413005568182ecf4d50b160', 'VJfc4917783c2ca3227789fa7c532c9adf47702095'}\n",
      "2022-11-03 18:53:48,526 - Removed Services with IDs `17732`, and Routes: {'VJ85c23573d670bab5485618b0c5fddff3314efc89', 'VJ0cb60de3ed229c1413abac506e770b6ab8a7c49a'}\n",
      "2022-11-03 18:53:49,561 - Removed Services with IDs `15234`, and Routes: {'VJ652c769bc42361cc0308dff59a1fdcf0949bdade', 'VJ9b58a59e3d74941586a5bca7726a8aa624da67fc', 'VJd4cbfb092a104ac6a3164a86e9765f68734fdfcf', 'VJ28a8a6a4ab02807a4fdfd199e5c2ca0622d34d0c', 'VJ3d50b96792ae8495dbe5a5e372849a60c48b2279', 'VJbf9d4fdb976223e6a026c0c669ed290418abefee', 'VJ1a8cc306354fdc322d739ae644eb73444341d08d', 'VJ5b511605b1e07428c2e0a7d676d301c6c40dcca6', 'VJ8ccf92aa0f351b2e31f1a078b968dff4c2505c02'}\n",
      "2022-11-03 18:53:50,016 - Removed Services with IDs `15660`, and Routes: {'VJf2e0de4f5dad68cb03064e6064e372dde52cc678', 'VJ3716910ec59c370d9f5c69137df7276b68cf0a08', 'VJ1cf651142378958b52229bfe1fa552e49136e60e'}\n",
      "2022-11-03 18:53:50,293 - Removed Services with IDs `14073`, and Routes: {'VJe8cffad09738ff7b9698b333e3247918d5c45358', 'VJ24fe211d801738b556a39f815256d7f6bc544ec5', 'VJc8cdbd902dadeebeeb4dbd7332b564ee2e4b00ce', 'VJd132b905afc6c0e8e8a994142e301ca5c0f70e22', 'VJaa5ee0daec7529d7668c81fe7fac0c4ff545daea', 'VJf6055fdf9ef0dd6d0500b6c11adcfdd4d10655dc', 'VJe6ba07ef9f19ae40517261ad626bf34dd656491a', 'VJe18efadf172576fea7989ec1f233f26854c0f66a', 'VJea6046f64f85febf1854290fb8f76e921e3ac96b', 'VJb4309b7a9598539ab9942ea1bcadc60a91b978ba', 'VJd9dbeefeca6d74ef2594a17514ebc08ee2d503b2', 'VJ93d8207ae8540b4ff59d47c9ee1ec5689084522d', 'VJdbc280077e505b4f8d66586ca51751a125cb4ef0', 'VJfc35884fc4f11dc408a209c19f56f3b60f634daf', 'VJ6cf76a4c03cca468cb6954db7f7aad5ae189df13'}\n",
      "2022-11-03 18:53:50,563 - Removed Services with IDs `18915`, and Routes: {'VJ0d304b95d39f4bce48e6ff26ddd73a9c06f17f4f', 'VJ520ec0c0ca58a849349fa614b5cf9270ac5c93da', 'VJ887921c00645929c5402ac46592e57c368ea63a1', 'VJ8a4b1ca7dfd0a130abd1de9f55f3b756617dd4ca', 'VJb08f8a2de01a4ef99d3b7fefd9022117ac307531'}\n",
      "2022-11-03 18:53:50,728 - Removed Services with IDs `14134`, and Routes: {'VJb93a17a405fe502c5b3a2d6544105b0311da9fe2', 'VJ4e311a625836374adf4cfaa841224840dbeb7619', 'VJdf3936da1a51eb33db594ef99738802c14b19995', 'VJ26095b8f9f9db92ca2e53d4c086a7dcd82a13be9', 'VJ4c6fa387b0d4be94a6c3679b94790b183e2558ca', 'VJ2aba67e3ed98f2ed5f5966c1ac394cbf6d1943d7', 'VJ323d02e117552af1565f2ff1273a612655c829c4', 'VJ4e2b897edf0e7b8a8e3b5516ab43ce56f72c5cff', 'VJ12ba6089dfb2733e29c415a1a0015fef30fd5305', 'VJ5909ba51575a9459eb0013fbd31c8205455ca2fd', 'VJdb0c128567fcbcc063d554ae1c95851cee41b909', 'VJa7f37392e276aeac26c7e73bbc05e6a71af38dba', 'VJ256e98df611ff48afe737ddc81cbcde82e4e81c8', 'VJ2c87b2a59184888f3175b55bde7b02d024ea8607', 'VJd78967364a302cf232c5139d40622dcb6c238c9e', 'VJf9a22035ae6f25bb420df833474943ad76065c89'}\n",
      "2022-11-03 18:53:50,733 - Removed Stops with indices `['490000173JB.link:1663', '9400ZZLUOXC4', '490010198W', '9400ZZLUOXC6', '9400ZZLUOXC3', '9400ZZLUGPS2', '9400ZZLUESQ1', '9400ZZLUTCR1', '9400ZZLUOXC1', '9400ZZLUGDG1', '490000235N', '490000091E', '9400ZZLUOXC2', '490015196R', '490000173RD', '9400ZZLUESQ2', '490000252S', '9400ZZLUWRR1', '9400ZZLUOXC5', '9400ZZLUTCR3', '490019675D', '490015196N', '490000356NE', '490000235W1', '9400ZZLUTCR4', '9400ZZLURGP1', '490000252R', '9400ZZLURGP2', '9400ZZLUWRR4', '490000091F', '490011126K', '9400ZZLUWRR2', '490000173RF', '9400ZZLUWRR3', '490013600C']`.Routes affected: set(). Services affected: set().\n",
      "2022-11-03 18:53:50,805 - Param: strongly_connected_modes is defaulting to `{'car', 'walk', 'bike'}` You can change this behaviour by passing the parameter.\n",
      "2022-11-03 18:53:50,815 - The graph for modes: bike does not have any connected components. This method returns True because if the graph is empty for this mode there is no reason to fail this check.\n",
      "2022-11-03 18:53:50,818 - The graph for modes: walk does not have any connected components. This method returns True because if the graph is empty for this mode there is no reason to fail this check.\n",
      "2022-11-03 18:53:50,856 - The graph for mode car is not strongly connected. The largest 1 connected components will be extracted.\n",
      "2022-11-03 18:53:50,876 - Extracting largest connected components resulted in mode: car being deleted from 82 edges\n",
      "/Users/kasia.kozlowska/PycharmProjects/ABM/genet/genet/core.py:596: UserWarning: Boolean Series key will be reindexed to match DataFrame index.\n",
      "  df = df.loc[links & set(df.index)][df['modes'].apply(lambda x: bool(mode & x))]\n",
      "2022-11-03 18:53:50,910 - Changed Link attributes for 82 links\n",
      "2022-11-03 18:53:50,919 - Removed 56 links\n",
      "2022-11-03 18:53:50,921 - Subsetted Network is ready - do not forget to validate and visualise your subset!\n"
     ]
    },
    {
     "data": {
      "text/plain": [
       "<Network instance at 140545741701520: with \n",
       "graph: Name: \n",
       "Type: MultiDiGraph\n",
       "Number of nodes: 156\n",
       "Number of edges: 203\n",
       "Average in degree:   1.3013\n",
       "Average out degree:   1.3013 and \n",
       "schedule Schedule:\n",
       "Number of services: 1\n",
       "Number of routes: 12\n",
       "Number of stops: 83"
      ]
     },
     "execution_count": 31,
     "metadata": {},
     "output_type": "execute_result"
    }
   ],
   "source": [
    "n.subnetwork_on_spatial_condition(region, how=\"intersect\")"
   ]
  }
 ],
 "metadata": {
  "kernelspec": {
   "display_name": "genet",
   "language": "python",
   "name": "genet"
  },
  "language_info": {
   "codemirror_mode": {
    "name": "ipython",
    "version": 3
   },
   "file_extension": ".py",
   "mimetype": "text/x-python",
   "name": "python",
   "nbconvert_exporter": "python",
   "pygments_lexer": "ipython3",
   "version": "3.7.7"
  },
  "latex_envs": {
   "LaTeX_envs_menu_present": true,
   "autoclose": true,
   "autocomplete": true,
   "bibliofile": "biblio.bib",
   "cite_by": "apalike",
   "current_citInitial": 1,
   "eqLabelWithNumbers": true,
   "eqNumInitial": 1,
   "hotkeys": {
    "equation": "Ctrl-E",
    "itemize": "Ctrl-I"
   },
   "labels_anchors": false,
   "latex_user_defs": false,
   "report_style_numbering": false,
   "user_envs_cfg": false
  },
  "toc": {
   "base_numbering": 1,
   "nav_menu": {},
   "number_sections": true,
   "sideBar": true,
   "skip_h1_title": false,
   "title_cell": "Table of Contents",
   "title_sidebar": "Contents",
   "toc_cell": false,
   "toc_position": {},
   "toc_section_display": true,
   "toc_window_display": false
  },
  "varInspector": {
   "cols": {
    "lenName": 16,
    "lenType": 16,
    "lenVar": 40
   },
   "kernels_config": {
    "python": {
     "delete_cmd_postfix": "",
     "delete_cmd_prefix": "del ",
     "library": "var_list.py",
     "varRefreshCmd": "print(var_dic_list())"
    },
    "r": {
     "delete_cmd_postfix": ") ",
     "delete_cmd_prefix": "rm(",
     "library": "var_list.r",
     "varRefreshCmd": "cat(var_dic_list()) "
    }
   },
   "types_to_exclude": [
    "module",
    "function",
    "builtin_function_or_method",
    "instance",
    "_Feature"
   ],
   "window_display": false
  }
 },
 "nbformat": 4,
 "nbformat_minor": 2
}
