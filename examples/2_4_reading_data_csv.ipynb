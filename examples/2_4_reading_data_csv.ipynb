{
 "cells": [
  {
   "cell_type": "markdown",
   "metadata": {},
   "source": [
    "# 2.4. Reading data: CSV\n",
    "Available as a jupyter notebook or wiki page.\n",
    "\n",
    "You can read a network from node and link CSV files.\n",
    "For it to be a valid MATSim network, the CSVs need to have the following data columns:\n",
    "\n",
    "Nodes:\n",
    "   - id - unique ID for the Node\n",
    "   - x - x spatial coordinate in a given projection\n",
    "   - y - y spatial coordinate in a given projection\n",
    "   \n",
    "Links:\n",
    "   - id - unique ID for the Link\n",
    "   - from - source Node ID\n",
    "   - to - target Node ID\n",
    "   - length - link length in metres\n",
    "   - freespeed - meter/seconds speed\n",
    "   - capacity - vehicles/hour\n",
    "   - permlanes - number of lanes\n",
    "   - modes - set of modes\n",
    "   \n",
    "Following the [MATSim network schema](https://www.matsim.org/files/dtd/network_v2.dtd). As well as be strongly connected for modes available to agents. Check out Section/Notebook 6.1. Validating Network - MATSim Specific for more details about validating Network."
   ]
  },
  {
   "cell_type": "code",
   "execution_count": 1,
   "metadata": {
    "ExecuteTime": {
     "end_time": "2022-07-14T14:30:44.635257Z",
     "start_time": "2022-07-14T14:30:44.623418Z"
    }
   },
   "outputs": [],
   "source": [
    "csv_nodes = \"example_data/example_csv/nodes.csv\"\n",
    "csv_links = \"example_data/example_csv/links.csv\""
   ]
  },
  {
   "cell_type": "code",
   "execution_count": 2,
   "metadata": {
    "ExecuteTime": {
     "end_time": "2022-07-14T14:30:49.037473Z",
     "start_time": "2022-07-14T14:30:44.638877Z"
    }
   },
   "outputs": [
    {
     "name": "stderr",
     "output_type": "stream",
     "text": [
      "2022-07-14 15:30:48,943 - Reading nodes from example_data/example_csv/nodes.csv\n",
      "2022-07-14 15:30:48,949 - Reading links from example_data/example_csv/nodes.csv\n",
      "2022-07-14 15:30:49,024 - Added 4 nodes\n",
      "2022-07-14 15:30:49,034 - Added 2 links\n"
     ]
    }
   ],
   "source": [
    "from genet import read_csv\n",
    "\n",
    "n = read_csv(csv_nodes, csv_links, epsg=\"epsg:27700\")"
   ]
  },
  {
   "cell_type": "code",
   "execution_count": 3,
   "metadata": {
    "ExecuteTime": {
     "end_time": "2022-07-14T14:30:49.045275Z",
     "start_time": "2022-07-14T14:30:49.040591Z"
    }
   },
   "outputs": [
    {
     "name": "stdout",
     "output_type": "stream",
     "text": [
      "Graph info: Name: Network graph\n",
      "Type: MultiDiGraph\n",
      "Number of nodes: 4\n",
      "Number of edges: 2\n",
      "Average in degree:   0.5000\n",
      "Average out degree:   0.5000 \n",
      "Schedule info: Schedule:\n",
      "Number of services: 0\n",
      "Number of routes: 0\n",
      "Number of stops: 0\n"
     ]
    }
   ],
   "source": [
    "n.print()"
   ]
  },
  {
   "cell_type": "markdown",
   "metadata": {},
   "source": [
    "For reading `Schedule` from csv inputs, head over to Section/Notebook 2.3. Reading GTFS data"
   ]
  }
 ],
 "metadata": {
  "kernelspec": {
   "display_name": "genet",
   "language": "python",
   "name": "genet"
  },
  "language_info": {
   "codemirror_mode": {
    "name": "ipython",
    "version": 3
   },
   "file_extension": ".py",
   "mimetype": "text/x-python",
   "name": "python",
   "nbconvert_exporter": "python",
   "pygments_lexer": "ipython3",
   "version": "3.7.7"
  },
  "latex_envs": {
   "LaTeX_envs_menu_present": true,
   "autoclose": true,
   "autocomplete": true,
   "bibliofile": "biblio.bib",
   "cite_by": "apalike",
   "current_citInitial": 1,
   "eqLabelWithNumbers": true,
   "eqNumInitial": 1,
   "hotkeys": {
    "equation": "Ctrl-E",
    "itemize": "Ctrl-I"
   },
   "labels_anchors": false,
   "latex_user_defs": false,
   "report_style_numbering": false,
   "user_envs_cfg": false
  },
  "toc": {
   "base_numbering": 1,
   "nav_menu": {},
   "number_sections": true,
   "sideBar": true,
   "skip_h1_title": false,
   "title_cell": "Table of Contents",
   "title_sidebar": "Contents",
   "toc_cell": false,
   "toc_position": {},
   "toc_section_display": true,
   "toc_window_display": false
  },
  "varInspector": {
   "cols": {
    "lenName": 16,
    "lenType": 16,
    "lenVar": 40
   },
   "kernels_config": {
    "python": {
     "delete_cmd_postfix": "",
     "delete_cmd_prefix": "del ",
     "library": "var_list.py",
     "varRefreshCmd": "print(var_dic_list())"
    },
    "r": {
     "delete_cmd_postfix": ") ",
     "delete_cmd_prefix": "rm(",
     "library": "var_list.r",
     "varRefreshCmd": "cat(var_dic_list()) "
    }
   },
   "types_to_exclude": [
    "module",
    "function",
    "builtin_function_or_method",
    "instance",
    "_Feature"
   ],
   "window_display": false
  }
 },
 "nbformat": 4,
 "nbformat_minor": 2
}
