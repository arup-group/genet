{
 "cells": [
  {
   "cell_type": "markdown",
   "metadata": {},
   "source": [
    "# 2.2. Reading data: OSM\n",
    "\n",
    "Reading OSM data can be configured. You will find example config in the configs directory. Available as a jupyter notebook or wiki page.\n",
    "\n",
    "## Setting up the config\n",
    "\n",
    "OSM data contains wast amount of information, to restrict what is being read, you can adjust the tags for OSM nodes and links that make it through\n",
    "\n",
    "```yml\n",
    "OSM_TAGS:\n",
    "  # tags that are included when reading OSM data\n",
    "  USEFUL_TAGS_NODE:\n",
    "    - ref\n",
    "    - highway\n",
    "  USEFUL_TAGS_PATH:\n",
    "    - bridge\n",
    "    - tunnel\n",
    "    - oneway\n",
    "    - lanes\n",
    "    - highway\n",
    "    - service\n",
    "    - access\n",
    "    - railway\n",
    "    - route\n",
    "    - lanes\n",
    "    - oneway\n",
    "    - psv\n",
    "    - vehicle\n",
    "    - junction\n",
    "    - osmid\n",
    "```\n",
    "\n",
    "GeNet will only read the ways in OSM with tags defined in `MODES:  MODE_INDICATORS:`---you need to define the mode for specific OSM way tags, GeNet will read only the network edges for which it understands in terms of which mode of transport can move on it. For example in the `slim_config.yml`:\n",
    "\n",
    "```yml\n",
    "MODES:\n",
    "  MODE_INDICATORS:\n",
    "    # These refer to tags stored in OSM, the mode assignment to tags is manual and definitely not exhaustive. \n",
    "    # If a tag is not listed here, it will not be read into the network. This is where you should define how dense\n",
    "    # you want your network to be.\n",
    "    highway:\n",
    "      motorway:\n",
    "        - car\n",
    "      motorway_link:\n",
    "        - car\n",
    "      trunk:\n",
    "        - car\n",
    "      trunk_link:\n",
    "        - car\n",
    "      primary:\n",
    "        - car\n",
    "        - walk\n",
    "        - bike\n",
    "      primary_link:\n",
    "        - car\n",
    "        - walk\n",
    "        - bike\n",
    "      secondary:\n",
    "        - car\n",
    "        - walk\n",
    "        - bike\n",
    "      secondary_link:\n",
    "        - car\n",
    "        - walk\n",
    "        - bike\n",
    "      tertiary:\n",
    "        - car\n",
    "        - walk\n",
    "        - bike\n",
    "      tertiary_link:\n",
    "        - car\n",
    "        - walk\n",
    "        - bike\n",
    "      unclassified:\n",
    "        - car\n",
    "        - walk\n",
    "        - bike\n",
    "```\n",
    "\n",
    "GeNet has pre-defined default capacity and speed values for a number of OSM tags. These can be found in [genet/outputs_handler/matsim_xml_values.py](https://github.com/arup-group/genet/blob/master/genet/outputs_handler/matsim_xml_values.py#L1). In the config for reading OSM, you can decide which tag a particular mode should default to if values for it do not exist.\n",
    "\n",
    "```yml\n",
    "  DEFAULT_OSM_TAG_VALUE:\n",
    "  # GeNet will first look at OSM tags to infer the matsim values the link should have. For the types and values head over to \n",
    "  # outputs_handler/matsim_xml_values.py.\n",
    "    car: secondary\n",
    "    bus: secondary\n",
    "    rail: railway\n",
    "    subway: railway\n",
    "    bike: living_street\n",
    "    walk: pedestrian\n",
    "```\n",
    "\n",
    "There are currently two caveats:\n",
    "- The number of lanes in a link, i.e. `permlanes` is taken from OSM data if present (and read by config \n",
    "under `OSM_TAGS: USEFUL_TAGS_PATH` and `OSM_TAGS: PUMA_GRAPH_TAGS`) and integer convertible (e.g. not `'2;3'`)\n",
    "- `capacity` given in `matsim_xml_values.py` is for a single lane, the output network will feature a `capacity` value \n",
    "which is the result of `permlanes * capacity`, where the latter `capacity` is the base lane capacity defined in `matsim_xml_values.py`"
   ]
  },
  {
   "cell_type": "markdown",
   "metadata": {},
   "source": [
    "## Reading OSM\n",
    "\n",
    "GeNet ingests OSM data with .osm or .osm.pbf extensions, which can be obtained from\n",
    "\n",
    "- http://download.geofabrik.de/ for well-defined regions/countries\n",
    "- through JOSM for small subsets and saved to the aforementioned extensions\n",
    "\n",
    "GeNet creates a Multi Directed Graph from OSM data, meaning that there can be more than one edge between the same pair of nodes directed from `origin_node` to `destination_node`, if that is the case within the OSM file."
   ]
  },
  {
   "cell_type": "code",
   "execution_count": 1,
   "metadata": {
    "ExecuteTime": {
     "end_time": "2022-07-14T14:27:55.631314Z",
     "start_time": "2022-07-14T14:27:50.501183Z"
    }
   },
   "outputs": [],
   "source": [
    "from genet import read_osm"
   ]
  },
  {
   "cell_type": "markdown",
   "metadata": {},
   "source": [
    "We use the `read_osm` method pointing at the osm file we want to read and a config defining which OSM tags to read and which modes to assign to the resulting `Network` links. For details on how to set up the config head over to the [wiki page](https://github.com/arup-group/genet/wiki/Usage:-2.2.-Reading-Data:-OSM#setting-up-the-config).\n",
    "\n",
    "GeNet ingests OSM data with .osm or .osm.pbf extensions, which can be obtained from\n",
    "\n",
    "- http://download.geofabrik.de/ for well-defined regions/countries\n",
    "- through JOSM for small subsets and saved to the aforementioned extensions"
   ]
  },
  {
   "cell_type": "code",
   "execution_count": 2,
   "metadata": {
    "ExecuteTime": {
     "end_time": "2022-07-14T14:28:04.000427Z",
     "start_time": "2022-07-14T14:27:55.636199Z"
    }
   },
   "outputs": [
    {
     "name": "stderr",
     "output_type": "stream",
     "text": [
      "2022-07-14 15:27:55,774 - Building OSM graph from file example_data/example.osm\n",
      "2022-07-14 15:27:56,540 - Creating networkx graph from OSM data\n",
      "2022-07-14 15:27:56,541 - OSM: Extract Nodes and Paths from OSM data\n",
      "2022-07-14 15:27:56,898 - OSM: Add each OSM way (aka, path) to the OSM graph\n",
      "2022-07-14 15:27:56,899 - 1 or 2 batches of size 64 ish\n",
      "2022-07-14 15:27:56,925 - Created OSM edges\n",
      "2022-07-14 15:27:56,943 - 1 or 2 batches of size 4348 ish\n",
      "2022-07-14 15:27:58,563 - Added 8695 nodes\n",
      "2022-07-14 15:27:58,566 - 2 or 3 batches of size 401 ish\n",
      "2022-07-14 15:28:03,352 - Generated 802 link ids.\n",
      "2022-07-14 15:28:03,577 - Added 802 links\n",
      "2022-07-14 15:28:03,579 - Deleting isolated nodes which have no edges.\n",
      "2022-07-14 15:28:03,989 - Removed 8132 nodes.\n"
     ]
    }
   ],
   "source": [
    "n = read_osm(\n",
    "    \"example_data/example.osm\",\n",
    "    \"../genet/configs/OSM/slim_config.yml\",\n",
    "    num_processes=2,\n",
    "    epsg=\"epsg:27700\",\n",
    ")"
   ]
  },
  {
   "cell_type": "code",
   "execution_count": 3,
   "metadata": {
    "ExecuteTime": {
     "end_time": "2022-07-14T14:28:04.012865Z",
     "start_time": "2022-07-14T14:28:04.003982Z"
    }
   },
   "outputs": [
    {
     "name": "stdout",
     "output_type": "stream",
     "text": [
      "Graph info: Name: Network graph\n",
      "Type: MultiDiGraph\n",
      "Number of nodes: 563\n",
      "Number of edges: 802\n",
      "Average in degree:   1.4245\n",
      "Average out degree:   1.4245 \n",
      "Schedule info: Schedule:\n",
      "Number of services: 0\n",
      "Number of routes: 0\n",
      "Number of stops: 0\n"
     ]
    }
   ],
   "source": [
    "n.print()"
   ]
  },
  {
   "cell_type": "code",
   "execution_count": 4,
   "metadata": {
    "ExecuteTime": {
     "end_time": "2022-07-14T14:28:04.021203Z",
     "start_time": "2022-07-14T14:28:04.016552Z"
    }
   },
   "outputs": [],
   "source": [
    "# n.plot()"
   ]
  },
  {
   "cell_type": "code",
   "execution_count": 5,
   "metadata": {
    "ExecuteTime": {
     "end_time": "2022-07-14T14:28:04.031937Z",
     "start_time": "2022-07-14T14:28:04.024254Z"
    }
   },
   "outputs": [
    {
     "name": "stdout",
     "output_type": "stream",
     "text": [
      "attribute\n",
      "├── id\n",
      "├── x\n",
      "├── y\n",
      "├── lat\n",
      "├── lon\n",
      "└── s2_id\n"
     ]
    }
   ],
   "source": [
    "n.node_attribute_summary(data=False)"
   ]
  },
  {
   "cell_type": "code",
   "execution_count": 6,
   "metadata": {
    "ExecuteTime": {
     "end_time": "2022-07-14T14:28:04.057907Z",
     "start_time": "2022-07-14T14:28:04.034319Z"
    }
   },
   "outputs": [
    {
     "name": "stdout",
     "output_type": "stream",
     "text": [
      "attribute\n",
      "├── permlanes\n",
      "├── freespeed\n",
      "├── capacity\n",
      "├── oneway\n",
      "├── modes\n",
      "├── from\n",
      "├── to\n",
      "├── s2_from\n",
      "├── s2_to\n",
      "├── length\n",
      "├── attributes\n",
      "│   ├── osm:way:highway\n",
      "│   ├── osm:way:osmid\n",
      "│   ├── osm:way:lanes\n",
      "│   ├── osm:way:psv\n",
      "│   ├── osm:way:tunnel\n",
      "│   ├── osm:way:railway\n",
      "│   └── osm:way:access\n",
      "└── id\n"
     ]
    }
   ],
   "source": [
    "n.link_attribute_summary(data=False)"
   ]
  },
  {
   "cell_type": "code",
   "execution_count": 7,
   "metadata": {
    "ExecuteTime": {
     "end_time": "2022-07-14T14:28:04.075900Z",
     "start_time": "2022-07-14T14:28:04.060926Z"
    }
   },
   "outputs": [
    {
     "data": {
      "text/plain": [
       "{'permlanes': 1.0,\n",
       " 'freespeed': 22.22,\n",
       " 'capacity': 1500.0,\n",
       " 'oneway': '1',\n",
       " 'modes': ['bike', 'car', 'walk'],\n",
       " 'from': '107319',\n",
       " 'to': '2440641461',\n",
       " 's2_from': 5221390693512237449,\n",
       " 's2_to': 5221390693522407815,\n",
       " 'length': 7.300429822404873,\n",
       " 'attributes': {'osm:way:highway': 'primary', 'osm:way:osmid': 24865179},\n",
       " 'id': '1'}"
      ]
     },
     "execution_count": 7,
     "metadata": {},
     "output_type": "execute_result"
    }
   ],
   "source": [
    "n.link(\"1\")"
   ]
  },
  {
   "cell_type": "markdown",
   "metadata": {},
   "source": [
    "#### Remark:\n",
    "A graph generated from OSM is most likely not **strongly connected** which is something that MATSim expects for the mode `car` and if using `multimodal.contrib` also for modes `walk` and `bike`."
   ]
  }
 ],
 "metadata": {
  "kernelspec": {
   "display_name": "genet",
   "language": "python",
   "name": "genet"
  },
  "language_info": {
   "codemirror_mode": {
    "name": "ipython",
    "version": 3
   },
   "file_extension": ".py",
   "mimetype": "text/x-python",
   "name": "python",
   "nbconvert_exporter": "python",
   "pygments_lexer": "ipython3",
   "version": "3.7.7"
  },
  "latex_envs": {
   "LaTeX_envs_menu_present": true,
   "autoclose": true,
   "autocomplete": true,
   "bibliofile": "biblio.bib",
   "cite_by": "apalike",
   "current_citInitial": 1,
   "eqLabelWithNumbers": true,
   "eqNumInitial": 1,
   "hotkeys": {
    "equation": "Ctrl-E",
    "itemize": "Ctrl-I"
   },
   "labels_anchors": false,
   "latex_user_defs": false,
   "report_style_numbering": false,
   "user_envs_cfg": false
  },
  "toc": {
   "base_numbering": 1,
   "nav_menu": {},
   "number_sections": true,
   "sideBar": true,
   "skip_h1_title": false,
   "title_cell": "Table of Contents",
   "title_sidebar": "Contents",
   "toc_cell": false,
   "toc_position": {},
   "toc_section_display": true,
   "toc_window_display": false
  },
  "varInspector": {
   "cols": {
    "lenName": 16,
    "lenType": 16,
    "lenVar": 40
   },
   "kernels_config": {
    "python": {
     "delete_cmd_postfix": "",
     "delete_cmd_prefix": "del ",
     "library": "var_list.py",
     "varRefreshCmd": "print(var_dic_list())"
    },
    "r": {
     "delete_cmd_postfix": ") ",
     "delete_cmd_prefix": "rm(",
     "library": "var_list.r",
     "varRefreshCmd": "cat(var_dic_list()) "
    }
   },
   "types_to_exclude": [
    "module",
    "function",
    "builtin_function_or_method",
    "instance",
    "_Feature"
   ],
   "window_display": false
  }
 },
 "nbformat": 4,
 "nbformat_minor": 2
}
