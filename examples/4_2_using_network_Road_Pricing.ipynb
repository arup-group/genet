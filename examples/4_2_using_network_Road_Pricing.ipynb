{
 "cells": [
  {
   "cell_type": "markdown",
   "metadata": {},
   "source": [
    "# 4.2. Using the `Network` object: Road Pricing\n",
    "\n",
    "This page goes through the process of generating a road pricing MATSim file. Available as a jupyter notebook or wiki page.\n",
    "\n",
    "## Road Pricing\n",
    "\n",
    "Let's read an example MATSim network to work with."
   ]
  },
  {
   "cell_type": "code",
   "execution_count": 1,
   "metadata": {
    "ExecuteTime": {
     "end_time": "2022-07-14T14:39:57.991255Z",
     "start_time": "2022-07-14T14:39:49.454683Z"
    }
   },
   "outputs": [
    {
     "name": "stdout",
     "output_type": "stream",
     "text": [
      "attribute\n",
      "├── id\n",
      "├── from\n",
      "├── to\n",
      "├── freespeed\n",
      "├── capacity\n",
      "├── permlanes\n",
      "├── oneway\n",
      "├── modes\n",
      "├── s2_from\n",
      "├── s2_to\n",
      "├── attributes\n",
      "│   ├── osm:way:access\n",
      "│   ├── osm:way:highway\n",
      "│   ├── osm:way:id\n",
      "│   ├── osm:way:name\n",
      "│   ├── osm:relation:route\n",
      "│   ├── osm:way:lanes\n",
      "│   ├── osm:way:oneway\n",
      "│   ├── osm:way:tunnel\n",
      "│   ├── osm:way:psv\n",
      "│   ├── osm:way:vehicle\n",
      "│   ├── osm:way:traffic_calming\n",
      "│   ├── osm:way:junction\n",
      "│   └── osm:way:service\n",
      "└── length\n"
     ]
    }
   ],
   "source": [
    "import os\n",
    "from pathlib import Path\n",
    "\n",
    "import pandas as pd\n",
    "\n",
    "from genet import read_matsim\n",
    "\n",
    "path_to_matsim_network = \"example_data/pt2matsim_network\"\n",
    "output_path = Path(\"example_data/outputs/road_pricing\")\n",
    "os.makedirs(output_path, exist_ok=True)\n",
    "\n",
    "network = os.path.join(path_to_matsim_network, \"network.xml\")\n",
    "schedule = os.path.join(path_to_matsim_network, \"schedule.xml\")\n",
    "vehicles = os.path.join(path_to_matsim_network, \"vehicles.xml\")\n",
    "n = read_matsim(\n",
    "    path_to_network=network, epsg=\"epsg:27700\", path_to_schedule=schedule, path_to_vehicles=vehicles\n",
    ")\n",
    "# you don't need to read the vehicles file, but doing so ensures all vehicles\n",
    "# in the schedule are of the expected type and the definition of the vehicle\n",
    "# is preserved\n",
    "n.link_attribute_summary()"
   ]
  },
  {
   "cell_type": "markdown",
   "metadata": {},
   "source": [
    "Our current workflow relies on OSM way ids being saved to the network in the nested 'attributes' dictionary. We query OSM to extract those OSM ids and find them in the network.\n",
    "\n",
    "```\n",
    "attribute\n",
    "├── id\n",
    "├── from\n",
    "├── to\n",
    "...\n",
    "├── attributes\n",
    "...\n",
    "│   ├── osm:way:id\n",
    "...\n",
    "```\n",
    "\n",
    "Of course this can be streamlined by just reading and saving the `toll` tag when creating a network from OSM. For more info see [Usage: 2.2. Reading Data: OSM](https://github.com/arup-group/genet/wiki/Usage:-2.2.-Reading-Data:-OSM). This would manifest itself in the following way in the links data:\n",
    "\n",
    "```\n",
    "attribute\n",
    "├── id\n",
    "├── from\n",
    "├── to\n",
    "...\n",
    "├── attributes\n",
    "...\n",
    "│   ├── osm:way:toll\n",
    "...\n",
    "```\n",
    "\n",
    "where you would look for `'osm:way:toll':'yes'`"
   ]
  },
  {
   "cell_type": "markdown",
   "metadata": {},
   "source": [
    "To do this via OSM ids, you can head over to https://overpass-turbo.eu/, use the quiery Wizard to find `toll=yes` zooming into the right place on the map. You can then grab the relevant OSM data by clicking `Export`. Under `Data` tab, you can click on `download/copy as raw OSM data`. This will copy the data into clipboard. Below I paste a small example:"
   ]
  },
  {
   "cell_type": "code",
   "execution_count": 2,
   "metadata": {
    "ExecuteTime": {
     "end_time": "2022-07-14T14:39:58.030354Z",
     "start_time": "2022-07-14T14:39:58.013158Z"
    }
   },
   "outputs": [],
   "source": [
    "osm_data = {\n",
    "    \"version\": 0.6,\n",
    "    \"generator\": \"Overpass API 0.7.56.8 7d656e78\",\n",
    "    \"osm3s\": {\n",
    "        \"timestamp_osm_base\": \"2020-12-16T15:46:02Z\",\n",
    "        \"copyright\": \"The data included in this document is from www.openstreetmap.org. The data is made available under ODbL.\",\n",
    "    },\n",
    "    \"elements\": [\n",
    "        {\n",
    "            \"type\": \"way\",\n",
    "            \"id\": 26997928,\n",
    "            \"nodes\": [107790, 1102995756, 5479634639, 5364578862, 21665585, 5479634644, 107791],\n",
    "            \"tags\": {\n",
    "                \"highway\": \"primary\",\n",
    "                \"lit\": \"yes\",\n",
    "                \"maxspeed\": \"20 mph\",\n",
    "                \"maxspeed:type\": \"GB:zone20\",\n",
    "                \"name\": \"Charing Cross Road\",\n",
    "                \"ref\": \"A400\",\n",
    "                \"sidewalk\": \"both\",\n",
    "                \"surface\": \"asphalt\",\n",
    "                \"toll\": \"yes\",\n",
    "                \"wikidata\": \"Q1063230\",\n",
    "            },\n",
    "        },\n",
    "        {\n",
    "            \"type\": \"way\",\n",
    "            \"id\": 546461337,\n",
    "            \"nodes\": [1556097185, 1951372935, 1951372927],\n",
    "            \"tags\": {\n",
    "                \"foot\": \"no\",\n",
    "                \"highway\": \"primary\",\n",
    "                \"lit\": \"yes\",\n",
    "                \"maxspeed\": \"20 mph\",\n",
    "                \"name\": \"Byward Street\",\n",
    "                \"oneway\": \"yes\",\n",
    "                \"operator\": \"Transport for London\",\n",
    "                \"postal_code\": \"EC3\",\n",
    "                \"ref\": \"A3211\",\n",
    "                \"sidewalk\": \"none\",\n",
    "                \"surface\": \"asphalt\",\n",
    "                \"toll\": \"yes\",\n",
    "            },\n",
    "        },\n",
    "        {\"type\": \"node\", \"id\": 107790, \"lat\": 51.511322, \"lon\": -0.1283895},\n",
    "        {\"type\": \"node\", \"id\": 107791, \"lat\": 51.5118562, \"lon\": -0.1283797},\n",
    "        {\"type\": \"node\", \"id\": 21665585, \"lat\": 51.5116901, \"lon\": -0.1283715},\n",
    "        {\"type\": \"node\", \"id\": 1102995756, \"lat\": 51.511415, \"lon\": -0.1283857},\n",
    "        {\"type\": \"node\", \"id\": 5364578862, \"lat\": 51.511599, \"lon\": -0.1283762},\n",
    "        {\"type\": \"node\", \"id\": 5479634639, \"lat\": 51.5114884, \"lon\": -0.1283819},\n",
    "        {\"type\": \"node\", \"id\": 5479634644, \"lat\": 51.5117331, \"lon\": -0.1283705},\n",
    "    ],\n",
    "}"
   ]
  },
  {
   "cell_type": "markdown",
   "metadata": {},
   "source": [
    "All that is left is extracting the OSM way IDs of interest. In the case above it's just a couple.\n",
    "\n",
    "It is also useful to record the `ref` and `name` or any other data that may relate to a dataset you have for tolls to make it human readable or to be able to join the two datasets. This will make it easier to decide on how much the toll should be."
   ]
  },
  {
   "cell_type": "code",
   "execution_count": 3,
   "metadata": {
    "ExecuteTime": {
     "end_time": "2022-07-14T14:39:58.077213Z",
     "start_time": "2022-07-14T14:39:58.035753Z"
    }
   },
   "outputs": [
    {
     "data": {
      "text/html": [
       "<div>\n",
       "<style scoped>\n",
       "    .dataframe tbody tr th:only-of-type {\n",
       "        vertical-align: middle;\n",
       "    }\n",
       "\n",
       "    .dataframe tbody tr th {\n",
       "        vertical-align: top;\n",
       "    }\n",
       "\n",
       "    .dataframe thead th {\n",
       "        text-align: right;\n",
       "    }\n",
       "</style>\n",
       "<table border=\"1\" class=\"dataframe\">\n",
       "  <thead>\n",
       "    <tr style=\"text-align: right;\">\n",
       "      <th></th>\n",
       "      <th>osm_id</th>\n",
       "      <th>osm_ref</th>\n",
       "      <th>osm_name</th>\n",
       "    </tr>\n",
       "  </thead>\n",
       "  <tbody>\n",
       "    <tr>\n",
       "      <th>0</th>\n",
       "      <td>26997928.0</td>\n",
       "      <td>A400</td>\n",
       "      <td>Charing Cross Road</td>\n",
       "    </tr>\n",
       "    <tr>\n",
       "      <th>1</th>\n",
       "      <td>546461337.0</td>\n",
       "      <td>A3211</td>\n",
       "      <td>Byward Street</td>\n",
       "    </tr>\n",
       "  </tbody>\n",
       "</table>\n",
       "</div>"
      ],
      "text/plain": [
       "        osm_id osm_ref            osm_name\n",
       "0   26997928.0    A400  Charing Cross Road\n",
       "1  546461337.0   A3211       Byward Street"
      ]
     },
     "execution_count": 3,
     "metadata": {},
     "output_type": "execute_result"
    }
   ],
   "source": [
    "def extract_data(d, key):\n",
    "    try:\n",
    "        return d[key]\n",
    "    except KeyError:\n",
    "        return float(\"nan\")\n",
    "\n",
    "\n",
    "osm_id = []\n",
    "osm_ref = []\n",
    "osm_name = []\n",
    "\n",
    "for element in osm_data[\"elements\"]:\n",
    "    if element[\"type\"] == \"way\":\n",
    "        # what you get from overpass should all just be tolls but let's\n",
    "        # put an extra condition here anyway\n",
    "        if (\"toll\" in element[\"tags\"]) and (element[\"tags\"][\"toll\"] == \"yes\"):\n",
    "            osm_id.append(element[\"id\"])\n",
    "            osm_ref.append(extract_data(element[\"tags\"], \"ref\"))\n",
    "            osm_name.append(extract_data(element[\"tags\"], \"name\"))\n",
    "\n",
    "df_tolls = pd.DataFrame({\"osm_id\": osm_id, \"osm_ref\": osm_ref, \"osm_name\": osm_name})\n",
    "# the osm IDs in our network are of float type. Make sure you search for data with matching data types\n",
    "df_tolls[\"osm_id\"] = df_tolls[\"osm_id\"].astype(float)\n",
    "df_tolls.head()"
   ]
  },
  {
   "cell_type": "markdown",
   "metadata": {},
   "source": [
    "We now write this to a csv file."
   ]
  },
  {
   "cell_type": "code",
   "execution_count": 4,
   "metadata": {
    "ExecuteTime": {
     "end_time": "2022-07-14T14:39:58.100072Z",
     "start_time": "2022-07-14T14:39:58.083225Z"
    }
   },
   "outputs": [],
   "source": [
    "df_tolls.to_csv(output_path / \"osm_toll_id_ref.csv\", index=False)"
   ]
  },
  {
   "cell_type": "markdown",
   "metadata": {},
   "source": [
    "We can now use GeNet's road pricing methods to map the OSM ids in `df_tolls` to network links."
   ]
  },
  {
   "cell_type": "code",
   "execution_count": 5,
   "metadata": {
    "ExecuteTime": {
     "end_time": "2022-07-14T14:39:58.179227Z",
     "start_time": "2022-07-14T14:39:58.104113Z"
    }
   },
   "outputs": [
    {
     "name": "stderr",
     "output_type": "stream",
     "text": [
      "100%|██████████| 2/2 [00:00<00:00, 37.33it/s]\n"
     ]
    },
    {
     "data": {
      "text/plain": [
       "(        osm_id osm_ref            osm_name  network_id\n",
       " 0   26997928.0    A400  Charing Cross Road        True\n",
       " 1  546461337.0   A3211       Byward Street        True,\n",
       " {26997928.0: ['1', '2', '3', '4'], 546461337.0: ['998', '999']})"
      ]
     },
     "execution_count": 5,
     "metadata": {},
     "output_type": "execute_result"
    }
   ],
   "source": [
    "from genet.use import road_pricing\n",
    "\n",
    "road_pricing.extract_network_id_from_osm_csv(\n",
    "    network=n,\n",
    "    attribute_name=\"osm:way:id\",\n",
    "    osm_csv_path=output_path / \"osm_toll_id_ref.csv\",\n",
    "    outpath=output_path,\n",
    "    osm_dtype=float,  # the osm IDs in our network are of float type. Make sure you search for data with matching data types\n",
    ")"
   ]
  },
  {
   "cell_type": "markdown",
   "metadata": {},
   "source": [
    "This step can take a long time because the relationship between OSM ways and MATSim network links is rarely 1-to-1. For a given OSM way, there can be multiple network links (i.e. multiple links sharing the same `osm:way:id`) or no network links at all (i.e. during network creation/manipulation some OSM links were deleted or merged). Therefore, the matching OSM ways to network links has to be done on a case-by-case basis.\n",
    "\n",
    "Upon completion, there will be two new files in the output folder `example_data/pt2matsim_network/road_pricing` specified above:\n",
    "\n",
    "- `osm_tolls_with_network_ids.csv`: this file will be a copy of the input `osm_toll_id_ref.csv` but augmented with a `True`/`False` value indicating whether each OSM way id was successfully matched with one of more network link ids.\n",
    "- `osm_to_network_ids.json`: this file contains a mapping of each OSM way id in `osm_toll_id_ref.csv` with one or more network link ids.\n",
    "\n",
    "The next step is to decide on the `vehicle_type`, `toll_amount`, `start_time` and `end_time` for the toll. You may have other data that you can join onto `osm_tolls_with_network_ids.csv`. In the example below, we make it up."
   ]
  },
  {
   "cell_type": "code",
   "execution_count": 6,
   "metadata": {
    "ExecuteTime": {
     "end_time": "2022-07-14T14:39:58.202899Z",
     "start_time": "2022-07-14T14:39:58.184590Z"
    }
   },
   "outputs": [
    {
     "data": {
      "text/html": [
       "<div>\n",
       "<style scoped>\n",
       "    .dataframe tbody tr th:only-of-type {\n",
       "        vertical-align: middle;\n",
       "    }\n",
       "\n",
       "    .dataframe tbody tr th {\n",
       "        vertical-align: top;\n",
       "    }\n",
       "\n",
       "    .dataframe thead th {\n",
       "        text-align: right;\n",
       "    }\n",
       "</style>\n",
       "<table border=\"1\" class=\"dataframe\">\n",
       "  <thead>\n",
       "    <tr style=\"text-align: right;\">\n",
       "      <th></th>\n",
       "      <th>osm_id</th>\n",
       "      <th>osm_ref</th>\n",
       "      <th>osm_name</th>\n",
       "      <th>network_id</th>\n",
       "    </tr>\n",
       "  </thead>\n",
       "  <tbody>\n",
       "    <tr>\n",
       "      <th>0</th>\n",
       "      <td>26997928.0</td>\n",
       "      <td>A400</td>\n",
       "      <td>Charing Cross Road</td>\n",
       "      <td>True</td>\n",
       "    </tr>\n",
       "    <tr>\n",
       "      <th>1</th>\n",
       "      <td>546461337.0</td>\n",
       "      <td>A3211</td>\n",
       "      <td>Byward Street</td>\n",
       "      <td>True</td>\n",
       "    </tr>\n",
       "  </tbody>\n",
       "</table>\n",
       "</div>"
      ],
      "text/plain": [
       "        osm_id osm_ref            osm_name  network_id\n",
       "0   26997928.0    A400  Charing Cross Road        True\n",
       "1  546461337.0   A3211       Byward Street        True"
      ]
     },
     "execution_count": 6,
     "metadata": {},
     "output_type": "execute_result"
    }
   ],
   "source": [
    "df_tolls = pd.read_csv(\"example_data/pt2matsim_network/road_pricing/osm_tolls_with_network_ids.csv\")\n",
    "\n",
    "df_tolls.head()"
   ]
  },
  {
   "cell_type": "code",
   "execution_count": 7,
   "metadata": {
    "ExecuteTime": {
     "end_time": "2022-07-14T14:39:58.229543Z",
     "start_time": "2022-07-14T14:39:58.214710Z"
    }
   },
   "outputs": [
    {
     "data": {
      "text/html": [
       "<div>\n",
       "<style scoped>\n",
       "    .dataframe tbody tr th:only-of-type {\n",
       "        vertical-align: middle;\n",
       "    }\n",
       "\n",
       "    .dataframe tbody tr th {\n",
       "        vertical-align: top;\n",
       "    }\n",
       "\n",
       "    .dataframe thead th {\n",
       "        text-align: right;\n",
       "    }\n",
       "</style>\n",
       "<table border=\"1\" class=\"dataframe\">\n",
       "  <thead>\n",
       "    <tr style=\"text-align: right;\">\n",
       "      <th></th>\n",
       "      <th>osm_id</th>\n",
       "      <th>osm_ref</th>\n",
       "      <th>osm_name</th>\n",
       "      <th>network_id</th>\n",
       "      <th>vehicle_type</th>\n",
       "      <th>toll_amount</th>\n",
       "      <th>start_time</th>\n",
       "      <th>end_time</th>\n",
       "    </tr>\n",
       "  </thead>\n",
       "  <tbody>\n",
       "    <tr>\n",
       "      <th>0</th>\n",
       "      <td>26997928.0</td>\n",
       "      <td>A400</td>\n",
       "      <td>Charing Cross Road</td>\n",
       "      <td>True</td>\n",
       "      <td>type2</td>\n",
       "      <td>2.9</td>\n",
       "      <td>00:00</td>\n",
       "      <td>23:59</td>\n",
       "    </tr>\n",
       "    <tr>\n",
       "      <th>1</th>\n",
       "      <td>546461337.0</td>\n",
       "      <td>A3211</td>\n",
       "      <td>Byward Street</td>\n",
       "      <td>True</td>\n",
       "      <td>type2</td>\n",
       "      <td>2.9</td>\n",
       "      <td>00:00</td>\n",
       "      <td>23:59</td>\n",
       "    </tr>\n",
       "  </tbody>\n",
       "</table>\n",
       "</div>"
      ],
      "text/plain": [
       "        osm_id osm_ref            osm_name  network_id vehicle_type  \\\n",
       "0   26997928.0    A400  Charing Cross Road        True        type2   \n",
       "1  546461337.0   A3211       Byward Street        True        type2   \n",
       "\n",
       "  toll_amount start_time end_time  \n",
       "0         2.9      00:00    23:59  \n",
       "1         2.9      00:00    23:59  "
      ]
     },
     "execution_count": 7,
     "metadata": {},
     "output_type": "execute_result"
    }
   ],
   "source": [
    "df_tolls[\"vehicle_type\"] = \"type2\"\n",
    "df_tolls[\"toll_amount\"] = \"2.9\"\n",
    "df_tolls[\"start_time\"] = \"00:00\"\n",
    "df_tolls[\"end_time\"] = \"23:59\"\n",
    "df_tolls.head()"
   ]
  },
  {
   "cell_type": "code",
   "execution_count": 8,
   "metadata": {
    "ExecuteTime": {
     "end_time": "2022-07-14T14:39:58.242506Z",
     "start_time": "2022-07-14T14:39:58.234657Z"
    }
   },
   "outputs": [],
   "source": [
    "df_tolls.to_csv(output_path / \"osm_tolls_with_network_ids.csv\")"
   ]
  },
  {
   "cell_type": "markdown",
   "metadata": {},
   "source": [
    "Next we can generate the road pricing file."
   ]
  },
  {
   "cell_type": "code",
   "execution_count": 9,
   "metadata": {
    "ExecuteTime": {
     "end_time": "2022-07-14T14:39:58.270933Z",
     "start_time": "2022-07-14T14:39:58.245452Z"
    }
   },
   "outputs": [],
   "source": [
    "xml_tree = road_pricing.build_tree_from_csv_json(\n",
    "    output_path / \"osm_tolls_with_network_ids.csv\", output_path / \"osm_to_network_ids.json\"\n",
    ")\n",
    "\n",
    "road_pricing.write_xml(xml_tree, output_path)"
   ]
  },
  {
   "cell_type": "code",
   "execution_count": null,
   "metadata": {},
   "outputs": [],
   "source": []
  }
 ],
 "metadata": {
  "kernelspec": {
   "display_name": "genet",
   "language": "python",
   "name": "python3"
  },
  "language_info": {
   "codemirror_mode": {
    "name": "ipython",
    "version": 3
   },
   "file_extension": ".py",
   "mimetype": "text/x-python",
   "name": "python",
   "nbconvert_exporter": "python",
   "pygments_lexer": "ipython3",
   "version": "3.11.5"
  },
  "latex_envs": {
   "LaTeX_envs_menu_present": true,
   "autoclose": true,
   "autocomplete": true,
   "bibliofile": "biblio.bib",
   "cite_by": "apalike",
   "current_citInitial": 1,
   "eqLabelWithNumbers": true,
   "eqNumInitial": 1,
   "hotkeys": {
    "equation": "Ctrl-E",
    "itemize": "Ctrl-I"
   },
   "labels_anchors": false,
   "latex_user_defs": false,
   "report_style_numbering": false,
   "user_envs_cfg": false
  },
  "toc": {
   "base_numbering": 1,
   "nav_menu": {},
   "number_sections": true,
   "sideBar": true,
   "skip_h1_title": false,
   "title_cell": "Table of Contents",
   "title_sidebar": "Contents",
   "toc_cell": false,
   "toc_position": {},
   "toc_section_display": true,
   "toc_window_display": false
  },
  "varInspector": {
   "cols": {
    "lenName": 16,
    "lenType": 16,
    "lenVar": 40
   },
   "kernels_config": {
    "python": {
     "delete_cmd_postfix": "",
     "delete_cmd_prefix": "del ",
     "library": "var_list.py",
     "varRefreshCmd": "print(var_dic_list())"
    },
    "r": {
     "delete_cmd_postfix": ") ",
     "delete_cmd_prefix": "rm(",
     "library": "var_list.r",
     "varRefreshCmd": "cat(var_dic_list()) "
    }
   },
   "types_to_exclude": [
    "module",
    "function",
    "builtin_function_or_method",
    "instance",
    "_Feature"
   ],
   "window_display": false
  }
 },
 "nbformat": 4,
 "nbformat_minor": 2
}
