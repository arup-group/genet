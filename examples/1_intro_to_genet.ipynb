{
 "cells": [
  {
   "cell_type": "markdown",
   "metadata": {
    "ExecuteTime": {
     "end_time": "2020-12-15T13:42:45.434546Z",
     "start_time": "2020-12-15T13:42:42.525926Z"
    }
   },
   "source": [
    "# 1. Introduction to GeNet\n",
    "This section goes through basic usage examples. Available as a jupyter notebook and a wiki page.\n",
    "\n",
    "## `Network` data structure\n",
    "\n",
    "![GeNet Network Graph diagram](../images/genet_network_graph.png)\n",
    "\n",
    "Main schema:\n",
    "* nodes: exist uniquely, hold spatial information.\n",
    "  * e.g. A\n",
    "* edges: directed pairs of `from` and `to` nodes, often more than one link exists for one `(from, to)` nodes pair. **Sometimes unique**.\n",
    "  * e.g. A-B has 3 links: Bus, Car and a combined Walk+Bike\n",
    "* links: single edge between a `(from, to)` nodes pair. **Always unique**.\n",
    "  * e.g. the A-B Bus link (Bus lane going from A to B)\n",
    "\n",
    "Data is stored on nodes and edges, where:\n",
    "* nodes hold spatial information\n",
    "* each edge/link holds information such as mode of transport allowed, speed, capacity, length, OSM-inherited tags\n",
    "\n",
    "![GeNet Schedule Graph diagram](../images/genet_schedule.png)\n",
    "\n",
    "`Schedule` consists of:\n",
    "* List of `Service`s, where each `Service` has:\n",
    "  * List of `Route`s, where each `Route` has:\n",
    "    * List of `Stop`s (The order of `Stop`s characterises the `Route` object), where each `Stop` has:\n",
    "      * Spatial information\n",
    "      * For a multimodal transport network each `Stop` should reference a link on the network\n",
    "    * Dictionary of trips which share that route (with time at first stop and vehicle ID)\n",
    "    * List of offsets for arrival and departure from `Stop`s\n",
    "* `minimal_transfer_times` between `Stop`s, optional.\n",
    "* `vehicles`: dictionary of vehicle IDs from Route objects, mapping them to vehicle types in vehicle_types. Looks like this: `{veh_id : {'type': 'bus'}}`. Defaults to None and generates itself from the vehicles IDs in Routes, maps to the mode of the Route. Checks if those modes are defined in the `vehicle_types`.\n",
    "* `vehicle types`: dictionary of vehicle types and their specification. Indexed by the vehicle type that vehicles in the `vehicles` attribute are referring to. E.g.\n",
    "```python\n",
    "{'bus' : {\n",
    "    'capacity': {'seats': {'persons': '70'}, 'standingRoom': {'persons': '0'}},\n",
    "    'length': {'meter': '18.0'},\n",
    "    'width': {'meter': '2.5'},\n",
    "    'accessTime': {'secondsPerPerson': '0.5'},\n",
    "    'egressTime': {'secondsPerPerson': '0.5'},\n",
    "    'doorOperation': {'mode': 'serial'},\n",
    "    'passengerCarEquivalents': {'pce': '2.8'}}}\n",
    "```"
   ]
  },
  {
   "cell_type": "markdown",
   "metadata": {},
   "source": [
    "## Setting-up a Network object"
   ]
  },
  {
   "cell_type": "code",
   "execution_count": 1,
   "metadata": {
    "ExecuteTime": {
     "end_time": "2022-07-14T14:15:47.348031Z",
     "start_time": "2022-07-14T14:15:42.608541Z"
    }
   },
   "outputs": [],
   "source": [
    "from genet import Network"
   ]
  },
  {
   "cell_type": "markdown",
   "metadata": {},
   "source": [
    "To initialise an empty `Network`, you need a coordinate system. We've gone with the British National Grid."
   ]
  },
  {
   "cell_type": "code",
   "execution_count": 2,
   "metadata": {
    "ExecuteTime": {
     "end_time": "2022-07-14T14:15:47.471306Z",
     "start_time": "2022-07-14T14:15:47.350341Z"
    }
   },
   "outputs": [],
   "source": [
    "n = Network(epsg=\"epsg:27700\")"
   ]
  },
  {
   "cell_type": "markdown",
   "metadata": {},
   "source": [
    "You can get quick stats on the `Network` by calling `n.print()` method or just running the cell with network object."
   ]
  },
  {
   "cell_type": "code",
   "execution_count": 3,
   "metadata": {
    "ExecuteTime": {
     "end_time": "2022-07-14T14:15:47.479753Z",
     "start_time": "2022-07-14T14:15:47.474165Z"
    }
   },
   "outputs": [
    {
     "data": {
      "text/plain": [
       "<Network instance at 140419464489296: with \n",
       "graph: Name: Network graph\n",
       "Type: MultiDiGraph\n",
       "Number of nodes: 0\n",
       "Number of edges: 0\n",
       " and \n",
       "schedule Schedule:\n",
       "Number of services: 0\n",
       "Number of routes: 0\n",
       "Number of stops: 0"
      ]
     },
     "execution_count": 3,
     "metadata": {},
     "output_type": "execute_result"
    }
   ],
   "source": [
    "n"
   ]
  },
  {
   "cell_type": "code",
   "execution_count": 4,
   "metadata": {
    "ExecuteTime": {
     "end_time": "2022-07-14T14:15:47.488306Z",
     "start_time": "2022-07-14T14:15:47.482536Z"
    }
   },
   "outputs": [
    {
     "name": "stdout",
     "output_type": "stream",
     "text": [
      "Graph info: Name: Network graph\n",
      "Type: MultiDiGraph\n",
      "Number of nodes: 0\n",
      "Number of edges: 0\n",
      " \n",
      "Schedule info: Schedule:\n",
      "Number of services: 0\n",
      "Number of routes: 0\n",
      "Number of stops: 0\n"
     ]
    }
   ],
   "source": [
    "n.print()"
   ]
  },
  {
   "cell_type": "markdown",
   "metadata": {},
   "source": [
    "Right now the `Network` is empty. You can fill it in with MATSim network data, using Open Street Map (OSM) data (Please refer to notebooks on reading data) or we can add links ourselves. A single link or a few links at once."
   ]
  },
  {
   "cell_type": "code",
   "execution_count": 5,
   "metadata": {
    "ExecuteTime": {
     "end_time": "2022-07-14T14:15:47.529801Z",
     "start_time": "2022-07-14T14:15:47.496109Z"
    }
   },
   "outputs": [
    {
     "name": "stderr",
     "output_type": "stream",
     "text": [
      "2022-07-14 15:15:47,508 - Added Link with index 1, from node:A to node:B, under multi-index:0, and data={'modes': ['car', 'walk'], 'from': 'A', 'to': 'B', 'id': '1'}\n"
     ]
    }
   ],
   "source": [
    "link_id = n.add_link(link_id=\"1\", u=\"A\", v=\"B\", attribs={\"modes\": [\"car\", \"walk\"]})"
   ]
  },
  {
   "cell_type": "code",
   "execution_count": 6,
   "metadata": {
    "ExecuteTime": {
     "end_time": "2022-07-14T14:15:47.541906Z",
     "start_time": "2022-07-14T14:15:47.532579Z"
    }
   },
   "outputs": [
    {
     "data": {
      "text/plain": [
       "'1'"
      ]
     },
     "execution_count": 6,
     "metadata": {},
     "output_type": "execute_result"
    }
   ],
   "source": [
    "link_id"
   ]
  },
  {
   "cell_type": "markdown",
   "metadata": {},
   "source": [
    "Even though you specify a link id in this method, this id can change if there already exists a link with that id in the `Network`. This is why this method returns the link id under which the link was added. Let's try to add the same link again."
   ]
  },
  {
   "cell_type": "code",
   "execution_count": 7,
   "metadata": {
    "ExecuteTime": {
     "end_time": "2022-07-14T14:15:47.598140Z",
     "start_time": "2022-07-14T14:15:47.546125Z"
    }
   },
   "outputs": [
    {
     "name": "stderr",
     "output_type": "stream",
     "text": [
      "2022-07-14 15:15:47,548 - Generated 1 link ids.\n",
      "2022-07-14 15:15:47,563 - Generated link id 0.\n",
      "2022-07-14 15:15:47,565 - `1` already exists. Generated a new unique_index: `0`\n",
      "2022-07-14 15:15:47,582 - Added Link with index 0, from node:A to node:B, under multi-index:1, and data={'modes': ['car', 'walk'], 'from': 'A', 'to': 'B', 'id': '0'}\n"
     ]
    }
   ],
   "source": [
    "link_id = n.add_link(link_id=\"1\", u=\"A\", v=\"B\", attribs={\"modes\": [\"car\", \"walk\"]})"
   ]
  },
  {
   "cell_type": "code",
   "execution_count": 8,
   "metadata": {
    "ExecuteTime": {
     "end_time": "2022-07-14T14:15:47.629516Z",
     "start_time": "2022-07-14T14:15:47.621045Z"
    }
   },
   "outputs": [
    {
     "data": {
      "text/plain": [
       "'0'"
      ]
     },
     "execution_count": 8,
     "metadata": {},
     "output_type": "execute_result"
    }
   ],
   "source": [
    "link_id"
   ]
  },
  {
   "cell_type": "markdown",
   "metadata": {},
   "source": [
    "If you are adding many edges between the same two nodes you can also specify which multi index you want a link to use"
   ]
  },
  {
   "cell_type": "code",
   "execution_count": 9,
   "metadata": {
    "ExecuteTime": {
     "end_time": "2022-07-14T14:15:47.656610Z",
     "start_time": "2022-07-14T14:15:47.636870Z"
    }
   },
   "outputs": [
    {
     "name": "stderr",
     "output_type": "stream",
     "text": [
      "2022-07-14 15:15:47,638 - Generated 1 link ids.\n",
      "2022-07-14 15:15:47,642 - Generated link id 2.\n",
      "2022-07-14 15:15:47,643 - `1` already exists. Generated a new unique_index: `2`\n",
      "2022-07-14 15:15:47,650 - Added Link with index 2, from node:A to node:B, under multi-index:5, and data={'modes': ['car', 'walk'], 'from': 'A', 'to': 'B', 'id': '2'}\n"
     ]
    }
   ],
   "source": [
    "link_id = n.add_link(\n",
    "    link_id=\"1\", u=\"A\", v=\"B\", attribs={\"modes\": [\"car\", \"walk\"]}, multi_edge_idx=5\n",
    ")"
   ]
  },
  {
   "cell_type": "markdown",
   "metadata": {},
   "source": [
    "To add several links it is faster to use the `add_links` method. This expects a dictionary with keys referring to _desired_ link ids and the values being attribute dictionaries saved on those links. At the minimum each attribute dictionary needs a `'from'` and `'to'` key referring to from and to nodes the link is connecting."
   ]
  },
  {
   "cell_type": "code",
   "execution_count": 10,
   "metadata": {
    "ExecuteTime": {
     "end_time": "2022-07-14T14:15:47.704365Z",
     "start_time": "2022-07-14T14:15:47.660488Z"
    }
   },
   "outputs": [
    {
     "name": "stderr",
     "output_type": "stream",
     "text": [
      "2022-07-14 15:15:47,690 - Generated 1 link ids.\n",
      "2022-07-14 15:15:47,699 - Added 2 links\n"
     ]
    }
   ],
   "source": [
    "reindexing_dict, links_and_attributes = n.add_links(\n",
    "    links_and_attributes={\n",
    "        \"1\": {\"from\": \"A\", \"to\": \"B\", \"modes\": [\"bike\"]},\n",
    "        \"10\": {\"from\": \"B\", \"to\": \"A\", \"modes\": [\"bike\"]},\n",
    "    }\n",
    ")"
   ]
  },
  {
   "cell_type": "markdown",
   "metadata": {},
   "source": [
    "This method also checks for links with clashing indices and returns a dictionary showing which ids we're reindex and what their new indices are, as well as an updated links_and_attributes dictionary showing final link attributes added to the `Network`."
   ]
  },
  {
   "cell_type": "code",
   "execution_count": 11,
   "metadata": {
    "ExecuteTime": {
     "end_time": "2022-07-14T14:15:47.721434Z",
     "start_time": "2022-07-14T14:15:47.713557Z"
    }
   },
   "outputs": [
    {
     "data": {
      "text/plain": [
       "{'1': '3'}"
      ]
     },
     "execution_count": 11,
     "metadata": {},
     "output_type": "execute_result"
    }
   ],
   "source": [
    "reindexing_dict"
   ]
  },
  {
   "cell_type": "code",
   "execution_count": 12,
   "metadata": {
    "ExecuteTime": {
     "end_time": "2022-07-14T14:15:47.738668Z",
     "start_time": "2022-07-14T14:15:47.728820Z"
    }
   },
   "outputs": [
    {
     "data": {
      "text/plain": [
       "{'3': {'from': 'A', 'to': 'B', 'modes': ['bike'], 'id': '3'},\n",
       " '10': {'from': 'B', 'to': 'A', 'modes': ['bike'], 'id': '10'}}"
      ]
     },
     "execution_count": 12,
     "metadata": {},
     "output_type": "execute_result"
    }
   ],
   "source": [
    "links_and_attributes"
   ]
  },
  {
   "cell_type": "markdown",
   "metadata": {},
   "source": [
    "Each node should have a spatial reference. For now we worked with nodes `A` and `B`, which dont have this information. To check what information is saved under nodes or links "
   ]
  },
  {
   "cell_type": "code",
   "execution_count": 13,
   "metadata": {
    "ExecuteTime": {
     "end_time": "2022-07-14T14:15:47.757637Z",
     "start_time": "2022-07-14T14:15:47.746317Z"
    }
   },
   "outputs": [
    {
     "name": "stdout",
     "output_type": "stream",
     "text": [
      "attribute\n"
     ]
    }
   ],
   "source": [
    "n.node_attribute_summary(data=False)"
   ]
  },
  {
   "cell_type": "code",
   "execution_count": 14,
   "metadata": {
    "ExecuteTime": {
     "end_time": "2022-07-14T14:15:47.787362Z",
     "start_time": "2022-07-14T14:15:47.776370Z"
    }
   },
   "outputs": [
    {
     "name": "stdout",
     "output_type": "stream",
     "text": [
      "attribute\n",
      "├── modes: ['walk', 'car', 'bike']\n",
      "├── from: ['B', 'A']\n",
      "├── to: ['B', 'A']\n",
      "└── id: ['1', '2', '3', '0', '10']\n"
     ]
    }
   ],
   "source": [
    "n.link_attribute_summary(data=True)"
   ]
  },
  {
   "cell_type": "markdown",
   "metadata": {},
   "source": [
    "To add spatial information to nodes we can use `apply_attributes_to_node` or `apply_attributes_to_nodes` methods. We have two nodes so let's use the latter. GeNet expects values `x` and `y` in the coordinate system declared at the time of initiating the `Network`."
   ]
  },
  {
   "cell_type": "code",
   "execution_count": 15,
   "metadata": {
    "ExecuteTime": {
     "end_time": "2022-07-14T14:15:47.808188Z",
     "start_time": "2022-07-14T14:15:47.795090Z"
    }
   },
   "outputs": [
    {
     "name": "stderr",
     "output_type": "stream",
     "text": [
      "2022-07-14 15:15:47,798 - Changed Node attributes for 2 nodes\n"
     ]
    }
   ],
   "source": [
    "n.apply_attributes_to_nodes(\n",
    "    new_attributes={\n",
    "        \"A\": {\"x\": 528704.1425925883, \"y\": 182068.78193707118},\n",
    "        \"B\": {\"x\": 528835.203274008, \"y\": 182006.27331298392},\n",
    "    }\n",
    ")"
   ]
  },
  {
   "cell_type": "code",
   "execution_count": 16,
   "metadata": {
    "ExecuteTime": {
     "end_time": "2022-07-14T14:15:47.824899Z",
     "start_time": "2022-07-14T14:15:47.818011Z"
    }
   },
   "outputs": [
    {
     "name": "stdout",
     "output_type": "stream",
     "text": [
      "attribute\n",
      "├── x\n",
      "└── y\n"
     ]
    }
   ],
   "source": [
    "n.node_attribute_summary(data=False)"
   ]
  },
  {
   "cell_type": "markdown",
   "metadata": {},
   "source": [
    "Now that we have spatial information for the nodes, we can do a quick plot of the `Network`."
   ]
  },
  {
   "cell_type": "code",
   "execution_count": 17,
   "metadata": {
    "ExecuteTime": {
     "end_time": "2022-07-14T14:15:47.838519Z",
     "start_time": "2022-07-14T14:15:47.832978Z"
    }
   },
   "outputs": [],
   "source": [
    "# n.plot()"
   ]
  },
  {
   "cell_type": "markdown",
   "metadata": {},
   "source": [
    "The plots get much more interesting the more links you have in the `Network`. Any additions and changes we made are recorded in the `Network`s changelog."
   ]
  },
  {
   "cell_type": "code",
   "execution_count": 18,
   "metadata": {
    "ExecuteTime": {
     "end_time": "2022-07-14T14:15:47.898893Z",
     "start_time": "2022-07-14T14:15:47.846330Z"
    }
   },
   "outputs": [
    {
     "data": {
      "text/html": [
       "<div>\n",
       "<style scoped>\n",
       "    .dataframe tbody tr th:only-of-type {\n",
       "        vertical-align: middle;\n",
       "    }\n",
       "\n",
       "    .dataframe tbody tr th {\n",
       "        vertical-align: top;\n",
       "    }\n",
       "\n",
       "    .dataframe thead th {\n",
       "        text-align: right;\n",
       "    }\n",
       "</style>\n",
       "<table border=\"1\" class=\"dataframe\">\n",
       "  <thead>\n",
       "    <tr style=\"text-align: right;\">\n",
       "      <th></th>\n",
       "      <th>timestamp</th>\n",
       "      <th>change_event</th>\n",
       "      <th>object_type</th>\n",
       "      <th>old_id</th>\n",
       "      <th>new_id</th>\n",
       "      <th>old_attributes</th>\n",
       "      <th>new_attributes</th>\n",
       "      <th>diff</th>\n",
       "    </tr>\n",
       "  </thead>\n",
       "  <tbody>\n",
       "    <tr>\n",
       "      <th>0</th>\n",
       "      <td>2022-07-14 15:15:47</td>\n",
       "      <td>add</td>\n",
       "      <td>link</td>\n",
       "      <td>None</td>\n",
       "      <td>1</td>\n",
       "      <td>None</td>\n",
       "      <td>{'modes': ['car', 'walk'], 'from': 'A', 'to': ...</td>\n",
       "      <td>[(add, , [('modes', ['car', 'walk']), ('from',...</td>\n",
       "    </tr>\n",
       "    <tr>\n",
       "      <th>1</th>\n",
       "      <td>2022-07-14 15:15:47</td>\n",
       "      <td>add</td>\n",
       "      <td>link</td>\n",
       "      <td>None</td>\n",
       "      <td>0</td>\n",
       "      <td>None</td>\n",
       "      <td>{'modes': ['car', 'walk'], 'from': 'A', 'to': ...</td>\n",
       "      <td>[(add, , [('modes', ['car', 'walk']), ('from',...</td>\n",
       "    </tr>\n",
       "    <tr>\n",
       "      <th>2</th>\n",
       "      <td>2022-07-14 15:15:47</td>\n",
       "      <td>add</td>\n",
       "      <td>link</td>\n",
       "      <td>None</td>\n",
       "      <td>2</td>\n",
       "      <td>None</td>\n",
       "      <td>{'modes': ['car', 'walk'], 'from': 'A', 'to': ...</td>\n",
       "      <td>[(add, , [('modes', ['car', 'walk']), ('from',...</td>\n",
       "    </tr>\n",
       "    <tr>\n",
       "      <th>3</th>\n",
       "      <td>2022-07-14 15:15:47</td>\n",
       "      <td>add</td>\n",
       "      <td>link</td>\n",
       "      <td>None</td>\n",
       "      <td>3</td>\n",
       "      <td>None</td>\n",
       "      <td>{'from': 'A', 'to': 'B', 'modes': ['bike'], 'i...</td>\n",
       "      <td>[(add, , [('from', 'A'), ('to', 'B'), ('modes'...</td>\n",
       "    </tr>\n",
       "    <tr>\n",
       "      <th>4</th>\n",
       "      <td>2022-07-14 15:15:47</td>\n",
       "      <td>add</td>\n",
       "      <td>link</td>\n",
       "      <td>None</td>\n",
       "      <td>10</td>\n",
       "      <td>None</td>\n",
       "      <td>{'from': 'B', 'to': 'A', 'modes': ['bike'], 'i...</td>\n",
       "      <td>[(add, , [('from', 'B'), ('to', 'A'), ('modes'...</td>\n",
       "    </tr>\n",
       "    <tr>\n",
       "      <th>5</th>\n",
       "      <td>2022-07-14 15:15:47</td>\n",
       "      <td>modify</td>\n",
       "      <td>node</td>\n",
       "      <td>A</td>\n",
       "      <td>A</td>\n",
       "      <td>{}</td>\n",
       "      <td>{'x': 528704.1425925883, 'y': 182068.78193707118}</td>\n",
       "      <td>[(add, , [('x', 528704.1425925883), ('y', 1820...</td>\n",
       "    </tr>\n",
       "    <tr>\n",
       "      <th>6</th>\n",
       "      <td>2022-07-14 15:15:47</td>\n",
       "      <td>modify</td>\n",
       "      <td>node</td>\n",
       "      <td>B</td>\n",
       "      <td>B</td>\n",
       "      <td>{}</td>\n",
       "      <td>{'x': 528835.203274008, 'y': 182006.27331298392}</td>\n",
       "      <td>[(add, , [('x', 528835.203274008), ('y', 18200...</td>\n",
       "    </tr>\n",
       "  </tbody>\n",
       "</table>\n",
       "</div>"
      ],
      "text/plain": [
       "             timestamp change_event object_type old_id new_id old_attributes  \\\n",
       "0  2022-07-14 15:15:47          add        link   None      1           None   \n",
       "1  2022-07-14 15:15:47          add        link   None      0           None   \n",
       "2  2022-07-14 15:15:47          add        link   None      2           None   \n",
       "3  2022-07-14 15:15:47          add        link   None      3           None   \n",
       "4  2022-07-14 15:15:47          add        link   None     10           None   \n",
       "5  2022-07-14 15:15:47       modify        node      A      A             {}   \n",
       "6  2022-07-14 15:15:47       modify        node      B      B             {}   \n",
       "\n",
       "                                      new_attributes  \\\n",
       "0  {'modes': ['car', 'walk'], 'from': 'A', 'to': ...   \n",
       "1  {'modes': ['car', 'walk'], 'from': 'A', 'to': ...   \n",
       "2  {'modes': ['car', 'walk'], 'from': 'A', 'to': ...   \n",
       "3  {'from': 'A', 'to': 'B', 'modes': ['bike'], 'i...   \n",
       "4  {'from': 'B', 'to': 'A', 'modes': ['bike'], 'i...   \n",
       "5  {'x': 528704.1425925883, 'y': 182068.78193707118}   \n",
       "6   {'x': 528835.203274008, 'y': 182006.27331298392}   \n",
       "\n",
       "                                                diff  \n",
       "0  [(add, , [('modes', ['car', 'walk']), ('from',...  \n",
       "1  [(add, , [('modes', ['car', 'walk']), ('from',...  \n",
       "2  [(add, , [('modes', ['car', 'walk']), ('from',...  \n",
       "3  [(add, , [('from', 'A'), ('to', 'B'), ('modes'...  \n",
       "4  [(add, , [('from', 'B'), ('to', 'A'), ('modes'...  \n",
       "5  [(add, , [('x', 528704.1425925883), ('y', 1820...  \n",
       "6  [(add, , [('x', 528835.203274008), ('y', 18200...  "
      ]
     },
     "execution_count": 18,
     "metadata": {},
     "output_type": "execute_result"
    }
   ],
   "source": [
    "n.change_log.head(10)"
   ]
  },
  {
   "cell_type": "markdown",
   "metadata": {},
   "source": [
    "Another important part of the `Network` is the `Schedule` element describing public transit."
   ]
  },
  {
   "cell_type": "code",
   "execution_count": 19,
   "metadata": {
    "ExecuteTime": {
     "end_time": "2022-07-14T14:15:47.913881Z",
     "start_time": "2022-07-14T14:15:47.907297Z"
    }
   },
   "outputs": [],
   "source": [
    "from genet import Schedule"
   ]
  },
  {
   "cell_type": "code",
   "execution_count": 20,
   "metadata": {
    "ExecuteTime": {
     "end_time": "2022-07-14T14:15:47.923542Z",
     "start_time": "2022-07-14T14:15:47.918299Z"
    }
   },
   "outputs": [
    {
     "name": "stdout",
     "output_type": "stream",
     "text": [
      "Schedule:\n",
      "Number of services: 0\n",
      "Number of routes: 0\n",
      "Number of stops: 0\n"
     ]
    }
   ],
   "source": [
    "n.schedule.print()"
   ]
  },
  {
   "cell_type": "markdown",
   "metadata": {},
   "source": [
    "It is initiated empty with a `Network`. Right now, GeNet does not have nice methods to add and change Schedules. You can generate a `Schedule` using different `Schedule` elements: `Service`, `Route` and `Stop`, or by reading GTFS data (Please refer to notebooks on reading data)."
   ]
  },
  {
   "cell_type": "code",
   "execution_count": 21,
   "metadata": {
    "ExecuteTime": {
     "end_time": "2022-07-14T14:15:47.932528Z",
     "start_time": "2022-07-14T14:15:47.925932Z"
    }
   },
   "outputs": [],
   "source": [
    "from genet import Route, Service, Stop"
   ]
  },
  {
   "cell_type": "markdown",
   "metadata": {},
   "source": [
    "Each `Schedule` consists of `Services`. A `Service` corresponds to a specific transit line, for example the Piccadilly London Underground line. Each `Service` will have a number of `Routes` which are characterised by an ordered sequence of `Stop`s. For a network to be a valid multimodal network each `Route` needs to have a valid reference to `Network` links. Let's create a `Schedule` with a bus `Service`."
   ]
  },
  {
   "cell_type": "code",
   "execution_count": 22,
   "metadata": {
    "ExecuteTime": {
     "end_time": "2022-07-14T14:15:48.144979Z",
     "start_time": "2022-07-14T14:15:47.937958Z"
    }
   },
   "outputs": [],
   "source": [
    "s = Schedule(\n",
    "    epsg=\"epsg:27700\",\n",
    "    services=[\n",
    "        Service(\n",
    "            id=\"service1\",\n",
    "            routes=[\n",
    "                Route(\n",
    "                    id=\"1\",\n",
    "                    route_short_name=\"route1\",\n",
    "                    mode=\"bus\",\n",
    "                    stops=[\n",
    "                        Stop(\n",
    "                            id=\"0\",\n",
    "                            x=529455.7452394223,\n",
    "                            y=182401.37630677427,\n",
    "                            epsg=\"epsg:27700\",\n",
    "                            linkRefId=\"0\",\n",
    "                        ),\n",
    "                        Stop(\n",
    "                            id=\"1\",\n",
    "                            x=529350.7866124967,\n",
    "                            y=182388.0201078112,\n",
    "                            epsg=\"epsg:27700\",\n",
    "                            linkRefId=\"1\",\n",
    "                        ),\n",
    "                    ],\n",
    "                    trips={\n",
    "                        \"trip_id\": [\"route1_04:40:00\"],\n",
    "                        \"trip_departure_time\": [\"04:40:00\"],\n",
    "                        \"vehicle_id\": [\"veh_bus_0\"],\n",
    "                    },\n",
    "                    arrival_offsets=[\"00:00:00\", \"00:02:00\"],\n",
    "                    departure_offsets=[\"00:00:00\", \"00:02:00\"],\n",
    "                    route=[\"0\", \"1\"],\n",
    "                ),\n",
    "                Route(\n",
    "                    id=\"2\",\n",
    "                    route_short_name=\"route2\",\n",
    "                    mode=\"bus\",\n",
    "                    stops=[\n",
    "                        Stop(\n",
    "                            id=\"1\",\n",
    "                            x=529455.7452394223,\n",
    "                            y=182401.37630677427,\n",
    "                            epsg=\"epsg:27700\",\n",
    "                            linkRefId=\"1\",\n",
    "                        ),\n",
    "                        Stop(\n",
    "                            id=\"2\",\n",
    "                            x=529350.7866124967,\n",
    "                            y=182388.0201078112,\n",
    "                            epsg=\"epsg:27700\",\n",
    "                            linkRefId=\"2\",\n",
    "                        ),\n",
    "                    ],\n",
    "                    trips={\n",
    "                        \"trip_id\": [\"route2_05:40:00\"],\n",
    "                        \"trip_departure_time\": [\"05:40:00\"],\n",
    "                        \"vehicle_id\": [\"veh_bus_1\"],\n",
    "                    },\n",
    "                    arrival_offsets=[\"00:00:00\", \"00:03:00\"],\n",
    "                    departure_offsets=[\"00:00:00\", \"00:05:00\"],\n",
    "                    route=[\"1\", \"2\"],\n",
    "                ),\n",
    "            ],\n",
    "        )\n",
    "    ],\n",
    ")"
   ]
  },
  {
   "cell_type": "code",
   "execution_count": 23,
   "metadata": {
    "ExecuteTime": {
     "end_time": "2022-07-14T14:15:48.163090Z",
     "start_time": "2022-07-14T14:15:48.160415Z"
    }
   },
   "outputs": [
    {
     "name": "stdout",
     "output_type": "stream",
     "text": [
      "Schedule:\n",
      "Number of services: 1\n",
      "Number of routes: 2\n",
      "Number of stops: 3\n"
     ]
    }
   ],
   "source": [
    "s.print()"
   ]
  },
  {
   "cell_type": "code",
   "execution_count": 24,
   "metadata": {
    "ExecuteTime": {
     "end_time": "2022-07-14T14:15:48.178795Z",
     "start_time": "2022-07-14T14:15:48.171042Z"
    }
   },
   "outputs": [],
   "source": [
    "# s.plot()"
   ]
  },
  {
   "cell_type": "markdown",
   "metadata": {},
   "source": [
    "You can replace the `Network` schedule by your new `Schedule`."
   ]
  },
  {
   "cell_type": "code",
   "execution_count": 25,
   "metadata": {
    "ExecuteTime": {
     "end_time": "2022-07-14T14:15:48.193326Z",
     "start_time": "2022-07-14T14:15:48.182000Z"
    }
   },
   "outputs": [],
   "source": [
    "n.schedule = s"
   ]
  },
  {
   "cell_type": "code",
   "execution_count": 26,
   "metadata": {
    "ExecuteTime": {
     "end_time": "2022-07-14T14:15:48.209731Z",
     "start_time": "2022-07-14T14:15:48.196411Z"
    }
   },
   "outputs": [
    {
     "name": "stdout",
     "output_type": "stream",
     "text": [
      "Graph info: Name: Network graph\n",
      "Type: MultiDiGraph\n",
      "Number of nodes: 2\n",
      "Number of edges: 5\n",
      "Average in degree:   2.5000\n",
      "Average out degree:   2.5000 \n",
      "Schedule info: Schedule:\n",
      "Number of services: 1\n",
      "Number of routes: 2\n",
      "Number of stops: 3\n"
     ]
    }
   ],
   "source": [
    "n.print()"
   ]
  }
 ],
 "metadata": {
  "kernelspec": {
   "display_name": "genet",
   "language": "python",
   "name": "genet"
  },
  "language_info": {
   "codemirror_mode": {
    "name": "ipython",
    "version": 3
   },
   "file_extension": ".py",
   "mimetype": "text/x-python",
   "name": "python",
   "nbconvert_exporter": "python",
   "pygments_lexer": "ipython3",
   "version": "3.7.7"
  },
  "latex_envs": {
   "LaTeX_envs_menu_present": true,
   "autoclose": true,
   "autocomplete": true,
   "bibliofile": "biblio.bib",
   "cite_by": "apalike",
   "current_citInitial": 1,
   "eqLabelWithNumbers": true,
   "eqNumInitial": 1,
   "hotkeys": {
    "equation": "Ctrl-E",
    "itemize": "Ctrl-I"
   },
   "labels_anchors": false,
   "latex_user_defs": false,
   "report_style_numbering": false,
   "user_envs_cfg": false
  },
  "toc": {
   "base_numbering": 1,
   "nav_menu": {},
   "number_sections": true,
   "sideBar": true,
   "skip_h1_title": false,
   "title_cell": "Table of Contents",
   "title_sidebar": "Contents",
   "toc_cell": false,
   "toc_position": {},
   "toc_section_display": true,
   "toc_window_display": false
  },
  "varInspector": {
   "cols": {
    "lenName": 16,
    "lenType": 16,
    "lenVar": 40
   },
   "kernels_config": {
    "python": {
     "delete_cmd_postfix": "",
     "delete_cmd_prefix": "del ",
     "library": "var_list.py",
     "varRefreshCmd": "print(var_dic_list())"
    },
    "r": {
     "delete_cmd_postfix": ") ",
     "delete_cmd_prefix": "rm(",
     "library": "var_list.r",
     "varRefreshCmd": "cat(var_dic_list()) "
    }
   },
   "types_to_exclude": [
    "module",
    "function",
    "builtin_function_or_method",
    "instance",
    "_Feature"
   ],
   "window_display": false
  }
 },
 "nbformat": 4,
 "nbformat_minor": 2
}
