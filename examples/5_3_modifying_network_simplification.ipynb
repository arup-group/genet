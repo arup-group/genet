{
 "cells": [
  {
   "cell_type": "markdown",
   "metadata": {},
   "source": [
    "# 5.3. Modifying the `Network` object: Simplifying\n",
    "\n",
    "This page goes through network simplification in GeNet. Available as a jupyter notebook or wiki page.\n",
    "\n",
    "Using OSM data to generate a network results in a very node-dense network. GeNet has methods to simplify such networks."
   ]
  },
  {
   "cell_type": "code",
   "execution_count": 1,
   "metadata": {
    "ExecuteTime": {
     "end_time": "2022-07-14T15:04:39.978191Z",
     "start_time": "2022-07-14T15:04:29.168895Z"
    }
   },
   "outputs": [
    {
     "name": "stderr",
     "output_type": "stream",
     "text": [
      "2022-07-14 16:04:32,948 - Building OSM graph from file example_data/example.osm\n",
      "2022-07-14 16:04:33,358 - Creating networkx graph from OSM data\n",
      "2022-07-14 16:04:33,360 - OSM: Extract Nodes and Paths from OSM data\n",
      "2022-07-14 16:04:33,653 - OSM: Add each OSM way (aka, path) to the OSM graph\n",
      "2022-07-14 16:04:33,654 - Created OSM edges\n",
      "2022-07-14 16:04:34,608 - Added 8695 nodes\n",
      "2022-07-14 16:04:39,558 - Generated 802 link ids.\n",
      "2022-07-14 16:04:39,748 - Added 802 links\n",
      "2022-07-14 16:04:39,749 - Deleting isolated nodes which have no edges.\n",
      "2022-07-14 16:04:39,972 - Removed 8132 nodes.\n"
     ]
    },
    {
     "name": "stdout",
     "output_type": "stream",
     "text": [
      "Graph info: Name: Network graph\n",
      "Type: MultiDiGraph\n",
      "Number of nodes: 563\n",
      "Number of edges: 802\n",
      "Average in degree:   1.4245\n",
      "Average out degree:   1.4245 \n",
      "Schedule info: Schedule:\n",
      "Number of services: 0\n",
      "Number of routes: 0\n",
      "Number of stops: 0\n"
     ]
    }
   ],
   "source": [
    "from genet import read_osm\n",
    "\n",
    "n = read_osm(\"example_data/example.osm\", \"../genet/configs/OSM/slim_config.yml\", epsg=\"epsg:27700\")\n",
    "n.print()"
   ]
  },
  {
   "cell_type": "markdown",
   "metadata": {},
   "source": [
    "You can simplify a `genet.Network` using the `simplify` method."
   ]
  },
  {
   "cell_type": "code",
   "execution_count": 2,
   "metadata": {
    "ExecuteTime": {
     "end_time": "2022-07-14T15:04:40.092723Z",
     "start_time": "2022-07-14T15:04:39.980999Z"
    }
   },
   "outputs": [
    {
     "name": "stderr",
     "output_type": "stream",
     "text": [
      "2022-07-14 16:04:39,982 - Begin simplifying the graph\n",
      "2022-07-14 16:04:39,985 - Generating paths to be simplified\n",
      "2022-07-14 16:04:39,990 - Identified 114 edge endpoints\n",
      "2022-07-14 16:04:39,991 - Identified 163 possible paths\n",
      "2022-07-14 16:04:39,993 - Processing 163 paths\n",
      "2022-07-14 16:04:39,995 - Found 110 paths to simplify.\n",
      "2022-07-14 16:04:39,996 - Generated 110 link ids.\n",
      "2022-07-14 16:04:40,007 - Processing links for all paths to be simplified\n",
      "2022-07-14 16:04:40,032 - Adding new simplified links\n",
      "2022-07-14 16:04:40,057 - Generated 0 link ids.\n",
      "2022-07-14 16:04:40,078 - Added 110 links\n",
      "2022-07-14 16:04:40,084 - Simplified graph: 563 to 114 nodes, 802 to 163 edges\n"
     ]
    },
    {
     "name": "stdout",
     "output_type": "stream",
     "text": [
      "Graph info: Name: Network graph\n",
      "Type: MultiDiGraph\n",
      "Number of nodes: 114\n",
      "Number of edges: 163\n",
      "Average in degree:   1.4298\n",
      "Average out degree:   1.4298 \n",
      "Schedule info: Schedule:\n",
      "Number of services: 0\n",
      "Number of routes: 0\n",
      "Number of stops: 0\n"
     ]
    }
   ],
   "source": [
    "n.simplify(no_processes=1)\n",
    "\n",
    "n.print()"
   ]
  },
  {
   "cell_type": "markdown",
   "metadata": {},
   "source": [
    "Specifying number of processes is optional but defaults to 1. It is recommended you select a number appropriate for  the machine you're using to spread the computational load. Having said that, we have seen large memory spikes when using more than one process. It may take a few attempts to get this number right.\n",
    "\n",
    "This is a complicated process and can take a long time. To that end, it may be more convenient to use a script, see an example `scripts/simplify_network.py`.\n",
    "\n",
    "The process is an altered version of graph simplification available in the `osmnx` package. Network links will be\n",
    "simplified between end-point nodes which meet the following conditions:\n",
    "- the number of nodes in the union of successor and predecessor nodes of that node is greater than two\n",
    "    - i.e. if the node is connected to more than one node in any direction it cannot be simplified\n",
    "- the node has no successor or predecessor nodes\n",
    "    - i.e. the node is a sink or source\n",
    "- there is a loop at the node \n",
    "    - the only successor node is the node itself\n",
    "- the number of successor and predecessor nodes is not equal\n",
    "    - this should be thought of cases where number of successor and predecessor nodes is 0, 1 or 2 (earlier condition\n",
    "    prohibits other cases). This condition means we end link simplification at nodes where direction of flow changes\n",
    "    so in a situation where `... NODE_1 ---> NODE_2 <--> NODE_3 ...`, `NODE_2` will be be an endpoint and remain in the\n",
    "    graph\n",
    "- if the number of nodes in the union of successor and predecessor nodes is 1 and that node is both the successor and \n",
    "predecessor node\n",
    "    - i.e. `... NODE_1 <--> NODE_2 <--> NODE_3`, `NODE_3` will be an endpoint to avoid cul-de-sacs being big loops at \n",
    "    single point in the graph\n",
    "\n",
    "Below is an example of a simplified network.\n",
    "\n",
    "![GeNet Simplified Network split view](https://github.com/arup-group/genet/blob/master/images/simplified_split_view.png)\n",
    "\n",
    "![GeNet Simplified Network overlay view](https://github.com/arup-group/genet/blob/master/images/simplified_overlay.png)\n",
    "\n",
    "Upon simplification, the nodes which are being simplified are used for the creation of geometry for the link. This\n",
    "geometry is used in any geojson outputs, preserving the original look of the network. The data stored under links \n",
    "which are being simplified is fused handles in the following way:\n",
    "- `freespeed`: The maximum value across links is taken\n",
    "- `capacity`: Rounded up to integer of median across links\n",
    "- `permlanes`: Rounded up to integer of median across links\n",
    "- `length`: Sum across links\n",
    "- `modes`: Union across links, i.e. `{'bus'} | {'car'} = {'bus', 'car}'`\n",
    "- In the case of overlapping OSM attributes such as osm ids or highway types they are stored as sets under the same \n",
    "attributes in the graph.\n",
    "```python\n",
    ">>> n.link('12')['attributes']['osm:way:osmid'] = {'123','124'}\n",
    "```\n",
    "GeNet by default supports such mixture of data types when filtering the network on conditions e.g. to get\n",
    "links with OSM ids 123, you need only use the familiar syntax:\n",
    "```python\n",
    "osm_id_123_links = genet.graph_operations.extract_links_on_edge_attributes(\n",
    "        n,\n",
    "        conditions= {'attributes': {'osm:way:highway': '123'}}\n",
    "    )\n",
    "```\n",
    "If you need this method to work only for non iterable values, you need to specify `mixed_dtypes=False`:\n",
    "```python\n",
    "osm_id_123_links = genet.graph_operations.extract_links_on_edge_attributes(\n",
    "        n,\n",
    "        conditions= {'attributes': {'osm:way:highway': '123'}},\n",
    "        mixed_dtypes=False\n",
    "    )\n",
    "```\n",
    "This will result in link with id `12` not being included in the resulting `osm_id_123_links`.\n",
    "\n",
    "In the output MATSim network these are saved as comma separated values under link attributes. Upon reading \n",
    "such a network into GeNet, the attributes become sets again. The geometry is also saved to a MATSim network\n",
    "under attributes and [encoded as polyline](https://pypi.org/project/polyline/). Unlike other attributes, upon \n",
    "reading it back with GeNet the geometry is decoded into `shapely.LineString` and becomes a main data key, i.e.\n",
    "\n",
    "    >>> n.link_attribute_summary()\n",
    "    \n",
    "    attribute\n",
    "    ├── id ['12']\n",
    "    ├── geometry [LineString((x,y), (v,w)]\n",
    "    ...\n",
    "    └── attributes\n",
    "        ...\n",
    "        └── osm:way:highway [{'residential','minor'}]\n",
    "\n",
    "instead of\n",
    "\n",
    "    >>> n.link_attribute_summary()\n",
    "    \n",
    "    attribute\n",
    "    ├── id ['12']\n",
    "    ...\n",
    "    └── attributes\n",
    "        ├── geometry ['}qtqa{aBwfc`_y`@jfq|Hdzm~A...']\n",
    "        ...\n",
    "        └── osm:way:highway [{'residential','minor'}]\n",
    "\n",
    "This is the same schema as for the network right after simplification, before it is saved. The output MATSim \n",
    "link is saved in the following way:\n",
    "\n",
    "```xml\n",
    "<link id=\"12\" from=\"NODE_1\" to=\"NODE_4\" freespeed=\"12.5\" capacity=\"600\" permlanes=\"1\" oneway=\"1\" modes=\"car,walk,bike\" length=\"232.733\">\n",
    "    <attributes>\n",
    "        <attribute name=\"osm:way:osmid\" class=\"java.lang.String\">123,124</attribute>\n",
    "        <attribute name=\"osm:way:highway\" class=\"java.lang.String\">residential,minor</attribute>\n",
    "        <attribute name=\"osm:way:lanes\" class=\"java.lang.String\">1</attribute>\n",
    "        <attribute name=\"geometry\" class=\"java.lang.String\">}qtqa{aBwfc`_y`@jfq|Hdzm~Adn~tMlnkoDlpa|OttblF</attribute>\n",
    "    </attributes>\n",
    "</link>\n",
    "```\n",
    "\n",
    "## ! Attention - Always make sure to validate connectivity of the simplified network\n",
    "\n",
    "In case of `Network`s featuring a `Schedule`. After the process of simplifying the `Network` graph is complete\n",
    "all of the link references for PT stops get checked and updated by simplified links. All of the network routes\n",
    "also get updated by simplified links. Because our condition for simplification is in-degree = out-degree = 1,\n",
    "the updated do not have the potential to disrupt the PT network route. It could mean that two or more stops \n",
    "could now refer to the same long link. It is encouraged that you run validation on your network post \n",
    "simplification (included in `scripts/simplify_network.py`) and verify your network visually.\n"
   ]
  }
 ],
 "metadata": {
  "kernelspec": {
   "display_name": "genet",
   "language": "python",
   "name": "genet"
  },
  "language_info": {
   "codemirror_mode": {
    "name": "ipython",
    "version": 3
   },
   "file_extension": ".py",
   "mimetype": "text/x-python",
   "name": "python",
   "nbconvert_exporter": "python",
   "pygments_lexer": "ipython3",
   "version": "3.7.7"
  },
  "latex_envs": {
   "LaTeX_envs_menu_present": true,
   "autoclose": true,
   "autocomplete": true,
   "bibliofile": "biblio.bib",
   "cite_by": "apalike",
   "current_citInitial": 1,
   "eqLabelWithNumbers": true,
   "eqNumInitial": 1,
   "hotkeys": {
    "equation": "Ctrl-E",
    "itemize": "Ctrl-I"
   },
   "labels_anchors": false,
   "latex_user_defs": false,
   "report_style_numbering": false,
   "user_envs_cfg": false
  },
  "toc": {
   "base_numbering": 1,
   "nav_menu": {},
   "number_sections": true,
   "sideBar": true,
   "skip_h1_title": false,
   "title_cell": "Table of Contents",
   "title_sidebar": "Contents",
   "toc_cell": false,
   "toc_position": {},
   "toc_section_display": true,
   "toc_window_display": false
  },
  "varInspector": {
   "cols": {
    "lenName": 16,
    "lenType": 16,
    "lenVar": 40
   },
   "kernels_config": {
    "python": {
     "delete_cmd_postfix": "",
     "delete_cmd_prefix": "del ",
     "library": "var_list.py",
     "varRefreshCmd": "print(var_dic_list())"
    },
    "r": {
     "delete_cmd_postfix": ") ",
     "delete_cmd_prefix": "rm(",
     "library": "var_list.r",
     "varRefreshCmd": "cat(var_dic_list()) "
    }
   },
   "types_to_exclude": [
    "module",
    "function",
    "builtin_function_or_method",
    "instance",
    "_Feature"
   ],
   "window_display": false
  }
 },
 "nbformat": 4,
 "nbformat_minor": 2
}
