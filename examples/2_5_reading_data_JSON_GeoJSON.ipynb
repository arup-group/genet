{
 "cells": [
  {
   "cell_type": "markdown",
   "metadata": {},
   "source": [
    "# 2.5. Reading data: JSON & GeoJSON\n",
    "Available as a jupyter notebook or wiki page.\n",
    "\n",
    "GeNet lets you read JSON data into a Networn graph and PT Schedule, or GeoJSON into Network Graph. \n",
    "\n",
    "For JSON inputs the network JSON file should follow this format:\n",
    "```json\n",
    "{\n",
    "  \"nodes\": {\n",
    "    \"unique_node_ID\": {\n",
    "      \"id\": \"unique_node_ID\",\n",
    "      \"y\": y_spatial_coordinate,\n",
    "      \"x\": x_spatial_coordinate\n",
    "    }\n",
    "  },\n",
    "  \"links\": {\n",
    "    \"unique_link_ID\": {\n",
    "      \"id\": \"unique_link_ID\",\n",
    "      \"from\": \"unique_source_node_ID\",\n",
    "      \"to\": \"unique_target_node_ID\",\n",
    "      \"freespeed\": 4.166666666666667,\n",
    "      \"permlanes\": 1,\n",
    "      \"modes\": \"car,bus,walk\",\n",
    "      \"geometry\": \"kevj`maB_`la`}`@{ooxA`k~rH\", (encoded polyline, otherwise assumed to be straight line between source and target node)\n",
    "      \"length\": 52.765151087870265,\n",
    "      \"capacity\": 600.0\n",
    "      \"attributes\": {  # (optional MATSim link attributes)\n",
    "        \"osm:way:access\": {\n",
    "          \"name\": \"osm:way:access\",\n",
    "          \"class\": \"java.lang.String\",\n",
    "          \"text\": \"permissive\"\n",
    "        },\n",
    "        \"osm:way:id\": { # simple form that assumes the java type\n",
    "          \"OSM_ID\"\n",
    "        },\n",
    "      },\n",
    "    }\n",
    "  }\n",
    "}\n",
    "```"
   ]
  },
  {
   "cell_type": "code",
   "execution_count": 1,
   "metadata": {
    "ExecuteTime": {
     "end_time": "2022-07-14T14:31:04.964950Z",
     "start_time": "2022-07-14T14:30:59.029671Z"
    }
   },
   "outputs": [],
   "source": [
    "from genet import read_json, read_json_network, read_json_schedule"
   ]
  },
  {
   "cell_type": "code",
   "execution_count": 2,
   "metadata": {
    "ExecuteTime": {
     "end_time": "2022-07-14T14:31:05.071216Z",
     "start_time": "2022-07-14T14:31:04.967384Z"
    }
   },
   "outputs": [
    {
     "name": "stderr",
     "output_type": "stream",
     "text": [
      "2022-07-14 15:31:04,968 - Reading Network from example_data/example_json/network.json\n",
      "2022-07-14 15:31:05,058 - Added 4 nodes\n",
      "2022-07-14 15:31:05,067 - Added 2 links\n"
     ]
    }
   ],
   "source": [
    "n = read_json_network(\"example_data/example_json/network.json\", \"epsg:27700\")"
   ]
  },
  {
   "cell_type": "markdown",
   "metadata": {},
   "source": [
    "The JSON Schedule should follow this format:\n",
    "\n",
    "```json\n",
    "{\n",
    "  \"schedule\": {\n",
    "    \"stops\": {\n",
    "      \"unique_stop_ID\": {\n",
    "        \"id\": \"unique_stop_ID\",\n",
    "        \"name\": \"Stop Name\", (optional but useful)\n",
    "        \"x\": y_spatial_coordinate,\n",
    "        \"y\": x_spatial_coordinate,\n",
    "        \"linkRefId\": \"netowrk_link_ID\", (reference to a link in the network graph)\n",
    "      }\n",
    "    },\n",
    "    \"services\": {\n",
    "      \"unique_service_ID\": {\n",
    "        \"id\": \"unique_service_ID\",\n",
    "        \"name\": \"N55\", (optional but useful)\n",
    "        \"routes\": {\n",
    "          \"unique_route_ID\": {\n",
    "            \"id\": \"unique_route_ID\",\n",
    "            \"route_short_name\": \"N55\", (optional but useful)\n",
    "            \"mode\": \"bus\", (PT mode)\n",
    "            \"trips\": {\n",
    "              \"trip_id\": [\n",
    "                \"unique_trip_ID\"\n",
    "              ],\n",
    "              \"trip_departure_time\": [\n",
    "                \"HH:MM:SS\" (departure time for the trip)\n",
    "              ],\n",
    "              \"vehicle_id\": [\n",
    "                \"unique_vehicle_ID\"\n",
    "              ]\n",
    "            },\n",
    "            \"arrival_offsets\": [ (arrival offsets from trip departure time for each stop in route)\n",
    "              \"00:00:00\",\n",
    "              \"00:02:20\"\n",
    "            ],\n",
    "            \"departure_offsets\": [ (departure offsets from trip departure time for each stop in route)\n",
    "              \"00:00:00\",\n",
    "              \"00:02:20\"\n",
    "            ],\n",
    "            \"route_long_name\": \"\", (optional but useful)\n",
    "            \"route\": [ (network route for the route)\n",
    "              \"1\",\n",
    "              \"10\"\n",
    "            ],\n",
    "            \"ordered_stops\": [\n",
    "              \"unique_stop_ID_1\",\n",
    "              \"unique_stop_ID_2\"\n",
    "            ]\n",
    "          }\n",
    "        }\n",
    "      }\n",
    "    },\n",
    "    \"minimal_transfer_times\": {\n",
    "      \"unique_stop_ID_1\": {\n",
    "        \"stop\": \"unique_stop_ID_2\",\n",
    "        \"transferTime\": 100.0\n",
    "      },\n",
    "      \"unique_stop_ID_2\": {\n",
    "        \"stop\": \"unique_stop_ID_1\",\n",
    "        \"transferTime\": 100.0\n",
    "      }\n",
    "    }\n",
    "  },\n",
    "  \"vehicles\": {\n",
    "    \"vehicle_types\": {\n",
    "      \"bus\": {\n",
    "        \"capacity\": {\n",
    "          \"seats\": {\n",
    "            \"persons\": \"70\"\n",
    "          },\n",
    "          \"standingRoom\": {\n",
    "            \"persons\": \"0\"\n",
    "          }\n",
    "        },\n",
    "        \"length\": {\n",
    "          \"meter\": \"18.0\"\n",
    "        },\n",
    "        \"width\": {\n",
    "          \"meter\": \"2.5\"\n",
    "        },\n",
    "        \"accessTime\": {\n",
    "          \"secondsPerPerson\": \"0.5\"\n",
    "        },\n",
    "        \"egressTime\": {\n",
    "          \"secondsPerPerson\": \"0.5\"\n",
    "        },\n",
    "        \"doorOperation\": {\n",
    "          \"mode\": \"serial\"\n",
    "        },\n",
    "        \"passengerCarEquivalents\": {\n",
    "          \"pce\": \"2.8\"\n",
    "        }\n",
    "      }\n",
    "    },\n",
    "    \"vehicles\": {\n",
    "      \"veh_0_bus\": {\n",
    "        \"type\": \"bus\"\n",
    "      }\n",
    "    }\n",
    "  }\n",
    "}\n",
    "```\n",
    "\n",
    "the references to the network: `linkRefId` and `route` can be left out. That network will not work with MATSim. GeNet can snap and route PT services and fill in those blanks, though not at scale."
   ]
  },
  {
   "cell_type": "code",
   "execution_count": 3,
   "metadata": {
    "ExecuteTime": {
     "end_time": "2022-07-14T14:31:05.113296Z",
     "start_time": "2022-07-14T14:31:05.074431Z"
    }
   },
   "outputs": [
    {
     "name": "stderr",
     "output_type": "stream",
     "text": [
      "2022-07-14 15:31:05,075 - Reading Schedule from example_data/example_json/schedule.json\n"
     ]
    }
   ],
   "source": [
    "s = read_json_schedule(\"example_data/example_json/schedule.json\", \"epsg:27700\")"
   ]
  },
  {
   "cell_type": "markdown",
   "metadata": {},
   "source": [
    "If you have both json inputs for a network you can also read both the network json and schedule json at the same time."
   ]
  },
  {
   "cell_type": "code",
   "execution_count": 4,
   "metadata": {
    "ExecuteTime": {
     "end_time": "2022-07-14T14:31:05.415561Z",
     "start_time": "2022-07-14T14:31:05.117186Z"
    }
   },
   "outputs": [
    {
     "name": "stderr",
     "output_type": "stream",
     "text": [
      "2022-07-14 15:31:05,119 - Reading Network from example_data/example_json/network.json\n",
      "2022-07-14 15:31:05,281 - Added 4 nodes\n",
      "2022-07-14 15:31:05,354 - Added 2 links\n",
      "2022-07-14 15:31:05,360 - Reading Schedule from example_data/example_json/schedule.json\n"
     ]
    }
   ],
   "source": [
    "n = read_json(\n",
    "    network_path=\"example_data/example_json/network.json\",\n",
    "    schedule_path=\"example_data/example_json/schedule.json\",\n",
    "    epsg=\"epsg:27700\",\n",
    ")"
   ]
  },
  {
   "cell_type": "markdown",
   "metadata": {},
   "source": [
    "Given GeoJson, you can create a Network graph. Two files are expected, one for nodes and one for links.\n",
    "\n",
    "The nodes should follow this format:\n",
    "```geojson\n",
    "{\n",
    "\"type\": \"FeatureCollection\",\n",
    "\"crs\": { \"type\": \"name\", \"properties\": { \"name\": \"urn:ogc:def:crs:EPSG::27700\" } },\n",
    "\"features\": [\n",
    "{ \"type\": \"Feature\", \"properties\": {\"id\": \"25508485\", \"x\": 528489.467895946, \"y\": 182206.20303669578, \"lon\": -0.14930198709481451, \"lat\": 51.524162533239284, \"s2_id\": 5221390301001263407 }, \"geometry\": { \"type\": \"Point\", \"coordinates\": [ 528489.467895945999771, 182206.203036695776973 ] } }\n",
    "]\n",
    "}\n",
    "```\n",
    "And the links should follow this format:\n",
    "```geojson\n",
    "{\n",
    "\"type\": \"FeatureCollection\",\n",
    "\"crs\": { \"type\": \"name\", \"properties\": { \"name\": \"urn:ogc:def:crs:EPSG::27700\" } },\n",
    "\"features\": [\n",
    "{ \"type\": \"Feature\", \"properties\": {\"id\": \"1\", \"from\": \"25508485\", \"to\": \"21667818\", \"freespeed\": 4.166666666666667, \"capacity\": 600.0, \"permlanes\": 1.0, \"oneway\": \"1\", \"modes\": \"car\", \"s2_from\": 5221390301001263407, \"s2_to\": 5221390302696205321, \"attributes\": { \"osm:way:access\": { \"name\": \"osm:way:access\", \"class\": \"java.lang.String\", \"text\": \"permissive\" }, \"osm:way:highway\": { \"name\": \"osm:way:highway\", \"class\": \"java.lang.String\", \"text\": \"unclassified\" }, \"osm:way:id\": \"26997928\" }, \n",
    "\"osm:way:name\": { \"name\": \"osm:way:name\", \"class\": \"java.lang.String\", \"text\": \"Brunswick Place\" } }, \"length\": 52.765151087870265 }, \"geometry\": { \"type\": \"LineString\", \"coordinates\": [ [ 528489.467895945999771, 182206.203036695776973 ], [ 528504.134284314350225, 182155.743513659806922 ] ] } }\n",
    "]\n",
    "}\n",
    "```\n",
    "\n",
    "Note that additional, nested attributes can take a long form:\n",
    "```\n",
    "\"osm:way:name\": { \"name\": \"osm:way:name\", \"class\": \"java.lang.String\", \"text\": \"Brunswick Place\" }\n",
    "```\n",
    "or a simple form that assumed data types:\n",
    "```\n",
    "\"osm:way:name\": \"Brunswick Place\" \n",
    "```"
   ]
  },
  {
   "cell_type": "code",
   "execution_count": 5,
   "metadata": {
    "ExecuteTime": {
     "end_time": "2022-07-14T14:31:05.628169Z",
     "start_time": "2022-07-14T14:31:05.418071Z"
    }
   },
   "outputs": [
    {
     "name": "stderr",
     "output_type": "stream",
     "text": [
      "2022-07-14 15:31:05,419 - Reading Network nodes from example_data/example_geojson/network_nodes.geojson\n",
      "2022-07-14 15:31:05,520 - Reading Network links from example_data/example_geojson/network_links.geojson\n",
      "2022-07-14 15:31:05,613 - Added 4 nodes\n",
      "2022-07-14 15:31:05,622 - Added 2 links\n"
     ]
    }
   ],
   "source": [
    "from genet import read_geojson_network\n",
    "\n",
    "n = read_geojson_network(\n",
    "    \"example_data/example_geojson/network_nodes.geojson\",\n",
    "    \"example_data/example_geojson/network_links.geojson\",\n",
    "    \"epsg:27700\",\n",
    ")"
   ]
  },
  {
   "cell_type": "markdown",
   "metadata": {},
   "source": [
    "The GeoJSONs carry a projection for their geometry. The epsg passed in the method above is for the Network, the links will inherit the geometry stored in the geojson but project it (if not already in the correct projection) to match the Network's projection"
   ]
  }
 ],
 "metadata": {
  "kernelspec": {
   "display_name": "genet",
   "language": "python",
   "name": "genet"
  },
  "language_info": {
   "codemirror_mode": {
    "name": "ipython",
    "version": 3
   },
   "file_extension": ".py",
   "mimetype": "text/x-python",
   "name": "python",
   "nbconvert_exporter": "python",
   "pygments_lexer": "ipython3",
   "version": "3.7.7"
  },
  "latex_envs": {
   "LaTeX_envs_menu_present": true,
   "autoclose": true,
   "autocomplete": true,
   "bibliofile": "biblio.bib",
   "cite_by": "apalike",
   "current_citInitial": 1,
   "eqLabelWithNumbers": true,
   "eqNumInitial": 1,
   "hotkeys": {
    "equation": "Ctrl-E",
    "itemize": "Ctrl-I"
   },
   "labels_anchors": false,
   "latex_user_defs": false,
   "report_style_numbering": false,
   "user_envs_cfg": false
  },
  "toc": {
   "base_numbering": 1,
   "nav_menu": {},
   "number_sections": true,
   "sideBar": true,
   "skip_h1_title": false,
   "title_cell": "Table of Contents",
   "title_sidebar": "Contents",
   "toc_cell": false,
   "toc_position": {},
   "toc_section_display": true,
   "toc_window_display": false
  },
  "varInspector": {
   "cols": {
    "lenName": 16,
    "lenType": 16,
    "lenVar": 40
   },
   "kernels_config": {
    "python": {
     "delete_cmd_postfix": "",
     "delete_cmd_prefix": "del ",
     "library": "var_list.py",
     "varRefreshCmd": "print(var_dic_list())"
    },
    "r": {
     "delete_cmd_postfix": ") ",
     "delete_cmd_prefix": "rm(",
     "library": "var_list.r",
     "varRefreshCmd": "cat(var_dic_list()) "
    }
   },
   "types_to_exclude": [
    "module",
    "function",
    "builtin_function_or_method",
    "instance",
    "_Feature"
   ],
   "window_display": false
  }
 },
 "nbformat": 4,
 "nbformat_minor": 2
}
